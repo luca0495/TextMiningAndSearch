{
  "nbformat": 4,
  "nbformat_minor": 0,
  "metadata": {
    "colab": {
      "name": "text_mining_10_2Update.ipynb",
      "provenance": [],
      "collapsed_sections": [],
      "machine_shape": "hm"
    },
    "kernelspec": {
      "name": "python3",
      "display_name": "Python 3"
    },
    "accelerator": "GPU"
  },
  "cells": [
    {
      "cell_type": "markdown",
      "metadata": {
        "id": "XSTfRHgTf5ep",
        "colab_type": "text"
      },
      "source": [
        "#20 NEWS GROUP CLASSIFICATION  \n",
        "\n",
        "Corrado Montoro \n",
        "\n",
        "Luca Lazzati"
      ]
    },
    {
      "cell_type": "code",
      "metadata": {
        "id": "vY4nqDDh3NK-",
        "colab_type": "code",
        "outputId": "936ae10d-908d-41ae-db3f-4e3f54ad4024",
        "colab": {
          "base_uri": "https://localhost:8080/",
          "height": 654
        }
      },
      "source": [
        "pip install pyLDAvis"
      ],
      "execution_count": 3,
      "outputs": [
        {
          "output_type": "stream",
          "text": [
            "Collecting pyLDAvis\n",
            "\u001b[?25l  Downloading https://files.pythonhosted.org/packages/a5/3a/af82e070a8a96e13217c8f362f9a73e82d61ac8fff3a2561946a97f96266/pyLDAvis-2.1.2.tar.gz (1.6MB)\n",
            "\u001b[K     |████████████████████████████████| 1.6MB 2.9MB/s \n",
            "\u001b[?25hRequirement already satisfied: wheel>=0.23.0 in /usr/local/lib/python3.6/dist-packages (from pyLDAvis) (0.34.2)\n",
            "Requirement already satisfied: numpy>=1.9.2 in /usr/local/lib/python3.6/dist-packages (from pyLDAvis) (1.17.5)\n",
            "Requirement already satisfied: scipy>=0.18.0 in /usr/local/lib/python3.6/dist-packages (from pyLDAvis) (1.4.1)\n",
            "Requirement already satisfied: pandas>=0.17.0 in /usr/local/lib/python3.6/dist-packages (from pyLDAvis) (0.25.3)\n",
            "Requirement already satisfied: joblib>=0.8.4 in /usr/local/lib/python3.6/dist-packages (from pyLDAvis) (0.14.1)\n",
            "Requirement already satisfied: jinja2>=2.7.2 in /usr/local/lib/python3.6/dist-packages (from pyLDAvis) (2.11.1)\n",
            "Requirement already satisfied: numexpr in /usr/local/lib/python3.6/dist-packages (from pyLDAvis) (2.7.1)\n",
            "Requirement already satisfied: pytest in /usr/local/lib/python3.6/dist-packages (from pyLDAvis) (3.6.4)\n",
            "Requirement already satisfied: future in /usr/local/lib/python3.6/dist-packages (from pyLDAvis) (0.16.0)\n",
            "Collecting funcy\n",
            "\u001b[?25l  Downloading https://files.pythonhosted.org/packages/ce/4b/6ffa76544e46614123de31574ad95758c421aae391a1764921b8a81e1eae/funcy-1.14.tar.gz (548kB)\n",
            "\u001b[K     |████████████████████████████████| 552kB 45.0MB/s \n",
            "\u001b[?25hRequirement already satisfied: pytz>=2017.2 in /usr/local/lib/python3.6/dist-packages (from pandas>=0.17.0->pyLDAvis) (2018.9)\n",
            "Requirement already satisfied: python-dateutil>=2.6.1 in /usr/local/lib/python3.6/dist-packages (from pandas>=0.17.0->pyLDAvis) (2.6.1)\n",
            "Requirement already satisfied: MarkupSafe>=0.23 in /usr/local/lib/python3.6/dist-packages (from jinja2>=2.7.2->pyLDAvis) (1.1.1)\n",
            "Requirement already satisfied: six>=1.10.0 in /usr/local/lib/python3.6/dist-packages (from pytest->pyLDAvis) (1.12.0)\n",
            "Requirement already satisfied: py>=1.5.0 in /usr/local/lib/python3.6/dist-packages (from pytest->pyLDAvis) (1.8.1)\n",
            "Requirement already satisfied: atomicwrites>=1.0 in /usr/local/lib/python3.6/dist-packages (from pytest->pyLDAvis) (1.3.0)\n",
            "Requirement already satisfied: attrs>=17.4.0 in /usr/local/lib/python3.6/dist-packages (from pytest->pyLDAvis) (19.3.0)\n",
            "Requirement already satisfied: setuptools in /usr/local/lib/python3.6/dist-packages (from pytest->pyLDAvis) (45.1.0)\n",
            "Requirement already satisfied: pluggy<0.8,>=0.5 in /usr/local/lib/python3.6/dist-packages (from pytest->pyLDAvis) (0.7.1)\n",
            "Requirement already satisfied: more-itertools>=4.0.0 in /usr/local/lib/python3.6/dist-packages (from pytest->pyLDAvis) (8.2.0)\n",
            "Building wheels for collected packages: pyLDAvis, funcy\n",
            "  Building wheel for pyLDAvis (setup.py) ... \u001b[?25l\u001b[?25hdone\n",
            "  Created wheel for pyLDAvis: filename=pyLDAvis-2.1.2-py2.py3-none-any.whl size=97711 sha256=4ca2efb2108630b0a26bd012158454b496f013b633513e3af3b07acb356173f6\n",
            "  Stored in directory: /root/.cache/pip/wheels/98/71/24/513a99e58bb6b8465bae4d2d5e9dba8f0bef8179e3051ac414\n",
            "  Building wheel for funcy (setup.py) ... \u001b[?25l\u001b[?25hdone\n",
            "  Created wheel for funcy: filename=funcy-1.14-py2.py3-none-any.whl size=32042 sha256=930b845f8c4bd8161b1297c0ac8c5d3d2d84f08abdd10a32420e5d0537b29843\n",
            "  Stored in directory: /root/.cache/pip/wheels/20/5a/d8/1d875df03deae6f178dfdf70238cca33f948ef8a6f5209f2eb\n",
            "Successfully built pyLDAvis funcy\n",
            "Installing collected packages: funcy, pyLDAvis\n",
            "Successfully installed funcy-1.14 pyLDAvis-2.1.2\n"
          ],
          "name": "stdout"
        }
      ]
    },
    {
      "cell_type": "code",
      "metadata": {
        "id": "QkczHwhNf8Gb",
        "colab_type": "code",
        "outputId": "50e7708e-f515-415e-8209-c280b6b7784d",
        "colab": {
          "base_uri": "https://localhost:8080/",
          "height": 126
        }
      },
      "source": [
        "import os\n",
        "import pandas as pd\n",
        "import numpy as np\n",
        "import re\n",
        "from collections import Counter\n",
        "import matplotlib.pyplot as plt\n",
        "import nltk\n",
        "from nltk.corpus import stopwords\n",
        "from nltk.stem import WordNetLemmatizer\n",
        "from nltk.stem import PorterStemmer\n",
        "nltk.download('stopwords')\n",
        "nltk.download('wordnet')\n",
        "nltk.download('punkt')\n",
        "from sklearn.model_selection import train_test_split\n",
        "from sklearn.feature_extraction.text import TfidfVectorizer\n",
        "from sklearn.feature_extraction.text import CountVectorizer\n",
        "from sklearn.feature_selection import SelectKBest, chi2\n",
        "from sklearn.model_selection import GridSearchCV\n",
        "from sklearn.ensemble import RandomForestClassifier\n",
        "from sklearn.naive_bayes import MultinomialNB\n",
        "from sklearn.linear_model import LogisticRegression\n",
        "from sklearn.preprocessing import StandardScaler, LabelBinarizer\n",
        "from sklearn.metrics import confusion_matrix\n",
        "from sklearn.metrics import accuracy_score\n",
        "from sklearn.metrics import classification_report\n",
        "from tensorflow.keras.models import Sequential\n",
        "from tensorflow.keras.layers import Dense\n",
        "from sklearn.naive_bayes import MultinomialNB\n",
        "from sklearn.pipeline import Pipeline\n",
        "from sklearn.feature_extraction.text import TfidfTransformer\n",
        "from sklearn.linear_model import SGDClassifier\n",
        "from sklearn import model_selection, preprocessing\n",
        "from pprint import pprint\n",
        "import gensim\n",
        "import gensim.corpora as corpora\n",
        "from gensim.utils import simple_preprocess\n",
        "from gensim.models import CoherenceModel\n",
        "import spacy\n",
        "import pyLDAvis.gensim \n",
        "import matplotlib.pyplot as plt\n",
        "%matplotlib inline\n",
        "import logging\n",
        "logging.basicConfig(format='%(asctime)s : %(levelname)s : %(message)s', level=logging.ERROR)\n",
        "import warnings\n",
        "warnings.filterwarnings(\"ignore\",category=DeprecationWarning)\n",
        "import re, nltk, spacy, gensim\n",
        "# Sklearn\n",
        "from sklearn.decomposition import LatentDirichletAllocation, TruncatedSVD\n",
        "from sklearn.feature_extraction.text import CountVectorizer, TfidfVectorizer\n",
        "from sklearn.model_selection import GridSearchCV\n",
        "from pprint import pprint\n",
        "import pyLDAvis\n",
        "import pyLDAvis.sklearn\n"
      ],
      "execution_count": 5,
      "outputs": [
        {
          "output_type": "stream",
          "text": [
            "[nltk_data] Downloading package stopwords to /root/nltk_data...\n",
            "[nltk_data]   Package stopwords is already up-to-date!\n",
            "[nltk_data] Downloading package wordnet to /root/nltk_data...\n",
            "[nltk_data]   Package wordnet is already up-to-date!\n",
            "[nltk_data] Downloading package punkt to /root/nltk_data...\n",
            "[nltk_data]   Package punkt is already up-to-date!\n"
          ],
          "name": "stdout"
        }
      ]
    },
    {
      "cell_type": "code",
      "metadata": {
        "id": "GGRypLAbJyPR",
        "colab_type": "code",
        "outputId": "c0c1c7a1-01f8-4dd4-8179-f3dd4181191a",
        "colab": {
          "base_uri": "https://localhost:8080/",
          "height": 128
        }
      },
      "source": [
        "from google.colab import drive\n",
        "drive.mount('/content/drive')"
      ],
      "execution_count": 6,
      "outputs": [
        {
          "output_type": "stream",
          "text": [
            "Go to this URL in a browser: https://accounts.google.com/o/oauth2/auth?client_id=947318989803-6bn6qk8qdgf4n4g3pfee6491hc0brc4i.apps.googleusercontent.com&redirect_uri=urn%3aietf%3awg%3aoauth%3a2.0%3aoob&response_type=code&scope=email%20https%3a%2f%2fwww.googleapis.com%2fauth%2fdocs.test%20https%3a%2f%2fwww.googleapis.com%2fauth%2fdrive%20https%3a%2f%2fwww.googleapis.com%2fauth%2fdrive.photos.readonly%20https%3a%2f%2fwww.googleapis.com%2fauth%2fpeopleapi.readonly\n",
            "\n",
            "Enter your authorization code:\n",
            "··········\n",
            "Mounted at /content/drive\n"
          ],
          "name": "stdout"
        }
      ]
    },
    {
      "cell_type": "markdown",
      "metadata": {
        "id": "b29kjwxQf_pX",
        "colab_type": "text"
      },
      "source": [
        "# Parsing dei file"
      ]
    },
    {
      "cell_type": "code",
      "metadata": {
        "id": "LVIBpRahgBCi",
        "colab_type": "code",
        "colab": {}
      },
      "source": [
        "flist = [os.path.join(path, name) for path, subdirs, files in os.walk(\"/content/drive/My Drive/20_newsgroups\") for name in files] \n",
        "text = []\n",
        "diz = {}\n",
        "for si in range(len(flist)):\n",
        "    filein = flist[si]\n",
        "    ls_filein = filein.split('/')\n",
        "    target = ls_filein[5].split('\\\\')[0]\n",
        "    ind = ls_filein[6].split('\\\\')[-1]\n",
        "    with open(filein) as f: data = f.readlines()\n",
        "    text = None\n",
        "    for j in range(len(data)):\n",
        "        if (data[j] == '\\n'):\n",
        "            text = data[j+1:]\n",
        "            for k in range(len(text)):\n",
        "                if ('Version:' in text[k]):\n",
        "                    text = text[k+1:]\n",
        "                    break;\n",
        "                elif ('writes' in text[k]):\n",
        "                    text = text[k+1:]\n",
        "                    break;\n",
        "                elif ('wrotes' in text[k]):\n",
        "                    text = text[k+1:]\n",
        "                    break;\n",
        "                elif (text[k] == '\\n' and text[k-1] =='\\n'):\n",
        "                    text = text[k+1:]\n",
        "                    break;\n",
        "            break;\n",
        "    diz[int(si)] = {'text':text, 'target':target, 'idx':int(ind)}\n",
        "    \n",
        "df = pd.DataFrame.from_dict(diz, orient = 'index')"
      ],
      "execution_count": 0,
      "outputs": []
    },
    {
      "cell_type": "code",
      "metadata": {
        "id": "TL-XE18_upjM",
        "colab_type": "code",
        "colab": {}
      },
      "source": [
        "df.to_csv(\"DataTextMiningAll.csv\")"
      ],
      "execution_count": 0,
      "outputs": []
    },
    {
      "cell_type": "markdown",
      "metadata": {
        "id": "ez4SFFzYTDbw",
        "colab_type": "text"
      },
      "source": [
        "# RACCOLTA DEI FILE"
      ]
    },
    {
      "cell_type": "markdown",
      "metadata": {
        "id": "ZHi-tFjCTLZm",
        "colab_type": "text"
      },
      "source": [
        "doc: tutti i file con i vari testi\n",
        "\n",
        "classe: target dei file\n",
        "\n",
        "idx: indice dei vari file"
      ]
    },
    {
      "cell_type": "code",
      "metadata": {
        "id": "F450zJOXwwcc",
        "colab_type": "code",
        "colab": {}
      },
      "source": [
        "df = pd.read_csv('/content/drive/My Drive/DataTextMiningAll.csv')  "
      ],
      "execution_count": 0,
      "outputs": []
    },
    {
      "cell_type": "code",
      "metadata": {
        "id": "hpU-zwJxw8IH",
        "colab_type": "code",
        "outputId": "d8927f74-0e57-4c85-b4fb-404532b106c2",
        "colab": {
          "base_uri": "https://localhost:8080/",
          "height": 198
        }
      },
      "source": [
        "df.head()"
      ],
      "execution_count": 0,
      "outputs": [
        {
          "output_type": "execute_result",
          "data": {
            "text/html": [
              "<div>\n",
              "<style scoped>\n",
              "    .dataframe tbody tr th:only-of-type {\n",
              "        vertical-align: middle;\n",
              "    }\n",
              "\n",
              "    .dataframe tbody tr th {\n",
              "        vertical-align: top;\n",
              "    }\n",
              "\n",
              "    .dataframe thead th {\n",
              "        text-align: right;\n",
              "    }\n",
              "</style>\n",
              "<table border=\"1\" class=\"dataframe\">\n",
              "  <thead>\n",
              "    <tr style=\"text-align: right;\">\n",
              "      <th></th>\n",
              "      <th>Unnamed: 0</th>\n",
              "      <th>text</th>\n",
              "      <th>target</th>\n",
              "      <th>idx</th>\n",
              "    </tr>\n",
              "  </thead>\n",
              "  <tbody>\n",
              "    <tr>\n",
              "      <th>0</th>\n",
              "      <td>0</td>\n",
              "      <td>['&gt;In article &lt;Apr.7.01.56.56.1993.22824@athos...</td>\n",
              "      <td>soc.religion.christian</td>\n",
              "      <td>20487</td>\n",
              "    </tr>\n",
              "    <tr>\n",
              "      <th>1</th>\n",
              "      <td>1</td>\n",
              "      <td>['I have come across what I consider to be an ...</td>\n",
              "      <td>soc.religion.christian</td>\n",
              "      <td>20488</td>\n",
              "    </tr>\n",
              "    <tr>\n",
              "      <th>2</th>\n",
              "      <td>2</td>\n",
              "      <td>['Hi...\\n', '\\n', \"I'm new to this group, and ...</td>\n",
              "      <td>soc.religion.christian</td>\n",
              "      <td>20362</td>\n",
              "    </tr>\n",
              "    <tr>\n",
              "      <th>3</th>\n",
              "      <td>3</td>\n",
              "      <td>['Therefore, whoever humbles himself like this...</td>\n",
              "      <td>soc.religion.christian</td>\n",
              "      <td>20365</td>\n",
              "    </tr>\n",
              "    <tr>\n",
              "      <th>4</th>\n",
              "      <td>4</td>\n",
              "      <td>['&gt;In article &lt;Mar.22.02.52.49.1993.330@athos....</td>\n",
              "      <td>soc.religion.christian</td>\n",
              "      <td>20361</td>\n",
              "    </tr>\n",
              "  </tbody>\n",
              "</table>\n",
              "</div>"
            ],
            "text/plain": [
              "   Unnamed: 0  ...    idx\n",
              "0           0  ...  20487\n",
              "1           1  ...  20488\n",
              "2           2  ...  20362\n",
              "3           3  ...  20365\n",
              "4           4  ...  20361\n",
              "\n",
              "[5 rows x 4 columns]"
            ]
          },
          "metadata": {
            "tags": []
          },
          "execution_count": 5
        }
      ]
    },
    {
      "cell_type": "markdown",
      "metadata": {
        "id": "wgpSlAOQB9-B",
        "colab_type": "text"
      },
      "source": [
        "Eliminazione della colonna **Unnamed: 0**"
      ]
    },
    {
      "cell_type": "code",
      "metadata": {
        "id": "KdGmZ-aIhx47",
        "colab_type": "code",
        "colab": {}
      },
      "source": [
        "df.drop(columns={\"Unnamed: 0\": \"\"},inplace=True)"
      ],
      "execution_count": 0,
      "outputs": []
    },
    {
      "cell_type": "markdown",
      "metadata": {
        "id": "BreHaNpSc5Vk",
        "colab_type": "text"
      },
      "source": [
        "Visualizzazione "
      ]
    },
    {
      "cell_type": "code",
      "metadata": {
        "id": "jfwjlEATiRI8",
        "colab_type": "code",
        "outputId": "ee92ac69-d470-4240-ed55-0bb18d12ffb8",
        "colab": {
          "base_uri": "https://localhost:8080/",
          "height": 198
        }
      },
      "source": [
        "df.head()"
      ],
      "execution_count": 0,
      "outputs": [
        {
          "output_type": "execute_result",
          "data": {
            "text/html": [
              "<div>\n",
              "<style scoped>\n",
              "    .dataframe tbody tr th:only-of-type {\n",
              "        vertical-align: middle;\n",
              "    }\n",
              "\n",
              "    .dataframe tbody tr th {\n",
              "        vertical-align: top;\n",
              "    }\n",
              "\n",
              "    .dataframe thead th {\n",
              "        text-align: right;\n",
              "    }\n",
              "</style>\n",
              "<table border=\"1\" class=\"dataframe\">\n",
              "  <thead>\n",
              "    <tr style=\"text-align: right;\">\n",
              "      <th></th>\n",
              "      <th>text</th>\n",
              "      <th>target</th>\n",
              "      <th>idx</th>\n",
              "    </tr>\n",
              "  </thead>\n",
              "  <tbody>\n",
              "    <tr>\n",
              "      <th>0</th>\n",
              "      <td>['&gt;In article &lt;Apr.7.01.56.56.1993.22824@athos...</td>\n",
              "      <td>soc.religion.christian</td>\n",
              "      <td>20487</td>\n",
              "    </tr>\n",
              "    <tr>\n",
              "      <th>1</th>\n",
              "      <td>['I have come across what I consider to be an ...</td>\n",
              "      <td>soc.religion.christian</td>\n",
              "      <td>20488</td>\n",
              "    </tr>\n",
              "    <tr>\n",
              "      <th>2</th>\n",
              "      <td>['Hi...\\n', '\\n', \"I'm new to this group, and ...</td>\n",
              "      <td>soc.religion.christian</td>\n",
              "      <td>20362</td>\n",
              "    </tr>\n",
              "    <tr>\n",
              "      <th>3</th>\n",
              "      <td>['Therefore, whoever humbles himself like this...</td>\n",
              "      <td>soc.religion.christian</td>\n",
              "      <td>20365</td>\n",
              "    </tr>\n",
              "    <tr>\n",
              "      <th>4</th>\n",
              "      <td>['&gt;In article &lt;Mar.22.02.52.49.1993.330@athos....</td>\n",
              "      <td>soc.religion.christian</td>\n",
              "      <td>20361</td>\n",
              "    </tr>\n",
              "  </tbody>\n",
              "</table>\n",
              "</div>"
            ],
            "text/plain": [
              "                                                text  ...    idx\n",
              "0  ['>In article <Apr.7.01.56.56.1993.22824@athos...  ...  20487\n",
              "1  ['I have come across what I consider to be an ...  ...  20488\n",
              "2  ['Hi...\\n', '\\n', \"I'm new to this group, and ...  ...  20362\n",
              "3  ['Therefore, whoever humbles himself like this...  ...  20365\n",
              "4  ['>In article <Mar.22.02.52.49.1993.330@athos....  ...  20361\n",
              "\n",
              "[5 rows x 3 columns]"
            ]
          },
          "metadata": {
            "tags": []
          },
          "execution_count": 7
        }
      ]
    },
    {
      "cell_type": "markdown",
      "metadata": {
        "id": "QgMRhG_kCROY",
        "colab_type": "text"
      },
      "source": [
        "# Data exploration"
      ]
    },
    {
      "cell_type": "markdown",
      "metadata": {
        "id": "LIGyDbuIDwLF",
        "colab_type": "text"
      },
      "source": [
        "Esempio di news"
      ]
    },
    {
      "cell_type": "code",
      "metadata": {
        "id": "sSW2kfcOCVBe",
        "colab_type": "code",
        "outputId": "35ee39c5-0555-4b33-f53a-655f0131e21b",
        "colab": {
          "base_uri": "https://localhost:8080/",
          "height": 55
        }
      },
      "source": [
        "print(df.text.loc[60])"
      ],
      "execution_count": 0,
      "outputs": [
        {
          "output_type": "stream",
          "text": [
            "['> Since the_day_upon_which_most_Christians_celebrate_the_resurrection_of_Jesus\\n', '> is approaching, I thought I would comment on this:\\n', '> \\n', '> In article <Mar.29.03.23.31.1993.19711@athos.rutgers.edu> dsegard@nyx.cs.du.edu (Daniel Segard) writes:\\n', '> >\\n', '> What is the objection to celebration of Easter?  It is celebration of the\\n', \"> resurrection of Jesus.  I don't recall a command in Scripture for us to\\n\", '> celebrate the resurrection, but it is the sole and only reason that we\\n', '> are Christians--how could we not celebrate it?  If it is only the name\\n', '\\n', 'Not quite correct.  Biblical teaching expects us to celebrate the\\n', 'resurrection of Christ not once a year but every time someone is baptized.\\n', ' Col. 2:12-Buried with him in baptism, wherein also ye are risen with him\\n', 'through the faith of the operation of God, who hath raised him from the\\n', 'dead.\"  Rom. 6:4-Therefore we are buried with him in baptism into death:\\n', 'that like as Christ was raised up from the dead by the glory of the\\n', 'Father, even so we also should walk in newness of life.\"\\n', 'Those really want to celebrate the resurrection should by faith walk in\\n', 'newness of life after baptism.  It is not necessary to celebrate a pagan\\n', 'goddess in the process.\\n', '\\n', '> >      So, as we see from Scripture, those who are of Israel will observe\\n', '> >the 7th Day *FOREVER*.  The Gentiles who believe in the Messiah of Israel\\n', '> >are welcome to observe the 7th Day as well, but it is not required of them\\n', '> >since the are adopted into the Commonwealth of Israel.  The Gentiles who\\n', '> >are grafted into the Commonwealth of Israel are only required to observe\\n', '> >the basic commands given to those who came before Abram (see also Acts\\n', '> >15).  No further requirements are placed upon them once they come to faith\\n', '> >in Messiah.\\n', '> > \\n', '> So from this I infer that there are different rules for Christians of Jewish\\n', '> descent?  What happened to \"there is neither Jew nor Greek, slave nor free,\\n', '> male nor female, for all are one in Christ Jesus\"?  Jewish Christians/Messianics\\n', '> may find certain forms of worship and certain disciplines meaningful because\\n', '> of their cultural background, but I have a hard time understanding the \\n', '> justification for applying rules or commandments to those who have been \\n', '> justified by grace through faith in Jesus Christ.\\n', '> \\n', 'Paul answered your question in Romans 9.  In v. 4 he stated that the\\n', 'adoption, the glory, the covenants, the giving of the law, the service of\\n', 'God, and the promises were given to the Israelites.  It is a package deal.\\n', ' He goes on to identify those who are true Israelites.  Vs 6-8 makes it\\n', 'plain that the true Israelites are not those who are born that way but\\n', 'those who accept the promise of God.  Paul continued to emphasize that he\\n', 'was an Israelite in 2 Cor. 11:22, then in Gal 3:29 he says that all those\\n', \"who belong to Christ are Abraham's seed, and heirs to all the promises\\n\", 'given to the Israelites.  The promises come with the law.  It is all or\\n', 'nothing.  Why is it that you only want to discard one part of the law? \\n', 'Certainly you would want your husband to be faithful to you.  Or do you\\n', 'believe that adultery is no longer forbidden?  Same law.\\n', '\\n', 'BTW  please give a reference for your statement that the Gentiles are only\\n', 'required to observe the basis commandmants.  Could you list those\\n', 'please.  Acts 15 deals with circumcision and the law of Moses which was\\n', \"added because of transgression of God's eternal law (Gal 3:19; Rom 4:15)\\n\", '\\n', '++++++++++++\\n', 'Darius A. Lecointe                     | I got my BA when I was Born Again\\n', 'Department of Educational Research     | And my MA when I was Made Anew\\n', \"Florida State University               | Now I'm getting my PhD as I become \\n\", 'Tel: (904) 644-0706                    | A Patient, Humble, Disciple.\\n', 'E-mail: dlecoint@garnet.acns.fsu.edu\\n']\n"
          ],
          "name": "stdout"
        }
      ]
    },
    {
      "cell_type": "markdown",
      "metadata": {
        "id": "Ns8RzTs5EDOS",
        "colab_type": "text"
      },
      "source": [
        "Controlliamo se sono presenti **na**"
      ]
    },
    {
      "cell_type": "code",
      "metadata": {
        "id": "v_29Lv0JEGqJ",
        "colab_type": "code",
        "outputId": "9d02132b-55e1-47b0-9cf2-bc62d861fefb",
        "colab": {
          "base_uri": "https://localhost:8080/",
          "height": 90
        }
      },
      "source": [
        "df.isnull().sum()"
      ],
      "execution_count": 0,
      "outputs": [
        {
          "output_type": "execute_result",
          "data": {
            "text/plain": [
              "text      0\n",
              "target    0\n",
              "idx       0\n",
              "dtype: int64"
            ]
          },
          "metadata": {
            "tags": []
          },
          "execution_count": 9
        }
      ]
    },
    {
      "cell_type": "markdown",
      "metadata": {
        "id": "6ND4tygDEEbA",
        "colab_type": "text"
      },
      "source": [
        "Lista delle classi"
      ]
    },
    {
      "cell_type": "code",
      "metadata": {
        "id": "C8TKJW_zEPIa",
        "colab_type": "code",
        "outputId": "a3a73e77-20dc-46bb-b166-8e5d57f4f6c4",
        "colab": {
          "base_uri": "https://localhost:8080/",
          "height": 126
        }
      },
      "source": [
        "print(df.target.unique())"
      ],
      "execution_count": 0,
      "outputs": [
        {
          "output_type": "stream",
          "text": [
            "['soc.religion.christian' 'talk.politics.mideast' 'sci.electronics'\n",
            " 'talk.politics.guns' 'talk.religion.misc' 'talk.politics.misc'\n",
            " 'rec.sport.hockey' 'sci.space' 'sci.med' 'sci.crypt' 'alt.atheism'\n",
            " 'comp.sys.mac.hardware' 'misc.forsale' 'rec.sport.baseball' 'rec.autos'\n",
            " 'comp.sys.ibm.pc.hardware' 'rec.motorcycles' 'comp.graphics'\n",
            " 'comp.os.ms-windows.misc' 'comp.windows.x']\n"
          ],
          "name": "stdout"
        }
      ]
    },
    {
      "cell_type": "markdown",
      "metadata": {
        "id": "Vq8UOUoEGnjR",
        "colab_type": "text"
      },
      "source": [
        "Creare una nuova colonna \"Target\" con valori interi dalla colonna \"Target_Num\" per poi visualizzare le varie categorie"
      ]
    },
    {
      "cell_type": "code",
      "metadata": {
        "id": "bB5ziusOG14v",
        "colab_type": "code",
        "colab": {}
      },
      "source": [
        "df['target_num'] = df['target']\n",
        "target = {'alt.atheism':0, 'comp.graphics':1, 'comp.os.ms-windows.misc':2, 'comp.sys.ibm.pc.hardware':3, 'comp.sys.mac.hardware':4, 'comp.windows.x':5, 'misc.forsale':6, 'rec.autos':7,'rec.motorcycles':8,'rec.sport.baseball':9,'rec.sport.hockey':10,'sci.crypt':11,'sci.electronics':12,'sci.med':13,'sci.space':14,'soc.religion.christian':15,'talk.politics.guns':16,'talk.politics.mideast':17,'talk.politics.misc':18,'talk.religion.misc':19}\n",
        "df['target_num'] = df['target_num'].apply(lambda a: target.get(a) if a in target else a)"
      ],
      "execution_count": 0,
      "outputs": []
    },
    {
      "cell_type": "markdown",
      "metadata": {
        "id": "JDR4m9c_Ehi_",
        "colab_type": "text"
      },
      "source": [
        "Si controllano le varie classi se sono bilanciate"
      ]
    },
    {
      "cell_type": "code",
      "metadata": {
        "id": "eT6Wew5dEZ1O",
        "colab_type": "code",
        "outputId": "2cdd51f5-88d8-45a9-c207-b9de4a90bf58",
        "colab": {
          "base_uri": "https://localhost:8080/",
          "height": 337
        }
      },
      "source": [
        "import seaborn as sns\n",
        "count_cl = df['target_num'].value_counts()\n",
        "\n",
        "plt.figure(figsize=(9,5))\n",
        "sns.barplot(count_cl.index, count_cl.values, alpha=0.8)\n",
        "plt.ylabel('Number of Occurrences', fontsize=12)\n",
        "plt.xlabel('Target', fontsize=12);"
      ],
      "execution_count": 0,
      "outputs": [
        {
          "output_type": "display_data",
          "data": {
            "image/png": "[encoded data removed]",
            "text/plain": [
              "<Figure size 648x360 with 1 Axes>"
            ]
          },
          "metadata": {
            "tags": []
          }
        }
      ]
    },
    {
      "cell_type": "markdown",
      "metadata": {
        "id": "m4cl8j33icu2",
        "colab_type": "text"
      },
      "source": [
        "# PRE-PROCESSING"
      ]
    },
    {
      "cell_type": "markdown",
      "metadata": {
        "id": "KkJ6qOA4jsM5",
        "colab_type": "text"
      },
      "source": [
        "Per il pre-processing abbiamo svolto le seguenti azioni:"
      ]
    },
    {
      "cell_type": "markdown",
      "metadata": {
        "id": "XikEmbL9jvn8",
        "colab_type": "text"
      },
      "source": [
        "- Conversione del testo in minuscolo\n",
        "- Eliminazione indirizzi mail\n",
        "- Eliminazione numeri\n",
        "- Eliminazione caratteri di punteggiatura\n",
        "- Rimozione parole composta da una e due lettere\n",
        "- Sistemazione degli spazi che si sono creati con le precedenti operazioni"
      ]
    },
    {
      "cell_type": "code",
      "metadata": {
        "id": "HkySmu9-jxFb",
        "colab_type": "code",
        "colab": {}
      },
      "source": [
        "# Trasformazione in lower-case\n",
        "df['text_processed'] = df['text'].map(lambda x: x.lower())\n",
        "\n",
        "# Rimozione indirizzi email\n",
        "df['text_processed'] = df['text_processed'].apply(lambda x: re.sub('\\w+@\\w+\\.\\w+?', '', x))\n",
        "\n",
        "# Rimozione numeri\n",
        "df['text_processed'] = df['text_processed'].apply(lambda x: re.sub('\\d','', x))\n",
        "\n",
        "# Rimozione della punteggiatura\n",
        "df['text_processed']  = df['text_processed'].apply(lambda x: re.sub(r'[^\\w\\s]','', x))\n",
        "\n",
        "# Rimozione parole composte\n",
        "df['text_processed']  = df['text_processed'].astype(str).map(lambda x: re.sub(r'\\b\\w{1,2}\\b', '', x))\n",
        "\n",
        "# Rimozione spazi\n",
        "df['text_processed'] = df['text_processed'].map(lambda x: re.sub(' +', ' ', x))\n",
        "\n",
        "#rimozione spazi di inizio riga\n",
        "df['text_processed'] = df['text_processed'].map(lambda x: x.lstrip()) \n",
        "\n",
        "#rimozione spazi di fine riga\n",
        "df['text_processed'] = df['text_processed'].map(lambda x: x.rstrip()) "
      ],
      "execution_count": 0,
      "outputs": []
    },
    {
      "cell_type": "markdown",
      "metadata": {
        "id": "6BBceWxokB6E",
        "colab_type": "text"
      },
      "source": [
        "# TOKENIZZAZIONE TESTO\n"
      ]
    },
    {
      "cell_type": "code",
      "metadata": {
        "id": "fq77gut1ifSt",
        "colab_type": "code",
        "colab": {}
      },
      "source": [
        "df['text_processed'] = df['text_processed'].apply(nltk.tokenize.word_tokenize)"
      ],
      "execution_count": 0,
      "outputs": []
    },
    {
      "cell_type": "code",
      "metadata": {
        "id": "v_hUAUdbnDlC",
        "colab_type": "code",
        "outputId": "1911deda-e37f-455a-8a6f-0d0e25610a81",
        "colab": {
          "base_uri": "https://localhost:8080/",
          "height": 198
        }
      },
      "source": [
        "df.head()"
      ],
      "execution_count": 0,
      "outputs": [
        {
          "output_type": "execute_result",
          "data": {
            "text/html": [
              "<div>\n",
              "<style scoped>\n",
              "    .dataframe tbody tr th:only-of-type {\n",
              "        vertical-align: middle;\n",
              "    }\n",
              "\n",
              "    .dataframe tbody tr th {\n",
              "        vertical-align: top;\n",
              "    }\n",
              "\n",
              "    .dataframe thead th {\n",
              "        text-align: right;\n",
              "    }\n",
              "</style>\n",
              "<table border=\"1\" class=\"dataframe\">\n",
              "  <thead>\n",
              "    <tr style=\"text-align: right;\">\n",
              "      <th></th>\n",
              "      <th>text</th>\n",
              "      <th>target</th>\n",
              "      <th>idx</th>\n",
              "      <th>target_num</th>\n",
              "      <th>text_processed</th>\n",
              "    </tr>\n",
              "  </thead>\n",
              "  <tbody>\n",
              "    <tr>\n",
              "      <th>0</th>\n",
              "      <td>['&gt;In article &lt;Apr.7.01.56.56.1993.22824@athos...</td>\n",
              "      <td>soc.religion.christian</td>\n",
              "      <td>20487</td>\n",
              "      <td>15</td>\n",
              "      <td>[article, aprutgersedu, chpcomn, matt, therefo...</td>\n",
              "    </tr>\n",
              "    <tr>\n",
              "      <th>1</th>\n",
              "      <td>['I have come across what I consider to be an ...</td>\n",
              "      <td>soc.religion.christian</td>\n",
              "      <td>20488</td>\n",
              "      <td>15</td>\n",
              "      <td>[have, come, across, what, consider, excellent...</td>\n",
              "    </tr>\n",
              "    <tr>\n",
              "      <th>2</th>\n",
              "      <td>['Hi...\\n', '\\n', \"I'm new to this group, and ...</td>\n",
              "      <td>soc.religion.christian</td>\n",
              "      <td>20362</td>\n",
              "      <td>15</td>\n",
              "      <td>[hin, new, this, group, and, maybe, this, has,...</td>\n",
              "    </tr>\n",
              "    <tr>\n",
              "      <th>3</th>\n",
              "      <td>['Therefore, whoever humbles himself like this...</td>\n",
              "      <td>soc.religion.christian</td>\n",
              "      <td>20365</td>\n",
              "      <td>15</td>\n",
              "      <td>[therefore, whoever, humbles, himself, like, t...</td>\n",
              "    </tr>\n",
              "    <tr>\n",
              "      <th>4</th>\n",
              "      <td>['&gt;In article &lt;Mar.22.02.52.49.1993.330@athos....</td>\n",
              "      <td>soc.religion.christian</td>\n",
              "      <td>20361</td>\n",
              "      <td>15</td>\n",
              "      <td>[article, marutgersedu, sugaedu, terrance, hea...</td>\n",
              "    </tr>\n",
              "  </tbody>\n",
              "</table>\n",
              "</div>"
            ],
            "text/plain": [
              "                                                text  ...                                     text_processed\n",
              "0  ['>In article <Apr.7.01.56.56.1993.22824@athos...  ...  [article, aprutgersedu, chpcomn, matt, therefo...\n",
              "1  ['I have come across what I consider to be an ...  ...  [have, come, across, what, consider, excellent...\n",
              "2  ['Hi...\\n', '\\n', \"I'm new to this group, and ...  ...  [hin, new, this, group, and, maybe, this, has,...\n",
              "3  ['Therefore, whoever humbles himself like this...  ...  [therefore, whoever, humbles, himself, like, t...\n",
              "4  ['>In article <Mar.22.02.52.49.1993.330@athos....  ...  [article, marutgersedu, sugaedu, terrance, hea...\n",
              "\n",
              "[5 rows x 5 columns]"
            ]
          },
          "metadata": {
            "tags": []
          },
          "execution_count": 15
        }
      ]
    },
    {
      "cell_type": "markdown",
      "metadata": {
        "id": "Rtf3Vf5_kwuL",
        "colab_type": "text"
      },
      "source": [
        "# STOP-WORDS"
      ]
    },
    {
      "cell_type": "markdown",
      "metadata": {
        "id": "sExhrEf5kmpW",
        "colab_type": "text"
      },
      "source": [
        "Vengono eliminate le stopwords"
      ]
    },
    {
      "cell_type": "code",
      "metadata": {
        "id": "yz7VhrwkkgAD",
        "colab_type": "code",
        "colab": {}
      },
      "source": [
        "stop_words = stopwords.words('english')\n",
        "stop_words.extend(['from', 'subject', 're', 'edu', 'use','one','would']) #aggiunta a mano di stop_words\n",
        "\n",
        "def remove_stopwords(serie):\n",
        "    return [word for word in serie if word not in stop_words]\n",
        "\n",
        "# Rimozione stopwords\n",
        "df['text_processed'] = df['text_processed'].apply(remove_stopwords)"
      ],
      "execution_count": 0,
      "outputs": []
    },
    {
      "cell_type": "code",
      "metadata": {
        "id": "uQrCuIm9P_Iq",
        "colab_type": "code",
        "outputId": "4ba653b3-4d16-4991-969d-c75f6015e072",
        "colab": {
          "base_uri": "https://localhost:8080/",
          "height": 198
        }
      },
      "source": [
        "df.head()"
      ],
      "execution_count": 0,
      "outputs": [
        {
          "output_type": "execute_result",
          "data": {
            "text/html": [
              "<div>\n",
              "<style scoped>\n",
              "    .dataframe tbody tr th:only-of-type {\n",
              "        vertical-align: middle;\n",
              "    }\n",
              "\n",
              "    .dataframe tbody tr th {\n",
              "        vertical-align: top;\n",
              "    }\n",
              "\n",
              "    .dataframe thead th {\n",
              "        text-align: right;\n",
              "    }\n",
              "</style>\n",
              "<table border=\"1\" class=\"dataframe\">\n",
              "  <thead>\n",
              "    <tr style=\"text-align: right;\">\n",
              "      <th></th>\n",
              "      <th>text</th>\n",
              "      <th>target</th>\n",
              "      <th>idx</th>\n",
              "      <th>target_num</th>\n",
              "      <th>text_processed</th>\n",
              "    </tr>\n",
              "  </thead>\n",
              "  <tbody>\n",
              "    <tr>\n",
              "      <th>0</th>\n",
              "      <td>['&gt;In article &lt;Apr.7.01.56.56.1993.22824@athos...</td>\n",
              "      <td>soc.religion.christian</td>\n",
              "      <td>20487</td>\n",
              "      <td>15</td>\n",
              "      <td>[article, aprutgersedu, chpcomn, matt, therefo...</td>\n",
              "    </tr>\n",
              "    <tr>\n",
              "      <th>1</th>\n",
              "      <td>['I have come across what I consider to be an ...</td>\n",
              "      <td>soc.religion.christian</td>\n",
              "      <td>20488</td>\n",
              "      <td>15</td>\n",
              "      <td>[come, across, consider, excellent, tract, bit...</td>\n",
              "    </tr>\n",
              "    <tr>\n",
              "      <th>2</th>\n",
              "      <td>['Hi...\\n', '\\n', \"I'm new to this group, and ...</td>\n",
              "      <td>soc.religion.christian</td>\n",
              "      <td>20362</td>\n",
              "      <td>15</td>\n",
              "      <td>[hin, new, group, maybe, covered, alreadyn, an...</td>\n",
              "    </tr>\n",
              "    <tr>\n",
              "      <th>3</th>\n",
              "      <td>['Therefore, whoever humbles himself like this...</td>\n",
              "      <td>soc.religion.christian</td>\n",
              "      <td>20365</td>\n",
              "      <td>15</td>\n",
              "      <td>[therefore, whoever, humbles, like, child, gre...</td>\n",
              "    </tr>\n",
              "    <tr>\n",
              "      <th>4</th>\n",
              "      <td>['&gt;In article &lt;Mar.22.02.52.49.1993.330@athos....</td>\n",
              "      <td>soc.religion.christian</td>\n",
              "      <td>20361</td>\n",
              "      <td>15</td>\n",
              "      <td>[article, marutgersedu, sugaedu, terrance, hea...</td>\n",
              "    </tr>\n",
              "  </tbody>\n",
              "</table>\n",
              "</div>"
            ],
            "text/plain": [
              "                                                text  ...                                     text_processed\n",
              "0  ['>In article <Apr.7.01.56.56.1993.22824@athos...  ...  [article, aprutgersedu, chpcomn, matt, therefo...\n",
              "1  ['I have come across what I consider to be an ...  ...  [come, across, consider, excellent, tract, bit...\n",
              "2  ['Hi...\\n', '\\n', \"I'm new to this group, and ...  ...  [hin, new, group, maybe, covered, alreadyn, an...\n",
              "3  ['Therefore, whoever humbles himself like this...  ...  [therefore, whoever, humbles, like, child, gre...\n",
              "4  ['>In article <Mar.22.02.52.49.1993.330@athos....  ...  [article, marutgersedu, sugaedu, terrance, hea...\n",
              "\n",
              "[5 rows x 5 columns]"
            ]
          },
          "metadata": {
            "tags": []
          },
          "execution_count": 18
        }
      ]
    },
    {
      "cell_type": "markdown",
      "metadata": {
        "id": "wfwZFVpYk-Cz",
        "colab_type": "text"
      },
      "source": [
        "# LEMMATIZZAZIONE E STEMMATIZZAZIONE"
      ]
    },
    {
      "cell_type": "markdown",
      "metadata": {
        "id": "dVeOvl4tlCu4",
        "colab_type": "text"
      },
      "source": [
        "Si procede alla lemmatization e allo stemming (utilizzando l'algoritmo di Porter) del testo, tenendo separate le due operazioni:"
      ]
    },
    {
      "cell_type": "code",
      "metadata": {
        "id": "S4D02pODlFxC",
        "colab_type": "code",
        "colab": {}
      },
      "source": [
        "def lemmatization(serie):\n",
        "    return [WordNetLemmatizer().lemmatize(str(word)) for word in serie]\n",
        "\n",
        "df['token_lem'] = df['text_processed'].apply(lemmatization)\n",
        "\n",
        "def stemming(serie):\n",
        "    return [PorterStemmer().stem(str(word)) for word in serie]\n",
        "\n",
        "df['token_stem'] = df['text_processed'].apply(stemming)"
      ],
      "execution_count": 0,
      "outputs": []
    },
    {
      "cell_type": "code",
      "metadata": {
        "id": "87BOkBDz-WLi",
        "colab_type": "code",
        "outputId": "e306af62-63c6-48d4-e843-ddbfe28753e6",
        "colab": {
          "base_uri": "https://localhost:8080/",
          "height": 198
        }
      },
      "source": [
        "df.head()"
      ],
      "execution_count": 0,
      "outputs": [
        {
          "output_type": "execute_result",
          "data": {
            "text/html": [
              "<div>\n",
              "<style scoped>\n",
              "    .dataframe tbody tr th:only-of-type {\n",
              "        vertical-align: middle;\n",
              "    }\n",
              "\n",
              "    .dataframe tbody tr th {\n",
              "        vertical-align: top;\n",
              "    }\n",
              "\n",
              "    .dataframe thead th {\n",
              "        text-align: right;\n",
              "    }\n",
              "</style>\n",
              "<table border=\"1\" class=\"dataframe\">\n",
              "  <thead>\n",
              "    <tr style=\"text-align: right;\">\n",
              "      <th></th>\n",
              "      <th>text</th>\n",
              "      <th>target</th>\n",
              "      <th>idx</th>\n",
              "      <th>target_num</th>\n",
              "      <th>text_processed</th>\n",
              "      <th>token_lem</th>\n",
              "      <th>token_stem</th>\n",
              "    </tr>\n",
              "  </thead>\n",
              "  <tbody>\n",
              "    <tr>\n",
              "      <th>0</th>\n",
              "      <td>['&gt;In article &lt;Apr.7.01.56.56.1993.22824@athos...</td>\n",
              "      <td>soc.religion.christian</td>\n",
              "      <td>20487</td>\n",
              "      <td>15</td>\n",
              "      <td>[article, aprutgersedu, chpcomn, matt, therefo...</td>\n",
              "      <td>[article, aprutgersedu, chpcomn, matt, therefo...</td>\n",
              "      <td>[articl, aprutgersedu, chpcomn, matt, therefor...</td>\n",
              "    </tr>\n",
              "    <tr>\n",
              "      <th>1</th>\n",
              "      <td>['I have come across what I consider to be an ...</td>\n",
              "      <td>soc.religion.christian</td>\n",
              "      <td>20488</td>\n",
              "      <td>15</td>\n",
              "      <td>[come, across, consider, excellent, tract, bit...</td>\n",
              "      <td>[come, across, consider, excellent, tract, bit...</td>\n",
              "      <td>[come, across, consid, excel, tract, bit, leng...</td>\n",
              "    </tr>\n",
              "    <tr>\n",
              "      <th>2</th>\n",
              "      <td>['Hi...\\n', '\\n', \"I'm new to this group, and ...</td>\n",
              "      <td>soc.religion.christian</td>\n",
              "      <td>20362</td>\n",
              "      <td>15</td>\n",
              "      <td>[hin, new, group, maybe, covered, alreadyn, an...</td>\n",
              "      <td>[hin, new, group, maybe, covered, alreadyn, an...</td>\n",
              "      <td>[hin, new, group, mayb, cover, alreadyn, anybo...</td>\n",
              "    </tr>\n",
              "    <tr>\n",
              "      <th>3</th>\n",
              "      <td>['Therefore, whoever humbles himself like this...</td>\n",
              "      <td>soc.religion.christian</td>\n",
              "      <td>20365</td>\n",
              "      <td>15</td>\n",
              "      <td>[therefore, whoever, humbles, like, child, gre...</td>\n",
              "      <td>[therefore, whoever, humbles, like, child, gre...</td>\n",
              "      <td>[therefor, whoever, humbl, like, child, greate...</td>\n",
              "    </tr>\n",
              "    <tr>\n",
              "      <th>4</th>\n",
              "      <td>['&gt;In article &lt;Mar.22.02.52.49.1993.330@athos....</td>\n",
              "      <td>soc.religion.christian</td>\n",
              "      <td>20361</td>\n",
              "      <td>15</td>\n",
              "      <td>[article, marutgersedu, sugaedu, terrance, hea...</td>\n",
              "      <td>[article, marutgersedu, sugaedu, terrance, hea...</td>\n",
              "      <td>[articl, marutgersedu, sugaedu, terranc, heath...</td>\n",
              "    </tr>\n",
              "  </tbody>\n",
              "</table>\n",
              "</div>"
            ],
            "text/plain": [
              "                                                text  ...                                         token_stem\n",
              "0  ['>In article <Apr.7.01.56.56.1993.22824@athos...  ...  [articl, aprutgersedu, chpcomn, matt, therefor...\n",
              "1  ['I have come across what I consider to be an ...  ...  [come, across, consid, excel, tract, bit, leng...\n",
              "2  ['Hi...\\n', '\\n', \"I'm new to this group, and ...  ...  [hin, new, group, mayb, cover, alreadyn, anybo...\n",
              "3  ['Therefore, whoever humbles himself like this...  ...  [therefor, whoever, humbl, like, child, greate...\n",
              "4  ['>In article <Mar.22.02.52.49.1993.330@athos....  ...  [articl, marutgersedu, sugaedu, terranc, heath...\n",
              "\n",
              "[5 rows x 7 columns]"
            ]
          },
          "metadata": {
            "tags": []
          },
          "execution_count": 20
        }
      ]
    },
    {
      "cell_type": "markdown",
      "metadata": {
        "id": "2mC2e5R4l3VH",
        "colab_type": "text"
      },
      "source": [
        "Per avere un quadro più completo viene presa in esame anche la rappresentazione bigram, sia per i token stem e lem:"
      ]
    },
    {
      "cell_type": "code",
      "metadata": {
        "id": "uPlAtyP5l2PX",
        "colab_type": "code",
        "colab": {}
      },
      "source": [
        "def bigram(token):\n",
        "    bi = []\n",
        "    for i in range(1,len(token)):\n",
        "        bi.append(token[i-1] + ' ' + token[i])\n",
        "    return(bi)\n",
        "\n",
        "df['bigram_stem'] = df['token_stem'].apply(bigram)\n",
        "df['bigram_lem'] = df['token_lem'].apply(bigram)"
      ],
      "execution_count": 0,
      "outputs": []
    },
    {
      "cell_type": "code",
      "metadata": {
        "id": "c31tqTTU_qXD",
        "colab_type": "code",
        "outputId": "aea1d5e4-81a9-4e52-a294-035316b88a56",
        "colab": {
          "base_uri": "https://localhost:8080/",
          "height": 285
        }
      },
      "source": [
        "df.head()"
      ],
      "execution_count": 0,
      "outputs": [
        {
          "output_type": "execute_result",
          "data": {
            "text/html": [
              "<div>\n",
              "<style scoped>\n",
              "    .dataframe tbody tr th:only-of-type {\n",
              "        vertical-align: middle;\n",
              "    }\n",
              "\n",
              "    .dataframe tbody tr th {\n",
              "        vertical-align: top;\n",
              "    }\n",
              "\n",
              "    .dataframe thead th {\n",
              "        text-align: right;\n",
              "    }\n",
              "</style>\n",
              "<table border=\"1\" class=\"dataframe\">\n",
              "  <thead>\n",
              "    <tr style=\"text-align: right;\">\n",
              "      <th></th>\n",
              "      <th>text</th>\n",
              "      <th>target</th>\n",
              "      <th>idx</th>\n",
              "      <th>target_num</th>\n",
              "      <th>text_processed</th>\n",
              "      <th>token_lem</th>\n",
              "      <th>token_stem</th>\n",
              "      <th>bigram_stem</th>\n",
              "      <th>bigram_lem</th>\n",
              "    </tr>\n",
              "  </thead>\n",
              "  <tbody>\n",
              "    <tr>\n",
              "      <th>0</th>\n",
              "      <td>['&gt;In article &lt;Apr.7.01.56.56.1993.22824@athos...</td>\n",
              "      <td>soc.religion.christian</td>\n",
              "      <td>20487</td>\n",
              "      <td>15</td>\n",
              "      <td>[article, aprutgersedu, chpcomn, matt, therefo...</td>\n",
              "      <td>[article, aprutgersedu, chpcomn, matt, therefo...</td>\n",
              "      <td>[articl, aprutgersedu, chpcomn, matt, therefor...</td>\n",
              "      <td>[articl aprutgersedu, aprutgersedu chpcomn, ch...</td>\n",
              "      <td>[article aprutgersedu, aprutgersedu chpcomn, c...</td>\n",
              "    </tr>\n",
              "    <tr>\n",
              "      <th>1</th>\n",
              "      <td>['I have come across what I consider to be an ...</td>\n",
              "      <td>soc.religion.christian</td>\n",
              "      <td>20488</td>\n",
              "      <td>15</td>\n",
              "      <td>[come, across, consider, excellent, tract, bit...</td>\n",
              "      <td>[come, across, consider, excellent, tract, bit...</td>\n",
              "      <td>[come, across, consid, excel, tract, bit, leng...</td>\n",
              "      <td>[come across, across consid, consid excel, exc...</td>\n",
              "      <td>[come across, across consider, consider excell...</td>\n",
              "    </tr>\n",
              "    <tr>\n",
              "      <th>2</th>\n",
              "      <td>['Hi...\\n', '\\n', \"I'm new to this group, and ...</td>\n",
              "      <td>soc.religion.christian</td>\n",
              "      <td>20362</td>\n",
              "      <td>15</td>\n",
              "      <td>[hin, new, group, maybe, covered, alreadyn, an...</td>\n",
              "      <td>[hin, new, group, maybe, covered, alreadyn, an...</td>\n",
              "      <td>[hin, new, group, mayb, cover, alreadyn, anybo...</td>\n",
              "      <td>[hin new, new group, group mayb, mayb cover, c...</td>\n",
              "      <td>[hin new, new group, group maybe, maybe covere...</td>\n",
              "    </tr>\n",
              "    <tr>\n",
              "      <th>3</th>\n",
              "      <td>['Therefore, whoever humbles himself like this...</td>\n",
              "      <td>soc.religion.christian</td>\n",
              "      <td>20365</td>\n",
              "      <td>15</td>\n",
              "      <td>[therefore, whoever, humbles, like, child, gre...</td>\n",
              "      <td>[therefore, whoever, humbles, like, child, gre...</td>\n",
              "      <td>[therefor, whoever, humbl, like, child, greate...</td>\n",
              "      <td>[therefor whoever, whoever humbl, humbl like, ...</td>\n",
              "      <td>[therefore whoever, whoever humbles, humbles l...</td>\n",
              "    </tr>\n",
              "    <tr>\n",
              "      <th>4</th>\n",
              "      <td>['&gt;In article &lt;Mar.22.02.52.49.1993.330@athos....</td>\n",
              "      <td>soc.religion.christian</td>\n",
              "      <td>20361</td>\n",
              "      <td>15</td>\n",
              "      <td>[article, marutgersedu, sugaedu, terrance, hea...</td>\n",
              "      <td>[article, marutgersedu, sugaedu, terrance, hea...</td>\n",
              "      <td>[articl, marutgersedu, sugaedu, terranc, heath...</td>\n",
              "      <td>[articl marutgersedu, marutgersedu sugaedu, su...</td>\n",
              "      <td>[article marutgersedu, marutgersedu sugaedu, s...</td>\n",
              "    </tr>\n",
              "  </tbody>\n",
              "</table>\n",
              "</div>"
            ],
            "text/plain": [
              "                                                text  ...                                         bigram_lem\n",
              "0  ['>In article <Apr.7.01.56.56.1993.22824@athos...  ...  [article aprutgersedu, aprutgersedu chpcomn, c...\n",
              "1  ['I have come across what I consider to be an ...  ...  [come across, across consider, consider excell...\n",
              "2  ['Hi...\\n', '\\n', \"I'm new to this group, and ...  ...  [hin new, new group, group maybe, maybe covere...\n",
              "3  ['Therefore, whoever humbles himself like this...  ...  [therefore whoever, whoever humbles, humbles l...\n",
              "4  ['>In article <Mar.22.02.52.49.1993.330@athos....  ...  [article marutgersedu, marutgersedu sugaedu, s...\n",
              "\n",
              "[5 rows x 9 columns]"
            ]
          },
          "metadata": {
            "tags": []
          },
          "execution_count": 22
        }
      ]
    },
    {
      "cell_type": "markdown",
      "metadata": {
        "id": "C_QQ5vRtymJI",
        "colab_type": "text"
      },
      "source": [
        "# CLASSIFICAZIONE"
      ]
    },
    {
      "cell_type": "code",
      "metadata": {
        "id": "n1B0rJN7S4rX",
        "colab_type": "code",
        "colab": {}
      },
      "source": [
        "x_train, x_test, y_train, y_test = train_test_split(df,df['target'],test_size = 0.2, stratify=df['target'])"
      ],
      "execution_count": 0,
      "outputs": []
    },
    {
      "cell_type": "markdown",
      "metadata": {
        "id": "2QcJKkTBwVie",
        "colab_type": "text"
      },
      "source": [
        "# MATRICI"
      ]
    },
    {
      "cell_type": "markdown",
      "metadata": {
        "id": "2jsDyhxTwWfE",
        "colab_type": "text"
      },
      "source": [
        "Partendo dai token lem e stem e dalle matrici unigram e bigram si procede a calcolare, per ogni combinazione:\n",
        "- Pesi TF\n",
        "- Pesi TF-IDF\n",
        "- Pesi Binari\n",
        "\n",
        "Inoltre si utilizza un token_pattern in modo da prendere in considerazione solamente parole di lunghezza > 2"
      ]
    },
    {
      "cell_type": "code",
      "metadata": {
        "id": "NHr9ioAmJH_J",
        "colab_type": "code",
        "colab": {}
      },
      "source": [
        "# Funzione per utilizzare le tokenizzazioni già svolte\n",
        "def identity_tokenizer(text):\n",
        "    return text"
      ],
      "execution_count": 0,
      "outputs": []
    },
    {
      "cell_type": "code",
      "metadata": {
        "id": "QxHduoV1jScl",
        "colab_type": "code",
        "colab": {}
      },
      "source": [
        "# Vettorizzatore per pesi TF-IDF\n",
        "tfidf = TfidfVectorizer(\n",
        "    analyzer='word',\n",
        "    min_df=10,\n",
        "    lowercase=True,\n",
        "    tokenizer=identity_tokenizer,\n",
        "    preprocessor=identity_tokenizer,\n",
        "    token_pattern='[a-zA-Z0-9]{3,}')\n",
        "\n",
        "# Vettorizzatore per pesi TF\n",
        "count = CountVectorizer(\n",
        "    analyzer='word',\n",
        "    min_df=10,\n",
        "    lowercase=True,\n",
        "    tokenizer=identity_tokenizer,\n",
        "    preprocessor=identity_tokenizer,\n",
        "    token_pattern='[a-zA-Z0-9]{3,}') \n",
        "\n",
        "# Vettorizzatore per pesi binari\n",
        "binary = CountVectorizer(\n",
        "    analyzer='word',\n",
        "    min_df=10,\n",
        "    binary=True,\n",
        "    tokenizer=identity_tokenizer,\n",
        "    preprocessor=identity_tokenizer,\n",
        "    token_pattern='[a-zA-Z0-9]{3,}') \n",
        "\n",
        "# Funzione che crea la vettorizzazione partendo dalla matrice train e la applica su quella test corrispondente\n",
        "def create_matrix(token_train,token_test,vectorizer):\n",
        "    ls = []\n",
        "    for vett in vectorizer:\n",
        "        for i in zip(token_train,token_test):\n",
        "            train = vett.fit_transform(i[0])\n",
        "            test = vett.transform(i[1])\n",
        "            ls.append((train,test))\n",
        "    return ls\n",
        "\n",
        "matrix = create_matrix([x_train['token_stem'],x_train['bigram_stem'],x_train['token_lem'],x_train['bigram_lem']], [x_test['token_stem'],x_test['bigram_stem'],x_test['token_lem'],x_test['bigram_lem']], [tfidf,count,binary])"
      ],
      "execution_count": 0,
      "outputs": []
    },
    {
      "cell_type": "markdown",
      "metadata": {
        "id": "dazBKWoKzexa",
        "colab_type": "text"
      },
      "source": [
        "Otteniamo 24 matrici, 12 di train e 12 di test:\n",
        "\n",
        "- Unigram - tf-idf - stem\n",
        "- Unigram - tf-idf - lem\n",
        "- Unigram - tf - stem\n",
        "- Unigram - tf - lem\n",
        "- Unigram - binary - stem\n",
        "- Unigram - binary - lem\n",
        "\n",
        "- Bigram - tf-idf - stem\n",
        "- Bigram - tf-idf - lem\n",
        "- Bigram - tf - stem\n",
        "- Bigram - tf - lem\n",
        "- Bigram - binary - stem\n",
        "- Bigram - binary - lem\n"
      ]
    },
    {
      "cell_type": "markdown",
      "metadata": {
        "id": "EjqzS0CCpaeI",
        "colab_type": "text"
      },
      "source": [
        "# FEATURE SELECTION\n",
        "\n",
        "\n",
        "\n"
      ]
    },
    {
      "cell_type": "markdown",
      "metadata": {
        "id": "JIc8aFAWpeUd",
        "colab_type": "text"
      },
      "source": [
        "Utilizzando il test del chi-quadro si ottiene una feature selection si tengono solo le prime 5000 features (per ogni matrice) ordinate in ordine decrescente in base al valore del test. \n",
        "<br>\n",
        "L'operazione di feature selection viene giustificata perchè:\n",
        "- Si riduce il rischio di overfitting\n",
        "- Eliminazione degli features irrilevanti e quindi potenzialmente migliora le performance dei modelli\n",
        "- Permette di addestrare modelli utilizzando minor sforzo computazionale"
      ]
    },
    {
      "cell_type": "code",
      "metadata": {
        "id": "RYx76Gzmpnwm",
        "colab_type": "code",
        "colab": {}
      },
      "source": [
        "def feature_selection(ls_mat):\n",
        "    matrix_train=ls_mat[0]\n",
        "    matrix_test=ls_mat[1]\n",
        "    kb=SelectKBest(chi2, k=5000)\n",
        "    kb.fit_transform(matrix_train, y_train)\n",
        "    train=pd.DataFrame((kb.fit_transform(matrix_train, y_train)).toarray())\n",
        "    test=pd.DataFrame((kb.transform(matrix_test)).toarray())\n",
        "    return((train,test))"
      ],
      "execution_count": 0,
      "outputs": []
    },
    {
      "cell_type": "markdown",
      "metadata": {
        "id": "pBe8LL2rpqdI",
        "colab_type": "text"
      },
      "source": [
        "Per comodità le matrici vengono salvate in un dizionario, la chiave corrisponde al nome della matrice e il valore ad una tupla contente la matrice di train e quella di test corrispondenti alla chiave:"
      ]
    },
    {
      "cell_type": "code",
      "metadata": {
        "id": "A3yZnEgMptfM",
        "colab_type": "code",
        "colab": {}
      },
      "source": [
        "names = ['unigram_tfidf_stem','bigram_tfidf_stem','unigram_tfidf_lem','bigram_tfidf_lem','unigram_count_stem','bigram_count_stem','unigram_count_lem','bigram_count_lem','unigram_binary_stem','bigram_binary_stem','unigram_binary_lem','bigram_binary_lem']\n",
        "\n",
        "dict_matrix = {}\n",
        "for i in range(len(matrix)):\n",
        "    dict_matrix[names[i]] = feature_selection(matrix[i])"
      ],
      "execution_count": 0,
      "outputs": []
    },
    {
      "cell_type": "markdown",
      "metadata": {
        "id": "UYP0AOQXpwbr",
        "colab_type": "text"
      },
      "source": [
        "# MODELLISTICA"
      ]
    },
    {
      "cell_type": "markdown",
      "metadata": {
        "id": "HoTm3m6eqKC2",
        "colab_type": "text"
      },
      "source": [
        "I classificatori scelti, considerando la letteratura e lo sforzo computazionale, sono:\n",
        "\n",
        "- Naive Bayes\n",
        "- Random Forest\n",
        "- Regressione logistica"
      ]
    },
    {
      "cell_type": "markdown",
      "metadata": {
        "id": "dYnBOTzUqO7g",
        "colab_type": "text"
      },
      "source": [
        "Ogni modello viene addestrato con diversi iper-parametri sul dataset di training e successivamente viene testato sui dati di test:"
      ]
    },
    {
      "cell_type": "code",
      "metadata": {
        "id": "LjCZ787hrJVt",
        "colab_type": "code",
        "colab": {}
      },
      "source": [
        "dict_classificators=  {'Naive Bayes':MultinomialNB(),'Random Forest':RandomForestClassifier(max_features='log2'),'Reg Log':LogisticRegression(multi_class='multinomial', n_jobs=-1)}"
      ],
      "execution_count": 0,
      "outputs": []
    },
    {
      "cell_type": "code",
      "metadata": {
        "id": "mk-9h3bjJ3Vi",
        "colab_type": "code",
        "outputId": "e955d6f4-c46c-4222-9cea-22253700f337",
        "colab": {
          "base_uri": "https://localhost:8080/",
          "height": 692
        }
      },
      "source": [
        "diz_results = {}\n",
        "for classificator in dict_classificators:\n",
        "  for matrix in dict_matrix:\n",
        "    type_matrix = matrix.split('_')[0]\n",
        "    weight = matrix.split('_')[1]\n",
        "    token = matrix.split('_')[2]\n",
        "    parameters = {'Naive Bayes':{'alpha':[0.1,0.5,1]},'Random Forest':{'criterion':['gini','entropy'],'n_estimators':[100,200], 'max_depth':[5,10,20]},'Reg Log':{'solver':['lbfgs','saga'],'max_iter':[5,10,15]} }\n",
        "    grid_obj = GridSearchCV(dict_classificators[classificator], parameters[classificator], cv=5, n_jobs=-1).fit(dict_matrix[matrix][0], y_train)\n",
        "    accuracy_train = grid_obj.best_score_\n",
        "    clf = grid_obj.best_estimator_\n",
        "    clf.fit(dict_matrix[matrix][0], y_train)\n",
        "    predictions = clf.predict(dict_matrix[matrix][1])\n",
        "    accuracy_test = accuracy_score(y_test, predictions)\n",
        "    diz_results[str(matrix)+';'+str(classificator)]={'tipo_matrice':type_matrix,'peso':weight, 'token':token, 'classificatore':classificator,'accuracy_train_cv':accuracy_train, 'accuracy_test':accuracy_test}\n",
        "\n",
        "ris = pd.DataFrame.from_dict(diz_results, orient='index').reset_index()\n",
        "\n",
        "# Si esportano i risultati in un file csv\n",
        "ris.to_csv('Risultati.csv')"
      ],
      "execution_count": 0,
      "outputs": [
        {
          "output_type": "stream",
          "text": [
            "/usr/local/lib/python3.6/dist-packages/joblib/externals/loky/process_executor.py:706: UserWarning: A worker stopped while some jobs were given to the executor. This can be caused by a too short worker timeout or by a memory leak.\n",
            "  \"timeout or by a memory leak.\", UserWarning\n",
            "/usr/local/lib/python3.6/dist-packages/joblib/externals/loky/process_executor.py:706: UserWarning: A worker stopped while some jobs were given to the executor. This can be caused by a too short worker timeout or by a memory leak.\n",
            "  \"timeout or by a memory leak.\", UserWarning\n",
            "/usr/local/lib/python3.6/dist-packages/joblib/externals/loky/process_executor.py:706: UserWarning: A worker stopped while some jobs were given to the executor. This can be caused by a too short worker timeout or by a memory leak.\n",
            "  \"timeout or by a memory leak.\", UserWarning\n",
            "/usr/local/lib/python3.6/dist-packages/joblib/externals/loky/process_executor.py:706: UserWarning: A worker stopped while some jobs were given to the executor. This can be caused by a too short worker timeout or by a memory leak.\n",
            "  \"timeout or by a memory leak.\", UserWarning\n",
            "/usr/local/lib/python3.6/dist-packages/sklearn/linear_model/_sag.py:330: ConvergenceWarning: The max_iter was reached which means the coef_ did not converge\n",
            "  \"the coef_ did not converge\", ConvergenceWarning)\n",
            "/usr/local/lib/python3.6/dist-packages/sklearn/linear_model/_sag.py:330: ConvergenceWarning: The max_iter was reached which means the coef_ did not converge\n",
            "  \"the coef_ did not converge\", ConvergenceWarning)\n",
            "/usr/local/lib/python3.6/dist-packages/sklearn/linear_model/_sag.py:330: ConvergenceWarning: The max_iter was reached which means the coef_ did not converge\n",
            "  \"the coef_ did not converge\", ConvergenceWarning)\n",
            "/usr/local/lib/python3.6/dist-packages/sklearn/linear_model/_sag.py:330: ConvergenceWarning: The max_iter was reached which means the coef_ did not converge\n",
            "  \"the coef_ did not converge\", ConvergenceWarning)\n",
            "/usr/local/lib/python3.6/dist-packages/sklearn/linear_model/_sag.py:330: ConvergenceWarning: The max_iter was reached which means the coef_ did not converge\n",
            "  \"the coef_ did not converge\", ConvergenceWarning)\n",
            "/usr/local/lib/python3.6/dist-packages/sklearn/linear_model/_sag.py:330: ConvergenceWarning: The max_iter was reached which means the coef_ did not converge\n",
            "  \"the coef_ did not converge\", ConvergenceWarning)\n",
            "/usr/local/lib/python3.6/dist-packages/sklearn/linear_model/_sag.py:330: ConvergenceWarning: The max_iter was reached which means the coef_ did not converge\n",
            "  \"the coef_ did not converge\", ConvergenceWarning)\n",
            "/usr/local/lib/python3.6/dist-packages/sklearn/linear_model/_sag.py:330: ConvergenceWarning: The max_iter was reached which means the coef_ did not converge\n",
            "  \"the coef_ did not converge\", ConvergenceWarning)\n",
            "/usr/local/lib/python3.6/dist-packages/joblib/externals/loky/process_executor.py:706: UserWarning: A worker stopped while some jobs were given to the executor. This can be caused by a too short worker timeout or by a memory leak.\n",
            "  \"timeout or by a memory leak.\", UserWarning\n",
            "/usr/local/lib/python3.6/dist-packages/joblib/externals/loky/process_executor.py:706: UserWarning: A worker stopped while some jobs were given to the executor. This can be caused by a too short worker timeout or by a memory leak.\n",
            "  \"timeout or by a memory leak.\", UserWarning\n",
            "/usr/local/lib/python3.6/dist-packages/sklearn/linear_model/_sag.py:330: ConvergenceWarning: The max_iter was reached which means the coef_ did not converge\n",
            "  \"the coef_ did not converge\", ConvergenceWarning)\n",
            "/usr/local/lib/python3.6/dist-packages/sklearn/linear_model/_sag.py:330: ConvergenceWarning: The max_iter was reached which means the coef_ did not converge\n",
            "  \"the coef_ did not converge\", ConvergenceWarning)\n",
            "/usr/local/lib/python3.6/dist-packages/sklearn/linear_model/_sag.py:330: ConvergenceWarning: The max_iter was reached which means the coef_ did not converge\n",
            "  \"the coef_ did not converge\", ConvergenceWarning)\n",
            "/usr/local/lib/python3.6/dist-packages/sklearn/linear_model/_sag.py:330: ConvergenceWarning: The max_iter was reached which means the coef_ did not converge\n",
            "  \"the coef_ did not converge\", ConvergenceWarning)\n"
          ],
          "name": "stderr"
        }
      ]
    },
    {
      "cell_type": "code",
      "metadata": {
        "id": "qDLwk8YMZjE_",
        "colab_type": "code",
        "outputId": "dd23d70e-4e82-4e79-bfb0-12ae3520890f",
        "colab": {
          "base_uri": "https://localhost:8080/",
          "height": 198
        }
      },
      "source": [
        "risultati = pd.read_excel('/content/drive/My Drive/RisultatiFinale.xlsx')\n",
        "risultati.head()"
      ],
      "execution_count": 7,
      "outputs": [
        {
          "output_type": "execute_result",
          "data": {
            "text/html": [
              "<div>\n",
              "<style scoped>\n",
              "    .dataframe tbody tr th:only-of-type {\n",
              "        vertical-align: middle;\n",
              "    }\n",
              "\n",
              "    .dataframe tbody tr th {\n",
              "        vertical-align: top;\n",
              "    }\n",
              "\n",
              "    .dataframe thead th {\n",
              "        text-align: right;\n",
              "    }\n",
              "</style>\n",
              "<table border=\"1\" class=\"dataframe\">\n",
              "  <thead>\n",
              "    <tr style=\"text-align: right;\">\n",
              "      <th></th>\n",
              "      <th>index</th>\n",
              "      <th>tipo_matrice</th>\n",
              "      <th>peso</th>\n",
              "      <th>token</th>\n",
              "      <th>classificatore</th>\n",
              "      <th>accuracy_train_cv</th>\n",
              "      <th>accuracy_test</th>\n",
              "    </tr>\n",
              "  </thead>\n",
              "  <tbody>\n",
              "    <tr>\n",
              "      <th>0</th>\n",
              "      <td>unigram_tfidf_stem_Naive Bayes</td>\n",
              "      <td>unigram</td>\n",
              "      <td>tfidf</td>\n",
              "      <td>stem</td>\n",
              "      <td>Naive Bayes</td>\n",
              "      <td>0.797267</td>\n",
              "      <td>0.776860</td>\n",
              "    </tr>\n",
              "    <tr>\n",
              "      <th>1</th>\n",
              "      <td>bigram_tfidf_stem_Naive Bayes</td>\n",
              "      <td>bigram</td>\n",
              "      <td>tfidf</td>\n",
              "      <td>stem</td>\n",
              "      <td>Naive Bayes</td>\n",
              "      <td>0.603867</td>\n",
              "      <td>0.565449</td>\n",
              "    </tr>\n",
              "    <tr>\n",
              "      <th>2</th>\n",
              "      <td>unigram_tfidf_lem_Naive Bayes</td>\n",
              "      <td>unigram</td>\n",
              "      <td>tfidf</td>\n",
              "      <td>lem</td>\n",
              "      <td>Naive Bayes</td>\n",
              "      <td>0.795800</td>\n",
              "      <td>0.781925</td>\n",
              "    </tr>\n",
              "    <tr>\n",
              "      <th>3</th>\n",
              "      <td>bigram_tfidf_lem_Naive Bayes</td>\n",
              "      <td>bigram</td>\n",
              "      <td>tfidf</td>\n",
              "      <td>lem</td>\n",
              "      <td>Naive Bayes</td>\n",
              "      <td>0.593667</td>\n",
              "      <td>0.556918</td>\n",
              "    </tr>\n",
              "    <tr>\n",
              "      <th>4</th>\n",
              "      <td>unigram_count_stem_Naive Bayes</td>\n",
              "      <td>unigram</td>\n",
              "      <td>count</td>\n",
              "      <td>stem</td>\n",
              "      <td>Naive Bayes</td>\n",
              "      <td>0.770533</td>\n",
              "      <td>0.760064</td>\n",
              "    </tr>\n",
              "  </tbody>\n",
              "</table>\n",
              "</div>"
            ],
            "text/plain": [
              "                            index  ... accuracy_test\n",
              "0  unigram_tfidf_stem_Naive Bayes  ...      0.776860\n",
              "1   bigram_tfidf_stem_Naive Bayes  ...      0.565449\n",
              "2   unigram_tfidf_lem_Naive Bayes  ...      0.781925\n",
              "3    bigram_tfidf_lem_Naive Bayes  ...      0.556918\n",
              "4  unigram_count_stem_Naive Bayes  ...      0.760064\n",
              "\n",
              "[5 rows x 7 columns]"
            ]
          },
          "metadata": {
            "tags": []
          },
          "execution_count": 7
        }
      ]
    },
    {
      "cell_type": "markdown",
      "metadata": {
        "id": "yXYGtfelql5i",
        "colab_type": "text"
      },
      "source": [
        "Il tipo di rappresentazione mediamente più performante è decisamente quella unigram"
      ]
    },
    {
      "cell_type": "code",
      "metadata": {
        "id": "ezGEaeJDqkBj",
        "colab_type": "code",
        "outputId": "754e1ff1-4aab-45f8-a69f-f346271a0840",
        "colab": {
          "base_uri": "https://localhost:8080/",
          "height": 320
        }
      },
      "source": [
        "groups = risultati.groupby('tipo_matrice')['accuracy_test'].mean()\n",
        "plt.figure(figsize=(9,5))\n",
        "ax = groups.plot.barh(x='accuracy_test', y='tipo_matrice')"
      ],
      "execution_count": 8,
      "outputs": [
        {
          "output_type": "display_data",
          "data": {
            "image/png": "[encoded data removed]",
            "text/plain": [
              "<Figure size 648x360 with 1 Axes>"
            ]
          },
          "metadata": {
            "tags": []
          }
        }
      ]
    },
    {
      "cell_type": "markdown",
      "metadata": {
        "id": "PyDT7SEeqviV",
        "colab_type": "text"
      },
      "source": [
        "Non sembra esserci mediamente grossa distinzione tra i tre pesi, il più performante risulta quello tfidf"
      ]
    },
    {
      "cell_type": "code",
      "metadata": {
        "id": "mM4Zllg5qxm-",
        "colab_type": "code",
        "outputId": "ca7bb3e9-32c4-43cf-f244-ec98d5a0890b",
        "colab": {
          "base_uri": "https://localhost:8080/",
          "height": 320
        }
      },
      "source": [
        "groups= risultati.groupby('peso')['accuracy_test'].mean()\n",
        "plt.figure(figsize=(9,5))\n",
        "ax = groups.plot.barh(x='accuracy_test', y='peso')"
      ],
      "execution_count": 9,
      "outputs": [
        {
          "output_type": "display_data",
          "data": {
            "image/png": "[encoded data removed]",
            "text/plain": [
              "<Figure size 648x360 with 1 Axes>"
            ]
          },
          "metadata": {
            "tags": []
          }
        }
      ]
    },
    {
      "cell_type": "markdown",
      "metadata": {
        "id": "b633y33cq7E7",
        "colab_type": "text"
      },
      "source": [
        "Mediamente l'operazione di stemming aumenta l'accuracy di 0.6 punti percentuali"
      ]
    },
    {
      "cell_type": "code",
      "metadata": {
        "id": "KIyBccWSq3jK",
        "colab_type": "code",
        "outputId": "b6cd0bcc-3ab0-43e9-8dfd-647437c57e94",
        "colab": {
          "base_uri": "https://localhost:8080/",
          "height": 320
        }
      },
      "source": [
        "groups=risultati.groupby('token')['accuracy_test'].mean()\n",
        "plt.figure(figsize=(9,5))\n",
        "ax = groups.plot.barh(x='accuracy_test', y='token')"
      ],
      "execution_count": 10,
      "outputs": [
        {
          "output_type": "display_data",
          "data": {
            "image/png": "[encoded data removed]",
            "text/plain": [
              "<Figure size 648x360 with 1 Axes>"
            ]
          },
          "metadata": {
            "tags": []
          }
        }
      ]
    },
    {
      "cell_type": "markdown",
      "metadata": {
        "id": "b4FO9oiXrADy",
        "colab_type": "text"
      },
      "source": [
        "Il classificatore mediamente più performante è il MultiNomial NB, segue la regressione logisticsa e con notevole distacco la random forest"
      ]
    },
    {
      "cell_type": "code",
      "metadata": {
        "id": "IyRD54dKq-4p",
        "colab_type": "code",
        "outputId": "ce73d4c3-e6b8-4494-8b25-ef2bf38d7435",
        "colab": {
          "base_uri": "https://localhost:8080/",
          "height": 320
        }
      },
      "source": [
        "groups=risultati.groupby('classificatore')['accuracy_test'].mean()\n",
        "plt.figure(figsize=(9,5))\n",
        "ax = groups.plot.barh(x='accuracy_test', y='classificatore')"
      ],
      "execution_count": 0,
      "outputs": [
        {
          "output_type": "display_data",
          "data": {
            "image/png": "[encoded data removed]",
            "text/plain": [
              "<Figure size 648x360 with 1 Axes>"
            ]
          },
          "metadata": {
            "tags": []
          }
        }
      ]
    },
    {
      "cell_type": "markdown",
      "metadata": {
        "id": "uD_zKrHKrJaA",
        "colab_type": "text"
      },
      "source": [
        "Il multinomial naive bayes e la regressione logistica ottengono un'accuracy superiore al 75% utilizzando le due matrici unigram con pesi tfidf:"
      ]
    },
    {
      "cell_type": "code",
      "metadata": {
        "id": "FR17RMMErEtQ",
        "colab_type": "code",
        "outputId": "9bb3848a-03f1-4cd8-fd60-55d4d2e56498",
        "colab": {
          "base_uri": "https://localhost:8080/",
          "height": 1000
        }
      },
      "source": [
        "risultati.sort_values('accuracy_test', ascending=False)"
      ],
      "execution_count": 12,
      "outputs": [
        {
          "output_type": "execute_result",
          "data": {
            "text/html": [
              "<div>\n",
              "<style scoped>\n",
              "    .dataframe tbody tr th:only-of-type {\n",
              "        vertical-align: middle;\n",
              "    }\n",
              "\n",
              "    .dataframe tbody tr th {\n",
              "        vertical-align: top;\n",
              "    }\n",
              "\n",
              "    .dataframe thead th {\n",
              "        text-align: right;\n",
              "    }\n",
              "</style>\n",
              "<table border=\"1\" class=\"dataframe\">\n",
              "  <thead>\n",
              "    <tr style=\"text-align: right;\">\n",
              "      <th></th>\n",
              "      <th>index</th>\n",
              "      <th>tipo_matrice</th>\n",
              "      <th>peso</th>\n",
              "      <th>token</th>\n",
              "      <th>classificatore</th>\n",
              "      <th>accuracy_train_cv</th>\n",
              "      <th>accuracy_test</th>\n",
              "    </tr>\n",
              "  </thead>\n",
              "  <tbody>\n",
              "    <tr>\n",
              "      <th>2</th>\n",
              "      <td>unigram_tfidf_lem_Naive Bayes</td>\n",
              "      <td>unigram</td>\n",
              "      <td>tfidf</td>\n",
              "      <td>lem</td>\n",
              "      <td>Naive Bayes</td>\n",
              "      <td>0.795800</td>\n",
              "      <td>0.781925</td>\n",
              "    </tr>\n",
              "    <tr>\n",
              "      <th>0</th>\n",
              "      <td>unigram_tfidf_stem_Naive Bayes</td>\n",
              "      <td>unigram</td>\n",
              "      <td>tfidf</td>\n",
              "      <td>stem</td>\n",
              "      <td>Naive Bayes</td>\n",
              "      <td>0.797267</td>\n",
              "      <td>0.776860</td>\n",
              "    </tr>\n",
              "    <tr>\n",
              "      <th>8</th>\n",
              "      <td>unigram_binary_stem_Naive Bayes</td>\n",
              "      <td>unigram</td>\n",
              "      <td>binary</td>\n",
              "      <td>stem</td>\n",
              "      <td>Naive Bayes</td>\n",
              "      <td>0.776667</td>\n",
              "      <td>0.772594</td>\n",
              "    </tr>\n",
              "    <tr>\n",
              "      <th>10</th>\n",
              "      <td>unigram_binary_lem_Naive Bayes</td>\n",
              "      <td>unigram</td>\n",
              "      <td>binary</td>\n",
              "      <td>lem</td>\n",
              "      <td>Naive Bayes</td>\n",
              "      <td>0.775400</td>\n",
              "      <td>0.768595</td>\n",
              "    </tr>\n",
              "    <tr>\n",
              "      <th>26</th>\n",
              "      <td>unigram_tfidf_lem,Reg Log</td>\n",
              "      <td>unigram</td>\n",
              "      <td>tfidf</td>\n",
              "      <td>lem</td>\n",
              "      <td>Reg Log</td>\n",
              "      <td>0.776067</td>\n",
              "      <td>0.766729</td>\n",
              "    </tr>\n",
              "    <tr>\n",
              "      <th>24</th>\n",
              "      <td>unigram_tfidf_stem_Reg Log</td>\n",
              "      <td>unigram</td>\n",
              "      <td>tfidf</td>\n",
              "      <td>stem</td>\n",
              "      <td>Reg Log</td>\n",
              "      <td>0.778733</td>\n",
              "      <td>0.762730</td>\n",
              "    </tr>\n",
              "    <tr>\n",
              "      <th>6</th>\n",
              "      <td>unigram_count_lem_Naive Bayes</td>\n",
              "      <td>unigram</td>\n",
              "      <td>count</td>\n",
              "      <td>lem</td>\n",
              "      <td>Naive Bayes</td>\n",
              "      <td>0.771333</td>\n",
              "      <td>0.762463</td>\n",
              "    </tr>\n",
              "    <tr>\n",
              "      <th>4</th>\n",
              "      <td>unigram_count_stem_Naive Bayes</td>\n",
              "      <td>unigram</td>\n",
              "      <td>count</td>\n",
              "      <td>stem</td>\n",
              "      <td>Naive Bayes</td>\n",
              "      <td>0.770533</td>\n",
              "      <td>0.760064</td>\n",
              "    </tr>\n",
              "    <tr>\n",
              "      <th>30</th>\n",
              "      <td>unigram_count_lem_Reg Log</td>\n",
              "      <td>unigram</td>\n",
              "      <td>count</td>\n",
              "      <td>lem</td>\n",
              "      <td>Reg Log</td>\n",
              "      <td>0.741267</td>\n",
              "      <td>0.738470</td>\n",
              "    </tr>\n",
              "    <tr>\n",
              "      <th>28</th>\n",
              "      <td>unigram_count_stem_Reg Log</td>\n",
              "      <td>unigram</td>\n",
              "      <td>count</td>\n",
              "      <td>stem</td>\n",
              "      <td>Reg Log</td>\n",
              "      <td>0.736800</td>\n",
              "      <td>0.735004</td>\n",
              "    </tr>\n",
              "    <tr>\n",
              "      <th>34</th>\n",
              "      <td>unigram_binary_lem_Reg Log</td>\n",
              "      <td>unigram</td>\n",
              "      <td>binary</td>\n",
              "      <td>lem</td>\n",
              "      <td>Reg Log</td>\n",
              "      <td>0.735267</td>\n",
              "      <td>0.728073</td>\n",
              "    </tr>\n",
              "    <tr>\n",
              "      <th>32</th>\n",
              "      <td>unigram_binary_stem_Reg Log</td>\n",
              "      <td>unigram</td>\n",
              "      <td>binary</td>\n",
              "      <td>stem</td>\n",
              "      <td>Reg Log</td>\n",
              "      <td>0.737333</td>\n",
              "      <td>0.726473</td>\n",
              "    </tr>\n",
              "    <tr>\n",
              "      <th>12</th>\n",
              "      <td>unigram_tfidf_stem_Random Forest</td>\n",
              "      <td>unigram</td>\n",
              "      <td>tfidf</td>\n",
              "      <td>stem</td>\n",
              "      <td>Random Forest</td>\n",
              "      <td>0.681067</td>\n",
              "      <td>0.683818</td>\n",
              "    </tr>\n",
              "    <tr>\n",
              "      <th>20</th>\n",
              "      <td>unigram_binary_stem_Random Forest</td>\n",
              "      <td>unigram</td>\n",
              "      <td>binary</td>\n",
              "      <td>stem</td>\n",
              "      <td>Random Forest</td>\n",
              "      <td>0.678667</td>\n",
              "      <td>0.683551</td>\n",
              "    </tr>\n",
              "    <tr>\n",
              "      <th>14</th>\n",
              "      <td>unigram_tfidf_lem_Random Forest</td>\n",
              "      <td>unigram</td>\n",
              "      <td>tfidf</td>\n",
              "      <td>lem</td>\n",
              "      <td>Random Forest</td>\n",
              "      <td>0.676133</td>\n",
              "      <td>0.673954</td>\n",
              "    </tr>\n",
              "    <tr>\n",
              "      <th>22</th>\n",
              "      <td>unigram_binary_lem_Random Forest</td>\n",
              "      <td>unigram</td>\n",
              "      <td>binary</td>\n",
              "      <td>lem</td>\n",
              "      <td>Random Forest</td>\n",
              "      <td>0.679533</td>\n",
              "      <td>0.673154</td>\n",
              "    </tr>\n",
              "    <tr>\n",
              "      <th>16</th>\n",
              "      <td>unigram_count_stem_Random Forest</td>\n",
              "      <td>unigram</td>\n",
              "      <td>count</td>\n",
              "      <td>stem</td>\n",
              "      <td>Random Forest</td>\n",
              "      <td>0.677400</td>\n",
              "      <td>0.667822</td>\n",
              "    </tr>\n",
              "    <tr>\n",
              "      <th>18</th>\n",
              "      <td>unigram_count_lem_Random Forest</td>\n",
              "      <td>unigram</td>\n",
              "      <td>count</td>\n",
              "      <td>lem</td>\n",
              "      <td>Random Forest</td>\n",
              "      <td>0.675867</td>\n",
              "      <td>0.667555</td>\n",
              "    </tr>\n",
              "    <tr>\n",
              "      <th>1</th>\n",
              "      <td>bigram_tfidf_stem_Naive Bayes</td>\n",
              "      <td>bigram</td>\n",
              "      <td>tfidf</td>\n",
              "      <td>stem</td>\n",
              "      <td>Naive Bayes</td>\n",
              "      <td>0.603867</td>\n",
              "      <td>0.565449</td>\n",
              "    </tr>\n",
              "    <tr>\n",
              "      <th>3</th>\n",
              "      <td>bigram_tfidf_lem_Naive Bayes</td>\n",
              "      <td>bigram</td>\n",
              "      <td>tfidf</td>\n",
              "      <td>lem</td>\n",
              "      <td>Naive Bayes</td>\n",
              "      <td>0.593667</td>\n",
              "      <td>0.556918</td>\n",
              "    </tr>\n",
              "    <tr>\n",
              "      <th>25</th>\n",
              "      <td>bigram_tfidf_stem_Reg Log</td>\n",
              "      <td>bigram</td>\n",
              "      <td>tfidf</td>\n",
              "      <td>stem</td>\n",
              "      <td>Reg Log</td>\n",
              "      <td>0.585400</td>\n",
              "      <td>0.556118</td>\n",
              "    </tr>\n",
              "    <tr>\n",
              "      <th>27</th>\n",
              "      <td>bigram_tfidf_lem_Reg Log</td>\n",
              "      <td>bigram</td>\n",
              "      <td>tfidf</td>\n",
              "      <td>lem</td>\n",
              "      <td>Reg Log</td>\n",
              "      <td>0.574067</td>\n",
              "      <td>0.544655</td>\n",
              "    </tr>\n",
              "    <tr>\n",
              "      <th>5</th>\n",
              "      <td>bigram_count_stem_Naive Bayes</td>\n",
              "      <td>bigram</td>\n",
              "      <td>count</td>\n",
              "      <td>stem</td>\n",
              "      <td>Naive Bayes</td>\n",
              "      <td>0.573400</td>\n",
              "      <td>0.542255</td>\n",
              "    </tr>\n",
              "    <tr>\n",
              "      <th>9</th>\n",
              "      <td>bigram_binary_stem_Naive Bayes</td>\n",
              "      <td>bigram</td>\n",
              "      <td>binary</td>\n",
              "      <td>stem</td>\n",
              "      <td>Naive Bayes</td>\n",
              "      <td>0.574467</td>\n",
              "      <td>0.541456</td>\n",
              "    </tr>\n",
              "    <tr>\n",
              "      <th>11</th>\n",
              "      <td>bigram_binary_lem_Naive Bayes</td>\n",
              "      <td>bigram</td>\n",
              "      <td>binary</td>\n",
              "      <td>lem</td>\n",
              "      <td>Naive Bayes</td>\n",
              "      <td>0.567733</td>\n",
              "      <td>0.536657</td>\n",
              "    </tr>\n",
              "    <tr>\n",
              "      <th>29</th>\n",
              "      <td>bigram_count_stem_Reg Log</td>\n",
              "      <td>bigram</td>\n",
              "      <td>count</td>\n",
              "      <td>stem</td>\n",
              "      <td>Reg Log</td>\n",
              "      <td>0.558067</td>\n",
              "      <td>0.535857</td>\n",
              "    </tr>\n",
              "    <tr>\n",
              "      <th>7</th>\n",
              "      <td>bigram_count_lem_Naive Bayes</td>\n",
              "      <td>bigram</td>\n",
              "      <td>count</td>\n",
              "      <td>lem</td>\n",
              "      <td>Naive Bayes</td>\n",
              "      <td>0.564867</td>\n",
              "      <td>0.533724</td>\n",
              "    </tr>\n",
              "    <tr>\n",
              "      <th>33</th>\n",
              "      <td>bigram_binary_stem_Reg Log</td>\n",
              "      <td>bigram</td>\n",
              "      <td>binary</td>\n",
              "      <td>stem</td>\n",
              "      <td>Reg Log</td>\n",
              "      <td>0.559867</td>\n",
              "      <td>0.533458</td>\n",
              "    </tr>\n",
              "    <tr>\n",
              "      <th>35</th>\n",
              "      <td>bigram_binary_lem_Reg Log</td>\n",
              "      <td>bigram</td>\n",
              "      <td>binary</td>\n",
              "      <td>lem</td>\n",
              "      <td>Reg Log</td>\n",
              "      <td>0.550333</td>\n",
              "      <td>0.529725</td>\n",
              "    </tr>\n",
              "    <tr>\n",
              "      <th>31</th>\n",
              "      <td>bigram_count_lem_Reg Log</td>\n",
              "      <td>bigram</td>\n",
              "      <td>count</td>\n",
              "      <td>lem</td>\n",
              "      <td>Reg Log</td>\n",
              "      <td>0.552667</td>\n",
              "      <td>0.523594</td>\n",
              "    </tr>\n",
              "    <tr>\n",
              "      <th>13</th>\n",
              "      <td>bigram_tfidf_stem_Random Forest</td>\n",
              "      <td>bigram</td>\n",
              "      <td>tfidf</td>\n",
              "      <td>stem</td>\n",
              "      <td>Random Forest</td>\n",
              "      <td>0.397733</td>\n",
              "      <td>0.396428</td>\n",
              "    </tr>\n",
              "    <tr>\n",
              "      <th>17</th>\n",
              "      <td>bigram_count_stem_Random Forest</td>\n",
              "      <td>bigram</td>\n",
              "      <td>count</td>\n",
              "      <td>stem</td>\n",
              "      <td>Random Forest</td>\n",
              "      <td>0.393267</td>\n",
              "      <td>0.396428</td>\n",
              "    </tr>\n",
              "    <tr>\n",
              "      <th>15</th>\n",
              "      <td>bigram_tfidf_lem_Random Forest</td>\n",
              "      <td>bigram</td>\n",
              "      <td>tfidf</td>\n",
              "      <td>lem</td>\n",
              "      <td>Random Forest</td>\n",
              "      <td>0.388133</td>\n",
              "      <td>0.393495</td>\n",
              "    </tr>\n",
              "    <tr>\n",
              "      <th>21</th>\n",
              "      <td>bigram_binary_stem_Random Forest</td>\n",
              "      <td>bigram</td>\n",
              "      <td>binary</td>\n",
              "      <td>stem</td>\n",
              "      <td>Random Forest</td>\n",
              "      <td>0.396200</td>\n",
              "      <td>0.391362</td>\n",
              "    </tr>\n",
              "    <tr>\n",
              "      <th>23</th>\n",
              "      <td>bigram_binary_lem_Random Forest</td>\n",
              "      <td>bigram</td>\n",
              "      <td>binary</td>\n",
              "      <td>lem</td>\n",
              "      <td>Random Forest</td>\n",
              "      <td>0.387067</td>\n",
              "      <td>0.383364</td>\n",
              "    </tr>\n",
              "    <tr>\n",
              "      <th>19</th>\n",
              "      <td>bigram_count_lem_Random Forest</td>\n",
              "      <td>bigram</td>\n",
              "      <td>count</td>\n",
              "      <td>lem</td>\n",
              "      <td>Random Forest</td>\n",
              "      <td>0.385400</td>\n",
              "      <td>0.379366</td>\n",
              "    </tr>\n",
              "  </tbody>\n",
              "</table>\n",
              "</div>"
            ],
            "text/plain": [
              "                                index  ... accuracy_test\n",
              "2       unigram_tfidf_lem_Naive Bayes  ...      0.781925\n",
              "0      unigram_tfidf_stem_Naive Bayes  ...      0.776860\n",
              "8     unigram_binary_stem_Naive Bayes  ...      0.772594\n",
              "10     unigram_binary_lem_Naive Bayes  ...      0.768595\n",
              "26          unigram_tfidf_lem,Reg Log  ...      0.766729\n",
              "24         unigram_tfidf_stem_Reg Log  ...      0.762730\n",
              "6       unigram_count_lem_Naive Bayes  ...      0.762463\n",
              "4      unigram_count_stem_Naive Bayes  ...      0.760064\n",
              "30          unigram_count_lem_Reg Log  ...      0.738470\n",
              "28         unigram_count_stem_Reg Log  ...      0.735004\n",
              "34         unigram_binary_lem_Reg Log  ...      0.728073\n",
              "32        unigram_binary_stem_Reg Log  ...      0.726473\n",
              "12   unigram_tfidf_stem_Random Forest  ...      0.683818\n",
              "20  unigram_binary_stem_Random Forest  ...      0.683551\n",
              "14    unigram_tfidf_lem_Random Forest  ...      0.673954\n",
              "22   unigram_binary_lem_Random Forest  ...      0.673154\n",
              "16   unigram_count_stem_Random Forest  ...      0.667822\n",
              "18    unigram_count_lem_Random Forest  ...      0.667555\n",
              "1       bigram_tfidf_stem_Naive Bayes  ...      0.565449\n",
              "3        bigram_tfidf_lem_Naive Bayes  ...      0.556918\n",
              "25          bigram_tfidf_stem_Reg Log  ...      0.556118\n",
              "27           bigram_tfidf_lem_Reg Log  ...      0.544655\n",
              "5       bigram_count_stem_Naive Bayes  ...      0.542255\n",
              "9      bigram_binary_stem_Naive Bayes  ...      0.541456\n",
              "11      bigram_binary_lem_Naive Bayes  ...      0.536657\n",
              "29          bigram_count_stem_Reg Log  ...      0.535857\n",
              "7        bigram_count_lem_Naive Bayes  ...      0.533724\n",
              "33         bigram_binary_stem_Reg Log  ...      0.533458\n",
              "35          bigram_binary_lem_Reg Log  ...      0.529725\n",
              "31           bigram_count_lem_Reg Log  ...      0.523594\n",
              "13    bigram_tfidf_stem_Random Forest  ...      0.396428\n",
              "17    bigram_count_stem_Random Forest  ...      0.396428\n",
              "15     bigram_tfidf_lem_Random Forest  ...      0.393495\n",
              "21   bigram_binary_stem_Random Forest  ...      0.391362\n",
              "23    bigram_binary_lem_Random Forest  ...      0.383364\n",
              "19     bigram_count_lem_Random Forest  ...      0.379366\n",
              "\n",
              "[36 rows x 7 columns]"
            ]
          },
          "metadata": {
            "tags": []
          },
          "execution_count": 12
        }
      ]
    },
    {
      "cell_type": "markdown",
      "metadata": {
        "id": "N7qor2HpsmcN",
        "colab_type": "text"
      },
      "source": [
        "# TOPIC MODELLING"
      ]
    },
    {
      "cell_type": "markdown",
      "metadata": {
        "id": "xTNoUPy-8Tln",
        "colab_type": "text"
      },
      "source": [
        "# LDA Unigram - tf-idf - lem "
      ]
    },
    {
      "cell_type": "code",
      "metadata": {
        "id": "owOyzEGsEy9C",
        "colab_type": "code",
        "colab": {}
      },
      "source": [
        "data_token_lem_tfidf = tfidf.fit_transform(df.token_lem)"
      ],
      "execution_count": 0,
      "outputs": []
    },
    {
      "cell_type": "code",
      "metadata": {
        "id": "VNVUd3izkkj5",
        "colab_type": "code",
        "outputId": "42e571a7-4746-4457-d59b-19acba8aa4e4",
        "colab": {
          "base_uri": "https://localhost:8080/",
          "height": 399
        }
      },
      "source": [
        "# Parametri di ricerca\n",
        "search_params = {'n_components': [5,10, 15, 20, 25, 30], 'learning_decay': [.5, .7, .9]}\n",
        "\n",
        "# Inizializzazione Modello\n",
        "lda = LatentDirichletAllocation()\n",
        "\n",
        "# Inizializzazione GridSearchCV\n",
        "model = GridSearchCV(lda, param_grid=search_params)\n",
        "\n",
        "# Grid Search\n",
        "model.fit(data_token_lem_tfidf)"
      ],
      "execution_count": 0,
      "outputs": [
        {
          "output_type": "execute_result",
          "data": {
            "text/plain": [
              "GridSearchCV(cv=None, error_score=nan,\n",
              "             estimator=LatentDirichletAllocation(batch_size=128,\n",
              "                                                 doc_topic_prior=None,\n",
              "                                                 evaluate_every=-1,\n",
              "                                                 learning_decay=0.7,\n",
              "                                                 learning_method='batch',\n",
              "                                                 learning_offset=10.0,\n",
              "                                                 max_doc_update_iter=100,\n",
              "                                                 max_iter=10,\n",
              "                                                 mean_change_tol=0.001,\n",
              "                                                 n_components=10, n_jobs=None,\n",
              "                                                 perp_tol=0.1,\n",
              "                                                 random_state=None,\n",
              "                                                 topic_word_prior=None,\n",
              "                                                 total_samples=1000000.0,\n",
              "                                                 verbose=0),\n",
              "             iid='deprecated', n_jobs=None,\n",
              "             param_grid={'learning_decay': [0.5, 0.7, 0.9],\n",
              "                         'n_components': [5, 10, 15, 20, 25, 30]},\n",
              "             pre_dispatch='2*n_jobs', refit=True, return_train_score=False,\n",
              "             scoring=None, verbose=0)"
            ]
          },
          "metadata": {
            "tags": []
          },
          "execution_count": 34
        }
      ]
    },
    {
      "cell_type": "code",
      "metadata": {
        "id": "2ZgqaBtzkzDH",
        "colab_type": "code",
        "outputId": "2281ec91-c1ff-43fa-dec7-0b6eb3c02b11",
        "colab": {
          "base_uri": "https://localhost:8080/",
          "height": 72
        }
      },
      "source": [
        "# Stimato il Miglior modello \n",
        "best_lda_model = model.best_estimator_\n",
        "\n",
        "# Parametri del modello\n",
        "print(\"Best Model Params: \", model.best_params_)\n",
        "\n",
        "# Log Likelihood Score\n",
        "print(\"Best Log Likelihood Score: \", model.best_score_)\n",
        "\n",
        "# Perplessità\n",
        "print(\"Model Perplexity: \", best_lda_model.perplexity(data_token_lem_tfidf))"
      ],
      "execution_count": 0,
      "outputs": [
        {
          "output_type": "stream",
          "text": [
            "Best Model Params:  {'learning_decay': 0.5, 'n_components': 5}\n",
            "Best Log Likelihood Score:  -278073.29354869557\n",
            "Model Perplexity:  14856.56428175412\n"
          ],
          "name": "stdout"
        }
      ]
    },
    {
      "cell_type": "code",
      "metadata": {
        "id": "iQP825s_lI41",
        "colab_type": "code",
        "outputId": "238a5791-3197-4618-dcfb-01de28304e39",
        "colab": {
          "base_uri": "https://localhost:8080/",
          "height": 1000
        }
      },
      "source": [
        "pyLDAvis.enable_notebook()\n",
        "vis = pyLDAvis.sklearn.prepare(best_lda_model, data_token_lem_tfidf, tfidf, mds='tsne')\n",
        "vis"
      ],
      "execution_count": 0,
      "outputs": [
        {
          "output_type": "stream",
          "text": [
            "/usr/local/lib/python3.6/dist-packages/pyLDAvis/_prepare.py:257: FutureWarning: Sorting because non-concatenation axis is not aligned. A future version\n",
            "of pandas will change to not sort by default.\n",
            "\n",
            "To accept the future behavior, pass 'sort=False'.\n",
            "\n",
            "To retain the current behavior and silence the warning, pass 'sort=True'.\n",
            "\n",
            "  return pd.concat([default_term_info] + list(topic_dfs))\n"
          ],
          "name": "stderr"
        },
        {
          "output_type": "execute_result",
          "data": {
            "text/html": [
              "\n",
              "<link rel=\"stylesheet\" type=\"text/css\" href=\"https://cdn.rawgit.com/bmabey/pyLDAvis/files/ldavis.v1.0.0.css\">\n",
              "\n",
              "\n",
              "<div id=\"ldavis_el1441402881001219608533248177\"></div>\n",
              "<script type=\"text/javascript\">\n",
              "\n",
              "var ldavis_el1441402881001219608533248177_data = {\"mdsDat\": {\"x\": [150.22215270996094, 51.16336441040039, -73.1445541381836, -66.4101333618164, 54.41732406616211], \"y\": [-72.2695541381836, -159.968017578125, 21.523815155029297, -110.60643768310547, 12.44344425201416], \"topics\": [1, 2, 3, 4, 5], \"cluster\": [1, 1, 1, 1, 1], \"Freq\": [47.312550836545384, 35.75525488171572, 9.385045745822746, 4.223581543205065, 3.323566992711101]}, \"tinfo\": {\"Category\": [\"Default\", \"Default\", \"Default\", \"Default\", \"Default\", \"Default\", \"Default\", \"Default\", \"Default\", \"Default\", \"Default\", \"Default\", \"Default\", \"Default\", \"Default\", \"Default\", \"Default\", \"Default\", \"Default\", \"Default\", \"Default\", \"Default\", \"Default\", \"Default\", \"Default\", \"Default\", \"Default\", \"Default\", \"Default\", \"Default\", \"Topic1\", \"Topic1\", \"Topic1\", \"Topic1\", \"Topic1\", \"Topic1\", \"Topic1\", \"Topic1\", \"Topic1\", \"Topic1\", \"Topic1\", \"Topic1\", \"Topic1\", \"Topic1\", \"Topic1\", \"Topic1\", \"Topic1\", \"Topic1\", \"Topic1\", \"Topic1\", \"Topic1\", \"Topic1\", \"Topic1\", \"Topic1\", \"Topic1\", \"Topic1\", \"Topic1\", \"Topic1\", \"Topic1\", \"Topic1\", \"Topic1\", \"Topic1\", \"Topic1\", \"Topic1\", \"Topic1\", \"Topic1\", \"Topic1\", \"Topic1\", \"Topic1\", \"Topic1\", \"Topic1\", \"Topic1\", \"Topic1\", \"Topic1\", \"Topic1\", \"Topic1\", \"Topic1\", \"Topic1\", \"Topic1\", \"Topic1\", \"Topic1\", \"Topic1\", \"Topic1\", \"Topic1\", \"Topic1\", \"Topic1\", \"Topic1\", \"Topic1\", \"Topic1\", \"Topic1\", \"Topic1\", \"Topic1\", \"Topic1\", \"Topic1\", \"Topic1\", \"Topic1\", \"Topic1\", \"Topic1\", \"Topic1\", \"Topic1\", \"Topic1\", \"Topic1\", \"Topic1\", \"Topic1\", \"Topic2\", \"Topic2\", \"Topic2\", \"Topic2\", \"Topic2\", \"Topic2\", \"Topic2\", \"Topic2\", \"Topic2\", \"Topic2\", \"Topic2\", \"Topic2\", \"Topic2\", \"Topic2\", \"Topic2\", \"Topic2\", \"Topic2\", \"Topic2\", \"Topic2\", \"Topic2\", \"Topic2\", \"Topic2\", \"Topic2\", \"Topic2\", \"Topic2\", \"Topic2\", \"Topic2\", \"Topic2\", \"Topic2\", \"Topic2\", \"Topic2\", \"Topic2\", \"Topic2\", \"Topic2\", \"Topic2\", \"Topic2\", \"Topic2\", \"Topic2\", \"Topic2\", \"Topic2\", \"Topic2\", \"Topic2\", \"Topic2\", \"Topic2\", \"Topic2\", \"Topic2\", \"Topic2\", \"Topic2\", \"Topic2\", \"Topic2\", \"Topic2\", \"Topic2\", \"Topic2\", \"Topic2\", \"Topic2\", \"Topic2\", \"Topic2\", \"Topic2\", \"Topic2\", \"Topic2\", \"Topic2\", \"Topic2\", \"Topic2\", \"Topic2\", \"Topic2\", \"Topic2\", \"Topic2\", \"Topic2\", \"Topic2\", \"Topic2\", \"Topic2\", \"Topic2\", \"Topic3\", \"Topic3\", \"Topic3\", \"Topic3\", \"Topic3\", \"Topic3\", \"Topic3\", \"Topic3\", \"Topic3\", \"Topic3\", \"Topic3\", \"Topic3\", \"Topic3\", \"Topic3\", \"Topic3\", \"Topic3\", \"Topic3\", \"Topic3\", \"Topic3\", \"Topic3\", \"Topic3\", \"Topic3\", \"Topic3\", \"Topic3\", \"Topic3\", \"Topic3\", \"Topic3\", \"Topic3\", \"Topic3\", \"Topic3\", \"Topic3\", \"Topic3\", \"Topic3\", \"Topic3\", \"Topic3\", \"Topic3\", \"Topic3\", \"Topic3\", \"Topic3\", \"Topic3\", \"Topic3\", \"Topic3\", \"Topic3\", \"Topic3\", \"Topic3\", \"Topic3\", \"Topic3\", \"Topic3\", \"Topic3\", \"Topic3\", \"Topic3\", \"Topic3\", \"Topic3\", \"Topic3\", \"Topic3\", \"Topic3\", \"Topic3\", \"Topic3\", \"Topic3\", \"Topic3\", \"Topic4\", \"Topic4\", \"Topic4\", \"Topic4\", \"Topic4\", \"Topic4\", \"Topic4\", \"Topic4\", \"Topic4\", \"Topic4\", \"Topic4\", \"Topic4\", \"Topic4\", \"Topic4\", \"Topic4\", \"Topic4\", \"Topic4\", \"Topic4\", \"Topic4\", \"Topic4\", \"Topic4\", \"Topic4\", \"Topic4\", \"Topic4\", \"Topic4\", \"Topic4\", \"Topic4\", \"Topic4\", \"Topic4\", \"Topic4\", \"Topic4\", \"Topic4\", \"Topic4\", \"Topic4\", \"Topic4\", \"Topic4\", \"Topic4\", \"Topic4\", \"Topic4\", \"Topic4\", \"Topic4\", \"Topic4\", \"Topic4\", \"Topic4\", \"Topic4\", \"Topic4\", \"Topic4\", \"Topic4\", \"Topic4\", \"Topic4\", \"Topic4\", \"Topic4\", \"Topic4\", \"Topic4\", \"Topic4\", \"Topic5\", \"Topic5\", \"Topic5\", \"Topic5\", \"Topic5\", \"Topic5\", \"Topic5\", \"Topic5\", \"Topic5\", \"Topic5\", \"Topic5\", \"Topic5\", \"Topic5\", \"Topic5\", \"Topic5\", \"Topic5\", \"Topic5\", \"Topic5\", \"Topic5\", \"Topic5\", \"Topic5\", \"Topic5\", \"Topic5\", \"Topic5\", \"Topic5\", \"Topic5\", \"Topic5\", \"Topic5\", \"Topic5\", \"Topic5\", \"Topic5\", \"Topic5\", \"Topic5\", \"Topic5\", \"Topic5\", \"Topic5\", \"Topic5\", \"Topic5\", \"Topic5\", \"Topic5\", \"Topic5\", \"Topic5\", \"Topic5\", \"Topic5\", \"Topic5\", \"Topic5\", \"Topic5\", \"Topic5\", \"Topic5\", \"Topic5\", \"Topic5\", \"Topic5\", \"Topic5\", \"Topic5\", \"Topic5\"], \"Freq\": [140.0, 71.0, 58.0, 148.0, 48.0, 70.0, 44.0, 156.0, 211.0, 107.0, 119.0, 31.0, 35.0, 85.0, 115.0, 113.0, 46.0, 152.0, 30.0, 24.0, 73.0, 37.0, 73.0, 30.0, 32.0, 38.0, 97.0, 21.0, 151.0, 20.0, 83.74563388173536, 43.68626151574522, 43.54174613745151, 39.98273364518069, 38.976724190838105, 36.61408417163436, 37.689650296899224, 92.04848108042377, 36.14798986167587, 27.984579423835466, 25.29234302485359, 26.28771213382947, 25.502311782567, 23.91452377114912, 34.292523705924694, 39.581354092356804, 49.09254770476453, 21.417418575917583, 20.31379636647561, 20.038036138236293, 20.783157811994805, 19.300628165086703, 63.200221786410566, 18.63416760431051, 17.47756723854633, 16.394899041180192, 30.36404336537058, 21.255552162122015, 18.474015081763774, 23.69781931022133, 27.4504440854192, 44.526405711485985, 32.61833176936709, 42.44888793197039, 59.81612091380723, 112.23441092256584, 29.44582890807866, 41.55314989407697, 33.12339192651771, 46.424212002965625, 155.08284467093364, 112.1639194432285, 107.88341619752676, 37.43057098902454, 64.68624880969742, 73.75686244434287, 70.48957394714606, 95.12216266972428, 124.17096870919696, 44.33536239714126, 134.31823021094382, 99.97319605289026, 48.58850249105922, 87.72447251119239, 76.80180067751114, 98.20008651230059, 119.70681659115697, 82.63175331883366, 115.95386313078147, 84.04760827014849, 90.21348396732915, 66.28549017570217, 81.54008596544229, 86.26920453345419, 85.0523731342948, 66.70493338162927, 73.36942763549709, 78.77162133653147, 99.38868151590785, 82.2440657233679, 77.9833782730494, 82.12284880661362, 73.73791293509744, 70.8294214284371, 58.90710923100489, 57.05013430991693, 51.65943379873711, 64.87813919221637, 39.25978093659627, 38.78241880298251, 36.12561313544474, 33.4394559086763, 32.97257100534868, 33.19481740891159, 31.99687566683291, 28.686824608742626, 31.98803616273911, 26.914941793234696, 26.7297318478754, 144.76442688445448, 24.43636128399831, 22.846849694496452, 23.145233640030916, 53.78419740899234, 22.8083760443504, 21.173627073479082, 20.50975634576486, 35.40231889262868, 58.656768008269786, 19.799320509829034, 19.589013928965006, 21.380417301594875, 19.37364934867297, 27.04049048699831, 37.408249762269215, 50.190076907603476, 36.01579143339559, 105.84163005436189, 110.92750924352814, 46.22777274237511, 84.60580785279147, 105.65634707797608, 36.86078096513013, 36.673369722042644, 69.22957744602554, 130.43524364404738, 97.72557873225024, 49.52443504028624, 43.75965616471864, 88.69982069858038, 59.451846907086484, 46.34811797282457, 75.05517721358024, 71.3078914499199, 107.71092437752914, 55.309092123794926, 103.21035206387162, 116.39449125095193, 49.959568136843565, 95.20787529467988, 72.05804572723844, 71.52575030026087, 56.17507314106843, 88.22966113987658, 124.34417927098099, 73.53859489458141, 83.5451287437702, 108.5380377294371, 105.33889982495606, 83.21376082175368, 73.1282934840668, 79.10333400261895, 67.6013087032158, 72.98301882598831, 78.58734498472232, 67.19050286365655, 34.32800256334961, 43.11396576261284, 29.608643748664814, 19.873220913597724, 56.43080946167225, 16.591668007144282, 14.10070510461059, 12.879713229527434, 25.906531457523556, 10.011733400286438, 9.395727636667475, 9.18227447711347, 8.929887183551251, 8.91519281545971, 9.180959002445274, 12.234216866220095, 7.5772269322313806, 7.5647537358532055, 7.138555857479206, 6.819208769812007, 7.001031099880221, 6.584418158100777, 6.357917640019064, 64.51376759288985, 6.031723916318621, 6.081355489177576, 8.369159877989555, 20.019779197826306, 43.218974807819585, 5.498524405850391, 11.177639351070546, 115.34606439882101, 9.859372925167209, 9.228915436778479, 16.144978540382404, 19.59454427233392, 13.18307092173408, 28.526587419263375, 12.952823754729103, 9.860807253639763, 28.018441518323403, 24.1437563148787, 11.655333541101307, 20.16349204426473, 15.91104150709516, 19.102666337061294, 11.734562437037331, 12.270192049861365, 22.651409431131388, 22.614347880935657, 26.301086514476193, 27.85163809932008, 20.210920775700526, 17.068542576771797, 23.537288757353657, 16.263803637208827, 18.96701198794909, 17.880208111419464, 19.01004626991857, 18.28030366874612, 20.060815376362953, 18.139955751030858, 13.575957565958742, 11.138517433662456, 6.398687638984751, 6.322541741284223, 5.769727092039426, 5.725021087206682, 5.507264133293223, 5.005040307367638, 4.99686838928268, 4.876310000717954, 4.7388772665774725, 6.602711982145862, 4.877147901685926, 4.662646287798869, 4.635069897453222, 4.962056407293159, 4.330102457392904, 4.24232914573459, 4.110063912687383, 4.010192871272326, 3.951981164842825, 3.951981164842825, 3.951981164842825, 3.951981164842825, 3.9976322002924163, 4.097080825078155, 3.6615747022167824, 3.661574702214415, 15.176620607822679, 18.537928004327416, 17.915358075233407, 17.82061475881816, 5.653102496606538, 6.367796849779038, 9.138003381239972, 9.45194067302231, 11.544751862068612, 10.254579250690865, 5.735720896686119, 6.715427773104797, 5.733322977459086, 6.483429436602855, 9.04202487280121, 6.140866762489256, 9.17329455340283, 6.915740477836929, 6.280129345558675, 5.706680532498156, 6.265348720805457, 6.775841418580946, 6.2541230856719405, 6.013709459056998, 6.205217691194653, 9.009884085940678, 7.744292982464325, 7.744292982463552, 9.293986866444152, 6.450432504023756, 5.726987890196163, 6.49601143994406, 4.5038068345906765, 4.444556797492874, 4.46457079666922, 9.665045511668428, 4.284652716812103, 8.615342230782106, 3.892823790465314, 3.772959728472766, 3.913727816756875, 3.5750263521826966, 3.5219287047107932, 3.7512927676566568, 3.346004339418571, 3.4239485357843242, 3.124524299091086, 3.052150067465579, 3.232467809658891, 3.0248834180983124, 4.254307426479831, 2.9862795063399425, 4.232316914507088, 2.9763926255921556, 2.9363360652819424, 6.765113371550447, 3.190029287641089, 3.426554989434036, 3.4823358158999604, 4.28703911940944, 13.949434132849923, 4.125210404262929, 5.448958531460502, 5.027204117611361, 11.328038048337737, 5.7616426513954995, 8.523874480596469, 8.597518127751288, 5.086781337939343, 6.273295287930691, 8.502692894663802, 4.9303479092544045, 7.4342600661522535, 7.251840738955869, 4.8058717169564815, 6.817937857376714, 7.734911862957364, 4.6180019673186825, 5.066739326100085, 4.516423047102008], \"Term\": [\"god\", \"christian\", \"jesus\", \"window\", \"church\", \"space\", \"bible\", \"say\", \"people\", \"believe\", \"file\", \"moral\", \"christ\", \"men\", \"drive\", \"thanksn\", \"religion\", \"email\", \"homosexual\", \"objective\", \"life\", \"faith\", \"word\", \"sin\", \"atheist\", \"belief\", \"mean\", \"orbit\", \"please\", \"simms\", \"team\", \"fbi\", \"armenian\", \"israeli\", \"arab\", \"hockey\", \"baseball\", \"government\", \"season\", \"batf\", \"playoff\", \"nsa\", \"citizen\", \"criminal\", \"weapon\", \"clinton\", \"israel\", \"nhl\", \"espn\", \"pitcher\", \"defense\", \"turk\", \"gun\", \"palestinian\", \"firearm\", \"amendment\", \"killed\", \"political\", \"escrow\", \"military\", \"court\", \"country\", \"police\", \"war\", \"player\", \"game\", \"league\", \"fire\", \"president\", \"american\", \"people\", \"year\", \"right\", \"drug\", \"law\", \"last\", \"state\", \"writesn\", \"think\", \"fan\", \"dont\", \"article\", \"guy\", \"even\", \"first\", \"time\", \"like\", \"see\", \"get\", \"well\", \"make\", \"said\", \"ofn\", \"say\", \"ton\", \"going\", \"many\", \"way\", \"know\", \"good\", \"thing\", \"could\", \"andn\", \"much\", \"do\", \"mac\", \"scsi\", \"disk\", \"ftp\", \"mhz\", \"modem\", \"meg\", \"printer\", \"font\", \"manual\", \"controller\", \"mouse\", \"floppy\", \"ide\", \"window\", \"cpu\", \"widget\", \"directory\", \"monitor\", \"windowsn\", \"upgrade\", \"vga\", \"port\", \"advancen\", \"microsoft\", \"motherboard\", \"keyboard\", \"interface\", \"pin\", \"screen\", \"graphic\", \"server\", \"thanksn\", \"file\", \"application\", \"card\", \"drive\", \"format\", \"mode\", \"software\", \"email\", \"thanks\", \"color\", \"apple\", \"program\", \"driver\", \"video\", \"computer\", \"looking\", \"please\", \"version\", \"system\", \"anyone\", \"image\", \"problem\", \"using\", \"bit\", \"price\", \"work\", \"know\", \"car\", \"need\", \"get\", \"like\", \"new\", \"ive\", \"also\", \"used\", \"could\", \"dont\", \"want\", \"christ\", \"bible\", \"sin\", \"catholic\", \"jesus\", \"scripture\", \"verse\", \"clhn\", \"christianity\", \"biblical\", \"revelation\", \"luke\", \"gospel\", \"resurrection\", \"prophet\", \"doctrine\", \"testament\", \"biblen\", \"churchn\", \"baptism\", \"heavenn\", \"sabbath\", \"apostle\", \"christian\", \"theology\", \"christianityn\", \"priest\", \"godn\", \"church\", \"commandment\", \"satan\", \"god\", \"grace\", \"christiann\", \"heaven\", \"lord\", \"roman\", \"faith\", \"holy\", \"mormon\", \"religion\", \"belief\", \"marriage\", \"atheist\", \"mary\", \"truth\", \"spirit\", \"eternal\", \"word\", \"life\", \"believe\", \"say\", \"book\", \"man\", \"people\", \"love\", \"think\", \"ofn\", \"know\", \"dont\", \"simms\", \"msg\", \"clayton\", \"cramer\", \"gaedu\", \"uunetpyramidoptilinkcramer\", \"ntmi\", \"bmug\", \"cotekcom\", \"moralityn\", \"promiscuous\", \"pdsgicom\", \"beauchaine\", \"covington\", \"manhattan\", \"bronx\", \"kinsey\", \"livesey\", \"tttttthanksn\", \"odwyer\", \"sank\", \"eoucomedu\", \"mayhew\", \"neoucom\", \"nwedn\", \"rootstown\", \"virusit\", \"simmsn\", \"floppyburn\", \"windowscrashn\", \"morality\", \"objective\", \"homosexual\", \"moral\", \"atom\", \"athens\", \"atheism\", \"gay\", \"atheist\", \"georgia\", \"artificial\", \"associate\", \"jonn\", \"sexual\", \"men\", \"scientist\", \"god\", \"value\", \"food\", \"male\", \"usa\", \"writesn\", \"article\", \"michael\", \"dont\", \"maxaxaxaxaxaxaxaxaxaxaxaxaxaxaxn\", \"utzoohenryn\", \"zoologyn\", \"orontoedu\", \"pluto\", \"titan\", \"comet\", \"kipling\", \"oort\", \"ssto\", \"spencer\", \"ninjaite\", \"svr\", \"eduncom\", \"bertrand\", \"fraering\", \"aidernet\", \"eau\", \"vmax\", \"cfjhuedu\", \"claire\", \"har\", \"batse\", \"interstellar\", \"dcxn\", \"dunn\", \"repo\", \"sail\", \"suis\", \"comme\", \"billboard\", \"nye\", \"bubblejet\", \"wecedu\", \"moonn\", \"orbit\", \"resembles\", \"jupiter\", \"sdpa\", \"moon\", \"regional\", \"henry\", \"solar\", \"dpaorg\", \"lunar\", \"launch\", \"cloud\", \"sky\", \"satellite\", \"prize\", \"earth\", \"space\", \"collision\", \"mission\", \"turkish\"], \"Total\": [140.0, 71.0, 58.0, 148.0, 48.0, 70.0, 44.0, 156.0, 211.0, 107.0, 119.0, 31.0, 35.0, 85.0, 115.0, 113.0, 46.0, 152.0, 30.0, 24.0, 73.0, 37.0, 73.0, 30.0, 32.0, 38.0, 97.0, 21.0, 151.0, 20.0, 84.91632471517876, 44.36652933868491, 44.2252118475251, 40.66261871429672, 39.65670230479692, 37.29652609372103, 38.44037492923061, 94.01952473541765, 36.991322075617646, 28.664399716209708, 25.972986320030873, 27.01470471860321, 26.22865502165789, 24.604646121740988, 35.28728961640028, 40.796783650548264, 50.62842464974463, 22.097012486508177, 20.99810560387637, 20.717787412656573, 21.50679336276943, 19.984584124748896, 65.44267345640722, 19.316638603734955, 18.15704951042915, 17.075033454090725, 31.654687775284106, 22.165858387834998, 19.275974825041867, 24.729871434786396, 28.649911640483595, 47.080764937178806, 34.35272544830804, 45.5779693707887, 65.61164396996723, 128.5788748603688, 31.223548243148283, 45.81881560986171, 35.99110590990263, 52.671466646072766, 211.5202295685788, 148.6659508018432, 146.16408380728112, 41.58169693711972, 81.71806796257204, 98.09251146057622, 93.9999394588643, 140.248286602638, 198.6612885913427, 52.34082369482156, 237.70895653245805, 159.96525340993884, 59.63217166150077, 138.89245583748803, 118.70543166971514, 172.9965611555791, 240.2607208047946, 134.20504598632138, 232.12824703144895, 140.57764396331328, 162.32763107663823, 96.74691422735096, 139.95205412112722, 156.94358161596426, 156.5951396815489, 100.54498687669505, 121.90385615165556, 140.46958687166324, 246.01102164059526, 160.19862352450707, 142.59686498817874, 167.03382182997382, 138.77010756431193, 133.69872167724685, 59.624462844380375, 57.74690631475605, 52.348900774506106, 65.81768120234462, 39.95177363090467, 39.47385746742073, 36.819626100891206, 34.12946734116376, 33.662511766595856, 33.89364341967794, 32.69304811720703, 29.390355057095267, 32.774833618995736, 27.60877523861922, 27.419287468294197, 148.82288153659889, 25.134539250017305, 23.537480528977305, 23.846322713537734, 55.426066396515346, 23.52230168789085, 21.866166250915995, 21.19928356697231, 36.607700378786056, 60.67008864226316, 20.493386352648404, 20.278834009588564, 22.14901917160886, 20.096417907557868, 28.055782146196655, 38.94917079328459, 52.42524351217085, 37.70253957835567, 113.73252435762633, 119.54496469635535, 48.87281050404243, 91.23036708123016, 115.64630016721266, 38.73526496956415, 38.723625847573736, 76.25489801793216, 152.67480014511221, 113.83743200752322, 54.03079735523205, 47.131469397163826, 106.60209536723485, 68.55079942569304, 51.297777758997356, 94.58694133979002, 88.82760386127399, 151.59518001817665, 65.25681987859875, 147.3556805116781, 177.15517560552595, 57.28691095664775, 140.36472202655958, 97.21687870394403, 96.81405831406356, 68.34275369489434, 136.4862105084084, 246.01102164059526, 110.06428696385204, 139.10112983603486, 232.12824703144895, 240.2607208047946, 158.49159940134072, 125.13239200027482, 164.55858509191344, 116.4563538884332, 167.03382182997382, 237.70895653245805, 146.2315130095482, 35.36757326185701, 44.7720572280519, 30.74838681870089, 20.685231100067956, 58.767403109848104, 17.284614424008357, 14.806369360697785, 13.57406213564434, 27.391434020690706, 10.709299271070707, 10.095612070576049, 9.89245797711152, 9.626938055857856, 9.61983253873737, 9.914969666162689, 13.307100726981181, 8.271774962723903, 8.264882877356069, 7.835534024825406, 7.509939000602913, 7.7173036061430205, 7.274070747512293, 7.045113342521897, 71.52882987546592, 6.722483239456545, 6.778418742445571, 9.36904426635282, 22.468267540571308, 48.504941123072484, 6.186596900081347, 12.619114740451575, 140.09811784152674, 11.220012954835525, 10.532261731915979, 19.417214722573924, 24.140353028456875, 15.70657217688835, 37.74201211871001, 15.847083194695443, 11.588194252100516, 46.223116981746955, 38.785126990898824, 14.647803299944192, 32.27001158155278, 23.43314594220339, 35.194735771403316, 16.070192421766333, 17.84485477295568, 73.37944552047462, 73.42423057251195, 107.8286290433598, 156.94358161596426, 78.89873280414182, 60.15238688173449, 211.5202295685788, 53.30769905222451, 198.6612885913427, 139.95205412112722, 246.01102164059526, 237.70895653245805, 20.82220698680777, 18.856676044110813, 14.53313707920038, 11.939598083899238, 7.103703939335008, 7.028728192811009, 6.474990149623989, 6.429309203211568, 6.214337292838281, 5.728248749932521, 5.719876150877376, 5.592184699391071, 5.446117562051622, 7.591183505063246, 5.609504618264809, 5.407188535144695, 5.377809957151339, 5.768193677823295, 5.039535684574445, 4.951716292259786, 4.830181610334092, 4.719059958504972, 4.65550644410037, 4.65550644410037, 4.65550644410037, 4.65550644410037, 4.709733804005152, 4.8654114191547135, 4.367384373947934, 4.367384373948141, 18.703852579157154, 24.756551568689915, 30.071127017714, 31.987157499785354, 7.398668471286556, 8.675982864195902, 14.130070598309683, 22.284136385245183, 32.27001158155278, 26.974175317939352, 9.65827723544078, 13.961415637426425, 11.552952915018341, 19.490445931594376, 85.32636823486314, 16.708534624898867, 140.09811784152674, 41.11466193458617, 28.038720146614505, 15.443280791859072, 36.68403778210937, 140.248286602638, 159.96525340993884, 46.12531044438407, 237.70895653245805, 9.69383029710883, 8.430117719134403, 8.430117719134383, 10.230738423120984, 7.135619080246261, 6.438620983695525, 7.485354822607538, 5.190662485154943, 5.129463720508555, 5.156607067266494, 11.22712282159432, 4.987469943591135, 10.044594255270919, 4.593081811876672, 4.4705765224614025, 4.65113381398639, 4.263485987484479, 4.211366973158129, 4.5183219833115285, 4.065738238914221, 4.169951035891566, 3.8258680464482646, 3.73842494112208, 3.959793860788272, 3.718200587537728, 5.235360996126409, 3.6776615987236063, 5.215132885862587, 3.6738035363491632, 3.6265897469858297, 8.461459195194266, 3.9437846038600544, 4.246572780619841, 4.323620881233472, 5.415441051222744, 21.838113002366796, 5.303220974701673, 7.38960896651423, 6.922922065797287, 19.870798781691658, 8.312764113947297, 14.721811221858063, 15.004757246279135, 7.1958589418660335, 11.313478860929662, 20.56603604066773, 7.584383863971244, 17.611805518054627, 18.357226136771857, 7.920443848818752, 35.46454545874385, 70.68259323580526, 7.507816996591556, 19.868402459942576, 31.370872695223667], \"loglift\": [30.0, 29.0, 28.0, 27.0, 26.0, 25.0, 24.0, 23.0, 22.0, 21.0, 20.0, 19.0, 18.0, 17.0, 16.0, 15.0, 14.0, 13.0, 12.0, 11.0, 10.0, 9.0, 8.0, 7.0, 6.0, 5.0, 4.0, 3.0, 2.0, 1.0, 0.7345, 0.7329, 0.7328, 0.7315, 0.7311, 0.7299, 0.7287, 0.7272, 0.7253, 0.7244, 0.7218, 0.7211, 0.7203, 0.7199, 0.7198, 0.7181, 0.7176, 0.7172, 0.7153, 0.715, 0.7142, 0.7136, 0.7135, 0.7124, 0.7103, 0.7077, 0.7068, 0.7065, 0.7059, 0.7058, 0.7056, 0.6926, 0.6966, 0.6773, 0.6559, 0.6124, 0.6898, 0.6507, 0.6654, 0.6221, 0.438, 0.4667, 0.4447, 0.6432, 0.5147, 0.4633, 0.4606, 0.3601, 0.2785, 0.5824, 0.1776, 0.2783, 0.5436, 0.2889, 0.313, 0.1821, 0.0517, 0.2634, 0.0543, 0.234, 0.161, 0.3703, 0.2082, 0.15, 0.138, 0.3381, 0.2407, 0.17, -0.1579, 0.0817, 0.1449, 0.0384, 0.1161, 0.1131, 1.0164, 1.0163, 1.0152, 1.0141, 1.011, 1.0108, 1.0094, 1.008, 1.0078, 1.0076, 1.0069, 1.0042, 1.0042, 1.003, 1.003, 1.0008, 1.0003, 0.9987, 0.9986, 0.9984, 0.9977, 0.9963, 0.9954, 0.995, 0.9947, 0.994, 0.9939, 0.9932, 0.9918, 0.9916, 0.9881, 0.9849, 0.9827, 0.9566, 0.9537, 0.9728, 0.9531, 0.9381, 0.9789, 0.9741, 0.9318, 0.871, 0.8759, 0.9414, 0.9542, 0.8446, 0.8861, 0.927, 0.7972, 0.8088, 0.6867, 0.8631, 0.6724, 0.6084, 0.8916, 0.6403, 0.729, 0.7257, 0.8324, 0.5922, 0.3461, 0.6252, 0.5187, 0.2683, 0.2039, 0.3842, 0.4913, 0.296, 0.4846, 0.2005, -0.0784, 0.2508, 2.3362, 2.3283, 2.3283, 2.326, 2.3255, 2.3251, 2.3172, 2.3135, 2.3103, 2.2987, 2.2942, 2.2916, 2.2909, 2.29, 2.2891, 2.282, 2.2784, 2.2775, 2.2729, 2.2696, 2.2686, 2.2664, 2.2634, 2.2628, 2.2576, 2.2575, 2.2532, 2.2507, 2.2507, 2.2481, 2.2448, 2.1716, 2.2368, 2.234, 2.1815, 2.1574, 2.1909, 2.0861, 2.1644, 2.2046, 1.8654, 1.892, 2.1375, 1.8958, 1.9789, 1.755, 2.0516, 1.9915, 1.1906, 1.1884, 0.9551, 0.6371, 1.0041, 1.1064, 0.1703, 1.1789, 0.0172, 0.3084, -0.1944, -0.1992, 3.1272, 3.1257, 3.0964, 3.095, 3.06, 3.0586, 3.0492, 3.0485, 3.0437, 3.0295, 3.0294, 3.0275, 3.0254, 3.025, 3.0246, 3.0163, 3.0159, 3.0139, 3.0128, 3.0099, 3.003, 3.0017, 3.0007, 3.0007, 3.0007, 3.0007, 3.0006, 2.9926, 2.9882, 2.9882, 2.9555, 2.8752, 2.6466, 2.5795, 2.8954, 2.8552, 2.7286, 2.3068, 2.1366, 2.1973, 2.6434, 2.4326, 2.4638, 2.0638, 0.9199, 2.1635, 0.4384, 1.3819, 1.6683, 2.169, 1.3972, 0.1344, -0.0772, 1.1272, -0.4812, 3.331, 3.3193, 3.3193, 3.3081, 3.3032, 3.287, 3.2624, 3.2622, 3.2608, 3.26, 3.2543, 3.2522, 3.2506, 3.2387, 3.2345, 3.2315, 3.228, 3.2254, 3.2181, 3.2093, 3.207, 3.2016, 3.2013, 3.2012, 3.1978, 3.1966, 3.1959, 3.1953, 3.1936, 3.193, 3.1804, 3.192, 3.1896, 3.1877, 3.1705, 2.9559, 3.1529, 3.0995, 3.0842, 2.8422, 3.0376, 2.8577, 2.8472, 3.0573, 2.8144, 2.5209, 2.9734, 2.5417, 2.4754, 2.9045, 1.7552, 1.1917, 2.9181, 2.0377, 1.466], \"logprob\": [30.0, 29.0, 28.0, 27.0, 26.0, 25.0, 24.0, 23.0, 22.0, 21.0, 20.0, 19.0, 18.0, 17.0, 16.0, 15.0, 14.0, 13.0, 12.0, 11.0, 10.0, 9.0, 8.0, 7.0, 6.0, 5.0, 4.0, 3.0, 2.0, 1.0, -6.5516, -7.2023, -7.2056, -7.2909, -7.3164, -7.3789, -7.35, -6.457, -7.3917, -7.6477, -7.7489, -7.7103, -7.7406, -7.8049, -7.4444, -7.301, -7.0856, -7.9151, -7.9681, -7.9817, -7.9452, -8.0192, -6.833, -8.0544, -8.1184, -8.1824, -7.5661, -7.9227, -8.063, -7.814, -7.667, -7.1833, -7.4945, -7.2311, -6.8881, -6.2588, -7.5968, -7.2524, -7.4791, -7.1415, -5.9354, -6.2594, -6.2983, -7.3569, -6.8098, -6.6786, -6.7239, -6.4242, -6.1577, -7.1876, -6.0791, -6.3745, -7.096, -6.5052, -6.6381, -6.3923, -6.1943, -6.565, -6.2262, -6.548, -6.4772, -6.7854, -6.5783, -6.5219, -6.5361, -6.7791, -6.6838, -6.6128, -6.3803, -6.5697, -6.6229, -6.5711, -6.6788, -6.7191, -6.6233, -6.6553, -6.7546, -6.5268, -7.0291, -7.0413, -7.1123, -7.1895, -7.2036, -7.1969, -7.2336, -7.3428, -7.2339, -7.4066, -7.4135, -5.7242, -7.5032, -7.5705, -7.5575, -6.7143, -7.5721, -7.6465, -7.6784, -7.1325, -6.6276, -7.7136, -7.7243, -7.6368, -7.7354, -7.4019, -7.0774, -6.7835, -7.1153, -6.0373, -5.9904, -6.8657, -6.2613, -6.0391, -7.0921, -7.0972, -6.4618, -5.8284, -6.1171, -6.7968, -6.9206, -6.214, -6.6141, -6.8631, -6.3811, -6.4323, -6.0198, -6.6863, -6.0625, -5.9423, -6.7881, -6.1432, -6.4218, -6.4292, -6.6708, -6.2193, -5.8762, -6.4015, -6.2739, -6.0122, -6.0421, -6.2779, -6.4071, -6.3285, -6.4856, -6.409, -6.3351, -6.4917, -5.8257, -5.5978, -5.9736, -6.3723, -5.3287, -6.5528, -6.7155, -6.806, -6.1072, -7.0579, -7.1214, -7.1444, -7.1723, -7.1739, -7.1446, -6.8575, -7.3365, -7.3382, -7.3962, -7.442, -7.4156, -7.477, -7.512, -5.1948, -7.5647, -7.5565, -7.2371, -6.365, -5.5954, -7.6572, -6.9478, -4.6138, -7.0733, -7.1394, -6.5801, -6.3864, -6.7828, -6.0109, -6.8004, -7.0731, -6.0288, -6.1777, -6.9059, -6.3578, -6.5947, -6.4119, -6.8992, -6.8545, -6.2415, -6.2431, -6.0921, -6.0348, -6.3555, -6.5245, -6.2031, -6.5728, -6.419, -6.478, -6.4167, -6.4559, -5.5645, -5.6651, -5.955, -6.1529, -6.7072, -6.7191, -6.8106, -6.8184, -6.8572, -6.9528, -6.9544, -6.9789, -7.0075, -6.6758, -6.9787, -7.0237, -7.0296, -6.9614, -7.0977, -7.1181, -7.1498, -7.1744, -7.189, -7.189, -7.189, -7.189, -7.1776, -7.153, -7.2654, -7.2654, -5.8435, -5.6434, -5.6776, -5.6829, -6.8311, -6.712, -6.3508, -6.317, -6.117, -6.2355, -6.8165, -6.6589, -6.817, -6.694, -6.3614, -6.7483, -6.347, -6.6295, -6.7259, -6.8216, -6.7282, -6.6499, -6.73, -6.7692, -6.7379, -6.1253, -6.2767, -6.2767, -6.0942, -6.4595, -6.5784, -6.4524, -6.8187, -6.8319, -6.8274, -6.0551, -6.8686, -6.1701, -6.9645, -6.9958, -6.9591, -7.0496, -7.0646, -7.0015, -7.1158, -7.0928, -7.1843, -7.2078, -7.1504, -7.2167, -6.8757, -7.2296, -6.8809, -7.2329, -7.2465, -6.4118, -7.1636, -7.0921, -7.0759, -6.868, -5.6882, -6.9065, -6.6282, -6.7088, -5.8963, -6.5724, -6.1807, -6.1721, -6.697, -6.4873, -6.1832, -6.7282, -6.3175, -6.3424, -6.7538, -6.4041, -6.2779, -6.7937, -6.7009, -6.8159]}, \"token.table\": {\"Topic\": [1, 2, 5, 1, 2, 3, 4, 1, 1, 2, 3, 1, 2, 3, 4, 1, 2, 3, 4, 3, 1, 2, 1, 2, 3, 1, 1, 1, 2, 3, 4, 1, 2, 3, 4, 1, 2, 4, 3, 4, 3, 4, 1, 4, 2, 4, 3, 1, 1, 5, 4, 1, 3, 4, 1, 2, 3, 4, 5, 3, 4, 3, 3, 1, 5, 1, 2, 3, 4, 4, 1, 2, 3, 4, 4, 5, 1, 2, 1, 2, 3, 5, 1, 3, 1, 3, 4, 3, 4, 3, 3, 4, 1, 3, 3, 1, 5, 4, 3, 1, 1, 3, 5, 2, 5, 1, 2, 5, 3, 5, 1, 2, 3, 4, 2, 4, 1, 2, 3, 4, 1, 2, 3, 1, 2, 4, 2, 4, 1, 5, 1, 2, 2, 2, 1, 3, 1, 2, 3, 4, 1, 5, 1, 2, 1, 2, 1, 2, 3, 5, 1, 2, 3, 4, 5, 5, 5, 1, 2, 3, 4, 1, 1, 1, 2, 3, 4, 1, 2, 3, 4, 1, 3, 4, 1, 2, 1, 1, 2, 1, 2, 3, 1, 1, 2, 3, 4, 2, 4, 2, 1, 2, 3, 4, 1, 2, 5, 2, 4, 1, 2, 1, 3, 4, 1, 2, 3, 4, 1, 2, 3, 4, 1, 2, 3, 4, 1, 3, 4, 1, 2, 3, 4, 1, 2, 3, 4, 3, 1, 2, 1, 3, 1, 2, 1, 2, 3, 1, 2, 3, 5, 1, 3, 3, 1, 2, 5, 1, 1, 3, 1, 3, 4, 2, 1, 2, 3, 5, 2, 5, 1, 3, 1, 1, 2, 3, 4, 1, 3, 4, 1, 2, 3, 4, 3, 5, 2, 1, 2, 4, 5, 1, 2, 3, 4, 1, 2, 3, 1, 2, 5, 1, 2, 3, 4, 1, 2, 4, 1, 2, 3, 4, 1, 2, 3, 4, 5, 4, 1, 2, 3, 1, 3, 1, 2, 3, 4, 3, 1, 2, 5, 2, 1, 2, 3, 4, 1, 2, 3, 4, 1, 2, 3, 4, 4, 2, 1, 2, 3, 4, 1, 3, 1, 2, 3, 5, 4, 1, 2, 3, 4, 2, 1, 2, 3, 4, 2, 1, 2, 3, 4, 5, 2, 1, 1, 2, 3, 5, 1, 2, 3, 2, 1, 2, 1, 3, 5, 5, 1, 3, 4, 1, 4, 4, 1, 3, 2, 2, 4, 1, 2, 3, 4, 1, 2, 3, 4, 4, 1, 2, 3, 4, 1, 5, 1, 4, 4, 5, 1, 4, 4, 1, 2, 3, 4, 5, 2, 3, 5, 5, 1, 4, 1, 2, 3, 4, 2, 1, 1, 2, 1, 1, 2, 3, 4, 5, 1, 2, 1, 1, 2, 1, 2, 5, 1, 2, 3, 3, 2, 1, 5, 1, 2, 3, 4, 1, 2, 4, 4, 3, 1, 5, 1, 3, 4, 5, 1, 5, 3, 3, 1, 2, 3, 4, 1, 2, 3, 4, 3, 1, 2, 3, 4, 5, 4, 3, 4, 1, 2, 5, 1, 2, 3, 4, 1, 2, 3, 4, 1, 2, 3, 2, 1, 5, 1, 1, 2, 3, 4, 1, 2, 1, 3, 4, 4, 4, 2, 3, 1, 2, 5, 1, 2, 2, 5, 1, 2, 5, 1, 2, 5, 1, 2, 3, 5, 1, 2, 3, 5, 2, 5, 1, 2, 3, 4, 1, 2, 3, 1, 2, 3, 4, 1, 2, 3, 4, 3, 1, 2, 3, 4, 1, 2, 3, 4, 1, 2, 3, 4, 5, 1, 2, 3, 4, 1, 3, 4, 4, 1, 1, 5, 2, 1, 2, 4, 5, 1, 2, 3, 4, 1, 2, 3, 4, 5, 4, 1, 2, 3, 4, 3, 1, 2, 3, 2, 1, 2, 4, 5, 1, 2, 3, 4, 1, 2, 3, 4, 1, 2, 3, 4, 1, 5, 1, 2, 3, 4, 2, 1, 2, 4, 2, 1, 2, 3, 4, 1, 2, 3, 4, 1, 2, 3, 4, 1, 2, 3, 4, 5], \"Freq\": [0.016482586763576834, 0.9724726190510332, 0.9381994010868229, 0.43145728289012253, 0.4800721880045025, 0.08507608395016501, 0.006076863139297501, 0.9370406238452683, 0.8733381264869298, 0.0949280572268402, 0.018985611445368037, 0.5332560541952832, 0.3603081447265427, 0.08647395473437025, 0.014412325789061708, 0.2878832064921572, 0.654793175550789, 0.04515815003798544, 0.00564476875474818, 0.851654147817048, 0.06365173923859305, 0.9335588421660314, 0.04092254935562942, 0.9412186351794766, 0.02046127467781471, 0.9834403198796112, 0.9949076140482591, 0.6251357583495497, 0.2750597336738018, 0.05626221825145947, 0.03750814550097298, 0.10353813372953592, 0.20707626745907184, 0.10353813372953592, 0.6212288023772156, 0.2865038978767442, 0.21487792340755815, 0.5013818212843023, 0.2830842190185874, 0.6369394927918216, 0.6197704624138729, 0.37186227744832373, 0.2305214327074817, 0.6915642981224451, 0.1351594552291258, 0.8109567313747549, 0.932098116833975, 0.9885439481263816, 0.9768214327602336, 0.8024769915801911, 0.9180852126365844, 0.23204771257064355, 0.6187939001883829, 0.12891539587257975, 0.5471645195106307, 0.16693154832527715, 0.24112334758095588, 0.037095899627839365, 0.894739186300224, 0.9604204645092427, 0.02233535963974983, 0.9679508008417411, 0.9337679101949504, 0.11818292530063322, 0.8272804771044325, 0.2065815682999287, 0.7436936458797433, 0.04131631365998574, 0.010329078414996435, 0.9332262316770953, 0.2788384454109395, 0.4562810924906283, 0.25348949582812685, 0.012674474791406341, 0.9246949625488139, 0.7064520390869439, 0.3270815719891351, 0.6723343424221111, 0.06576757489814428, 0.9317073110570439, 0.9668734133666167, 0.7378733759311488, 0.028274487271041395, 0.9613325672154074, 0.0699018844388363, 0.9087244977048718, 0.01398037688776726, 0.9492018556005627, 0.03650776367694472, 0.8851621931275484, 0.8545173134776212, 0.09494636816418013, 0.10308228160329909, 0.8865076217883722, 0.8933660396115728, 0.9912822437342257, 0.7194329080074144, 0.9633157606444518, 0.9577088914204318, 0.9804694493229357, 0.26369973301335303, 0.13184986650667652, 0.6592493325333827, 0.266389018393492, 0.66597254598373, 0.07403185212502997, 0.9253981515628746, 0.8015652086229211, 0.8081987691705363, 0.8272234273240838, 0.16915654289446042, 0.7929212948177832, 0.010572283930903776, 0.021144567861807552, 0.9867182599074784, 0.9655092276556513, 0.49091854033890814, 0.4370372371309792, 0.04789449174038128, 0.02394724587019064, 0.9558043515232765, 0.04248019340103451, 0.021240096700517255, 0.942411283455681, 0.034904121609469665, 0.9221223535606888, 0.9548613468211269, 0.9213040441314099, 0.975425530659971, 0.8068418928379182, 0.9764356613177517, 0.9645092988254633, 0.9875765723220968, 0.9895267342531836, 0.07514784929615978, 0.9017741915539174, 0.5637145606741281, 0.33233918129295614, 0.0757228514338381, 0.025240950477946035, 0.27793763276317907, 0.6948440819079477, 0.07782350137433645, 0.9165879050755182, 0.1312894973567117, 0.8606755937828877, 0.8898145752914266, 0.07214712772633189, 0.024049042575443963, 0.7640351836214465, 0.3665632769810342, 0.1973802260667107, 0.2537745763714852, 0.028197175152387247, 0.1973802260667107, 0.9498103645430777, 0.8708749732384264, 0.12444751839819763, 0.851483020619247, 0.01964960816813647, 0.8476264415312124, 0.9338049132859305, 0.9524668737882663, 0.05603856196776254, 0.1681156859032876, 0.6724627436131504, 0.05603856196776254, 0.6335837282837373, 0.2591933433888016, 0.09359759622373393, 0.014399630188266756, 0.18546970887463257, 0.7683745081949064, 0.052991345392752166, 0.8406440115758672, 0.13373882002343343, 0.9917386069149808, 0.06692042630419466, 0.9285209149707009, 0.9166539868167222, 0.043650189848415344, 0.043650189848415344, 0.9362754664647163, 0.648664504369472, 0.2779990733012023, 0.05896950039722473, 0.01684842868492135, 0.9779499368096682, 0.9158799999057939, 0.9736338932757193, 0.6063044215679951, 0.0713299319491759, 0.0713299319491759, 0.2139897958475277, 0.025816268477464658, 0.9552019336661924, 0.8600053578272957, 0.9761769367313289, 0.8446297947154695, 0.8710606631270279, 0.12443723758957542, 0.26924983298759253, 0.26924983298759253, 0.40387474948138885, 0.44486994907382105, 0.14828998302460702, 0.037072495756151756, 0.3707249575615175, 0.49972375823905746, 0.4695680142073902, 0.025847780598571936, 0.004307963433095323, 0.10706781954749303, 0.007137854636499536, 0.8208532831974467, 0.06424069172849582, 0.04450721437219332, 0.8901442874438664, 0.04450721437219332, 0.6663683797797549, 0.2983739013939201, 0.02983739013939201, 0.00994579671313067, 0.5118645728404507, 0.4057463077393817, 0.0624225088829818, 0.01248450177659636, 0.9348766916105403, 0.9785201558814424, 0.010636088650885243, 0.0891264568076124, 0.891264568076124, 0.0381495605172666, 0.953739012931665, 0.9626746077536955, 0.015280549329423737, 0.015280549329423737, 0.8217041009028851, 0.16769471446997658, 0.01676947144699766, 0.7841357735233557, 0.15450207678407563, 0.8240110761817366, 0.9070525610043328, 0.2717056984171241, 0.13585284920856205, 0.6113378214385292, 0.9920494983104888, 0.12620619046598228, 0.8203402380288848, 0.09976347072834316, 0.2992904121850295, 0.598580824370059, 0.9847083018193294, 0.06982397781976805, 0.8727997227471006, 0.03491198890988403, 0.017455994454942014, 0.9454421224418543, 0.7576151955048471, 0.9678357629926208, 0.019751750265155524, 0.9837044751359374, 0.3516275785721683, 0.5833821189947338, 0.04794921525984113, 0.015983071753280377, 0.017016235992779852, 0.9529092155956718, 0.017016235992779852, 0.25967387057382785, 0.08655795685794261, 0.08655795685794261, 0.5193477411476557, 0.1353251578712036, 0.676625789356018, 0.9481232481354435, 0.9477269279346333, 0.03159089759782111, 0.9297465027285071, 0.9632681790233464, 0.4024209945545936, 0.5040424578259557, 0.07723231208623514, 0.012194575592563444, 0.7543899009022814, 0.2140836205263231, 0.0305833743609033, 0.19449542887556515, 0.3889908577511303, 0.43761471497002163, 0.7954177285465298, 0.024474391647585532, 0.1468463498855132, 0.024474391647585532, 0.9287861768357406, 0.03202710954606002, 0.03202710954606002, 0.572018251638631, 0.10895585745497734, 0.3132480901830598, 0.013619482181872167, 0.499457421080064, 0.43702524344505606, 0.049945742108006404, 0.0083242903513344, 0.0041621451756672, 0.8668224888535325, 0.18012418780301573, 0.7993010833758822, 0.011257761737688483, 0.16569765965248157, 0.8284882982624079, 0.39393934409787057, 0.20634918024174173, 0.30014426216980616, 0.09379508192806443, 0.9097840011879325, 0.353560566928156, 0.088390141732039, 0.530340850392234, 0.9870658644346252, 0.5544342599166567, 0.35730207861295654, 0.06776418732314693, 0.01232076133148126, 0.3885184813296214, 0.06475308022160357, 0.12950616044320715, 0.3885184813296214, 0.5153577706059952, 0.1662444421309662, 0.2826155516226425, 0.01662444421309662, 0.8913443058268935, 0.9788013612336667, 0.5988325743295906, 0.2871115082402147, 0.09023504544692461, 0.016406371899440837, 0.1365392447622245, 0.8192354685733471, 0.25604756675858553, 0.04267459445976426, 0.6827935113562281, 0.9284255783479349, 0.8591976078282414, 0.5343320558004564, 0.24661479498482602, 0.16440986332321736, 0.061653698746206506, 0.9669063882575892, 0.46878826355176534, 0.3047123713086475, 0.11719706588794133, 0.1054773592991472, 0.987995663514471, 0.3902412759195113, 0.368561205035094, 0.08672028353766918, 0.13008042530650377, 0.021680070884417296, 0.9759246059114753, 0.9704862422471101, 0.20132469170908676, 0.4529805563454452, 0.10066234585454338, 0.2516558646363584, 0.02582402804779336, 0.9554890377683543, 0.02582402804779336, 0.9777394235714043, 0.018042052503709164, 0.9742708352002948, 0.35227572262719425, 0.05032510323245632, 0.5535761355570196, 0.7386286660985528, 0.3126254653939508, 0.12505018615758032, 0.5627258377091114, 0.16039476291334137, 0.8019738145667068, 0.8728671219207965, 0.08629472187340462, 0.8629472187340461, 0.9862499979310092, 0.9763588847466595, 0.9545690851289581, 0.5310447183735709, 0.4038931660869413, 0.05235652152978869, 0.007479503075684098, 0.3378836682016972, 0.6038771942328205, 0.050323099519401705, 0.0071890142170573865, 0.8591976078282414, 0.41642585631855067, 0.5236870617339349, 0.050475861371945534, 0.006309482671493192, 0.9503547148204771, 0.802009845721471, 0.9624388003062476, 0.9266423363359754, 0.8591976078282414, 0.760690631294542, 0.20196673943569732, 0.7674736098556498, 0.8078007228024251, 0.5859149443353633, 0.27152155957004637, 0.12861547558581143, 0.014290608398423494, 0.7798086150813879, 0.2747490133121724, 0.0457915022186954, 0.6410810310617356, 0.8797018971436535, 0.9836079863463547, 0.8941049462376388, 0.7327904300980635, 0.1276473652428885, 0.11346432466034533, 0.023638400970905277, 0.9623684650566842, 0.9653540506831306, 0.9144718280106519, 0.07620598566755432, 0.9625385272204726, 0.21768502135782428, 0.7124237062619704, 0.03957909479233169, 0.03298257899360974, 0.8408520595795216, 0.9606224708329607, 0.029109771843423053, 0.9474029668765347, 0.027316657141880838, 0.9560829999658293, 0.9168931925184424, 0.027784642197528558, 0.055569284395057116, 0.16095342088654782, 0.8193992336042435, 0.014632129171504348, 0.8538757820507383, 0.9803190037870768, 0.3787666521299078, 0.6312777535498463, 0.27072329465241063, 0.6768082366310265, 0.0427457833661701, 0.007124297227695016, 0.140710179742024, 0.8348803998026757, 0.0281420359484048, 0.8741448010606045, 0.907718359513973, 0.24059385934509628, 0.7217815780352889, 0.3028787523249126, 0.6057575046498253, 0.06490258978390985, 0.81573573844891, 0.18856464868621733, 0.7542585947448693, 0.9355672215455505, 0.8914764094621621, 0.7388956109244945, 0.19840715478528095, 0.04789138218955057, 0.013683252054157307, 0.0636676156158034, 0.0636676156158034, 0.8276790030054443, 0.8591976078282414, 0.9623222323475443, 0.682192300675378, 0.1550437046989495, 0.12403496375915962, 0.041344987919719876, 0.7669986724294939, 0.8281262119507199, 0.8716934766223042, 0.07924486151111856, 0.2723723052027106, 0.3268467662432527, 0.3813212272837948, 0.5479676143140352, 0.23575350848394536, 0.17840806047433702, 0.03185858222756018, 0.4189475712351627, 0.11969930606718933, 0.059849653033594664, 0.359097918201568, 0.025674487534209964, 0.9499560387657687, 0.9835336550167398, 0.993335088810957, 0.14444767548958876, 0.7222383774479438, 0.9732012261256522, 0.6184566265001663, 0.2458923936687408, 0.11922055450605615, 0.014902569313257018, 0.02652341224711774, 0.9548428408962386, 0.4617647041831317, 0.2052287574147252, 0.3078431361220878, 0.9605129760102427, 0.8221298581765024, 0.032522031347407436, 0.9756609404222232, 0.5110208598870631, 0.056780095543007024, 0.39746066880104913, 0.0917973819642887, 0.9048599079337029, 0.3998731803200531, 0.5998097704800797, 0.35369387080348236, 0.5376146836212932, 0.11318203865711435, 0.08907001516689508, 0.08907001516689508, 0.8907001516689509, 0.18668102542049458, 0.06222700847349819, 0.7467241016819783, 0.7757038587235989, 0.7446813306792924, 0.20212778975580795, 0.04255321889595957, 0.8165923872405124, 0.0995560372660397, 0.8960043353943574, 0.2578794374811256, 0.6989890015935771, 0.013572601972690819, 0.027145203945381637, 0.9892090864948261, 0.01177629864874793, 0.9671442992648331, 0.11419793797826416, 0.8608767632207606, 0.017568913535117563, 0.008784456767558782, 0.06154791726937181, 0.9320113186504875, 0.00879255960991026, 0.00879255960991026, 0.8925273275184913, 0.5469965977615721, 0.329600514035819, 0.10519165341568693, 0.014025553788758258, 0.6241779708530678, 0.2516846656665596, 0.09564017295329265, 0.025168466566655962, 0.5664852488707376, 0.3352667799439059, 0.08092646412439108, 0.011560923446341584, 0.9318765641266598, 0.542801010126212, 0.357610077259622, 0.0894025193149055, 0.006385894236778965, 0.3977867625128012, 0.5398534634102302, 0.0568266803589716, 0.7937239163210277, 0.9507328189266853, 0.8287942848322035, 0.15938351631388528, 0.960387832006001, 0.46341681635413695, 0.3543775654472812, 0.16355887636028363, 0.02725981272671394, 0.3692370451610961, 0.583909745836152, 0.042934540135011176, 0.008586908027002235, 0.2365844317018471, 0.7406121340231735, 0.020572559278421484, 0.010286279639210742, 0.9489784444933508, 0.8536394971336075, 0.36483335370396935, 0.43780002444476324, 0.024322223580264625, 0.17025556506185235, 0.9455390216835856, 0.09194441303088577, 0.8428237861164528, 0.045972206515442884, 0.9905995140664666, 0.07797608736176533, 0.8967250046603013, 0.8493049005441464, 0.8852844075243074, 0.46501604613473385, 0.4581775748680466, 0.061546241400185366, 0.013676942533374526, 0.9214978328305725, 0.021940424591204107, 0.021940424591204107, 0.021940424591204107, 0.5623993190225334, 0.3132350637593857, 0.1067846808270633, 0.01423795744360844, 0.9635197366985648, 0.6938628715161861, 0.5975345555081403, 0.3201077975936466, 0.06402155951872932, 0.014227013226384292, 0.9771649081848159, 0.02015819052167884, 0.9743125418811438, 0.9158799999057505, 0.9777954685378546, 0.4360894222220749, 0.21804471111103746, 0.31343927222211637, 0.04088338333331953, 0.31505014198742765, 0.6447537789510147, 0.036633737440398564, 0.007326747488079712, 0.6773701290851499, 0.21390635655320525, 0.05704169508085473, 0.04991148319574789, 0.7533668563374324, 0.2152476732392664, 0.0269059591549083, 0.006726489788727075, 0.948978444493353], \"Term\": [\"advancen\", \"advancen\", \"aidernet\", \"also\", \"also\", \"also\", \"also\", \"amendment\", \"american\", \"american\", \"american\", \"andn\", \"andn\", \"andn\", \"andn\", \"anyone\", \"anyone\", \"anyone\", \"anyone\", \"apostle\", \"apple\", \"apple\", \"application\", \"application\", \"application\", \"arab\", \"armenian\", \"article\", \"article\", \"article\", \"article\", \"artificial\", \"artificial\", \"artificial\", \"artificial\", \"associate\", \"associate\", \"associate\", \"atheism\", \"atheism\", \"atheist\", \"atheist\", \"athens\", \"athens\", \"atom\", \"atom\", \"baptism\", \"baseball\", \"batf\", \"batse\", \"beauchaine\", \"belief\", \"belief\", \"belief\", \"believe\", \"believe\", \"believe\", \"believe\", \"bertrand\", \"bible\", \"bible\", \"biblen\", \"biblical\", \"billboard\", \"billboard\", \"bit\", \"bit\", \"bit\", \"bit\", \"bmug\", \"book\", \"book\", \"book\", \"book\", \"bronx\", \"bubblejet\", \"car\", \"car\", \"card\", \"card\", \"catholic\", \"cfjhuedu\", \"christ\", \"christ\", \"christian\", \"christian\", \"christian\", \"christianity\", \"christianity\", \"christianityn\", \"christiann\", \"christiann\", \"church\", \"church\", \"churchn\", \"citizen\", \"claire\", \"clayton\", \"clhn\", \"clinton\", \"cloud\", \"cloud\", \"cloud\", \"collision\", \"collision\", \"color\", \"color\", \"comet\", \"commandment\", \"comme\", \"computer\", \"computer\", \"computer\", \"computer\", \"controller\", \"cotekcom\", \"could\", \"could\", \"could\", \"could\", \"country\", \"country\", \"country\", \"court\", \"court\", \"covington\", \"cpu\", \"cramer\", \"criminal\", \"dcxn\", \"defense\", \"directory\", \"disk\", \"do\", \"doctrine\", \"doctrine\", \"dont\", \"dont\", \"dont\", \"dont\", \"dpaorg\", \"dpaorg\", \"drive\", \"drive\", \"driver\", \"driver\", \"drug\", \"drug\", \"drug\", \"dunn\", \"earth\", \"earth\", \"earth\", \"earth\", \"earth\", \"eau\", \"eduncom\", \"email\", \"email\", \"email\", \"eoucomedu\", \"escrow\", \"espn\", \"eternal\", \"eternal\", \"eternal\", \"eternal\", \"even\", \"even\", \"even\", \"even\", \"faith\", \"faith\", \"faith\", \"fan\", \"fan\", \"fbi\", \"file\", \"file\", \"fire\", \"fire\", \"fire\", \"firearm\", \"first\", \"first\", \"first\", \"first\", \"floppy\", \"floppyburn\", \"font\", \"food\", \"food\", \"food\", \"food\", \"format\", \"format\", \"fraering\", \"ftp\", \"gaedu\", \"game\", \"game\", \"gay\", \"gay\", \"gay\", \"georgia\", \"georgia\", \"georgia\", \"georgia\", \"get\", \"get\", \"get\", \"get\", \"god\", \"god\", \"god\", \"god\", \"godn\", \"godn\", \"godn\", \"going\", \"going\", \"going\", \"going\", \"good\", \"good\", \"good\", \"good\", \"gospel\", \"government\", \"government\", \"grace\", \"grace\", \"graphic\", \"graphic\", \"gun\", \"gun\", \"gun\", \"guy\", \"guy\", \"guy\", \"har\", \"heaven\", \"heaven\", \"heavenn\", \"henry\", \"henry\", \"henry\", \"hockey\", \"holy\", \"holy\", \"homosexual\", \"homosexual\", \"homosexual\", \"ide\", \"image\", \"image\", \"image\", \"image\", \"interface\", \"interstellar\", \"israel\", \"israel\", \"israeli\", \"ive\", \"ive\", \"ive\", \"ive\", \"jesus\", \"jesus\", \"jesus\", \"jonn\", \"jonn\", \"jonn\", \"jonn\", \"jupiter\", \"jupiter\", \"keyboard\", \"killed\", \"killed\", \"kinsey\", \"kipling\", \"know\", \"know\", \"know\", \"know\", \"last\", \"last\", \"last\", \"launch\", \"launch\", \"launch\", \"law\", \"law\", \"law\", \"law\", \"league\", \"league\", \"league\", \"life\", \"life\", \"life\", \"life\", \"like\", \"like\", \"like\", \"like\", \"like\", \"livesey\", \"looking\", \"looking\", \"looking\", \"lord\", \"lord\", \"love\", \"love\", \"love\", \"love\", \"luke\", \"lunar\", \"lunar\", \"lunar\", \"mac\", \"make\", \"make\", \"make\", \"make\", \"male\", \"male\", \"male\", \"male\", \"man\", \"man\", \"man\", \"man\", \"manhattan\", \"manual\", \"many\", \"many\", \"many\", \"many\", \"marriage\", \"marriage\", \"mary\", \"mary\", \"mary\", \"maxaxaxaxaxaxaxaxaxaxaxaxaxaxaxn\", \"mayhew\", \"mean\", \"mean\", \"mean\", \"mean\", \"meg\", \"men\", \"men\", \"men\", \"men\", \"mhz\", \"michael\", \"michael\", \"michael\", \"michael\", \"michael\", \"microsoft\", \"military\", \"mission\", \"mission\", \"mission\", \"mission\", \"mode\", \"mode\", \"mode\", \"modem\", \"monitor\", \"monitor\", \"moon\", \"moon\", \"moon\", \"moonn\", \"moral\", \"moral\", \"moral\", \"morality\", \"morality\", \"moralityn\", \"mormon\", \"mormon\", \"motherboard\", \"mouse\", \"msg\", \"much\", \"much\", \"much\", \"much\", \"need\", \"need\", \"need\", \"need\", \"neoucom\", \"new\", \"new\", \"new\", \"new\", \"nhl\", \"ninjaite\", \"nsa\", \"ntmi\", \"nwedn\", \"nye\", \"objective\", \"objective\", \"odwyer\", \"ofn\", \"ofn\", \"ofn\", \"ofn\", \"oort\", \"orbit\", \"orbit\", \"orbit\", \"orontoedu\", \"palestinian\", \"pdsgicom\", \"people\", \"people\", \"people\", \"people\", \"pin\", \"pitcher\", \"player\", \"player\", \"playoff\", \"please\", \"please\", \"please\", \"please\", \"pluto\", \"police\", \"police\", \"political\", \"port\", \"port\", \"president\", \"president\", \"president\", \"price\", \"price\", \"price\", \"priest\", \"printer\", \"prize\", \"prize\", \"problem\", \"problem\", \"problem\", \"problem\", \"program\", \"program\", \"program\", \"promiscuous\", \"prophet\", \"regional\", \"regional\", \"religion\", \"religion\", \"religion\", \"repo\", \"resembles\", \"resembles\", \"resurrection\", \"revelation\", \"right\", \"right\", \"right\", \"right\", \"roman\", \"roman\", \"roman\", \"rootstown\", \"sabbath\", \"said\", \"said\", \"said\", \"said\", \"sail\", \"sank\", \"satan\", \"satan\", \"satellite\", \"satellite\", \"satellite\", \"say\", \"say\", \"say\", \"say\", \"scientist\", \"scientist\", \"scientist\", \"scientist\", \"screen\", \"screen\", \"scripture\", \"scsi\", \"sdpa\", \"sdpa\", \"season\", \"see\", \"see\", \"see\", \"see\", \"server\", \"server\", \"sexual\", \"sexual\", \"sexual\", \"simms\", \"simmsn\", \"sin\", \"sin\", \"sky\", \"sky\", \"sky\", \"software\", \"software\", \"solar\", \"solar\", \"space\", \"space\", \"space\", \"spencer\", \"spencer\", \"spencer\", \"spirit\", \"spirit\", \"spirit\", \"ssto\", \"state\", \"state\", \"state\", \"suis\", \"svr\", \"svr\", \"system\", \"system\", \"system\", \"system\", \"team\", \"team\", \"testament\", \"thanks\", \"thanks\", \"thanks\", \"thanks\", \"thanksn\", \"thanksn\", \"thanksn\", \"thanksn\", \"theology\", \"thing\", \"thing\", \"thing\", \"thing\", \"think\", \"think\", \"think\", \"think\", \"time\", \"time\", \"time\", \"time\", \"titan\", \"ton\", \"ton\", \"ton\", \"ton\", \"truth\", \"truth\", \"truth\", \"tttttthanksn\", \"turk\", \"turkish\", \"turkish\", \"upgrade\", \"usa\", \"usa\", \"usa\", \"usa\", \"used\", \"used\", \"used\", \"used\", \"using\", \"using\", \"using\", \"using\", \"utzoohenryn\", \"uunetpyramidoptilinkcramer\", \"value\", \"value\", \"value\", \"value\", \"verse\", \"version\", \"version\", \"version\", \"vga\", \"video\", \"video\", \"virusit\", \"vmax\", \"want\", \"want\", \"want\", \"want\", \"war\", \"war\", \"war\", \"war\", \"way\", \"way\", \"way\", \"way\", \"weapon\", \"wecedu\", \"well\", \"well\", \"well\", \"well\", \"widget\", \"window\", \"window\", \"windowscrashn\", \"windowsn\", \"word\", \"word\", \"word\", \"word\", \"work\", \"work\", \"work\", \"work\", \"writesn\", \"writesn\", \"writesn\", \"writesn\", \"year\", \"year\", \"year\", \"year\", \"zoologyn\"]}, \"R\": 30, \"lambda.step\": 0.01, \"plot.opts\": {\"xlab\": \"PC1\", \"ylab\": \"PC2\"}, \"topic.order\": [3, 2, 1, 5, 4]};\n",
              "\n",
              "function LDAvis_load_lib(url, callback){\n",
              "  var s = document.createElement('script');\n",
              "  s.src = url;\n",
              "  s.async = true;\n",
              "  s.onreadystatechange = s.onload = callback;\n",
              "  s.onerror = function(){console.warn(\"failed to load library \" + url);};\n",
              "  document.getElementsByTagName(\"head\")[0].appendChild(s);\n",
              "}\n",
              "\n",
              "if(typeof(LDAvis) !== \"undefined\"){\n",
              "   // already loaded: just create the visualization\n",
              "   !function(LDAvis){\n",
              "       new LDAvis(\"#\" + \"ldavis_el1441402881001219608533248177\", ldavis_el1441402881001219608533248177_data);\n",
              "   }(LDAvis);\n",
              "}else if(typeof define === \"function\" && define.amd){\n",
              "   // require.js is available: use it to load d3/LDAvis\n",
              "   require.config({paths: {d3: \"https://cdnjs.cloudflare.com/ajax/libs/d3/3.5.5/d3.min\"}});\n",
              "   require([\"d3\"], function(d3){\n",
              "      window.d3 = d3;\n",
              "      LDAvis_load_lib(\"https://cdn.rawgit.com/bmabey/pyLDAvis/files/ldavis.v1.0.0.js\", function(){\n",
              "        new LDAvis(\"#\" + \"ldavis_el1441402881001219608533248177\", ldavis_el1441402881001219608533248177_data);\n",
              "      });\n",
              "    });\n",
              "}else{\n",
              "    // require.js not available: dynamically load d3 & LDAvis\n",
              "    LDAvis_load_lib(\"https://cdnjs.cloudflare.com/ajax/libs/d3/3.5.5/d3.min.js\", function(){\n",
              "         LDAvis_load_lib(\"https://cdn.rawgit.com/bmabey/pyLDAvis/files/ldavis.v1.0.0.js\", function(){\n",
              "                 new LDAvis(\"#\" + \"ldavis_el1441402881001219608533248177\", ldavis_el1441402881001219608533248177_data);\n",
              "            })\n",
              "         });\n",
              "}\n",
              "</script>"
            ],
            "text/plain": [
              "PreparedData(topic_coordinates=                x           y  topics  cluster       Freq\n",
              "topic                                                    \n",
              "2      150.222153  -72.269554       1        1  47.312551\n",
              "1       51.163364 -159.968018       2        1  35.755255\n",
              "0      -73.144554   21.523815       3        1   9.385046\n",
              "4      -66.410133 -110.606438       4        1   4.223582\n",
              "3       54.417324   12.443444       5        1   3.323567, topic_info=      Category        Freq       Term       Total  loglift  logprob\n",
              "6470   Default  140.000000        god  140.000000  30.0000  30.0000\n",
              "2617   Default   71.000000  christian   71.000000  29.0000  29.0000\n",
              "8131   Default   58.000000      jesus   58.000000  28.0000  28.0000\n",
              "16814  Default  148.000000     window  148.000000  27.0000  27.0000\n",
              "2634   Default   48.000000     church   48.000000  26.0000  26.0000\n",
              "...        ...         ...        ...         ...      ...      ...\n",
              "4814    Topic5    6.817938      earth   35.464545   1.7552  -6.4041\n",
              "14175   Topic5    7.734912      space   70.682593   1.1917  -6.2779\n",
              "2882    Topic5    4.618002  collision    7.507817   2.9181  -6.7937\n",
              "9631    Topic5    5.066739    mission   19.868402   2.0377  -6.7009\n",
              "15866   Topic5    4.516423    turkish   31.370873   1.4660  -6.8159\n",
              "\n",
              "[346 rows x 6 columns], token_table=       Topic      Freq      Term\n",
              "term                            \n",
              "316        1  0.016483  advancen\n",
              "316        2  0.972473  advancen\n",
              "423        5  0.938199  aidernet\n",
              "540        1  0.431457      also\n",
              "540        2  0.480072      also\n",
              "...      ...       ...       ...\n",
              "17089      1  0.753367      year\n",
              "17089      2  0.215248      year\n",
              "17089      3  0.026906      year\n",
              "17089      4  0.006726      year\n",
              "17171      5  0.948978  zoologyn\n",
              "\n",
              "[649 rows x 3 columns], R=30, lambda_step=0.01, plot_opts={'xlab': 'PC1', 'ylab': 'PC2'}, topic_order=[3, 2, 1, 5, 4])"
            ]
          },
          "metadata": {
            "tags": []
          },
          "execution_count": 36
        }
      ]
    },
    {
      "cell_type": "markdown",
      "metadata": {
        "id": "XkUtco_C80at",
        "colab_type": "text"
      },
      "source": [
        "# LDA Unigram - tf-idf - stem"
      ]
    },
    {
      "cell_type": "code",
      "metadata": {
        "id": "u_gkZokHMSu5",
        "colab_type": "code",
        "colab": {}
      },
      "source": [
        "data_token_stem_tfidf = tfidf.fit_transform(df.token_stem)"
      ],
      "execution_count": 0,
      "outputs": []
    },
    {
      "cell_type": "code",
      "metadata": {
        "id": "SCn2UFqo9MQT",
        "colab_type": "code",
        "outputId": "03a6884e-1d73-4065-d086-02bac8cc3fc9",
        "colab": {
          "base_uri": "https://localhost:8080/",
          "height": 399
        }
      },
      "source": [
        "# Parametri di ricerca\n",
        "search_params = {'n_components': [5,10, 15, 20, 25, 30], 'learning_decay': [.5, .7, .9]}\n",
        "\n",
        "# Inizializzazione Modello\n",
        "lda = LatentDirichletAllocation()\n",
        "\n",
        "# Inizializzazione GridSearchCV\n",
        "model = GridSearchCV(lda, param_grid=search_params)\n",
        "\n",
        "# Grid Search\n",
        "model.fit(data_token_stem_tfidf)"
      ],
      "execution_count": 0,
      "outputs": [
        {
          "output_type": "execute_result",
          "data": {
            "text/plain": [
              "GridSearchCV(cv=None, error_score=nan,\n",
              "             estimator=LatentDirichletAllocation(batch_size=128,\n",
              "                                                 doc_topic_prior=None,\n",
              "                                                 evaluate_every=-1,\n",
              "                                                 learning_decay=0.7,\n",
              "                                                 learning_method='batch',\n",
              "                                                 learning_offset=10.0,\n",
              "                                                 max_doc_update_iter=100,\n",
              "                                                 max_iter=10,\n",
              "                                                 mean_change_tol=0.001,\n",
              "                                                 n_components=10, n_jobs=None,\n",
              "                                                 perp_tol=0.1,\n",
              "                                                 random_state=None,\n",
              "                                                 topic_word_prior=None,\n",
              "                                                 total_samples=1000000.0,\n",
              "                                                 verbose=0),\n",
              "             iid='deprecated', n_jobs=None,\n",
              "             param_grid={'learning_decay': [0.5, 0.7, 0.9],\n",
              "                         'n_components': [5, 10, 15, 20, 25, 30]},\n",
              "             pre_dispatch='2*n_jobs', refit=True, return_train_score=False,\n",
              "             scoring=None, verbose=0)"
            ]
          },
          "metadata": {
            "tags": []
          },
          "execution_count": 27
        }
      ]
    },
    {
      "cell_type": "code",
      "metadata": {
        "id": "t4MqJIsl9QPG",
        "colab_type": "code",
        "outputId": "31527a23-0b12-4568-e72b-6ab38ff66fc3",
        "colab": {
          "base_uri": "https://localhost:8080/",
          "height": 72
        }
      },
      "source": [
        "# Stimato il Miglior modello \n",
        "best_lda_model = model.best_estimator_\n",
        "\n",
        "# Parametri del modello\n",
        "print(\"Best Model Params: \", model.best_params_)\n",
        "\n",
        "# Log Likelihood Score\n",
        "print(\"Best Log Likelihood Score: \", model.best_score_)\n",
        "\n",
        "# Perplessità\n",
        "print(\"Model Perplexity: \", best_lda_model.perplexity(data_token_stem_tfidf))"
      ],
      "execution_count": 0,
      "outputs": [
        {
          "output_type": "stream",
          "text": [
            "Best Model Params:  {'learning_decay': 0.9, 'n_components': 5}\n",
            "Best Log Likelihood Score:  -268569.82174257614\n",
            "Model Perplexity:  11741.898531961233\n"
          ],
          "name": "stdout"
        }
      ]
    },
    {
      "cell_type": "code",
      "metadata": {
        "id": "MasDimyG9rDE",
        "colab_type": "code",
        "outputId": "2498ec5f-7da5-4213-fa45-83cdfd5e7820",
        "colab": {
          "base_uri": "https://localhost:8080/",
          "height": 1000
        }
      },
      "source": [
        "pyLDAvis.enable_notebook()\n",
        "vis = pyLDAvis.sklearn.prepare(best_lda_model, data_token_stem_tfidf, tfidf, mds='tsne')\n",
        "vis"
      ],
      "execution_count": 0,
      "outputs": [
        {
          "output_type": "stream",
          "text": [
            "/usr/local/lib/python3.6/dist-packages/pyLDAvis/_prepare.py:257: FutureWarning: Sorting because non-concatenation axis is not aligned. A future version\n",
            "of pandas will change to not sort by default.\n",
            "\n",
            "To accept the future behavior, pass 'sort=False'.\n",
            "\n",
            "To retain the current behavior and silence the warning, pass 'sort=True'.\n",
            "\n",
            "  return pd.concat([default_term_info] + list(topic_dfs))\n"
          ],
          "name": "stderr"
        },
        {
          "output_type": "execute_result",
          "data": {
            "text/html": [
              "\n",
              "<link rel=\"stylesheet\" type=\"text/css\" href=\"https://cdn.rawgit.com/bmabey/pyLDAvis/files/ldavis.v1.0.0.css\">\n",
              "\n",
              "\n",
              "<div id=\"ldavis_el1191401648811286888298012056\"></div>\n",
              "<script type=\"text/javascript\">\n",
              "\n",
              "var ldavis_el1191401648811286888298012056_data = {\"mdsDat\": {\"x\": [150.22215270996094, 51.16336441040039, -73.1445541381836, -66.4101333618164, 54.41732406616211], \"y\": [-72.2695541381836, -159.968017578125, 21.523815155029297, -110.60643768310547, 12.44344425201416], \"topics\": [1, 2, 3, 4, 5], \"cluster\": [1, 1, 1, 1, 1], \"Freq\": [55.526955518549414, 27.73493015755319, 7.540208541633242, 5.915882852220073, 3.2820229300440875]}, \"tinfo\": {\"Category\": [\"Default\", \"Default\", \"Default\", \"Default\", \"Default\", \"Default\", \"Default\", \"Default\", \"Default\", \"Default\", \"Default\", \"Default\", \"Default\", \"Default\", \"Default\", \"Default\", \"Default\", \"Default\", \"Default\", \"Default\", \"Default\", \"Default\", \"Default\", \"Default\", \"Default\", \"Default\", \"Default\", \"Default\", \"Default\", \"Default\", \"Topic1\", \"Topic1\", \"Topic1\", \"Topic1\", \"Topic1\", \"Topic1\", \"Topic1\", \"Topic1\", \"Topic1\", \"Topic1\", \"Topic1\", \"Topic1\", \"Topic1\", \"Topic1\", \"Topic1\", \"Topic1\", \"Topic1\", \"Topic1\", \"Topic1\", \"Topic1\", \"Topic1\", \"Topic1\", \"Topic1\", \"Topic1\", \"Topic1\", \"Topic1\", \"Topic1\", \"Topic1\", \"Topic1\", \"Topic1\", \"Topic1\", \"Topic1\", \"Topic1\", \"Topic1\", \"Topic1\", \"Topic1\", \"Topic1\", \"Topic1\", \"Topic1\", \"Topic1\", \"Topic1\", \"Topic1\", \"Topic1\", \"Topic1\", \"Topic1\", \"Topic1\", \"Topic1\", \"Topic1\", \"Topic1\", \"Topic1\", \"Topic1\", \"Topic1\", \"Topic1\", \"Topic1\", \"Topic1\", \"Topic1\", \"Topic1\", \"Topic1\", \"Topic1\", \"Topic1\", \"Topic1\", \"Topic1\", \"Topic1\", \"Topic1\", \"Topic1\", \"Topic1\", \"Topic1\", \"Topic1\", \"Topic1\", \"Topic1\", \"Topic1\", \"Topic1\", \"Topic1\", \"Topic1\", \"Topic1\", \"Topic1\", \"Topic1\", \"Topic2\", \"Topic2\", \"Topic2\", \"Topic2\", \"Topic2\", \"Topic2\", \"Topic2\", \"Topic2\", \"Topic2\", \"Topic2\", \"Topic2\", \"Topic2\", \"Topic2\", \"Topic2\", \"Topic2\", \"Topic2\", \"Topic2\", \"Topic2\", \"Topic2\", \"Topic2\", \"Topic2\", \"Topic2\", \"Topic2\", \"Topic2\", \"Topic2\", \"Topic2\", \"Topic2\", \"Topic2\", \"Topic2\", \"Topic2\", \"Topic2\", \"Topic2\", \"Topic2\", \"Topic2\", \"Topic2\", \"Topic2\", \"Topic2\", \"Topic2\", \"Topic2\", \"Topic2\", \"Topic2\", \"Topic2\", \"Topic2\", \"Topic2\", \"Topic2\", \"Topic2\", \"Topic2\", \"Topic2\", \"Topic2\", \"Topic2\", \"Topic2\", \"Topic2\", \"Topic2\", \"Topic2\", \"Topic2\", \"Topic2\", \"Topic2\", \"Topic2\", \"Topic2\", \"Topic2\", \"Topic2\", \"Topic2\", \"Topic2\", \"Topic2\", \"Topic2\", \"Topic2\", \"Topic2\", \"Topic2\", \"Topic2\", \"Topic2\", \"Topic2\", \"Topic2\", \"Topic2\", \"Topic2\", \"Topic2\", \"Topic2\", \"Topic2\", \"Topic2\", \"Topic2\", \"Topic2\", \"Topic2\", \"Topic2\", \"Topic3\", \"Topic3\", \"Topic3\", \"Topic3\", \"Topic3\", \"Topic3\", \"Topic3\", \"Topic3\", \"Topic3\", \"Topic3\", \"Topic3\", \"Topic3\", \"Topic3\", \"Topic3\", \"Topic3\", \"Topic3\", \"Topic3\", \"Topic3\", \"Topic3\", \"Topic3\", \"Topic3\", \"Topic3\", \"Topic3\", \"Topic3\", \"Topic3\", \"Topic3\", \"Topic3\", \"Topic3\", \"Topic3\", \"Topic3\", \"Topic3\", \"Topic3\", \"Topic3\", \"Topic3\", \"Topic3\", \"Topic3\", \"Topic3\", \"Topic3\", \"Topic3\", \"Topic3\", \"Topic3\", \"Topic3\", \"Topic3\", \"Topic3\", \"Topic3\", \"Topic3\", \"Topic3\", \"Topic3\", \"Topic3\", \"Topic3\", \"Topic3\", \"Topic3\", \"Topic3\", \"Topic3\", \"Topic3\", \"Topic3\", \"Topic3\", \"Topic3\", \"Topic3\", \"Topic3\", \"Topic3\", \"Topic3\", \"Topic4\", \"Topic4\", \"Topic4\", \"Topic4\", \"Topic4\", \"Topic4\", \"Topic4\", \"Topic4\", \"Topic4\", \"Topic4\", \"Topic4\", \"Topic4\", \"Topic4\", \"Topic4\", \"Topic4\", \"Topic4\", \"Topic4\", \"Topic4\", \"Topic4\", \"Topic4\", \"Topic4\", \"Topic4\", \"Topic4\", \"Topic4\", \"Topic4\", \"Topic4\", \"Topic4\", \"Topic4\", \"Topic4\", \"Topic4\", \"Topic4\", \"Topic4\", \"Topic4\", \"Topic4\", \"Topic4\", \"Topic4\", \"Topic4\", \"Topic4\", \"Topic4\", \"Topic4\", \"Topic4\", \"Topic4\", \"Topic4\", \"Topic4\", \"Topic4\", \"Topic4\", \"Topic4\", \"Topic4\", \"Topic4\", \"Topic4\", \"Topic4\", \"Topic4\", \"Topic4\", \"Topic4\", \"Topic4\", \"Topic4\", \"Topic4\", \"Topic4\", \"Topic4\", \"Topic4\", \"Topic4\", \"Topic4\", \"Topic4\", \"Topic4\", \"Topic4\", \"Topic4\", \"Topic4\", \"Topic4\", \"Topic4\", \"Topic4\", \"Topic5\", \"Topic5\", \"Topic5\", \"Topic5\", \"Topic5\", \"Topic5\", \"Topic5\", \"Topic5\", \"Topic5\", \"Topic5\", \"Topic5\", \"Topic5\", \"Topic5\", \"Topic5\", \"Topic5\", \"Topic5\", \"Topic5\", \"Topic5\", \"Topic5\", \"Topic5\", \"Topic5\", \"Topic5\", \"Topic5\", \"Topic5\", \"Topic5\", \"Topic5\", \"Topic5\", \"Topic5\", \"Topic5\", \"Topic5\", \"Topic5\", \"Topic5\", \"Topic5\", \"Topic5\", \"Topic5\", \"Topic5\", \"Topic5\", \"Topic5\", \"Topic5\", \"Topic5\", \"Topic5\", \"Topic5\", \"Topic5\", \"Topic5\", \"Topic5\", \"Topic5\", \"Topic5\", \"Topic5\"], \"Freq\": [146.0, 151.0, 94.0, 123.0, 132.0, 47.0, 60.0, 121.0, 143.0, 128.0, 204.0, 60.0, 69.0, 131.0, 182.0, 94.0, 34.0, 171.0, 50.0, 46.0, 51.0, 119.0, 161.0, 48.0, 153.0, 67.0, 141.0, 53.0, 184.0, 40.0, 83.84033277121648, 44.47689283428248, 41.30439626137736, 38.13599500093927, 29.097915339632078, 28.323568504904785, 34.66930654629724, 28.26955214902282, 36.32635989500555, 54.17777022914969, 25.222500920104604, 23.427570984547515, 36.32350955792613, 22.013481656191935, 23.167385235998044, 26.140996423241184, 21.635464503195056, 20.942468052422612, 20.95205926388314, 23.105183608193954, 20.146590969573573, 43.15260216552033, 36.34762593310856, 20.866587817724533, 63.561019056095944, 19.322081395093722, 39.61539736355859, 21.684568800727664, 17.635163508882854, 25.132522226475324, 39.157260263097676, 59.268894509836414, 33.589706864205866, 88.05706487642009, 29.323062025830843, 34.90386466749185, 60.130233974294505, 63.64192746489933, 112.43153170118497, 45.84040064061977, 179.21793803811278, 48.67070306932747, 127.95992183458299, 48.608755567693855, 43.373444780951786, 71.02024008022747, 118.02532612216787, 83.63881970404665, 112.93499797181846, 93.05951373661927, 159.86230345050495, 122.15034632948841, 166.5414736016322, 106.83105122858049, 78.89367612568573, 83.11879833685373, 164.63073186432246, 122.27198623850494, 103.30505233384486, 102.87170216251201, 95.51363049107701, 102.30111015011865, 120.16676037487908, 155.83505049768246, 88.87448980892334, 119.11917811791058, 108.24254838400682, 97.13472024202973, 87.2265890200717, 133.1663310066197, 95.79826213242379, 101.1957251700126, 99.5429592014427, 92.86327922319768, 97.4484233248359, 91.25059873581283, 92.94223150917159, 29.433803867256742, 23.415896443240683, 25.41312506172307, 14.73807713250746, 57.50598158866844, 15.062618517223836, 14.189301697980499, 13.952762014301701, 22.695855111457707, 12.067745438014418, 12.062848061519169, 16.856605912550467, 14.933477813616117, 11.013326427909293, 12.047084425685046, 38.70532566631596, 15.112809666065429, 10.206832390988634, 18.813431513944373, 31.186945489855916, 14.434861248504598, 10.54025230911561, 20.16560017814571, 9.281293840655119, 9.462746866482146, 11.505016999672057, 18.338908603512017, 9.21151671358056, 11.383214639813309, 14.540351845149331, 18.48040631794487, 29.262428510124728, 54.06074001176437, 26.876197879973393, 20.30601252331812, 37.66104475454398, 68.83723481010998, 45.51862375576978, 21.06951137875593, 42.56446676292708, 33.50060343020881, 127.29939295249237, 65.58687420199344, 95.00869024056364, 58.31152924385658, 47.04377764900436, 52.34903263880886, 28.10936842645964, 76.15044452285561, 44.22206333603488, 83.2772660798103, 71.06373364369973, 68.4866189465945, 53.08604665816698, 25.934186310791336, 43.37281953158768, 42.61815259307785, 95.96619272405187, 103.62891921117641, 52.83124116520847, 84.9577481095872, 94.8310016036923, 79.28173615412688, 55.97496650037936, 66.80542838935958, 77.20371916076397, 104.99327652768682, 54.09601006942146, 94.75806607778445, 80.35462088359522, 100.37985355008158, 80.48068523304809, 73.36166971429775, 76.04100485818553, 88.75758579315631, 70.34990843218549, 80.53863820702787, 58.73705825157807, 61.78372940525508, 62.52069523734211, 60.83572030537146, 58.46197308247027, 18.48261865306726, 10.570766827427084, 10.57076682742708, 12.141080702620934, 15.073406761503293, 11.397509659145133, 10.103616086659269, 8.756698223255608, 13.498798651815154, 7.7739334762807815, 9.09869274133498, 9.41877582026428, 33.24297827017792, 55.00941440199903, 7.276176505325163, 6.978072544257352, 29.485203454048694, 6.655096364275065, 7.744469535804308, 6.4108791153663125, 5.932233245024312, 14.072186063184592, 5.750529395678433, 6.320830668487518, 5.5429226846465225, 9.881676694985781, 5.511572999946995, 5.258349227422921, 5.262825483428314, 5.407187086220906, 32.44213759969472, 40.741321238690816, 9.950665704933852, 119.76512540172503, 30.105537251840676, 75.51005382069825, 9.92466067348681, 13.62243760359902, 17.628148341500154, 19.238894320173465, 29.257366884621348, 34.57478808894479, 27.72803293343381, 25.378709098744363, 30.842383073929287, 27.67139467679981, 14.894171741510357, 17.275670822963736, 12.532384163205746, 13.025346929981772, 15.494625872706129, 18.370898609530585, 15.478498114471872, 21.4990996427528, 28.68544734790344, 19.275060767541824, 28.59847093826748, 21.533602931354707, 19.165913121755587, 19.348896355793617, 15.871446314139513, 15.44303106439085, 14.355759668014167, 8.615738108115213, 8.24035399158449, 7.158435251296808, 7.158435251289882, 7.375920766102194, 6.6456556701463185, 6.232449647778362, 5.997719937623291, 6.047335925289212, 5.776960584863124, 5.5980778185183295, 5.291025222787975, 4.960755488788179, 4.771023334504229, 4.663196075535144, 4.372444934059541, 4.183317411903462, 4.172400654986529, 4.1165068231209165, 4.098493630209462, 4.177411672250842, 4.15914753819377, 4.013023890245836, 3.8980347198689422, 3.9841894617703235, 3.8311630486795956, 3.805178792912405, 3.805178792912405, 3.805178792912405, 3.8775066838350254, 10.13444676846244, 6.574636803651414, 21.14996618801072, 25.55966391078885, 5.66844119042342, 10.410796156636222, 11.137373926289865, 19.194546468792353, 7.922423765065259, 9.862685388850918, 66.00463460880566, 10.507199462120916, 29.215635146666987, 10.286754150153481, 11.37849944430996, 16.73533019341752, 25.92629208230583, 35.96900272302908, 12.07754482909948, 27.271368862874695, 25.58788423137811, 22.847604867044275, 13.4275160222308, 16.71286941690265, 13.649882181843477, 11.692079197170832, 15.799651197947446, 18.29263429597373, 13.820297459523522, 19.167592007818588, 15.708612119018783, 12.256499736890259, 12.47326493808606, 13.34790225823856, 15.086267583030986, 13.29653113087889, 13.315381946412652, 12.898628810137273, 11.731168334833603, 12.180946174071309, 13.388728575138714, 12.139602096649703, 12.015919276298987, 19.55230286480943, 7.287332099980796, 7.063180243282383, 5.13850148690917, 4.840690109952084, 6.867702866217849, 4.856169523740337, 4.84188710524548, 6.621054020490119, 6.621053739041276, 6.635220134320671, 8.220686890372532, 4.173800497374385, 5.644403949868259, 4.099765367787554, 4.0997653677216945, 4.243641780035096, 4.23396999401573, 4.017921638374141, 4.0179216383717575, 4.0209960549226444, 4.020996054226758, 6.464612891892484, 3.7649498454447574, 4.170186406379116, 3.4530585931442643, 27.481704985081493, 6.764738098230686, 33.896327006600664, 6.989185245658354, 13.065346288725177, 12.194846144454138, 10.673069115575208, 10.065953242856237, 4.629360889228722, 9.641167681431266, 6.579835587694308, 5.959118871912095, 7.111481036620992, 7.06850651437908, 8.058238878283744, 6.40047506410926, 5.949750587875149, 5.831564649414561], \"Term\": [\"god\", \"window\", \"christian\", \"file\", \"run\", \"armenian\", \"jesu\", \"program\", \"problem\", \"believ\", \"use\", \"do\", \"driver\", \"drive\", \"say\", \"card\", \"turkish\", \"work\", \"church\", \"bibl\", \"jew\", \"thanksn\", \"email\", \"religion\", \"system\", \"disk\", \"thank\", \"moral\", \"anyon\", \"faith\", \"team\", \"homosexu\", \"drug\", \"basebal\", \"defens\", \"batf\", \"weapon\", \"food\", \"hockey\", \"fire\", \"playoff\", \"sport\", \"season\", \"espn\", \"gay\", \"tank\", \"diseas\", \"leaf\", \"waco\", \"sexual\", \"pitcher\", \"fbi\", \"koresh\", \"msg\", \"gun\", \"drink\", \"clinton\", \"cup\", \"firearm\", \"murder\", \"ride\", \"bike\", \"polic\", \"govern\", \"goal\", \"arm\", \"player\", \"kill\", \"game\", \"hit\", \"peopl\", \"fan\", \"year\", \"american\", \"countri\", \"play\", \"right\", \"last\", \"writesn\", \"car\", \"think\", \"articl\", \"dont\", \"see\", \"day\", \"state\", \"like\", \"time\", \"even\", \"well\", \"take\", \"thing\", \"say\", \"get\", \"first\", \"make\", \"good\", \"ofn\", \"realli\", \"know\", \"way\", \"ton\", \"want\", \"andn\", \"could\", \"much\", \"also\", \"simm\", \"motherboard\", \"cpu\", \"amp\", \"mac\", \"shippingn\", \"connector\", \"polygon\", \"circuit\", \"fpu\", \"voltag\", \"audio\", \"macintosh\", \"tiff\", \"nec\", \"mhz\", \"quadra\", \"nubu\", \"salen\", \"algorithm\", \"soni\", \"vram\", \"interfac\", \"iisi\", \"catalog\", \"stereo\", \"de\", \"solder\", \"ethernet\", \"processor\", \"motorola\", \"upgrad\", \"monitor\", \"pin\", \"vga\", \"ftp\", \"chip\", \"encrypt\", \"keyboard\", \"appl\", \"modem\", \"email\", \"softwar\", \"thanksn\", \"fax\", \"graphic\", \"advancen\", \"digit\", \"key\", \"scsi\", \"comput\", \"card\", \"phone\", \"disk\", \"serial\", \"board\", \"code\", \"thank\", \"pleas\", \"data\", \"drive\", \"system\", \"program\", \"mail\", \"bit\", \"file\", \"use\", \"price\", \"anyon\", \"window\", \"know\", \"work\", \"need\", \"look\", \"get\", \"new\", \"like\", \"inform\", \"run\", \"also\", \"could\", \"dont\", \"scriptur\", \"alink\", \"ksand\", \"pplecom\", \"vers\", \"kentn\", \"revel\", \"quran\", \"doctrin\", \"candida\", \"hebrew\", \"luke\", \"sin\", \"jesu\", \"baptism\", \"zionism\", \"islam\", \"apostl\", \"testament\", \"cotekcom\", \"rushdi\", \"atheism\", \"croat\", \"christianityn\", \"psalm\", \"prophet\", \"beauchain\", \"khomeini\", \"theism\", \"actusorgn\", \"christ\", \"bibl\", \"serb\", \"god\", \"atheist\", \"christian\", \"biblic\", \"roman\", \"cathol\", \"godn\", \"faith\", \"church\", \"muslim\", \"belief\", \"jew\", \"religion\", \"heaven\", \"lord\", \"satan\", \"holi\", \"mari\", \"jewish\", \"interpret\", \"moral\", \"believ\", \"israel\", \"say\", \"word\", \"exist\", \"mean\", \"truth\", \"love\", \"xterm\", \"svr\", \"maxaxaxaxaxaxaxaxaxaxaxaxaxaxaxn\", \"zoologyn\", \"utzoohenryn\", \"openwindow\", \"gaedu\", \"xdm\", \"ntmi\", \"deskjet\", \"stacker\", \"cview\", \"geico\", \"bo\", \"uucpt\", \"det\", \"reboost\", \"kipl\", \"virusit\", \"oort\", \"dortmund\", \"iivx\", \"olwm\", \"ini\", \"chi\", \"antihistamin\", \"truetyp\", \"windowscrashn\", \"floppyburn\", \"goshi\", \"atm\", \"cursor\", \"covington\", \"georgia\", \"font\", \"ink\", \"irq\", \"hst\", \"mous\", \"suno\", \"ati\", \"window\", \"icon\", \"do\", \"diamond\", \"com\", \"printer\", \"driver\", \"file\", \"windowsn\", \"run\", \"problem\", \"program\", \"print\", \"version\", \"instal\", \"server\", \"card\", \"work\", \"disk\", \"use\", \"drive\", \"display\", \"manag\", \"set\", \"get\", \"tri\", \"anyon\", \"system\", \"know\", \"chastiti\", \"intellect\", \"njxp\", \"slpittedu\", \"armenia\", \"dpaorg\", \"sdpa\", \"ssto\", \"gehrel\", \"ohanu\", \"shafer\", \"shaftdriven\", \"melkonian\", \"sahak\", \"appressian\", \"azeri\", \"rosicrucian\", \"henrik\", \"behannatdod\", \"fxwg\", \"jubile\", \"ladyn\", \"jneccomt\", \"nect\", \"drydenn\", \"fredicom\", \"exterminationn\", \"amorc\", \"ozal\", \"dcxn\", \"turkish\", \"argicn\", \"armenian\", \"corn\", \"turk\", \"gordon\", \"skeptic\", \"shame\", \"azerbaijan\", \"surrend\", \"serdar\", \"eliotn\", \"cambridg\", \"turkey\", \"bank\", \"region\", \"soviet\", \"soon\"], \"Total\": [146.0, 151.0, 94.0, 123.0, 132.0, 47.0, 60.0, 121.0, 143.0, 128.0, 204.0, 60.0, 69.0, 131.0, 182.0, 94.0, 34.0, 171.0, 50.0, 46.0, 51.0, 119.0, 161.0, 48.0, 153.0, 67.0, 141.0, 53.0, 184.0, 40.0, 84.8826026960812, 45.21514123152118, 42.02721645553771, 38.88355941226641, 29.823483867027594, 29.045072976262972, 35.56378463104375, 29.000487802549937, 37.28834448566129, 55.61878314323959, 25.945902025415492, 24.16005814402263, 37.4850700747645, 22.73584402319593, 23.929094349157083, 27.002589383334325, 22.360203067151332, 21.663199388244266, 21.674568083715528, 23.918163564834128, 20.86696761272992, 44.72292919707725, 37.67318681516358, 21.649786192174787, 66.04182683388632, 20.08708351152489, 41.20939394481714, 22.56375584758137, 18.355261632556168, 26.172311986229133, 40.96651525298877, 63.01060915481636, 35.3079299370329, 95.84435093085894, 30.78276909254187, 36.93460579117197, 65.55755898272794, 70.11004531986708, 129.91490786543238, 49.64418355886393, 215.50807162740622, 53.09428245943579, 150.9101599404887, 53.10824814358607, 47.265091301707756, 82.48451151379939, 148.88482578124072, 100.52851095385206, 143.39886105268894, 115.05832013222378, 215.88012025674806, 163.8877863837921, 243.50751171344172, 145.58571789126523, 100.19306997999534, 107.25295989151134, 260.4974921856582, 179.32039813549116, 144.1636228721868, 143.5839681502534, 130.56918931989864, 145.89718575259116, 182.33130576468116, 262.81592714670165, 120.99294939407733, 184.5705837506389, 165.1698456782765, 142.93198548726897, 119.63568309300982, 257.93355182694495, 143.56640249832978, 160.33481372660634, 168.6886412698644, 142.14954419694726, 171.8734081070069, 136.71867537893948, 169.24343748932904, 30.155691603792448, 24.215881372160865, 26.506037859286483, 15.460751201093776, 60.389862987683664, 15.824900579749597, 14.926394936221714, 14.678267602558629, 23.93381263387586, 12.78964749639173, 12.786259960544905, 17.88741960220532, 15.84899183160521, 11.7370154030731, 12.858354263990938, 41.38814859043956, 16.170111755102585, 10.928590234016132, 20.236340103004853, 33.582565875157556, 15.551990229051935, 11.357646034314259, 21.729578169830756, 10.003141908463801, 10.200715713751059, 12.40647341393168, 19.779059117800145, 9.935086948213954, 12.281756849034922, 15.691026661814998, 19.94416780409844, 31.76927221230847, 59.66073146533121, 29.413331472753196, 22.1618702433354, 42.023248048912585, 78.64346397717858, 51.89231743505034, 23.119884843914654, 49.30697892318522, 38.26364096965395, 161.45014120183473, 79.46919818394282, 119.16122687123881, 70.78226743886333, 55.907675187159015, 62.99349405834372, 31.842768357446786, 96.77424631180236, 54.1658804076454, 113.24912313208652, 94.3005342974941, 90.42401434058176, 67.92799915776254, 29.4745896654838, 54.01860946122071, 53.25722828812343, 141.99134868729928, 160.18827160222745, 70.30339133732653, 131.03560079634002, 153.6624901952369, 121.11971178120115, 77.55125791640023, 100.220389783853, 123.21114863169623, 204.02207868552935, 75.96007387137159, 184.49705850192058, 151.66661870244295, 257.93355182694495, 171.8612962302367, 154.62818469776286, 173.63984840441032, 262.81592714670165, 163.7178037354357, 260.4974921856582, 101.89464639981078, 132.42016843053258, 169.24343748932904, 171.8734081070069, 243.50751171344172, 19.51366482991033, 11.291154869718119, 11.291154869718117, 12.991422051573192, 16.15176250818086, 12.251444057913574, 10.88359496055042, 9.477006223935263, 14.640344368482648, 8.510772578249563, 9.975396508833182, 10.331004378917545, 36.497251032191315, 60.436553088831914, 7.99786917792248, 7.699676123227012, 32.6050351780023, 7.37507650348142, 8.603766806094232, 7.131875972981122, 6.658229170745047, 15.846671952569361, 6.478659569567951, 7.136338287102344, 6.263685014846835, 11.167058038510007, 6.232734462340007, 5.978040374647145, 5.985882936788421, 6.152319884112698, 36.96753737895074, 46.93735858856059, 11.352600720932776, 146.90302079359492, 35.93239896933262, 94.44234390137696, 11.450506921654778, 16.100425698462264, 21.498261755579225, 23.683102836295866, 40.79167896022704, 50.16653953058997, 38.924598439957435, 35.497071717714284, 51.145917618587234, 48.21941079765885, 20.101736084188538, 24.935595265176175, 15.771442375297799, 17.019624747662412, 24.633242819924913, 34.558526004276395, 25.735713039843944, 53.06770428265826, 128.25380384454084, 50.90549144481305, 182.33130576468116, 77.41584157864564, 69.05324754648183, 111.12878123626278, 36.98047611671661, 62.07003584315578, 15.09899617645345, 9.355513569368274, 8.978397893142812, 7.9006704852494, 7.9006704852501795, 8.14672636156899, 7.3868806611998385, 6.972650013333946, 6.7393588286166395, 6.807807929063556, 6.520142770384605, 6.336946688967496, 6.044951474149293, 5.7129264706602365, 5.515901235571941, 5.451276066281285, 5.113157214772484, 4.927418407731467, 4.917088852814742, 4.858362895163641, 4.838887852101156, 4.932119879023321, 4.915350788979604, 4.754597677655873, 4.642800997016169, 4.748558026837787, 4.570599640989513, 4.544462719696436, 4.544462719696436, 4.544462719696436, 4.631276430912493, 12.248814315079857, 7.914124197536008, 26.48890563654795, 32.97572359882196, 7.052179442763427, 14.16465694801691, 15.698377356238343, 29.807961033398048, 10.77298139364085, 14.262999524902147, 151.66661870244295, 15.924557734364571, 60.11903055141413, 15.773051816882282, 18.87723927741084, 33.5899889294103, 69.06746050956063, 123.21114863169623, 23.784791735311742, 132.42016843053258, 143.46103365095863, 121.11971178120115, 38.23113676216097, 66.76745608473423, 46.964449834570544, 38.725478629385215, 94.3005342974941, 171.8612962302367, 67.92799915776254, 204.02207868552935, 131.03560079634002, 47.88219593725319, 53.48310173551374, 87.36124671842046, 262.81592714670165, 151.73905579810344, 184.49705850192058, 153.6624901952369, 257.93355182694495, 12.882098980298233, 14.161750737542809, 12.840755427198216, 12.717062256852705, 21.3125189036383, 8.03775185717827, 7.818751038822849, 5.864367317613227, 5.544108070316096, 7.870616304395147, 5.566200388046591, 5.550169740481698, 7.624770093698117, 7.624770064920155, 7.642551806805446, 9.59278115618097, 4.8791904653427896, 6.606968106960071, 4.800702807479967, 4.8007028074732325, 4.972377430714776, 4.968734125979116, 4.718744308842559, 4.718744308842314, 4.731103272652416, 4.731103272580949, 7.620081529845238, 4.468462821260367, 4.966482855359795, 4.163274984248959, 34.396010837714016, 8.275936268781223, 47.572594764310274, 9.10540424391627, 21.353312516783706, 19.913311234937314, 17.001793674000492, 17.50216324825272, 5.7193530712217315, 17.66615909679092, 10.08867134886116, 8.808541717363644, 16.927761496757714, 16.95066443487659, 28.777218915103013, 17.82776203833667, 14.149635750884096, 34.543391158323175], \"loglift\": [30.0, 29.0, 28.0, 27.0, 26.0, 25.0, 24.0, 23.0, 22.0, 21.0, 20.0, 19.0, 18.0, 17.0, 16.0, 15.0, 14.0, 13.0, 12.0, 11.0, 10.0, 9.0, 8.0, 7.0, 6.0, 5.0, 4.0, 3.0, 2.0, 1.0, 0.5759, 0.5718, 0.571, 0.5689, 0.5637, 0.5631, 0.5628, 0.5628, 0.5622, 0.5621, 0.56, 0.5575, 0.5568, 0.556, 0.556, 0.5559, 0.5554, 0.5545, 0.5544, 0.5537, 0.5532, 0.5526, 0.5525, 0.5515, 0.55, 0.5495, 0.5489, 0.5486, 0.5483, 0.5478, 0.5431, 0.5271, 0.5384, 0.5036, 0.5397, 0.5318, 0.5019, 0.4915, 0.4438, 0.5086, 0.4039, 0.5013, 0.4233, 0.4998, 0.5024, 0.4387, 0.356, 0.4044, 0.3495, 0.3761, 0.2879, 0.2944, 0.2084, 0.2788, 0.3493, 0.3334, 0.1294, 0.2054, 0.255, 0.2549, 0.2757, 0.2333, 0.1714, 0.0656, 0.2798, 0.1504, 0.1657, 0.202, 0.2724, -0.0728, 0.1837, 0.1281, 0.0608, 0.1626, 0.0209, 0.184, -0.0111, 1.2582, 1.2489, 1.2404, 1.2346, 1.2335, 1.2331, 1.2318, 1.2318, 1.2294, 1.2244, 1.2242, 1.2231, 1.223, 1.2188, 1.2173, 1.2155, 1.2149, 1.2142, 1.2096, 1.2085, 1.2079, 1.2078, 1.2078, 1.2076, 1.2074, 1.207, 1.2069, 1.2069, 1.2065, 1.2063, 1.2063, 1.2003, 1.1839, 1.1923, 1.195, 1.1729, 1.1493, 1.1514, 1.1896, 1.1354, 1.1495, 1.0448, 1.0905, 1.056, 1.0887, 1.1099, 1.0974, 1.1578, 1.0428, 1.0797, 0.9751, 0.9996, 1.0046, 1.0359, 1.1545, 1.063, 1.0596, 0.8907, 0.8469, 0.9968, 0.8492, 0.7998, 0.8587, 0.9564, 0.8769, 0.815, 0.6181, 0.943, 0.6162, 0.6472, 0.3387, 0.5238, 0.5369, 0.4568, 0.1969, 0.4378, 0.1086, 0.7316, 0.5201, 0.2866, 0.2439, -0.1443, 2.5306, 2.519, 2.519, 2.5172, 2.5158, 2.5127, 2.5106, 2.5059, 2.5037, 2.4944, 2.4929, 2.4925, 2.4915, 2.4908, 2.4904, 2.4865, 2.4843, 2.4822, 2.4797, 2.4783, 2.4695, 2.4662, 2.4657, 2.4636, 2.4627, 2.4626, 2.462, 2.4566, 2.4562, 2.4558, 2.4543, 2.4433, 2.4531, 2.3807, 2.408, 2.3612, 2.4419, 2.4178, 2.3864, 2.3771, 2.2526, 2.2127, 2.2457, 2.2494, 2.0791, 2.0296, 2.2851, 2.2179, 2.355, 2.3175, 2.1213, 1.953, 2.0765, 1.6814, 1.0873, 1.6138, 0.7324, 1.3053, 1.3032, 0.8369, 1.7391, 1.1938, 2.7771, 2.7452, 2.7418, 2.7289, 2.7289, 2.7281, 2.7218, 2.7153, 2.7109, 2.7091, 2.7065, 2.7036, 2.6943, 2.6864, 2.6825, 2.6714, 2.671, 2.6638, 2.6633, 2.6618, 2.6615, 2.6615, 2.6605, 2.658, 2.6527, 2.652, 2.6511, 2.65, 2.65, 2.65, 2.6499, 2.638, 2.6421, 2.6024, 2.5728, 2.6091, 2.5196, 2.4843, 2.3874, 2.5202, 2.4586, 1.9956, 2.4117, 2.1059, 2.4001, 2.3213, 2.1308, 1.8477, 1.5963, 2.1498, 1.2474, 1.1036, 1.1596, 1.7812, 1.4425, 1.5919, 1.6299, 1.041, 0.5873, 1.2352, 0.4625, 0.7063, 1.4648, 1.3718, 0.9488, -0.0301, 0.3929, 0.1988, 0.3499, -0.2629, 3.3607, 3.3606, 3.3606, 3.36, 3.3305, 3.3187, 3.3151, 3.2846, 3.281, 3.2804, 3.2802, 3.2802, 3.2756, 3.2756, 3.2754, 3.2624, 3.2606, 3.2592, 3.2589, 3.2589, 3.2582, 3.2567, 3.2559, 3.2559, 3.2541, 3.2541, 3.2523, 3.2454, 3.242, 3.2297, 3.1923, 3.2151, 3.0778, 3.1522, 2.9255, 2.9263, 2.9511, 2.8635, 3.2053, 2.8111, 2.9893, 3.0259, 2.5495, 2.5421, 2.1438, 2.3923, 2.5504, 1.6378], \"logprob\": [30.0, 29.0, 28.0, 27.0, 26.0, 25.0, 24.0, 23.0, 22.0, 21.0, 20.0, 19.0, 18.0, 17.0, 16.0, 15.0, 14.0, 13.0, 12.0, 11.0, 10.0, 9.0, 8.0, 7.0, 6.0, 5.0, 4.0, 3.0, 2.0, 1.0, -6.6987, -7.3326, -7.4066, -7.4864, -7.7569, -7.7839, -7.5817, -7.7858, -7.535, -7.1353, -7.8998, -7.9737, -7.5351, -8.0359, -7.9848, -7.8641, -8.0532, -8.0858, -8.0853, -7.9875, -8.1245, -7.3628, -7.5345, -8.0894, -6.9756, -8.1663, -7.4484, -8.051, -8.2577, -7.9034, -7.46, -7.0455, -7.6134, -6.6496, -7.7492, -7.575, -7.0311, -6.9743, -6.4052, -7.3024, -5.939, -7.2425, -6.2759, -7.2438, -7.3577, -6.8646, -6.3567, -6.7011, -6.4008, -6.5943, -6.0533, -6.3223, -6.0123, -6.4563, -6.7595, -6.7073, -6.0239, -6.3213, -6.4899, -6.4941, -6.5683, -6.4997, -6.3387, -6.0788, -6.6404, -6.3475, -6.4432, -6.5515, -6.6591, -6.236, -6.5653, -6.5105, -6.527, -6.5965, -6.5483, -6.614, -6.5956, -7.0513, -7.28, -7.1981, -7.743, -6.3815, -7.7212, -7.7809, -7.7977, -7.3112, -7.9429, -7.9433, -7.6087, -7.7298, -8.0343, -7.9446, -6.7774, -7.7179, -8.1103, -7.4988, -6.9934, -7.7638, -8.0782, -7.4294, -8.2054, -8.186, -7.9906, -7.5244, -8.213, -8.0013, -7.7565, -7.5167, -7.0571, -6.4433, -7.1422, -7.4225, -6.8048, -6.2017, -6.6153, -7.3856, -6.6824, -6.9218, -5.5869, -6.25, -5.8794, -6.3676, -6.5823, -6.4755, -7.0973, -6.1007, -6.6442, -6.0112, -6.1698, -6.2068, -6.4615, -7.1778, -6.6636, -6.6811, -5.8694, -5.7926, -6.4663, -5.9913, -5.8813, -6.0604, -6.4085, -6.2316, -6.087, -5.7795, -6.4426, -5.8821, -6.047, -5.8244, -6.0454, -6.138, -6.1021, -5.9475, -6.1799, -6.0447, -6.3603, -6.3098, -6.2979, -6.3252, -6.365, -6.2141, -6.7729, -6.7729, -6.6344, -6.418, -6.6976, -6.8181, -6.9611, -6.5284, -7.0802, -6.9228, -6.8883, -5.6271, -5.1235, -7.1464, -7.1882, -5.7471, -7.2356, -7.084, -7.273, -7.3506, -6.4868, -7.3817, -7.2871, -7.4184, -6.8403, -7.4241, -7.4711, -7.4703, -7.4432, -5.6515, -5.4237, -6.8333, -4.3454, -5.7263, -4.8067, -6.8359, -6.5192, -6.2615, -6.174, -5.7548, -5.5878, -5.8085, -5.8971, -5.7021, -5.8106, -6.43, -6.2817, -6.6026, -6.5641, -6.3905, -6.2202, -6.3915, -6.063, -5.7746, -6.1721, -5.7776, -6.0613, -6.1778, -6.1683, -6.3664, -6.3938, -6.2242, -6.7348, -6.7793, -6.9201, -6.9201, -6.8901, -6.9944, -7.0586, -7.097, -7.0887, -7.1345, -7.1659, -7.2223, -7.2868, -7.3258, -7.3487, -7.413, -7.4572, -7.4599, -7.4733, -7.4777, -7.4587, -7.463, -7.4988, -7.5279, -7.506, -7.5452, -7.552, -7.552, -7.552, -7.5332, -6.5724, -7.0051, -5.8367, -5.6473, -7.1534, -6.5455, -6.478, -5.9337, -6.8187, -6.5996, -4.6986, -6.5363, -5.5136, -6.5575, -6.4566, -6.0708, -5.6331, -5.3057, -6.397, -5.5825, -5.6462, -5.7595, -6.291, -6.0722, -6.2746, -6.4294, -6.1284, -5.9819, -6.2622, -5.9351, -6.1341, -6.3823, -6.3648, -6.297, -6.1746, -6.3008, -6.2994, -6.3312, -6.4261, -5.7993, -5.7048, -5.8027, -5.8129, -5.3261, -6.313, -6.3443, -6.6624, -6.7221, -6.3723, -6.7189, -6.7219, -6.4089, -6.4089, -6.4068, -6.1925, -6.8703, -6.5685, -6.8882, -6.8882, -6.8538, -6.856, -6.9084, -6.9084, -6.9076, -6.9076, -6.4328, -6.9734, -6.8712, -7.0599, -4.9857, -6.3874, -4.7759, -6.3548, -5.7292, -5.7982, -5.9314, -5.99, -6.7668, -6.0331, -6.4152, -6.5142, -6.3375, -6.3435, -6.2125, -6.4428, -6.5158, -6.5359]}, \"token.table\": {\"Topic\": [3, 1, 2, 4, 1, 2, 4, 3, 1, 2, 3, 4, 1, 2, 5, 2, 1, 2, 3, 4, 5, 4, 1, 2, 3, 4, 3, 1, 2, 4, 5, 1, 5, 1, 2, 1, 5, 1, 5, 1, 2, 3, 4, 1, 3, 1, 3, 2, 4, 4, 2, 1, 5, 1, 5, 1, 2, 3, 5, 3, 1, 1, 3, 5, 1, 3, 1, 2, 3, 4, 1, 3, 5, 1, 3, 1, 2, 5, 1, 2, 3, 4, 4, 1, 2, 4, 1, 2, 4, 5, 3, 1, 2, 1, 2, 4, 2, 1, 3, 5, 4, 1, 2, 4, 1, 3, 1, 3, 3, 1, 3, 1, 2, 1, 2, 1, 2, 4, 1, 2, 4, 1, 2, 3, 4, 2, 1, 5, 3, 1, 2, 3, 4, 1, 2, 3, 1, 4, 2, 4, 3, 1, 2, 4, 4, 1, 2, 4, 1, 2, 3, 4, 5, 1, 2, 1, 4, 4, 2, 4, 1, 2, 5, 1, 1, 2, 4, 1, 2, 4, 2, 4, 1, 3, 1, 2, 3, 4, 4, 5, 1, 1, 2, 4, 1, 2, 4, 1, 5, 1, 2, 5, 1, 2, 3, 4, 1, 2, 1, 2, 1, 2, 3, 4, 5, 1, 2, 3, 4, 5, 1, 5, 1, 3, 1, 2, 1, 2, 4, 1, 2, 1, 2, 4, 1, 2, 4, 1, 1, 2, 3, 4, 4, 2, 4, 1, 2, 5, 2, 4, 5, 4, 1, 2, 3, 4, 1, 5, 4, 1, 2, 4, 1, 2, 3, 4, 1, 2, 1, 3, 1, 3, 1, 2, 3, 4, 1, 2, 5, 4, 1, 2, 3, 1, 2, 4, 1, 2, 5, 1, 3, 3, 5, 1, 2, 1, 1, 3, 1, 2, 4, 2, 4, 2, 4, 1, 2, 3, 4, 4, 2, 4, 1, 2, 4, 5, 2, 4, 1, 2, 3, 2, 4, 1, 3, 1, 3, 1, 3, 1, 3, 1, 3, 5, 5, 3, 1, 2, 4, 5, 2, 4, 3, 1, 2, 3, 4, 1, 2, 3, 4, 1, 5, 3, 5, 1, 2, 3, 4, 1, 1, 2, 3, 4, 1, 2, 3, 4, 1, 3, 1, 2, 3, 4, 3, 2, 4, 2, 1, 2, 3, 4, 1, 2, 3, 4, 1, 2, 4, 1, 3, 5, 4, 1, 2, 3, 4, 5, 2, 4, 2, 4, 1, 2, 4, 1, 3, 2, 1, 2, 2, 4, 1, 1, 2, 3, 4, 1, 1, 3, 5, 2, 5, 1, 2, 3, 4, 1, 2, 3, 4, 5, 4, 2, 1, 2, 3, 4, 5, 4, 4, 4, 5, 1, 2, 3, 4, 1, 2, 3, 4, 1, 2, 4, 1, 1, 2, 4, 1, 2, 1, 1, 2, 3, 4, 1, 2, 2, 3, 1, 2, 4, 1, 2, 4, 2, 4, 1, 2, 3, 4, 2, 1, 2, 4, 1, 3, 3, 2, 3, 1, 2, 3, 4, 4, 1, 2, 3, 5, 1, 3, 3, 1, 2, 5, 1, 2, 3, 4, 1, 3, 5, 1, 2, 4, 3, 5, 1, 2, 1, 3, 1, 2, 3, 4, 3, 2, 4, 5, 1, 2, 1, 2, 3, 4, 1, 3, 1, 5, 2, 4, 1, 2, 4, 1, 2, 3, 4, 1, 5, 5, 1, 5, 2, 2, 1, 3, 1, 5, 5, 1, 2, 4, 2, 2, 4, 1, 2, 4, 5, 1, 4, 5, 1, 5, 4, 1, 2, 3, 4, 2, 2, 4, 1, 5, 4, 1, 2, 3, 4, 1, 2, 3, 4, 1, 1, 3, 1, 2, 3, 4, 1, 2, 4, 3, 1, 2, 3, 4, 1, 2, 3, 4, 2, 1, 2, 3, 4, 1, 2, 3, 4, 1, 2, 3, 4, 4, 1, 3, 1, 3, 5, 1, 3, 5, 1, 5, 2, 4, 1, 2, 3, 4, 4, 4, 1, 3, 1, 2, 3, 4, 2, 4, 4, 2, 2, 1, 1, 2, 3, 4, 1, 2, 3, 4, 5, 1, 1, 2, 3, 4, 1, 2, 4, 4, 2, 4, 1, 2, 3, 4, 1, 2, 3, 4, 5, 1, 2, 3, 4, 4, 4, 1, 2, 3, 4, 3, 4], \"Freq\": [0.8127015652927337, 0.06349862092576186, 0.8254820720349042, 0.09524793138864279, 0.029777355420591678, 0.923098018038342, 0.029777355420591678, 0.9742138981284394, 0.549504319810709, 0.37224486180725447, 0.0472691888009212, 0.035451891600690906, 0.9226438776048721, 0.07531786755958139, 0.8951624216203654, 0.9701986536681878, 0.6542405782965376, 0.26028926233303107, 0.05627875942335807, 0.028139379711679034, 0.0070348449279197586, 0.8423609814585596, 0.39025012422759303, 0.5149133583558518, 0.0216805624570885, 0.07046182798553763, 0.9491426965802504, 0.06084331397941995, 0.8720875003716859, 0.06084331397941995, 0.9159244421171899, 0.12083224997420958, 0.845825749819467, 0.9476207813856139, 0.027074879468160395, 0.046920779496847184, 0.9384155899369437, 0.2732665742620541, 0.7146971942238338, 0.7444117874305816, 0.1830520788763725, 0.048813887700366, 0.024406943850183, 0.06310473284189247, 0.8834662597864945, 0.13915018599975393, 0.8349011159985236, 0.2804459183369034, 0.7011147958422586, 0.8636927766395249, 0.9503886182612996, 0.17484494969050518, 0.874224748452526, 0.10424505508036784, 0.8339604406429427, 0.4169965150350959, 0.13899883834503196, 0.13899883834503196, 0.2779976766900639, 0.8752331207570857, 0.9772767867545666, 0.9640189240661555, 0.9626593329546997, 0.8332113360084709, 0.2817133784872077, 0.7042834462180192, 0.6627483743330553, 0.10915855577250323, 0.2261141512430424, 0.0077970396980359446, 0.1065249547557323, 0.8735046289970049, 0.02130499095114646, 0.08733237810710692, 0.8733237810710692, 0.9363502557964114, 0.047611029955749735, 0.015870343318583245, 0.25942824664795894, 0.6685266355928173, 0.01995601897291992, 0.0498900474322998, 0.8752081837003156, 0.14809711097326747, 0.7960219714813126, 0.03702427774331687, 0.23629822530085542, 0.23629822530085542, 0.059074556325213856, 0.413521894276497, 0.939985168966339, 0.808285744943307, 0.1825161359549403, 0.07423075650787712, 0.7529119588656108, 0.16967030058943344, 0.882291032566231, 0.13954616582996254, 0.8372769949797751, 0.9315252132709656, 0.8615488802063056, 0.11444053383268692, 0.8773774260505997, 0.012715614870298545, 0.10820304200943594, 0.8656243360754875, 0.19059247426977044, 0.8047237802501419, 0.8407673177214605, 0.2990040800173884, 0.6976761867072395, 0.041781893060556616, 0.9609835403928021, 0.9706524695209879, 0.0242663117380247, 0.1314375573984016, 0.8074021383044669, 0.05633038174217211, 0.05297384778062514, 0.31784308668375083, 0.5827123255868766, 0.17660180888706115, 0.7328975068813037, 0.035320361777412226, 0.052980542666118347, 0.9379357882341943, 0.2196497757182269, 0.7687742150137941, 0.8412933739637093, 0.5643688635045198, 0.3549123780801619, 0.04072764994362514, 0.03490941423739298, 0.9097623386680382, 0.042314527379908755, 0.021157263689954377, 0.12635636932654418, 0.8844945852858093, 0.9431813284474414, 0.037727253137897654, 0.9261174993950373, 0.9750149819298901, 0.16328111020000885, 0.8164055510000442, 0.9468282272984695, 0.21336097327122788, 0.7538754388916719, 0.028448129769497052, 0.7884776862888144, 0.14971095309281288, 0.04990365103093762, 0.009980730206187524, 0.7205865601839869, 0.05055852222515736, 0.9100534000528325, 0.9723880727449812, 0.881340963569947, 0.9172164350522182, 0.3169963592364781, 0.6339927184729562, 0.06280860940070487, 0.8793205316098682, 0.03140430470035244, 0.9838908856923355, 0.014721469974075101, 0.7802379086259803, 0.20610057963705142, 0.10442294682040495, 0.6265376809224298, 0.2506150723689719, 0.4990100426576878, 0.4823763745690982, 0.06830440424289294, 0.8879572551576083, 0.6858104656603968, 0.2381856707084013, 0.041066494949724364, 0.03285319595977949, 0.8266362276329898, 0.8708902842961636, 0.9458814660226219, 0.22894541496876883, 0.648678675744845, 0.1221042213166767, 0.188221774828401, 0.43435794191169463, 0.376443549656802, 0.9755583038285572, 0.8454687563303739, 0.22705233898791033, 0.11352616949395516, 0.681157016963731, 0.17342815429932748, 0.786620557000521, 0.012387725307094819, 0.024775450614189638, 0.1156240518167211, 0.8864510639281951, 0.9676350689930316, 0.8956373371668207, 0.7144659515897306, 0.20116031646701152, 0.05549250109434801, 0.020809687910380504, 0.013873125273587002, 0.47789207854108096, 0.2027420939265192, 0.27514998461456175, 0.014481578137608513, 0.028963156275217027, 0.13123219168762748, 0.7873931501257649, 0.2696628400788624, 0.7109293056624554, 0.9228865657509575, 0.07533767883681286, 0.11302265792643375, 0.8194142699666447, 0.056511328963216874, 0.961475484097096, 0.022359894979002235, 0.08116148669218304, 0.6249434475298093, 0.2921813520918589, 0.970895027691084, 0.01797953754983489, 0.01797953754983489, 0.9806452427828077, 0.7355800519427341, 0.1983586656924227, 0.041324722019254724, 0.024794833211552837, 0.8801920593744457, 0.21227737365708851, 0.7884588164406144, 0.965501000901717, 0.9382588537632089, 0.8454687563431453, 0.9042613735085455, 0.09518540773774163, 0.8332113360096397, 0.9476259765191606, 0.8621027551049885, 0.12315753644356979, 0.007697346027723112, 0.007697346027723112, 0.9611730249544604, 0.9018583217687758, 0.8271364991732462, 0.11325496195134477, 0.07550330796756317, 0.7927847336594134, 0.5935713322005866, 0.338640054909309, 0.011414833311549742, 0.057074166557748704, 0.9420854866181028, 0.03248570643510699, 0.18379472290046484, 0.816865435113177, 0.16889678804543062, 0.8022597432157955, 0.6538723794073533, 0.29666432028666956, 0.01816312165020426, 0.02421749553360568, 0.20087066147904717, 0.20087066147904717, 0.6026119844371415, 0.8801920593744457, 0.9181553127057247, 0.07303508169250082, 0.01043358309892869, 0.017886631784497488, 0.840671693871382, 0.1430930542759799, 0.9690828232383383, 0.015141919113099036, 0.015141919113099036, 0.24873473510245017, 0.7462042053073505, 0.9022197756280192, 0.908132127000785, 0.9265939472135147, 0.060430040035664004, 0.965449136897008, 0.1762671060307625, 0.7638241261333042, 0.9731253469872154, 0.2548034047869571, 0.700709363164132, 0.31398046234026306, 0.6907570171485787, 0.8997173170546517, 0.8110102953929207, 0.3925623319114269, 0.5790294395693547, 0.009814058297785672, 0.019628116595571343, 0.8412909506093253, 0.14180013542141884, 0.8508008125285131, 0.08517080502571114, 0.6174883364364058, 0.29809781758998904, 0.9179655990934082, 0.9204044295608051, 0.04602022147804025, 0.31085208276974596, 0.07771302069243649, 0.5828476551932736, 0.2117947516138051, 0.7059825053793503, 0.09201032857722588, 0.8894331762465169, 0.6089716280139892, 0.3732406752343804, 0.08273138927448116, 0.9100452820192928, 0.39103805213051224, 0.606108980802294, 0.4629827093325712, 0.5208555479991426, 0.8476831415731325, 0.8044441629252996, 0.8978533426755331, 0.18599989858877117, 0.7853329051525894, 0.010333327699376175, 0.02066665539875235, 0.9083090223750563, 0.04325281058928839, 0.8363944849226826, 0.912850643698904, 0.014263291307795375, 0.07131645653897688, 0.8117841167544688, 0.5156366787413277, 0.38769675093332906, 0.046523610111999486, 0.046523610111999486, 0.9555867990841136, 0.026544077752336488, 0.9742138981284396, 0.8050340184406182, 0.8355838478355705, 0.13926397463926174, 0.009947426759947267, 0.019894853519894534, 0.969385898344999, 0.6334034105879356, 0.3109434924704411, 0.02303285129410675, 0.034549276941160126, 0.49527801820987805, 0.4376875509761713, 0.017277140170112025, 0.0460723737869654, 0.28072319612020075, 0.6817563334347732, 0.5961008318650721, 0.09666499976190358, 0.24166249940475895, 0.04833249988095179, 0.8711640872368884, 0.960426090250096, 0.03311814104310676, 0.9464324393232258, 0.24499924966377568, 0.722103051640602, 0.025789394701450072, 0.012894697350725036, 0.6447397932098055, 0.27631705423277375, 0.04334385164435667, 0.037925870188812084, 0.3739498897970542, 0.3739498897970542, 0.2243699338782325, 0.24357329012105638, 0.6089332253026409, 0.12178664506052819, 0.8910275636269076, 0.6209012573736784, 0.19796851684378153, 0.17097281000144768, 0.01799713789488923, 0.9180604679196177, 0.9422987335318688, 0.04832301197599327, 0.8885720004263226, 0.10453788240309676, 0.033522887683034824, 0.9051179674419404, 0.050284331524552243, 0.5841594321639111, 0.3957209056594236, 0.9497899187118306, 0.05013997123482406, 0.9025194822268331, 0.33548084650257004, 0.6374136083548831, 0.9699864845589261, 0.6656003632845165, 0.27062871913766057, 0.021942869119269775, 0.03657144853211629, 0.9552079316933881, 0.25690695346351106, 0.7193394696978309, 0.025690695346351107, 0.933245402454441, 0.8476831415731764, 0.4332974621085967, 0.47210021990936657, 0.025868505200513238, 0.0711383893014114, 0.5252941221895089, 0.4275649831775073, 0.01832421356475031, 0.03054035594125052, 0.9345244575395153, 0.8902924080140715, 0.9150311051899613, 0.6786444592462465, 0.20289370431073347, 0.08395601557685523, 0.027985338525618412, 0.8893839731573532, 0.8137771182004234, 0.8233226060535502, 0.8592408397342879, 0.8053989345162497, 0.8305953398788453, 0.10208434344879662, 0.05568236915388907, 0.009280394858981512, 0.14376711866645892, 0.7520126207168619, 0.055295045640945735, 0.04423603651275659, 0.03399818891397399, 0.9179511006772978, 0.03399818891397399, 0.9584526305489148, 0.8607676604609816, 0.12123488175506783, 0.012123488175506783, 0.9152262672838054, 0.07626885560698378, 0.9635432977242832, 0.2871620970742802, 0.6492360455592422, 0.031213271421117413, 0.031213271421117413, 0.9629564820320697, 0.02832224947153146, 0.9537910316854833, 0.9236864103377247, 0.2764610265593046, 0.7108997825810689, 0.013164810788538314, 0.18309683134842608, 0.44466373327474906, 0.3400369725042199, 0.47633239872820915, 0.5061031736487223, 0.41126150076087753, 0.39034989902727363, 0.020911601733603943, 0.18123388169123417, 0.9559603920948875, 0.1568695938966804, 0.6522472588335658, 0.18989477155913942, 0.08954910026897538, 0.8954910026897537, 0.9579025742479353, 0.9276373736419385, 0.9496669926489518, 0.727207784088653, 0.21732646421040205, 0.03343484064775416, 0.025076130485815622, 0.7822955234866535, 0.28046145047527793, 0.22436916038022237, 0.05609229009505559, 0.33655374057033355, 0.41477072550565136, 0.5806790157079119, 0.918814053283573, 0.951997009244146, 0.024410179724208874, 0.024410179724208874, 0.7925589419930519, 0.1544818276766118, 0.03358300601665474, 0.020149803609992845, 0.12422031798768017, 0.8695422259137612, 0.8198081276827094, 0.32472394884890765, 0.46820662392168083, 0.20389643299815133, 0.9011405054008689, 0.9180604713846282, 0.049416050279344335, 0.9389049553075425, 0.19021722481760986, 0.8242746408763093, 0.6581426019888946, 0.15905112881398287, 0.15905112881398287, 0.021938086732963154, 0.9224305201967905, 0.8123194835727158, 0.16615625800351005, 0.895283654031512, 0.9603823583148569, 0.026677287730968245, 0.7349622033661017, 0.17172014097338825, 0.061819250750419774, 0.034344028194677655, 0.08808554309111966, 0.8808554309111964, 0.2973632400403894, 0.6938475600942419, 0.8821157578470815, 0.10178258744389403, 0.02582279252298748, 0.6713926055976746, 0.30987351027584975, 0.3319549696156664, 0.4807623697882065, 0.022893446180390787, 0.1488074001725401, 0.9616122884039449, 0.898278835008796, 0.9008733487069985, 0.39995056043708344, 0.5713579434815478, 0.9478732535732208, 0.9616758382140005, 0.08219797149527616, 0.9041776864480378, 0.3529039414926749, 0.6469905594032374, 0.9436141584927518, 0.08808444227406824, 0.830510455726929, 0.08808444227406824, 0.9058803457797563, 0.9002063268948861, 0.06430045192106329, 0.5210837557175659, 0.26054187785878297, 0.028949097539864774, 0.17369458523918865, 0.49471238152279834, 0.07067319736039976, 0.42403918416239855, 0.9519844638987495, 0.8526068933272377, 0.9202252483262843, 0.7738714165460447, 0.1771512881249982, 0.037295008026315406, 0.009323752006578851, 0.9672369898866477, 0.18564962909715726, 0.7425985163886291, 0.4528431990320527, 0.5660539987900659, 0.961999566701256, 0.26681853162673064, 0.6182380610863271, 0.0260310762562664, 0.0846009978328658, 0.7352423684334668, 0.22210446546427645, 0.03829387335590973, 0.015317549342363892, 0.9628706206985798, 0.9896020778340019, 0.9298252940018585, 0.22536584303084592, 0.6760975290925377, 0.021128047784141804, 0.07746950854185329, 0.11748788064365835, 0.7972391900819674, 0.08391991474547025, 0.835298660665527, 0.6991224640410068, 0.2056242541297079, 0.054833134434588766, 0.04112485082594158, 0.7411520792637629, 0.18992022031133923, 0.04632200495398518, 0.02316100247699259, 0.9372058928302908, 0.6803464707223049, 0.2509474687090469, 0.03903627291029618, 0.02230644166302639, 0.6299318136373012, 0.2868996378942164, 0.04989558919899416, 0.03118474324937135, 0.5272208896992485, 0.3624643616682333, 0.019770783363721817, 0.08567339457612788, 0.8751586912421013, 0.5408259195170076, 0.43266073561360613, 0.3278179905107462, 0.046831141501535174, 0.6088048395199573, 0.47195790057289544, 0.11798947514322386, 0.4129631630012835, 0.17443883327950377, 0.7849747497577669, 0.9128317389897411, 0.06295391303377525, 0.3725087034190209, 0.5146501823552263, 0.014704290924435036, 0.09312717585475523, 0.8860007531092902, 0.9064701825614817, 0.06191274788082728, 0.9286912182124092, 0.11981885291312044, 0.5841169079514622, 0.044932069842420166, 0.25461506244038096, 0.9024509114258745, 0.04512254557129373, 0.8134894690199135, 0.938507431964382, 0.9685105493485426, 0.9688774382442092, 0.5928081419543962, 0.34382872233354983, 0.023712325678175848, 0.04149656993680773, 0.6686801252202224, 0.22985879304445142, 0.05572334376835186, 0.034827089855219914, 0.006965417971043983, 0.9841472262614136, 0.7173502816986899, 0.21590154109378046, 0.034822829208674265, 0.027858263366939414, 0.03296704339278227, 0.5274726942845164, 0.435164972784726, 0.8801920593744457, 0.4624804001823153, 0.5045240729261621, 0.5296073667086431, 0.15500703415862724, 0.28417956262414995, 0.02583450569310454, 0.40730520213360544, 0.4654916595812634, 0.011637291489531585, 0.10473562340578425, 0.005818645744765792, 0.7880118375450729, 0.13249756560492376, 0.0488148925912877, 0.027894224337878686, 0.8605049713560946, 0.9272139575631319, 0.84818676257766, 0.13915564073539735, 0.006626459082637969, 0.006626459082637969, 0.9091291488071357, 0.8860007531093776], \"Term\": [\"actusorgn\", \"advancen\", \"advancen\", \"advancen\", \"algorithm\", \"algorithm\", \"algorithm\", \"alink\", \"also\", \"also\", \"also\", \"also\", \"american\", \"american\", \"amorc\", \"amp\", \"andn\", \"andn\", \"andn\", \"andn\", \"andn\", \"antihistamin\", \"anyon\", \"anyon\", \"anyon\", \"anyon\", \"apostl\", \"appl\", \"appl\", \"appl\", \"appressian\", \"argicn\", \"argicn\", \"arm\", \"arm\", \"armenia\", \"armenia\", \"armenian\", \"armenian\", \"articl\", \"articl\", \"articl\", \"articl\", \"atheism\", \"atheism\", \"atheist\", \"atheist\", \"ati\", \"ati\", \"atm\", \"audio\", \"azerbaijan\", \"azerbaijan\", \"azeri\", \"azeri\", \"bank\", \"bank\", \"bank\", \"bank\", \"baptism\", \"basebal\", \"batf\", \"beauchain\", \"behannatdod\", \"belief\", \"belief\", \"believ\", \"believ\", \"believ\", \"believ\", \"bibl\", \"bibl\", \"bibl\", \"biblic\", \"biblic\", \"bike\", \"bike\", \"bike\", \"bit\", \"bit\", \"bit\", \"bit\", \"bo\", \"board\", \"board\", \"board\", \"cambridg\", \"cambridg\", \"cambridg\", \"cambridg\", \"candida\", \"car\", \"car\", \"card\", \"card\", \"card\", \"catalog\", \"cathol\", \"cathol\", \"chastiti\", \"chi\", \"chip\", \"chip\", \"chip\", \"christ\", \"christ\", \"christian\", \"christian\", \"christianityn\", \"church\", \"church\", \"circuit\", \"circuit\", \"clinton\", \"clinton\", \"code\", \"code\", \"code\", \"com\", \"com\", \"com\", \"comput\", \"comput\", \"comput\", \"comput\", \"connector\", \"corn\", \"corn\", \"cotekcom\", \"could\", \"could\", \"could\", \"could\", \"countri\", \"countri\", \"countri\", \"covington\", \"covington\", \"cpu\", \"cpu\", \"croat\", \"cup\", \"cursor\", \"cursor\", \"cview\", \"data\", \"data\", \"data\", \"day\", \"day\", \"day\", \"day\", \"dcxn\", \"de\", \"de\", \"defens\", \"deskjet\", \"det\", \"diamond\", \"diamond\", \"digit\", \"digit\", \"digit\", \"diseas\", \"disk\", \"disk\", \"disk\", \"display\", \"display\", \"display\", \"do\", \"do\", \"doctrin\", \"doctrin\", \"dont\", \"dont\", \"dont\", \"dont\", \"dortmund\", \"dpaorg\", \"drink\", \"drive\", \"drive\", \"drive\", \"driver\", \"driver\", \"driver\", \"drug\", \"drydenn\", \"eliotn\", \"eliotn\", \"eliotn\", \"email\", \"email\", \"email\", \"email\", \"encrypt\", \"encrypt\", \"espn\", \"ethernet\", \"even\", \"even\", \"even\", \"even\", \"even\", \"exist\", \"exist\", \"exist\", \"exist\", \"exist\", \"exterminationn\", \"exterminationn\", \"faith\", \"faith\", \"fan\", \"fan\", \"fax\", \"fax\", \"fax\", \"fbi\", \"fbi\", \"file\", \"file\", \"file\", \"fire\", \"fire\", \"fire\", \"firearm\", \"first\", \"first\", \"first\", \"first\", \"floppyburn\", \"font\", \"font\", \"food\", \"fpu\", \"fredicom\", \"ftp\", \"ftp\", \"fxwg\", \"gaedu\", \"game\", \"game\", \"game\", \"game\", \"gay\", \"gehrel\", \"geico\", \"georgia\", \"georgia\", \"georgia\", \"get\", \"get\", \"get\", \"get\", \"goal\", \"goal\", \"god\", \"god\", \"godn\", \"godn\", \"good\", \"good\", \"good\", \"good\", \"gordon\", \"gordon\", \"gordon\", \"goshi\", \"govern\", \"govern\", \"govern\", \"graphic\", \"graphic\", \"graphic\", \"gun\", \"gun\", \"gun\", \"heaven\", \"heaven\", \"hebrew\", \"henrik\", \"hit\", \"hit\", \"hockey\", \"holi\", \"holi\", \"homosexu\", \"hst\", \"hst\", \"icon\", \"icon\", \"iisi\", \"iivx\", \"inform\", \"inform\", \"inform\", \"inform\", \"ini\", \"ink\", \"ink\", \"instal\", \"instal\", \"instal\", \"intellect\", \"interfac\", \"interfac\", \"interpret\", \"interpret\", \"interpret\", \"irq\", \"irq\", \"islam\", \"islam\", \"israel\", \"israel\", \"jesu\", \"jesu\", \"jew\", \"jew\", \"jewish\", \"jewish\", \"jneccomt\", \"jubile\", \"kentn\", \"key\", \"key\", \"key\", \"key\", \"keyboard\", \"keyboard\", \"khomeini\", \"kill\", \"kill\", \"kill\", \"kipl\", \"know\", \"know\", \"know\", \"know\", \"koresh\", \"koresh\", \"ksand\", \"ladyn\", \"last\", \"last\", \"last\", \"last\", \"leaf\", \"like\", \"like\", \"like\", \"like\", \"look\", \"look\", \"look\", \"look\", \"lord\", \"lord\", \"love\", \"love\", \"love\", \"love\", \"luke\", \"mac\", \"mac\", \"macintosh\", \"mail\", \"mail\", \"mail\", \"mail\", \"make\", \"make\", \"make\", \"make\", \"manag\", \"manag\", \"manag\", \"mari\", \"mari\", \"mari\", \"maxaxaxaxaxaxaxaxaxaxaxaxaxaxaxn\", \"mean\", \"mean\", \"mean\", \"mean\", \"melkonian\", \"mhz\", \"mhz\", \"modem\", \"modem\", \"monitor\", \"monitor\", \"monitor\", \"moral\", \"moral\", \"motherboard\", \"motorola\", \"motorola\", \"mous\", \"mous\", \"msg\", \"much\", \"much\", \"much\", \"much\", \"murder\", \"muslim\", \"muslim\", \"muslim\", \"nec\", \"nect\", \"need\", \"need\", \"need\", \"need\", \"new\", \"new\", \"new\", \"new\", \"njxp\", \"ntmi\", \"nubu\", \"ofn\", \"ofn\", \"ofn\", \"ofn\", \"ohanu\", \"olwm\", \"oort\", \"openwindow\", \"ozal\", \"peopl\", \"peopl\", \"peopl\", \"peopl\", \"phone\", \"phone\", \"phone\", \"phone\", \"pin\", \"pin\", \"pin\", \"pitcher\", \"play\", \"play\", \"play\", \"player\", \"player\", \"playoff\", \"pleas\", \"pleas\", \"pleas\", \"pleas\", \"polic\", \"polic\", \"polygon\", \"pplecom\", \"price\", \"price\", \"price\", \"print\", \"print\", \"print\", \"printer\", \"printer\", \"problem\", \"problem\", \"problem\", \"problem\", \"processor\", \"program\", \"program\", \"program\", \"prophet\", \"prophet\", \"psalm\", \"quadra\", \"quran\", \"realli\", \"realli\", \"realli\", \"realli\", \"reboost\", \"region\", \"region\", \"region\", \"region\", \"religion\", \"religion\", \"revel\", \"ride\", \"ride\", \"ride\", \"right\", \"right\", \"right\", \"right\", \"roman\", \"roman\", \"rosicrucian\", \"run\", \"run\", \"run\", \"rushdi\", \"sahak\", \"salen\", \"salen\", \"satan\", \"satan\", \"say\", \"say\", \"say\", \"say\", \"scriptur\", \"scsi\", \"scsi\", \"sdpa\", \"season\", \"season\", \"see\", \"see\", \"see\", \"see\", \"serb\", \"serb\", \"serdar\", \"serdar\", \"serial\", \"serial\", \"server\", \"server\", \"server\", \"set\", \"set\", \"set\", \"set\", \"sexual\", \"shafer\", \"shaftdriven\", \"shame\", \"shame\", \"shippingn\", \"simm\", \"sin\", \"sin\", \"skeptic\", \"skeptic\", \"slpittedu\", \"softwar\", \"softwar\", \"softwar\", \"solder\", \"soni\", \"soni\", \"soon\", \"soon\", \"soon\", \"soon\", \"soviet\", \"soviet\", \"soviet\", \"sport\", \"ssto\", \"stacker\", \"state\", \"state\", \"state\", \"state\", \"stereo\", \"suno\", \"suno\", \"surrend\", \"surrend\", \"svr\", \"system\", \"system\", \"system\", \"system\", \"take\", \"take\", \"take\", \"take\", \"tank\", \"team\", \"testament\", \"thank\", \"thank\", \"thank\", \"thank\", \"thanksn\", \"thanksn\", \"thanksn\", \"theism\", \"thing\", \"thing\", \"thing\", \"thing\", \"think\", \"think\", \"think\", \"think\", \"tiff\", \"time\", \"time\", \"time\", \"time\", \"ton\", \"ton\", \"ton\", \"ton\", \"tri\", \"tri\", \"tri\", \"tri\", \"truetyp\", \"truth\", \"truth\", \"turk\", \"turk\", \"turk\", \"turkey\", \"turkey\", \"turkey\", \"turkish\", \"turkish\", \"upgrad\", \"upgrad\", \"use\", \"use\", \"use\", \"use\", \"utzoohenryn\", \"uucpt\", \"vers\", \"vers\", \"version\", \"version\", \"version\", \"version\", \"vga\", \"vga\", \"virusit\", \"voltag\", \"vram\", \"waco\", \"want\", \"want\", \"want\", \"want\", \"way\", \"way\", \"way\", \"way\", \"way\", \"weapon\", \"well\", \"well\", \"well\", \"well\", \"window\", \"window\", \"window\", \"windowscrashn\", \"windowsn\", \"windowsn\", \"word\", \"word\", \"word\", \"word\", \"work\", \"work\", \"work\", \"work\", \"work\", \"writesn\", \"writesn\", \"writesn\", \"writesn\", \"xdm\", \"xterm\", \"year\", \"year\", \"year\", \"year\", \"zionism\", \"zoologyn\"]}, \"R\": 30, \"lambda.step\": 0.01, \"plot.opts\": {\"xlab\": \"PC1\", \"ylab\": \"PC2\"}, \"topic.order\": [3, 4, 2, 1, 5]};\n",
              "\n",
              "function LDAvis_load_lib(url, callback){\n",
              "  var s = document.createElement('script');\n",
              "  s.src = url;\n",
              "  s.async = true;\n",
              "  s.onreadystatechange = s.onload = callback;\n",
              "  s.onerror = function(){console.warn(\"failed to load library \" + url);};\n",
              "  document.getElementsByTagName(\"head\")[0].appendChild(s);\n",
              "}\n",
              "\n",
              "if(typeof(LDAvis) !== \"undefined\"){\n",
              "   // already loaded: just create the visualization\n",
              "   !function(LDAvis){\n",
              "       new LDAvis(\"#\" + \"ldavis_el1191401648811286888298012056\", ldavis_el1191401648811286888298012056_data);\n",
              "   }(LDAvis);\n",
              "}else if(typeof define === \"function\" && define.amd){\n",
              "   // require.js is available: use it to load d3/LDAvis\n",
              "   require.config({paths: {d3: \"https://cdnjs.cloudflare.com/ajax/libs/d3/3.5.5/d3.min\"}});\n",
              "   require([\"d3\"], function(d3){\n",
              "      window.d3 = d3;\n",
              "      LDAvis_load_lib(\"https://cdn.rawgit.com/bmabey/pyLDAvis/files/ldavis.v1.0.0.js\", function(){\n",
              "        new LDAvis(\"#\" + \"ldavis_el1191401648811286888298012056\", ldavis_el1191401648811286888298012056_data);\n",
              "      });\n",
              "    });\n",
              "}else{\n",
              "    // require.js not available: dynamically load d3 & LDAvis\n",
              "    LDAvis_load_lib(\"https://cdnjs.cloudflare.com/ajax/libs/d3/3.5.5/d3.min.js\", function(){\n",
              "         LDAvis_load_lib(\"https://cdn.rawgit.com/bmabey/pyLDAvis/files/ldavis.v1.0.0.js\", function(){\n",
              "                 new LDAvis(\"#\" + \"ldavis_el1191401648811286888298012056\", ldavis_el1191401648811286888298012056_data);\n",
              "            })\n",
              "         });\n",
              "}\n",
              "</script>"
            ],
            "text/plain": [
              "PreparedData(topic_coordinates=                x           y  topics  cluster       Freq\n",
              "topic                                                    \n",
              "2      150.222153  -72.269554       1        1  55.526956\n",
              "3       51.163364 -159.968018       2        1  27.734930\n",
              "1      -73.144554   21.523815       3        1   7.540209\n",
              "0      -66.410133 -110.606438       4        1   5.915883\n",
              "4       54.417324   12.443444       5        1   3.282023, topic_info=      Category        Freq       Term       Total  loglift  logprob\n",
              "5351   Default  146.000000        god  146.000000  30.0000  30.0000\n",
              "14332  Default  151.000000     window  151.000000  29.0000  29.0000\n",
              "2266   Default   94.000000  christian   94.000000  28.0000  28.0000\n",
              "4759   Default  123.000000       file  123.000000  27.0000  27.0000\n",
              "11037  Default  132.000000        run  132.000000  26.0000  26.0000\n",
              "...        ...         ...        ...         ...      ...      ...\n",
              "13464   Topic5    7.068507     turkey   16.950664   2.5421  -6.3435\n",
              "1138    Topic5    8.058239       bank   28.777219   2.1438  -6.2125\n",
              "10560   Topic5    6.400475     region   17.827762   2.3923  -6.4428\n",
              "11959   Topic5    5.949751     soviet   14.149636   2.5504  -6.5158\n",
              "11922   Topic5    5.831565       soon   34.543391   1.6378  -6.5359\n",
              "\n",
              "[369 rows x 6 columns], token_table=       Topic      Freq       Term\n",
              "term                             \n",
              "181        3  0.812702  actusorgn\n",
              "239        1  0.063499   advancen\n",
              "239        2  0.825482   advancen\n",
              "239        4  0.095248   advancen\n",
              "375        1  0.029777  algorithm\n",
              "...      ...       ...        ...\n",
              "14582      2  0.139156       year\n",
              "14582      3  0.006626       year\n",
              "14582      4  0.006626       year\n",
              "14654      3  0.909129    zionism\n",
              "14663      4  0.886001   zoologyn\n",
              "\n",
              "[688 rows x 3 columns], R=30, lambda_step=0.01, plot_opts={'xlab': 'PC1', 'ylab': 'PC2'}, topic_order=[3, 4, 2, 1, 5])"
            ]
          },
          "metadata": {
            "tags": []
          },
          "execution_count": 30
        }
      ]
    },
    {
      "cell_type": "markdown",
      "metadata": {
        "id": "D-Tn0cfy9191",
        "colab_type": "text"
      },
      "source": [
        "# LDA Bigram - tf-idf - stem\n"
      ]
    },
    {
      "cell_type": "code",
      "metadata": {
        "id": "45BK27df-ATD",
        "colab_type": "code",
        "colab": {}
      },
      "source": [
        "data_bigram_stem_tfidf = tfidf.fit_transform(df.bigram_stem)"
      ],
      "execution_count": 0,
      "outputs": []
    },
    {
      "cell_type": "code",
      "metadata": {
        "id": "uQYZ3kEJ-cSM",
        "colab_type": "code",
        "outputId": "d58bc2e0-88bc-47e3-edf5-f65e7c79c505",
        "colab": {
          "base_uri": "https://localhost:8080/",
          "height": 399
        }
      },
      "source": [
        "# Parametri di ricerca\n",
        "search_params = {'n_components': [5,10, 15, 20, 25, 30], 'learning_decay': [.5, .7, .9]}\n",
        "\n",
        "# Inizializzazione Modello\n",
        "lda = LatentDirichletAllocation()\n",
        "\n",
        "# Inizializzazione GridSearchCV\n",
        "model = GridSearchCV(lda, param_grid=search_params)\n",
        "\n",
        "# Grid Search\n",
        "model.fit(data_bigram_stem_tfidf)"
      ],
      "execution_count": 0,
      "outputs": [
        {
          "output_type": "execute_result",
          "data": {
            "text/plain": [
              "GridSearchCV(cv=None, error_score=nan,\n",
              "             estimator=LatentDirichletAllocation(batch_size=128,\n",
              "                                                 doc_topic_prior=None,\n",
              "                                                 evaluate_every=-1,\n",
              "                                                 learning_decay=0.7,\n",
              "                                                 learning_method='batch',\n",
              "                                                 learning_offset=10.0,\n",
              "                                                 max_doc_update_iter=100,\n",
              "                                                 max_iter=10,\n",
              "                                                 mean_change_tol=0.001,\n",
              "                                                 n_components=10, n_jobs=None,\n",
              "                                                 perp_tol=0.1,\n",
              "                                                 random_state=None,\n",
              "                                                 topic_word_prior=None,\n",
              "                                                 total_samples=1000000.0,\n",
              "                                                 verbose=0),\n",
              "             iid='deprecated', n_jobs=None,\n",
              "             param_grid={'learning_decay': [0.5, 0.7, 0.9],\n",
              "                         'n_components': [5, 10, 15, 20, 25, 30]},\n",
              "             pre_dispatch='2*n_jobs', refit=True, return_train_score=False,\n",
              "             scoring=None, verbose=0)"
            ]
          },
          "metadata": {
            "tags": []
          },
          "execution_count": 32
        }
      ]
    },
    {
      "cell_type": "code",
      "metadata": {
        "id": "H8dtuA3a-mtX",
        "colab_type": "code",
        "outputId": "208f62e0-3282-4169-efff-e6698146ba08",
        "colab": {
          "base_uri": "https://localhost:8080/",
          "height": 72
        }
      },
      "source": [
        "# Stimato il Miglior modello \n",
        "best_lda_model = model.best_estimator_\n",
        "\n",
        "# Parametri del modello\n",
        "print(\"Best Model Params: \", model.best_params_)\n",
        "\n",
        "# Log Likelihood Score\n",
        "print(\"Best Log Likelihood Score: \", model.best_score_)\n",
        "\n",
        "# Perplessità\n",
        "print(\"Model Perplexity: \", best_lda_model.perplexity(data_bigram_stem_tfidf))"
      ],
      "execution_count": 0,
      "outputs": [
        {
          "output_type": "stream",
          "text": [
            "Best Model Params:  {'learning_decay': 0.9, 'n_components': 5}\n",
            "Best Log Likelihood Score:  -159556.29495471856\n",
            "Model Perplexity:  32055.44791329295\n"
          ],
          "name": "stdout"
        }
      ]
    },
    {
      "cell_type": "code",
      "metadata": {
        "id": "1Z2YVcch_DhM",
        "colab_type": "code",
        "outputId": "d4d00bc1-e2ed-4f75-967b-a700e4f29f8f",
        "colab": {
          "base_uri": "https://localhost:8080/",
          "height": 1000
        }
      },
      "source": [
        "pyLDAvis.enable_notebook()\n",
        "vis = pyLDAvis.sklearn.prepare(best_lda_model, data_bigram_stem_tfidf, tfidf, mds='tsne')\n",
        "vis"
      ],
      "execution_count": 0,
      "outputs": [
        {
          "output_type": "stream",
          "text": [
            "/usr/local/lib/python3.6/dist-packages/pyLDAvis/_prepare.py:257: FutureWarning: Sorting because non-concatenation axis is not aligned. A future version\n",
            "of pandas will change to not sort by default.\n",
            "\n",
            "To accept the future behavior, pass 'sort=False'.\n",
            "\n",
            "To retain the current behavior and silence the warning, pass 'sort=True'.\n",
            "\n",
            "  return pd.concat([default_term_info] + list(topic_dfs))\n"
          ],
          "name": "stderr"
        },
        {
          "output_type": "execute_result",
          "data": {
            "text/html": [
              "\n",
              "<link rel=\"stylesheet\" type=\"text/css\" href=\"https://cdn.rawgit.com/bmabey/pyLDAvis/files/ldavis.v1.0.0.css\">\n",
              "\n",
              "\n",
              "<div id=\"ldavis_el119140164898954480527082271\"></div>\n",
              "<script type=\"text/javascript\">\n",
              "\n",
              "var ldavis_el119140164898954480527082271_data = {\"mdsDat\": {\"x\": [150.22215270996094, 51.16336441040039, -73.1445541381836, -66.4101333618164, 54.41732406616211], \"y\": [-72.2695541381836, -159.968017578125, 21.523815155029297, -110.60643768310547, 12.44344425201416], \"topics\": [1, 2, 3, 4, 5], \"cluster\": [1, 1, 1, 1, 1], \"Freq\": [22.982630944459707, 20.98551198707094, 20.033683615019328, 20.001324408206386, 15.996849045243627]}, \"tinfo\": {\"Category\": [\"Default\", \"Default\", \"Default\", \"Default\", \"Default\", \"Default\", \"Default\", \"Default\", \"Default\", \"Default\", \"Default\", \"Default\", \"Default\", \"Default\", \"Default\", \"Default\", \"Default\", \"Default\", \"Default\", \"Default\", \"Default\", \"Default\", \"Default\", \"Default\", \"Default\", \"Default\", \"Default\", \"Default\", \"Default\", \"Default\", \"Topic1\", \"Topic1\", \"Topic1\", \"Topic1\", \"Topic1\", \"Topic1\", \"Topic1\", \"Topic1\", \"Topic1\", \"Topic1\", \"Topic1\", \"Topic1\", \"Topic1\", \"Topic1\", \"Topic1\", \"Topic1\", \"Topic1\", \"Topic1\", \"Topic1\", \"Topic1\", \"Topic1\", \"Topic1\", \"Topic1\", \"Topic1\", \"Topic1\", \"Topic1\", \"Topic1\", \"Topic1\", \"Topic1\", \"Topic1\", \"Topic1\", \"Topic1\", \"Topic1\", \"Topic1\", \"Topic1\", \"Topic1\", \"Topic1\", \"Topic1\", \"Topic1\", \"Topic1\", \"Topic1\", \"Topic1\", \"Topic1\", \"Topic1\", \"Topic1\", \"Topic1\", \"Topic1\", \"Topic1\", \"Topic1\", \"Topic1\", \"Topic1\", \"Topic1\", \"Topic1\", \"Topic1\", \"Topic1\", \"Topic1\", \"Topic1\", \"Topic1\", \"Topic1\", \"Topic1\", \"Topic1\", \"Topic2\", \"Topic2\", \"Topic2\", \"Topic2\", \"Topic2\", \"Topic2\", \"Topic2\", \"Topic2\", \"Topic2\", \"Topic2\", \"Topic2\", \"Topic2\", \"Topic2\", \"Topic2\", \"Topic2\", \"Topic2\", \"Topic2\", \"Topic2\", \"Topic2\", \"Topic2\", \"Topic2\", \"Topic2\", \"Topic2\", \"Topic2\", \"Topic2\", \"Topic2\", \"Topic2\", \"Topic2\", \"Topic2\", \"Topic2\", \"Topic2\", \"Topic2\", \"Topic2\", \"Topic2\", \"Topic2\", \"Topic2\", \"Topic2\", \"Topic2\", \"Topic2\", \"Topic2\", \"Topic2\", \"Topic2\", \"Topic2\", \"Topic2\", \"Topic2\", \"Topic2\", \"Topic2\", \"Topic2\", \"Topic2\", \"Topic2\", \"Topic2\", \"Topic2\", \"Topic2\", \"Topic2\", \"Topic2\", \"Topic2\", \"Topic3\", \"Topic3\", \"Topic3\", \"Topic3\", \"Topic3\", \"Topic3\", \"Topic3\", \"Topic3\", \"Topic3\", \"Topic3\", \"Topic3\", \"Topic3\", \"Topic3\", \"Topic3\", \"Topic3\", \"Topic3\", \"Topic3\", \"Topic3\", \"Topic3\", \"Topic3\", \"Topic3\", \"Topic3\", \"Topic3\", \"Topic3\", \"Topic3\", \"Topic3\", \"Topic3\", \"Topic3\", \"Topic3\", \"Topic3\", \"Topic3\", \"Topic3\", \"Topic3\", \"Topic3\", \"Topic3\", \"Topic3\", \"Topic3\", \"Topic3\", \"Topic3\", \"Topic3\", \"Topic3\", \"Topic3\", \"Topic3\", \"Topic3\", \"Topic3\", \"Topic3\", \"Topic4\", \"Topic4\", \"Topic4\", \"Topic4\", \"Topic4\", \"Topic4\", \"Topic4\", \"Topic4\", \"Topic4\", \"Topic4\", \"Topic4\", \"Topic4\", \"Topic4\", \"Topic4\", \"Topic4\", \"Topic4\", \"Topic4\", \"Topic4\", \"Topic4\", \"Topic4\", \"Topic4\", \"Topic4\", \"Topic4\", \"Topic4\", \"Topic4\", \"Topic4\", \"Topic4\", \"Topic4\", \"Topic4\", \"Topic4\", \"Topic4\", \"Topic4\", \"Topic4\", \"Topic4\", \"Topic4\", \"Topic4\", \"Topic4\", \"Topic4\", \"Topic4\", \"Topic4\", \"Topic4\", \"Topic4\", \"Topic4\", \"Topic4\", \"Topic4\", \"Topic4\", \"Topic4\", \"Topic4\", \"Topic4\", \"Topic4\", \"Topic4\", \"Topic4\", \"Topic4\", \"Topic4\", \"Topic4\", \"Topic4\", \"Topic4\", \"Topic4\", \"Topic4\", \"Topic4\", \"Topic4\", \"Topic5\", \"Topic5\", \"Topic5\", \"Topic5\", \"Topic5\", \"Topic5\", \"Topic5\", \"Topic5\", \"Topic5\", \"Topic5\", \"Topic5\", \"Topic5\", \"Topic5\", \"Topic5\", \"Topic5\", \"Topic5\", \"Topic5\", \"Topic5\", \"Topic5\", \"Topic5\", \"Topic5\", \"Topic5\", \"Topic5\", \"Topic5\", \"Topic5\", \"Topic5\", \"Topic5\", \"Topic5\", \"Topic5\", \"Topic5\", \"Topic5\", \"Topic5\", \"Topic5\", \"Topic5\", \"Topic5\", \"Topic5\", \"Topic5\", \"Topic5\", \"Topic5\", \"Topic5\", \"Topic5\", \"Topic5\", \"Topic5\", \"Topic5\", \"Topic5\", \"Topic5\", \"Topic5\", \"Topic5\", \"Topic5\", \"Topic5\", \"Topic5\", \"Topic5\", \"Topic5\"], \"Freq\": [17.0, 16.0, 15.0, 15.0, 15.0, 15.0, 15.0, 17.0, 33.0, 15.0, 15.0, 18.0, 14.0, 29.0, 17.0, 13.0, 16.0, 16.0, 16.0, 16.0, 16.0, 16.0, 16.0, 16.0, 16.0, 24.0, 16.0, 17.0, 15.0, 12.0, 18.012420384679867, 15.983160984149471, 15.983160984149471, 15.983160984149468, 15.983160984149471, 15.983160984149468, 15.804677020308173, 15.804677020308173, 15.804677020308173, 15.804677020308173, 10.616356389138547, 10.467723814330578, 10.269327008538397, 9.940682131445042, 9.185893619341517, 8.705462108164255, 8.573524142600586, 8.566558396158785, 8.400149146472815, 8.288671512409765, 8.262674404648772, 8.1356869073046, 7.913831581612991, 7.804317212307599, 7.804317212307599, 7.804317212307599, 7.574302030986493, 7.574302030986493, 7.39589121100983, 7.259136793077807, 7.259136793077807, 7.259136793077807, 7.259136793077807, 7.259136793077807, 7.259136793077807, 7.259136793077807, 7.259136793077807, 10.219759155418187, 13.945914791670383, 12.34020095163587, 23.485957956198284, 13.716860281751668, 31.791470314982895, 9.895605967142135, 45.17793060429824, 13.294860562147917, 17.787103642809587, 12.001071171017578, 37.07223861218205, 24.046756344212007, 17.533545397785005, 18.64525981755281, 20.377423338006558, 29.12394695517776, 16.197815655981945, 15.60596648965589, 20.853051660780064, 14.384307102565822, 16.373605682198317, 16.184294086124297, 13.119880641243396, 12.436100169588318, 12.436100169588318, 12.436100169588318, 13.095122409239249, 10.073177351633422, 9.40961263883623, 9.133230865321062, 9.027447435062548, 8.96066169150759, 8.96066169150759, 8.953460640386426, 8.810192655532875, 15.178405163393464, 8.788685103722303, 8.637647296368646, 8.085982010606257, 8.850630401549175, 7.998710410539506, 7.51163097514469, 7.51163097514469, 7.51163097514469, 9.515637628771799, 7.389328416877543, 6.816518613884096, 6.816518613884096, 6.816518613884096, 6.816518613884096, 6.816518613884094, 6.816518613884096, 6.816518613884094, 6.816518613884096, 9.410121052598567, 11.23863716023668, 17.12280675682861, 9.382303728578808, 16.210718623009406, 9.36221966840046, 20.93868293057745, 31.757904400669343, 10.29310041333924, 10.92005267655166, 9.798492989430613, 11.031489861757283, 13.591243615077182, 11.246385700816253, 13.672363599223845, 15.8748873234362, 10.497070194758129, 10.886658649396852, 11.933229420391518, 11.693150179513449, 11.068248631136571, 9.954450271720438, 10.058044201838864, 9.758516031221223, 9.512008408182503, 12.239658892842922, 12.044268216954867, 11.981003834718788, 11.981003834718788, 11.981003834718788, 11.981003834718788, 11.981003834718788, 11.981003834718788, 11.981003834718788, 11.83871821771487, 11.262607596577578, 11.122744390734894, 11.074209735266741, 11.069547984690114, 11.072690760266463, 11.116203691512517, 11.043552897966627, 11.043552897966626, 11.043552897966626, 11.043552897966626, 11.005067927075785, 10.914825284013235, 10.886715688906005, 10.867464810215823, 10.846408496791252, 10.838489219755266, 10.763321642702643, 10.615983357958749, 10.615983357958747, 10.577499287972492, 10.608546057975706, 16.469651056274937, 41.296651496379845, 11.379536441311767, 14.594282099788119, 14.430977105441412, 12.990883227758607, 19.832468467000226, 19.439372098363084, 21.006081179019557, 14.199385851688373, 15.51685980246681, 17.293993824403085, 14.511179692858866, 11.687439875592665, 11.315677447421463, 11.078406039370513, 10.604465661194167, 14.158105712139339, 10.207545932436075, 10.20754593221048, 10.269621996600735, 9.916674438961527, 9.775028546376781, 9.705065335120672, 9.597339101492464, 9.527893774462443, 9.441780667180954, 8.677417350893661, 16.007081655640647, 7.749839760226469, 10.909743905292435, 7.562782055128319, 7.1087800764656555, 7.457793055186487, 6.633038569872313, 6.557397815377025, 6.514671473381227, 6.5623478005280536, 6.412327464688207, 6.339343106817072, 6.3161138085377955, 6.3161138085377955, 6.3161138085377955, 6.3161138085377955, 6.3161138085377955, 13.67541701880336, 12.625923278062114, 24.768187376924914, 10.370623990786383, 8.835753834409067, 13.904423886337405, 9.735133875779605, 10.073700846809954, 15.72425430829762, 9.851116229858428, 10.889369454296679, 11.597603540208391, 14.491065051137937, 18.84103665462513, 10.29933489055918, 23.470262739218278, 17.93715240890439, 14.308233872479917, 15.88775710259776, 13.922324461615444, 18.508464409262718, 13.948557027526851, 14.926975636829381, 11.981004758000916, 11.756886704475646, 15.039984183037905, 12.710005086328183, 12.213658574134453, 11.033137867208605, 10.710018684518143, 10.430835237919093, 15.879875915906872, 15.259185693369425, 15.259185693369425, 15.259185693369425, 15.259185693369425, 15.259185693369425, 14.91752394016593, 14.608469384525897, 13.627475469571854, 12.512444792845569, 11.384238326574126, 16.886935770130773, 10.32710724367858, 9.331401083291539, 8.609429804876774, 8.345267891933482, 15.75636373442192, 7.135085484894732, 6.165559636393989, 6.136052583181939, 6.103625415150934, 6.056133917992921, 6.041004983445044, 5.491614715163301, 5.480550273010666, 5.1765691090266825, 4.999919008630706, 4.87163656136976, 4.8401398056249745, 4.82519987042962, 11.547170880527977, 5.612930703271776, 7.804332078468076, 10.244532130857754, 6.677800614716507, 6.0885045032768135, 12.430113647672766, 9.46662881104514, 18.44536273263715, 15.118866133899513, 7.148764931771859, 9.913841585597769, 7.674755039313282, 7.1145186916520045, 7.804093359026872, 9.430171683581257, 9.228636400252373, 10.255334286604093, 9.381350716042764, 9.38082027420597, 9.582624649241167, 8.958209382022726, 8.955596796730708], \"Term\": [\"sourc code\", \"institut technolog\", \"activ netn\", \"alink ksand\", \"privat activ\", \"pplecom alink\", \"ksand privat\", \"best offern\", \"hard drive\", \"kentn pplecom\", \"excel condit\", \"gordon bank\", \"cheersn kentn\", \"email address\", \"state universityn\", \"georgia institut\", \"intellect andn\", \"skeptic chastiti\", \"bank njxp\", \"njxp skeptic\", \"chastiti intellect\", \"andn slpittedu\", \"slpittedu shame\", \"shame surrend\", \"surrend soon\", \"send email\", \"henri spencer\", \"best offer\", \"make offern\", \"like sell\", \"gordon bank\", \"intellect andn\", \"bank njxp\", \"chastiti intellect\", \"skeptic chastiti\", \"njxp skeptic\", \"surrend soon\", \"andn slpittedu\", \"shame surrend\", \"slpittedu shame\", \"artifici intellig\", \"univers georgia\", \"michael covington\", \"center polici\", \"jake livni\", \"look buy\", \"opinion employ\", \"athen georgia\", \"employ opinion\", \"maxaxaxaxaxaxaxaxaxaxaxaxaxaxaxn maxaxaxaxaxaxaxaxaxaxaxaxaxaxaxn\", \"usa amateur\", \"research scientist\", \"sun microsystem\", \"georgia usa\", \"radio ntmi\", \"intellig program\", \"program gaedu\", \"gaedu univers\", \"jimmi carter\", \"willn americanoccupi\", \"york replac\", \"fail presidentn\", \"year georg\", \"opinion standard\", \"livni onycom\", \"standard fail\", \"carter opinion\", \"polici research\", \"human right\", \"look inform\", \"anybodi know\", \"dont speak\", \"new york\", \"swap file\", \"thank advancen\", \"amateur radio\", \"thank advanc\", \"health care\", \"anyon know\", \"pleas email\", \"comput scienc\", \"dont want\", \"someth like\", \"dont know\", \"like know\", \"unit state\", \"dont think\", \"long time\", \"year ago\", \"look like\", \"mani peopl\", \"orontoedu utzoohenryn\", \"spencer toronto\", \"toronto zoologyn\", \"david sternlight\", \"blah blah\", \"care taken\", \"great care\", \"taken ensur\", \"accuraci ofn\", \"ensur accuraci\", \"error omiss\", \"inform error\", \"henri spencer\", \"sternlight great\", \"omiss except\", \"work man\", \"phone compani\", \"man work\", \"zoologyn kipl\", \"work henri\", \"kipl orontoedu\", \"ofn inform\", \"white sox\", \"daren tttgo\", \"tttgo winnipeg\", \"itnettttselann domi\", \"gari daren\", \"gon itnettttselann\", \"jet gon\", \"domi stanleyn\", \"souvien gari\", \"say god\", \"radar detector\", \"someon pleas\", \"new testament\", \"could someon\", \"univers new\", \"sound like\", \"dont know\", \"radio shack\", \"someon tell\", \"cant find\", \"pleas tell\", \"last year\", \"gon na\", \"look like\", \"anyon know\", \"pleas respond\", \"ftp site\", \"ive seen\", \"new york\", \"dont think\", \"___ ___\", \"dont want\", \"someth like\", \"ive never\", \"believ speak\", \"write today\", \"wstratuscom believ\", \"tratuscom write\", \"today special\", \"companyn tratuscom\", \"speak companyn\", \"special investor\", \"investor packetn\", \"longer exist\", \"way escap\", \"michael adam\", \"might serv\", \"exist singl\", \"today longer\", \"close road\", \"proceed work\", \"mountain pass\", \"serv way\", \"pass might\", \"road mountain\", \"ohanu appressian\", \"soviet armenia\", \"armenia today\", \"singl turkish\", \"sahak melkonian\", \"argicn close\", \"work exterminationn\", \"exterminationn ohanu\", \"turk proceed\", \"pleas emailn\", \"wonder anyon\", \"anyon know\", \"serdar argicn\", \"power suppli\", \"window manag\", \"red sox\", \"pleas email\", \"dont think\", \"dont know\", \"last night\", \"writesn articl\", \"thank advancen\", \"anyon els\", \"video card\", \"look like\", \"bob vestermann\", \"opinion minen\", \"make offern\", \"uunetpyramidoptilinkcram opinion\", \"cramer uunetpyramidoptilinkcram\", \"____ ____\", \"consent alln\", \"mutual consent\", \"relat peopl\", \"peopl mutual\", \"key avail\", \"minen relat\", \"drive drive\", \"state universityn\", \"copi protect\", \"scsi control\", \"gamma ray\", \"andr beck\", \"could put\", \"mac iisi\", \"clock speed\", \"bitnet itnetn\", \"includ ship\", \"control card\", \"oort cloud\", \"insid andr\", \"abpsoft mehl\", \"brain insid\", \"beck abpsoft\", \"oon brain\", \"clayton cramer\", \"make offer\", \"hard drive\", \"power play\", \"isa bu\", \"hard disk\", \"hard driven\", \"ide drive\", \"brand new\", \"help greatli\", \"pgp public\", \"local bu\", \"___ ___\", \"last year\", \"red wing\", \"dont know\", \"year ago\", \"thank youn\", \"ive seen\", \"let know\", \"thank advancen\", \"pleas repli\", \"writesn articl\", \"greatli appreciatedn\", \"want know\", \"anyon know\", \"dont think\", \"look like\", \"state univers\", \"someth like\", \"via email\", \"institut technolog\", \"ksand privat\", \"privat activ\", \"alink ksand\", \"activ netn\", \"pplecom alink\", \"kentn pplecom\", \"excel condit\", \"cheersn kentn\", \"georgia institut\", \"like sell\", \"sourc code\", \"plu ship\", \"atlanta georgia\", \"technolog atlanta\", \"carnegi mellon\", \"best offern\", \"bit imag\", \"georgia uucpt\", \"steve hendrick\", \"univers pittsburgh\", \"david veal\", \"fort collin\", \"pleas helpn\", \"still rememb\", \"info servic\", \"repli emailn\", \"share memori\", \"rememb way\", \"plnasagovn jet\", \"comput graphic\", \"ron baalk\", \"death penalti\", \"bit color\", \"white housen\", \"capit punish\", \"best offer\", \"email omn\", \"email address\", \"send email\", \"digit equip\", \"tel fax\", \"jet propuls\", \"three day\", \"_____ _____\", \"anonym ftp\", \"public domain\", \"year old\", \"law enforc\", \"pleas email\", \"dont know\", \"dont think\", \"anyon know\"], \"Total\": [17.0, 16.0, 15.0, 15.0, 15.0, 15.0, 15.0, 17.0, 33.0, 15.0, 15.0, 18.0, 14.0, 29.0, 17.0, 13.0, 16.0, 16.0, 16.0, 16.0, 16.0, 16.0, 16.0, 16.0, 16.0, 24.0, 16.0, 17.0, 15.0, 12.0, 18.665212130098784, 16.633095742721352, 16.633095742721352, 16.63309574272135, 16.633095742721352, 16.63309574272135, 16.454616039130844, 16.454616039130844, 16.454616039130844, 16.454616039130844, 11.267957640646298, 11.118838515779402, 10.920719367108555, 10.592298314492187, 9.83587915185865, 9.357699441273112, 9.2236258129239, 9.216299645828627, 9.049986754496617, 8.938449528305974, 8.91241824998256, 8.80597046523676, 8.571717409768665, 8.45406352386075, 8.45406352386075, 8.45406352386075, 8.224025589441668, 8.224025589441668, 8.045798371431797, 7.9089026776943125, 7.9089026776943125, 7.9089026776943125, 7.9089026776943125, 7.9089026776943125, 7.9089026776943125, 7.9089026776943125, 7.9089026776943125, 11.690120848182579, 16.885811063543333, 14.890278204679584, 35.462984704055515, 17.73666484665259, 56.831109434093705, 11.658247203331271, 94.23921826858474, 18.05889719617423, 28.586645344040644, 15.782849829974914, 118.2393584117667, 59.98784889760405, 37.08183457320543, 42.75703820742047, 52.14796908923886, 114.94081992332612, 34.834223609083324, 32.53973811891344, 73.02888685863063, 27.017716447324943, 60.03114334883334, 61.95692745414067, 37.60469295654986, 13.0847490289604, 13.0847490289604, 13.0847490289604, 13.941055677803696, 10.724170252166617, 10.067554590328477, 9.782397007344741, 9.679389207778963, 9.609426880271865, 9.609426880271865, 9.60223238507327, 9.458906571141387, 16.298148052081967, 9.437440806666984, 9.286350287501367, 8.736423840857206, 9.565545502280472, 8.647584696835876, 8.160433111359337, 8.160433111359337, 8.160433111359337, 10.368454530240355, 8.072055837568168, 7.465512992927263, 7.465512992927263, 7.465512992927263, 7.465512992927263, 7.465512992927261, 7.465512992927263, 7.465512992927261, 7.465512992927263, 10.820487428374642, 13.519579772321013, 27.2678385918622, 12.182918743121617, 30.13509774959216, 12.484521801958975, 47.91775929471546, 114.94081992332612, 15.059262487851147, 16.9567130447883, 16.623020769022734, 23.004626064086267, 54.394993440686335, 28.293941523968012, 61.95692745414067, 118.2393584117667, 23.342161702521523, 28.67300568037427, 49.53283657803394, 56.831109434093705, 73.02888685863063, 30.736144950840593, 42.75703820742047, 52.14796908923886, 25.176548191006233, 12.892460216941819, 12.69911516467171, 12.63254540347786, 12.63254540347786, 12.63254540347786, 12.63254540347786, 12.63254540347786, 12.63254540347786, 12.63254540347786, 12.494482593144, 11.913941276284074, 11.775015349441626, 11.725358211775433, 11.720422888795124, 11.723885977893987, 11.770863819807403, 11.694496193874606, 11.694496193874606, 11.694496193874606, 11.694496193874606, 11.656001573852407, 11.565614136493688, 11.53752903514602, 11.518289583611843, 11.497235451916978, 11.489321750731655, 11.41408923072165, 11.26675557934632, 11.266755579346318, 11.228260947388973, 11.266991595213057, 23.222430295829735, 118.2393584117667, 12.78666441777738, 21.843380496165405, 21.627120177828612, 18.064683368527675, 59.98784889760405, 73.02888685863063, 114.94081992332612, 33.32554565145424, 55.68132784923057, 94.23921826858474, 43.29986435440397, 27.964910142521543, 61.95692745414067, 11.734218271416092, 11.265154333168935, 15.042143706657331, 10.862015906839924, 10.86201590684047, 10.934664603407185, 10.571190471725519, 10.429658546030563, 10.361568921671541, 10.252004860659913, 10.18332660486961, 10.096483720286237, 9.329583439840608, 17.221549924759533, 8.40804399116188, 11.867790836674184, 8.25400476579939, 7.7647682125780415, 8.160422262025113, 7.287025057899867, 7.210930402297262, 7.166967424531884, 7.219635332849239, 7.066258221186236, 6.990325517913987, 6.9674811392212685, 6.9674811392212685, 6.9674811392212685, 6.9674811392212685, 6.9674811392212685, 15.810735945557287, 14.891711050733013, 33.71771484678554, 12.563933173113734, 10.574045222935023, 18.99493904185588, 12.188152295085112, 12.912207042931312, 24.207894573462085, 13.757932778294721, 16.503843439304262, 19.283803480959424, 30.736144950840593, 54.394993440686335, 16.008243606934528, 114.94081992332612, 60.03114334883334, 35.23088407323523, 49.53283657803394, 34.68163134736817, 94.23921826858474, 38.530048951908164, 55.68132784923057, 25.991461158664244, 27.90365625977244, 118.2393584117667, 73.02888685863063, 61.95692745414067, 28.190968772441778, 52.14796908923886, 20.118854325994093, 16.536304655922812, 15.909865555133269, 15.909865555133269, 15.909865555133269, 15.909865555133269, 15.909865555133269, 15.56820946956065, 15.265256782764197, 14.278212931705117, 13.166447293482767, 12.070363721892146, 17.96798502792395, 11.041150508592064, 9.9904507474909, 9.260153902375842, 9.002280891517028, 17.050240439760213, 7.798536296163761, 6.8163722759348495, 6.787904392771717, 6.755122245254749, 6.707228495071999, 6.693966453580034, 6.14689383416738, 6.135883612613832, 5.8287002564693395, 5.653813025874947, 5.522771973119261, 5.49199372920526, 5.475947780343874, 13.444649197211614, 6.401099787517865, 9.205441117523092, 12.606572178652616, 7.875075263726261, 7.069825526476439, 17.48509681306941, 12.393257885919425, 29.767402443766123, 24.915104460161928, 8.703168900018838, 15.108278906144902, 9.964785288396715, 8.7945741081516, 10.742877826915322, 16.392083783406054, 17.843516261332738, 34.15325971274144, 24.36877609466249, 59.98784889760405, 114.94081992332612, 73.02888685863063, 118.2393584117667], \"loglift\": [30.0, 29.0, 28.0, 27.0, 26.0, 25.0, 24.0, 23.0, 22.0, 21.0, 20.0, 19.0, 18.0, 17.0, 16.0, 15.0, 14.0, 13.0, 12.0, 11.0, 10.0, 9.0, 8.0, 7.0, 6.0, 5.0, 4.0, 3.0, 2.0, 1.0, 1.4348, 1.4306, 1.4306, 1.4306, 1.4306, 1.4306, 1.4301, 1.4301, 1.4301, 1.4301, 1.4109, 1.4101, 1.4089, 1.4069, 1.4021, 1.3982, 1.3973, 1.3973, 1.3959, 1.395, 1.3947, 1.3913, 1.3906, 1.3905, 1.3905, 1.3905, 1.3881, 1.3881, 1.3862, 1.3847, 1.3847, 1.3847, 1.3847, 1.3847, 1.3847, 1.3847, 1.3847, 1.336, 1.2791, 1.2826, 1.0583, 1.2134, 0.8895, 1.3065, 0.7352, 1.1642, 0.996, 1.1965, 0.3106, 0.5563, 0.7214, 0.6405, 0.5308, 0.0976, 0.7047, 0.7356, 0.2171, 0.8401, 0.1712, 0.128, 0.4174, 1.5105, 1.5105, 1.5105, 1.4987, 1.4987, 1.4938, 1.4927, 1.4916, 1.4914, 1.4914, 1.4914, 1.4903, 1.4902, 1.4901, 1.4889, 1.484, 1.4837, 1.4833, 1.4785, 1.4785, 1.4785, 1.4755, 1.473, 1.4704, 1.4704, 1.4704, 1.4704, 1.4704, 1.4704, 1.4704, 1.4704, 1.4217, 1.3766, 1.096, 1.3001, 0.9413, 1.2735, 0.7335, 0.2751, 1.1808, 1.1213, 1.0328, 0.8264, 0.1745, 0.6387, 0.0503, -0.4466, 0.7622, 0.5929, 0.138, -0.0197, -0.3254, 0.4339, 0.1142, -0.1146, 0.588, 1.5558, 1.5548, 1.5548, 1.5548, 1.5548, 1.5548, 1.5548, 1.5548, 1.5548, 1.5538, 1.5515, 1.5508, 1.5506, 1.5506, 1.5506, 1.5505, 1.5505, 1.5505, 1.5505, 1.5505, 1.5503, 1.5498, 1.5497, 1.5496, 1.5495, 1.5494, 1.5491, 1.5483, 1.5483, 1.5481, 1.5475, 1.2642, 0.5558, 1.4912, 1.2045, 1.2032, 1.278, 0.5009, 0.2842, -0.0919, 0.7546, 0.33, -0.0877, 0.5145, 0.7353, -0.0925, 1.5519, 1.5489, 1.5488, 1.5472, 1.5472, 1.5466, 1.5455, 1.5445, 1.5439, 1.5434, 1.5428, 1.5423, 1.5369, 1.5362, 1.5279, 1.5252, 1.5219, 1.5211, 1.5193, 1.5153, 1.5144, 1.5139, 1.5139, 1.5123, 1.5116, 1.5112, 1.5112, 1.5112, 1.5112, 1.5112, 1.4643, 1.4443, 1.3009, 1.4175, 1.4298, 1.2974, 1.3846, 1.3611, 1.1779, 1.2753, 1.1936, 1.1009, 0.8575, 0.5491, 1.1683, 0.0207, 0.4014, 0.7083, 0.4723, 0.6967, -0.0182, 0.5933, 0.2929, 0.8349, 0.7451, -0.4526, -0.1391, -0.0145, 0.6713, 0.0265, 0.9525, 1.7923, 1.791, 1.791, 1.791, 1.791, 1.791, 1.7901, 1.7888, 1.7861, 1.7818, 1.7743, 1.7707, 1.7659, 1.7645, 1.7599, 1.757, 1.7539, 1.7439, 1.7324, 1.7318, 1.7314, 1.7307, 1.7301, 1.7201, 1.7198, 1.7141, 1.7099, 1.7073, 1.7064, 1.7063, 1.6806, 1.7014, 1.6677, 1.6253, 1.6679, 1.6833, 1.4916, 1.5634, 1.3542, 1.3332, 1.636, 1.4115, 1.5717, 1.6208, 1.5132, 1.2799, 1.1734, 0.6297, 0.8782, -0.0227, -0.6517, -0.2655, -0.7477], \"logprob\": [30.0, 29.0, 28.0, 27.0, 26.0, 25.0, 24.0, 23.0, 22.0, 21.0, 20.0, 19.0, 18.0, 17.0, 16.0, 15.0, 14.0, 13.0, 12.0, 11.0, 10.0, 9.0, 8.0, 7.0, 6.0, 5.0, 4.0, 3.0, 2.0, 1.0, -6.6018, -6.7213, -6.7213, -6.7213, -6.7213, -6.7213, -6.7325, -6.7325, -6.7325, -6.7325, -7.1304, -7.1445, -7.1637, -7.1962, -7.2752, -7.3289, -7.3442, -7.345, -7.3646, -7.378, -7.3811, -7.3966, -7.4242, -7.4382, -7.4382, -7.4382, -7.4681, -7.4681, -7.4919, -7.5106, -7.5106, -7.5106, -7.5106, -7.5106, -7.5106, -7.5106, -7.5106, -7.1685, -6.8577, -6.98, -6.3364, -6.8742, -6.0336, -7.2007, -5.6822, -6.9055, -6.6144, -7.0078, -5.88, -6.3128, -6.6287, -6.5672, -6.4784, -6.1213, -6.708, -6.7452, -6.4553, -6.8267, -6.6972, -6.7088, -6.9187, -6.8813, -6.8813, -6.8813, -6.8297, -7.0921, -7.1602, -7.19, -7.2017, -7.2091, -7.2091, -7.2099, -7.226, -6.6821, -7.2285, -7.2458, -7.3118, -7.2214, -7.3227, -7.3855, -7.3855, -7.3855, -7.149, -7.4019, -7.4826, -7.4826, -7.4826, -7.4826, -7.4826, -7.4826, -7.4826, -7.4826, -7.1601, -6.9826, -6.5615, -7.1631, -6.6163, -7.1653, -6.3603, -5.9438, -7.0705, -7.0113, -7.1197, -7.0012, -6.7925, -6.9819, -6.7866, -6.6372, -7.0508, -7.0144, -6.9226, -6.9429, -6.9979, -7.1039, -7.0936, -7.1238, -7.1494, -6.8508, -6.8669, -6.8722, -6.8722, -6.8722, -6.8722, -6.8722, -6.8722, -6.8722, -6.8841, -6.934, -6.9465, -6.9509, -6.9513, -6.951, -6.9471, -6.9537, -6.9537, -6.9537, -6.9537, -6.9572, -6.9654, -6.968, -6.9697, -6.9717, -6.9724, -6.9794, -6.9932, -6.9932, -6.9968, -6.9939, -6.554, -5.6347, -6.9237, -6.6749, -6.6861, -6.7913, -6.3682, -6.3882, -6.3107, -6.7023, -6.6136, -6.5052, -6.6806, -6.897, -6.9293, -6.9489, -6.9926, -6.7036, -7.0308, -7.0308, -7.0247, -7.0597, -7.0741, -7.0813, -7.0924, -7.0997, -7.1088, -7.1932, -6.5809, -7.3062, -6.9642, -7.3307, -7.3926, -7.3446, -7.4618, -7.4733, -7.4798, -7.4726, -7.4957, -7.5071, -7.5108, -7.5108, -7.5108, -7.5108, -7.5108, -6.7383, -6.8181, -6.1443, -7.0149, -7.1751, -6.7217, -7.0782, -7.044, -6.5987, -7.0663, -6.9661, -6.9031, -6.6804, -6.4179, -7.0218, -6.1982, -6.467, -6.6931, -6.5884, -6.7204, -6.4357, -6.7185, -6.6507, -6.8706, -6.8895, -6.6432, -6.8115, -6.8513, -6.953, -6.9827, -7.0091, -6.3654, -6.4053, -6.4053, -6.4053, -6.4053, -6.4053, -6.428, -6.4489, -6.5184, -6.6038, -6.6983, -6.304, -6.7957, -6.8971, -6.9776, -7.0088, -6.3732, -7.1655, -7.3115, -7.3163, -7.3216, -7.3294, -7.3319, -7.4273, -7.4293, -7.4864, -7.5211, -7.5471, -7.5536, -7.5566, -6.6841, -7.4054, -7.0758, -6.8037, -7.2317, -7.3241, -6.6104, -6.8827, -6.2157, -6.4146, -7.1636, -6.8366, -7.0926, -7.1684, -7.0758, -6.8866, -6.9082, -6.8027, -6.8918, -6.8918, -6.8705, -6.9379, -6.9382]}, \"token.table\": {\"Topic\": [2, 4, 5, 4, 2, 5, 4, 2, 5, 5, 1, 2, 3, 1, 4, 1, 2, 3, 4, 5, 1, 3, 4, 5, 1, 2, 3, 4, 5, 1, 2, 3, 4, 5, 3, 3, 1, 1, 5, 1, 4, 3, 3, 5, 1, 5, 2, 4, 5, 5, 4, 2, 4, 4, 1, 3, 4, 5, 1, 2, 3, 4, 5, 2, 5, 1, 1, 1, 5, 3, 4, 4, 3, 3, 3, 5, 1, 2, 3, 4, 5, 4, 4, 4, 4, 1, 2, 3, 4, 5, 4, 2, 2, 5, 2, 5, 2, 5, 2, 1, 2, 3, 4, 5, 1, 3, 4, 5, 1, 2, 3, 4, 5, 1, 2, 3, 4, 5, 4, 1, 3, 4, 5, 1, 3, 5, 1, 2, 2, 5, 3, 3, 1, 5, 1, 2, 3, 5, 1, 4, 2, 5, 1, 5, 2, 1, 2, 3, 4, 5, 1, 2, 1, 2, 3, 4, 5, 1, 2, 3, 4, 5, 1, 2, 3, 4, 1, 4, 5, 1, 3, 4, 5, 1, 3, 4, 2, 3, 1, 2, 3, 4, 2, 4, 5, 4, 5, 2, 4, 5, 1, 1, 3, 1, 4, 2, 1, 2, 3, 4, 5, 1, 2, 3, 4, 5, 1, 2, 2, 5, 1, 5, 4, 2, 5, 1, 2, 3, 4, 5, 1, 2, 3, 4, 5, 1, 2, 3, 4, 5, 1, 2, 3, 4, 5, 1, 2, 3, 4, 5, 5, 1, 2, 3, 4, 5, 1, 2, 3, 4, 5, 3, 1, 1, 3, 5, 1, 2, 3, 4, 5, 4, 2, 3, 4, 4, 2, 1, 2, 3, 4, 5, 1, 3, 1, 3, 4, 3, 4, 1, 2, 3, 1, 2, 3, 4, 5, 1, 2, 3, 2, 4, 4, 1, 4, 1, 2, 3, 4, 3, 4, 2, 1, 2, 3, 4, 5, 3, 5, 1, 2, 3, 4, 5, 1, 2, 4, 5, 1, 2, 3, 4, 5, 5, 1, 2, 2, 3, 4, 5, 1, 2, 3, 4, 5, 5, 5, 3, 1, 1, 2, 3, 5, 2, 3, 4, 1, 2, 4, 5, 2, 3, 5, 2, 3, 4, 4, 5, 5, 1, 3, 5, 3, 1, 2, 4, 1, 3, 4, 5, 2, 3, 3, 1, 5, 3, 1, 1, 1, 2, 4, 2, 3, 4, 5, 1, 2, 3, 4, 5, 1, 2, 3, 4, 5, 4, 5, 2, 3, 3, 3, 2, 1, 1, 2, 3, 4, 5, 3, 4, 2, 5, 5, 1, 1, 1, 5, 2, 5, 4, 5, 1, 2, 3, 4, 5, 1, 2, 3, 4, 5, 1, 2, 3, 4, 5, 3, 5, 3, 3, 2, 3, 2, 3, 1, 2, 3, 4, 5, 1, 2, 4, 5, 5, 1, 4, 1, 2, 4, 5, 1, 2, 3, 4, 5, 1, 2, 3, 4, 5, 3, 3, 5, 2, 1, 1, 3, 5, 1, 2, 3, 4, 3, 2, 2, 3, 1, 2, 3, 4, 5, 3, 1, 2, 3, 4, 5, 1, 1, 2, 3, 4, 5, 1, 2], \"Freq\": [0.3253498451414127, 0.4554897831979777, 0.1952099070848476, 0.9145227917538551, 0.1861698543186611, 0.7446794172746444, 0.8611433429255898, 0.9365803093290592, 0.9428112354576307, 0.9428112354576307, 0.719866770311647, 0.2214974677881991, 0.05537436694704977, 0.9723715194538896, 0.9015079147708229, 0.2440202266443549, 0.06100505666108873, 0.12201011332217745, 0.06100505666108873, 0.5490455099497985, 0.6485635710569433, 0.19738891293037403, 0.14099208066455288, 0.028198416132910575, 0.20785284513448185, 0.1385685634229879, 0.3464214085574698, 0.18475808456398388, 0.1385685634229879, 0.3129245667178613, 0.13531873155366975, 0.3467542496062787, 0.12686131083156538, 0.07611678649893923, 0.9637212201209093, 0.9550029038730489, 0.9762195023098322, 0.9765307494177963, 0.9008602542042808, 0.9619375880164464, 0.8611433429255898, 0.9307765777885396, 0.2859578104401858, 0.686298745056446, 0.05865019930558021, 0.9384031888892833, 0.07932370400364293, 0.07932370400364293, 0.7932370400364293, 0.897604336783484, 0.9767031975113534, 0.9324730738939628, 0.9374292982767666, 0.8611433429255898, 0.12392651458787958, 0.16523535278383944, 0.6609414111353578, 0.04130883819595986, 0.18047261335259523, 0.6015753778419841, 0.12031507556839682, 0.12031507556839682, 0.8486772378653545, 0.8939608838720341, 0.8886636727297089, 0.8850785355776706, 0.9440821720738535, 0.9619375880164466, 0.9805148632370275, 0.12649632546434292, 0.8854742782504004, 0.970748517801522, 0.9345108539519221, 0.9499273200075962, 0.07437903253045809, 0.8925483903654972, 0.48541287687547235, 0.08090214614591205, 0.13483691024318675, 0.10786952819454941, 0.18877167434046146, 0.9459672519142223, 0.8491056811383777, 0.9514698077708922, 0.857798748059253, 0.2654711813605539, 0.5309423627211078, 0.06636779534013848, 0.09955169301020772, 0.06636779534013848, 0.9206394177440297, 0.9376448753932538, 0.9324975310655992, 0.8945572682380478, 0.10863140475652404, 0.8690512380521923, 0.11490067715425303, 0.8043047400797713, 0.937644875393254, 0.25230375091586354, 0.27840413894164256, 0.18270271618045292, 0.2001029748643056, 0.0870012934192633, 0.7893253957855665, 0.05638038541325475, 0.1127607708265095, 0.05638038541325475, 0.2875574434080012, 0.1506253274994292, 0.2601710202262868, 0.1780117506811436, 0.12323890431771481, 0.4443712847421353, 0.23387962354849226, 0.0935518494193969, 0.11693981177424613, 0.11693981177424613, 0.9646732952263259, 0.13437517793352768, 0.06718758896676384, 0.1679689724169096, 0.6046883007008746, 0.16137806688201783, 0.08068903344100892, 0.7262013009690803, 0.8839791943369513, 0.9365803093290592, 0.9372820443286246, 0.982623496837361, 0.9385326881435432, 0.9763236561343958, 0.8850785355776706, 0.8963295591048428, 0.31388407969242665, 0.38363609740185484, 0.24413206198299853, 0.06975201770942815, 0.9727596191177613, 0.9692264818101556, 0.9376448753932538, 0.9873582227785048, 0.9462905001152166, 0.8802336135869449, 0.937644875393254, 0.17671627672533577, 0.3887758087957387, 0.21205953207040293, 0.1413730213802686, 0.0706865106901343, 0.9643608588285965, 0.9200199085400738, 0.15389669613347617, 0.11542252210010714, 0.2308450442002143, 0.4616900884004286, 0.038474174033369044, 0.052645601957261985, 0.10529120391452397, 0.052645601957261985, 0.7370384274016678, 0.052645601957261985, 0.11863200155099887, 0.029658000387749718, 0.11863200155099887, 0.741450009693743, 0.0820468907664742, 0.820468907664742, 0.1640937815329484, 0.7603189619918643, 0.06335991349932203, 0.06335991349932203, 0.12671982699864406, 0.14537067684727395, 0.14537067684727395, 0.7268533842363698, 0.920349965656611, 0.0613566643771074, 0.8290984630419185, 0.05922131878870846, 0.05922131878870846, 0.05922131878870846, 0.15489218793892284, 0.7744609396946143, 0.07744609396946142, 0.9695780572392761, 0.8578241769167052, 0.9514841839603865, 0.8611433429255898, 0.9675680469680555, 0.9619375880164464, 0.9462905001152166, 0.9499273200075962, 0.0945711862316427, 0.8511406760847844, 0.9376448753932538, 0.317756029909526, 0.39719503738690753, 0.11915851121607225, 0.0794390074773815, 0.11915851121607225, 0.20188627768664164, 0.24226353322396998, 0.12113176661198499, 0.3230180442986266, 0.10094313884332082, 0.9150173422270345, 0.9376448753932538, 0.20070678314853987, 0.8028271325941595, 0.8700193165236266, 0.9635019383139964, 0.9819973755155861, 0.9803401229848923, 0.9428112354576307, 0.2100490738609868, 0.15003505275784773, 0.4200981477219736, 0.18004206330941727, 0.06001402110313909, 0.20222449354635322, 0.2573766281499041, 0.16545640381065263, 0.3492968524891556, 0.03676808973570059, 0.12310835752875961, 0.1641444767050128, 0.0820722383525064, 0.24621671505751921, 0.36932507258627884, 0.17300224259650673, 0.14416853549708894, 0.17300224259650673, 0.403671899391849, 0.11533482839767115, 0.45931840420947007, 0.1435370013154594, 0.1435370013154594, 0.22965920210473503, 0.02870740026309188, 0.9113229935274596, 0.8850785355776706, 0.15557096933507752, 0.05185698977835918, 0.6222838773403101, 0.15557096933507752, 0.5181785080650722, 0.1850637528803829, 0.07402550115215316, 0.14805100230430632, 0.07402550115215316, 0.9604239239634195, 0.9617748525139158, 0.8058949493790349, 0.06715791244825291, 0.13431582489650581, 0.2582439229550706, 0.22596343258568677, 0.17754269703161102, 0.19368294221630294, 0.1452622066622272, 0.9606114902008327, 0.06715145066897985, 0.06715145066897985, 0.872968858696738, 0.9307184051036489, 0.925113806971694, 0.3457015329182658, 0.2393318304818763, 0.1595545536545842, 0.21273940487277895, 0.05318485121819474, 0.8950098084310792, 0.9341813724702808, 0.915690593617705, 0.9381376501532399, 0.8913994465139244, 0.9406134148610547, 0.9588041598740462, 0.16416427312454865, 0.738739229060469, 0.08208213656227432, 0.5630718864834054, 0.21115195743127702, 0.10557597871563851, 0.12317197516824493, 0.01759599645260642, 0.9619375880164466, 0.964463891010398, 0.9510951921948554, 0.9691643887387308, 0.8611433429255898, 0.8583291271091601, 0.9757551078654381, 0.9764624322644014, 0.8850785355776706, 0.9170982166673941, 0.9406134148610547, 0.9754189678911553, 0.30295973288818234, 0.6665114123540011, 0.9408768164716124, 0.400081023758106, 0.1000202559395265, 0.333400853131755, 0.01667004265658775, 0.15003038390928974, 0.9763032045460572, 0.8134189616563092, 0.25953769258070875, 0.05190753851614175, 0.18167638480649612, 0.36335276961299223, 0.15572261554842523, 0.2998865353264959, 0.4284093361807084, 0.17136373447228337, 0.08568186723614168, 0.2608171062326858, 0.4781646947599239, 0.1304085531163429, 0.17387807082179052, 0.9130839446547853, 0.9057027156923677, 0.8554231500142845, 0.08554231500142845, 0.07959290981744126, 0.07959290981744126, 0.7959290981744126, 0.07959290981744126, 0.1373413790290678, 0.04578045967635593, 0.686706895145339, 0.04578045967635593, 0.1373413790290678, 0.9428112354576307, 0.9428112354576307, 0.9406134148610547, 0.9727596191177613, 0.28021382819232227, 0.05604276563846445, 0.16812829691539335, 0.5043848907461801, 0.8136347567932981, 0.07396679607211801, 0.07396679607211801, 0.9462905001152166, 0.6640431434187009, 0.06640431434187008, 0.19921294302561024, 0.1660698911128775, 0.7196361948224691, 0.11071326074191833, 0.24987125997178483, 0.06246781499294621, 0.6246781499294621, 0.9651048094738521, 0.9104161888261195, 0.884358923281909, 0.9084745436725593, 0.9437198451204745, 0.9373389259920603, 0.9574107365649765, 0.09241727848393343, 0.8317555063554009, 0.9268784857589071, 0.08027259139924159, 0.040136295699620794, 0.24081777419772477, 0.6020444354943119, 0.0782064788225531, 0.8602712670480841, 0.9406134148610547, 0.9723715194538896, 0.9053424664889795, 0.9567517379289582, 0.9619375880164464, 0.9723715194538896, 0.220039442429098, 0.6234450868824444, 0.14669296161939868, 0.6487106298812366, 0.23589477450226784, 0.05897369362556696, 0.05897369362556696, 0.38352404416315333, 0.19176202208157667, 0.15340961766526132, 0.21093822428973433, 0.057528606624473, 0.1878218041174674, 0.4382508762740906, 0.16695271477108214, 0.14608362542469686, 0.0626072680391558, 0.055654543258239875, 0.9461272353900779, 0.9376448753932538, 0.9534103850565766, 0.9499273200075962, 0.9499273200075962, 0.9170982166673941, 0.8850785355776706, 0.10641705945673867, 0.10641705945673867, 0.2837788252179698, 0.3901958846747085, 0.10641705945673867, 0.05806678286036808, 0.9290685257658893, 0.9536483655232085, 0.8839252371305144, 0.8148785595804423, 0.9333018831072157, 0.9723715194538896, 0.8577618766861079, 0.0857761876686108, 0.929810735657477, 0.971906093017623, 0.3309443803004179, 0.6618887606008358, 0.6296646487676245, 0.034981369375979135, 0.10494410812793742, 0.13992547750391654, 0.06996273875195827, 0.4775082054665244, 0.08489034763849322, 0.1803919887317981, 0.2016145756414214, 0.053056467274058265, 0.2554576825631596, 0.1135367478058487, 0.19868930866023524, 0.3973786173204705, 0.028384186951462175, 0.11370647261623622, 0.7959453083136535, 0.9382554573407731, 0.9499273200075962, 0.9170982166673941, 0.9499273200075962, 0.9376448753932538, 0.9796708547780898, 0.49170647721654953, 0.06146330965206869, 0.18438992895620607, 0.12292661930413738, 0.15365827413017172, 0.8993745152255255, 0.7208926495356666, 0.16019836656348146, 0.08009918328174073, 0.8882148660173844, 0.897623941741699, 0.9206394177440761, 0.24852309773622983, 0.09940923909449192, 0.49704619547245965, 0.1491138586417379, 0.25031369542490595, 0.14303639738566054, 0.42910919215698157, 0.07151819869283027, 0.10727729803924539, 0.2508631820444124, 0.2150255846094963, 0.03583759743491605, 0.4300511692189926, 0.0716751948698321, 0.9232880828359152, 0.12698291337051026, 0.8888803935935717, 0.8671892440859104, 0.8850785355776706, 0.13871472370489243, 0.647335377289498, 0.18495296493985658, 0.1291854453553355, 0.04306181511844517, 0.6889890418951227, 0.1291854453553355, 0.9763236561343956, 0.9803401229848923, 0.9157064888022936, 0.9449477262308312, 0.23347144369833198, 0.1257153927606403, 0.28734946916717785, 0.26939012734422924, 0.10775605093769168, 0.9499273200075962, 0.2665283235907408, 0.1166061415709491, 0.166580202244213, 0.2998443640395834, 0.1499221820197917, 0.8850785355776706, 0.26351803826919634, 0.17567869217946422, 0.11711912811964283, 0.11711912811964283, 0.29279782029910706, 0.8850785355776706, 0.9803401229848923], \"Term\": [\"___ ___\", \"___ ___\", \"___ ___\", \"____ ____\", \"_____ _____\", \"_____ _____\", \"abpsoft mehl\", \"accuraci ofn\", \"activ netn\", \"alink ksand\", \"amateur radio\", \"amateur radio\", \"amateur radio\", \"andn slpittedu\", \"andr beck\", \"anonym ftp\", \"anonym ftp\", \"anonym ftp\", \"anonym ftp\", \"anonym ftp\", \"anybodi know\", \"anybodi know\", \"anybodi know\", \"anybodi know\", \"anyon els\", \"anyon els\", \"anyon els\", \"anyon els\", \"anyon els\", \"anyon know\", \"anyon know\", \"anyon know\", \"anyon know\", \"anyon know\", \"argicn close\", \"armenia today\", \"artifici intellig\", \"athen georgia\", \"atlanta georgia\", \"bank njxp\", \"beck abpsoft\", \"believ speak\", \"best offer\", \"best offer\", \"best offern\", \"best offern\", \"bit color\", \"bit color\", \"bit color\", \"bit imag\", \"bitnet itnetn\", \"blah blah\", \"bob vestermann\", \"brain insid\", \"brand new\", \"brand new\", \"brand new\", \"brand new\", \"cant find\", \"cant find\", \"cant find\", \"cant find\", \"capit punish\", \"care taken\", \"carnegi mellon\", \"carter opinion\", \"center polici\", \"chastiti intellect\", \"cheersn kentn\", \"clayton cramer\", \"clayton cramer\", \"clock speed\", \"close road\", \"companyn tratuscom\", \"comput graphic\", \"comput graphic\", \"comput scienc\", \"comput scienc\", \"comput scienc\", \"comput scienc\", \"comput scienc\", \"consent alln\", \"control card\", \"copi protect\", \"could put\", \"could someon\", \"could someon\", \"could someon\", \"could someon\", \"could someon\", \"cramer uunetpyramidoptilinkcram\", \"daren tttgo\", \"david sternlight\", \"david veal\", \"death penalti\", \"death penalti\", \"digit equip\", \"digit equip\", \"domi stanleyn\", \"dont know\", \"dont know\", \"dont know\", \"dont know\", \"dont know\", \"dont speak\", \"dont speak\", \"dont speak\", \"dont speak\", \"dont think\", \"dont think\", \"dont think\", \"dont think\", \"dont think\", \"dont want\", \"dont want\", \"dont want\", \"dont want\", \"dont want\", \"drive drive\", \"email address\", \"email address\", \"email address\", \"email address\", \"email omn\", \"email omn\", \"email omn\", \"employ opinion\", \"ensur accuraci\", \"error omiss\", \"excel condit\", \"exist singl\", \"exterminationn ohanu\", \"fail presidentn\", \"fort collin\", \"ftp site\", \"ftp site\", \"ftp site\", \"ftp site\", \"gaedu univers\", \"gamma ray\", \"gari daren\", \"georgia institut\", \"georgia usa\", \"georgia uucpt\", \"gon itnettttselann\", \"gon na\", \"gon na\", \"gon na\", \"gon na\", \"gon na\", \"gordon bank\", \"great care\", \"greatli appreciatedn\", \"greatli appreciatedn\", \"greatli appreciatedn\", \"greatli appreciatedn\", \"greatli appreciatedn\", \"hard disk\", \"hard disk\", \"hard disk\", \"hard disk\", \"hard disk\", \"hard drive\", \"hard drive\", \"hard drive\", \"hard drive\", \"hard driven\", \"hard driven\", \"hard driven\", \"health care\", \"health care\", \"health care\", \"health care\", \"help greatli\", \"help greatli\", \"help greatli\", \"henri spencer\", \"henri spencer\", \"human right\", \"human right\", \"human right\", \"human right\", \"ide drive\", \"ide drive\", \"ide drive\", \"includ ship\", \"info servic\", \"inform error\", \"insid andr\", \"institut technolog\", \"intellect andn\", \"intellig program\", \"investor packetn\", \"isa bu\", \"isa bu\", \"itnettttselann domi\", \"ive never\", \"ive never\", \"ive never\", \"ive never\", \"ive never\", \"ive seen\", \"ive seen\", \"ive seen\", \"ive seen\", \"ive seen\", \"jake livni\", \"jet gon\", \"jet propuls\", \"jet propuls\", \"jimmi carter\", \"kentn pplecom\", \"key avail\", \"kipl orontoedu\", \"ksand privat\", \"last night\", \"last night\", \"last night\", \"last night\", \"last night\", \"last year\", \"last year\", \"last year\", \"last year\", \"last year\", \"law enforc\", \"law enforc\", \"law enforc\", \"law enforc\", \"law enforc\", \"let know\", \"let know\", \"let know\", \"let know\", \"let know\", \"like know\", \"like know\", \"like know\", \"like know\", \"like know\", \"like sell\", \"livni onycom\", \"local bu\", \"local bu\", \"local bu\", \"local bu\", \"long time\", \"long time\", \"long time\", \"long time\", \"long time\", \"longer exist\", \"look buy\", \"look inform\", \"look inform\", \"look inform\", \"look like\", \"look like\", \"look like\", \"look like\", \"look like\", \"mac iisi\", \"make offer\", \"make offer\", \"make offer\", \"make offern\", \"man work\", \"mani peopl\", \"mani peopl\", \"mani peopl\", \"mani peopl\", \"mani peopl\", \"maxaxaxaxaxaxaxaxaxaxaxaxaxaxaxn maxaxaxaxaxaxaxaxaxaxaxaxaxaxaxn\", \"michael adam\", \"michael covington\", \"might serv\", \"minen relat\", \"mountain pass\", \"mutual consent\", \"new testament\", \"new testament\", \"new testament\", \"new york\", \"new york\", \"new york\", \"new york\", \"new york\", \"njxp skeptic\", \"ofn inform\", \"ohanu appressian\", \"omiss except\", \"oon brain\", \"oort cloud\", \"opinion employ\", \"opinion minen\", \"opinion standard\", \"orontoedu utzoohenryn\", \"pass might\", \"peopl mutual\", \"pgp public\", \"pgp public\", \"phone compani\", \"pleas email\", \"pleas email\", \"pleas email\", \"pleas email\", \"pleas email\", \"pleas emailn\", \"pleas helpn\", \"pleas repli\", \"pleas repli\", \"pleas repli\", \"pleas repli\", \"pleas repli\", \"pleas respond\", \"pleas respond\", \"pleas respond\", \"pleas respond\", \"pleas tell\", \"pleas tell\", \"pleas tell\", \"pleas tell\", \"plnasagovn jet\", \"plu ship\", \"polici research\", \"polici research\", \"power play\", \"power play\", \"power play\", \"power play\", \"power suppli\", \"power suppli\", \"power suppli\", \"power suppli\", \"power suppli\", \"pplecom alink\", \"privat activ\", \"proceed work\", \"program gaedu\", \"public domain\", \"public domain\", \"public domain\", \"public domain\", \"radar detector\", \"radar detector\", \"radar detector\", \"radio ntmi\", \"radio shack\", \"radio shack\", \"radio shack\", \"red sox\", \"red sox\", \"red sox\", \"red wing\", \"red wing\", \"red wing\", \"relat peopl\", \"rememb way\", \"repli emailn\", \"research scientist\", \"road mountain\", \"ron baalk\", \"sahak melkonian\", \"say god\", \"say god\", \"scsi control\", \"send email\", \"send email\", \"send email\", \"send email\", \"serdar argicn\", \"serdar argicn\", \"serv way\", \"shame surrend\", \"share memori\", \"singl turkish\", \"skeptic chastiti\", \"slpittedu shame\", \"someon pleas\", \"someon pleas\", \"someon pleas\", \"someon tell\", \"someon tell\", \"someon tell\", \"someon tell\", \"someth like\", \"someth like\", \"someth like\", \"someth like\", \"someth like\", \"sound like\", \"sound like\", \"sound like\", \"sound like\", \"sound like\", \"sourc code\", \"sourc code\", \"souvien gari\", \"soviet armenia\", \"speak companyn\", \"special investor\", \"spencer toronto\", \"standard fail\", \"state univers\", \"state univers\", \"state univers\", \"state univers\", \"state univers\", \"state universityn\", \"state universityn\", \"sternlight great\", \"steve hendrick\", \"still rememb\", \"sun microsystem\", \"surrend soon\", \"swap file\", \"swap file\", \"taken ensur\", \"technolog atlanta\", \"tel fax\", \"tel fax\", \"thank advanc\", \"thank advanc\", \"thank advanc\", \"thank advanc\", \"thank advanc\", \"thank advancen\", \"thank advancen\", \"thank advancen\", \"thank advancen\", \"thank advancen\", \"thank youn\", \"thank youn\", \"thank youn\", \"thank youn\", \"thank youn\", \"three day\", \"three day\", \"today longer\", \"today special\", \"toronto zoologyn\", \"tratuscom write\", \"tttgo winnipeg\", \"turk proceed\", \"unit state\", \"unit state\", \"unit state\", \"unit state\", \"unit state\", \"univers georgia\", \"univers new\", \"univers new\", \"univers new\", \"univers pittsburgh\", \"usa amateur\", \"uunetpyramidoptilinkcram opinion\", \"via email\", \"via email\", \"via email\", \"via email\", \"video card\", \"video card\", \"video card\", \"video card\", \"video card\", \"want know\", \"want know\", \"want know\", \"want know\", \"want know\", \"way escap\", \"white housen\", \"white housen\", \"white sox\", \"willn americanoccupi\", \"window manag\", \"window manag\", \"window manag\", \"wonder anyon\", \"wonder anyon\", \"wonder anyon\", \"wonder anyon\", \"work exterminationn\", \"work henri\", \"work man\", \"write today\", \"writesn articl\", \"writesn articl\", \"writesn articl\", \"writesn articl\", \"writesn articl\", \"wstratuscom believ\", \"year ago\", \"year ago\", \"year ago\", \"year ago\", \"year ago\", \"year georg\", \"year old\", \"year old\", \"year old\", \"year old\", \"year old\", \"york replac\", \"zoologyn kipl\"]}, \"R\": 30, \"lambda.step\": 0.01, \"plot.opts\": {\"xlab\": \"PC1\", \"ylab\": \"PC2\"}, \"topic.order\": [2, 1, 3, 4, 5]};\n",
              "\n",
              "function LDAvis_load_lib(url, callback){\n",
              "  var s = document.createElement('script');\n",
              "  s.src = url;\n",
              "  s.async = true;\n",
              "  s.onreadystatechange = s.onload = callback;\n",
              "  s.onerror = function(){console.warn(\"failed to load library \" + url);};\n",
              "  document.getElementsByTagName(\"head\")[0].appendChild(s);\n",
              "}\n",
              "\n",
              "if(typeof(LDAvis) !== \"undefined\"){\n",
              "   // already loaded: just create the visualization\n",
              "   !function(LDAvis){\n",
              "       new LDAvis(\"#\" + \"ldavis_el119140164898954480527082271\", ldavis_el119140164898954480527082271_data);\n",
              "   }(LDAvis);\n",
              "}else if(typeof define === \"function\" && define.amd){\n",
              "   // require.js is available: use it to load d3/LDAvis\n",
              "   require.config({paths: {d3: \"https://cdnjs.cloudflare.com/ajax/libs/d3/3.5.5/d3.min\"}});\n",
              "   require([\"d3\"], function(d3){\n",
              "      window.d3 = d3;\n",
              "      LDAvis_load_lib(\"https://cdn.rawgit.com/bmabey/pyLDAvis/files/ldavis.v1.0.0.js\", function(){\n",
              "        new LDAvis(\"#\" + \"ldavis_el119140164898954480527082271\", ldavis_el119140164898954480527082271_data);\n",
              "      });\n",
              "    });\n",
              "}else{\n",
              "    // require.js not available: dynamically load d3 & LDAvis\n",
              "    LDAvis_load_lib(\"https://cdnjs.cloudflare.com/ajax/libs/d3/3.5.5/d3.min.js\", function(){\n",
              "         LDAvis_load_lib(\"https://cdn.rawgit.com/bmabey/pyLDAvis/files/ldavis.v1.0.0.js\", function(){\n",
              "                 new LDAvis(\"#\" + \"ldavis_el119140164898954480527082271\", ldavis_el119140164898954480527082271_data);\n",
              "            })\n",
              "         });\n",
              "}\n",
              "</script>"
            ],
            "text/plain": [
              "PreparedData(topic_coordinates=                x           y  topics  cluster       Freq\n",
              "topic                                                    \n",
              "1      150.222153  -72.269554       1        1  22.982631\n",
              "0       51.163364 -159.968018       2        1  20.985512\n",
              "2      -73.144554   21.523815       3        1  20.033684\n",
              "3      -66.410133 -110.606438       4        1  20.001324\n",
              "4       54.417324   12.443444       5        1  15.996849, topic_info=      Category       Freq                Term       Total  loglift  logprob\n",
              "10509  Default  17.000000          sourc code   17.000000  30.0000  30.0000\n",
              "5272   Default  16.000000  institut technolog   16.000000  29.0000  29.0000\n",
              "107    Default  15.000000          activ netn   15.000000  28.0000  28.0000\n",
              "211    Default  15.000000         alink ksand   15.000000  27.0000  27.0000\n",
              "8687   Default  15.000000        privat activ   15.000000  26.0000  26.0000\n",
              "...        ...        ...                 ...         ...      ...      ...\n",
              "6022    Topic5   9.381351          law enforc   24.368776   0.8782  -6.8918\n",
              "8436    Topic5   9.380820         pleas email   59.987849  -0.0227  -6.8918\n",
              "2879    Topic5   9.582625           dont know  114.940820  -0.6517  -6.8705\n",
              "2924    Topic5   8.958209          dont think   73.028887  -0.2655  -6.9379\n",
              "567     Topic5   8.955597          anyon know  118.239358  -0.7477  -6.9382\n",
              "\n",
              "[307 rows x 6 columns], token_table=       Topic      Freq           Term\n",
              "term                                 \n",
              "0          2  0.325350        ___ ___\n",
              "0          4  0.455490        ___ ___\n",
              "0          5  0.195210        ___ ___\n",
              "12         4  0.914523      ____ ____\n",
              "16         2  0.186170    _____ _____\n",
              "...      ...       ...            ...\n",
              "13228      3  0.117119       year old\n",
              "13228      4  0.117119       year old\n",
              "13228      5  0.292798       year old\n",
              "13264      1  0.885079    york replac\n",
              "13340      2  0.980340  zoologyn kipl\n",
              "\n",
              "[505 rows x 3 columns], R=30, lambda_step=0.01, plot_opts={'xlab': 'PC1', 'ylab': 'PC2'}, topic_order=[2, 1, 3, 4, 5])"
            ]
          },
          "metadata": {
            "tags": []
          },
          "execution_count": 35
        }
      ]
    },
    {
      "cell_type": "markdown",
      "metadata": {
        "id": "1Z_r1_Jb_TWx",
        "colab_type": "text"
      },
      "source": [
        "# LDA Bigram - tf-idf - lem"
      ]
    },
    {
      "cell_type": "code",
      "metadata": {
        "id": "crY1vk7G_U4c",
        "colab_type": "code",
        "colab": {}
      },
      "source": [
        "data_bigram_lem_tfidf = tfidf.fit_transform(df.bigram_lem)"
      ],
      "execution_count": 0,
      "outputs": []
    },
    {
      "cell_type": "code",
      "metadata": {
        "id": "HwI2Sk3N_lvQ",
        "colab_type": "code",
        "outputId": "4ccb4bf6-0ed6-449d-b76b-d4e33ee227db",
        "colab": {
          "base_uri": "https://localhost:8080/",
          "height": 399
        }
      },
      "source": [
        "# Parametri di ricerca\n",
        "search_params = {'n_components': [5,10, 15, 20, 25, 30], 'learning_decay': [.5, .7, .9]}\n",
        "\n",
        "# Inizializzazione Modello\n",
        "lda = LatentDirichletAllocation()\n",
        "\n",
        "# Inizializzazione GridSearchCV\n",
        "model = GridSearchCV(lda, param_grid=search_params)\n",
        "\n",
        "# Grid Search\n",
        "model.fit(data_bigram_lem_tfidf)"
      ],
      "execution_count": 0,
      "outputs": [
        {
          "output_type": "execute_result",
          "data": {
            "text/plain": [
              "GridSearchCV(cv=None, error_score=nan,\n",
              "             estimator=LatentDirichletAllocation(batch_size=128,\n",
              "                                                 doc_topic_prior=None,\n",
              "                                                 evaluate_every=-1,\n",
              "                                                 learning_decay=0.7,\n",
              "                                                 learning_method='batch',\n",
              "                                                 learning_offset=10.0,\n",
              "                                                 max_doc_update_iter=100,\n",
              "                                                 max_iter=10,\n",
              "                                                 mean_change_tol=0.001,\n",
              "                                                 n_components=10, n_jobs=None,\n",
              "                                                 perp_tol=0.1,\n",
              "                                                 random_state=None,\n",
              "                                                 topic_word_prior=None,\n",
              "                                                 total_samples=1000000.0,\n",
              "                                                 verbose=0),\n",
              "             iid='deprecated', n_jobs=None,\n",
              "             param_grid={'learning_decay': [0.5, 0.7, 0.9],\n",
              "                         'n_components': [5, 10, 15, 20, 25, 30]},\n",
              "             pre_dispatch='2*n_jobs', refit=True, return_train_score=False,\n",
              "             scoring=None, verbose=0)"
            ]
          },
          "metadata": {
            "tags": []
          },
          "execution_count": 37
        }
      ]
    },
    {
      "cell_type": "code",
      "metadata": {
        "id": "Pj-QdWZU_4mE",
        "colab_type": "code",
        "outputId": "88ad8cbe-a4a5-41e3-9c19-741b0a9fc0fb",
        "colab": {
          "base_uri": "https://localhost:8080/",
          "height": 72
        }
      },
      "source": [
        "# Stimato il Miglior modello \n",
        "best_lda_model = model.best_estimator_\n",
        "\n",
        "# Parametri del modello\n",
        "print(\"Best Model Params: \", model.best_params_)\n",
        "\n",
        "# Log Likelihood Score\n",
        "print(\"Best Log Likelihood Score: \", model.best_score_)\n",
        "\n",
        "# Perplessità\n",
        "print(\"Model Perplexity: \", best_lda_model.perplexity(data_bigram_lem_tfidf))"
      ],
      "execution_count": 0,
      "outputs": [
        {
          "output_type": "stream",
          "text": [
            "Best Model Params:  {'learning_decay': 0.9, 'n_components': 5}\n",
            "Best Log Likelihood Score:  -148064.30547586092\n",
            "Model Perplexity:  26597.054426887567\n"
          ],
          "name": "stdout"
        }
      ]
    },
    {
      "cell_type": "code",
      "metadata": {
        "id": "Uyft7rn7ABs5",
        "colab_type": "code",
        "outputId": "21e08d04-57f2-4b35-814b-72d0b82d138a",
        "colab": {
          "base_uri": "https://localhost:8080/",
          "height": 1000
        }
      },
      "source": [
        "pyLDAvis.enable_notebook()\n",
        "vis = pyLDAvis.sklearn.prepare(best_lda_model, data_bigram_lem_tfidf, tfidf, mds='tsne')\n",
        "vis"
      ],
      "execution_count": 0,
      "outputs": [
        {
          "output_type": "stream",
          "text": [
            "/usr/local/lib/python3.6/dist-packages/pyLDAvis/_prepare.py:257: FutureWarning: Sorting because non-concatenation axis is not aligned. A future version\n",
            "of pandas will change to not sort by default.\n",
            "\n",
            "To accept the future behavior, pass 'sort=False'.\n",
            "\n",
            "To retain the current behavior and silence the warning, pass 'sort=True'.\n",
            "\n",
            "  return pd.concat([default_term_info] + list(topic_dfs))\n"
          ],
          "name": "stderr"
        },
        {
          "output_type": "execute_result",
          "data": {
            "text/html": [
              "\n",
              "<link rel=\"stylesheet\" type=\"text/css\" href=\"https://cdn.rawgit.com/bmabey/pyLDAvis/files/ldavis.v1.0.0.css\">\n",
              "\n",
              "\n",
              "<div id=\"ldavis_el119140165596292584768615072\"></div>\n",
              "<script type=\"text/javascript\">\n",
              "\n",
              "var ldavis_el119140165596292584768615072_data = {\"mdsDat\": {\"x\": [150.22215270996094, 51.16336441040039, -73.1445541381836, -66.4101333618164, 54.41732406616211], \"y\": [-72.2695541381836, -159.968017578125, 21.523815155029297, -110.60643768310547, 12.44344425201416], \"topics\": [1, 2, 3, 4, 5], \"cluster\": [1, 1, 1, 1, 1], \"Freq\": [21.379145836080742, 21.206432909327084, 20.488781307588606, 20.21071128368258, 16.714928663320997]}, \"tinfo\": {\"Category\": [\"Default\", \"Default\", \"Default\", \"Default\", \"Default\", \"Default\", \"Default\", \"Default\", \"Default\", \"Default\", \"Default\", \"Default\", \"Default\", \"Default\", \"Default\", \"Default\", \"Default\", \"Default\", \"Default\", \"Default\", \"Default\", \"Default\", \"Default\", \"Default\", \"Default\", \"Default\", \"Default\", \"Default\", \"Default\", \"Default\", \"Topic1\", \"Topic1\", \"Topic1\", \"Topic1\", \"Topic1\", \"Topic1\", \"Topic1\", \"Topic1\", \"Topic1\", \"Topic1\", \"Topic1\", \"Topic1\", \"Topic1\", \"Topic1\", \"Topic1\", \"Topic1\", \"Topic1\", \"Topic1\", \"Topic1\", \"Topic1\", \"Topic1\", \"Topic1\", \"Topic1\", \"Topic1\", \"Topic1\", \"Topic1\", \"Topic1\", \"Topic1\", \"Topic1\", \"Topic1\", \"Topic1\", \"Topic1\", \"Topic1\", \"Topic1\", \"Topic1\", \"Topic1\", \"Topic1\", \"Topic1\", \"Topic1\", \"Topic1\", \"Topic1\", \"Topic1\", \"Topic1\", \"Topic1\", \"Topic1\", \"Topic1\", \"Topic1\", \"Topic1\", \"Topic1\", \"Topic1\", \"Topic1\", \"Topic1\", \"Topic1\", \"Topic1\", \"Topic1\", \"Topic1\", \"Topic1\", \"Topic1\", \"Topic1\", \"Topic1\", \"Topic1\", \"Topic1\", \"Topic1\", \"Topic1\", \"Topic1\", \"Topic1\", \"Topic1\", \"Topic1\", \"Topic1\", \"Topic1\", \"Topic2\", \"Topic2\", \"Topic2\", \"Topic2\", \"Topic2\", \"Topic2\", \"Topic2\", \"Topic2\", \"Topic2\", \"Topic2\", \"Topic2\", \"Topic2\", \"Topic2\", \"Topic2\", \"Topic2\", \"Topic2\", \"Topic2\", \"Topic2\", \"Topic2\", \"Topic2\", \"Topic2\", \"Topic2\", \"Topic2\", \"Topic2\", \"Topic2\", \"Topic2\", \"Topic2\", \"Topic2\", \"Topic2\", \"Topic2\", \"Topic2\", \"Topic2\", \"Topic2\", \"Topic2\", \"Topic2\", \"Topic2\", \"Topic2\", \"Topic2\", \"Topic2\", \"Topic2\", \"Topic2\", \"Topic2\", \"Topic2\", \"Topic2\", \"Topic2\", \"Topic2\", \"Topic2\", \"Topic2\", \"Topic2\", \"Topic2\", \"Topic2\", \"Topic3\", \"Topic3\", \"Topic3\", \"Topic3\", \"Topic3\", \"Topic3\", \"Topic3\", \"Topic3\", \"Topic3\", \"Topic3\", \"Topic3\", \"Topic3\", \"Topic3\", \"Topic3\", \"Topic3\", \"Topic3\", \"Topic3\", \"Topic3\", \"Topic3\", \"Topic3\", \"Topic3\", \"Topic3\", \"Topic3\", \"Topic3\", \"Topic3\", \"Topic3\", \"Topic3\", \"Topic3\", \"Topic3\", \"Topic3\", \"Topic3\", \"Topic3\", \"Topic3\", \"Topic3\", \"Topic3\", \"Topic3\", \"Topic3\", \"Topic3\", \"Topic3\", \"Topic3\", \"Topic3\", \"Topic3\", \"Topic3\", \"Topic3\", \"Topic3\", \"Topic3\", \"Topic3\", \"Topic3\", \"Topic3\", \"Topic3\", \"Topic3\", \"Topic3\", \"Topic3\", \"Topic3\", \"Topic3\", \"Topic3\", \"Topic4\", \"Topic4\", \"Topic4\", \"Topic4\", \"Topic4\", \"Topic4\", \"Topic4\", \"Topic4\", \"Topic4\", \"Topic4\", \"Topic4\", \"Topic4\", \"Topic4\", \"Topic4\", \"Topic4\", \"Topic4\", \"Topic4\", \"Topic4\", \"Topic4\", \"Topic4\", \"Topic4\", \"Topic4\", \"Topic4\", \"Topic4\", \"Topic4\", \"Topic4\", \"Topic4\", \"Topic4\", \"Topic4\", \"Topic4\", \"Topic4\", \"Topic4\", \"Topic4\", \"Topic4\", \"Topic4\", \"Topic4\", \"Topic4\", \"Topic4\", \"Topic4\", \"Topic4\", \"Topic4\", \"Topic5\", \"Topic5\", \"Topic5\", \"Topic5\", \"Topic5\", \"Topic5\", \"Topic5\", \"Topic5\", \"Topic5\", \"Topic5\", \"Topic5\", \"Topic5\", \"Topic5\", \"Topic5\", \"Topic5\", \"Topic5\", \"Topic5\", \"Topic5\", \"Topic5\", \"Topic5\", \"Topic5\", \"Topic5\", \"Topic5\", \"Topic5\", \"Topic5\", \"Topic5\", \"Topic5\", \"Topic5\", \"Topic5\", \"Topic5\", \"Topic5\", \"Topic5\", \"Topic5\", \"Topic5\", \"Topic5\", \"Topic5\", \"Topic5\", \"Topic5\", \"Topic5\", \"Topic5\", \"Topic5\", \"Topic5\", \"Topic5\", \"Topic5\", \"Topic5\", \"Topic5\", \"Topic5\", \"Topic5\", \"Topic5\", \"Topic5\", \"Topic5\", \"Topic5\", \"Topic5\", \"Topic5\", \"Topic5\"], \"Freq\": [40.0, 29.0, 63.0, 26.0, 31.0, 19.0, 25.0, 28.0, 19.0, 95.0, 17.0, 17.0, 17.0, 17.0, 17.0, 15.0, 17.0, 17.0, 17.0, 17.0, 17.0, 17.0, 16.0, 16.0, 16.0, 16.0, 16.0, 24.0, 16.0, 16.0, 10.904436298363757, 10.717818195261097, 10.550288825327316, 9.402096163003524, 9.797172412985164, 7.592251443925309, 8.206240029494172, 7.291898413956376, 7.134622861420788, 7.12812090326941, 6.717613768096641, 9.151724738133467, 6.444670044953681, 6.320607990582495, 6.054698381911243, 6.046543724306856, 5.942499648532632, 5.886092700783496, 5.885499489514446, 5.760304630746759, 5.71383307371319, 5.761368252280578, 5.631268262974832, 5.58890087931128, 5.497024397988783, 5.497024397988783, 5.497024397988783, 5.497024397988783, 5.497024397988783, 5.497024397988783, 5.497024397988783, 23.50996790893583, 5.497024397988783, 5.497024397988783, 7.8177333522307375, 5.513701634502455, 15.152208497089523, 19.98587027045615, 15.266949568833654, 16.108444353747515, 36.99376968234882, 7.506187483897139, 11.244494140473456, 8.58121862821319, 7.65701060259229, 8.542202456307951, 13.047561700670542, 9.19739502526322, 15.527174922648298, 18.163930896162807, 35.43764228663434, 26.824894344145637, 8.315782816694027, 10.464215125462102, 17.69866318059345, 15.392957758031235, 22.379260669451924, 10.105013111360638, 10.136302347320077, 12.815244871084118, 9.148793213375548, 12.640474646685991, 12.73276714461726, 11.575043272671948, 11.28946920495312, 11.221670027144945, 11.980095606480322, 11.593862760742928, 11.168224321159254, 11.383553220169887, 16.75051056318824, 15.800967992034126, 13.100495872642286, 12.6350675167894, 12.6350675167894, 12.6350675167894, 12.6350675167894, 12.6350675167894, 12.6350675167894, 12.6350675167894, 12.6350675167894, 12.6350675167894, 12.860291635674862, 11.564141337197169, 11.102577115244586, 10.657799801394173, 10.657799801394173, 10.665226102178277, 10.92435426861514, 10.541407952830557, 10.388564302315414, 10.18994778774903, 10.155612985369546, 10.125273892262472, 10.010904863322965, 9.909727697359056, 9.854964906052842, 9.802441371517634, 10.38130183005608, 9.32692776845507, 11.027515310285644, 14.29325404907048, 15.836902499506515, 15.136800516090867, 17.829291485653005, 20.02790916125263, 10.804824673621066, 13.369927373297001, 11.95370310114663, 16.766268954730695, 20.286345826639604, 13.29490313447295, 24.77284154827012, 12.17433918373065, 21.779632658143846, 21.73372518213473, 14.926316879851063, 14.771940910390226, 15.712174903043012, 15.20634064429129, 12.721043466734148, 16.09470776397973, 16.09470776397973, 16.09470776397973, 16.09470776397973, 16.09470776397972, 15.721941811995944, 14.323651378131007, 11.68567744960507, 10.77210599102724, 10.709467902470182, 10.544733360442295, 10.183803073580616, 9.68424852593271, 9.387542839660453, 9.343980527113986, 9.231435377753192, 9.1571659162208, 9.1571659162208, 9.144481488869621, 9.002591900582193, 8.979053892055415, 9.003255828343919, 9.074534429132465, 8.823889903828771, 8.596205295044037, 7.760565549256807, 7.696877715548462, 9.061148298469112, 7.568382845456142, 7.4255637715399185, 13.078638214018195, 23.416010016401145, 10.046532586589198, 22.556670898767177, 21.733597138060524, 45.90164825324204, 14.652166325902256, 15.182245161416157, 25.350994259844732, 16.828712624057477, 12.672396239213622, 18.745699759476448, 12.382514475873057, 27.570555263869956, 15.913841609062558, 19.017944647323652, 11.024785846424518, 12.408172610623469, 11.662702001987768, 20.689490860135354, 17.198690711916484, 13.181474392321519, 13.178224832910647, 12.43367995122537, 12.445181368801805, 13.39705674874568, 18.983021746962653, 16.818179613726187, 16.818179613726187, 16.818179613726187, 16.818179613726187, 16.818179613726187, 16.624567758595113, 16.624567758595113, 16.624567758595113, 16.624567758595113, 16.479947110361525, 15.547467855282589, 12.920995392195639, 12.904047761189759, 12.904047761189759, 12.904047761189759, 12.141869310206358, 11.959851119590246, 11.901894084095776, 11.720352545239045, 11.691365287058488, 11.657702411151298, 11.657702411151298, 11.657702411151298, 11.657702411151298, 11.657702411151298, 11.618200743463388, 11.525497260399957, 11.494063523537946, 11.477026369906502, 15.147197485447254, 33.51185845714491, 32.44048959615355, 23.145693543578002, 19.96645918754229, 17.811522048499107, 15.254011140609851, 14.369189689786822, 12.89687936816171, 12.199593119426295, 11.840820117906512, 14.593448408301423, 10.938261987300747, 10.836496939757577, 10.624039087313461, 9.869831584655543, 8.975183979693076, 8.805514966632536, 8.680634119153874, 8.498552629332229, 8.489248557027253, 8.180771792430921, 8.035347771005291, 8.035347771005291, 8.035347771005291, 7.765158736397347, 7.765158736397347, 7.737815007004393, 6.978238800711159, 6.978238800711159, 6.978238800711159, 6.978238800711159, 6.978238800711159, 12.171438068839253, 6.846759759294308, 5.987041291030044, 6.019070937486055, 5.865537223862325, 5.617549526967694, 5.514165704179021, 5.3127657455519355, 16.482530604873375, 13.9808673099193, 7.292774540725602, 7.056695806001226, 19.083765878706455, 27.503461012385284, 10.621355572998839, 16.011113490873804, 13.372570866706551, 10.19016316450575, 9.360774464669104, 9.14065264740384, 15.331187826105896, 7.7942997655161745, 23.782984541779555, 17.095537387504734, 10.67070238612835, 9.83177633897492, 9.901988321807812, 12.974598327230467, 8.443652670118833, 11.037522946013548, 9.376763988072593, 8.652179290499284, 8.77726742872243], \"Term\": [\"please reply\", \"video card\", \"please email\", \"please let\", \"___ ___\", \"gordon bank\", \"brand new\", \"someone please\", \"amateur radio\", \"thanks advancen\", \"skepticism chastity\", \"bank njxp\", \"chastity intellect\", \"njxp skepticism\", \"intellect andn\", \"appreciatedn thanksn\", \"surrender soon\", \"shameful surrender\", \"andn slpittedu\", \"slpittedu shameful\", \"henry spencer\", \"institute technology\", \"ksand private\", \"pplecom alink\", \"private activity\", \"activity netn\", \"alink ksand\", \"please respond\", \"kentn pplecom\", \"make offern\", \"jon livesey\", \"livesey writesn\", \"pdsgicom jon\", \"expose event\", \"moral system\", \"tim clock\", \"gamma ray\", \"omn omn\", \"new england\", \"frank odwyer\", \"oort cloud\", \"university california\", \"respond via\", \"income tax\", \"yeast infection\", \"frank craryn\", \"graphic ultra\", \"beauchaine cotekcom\", \"ati graphic\", \"islamic bank\", \"craryn bouldern\", \"shot savesn\", \"bob beauchaine\", \"could stay\", \"stay blew\", \"bronx awayn\", \"cotekcom said\", \"sank manhattan\", \"said queen\", \"blew bronx\", \"awayn sank\", \"please let\", \"manhattan sean\", \"queen could\", \"objective morality\", \"colorado bouldern\", \"let known\", \"please respond\", \"red sox\", \"anyone tell\", \"please email\", \"really appreciate\", \"make offer\", \"past year\", \"like new\", \"internet address\", \"got ta\", \"bob vestermann\", \"ive never\", \"let know\", \"dont know\", \"dont think\", \"could please\", \"dont forget\", \"writesn article\", \"dont want\", \"anyone know\", \"state universityn\", \"floppy drive\", \"year old\", \"ive tried\", \"ive seen\", \"last year\", \"many people\", \"thank youn\", \"like know\", \"new york\", \"look like\", \"something like\", \"thanks advancen\", \"institute technology\", \"clayton cramer\", \"georgia institute\", \"special investor\", \"believe speak\", \"today special\", \"companyn tratuscom\", \"speak companyn\", \"investor packetn\", \"wstratuscom believe\", \"tratuscom write\", \"write today\", \"bit color\", \"swap file\", \"opinion minen\", \"uunetpyramidoptilinkcramer opinion\", \"cramer uunetpyramidoptilinkcramer\", \"_____ _____\", \"kind soul\", \"isa bus\", \"consent alln\", \"mutual consent\", \"disclaimer applyn\", \"relation people\", \"people mutual\", \"jet propulsion\", \"minen relation\", \"atlanta georgia\", \"scsi controller\", \"running window\", \"plus shipping\", \"phone fax\", \"dont speak\", \"standard disclaimer\", \"window manager\", \"ftp site\", \"fax email\", \"health care\", \"radar detector\", \"law enforcement\", \"anybody know\", \"public domain\", \"dont know\", \"do window\", \"thanks advancen\", \"anyone know\", \"hard drive\", \"like know\", \"ive seen\", \"writesn article\", \"something like\", \"private activity\", \"activity netn\", \"pplecom alink\", \"ksand private\", \"alink ksand\", \"kentn pplecom\", \"cheersn kentn\", \"policy research\", \"____ ____\", \"please help\", \"center policy\", \"yoursn james\", \"care taken\", \"jake livni\", \"great care\", \"taken ensure\", \"ensure accuracy\", \"accuracy ofn\", \"error omission\", \"information error\", \"sternlight great\", \"opinion employer\", \"heat sink\", \"omission excepted\", \"employer opinion\", \"malcolm lee\", \"system corporationn\", \"anyone help\", \"jimmy carter\", \"replaced jimmy\", \"david sternlight\", \"video card\", \"james kiefern\", \"someone please\", \"___ ___\", \"thanks advancen\", \"local bus\", \"please post\", \"year ago\", \"could someone\", \"best offer\", \"anyone else\", \"serial port\", \"anyone know\", \"thank youn\", \"new york\", \"thanks lotn\", \"phone number\", \"human right\", \"dont know\", \"dont think\", \"please send\", \"hard drive\", \"public key\", \"thanks advance\", \"please email\", \"gordon bank\", \"chastity intellect\", \"intellect andn\", \"bank njxp\", \"njxp skepticism\", \"skepticism chastity\", \"slpittedu shameful\", \"surrender soon\", \"shameful surrender\", \"andn slpittedu\", \"henry spencer\", \"make offern\", \"serdar argicn\", \"orontoedu utzoohenryn\", \"spencer toronto\", \"toronto zoologyn\", \"longer exists\", \"michael adam\", \"way escape\", \"today longer\", \"might serve\", \"mountain pass\", \"pass might\", \"serve way\", \"proceeded work\", \"closed road\", \"road mountain\", \"ohanus appressian\", \"soviet armenia\", \"armenia today\", \"serial number\", \"anyone know\", \"dont know\", \"last year\", \"dont think\", \"new york\", \"year ago\", \"sound like\", \"greatly appreciatedn\", \"something like\", \"clipper chip\", \"appreciatedn thanksn\", \"university georgia\", \"artificial intelligence\", \"michael covington\", \"bell lab\", \"view expressed\", \"athens georgia\", \"excellent conditionn\", \"usa amateur\", \"research scientist\", \"list price\", \"radio ntmi\", \"intelligence program\", \"georgia usa\", \"gaedu university\", \"program gaedu\", \"emailn thanksn\", \"scientist artificial\", \"covington associate\", \"phone athens\", \"georgia phone\", \"associate research\", \"att bell\", \"ann arbor\", \"green alpolyedu\", \"national university\", \"blue book\", \"james green\", \"access time\", \"norton desktop\", \"amateur radio\", \"excellent condition\", \"printer driver\", \"keep bear\", \"brand new\", \"please reply\", \"power play\", \"wondering anyone\", \"help appreciatedn\", \"new jersey\", \"holy spirit\", \"cdrom drive\", \"email address\", \"good condition\", \"anyone know\", \"look like\", \"san jose\", \"could find\", \"send email\", \"thanks advancen\", \"anyone give\", \"dont know\", \"greatly appreciatedn\", \"red wing\", \"ive seen\"], \"Total\": [40.0, 29.0, 63.0, 26.0, 31.0, 19.0, 25.0, 28.0, 19.0, 95.0, 17.0, 17.0, 17.0, 17.0, 17.0, 15.0, 17.0, 17.0, 17.0, 17.0, 17.0, 17.0, 16.0, 16.0, 16.0, 16.0, 16.0, 24.0, 16.0, 16.0, 11.563348558277593, 11.376099184480697, 11.208590823827977, 10.063077363998826, 10.620655351839659, 8.252785456617678, 8.92799897969733, 7.950198953010382, 7.795394118674496, 7.790122495797571, 7.377082358393727, 10.076081649020509, 7.107309237532794, 6.984345007463174, 6.712393846937227, 6.707346759504874, 6.605639901108191, 6.546040698305683, 6.5574391758973265, 6.421844092188644, 6.374901276822577, 6.4298035304887176, 6.289202465059566, 6.246919990309342, 6.154936386789959, 6.154936386789959, 6.154936386789959, 6.154936386789959, 6.154936386789959, 6.154936386789959, 6.154936386789959, 26.7844421712219, 6.154936386789959, 6.154936386789959, 8.839976999494272, 6.174149681968109, 17.97400735854841, 24.574005774570214, 18.719393962899616, 22.007550099499436, 63.34321183626196, 9.089900914926556, 15.8140576571159, 10.984737426208483, 9.458985572955783, 11.01614967192399, 20.11517921313265, 12.375157440165589, 27.472995589586983, 35.614472872999094, 124.37798723720692, 79.45451466508422, 11.138540384143978, 18.57784480943764, 59.358252846927265, 46.09650589407558, 128.97838411438107, 18.421087362538096, 18.89450942942743, 36.839082037644076, 14.482207077966681, 53.04869330610014, 58.655628676141625, 40.15454300661775, 36.73161912516113, 37.5039969618366, 60.12518280736507, 60.93804253243845, 56.19744578852544, 95.84841074428978, 17.41132384389348, 16.459119983610442, 13.759586816485957, 13.293541319860573, 13.293541319860573, 13.293541319860573, 13.293541319860573, 13.293541319860573, 13.293541319860573, 13.293541319860573, 13.293541319860573, 13.293541319860573, 13.567582387694621, 12.237017520986342, 11.767131610340732, 11.315411404554741, 11.315411404554741, 11.328442125541804, 11.608002794380115, 11.201809903843786, 11.046268644786108, 10.847560587251293, 10.818398546766584, 10.786231382945163, 10.66852519069116, 10.567637823736362, 10.512593020630376, 10.47061113381064, 11.118394283734284, 10.000529138427042, 12.048575377574126, 16.218519347137825, 18.422882995499307, 17.772793620601096, 22.74007724295748, 29.872872802635435, 11.901857151175879, 16.89084251435354, 14.079409021477614, 26.090042140496642, 38.03725450907395, 19.1495406014078, 124.37798723720692, 16.713025568370735, 95.84841074428978, 128.97838411438107, 36.4629213387707, 37.5039969618366, 53.04869330610014, 59.358252846927265, 56.19744578852544, 16.754308910759974, 16.754308910759974, 16.754308910759974, 16.754308910759974, 16.754308910759963, 16.38154434593582, 14.983236261557353, 12.346633689777338, 11.435716721995272, 11.377279049025146, 11.205599557235619, 10.845977793919293, 10.344354701038593, 10.046946182975079, 10.00679173165197, 9.891131894990167, 9.816427142013742, 9.816427142013742, 9.803736437379653, 9.661786292192112, 9.63832746917422, 9.667454256782435, 9.75143498476263, 9.48309529747654, 9.256632944849034, 8.42053224431438, 8.357108753152989, 9.842267221626212, 8.22774525838214, 8.084455792305612, 14.242474178215645, 29.074802130902736, 11.273058974643824, 28.234080512255748, 31.96899209985168, 95.84841074428978, 20.43365714242803, 23.668559820302114, 64.94143773108448, 31.250740194299162, 19.40098345916255, 45.12991482291496, 19.596869602029546, 128.97838411438107, 36.73161912516113, 60.12518280736507, 15.267927017291054, 21.066533054847877, 18.39291071072471, 124.37798723720692, 79.45451466508422, 34.009265403782656, 36.4629213387707, 26.503455168297535, 27.940683172324334, 63.34321183626196, 19.641195449058557, 17.473467369263737, 17.473467369263737, 17.473467369263737, 17.473467369263737, 17.473467369263737, 17.27959836469383, 17.27959836469383, 17.27959836469383, 17.27959836469383, 17.135393302102116, 16.216001172510023, 13.576892488155874, 13.559158180293016, 13.559158180293016, 13.559158180293016, 12.799838088607226, 12.61678680652901, 12.55899165173767, 12.376238456525426, 12.3472531064511, 12.31346761965275, 12.31346761965275, 12.31346761965275, 12.31346761965275, 12.31346761965275, 12.273941137869794, 12.181023518560744, 12.149574513081625, 12.132538318900018, 19.829699943933377, 128.97838411438107, 124.37798723720692, 58.655628676141625, 79.45451466508422, 60.12518280736507, 64.94143773108448, 48.28605092070799, 28.508906563210864, 56.19744578852544, 27.839922221507205, 15.261704507729146, 11.596383267248623, 11.494276820075031, 11.284461152178226, 10.528732660786524, 9.640483293627815, 9.462427183980306, 9.339256232189985, 9.155471872938378, 9.162075013282617, 8.840872470985957, 8.692277275368163, 8.692277275368163, 8.692277275368163, 8.422071911209223, 8.422071911209223, 8.396757712169588, 7.6351725512912925, 7.6351725512912925, 7.6351725512912925, 7.6351725512912925, 7.6351725512912925, 13.36135137260855, 7.532986896926326, 6.6443395425038, 6.680457958363341, 6.523910933553622, 6.274533142637657, 6.191672377997429, 5.973701160236164, 19.36686370840188, 16.433271144705426, 8.316725744046524, 8.061556750406456, 25.57433070108976, 40.66039121380928, 13.29957876629894, 22.273300511054558, 18.786108411676555, 13.04721946284341, 11.677338113043241, 11.32334563106878, 32.220825712823796, 9.613939716622141, 128.97838411438107, 60.93804253243845, 24.731045708803386, 21.942314743674874, 24.232329393596366, 95.84841074428978, 11.883760025504825, 124.37798723720692, 28.508906563210864, 16.64563745175179, 53.04869330610014], \"loglift\": [30.0, 29.0, 28.0, 27.0, 26.0, 25.0, 24.0, 23.0, 22.0, 21.0, 20.0, 19.0, 18.0, 17.0, 16.0, 15.0, 14.0, 13.0, 12.0, 11.0, 10.0, 9.0, 8.0, 7.0, 6.0, 5.0, 4.0, 3.0, 2.0, 1.0, 1.4841, 1.4831, 1.4822, 1.4748, 1.462, 1.4593, 1.4585, 1.4563, 1.4542, 1.4539, 1.4491, 1.4465, 1.4449, 1.4429, 1.4396, 1.439, 1.437, 1.4365, 1.4346, 1.434, 1.4333, 1.433, 1.4323, 1.4314, 1.4297, 1.4297, 1.4297, 1.4297, 1.4297, 1.4297, 1.4297, 1.4124, 1.4297, 1.4297, 1.4199, 1.4296, 1.372, 1.3361, 1.3389, 1.2307, 1.0049, 1.3513, 1.2017, 1.2958, 1.3314, 1.2884, 1.1099, 1.246, 0.9721, 0.8694, 0.2872, 0.4569, 1.2505, 0.9687, 0.3327, 0.4459, -0.2088, 0.9423, 0.92, 0.4868, 1.0835, 0.1084, 0.0152, 0.2989, 0.363, 0.3362, -0.0704, -0.1166, -0.073, -0.5878, 1.5122, 1.5101, 1.5018, 1.5001, 1.5001, 1.5001, 1.5001, 1.5001, 1.5001, 1.5001, 1.5001, 1.5001, 1.4973, 1.4943, 1.4927, 1.491, 1.491, 1.4905, 1.4902, 1.4901, 1.4895, 1.4883, 1.4876, 1.4876, 1.4872, 1.4866, 1.4863, 1.4849, 1.4823, 1.4811, 1.4623, 1.4245, 1.3996, 1.3903, 1.3076, 1.151, 1.4542, 1.3171, 1.3872, 1.1087, 0.9222, 1.186, -0.0627, 1.234, 0.0691, -0.2299, 0.6577, 0.6191, 0.3341, 0.189, 0.0653, 1.5451, 1.5451, 1.5451, 1.5451, 1.5451, 1.5442, 1.5403, 1.5303, 1.5255, 1.5248, 1.5245, 1.5223, 1.5194, 1.5174, 1.5168, 1.5163, 1.5158, 1.5158, 1.5157, 1.5146, 1.5144, 1.5141, 1.5134, 1.5132, 1.5113, 1.5037, 1.503, 1.5026, 1.5018, 1.5003, 1.5, 1.3688, 1.4701, 1.3608, 1.1994, 0.849, 1.2527, 1.1413, 0.6446, 0.9663, 1.1594, 0.7067, 1.1262, 0.0424, 0.7488, 0.4342, 1.2597, 1.056, 1.1297, -0.2084, 0.0549, 0.6375, 0.5676, 0.8284, 0.7765, 0.0318, 1.5649, 1.5607, 1.5607, 1.5607, 1.5607, 1.5607, 1.5603, 1.5603, 1.5603, 1.5603, 1.56, 1.5569, 1.5494, 1.5494, 1.5494, 1.5494, 1.5462, 1.5455, 1.5452, 1.5445, 1.5444, 1.5442, 1.5442, 1.5442, 1.5442, 1.5442, 1.5441, 1.5436, 1.5435, 1.5434, 1.3296, 0.2512, 0.255, 0.6691, 0.2178, 0.3824, 0.1503, 0.3869, 0.8057, 0.0715, 0.744, 1.7441, 1.7304, 1.7299, 1.7286, 1.7242, 1.7174, 1.7169, 1.7157, 1.7144, 1.7126, 1.7113, 1.7103, 1.7103, 1.7103, 1.7077, 1.7077, 1.7071, 1.6989, 1.6989, 1.6989, 1.6989, 1.6989, 1.6956, 1.6934, 1.6847, 1.6846, 1.6825, 1.6783, 1.673, 1.6716, 1.6276, 1.6272, 1.6575, 1.6557, 1.4961, 1.3979, 1.564, 1.4588, 1.449, 1.5417, 1.5677, 1.5747, 1.0461, 1.579, 0.0982, 0.5178, 0.9483, 0.9861, 0.8939, -0.2109, 1.4471, -0.6332, 0.6769, 1.1345, -0.0102], \"logprob\": [30.0, 29.0, 28.0, 27.0, 26.0, 25.0, 24.0, 23.0, 22.0, 21.0, 20.0, 19.0, 18.0, 17.0, 16.0, 15.0, 14.0, 13.0, 12.0, 11.0, 10.0, 9.0, 8.0, 7.0, 6.0, 5.0, 4.0, 3.0, 2.0, 1.0, -6.9702, -6.9874, -7.0032, -7.1184, -7.0773, -7.3322, -7.2545, -7.3726, -7.3944, -7.3953, -7.4546, -7.1454, -7.4961, -7.5155, -7.5585, -7.5599, -7.5772, -7.5868, -7.5869, -7.6084, -7.6165, -7.6082, -7.631, -7.6386, -7.6552, -7.6552, -7.6552, -7.6552, -7.6552, -7.6552, -7.6552, -6.2019, -7.6552, -7.6552, -7.303, -7.6521, -6.6412, -6.3643, -6.6337, -6.58, -5.7486, -7.3436, -6.9395, -7.2098, -7.3237, -7.2143, -6.7908, -7.1404, -6.6168, -6.4599, -5.7916, -6.07, -7.2412, -7.0114, -6.4859, -6.6254, -6.2512, -7.0463, -7.0432, -6.8087, -7.1457, -6.8225, -6.8152, -6.9105, -6.9355, -6.9415, -6.8761, -6.9089, -6.9463, -6.9272, -6.5328, -6.5912, -6.7786, -6.8148, -6.8148, -6.8148, -6.8148, -6.8148, -6.8148, -6.8148, -6.8148, -6.8148, -6.7971, -6.9033, -6.9441, -6.985, -6.985, -6.9843, -6.9603, -6.9959, -7.0105, -7.0298, -7.0332, -7.0362, -7.0476, -7.0577, -7.0633, -7.0686, -7.0112, -7.1183, -6.9509, -6.6915, -6.5889, -6.6341, -6.4704, -6.3541, -6.9713, -6.7582, -6.8702, -6.5319, -6.3413, -6.7639, -6.1415, -6.8519, -6.2703, -6.2724, -6.6481, -6.6585, -6.5968, -6.6295, -6.808, -6.5383, -6.5383, -6.5383, -6.5383, -6.5383, -6.5618, -6.6549, -6.8585, -6.9399, -6.9457, -6.9612, -6.996, -7.0463, -7.0774, -7.0821, -7.0942, -7.1023, -7.1023, -7.1037, -7.1193, -7.1219, -7.1192, -7.1113, -7.1394, -7.1655, -7.2678, -7.276, -7.1128, -7.2928, -7.3119, -6.7458, -6.1634, -7.0096, -6.2008, -6.238, -5.4903, -6.6322, -6.5967, -6.084, -6.4937, -6.7774, -6.3859, -6.8005, -6.0001, -6.5496, -6.3714, -6.9167, -6.7985, -6.8604, -6.2872, -6.472, -6.738, -6.7383, -6.7964, -6.7955, -6.7218, -6.3596, -6.4807, -6.4807, -6.4807, -6.4807, -6.4807, -6.4923, -6.4923, -6.4923, -6.4923, -6.501, -6.5593, -6.7443, -6.7456, -6.7456, -6.7456, -6.8065, -6.8216, -6.8265, -6.8418, -6.8443, -6.8472, -6.8472, -6.8472, -6.8472, -6.8472, -6.8506, -6.8586, -6.8613, -6.8628, -6.5853, -5.7913, -5.8237, -6.1613, -6.3091, -6.4233, -6.5783, -6.6381, -6.7462, -6.8018, -6.8316, -6.4327, -6.721, -6.7303, -6.7501, -6.8238, -6.9188, -6.9379, -6.9521, -6.9733, -6.9744, -7.0115, -7.0294, -7.0294, -7.0294, -7.0636, -7.0636, -7.0671, -7.1704, -7.1704, -7.1704, -7.1704, -7.1704, -6.6142, -7.1895, -7.3236, -7.3183, -7.3441, -7.3873, -7.4059, -7.4431, -6.3109, -6.4756, -7.1264, -7.1593, -6.1644, -5.7989, -6.7504, -6.34, -6.52, -6.7918, -6.8767, -6.9005, -6.3834, -7.0599, -5.9443, -6.2744, -6.7457, -6.8276, -6.8205, -6.5503, -6.9798, -6.7119, -6.875, -6.9554, -6.9411]}, \"token.table\": {\"Topic\": [2, 3, 3, 2, 5, 3, 3, 3, 2, 4, 5, 4, 5, 1, 2, 3, 4, 5, 1, 2, 3, 4, 5, 2, 5, 3, 1, 2, 3, 4, 5, 1, 2, 3, 4, 5, 4, 5, 5, 5, 1, 2, 3, 5, 1, 4, 1, 2, 5, 1, 3, 4, 5, 2, 1, 5, 1, 1, 2, 4, 1, 3, 5, 1, 3, 1, 5, 3, 4, 3, 2, 1, 2, 3, 4, 5, 4, 1, 2, 2, 1, 1, 2, 3, 4, 5, 1, 3, 1, 2, 3, 4, 5, 1, 5, 2, 1, 3, 2, 2, 3, 5, 1, 2, 3, 5, 1, 2, 3, 4, 5, 2, 3, 5, 1, 2, 3, 4, 5, 1, 2, 3, 4, 5, 1, 2, 3, 4, 5, 5, 3, 3, 3, 1, 5, 5, 1, 2, 3, 1, 2, 3, 5, 1, 1, 1, 2, 3, 5, 1, 2, 5, 5, 3, 5, 4, 1, 3, 4, 5, 1, 3, 1, 2, 3, 4, 5, 5, 1, 2, 3, 4, 5, 1, 2, 4, 3, 1, 2, 5, 4, 4, 5, 1, 3, 4, 1, 3, 2, 4, 5, 1, 3, 2, 2, 1, 1, 2, 3, 4, 5, 1, 2, 3, 4, 5, 1, 2, 3, 3, 5, 3, 5, 2, 3, 1, 2, 5, 3, 2, 3, 1, 2, 3, 4, 5, 2, 3, 4, 1, 2, 3, 4, 5, 1, 2, 3, 1, 2, 3, 4, 5, 1, 5, 5, 1, 2, 3, 4, 1, 2, 3, 4, 5, 1, 4, 5, 4, 3, 1, 1, 2, 3, 4, 5, 4, 5, 4, 2, 1, 4, 2, 5, 1, 1, 2, 4, 5, 1, 2, 3, 4, 5, 4, 5, 1, 4, 4, 3, 1, 1, 3, 2, 4, 4, 1, 3, 1, 2, 5, 2, 3, 1, 2, 3, 4, 5, 1, 2, 3, 5, 3, 1, 4, 1, 2, 3, 4, 5, 2, 3, 5, 1, 3, 5, 1, 2, 3, 5, 2, 5, 3, 2, 4, 5, 3, 5, 3, 4, 5, 1, 2, 5, 2, 3, 4, 5, 1, 1, 2, 5, 1, 2, 1, 3, 3, 4, 5, 2, 3, 5, 1, 4, 2, 1, 1, 2, 3, 5, 1, 5, 2, 1, 2, 3, 5, 4, 1, 3, 4, 1, 2, 3, 4, 4, 1, 4, 4, 1, 3, 4, 1, 2, 3, 4, 5, 1, 2, 3, 4, 5, 4, 2, 2, 4, 2, 3, 1, 3, 4, 5, 1, 3, 4, 2, 3, 3, 1, 2, 3, 4, 5, 1, 2, 3, 5, 1, 2, 3, 4, 5, 1, 2, 3, 5, 1, 4, 2, 4, 2, 1, 5, 5, 2, 2, 3, 5, 4, 1, 2, 4, 1, 2, 3, 5, 2, 1, 2, 3, 4, 5, 2, 1, 2, 3, 4, 5, 1, 2, 3, 4, 5, 1, 3], \"Freq\": [0.3128031052329108, 0.6881668315124039, 0.9618986083174638, 0.9710072998650646, 0.969043520668414, 0.9168305198823836, 0.9549782139760153, 0.954978213976016, 0.10326917306349116, 0.05163458653174558, 0.8261533845079293, 0.98381916299252, 0.92924627319559, 0.15774009132464265, 0.5258003044154755, 0.07887004566232132, 0.15774009132464265, 0.07887004566232132, 0.15510776006263835, 0.1329495086251186, 0.4210067773128755, 0.15510776006263835, 0.15510776006263835, 0.25244535345390895, 0.673187609210424, 0.9144234552202042, 0.17057121742578107, 0.17057121742578107, 0.217090640360085, 0.2636100632943889, 0.1860776917372157, 0.7270232228331459, 0.04543895142707162, 0.04543895142707162, 0.18175580570828648, 0.9828522097517608, 0.9066528133576339, 0.9569980062415266, 0.91680966644508, 0.9511301725245309, 0.914991331075359, 0.9550540911321794, 0.07484272901093304, 0.8981127481311966, 0.8123560806787958, 0.9729036396006566, 0.9165845854812642, 0.9779185009624168, 0.9497819274340824, 0.15463133641213342, 0.6700691244525782, 0.05154377880404447, 0.15463133641213342, 0.9581662840529791, 0.8123560806787958, 0.9196937329632973, 0.9540160351544944, 0.7272634747085346, 0.08080705274539272, 0.16161410549078545, 0.07820341511087041, 0.15640683022174082, 0.7429324435532689, 0.8123560806787958, 0.9667108571785518, 0.1766262432643969, 0.794818094689786, 0.9816520699150935, 0.9729036396006566, 0.9343775774209706, 0.9721054355234289, 0.10775892174305023, 0.21551784348610045, 0.14367856232406698, 0.4310356869722009, 0.10775892174305023, 0.974542701590213, 0.9717937382573147, 0.9779185009624168, 0.9052830708331585, 0.8123560806787958, 0.2734442591900916, 0.09114808639669719, 0.1367221295950458, 0.045574043198348596, 0.45574043198348596, 0.7182269600950788, 0.1795567400237697, 0.2239946944129329, 0.06399848411798083, 0.543987115002837, 0.06399848411798083, 0.09599772617697123, 0.9604733227426665, 0.91680966644508, 0.9721255027079457, 0.9411910458620565, 0.912762757181891, 0.9243512296918301, 0.7180028505855877, 0.11966714176426461, 0.11966714176426461, 0.5382755697754537, 0.21531022791018148, 0.05382755697754537, 0.10765511395509074, 0.28140027650752947, 0.2010001975053782, 0.1688401659045177, 0.2572802528068841, 0.0884400869023664, 0.8684851336193572, 0.054280320851209825, 0.10856064170241965, 0.33981706532108463, 0.11327235510702821, 0.21395889297994217, 0.25171634468228493, 0.07551490340468547, 0.3254042732537746, 0.13016170930150983, 0.23862980038610138, 0.17354894573534646, 0.10846809108459153, 0.18621496709850044, 0.12414331139900028, 0.12414331139900028, 0.09310748354925022, 0.46553741774625107, 0.9527487006568548, 0.972275778203797, 0.9168305198823836, 0.9180173352768676, 0.12170431452075034, 0.8519302016452523, 0.9636741702170396, 0.8943586215681856, 0.9242255103787078, 0.0840205009435189, 0.529254280845493, 0.3175525685072958, 0.10585085616909859, 0.052925428084549295, 0.8945414953383013, 0.898573803399907, 0.13390074755873876, 0.6695037377936938, 0.20085112133810812, 0.9498850264330476, 0.8960574500727833, 0.9447958120678549, 0.91680966644508, 0.9203572029012568, 0.10401563037378292, 0.8321250429902634, 0.9673545609419975, 0.6462781097924625, 0.149141102259799, 0.09942740150653268, 0.09942740150653268, 0.9083147264799303, 0.8993891590181258, 0.070153514852123, 0.0350767574260615, 0.10523027227818449, 0.45599784653879943, 0.31569081683455347, 0.9030242903178015, 0.16455072110802746, 0.4113768027700686, 0.3565265624007261, 0.02742512018467124, 0.05485024036934248, 0.11840735583795985, 0.769647812946739, 0.05920367791897992, 0.9229410865234906, 0.106461644752188, 0.159692467128282, 0.692000690889222, 0.9337398750011282, 0.17127190979989346, 0.7707235940995205, 0.1087375473874193, 0.6524252843245157, 0.2174750947748386, 0.859064091706331, 0.9315047681475924, 0.9763760729751896, 0.9729036396006566, 0.9203572029012568, 0.8169823638959449, 0.1815516364213211, 0.9779185009624168, 0.9819841699175293, 0.9343110660843099, 0.5823900763870263, 0.036399379774189146, 0.14559751909675658, 0.21839627864513486, 0.036399379774189146, 0.24505787399866288, 0.3016096910752774, 0.20735666261425323, 0.0942530284610242, 0.16965545122984355, 0.6214522380150644, 0.27620099467336195, 0.06905024866834049, 0.8957945863441403, 0.9562464431381982, 0.8870706719882083, 0.08870706719882084, 0.9462852689310217, 0.9723198456891795, 0.951281537917983, 0.12404552010994413, 0.868318640769609, 0.9767088903293494, 0.9476221013080327, 0.9549782139760153, 0.2216326087267358, 0.11934063546824235, 0.18753528430723798, 0.39211923082422484, 0.08524331104874454, 0.6515895953120294, 0.11498639917271107, 0.22997279834542214, 0.5054125064320858, 0.16847083547736194, 0.05615694515912065, 0.19654930805692225, 0.08423541773868097, 0.8345384365755266, 0.11127179154340355, 0.05563589577170178, 0.2933020715416921, 0.39995737028412554, 0.1866467727992586, 0.02666382468560837, 0.07999147405682511, 0.8457566552245124, 0.10571958190306405, 0.9048880669022725, 0.9669395301164592, 0.24469432785079387, 0.7340829835523817, 0.937511858894595, 0.1969213237135436, 0.1969213237135436, 0.14769099278515768, 0.1969213237135436, 0.27897187526085343, 0.6955836533864095, 0.18970463274174804, 0.06323487758058267, 0.9866797510550137, 0.9500587098163151, 0.8123560806787958, 0.2988453883791509, 0.19923025891943394, 0.19923025891943394, 0.22413404128436318, 0.07471134709478773, 0.951113796564286, 0.9747917824039549, 0.9718760842223546, 0.9512400965561549, 0.9415614826695086, 0.974542701590213, 0.921866249979982, 0.8981420192141966, 0.8979661442942231, 0.07664468301831322, 0.07664468301831322, 0.07664468301831322, 0.7664468301831322, 0.19958359275923984, 0.08315983031634994, 0.31600735520212975, 0.2993753891388598, 0.09979179637961992, 0.9729036396006566, 0.8370020303798275, 0.9049797302026548, 0.11312246627533185, 0.985138890973742, 0.9490572136710371, 0.8804811101424594, 0.9488846213076803, 0.9309586330533536, 0.9348072550096583, 0.9587615858700063, 0.974542701590213, 0.8193186282748008, 0.18207080628328906, 0.9813900938033583, 0.9373366816179539, 0.91680966644508, 0.8632107346143568, 0.0616579096153112, 0.09493731098481606, 0.18987462196963212, 0.5696238659088964, 0.04746865549240803, 0.04746865549240803, 0.5841194174940572, 0.06314804513449267, 0.20523114668710116, 0.1420831015526085, 0.9668392550275478, 0.8960425550988851, 0.07467021292490708, 0.04225014143624543, 0.08450028287249085, 0.6337521215436814, 0.04225014143624543, 0.1690005657449817, 0.024593959136831305, 0.29512750964197565, 0.6886308558312766, 0.8138681248580356, 0.16277362497160713, 0.04069340624290178, 0.2940375183430971, 0.11761500733723884, 0.38224877384602624, 0.17642251100585826, 0.9129710073835097, 0.08299736430759179, 0.9719248421483225, 0.0751903513315771, 0.0751903513315771, 0.8270938646473481, 0.9549782139760153, 0.8416773878843974, 0.9549782139760153, 0.974542701590213, 0.9498850264330476, 0.10444114778674993, 0.6788674606138745, 0.15666172168012488, 0.11319278867415335, 0.4527711546966134, 0.33957836602246, 0.07546185911610223, 0.8123560806787958, 0.142051416856281, 0.852308501137686, 0.9203572029012568, 0.8800976022591372, 0.11001220028239216, 0.8013079926480972, 0.16026159852961944, 0.1802274024467762, 0.2403032032623683, 0.5406822073403286, 0.9271078697432427, 0.8658591474595305, 0.8731646475718752, 0.8442013425157815, 0.9776810777571207, 0.8999523800613202, 0.8123560806787958, 0.1617400269725004, 0.3639150606881259, 0.0404350067431251, 0.4447850741743761, 0.8123560806787958, 0.91680966644508, 0.8994104494593751, 0.08253436834382583, 0.12380155251573874, 0.37140465754721624, 0.41267184171912913, 0.9575092394184355, 0.1008588130760835, 0.1008588130760835, 0.7564410980706262, 0.15308567444309093, 0.2041142325907879, 0.6123426977723637, 0.974542701590213, 0.98381916299252, 0.9331544846664935, 0.9729036396006566, 0.98381916299252, 0.07083637801244659, 0.8146183471431359, 0.1062545670186699, 0.19573843340485078, 0.23132723947846004, 0.2135328364416554, 0.2135328364416554, 0.14235522429443695, 0.1863892330888516, 0.22780906266415196, 0.2070991478765018, 0.2899388070271025, 0.08283965915060072, 0.9053815002456373, 0.9779185009624168, 0.9779185009624168, 0.9587615858700063, 0.8439866191105123, 0.11253154921473497, 0.5428561193589703, 0.10857122387179406, 0.27142805967948513, 0.05428561193589703, 0.8123560806787958, 0.9337719670538535, 0.98381916299252, 0.9806311038960385, 0.957268863706212, 0.9099059739116893, 0.2994695105194807, 0.10889800382526571, 0.43559201530106284, 0.054449001912632855, 0.08167350286894928, 0.10737031666324985, 0.2863208444353329, 0.4294812666529994, 0.14316042221766645, 0.11476455284528889, 0.22952910569057777, 0.4799244937166626, 0.04173256467101414, 0.13563083518079597, 0.13099355254547546, 0.06549677627273773, 0.720464539000115, 0.13099355254547546, 0.969369680340475, 0.9695999347582824, 0.9779185009624168, 0.9587615858700063, 0.9779185009624168, 0.8932043539836625, 0.9485716146573929, 0.8737943943278657, 0.9721255027079457, 0.17197021591027958, 0.791062993187286, 0.9335631550701237, 0.9554907219274783, 0.08795044883233159, 0.7915540394909844, 0.1319256732484974, 0.08979360732853092, 0.13469041099279638, 0.04489680366426546, 0.7183488586282474, 0.9779185009624168, 0.3032434267635589, 0.2527028556362991, 0.20216228450903928, 0.16846857042419938, 0.08423428521209969, 0.9779185009624168, 0.1077894214320639, 0.15398488776009128, 0.3849622194002282, 0.23097733164013692, 0.1077894214320639, 0.3528861003299683, 0.13572542320383396, 0.16287050784460075, 0.19001559248536753, 0.19001559248536753, 0.8938688844573264, 0.9220007813040533], \"Term\": [\"___ ___\", \"___ ___\", \"____ ____\", \"_____ _____\", \"access time\", \"accuracy ofn\", \"activity netn\", \"alink ksand\", \"amateur radio\", \"amateur radio\", \"amateur radio\", \"andn slpittedu\", \"ann arbor\", \"anybody know\", \"anybody know\", \"anybody know\", \"anybody know\", \"anybody know\", \"anyone else\", \"anyone else\", \"anyone else\", \"anyone else\", \"anyone else\", \"anyone give\", \"anyone give\", \"anyone help\", \"anyone know\", \"anyone know\", \"anyone know\", \"anyone know\", \"anyone know\", \"anyone tell\", \"anyone tell\", \"anyone tell\", \"anyone tell\", \"appreciatedn thanksn\", \"armenia today\", \"artificial intelligence\", \"associate research\", \"athens georgia\", \"ati graphic\", \"atlanta georgia\", \"att bell\", \"att bell\", \"awayn sank\", \"bank njxp\", \"beauchaine cotekcom\", \"believe speak\", \"bell lab\", \"best offer\", \"best offer\", \"best offer\", \"best offer\", \"bit color\", \"blew bronx\", \"blue book\", \"bob beauchaine\", \"bob vestermann\", \"bob vestermann\", \"bob vestermann\", \"brand new\", \"brand new\", \"brand new\", \"bronx awayn\", \"care taken\", \"cdrom drive\", \"cdrom drive\", \"center policy\", \"chastity intellect\", \"cheersn kentn\", \"clayton cramer\", \"clipper chip\", \"clipper chip\", \"clipper chip\", \"clipper chip\", \"clipper chip\", \"closed road\", \"colorado bouldern\", \"companyn tratuscom\", \"consent alln\", \"cotekcom said\", \"could find\", \"could find\", \"could find\", \"could find\", \"could find\", \"could please\", \"could please\", \"could someone\", \"could someone\", \"could someone\", \"could someone\", \"could someone\", \"could stay\", \"covington associate\", \"cramer uunetpyramidoptilinkcramer\", \"craryn bouldern\", \"david sternlight\", \"disclaimer applyn\", \"do window\", \"do window\", \"do window\", \"dont forget\", \"dont forget\", \"dont forget\", \"dont forget\", \"dont know\", \"dont know\", \"dont know\", \"dont know\", \"dont know\", \"dont speak\", \"dont speak\", \"dont speak\", \"dont think\", \"dont think\", \"dont think\", \"dont think\", \"dont think\", \"dont want\", \"dont want\", \"dont want\", \"dont want\", \"dont want\", \"email address\", \"email address\", \"email address\", \"email address\", \"email address\", \"emailn thanksn\", \"employer opinion\", \"ensure accuracy\", \"error omission\", \"excellent condition\", \"excellent condition\", \"excellent conditionn\", \"expose event\", \"fax email\", \"fax email\", \"floppy drive\", \"floppy drive\", \"floppy drive\", \"floppy drive\", \"frank craryn\", \"frank odwyer\", \"ftp site\", \"ftp site\", \"ftp site\", \"gaedu university\", \"gamma ray\", \"georgia institute\", \"georgia phone\", \"georgia usa\", \"good condition\", \"good condition\", \"gordon bank\", \"got ta\", \"got ta\", \"got ta\", \"got ta\", \"graphic ultra\", \"great care\", \"greatly appreciatedn\", \"greatly appreciatedn\", \"greatly appreciatedn\", \"greatly appreciatedn\", \"greatly appreciatedn\", \"green alpolyedu\", \"hard drive\", \"hard drive\", \"hard drive\", \"hard drive\", \"hard drive\", \"health care\", \"health care\", \"health care\", \"heat sink\", \"help appreciatedn\", \"help appreciatedn\", \"help appreciatedn\", \"henry spencer\", \"holy spirit\", \"holy spirit\", \"human right\", \"human right\", \"human right\", \"income tax\", \"information error\", \"institute technology\", \"intellect andn\", \"intelligence program\", \"internet address\", \"internet address\", \"investor packetn\", \"isa bus\", \"islamic bank\", \"ive never\", \"ive never\", \"ive never\", \"ive never\", \"ive never\", \"ive seen\", \"ive seen\", \"ive seen\", \"ive seen\", \"ive seen\", \"ive tried\", \"ive tried\", \"ive tried\", \"jake livni\", \"james green\", \"james kiefern\", \"james kiefern\", \"jet propulsion\", \"jimmy carter\", \"jon livesey\", \"keep bear\", \"keep bear\", \"kentn pplecom\", \"kind soul\", \"ksand private\", \"last year\", \"last year\", \"last year\", \"last year\", \"last year\", \"law enforcement\", \"law enforcement\", \"law enforcement\", \"let know\", \"let know\", \"let know\", \"let know\", \"let know\", \"let known\", \"let known\", \"let known\", \"like know\", \"like know\", \"like know\", \"like know\", \"like know\", \"like new\", \"like new\", \"list price\", \"livesey writesn\", \"local bus\", \"local bus\", \"longer exists\", \"look like\", \"look like\", \"look like\", \"look like\", \"look like\", \"make offer\", \"make offer\", \"make offer\", \"make offern\", \"malcolm lee\", \"manhattan sean\", \"many people\", \"many people\", \"many people\", \"many people\", \"many people\", \"michael adam\", \"michael covington\", \"might serve\", \"minen relation\", \"moral system\", \"mountain pass\", \"mutual consent\", \"national university\", \"new england\", \"new jersey\", \"new jersey\", \"new jersey\", \"new jersey\", \"new york\", \"new york\", \"new york\", \"new york\", \"new york\", \"njxp skepticism\", \"norton desktop\", \"objective morality\", \"objective morality\", \"ohanus appressian\", \"omission excepted\", \"omn omn\", \"oort cloud\", \"opinion employer\", \"opinion minen\", \"orontoedu utzoohenryn\", \"pass might\", \"past year\", \"past year\", \"pdsgicom jon\", \"people mutual\", \"phone athens\", \"phone fax\", \"phone fax\", \"phone number\", \"phone number\", \"phone number\", \"phone number\", \"phone number\", \"please email\", \"please email\", \"please email\", \"please email\", \"please help\", \"please let\", \"please let\", \"please post\", \"please post\", \"please post\", \"please post\", \"please post\", \"please reply\", \"please reply\", \"please reply\", \"please respond\", \"please respond\", \"please respond\", \"please send\", \"please send\", \"please send\", \"please send\", \"plus shipping\", \"plus shipping\", \"policy research\", \"power play\", \"power play\", \"power play\", \"pplecom alink\", \"printer driver\", \"private activity\", \"proceeded work\", \"program gaedu\", \"public domain\", \"public domain\", \"public domain\", \"public key\", \"public key\", \"public key\", \"public key\", \"queen could\", \"radar detector\", \"radar detector\", \"radio ntmi\", \"really appreciate\", \"really appreciate\", \"red sox\", \"red sox\", \"red wing\", \"red wing\", \"red wing\", \"relation people\", \"replaced jimmy\", \"research scientist\", \"respond via\", \"road mountain\", \"running window\", \"said queen\", \"san jose\", \"san jose\", \"san jose\", \"san jose\", \"sank manhattan\", \"scientist artificial\", \"scsi controller\", \"send email\", \"send email\", \"send email\", \"send email\", \"serdar argicn\", \"serial number\", \"serial number\", \"serial number\", \"serial port\", \"serial port\", \"serial port\", \"serve way\", \"shameful surrender\", \"shot savesn\", \"skepticism chastity\", \"slpittedu shameful\", \"someone please\", \"someone please\", \"someone please\", \"something like\", \"something like\", \"something like\", \"something like\", \"something like\", \"sound like\", \"sound like\", \"sound like\", \"sound like\", \"sound like\", \"soviet armenia\", \"speak companyn\", \"special investor\", \"spencer toronto\", \"standard disclaimer\", \"standard disclaimer\", \"state universityn\", \"state universityn\", \"state universityn\", \"state universityn\", \"stay blew\", \"sternlight great\", \"surrender soon\", \"swap file\", \"system corporationn\", \"taken ensure\", \"thank youn\", \"thank youn\", \"thank youn\", \"thank youn\", \"thank youn\", \"thanks advance\", \"thanks advance\", \"thanks advance\", \"thanks advance\", \"thanks advancen\", \"thanks advancen\", \"thanks advancen\", \"thanks advancen\", \"thanks advancen\", \"thanks lotn\", \"thanks lotn\", \"thanks lotn\", \"thanks lotn\", \"tim clock\", \"today longer\", \"today special\", \"toronto zoologyn\", \"tratuscom write\", \"university california\", \"university georgia\", \"usa amateur\", \"uunetpyramidoptilinkcramer opinion\", \"video card\", \"video card\", \"view expressed\", \"way escape\", \"window manager\", \"window manager\", \"window manager\", \"wondering anyone\", \"wondering anyone\", \"wondering anyone\", \"wondering anyone\", \"write today\", \"writesn article\", \"writesn article\", \"writesn article\", \"writesn article\", \"writesn article\", \"wstratuscom believe\", \"year ago\", \"year ago\", \"year ago\", \"year ago\", \"year ago\", \"year old\", \"year old\", \"year old\", \"year old\", \"year old\", \"yeast infection\", \"yoursn james\"]}, \"R\": 30, \"lambda.step\": 0.01, \"plot.opts\": {\"xlab\": \"PC1\", \"ylab\": \"PC2\"}, \"topic.order\": [3, 2, 5, 1, 4]};\n",
              "\n",
              "function LDAvis_load_lib(url, callback){\n",
              "  var s = document.createElement('script');\n",
              "  s.src = url;\n",
              "  s.async = true;\n",
              "  s.onreadystatechange = s.onload = callback;\n",
              "  s.onerror = function(){console.warn(\"failed to load library \" + url);};\n",
              "  document.getElementsByTagName(\"head\")[0].appendChild(s);\n",
              "}\n",
              "\n",
              "if(typeof(LDAvis) !== \"undefined\"){\n",
              "   // already loaded: just create the visualization\n",
              "   !function(LDAvis){\n",
              "       new LDAvis(\"#\" + \"ldavis_el119140165596292584768615072\", ldavis_el119140165596292584768615072_data);\n",
              "   }(LDAvis);\n",
              "}else if(typeof define === \"function\" && define.amd){\n",
              "   // require.js is available: use it to load d3/LDAvis\n",
              "   require.config({paths: {d3: \"https://cdnjs.cloudflare.com/ajax/libs/d3/3.5.5/d3.min\"}});\n",
              "   require([\"d3\"], function(d3){\n",
              "      window.d3 = d3;\n",
              "      LDAvis_load_lib(\"https://cdn.rawgit.com/bmabey/pyLDAvis/files/ldavis.v1.0.0.js\", function(){\n",
              "        new LDAvis(\"#\" + \"ldavis_el119140165596292584768615072\", ldavis_el119140165596292584768615072_data);\n",
              "      });\n",
              "    });\n",
              "}else{\n",
              "    // require.js not available: dynamically load d3 & LDAvis\n",
              "    LDAvis_load_lib(\"https://cdnjs.cloudflare.com/ajax/libs/d3/3.5.5/d3.min.js\", function(){\n",
              "         LDAvis_load_lib(\"https://cdn.rawgit.com/bmabey/pyLDAvis/files/ldavis.v1.0.0.js\", function(){\n",
              "                 new LDAvis(\"#\" + \"ldavis_el119140165596292584768615072\", ldavis_el119140165596292584768615072_data);\n",
              "            })\n",
              "         });\n",
              "}\n",
              "</script>"
            ],
            "text/plain": [
              "PreparedData(topic_coordinates=                x           y  topics  cluster       Freq\n",
              "topic                                                    \n",
              "2      150.222153  -72.269554       1        1  21.379146\n",
              "1       51.163364 -159.968018       2        1  21.206433\n",
              "4      -73.144554   21.523815       3        1  20.488781\n",
              "0      -66.410133 -110.606438       4        1  20.210711\n",
              "3       54.417324   12.443444       5        1  16.714929, topic_info=      Category       Freq                  Term       Total  loglift  logprob\n",
              "7557   Default  40.000000          please reply   40.000000  30.0000  30.0000\n",
              "10975  Default  29.000000            video card   29.000000  29.0000  29.0000\n",
              "7535   Default  63.000000          please email   63.000000  28.0000  28.0000\n",
              "7546   Default  26.000000            please let   26.000000  27.0000  27.0000\n",
              "0      Default  31.000000               ___ ___   31.000000  26.0000  26.0000\n",
              "...        ...        ...                   ...         ...      ...      ...\n",
              "506     Topic5   8.443653           anyone give   11.883760   1.4471  -6.9798\n",
              "2548    Topic5  11.037523             dont know  124.377987  -0.6332  -6.7119\n",
              "4083    Topic5   9.376764  greatly appreciatedn   28.508907   0.6769  -6.8750\n",
              "8224    Topic5   8.652179              red wing   16.645637   1.1345  -6.9554\n",
              "4890    Topic5   8.777267              ive seen   53.048693  -0.0102  -6.9411\n",
              "\n",
              "[303 rows x 6 columns], token_table=       Topic      Freq             Term\n",
              "term                                   \n",
              "0          2  0.312803          ___ ___\n",
              "0          3  0.688167          ___ ___\n",
              "12         3  0.961899        ____ ____\n",
              "16         2  0.971007      _____ _____\n",
              "83         5  0.969044      access time\n",
              "...      ...       ...              ...\n",
              "11714      3  0.162871         year old\n",
              "11714      4  0.190016         year old\n",
              "11714      5  0.190016         year old\n",
              "11732      1  0.893869  yeast infection\n",
              "11826      3  0.922001     yoursn james\n",
              "\n",
              "[474 rows x 3 columns], R=30, lambda_step=0.01, plot_opts={'xlab': 'PC1', 'ylab': 'PC2'}, topic_order=[3, 2, 5, 1, 4])"
            ]
          },
          "metadata": {
            "tags": []
          },
          "execution_count": 40
        }
      ]
    },
    {
      "cell_type": "markdown",
      "metadata": {
        "id": "_4UzDpGFAGd6",
        "colab_type": "text"
      },
      "source": [
        "# LDA Unigram - tf - lem\n"
      ]
    },
    {
      "cell_type": "code",
      "metadata": {
        "id": "WU7IgBVXAa3j",
        "colab_type": "code",
        "colab": {}
      },
      "source": [
        "data_token_lem_tf = count.fit_transform(df.token_lem)"
      ],
      "execution_count": 0,
      "outputs": []
    },
    {
      "cell_type": "code",
      "metadata": {
        "id": "jD1X4q86ARUv",
        "colab_type": "code",
        "outputId": "83d59feb-e16a-4028-88fd-6208bffb1a22",
        "colab": {
          "base_uri": "https://localhost:8080/",
          "height": 399
        }
      },
      "source": [
        "# Parametri di ricerca\n",
        "search_params = {'n_components': [5,10, 15, 20, 25, 30], 'learning_decay': [.5, .7, .9]}\n",
        "\n",
        "# Inizializzazione Modello\n",
        "lda = LatentDirichletAllocation()\n",
        "\n",
        "# Inizializzazione GridSearchCV\n",
        "model = GridSearchCV(lda, param_grid=search_params)\n",
        "\n",
        "# Grid Search\n",
        "model.fit(data_token_lem_tf)"
      ],
      "execution_count": 0,
      "outputs": [
        {
          "output_type": "execute_result",
          "data": {
            "text/plain": [
              "GridSearchCV(cv=None, error_score=nan,\n",
              "             estimator=LatentDirichletAllocation(batch_size=128,\n",
              "                                                 doc_topic_prior=None,\n",
              "                                                 evaluate_every=-1,\n",
              "                                                 learning_decay=0.7,\n",
              "                                                 learning_method='batch',\n",
              "                                                 learning_offset=10.0,\n",
              "                                                 max_doc_update_iter=100,\n",
              "                                                 max_iter=10,\n",
              "                                                 mean_change_tol=0.001,\n",
              "                                                 n_components=10, n_jobs=None,\n",
              "                                                 perp_tol=0.1,\n",
              "                                                 random_state=None,\n",
              "                                                 topic_word_prior=None,\n",
              "                                                 total_samples=1000000.0,\n",
              "                                                 verbose=0),\n",
              "             iid='deprecated', n_jobs=None,\n",
              "             param_grid={'learning_decay': [0.5, 0.7, 0.9],\n",
              "                         'n_components': [5, 10, 15, 20, 25, 30]},\n",
              "             pre_dispatch='2*n_jobs', refit=True, return_train_score=False,\n",
              "             scoring=None, verbose=0)"
            ]
          },
          "metadata": {
            "tags": []
          },
          "execution_count": 25
        }
      ]
    },
    {
      "cell_type": "code",
      "metadata": {
        "id": "Es0hoBP6AdGT",
        "colab_type": "code",
        "outputId": "c2e18060-c468-41ff-b1d7-5b49d955f412",
        "colab": {
          "base_uri": "https://localhost:8080/",
          "height": 72
        }
      },
      "source": [
        "# Stimato il Miglior modello \n",
        "best_lda_model = model.best_estimator_\n",
        "\n",
        "# Parametri del modello\n",
        "print(\"Best Model Params: \", model.best_params_)\n",
        "\n",
        "# Log Likelihood Score\n",
        "print(\"Best Log Likelihood Score: \", model.best_score_)\n",
        "\n",
        "# Perplessità\n",
        "print(\"Model Perplexity: \", best_lda_model.perplexity(data_token_lem_tf))"
      ],
      "execution_count": 0,
      "outputs": [
        {
          "output_type": "stream",
          "text": [
            "Best Model Params:  {'learning_decay': 0.5, 'n_components': 5}\n",
            "Best Log Likelihood Score:  -3529869.1923194556\n",
            "Model Perplexity:  3926.4049311933136\n"
          ],
          "name": "stdout"
        }
      ]
    },
    {
      "cell_type": "code",
      "metadata": {
        "id": "1WwqzOX1Arck",
        "colab_type": "code",
        "outputId": "1369f49f-2d93-443c-eb5e-77f0be4888ad",
        "colab": {
          "base_uri": "https://localhost:8080/",
          "height": 1000
        }
      },
      "source": [
        "pyLDAvis.enable_notebook()\n",
        "vis = pyLDAvis.sklearn.prepare(best_lda_model, data_token_lem_tf, count, mds='tsne')\n",
        "vis"
      ],
      "execution_count": 0,
      "outputs": [
        {
          "output_type": "stream",
          "text": [
            "/usr/local/lib/python3.6/dist-packages/pyLDAvis/_prepare.py:257: FutureWarning: Sorting because non-concatenation axis is not aligned. A future version\n",
            "of pandas will change to not sort by default.\n",
            "\n",
            "To accept the future behavior, pass 'sort=False'.\n",
            "\n",
            "To retain the current behavior and silence the warning, pass 'sort=True'.\n",
            "\n",
            "  return pd.concat([default_term_info] + list(topic_dfs))\n"
          ],
          "name": "stderr"
        },
        {
          "output_type": "execute_result",
          "data": {
            "text/html": [
              "\n",
              "<link rel=\"stylesheet\" type=\"text/css\" href=\"https://cdn.rawgit.com/bmabey/pyLDAvis/files/ldavis.v1.0.0.css\">\n",
              "\n",
              "\n",
              "<div id=\"ldavis_el1321396214242791282051792982\"></div>\n",
              "<script type=\"text/javascript\">\n",
              "\n",
              "var ldavis_el1321396214242791282051792982_data = {\"mdsDat\": {\"x\": [150.22215270996094, 51.16336441040039, -73.1445541381836, -66.4101333618164, 54.41732406616211], \"y\": [-72.2695541381836, -159.968017578125, 21.523815155029297, -110.60643768310547, 12.44344425201416], \"topics\": [1, 2, 3, 4, 5], \"cluster\": [1, 1, 1, 1, 1], \"Freq\": [27.669867171126803, 20.661607602332484, 20.057057969259315, 17.40744311787744, 14.204024139403954]}, \"tinfo\": {\"Category\": [\"Default\", \"Default\", \"Default\", \"Default\", \"Default\", \"Default\", \"Default\", \"Default\", \"Default\", \"Default\", \"Default\", \"Default\", \"Default\", \"Default\", \"Default\", \"Default\", \"Default\", \"Default\", \"Default\", \"Default\", \"Default\", \"Default\", \"Default\", \"Default\", \"Default\", \"Default\", \"Default\", \"Default\", \"Default\", \"Default\", \"Topic1\", \"Topic1\", \"Topic1\", \"Topic1\", \"Topic1\", \"Topic1\", \"Topic1\", \"Topic1\", \"Topic1\", \"Topic1\", \"Topic1\", \"Topic1\", \"Topic1\", \"Topic1\", \"Topic1\", \"Topic1\", \"Topic1\", \"Topic1\", \"Topic1\", \"Topic1\", \"Topic1\", \"Topic1\", \"Topic1\", \"Topic1\", \"Topic1\", \"Topic1\", \"Topic1\", \"Topic1\", \"Topic1\", \"Topic1\", \"Topic1\", \"Topic1\", \"Topic1\", \"Topic1\", \"Topic1\", \"Topic1\", \"Topic1\", \"Topic1\", \"Topic1\", \"Topic1\", \"Topic1\", \"Topic1\", \"Topic1\", \"Topic1\", \"Topic1\", \"Topic1\", \"Topic1\", \"Topic1\", \"Topic1\", \"Topic1\", \"Topic1\", \"Topic1\", \"Topic1\", \"Topic1\", \"Topic1\", \"Topic1\", \"Topic1\", \"Topic1\", \"Topic1\", \"Topic1\", \"Topic1\", \"Topic1\", \"Topic1\", \"Topic1\", \"Topic1\", \"Topic1\", \"Topic1\", \"Topic1\", \"Topic1\", \"Topic1\", \"Topic1\", \"Topic1\", \"Topic1\", \"Topic1\", \"Topic1\", \"Topic1\", \"Topic1\", \"Topic1\", \"Topic1\", \"Topic1\", \"Topic1\", \"Topic1\", \"Topic1\", \"Topic1\", \"Topic1\", \"Topic1\", \"Topic1\", \"Topic2\", \"Topic2\", \"Topic2\", \"Topic2\", \"Topic2\", \"Topic2\", \"Topic2\", \"Topic2\", \"Topic2\", \"Topic2\", \"Topic2\", \"Topic2\", \"Topic2\", \"Topic2\", \"Topic2\", \"Topic2\", \"Topic2\", \"Topic2\", \"Topic2\", \"Topic2\", \"Topic2\", \"Topic2\", \"Topic2\", \"Topic2\", \"Topic2\", \"Topic2\", \"Topic2\", \"Topic2\", \"Topic2\", \"Topic2\", \"Topic2\", \"Topic2\", \"Topic2\", \"Topic2\", \"Topic2\", \"Topic2\", \"Topic2\", \"Topic2\", \"Topic2\", \"Topic2\", \"Topic2\", \"Topic2\", \"Topic2\", \"Topic2\", \"Topic2\", \"Topic2\", \"Topic2\", \"Topic2\", \"Topic2\", \"Topic2\", \"Topic2\", \"Topic2\", \"Topic2\", \"Topic2\", \"Topic2\", \"Topic2\", \"Topic2\", \"Topic2\", \"Topic2\", \"Topic2\", \"Topic2\", \"Topic2\", \"Topic2\", \"Topic2\", \"Topic2\", \"Topic2\", \"Topic2\", \"Topic2\", \"Topic2\", \"Topic2\", \"Topic2\", \"Topic2\", \"Topic2\", \"Topic2\", \"Topic2\", \"Topic2\", \"Topic2\", \"Topic2\", \"Topic2\", \"Topic2\", \"Topic2\", \"Topic2\", \"Topic2\", \"Topic2\", \"Topic2\", \"Topic2\", \"Topic3\", \"Topic3\", \"Topic3\", \"Topic3\", \"Topic3\", \"Topic3\", \"Topic3\", \"Topic3\", \"Topic3\", \"Topic3\", \"Topic3\", \"Topic3\", \"Topic3\", \"Topic3\", \"Topic3\", \"Topic3\", \"Topic3\", \"Topic3\", \"Topic3\", \"Topic3\", \"Topic3\", \"Topic3\", \"Topic3\", \"Topic3\", \"Topic3\", \"Topic3\", \"Topic3\", \"Topic3\", \"Topic3\", \"Topic3\", \"Topic3\", \"Topic3\", \"Topic3\", \"Topic3\", \"Topic3\", \"Topic3\", \"Topic3\", \"Topic3\", \"Topic3\", \"Topic3\", \"Topic3\", \"Topic3\", \"Topic3\", \"Topic3\", \"Topic3\", \"Topic3\", \"Topic3\", \"Topic3\", \"Topic3\", \"Topic3\", \"Topic3\", \"Topic3\", \"Topic3\", \"Topic3\", \"Topic3\", \"Topic3\", \"Topic3\", \"Topic3\", \"Topic3\", \"Topic3\", \"Topic3\", \"Topic3\", \"Topic3\", \"Topic3\", \"Topic3\", \"Topic3\", \"Topic3\", \"Topic3\", \"Topic3\", \"Topic3\", \"Topic3\", \"Topic3\", \"Topic3\", \"Topic3\", \"Topic3\", \"Topic3\", \"Topic3\", \"Topic3\", \"Topic3\", \"Topic3\", \"Topic3\", \"Topic3\", \"Topic3\", \"Topic4\", \"Topic4\", \"Topic4\", \"Topic4\", \"Topic4\", \"Topic4\", \"Topic4\", \"Topic4\", \"Topic4\", \"Topic4\", \"Topic4\", \"Topic4\", \"Topic4\", \"Topic4\", \"Topic4\", \"Topic4\", \"Topic4\", \"Topic4\", \"Topic4\", \"Topic4\", \"Topic4\", \"Topic4\", \"Topic4\", \"Topic4\", \"Topic4\", \"Topic4\", \"Topic4\", \"Topic4\", \"Topic4\", \"Topic4\", \"Topic4\", \"Topic4\", \"Topic4\", \"Topic4\", \"Topic4\", \"Topic4\", \"Topic4\", \"Topic4\", \"Topic4\", \"Topic4\", \"Topic4\", \"Topic4\", \"Topic4\", \"Topic4\", \"Topic4\", \"Topic4\", \"Topic4\", \"Topic4\", \"Topic4\", \"Topic4\", \"Topic4\", \"Topic4\", \"Topic4\", \"Topic4\", \"Topic4\", \"Topic4\", \"Topic4\", \"Topic4\", \"Topic4\", \"Topic4\", \"Topic4\", \"Topic4\", \"Topic4\", \"Topic4\", \"Topic4\", \"Topic4\", \"Topic4\", \"Topic4\", \"Topic4\", \"Topic4\", \"Topic4\", \"Topic4\", \"Topic4\", \"Topic4\", \"Topic4\", \"Topic4\", \"Topic4\", \"Topic4\", \"Topic4\", \"Topic4\", \"Topic4\", \"Topic5\", \"Topic5\", \"Topic5\", \"Topic5\", \"Topic5\", \"Topic5\", \"Topic5\", \"Topic5\", \"Topic5\", \"Topic5\", \"Topic5\", \"Topic5\", \"Topic5\", \"Topic5\", \"Topic5\", \"Topic5\", \"Topic5\", \"Topic5\", \"Topic5\", \"Topic5\", \"Topic5\", \"Topic5\", \"Topic5\", \"Topic5\", \"Topic5\", \"Topic5\", \"Topic5\", \"Topic5\", \"Topic5\", \"Topic5\", \"Topic5\", \"Topic5\", \"Topic5\", \"Topic5\", \"Topic5\", \"Topic5\", \"Topic5\", \"Topic5\", \"Topic5\", \"Topic5\", \"Topic5\", \"Topic5\", \"Topic5\", \"Topic5\", \"Topic5\", \"Topic5\", \"Topic5\", \"Topic5\", \"Topic5\", \"Topic5\", \"Topic5\", \"Topic5\", \"Topic5\", \"Topic5\", \"Topic5\", \"Topic5\", \"Topic5\", \"Topic5\", \"Topic5\", \"Topic5\", \"Topic5\", \"Topic5\", \"Topic5\", \"Topic5\", \"Topic5\", \"Topic5\", \"Topic5\", \"Topic5\", \"Topic5\", \"Topic5\", \"Topic5\", \"Topic5\", \"Topic5\", \"Topic5\", \"Topic5\", \"Topic5\", \"Topic5\", \"Topic5\", \"Topic5\", \"Topic5\"], \"Freq\": [4127.0, 3236.0, 3433.0, 2450.0, 2578.0, 1514.0, 2288.0, 2013.0, 8069.0, 2928.0, 1614.0, 2095.0, 2116.0, 1682.0, 2764.0, 1127.0, 1549.0, 1166.0, 1521.0, 1179.0, 4572.0, 1563.0, 2472.0, 2298.0, 1778.0, 840.0, 1010.0, 1660.0, 854.0, 856.0, 1548.7959767170905, 509.1352718753547, 4119.996545202429, 432.892656115222, 380.41456820656845, 311.1036323495555, 478.7103964869803, 228.91732736909515, 188.3275121547675, 176.44486150009615, 175.4534330332742, 172.48249064001612, 181.33460977621615, 168.517380886797, 163.57100733031697, 161.5916132285599, 154.66135401038983, 135.8435719460906, 134.85830625796285, 132.8783884076975, 131.8668772334932, 127.9250542708618, 122.97449109955922, 123.95819517932509, 226.20877536257123, 114.06554578464863, 113.07516827602278, 125.82172540480477, 110.08767396746896, 823.52402524987, 977.0697056452528, 2067.891676452696, 674.2030284821019, 798.8071027512086, 221.89141814844325, 366.9047979883677, 231.33477686247073, 292.42585862612964, 348.82217886262566, 185.3526151231263, 157.16009777235084, 1679.4363600473162, 331.20281913662797, 588.1758349936597, 976.8407740573878, 318.9395141199133, 255.8154911936565, 804.0465114363435, 692.6226241598944, 334.5141182373711, 219.93037290616223, 299.6427373815241, 445.84888117469404, 621.6496585675392, 750.8331945638399, 711.6940836391295, 1191.2032167029865, 445.78013062578236, 2699.9488130503564, 2134.510567704708, 1164.3224277395002, 1531.2447455533818, 3242.684245020224, 2751.255509658309, 2878.6398527566303, 2775.095557995163, 2769.924431862089, 1866.0335359673484, 1556.0480950791618, 1929.1602498069171, 1788.3182122156295, 2076.193452041551, 1755.1398259768198, 1696.4389937917706, 1756.867717763029, 1284.9168789480145, 1772.8555147783711, 1306.36841952251, 1715.4816952510491, 1843.345826712267, 1570.5555875399727, 1426.5963033591602, 1512.6921553333234, 1449.887897758483, 1384.8227676079998, 1381.8316062454235, 1388.1122268500703, 601.8613039900097, 432.3912497874103, 360.1917914057541, 318.07428464192185, 388.8423602878957, 215.7934268693566, 199.74740496530444, 182.6934531359008, 180.6524770370456, 161.64529584014107, 159.63901413400757, 159.63797286283875, 170.5658668416847, 148.60640542564448, 148.59166928815802, 135.57373384023566, 262.15965400692374, 139.5506829298258, 156.44917310321082, 126.54807662984827, 129.53017662570372, 130.52342671333062, 125.53534602031628, 122.53297187079696, 116.51759258706294, 115.51682078751034, 113.50692619252091, 111.50489983246865, 112.44774733658711, 104.48759407948334, 822.6652231400071, 474.1255715265477, 215.68532697354559, 278.5708964725812, 262.88613160535505, 1935.1466513327857, 401.45228371357587, 489.8739065215448, 493.07458865316147, 798.9634166923596, 217.2907861343851, 3087.121980909946, 1407.190130802881, 678.9585532282043, 529.1674714754738, 328.9654558705425, 310.03215241252826, 244.3313139508889, 751.3826883608039, 1015.8136160234853, 789.9438832756146, 900.0969990977873, 2076.926621024843, 820.965149734242, 1418.370268250179, 1259.9957349540891, 708.9608839447816, 591.2699144985927, 1752.4895231020748, 1345.3895327583668, 1081.1664744537245, 703.4023240763603, 798.960150007964, 965.3196816936927, 895.6735574466052, 2111.0054845376194, 1291.2967865277508, 757.6324033374628, 1294.4530170496757, 931.9966180080236, 736.9513204657184, 1011.5087146686485, 1148.4887267753309, 1731.0353125330885, 1172.1856396993144, 961.9907764335497, 1249.3579378381555, 1476.3588902094891, 1327.9597930440154, 1158.7121530707902, 1083.9281474961392, 1300.4472195615322, 998.3020959895475, 1091.0579625922987, 1087.8989929913084, 953.3460466425723, 3236.0948373622964, 548.4516824029992, 402.1214043976286, 339.6855082738843, 282.1278898941479, 1007.745358091335, 258.71465710154865, 247.9831609983861, 218.71756427749847, 203.10861361001466, 196.27995130032338, 196.27757684003612, 1174.6770767940975, 176.76674612439868, 167.01291889677225, 163.11102463680226, 162.1356901343052, 160.18412289519222, 152.3798365615841, 152.37813984885054, 145.5492842171695, 165.9252491948359, 149.42866086822787, 144.5745865869227, 143.5971864480875, 142.62279686726743, 139.69792809202508, 138.7181169102158, 132.86908946043425, 130.916863856056, 2392.776062396526, 492.50051048570475, 332.4387644395202, 250.26561616599224, 168.57513191181883, 757.7122562398416, 577.3065199433538, 454.2612720292996, 1594.6164837221913, 2124.6184963757946, 528.6474711782647, 1387.330434075771, 223.46746366034992, 381.0564870390946, 392.04208036036664, 600.6799960638781, 422.88619838667955, 832.5539684910926, 800.5784342472581, 903.0907882235614, 932.956553587188, 371.6384036417773, 983.037579607567, 587.6907400561777, 1882.2481672725005, 383.32402630613535, 431.25694952010883, 621.21961538425, 662.525057654964, 1247.712920729451, 2547.014420023484, 1524.8063758499902, 847.7929568440768, 1577.2954731329473, 1070.417392957841, 2106.594865455551, 2003.3011842000103, 2029.1356201158335, 1492.301773476701, 1233.8831558327201, 1063.6109343529865, 1611.714223172772, 1249.65813063722, 1523.612858484183, 1264.0108790110671, 1025.816831897117, 1147.1015275551288, 1060.3115125030458, 1152.4642658174164, 1118.605783614937, 1057.4694929317177, 1032.2821989657828, 1014.1374863626586, 853.7249774670772, 439.52370244309014, 399.51734596233825, 853.2613158436417, 194.45504415363982, 164.569577341672, 156.60310138910134, 153.61200504622377, 145.64283197682695, 141.65895217728786, 130.70089960142278, 845.2120359578896, 107.78803317146749, 107.78630243390732, 99.81899118077162, 97.80565232509677, 88.86083064102931, 84.87141160233679, 90.76719697628509, 78.89490714251676, 78.88997864587432, 77.90142722896407, 74.91049925743964, 76.8766104514234, 77.86091551613684, 71.92545047636278, 109.34168082231844, 69.93071671275537, 176.2610399924709, 64.9511450557659, 558.7040189928641, 256.87126364683377, 375.11519420509103, 1119.2800371849187, 1528.6125397394196, 293.68030193568757, 180.75858089088698, 299.76811939979893, 697.8558624384402, 269.56010032861536, 340.6568077203469, 475.6063027382701, 701.1779376811481, 140.45070274468236, 312.3468722312214, 281.7550531286024, 147.0127584240536, 310.2182084885599, 688.0045949057511, 859.1899507473685, 297.08532533307823, 2280.403903554658, 1252.099528702267, 1341.549608876789, 2975.6675568770543, 466.2049023634617, 1206.3521798347642, 613.8239445705667, 1279.329096942546, 1358.2131517582488, 741.884426191063, 729.3465996297474, 512.619826195301, 1574.721367203969, 1326.1329958431666, 514.5269664544473, 1123.5850649846689, 1286.0074865350018, 1052.7935121298835, 1067.0146717528046, 812.5751615030958, 917.2000625356172, 951.2752172469155, 1029.54920558659, 949.3892695553351, 836.9264046217975, 836.3553085626195, 826.5274144505503, 834.5840495322952, 803.1597094408725, 796.7834617946789, 1513.9091488009221, 840.0443889293658, 466.33804177006425, 312.28018488406445, 274.5134545694235, 238.68542742510962, 217.86272652906325, 201.95859254055705, 205.91810963322564, 194.00602408575458, 193.00917203059151, 183.0763611747435, 183.0762559247569, 175.1181953975205, 171.1491272711549, 527.9557821110515, 171.0194948248387, 136.3631551513773, 136.3630504918575, 130.39957998336732, 125.43013080399636, 124.43623245315158, 124.43623245315158, 122.44829748666731, 117.4789968139956, 115.47804572357205, 113.50246586710038, 573.5413027063435, 96.56338570982608, 99.51883536092944, 564.2298575761678, 390.2496771094016, 365.2989123593836, 741.3591183876119, 1070.7328199425215, 210.99251628896894, 320.5095478384917, 192.46575126642534, 582.3306380905013, 400.13307791776623, 738.8583766393649, 320.69270780262906, 1434.2113172778425, 428.6319366337243, 668.7558505666251, 277.5224850467856, 365.96312595974854, 302.2583384505716, 1233.1842429053813, 447.237612735625, 310.9313098741912, 733.651950196065, 467.6270061611759, 684.895010128704, 546.0089994189185, 977.4091773788655, 419.4653182945349, 1100.2073887736606, 1446.630547048786, 538.3818634214414, 532.6010881221788, 769.1252415802117, 577.2608915031481, 930.9203644518458, 752.0502570988622, 839.3793015452537, 755.7854405428766, 863.2893693120943, 819.6118481624546, 863.2330378068378, 852.672198240997, 741.8394196752439, 750.3836677274883, 753.7949249987207, 803.9355363720591, 718.984873904186, 727.8409149147406, 677.9497075161535, 681.7753603241623, 698.4398456590087], \"Term\": [\"god\", \"maxaxaxaxaxaxaxaxaxaxaxaxaxaxaxn\", \"file\", \"game\", \"government\", \"armenian\", \"drive\", \"image\", \"people\", \"window\", \"gun\", \"key\", \"car\", \"team\", \"program\", \"president\", \"jesus\", \"israel\", \"card\", \"player\", \"right\", \"space\", \"email\", \"law\", \"christian\", \"turkish\", \"scsi\", \"software\", \"israeli\", \"tttn\", \"jesus\", \"atheist\", \"god\", \"godn\", \"scripture\", \"verse\", \"christianity\", \"brake\", \"jehovah\", \"psalm\", \"clhn\", \"gospel\", \"revelation\", \"satan\", \"vitamin\", \"testament\", \"candida\", \"commandment\", \"theist\", \"theism\", \"thou\", \"believer\", \"sinner\", \"mustang\", \"tire\", \"baptism\", \"apostle\", \"quran\", \"disciple\", \"christ\", \"bible\", \"car\", \"sin\", \"faith\", \"atheism\", \"catholic\", \"wheel\", \"eternal\", \"heaven\", \"honda\", \"unto\", \"christian\", \"mary\", \"lord\", \"church\", \"holy\", \"doctrine\", \"belief\", \"bike\", \"spirit\", \"carn\", \"pain\", \"doctor\", \"truth\", \"love\", \"religion\", \"life\", \"father\", \"say\", \"thing\", \"word\", \"believe\", \"dont\", \"think\", \"people\", \"know\", \"like\", \"see\", \"thatn\", \"ofn\", \"good\", \"time\", \"even\", \"way\", \"make\", \"something\", \"ton\", \"really\", \"also\", \"get\", \"andn\", \"many\", \"could\", \"may\", \"much\", \"article\", \"well\", \"jpeg\", \"widget\", \"orbit\", \"shuttle\", \"gif\", \"spacecraft\", \"lunar\", \"imagen\", \"openwindows\", \"char\", \"venus\", \"polygon\", \"amp\", \"tiff\", \"det\", \"xview\", \"postscript\", \"module\", \"binary\", \"imagesn\", \"array\", \"sunos\", \"chi\", \"comet\", \"antenna\", \"propulsion\", \"buf\", \"jupiter\", \"ptsn\", \"gamma\", \"ftp\", \"anonymous\", \"visual\", \"solar\", \"processing\", \"image\", \"nasa\", \"output\", \"directory\", \"format\", \"detector\", \"file\", \"space\", \"server\", \"entry\", \"filen\", \"launch\", \"mar\", \"display\", \"user\", \"graphic\", \"application\", \"program\", \"code\", \"available\", \"software\", \"sun\", \"site\", \"email\", \"data\", \"version\", \"package\", \"mail\", \"send\", \"internet\", \"system\", \"information\", \"fax\", \"bit\", \"list\", \"color\", \"computer\", \"using\", \"also\", \"please\", \"line\", \"may\", \"get\", \"ton\", \"need\", \"used\", \"like\", \"window\", \"andn\", \"know\", \"new\", \"maxaxaxaxaxaxaxaxaxaxaxaxaxaxaxn\", \"hockey\", \"ide\", \"playoff\", \"nhl\", \"scsi\", \"pitcher\", \"bios\", \"motherboard\", \"espn\", \"simms\", \"slot\", \"player\", \"hitter\", \"puck\", \"irq\", \"pitching\", \"scored\", \"quadra\", \"cub\", \"bruin\", \"connector\", \"ethernet\", \"diamond\", \"sox\", \"inning\", \"centris\", \"shark\", \"ati\", \"batting\", \"game\", \"baseball\", \"cpu\", \"com\", \"coach\", \"fan\", \"season\", \"controller\", \"team\", \"drive\", \"mhz\", \"card\", \"detroit\", \"meg\", \"ram\", \"apple\", \"modem\", \"win\", \"do\", \"driver\", \"play\", \"floppy\", \"disk\", \"monitor\", \"window\", \"cable\", \"league\", \"board\", \"mac\", \"run\", \"get\", \"problem\", \"hard\", \"year\", \"got\", \"like\", \"know\", \"dont\", \"good\", \"anyone\", \"last\", \"think\", \"work\", \"time\", \"new\", \"ive\", \"well\", \"two\", \"also\", \"make\", \"system\", \"much\", \"first\", \"israeli\", \"batf\", \"palestinian\", \"tttn\", \"atf\", \"davidians\", \"lebanese\", \"cramer\", \"bd\", \"gaza\", \"zionist\", \"arab\", \"wolverine\", \"kinsey\", \"zionism\", \"comic\", \"yassin\", \"hulk\", \"heterosexual\", \"packetn\", \"constitutionn\", \"wstratuscom\", \"plo\", \"nixon\", \"jake\", \"uunetpyramidoptilinkcramer\", \"tratuscom\", \"phill\", \"libertarian\", \"rkba\", \"homosexual\", \"militia\", \"firearm\", \"israel\", \"gun\", \"amendment\", \"clayton\", \"constitution\", \"weapon\", \"waco\", \"gay\", \"koresh\", \"fbi\", \"lebanon\", \"compound\", \"homosexuality\", \"israeln\", \"murder\", \"fire\", \"jew\", \"sexual\", \"right\", \"law\", \"government\", \"people\", \"crime\", \"state\", \"country\", \"writesn\", \"article\", \"child\", \"opinion\", \"action\", \"dont\", \"think\", \"death\", \"ofn\", \"like\", \"make\", \"ton\", \"believe\", \"even\", \"say\", \"get\", \"know\", \"well\", \"andn\", \"could\", \"time\", \"way\", \"want\", \"armenian\", \"turkish\", \"armenia\", \"myers\", \"escrow\", \"ottoman\", \"azeri\", \"wiretap\", \"azerbaijani\", \"bosnian\", \"serb\", \"istanbul\", \"azerbaijan\", \"hiv\", \"serdar\", \"turk\", \"secretary\", \"tartar\", \"ohanus\", \"argicn\", \"appressian\", \"melkonian\", \"sahak\", \"exterminationn\", \"xsoviet\", \"homicide\", \"baku\", \"clipper\", \"revolver\", \"initiative\", \"russian\", \"turkey\", \"nsa\", \"encryption\", \"president\", \"crypto\", \"genocide\", \"greece\", \"health\", \"administration\", \"drug\", \"soviet\", \"key\", \"agency\", \"muslim\", \"secure\", \"secret\", \"enforcement\", \"government\", \"greek\", \"privacy\", \"chip\", \"security\", \"american\", \"national\", \"said\", \"million\", \"year\", \"people\", \"today\", \"war\", \"state\", \"public\", \"new\", \"going\", \"ofn\", \"two\", \"time\", \"andn\", \"think\", \"know\", \"well\", \"could\", \"ton\", \"dont\", \"way\", \"also\", \"work\", \"even\", \"get\"], \"Total\": [4127.0, 3236.0, 3433.0, 2450.0, 2578.0, 1514.0, 2288.0, 2013.0, 8069.0, 2928.0, 1614.0, 2095.0, 2116.0, 1682.0, 2764.0, 1127.0, 1549.0, 1166.0, 1521.0, 1179.0, 4572.0, 1563.0, 2472.0, 2298.0, 1778.0, 840.0, 1010.0, 1660.0, 854.0, 856.0, 1549.5949863082465, 509.93166568892025, 4127.022021149694, 433.68969937028777, 381.21145891773836, 311.90057285442293, 480.2314072318073, 229.717663383851, 189.12126719675567, 177.23940502117895, 176.24925693569386, 173.2787834476977, 182.19055494971312, 169.3182012630214, 164.36739341229264, 162.38707451455898, 155.45598439762142, 136.64305882171197, 135.65287261829775, 133.67255995961548, 132.6825772202479, 128.72177208991081, 123.771015669332, 124.76119973830345, 227.72656050175178, 114.85960393439343, 113.86944996185608, 126.74223857395422, 110.89908485851325, 829.7746371921803, 989.235988994646, 2116.338140271477, 683.2969499872079, 813.8186406602985, 223.78337734744784, 372.31960125071504, 233.69689073816318, 297.071590045662, 356.4822623874929, 187.15228853457577, 158.42933255143248, 1778.8555060708497, 339.7219835495304, 615.9938042707244, 1049.9971515422906, 330.780504992767, 265.43680549583706, 923.4346358792777, 786.8475110793016, 358.52990786796306, 226.78065099760306, 322.6169133662471, 515.0458115355416, 772.184517890406, 1000.7834164393257, 956.929458677298, 1849.4082892998601, 533.1191520555127, 5213.110691440796, 4432.059605251378, 1955.5889551690238, 2944.645603669442, 8371.965487871501, 6706.328642112916, 8069.977258820118, 7668.357202982814, 8065.658576759406, 4493.306956620998, 3615.959633936417, 5228.674126726721, 4684.970225044956, 6067.822643797217, 4604.222731646431, 4560.154551852684, 5325.35576656431, 2887.382289979208, 5762.282545821389, 3036.5239513806237, 5992.838579544807, 7594.708188190838, 5088.853277358927, 3940.177890308869, 4941.31180569718, 4466.912045324753, 3981.64196714298, 4287.43229211525, 4626.123805042916, 602.6536917604867, 433.1855130252564, 360.9861138145661, 318.8697436492528, 390.05788435512954, 216.5872394825972, 200.54290405669678, 183.49565739771728, 181.4890550839678, 162.43766990889364, 160.43212836055235, 160.4320738202612, 171.45980412937269, 149.4016241795425, 149.40117438246847, 136.3656484625709, 263.69665840375166, 140.37586671707078, 157.4189329622734, 127.34070752818643, 130.34868583757222, 131.35081788424117, 126.33766045777985, 123.32958488320925, 117.31296263648362, 116.31023260559921, 114.30454910254718, 112.29915748509718, 113.30024652028128, 105.27978366428168, 838.877199351252, 481.27654103820066, 217.5719200278358, 281.7502532770191, 266.6970039723421, 2013.6386987666428, 411.0292884978624, 504.0099705022167, 509.9504457282475, 847.0575325103837, 221.5569798922757, 3433.5329416065747, 1563.0894758713416, 730.5925255007866, 571.7093960654671, 351.463304851196, 329.7451975216995, 254.57212332609222, 865.934912934333, 1208.1783775552194, 929.7657274998876, 1077.4840366858307, 2764.5691389831854, 979.5794133996416, 1846.3961206477718, 1660.039478466438, 854.6508018433613, 694.6285362672545, 2472.009651575956, 1934.5641123963858, 1499.7365167398636, 882.2740010471111, 1041.8057340950286, 1347.1772333846493, 1225.8634845589397, 4314.124649897488, 2212.7210738594476, 1014.8148211463503, 2486.4297842980427, 1553.0267030675918, 1040.1419069369686, 1858.8316850520876, 2447.9519245763686, 5992.838579544807, 2701.395141804852, 1907.760199464445, 4466.912045324753, 7594.708188190838, 5762.282545821389, 3748.086661325587, 3270.629982511897, 8065.658576759406, 2928.273947518765, 5088.853277358927, 7668.357202982814, 4538.64653981471, 3236.891444025351, 549.2509317648542, 402.9183727062562, 340.48317802771174, 282.92572294084573, 1010.7459089824441, 259.5125185280894, 248.78149127087613, 219.51496213016975, 203.90615721757638, 197.07730836419722, 197.07735947624275, 1179.5562754148789, 177.5663409443028, 167.8108113892036, 163.9086113160997, 162.9330483276936, 160.9819574759753, 153.1775635146946, 153.17759148966252, 146.34874213221514, 166.8383956702458, 150.2515969514156, 145.3731801063629, 144.39767029948604, 143.42208656809066, 140.49540491441624, 139.51993190315244, 133.66655464400657, 131.71546559002397, 2450.939656057152, 497.62667204172624, 334.66873438483384, 252.728821978569, 169.76922065626087, 780.9205137511412, 595.4040083509994, 466.6435959219289, 1682.7266006775094, 2288.9240589596197, 550.8062947507323, 1521.9878259407965, 227.39090772766767, 396.48673481434747, 410.2180648868931, 662.7112348365657, 457.4594045493941, 973.7526442296538, 935.3018851464334, 1075.6237744403804, 1125.240820089793, 401.76048592209503, 1275.1594541817303, 702.4393967413705, 2928.273947518765, 429.39297403190704, 501.76967429120316, 825.3314035819703, 908.0680219622844, 2233.703844944353, 7594.708188190838, 3872.1704961429846, 1522.4420330916214, 4561.234130656429, 2322.4279673235737, 8065.658576759406, 7668.357202982814, 8371.965487871501, 4684.970225044956, 3438.62852482168, 2509.4510791488733, 6706.328642112916, 3774.691621001702, 6067.822643797217, 4538.64653981471, 2802.096535824692, 4626.123805042916, 3826.0180853531265, 5992.838579544807, 5325.35576656431, 4314.124649897488, 3981.64196714298, 3811.6317756495, 854.7388417606858, 440.3180936442521, 400.4695301334233, 856.6763874870089, 195.25166827479953, 165.3655131026716, 157.39589151743638, 154.4072855187789, 146.4376256604776, 142.4528156491943, 131.49456089599232, 850.7435498668417, 108.58182667803987, 108.58184043265133, 100.61220886764687, 98.61972729819685, 89.65395466447117, 85.66909794389856, 91.6461643125229, 79.69186220661537, 79.69188296885162, 78.6957011928588, 75.70707775351254, 77.69931116002805, 78.6955986684748, 72.7184706349257, 110.57712834163024, 70.72604805920776, 178.31327205440994, 65.74503766984111, 565.8014323488421, 260.9934907512706, 383.5167760068091, 1166.2824325117383, 1614.641894958974, 301.82855754105793, 186.25972204366641, 314.76335183818003, 758.9637820485258, 284.85380513239846, 365.5319513273922, 525.6905728143648, 801.7093081871084, 145.43172516071084, 359.4930984077434, 321.5315369325625, 154.4124323554467, 361.45937569572516, 912.0144513600051, 1206.063507746607, 350.3391827207338, 4572.411510319059, 2298.7713324108263, 2578.3239486138064, 8069.977258820118, 671.9120238550686, 2639.1350656919026, 1099.453605139574, 3584.492041844599, 4287.43229211525, 1611.2102783284472, 1759.350166712443, 922.6556190193701, 8371.965487871501, 6706.328642112916, 983.4292263843087, 5228.674126726721, 8065.658576759406, 5325.35576656431, 5762.282545821389, 2944.645603669442, 4604.222731646431, 5213.110691440796, 7594.708188190838, 7668.357202982814, 4626.123805042916, 5088.853277358927, 4941.31180569718, 6067.822643797217, 4560.154551852684, 4150.0443456436105, 1514.703174686431, 840.8381929289045, 467.13135821215747, 313.0766468460083, 275.308442371807, 239.52810617926403, 218.6560700548759, 202.7536585702188, 206.72918590289243, 194.80244567364556, 193.8085475584485, 183.86952924270375, 183.8695290104828, 175.91830007555353, 171.9427153159094, 530.758800131833, 171.94301623362762, 137.156174589931, 137.1561747475263, 131.19276796125635, 126.22326202324929, 125.22936086738434, 125.22936086738434, 123.24155880816375, 118.27205287088616, 116.28427434089636, 114.296444716458, 578.4849460830652, 97.4001222730118, 100.38240677752309, 569.4639988068074, 396.5838901032716, 371.7328301707549, 772.5275978771966, 1127.2096523733767, 215.70622317366428, 334.89309373015635, 199.83004158618553, 661.6655347596144, 447.4524032108839, 911.2967857925009, 359.9907768337489, 2095.8253283467698, 507.208372060114, 892.2286136943471, 310.1605358534284, 450.287214620923, 353.94431663613994, 2578.3239486138064, 634.4507629294865, 380.23085678911275, 1364.405876005811, 704.7016724421499, 1381.953922103593, 991.8756071677515, 3107.595799060168, 673.8335389007572, 4561.234130656429, 8069.977258820118, 1112.1790797978474, 1090.2405122720827, 2639.1350656919026, 1374.387481016878, 4538.64653981471, 2778.764691050488, 5228.674126726721, 3826.0180853531265, 6067.822643797217, 5088.853277358927, 6706.328642112916, 7668.357202982814, 4626.123805042916, 4941.31180569718, 5762.282545821389, 8371.965487871501, 4560.154551852684, 5992.838579544807, 3774.691621001702, 4604.222731646431, 7594.708188190838], \"loglift\": [30.0, 29.0, 28.0, 27.0, 26.0, 25.0, 24.0, 23.0, 22.0, 21.0, 20.0, 19.0, 18.0, 17.0, 16.0, 15.0, 14.0, 13.0, 12.0, 11.0, 10.0, 9.0, 8.0, 7.0, 6.0, 5.0, 4.0, 3.0, 2.0, 1.0, 1.2843, 1.2833, 1.2831, 1.283, 1.2827, 1.2823, 1.2817, 1.2813, 1.2806, 1.2803, 1.2803, 1.2802, 1.2801, 1.2801, 1.28, 1.2799, 1.2797, 1.279, 1.279, 1.2789, 1.2787, 1.2786, 1.2784, 1.2784, 1.2781, 1.2779, 1.2778, 1.2775, 1.2775, 1.2773, 1.2725, 1.2617, 1.2714, 1.2662, 1.2763, 1.2702, 1.2747, 1.2691, 1.2631, 1.2752, 1.2768, 1.2273, 1.2594, 1.2386, 1.2126, 1.2484, 1.2479, 1.1464, 1.1573, 1.2155, 1.2542, 1.211, 1.1406, 1.068, 0.9975, 0.9887, 0.8449, 1.1059, 0.6269, 0.5542, 0.7663, 0.6309, 0.3363, 0.3938, 0.254, 0.2684, 0.216, 0.4061, 0.4416, 0.2878, 0.3217, 0.2124, 0.3204, 0.296, 0.1759, 0.4752, 0.1061, 0.4414, 0.034, -0.131, 0.1092, 0.2689, 0.1011, 0.1596, 0.2287, 0.1525, 0.0811, 1.5756, 1.5751, 1.5747, 1.5744, 1.5738, 1.5732, 1.5729, 1.5725, 1.5723, 1.572, 1.5719, 1.5719, 1.5717, 1.5716, 1.5715, 1.5711, 1.571, 1.571, 1.5707, 1.5706, 1.5706, 1.5706, 1.5705, 1.5704, 1.5701, 1.57, 1.5699, 1.5698, 1.5693, 1.5693, 1.5574, 1.5619, 1.5682, 1.5655, 1.5625, 1.5371, 1.5533, 1.5484, 1.5432, 1.5184, 1.5574, 1.4705, 1.4718, 1.5036, 1.4996, 1.5107, 1.5152, 1.5358, 1.435, 1.4035, 1.4139, 1.397, 1.2909, 1.4003, 1.3132, 1.3012, 1.39, 1.4158, 1.2329, 1.2137, 1.2496, 1.3503, 1.3115, 1.2436, 1.2631, 0.8622, 1.0383, 1.2846, 0.9241, 1.0663, 1.2323, 0.9684, 0.8201, 0.335, 0.742, 0.8922, 0.3028, -0.061, 0.1092, 0.403, 0.4725, -0.248, 0.5008, 0.037, -0.376, 0.0165, 1.6063, 1.6051, 1.6046, 1.6042, 1.6038, 1.6036, 1.6035, 1.6034, 1.6029, 1.6027, 1.6025, 1.6025, 1.6024, 1.6021, 1.6018, 1.6017, 1.6017, 1.6016, 1.6014, 1.6014, 1.6011, 1.6011, 1.6011, 1.6011, 1.601, 1.601, 1.6009, 1.6008, 1.6006, 1.6005, 1.5826, 1.5962, 1.5999, 1.5968, 1.5995, 1.5764, 1.5757, 1.5797, 1.5528, 1.5321, 1.5655, 1.514, 1.5892, 1.5669, 1.5613, 1.5083, 1.528, 1.4499, 1.4511, 1.4318, 1.4192, 1.5287, 1.3464, 1.4282, 1.1646, 1.4931, 1.4552, 1.3225, 1.2913, 1.0242, 0.5141, 0.6746, 1.0212, 0.5447, 0.832, 0.264, 0.2643, 0.1893, 0.4625, 0.5817, 0.7482, 0.1808, 0.5011, 0.2247, 0.3283, 0.6017, 0.2121, 0.3233, -0.0421, 0.0462, 0.2006, 0.2567, 0.2826, 1.7471, 1.7465, 1.7459, 1.7443, 1.7442, 1.7434, 1.7432, 1.7431, 1.7428, 1.7427, 1.7422, 1.7417, 1.7409, 1.7409, 1.7404, 1.74, 1.7394, 1.7389, 1.7386, 1.7382, 1.7382, 1.7381, 1.7377, 1.7376, 1.7376, 1.7373, 1.737, 1.737, 1.7367, 1.7361, 1.7356, 1.7324, 1.7261, 1.7071, 1.6935, 1.7209, 1.7183, 1.6995, 1.6643, 1.6931, 1.6778, 1.6481, 1.6143, 1.7134, 1.6077, 1.6162, 1.6992, 1.5954, 1.4664, 1.4091, 1.5834, 1.0526, 1.1407, 1.095, 0.7506, 1.3828, 0.9654, 1.1654, 0.718, 0.5988, 0.9727, 0.8677, 1.1606, 0.0775, 0.1275, 1.1005, 0.2106, -0.0878, 0.1272, 0.0618, 0.4607, 0.1349, 0.0471, -0.2501, -0.3408, 0.0385, -0.0575, -0.0399, -0.2355, 0.0117, 0.098, 1.9511, 1.9507, 1.9499, 1.9491, 1.9488, 1.9481, 1.948, 1.9477, 1.9477, 1.9475, 1.9475, 1.9473, 1.9473, 1.9471, 1.947, 1.9463, 1.9463, 1.9458, 1.9458, 1.9456, 1.9453, 1.9453, 1.9453, 1.9452, 1.9449, 1.9447, 1.9447, 1.9431, 1.943, 1.943, 1.9424, 1.9355, 1.9342, 1.9105, 1.9002, 1.9296, 1.9077, 1.9141, 1.8239, 1.8399, 1.7419, 1.836, 1.5723, 1.7833, 1.6633, 1.8405, 1.7443, 1.7938, 1.2141, 1.602, 1.7504, 1.3312, 1.5415, 1.2497, 1.3547, 0.7949, 1.4776, 0.5296, 0.2327, 1.2261, 1.2353, 0.7187, 1.0842, 0.3674, 0.6447, 0.1224, 0.3298, 0.0016, 0.1257, -0.0985, -0.2448, 0.1213, 0.0668, -0.0823, -0.3915, 0.1044, -0.1566, 0.2346, 0.0416, -0.4347], \"logprob\": [30.0, 29.0, 28.0, 27.0, 26.0, 25.0, 24.0, 23.0, 22.0, 21.0, 20.0, 19.0, 18.0, 17.0, 16.0, 15.0, 14.0, 13.0, 12.0, 11.0, 10.0, 9.0, 8.0, 7.0, 6.0, 5.0, 4.0, 3.0, 2.0, 1.0, -5.8608, -6.9733, -4.8824, -7.1355, -7.2648, -7.4659, -7.0349, -7.7727, -7.9678, -8.033, -8.0386, -8.0557, -8.0057, -8.079, -8.1088, -8.1209, -8.1648, -8.2945, -8.3018, -8.3166, -8.3242, -8.3546, -8.394, -8.3861, -7.7846, -8.4692, -8.478, -8.3712, -8.5047, -6.4924, -6.3215, -5.5717, -6.6925, -6.5229, -7.8038, -7.3009, -7.7622, -7.5278, -7.3515, -7.9838, -8.1488, -5.7798, -7.4033, -6.829, -6.3217, -7.441, -7.6616, -6.5164, -6.6655, -7.3933, -7.8127, -7.5034, -7.106, -6.7736, -6.5848, -6.6384, -6.1233, -7.1062, -5.305, -5.54, -6.1461, -5.8722, -5.1219, -5.2862, -5.2409, -5.2776, -5.2794, -5.6744, -5.8561, -5.6412, -5.717, -5.5677, -5.7357, -5.7697, -5.7347, -6.0476, -5.7257, -6.031, -5.7586, -5.6867, -5.8468, -5.943, -5.8844, -5.9268, -5.9727, -5.9749, -5.9703, -6.5139, -6.8446, -7.0273, -7.1517, -6.9508, -7.5396, -7.6169, -7.7061, -7.7174, -7.8285, -7.841, -7.841, -7.7748, -7.9126, -7.9127, -8.0044, -7.345, -7.9755, -7.8612, -8.0733, -8.05, -8.0424, -8.0814, -8.1056, -8.1559, -8.1645, -8.1821, -8.1999, -8.1915, -8.2649, -6.2014, -6.7525, -7.5401, -7.2843, -7.3422, -5.346, -6.9189, -6.7198, -6.7133, -6.2306, -7.5327, -4.879, -5.6646, -6.3934, -6.6426, -7.118, -7.1773, -7.4154, -6.292, -5.9905, -6.242, -6.1114, -5.2753, -6.2035, -5.6567, -5.7751, -6.3501, -6.5317, -5.4452, -5.7095, -5.9282, -6.358, -6.2306, -6.0415, -6.1164, -5.259, -5.7505, -6.2838, -5.7481, -6.0766, -6.3114, -5.9948, -5.8677, -5.4575, -5.8473, -6.0449, -5.7836, -5.6166, -5.7226, -5.8589, -5.9256, -5.7435, -6.0079, -5.919, -5.9219, -6.054, -4.8021, -6.5772, -6.8875, -7.0562, -7.2419, -5.9688, -7.3285, -7.3709, -7.4965, -7.5705, -7.6047, -7.6047, -5.8155, -7.7094, -7.7662, -7.7898, -7.7958, -7.8079, -7.8579, -7.8579, -7.9037, -7.7727, -7.8774, -7.9105, -7.9172, -7.9241, -7.9448, -7.9518, -7.9949, -8.0097, -5.104, -6.6848, -7.0778, -7.3617, -7.7569, -6.254, -6.5259, -6.7656, -5.5099, -5.2229, -6.6139, -5.6491, -7.475, -6.9413, -6.9129, -6.4862, -6.8372, -6.1598, -6.1989, -6.0784, -6.0459, -6.9663, -5.9936, -6.5081, -5.344, -6.9354, -6.8175, -6.4526, -6.3882, -5.7552, -5.0416, -5.5546, -6.1416, -5.5208, -5.9084, -5.2314, -5.2817, -5.2689, -5.5762, -5.7663, -5.9148, -5.4992, -5.7536, -5.5554, -5.7422, -5.951, -5.8393, -5.9179, -5.8346, -5.8644, -5.9206, -5.9447, -5.9625, -5.993, -6.6569, -6.7523, -5.9935, -7.4724, -7.6392, -7.6889, -7.7081, -7.7614, -7.7891, -7.8697, -6.003, -8.0624, -8.0624, -8.1392, -8.1596, -8.2555, -8.3014, -8.2343, -8.3745, -8.3745, -8.3871, -8.4263, -8.4004, -8.3876, -8.4669, -8.0481, -8.4951, -7.5706, -8.5689, -6.417, -7.194, -6.8153, -5.7221, -5.4105, -7.0601, -7.5454, -7.0396, -6.1946, -7.1458, -6.9117, -6.578, -6.1898, -7.7977, -6.9985, -7.1015, -7.7521, -7.0053, -6.2088, -5.9866, -7.0486, -5.0105, -5.61, -5.541, -4.7443, -6.5979, -5.6472, -6.3229, -5.5885, -5.5286, -6.1334, -6.1504, -6.503, -5.3807, -5.5525, -6.4993, -5.7183, -5.5833, -5.7834, -5.77, -6.0424, -5.9212, -5.8848, -5.8057, -5.8868, -6.0128, -6.0135, -6.0253, -6.0156, -6.054, -6.062, -5.2167, -5.8057, -6.3943, -6.7953, -6.9242, -7.0641, -7.1553, -7.2311, -7.2117, -7.2713, -7.2765, -7.3293, -7.3293, -7.3737, -7.3967, -6.2702, -7.3974, -7.6239, -7.6239, -7.6686, -7.7074, -7.7154, -7.7154, -7.7315, -7.7729, -7.7901, -7.8074, -6.1874, -7.969, -7.9389, -6.2037, -6.5724, -6.6385, -5.9307, -5.5631, -7.1874, -6.7693, -7.2793, -6.1722, -6.5474, -5.9341, -6.7687, -5.2708, -6.4786, -6.0338, -6.9133, -6.6367, -6.8279, -5.4218, -6.4361, -6.7996, -5.9412, -6.3915, -6.0099, -6.2366, -5.6543, -6.5002, -5.5359, -5.2622, -6.2506, -6.2614, -5.8939, -6.1809, -5.703, -5.9164, -5.8065, -5.9114, -5.7784, -5.8304, -5.7785, -5.7908, -5.9301, -5.9186, -5.9141, -5.8497, -5.9614, -5.9491, -6.0201, -6.0145, -5.9903]}, \"token.table\": {\"Topic\": [1, 2, 3, 4, 5, 1, 2, 4, 5, 1, 2, 4, 5, 1, 2, 3, 4, 5, 4, 5, 1, 2, 3, 4, 5, 2, 1, 2, 3, 4, 5, 2, 4, 2, 1, 2, 3, 4, 5, 1, 1, 2, 3, 5, 1, 2, 3, 4, 5, 5, 4, 5, 5, 5, 5, 2, 1, 2, 3, 4, 5, 4, 1, 4, 1, 3, 1, 2, 3, 4, 5, 5, 5, 5, 5, 1, 3, 5, 4, 3, 4, 1, 4, 5, 1, 2, 3, 4, 5, 1, 1, 4, 1, 3, 4, 2, 3, 1, 2, 3, 4, 5, 1, 2, 3, 4, 5, 5, 1, 3, 2, 2, 3, 4, 5, 1, 1, 2, 3, 4, 5, 1, 2, 3, 4, 5, 1, 4, 5, 1, 4, 5, 3, 2, 2, 1, 2, 4, 5, 1, 2, 3, 5, 1, 4, 5, 1, 2, 4, 5, 1, 4, 1, 2, 4, 5, 2, 3, 4, 1, 2, 5, 3, 5, 1, 2, 3, 4, 5, 1, 2, 3, 4, 2, 3, 2, 4, 1, 1, 2, 4, 5, 1, 2, 3, 4, 5, 3, 4, 5, 4, 2, 3, 1, 2, 3, 4, 5, 1, 2, 3, 4, 5, 2, 3, 4, 1, 4, 5, 2, 4, 5, 3, 1, 2, 3, 4, 5, 4, 1, 3, 4, 5, 2, 1, 2, 2, 3, 4, 3, 2, 3, 1, 2, 3, 5, 1, 2, 3, 4, 5, 2, 3, 1, 3, 5, 1, 2, 4, 1, 2, 3, 4, 5, 1, 2, 3, 4, 5, 1, 2, 3, 4, 5, 1, 4, 5, 1, 2, 3, 4, 5, 2, 5, 4, 5, 2, 3, 4, 5, 5, 3, 1, 4, 3, 1, 2, 3, 4, 5, 5, 1, 3, 5, 3, 4, 1, 4, 5, 1, 2, 3, 4, 5, 4, 5, 2, 3, 4, 5, 2, 3, 4, 5, 1, 2, 3, 4, 5, 4, 5, 1, 2, 3, 4, 5, 2, 3, 5, 2, 3, 4, 5, 2, 3, 1, 2, 3, 4, 5, 2, 1, 4, 5, 4, 1, 4, 5, 1, 2, 3, 4, 5, 2, 1, 2, 4, 1, 1, 2, 3, 4, 5, 1, 2, 3, 4, 5, 1, 1, 2, 3, 4, 5, 2, 4, 5, 1, 2, 3, 2, 5, 1, 2, 5, 1, 4, 5, 1, 2, 3, 4, 5, 1, 2, 4, 5, 1, 4, 5, 4, 3, 5, 3, 1, 4, 5, 1, 4, 1, 4, 1, 2, 4, 3, 1, 2, 3, 4, 5, 2, 2, 1, 2, 3, 4, 5, 5, 3, 1, 2, 3, 4, 5, 3, 1, 2, 4, 4, 1, 2, 4, 5, 1, 2, 3, 4, 5, 4, 1, 1, 1, 4, 5, 2, 2, 1, 2, 3, 4, 5, 4, 1, 2, 3, 4, 5, 1, 4, 1, 2, 3, 4, 5, 1, 2, 4, 5, 1, 2, 4, 5, 3, 4, 5, 4, 4, 5, 4, 5, 1, 2, 3, 4, 5, 1, 2, 3, 4, 5, 1, 2, 3, 4, 5, 1, 2, 3, 4, 5, 1, 4, 5, 1, 2, 3, 4, 5, 2, 2, 3, 1, 2, 3, 4, 5, 1, 2, 3, 4, 5, 1, 2, 3, 4, 5, 1, 2, 1, 2, 3, 1, 2, 3, 4, 5, 2, 3, 5, 2, 3, 4, 5, 1, 2, 3, 4, 5, 2, 3, 5, 2, 2, 3, 4, 5, 3, 1, 2, 3, 4, 5, 1, 4, 5, 1, 4, 5, 1, 5, 1, 2, 5, 1, 2, 3, 4, 5, 1, 2, 3, 4, 5, 1, 2, 3, 4, 5, 3, 4, 2, 4, 5, 1, 2, 3, 4, 5, 5, 2, 1, 2, 3, 4, 5, 2, 5, 2, 3, 1, 2, 3, 5, 4, 1, 2, 3, 4, 5, 4, 1, 2, 3, 4, 5, 4, 3, 3, 1, 2, 3, 4, 5, 2, 3, 5, 3, 1, 2, 3, 4, 5, 4, 2, 2, 3, 4, 5, 2, 4, 5, 1, 2, 3, 4, 5, 2, 5, 1, 2, 3, 4, 5, 2, 1, 2, 1, 2, 4, 5, 3, 3, 1, 2, 3, 1, 2, 3, 4, 5, 1, 4, 5, 1, 5, 1, 2, 3, 4, 5, 4, 1, 2, 3, 4, 5, 2, 3, 5, 5, 1, 2, 3, 4, 5, 1, 1, 2, 3, 4, 5, 3, 1, 2, 3, 1, 3, 5, 1, 2, 4, 5, 5, 1, 2, 4, 5, 2, 3, 4, 5, 1, 2, 3, 4, 5, 1, 2, 3, 4, 5, 5, 5, 2, 3, 1, 4, 3, 2, 3, 1, 2, 5, 1, 1, 2, 3, 4, 5, 3, 2, 3, 4, 5, 2, 4, 5, 1, 2, 3, 4, 5, 2, 4, 5, 3, 1, 2, 3, 4, 5, 2, 1, 2, 3, 4, 5, 1, 2, 3, 4, 5, 1, 2, 3, 2, 1, 2, 3, 4, 5, 5, 2, 3, 4, 5, 1, 1, 2, 3, 4, 5, 1, 1, 1, 2, 3, 4, 5, 1, 2, 3, 4, 5, 1, 2, 1, 2, 3, 4, 5, 1, 3, 1, 2, 3, 4, 5, 1, 2, 3, 4, 5, 2, 4, 1, 4, 5, 3, 4, 2, 5, 2, 4, 5, 5, 1, 2, 3, 4, 5, 1, 4, 1, 2, 3, 4, 5, 1, 2, 3, 4, 5, 1, 2, 3, 4, 5, 4, 2, 1, 1, 2, 3, 4, 5, 1, 2, 1, 1, 4, 5, 1, 2, 3, 4, 5, 1, 2, 4, 5, 1, 2, 3, 4, 5, 4, 5, 1, 2, 3, 4, 5, 1, 2, 2, 1, 2, 3, 4, 5, 1, 2, 3, 4, 5, 5, 4, 1, 2, 3, 4, 5, 1, 2, 3, 4, 5, 1, 2, 3, 4, 5, 4, 5, 2, 4, 1, 2, 3, 4, 5, 4, 4], \"Freq\": [0.19834052514035372, 0.04660460426795197, 0.032514840186943235, 0.5560037671967293, 0.16690951295964193, 0.002234874576209843, 0.033523118643147644, 0.06928111186250513, 0.8939498304839372, 0.013801034023883116, 0.055204136095532465, 0.08477778043242486, 0.8458062280351224, 0.28617490313417804, 0.2888447564578788, 0.1922294393064566, 0.11113264459904522, 0.12147832622838577, 0.9740628997970379, 0.02650511291964729, 0.0636779552432888, 0.036904269515996915, 0.06729602088211202, 0.3364801044105601, 0.4956749925187821, 0.9973182978266688, 0.3087139507420297, 0.21439014656878064, 0.15150761045328126, 0.1642806256017421, 0.16113649879596711, 0.9848807485556976, 0.014544652404830978, 0.9973322416427809, 0.25911493305203864, 0.24748238835834444, 0.3588640038004665, 0.11283568352883389, 0.021811021300676654, 0.9923645019612607, 0.045268585204230674, 0.043759632364089654, 0.9068806569247545, 0.003017905680282045, 0.01577749592679748, 0.8352791961245725, 0.14014128734978937, 0.004640439978469847, 0.0037123519827758776, 0.9903087433834187, 0.9932487882303185, 0.0058772117646764405, 0.9909082796270554, 0.9975780726507262, 0.9995357673383257, 0.9973249761949521, 0.3223374518453738, 0.11825259629927969, 0.1931225833053325, 0.3167396958075381, 0.049446845000882235, 0.993589461816849, 0.9920307872345722, 0.00446860714970528, 0.9981729597285127, 0.9950133027234689, 0.059033919526303755, 0.7679825494339333, 0.07365700050988358, 0.02003903690342421, 0.0796145520217124, 0.9952709455712304, 0.996472748152576, 0.9969995342241756, 0.9974063522518709, 0.9925160465041789, 0.9907025239970693, 0.010047692941146748, 0.9992775821642499, 0.9945680973238866, 0.9970115217417397, 0.8706625989119909, 0.07580395761671563, 0.05306277033170094, 0.5199267436774595, 0.017319571474559394, 0.104257028288034, 0.2760943452709174, 0.08252266408466535, 0.994392773823789, 0.9876308695490533, 0.012130573628033409, 0.8807297351038538, 0.11438048507842258, 0.0050835771145965585, 0.9909862623537573, 0.9968587242287038, 0.11542654524669174, 0.520424911321321, 0.27589759595550706, 0.04343577312419062, 0.044642322377640355, 0.004846537987819008, 0.156300850107163, 0.752425022608901, 0.013327979466502271, 0.07390970431423986, 0.9958807207431579, 0.9968758894145122, 0.9976170472862687, 0.9973356344525365, 0.06520833291026182, 0.8919568394510812, 0.03726190452014961, 0.004657738065018701, 0.9970667941836506, 0.9771595382837657, 0.010867828520564126, 0.00047251428350278803, 0.0009450285670055761, 0.010867828520564126, 0.00394221287301768, 0.03088066750530516, 0.9113082091459204, 0.05321987378573868, 0.00065703547883628, 0.9701003989195061, 0.022047736339079683, 0.008819094535631873, 0.9857122718415975, 0.0026858645009307834, 0.010743458003723134, 0.9964738710513841, 0.9973056132291289, 0.9973273174716364, 0.2811551081153514, 0.006827165980725972, 0.4605233779726065, 0.2513638383812744, 0.0007329197400757463, 0.09747832543007426, 0.36426111081764595, 0.5379630892155978, 0.9930407161976886, 0.0012051465002399133, 0.006025732501199567, 0.9438653079296973, 0.0016864776198862964, 0.034291711604354694, 0.01967557223200679, 0.9974358044616335, 0.002082329445640153, 0.9304787146945412, 0.000952383536023072, 0.060952546305476606, 0.006666684752161503, 0.016106541806696593, 0.010737694537797729, 0.9717613556706944, 0.9929119875033025, 0.006914613815076937, 0.9922470824635405, 0.9954690216914034, 0.005890349240777535, 0.041854697474407954, 0.8381147957680226, 0.03879215863481712, 0.07248008587031621, 0.008166770238908869, 0.01442110917747013, 0.7085571642530324, 0.2557343360804703, 0.021150960126956192, 0.007913620553217302, 0.9892025691521626, 0.9973276089145896, 0.9937159905510287, 0.9952938786114923, 0.09457761539954962, 0.03338033484689987, 0.8678887060193966, 0.002781694570574989, 0.02958847777466135, 0.5444279910537688, 0.3588275395581658, 0.013987280402567184, 0.05379723231756609, 0.994974803810132, 0.9530969798359186, 0.04447785905900953, 0.9913180245832308, 0.025715557022253963, 0.972905240675275, 0.3061939945290556, 0.1710072210026781, 0.20379203733691933, 0.16736446363220686, 0.15178155710296873, 0.06912524516243859, 0.007276341596046168, 0.000909542699505771, 0.5584592174965434, 0.36472662250181415, 0.0059760586948053845, 0.9920257433376938, 0.997362264886592, 0.019347771045103518, 0.6935431774629415, 0.2872399855157676, 0.018543739448720564, 0.004635934862180141, 0.9781822559200097, 0.9923122469924591, 0.02171031692920929, 0.6952470540425356, 0.1504214815809501, 0.026879440007592455, 0.10596702310685488, 0.9977896654761101, 0.35793119683270824, 0.021353849811042255, 0.5236777453660363, 0.09761759913619317, 0.9973147842771205, 0.018054046421579043, 0.9794320183706631, 0.004397713215506574, 0.9806900470579659, 0.008795426431013147, 0.9974329507953953, 0.9667606021913738, 0.031375597637042556, 0.9918927657549175, 0.22820675410098784, 0.7708839837844366, 0.0007842156498315733, 0.02194160290363629, 0.8672707252963607, 0.08545676920363608, 0.02078678169818175, 0.004619284821818166, 0.1432692504185647, 0.8564079819796293, 0.865942388057306, 0.009707874305575178, 0.12231921625024725, 0.9644480143655697, 0.01130212516834652, 0.02260425033669304, 0.38736423420499605, 0.08612075635578234, 0.24235646968915725, 0.18812786582573812, 0.0960347962691387, 0.031892713833931455, 0.0196598920894098, 0.9283837931110184, 0.010922162271894334, 0.00917461630839124, 0.06879728931103285, 0.05764097212545996, 0.8395128682143604, 0.016734475778359344, 0.017664168877157084, 0.09107900005136066, 0.09766302415145903, 0.8109323016621148, 0.07200619135387332, 0.70873509692127, 0.18891512001269012, 0.01901287075074183, 0.010922287452553818, 0.0401280162484601, 0.9591890335519012, 0.1440904616994564, 0.8532415575144282, 0.9252952700106115, 0.048975931115873575, 0.022738825160941303, 0.0017491403969954848, 0.9988796479717449, 0.9955560085583415, 0.9829280543289837, 0.013464767867520324, 0.9916699923540893, 0.38117182905537383, 0.07558279003491174, 0.19590711669968502, 0.1991649955805002, 0.148124893114396, 0.9899258105774502, 0.9817912248258712, 0.009830199998256533, 0.0073726499986924, 0.9706493639909101, 0.02945242133481653, 0.8365859644703946, 0.07127862477550446, 0.09191191089472944, 0.009854014537059922, 0.7469343019091421, 0.14583941514848683, 0.05616788286124155, 0.041386861055651675, 0.8743817651127931, 0.12473349003035564, 0.8990739429328354, 0.07543250768370728, 0.003786187644355964, 0.02184339025589979, 0.9360863437487261, 0.04552395592698972, 0.005690494490873715, 0.01138098898174743, 0.14254160096492188, 0.007675316975034255, 0.03289421560728967, 0.7543740112605096, 0.06359548350742669, 0.977792950557506, 0.020859582945226794, 0.2508112158439277, 0.16370941285210341, 0.266027795884668, 0.146393994185054, 0.17289183184220536, 0.0721823101479008, 0.9259248060351414, 0.002489045177513821, 0.9432653265381421, 0.05312508096898172, 0.002361114709732521, 0.0011805573548662606, 0.9810732734618003, 0.019073113457337552, 0.0016320271248272324, 0.010608176311377011, 0.9763602274278917, 0.00856814240534297, 0.0028560474684476565, 0.9878439751703644, 0.010942955835938297, 0.9328869850137398, 0.05471477917969148, 0.9968212937938032, 0.03881835798762362, 0.002986027537509509, 0.9585148395405524, 0.2426689682252331, 0.19434584758569942, 0.33536509065093256, 0.1356207472989637, 0.09190609865502587, 0.9972878785494145, 0.9982985258828985, 0.0004846109348946109, 0.0009692218697892218, 0.9984096939095183, 0.25406973187539056, 0.050022227663851684, 0.26198691898765486, 0.16302208008435115, 0.27062385038285225, 0.3816459687281881, 0.13063049936333956, 0.31846520433023306, 0.12123876411499489, 0.047812470355209254, 0.9926200806454549, 0.25361389385901123, 0.0719075047104497, 0.460724730779528, 0.1287445743019429, 0.08482502052669814, 0.0011635465751357198, 0.5204931679440453, 0.47821764238078085, 0.00537769876014343, 0.849676404102662, 0.14412232677184394, 0.035029768019044026, 0.9608164942366362, 0.2868622919761981, 0.0078808321971483, 0.7045463984250581, 0.0006193323752604653, 0.9469592017732513, 0.052023919521879076, 0.23120748925014503, 0.05780187231253626, 0.5569998604662585, 0.10903535004410249, 0.045978762066790205, 0.11486165744995482, 0.0030226751960514427, 0.0015113375980257214, 0.8795984820509698, 0.9790108423982125, 0.005610377320333595, 0.014025943300833989, 0.9929493578114256, 0.9968105388594991, 0.994779962771587, 0.9977224767542321, 0.964385733696656, 0.03325468047229848, 0.9889557350022118, 0.010604427025028684, 0.987979117831839, 0.12129447820908403, 0.8770523808964538, 0.9884998011436117, 0.005343242168343847, 0.9921897398250098, 0.9977206978671938, 0.02880357833583805, 0.9609469668939075, 0.0004966134195834147, 0.0039729073566673176, 0.005462747615417562, 0.9972988058423478, 0.997324441376211, 0.09083838102080079, 0.5834445268549941, 0.04202969868126604, 0.06598210760714883, 0.21783134155236808, 0.9961905000109171, 0.9970570323010168, 0.029367054695289045, 0.7309133613049718, 0.19659611615457387, 0.03997182444636564, 0.004078757596567923, 0.9944565980468992, 0.038584136008193784, 0.0008574252446265285, 0.9594588487370854, 0.999135593558421, 0.019428487423177224, 0.02590464989756963, 0.951995883735684, 0.9952709443142371, 0.39042195228224785, 0.1316871118758222, 0.3661544086303348, 0.08921891048497438, 0.02284004108415344, 0.9911608948880968, 0.9940711734149437, 0.9996160375365798, 0.11608012273049712, 0.7122344673249787, 0.17080360916058862, 0.99891531111578, 0.9973360665226996, 0.007634223989754494, 0.250975113663179, 0.04962245593340421, 0.007634223989754494, 0.6842173250817466, 0.9946414572608739, 0.36187672620683203, 0.14188175787857055, 0.2612032730062287, 0.12375532006136346, 0.111236341425019, 0.0932107261077006, 0.9054756250462345, 0.2032316964604769, 0.054593612578598696, 0.4239971079097008, 0.11954805674145699, 0.1984497741908186, 0.015163223111599573, 0.9401198329191736, 0.04245702471247881, 0.003032644622319915, 0.23751818734723168, 0.0021750749757072497, 0.5446387739170954, 0.21576743759015918, 0.8589598417019283, 0.007971785073799798, 0.13153445371769668, 0.9974847404616497, 0.9626510298581107, 0.02750431513880316, 0.9870269216208198, 0.005608107509209204, 0.6439897598008945, 0.016221404528989784, 0.02973924163648127, 0.2465653488406447, 0.06326347766306016, 0.3434313483069502, 0.161177167075464, 0.2612309930984636, 0.15944141296849748, 0.07476140903577291, 0.09120643152574735, 0.5042562478607411, 0.21858093072549797, 0.10221410429609616, 0.08386798301218147, 0.13586372956963685, 0.6001184642601969, 0.14101496102251407, 0.0579513538448688, 0.06503429709257498, 0.9545550554621791, 0.009740357708797746, 0.03409125198079211, 0.7504121148129863, 0.0039968687872862126, 0.131896669980445, 0.10092093687897685, 0.01298982355868019, 0.9972928283887657, 0.2698035764661866, 0.7301215150901293, 0.05951205485911124, 0.766937610200482, 0.13726167491698238, 0.015357949641060966, 0.02015730890389252, 0.32993100874714715, 0.1569848169109932, 0.210126806367705, 0.1977332681905213, 0.10534507450606122, 0.3621663893678004, 0.15684571032186448, 0.15253118430977436, 0.18070250121224518, 0.14796286264991423, 0.039281598744378525, 0.958471009362836, 0.9743261137875148, 0.02354866740271939, 0.999724598726659, 0.3246090331054598, 0.27961150506808224, 0.12805266685263655, 0.14909628692981808, 0.11842633000881947, 0.037832287143285286, 0.9609400934394462, 0.9901831259149664, 0.03994144622104603, 0.9604102295878795, 0.9846988875478261, 0.015326052724479783, 0.035617105137200275, 0.04600542746888369, 0.11723963774328425, 0.17956957173338473, 0.6218152938536214, 0.06557958958030506, 0.9246722130823013, 0.008743945277374007, 0.9973224263838146, 0.1380902045784801, 0.8370828896097556, 0.008541662138875058, 0.017083324277750115, 0.9976540909777969, 0.347846444112554, 0.15546350101492484, 0.2591895525806178, 0.14792892099804641, 0.08941034953362398, 0.030432188897652913, 0.8576344143884003, 0.11066250508237423, 0.14906493465761245, 0.10087100841492572, 0.7498078292176146, 0.9938987462456267, 0.9965610758360464, 0.012164583254572632, 0.975599577016725, 0.012164583254572632, 0.0020163818784806036, 0.19357266033413795, 0.06250783823289871, 0.19155627845565734, 0.5504722528252048, 0.22811639037652665, 0.3092244402881805, 0.26386796500863724, 0.08617730303113229, 0.11259077981157221, 0.19036512150057686, 0.20997449165515017, 0.2784971221952883, 0.11589358091354562, 0.20512723161694102, 0.9967280354319735, 0.990999776579901, 0.002690104071627603, 0.013450520358138015, 0.9818879861440751, 0.36892717986377965, 0.16352137832220406, 0.09218398169742965, 0.2149684552446285, 0.16046132913722713, 0.9915703777124539, 0.9973053191348562, 0.33932983398953837, 0.08071161880488183, 0.13641400361388478, 0.414357535977175, 0.028987975767950515, 0.9972682777070127, 0.9977952224994056, 0.9722029893808319, 0.02777722826802377, 0.0011334347366160262, 0.7968046198410664, 0.03400304209848078, 0.16774834101917188, 0.9913182828527511, 0.9298954505197577, 0.006199303003465052, 0.04649477252598789, 0.009298954505197578, 0.009298954505197578, 0.9988275509168778, 0.3567544130131698, 0.0315986020556993, 0.06369286845737036, 0.3687742734029848, 0.17930657715528192, 0.9897343612554182, 0.9980250720427811, 0.9942734249603123, 0.09242465980900062, 0.014219178432153944, 0.8291558423249767, 0.023106164952250156, 0.041768836644452204, 0.0025433292692583287, 0.9961372971261788, 0.0008477764230861096, 0.9985809048467222, 0.18842115769110612, 0.4338498955087945, 0.23987605144172255, 0.11697659298701285, 0.02110020822867004, 0.9906603480877357, 0.9973068114749594, 0.9935658706711639, 0.003792236147599862, 0.04968019913783578, 0.9501338085111093, 0.16305883358221773, 0.018409868307669743, 0.8179241490978987, 0.27529779514146596, 0.17432083651077818, 0.3938359639687951, 0.0937458720791296, 0.06275550114388014, 0.986137812134082, 0.011248720290502836, 0.007596120387759174, 0.7512924783512288, 0.09477064483775731, 0.015192240775518348, 0.13094264668422956, 0.9973327144254694, 0.9930071700419506, 0.9885238862207725, 0.03565224558342602, 0.2517485096299062, 0.2917663363051803, 0.4198233816660574, 0.9951683006446881, 0.9923124282194132, 0.9941437157627516, 0.04144137339414174, 0.9555893159119742, 0.43009705206053056, 0.05829033553959717, 0.28848776233156564, 0.16005142978669054, 0.06290087055402858, 0.7440464848727217, 0.22990200375280725, 0.026125227699182643, 0.9934653311197075, 0.9958919736066628, 0.1955204596048306, 0.044396703914743416, 0.15309208246463246, 0.49864278288480285, 0.1082579725999901, 0.988667773321805, 0.04208257070996883, 0.30845628956562265, 0.5587132792132032, 0.047902500701773036, 0.04297794455486179, 0.0035120745195316677, 0.005268111779297501, 0.9904050145079303, 0.9901831259149664, 0.38164551527540447, 0.01222810251303994, 0.11005292261735947, 0.18149078466722438, 0.3143909514536848, 0.9981206907429456, 0.5179249319284598, 0.0230188858634871, 0.1511573505035653, 0.1824246704681353, 0.1254529279560047, 0.9939002016662529, 0.9968220815786134, 0.0019787366757818246, 0.9972832845940396, 0.008397659286587178, 0.9690898816721603, 0.021833914145126664, 0.08661138654099336, 0.03331207174653591, 0.06884494827617421, 0.8128145506154761, 0.9945155304688486, 0.01934482084734146, 0.012896547231560971, 0.07093100977358535, 0.8963100325934875, 0.11068513535620018, 0.0028380803937487226, 0.22278931090927473, 0.6641108121372011, 0.4152843369070086, 0.16602471346871833, 0.19161833551818563, 0.15734513729542074, 0.06965916262159362, 0.07497157574898108, 0.7163125801759084, 0.11505538852566403, 0.055671962189837436, 0.037856934289089456, 0.9958281119763066, 0.9945172709749445, 0.9293826261561842, 0.06980635336371929, 0.1512819650614072, 0.8477498796837346, 0.9962734220404197, 0.9972724171340335, 0.994533574803009, 0.9863939828980914, 0.010244447893600357, 0.002926985112457245, 0.993770628243111, 0.005758473473455202, 0.8508144557030062, 0.03311122247236741, 0.05038664289273302, 0.05902435310291582, 0.9945333168705631, 0.7590180934516095, 0.22409105616190378, 0.014457487494316372, 0.002409581249052729, 0.990238683922974, 0.007098485189412, 0.003549242594706, 0.4450397872355355, 0.1277974175018775, 0.2022593274284457, 0.11290503551656386, 0.11186603212223967, 0.05000128102813248, 0.05833482786615455, 0.8916895116683624, 0.9972460061255749, 0.03710600122086293, 0.9001404089267956, 0.02431082838608261, 0.02750962159477769, 0.010236138267824256, 0.9972886699881301, 0.9343711435180228, 0.008367502777773338, 0.005578335185182226, 0.008367502777773338, 0.044626681481457806, 0.10647427774839184, 0.0795715242959512, 0.06555177953904552, 0.45696789667103405, 0.29138334373136415, 0.10296602988050373, 0.8295785816508766, 0.06669390571805354, 0.9973291534084673, 0.06745284932991324, 0.48932290355823665, 0.24500914687875705, 0.09295048997008665, 0.10500392009089589, 0.991570378851789, 0.011885472061799868, 0.9478663969285395, 0.015451113680339829, 0.025553764932869715, 0.997616346524401, 0.43031453819248044, 0.07937035505221202, 0.16454829705946392, 0.21156209621931077, 0.11393932502268762, 0.994968601186222, 0.995187181769937, 0.481717348176076, 0.09882538571481089, 0.1687702934125081, 0.1586170003596166, 0.09205652367954988, 0.4102095418833011, 0.02296338402400159, 0.24036996783565298, 0.19772368321965003, 0.12868441826437255, 0.9948555625422104, 0.9973117817041945, 0.34213261030662695, 0.12689889688636932, 0.2511609335776972, 0.1376111414287252, 0.1422256467700477, 0.9924182734857645, 0.004391231298609578, 0.19241505607073386, 0.0215792586247552, 0.09261098493124106, 0.20949863581533174, 0.48373504750492907, 0.3076905698221478, 0.23046422827062174, 0.14594910841535608, 0.18516967738309742, 0.13085092478618132, 0.009043461473429479, 0.9857373006038131, 0.8055069553832711, 0.1618784074323294, 0.03237568148646588, 0.0035019057882525024, 0.9957085457931282, 0.003768189994218142, 0.9948021584735895, 0.002521534598239977, 0.012607672991199883, 0.983398493313591, 0.9990031459846218, 0.22791319344208427, 0.16832121167053013, 0.2770504415695061, 0.129115960505034, 0.1975944658741006, 0.9909781065891415, 0.00631196246235122, 0.23023087418213042, 0.3314346183445277, 0.19537520398722621, 0.13300189942792395, 0.11007053745759222, 0.0008276923495548117, 0.8409354271476888, 0.0637323109157205, 0.0016553846991096235, 0.09352923549969373, 0.09109656025560689, 0.4689634581768462, 0.2565409858319333, 0.08742001746502186, 0.09559011255521081, 0.9901198329853128, 0.9973064724318735, 0.9971126284053243, 0.05200913569108584, 0.7207932779751769, 0.19270051557338216, 0.02200386510007478, 0.013335675818227139, 0.00459618134487236, 0.9927751704924298, 0.997764803561914, 0.021063436372953603, 0.9478546367829123, 0.031595154559430405, 0.2780693177920805, 0.18867268269601303, 0.22819033271152536, 0.19204614062416653, 0.1132518018737243, 0.058702643388863565, 0.004586144014754966, 0.44852488464303564, 0.48888295197287934, 0.3719172191896336, 0.11907491156837915, 0.17499406893474506, 0.17609052300075223, 0.1576700946918317, 0.919674978582011, 0.07905515575203532, 0.3000352040918031, 0.11067581015490144, 0.24793975438998428, 0.1809290099602588, 0.16039345924792356, 0.9884598775377598, 0.008558094177816103, 0.9972632671462693, 0.04107819397157522, 0.06572511035452036, 0.855453389458054, 0.0318356003279708, 0.006161729095736284, 0.0030734829327105934, 0.34081510742724136, 0.6426994310401485, 0.002731984829076083, 0.010244943109035311, 0.9962828854703119, 0.9946415832571589, 0.5952171068072912, 0.08641897856566343, 0.08999846288495125, 0.18562182970021196, 0.04295381183145401, 0.20452001845786064, 0.23975468485021229, 0.331152879627365, 0.04503679162932164, 0.17961732190988278, 0.33868118155320803, 0.05105325883380319, 0.22848425674800443, 0.3568148527236846, 0.024829180525729418, 0.9911596036084124, 0.9892446876501347, 0.997318617505997, 0.9927057912066614, 0.20981163706724115, 0.0855031749803804, 0.3457397613950254, 0.11751205587047153, 0.24116280122671396, 0.9939151632337958, 0.9962389250732318], \"Term\": [\"action\", \"action\", \"action\", \"action\", \"action\", \"administration\", \"administration\", \"administration\", \"administration\", \"agency\", \"agency\", \"agency\", \"agency\", \"also\", \"also\", \"also\", \"also\", \"also\", \"amendment\", \"amendment\", \"american\", \"american\", \"american\", \"american\", \"american\", \"amp\", \"andn\", \"andn\", \"andn\", \"andn\", \"andn\", \"anonymous\", \"anonymous\", \"antenna\", \"anyone\", \"anyone\", \"anyone\", \"anyone\", \"anyone\", \"apostle\", \"apple\", \"apple\", \"apple\", \"apple\", \"application\", \"application\", \"application\", \"application\", \"application\", \"appressian\", \"arab\", \"arab\", \"argicn\", \"armenia\", \"armenian\", \"array\", \"article\", \"article\", \"article\", \"article\", \"article\", \"atf\", \"atheism\", \"atheism\", \"atheist\", \"ati\", \"available\", \"available\", \"available\", \"available\", \"available\", \"azerbaijan\", \"azerbaijani\", \"azeri\", \"baku\", \"baptism\", \"baseball\", \"baseball\", \"batf\", \"batting\", \"bd\", \"belief\", \"belief\", \"belief\", \"believe\", \"believe\", \"believe\", \"believe\", \"believe\", \"believer\", \"bible\", \"bible\", \"bike\", \"bike\", \"bike\", \"binary\", \"bios\", \"bit\", \"bit\", \"bit\", \"bit\", \"bit\", \"board\", \"board\", \"board\", \"board\", \"board\", \"bosnian\", \"brake\", \"bruin\", \"buf\", \"cable\", \"cable\", \"cable\", \"cable\", \"candida\", \"car\", \"car\", \"car\", \"car\", \"car\", \"card\", \"card\", \"card\", \"card\", \"card\", \"carn\", \"carn\", \"carn\", \"catholic\", \"catholic\", \"catholic\", \"centris\", \"char\", \"chi\", \"child\", \"child\", \"child\", \"child\", \"chip\", \"chip\", \"chip\", \"chip\", \"christ\", \"christ\", \"christ\", \"christian\", \"christian\", \"christian\", \"christian\", \"christianity\", \"christianity\", \"church\", \"church\", \"church\", \"church\", \"clayton\", \"clayton\", \"clayton\", \"clhn\", \"clipper\", \"clipper\", \"coach\", \"coach\", \"code\", \"code\", \"code\", \"code\", \"code\", \"color\", \"color\", \"color\", \"color\", \"com\", \"com\", \"comet\", \"comic\", \"commandment\", \"compound\", \"compound\", \"compound\", \"compound\", \"computer\", \"computer\", \"computer\", \"computer\", \"computer\", \"connector\", \"constitution\", \"constitution\", \"constitutionn\", \"controller\", \"controller\", \"could\", \"could\", \"could\", \"could\", \"could\", \"country\", \"country\", \"country\", \"country\", \"country\", \"cpu\", \"cpu\", \"cramer\", \"crime\", \"crime\", \"crime\", \"crypto\", \"crypto\", \"crypto\", \"cub\", \"data\", \"data\", \"data\", \"data\", \"data\", \"davidians\", \"death\", \"death\", \"death\", \"death\", \"det\", \"detector\", \"detector\", \"detroit\", \"detroit\", \"detroit\", \"diamond\", \"directory\", \"directory\", \"disciple\", \"disk\", \"disk\", \"disk\", \"display\", \"display\", \"display\", \"display\", \"display\", \"do\", \"do\", \"doctor\", \"doctor\", \"doctor\", \"doctrine\", \"doctrine\", \"doctrine\", \"dont\", \"dont\", \"dont\", \"dont\", \"dont\", \"drive\", \"drive\", \"drive\", \"drive\", \"drive\", \"driver\", \"driver\", \"driver\", \"driver\", \"driver\", \"drug\", \"drug\", \"drug\", \"email\", \"email\", \"email\", \"email\", \"email\", \"encryption\", \"encryption\", \"enforcement\", \"enforcement\", \"entry\", \"entry\", \"entry\", \"entry\", \"escrow\", \"espn\", \"eternal\", \"eternal\", \"ethernet\", \"even\", \"even\", \"even\", \"even\", \"even\", \"exterminationn\", \"faith\", \"faith\", \"faith\", \"fan\", \"fan\", \"father\", \"father\", \"father\", \"fax\", \"fax\", \"fax\", \"fax\", \"fax\", \"fbi\", \"fbi\", \"file\", \"file\", \"file\", \"file\", \"filen\", \"filen\", \"filen\", \"filen\", \"fire\", \"fire\", \"fire\", \"fire\", \"fire\", \"firearm\", \"firearm\", \"first\", \"first\", \"first\", \"first\", \"first\", \"floppy\", \"floppy\", \"floppy\", \"format\", \"format\", \"format\", \"format\", \"ftp\", \"ftp\", \"game\", \"game\", \"game\", \"game\", \"game\", \"gamma\", \"gay\", \"gay\", \"gay\", \"gaza\", \"genocide\", \"genocide\", \"genocide\", \"get\", \"get\", \"get\", \"get\", \"get\", \"gif\", \"god\", \"god\", \"god\", \"godn\", \"going\", \"going\", \"going\", \"going\", \"going\", \"good\", \"good\", \"good\", \"good\", \"good\", \"gospel\", \"got\", \"got\", \"got\", \"got\", \"got\", \"government\", \"government\", \"government\", \"graphic\", \"graphic\", \"graphic\", \"greece\", \"greece\", \"greek\", \"greek\", \"greek\", \"gun\", \"gun\", \"gun\", \"hard\", \"hard\", \"hard\", \"hard\", \"hard\", \"health\", \"health\", \"health\", \"health\", \"heaven\", \"heaven\", \"heaven\", \"heterosexual\", \"hitter\", \"hiv\", \"hockey\", \"holy\", \"holy\", \"homicide\", \"homosexual\", \"homosexual\", \"homosexuality\", \"homosexuality\", \"honda\", \"honda\", \"hulk\", \"ide\", \"image\", \"image\", \"image\", \"image\", \"image\", \"imagen\", \"imagesn\", \"information\", \"information\", \"information\", \"information\", \"information\", \"initiative\", \"inning\", \"internet\", \"internet\", \"internet\", \"internet\", \"internet\", \"irq\", \"israel\", \"israel\", \"israel\", \"israeli\", \"israeln\", \"israeln\", \"israeln\", \"istanbul\", \"ive\", \"ive\", \"ive\", \"ive\", \"ive\", \"jake\", \"jehovah\", \"jesus\", \"jew\", \"jew\", \"jew\", \"jpeg\", \"jupiter\", \"key\", \"key\", \"key\", \"key\", \"key\", \"kinsey\", \"know\", \"know\", \"know\", \"know\", \"know\", \"koresh\", \"koresh\", \"last\", \"last\", \"last\", \"last\", \"last\", \"launch\", \"launch\", \"launch\", \"launch\", \"law\", \"law\", \"law\", \"law\", \"league\", \"league\", \"league\", \"lebanese\", \"lebanon\", \"lebanon\", \"libertarian\", \"libertarian\", \"life\", \"life\", \"life\", \"life\", \"life\", \"like\", \"like\", \"like\", \"like\", \"like\", \"line\", \"line\", \"line\", \"line\", \"line\", \"list\", \"list\", \"list\", \"list\", \"list\", \"lord\", \"lord\", \"lord\", \"love\", \"love\", \"love\", \"love\", \"love\", \"lunar\", \"mac\", \"mac\", \"mail\", \"mail\", \"mail\", \"mail\", \"mail\", \"make\", \"make\", \"make\", \"make\", \"make\", \"many\", \"many\", \"many\", \"many\", \"many\", \"mar\", \"mar\", \"mary\", \"mary\", \"maxaxaxaxaxaxaxaxaxaxaxaxaxaxaxn\", \"may\", \"may\", \"may\", \"may\", \"may\", \"meg\", \"meg\", \"melkonian\", \"mhz\", \"mhz\", \"militia\", \"militia\", \"million\", \"million\", \"million\", \"million\", \"million\", \"modem\", \"modem\", \"modem\", \"module\", \"monitor\", \"monitor\", \"monitor\", \"monitor\", \"motherboard\", \"much\", \"much\", \"much\", \"much\", \"much\", \"murder\", \"murder\", \"murder\", \"muslim\", \"muslim\", \"muslim\", \"mustang\", \"myers\", \"nasa\", \"nasa\", \"nasa\", \"national\", \"national\", \"national\", \"national\", \"national\", \"need\", \"need\", \"need\", \"need\", \"need\", \"new\", \"new\", \"new\", \"new\", \"new\", \"nhl\", \"nixon\", \"nsa\", \"nsa\", \"nsa\", \"ofn\", \"ofn\", \"ofn\", \"ofn\", \"ofn\", \"ohanus\", \"openwindows\", \"opinion\", \"opinion\", \"opinion\", \"opinion\", \"opinion\", \"orbit\", \"ottoman\", \"output\", \"output\", \"package\", \"package\", \"package\", \"package\", \"packetn\", \"pain\", \"pain\", \"pain\", \"pain\", \"pain\", \"palestinian\", \"people\", \"people\", \"people\", \"people\", \"people\", \"phill\", \"pitcher\", \"pitching\", \"play\", \"play\", \"play\", \"play\", \"play\", \"player\", \"player\", \"player\", \"playoff\", \"please\", \"please\", \"please\", \"please\", \"please\", \"plo\", \"polygon\", \"postscript\", \"postscript\", \"president\", \"president\", \"privacy\", \"privacy\", \"privacy\", \"problem\", \"problem\", \"problem\", \"problem\", \"problem\", \"processing\", \"processing\", \"program\", \"program\", \"program\", \"program\", \"program\", \"propulsion\", \"psalm\", \"ptsn\", \"public\", \"public\", \"public\", \"public\", \"puck\", \"quadra\", \"quran\", \"ram\", \"ram\", \"really\", \"really\", \"really\", \"really\", \"really\", \"religion\", \"religion\", \"religion\", \"revelation\", \"revolver\", \"right\", \"right\", \"right\", \"right\", \"right\", \"rkba\", \"run\", \"run\", \"run\", \"run\", \"run\", \"russian\", \"russian\", \"russian\", \"sahak\", \"said\", \"said\", \"said\", \"said\", \"said\", \"satan\", \"say\", \"say\", \"say\", \"say\", \"say\", \"scored\", \"scripture\", \"scsi\", \"scsi\", \"season\", \"season\", \"season\", \"secret\", \"secret\", \"secret\", \"secret\", \"secretary\", \"secure\", \"secure\", \"secure\", \"secure\", \"security\", \"security\", \"security\", \"security\", \"see\", \"see\", \"see\", \"see\", \"see\", \"send\", \"send\", \"send\", \"send\", \"send\", \"serb\", \"serdar\", \"server\", \"server\", \"sexual\", \"sexual\", \"shark\", \"shuttle\", \"simms\", \"sin\", \"sin\", \"sin\", \"sinner\", \"site\", \"site\", \"site\", \"site\", \"site\", \"slot\", \"software\", \"software\", \"software\", \"software\", \"solar\", \"solar\", \"solar\", \"something\", \"something\", \"something\", \"something\", \"something\", \"soviet\", \"soviet\", \"soviet\", \"sox\", \"space\", \"space\", \"space\", \"space\", \"space\", \"spacecraft\", \"spirit\", \"spirit\", \"spirit\", \"spirit\", \"spirit\", \"state\", \"state\", \"state\", \"state\", \"state\", \"sun\", \"sun\", \"sun\", \"sunos\", \"system\", \"system\", \"system\", \"system\", \"system\", \"tartar\", \"team\", \"team\", \"team\", \"team\", \"testament\", \"thatn\", \"thatn\", \"thatn\", \"thatn\", \"thatn\", \"theism\", \"theist\", \"thing\", \"thing\", \"thing\", \"thing\", \"thing\", \"think\", \"think\", \"think\", \"think\", \"think\", \"thou\", \"tiff\", \"time\", \"time\", \"time\", \"time\", \"time\", \"tire\", \"tire\", \"today\", \"today\", \"today\", \"today\", \"today\", \"ton\", \"ton\", \"ton\", \"ton\", \"ton\", \"tratuscom\", \"tratuscom\", \"truth\", \"truth\", \"truth\", \"tttn\", \"tttn\", \"turk\", \"turk\", \"turkey\", \"turkey\", \"turkey\", \"turkish\", \"two\", \"two\", \"two\", \"two\", \"two\", \"unto\", \"unto\", \"used\", \"used\", \"used\", \"used\", \"used\", \"user\", \"user\", \"user\", \"user\", \"user\", \"using\", \"using\", \"using\", \"using\", \"using\", \"uunetpyramidoptilinkcramer\", \"venus\", \"verse\", \"version\", \"version\", \"version\", \"version\", \"version\", \"visual\", \"visual\", \"vitamin\", \"waco\", \"waco\", \"waco\", \"want\", \"want\", \"want\", \"want\", \"want\", \"war\", \"war\", \"war\", \"war\", \"way\", \"way\", \"way\", \"way\", \"way\", \"weapon\", \"weapon\", \"well\", \"well\", \"well\", \"well\", \"well\", \"wheel\", \"wheel\", \"widget\", \"win\", \"win\", \"win\", \"win\", \"win\", \"window\", \"window\", \"window\", \"window\", \"window\", \"wiretap\", \"wolverine\", \"word\", \"word\", \"word\", \"word\", \"word\", \"work\", \"work\", \"work\", \"work\", \"work\", \"writesn\", \"writesn\", \"writesn\", \"writesn\", \"writesn\", \"wstratuscom\", \"xsoviet\", \"xview\", \"yassin\", \"year\", \"year\", \"year\", \"year\", \"year\", \"zionism\", \"zionist\"]}, \"R\": 30, \"lambda.step\": 0.01, \"plot.opts\": {\"xlab\": \"PC1\", \"ylab\": \"PC2\"}, \"topic.order\": [5, 4, 2, 3, 1]};\n",
              "\n",
              "function LDAvis_load_lib(url, callback){\n",
              "  var s = document.createElement('script');\n",
              "  s.src = url;\n",
              "  s.async = true;\n",
              "  s.onreadystatechange = s.onload = callback;\n",
              "  s.onerror = function(){console.warn(\"failed to load library \" + url);};\n",
              "  document.getElementsByTagName(\"head\")[0].appendChild(s);\n",
              "}\n",
              "\n",
              "if(typeof(LDAvis) !== \"undefined\"){\n",
              "   // already loaded: just create the visualization\n",
              "   !function(LDAvis){\n",
              "       new LDAvis(\"#\" + \"ldavis_el1321396214242791282051792982\", ldavis_el1321396214242791282051792982_data);\n",
              "   }(LDAvis);\n",
              "}else if(typeof define === \"function\" && define.amd){\n",
              "   // require.js is available: use it to load d3/LDAvis\n",
              "   require.config({paths: {d3: \"https://cdnjs.cloudflare.com/ajax/libs/d3/3.5.5/d3.min\"}});\n",
              "   require([\"d3\"], function(d3){\n",
              "      window.d3 = d3;\n",
              "      LDAvis_load_lib(\"https://cdn.rawgit.com/bmabey/pyLDAvis/files/ldavis.v1.0.0.js\", function(){\n",
              "        new LDAvis(\"#\" + \"ldavis_el1321396214242791282051792982\", ldavis_el1321396214242791282051792982_data);\n",
              "      });\n",
              "    });\n",
              "}else{\n",
              "    // require.js not available: dynamically load d3 & LDAvis\n",
              "    LDAvis_load_lib(\"https://cdnjs.cloudflare.com/ajax/libs/d3/3.5.5/d3.min.js\", function(){\n",
              "         LDAvis_load_lib(\"https://cdn.rawgit.com/bmabey/pyLDAvis/files/ldavis.v1.0.0.js\", function(){\n",
              "                 new LDAvis(\"#\" + \"ldavis_el1321396214242791282051792982\", ldavis_el1321396214242791282051792982_data);\n",
              "            })\n",
              "         });\n",
              "}\n",
              "</script>"
            ],
            "text/plain": [
              "PreparedData(topic_coordinates=                x           y  topics  cluster       Freq\n",
              "topic                                                    \n",
              "4      150.222153  -72.269554       1        1  27.669867\n",
              "3       51.163364 -159.968018       2        1  20.661608\n",
              "1      -73.144554   21.523815       3        1  20.057058\n",
              "2      -66.410133 -110.606438       4        1  17.407443\n",
              "0       54.417324   12.443444       5        1  14.204024, topic_info=      Category         Freq  ...  loglift  logprob\n",
              "6470   Default  4127.000000  ...  30.0000  30.0000\n",
              "9299   Default  3236.000000  ...  29.0000  29.0000\n",
              "5784   Default  3433.000000  ...  28.0000  28.0000\n",
              "6272   Default  2450.000000  ...  27.0000  27.0000\n",
              "6520   Default  2578.000000  ...  26.0000  26.0000\n",
              "...        ...          ...  ...      ...      ...\n",
              "16633   Topic5   718.984874  ...   0.1044  -5.9614\n",
              "540     Topic5   727.840915  ...  -0.1566  -5.9491\n",
              "16923   Topic5   677.949708  ...   0.2346  -6.0201\n",
              "5301    Topic5   681.775360  ...   0.0416  -6.0145\n",
              "6390    Topic5   698.439846  ...  -0.4347  -5.9903\n",
              "\n",
              "[447 rows x 6 columns], token_table=       Topic      Freq     Term\n",
              "term                           \n",
              "213        1  0.198341   action\n",
              "213        2  0.046605   action\n",
              "213        3  0.032515   action\n",
              "213        4  0.556004   action\n",
              "213        5  0.166910   action\n",
              "...      ...       ...      ...\n",
              "17089      3  0.345740     year\n",
              "17089      4  0.117512     year\n",
              "17089      5  0.241163     year\n",
              "17163      4  0.993915  zionism\n",
              "17165      4  0.996239  zionist\n",
              "\n",
              "[964 rows x 3 columns], R=30, lambda_step=0.01, plot_opts={'xlab': 'PC1', 'ylab': 'PC2'}, topic_order=[5, 4, 2, 3, 1])"
            ]
          },
          "metadata": {
            "tags": []
          },
          "execution_count": 28
        }
      ]
    },
    {
      "cell_type": "markdown",
      "metadata": {
        "id": "d3X2lQrMA3Qs",
        "colab_type": "text"
      },
      "source": [
        "# LDA Unigram - tf - stem"
      ]
    },
    {
      "cell_type": "code",
      "metadata": {
        "id": "vg-5naCkA80T",
        "colab_type": "code",
        "colab": {}
      },
      "source": [
        "data_token_stem_tf = count.fit_transform(df.token_stem)"
      ],
      "execution_count": 0,
      "outputs": []
    },
    {
      "cell_type": "code",
      "metadata": {
        "id": "dXmkT6rnA9DW",
        "colab_type": "code",
        "outputId": "1bc346e0-636b-4622-8c7f-c69e01787580",
        "colab": {
          "base_uri": "https://localhost:8080/",
          "height": 399
        }
      },
      "source": [
        "# Parametri di ricerca\n",
        "search_params = {'n_components': [5,10, 15, 20, 25, 30], 'learning_decay': [.5, .7, .9]}\n",
        "\n",
        "# Inizializzazione Modello\n",
        "lda = LatentDirichletAllocation()\n",
        "\n",
        "# Inizializzazione GridSearchCV\n",
        "model = GridSearchCV(lda, param_grid=search_params)\n",
        "\n",
        "# Grid Search\n",
        "model.fit(data_token_stem_tf)"
      ],
      "execution_count": 0,
      "outputs": [
        {
          "output_type": "execute_result",
          "data": {
            "text/plain": [
              "GridSearchCV(cv=None, error_score=nan,\n",
              "             estimator=LatentDirichletAllocation(batch_size=128,\n",
              "                                                 doc_topic_prior=None,\n",
              "                                                 evaluate_every=-1,\n",
              "                                                 learning_decay=0.7,\n",
              "                                                 learning_method='batch',\n",
              "                                                 learning_offset=10.0,\n",
              "                                                 max_doc_update_iter=100,\n",
              "                                                 max_iter=10,\n",
              "                                                 mean_change_tol=0.001,\n",
              "                                                 n_components=10, n_jobs=None,\n",
              "                                                 perp_tol=0.1,\n",
              "                                                 random_state=None,\n",
              "                                                 topic_word_prior=None,\n",
              "                                                 total_samples=1000000.0,\n",
              "                                                 verbose=0),\n",
              "             iid='deprecated', n_jobs=None,\n",
              "             param_grid={'learning_decay': [0.5, 0.7, 0.9],\n",
              "                         'n_components': [5, 10, 15, 20, 25, 30]},\n",
              "             pre_dispatch='2*n_jobs', refit=True, return_train_score=False,\n",
              "             scoring=None, verbose=0)"
            ]
          },
          "metadata": {
            "tags": []
          },
          "execution_count": 24
        }
      ]
    },
    {
      "cell_type": "code",
      "metadata": {
        "id": "EdSHQhWdA9Ks",
        "colab_type": "code",
        "outputId": "485a8880-347d-4bd4-91dd-7727e4bf1cd6",
        "colab": {
          "base_uri": "https://localhost:8080/",
          "height": 72
        }
      },
      "source": [
        "# Stimato il Miglior modello \n",
        "best_lda_model = model.best_estimator_\n",
        "\n",
        "# Parametri del modello\n",
        "print(\"Best Model Params: \", model.best_params_)\n",
        "\n",
        "# Log Likelihood Score\n",
        "print(\"Best Log Likelihood Score: \", model.best_score_)\n",
        "\n",
        "# Perplessità\n",
        "print(\"Model Perplexity: \", best_lda_model.perplexity(data_token_stem_tf))"
      ],
      "execution_count": 0,
      "outputs": [
        {
          "output_type": "stream",
          "text": [
            "Best Model Params:  {'learning_decay': 0.5, 'n_components': 5}\n",
            "Best Log Likelihood Score:  -3480440.2826417\n",
            "Model Perplexity:  3066.1466537036144\n"
          ],
          "name": "stdout"
        }
      ]
    },
    {
      "cell_type": "code",
      "metadata": {
        "id": "P3_CnW11A9gC",
        "colab_type": "code",
        "outputId": "6841f1a2-3304-4406-cd5b-1bbb8264a0b7",
        "colab": {
          "base_uri": "https://localhost:8080/",
          "height": 1000
        }
      },
      "source": [
        "pyLDAvis.enable_notebook()\n",
        "vis = pyLDAvis.sklearn.prepare(best_lda_model, data_token_stem_tf, count, mds='tsne')\n",
        "vis"
      ],
      "execution_count": 0,
      "outputs": [
        {
          "output_type": "stream",
          "text": [
            "/usr/local/lib/python3.6/dist-packages/pyLDAvis/_prepare.py:257: FutureWarning: Sorting because non-concatenation axis is not aligned. A future version\n",
            "of pandas will change to not sort by default.\n",
            "\n",
            "To accept the future behavior, pass 'sort=False'.\n",
            "\n",
            "To retain the current behavior and silence the warning, pass 'sort=True'.\n",
            "\n",
            "  return pd.concat([default_term_info] + list(topic_dfs))\n"
          ],
          "name": "stderr"
        },
        {
          "output_type": "execute_result",
          "data": {
            "text/html": [
              "\n",
              "<link rel=\"stylesheet\" type=\"text/css\" href=\"https://cdn.rawgit.com/bmabey/pyLDAvis/files/ldavis.v1.0.0.css\">\n",
              "\n",
              "\n",
              "<div id=\"ldavis_el1441402880978079605699800134\"></div>\n",
              "<script type=\"text/javascript\">\n",
              "\n",
              "var ldavis_el1441402880978079605699800134_data = {\"mdsDat\": {\"x\": [150.22215270996094, 51.16336441040039, -73.1445541381836, -66.4101333618164, 54.41732406616211], \"y\": [-72.2695541381836, -159.968017578125, 21.523815155029297, -110.60643768310547, 12.44344425201416], \"topics\": [1, 2, 3, 4, 5], \"cluster\": [1, 1, 1, 1, 1], \"Freq\": [28.78403016404219, 20.752606963900895, 20.29968352821735, 15.934526274130153, 14.22915306970941]}, \"tinfo\": {\"Category\": [\"Default\", \"Default\", \"Default\", \"Default\", \"Default\", \"Default\", \"Default\", \"Default\", \"Default\", \"Default\", \"Default\", \"Default\", \"Default\", \"Default\", \"Default\", \"Default\", \"Default\", \"Default\", \"Default\", \"Default\", \"Default\", \"Default\", \"Default\", \"Default\", \"Default\", \"Default\", \"Default\", \"Default\", \"Default\", \"Default\", \"Topic1\", \"Topic1\", \"Topic1\", \"Topic1\", \"Topic1\", \"Topic1\", \"Topic1\", \"Topic1\", \"Topic1\", \"Topic1\", \"Topic1\", \"Topic1\", \"Topic1\", \"Topic1\", \"Topic1\", \"Topic1\", \"Topic1\", \"Topic1\", \"Topic1\", \"Topic1\", \"Topic1\", \"Topic1\", \"Topic1\", \"Topic1\", \"Topic1\", \"Topic1\", \"Topic1\", \"Topic1\", \"Topic1\", \"Topic1\", \"Topic1\", \"Topic1\", \"Topic1\", \"Topic1\", \"Topic1\", \"Topic1\", \"Topic1\", \"Topic1\", \"Topic1\", \"Topic1\", \"Topic1\", \"Topic1\", \"Topic1\", \"Topic1\", \"Topic1\", \"Topic1\", \"Topic1\", \"Topic1\", \"Topic1\", \"Topic1\", \"Topic1\", \"Topic1\", \"Topic1\", \"Topic1\", \"Topic1\", \"Topic1\", \"Topic1\", \"Topic1\", \"Topic1\", \"Topic1\", \"Topic1\", \"Topic1\", \"Topic1\", \"Topic1\", \"Topic1\", \"Topic1\", \"Topic1\", \"Topic1\", \"Topic1\", \"Topic1\", \"Topic1\", \"Topic1\", \"Topic1\", \"Topic1\", \"Topic1\", \"Topic1\", \"Topic1\", \"Topic1\", \"Topic1\", \"Topic1\", \"Topic1\", \"Topic1\", \"Topic1\", \"Topic1\", \"Topic1\", \"Topic2\", \"Topic2\", \"Topic2\", \"Topic2\", \"Topic2\", \"Topic2\", \"Topic2\", \"Topic2\", \"Topic2\", \"Topic2\", \"Topic2\", \"Topic2\", \"Topic2\", \"Topic2\", \"Topic2\", \"Topic2\", \"Topic2\", \"Topic2\", \"Topic2\", \"Topic2\", \"Topic2\", \"Topic2\", \"Topic2\", \"Topic2\", \"Topic2\", \"Topic2\", \"Topic2\", \"Topic2\", \"Topic2\", \"Topic2\", \"Topic2\", \"Topic2\", \"Topic2\", \"Topic2\", \"Topic2\", \"Topic2\", \"Topic2\", \"Topic2\", \"Topic2\", \"Topic2\", \"Topic2\", \"Topic2\", \"Topic2\", \"Topic2\", \"Topic2\", \"Topic2\", \"Topic2\", \"Topic2\", \"Topic2\", \"Topic2\", \"Topic2\", \"Topic2\", \"Topic2\", \"Topic2\", \"Topic2\", \"Topic2\", \"Topic2\", \"Topic2\", \"Topic2\", \"Topic2\", \"Topic2\", \"Topic2\", \"Topic2\", \"Topic2\", \"Topic2\", \"Topic2\", \"Topic2\", \"Topic2\", \"Topic2\", \"Topic2\", \"Topic2\", \"Topic2\", \"Topic2\", \"Topic2\", \"Topic2\", \"Topic2\", \"Topic2\", \"Topic2\", \"Topic2\", \"Topic2\", \"Topic2\", \"Topic2\", \"Topic2\", \"Topic2\", \"Topic2\", \"Topic2\", \"Topic2\", \"Topic2\", \"Topic2\", \"Topic3\", \"Topic3\", \"Topic3\", \"Topic3\", \"Topic3\", \"Topic3\", \"Topic3\", \"Topic3\", \"Topic3\", \"Topic3\", \"Topic3\", \"Topic3\", \"Topic3\", \"Topic3\", \"Topic3\", \"Topic3\", \"Topic3\", \"Topic3\", \"Topic3\", \"Topic3\", \"Topic3\", \"Topic3\", \"Topic3\", \"Topic3\", \"Topic3\", \"Topic3\", \"Topic3\", \"Topic3\", \"Topic3\", \"Topic3\", \"Topic3\", \"Topic3\", \"Topic3\", \"Topic3\", \"Topic3\", \"Topic3\", \"Topic3\", \"Topic3\", \"Topic3\", \"Topic3\", \"Topic3\", \"Topic3\", \"Topic3\", \"Topic3\", \"Topic3\", \"Topic3\", \"Topic3\", \"Topic3\", \"Topic3\", \"Topic3\", \"Topic3\", \"Topic3\", \"Topic3\", \"Topic3\", \"Topic3\", \"Topic3\", \"Topic3\", \"Topic3\", \"Topic3\", \"Topic3\", \"Topic3\", \"Topic3\", \"Topic3\", \"Topic3\", \"Topic3\", \"Topic3\", \"Topic3\", \"Topic3\", \"Topic3\", \"Topic3\", \"Topic3\", \"Topic3\", \"Topic3\", \"Topic3\", \"Topic3\", \"Topic3\", \"Topic3\", \"Topic3\", \"Topic3\", \"Topic3\", \"Topic3\", \"Topic3\", \"Topic4\", \"Topic4\", \"Topic4\", \"Topic4\", \"Topic4\", \"Topic4\", \"Topic4\", \"Topic4\", \"Topic4\", \"Topic4\", \"Topic4\", \"Topic4\", \"Topic4\", \"Topic4\", \"Topic4\", \"Topic4\", \"Topic4\", \"Topic4\", \"Topic4\", \"Topic4\", \"Topic4\", \"Topic4\", \"Topic4\", \"Topic4\", \"Topic4\", \"Topic4\", \"Topic4\", \"Topic4\", \"Topic4\", \"Topic4\", \"Topic4\", \"Topic4\", \"Topic4\", \"Topic4\", \"Topic4\", \"Topic4\", \"Topic4\", \"Topic4\", \"Topic4\", \"Topic4\", \"Topic4\", \"Topic4\", \"Topic4\", \"Topic4\", \"Topic4\", \"Topic4\", \"Topic4\", \"Topic4\", \"Topic4\", \"Topic4\", \"Topic4\", \"Topic4\", \"Topic4\", \"Topic4\", \"Topic4\", \"Topic4\", \"Topic4\", \"Topic4\", \"Topic4\", \"Topic4\", \"Topic4\", \"Topic4\", \"Topic4\", \"Topic4\", \"Topic4\", \"Topic4\", \"Topic4\", \"Topic4\", \"Topic4\", \"Topic4\", \"Topic4\", \"Topic4\", \"Topic4\", \"Topic4\", \"Topic4\", \"Topic4\", \"Topic4\", \"Topic4\", \"Topic4\", \"Topic4\", \"Topic4\", \"Topic5\", \"Topic5\", \"Topic5\", \"Topic5\", \"Topic5\", \"Topic5\", \"Topic5\", \"Topic5\", \"Topic5\", \"Topic5\", \"Topic5\", \"Topic5\", \"Topic5\", \"Topic5\", \"Topic5\", \"Topic5\", \"Topic5\", \"Topic5\", \"Topic5\", \"Topic5\", \"Topic5\", \"Topic5\", \"Topic5\", \"Topic5\", \"Topic5\", \"Topic5\", \"Topic5\", \"Topic5\", \"Topic5\", \"Topic5\", \"Topic5\", \"Topic5\", \"Topic5\", \"Topic5\", \"Topic5\", \"Topic5\", \"Topic5\", \"Topic5\", \"Topic5\", \"Topic5\", \"Topic5\", \"Topic5\", \"Topic5\", \"Topic5\", \"Topic5\", \"Topic5\", \"Topic5\", \"Topic5\", \"Topic5\", \"Topic5\", \"Topic5\", \"Topic5\", \"Topic5\", \"Topic5\", \"Topic5\", \"Topic5\", \"Topic5\", \"Topic5\", \"Topic5\", \"Topic5\", \"Topic5\", \"Topic5\", \"Topic5\", \"Topic5\", \"Topic5\", \"Topic5\", \"Topic5\", \"Topic5\", \"Topic5\", \"Topic5\", \"Topic5\", \"Topic5\", \"Topic5\", \"Topic5\", \"Topic5\", \"Topic5\", \"Topic5\", \"Topic5\", \"Topic5\", \"Topic5\", \"Topic5\", \"Topic5\", \"Topic5\"], \"Freq\": [3258.0, 3507.0, 4101.0, 3006.0, 2135.0, 2504.0, 3121.0, 2624.0, 2130.0, 2081.0, 2653.0, 6873.0, 4348.0, 2245.0, 1718.0, 2499.0, 1369.0, 1530.0, 1532.0, 2264.0, 1656.0, 3297.0, 1058.0, 1278.0, 1502.0, 1203.0, 1017.0, 1493.0, 1966.0, 1859.0, 1492.8169447108323, 982.1370762539894, 4097.607664396585, 519.7111448601713, 430.1717978825599, 409.51038606015385, 369.1236770403618, 317.0201800186429, 252.07985268451583, 252.02352029128627, 221.58070965776318, 213.7073309622958, 200.9128127480369, 191.0775817313416, 187.14356345883425, 175.3360358184264, 174.35116389276936, 171.39781543846578, 820.6348846217899, 164.50301633356452, 162.53988722949185, 160.57657027968642, 173.2857213122849, 156.64126152609282, 137.94201358552664, 154.55954040355812, 134.01087634827513, 132.04327781453972, 132.04264781803417, 872.3582821018573, 2209.912812644734, 801.7932388346015, 1032.35290795209, 1065.238159116651, 750.7579728262407, 335.2771632116908, 919.4485493851306, 595.624799770849, 281.51474685078705, 828.7327719333025, 381.72746695993163, 351.97165873995084, 344.1843765539653, 345.22159695547447, 409.9675393742411, 724.8602060489158, 884.1212338508074, 2740.8893731725066, 1053.8039083632789, 400.2043876847989, 1521.6344121623733, 4064.747280818872, 4827.623033920903, 973.4271721008389, 1130.4947759206138, 2155.396323162819, 578.7003993371962, 3781.080787447059, 1262.0913083582159, 3980.1690084091765, 1633.88005576624, 917.4326469000011, 2291.8915692460723, 1928.596100102506, 1534.0244148845695, 3135.507966960507, 2228.3735959477535, 2536.8636851694623, 1747.9044712547834, 2948.280393493278, 2189.925616040002, 2035.6373364337157, 1692.2742786163801, 1885.2708690180004, 1605.086119662569, 2057.384073429177, 1848.9757136114736, 1552.999075340256, 1614.507807262587, 1666.2417417482577, 1709.9883647675044, 1761.7658847908085, 1871.1426037890938, 1876.5547861155649, 1679.9033309256504, 1529.4917848770517, 848.6913188383239, 471.1380288426864, 449.0441632396204, 292.3989673468473, 262.2766259565507, 246.21211737693912, 220.1052097716747, 215.0843519108653, 208.0516333013328, 216.02625688668067, 196.00290234114937, 184.96086583627937, 184.96073376856918, 533.8401737443376, 176.92709424172006, 174.91897951340073, 172.88965235981172, 160.85837622052952, 329.69865361555173, 425.5931186277151, 142.78590388549406, 140.77724267114394, 137.76671019274056, 136.75604900212096, 131.7418223259761, 126.72124824423179, 125.71711885441623, 125.71711885441623, 123.7088232825148, 1140.8682739872343, 396.482529015604, 282.9507091748973, 338.89576313942683, 245.44972053967066, 313.14086567928496, 845.0334158283815, 782.8479972416503, 859.2469505884395, 378.7687779564651, 356.2119484278319, 361.88200608666716, 392.1721309933071, 727.1631914928581, 636.8449036448338, 539.6789621032649, 446.6982734043127, 526.439183757188, 350.41404734337345, 349.72814424193217, 2204.788957998411, 1011.2820282993674, 549.6006845055127, 528.7992137318897, 591.7892520582404, 662.8084657204905, 1239.2386735715224, 1209.901651130338, 886.5374052089159, 700.0013956641361, 556.6698868959744, 1017.9671175722032, 1847.7473875893495, 887.8892130543529, 725.5958840635528, 953.9019069822542, 789.8018526990886, 576.0422342751632, 968.5895468690524, 2062.112455514381, 1421.237286989946, 661.283766378325, 1379.8794031618086, 1112.610600709786, 829.8660556011303, 1299.2553621297989, 811.9641269432748, 900.8524456391665, 1156.6211541216219, 1096.8669622498433, 1183.8946662488827, 1092.1616807949179, 1016.5208900259381, 956.2194807987481, 1000.5744525459497, 927.9783344305762, 928.3823827451013, 901.4084449175625, 859.7025890516414, 562.427984789764, 796.8131270237187, 507.65494755821277, 346.49277373496506, 297.73287715243566, 282.80562133764045, 264.89451213533727, 226.08573560246947, 203.1980647993104, 1198.3485238443445, 230.87645576002296, 180.3112747180165, 170.36035929259288, 281.1988937049222, 194.04852173135757, 155.43293863621992, 148.4670743055139, 147.47351436148398, 147.47167579665788, 145.48215798543538, 141.499577476453, 141.49959476696284, 139.50864460586305, 131.54973025944244, 127.5714312654146, 128.5592556279589, 124.5843509812299, 124.5828455120315, 120.60552675697501, 118.6107524440314, 798.9731999116683, 2093.3148022785404, 263.78983556471377, 553.3490444619551, 1665.7408751998598, 2404.7405172093877, 605.1030265813279, 548.3642357933563, 449.66858952743814, 619.1349844479041, 270.2152034577322, 293.78119432166744, 233.61167947488423, 363.03156467978204, 291.60186800985224, 1552.6723877206841, 841.0906719739564, 506.7845540778135, 940.281404823966, 449.09717082899283, 341.90682117528763, 2286.113109449355, 714.3462911480132, 456.24560508446785, 1317.6525360551157, 3076.406513053177, 557.8507942711195, 577.9384503411787, 475.40869867999817, 1807.0152730779384, 2721.37999354187, 1112.5191066436753, 1223.4423535948388, 1536.2111092291968, 2110.084527048645, 1922.7515162899012, 1287.7383223996399, 1678.7308946615078, 1404.3986559216407, 1131.7503593854826, 1249.3053403438194, 1687.8483332698797, 1245.5674692483376, 986.2097202217863, 1241.9820122119354, 1140.60694851347, 1219.0168784743094, 1290.822289144714, 1150.4407824206846, 1076.774896144676, 1081.0949265723737, 1050.6163612732598, 3257.3941396150344, 1057.77581455779, 1016.5357953431893, 573.6616900668893, 553.0257892141416, 411.6408869416005, 402.80096288298915, 332.10043280348566, 282.99566057159467, 267.2916464457074, 256.48598411288714, 251.58013889003428, 212.29855819367714, 190.69029450605137, 183.82456691656202, 174.9854657609838, 167.1305436670731, 150.4108259707166, 145.52598551575753, 144.5423205805386, 141.59822467789013, 141.5970895992914, 138.6520018927096, 138.65120052900525, 121.96051823211825, 124.86126500864974, 118.02963970480248, 117.04887319366688, 116.06838263379863, 112.1404553276383, 1357.4481500684394, 837.4445077622452, 455.1355547492297, 329.6950383592199, 166.47205514064171, 405.42376300919324, 329.02916707947713, 1923.091059551107, 728.8893666120447, 376.24009165116246, 353.8828724060479, 382.36951217437115, 466.5644724502919, 378.0451518226579, 359.279351102848, 1365.2375322138178, 1147.146231598411, 713.7353914366782, 2131.925864068371, 591.2959286668302, 329.4648092590563, 501.81254895049176, 696.665487183885, 650.234588780126, 2182.4276510336367, 648.4379978716191, 896.1705595321206, 1252.6339761278327, 2493.9361750991666, 713.5923587556899, 1169.6106807243966, 1724.3876293667581, 943.4279218936456, 744.5324496784276, 666.5886798200337, 1326.1487780164653, 1311.0550891375226, 1839.8358631020822, 1502.9214012735126, 1506.5662513235795, 1026.8267641492787, 973.5336598889801, 1122.0186447144292, 816.3561161999673, 1164.01089111545, 987.4356476572896, 1018.1063149346686, 961.7702216426278, 967.0611355059785, 921.1508471454017, 941.1871542128594, 627.0968160109546, 468.614917410871, 432.50689460495516, 325.121149022479, 262.99345769855273, 200.80669306405647, 184.75765738613893, 164.69436474516002, 159.65957422765865, 148.64353287313236, 135.609576268658, 125.57959626736428, 126.57231744372301, 103.50933836974235, 100.50354804298458, 95.48859118148935, 94.4854464943221, 94.48453652964591, 187.9541765760314, 92.4794488672156, 91.47461116026317, 228.46528391845752, 82.43915082053343, 80.44225841851153, 80.43312461908842, 77.4258224535394, 72.41728234222678, 72.4037558854861, 69.40907877971576, 69.4089829187603, 531.6810084371438, 606.7941525943694, 2063.446355511507, 193.6241971432476, 497.7107870734487, 3279.75852734185, 801.9299984870265, 239.56152988165402, 161.3775727520996, 548.8235998075593, 326.11759972250906, 688.7579785989336, 179.34578915383995, 159.8614055136632, 2488.945729972501, 877.8043341947582, 291.8718018602015, 326.17938753562527, 862.2977142591787, 518.5953140214154, 356.75463410278707, 830.5109685817039, 457.2337432406668, 1122.8773668988954, 897.8673971597104, 2088.6556152486314, 833.4535288227095, 1559.2108845745845, 973.0558076532058, 1187.7218517239241, 812.3725169060291, 664.3055533382397, 703.8240469998481, 1042.5957168854081, 970.1716727653333, 762.4181357174987, 899.5405058737445, 1173.215158046902, 1804.1597368527193, 1072.5164446894337, 1188.1206686776022, 865.3259475177201, 932.628488178, 1372.281070639421, 1196.854927297502, 1087.0766952364017, 875.5014000055612, 993.1715964861974, 894.8107744988399, 1020.2694111453239, 978.1452850159164, 893.9021061561947, 880.7416581907593], \"Term\": [\"maxaxaxaxaxaxaxaxaxaxaxaxaxaxaxn\", \"file\", \"god\", \"window\", \"imag\", \"game\", \"program\", \"drive\", \"car\", \"key\", \"govern\", \"use\", \"system\", \"christian\", \"team\", \"email\", \"chip\", \"armenian\", \"card\", \"comput\", \"softwar\", \"run\", \"encrypt\", \"disk\", \"version\", \"player\", \"scsi\", \"jesu\", \"avail\", \"play\", \"jesu\", \"bibl\", \"god\", \"atheist\", \"godn\", \"scriptur\", \"cathol\", \"vers\", \"worship\", \"marriag\", \"atheism\", \"prophet\", \"satan\", \"biblic\", \"jehovah\", \"psalm\", \"clhn\", \"gospel\", \"christ\", \"luke\", \"pope\", \"testament\", \"divin\", \"unto\", \"immor\", \"lebanes\", \"theist\", \"theism\", \"quran\", \"homosexu\", \"christian\", \"sin\", \"church\", \"moral\", \"belief\", \"holi\", \"religion\", \"lord\", \"doctrin\", \"faith\", \"evil\", \"gay\", \"heaven\", \"etern\", \"sexual\", \"truth\", \"argument\", \"believ\", \"evid\", \"sex\", \"word\", \"say\", \"peopl\", \"love\", \"life\", \"mean\", \"religi\", \"think\", \"claim\", \"dont\", \"reason\", \"accept\", \"thing\", \"thatn\", \"person\", \"know\", \"see\", \"make\", \"point\", \"like\", \"ofn\", \"even\", \"seem\", \"way\", \"question\", \"ton\", \"right\", \"read\", \"writesn\", \"mani\", \"articl\", \"want\", \"time\", \"get\", \"andn\", \"armenian\", \"turkish\", \"armenia\", \"batf\", \"troop\", \"militia\", \"ottoman\", \"azeri\", \"adl\", \"azerbaijani\", \"spacecraft\", \"atf\", \"istanbul\", \"azerbaijan\", \"turk\", \"hiv\", \"serdar\", \"secretari\", \"venu\", \"civilian\", \"villag\", \"gaza\", \"tartar\", \"ohanu\", \"survivor\", \"argicn\", \"appressian\", \"melkonian\", \"sahak\", \"exterminationn\", \"presid\", \"turkey\", \"massacr\", \"cancer\", \"assault\", \"myer\", \"isra\", \"fbi\", \"arab\", \"firearm\", \"soviet\", \"congress\", \"palestinian\", \"weapon\", \"health\", \"militari\", \"fund\", \"feder\", \"soldier\", \"armi\", \"govern\", \"israel\", \"orbit\", \"russian\", \"clinton\", \"polic\", \"gun\", \"nation\", \"war\", \"arm\", \"polici\", \"american\", \"state\", \"fire\", \"drug\", \"report\", \"countri\", \"medic\", \"kill\", \"peopl\", \"year\", \"offic\", \"right\", \"said\", \"public\", \"ofn\", \"space\", \"law\", \"andn\", \"new\", \"time\", \"also\", \"work\", \"first\", \"ton\", \"two\", \"could\", \"well\", \"univers\", \"hockey\", \"bike\", \"basebal\", \"playoff\", \"nhl\", \"leaf\", \"pitcher\", \"espn\", \"coach\", \"player\", \"detroit\", \"hitter\", \"puck\", \"brake\", \"honda\", \"cub\", \"bruin\", \"det\", \"sox\", \"inning\", \"shark\", \"bo\", \"runner\", \"sabr\", \"goali\", \"quebec\", \"mustang\", \"chi\", \"gant\", \"philli\", \"fan\", \"car\", \"motorcycl\", \"score\", \"team\", \"game\", \"season\", \"ride\", \"pitch\", \"dod\", \"clutch\", \"bmw\", \"wheel\", \"toronto\", \"cup\", \"play\", \"hit\", \"blue\", \"win\", \"leagu\", \"ball\", \"year\", \"guy\", \"insur\", \"last\", \"get\", \"night\", \"watch\", \"red\", \"good\", \"like\", \"got\", \"back\", \"look\", \"dont\", \"think\", \"writesn\", \"time\", \"well\", \"realli\", \"first\", \"know\", \"much\", \"better\", \"articl\", \"take\", \"see\", \"make\", \"new\", \"even\", \"also\", \"could\", \"maxaxaxaxaxaxaxaxaxaxaxaxaxaxaxn\", \"encrypt\", \"scsi\", \"clipper\", \"mhz\", \"ide\", \"floppi\", \"escrow\", \"pgp\", \"simm\", \"bio\", \"motherboard\", \"crypto\", \"jumper\", \"irq\", \"quadra\", \"connector\", \"ethernet\", \"decrypt\", \"voltag\", \"centri\", \"rsa\", \"nec\", \"cipher\", \"dma\", \"eisa\", \"encryptionn\", \"ripem\", \"mb\", \"nubu\", \"chip\", \"tttn\", \"modem\", \"circuit\", \"amp\", \"serial\", \"cpu\", \"key\", \"devic\", \"upgrad\", \"nsa\", \"meg\", \"wire\", \"pin\", \"privaci\", \"card\", \"disk\", \"monitor\", \"drive\", \"appl\", \"de\", \"port\", \"mac\", \"board\", \"system\", \"instal\", \"phone\", \"comput\", \"use\", \"driver\", \"bit\", \"work\", \"control\", \"machin\", \"secur\", \"problem\", \"need\", \"get\", \"know\", \"like\", \"run\", \"anyon\", \"also\", \"data\", \"dont\", \"new\", \"make\", \"could\", \"ton\", \"want\", \"time\", \"jpeg\", \"gif\", \"widget\", \"motif\", \"postscript\", \"xterm\", \"openwindow\", \"char\", \"bitmap\", \"tiff\", \"xview\", \"colormap\", \"imagesn\", \"quicktim\", \"xlib\", \"pixmap\", \"bmp\", \"uuencod\", \"toolkit\", \"quantiz\", \"filenam\", \"pixel\", \"njxp\", \"siggraph\", \"slpittedu\", \"borland\", \"mswindow\", \"ftpn\", \"raytrac\", \"formatsn\", \"font\", \"ttn\", \"imag\", \"sharewar\", \"directori\", \"file\", \"ftp\", \"app\", \"icon\", \"entri\", \"visual\", \"server\", \"imagen\", \"polygon\", \"window\", \"graphic\", \"client\", \"filen\", \"display\", \"anonym\", \"compil\", \"format\", \"librari\", \"version\", \"applic\", \"program\", \"color\", \"email\", \"mail\", \"avail\", \"user\", \"packag\", \"code\", \"list\", \"softwar\", \"copi\", \"send\", \"pleas\", \"use\", \"includ\", \"run\", \"thank\", \"inform\", \"get\", \"also\", \"look\", \"set\", \"system\", \"post\", \"know\", \"like\", \"need\", \"ton\"], \"Total\": [3258.0, 3507.0, 4101.0, 3006.0, 2135.0, 2504.0, 3121.0, 2624.0, 2130.0, 2081.0, 2653.0, 6873.0, 4348.0, 2245.0, 1718.0, 2499.0, 1369.0, 1530.0, 1532.0, 2264.0, 1656.0, 3297.0, 1058.0, 1278.0, 1502.0, 1203.0, 1017.0, 1493.0, 1966.0, 1859.0, 1493.6163111515525, 982.9567595029889, 4101.080805397683, 520.5089716974609, 430.97132421013856, 410.3087508410164, 369.96854900801543, 317.8192835904687, 252.8799024550721, 252.8809989653392, 222.37801212685204, 214.50660691566702, 201.71555039979467, 191.87619140253685, 187.940437015701, 176.13327747728292, 175.14936139016973, 172.19758201411804, 824.6073802966715, 165.31008052321883, 163.34227005625138, 161.3743259027009, 174.1670849610561, 157.4385989967454, 138.7439747013352, 155.4729897885831, 134.80819342959043, 132.84032921931725, 132.8403425916705, 877.7685595510711, 2245.9933587119554, 807.9085955546796, 1043.17631871666, 1083.672027723329, 761.7194752612666, 337.5140600645659, 950.1033521748874, 612.3237194234297, 285.4085439015546, 860.3385562003718, 392.80145768144934, 361.2835032036914, 354.37123872736447, 356.3318031064512, 428.3737325696136, 784.208016472307, 988.6689992799567, 3611.509524006462, 1297.6492056555103, 428.4803727279986, 1991.7054474372842, 6295.612161937592, 8052.872054492749, 1211.0647550364624, 1454.2451057406338, 3254.457766327668, 664.8969586563902, 7262.777488519737, 1811.698243944806, 8372.036498162386, 2671.5138051648837, 1236.4532295192053, 4424.942786378833, 3610.405223327748, 2676.0974600175878, 7927.360114764371, 4817.989915191764, 6213.405566634765, 3418.438376210706, 8952.025063060122, 5223.0945104803095, 4711.514050423758, 3472.3655575360835, 4562.619192289351, 3238.0524555829516, 5757.231183178095, 4606.045006533447, 3114.9842626189084, 3585.0036202752526, 3942.882067182907, 4288.69604859545, 4888.475924904768, 6200.35258255754, 8844.366021892598, 5091.624632010637, 1530.286412123299, 849.4850317787163, 471.931461901083, 449.84050603074695, 293.1959264278746, 263.0719986980453, 247.00591661822153, 220.89849974053888, 215.87784219624683, 208.84886702919317, 216.88140161166663, 196.79927971342175, 185.75388996736982, 185.75388836478126, 536.1941831248179, 177.7208295669776, 175.712564640181, 173.70387587933845, 161.6547069085102, 331.33568347493747, 427.72226602552894, 143.5803247904478, 141.5720528213199, 138.559693921617, 137.55544430878314, 132.5349012549481, 127.51424338479138, 126.51011158902813, 126.51011158902813, 124.50184734972987, 1158.5068567316052, 400.5691777846069, 285.1358202182178, 342.3621088890467, 247.97456112642675, 317.26489827033095, 865.1543320302559, 807.779400908312, 891.0224777863168, 386.43933780880644, 363.35487737535357, 370.3573584813361, 403.435541229062, 764.658807626706, 668.3244074813399, 563.8707694640808, 464.7182621223564, 556.6459098078305, 362.2682480090735, 363.32052979437475, 2653.2883263175654, 1172.5389013376855, 598.0255116223084, 574.8811122292449, 665.2575499944764, 759.5526961965945, 1625.0525896642582, 1580.388581285622, 1104.29484602629, 836.7568589145017, 637.2207919688798, 1392.6927710712516, 3115.1964072545334, 1190.024032996722, 920.8032217978428, 1441.489801942927, 1103.7764197871159, 688.5579504789234, 1736.8868295292884, 8052.872054492749, 4600.893551647699, 919.0574211103635, 4606.045006533447, 3114.719774311438, 1594.789085337213, 5223.0945104803095, 1582.625165787925, 2341.208808666052, 5091.624632010637, 4561.9169202005405, 6200.35258255754, 5998.585930923349, 5080.435928480077, 3830.128880532647, 5757.231183178095, 3838.209817029749, 4944.907224782558, 4645.824517847628, 2509.8640943164037, 563.224309485138, 798.0628720424428, 508.49366011192706, 347.28793030330854, 298.52810037204773, 283.6016178133372, 265.68984601261104, 226.88100226491076, 203.99373623104927, 1203.0977951843695, 231.85815493271494, 181.10646712360162, 171.15548001353315, 282.6001731296479, 195.03937175024203, 156.22901430122738, 149.26330441935437, 148.26821935961385, 148.2682274805536, 146.27801959266603, 142.29760859309073, 142.29764232259083, 140.30742340062835, 132.34664446814057, 128.3662483337011, 129.36128904195525, 125.38095160355128, 125.38097505418469, 121.40055619689387, 119.41031072819979, 805.0464710291398, 2130.5198197575564, 265.67822391596013, 562.3021813146898, 1718.001277062736, 2504.1940815939797, 619.0409640113994, 562.1002373472626, 460.59610677565763, 639.721774708494, 274.6050075317937, 302.55379753891526, 239.763594250187, 383.282157819824, 304.38090760081076, 1859.2892039012786, 972.0338665823159, 585.7278023457403, 1195.6672959668392, 511.02391363497026, 376.06846456658127, 4600.893551647699, 1058.3500944780549, 569.1483907498247, 2589.5352983419366, 8844.366021892598, 779.2928384313317, 824.1145522516465, 617.8809296499329, 4734.53298135978, 8952.025063060122, 2342.35185551897, 2890.170402945823, 4538.772673619556, 8372.036498162386, 7262.777488519737, 3585.0036202752526, 6200.35258255754, 4645.824517847628, 3041.949244037924, 3830.128880532647, 7927.360114764371, 3987.4024415522645, 2345.9891709937647, 4288.69604859545, 3872.4893048718345, 4817.989915191764, 6213.405566634765, 4561.9169202005405, 4711.514050423758, 5998.585930923349, 4944.907224782558, 3258.191378890078, 1058.5764366534574, 1017.333609169674, 574.4647676681403, 553.8437264874484, 412.43948972449977, 403.6018053569327, 332.8998585311, 283.80143120754394, 268.0897536812659, 257.28814025700683, 252.37821881452038, 213.09941649871007, 191.49612748609306, 184.62221375020025, 175.78450076148218, 167.9287145954018, 151.23577351098962, 146.32537419566373, 145.34342880267874, 142.3974912653305, 142.39750655190173, 139.4515804906685, 139.45160009059313, 122.7580394762461, 125.70496998379406, 118.83021018474298, 117.84822108609937, 116.86621758720648, 112.93833605816256, 1369.0098692990655, 844.5900152498506, 459.6552971230943, 332.9541071124778, 167.9375193472794, 416.58498014769003, 336.97785863366164, 2081.953895265121, 766.6950128814411, 389.12600357722425, 367.55286864755107, 399.02488741025246, 491.41764208448916, 395.0243189994292, 375.46405592925646, 1532.9658607879182, 1278.3299352656704, 779.1344474479185, 2624.1758990954113, 669.8421876953714, 345.00890167214123, 568.9928553118328, 910.8519245331499, 844.9260700215676, 4348.43637684633, 857.5575083221212, 1368.166944221507, 2264.080899596581, 6873.368488940618, 1084.4006079741962, 2478.7199430724904, 5080.435928480077, 1879.032920358758, 1235.2772817729356, 1030.8042086697626, 3885.591267703046, 4262.268249042636, 8844.366021892598, 7927.360114764371, 8952.025063060122, 3297.7163977507407, 3501.244405779464, 5998.585930923349, 1926.9228403780253, 8372.036498162386, 4561.9169202005405, 6213.405566634765, 4944.907224782558, 5757.231183178095, 4888.475924904768, 6200.35258255754, 627.8899813467867, 469.41055436996123, 433.30133043705024, 325.9753937648, 263.78854416038985, 201.6004510483108, 185.55189368757766, 165.4911806445412, 160.47557754222137, 149.44261487754918, 136.4032319010897, 126.37289840727425, 127.37590212295919, 104.30608211233086, 101.29704041704338, 96.28187328983272, 95.27883875047502, 95.27882380739625, 189.5469129841539, 93.27277103219065, 92.26971330970458, 230.658456931136, 83.24235207451173, 81.23635786246741, 81.23628241405653, 78.22709285974499, 73.21206074109654, 73.21178142321722, 70.20297787124699, 70.2029721950266, 541.4368002159409, 618.7657024311624, 2135.7355203516263, 196.5397765190336, 510.28237123687813, 3507.479001029144, 838.7572835473235, 244.63905097901153, 164.43961228770732, 573.6123763159509, 338.7728601610043, 733.2737949184359, 183.54952103213853, 163.42572883270375, 3006.644573473478, 1001.4036416910889, 310.78217887712134, 351.58824412637034, 1005.6869140179423, 586.3532298598943, 393.7910557288564, 1026.597399480696, 527.2321463062528, 1502.4630957403663, 1164.4835639943205, 3121.4977878115296, 1099.2320718968567, 2499.7253440847826, 1413.9343381279864, 1966.6469582944687, 1204.0632638122217, 929.4533507904065, 1031.37593389294, 1837.8086389137627, 1656.6815239094142, 1176.572581063448, 1577.3241932303117, 2780.965618723262, 6873.368488940618, 2587.2535196415847, 3297.7163977507407, 1909.2299736638784, 2486.988142579028, 8844.366021892598, 5998.585930923349, 4538.772673619556, 2298.548608011207, 4348.43637684633, 3165.4042204660736, 7927.360114764371, 8952.025063060122, 4262.268249042636, 5757.231183178095], \"loglift\": [30.0, 29.0, 28.0, 27.0, 26.0, 25.0, 24.0, 23.0, 22.0, 21.0, 20.0, 19.0, 18.0, 17.0, 16.0, 15.0, 14.0, 13.0, 12.0, 11.0, 10.0, 9.0, 8.0, 7.0, 6.0, 5.0, 4.0, 3.0, 2.0, 1.0, 1.2448, 1.2445, 1.2445, 1.2438, 1.2435, 1.2434, 1.2431, 1.2428, 1.2422, 1.242, 1.2418, 1.2416, 1.2414, 1.2412, 1.2411, 1.2408, 1.2408, 1.2407, 1.2405, 1.2405, 1.2404, 1.2404, 1.2403, 1.2403, 1.2396, 1.2395, 1.2394, 1.2393, 1.2393, 1.2392, 1.2292, 1.2378, 1.2349, 1.2282, 1.2309, 1.2387, 1.2126, 1.2177, 1.2316, 1.2079, 1.2168, 1.2192, 1.2162, 1.2137, 1.2014, 1.1667, 1.1336, 0.9695, 1.0372, 1.1771, 0.9761, 0.8078, 0.7337, 1.0269, 0.9935, 0.8333, 1.1065, 0.5926, 0.8839, 0.5018, 0.7537, 0.9469, 0.5875, 0.6183, 0.6889, 0.3178, 0.4743, 0.3496, 0.5746, 0.1347, 0.3761, 0.4061, 0.5266, 0.3615, 0.5436, 0.2163, 0.3326, 0.5493, 0.4476, 0.384, 0.3259, 0.2248, 0.0473, -0.305, 0.1365, 1.572, 1.5716, 1.5708, 1.5707, 1.5698, 1.5695, 1.5693, 1.5689, 1.5688, 1.5687, 1.5685, 1.5684, 1.5682, 1.5682, 1.5681, 1.568, 1.568, 1.5678, 1.5676, 1.5675, 1.5675, 1.567, 1.5669, 1.5668, 1.5667, 1.5665, 1.5663, 1.5662, 1.5662, 1.5661, 1.5572, 1.5622, 1.5648, 1.5623, 1.5623, 1.5594, 1.549, 1.5411, 1.5362, 1.5524, 1.5526, 1.5493, 1.5442, 1.5222, 1.5243, 1.5286, 1.533, 1.5167, 1.5392, 1.5344, 1.3873, 1.4245, 1.4881, 1.4889, 1.4555, 1.4363, 1.3015, 1.3054, 1.3529, 1.394, 1.4374, 1.2591, 1.0502, 1.2796, 1.3342, 1.1596, 1.2378, 1.3941, 0.9885, 0.2102, 0.3978, 1.2433, 0.3671, 0.5431, 0.9193, 0.1812, 0.9051, 0.6174, 0.0904, 0.1472, -0.0833, -0.1309, -0.0365, 0.1848, -0.1774, 0.1527, -0.1002, -0.0673, 0.5011, 1.5932, 1.593, 1.5929, 1.5923, 1.5919, 1.5918, 1.5916, 1.5911, 1.5907, 1.5906, 1.5903, 1.5902, 1.5899, 1.5896, 1.5895, 1.5895, 1.5892, 1.5892, 1.5892, 1.5891, 1.5889, 1.5889, 1.5889, 1.5885, 1.5884, 1.5883, 1.5882, 1.5882, 1.588, 1.5878, 1.587, 1.5769, 1.5874, 1.5785, 1.5637, 1.554, 1.5718, 1.5698, 1.5706, 1.5619, 1.5784, 1.5651, 1.5686, 1.5403, 1.5517, 1.4143, 1.4499, 1.4498, 1.3543, 1.4654, 1.4993, 0.8952, 1.2015, 1.3735, 0.9189, 0.5385, 1.2603, 1.2397, 1.3324, 0.6314, 0.4038, 0.85, 0.7349, 0.5112, 0.2164, 0.2656, 0.5707, 0.288, 0.3982, 0.6058, 0.4743, 0.0477, 0.431, 0.728, 0.3553, 0.3722, 0.2203, 0.0231, 0.217, 0.1185, -0.119, 0.0456, 1.8364, 1.8359, 1.8359, 1.8353, 1.8352, 1.8347, 1.8347, 1.8343, 1.8338, 1.8337, 1.8336, 1.8335, 1.8329, 1.8325, 1.8324, 1.8321, 1.8319, 1.8312, 1.8312, 1.8312, 1.8311, 1.831, 1.8309, 1.8309, 1.8302, 1.8299, 1.8299, 1.8299, 1.8298, 1.8296, 1.8282, 1.8282, 1.8268, 1.8268, 1.8279, 1.8095, 1.8128, 1.7573, 1.7861, 1.803, 1.7988, 1.794, 1.7848, 1.7927, 1.7926, 1.7208, 1.7284, 1.749, 1.6289, 1.712, 1.7906, 1.711, 1.5686, 1.5748, 1.1473, 1.5572, 1.4136, 1.2448, 0.8229, 1.4182, 1.0856, 0.7562, 1.1477, 1.3304, 1.4008, 0.7617, 0.6577, 0.2666, 0.1738, 0.0546, 0.6699, 0.5567, 0.1603, 0.9779, -0.1363, 0.3063, 0.0279, 0.1993, 0.0527, 0.1677, -0.0485, 1.9486, 1.9482, 1.948, 1.9473, 1.9469, 1.9459, 1.9456, 1.9451, 1.9448, 1.9445, 1.944, 1.9436, 1.9435, 1.9422, 1.942, 1.9416, 1.9415, 1.9415, 1.9414, 1.9413, 1.9412, 1.9403, 1.9402, 1.9401, 1.9399, 1.9396, 1.939, 1.9388, 1.9385, 1.9385, 1.9317, 1.9303, 1.9154, 1.9349, 1.9249, 1.8827, 1.905, 1.9289, 1.9311, 1.9057, 1.9118, 1.8872, 1.9267, 1.9278, 1.7609, 1.8181, 1.8871, 1.8749, 1.7961, 1.8271, 1.8511, 1.7379, 1.8074, 1.6587, 1.6899, 1.5481, 1.6731, 1.4779, 1.5762, 1.4456, 1.5564, 1.614, 1.5678, 1.383, 1.4148, 1.516, 1.3883, 1.0868, 0.6123, 1.0693, 0.929, 1.1585, 0.9691, 0.0866, 0.3381, 0.5207, 0.9846, 0.4732, 0.6865, -0.1004, -0.2641, 0.3879, 0.0724], \"logprob\": [30.0, 29.0, 28.0, 27.0, 26.0, 25.0, 24.0, 23.0, 22.0, 21.0, 20.0, 19.0, 18.0, 17.0, 16.0, 15.0, 14.0, 13.0, 12.0, 11.0, 10.0, 9.0, 8.0, 7.0, 6.0, 5.0, 4.0, 3.0, 2.0, 1.0, -5.9537, -6.3723, -4.9439, -7.0088, -7.1979, -7.2471, -7.3509, -7.5031, -7.7323, -7.7325, -7.8613, -7.8975, -7.9592, -8.0094, -8.0302, -8.0954, -8.101, -8.1181, -6.552, -8.1591, -8.1711, -8.1833, -8.1071, -8.2081, -8.3352, -8.2215, -8.3642, -8.3789, -8.3789, -6.4909, -5.5614, -6.5752, -6.3225, -6.2911, -6.641, -7.4471, -6.4383, -6.8725, -7.6219, -6.5422, -7.3174, -7.3985, -7.4209, -7.4179, -7.246, -6.6761, -6.4775, -5.346, -6.3019, -7.2701, -5.9345, -4.952, -4.78, -6.3812, -6.2317, -5.5863, -6.9013, -5.0243, -6.1215, -4.973, -5.8634, -6.4405, -5.5249, -5.6975, -5.9264, -5.2115, -5.553, -5.4234, -5.7959, -5.2731, -5.5704, -5.6435, -5.8282, -5.7202, -5.8811, -5.6329, -5.7397, -5.9141, -5.8753, -5.8437, -5.8178, -5.788, -5.7278, -5.7249, -5.8356, -5.6022, -6.1912, -6.7798, -6.8278, -7.2568, -7.3655, -7.4287, -7.5408, -7.5639, -7.5971, -7.5595, -7.6568, -7.7148, -7.7148, -6.6548, -7.7592, -7.7706, -7.7823, -7.8544, -7.1367, -6.8814, -7.9736, -7.9877, -8.0094, -8.0167, -8.0541, -8.0929, -8.1009, -8.1009, -8.117, -5.8954, -6.9523, -7.2896, -7.1092, -7.4318, -7.1883, -6.1955, -6.272, -6.1789, -6.998, -7.0594, -7.0436, -6.9632, -6.3458, -6.4784, -6.6439, -6.833, -6.6688, -7.0758, -7.0778, -5.2365, -6.0159, -6.6257, -6.6643, -6.5518, -6.4384, -5.8127, -5.8366, -6.1476, -6.3838, -6.613, -6.0094, -5.4132, -6.1461, -6.3479, -6.0744, -6.2631, -6.5787, -6.0591, -5.3034, -5.6756, -6.4407, -5.7052, -5.9205, -6.2137, -5.7654, -6.2355, -6.1316, -5.8817, -5.9347, -5.8584, -5.939, -6.0108, -6.0719, -6.0266, -6.1019, -6.1015, -6.131, -6.1783, -6.5806, -6.2322, -6.6831, -7.065, -7.2167, -7.2681, -7.3335, -7.4919, -7.5987, -5.8242, -7.471, -7.7182, -7.7749, -7.2738, -7.6447, -7.8666, -7.9125, -7.9192, -7.9192, -7.9328, -7.9606, -7.9606, -7.9747, -8.0335, -8.0642, -8.0565, -8.0879, -8.0879, -8.1203, -8.137, -6.2295, -5.2664, -7.3377, -6.5969, -5.4948, -5.1277, -6.5075, -6.6059, -6.8043, -6.4845, -7.3136, -7.23, -7.4592, -7.0184, -7.2375, -5.5651, -6.1782, -6.6848, -6.0667, -6.8056, -7.0783, -5.1782, -6.3415, -6.7898, -5.7292, -4.8813, -6.5888, -6.5534, -6.7487, -5.4134, -5.004, -5.8985, -5.8034, -5.5758, -5.2584, -5.3513, -5.7522, -5.4871, -5.6655, -5.8813, -5.7825, -5.4816, -5.7855, -6.019, -5.7884, -5.8735, -5.8071, -5.7498, -5.865, -5.9311, -5.9271, -5.9557, -4.5821, -5.7068, -5.7466, -6.3187, -6.3553, -6.6506, -6.6723, -6.8653, -7.0253, -7.0824, -7.1237, -7.143, -7.3127, -7.4201, -7.4568, -7.506, -7.552, -7.6574, -7.6904, -7.6972, -7.7177, -7.7178, -7.7388, -7.7388, -7.867, -7.8435, -7.8998, -7.9081, -7.9166, -7.951, -5.4574, -5.9404, -6.5501, -6.8726, -7.5559, -6.6658, -6.8746, -5.109, -6.0792, -6.7405, -6.8018, -6.7244, -6.5253, -6.7357, -6.7866, -5.4517, -5.6257, -6.1002, -5.006, -6.2884, -6.8733, -6.4525, -6.1244, -6.1934, -4.9825, -6.1962, -5.8726, -5.5377, -4.8491, -6.1004, -5.6063, -5.2181, -5.8212, -6.058, -6.1686, -5.4807, -5.4922, -5.1533, -5.3556, -5.3532, -5.7365, -5.7898, -5.6479, -5.9659, -5.6111, -5.7756, -5.745, -5.802, -5.7965, -5.8451, -5.8236, -6.1164, -6.4078, -6.4879, -6.7733, -6.9854, -7.2552, -7.3385, -7.4535, -7.4845, -7.556, -7.6478, -7.7246, -7.7167, -7.9179, -7.9474, -7.9985, -8.0091, -8.0091, -7.3213, -8.0306, -8.0415, -7.1262, -8.1455, -8.17, -8.1701, -8.2082, -8.2751, -8.2753, -8.3175, -8.3175, -6.2815, -6.1494, -4.9254, -7.2916, -6.3475, -4.462, -5.8705, -7.0787, -7.4738, -6.2498, -6.7703, -6.0227, -7.3682, -7.4832, -4.7379, -5.7801, -6.8812, -6.7701, -5.7979, -6.3064, -6.6805, -5.8355, -6.4323, -5.5339, -5.7575, -4.9133, -5.832, -5.2056, -5.6771, -5.4778, -5.8576, -6.0588, -6.001, -5.6081, -5.6801, -5.921, -5.7557, -5.49, -5.0597, -5.5798, -5.4774, -5.7944, -5.7195, -5.3333, -5.4701, -5.5663, -5.7827, -5.6566, -5.7609, -5.6297, -5.6719, -5.7619, -5.7768]}, \"token.table\": {\"Topic\": [1, 2, 3, 4, 5, 2, 1, 2, 3, 4, 5, 1, 2, 3, 4, 5, 3, 4, 1, 2, 3, 4, 5, 1, 2, 4, 5, 1, 2, 3, 4, 5, 4, 5, 1, 2, 3, 4, 5, 1, 2, 4, 5, 2, 1, 2, 2, 1, 2, 3, 4, 5, 1, 2, 3, 5, 2, 2, 1, 2, 3, 5, 1, 2, 3, 4, 5, 1, 2, 2, 1, 1, 1, 2, 3, 4, 5, 2, 2, 2, 1, 2, 3, 4, 5, 1, 2, 3, 4, 5, 3, 2, 1, 2, 4, 5, 1, 2, 3, 4, 5, 1, 2, 3, 4, 5, 1, 1, 1, 3, 4, 1, 2, 3, 4, 5, 5, 1, 2, 3, 4, 5, 5, 1, 3, 5, 3, 1, 2, 3, 4, 5, 5, 1, 3, 3, 1, 2, 3, 1, 2, 3, 4, 5, 1, 2, 3, 4, 5, 1, 4, 5, 3, 1, 2, 3, 4, 1, 2, 1, 2, 3, 1, 2, 5, 4, 2, 4, 1, 2, 1, 2, 3, 4, 5, 1, 2, 4, 5, 1, 2, 3, 4, 4, 1, 3, 3, 1, 2, 4, 5, 1, 2, 3, 4, 5, 5, 1, 2, 3, 4, 5, 1, 2, 3, 4, 5, 1, 2, 4, 4, 1, 2, 3, 4, 5, 1, 2, 4, 5, 1, 2, 3, 4, 5, 1, 2, 3, 4, 5, 4, 5, 4, 3, 1, 2, 3, 1, 2, 3, 4, 5, 2, 4, 4, 3, 3, 1, 2, 4, 5, 4, 5, 4, 5, 1, 2, 3, 4, 5, 1, 4, 1, 5, 1, 3, 4, 5, 1, 2, 3, 4, 5, 1, 2, 3, 4, 5, 1, 2, 3, 4, 5, 1, 2, 4, 1, 2, 3, 4, 5, 4, 4, 1, 2, 3, 5, 4, 3, 1, 2, 3, 4, 1, 2, 3, 4, 5, 1, 2, 3, 4, 1, 2, 3, 2, 1, 2, 3, 1, 3, 4, 5, 1, 2, 4, 1, 2, 3, 4, 2, 4, 5, 2, 4, 5, 5, 1, 2, 3, 4, 1, 2, 1, 2, 3, 4, 5, 4, 4, 5, 2, 4, 5, 5, 4, 5, 5, 1, 2, 3, 4, 1, 2, 3, 4, 5, 3, 1, 2, 2, 1, 2, 3, 4, 5, 5, 3, 1, 3, 5, 1, 1, 2, 3, 4, 5, 1, 1, 2, 3, 4, 5, 1, 2, 4, 1, 4, 5, 1, 2, 3, 1, 2, 3, 4, 5, 1, 2, 3, 1, 2, 3, 1, 2, 3, 4, 5, 3, 2, 3, 1, 3, 1, 2, 3, 4, 5, 4, 1, 2, 4, 5, 2, 5, 5, 1, 1, 2, 3, 4, 5, 1, 2, 3, 4, 5, 3, 1, 2, 3, 4, 5, 1, 2, 3, 4, 4, 1, 2, 1, 2, 2, 1, 1, 5, 4, 1, 2, 3, 4, 5, 1, 2, 3, 4, 5, 1, 2, 3, 4, 5, 1, 2, 3, 4, 5, 1, 2, 3, 4, 3, 2, 3, 4, 1, 1, 2, 3, 4, 5, 1, 2, 3, 4, 5, 1, 2, 3, 4, 5, 1, 2, 3, 4, 5, 1, 2, 3, 4, 5, 1, 2, 3, 1, 2, 3, 4, 5, 1, 4, 5, 1, 2, 3, 4, 5, 1, 2, 3, 4, 5, 1, 2, 3, 4, 5, 1, 2, 3, 4, 5, 1, 1, 2, 4, 4, 1, 2, 3, 4, 5, 1, 2, 3, 5, 4, 5, 2, 4, 1, 2, 3, 4, 2, 2, 4, 5, 2, 3, 4, 5, 1, 2, 4, 5, 1, 3, 5, 1, 2, 3, 4, 5, 3, 2, 3, 1, 2, 3, 4, 5, 4, 1, 2, 3, 4, 5, 1, 2, 3, 4, 5, 3, 1, 2, 3, 5, 5, 2, 4, 4, 1, 2, 3, 4, 5, 1, 2, 3, 4, 5, 2, 5, 2, 3, 4, 5, 2, 1, 2, 3, 4, 5, 1, 2, 1, 2, 3, 4, 5, 1, 2, 3, 4, 5, 4, 3, 1, 2, 3, 4, 5, 1, 2, 4, 5, 1, 3, 4, 3, 4, 5, 5, 1, 2, 3, 4, 5, 3, 5, 3, 1, 2, 3, 4, 5, 1, 2, 3, 4, 5, 1, 2, 3, 4, 1, 2, 3, 4, 5, 4, 5, 1, 2, 4, 5, 1, 2, 3, 4, 5, 5, 1, 2, 3, 4, 2, 4, 1, 2, 3, 4, 5, 1, 2, 3, 4, 5, 1, 1, 1, 2, 3, 4, 5, 3, 4, 5, 3, 1, 2, 3, 4, 5, 5, 1, 5, 1, 2, 3, 4, 5, 1, 2, 3, 4, 5, 1, 2, 3, 4, 5, 1, 2, 3, 4, 5, 1, 2, 1, 2, 1, 2, 3, 4, 5, 1, 3, 5, 1, 2, 3, 4, 5, 4, 4, 1, 2, 3, 4, 5, 3, 1, 2, 3, 3, 2, 1, 2, 3, 4, 5, 1, 1, 2, 3, 4, 5, 2, 3, 1, 4, 1, 2, 3, 2, 1, 2, 4, 1, 2, 3, 4, 5, 1, 2, 3, 4, 5, 1, 2, 3, 4, 5, 2, 4, 5, 4, 5, 1, 2, 3, 4, 5, 1, 2, 3, 1, 2, 4, 5, 3, 5, 4, 1, 4, 5, 5, 2, 3, 4, 5, 1, 2, 4, 5, 1, 2, 3, 1, 2, 3, 4, 5, 2, 1, 2, 3, 4, 5, 2, 1, 2, 3, 4, 5, 1, 2, 3, 4, 5, 2, 2, 3, 1, 1, 2, 3, 4, 5, 1, 2, 3, 4, 5, 1, 1, 1, 2, 3, 4, 5, 1, 2, 3, 4, 5, 5, 1, 2, 3, 4, 5, 1, 2, 3, 4, 5, 4, 5, 2, 3, 5, 2, 1, 2, 3, 5, 3, 4, 5, 3, 4, 2, 5, 2, 4, 2, 1, 2, 3, 4, 5, 1, 2, 3, 4, 5, 1, 4, 5, 1, 2, 3, 4, 5, 1, 2, 4, 5, 5, 2, 1, 1, 2, 3, 4, 5, 1, 2, 2, 4, 5, 4, 1, 2, 3, 4, 5, 1, 2, 3, 5, 1, 2, 3, 4, 5, 1, 2, 3, 4, 5, 1, 2, 3, 5, 1, 2, 3, 4, 5, 1, 3, 5, 5, 1, 2, 3, 4, 5, 1, 2, 3, 4, 5, 1, 2, 3, 4, 1, 2, 3, 4, 5, 1, 2, 3, 4, 5, 1, 1, 2, 3, 4, 5, 5, 5, 5, 1, 2, 3, 4, 5], \"Freq\": [0.7416374336751705, 0.0962430257441061, 0.015366533522168201, 0.056613544555356526, 0.08896414144413169, 0.9959336160334195, 0.25105916916792165, 0.18204290354008662, 0.18020913802823593, 0.18704408220877033, 0.19954702888047957, 0.09621648276161292, 0.7309580556068802, 0.13786242306141552, 0.01723280288267694, 0.017950836336121812, 0.005954595517944336, 0.9884628559787597, 0.32995362412185186, 0.22723591851725156, 0.15437115985700928, 0.14023029025178704, 0.14828272988809416, 0.001705456624224521, 0.001705456624224521, 0.11085468057459387, 0.8851319879725265, 0.24134276333442137, 0.029418111980408758, 0.2259196755000323, 0.2781868064943508, 0.22534845002468457, 0.016350619347126123, 0.9810371608275674, 0.03582933479089054, 0.001492888949620439, 0.013436000546583952, 0.8822973692256795, 0.06718000273291976, 0.03778499015398263, 0.021468744405671945, 0.16917370591669495, 0.7711572990517364, 0.9959671690695793, 0.034791490420104036, 0.9640609764796569, 0.9959640724829217, 0.8941314035777529, 0.025286521594393464, 0.02225213900306625, 0.0030343825913272155, 0.05563034750766562, 0.04780361173482431, 0.8365632053594254, 0.11353357787020774, 0.0011950902933706078, 0.9980262771688694, 0.9991593651272679, 0.01651434341845688, 0.9633366994099848, 0.011009562278971255, 0.00825717170922844, 0.3987225908816798, 0.12894362149565433, 0.28959851337722003, 0.0969991800039642, 0.08557379582080495, 0.008065343440532696, 0.9880045714652552, 0.9959386044776909, 0.9983001371258036, 0.9990221653705583, 0.042712292435469534, 0.09406873929240313, 0.038644455060662906, 0.22017169791140842, 0.6040738501587833, 0.9959414665748435, 0.9959354961256528, 0.9959325222145273, 0.21140621998524195, 0.16262016921941688, 0.42315844033052524, 0.1380541436564837, 0.06470206732772545, 0.042545444533457474, 0.0345681736834342, 0.9094088769026535, 0.007977270850023276, 0.007977270850023276, 0.99902917154991, 0.9981315465826692, 0.9859272663895198, 0.007876915577013473, 0.003938457788506737, 0.003938457788506737, 0.7589624177314216, 0.09552792196911362, 0.07531476746550407, 0.05925500087359512, 0.011075701097868247, 0.27110099563272466, 0.06180761692884446, 0.42029179511614234, 0.14151812979569905, 0.10485981906548784, 0.9990266514841684, 0.995433558503886, 0.0012530341092560158, 0.9986681850770446, 0.9949933943487637, 0.1303091948336956, 0.009682416953587288, 0.07786276966843111, 0.47201782648738033, 0.31024077655452603, 0.9970364491001987, 0.01536549906621562, 0.010243666044143746, 0.8655897807301466, 0.06658382928693435, 0.042681941850598946, 0.9865779351716895, 0.003305197317417169, 0.9717280113206477, 0.023136381221920185, 0.9908807883151777, 0.0023670710029682807, 0.0816639496024057, 0.11361940814247748, 0.7692980759646912, 0.03313899404155593, 0.9843137100602081, 0.00353856824971311, 0.9943376781693839, 0.9915364032421182, 0.002920883982298642, 0.9901796699992397, 0.005841767964597284, 0.006571166280721639, 0.008918011380979368, 0.9823893589678852, 0.0009387380401030914, 0.0009387380401030914, 0.005870972231158594, 0.01304660495813021, 0.02674554016416693, 0.8904307883923869, 0.06392836429483803, 0.997382077447901, 0.9972085795767999, 0.9970319829574712, 0.9969614604287449, 0.0014609098479501847, 0.0007304549239750924, 0.005843639391800739, 0.9912273318342003, 0.9956253359078915, 0.0036380950154977763, 0.9839744144512533, 0.012911881456600157, 0.002671423749641412, 0.9892862610891997, 0.008627496462987208, 0.0019172214362193794, 0.9967615997930482, 0.009010250770045455, 0.9911275847050001, 0.003018087244670829, 0.9959687907413736, 0.6965839947231561, 0.18711725373308236, 0.043605495707709455, 0.05409289340956363, 0.018214953903220404, 0.9934378214054155, 0.035394564899904495, 0.02574150174538509, 0.9395648137065558, 0.08568110200398818, 0.8898809190589649, 0.006012708912560573, 0.018038126737681723, 0.9991909553130179, 0.014566376760397862, 0.9832304313268557, 0.9951285943901546, 0.10568406380065343, 0.0019391571339569438, 0.20942897046734993, 0.6825833111528442, 0.024562602102218747, 0.005458356022715277, 0.026382054109790505, 0.18467437876853354, 0.7578017611536376, 0.9970492216925145, 0.002539417758356977, 0.030473013100283726, 0.022854759825212793, 0.038091266375354656, 0.9065721397334409, 0.030917623134611823, 0.026059139499172823, 0.03886786908351201, 0.5534254541095517, 0.35113586274309144, 0.018900664020025836, 0.977434339321336, 0.0027000948600036908, 0.9944695902803794, 0.10164803284209249, 0.30973379640888915, 0.028205998642046606, 0.5018539003669802, 0.0585407518985873, 0.04334624214504771, 0.02889749476336514, 0.27962575815138624, 0.647643853226007, 0.3045557644544531, 0.1876678282959711, 0.21254190467571726, 0.19454358924647003, 0.10091190336173446, 0.22196524188046424, 0.7157246574921091, 0.04892295127161252, 0.010871766949247227, 0.002717941737311807, 0.9763252735179417, 0.020772878159956206, 0.9948408282069757, 0.9921332519012269, 0.03613892897128184, 0.0032853571792074397, 0.9593242963285724, 0.03944112260618088, 0.1032734657714473, 0.0134930156284303, 0.4234731058768894, 0.42035933303955936, 0.043477139074673384, 0.9535985837045029, 0.9977763651898909, 0.9914464518081392, 0.9962987934025268, 0.00391289880538705, 0.022173093230526617, 0.9508344097090532, 0.022173093230526617, 0.02351639146559794, 0.9759302458223145, 0.8972644450836734, 0.10247745623885024, 0.03480208354324432, 0.018892559637761205, 0.01590952390548312, 0.07358154806285944, 0.8571256004079031, 0.9932990498100311, 0.9938249300862061, 0.9880573165226255, 0.010511248048113039, 0.01719497512025824, 0.9676081454036227, 0.006252718225548451, 0.009379077338322675, 0.475392098550166, 0.04646420259698859, 0.2520294793821232, 0.13903427203828977, 0.0870755879002691, 0.03086683328961362, 0.024007537003032816, 0.1276591253335872, 0.8124455379439043, 0.00457286419105387, 0.0036886736973271612, 0.012910357940645064, 0.17982284274469912, 0.6584282549728984, 0.14570261104442286, 0.21068562251685044, 0.7884420718929558, 0.9943918686438178, 0.04080448287703583, 0.006800747146172638, 0.08040883390474707, 0.24842729281018872, 0.6236685176990083, 0.9994554605284057, 0.9930134754162913, 0.0017433375591066238, 0.015690038031959615, 0.026150063386599358, 0.9570923199495365, 0.9972969092415042, 0.99611689715703, 0.9681987321713579, 0.008419119410185721, 0.02245098509382859, 0.9918288280457678, 0.43213285118334316, 0.15196813430612657, 0.2285889394520926, 0.13456396250011765, 0.05306149940856374, 0.8122380034653276, 0.17647296280223912, 0.010788740083979684, 0.0007706242917128346, 0.9725014826950846, 0.025458153997253524, 0.0025458153997253525, 0.99596915740278, 0.9635741581328442, 0.003486999365981342, 0.03254532741582586, 0.0012421643171997752, 0.9924892894426204, 0.0012421643171997752, 0.004968657268799101, 0.0049518469962246845, 0.9693240495109819, 0.024759234981123424, 0.01437179337716111, 0.944945414548343, 0.0017964741721451388, 0.03772595761504791, 0.02195308937770037, 0.04276575852798773, 0.935144586478665, 0.008532708502397249, 0.06257319568424649, 0.9272209905938344, 0.9862391107096781, 0.138652661984058, 0.746203417223294, 0.09915766129768996, 0.01680638327079491, 0.018114097906521357, 0.9807490152245134, 0.22557987653925773, 0.24959995598556758, 0.3260986872656631, 0.08354810242194731, 0.11513972865024613, 0.9985089131194533, 0.016622438660265675, 0.9825708185845933, 0.02922275082245045, 0.16072512952347748, 0.8094701977818775, 0.9828643694502749, 0.042920640698041516, 0.9561764955508137, 0.9834482729465052, 0.00430368281820054, 0.9618731098678206, 0.03227762113650405, 0.00215184140910027, 0.0035939706375598826, 0.002395980425039922, 0.9603888203701686, 0.020365833612839335, 0.013577222408559556, 0.9967005406775548, 0.974304104335322, 0.024911184485846304, 0.9959581872286835, 0.21222549986667585, 0.0767720375117064, 0.3477920285508231, 0.20804204568709833, 0.15512700363190157, 0.9991253831722803, 0.9971468486579977, 0.9992487820787075, 0.00024383816058533614, 0.0004876763211706723, 0.9977461975876962, 0.3364640200568384, 0.04667831037825568, 0.3816638319163258, 0.14637135335805965, 0.08870991112609676, 0.9930453029589007, 0.1805877281004311, 0.08666503263448584, 0.47516345478907757, 0.17802620004226896, 0.07983429114605346, 0.08253908850680573, 0.831044247294551, 0.08630799665780144, 0.004992991628786577, 0.11783460243936322, 0.876769330014923, 0.22337738625123332, 0.7624368638161931, 0.013538023409165656, 0.21637452596717122, 0.019842205438037535, 0.6746349848932762, 0.07842395482652931, 0.010393536181829185, 0.017955352020171504, 0.953129936404104, 0.02842930736527155, 0.9707334072465639, 0.01410949719835122, 0.01410949719835122, 0.042179600330342966, 0.04526591254963635, 0.865196192141913, 0.022632956274818174, 0.0246904977543471, 0.9938905156664203, 0.9959440344233484, 0.9978262488594337, 0.9925512434531321, 0.005925679065391833, 0.9934281542801882, 0.005696262352524015, 0.9946709644267466, 0.012162519554599497, 0.9790828241452595, 0.998934414052366, 0.014983128620125932, 0.015451351389504866, 0.0032775593856525474, 0.9659435732287436, 0.02179248399836261, 0.9752136589267267, 0.9970488756766855, 0.9946377873133828, 0.1399167098437838, 0.2195378209703569, 0.06686627293639391, 0.15924222225314622, 0.4147254963049172, 0.10052319740485287, 0.2681958906761474, 0.03618835106574703, 0.22034684871143748, 0.37515257271491087, 0.9912630783748312, 0.0058305127661734246, 0.04197969191644865, 0.015159333192050903, 0.7556344544960758, 0.18074589575137615, 0.005271033088660146, 0.19151420222131862, 0.8011970294763422, 0.001757011029553382, 0.9966298001873051, 0.023117262735153903, 0.9767043505602524, 0.13645602701749576, 0.8622315207168013, 0.9959414579823752, 0.9949960900877205, 0.9995873698305575, 0.9985825839347241, 0.9974092035561968, 0.019212721324410646, 0.021133993456851713, 0.030260036085946768, 0.9236515776710419, 0.005763816397323194, 0.36674813187030303, 0.5578947249330041, 0.07139210102341849, 0.002878713750944294, 0.0017272282505665763, 0.39559196940723473, 0.07329047647500107, 0.2129334325125677, 0.18959653380710262, 0.12866830637607762, 0.1451997971376372, 0.23672200969513724, 0.5089716293282069, 0.05792545098575952, 0.05097439686746837, 0.5283595360743599, 0.3848439304793842, 0.013668152913807208, 0.0726120623546008, 0.9978786516876177, 0.11936819074884417, 0.878628158134935, 0.0019568555860466257, 0.9969577365867455, 0.02465707011811966, 0.09293818736829718, 0.0018966977013938201, 0.01327688390975674, 0.8667908495369757, 0.7770354498972175, 0.10933507657845803, 0.09558223675726835, 0.011002271856951752, 0.0061887779195353605, 0.32931096363488827, 0.08914184158095008, 0.30395357260872824, 0.1683417985745511, 0.10924902389244256, 0.11426652130883472, 0.07345704941282231, 0.15398774062095347, 0.09141321704706777, 0.5675237225005457, 0.20093537737652392, 0.08196048287726633, 0.33841747768677716, 0.1390243674611695, 0.23949205614943148, 0.973341357021413, 0.024496846233760396, 0.001633123082250693, 0.8034252470428017, 0.01156007549701873, 0.12716083046720603, 0.020642991958962017, 0.03633166584777315, 0.9981242491550582, 0.7652176838263167, 0.2349448842737902, 0.021047905910390758, 0.06800092678741629, 0.012143022640610053, 0.603103457816966, 0.29548021758817794, 0.016973914101114058, 0.0028289856835190096, 0.10184348460668434, 0.18954204079577364, 0.6881507675159991, 0.4083107038148906, 0.11088926879324384, 0.20777655444423482, 0.16383929699785518, 0.1092798454435596, 0.42253356088591215, 0.1874263514373884, 0.15825986914334284, 0.10246312040690786, 0.1293470084344629, 0.996516151988707, 0.007014201156730769, 0.9925094636774038, 0.999634343489521, 0.9925879556548487, 0.6621686790029244, 0.06913594096318236, 0.1035502760204109, 0.10385754686913616, 0.061146898896325734, 0.07987708218566787, 0.8365308970717218, 0.015975416437133575, 0.06825859750411618, 0.9573337705305871, 0.04009774955101936, 0.9959678196262663, 0.9984765982765582, 0.028375296018991844, 0.9576662406409747, 0.007093824004747961, 0.007093824004747961, 0.9959250748717056, 0.0065266298871708844, 0.9898721995542508, 0.002175543295723628, 0.0628903011033605, 0.0012834755327216427, 0.9164015303632529, 0.01925213299082464, 0.9827696690090296, 0.01661019158888501, 0.9985013809183021, 0.9970077687351341, 0.003763951690358793, 0.9936832462547213, 0.9834445209050623, 0.31499203263542397, 0.10332541197913588, 0.3124841342864158, 0.17454972509096742, 0.09454776775760734, 0.9969616468954883, 0.9865572955168304, 0.012607760965071314, 0.10060816806880238, 0.7656344865613263, 0.06390833317578012, 0.024677475186687375, 0.045558415729269, 0.9967617398879267, 0.2240591028531595, 0.09501982895866973, 0.16376256941518882, 0.30758270559213835, 0.20974747429395246, 0.14511443579093034, 0.24046908770793138, 0.25208701081506024, 0.21635641710822998, 0.1457720540800131, 0.9982309860566239, 0.11677253467794901, 0.1591186186820404, 0.7160337840691818, 0.00898250266753454, 0.9850754808874252, 0.035369061457294154, 0.9631267504524716, 0.9916916071998854, 0.03699442409041509, 0.7192151271695405, 0.054403564838845724, 0.12186398523901441, 0.0674604204001687, 0.41929166619629293, 0.2487031389904039, 0.11123673884020374, 0.12636187200436225, 0.0943884892396221, 0.9959606296335093, 0.9970256639444116, 0.919693205910186, 0.07524762593810613, 0.0016721694652912472, 0.005016508395873742, 0.9959275606350098, 0.002151802452806482, 0.15708157905487316, 0.002151802452806482, 0.1237286410363727, 0.714398414331752, 0.02726581789618391, 0.9716546013912811, 0.5995376515769213, 0.256057712831734, 0.07040966206381821, 0.04520126453479688, 0.028809597176024385, 0.573222770440475, 0.17936566480536376, 0.09229858168109344, 0.08482501231420328, 0.06987787358042297, 0.9971760846866278, 0.9965638584666802, 0.019003528852828785, 0.0942867393082659, 0.04093067752916969, 0.6548908404667151, 0.19076619348416587, 0.012657448565862156, 0.010125958852689724, 0.956903111579179, 0.020251917705379447, 0.002171099549669163, 0.9769947973511234, 0.019539895947022465, 0.997403566515755, 0.008670828837622494, 0.9884744874889644, 0.9866862448139749, 0.07260839234516848, 0.03711095608753056, 0.8352654319410864, 0.03657311614423302, 0.01828655807211651, 0.9957627757238237, 0.0033247505032514978, 0.9962914625274085, 0.23696805007698946, 0.03919501890499522, 0.0845030224098521, 0.21755033428919368, 0.4217959373904532, 0.5113445987982487, 0.09243987026329896, 0.21442539526265234, 0.07635065233772477, 0.1053112446037583, 0.05924539564579819, 0.87288216251476, 0.05002944521200736, 0.01843190086758166, 0.0455101283032464, 0.8741083263761463, 0.037663554457859086, 0.04080218399601401, 0.003138629538154924, 0.018356962648586692, 0.9790380079246236, 0.997904583693287, 0.01405993049880328, 0.8822606387999058, 0.10369198742867418, 0.4264858153886034, 0.05876026789798536, 0.12857757545419377, 0.10362025736849031, 0.28274429983170374, 0.9970106959614198, 0.006905440354983919, 0.9848884306295814, 0.007768620399356909, 0.0008631800443729898, 0.04261393267166608, 0.9561501143205076, 0.23394122988580635, 0.08518652045346743, 0.14798262616538904, 0.34126080399183634, 0.19147665020356427, 0.016658669502520138, 0.1569759241583628, 0.000640718057789236, 0.1566555651294682, 0.669230011360857, 0.9976382689421488, 0.9935657957796812, 0.1392033605202777, 0.520444996539777, 0.016303096277149643, 0.1887396915162324, 0.13544110753324318, 0.9932489452663638, 0.9955371448672449, 0.9863543130743764, 0.9972071317112643, 0.49566831359779484, 0.14545780417729678, 0.08801586876970188, 0.17232580622278473, 0.09851600750012246, 0.9970655391696025, 0.993674040767468, 0.9828642899813558, 0.4985578959857481, 0.03980758474065214, 0.085072660937684, 0.17110840860296442, 0.20545850188723683, 0.3961275824577753, 0.04437943869858894, 0.37212981190224204, 0.1393843111718645, 0.047995541111066554, 0.6116382392787788, 0.07748415883152217, 0.15384535883939907, 0.10331221177536289, 0.05352770392709019, 0.06797426168144655, 0.06959269648338574, 0.7687565309211216, 0.03398713084072327, 0.05826365286981132, 0.8708116234582137, 0.12934334994370705, 0.9672631907847831, 0.03157551221277855, 0.08255348032265272, 0.6618152960320227, 0.1047527355354669, 0.07769739324484963, 0.07284130616704652, 0.021348505484772573, 0.9749150838046141, 0.0017790421237310478, 0.40142899111434754, 0.29960627784629507, 0.17433611674679345, 0.07338182747249836, 0.05145412163012459, 0.9928024277474696, 0.997208472525066, 0.03820825832261995, 0.025168932069662343, 0.26503188709499864, 0.3114276293438943, 0.3602492927561309, 0.9978089298970978, 0.010436940564516902, 0.9201902597715736, 0.06957960376344602, 0.9973807838533904, 0.9959678196262663, 0.41865724510907937, 0.3573355167227035, 0.16983871369839185, 0.03724251566921258, 0.01733703315635758, 0.9964526760659926, 0.645687805322004, 0.09101577182029723, 0.14676888858979867, 0.08942736393512625, 0.02732061562494088, 0.014227225619675902, 0.9834569709600968, 0.999247515827085, 0.9996720749548949, 0.0032308039633434835, 0.0193848237800609, 0.9773181989114038, 0.9959478401056094, 0.021342559348288527, 0.3317797862324853, 0.6470675947867476, 0.46243351256813947, 0.06579507337706472, 0.2530100771187442, 0.07866351044134869, 0.14009991965147853, 0.48727588497352997, 0.06594927757620471, 0.1984238089519871, 0.1635772474379226, 0.08466850483582614, 0.09002588092508006, 0.06276452261678116, 0.07227429877083891, 0.20477717985071026, 0.5705865692434651, 0.9959447143598401, 0.9721905956773025, 0.026405176672716857, 0.06000487172038412, 0.9396217412578332, 0.16619183021346726, 0.1309522012938577, 0.04785628618712408, 0.2736509455609186, 0.38111006090836996, 0.9335316748660549, 0.03967509618180733, 0.02567212105881651, 0.9571081717373328, 0.04201938314944388, 0.010176057159637163, 0.9870775444848049, 0.990881023188511, 0.9847807324823626, 0.9959351162575145, 0.9926865544107463, 0.0012377637835545466, 0.006188818917772732, 0.9847816471000571, 0.007847012121752152, 0.003018081585289289, 0.40381931611170685, 0.5855078275461221, 0.01932269813451792, 0.9661349067258961, 0.008281156343364824, 0.0027603854477882745, 0.019264912722690236, 0.9797584184682464, 0.9914463975046849, 0.021483292907877385, 0.5130715835646011, 0.10425715675881672, 0.09098806408042187, 0.27043674601680945, 0.9959360203082567, 0.2359401796587734, 0.5932210231420588, 0.07415262789275735, 0.06259637419518478, 0.03402674699840814, 0.9959620332617568, 0.12579234294712333, 0.11498386009791896, 0.02874596502447974, 0.5017895654673183, 0.22835794615446706, 0.3695297487845124, 0.14254397018102785, 0.29464251807346514, 0.12136896011790414, 0.07178844875059011, 0.9959592814406535, 0.029685658957829538, 0.969731525955765, 0.9976803875052183, 0.12413381482021718, 0.05342467979604284, 0.11732478700307447, 0.25193402923428043, 0.45306223552526526, 0.5342890564018242, 0.10940600169969962, 0.16563237725676044, 0.1276864981862317, 0.06315080604438358, 0.9936741407955269, 0.9940048641775431, 0.5179727988925402, 0.05807984699624033, 0.22034183198962773, 0.13310906568399047, 0.07050938623668086, 0.5205997300587305, 0.07517785046603197, 0.2647747370809148, 0.11138989199087887, 0.0279507392758324, 0.9970382285005395, 0.3017570331828201, 0.19095688256999413, 0.2707910522255238, 0.15176556292091595, 0.08467260418010719, 0.3572898038227638, 0.17386830025599737, 0.1478141094084453, 0.16796268366388556, 0.1530249475779557, 0.005275738782850026, 0.991838891175805, 0.041744703408608426, 0.9470829585828037, 0.010436175852152106, 0.995921067381648, 0.9244996031299842, 0.04463101532351648, 0.02677860919410989, 0.0038255155991585555, 0.017777326630710837, 0.0016161206027918943, 0.9809852058946799, 0.008288044937316986, 0.9910133732191881, 0.9959078572765735, 0.003729991974818627, 0.9885932866580568, 0.007489343080742855, 0.9994290284577461, 0.19019283332585513, 0.24177938263889528, 0.2579327465652008, 0.2243233280733716, 0.08571704406055664, 0.19921397382920128, 0.3426480349862262, 0.10478655023415986, 0.1095676856060607, 0.24343947601928395, 0.9972141584113405, 0.9662679865736105, 0.03083833999703012, 0.18229780667457318, 0.10751642388867486, 0.08482012872408314, 0.36284974449033164, 0.2624622851084837, 0.006644169156586469, 0.0290682400600658, 0.2898518794560847, 0.6743831693935266, 0.986578089901893, 0.9959499669324151, 0.9974221715522952, 0.04525901514172749, 0.025957376331284886, 0.0006655737520842278, 0.18037048681482573, 0.7474393235905878, 0.004675931460347749, 0.9959734010540706, 0.0029518303193613047, 0.03542196383233566, 0.9622966841117854, 0.9976371219152605, 0.3604395372028605, 0.12457870496966063, 0.18451558601417714, 0.1884022779590434, 0.14196653735458864, 0.18654438236425105, 0.803227510471314, 0.0027166657625861805, 0.008149997287758542, 0.08251280093794042, 0.16502560187588083, 0.7013588079724935, 0.035189282752945174, 0.016987929604870083, 0.41313989192558004, 0.17599540223673252, 0.18936491598074334, 0.11988727898317894, 0.10147680104060666, 0.02877100189074137, 0.9507508352076808, 0.0013077728132155169, 0.018308819385017237, 0.3065117923695765, 0.1939375877282222, 0.3022068514655094, 0.1054710521496436, 0.09169524125662892, 0.020853874899717392, 0.975961345306774, 0.004170774979943478, 0.9993045707089191, 0.04181765292791508, 0.010872589761257921, 0.7861718750448035, 0.02007247340539924, 0.14050731383779466, 0.000665193357953004, 0.02228397749142563, 0.002660773431812016, 0.14667513542863736, 0.8278331339725133, 0.006104786932912375, 0.030523934664561877, 0.014244502843462209, 0.950311832556693, 0.764169220884719, 0.039664499638562944, 0.0476978160210567, 0.05171447421230358, 0.09690187886383099, 0.14506629162834253, 0.20017967243693943, 0.14585362563989393, 0.3393409589786466, 0.16947364598643544, 0.996520472973417, 0.4504876901284697, 0.06582978010546059, 0.3592743931179374, 0.08619238157875983, 0.03849368497692187, 0.9970676298555174, 0.9970215788447473, 0.9970438244353177, 0.11519501463149334, 0.3088530486629284, 0.4968600065048939, 0.0419483732526004, 0.036949344315762016], \"Term\": [\"accept\", \"accept\", \"accept\", \"accept\", \"accept\", \"adl\", \"also\", \"also\", \"also\", \"also\", \"also\", \"american\", \"american\", \"american\", \"american\", \"american\", \"amp\", \"amp\", \"andn\", \"andn\", \"andn\", \"andn\", \"andn\", \"anonym\", \"anonym\", \"anonym\", \"anonym\", \"anyon\", \"anyon\", \"anyon\", \"anyon\", \"anyon\", \"app\", \"app\", \"appl\", \"appl\", \"appl\", \"appl\", \"appl\", \"applic\", \"applic\", \"applic\", \"applic\", \"appressian\", \"arab\", \"arab\", \"argicn\", \"argument\", \"argument\", \"argument\", \"argument\", \"argument\", \"arm\", \"arm\", \"arm\", \"arm\", \"armenia\", \"armenian\", \"armi\", \"armi\", \"armi\", \"armi\", \"articl\", \"articl\", \"articl\", \"articl\", \"articl\", \"assault\", \"assault\", \"atf\", \"atheism\", \"atheist\", \"avail\", \"avail\", \"avail\", \"avail\", \"avail\", \"azerbaijan\", \"azerbaijani\", \"azeri\", \"back\", \"back\", \"back\", \"back\", \"back\", \"ball\", \"ball\", \"ball\", \"ball\", \"ball\", \"basebal\", \"batf\", \"belief\", \"belief\", \"belief\", \"belief\", \"believ\", \"believ\", \"believ\", \"believ\", \"believ\", \"better\", \"better\", \"better\", \"better\", \"better\", \"bibl\", \"biblic\", \"bike\", \"bike\", \"bio\", \"bit\", \"bit\", \"bit\", \"bit\", \"bit\", \"bitmap\", \"blue\", \"blue\", \"blue\", \"blue\", \"blue\", \"bmp\", \"bmw\", \"bmw\", \"bmw\", \"bo\", \"board\", \"board\", \"board\", \"board\", \"board\", \"borland\", \"brake\", \"brake\", \"bruin\", \"cancer\", \"cancer\", \"cancer\", \"car\", \"car\", \"car\", \"car\", \"car\", \"card\", \"card\", \"card\", \"card\", \"card\", \"cathol\", \"centri\", \"char\", \"chi\", \"chip\", \"chip\", \"chip\", \"chip\", \"christ\", \"christ\", \"christian\", \"christian\", \"christian\", \"church\", \"church\", \"church\", \"cipher\", \"circuit\", \"circuit\", \"civilian\", \"civilian\", \"claim\", \"claim\", \"claim\", \"claim\", \"claim\", \"clhn\", \"client\", \"client\", \"client\", \"clinton\", \"clinton\", \"clinton\", \"clinton\", \"clipper\", \"clutch\", \"clutch\", \"coach\", \"code\", \"code\", \"code\", \"code\", \"color\", \"color\", \"color\", \"color\", \"color\", \"colormap\", \"compil\", \"compil\", \"compil\", \"compil\", \"compil\", \"comput\", \"comput\", \"comput\", \"comput\", \"comput\", \"congress\", \"congress\", \"congress\", \"connector\", \"control\", \"control\", \"control\", \"control\", \"control\", \"copi\", \"copi\", \"copi\", \"copi\", \"could\", \"could\", \"could\", \"could\", \"could\", \"countri\", \"countri\", \"countri\", \"countri\", \"countri\", \"cpu\", \"cpu\", \"crypto\", \"cub\", \"cup\", \"cup\", \"cup\", \"data\", \"data\", \"data\", \"data\", \"data\", \"de\", \"de\", \"decrypt\", \"det\", \"detroit\", \"devic\", \"devic\", \"devic\", \"devic\", \"directori\", \"directori\", \"disk\", \"disk\", \"display\", \"display\", \"display\", \"display\", \"display\", \"divin\", \"dma\", \"doctrin\", \"doctrin\", \"dod\", \"dod\", \"dod\", \"dod\", \"dont\", \"dont\", \"dont\", \"dont\", \"dont\", \"drive\", \"drive\", \"drive\", \"drive\", \"drive\", \"driver\", \"driver\", \"driver\", \"driver\", \"driver\", \"drug\", \"drug\", \"eisa\", \"email\", \"email\", \"email\", \"email\", \"email\", \"encrypt\", \"encryptionn\", \"entri\", \"entri\", \"entri\", \"entri\", \"escrow\", \"espn\", \"etern\", \"etern\", \"etern\", \"ethernet\", \"even\", \"even\", \"even\", \"even\", \"even\", \"evid\", \"evid\", \"evid\", \"evid\", \"evil\", \"evil\", \"evil\", \"exterminationn\", \"faith\", \"faith\", \"faith\", \"fan\", \"fan\", \"fan\", \"fan\", \"fbi\", \"fbi\", \"fbi\", \"feder\", \"feder\", \"feder\", \"feder\", \"file\", \"file\", \"file\", \"filen\", \"filen\", \"filen\", \"filenam\", \"fire\", \"fire\", \"fire\", \"fire\", \"firearm\", \"firearm\", \"first\", \"first\", \"first\", \"first\", \"first\", \"floppi\", \"font\", \"font\", \"format\", \"format\", \"format\", \"formatsn\", \"ftp\", \"ftp\", \"ftpn\", \"fund\", \"fund\", \"fund\", \"fund\", \"game\", \"game\", \"game\", \"game\", \"game\", \"gant\", \"gay\", \"gay\", \"gaza\", \"get\", \"get\", \"get\", \"get\", \"get\", \"gif\", \"goali\", \"god\", \"god\", \"god\", \"godn\", \"good\", \"good\", \"good\", \"good\", \"good\", \"gospel\", \"got\", \"got\", \"got\", \"got\", \"got\", \"govern\", \"govern\", \"govern\", \"graphic\", \"graphic\", \"graphic\", \"gun\", \"gun\", \"gun\", \"guy\", \"guy\", \"guy\", \"guy\", \"guy\", \"health\", \"health\", \"health\", \"heaven\", \"heaven\", \"heaven\", \"hit\", \"hit\", \"hit\", \"hit\", \"hit\", \"hitter\", \"hiv\", \"hockey\", \"holi\", \"holi\", \"homosexu\", \"homosexu\", \"honda\", \"icon\", \"icon\", \"ide\", \"imag\", \"imag\", \"imag\", \"imag\", \"imagen\", \"imagen\", \"imagesn\", \"immor\", \"includ\", \"includ\", \"includ\", \"includ\", \"includ\", \"inform\", \"inform\", \"inform\", \"inform\", \"inform\", \"inning\", \"instal\", \"instal\", \"instal\", \"instal\", \"instal\", \"insur\", \"insur\", \"insur\", \"insur\", \"irq\", \"isra\", \"isra\", \"israel\", \"israel\", \"istanbul\", \"jehovah\", \"jesu\", \"jpeg\", \"jumper\", \"key\", \"key\", \"key\", \"key\", \"key\", \"kill\", \"kill\", \"kill\", \"kill\", \"kill\", \"know\", \"know\", \"know\", \"know\", \"know\", \"last\", \"last\", \"last\", \"last\", \"last\", \"law\", \"law\", \"law\", \"law\", \"leaf\", \"leagu\", \"leagu\", \"leagu\", \"lebanes\", \"librari\", \"librari\", \"librari\", \"librari\", \"librari\", \"life\", \"life\", \"life\", \"life\", \"life\", \"like\", \"like\", \"like\", \"like\", \"like\", \"list\", \"list\", \"list\", \"list\", \"list\", \"look\", \"look\", \"look\", \"look\", \"look\", \"lord\", \"lord\", \"lord\", \"love\", \"love\", \"love\", \"love\", \"love\", \"luke\", \"mac\", \"mac\", \"machin\", \"machin\", \"machin\", \"machin\", \"machin\", \"mail\", \"mail\", \"mail\", \"mail\", \"mail\", \"make\", \"make\", \"make\", \"make\", \"make\", \"mani\", \"mani\", \"mani\", \"mani\", \"mani\", \"marriag\", \"massacr\", \"massacr\", \"maxaxaxaxaxaxaxaxaxaxaxaxaxaxaxn\", \"mb\", \"mean\", \"mean\", \"mean\", \"mean\", \"mean\", \"medic\", \"medic\", \"medic\", \"medic\", \"meg\", \"meg\", \"melkonian\", \"mhz\", \"militari\", \"militari\", \"militari\", \"militari\", \"militia\", \"modem\", \"modem\", \"modem\", \"monitor\", \"monitor\", \"monitor\", \"monitor\", \"moral\", \"moral\", \"motherboard\", \"motif\", \"motorcycl\", \"motorcycl\", \"mswindow\", \"much\", \"much\", \"much\", \"much\", \"much\", \"mustang\", \"myer\", \"myer\", \"nation\", \"nation\", \"nation\", \"nation\", \"nation\", \"nec\", \"need\", \"need\", \"need\", \"need\", \"need\", \"new\", \"new\", \"new\", \"new\", \"new\", \"nhl\", \"night\", \"night\", \"night\", \"night\", \"njxp\", \"nsa\", \"nsa\", \"nubu\", \"offic\", \"offic\", \"offic\", \"offic\", \"offic\", \"ofn\", \"ofn\", \"ofn\", \"ofn\", \"ofn\", \"ohanu\", \"openwindow\", \"orbit\", \"orbit\", \"orbit\", \"orbit\", \"ottoman\", \"packag\", \"packag\", \"packag\", \"packag\", \"packag\", \"palestinian\", \"palestinian\", \"peopl\", \"peopl\", \"peopl\", \"peopl\", \"peopl\", \"person\", \"person\", \"person\", \"person\", \"person\", \"pgp\", \"philli\", \"phone\", \"phone\", \"phone\", \"phone\", \"phone\", \"pin\", \"pin\", \"pin\", \"pin\", \"pitch\", \"pitch\", \"pitch\", \"pitcher\", \"pixel\", \"pixel\", \"pixmap\", \"play\", \"play\", \"play\", \"play\", \"play\", \"player\", \"player\", \"playoff\", \"pleas\", \"pleas\", \"pleas\", \"pleas\", \"pleas\", \"point\", \"point\", \"point\", \"point\", \"point\", \"polic\", \"polic\", \"polic\", \"polic\", \"polici\", \"polici\", \"polici\", \"polici\", \"polici\", \"polygon\", \"polygon\", \"pope\", \"port\", \"port\", \"port\", \"post\", \"post\", \"post\", \"post\", \"post\", \"postscript\", \"presid\", \"presid\", \"presid\", \"presid\", \"privaci\", \"privaci\", \"problem\", \"problem\", \"problem\", \"problem\", \"problem\", \"program\", \"program\", \"program\", \"program\", \"program\", \"prophet\", \"psalm\", \"public\", \"public\", \"public\", \"public\", \"public\", \"puck\", \"quadra\", \"quantiz\", \"quebec\", \"question\", \"question\", \"question\", \"question\", \"question\", \"quicktim\", \"quran\", \"raytrac\", \"read\", \"read\", \"read\", \"read\", \"read\", \"realli\", \"realli\", \"realli\", \"realli\", \"realli\", \"reason\", \"reason\", \"reason\", \"reason\", \"reason\", \"red\", \"red\", \"red\", \"red\", \"red\", \"religi\", \"religi\", \"religion\", \"religion\", \"report\", \"report\", \"report\", \"report\", \"report\", \"ride\", \"ride\", \"ride\", \"right\", \"right\", \"right\", \"right\", \"right\", \"ripem\", \"rsa\", \"run\", \"run\", \"run\", \"run\", \"run\", \"runner\", \"russian\", \"russian\", \"russian\", \"sabr\", \"sahak\", \"said\", \"said\", \"said\", \"said\", \"said\", \"satan\", \"say\", \"say\", \"say\", \"say\", \"say\", \"score\", \"score\", \"scriptur\", \"scsi\", \"season\", \"season\", \"season\", \"secretari\", \"secur\", \"secur\", \"secur\", \"see\", \"see\", \"see\", \"see\", \"see\", \"seem\", \"seem\", \"seem\", \"seem\", \"seem\", \"send\", \"send\", \"send\", \"send\", \"send\", \"serdar\", \"serial\", \"serial\", \"server\", \"server\", \"set\", \"set\", \"set\", \"set\", \"set\", \"sex\", \"sex\", \"sex\", \"sexual\", \"sexual\", \"sharewar\", \"sharewar\", \"shark\", \"siggraph\", \"simm\", \"sin\", \"sin\", \"sin\", \"slpittedu\", \"softwar\", \"softwar\", \"softwar\", \"softwar\", \"soldier\", \"soldier\", \"soldier\", \"soldier\", \"soviet\", \"soviet\", \"sox\", \"space\", \"space\", \"space\", \"space\", \"space\", \"spacecraft\", \"state\", \"state\", \"state\", \"state\", \"state\", \"survivor\", \"system\", \"system\", \"system\", \"system\", \"system\", \"take\", \"take\", \"take\", \"take\", \"take\", \"tartar\", \"team\", \"team\", \"testament\", \"thank\", \"thank\", \"thank\", \"thank\", \"thank\", \"thatn\", \"thatn\", \"thatn\", \"thatn\", \"thatn\", \"theism\", \"theist\", \"thing\", \"thing\", \"thing\", \"thing\", \"thing\", \"think\", \"think\", \"think\", \"think\", \"think\", \"tiff\", \"time\", \"time\", \"time\", \"time\", \"time\", \"ton\", \"ton\", \"ton\", \"ton\", \"ton\", \"toolkit\", \"toolkit\", \"toronto\", \"toronto\", \"toronto\", \"troop\", \"truth\", \"truth\", \"truth\", \"truth\", \"ttn\", \"ttn\", \"ttn\", \"tttn\", \"tttn\", \"turk\", \"turk\", \"turkey\", \"turkey\", \"turkish\", \"two\", \"two\", \"two\", \"two\", \"two\", \"univers\", \"univers\", \"univers\", \"univers\", \"univers\", \"unto\", \"upgrad\", \"upgrad\", \"use\", \"use\", \"use\", \"use\", \"use\", \"user\", \"user\", \"user\", \"user\", \"uuencod\", \"venu\", \"vers\", \"version\", \"version\", \"version\", \"version\", \"version\", \"villag\", \"villag\", \"visual\", \"visual\", \"visual\", \"voltag\", \"want\", \"want\", \"want\", \"want\", \"want\", \"war\", \"war\", \"war\", \"war\", \"watch\", \"watch\", \"watch\", \"watch\", \"watch\", \"way\", \"way\", \"way\", \"way\", \"way\", \"weapon\", \"weapon\", \"weapon\", \"weapon\", \"well\", \"well\", \"well\", \"well\", \"well\", \"wheel\", \"wheel\", \"wheel\", \"widget\", \"win\", \"win\", \"win\", \"win\", \"win\", \"window\", \"window\", \"window\", \"window\", \"window\", \"wire\", \"wire\", \"wire\", \"wire\", \"word\", \"word\", \"word\", \"word\", \"word\", \"work\", \"work\", \"work\", \"work\", \"work\", \"worship\", \"writesn\", \"writesn\", \"writesn\", \"writesn\", \"writesn\", \"xlib\", \"xterm\", \"xview\", \"year\", \"year\", \"year\", \"year\", \"year\"]}, \"R\": 30, \"lambda.step\": 0.01, \"plot.opts\": {\"xlab\": \"PC1\", \"ylab\": \"PC2\"}, \"topic.order\": [1, 2, 3, 4, 5]};\n",
              "\n",
              "function LDAvis_load_lib(url, callback){\n",
              "  var s = document.createElement('script');\n",
              "  s.src = url;\n",
              "  s.async = true;\n",
              "  s.onreadystatechange = s.onload = callback;\n",
              "  s.onerror = function(){console.warn(\"failed to load library \" + url);};\n",
              "  document.getElementsByTagName(\"head\")[0].appendChild(s);\n",
              "}\n",
              "\n",
              "if(typeof(LDAvis) !== \"undefined\"){\n",
              "   // already loaded: just create the visualization\n",
              "   !function(LDAvis){\n",
              "       new LDAvis(\"#\" + \"ldavis_el1441402880978079605699800134\", ldavis_el1441402880978079605699800134_data);\n",
              "   }(LDAvis);\n",
              "}else if(typeof define === \"function\" && define.amd){\n",
              "   // require.js is available: use it to load d3/LDAvis\n",
              "   require.config({paths: {d3: \"https://cdnjs.cloudflare.com/ajax/libs/d3/3.5.5/d3.min\"}});\n",
              "   require([\"d3\"], function(d3){\n",
              "      window.d3 = d3;\n",
              "      LDAvis_load_lib(\"https://cdn.rawgit.com/bmabey/pyLDAvis/files/ldavis.v1.0.0.js\", function(){\n",
              "        new LDAvis(\"#\" + \"ldavis_el1441402880978079605699800134\", ldavis_el1441402880978079605699800134_data);\n",
              "      });\n",
              "    });\n",
              "}else{\n",
              "    // require.js not available: dynamically load d3 & LDAvis\n",
              "    LDAvis_load_lib(\"https://cdnjs.cloudflare.com/ajax/libs/d3/3.5.5/d3.min.js\", function(){\n",
              "         LDAvis_load_lib(\"https://cdn.rawgit.com/bmabey/pyLDAvis/files/ldavis.v1.0.0.js\", function(){\n",
              "                 new LDAvis(\"#\" + \"ldavis_el1441402880978079605699800134\", ldavis_el1441402880978079605699800134_data);\n",
              "            })\n",
              "         });\n",
              "}\n",
              "</script>"
            ],
            "text/plain": [
              "PreparedData(topic_coordinates=                x           y  topics  cluster       Freq\n",
              "topic                                                    \n",
              "0      150.222153  -72.269554       1        1  28.784030\n",
              "1       51.163364 -159.968018       2        1  20.752607\n",
              "2      -73.144554   21.523815       3        1  20.299684\n",
              "3      -66.410133 -110.606438       4        1  15.934526\n",
              "4       54.417324   12.443444       5        1  14.229153, topic_info=      Category         Freq  ...  loglift  logprob\n",
              "7809   Default  3258.000000  ...  30.0000  30.0000\n",
              "4759   Default  3507.000000  ...  29.0000  29.0000\n",
              "5351   Default  4101.000000  ...  28.0000  28.0000\n",
              "14332  Default  3006.000000  ...  27.0000  27.0000\n",
              "6177   Default  2135.000000  ...  26.0000  26.0000\n",
              "...        ...          ...  ...      ...      ...\n",
              "9781    Topic5   894.810774  ...   0.6865  -5.7609\n",
              "7038    Topic5  1020.269411  ...  -0.1004  -5.6297\n",
              "7361    Topic5   978.145285  ...  -0.2641  -5.6719\n",
              "8488    Topic5   893.902106  ...   0.3879  -5.7619\n",
              "13148   Topic5   880.741658  ...   0.0724  -5.7768\n",
              "\n",
              "[450 rows x 6 columns], token_table=       Topic      Freq    Term\n",
              "term                          \n",
              "114        1  0.741637  accept\n",
              "114        2  0.096243  accept\n",
              "114        3  0.015367  accept\n",
              "114        4  0.056614  accept\n",
              "114        5  0.088964  accept\n",
              "...      ...       ...     ...\n",
              "14582      1  0.115195    year\n",
              "14582      2  0.308853    year\n",
              "14582      3  0.496860    year\n",
              "14582      4  0.041948    year\n",
              "14582      5  0.036949    year\n",
              "\n",
              "[1055 rows x 3 columns], R=30, lambda_step=0.01, plot_opts={'xlab': 'PC1', 'ylab': 'PC2'}, topic_order=[1, 2, 3, 4, 5])"
            ]
          },
          "metadata": {
            "tags": []
          },
          "execution_count": 27
        }
      ]
    },
    {
      "cell_type": "markdown",
      "metadata": {
        "id": "fy3fN7nlBkc_",
        "colab_type": "text"
      },
      "source": [
        "# LDA Bigram - tf - lem"
      ]
    },
    {
      "cell_type": "code",
      "metadata": {
        "id": "eCyUegM0BpPT",
        "colab_type": "code",
        "colab": {}
      },
      "source": [
        "data_bigram_lem_tf = count.fit_transform(df.bigram_lem)"
      ],
      "execution_count": 0,
      "outputs": []
    },
    {
      "cell_type": "code",
      "metadata": {
        "id": "vIehn9-QBpX8",
        "colab_type": "code",
        "outputId": "7d46333b-e612-4f13-8f3f-41286e1c29ea",
        "colab": {
          "base_uri": "https://localhost:8080/",
          "height": 399
        }
      },
      "source": [
        "# Parametri di ricerca\n",
        "search_params = {'n_components': [5,10, 15, 20, 25, 30], 'learning_decay': [.5, .7, .9]}\n",
        "\n",
        "# Inizializzazione Modello\n",
        "lda = LatentDirichletAllocation()\n",
        "\n",
        "# Inizializzazione GridSearchCV\n",
        "model = GridSearchCV(lda, param_grid=search_params)\n",
        "\n",
        "# Grid Search\n",
        "model.fit(data_bigram_lem_tf)"
      ],
      "execution_count": 0,
      "outputs": [
        {
          "output_type": "execute_result",
          "data": {
            "text/plain": [
              "GridSearchCV(cv=None, error_score=nan,\n",
              "             estimator=LatentDirichletAllocation(batch_size=128,\n",
              "                                                 doc_topic_prior=None,\n",
              "                                                 evaluate_every=-1,\n",
              "                                                 learning_decay=0.7,\n",
              "                                                 learning_method='batch',\n",
              "                                                 learning_offset=10.0,\n",
              "                                                 max_doc_update_iter=100,\n",
              "                                                 max_iter=10,\n",
              "                                                 mean_change_tol=0.001,\n",
              "                                                 n_components=10, n_jobs=None,\n",
              "                                                 perp_tol=0.1,\n",
              "                                                 random_state=None,\n",
              "                                                 topic_word_prior=None,\n",
              "                                                 total_samples=1000000.0,\n",
              "                                                 verbose=0),\n",
              "             iid='deprecated', n_jobs=None,\n",
              "             param_grid={'learning_decay': [0.5, 0.7, 0.9],\n",
              "                         'n_components': [5, 10, 15, 20, 25, 30]},\n",
              "             pre_dispatch='2*n_jobs', refit=True, return_train_score=False,\n",
              "             scoring=None, verbose=0)"
            ]
          },
          "metadata": {
            "tags": []
          },
          "execution_count": 29
        }
      ]
    },
    {
      "cell_type": "code",
      "metadata": {
        "id": "Wc7NGr_IBpgZ",
        "colab_type": "code",
        "outputId": "e566bc8e-d4b4-425b-9cb6-3990990a28bc",
        "colab": {
          "base_uri": "https://localhost:8080/",
          "height": 72
        }
      },
      "source": [
        "# Stimato il Miglior modello \n",
        "best_lda_model = model.best_estimator_\n",
        "\n",
        "# Parametri del modello\n",
        "print(\"Best Model Params: \", model.best_params_)\n",
        "\n",
        "# Log Likelihood Score\n",
        "print(\"Best Log Likelihood Score: \", model.best_score_)\n",
        "\n",
        "# Perplessità\n",
        "print(\"Model Perplexity: \", best_lda_model.perplexity(data_bigram_lem_tf))"
      ],
      "execution_count": 0,
      "outputs": [
        {
          "output_type": "stream",
          "text": [
            "Best Model Params:  {'learning_decay': 0.5, 'n_components': 5}\n",
            "Best Log Likelihood Score:  -589072.9675981455\n",
            "Model Perplexity:  7018.767824777479\n"
          ],
          "name": "stdout"
        }
      ]
    },
    {
      "cell_type": "code",
      "metadata": {
        "id": "9F1jezmrBp1z",
        "colab_type": "code",
        "outputId": "b8abebf2-233f-405e-982f-1313d23b5c3b",
        "colab": {
          "base_uri": "https://localhost:8080/",
          "height": 1000
        }
      },
      "source": [
        "pyLDAvis.enable_notebook()\n",
        "vis = pyLDAvis.sklearn.prepare(best_lda_model, data_bigram_lem_tf, count, mds='tsne')\n",
        "vis"
      ],
      "execution_count": 0,
      "outputs": [
        {
          "output_type": "stream",
          "text": [
            "/usr/local/lib/python3.6/dist-packages/pyLDAvis/_prepare.py:257: FutureWarning: Sorting because non-concatenation axis is not aligned. A future version\n",
            "of pandas will change to not sort by default.\n",
            "\n",
            "To accept the future behavior, pass 'sort=False'.\n",
            "\n",
            "To retain the current behavior and silence the warning, pass 'sort=True'.\n",
            "\n",
            "  return pd.concat([default_term_info] + list(topic_dfs))\n"
          ],
          "name": "stderr"
        },
        {
          "output_type": "execute_result",
          "data": {
            "text/html": [
              "\n",
              "<link rel=\"stylesheet\" type=\"text/css\" href=\"https://cdn.rawgit.com/bmabey/pyLDAvis/files/ldavis.v1.0.0.css\">\n",
              "\n",
              "\n",
              "<div id=\"ldavis_el1441402880053859367390667553\"></div>\n",
              "<script type=\"text/javascript\">\n",
              "\n",
              "var ldavis_el1441402880053859367390667553_data = {\"mdsDat\": {\"x\": [150.22215270996094, 51.16336441040039, -73.1445541381836, -66.4101333618164, 54.41732406616211], \"y\": [-72.2695541381836, -159.968017578125, 21.523815155029297, -110.60643768310547, 12.44344425201416], \"topics\": [1, 2, 3, 4, 5], \"cluster\": [1, 1, 1, 1, 1], \"Freq\": [25.782692484229802, 21.833264815054353, 21.037825134357977, 17.619055679374178, 13.7271618869837]}, \"tinfo\": {\"Category\": [\"Default\", \"Default\", \"Default\", \"Default\", \"Default\", \"Default\", \"Default\", \"Default\", \"Default\", \"Default\", \"Default\", \"Default\", \"Default\", \"Default\", \"Default\", \"Default\", \"Default\", \"Default\", \"Default\", \"Default\", \"Default\", \"Default\", \"Default\", \"Default\", \"Default\", \"Default\", \"Default\", \"Default\", \"Default\", \"Default\", \"Topic1\", \"Topic1\", \"Topic1\", \"Topic1\", \"Topic1\", \"Topic1\", \"Topic1\", \"Topic1\", \"Topic1\", \"Topic1\", \"Topic1\", \"Topic1\", \"Topic1\", \"Topic1\", \"Topic1\", \"Topic1\", \"Topic1\", \"Topic1\", \"Topic1\", \"Topic1\", \"Topic1\", \"Topic1\", \"Topic1\", \"Topic1\", \"Topic1\", \"Topic1\", \"Topic1\", \"Topic1\", \"Topic1\", \"Topic1\", \"Topic1\", \"Topic1\", \"Topic1\", \"Topic1\", \"Topic1\", \"Topic1\", \"Topic1\", \"Topic1\", \"Topic1\", \"Topic1\", \"Topic1\", \"Topic1\", \"Topic1\", \"Topic1\", \"Topic1\", \"Topic1\", \"Topic1\", \"Topic1\", \"Topic1\", \"Topic1\", \"Topic1\", \"Topic1\", \"Topic1\", \"Topic1\", \"Topic1\", \"Topic1\", \"Topic1\", \"Topic1\", \"Topic1\", \"Topic1\", \"Topic1\", \"Topic2\", \"Topic2\", \"Topic2\", \"Topic2\", \"Topic2\", \"Topic2\", \"Topic2\", \"Topic2\", \"Topic2\", \"Topic2\", \"Topic2\", \"Topic2\", \"Topic2\", \"Topic2\", \"Topic2\", \"Topic2\", \"Topic2\", \"Topic2\", \"Topic2\", \"Topic2\", \"Topic2\", \"Topic2\", \"Topic2\", \"Topic2\", \"Topic2\", \"Topic2\", \"Topic2\", \"Topic2\", \"Topic2\", \"Topic2\", \"Topic2\", \"Topic2\", \"Topic2\", \"Topic2\", \"Topic2\", \"Topic2\", \"Topic2\", \"Topic2\", \"Topic2\", \"Topic2\", \"Topic2\", \"Topic2\", \"Topic2\", \"Topic2\", \"Topic2\", \"Topic2\", \"Topic2\", \"Topic2\", \"Topic2\", \"Topic2\", \"Topic2\", \"Topic2\", \"Topic2\", \"Topic2\", \"Topic2\", \"Topic2\", \"Topic2\", \"Topic2\", \"Topic2\", \"Topic2\", \"Topic2\", \"Topic2\", \"Topic2\", \"Topic2\", \"Topic3\", \"Topic3\", \"Topic3\", \"Topic3\", \"Topic3\", \"Topic3\", \"Topic3\", \"Topic3\", \"Topic3\", \"Topic3\", \"Topic3\", \"Topic3\", \"Topic3\", \"Topic3\", \"Topic3\", \"Topic3\", \"Topic3\", \"Topic3\", \"Topic3\", \"Topic3\", \"Topic3\", \"Topic3\", \"Topic3\", \"Topic3\", \"Topic3\", \"Topic3\", \"Topic3\", \"Topic3\", \"Topic3\", \"Topic3\", \"Topic3\", \"Topic3\", \"Topic3\", \"Topic3\", \"Topic3\", \"Topic3\", \"Topic3\", \"Topic3\", \"Topic3\", \"Topic3\", \"Topic3\", \"Topic3\", \"Topic3\", \"Topic3\", \"Topic3\", \"Topic3\", \"Topic3\", \"Topic3\", \"Topic3\", \"Topic3\", \"Topic4\", \"Topic4\", \"Topic4\", \"Topic4\", \"Topic4\", \"Topic4\", \"Topic4\", \"Topic4\", \"Topic4\", \"Topic4\", \"Topic4\", \"Topic4\", \"Topic4\", \"Topic4\", \"Topic4\", \"Topic4\", \"Topic4\", \"Topic4\", \"Topic4\", \"Topic4\", \"Topic4\", \"Topic4\", \"Topic4\", \"Topic4\", \"Topic4\", \"Topic4\", \"Topic4\", \"Topic4\", \"Topic4\", \"Topic4\", \"Topic4\", \"Topic4\", \"Topic4\", \"Topic4\", \"Topic4\", \"Topic4\", \"Topic4\", \"Topic4\", \"Topic4\", \"Topic4\", \"Topic4\", \"Topic4\", \"Topic4\", \"Topic4\", \"Topic4\", \"Topic4\", \"Topic4\", \"Topic4\", \"Topic4\", \"Topic4\", \"Topic4\", \"Topic4\", \"Topic4\", \"Topic4\", \"Topic4\", \"Topic5\", \"Topic5\", \"Topic5\", \"Topic5\", \"Topic5\", \"Topic5\", \"Topic5\", \"Topic5\", \"Topic5\", \"Topic5\", \"Topic5\", \"Topic5\", \"Topic5\", \"Topic5\", \"Topic5\", \"Topic5\", \"Topic5\", \"Topic5\", \"Topic5\", \"Topic5\", \"Topic5\", \"Topic5\", \"Topic5\", \"Topic5\", \"Topic5\", \"Topic5\", \"Topic5\", \"Topic5\", \"Topic5\", \"Topic5\", \"Topic5\", \"Topic5\", \"Topic5\", \"Topic5\"], \"Freq\": [2553.0, 560.0, 336.0, 229.0, 277.0, 157.0, 234.0, 185.0, 154.0, 130.0, 193.0, 128.0, 168.0, 127.0, 127.0, 127.0, 127.0, 127.0, 126.0, 125.0, 123.0, 121.0, 120.0, 120.0, 120.0, 120.0, 120.0, 119.0, 117.0, 115.0, 335.5438800768758, 192.59379925405293, 156.19077696616517, 233.1722587536412, 130.96936778607133, 91.73342994904623, 133.42048871098794, 86.12818440820784, 89.82353262988721, 85.17279314715303, 76.78126433014371, 83.23583657947741, 71.178295392378, 73.01239856743783, 66.51250709512472, 76.62325022754415, 58.082429972742496, 57.159025932868715, 55.28171989741419, 53.43154738655348, 116.05116648863448, 51.559610366674406, 50.63000502663497, 54.30903247786821, 51.54513628148554, 50.619102936921905, 48.76151601348191, 47.828738381992096, 47.827437061150086, 54.23733230628099, 535.7698861307182, 55.07713462719196, 97.7973609995832, 192.28391874856365, 137.91310171555236, 157.86618964768746, 142.12977479050312, 107.22027023738906, 77.19280270690444, 65.75428014556643, 74.34580447909724, 109.28006828433496, 94.7563149635063, 93.6860508787399, 170.87038308724118, 167.26286695088882, 120.26503919138553, 98.93213839941102, 489.7186005371696, 135.38266733691833, 93.3464106021027, 111.11434051667263, 153.10159788390447, 150.07918970770618, 127.59751415906781, 102.25797386304804, 110.37031613732573, 131.05142992511287, 118.90344739215084, 99.40726094835435, 100.06542507126764, 167.47677470040765, 86.24942891440952, 84.31771209275372, 56.26854432140394, 55.30817964568656, 52.40593484664376, 48.53142908329812, 47.57000556704073, 41.765628346183085, 40.80343427475927, 40.80343427475927, 39.836563489487766, 37.904051450703, 37.902916063136, 37.902728916957024, 36.93593285019515, 35.96919394414359, 35.967381905901156, 39.728998590035005, 35.00025718374026, 33.066802867629335, 32.09958509851223, 33.03288153793068, 31.135737739340225, 31.125279484909626, 31.12527723509263, 30.16920419446664, 30.169181232984574, 30.169181232984574, 30.169181232984574, 30.169181232984574, 30.169181232984574, 57.01363063248596, 103.01758305238191, 38.8485826364836, 33.55985339218501, 71.87710079029243, 91.65699574406118, 42.46794702345792, 47.096756807702185, 61.36176700064056, 200.85038934970174, 35.91777822733022, 59.300777855451635, 272.2182646112769, 160.29769710346034, 46.228968991925775, 106.344521829953, 108.74521013383882, 148.74967491870555, 83.28699451353587, 153.03628383655257, 100.91667112123257, 75.25987540817633, 203.97342991493235, 107.84714378771702, 87.05580885084942, 76.18503500093318, 81.64129867289151, 91.2823229586305, 65.24449563793152, 84.01715760914097, 57.10488875679002, 56.9138412016899, 229.1879371394682, 140.6739352713577, 92.56150207337528, 79.09490749020756, 79.09490749020756, 79.09490749020756, 79.09490749020756, 79.09490749020756, 77.17073369662407, 77.17073369662407, 77.17073369662407, 77.17073369662407, 75.24341303355604, 68.506588056866, 66.58586815297015, 65.62142002760382, 63.69680065742373, 183.20773123971978, 53.10495972207135, 52.150955487342664, 56.861575685600926, 45.417200794493695, 44.454293312866625, 44.452634777688985, 44.4464042281246, 46.27490164484351, 40.602747820353784, 39.64154665507993, 39.62649965572609, 38.67718435480608, 77.86327559518467, 60.88163894183739, 245.27462149786177, 65.35935077222314, 120.83337795718411, 68.01921307164861, 221.91871534865967, 119.30549069213376, 89.29162616253517, 205.0781915395474, 84.52431729674069, 157.52779135228576, 186.29723620955068, 113.48122155285128, 117.74206202627168, 122.58487849176788, 85.75269192918743, 86.18061907794166, 73.93549645421629, 75.07855328345912, 2553.20875026659, 153.4804730466147, 83.10741025264333, 70.57385800284288, 70.57385800284278, 70.57385800284274, 70.57385800284258, 70.57385800284257, 70.5738580028426, 70.57385800284244, 70.57385800284244, 70.57385800284204, 64.78649762661215, 111.25813119804998, 55.14734757137564, 53.213235896011035, 53.20417159004171, 52.241519723694076, 52.2402056106892, 52.240202918799994, 51.27454394832855, 51.2728830345998, 50.30679789031452, 46.462048529731696, 43.5774027528035, 43.57675919683484, 43.57538230609159, 42.60978717673518, 40.68533532408556, 40.684451226295884, 109.60709603307318, 93.64218767354907, 106.44817009306443, 61.22038878799469, 53.28345161414684, 49.317644774552825, 75.9392083542393, 55.96611144953322, 56.044286392334655, 151.37934116638897, 53.81194593945357, 71.69187462011126, 159.16528990807643, 221.89161411228974, 166.85961503199184, 76.29447789336001, 63.38379206496151, 60.13605653601047, 69.80304711233124, 57.72260769613586, 58.196344498472186, 68.3160929725468, 78.52446044117556, 69.41553483133063, 72.4496972897241, 156.4062252970855, 129.5725628193948, 127.65596038214579, 126.70004836104425, 126.70004836104425, 126.70004836104425, 126.70004836104425, 126.70004836104425, 125.7416510964208, 124.78317498910862, 122.86477805504894, 120.94966469623553, 119.99126741192656, 119.99126740832467, 119.99126740179715, 119.9912533140952, 119.99120764055512, 119.0328701156251, 117.11099749766254, 115.19928089048899, 115.19928089048899, 115.19928081829882, 114.24088356977887, 114.24088356977887, 114.24088356977887, 114.24088356977887, 114.24088356977887, 85.48635779943828, 81.65113397358171, 79.73855229134402, 100.47737993598314, 134.69140108524837, 87.07145966203629, 88.2558906433512], \"Term\": [\"maxaxaxaxaxaxaxaxaxaxaxaxaxaxaxn maxaxaxaxaxaxaxaxaxaxaxaxaxaxaxn\", \"anyone know\", \"thanks advancen\", \"clipper chip\", \"law enforcement\", \"power play\", \"please email\", \"public key\", \"gun control\", \"way escape\", \"hard disk\", \"might serve\", \"___ ___\", \"mountain pass\", \"proceeded work\", \"serve way\", \"closed road\", \"pass might\", \"road mountain\", \"serdar argicn\", \"longer exists\", \"ohanus appressian\", \"sahak melkonian\", \"armenia today\", \"soviet armenia\", \"single turkish\", \"today longer\", \"exists single\", \"clayton cramer\", \"work exterminationn\", \"thanks advancen\", \"hard disk\", \"window manager\", \"please email\", \"please reply\", \"greatly appreciatedn\", \"anybody know\", \"serial port\", \"thanks advance\", \"disk drive\", \"please respond\", \"tape drive\", \"run window\", \"phone fax\", \"open look\", \"wondering anyone\", \"jake livni\", \"software package\", \"available anonymous\", \"via ftp\", \"work fine\", \"opinion employer\", \"employer opinion\", \"help appreciatedn\", \"livesey writesn\", \"pdsgicom jon\", \"help greatly\", \"error message\", \"jimmy carter\", \"disk controller\", \"anyone know\", \"att bell\", \"via email\", \"anonymous ftp\", \"ftp site\", \"please send\", \"email address\", \"could someone\", \"do window\", \"operating system\", \"send mail\", \"send email\", \"public domain\", \"someone please\", \"mailing list\", \"hard drive\", \"thank youn\", \"available via\", \"dont know\", \"let know\", \"source code\", \"like know\", \"something like\", \"look like\", \"anyone else\", \"computer science\", \"make sure\", \"new york\", \"ive seen\", \"ive got\", \"year ago\", \"___ ___\", \"new testament\", \"holy spirit\", \"jet propulsion\", \"_____ _____\", \"____ ____\", \"god exist\", \"michael adam\", \"image file\", \"laskaedu high\", \"adam laskaedu\", \"high jackedn\", \"___ _____\", \"father son\", \"ron baalke\", \"propulsion lab\", \"mary shafer\", \"___ ____\", \"god love\", \"speak men\", \"god want\", \"next question\", \"billion year\", \"know youll\", \"pythagorean reform\", \"reform church\", \"plnasagovn jet\", \"ninjaite drinking\", \"night bikern\", \"drinking last\", \"former ninjaite\", \"green former\", \"god god\", \"believe god\", \"others dont\", \"ofn god\", \"bit image\", \"dont speak\", \"absolute truth\", \"original sin\", \"real world\", \"dont want\", \"____ ___\", \"solar system\", \"dont think\", \"many people\", \"old testament\", \"make sense\", \"last night\", \"something like\", \"people dont\", \"year ago\", \"dont see\", \"jesus christ\", \"dont know\", \"sound like\", \"dont believe\", \"answer question\", \"even though\", \"look like\", \"opinion expressed\", \"writesn article\", \"doesnt mean\", \"anyone else\", \"clipper chip\", \"serial number\", \"gordon bank\", \"njxp skepticism\", \"skepticism chastity\", \"chastity intellect\", \"bank njxp\", \"intellect andn\", \"surrender soon\", \"shameful surrender\", \"slpittedu shameful\", \"andn slpittedu\", \"red sox\", \"enforcement agency\", \"session key\", \"key escrow\", \"court order\", \"public key\", \"shot savesn\", \"copy protection\", \"home run\", \"unit key\", \"encryption technology\", \"bit key\", \"brian kendig\", \"encryption algorithm\", \"escrow agency\", \"escrow agent\", \"back door\", \"law enforcementn\", \"pgp public\", \"blue jay\", \"law enforcement\", \"center policy\", \"san francisco\", \"policy research\", \"last year\", \"los angeles\", \"every day\", \"new york\", \"much better\", \"dont think\", \"dont know\", \"ive seen\", \"look like\", \"writesn article\", \"human right\", \"year ago\", \"long time\", \"united state\", \"maxaxaxaxaxaxaxaxaxaxaxaxaxaxaxn maxaxaxaxaxaxaxaxaxaxaxaxaxaxaxn\", \"gun control\", \"keep bear\", \"write today\", \"investor packetn\", \"speak companyn\", \"believe speak\", \"wstratuscom believe\", \"tratuscom write\", \"special investor\", \"companyn tratuscom\", \"today special\", \"blah blah\", \"second amendment\", \"david veal\", \"death penalty\", \"taken ensure\", \"error omission\", \"ensure accuracy\", \"accuracy ofn\", \"information error\", \"sternlight great\", \"omission excepted\", \"dont blame\", \"steve hendricks\", \"still remember\", \"instruction set\", \"disclaimer applyn\", \"remember way\", \"info service\", \"tear gas\", \"bear arm\", \"volume number\", \"public health\", \"care taken\", \"people keep\", \"right people\", \"right keep\", \"bill right\", \"united state\", \"great care\", \"federal government\", \"writesn article\", \"dont know\", \"dont think\", \"david koresh\", \"david sternlight\", \"two thing\", \"attorney general\", \"opinion mine\", \"janet reno\", \"health care\", \"many people\", \"dont believe\", \"year ago\", \"power play\", \"way escape\", \"might serve\", \"closed road\", \"proceeded work\", \"serve way\", \"mountain pass\", \"pass might\", \"road mountain\", \"serdar argicn\", \"longer exists\", \"ohanus appressian\", \"sahak melkonian\", \"armenia today\", \"soviet armenia\", \"single turkish\", \"today longer\", \"exists single\", \"clayton cramer\", \"exterminationn ohanus\", \"work exterminationn\", \"argicn closed\", \"soul sahak\", \"escape turk\", \"appressian soviet\", \"turkish soul\", \"turk proceeded\", \"henry spencer\", \"ottoman empire\", \"armenian government\", \"local bus\", \"new york\", \"world war\", \"san jose\"], \"Total\": [2553.0, 560.0, 336.0, 229.0, 277.0, 157.0, 234.0, 185.0, 154.0, 130.0, 193.0, 128.0, 168.0, 127.0, 127.0, 127.0, 127.0, 127.0, 126.0, 125.0, 123.0, 121.0, 120.0, 120.0, 120.0, 120.0, 120.0, 119.0, 117.0, 115.0, 336.325546984852, 193.39792816991968, 156.964147482048, 234.51524512978338, 131.74142939468211, 92.50619284601115, 134.55589415455825, 86.90116143431885, 90.63931039250896, 85.96755896293614, 77.55958641545244, 84.10160313945957, 71.95448430234927, 73.82383244072211, 67.28347095758029, 77.56498343121797, 58.87658996942482, 57.94214565801968, 56.07402140867697, 54.20513388307548, 117.75233143121484, 52.336869164408675, 51.40258181352017, 55.14103014005118, 52.33738380211701, 51.40295047668194, 49.534237733580326, 48.60002415477233, 48.6000617473945, 55.14261846887311, 560.3553476412139, 56.0812889763594, 100.99601454686349, 204.0357786757854, 145.00411857049608, 170.41746336171374, 155.51803324802884, 115.16240464967986, 81.41135539318734, 68.26218895605909, 78.6030415214829, 121.86580414582515, 105.919605489003, 105.00671060949344, 219.8920201172998, 217.08123885821345, 144.5857108335659, 113.49594530536983, 1163.2897682570685, 196.05729457249123, 108.88181722761459, 163.3119693361628, 377.15989960278745, 405.8016172785835, 275.42743780386917, 158.67976018055313, 228.82912797154802, 521.0062121685801, 337.3443188638038, 166.50571776414023, 466.2748079996802, 168.2421487805228, 87.01706589635889, 85.08315417129462, 57.04090037879823, 56.074166502303434, 53.173274613148685, 49.305415167676166, 48.33843208165945, 42.536467449569066, 41.56969647550596, 41.56969647550596, 40.602731158612734, 38.6688024987347, 38.66881497637177, 38.66878254344422, 37.701794802376114, 36.73488443314759, 36.73484045818486, 40.59937829848844, 35.76785388658873, 33.833963364807246, 32.86697180177748, 33.83377731142189, 31.90006576456339, 31.89996730184533, 31.899967281907628, 30.93310240408042, 30.93310449341232, 30.93310449341232, 30.93310449341232, 30.93310449341232, 30.93310449341232, 59.92293628821232, 112.13201811016691, 40.599793074382, 34.79863434902609, 81.17287900436379, 108.24115902169451, 45.4311021423415, 51.22800838370292, 71.49947146992714, 341.54355988848266, 37.66730919295141, 76.76259199797603, 697.7664146715036, 349.06464882461086, 54.095858213253955, 200.2356226004795, 218.90628016604353, 377.15989960278745, 144.44532371529903, 466.2748079996802, 231.57667096388602, 137.8561119401155, 1163.2897682570685, 314.22599973490844, 215.23568951350057, 185.22239540173734, 272.45908852686483, 405.8016172785835, 164.9240928969726, 507.07061336777195, 132.99291726822642, 275.42743780386917, 229.96823366268399, 141.44287936668707, 93.3313978070198, 79.86013745189568, 79.86013745189568, 79.86013745189568, 79.86013745189568, 79.86013745189568, 77.93567603913533, 77.93567603913533, 77.93567603913533, 77.93567603913533, 76.0111839506562, 69.2755905291671, 67.35113318308537, 66.3888922642382, 64.4644336602417, 185.6861084316433, 53.87985747125389, 52.917617162590105, 57.72596085450682, 46.18204675621315, 45.21981878695392, 45.219817386862424, 45.219832624254856, 47.144751895299834, 41.37089721024652, 40.40861324634259, 40.40861139613748, 39.446409273032145, 79.82425986250776, 63.448131005509985, 277.1788150884005, 70.12811664437143, 140.41641877769572, 76.76658986591583, 422.4311972346272, 191.26920596069155, 132.3106964876561, 521.0062121685801, 149.98938078773412, 697.7664146715036, 1163.2897682570685, 337.3443188638038, 405.8016172785835, 507.07061336777195, 173.78658093041741, 466.2748079996802, 178.10768199774571, 374.39540031832803, 2553.973103893244, 154.25360827800915, 83.8723475687142, 71.33865354324071, 71.33865354324074, 71.33865354324075, 71.33865354324071, 71.33865354324071, 71.33865354324074, 71.3386535432407, 71.33865354324072, 71.3386535432407, 65.55383947290949, 112.79469196547052, 55.91257623924739, 53.984307304326244, 53.984290967038, 53.0201646809621, 53.020161397198144, 53.020161391896885, 52.05602894934114, 52.056025183150034, 51.09189190935216, 47.23540333651121, 44.34301449933033, 44.34301474786487, 44.3430099383369, 43.37879534340731, 41.450623115145916, 41.45062401040512, 111.78688029233918, 95.43986601827238, 109.89833900152517, 63.61945387370827, 54.94667830980803, 51.08994078148327, 85.78263608900083, 59.76593404417536, 60.71418410284523, 374.39540031832803, 56.87212766531398, 97.32349417165948, 507.07061336777195, 1163.2897682570685, 697.7664146715036, 129.21652198229725, 85.75795655783259, 76.08503909625516, 123.29761558379383, 68.45625841796391, 71.37477233901006, 161.34879380271624, 349.06464882461086, 215.23568951350057, 466.2748079996802, 157.17589781083552, 130.34077134773642, 128.42398751680668, 127.46558316609698, 127.46558316609698, 127.46558316609698, 127.46558316609698, 127.46558316609698, 126.50718616608506, 125.5487896337895, 123.63200601652868, 121.71520116592592, 120.75680416587277, 120.75680416587305, 120.75680416587431, 120.7568040977324, 120.75680266789075, 119.79840716581242, 117.88160613688022, 115.96481916549362, 115.96481916549362, 115.96481916550306, 115.0064221653933, 115.0064221653933, 115.0064221653933, 115.0064221653933, 115.0064221653933, 86.25450228620923, 82.42094029130145, 80.50413040905268, 106.42665705382755, 521.0062121685801, 115.10021570394645, 158.81188615095198], \"loglift\": [30.0, 29.0, 28.0, 27.0, 26.0, 25.0, 24.0, 23.0, 22.0, 21.0, 20.0, 19.0, 18.0, 17.0, 16.0, 15.0, 14.0, 13.0, 12.0, 11.0, 10.0, 9.0, 8.0, 7.0, 6.0, 5.0, 4.0, 3.0, 2.0, 1.0, 1.3531, 1.3513, 1.3505, 1.3497, 1.3496, 1.3471, 1.347, 1.3465, 1.3464, 1.3462, 1.3454, 1.3451, 1.3446, 1.3444, 1.3439, 1.3433, 1.3419, 1.3419, 1.3412, 1.3411, 1.3409, 1.3405, 1.3403, 1.3403, 1.3402, 1.3401, 1.3397, 1.3395, 1.3394, 1.3389, 1.3106, 1.3374, 1.3233, 1.2961, 1.3053, 1.279, 1.2654, 1.284, 1.3023, 1.318, 1.2998, 1.2465, 1.2441, 1.2414, 1.1032, 1.0948, 1.1713, 1.2181, 0.4903, 0.9852, 1.2015, 0.9704, 0.4539, 0.3608, 0.586, 0.9161, 0.6263, -0.0247, 0.3127, 0.8397, -0.1835, 1.5172, 1.5129, 1.5127, 1.5081, 1.508, 1.5072, 1.5059, 1.5057, 1.5034, 1.5031, 1.5031, 1.5027, 1.5018, 1.5017, 1.5017, 1.5012, 1.5007, 1.5006, 1.5001, 1.5, 1.4988, 1.4981, 1.4978, 1.4975, 1.4972, 1.4972, 1.4967, 1.4967, 1.4967, 1.4967, 1.4967, 1.4967, 1.472, 1.437, 1.4776, 1.4855, 1.4001, 1.3554, 1.4543, 1.4377, 1.3688, 0.9908, 1.4742, 1.2636, 0.5805, 0.7435, 1.3646, 0.8889, 0.8221, 0.5913, 0.9711, 0.4076, 0.6911, 0.9165, -0.2193, 0.4523, 0.6166, 0.6333, 0.3166, 0.0298, 0.5944, -0.2759, 0.6763, -0.0551, 1.5554, 1.5534, 1.5506, 1.5492, 1.5492, 1.5492, 1.5492, 1.5492, 1.549, 1.549, 1.549, 1.549, 1.5487, 1.5477, 1.5474, 1.5472, 1.5469, 1.5454, 1.5444, 1.5443, 1.5438, 1.5421, 1.5418, 1.5417, 1.5416, 1.5402, 1.5401, 1.5397, 1.5393, 1.5392, 1.534, 1.5176, 1.4366, 1.4884, 1.4086, 1.4379, 0.9151, 1.0869, 1.1656, 0.6265, 0.9853, 0.0706, -0.2728, 0.4694, 0.3215, 0.139, 0.8525, -0.1295, 0.6797, -0.0479, 1.7359, 1.7312, 1.727, 1.7254, 1.7254, 1.7254, 1.7254, 1.7254, 1.7254, 1.7254, 1.7254, 1.7254, 1.7244, 1.7225, 1.7224, 1.7218, 1.7216, 1.7214, 1.7214, 1.7214, 1.7211, 1.721, 1.7207, 1.7197, 1.7188, 1.7188, 1.7187, 1.7183, 1.7176, 1.7175, 1.7165, 1.7172, 1.7043, 1.6978, 1.7055, 1.7009, 1.6143, 1.6705, 1.6562, 0.8307, 1.6809, 1.4305, 0.5775, 0.0794, 0.3055, 1.2093, 1.4339, 1.5009, 1.1673, 1.5656, 1.5321, 0.8768, 0.2443, 0.6046, -0.1257, 1.9809, 1.9799, 1.9798, 1.9798, 1.9798, 1.9798, 1.9798, 1.9798, 1.9797, 1.9797, 1.9796, 1.9795, 1.9794, 1.9794, 1.9794, 1.9794, 1.9794, 1.9794, 1.9792, 1.9792, 1.9792, 1.9792, 1.9791, 1.9791, 1.9791, 1.9791, 1.9791, 1.9768, 1.9764, 1.9762, 1.9283, 0.633, 1.7067, 1.3983], \"logprob\": [30.0, 29.0, 28.0, 27.0, 26.0, 25.0, 24.0, 23.0, 22.0, 21.0, 20.0, 19.0, 18.0, 17.0, 16.0, 15.0, 14.0, 13.0, 12.0, 11.0, 10.0, 9.0, 8.0, 7.0, 6.0, 5.0, 4.0, 3.0, 2.0, 1.0, -5.2783, -5.8335, -6.043, -5.6423, -6.2191, -6.5752, -6.2006, -6.6383, -6.5962, -6.6494, -6.7531, -6.6724, -6.8289, -6.8035, -6.8967, -6.7552, -7.0322, -7.0483, -7.0817, -7.1157, -6.3401, -7.1514, -7.1695, -7.0994, -7.1516, -7.1698, -7.2072, -7.2265, -7.2265, -7.1007, -4.8104, -7.0854, -6.5112, -5.8351, -6.1675, -6.0323, -6.1374, -6.4192, -6.7478, -6.9082, -6.7854, -6.4002, -6.5428, -6.5541, -5.9532, -5.9745, -6.3044, -6.4997, -4.9003, -6.186, -6.5578, -6.3835, -6.063, -6.0829, -6.2452, -6.4666, -6.3903, -6.2185, -6.3158, -6.4949, -6.4883, -5.807, -6.4706, -6.4932, -6.8977, -6.9149, -6.9688, -7.0456, -7.0656, -7.1958, -7.2191, -7.2191, -7.243, -7.2928, -7.2928, -7.2928, -7.3186, -7.3452, -7.3452, -7.2457, -7.3725, -7.4293, -7.459, -7.4303, -7.4895, -7.4898, -7.4898, -7.521, -7.521, -7.521, -7.521, -7.521, -7.521, -6.8845, -6.2929, -7.2682, -7.4145, -6.6529, -6.4098, -7.1791, -7.0756, -6.811, -5.6253, -7.3466, -6.8452, -5.3212, -5.8508, -7.0942, -6.2611, -6.2388, -5.9256, -6.5055, -5.8971, -6.3135, -6.6069, -5.6098, -6.2471, -6.4613, -6.5947, -6.5255, -6.4139, -6.7497, -6.4968, -6.8829, -6.8863, -5.4562, -5.9443, -6.3628, -6.5201, -6.5201, -6.5201, -6.5201, -6.5201, -6.5447, -6.5447, -6.5447, -6.5447, -6.57, -6.6638, -6.6922, -6.7068, -6.7366, -5.6801, -6.9184, -6.9366, -6.8501, -7.0748, -7.0963, -7.0963, -7.0964, -7.0561, -7.1869, -7.2108, -7.2112, -7.2355, -6.5358, -6.7818, -5.3883, -6.7108, -6.0963, -6.6709, -5.4884, -6.109, -6.3988, -5.5673, -6.4537, -5.8311, -5.6634, -6.1591, -6.1222, -6.0819, -6.4392, -6.4343, -6.5875, -6.5722, -2.8683, -5.6798, -6.2932, -6.4567, -6.4567, -6.4567, -6.4567, -6.4567, -6.4567, -6.4567, -6.4567, -6.4567, -6.5423, -6.0015, -6.7034, -6.7391, -6.7392, -6.7575, -6.7575, -6.7575, -6.7762, -6.7762, -6.7952, -6.8747, -6.9388, -6.9388, -6.9389, -6.9613, -7.0075, -7.0075, -6.0165, -6.1739, -6.0457, -6.5989, -6.7377, -6.8151, -6.3834, -6.6886, -6.6872, -5.6936, -6.7279, -6.441, -5.6434, -5.3112, -5.5962, -6.3788, -6.5642, -6.6168, -6.4677, -6.6577, -6.6495, -6.4892, -6.35, -6.4733, -6.4305, -5.4113, -5.5995, -5.6144, -5.6219, -5.6219, -5.6219, -5.6219, -5.6219, -5.6295, -5.6372, -5.6527, -5.6684, -5.6763, -5.6763, -5.6763, -5.6763, -5.6763, -5.6844, -5.7006, -5.7171, -5.7171, -5.7171, -5.7255, -5.7255, -5.7255, -5.7255, -5.7255, -6.0154, -6.0613, -6.085, -5.8538, -5.5608, -5.997, -5.9835]}, \"token.table\": {\"Topic\": [2, 2, 2, 1, 2, 2, 2, 2, 4, 4, 2, 3, 1, 2, 3, 1, 2, 3, 4, 5, 1, 1, 2, 3, 4, 5, 1, 2, 3, 5, 5, 5, 5, 1, 3, 4, 1, 1, 2, 3, 3, 3, 3, 4, 2, 4, 4, 3, 4, 5, 2, 2, 3, 3, 4, 1, 3, 3, 3, 4, 1, 3, 3, 5, 3, 5, 4, 1, 2, 3, 4, 5, 3, 1, 2, 3, 3, 2, 3, 4, 5, 3, 4, 4, 4, 4, 1, 1, 1, 2, 1, 2, 3, 4, 5, 1, 2, 3, 4, 5, 4, 1, 2, 3, 4, 5, 1, 2, 3, 4, 5, 2, 3, 4, 1, 2, 3, 4, 5, 1, 2, 3, 4, 5, 2, 1, 2, 4, 1, 3, 3, 3, 4, 1, 4, 5, 3, 3, 1, 2, 3, 4, 5, 1, 2, 3, 4, 5, 5, 5, 2, 2, 3, 4, 2, 1, 3, 2, 2, 5, 2, 2, 3, 3, 4, 1, 2, 4, 1, 1, 2, 5, 1, 2, 4, 1, 1, 5, 2, 2, 3, 1, 3, 4, 5, 2, 4, 4, 4, 3, 4, 1, 2, 3, 4, 5, 1, 2, 3, 4, 5, 1, 2, 4, 2, 3, 5, 2, 1, 4, 3, 2, 2, 2, 3, 4, 5, 1, 2, 3, 4, 5, 3, 4, 3, 1, 2, 3, 4, 5, 1, 2, 3, 4, 5, 1, 2, 5, 1, 2, 3, 4, 5, 5, 1, 2, 3, 4, 5, 1, 3, 4, 5, 1, 3, 4, 5, 1, 2, 3, 4, 5, 1, 2, 3, 4, 5, 1, 2, 3, 4, 5, 2, 4, 2, 5, 5, 1, 2, 3, 4, 5, 2, 1, 2, 3, 4, 5, 2, 2, 2, 3, 2, 3, 5, 2, 3, 5, 4, 1, 1, 5, 1, 1, 2, 3, 4, 5, 2, 3, 4, 2, 3, 4, 2, 4, 5, 5, 1, 1, 2, 3, 4, 5, 3, 4, 1, 3, 1, 1, 5, 1, 1, 1, 2, 3, 5, 2, 1, 2, 3, 5, 5, 2, 1, 2, 3, 2, 4, 5, 1, 2, 3, 2, 2, 3, 3, 2, 4, 2, 4, 5, 3, 4, 5, 2, 1, 5, 1, 2, 3, 4, 5, 1, 2, 4, 5, 3, 4, 1, 2, 1, 2, 3, 5, 3, 1, 5, 3, 3, 3, 5, 3, 3, 1, 1, 2, 1, 2, 1, 2, 3, 4, 5, 5, 1, 2, 3, 4, 5, 1, 2, 3, 5, 4, 2, 4, 4, 4, 4, 3, 4, 1, 1, 4, 1, 2, 3, 4, 1, 1, 5, 4, 4, 5, 5, 1, 2, 3, 4, 3, 1, 2, 3, 4, 5, 1, 2, 1, 3, 4, 5, 1, 1, 5, 1, 5, 1, 3, 4, 5, 4, 1, 2, 3, 4, 5, 4, 1, 2, 3, 4, 5], \"Freq\": [0.9926168989784884, 0.9799960895700274, 0.9827043390144656, 0.026548219701000773, 0.9557359092360278, 0.9779348813537514, 0.9808438257881317, 0.9244768015622554, 0.044022704836297874, 0.9807589912004154, 0.9862953900603619, 0.9879942526107622, 0.9410114306721158, 0.04410991081275543, 0.00980220240283454, 0.1619674550419868, 0.4103175527730333, 0.237552267394914, 0.16736637021005304, 0.01619674550419868, 0.9884368190309741, 0.46473220322787273, 0.20695105924991208, 0.19242817789904104, 0.05083008472804858, 0.08713728810522614, 0.9565358879080275, 0.026768728206381365, 0.017845818804254246, 0.991248991608956, 0.991680070107072, 0.9937328238263619, 0.993737831754829, 0.9807192559925787, 0.429854216961567, 0.5677319846662207, 0.9808463637581952, 0.8722778574479702, 0.07048709959175516, 0.05286532469381637, 0.9898880119355812, 0.9892294518975279, 0.01047780180043993, 0.9849133692413533, 0.9185601199008572, 0.0713444753321054, 0.9952528744737881, 0.016470615800519953, 0.9223544848291174, 0.04941184740155986, 0.9753566590053657, 0.8869957661120943, 0.11087447076401179, 0.9730247166540568, 0.9915513800966858, 0.03152181109678889, 0.9614152384520612, 0.9730243887811171, 0.018199462292545883, 0.9645715015049319, 0.0570384631927948, 0.9268750268829155, 0.9892294518975279, 0.9925212578469916, 0.9957897069205471, 0.9963473813516368, 0.9952528744737879, 0.6428040972833567, 0.0504160076300672, 0.094530014306376, 0.2016640305202688, 0.0126040019075168, 0.9826595146986549, 0.9291226622567529, 0.05210033620131324, 0.01736677873377108, 0.9927955054613605, 0.24764634977858344, 0.11608422645871098, 0.5881600807241356, 0.04643369058348439, 0.2565359633442742, 0.7346257132131488, 0.9836785156287108, 0.9817667882857624, 0.9912677302260566, 0.9792788499966121, 0.9887450687839899, 0.9458140038096394, 0.03684989625232361, 0.02255759225094264, 0.4285942527679102, 0.2782103044282926, 0.20301833025848376, 0.06767277675282792, 0.12544387996725068, 0.40420805767225215, 0.08362925331150045, 0.3205788043607517, 0.06039890516941699, 0.9738458179829642, 0.42121921241872196, 0.17536473333350874, 0.15989137450996385, 0.19083809215705363, 0.05243749379090212, 0.12091027944851385, 0.43614065086785353, 0.2590934559611011, 0.14681962504462395, 0.038864018394165166, 0.8499539438741659, 0.009238629824719194, 0.13857944737078792, 0.11465154859547463, 0.38981526522461374, 0.2264368084760624, 0.23933510769305327, 0.031529175863755525, 0.10247594775737491, 0.588504728549496, 0.11125960042229277, 0.13468267419540703, 0.06148556865442495, 0.9698347608914897, 0.9130773906684537, 0.07073134716445768, 0.012860244938992306, 0.9921680623945959, 0.9757183599599352, 0.973024686527363, 0.9960218234581332, 0.9807589911023534, 0.9876538301120699, 0.9807589303597843, 0.991248991608956, 0.9910348279767388, 0.9898879666111884, 0.2679301336384016, 0.30096261586779366, 0.15782185954042838, 0.1981948933763519, 0.07340551606531552, 0.13604342262440822, 0.06046374338862587, 0.6726591451984628, 0.11336951885367351, 0.0226739037707347, 0.9933354108397505, 0.9916800701071526, 0.9827040219158398, 0.010275011275655567, 0.2568752818913892, 0.7398008118472008, 0.9698347608914897, 0.9516971059888143, 0.04827449088349058, 0.9938056465676738, 0.9512217446395846, 0.033376201566301215, 0.9852367616547775, 0.9753512955069668, 0.9964492355755239, 0.035166611169706416, 0.9494985015820733, 0.9945280112559192, 0.9698347608914897, 0.9918730699916608, 0.9979424382997006, 0.7692972496304759, 0.013819711071206154, 0.21190223642516104, 0.5020180076402678, 0.07437303816892857, 0.42144721629059523, 0.97930705797202, 0.989214778342735, 0.9854558051700705, 0.9851554035550418, 0.9872694638340047, 0.9874240143644115, 0.011508368421154347, 0.4948598421096369, 0.023016736842308694, 0.4718431052673282, 0.9873880582536597, 0.9891286555712164, 0.9797136091504631, 0.99226462211713, 0.9892294518975279, 0.9952528744737876, 0.5945741763669409, 0.19218559236103142, 0.1321275947482091, 0.030028998806411158, 0.048046398090257854, 0.3527553106594451, 0.15710950810882848, 0.33496932860938905, 0.11857321366704036, 0.03557196410011211, 0.9851114004754684, 0.18213718340499443, 0.8126120490376675, 0.5440455192337057, 0.26114184923217876, 0.19585638692413404, 0.9817516839340579, 0.9876530661521913, 0.9895991039478236, 0.9941422088699666, 0.9717848304387121, 0.9862953900603619, 0.4979299813478259, 0.19643109355923405, 0.17359026872676497, 0.13247678402832064, 0.16334020889483677, 0.08522097855382789, 0.5255293677486053, 0.1396677148521068, 0.08522097855382789, 0.8839059360357764, 0.11184115925350639, 0.9886831455318967, 0.6885742267043494, 0.09691044672135289, 0.03570384879207738, 0.015301649482318876, 0.15301649482318877, 0.6796807389635761, 0.23268349622176476, 0.042862749304009296, 0.024492999602291027, 0.01836974970171827, 0.9935536746851423, 0.0469807108332938, 0.939614216665876, 0.1908957526067311, 0.1908957526067311, 0.4154789909675912, 0.13474994301651608, 0.06737497150825804, 0.994888006456482, 0.3696387436943721, 0.22424750450791908, 0.29078247837290605, 0.056677940699803725, 0.056677940699803725, 0.00522823313338538, 0.6221597428728602, 0.07319526386739532, 0.29800928860296666, 0.7776544137835529, 0.040929179672818575, 0.013643059890939524, 0.1637167186912743, 0.0649235127654497, 0.5293763348567437, 0.27967051652809105, 0.04494704729915749, 0.07990586186516886, 0.48070803299865345, 0.1879131401722009, 0.17917299411767992, 0.13110219081781457, 0.02185036513630243, 0.10313275813297372, 0.4583678139243276, 0.14610474068837945, 0.22631910812513678, 0.06875517208864915, 0.9799949164265106, 0.9996189842830526, 0.9929986955082092, 0.9966985333113786, 0.9963473813516368, 0.2600184079377795, 0.09333994131099778, 0.5667067865310579, 0.08000566398085524, 0.013334277330142539, 0.98831188013659, 0.2514365413317045, 0.0019193629109290422, 0.3934693967404536, 0.09404878263552306, 0.2591139929754207, 0.9736217925093241, 0.9698347608914897, 0.9698347608914897, 0.9892294518975279, 0.9770498364672624, 0.028736759896095955, 0.9941239782781862, 0.8503423648195233, 0.09242851791516557, 0.05545711074909934, 0.9786288612821501, 0.9957869153664946, 0.9668602927820659, 0.029298796750971693, 0.9935634444744784, 0.16977507353938567, 0.3941207064307167, 0.024253581934197955, 0.23040902837488056, 0.17583846902293518, 0.10225507735554386, 0.04382360458094737, 0.8472563552316491, 0.9174668600810183, 0.019520571491085496, 0.05856171447325649, 0.9605960288651951, 0.024630667406799873, 0.9948927992108109, 0.9963473813516368, 0.992160946542072, 0.07615338258842455, 0.574611886803567, 0.14538373039608324, 0.17999890429991255, 0.020769104342297603, 0.019573324703528214, 0.9590929104728825, 0.012527519850762623, 0.9771465483594846, 0.9888405625461991, 0.993538820348567, 0.004264115108792133, 0.9943720863050538, 0.9927850773667747, 0.9271350299625252, 0.04107560259327643, 0.029339716138054594, 0.005867943227610918, 0.9698348263975833, 0.09118550156033416, 0.013026500222904878, 0.8858020151575318, 0.9925185869639457, 0.9963473813516368, 0.981385639435609, 0.8969066638929587, 0.06608785944474432, 0.037764491111282474, 0.015718462500245788, 0.958826212514993, 0.015718462500245788, 0.005385432483055836, 0.005385432483055836, 0.9855341443992179, 0.9717878299582687, 0.8531531596797433, 0.1398611737179907, 0.9866969056644003, 0.9717878305656429, 0.9891286769346235, 0.03346387924802984, 0.9369886189448355, 0.03346387924802984, 0.10491633750520744, 0.8859601833773073, 0.9959908509432879, 0.9827048461457806, 0.9867348878724699, 0.9937328238263642, 0.021365022880618655, 0.007121674293539552, 0.8617225895182857, 0.09258176581601417, 0.021365022880618655, 0.1385286739752516, 0.025187031631863924, 0.2770573479505032, 0.5541146959010064, 0.008865665418955414, 0.9840888615040508, 0.8944264616640951, 0.09846896825659762, 0.941439396842871, 0.025444308022780297, 0.025444308022780297, 0.995628873560707, 0.9968688465006506, 0.9896300415386282, 0.9963473813516368, 0.9947865289492479, 0.9879942526107622, 0.9836700111591179, 0.9937328243871054, 0.9892294518975279, 0.9879942526107622, 0.9837398900693061, 0.22146203713975984, 0.7686035406615195, 0.8951808837206034, 0.09523200890644717, 0.40566348692195175, 0.3950579055645151, 0.10075302289564815, 0.06098209280526072, 0.03977093009038743, 0.991248991608956, 0.21003990775963735, 0.34370166724304296, 0.2259520219838523, 0.18139810215605043, 0.041371496982958875, 0.85413710358623, 0.12857977903448622, 0.00918426993103473, 0.9937328238263514, 0.9952528744737874, 0.978532290782013, 0.9952528744737882, 0.97971368003157, 0.9922645200556784, 0.992264514494216, 0.9879942526107622, 0.9817670853982505, 0.9869015203237819, 0.017891187183770627, 0.9840152951073845, 0.8299575338958165, 0.013832625564930274, 0.1314099428668376, 0.020748938347395413, 0.9929466542746137, 0.9990320480029825, 0.9937328361535694, 0.9952528744737882, 0.9952528744737876, 0.991248991608956, 0.991248991608956, 0.026286376714215794, 0.026286376714215794, 0.15771826028529476, 0.7885913014264738, 0.9744046260562473, 0.25641340657063744, 0.0026709729851108065, 0.2003229738833105, 0.40331692075173176, 0.13621962224065112, 0.9703353190687213, 0.02970414242047106, 0.9777671634263454, 0.02729795579493122, 0.9645277714209032, 0.9973855352840649, 0.9938575305411176, 0.9927159988151228, 0.9916800701071526, 0.9851184990571633, 0.008492400853941063, 0.00868808102473185, 0.14769737742044145, 0.07819272922258665, 0.7558630491516709, 0.9952528744737881, 0.15974106537554705, 0.16565740113019695, 0.24256976594064553, 0.3135657949964442, 0.11832671509299782, 0.9952528744737881, 0.21446580060587056, 0.32813267492698195, 0.1844405885210487, 0.15441537643622683, 0.11795619033322881], \"Term\": [\"___ ___\", \"___ ____\", \"___ _____\", \"____ ___\", \"____ ___\", \"____ ____\", \"_____ _____\", \"absolute truth\", \"absolute truth\", \"accuracy ofn\", \"adam laskaedu\", \"andn slpittedu\", \"anonymous ftp\", \"anonymous ftp\", \"anonymous ftp\", \"answer question\", \"answer question\", \"answer question\", \"answer question\", \"answer question\", \"anybody know\", \"anyone else\", \"anyone else\", \"anyone else\", \"anyone else\", \"anyone else\", \"anyone know\", \"anyone know\", \"anyone know\", \"appressian soviet\", \"argicn closed\", \"armenia today\", \"armenian government\", \"att bell\", \"attorney general\", \"attorney general\", \"available anonymous\", \"available via\", \"available via\", \"available via\", \"back door\", \"bank njxp\", \"bear arm\", \"bear arm\", \"believe god\", \"believe god\", \"believe speak\", \"bill right\", \"bill right\", \"bill right\", \"billion year\", \"bit image\", \"bit image\", \"bit key\", \"blah blah\", \"blue jay\", \"blue jay\", \"brian kendig\", \"care taken\", \"care taken\", \"center policy\", \"center policy\", \"chastity intellect\", \"clayton cramer\", \"clipper chip\", \"closed road\", \"companyn tratuscom\", \"computer science\", \"computer science\", \"computer science\", \"computer science\", \"computer science\", \"copy protection\", \"could someone\", \"could someone\", \"could someone\", \"court order\", \"david koresh\", \"david koresh\", \"david koresh\", \"david koresh\", \"david sternlight\", \"david sternlight\", \"david veal\", \"death penalty\", \"disclaimer applyn\", \"disk controller\", \"disk drive\", \"do window\", \"do window\", \"doesnt mean\", \"doesnt mean\", \"doesnt mean\", \"doesnt mean\", \"doesnt mean\", \"dont believe\", \"dont believe\", \"dont believe\", \"dont believe\", \"dont believe\", \"dont blame\", \"dont know\", \"dont know\", \"dont know\", \"dont know\", \"dont know\", \"dont see\", \"dont see\", \"dont see\", \"dont see\", \"dont see\", \"dont speak\", \"dont speak\", \"dont speak\", \"dont think\", \"dont think\", \"dont think\", \"dont think\", \"dont think\", \"dont want\", \"dont want\", \"dont want\", \"dont want\", \"dont want\", \"drinking last\", \"email address\", \"email address\", \"email address\", \"employer opinion\", \"encryption algorithm\", \"encryption technology\", \"enforcement agency\", \"ensure accuracy\", \"error message\", \"error omission\", \"escape turk\", \"escrow agency\", \"escrow agent\", \"even though\", \"even though\", \"even though\", \"even though\", \"even though\", \"every day\", \"every day\", \"every day\", \"every day\", \"every day\", \"exists single\", \"exterminationn ohanus\", \"father son\", \"federal government\", \"federal government\", \"federal government\", \"former ninjaite\", \"ftp site\", \"ftp site\", \"god exist\", \"god god\", \"god god\", \"god love\", \"god want\", \"gordon bank\", \"great care\", \"great care\", \"greatly appreciatedn\", \"green former\", \"gun control\", \"hard disk\", \"hard drive\", \"hard drive\", \"hard drive\", \"health care\", \"health care\", \"health care\", \"help appreciatedn\", \"help greatly\", \"henry spencer\", \"high jackedn\", \"holy spirit\", \"home run\", \"human right\", \"human right\", \"human right\", \"human right\", \"image file\", \"info service\", \"information error\", \"instruction set\", \"intellect andn\", \"investor packetn\", \"ive got\", \"ive got\", \"ive got\", \"ive got\", \"ive got\", \"ive seen\", \"ive seen\", \"ive seen\", \"ive seen\", \"ive seen\", \"jake livni\", \"janet reno\", \"janet reno\", \"jesus christ\", \"jesus christ\", \"jesus christ\", \"jet propulsion\", \"jimmy carter\", \"keep bear\", \"key escrow\", \"know youll\", \"laskaedu high\", \"last night\", \"last night\", \"last night\", \"last night\", \"last year\", \"last year\", \"last year\", \"last year\", \"last year\", \"law enforcement\", \"law enforcement\", \"law enforcementn\", \"let know\", \"let know\", \"let know\", \"let know\", \"let know\", \"like know\", \"like know\", \"like know\", \"like know\", \"like know\", \"livesey writesn\", \"local bus\", \"local bus\", \"long time\", \"long time\", \"long time\", \"long time\", \"long time\", \"longer exists\", \"look like\", \"look like\", \"look like\", \"look like\", \"look like\", \"los angeles\", \"los angeles\", \"los angeles\", \"los angeles\", \"mailing list\", \"mailing list\", \"mailing list\", \"mailing list\", \"make sense\", \"make sense\", \"make sense\", \"make sense\", \"make sense\", \"make sure\", \"make sure\", \"make sure\", \"make sure\", \"make sure\", \"many people\", \"many people\", \"many people\", \"many people\", \"many people\", \"mary shafer\", \"maxaxaxaxaxaxaxaxaxaxaxaxaxaxaxn maxaxaxaxaxaxaxaxaxaxaxaxaxaxaxn\", \"michael adam\", \"might serve\", \"mountain pass\", \"much better\", \"much better\", \"much better\", \"much better\", \"much better\", \"new testament\", \"new york\", \"new york\", \"new york\", \"new york\", \"new york\", \"next question\", \"night bikern\", \"ninjaite drinking\", \"njxp skepticism\", \"ofn god\", \"ofn god\", \"ohanus appressian\", \"old testament\", \"old testament\", \"old testament\", \"omission excepted\", \"open look\", \"operating system\", \"operating system\", \"opinion employer\", \"opinion expressed\", \"opinion expressed\", \"opinion expressed\", \"opinion expressed\", \"opinion expressed\", \"opinion mine\", \"opinion mine\", \"opinion mine\", \"original sin\", \"original sin\", \"original sin\", \"others dont\", \"others dont\", \"ottoman empire\", \"pass might\", \"pdsgicom jon\", \"people dont\", \"people dont\", \"people dont\", \"people dont\", \"people dont\", \"people keep\", \"people keep\", \"pgp public\", \"pgp public\", \"phone fax\", \"please email\", \"please email\", \"please reply\", \"please respond\", \"please send\", \"please send\", \"please send\", \"please send\", \"plnasagovn jet\", \"policy research\", \"policy research\", \"policy research\", \"power play\", \"proceeded work\", \"propulsion lab\", \"public domain\", \"public domain\", \"public domain\", \"public health\", \"public health\", \"public health\", \"public key\", \"public key\", \"public key\", \"pythagorean reform\", \"real world\", \"real world\", \"red sox\", \"reform church\", \"remember way\", \"right keep\", \"right keep\", \"right keep\", \"right people\", \"right people\", \"road mountain\", \"ron baalke\", \"run window\", \"sahak melkonian\", \"san francisco\", \"san francisco\", \"san francisco\", \"san francisco\", \"san francisco\", \"san jose\", \"san jose\", \"san jose\", \"san jose\", \"second amendment\", \"second amendment\", \"send email\", \"send email\", \"send mail\", \"send mail\", \"send mail\", \"serdar argicn\", \"serial number\", \"serial port\", \"serve way\", \"session key\", \"shameful surrender\", \"shot savesn\", \"single turkish\", \"skepticism chastity\", \"slpittedu shameful\", \"software package\", \"solar system\", \"solar system\", \"someone please\", \"someone please\", \"something like\", \"something like\", \"something like\", \"something like\", \"something like\", \"soul sahak\", \"sound like\", \"sound like\", \"sound like\", \"sound like\", \"sound like\", \"source code\", \"source code\", \"source code\", \"soviet armenia\", \"speak companyn\", \"speak men\", \"special investor\", \"sternlight great\", \"steve hendricks\", \"still remember\", \"surrender soon\", \"taken ensure\", \"tape drive\", \"tear gas\", \"tear gas\", \"thank youn\", \"thank youn\", \"thank youn\", \"thank youn\", \"thanks advance\", \"thanks advancen\", \"today longer\", \"today special\", \"tratuscom write\", \"turk proceeded\", \"turkish soul\", \"two thing\", \"two thing\", \"two thing\", \"two thing\", \"unit key\", \"united state\", \"united state\", \"united state\", \"united state\", \"united state\", \"via email\", \"via email\", \"via ftp\", \"volume number\", \"volume number\", \"way escape\", \"window manager\", \"wondering anyone\", \"work exterminationn\", \"work fine\", \"work fine\", \"world war\", \"world war\", \"world war\", \"world war\", \"write today\", \"writesn article\", \"writesn article\", \"writesn article\", \"writesn article\", \"writesn article\", \"wstratuscom believe\", \"year ago\", \"year ago\", \"year ago\", \"year ago\", \"year ago\"]}, \"R\": 30, \"lambda.step\": 0.01, \"plot.opts\": {\"xlab\": \"PC1\", \"ylab\": \"PC2\"}, \"topic.order\": [2, 5, 1, 4, 3]};\n",
              "\n",
              "function LDAvis_load_lib(url, callback){\n",
              "  var s = document.createElement('script');\n",
              "  s.src = url;\n",
              "  s.async = true;\n",
              "  s.onreadystatechange = s.onload = callback;\n",
              "  s.onerror = function(){console.warn(\"failed to load library \" + url);};\n",
              "  document.getElementsByTagName(\"head\")[0].appendChild(s);\n",
              "}\n",
              "\n",
              "if(typeof(LDAvis) !== \"undefined\"){\n",
              "   // already loaded: just create the visualization\n",
              "   !function(LDAvis){\n",
              "       new LDAvis(\"#\" + \"ldavis_el1441402880053859367390667553\", ldavis_el1441402880053859367390667553_data);\n",
              "   }(LDAvis);\n",
              "}else if(typeof define === \"function\" && define.amd){\n",
              "   // require.js is available: use it to load d3/LDAvis\n",
              "   require.config({paths: {d3: \"https://cdnjs.cloudflare.com/ajax/libs/d3/3.5.5/d3.min\"}});\n",
              "   require([\"d3\"], function(d3){\n",
              "      window.d3 = d3;\n",
              "      LDAvis_load_lib(\"https://cdn.rawgit.com/bmabey/pyLDAvis/files/ldavis.v1.0.0.js\", function(){\n",
              "        new LDAvis(\"#\" + \"ldavis_el1441402880053859367390667553\", ldavis_el1441402880053859367390667553_data);\n",
              "      });\n",
              "    });\n",
              "}else{\n",
              "    // require.js not available: dynamically load d3 & LDAvis\n",
              "    LDAvis_load_lib(\"https://cdnjs.cloudflare.com/ajax/libs/d3/3.5.5/d3.min.js\", function(){\n",
              "         LDAvis_load_lib(\"https://cdn.rawgit.com/bmabey/pyLDAvis/files/ldavis.v1.0.0.js\", function(){\n",
              "                 new LDAvis(\"#\" + \"ldavis_el1441402880053859367390667553\", ldavis_el1441402880053859367390667553_data);\n",
              "            })\n",
              "         });\n",
              "}\n",
              "</script>"
            ],
            "text/plain": [
              "PreparedData(topic_coordinates=                x           y  topics  cluster       Freq\n",
              "topic                                                    \n",
              "1      150.222153  -72.269554       1        1  25.782692\n",
              "4       51.163364 -159.968018       2        1  21.833265\n",
              "0      -73.144554   21.523815       3        1  21.037825\n",
              "3      -66.410133 -110.606438       4        1  17.619056\n",
              "2       54.417324   12.443444       5        1  13.727162, topic_info=      Category         Freq  ...  loglift  logprob\n",
              "6066   Default  2553.000000  ...  30.0000  30.0000\n",
              "516    Default   560.000000  ...  29.0000  29.0000\n",
              "9938   Default   336.000000  ...  28.0000  28.0000\n",
              "1677   Default   229.000000  ...  27.0000  27.0000\n",
              "5365   Default   277.000000  ...  26.0000  26.0000\n",
              "...        ...          ...  ...      ...      ...\n",
              "649     Topic5    79.738552  ...   1.9762  -6.0850\n",
              "5664    Topic5   100.477380  ...   1.9283  -5.8538\n",
              "6761    Topic5   134.691401  ...   0.6330  -5.5608\n",
              "11596   Topic5    87.071460  ...   1.7067  -5.9970\n",
              "8598    Topic5    88.255891  ...   1.3983  -5.9835\n",
              "\n",
              "[294 rows x 6 columns], token_table=       Topic      Freq       Term\n",
              "term                             \n",
              "0          2  0.992617    ___ ___\n",
              "1          2  0.979996   ___ ____\n",
              "2          2  0.982704  ___ _____\n",
              "11         1  0.026548   ____ ___\n",
              "11         2  0.955736   ____ ___\n",
              "...      ...       ...        ...\n",
              "11687      1  0.214466   year ago\n",
              "11687      2  0.328133   year ago\n",
              "11687      3  0.184441   year ago\n",
              "11687      4  0.154415   year ago\n",
              "11687      5  0.117956   year ago\n",
              "\n",
              "[473 rows x 3 columns], R=30, lambda_step=0.01, plot_opts={'xlab': 'PC1', 'ylab': 'PC2'}, topic_order=[2, 5, 1, 4, 3])"
            ]
          },
          "metadata": {
            "tags": []
          },
          "execution_count": 32
        }
      ]
    },
    {
      "cell_type": "markdown",
      "metadata": {
        "id": "X014UbEYCKpr",
        "colab_type": "text"
      },
      "source": [
        "# LDA Bigram - tf - stem"
      ]
    },
    {
      "cell_type": "code",
      "metadata": {
        "id": "EZrJmVEFCPFv",
        "colab_type": "code",
        "colab": {}
      },
      "source": [
        "data_bigram_stem_tf = count.fit_transform(df.bigram_stem)"
      ],
      "execution_count": 0,
      "outputs": []
    },
    {
      "cell_type": "code",
      "metadata": {
        "id": "9oNb8PCrCPQf",
        "colab_type": "code",
        "outputId": "2f461e1f-429a-4f71-8c1e-48d832e19ff9",
        "colab": {
          "base_uri": "https://localhost:8080/",
          "height": 399
        }
      },
      "source": [
        "# Parametri di ricerca\n",
        "search_params = {'n_components': [5,10, 15, 20, 25, 30], 'learning_decay': [.5, .7, .9]}\n",
        "\n",
        "# Inizializzazione Modello\n",
        "lda = LatentDirichletAllocation()\n",
        "\n",
        "# Inizializzazione GridSearchCV\n",
        "model = GridSearchCV(lda, param_grid=search_params)\n",
        "\n",
        "# Grid Search\n",
        "model.fit(data_bigram_stem_tf)"
      ],
      "execution_count": 0,
      "outputs": [
        {
          "output_type": "execute_result",
          "data": {
            "text/plain": [
              "GridSearchCV(cv=None, error_score=nan,\n",
              "             estimator=LatentDirichletAllocation(batch_size=128,\n",
              "                                                 doc_topic_prior=None,\n",
              "                                                 evaluate_every=-1,\n",
              "                                                 learning_decay=0.7,\n",
              "                                                 learning_method='batch',\n",
              "                                                 learning_offset=10.0,\n",
              "                                                 max_doc_update_iter=100,\n",
              "                                                 max_iter=10,\n",
              "                                                 mean_change_tol=0.001,\n",
              "                                                 n_components=10, n_jobs=None,\n",
              "                                                 perp_tol=0.1,\n",
              "                                                 random_state=None,\n",
              "                                                 topic_word_prior=None,\n",
              "                                                 total_samples=1000000.0,\n",
              "                                                 verbose=0),\n",
              "             iid='deprecated', n_jobs=None,\n",
              "             param_grid={'learning_decay': [0.5, 0.7, 0.9],\n",
              "                         'n_components': [5, 10, 15, 20, 25, 30]},\n",
              "             pre_dispatch='2*n_jobs', refit=True, return_train_score=False,\n",
              "             scoring=None, verbose=0)"
            ]
          },
          "metadata": {
            "tags": []
          },
          "execution_count": 38
        }
      ]
    },
    {
      "cell_type": "code",
      "metadata": {
        "id": "iLitNRf5CPOS",
        "colab_type": "code",
        "outputId": "54f3937f-8154-4dab-deb4-16a7a3d336dc",
        "colab": {
          "base_uri": "https://localhost:8080/",
          "height": 72
        }
      },
      "source": [
        "# Stimato il Miglior modello \n",
        "best_lda_model = model.best_estimator_\n",
        "\n",
        "# Parametri del modello\n",
        "print(\"Best Model Params: \", model.best_params_)\n",
        "\n",
        "# Log Likelihood Score\n",
        "print(\"Best Log Likelihood Score: \", model.best_score_)\n",
        "\n",
        "# Perplessità\n",
        "print(\"Model Perplexity: \", best_lda_model.perplexity(data_bigram_stem_tf))"
      ],
      "execution_count": 0,
      "outputs": [
        {
          "output_type": "stream",
          "text": [
            "Best Model Params:  {'learning_decay': 0.7, 'n_components': 5}\n",
            "Best Log Likelihood Score:  -664554.8553902761\n",
            "Model Perplexity:  8481.898621352602\n"
          ],
          "name": "stdout"
        }
      ]
    },
    {
      "cell_type": "code",
      "metadata": {
        "id": "BdHhbKeOChCL",
        "colab_type": "code",
        "outputId": "a195009b-1c33-44f8-d158-200008a6324c",
        "colab": {
          "base_uri": "https://localhost:8080/",
          "height": 1000
        }
      },
      "source": [
        "pyLDAvis.enable_notebook()\n",
        "vis = pyLDAvis.sklearn.prepare(best_lda_model, data_bigram_stem_tf, count, mds='tsne')\n",
        "vis"
      ],
      "execution_count": 0,
      "outputs": [
        {
          "output_type": "stream",
          "text": [
            "/usr/local/lib/python3.6/dist-packages/pyLDAvis/_prepare.py:257: FutureWarning: Sorting because non-concatenation axis is not aligned. A future version\n",
            "of pandas will change to not sort by default.\n",
            "\n",
            "To accept the future behavior, pass 'sort=False'.\n",
            "\n",
            "To retain the current behavior and silence the warning, pass 'sort=True'.\n",
            "\n",
            "  return pd.concat([default_term_info] + list(topic_dfs))\n"
          ],
          "name": "stderr"
        },
        {
          "output_type": "execute_result",
          "data": {
            "text/html": [
              "\n",
              "<link rel=\"stylesheet\" type=\"text/css\" href=\"https://cdn.rawgit.com/bmabey/pyLDAvis/files/ldavis.v1.0.0.css\">\n",
              "\n",
              "\n",
              "<div id=\"ldavis_el14414028800538533640180232\"></div>\n",
              "<script type=\"text/javascript\">\n",
              "\n",
              "var ldavis_el14414028800538533640180232_data = {\"mdsDat\": {\"x\": [150.22215270996094, 51.16336441040039, -73.1445541381836, -66.4101333618164, 54.41732406616211], \"y\": [-72.2695541381836, -159.968017578125, 21.523815155029297, -110.60643768310547, 12.44344425201416], \"topics\": [1, 2, 3, 4, 5], \"cluster\": [1, 1, 1, 1, 1], \"Freq\": [24.807000676705904, 21.476585147885828, 19.906941314573825, 17.22703585834252, 16.582437002491925]}, \"tinfo\": {\"Category\": [\"Default\", \"Default\", \"Default\", \"Default\", \"Default\", \"Default\", \"Default\", \"Default\", \"Default\", \"Default\", \"Default\", \"Default\", \"Default\", \"Default\", \"Default\", \"Default\", \"Default\", \"Default\", \"Default\", \"Default\", \"Default\", \"Default\", \"Default\", \"Default\", \"Default\", \"Default\", \"Default\", \"Default\", \"Default\", \"Default\", \"Topic1\", \"Topic1\", \"Topic1\", \"Topic1\", \"Topic1\", \"Topic1\", \"Topic1\", \"Topic1\", \"Topic1\", \"Topic1\", \"Topic1\", \"Topic1\", \"Topic1\", \"Topic1\", \"Topic1\", \"Topic1\", \"Topic1\", \"Topic1\", \"Topic1\", \"Topic1\", \"Topic1\", \"Topic1\", \"Topic1\", \"Topic1\", \"Topic1\", \"Topic1\", \"Topic1\", \"Topic1\", \"Topic1\", \"Topic1\", \"Topic1\", \"Topic1\", \"Topic1\", \"Topic1\", \"Topic1\", \"Topic1\", \"Topic1\", \"Topic1\", \"Topic1\", \"Topic1\", \"Topic1\", \"Topic1\", \"Topic1\", \"Topic1\", \"Topic1\", \"Topic1\", \"Topic1\", \"Topic1\", \"Topic1\", \"Topic1\", \"Topic1\", \"Topic1\", \"Topic1\", \"Topic1\", \"Topic1\", \"Topic1\", \"Topic1\", \"Topic1\", \"Topic1\", \"Topic1\", \"Topic1\", \"Topic1\", \"Topic1\", \"Topic2\", \"Topic2\", \"Topic2\", \"Topic2\", \"Topic2\", \"Topic2\", \"Topic2\", \"Topic2\", \"Topic2\", \"Topic2\", \"Topic2\", \"Topic2\", \"Topic2\", \"Topic2\", \"Topic2\", \"Topic2\", \"Topic2\", \"Topic2\", \"Topic2\", \"Topic2\", \"Topic2\", \"Topic2\", \"Topic2\", \"Topic2\", \"Topic2\", \"Topic2\", \"Topic2\", \"Topic2\", \"Topic2\", \"Topic2\", \"Topic2\", \"Topic2\", \"Topic2\", \"Topic2\", \"Topic2\", \"Topic2\", \"Topic2\", \"Topic2\", \"Topic2\", \"Topic2\", \"Topic2\", \"Topic2\", \"Topic2\", \"Topic3\", \"Topic3\", \"Topic3\", \"Topic3\", \"Topic3\", \"Topic3\", \"Topic3\", \"Topic3\", \"Topic3\", \"Topic3\", \"Topic3\", \"Topic3\", \"Topic3\", \"Topic3\", \"Topic3\", \"Topic3\", \"Topic3\", \"Topic3\", \"Topic3\", \"Topic3\", \"Topic3\", \"Topic3\", \"Topic3\", \"Topic3\", \"Topic3\", \"Topic3\", \"Topic3\", \"Topic3\", \"Topic3\", \"Topic3\", \"Topic3\", \"Topic3\", \"Topic3\", \"Topic3\", \"Topic3\", \"Topic3\", \"Topic3\", \"Topic3\", \"Topic3\", \"Topic3\", \"Topic3\", \"Topic3\", \"Topic3\", \"Topic3\", \"Topic3\", \"Topic3\", \"Topic3\", \"Topic3\", \"Topic3\", \"Topic3\", \"Topic3\", \"Topic3\", \"Topic3\", \"Topic3\", \"Topic3\", \"Topic3\", \"Topic3\", \"Topic3\", \"Topic3\", \"Topic3\", \"Topic3\", \"Topic3\", \"Topic3\", \"Topic3\", \"Topic4\", \"Topic4\", \"Topic4\", \"Topic4\", \"Topic4\", \"Topic4\", \"Topic4\", \"Topic4\", \"Topic4\", \"Topic4\", \"Topic4\", \"Topic4\", \"Topic4\", \"Topic4\", \"Topic4\", \"Topic4\", \"Topic4\", \"Topic4\", \"Topic4\", \"Topic4\", \"Topic4\", \"Topic4\", \"Topic4\", \"Topic4\", \"Topic4\", \"Topic4\", \"Topic4\", \"Topic4\", \"Topic4\", \"Topic4\", \"Topic4\", \"Topic4\", \"Topic4\", \"Topic4\", \"Topic4\", \"Topic4\", \"Topic4\", \"Topic4\", \"Topic4\", \"Topic4\", \"Topic4\", \"Topic4\", \"Topic4\", \"Topic4\", \"Topic4\", \"Topic4\", \"Topic4\", \"Topic4\", \"Topic4\", \"Topic4\", \"Topic4\", \"Topic4\", \"Topic4\", \"Topic4\", \"Topic4\", \"Topic4\", \"Topic4\", \"Topic4\", \"Topic4\", \"Topic4\", \"Topic4\", \"Topic4\", \"Topic4\", \"Topic5\", \"Topic5\", \"Topic5\", \"Topic5\", \"Topic5\", \"Topic5\", \"Topic5\", \"Topic5\", \"Topic5\", \"Topic5\", \"Topic5\", \"Topic5\", \"Topic5\", \"Topic5\", \"Topic5\", \"Topic5\", \"Topic5\", \"Topic5\", \"Topic5\", \"Topic5\", \"Topic5\", \"Topic5\", \"Topic5\", \"Topic5\", \"Topic5\", \"Topic5\", \"Topic5\", \"Topic5\", \"Topic5\", \"Topic5\", \"Topic5\", \"Topic5\", \"Topic5\", \"Topic5\", \"Topic5\", \"Topic5\", \"Topic5\", \"Topic5\", \"Topic5\", \"Topic5\", \"Topic5\", \"Topic5\", \"Topic5\", \"Topic5\", \"Topic5\", \"Topic5\", \"Topic5\", \"Topic5\", \"Topic5\", \"Topic5\", \"Topic5\", \"Topic5\", \"Topic5\", \"Topic5\", \"Topic5\"], \"Freq\": [2502.0, 571.0, 382.0, 360.0, 233.0, 163.0, 159.0, 194.0, 280.0, 217.0, 153.0, 163.0, 156.0, 173.0, 130.0, 143.0, 128.0, 520.0, 127.0, 127.0, 127.0, 127.0, 127.0, 126.0, 146.0, 206.0, 125.0, 128.0, 236.0, 122.0, 142.9951491516365, 87.24743833724008, 87.23441771082403, 85.29040764220021, 69.64191898626028, 69.64191898626028, 69.64191898626028, 69.63795202778539, 56.92541503099744, 54.9689139163932, 53.99129810211149, 53.01336082726496, 53.01331716641657, 53.01331716641657, 52.035307779455, 52.03518210599743, 51.05717460050884, 52.95179088787867, 46.16674490414675, 45.1882542515321, 45.1877413303437, 48.97676585038581, 42.25424172431085, 42.254241724310205, 42.25424172430996, 41.274579671028384, 40.291443423572815, 39.31797554737737, 38.34115014952476, 38.340803085466135, 226.50774928301627, 63.095775045695746, 122.53227233154686, 84.1999480452958, 238.43327235199772, 64.75278795221847, 58.89929014003201, 130.90372210612395, 76.46527339765507, 59.41080617840018, 65.3683786899678, 168.86888716916116, 119.53169996156112, 119.98820568480575, 90.05624771905995, 232.66428710742125, 285.62390620324584, 161.593694254112, 85.07872999842368, 101.13640435472492, 138.4344994027277, 101.65149170480235, 101.52774619855629, 66.28896326750724, 104.13693064236958, 102.19027224134035, 97.47731576504303, 93.38623330996805, 88.85338297631627, 79.13571112799033, 80.93090187404248, 74.48006012779484, 74.84154827892948, 127.995587779858, 127.03518951956725, 127.03518788843276, 127.03518691957183, 127.03518650420595, 127.0348516312417, 126.07443905519976, 125.11427650664268, 121.27048516983349, 120.3095136094546, 120.30951359386619, 120.30951000239322, 120.30950196826863, 120.30943657269617, 120.30935529835436, 115.50497089466421, 115.50492917051241, 115.50492917025566, 114.54401901926792, 114.54401901889818, 114.54401901867546, 114.54401901807812, 114.54401901762813, 111.65989304414808, 129.7644140171065, 97.24393902121433, 82.83313759814902, 79.94971764688016, 77.06443100379462, 77.06443100276125, 127.03256539934796, 81.80199442993904, 361.97533280249473, 151.5852211106734, 156.92265187784213, 158.34370394253588, 253.251801224699, 239.5573623387248, 245.5256304709317, 179.60369756931243, 145.59192037052307, 123.01511645221396, 129.20119681051386, 97.73650726764171, 85.42131095727395, 91.0115757344702, 78.79608193724049, 78.79474624600161, 57.01313881917694, 55.11668385831651, 52.27739899179519, 51.32977708779869, 46.589340643770136, 45.64877177793311, 44.701645104995706, 44.69706359721877, 43.75460307441972, 43.75460307441972, 43.75460307441972, 40.9127034035219, 40.91030694114626, 39.96645864850734, 39.96645864850734, 38.07229540619924, 38.07229540619924, 38.07229540619924, 38.07229540619924, 38.07229540619924, 31.440901659296873, 31.430839661035975, 30.49506824321341, 30.493205775297756, 30.490125639483423, 41.568267205637376, 105.43192566117345, 39.52561911807726, 135.37330933789627, 40.29613992525294, 126.10801982539074, 60.90659055276893, 471.7210254199351, 113.35720728005992, 270.96053100108224, 132.41615362416908, 48.4230870873664, 161.6978062684394, 85.97478496032035, 105.91768279596027, 127.8586720950789, 71.82480430978391, 148.39128030233243, 130.8957420700497, 76.99411501318308, 92.77021108500088, 119.72182924067798, 131.09589215467255, 61.61996485448017, 107.31215934402104, 275.9017143291159, 76.97174507548198, 135.86147535131818, 135.97938572580915, 129.2687539546641, 87.31939555078115, 97.15839631849153, 103.45738807894945, 91.79626262032268, 162.39874173868105, 158.64096108343728, 66.75702998208723, 63.94762985695265, 54.56538866503668, 53.630149600701124, 48.943667748473686, 48.0059973351631, 48.0057903441028, 48.00120120949169, 46.12845768657801, 39.56417710349776, 38.629166199838004, 90.10414804835928, 45.9509591338756, 36.75517935283372, 36.754767059172785, 35.817231986335706, 34.878914192635364, 35.79243014471796, 35.7924100981838, 35.79239654677725, 35.7923934435173, 35.79237884026878, 35.79237721604904, 35.79235668946548, 35.79234690757561, 34.87119421464693, 33.931476973852995, 32.997943479598426, 57.99203763315859, 53.52226034718549, 56.0787139457866, 49.67700854542549, 139.39204250927898, 168.803148808219, 63.89848399176002, 75.63616611298605, 43.83790308778574, 76.26282403780036, 89.82140630733814, 58.7453098940494, 52.711476649798655, 57.69494094605565, 44.01046722398846, 55.24176081218292, 87.06763001857202, 99.19618690735928, 226.12139526615417, 103.42826610551674, 76.1179347502881, 100.40201275766363, 54.31060205031399, 52.74462575714918, 86.07106563442863, 70.17471730682324, 58.90006454400614, 66.66539334368336, 61.87221222226601, 64.39934341004484, 63.24679314567446, 57.384190013905794, 55.45073538880614, 2501.3050040176754, 90.86083717495934, 77.63968013943233, 77.63968013943233, 77.63968013943233, 77.63968013943233, 77.63968013943236, 75.7509525709778, 75.7509525709778, 75.7509525709778, 75.7509525709778, 79.33744653595168, 58.74925250734595, 52.13646665027051, 51.192778415851585, 48.35792209607334, 46.470674672057584, 46.470674672057584, 46.470674672057584, 46.470674672057584, 46.470674672057584, 46.470674672057584, 46.470674672057584, 46.470674672057584, 46.470674672057584, 46.470674672057584, 46.470674672057584, 46.470674672057584, 42.690028561635096, 42.68444071455838, 85.91179754661769, 75.69191294163208, 79.67408467153084, 102.53166998770682, 64.92554013188739, 57.44201530872321, 69.24176432109346, 52.6351031128453, 72.8915176940836, 80.08796929039707, 67.06770909948851, 75.75167563941324, 79.85805844770799, 53.43126827017302, 71.39818689565767, 114.8761057661557, 93.96141987421777, 76.54926326809482, 199.86913906899508, 94.59037116127818, 76.13163633190294, 98.59185454019406, 83.001746577052, 75.51929993758438, 72.0419125343397], \"Term\": [\"maxaxaxaxaxaxaxaxaxaxaxaxaxaxaxn maxaxaxaxaxaxaxaxaxaxaxaxaxaxaxn\", \"anyon know\", \"unit state\", \"thank advancen\", \"clipper chip\", \"___ ___\", \"window manag\", \"hard disk\", \"law enforc\", \"hard drive\", \"power play\", \"health care\", \"gun control\", \"human right\", \"way escap\", \"serial number\", \"close road\", \"new york\", \"pass might\", \"proceed work\", \"serv way\", \"mountain pass\", \"longer exist\", \"road mountain\", \"ftp site\", \"anonym ftp\", \"serdar argicn\", \"might serv\", \"pleas email\", \"ohanu appressian\", \"serial number\", \"henri spencer\", \"david sternlight\", \"holi spirit\", \"spencer toronto\", \"orontoedu utzoohenryn\", \"toronto zoologyn\", \"enforc agenc\", \"great care\", \"care taken\", \"taken ensur\", \"error omiss\", \"accuraci ofn\", \"ensur accuraci\", \"inform error\", \"sternlight great\", \"omiss except\", \"davidn david\", \"unit key\", \"encrypt technolog\", \"brian kendig\", \"god love\", \"center region\", \"sdpa center\", \"region studi\", \"escrow agenc\", \"back door\", \"mark singer\", \"father son\", \"work man\", \"clipper chip\", \"exist god\", \"god exist\", \"new testament\", \"law enforc\", \"session key\", \"young peopl\", \"believ god\", \"say god\", \"ofn inform\", \"court order\", \"mani peopl\", \"make sens\", \"dont believ\", \"doesnt mean\", \"dont think\", \"dont know\", \"look like\", \"jesu christ\", \"answer question\", \"year ago\", \"dont see\", \"even though\", \"doesnt make\", \"sound like\", \"writesn articl\", \"last year\", \"someth like\", \"dont want\", \"tri get\", \"seem like\", \"dont like\", \"want ton\", \"close road\", \"pass might\", \"proceed work\", \"serv way\", \"mountain pass\", \"longer exist\", \"road mountain\", \"serdar argicn\", \"ohanu appressian\", \"armenia today\", \"soviet armenia\", \"exist singl\", \"singl turkish\", \"sahak melkonian\", \"today longer\", \"argicn close\", \"work exterminationn\", \"exterminationn ohanu\", \"turk proceed\", \"turkish soul\", \"soul sahak\", \"escap turk\", \"appressian soviet\", \"second amend\", \"way escap\", \"bear arm\", \"keep bear\", \"armenian govern\", \"activ netn\", \"alink ksand\", \"might serv\", \"ottoman empir\", \"unit state\", \"gun control\", \"health care\", \"human right\", \"new york\", \"writesn articl\", \"dont think\", \"dont know\", \"year ago\", \"year old\", \"last year\", \"comput graphic\", \"imag process\", \"amateur radio\", \"bit imag\", \"file format\", \"artifici intellig\", \"michael covington\", \"shot savesn\", \"univers georgia\", \"version avail\", \"athen georgia\", \"usa amateur\", \"research scientist\", \"georgia usa\", \"intellig program\", \"radio ntmi\", \"imag manipul\", \"usenet post\", \"program gaedu\", \"gaedu univers\", \"georgia phone\", \"covington associ\", \"associ research\", \"scientist artifici\", \"phone athen\", \"youll like\", \"dan sorenson\", \"cool tower\", \"chosen peopl\", \"could stay\", \"imag format\", \"sourc code\", \"convert gif\", \"ftp site\", \"imag file\", \"san francisco\", \"blah blah\", \"anyon know\", \"pleas repli\", \"thank advancen\", \"email address\", \"comput sciencen\", \"anonym ftp\", \"via email\", \"anybodi know\", \"pleas send\", \"send mail\", \"pleas email\", \"mail list\", \"stanley cup\", \"send email\", \"last night\", \"seem like\", \"anyon tell\", \"lo angel\", \"dont know\", \"avail via\", \"someth like\", \"new york\", \"look like\", \"comput scienc\", \"anyon els\", \"last year\", \"ive seen\", \"___ ___\", \"window manag\", \"control card\", \"play scorer\", \"disk control\", \"_____ _____\", \"third periodn\", \"second periodn\", \"first periodn\", \"georgia institut\", \"interest pleas\", \"speak men\", \"nasa ame\", \"tel fax\", \"western digit\", \"___ _____\", \"ron baalk\", \"propuls lab\", \"mari shafer\", \"daren tttgo\", \"jet gon\", \"gari daren\", \"domi stanleyn\", \"gon itnettttselann\", \"souvien gari\", \"tttgo winnipeg\", \"itnettttselann domi\", \"___ ____\", \"like sell\", \"arm embargo\", \"institut technolog\", \"jet propuls\", \"best offer\", \"____ ____\", \"power play\", \"hard disk\", \"open look\", \"floppi disk\", \"disk spacen\", \"disk drive\", \"dont speak\", \"window system\", \"winnipeg jet\", \"space shuttl\", \"best offern\", \"space station\", \"san jose\", \"hard drive\", \"dont know\", \"dont want\", \"let know\", \"dont think\", \"brand new\", \"real world\", \"year ago\", \"pleas email\", \"peopl dont\", \"sound like\", \"make sure\", \"someth like\", \"look like\", \"last year\", \"thank youn\", \"maxaxaxaxaxaxaxaxaxaxaxaxaxaxaxn maxaxaxaxaxaxaxaxaxaxaxaxaxaxaxn\", \"gordon bank\", \"njxp skeptic\", \"skeptic chastiti\", \"chastiti intellect\", \"intellect andn\", \"bank njxp\", \"slpittedu shame\", \"andn slpittedu\", \"shame surrend\", \"surrend soon\", \"pleas respond\", \"jake livni\", \"opinion employ\", \"employ opinion\", \"jimmi carter\", \"replac jimmi\", \"livni onycom\", \"bush willn\", \"opinion standard\", \"willn americanoccupi\", \"york replac\", \"year georg\", \"carter opinion\", \"americanoccupi new\", \"onycom ten\", \"fail presidentn\", \"standard fail\", \"steve hendrick\", \"still rememb\", \"serial port\", \"swap file\", \"tape drive\", \"video card\", \"center polici\", \"isa bu\", \"polici research\", \"david veal\", \"do window\", \"power suppli\", \"ide drive\", \"ten year\", \"local bu\", \"georg bush\", \"greatli appreciatedn\", \"hard drive\", \"work fine\", \"run window\", \"dont know\", \"ive seen\", \"opinion express\", \"new york\", \"writesn articl\", \"anyon know\", \"dont think\"], \"Total\": [2502.0, 571.0, 382.0, 360.0, 233.0, 163.0, 159.0, 194.0, 280.0, 217.0, 153.0, 163.0, 156.0, 173.0, 130.0, 143.0, 128.0, 520.0, 127.0, 127.0, 127.0, 127.0, 127.0, 126.0, 146.0, 206.0, 125.0, 128.0, 236.0, 122.0, 143.75900193738119, 88.00632360873256, 88.00608130023893, 86.05006489064851, 70.40018258391406, 70.40018258391406, 70.40018258391406, 70.40007298658317, 57.68459825423561, 55.728346388296096, 54.750245975973414, 53.77212796418842, 53.7721285329636, 53.7721285329636, 52.79401025771503, 52.794008049825365, 51.8158898025623, 53.770892702420426, 46.92529311365623, 45.94716303097017, 45.94714886325856, 49.854574080707245, 43.01281760725642, 43.012817607256416, 43.0128176072564, 42.03465338875765, 41.05639239862678, 40.078406703169435, 39.10031716291791, 39.10029812450829, 233.63226915381085, 64.50989085695464, 128.90326254705764, 87.88311774998098, 280.8751464418615, 68.37696268622274, 62.5239432323179, 158.49479100625166, 86.68462031457045, 65.3364848607382, 75.12978628924552, 350.2667221562921, 203.47350275530263, 216.4320084537391, 133.82835977559233, 697.3018749107605, 1167.1198524368235, 471.1723505774427, 138.40282805027877, 226.28788962996165, 466.73228413094785, 231.42014501303294, 273.3847951966213, 87.29746602655992, 345.2932731899388, 507.0659216575762, 426.67219692091385, 382.5407840930011, 338.6207996817466, 175.92469851305887, 260.3339516203064, 148.4406198496874, 189.81634478695733, 128.75942252893284, 127.79848619061788, 127.79848616707706, 127.79848615309416, 127.79848614709957, 127.79852039325338, 126.83754319129787, 125.87660867952033, 122.0328252859561, 121.07187909583075, 121.07187909564006, 121.07187915484862, 121.07187894157943, 121.07187798402076, 121.0718763954602, 116.26715269319143, 116.26715209068841, 116.26715209068472, 115.30620678694977, 115.30620678694446, 115.3062067869412, 115.30620678693263, 115.30620678692615, 112.42339604603099, 130.6791199920645, 98.0092309857955, 83.59500233778448, 80.7121594448307, 77.82935011573522, 77.82935011575368, 128.7430831475622, 82.63307087578494, 382.24663652403365, 156.56512201336056, 163.2567243692634, 173.67397460507956, 520.5482554172636, 507.0659216575762, 697.3018749107605, 1167.1198524368235, 466.73228413094785, 241.43689865804615, 426.67219692091385, 98.50261078555575, 86.19061023056874, 91.87296598274997, 79.5610797255254, 79.56106850950076, 57.77830051956556, 55.88421302571577, 53.042902647562585, 52.09586731402397, 47.360383562567655, 46.41337673825395, 45.466300232991415, 45.46625944275983, 44.5192224990539, 44.5192224990539, 44.5192224990539, 41.67798187095447, 41.67801628736788, 40.7309098717664, 40.7309098717664, 38.836755489405235, 38.836755489405235, 38.836755489405235, 38.836755489405235, 38.836755489405235, 32.20721118117213, 32.207276805204124, 31.26014836064135, 31.26020698911918, 31.260285702116803, 42.622175467451186, 109.83109495746888, 40.72653957317155, 146.76826508515956, 41.67185842672392, 138.50004975672098, 64.49743845541006, 571.7542855770228, 133.35218248732158, 360.25065099947494, 160.89935957067578, 51.15683175087894, 206.19089002903445, 102.21537566241066, 136.24254612405468, 173.1000404949058, 85.24439232649465, 236.9712482801793, 225.82458762224383, 105.39376821807298, 140.9035916717725, 215.98616566611582, 260.3339516203064, 75.8062279385271, 188.82713380145623, 1167.1198524368235, 114.6484511564253, 382.5407840930011, 520.5482554172636, 471.1723505774427, 172.67105551100457, 290.51676931087627, 426.67219692091385, 337.65608496590147, 163.16700711667553, 159.41646985747875, 67.52679086459862, 64.71381054754835, 55.33739506417616, 54.39973752713478, 49.71144264777997, 48.77379959617391, 48.773795056736915, 48.77389369019542, 46.89853231096329, 40.33507470511807, 39.39732495444758, 91.91608967365516, 46.89982998352674, 37.521991265004985, 37.52199762399045, 36.58434658336465, 35.646709600445995, 36.58497537626003, 36.58497587433508, 36.58497621103257, 36.58497628813599, 36.584976650967455, 36.58497669132273, 36.58497720132505, 36.58497744436534, 35.64677013519154, 34.70943367729732, 33.77157716544942, 60.034938063507624, 55.34790286447917, 58.15988791308263, 51.61517651877699, 153.92759191678923, 194.2895110816205, 68.50262306157391, 82.7933588510411, 45.974466070396325, 86.34764754895002, 105.61983703499077, 66.64237851245665, 59.137040389098715, 69.51260047221258, 48.8139273160128, 69.70011364677313, 156.49588984827756, 217.47666087193082, 1167.1198524368235, 338.6207996817466, 205.28088675369835, 697.3018749107605, 76.14718897558006, 70.04314801414112, 466.73228413094785, 236.9712482801793, 143.2325921864635, 345.2932731899388, 251.20401839910141, 382.5407840930011, 471.1723505774427, 426.67219692091385, 147.53782287323378, 2502.0697627852337, 91.62860461962009, 78.40515119007425, 78.40515119007425, 78.40515119007425, 78.40515119007425, 78.40515119007428, 76.51608990356728, 76.51608990356728, 76.51608990356728, 76.51608990356728, 80.29743400337182, 59.514549670966154, 52.90287085688091, 51.958307667767244, 49.12475966787279, 47.23565159423948, 47.23565159423948, 47.23565159423948, 47.23565159423948, 47.23565159423948, 47.23565159423948, 47.23565159423948, 47.23565159423948, 47.23565159423948, 47.23565159423948, 47.23565159423948, 47.23565159423948, 43.45757089428169, 43.45761965642929, 87.8419389637639, 77.4634252856009, 84.98354983278291, 113.37986668268647, 69.01631639118972, 60.442679121719216, 75.69440829212769, 54.7956891466959, 82.12128817922397, 102.01203073782692, 79.26578523202146, 94.52442818237829, 102.80020644121926, 58.633786639286654, 93.54996620627702, 217.47666087193082, 159.69839452037917, 113.35611544697883, 1167.1198524368235, 337.65608496590147, 164.15917228131292, 520.5482554172636, 507.0659216575762, 571.7542855770228, 697.3018749107605], \"loglift\": [30.0, 29.0, 28.0, 27.0, 26.0, 25.0, 24.0, 23.0, 22.0, 21.0, 20.0, 19.0, 18.0, 17.0, 16.0, 15.0, 14.0, 13.0, 12.0, 11.0, 10.0, 9.0, 8.0, 7.0, 6.0, 5.0, 4.0, 3.0, 2.0, 1.0, 1.3887, 1.3854, 1.3852, 1.3852, 1.3832, 1.3832, 1.3832, 1.3832, 1.3808, 1.3803, 1.3801, 1.3798, 1.3798, 1.3798, 1.3796, 1.3796, 1.3793, 1.3787, 1.3777, 1.3774, 1.3774, 1.3763, 1.3763, 1.3763, 1.3763, 1.3758, 1.3752, 1.3749, 1.3744, 1.3744, 1.3631, 1.3719, 1.3434, 1.3512, 1.2302, 1.3396, 1.3343, 1.2028, 1.2686, 1.299, 1.2549, 0.6645, 0.8621, 0.8042, 0.9979, 0.2964, -0.0136, 0.3239, 0.9075, 0.5887, 0.1787, 0.5714, 0.4035, 1.1187, 0.1954, -0.2078, -0.0824, -0.016, 0.0562, 0.5952, 0.2257, 0.7044, 0.4634, 1.5323, 1.5322, 1.5322, 1.5322, 1.5322, 1.5322, 1.5322, 1.5321, 1.5319, 1.5319, 1.5319, 1.5319, 1.5319, 1.5319, 1.5319, 1.5316, 1.5316, 1.5316, 1.5316, 1.5316, 1.5316, 1.5316, 1.5316, 1.5314, 1.5312, 1.5304, 1.5291, 1.5287, 1.5283, 1.5283, 1.5248, 1.5281, 1.4837, 1.5059, 1.4986, 1.4458, 0.8177, 0.7884, 0.4944, -0.3333, 0.3733, 0.8639, 0.3436, 1.6063, 1.6051, 1.6047, 1.6044, 1.6044, 1.6008, 1.6003, 1.5996, 1.5993, 1.5977, 1.5975, 1.5971, 1.597, 1.5968, 1.5968, 1.5968, 1.5956, 1.5955, 1.5952, 1.5952, 1.5942, 1.5942, 1.5942, 1.5942, 1.5942, 1.59, 1.5897, 1.5893, 1.5893, 1.5892, 1.5891, 1.5732, 1.5842, 1.5333, 1.5805, 1.5204, 1.5568, 1.4218, 1.4517, 1.3293, 1.4193, 1.5592, 1.371, 1.4411, 1.3623, 1.3112, 1.4428, 1.146, 1.0687, 1.3001, 1.1962, 1.0241, 0.9281, 1.4069, 1.049, 0.1719, 1.2157, 0.5789, 0.2717, 0.3208, 0.9323, 0.5188, 0.1972, 0.3116, 1.754, 1.7538, 1.7472, 1.7468, 1.7446, 1.7444, 1.7431, 1.7428, 1.7428, 1.7427, 1.7421, 1.7394, 1.739, 1.7388, 1.7383, 1.738, 1.738, 1.7375, 1.7369, 1.7368, 1.7368, 1.7368, 1.7368, 1.7368, 1.7368, 1.7368, 1.7368, 1.7367, 1.736, 1.7355, 1.7241, 1.7251, 1.7223, 1.7204, 1.6595, 1.6181, 1.6891, 1.6683, 1.7111, 1.6345, 1.5967, 1.6326, 1.6437, 1.5724, 1.6551, 1.5262, 1.1723, 0.9737, 0.1175, 0.5727, 0.7666, -0.1793, 1.4207, 1.475, 0.0681, 0.5417, 0.8701, 0.114, 0.3575, -0.023, -0.2495, -0.2476, 0.7801, 1.7965, 1.7884, 1.787, 1.787, 1.787, 1.787, 1.787, 1.7868, 1.7868, 1.7868, 1.7868, 1.7848, 1.7839, 1.7822, 1.782, 1.7811, 1.7805, 1.7805, 1.7805, 1.7805, 1.7805, 1.7805, 1.7805, 1.7805, 1.7805, 1.7805, 1.7805, 1.7805, 1.779, 1.7789, 1.7746, 1.7737, 1.7323, 1.6963, 1.7357, 1.7459, 1.7077, 1.7566, 1.6776, 1.5549, 1.6297, 1.5754, 1.5443, 1.7039, 1.5266, 1.1586, 1.2664, 1.4042, 0.0322, 0.5244, 1.0285, 0.1329, -0.013, -0.2275, -0.4731], \"logprob\": [30.0, 29.0, 28.0, 27.0, 26.0, 25.0, 24.0, 23.0, 22.0, 21.0, 20.0, 19.0, 18.0, 17.0, 16.0, 15.0, 14.0, 13.0, 12.0, 11.0, 10.0, 9.0, 8.0, 7.0, 6.0, 5.0, 4.0, 3.0, 2.0, 1.0, -6.2081, -6.7021, -6.7023, -6.7248, -6.9275, -6.9275, -6.9275, -6.9276, -7.1291, -7.1641, -7.1821, -7.2003, -7.2003, -7.2003, -7.219, -7.219, -7.2379, -7.2015, -7.3386, -7.36, -7.3601, -7.2795, -7.4272, -7.4272, -7.4272, -7.4506, -7.4747, -7.4992, -7.5244, -7.5244, -5.7481, -7.0262, -6.3625, -6.7377, -5.6968, -7.0003, -7.0951, -6.2964, -6.834, -7.0864, -6.9908, -6.0418, -6.3873, -6.3835, -6.6704, -5.7213, -5.5162, -6.0858, -6.7273, -6.5544, -6.2405, -6.5493, -6.5505, -6.9769, -6.5252, -6.544, -6.5913, -6.6341, -6.6839, -6.7997, -6.7773, -6.8603, -6.8555, -6.1747, -6.1823, -6.1823, -6.1823, -6.1823, -6.1823, -6.1898, -6.1975, -6.2287, -6.2367, -6.2367, -6.2367, -6.2367, -6.2367, -6.2367, -6.2774, -6.2774, -6.2774, -6.2858, -6.2858, -6.2858, -6.2858, -6.2858, -6.3113, -6.161, -6.4495, -6.6099, -6.6453, -6.6821, -6.6821, -6.1823, -6.6224, -5.1351, -6.0056, -5.971, -5.9619, -5.4923, -5.5479, -5.5233, -5.836, -6.0459, -6.2144, -6.1653, -6.3685, -6.5032, -6.4398, -6.584, -6.584, -6.9075, -6.9414, -6.9943, -7.0126, -7.1095, -7.1298, -7.1508, -7.1509, -7.1722, -7.1722, -7.1722, -7.2394, -7.2394, -7.2628, -7.2628, -7.3113, -7.3113, -7.3113, -7.3113, -7.3113, -7.5027, -7.503, -7.5333, -7.5333, -7.5334, -7.2235, -6.2928, -7.2739, -6.0428, -7.2546, -6.1137, -6.8415, -4.7944, -6.2203, -5.3488, -6.0649, -7.0708, -5.8651, -6.4968, -6.2882, -6.0999, -6.6766, -5.951, -6.0764, -6.6071, -6.4207, -6.1657, -6.0749, -6.8298, -6.2751, -5.3308, -6.6074, -6.0392, -6.0383, -6.0889, -6.4813, -6.3745, -6.3117, -6.4313, -5.7162, -5.7396, -6.6052, -6.6482, -6.8068, -6.8241, -6.9156, -6.9349, -6.9349, -6.935, -6.9748, -7.1283, -7.1522, -6.3053, -6.9787, -7.202, -7.202, -7.2278, -7.2544, -7.2285, -7.2285, -7.2285, -7.2285, -7.2285, -7.2285, -7.2285, -7.2285, -7.2546, -7.2819, -7.3098, -6.7459, -6.8261, -6.7795, -6.9007, -5.8689, -5.6775, -6.6489, -6.4803, -7.0257, -6.472, -6.3084, -6.733, -6.8414, -6.7511, -7.0218, -6.7945, -6.3395, -6.2091, -5.3852, -6.1674, -6.474, -6.1971, -6.8115, -6.8408, -6.3511, -6.5552, -6.7304, -6.6065, -6.6812, -6.6411, -6.6592, -6.7565, -6.7907, -2.9435, -6.2588, -6.416, -6.416, -6.416, -6.416, -6.416, -6.4406, -6.4406, -6.4406, -6.4406, -6.3944, -6.6948, -6.8142, -6.8325, -6.8895, -6.9293, -6.9293, -6.9293, -6.9293, -6.9293, -6.9293, -6.9293, -6.9293, -6.9293, -6.9293, -6.9293, -6.9293, -7.0141, -7.0143, -6.3148, -6.4414, -6.3902, -6.1379, -6.5949, -6.7173, -6.5305, -6.8047, -6.4791, -6.385, -6.5624, -6.4406, -6.3878, -6.7897, -6.4998, -6.0242, -6.2252, -6.4302, -5.4704, -6.2185, -6.4356, -6.1771, -6.3492, -6.4437, -6.4909]}, \"token.table\": {\"Topic\": [4, 4, 4, 2, 4, 4, 1, 2, 2, 3, 5, 5, 1, 3, 4, 5, 1, 2, 3, 4, 5, 2, 3, 4, 5, 1, 2, 3, 4, 5, 1, 3, 4, 5, 1, 2, 3, 4, 5, 2, 2, 4, 2, 2, 3, 3, 3, 1, 3, 4, 5, 1, 5, 2, 1, 2, 3, 4, 4, 5, 3, 4, 3, 1, 3, 3, 4, 5, 1, 5, 1, 5, 2, 5, 1, 5, 3, 1, 2, 2, 3, 1, 2, 3, 4, 5, 1, 2, 3, 4, 4, 3, 4, 3, 3, 1, 2, 3, 3, 4, 1, 3, 5, 1, 4, 4, 5, 3, 4, 4, 5, 1, 2, 3, 4, 5, 1, 2, 3, 4, 5, 4, 1, 2, 3, 4, 5, 1, 2, 3, 4, 5, 1, 2, 3, 4, 5, 1, 2, 3, 4, 5, 1, 3, 4, 1, 2, 3, 4, 5, 1, 2, 3, 4, 5, 3, 4, 5, 5, 1, 1, 1, 1, 2, 1, 1, 2, 3, 4, 5, 1, 3, 2, 2, 5, 1, 3, 4, 1, 4, 3, 4, 5, 3, 4, 2, 3, 5, 4, 3, 3, 1, 3, 1, 4, 5, 1, 3, 4, 5, 2, 3, 4, 5, 3, 4, 5, 2, 5, 1, 1, 2, 5, 4, 5, 3, 4, 3, 3, 3, 1, 4, 5, 5, 3, 4, 4, 5, 4, 1, 2, 3, 4, 5, 5, 1, 2, 3, 4, 3, 4, 5, 2, 1, 2, 3, 4, 5, 1, 2, 3, 4, 5, 1, 2, 3, 4, 1, 2, 3, 4, 5, 4, 5, 1, 2, 3, 4, 4, 5, 2, 1, 2, 3, 4, 5, 1, 3, 4, 5, 1, 2, 3, 4, 5, 1, 2, 3, 4, 5, 1, 2, 3, 4, 5, 4, 1, 5, 3, 2, 5, 2, 4, 1, 4, 1, 2, 3, 4, 5, 5, 1, 3, 5, 2, 1, 5, 3, 4, 5, 1, 2, 4, 5, 5, 1, 2, 2, 1, 2, 3, 4, 5, 3, 4, 3, 4, 5, 3, 4, 5, 2, 3, 4, 5, 1, 2, 5, 3, 4, 3, 4, 5, 2, 3, 4, 3, 1, 4, 5, 1, 5, 3, 2, 4, 3, 4, 5, 2, 1, 2, 3, 1, 3, 4, 1, 3, 4, 3, 1, 2, 4, 1, 2, 3, 4, 5, 1, 3, 4, 5, 2, 3, 4, 5, 2, 1, 4, 5, 2, 1, 2, 4, 5, 3, 2, 5, 5, 1, 2, 3, 4, 5, 2, 1, 2, 3, 4, 5, 3, 4, 4, 2, 3, 4, 1, 3, 4, 5, 4, 1, 5, 1, 2, 3, 4, 5, 1, 5, 5, 5, 3, 5, 1, 4, 5, 3, 4, 1, 2, 4, 5, 3, 4, 5, 1, 2, 3, 4, 5, 4, 2, 1, 1, 2, 3, 4, 5, 4, 2, 2, 1, 1, 2, 4, 5, 3, 3, 3, 3, 1, 3, 4, 5, 3, 5, 1, 2, 3, 4, 5, 2, 4, 5, 4, 3, 4, 5, 3, 4, 5, 2, 2, 3, 4, 5, 1, 1, 2, 3, 4, 5, 1, 2, 3, 4, 5, 5, 1, 2, 3, 4, 5, 5, 3, 1, 2], \"Freq\": [0.9928477751887608, 0.9818561363978099, 0.9860883911699052, 0.019374146664716176, 0.9687073332358088, 0.9926518482385068, 0.9856407296116191, 0.9893439927931822, 0.9893439927929475, 0.9904981190776634, 0.9738406997144045, 0.9932551453659263, 0.004849874792524474, 0.7856797163889647, 0.1309466193981608, 0.07759799668039158, 0.4463340931110398, 0.2651489662045781, 0.07954468986137343, 0.13699363253903202, 0.07070639098788749, 0.022019553255180443, 0.7780242150163756, 0.11009776627590222, 0.08807821302072177, 0.23062352014628326, 0.20652852550413425, 0.3338877828983504, 0.10326426275206713, 0.12735925739421614, 0.006996012274683943, 0.8255294484127054, 0.03498006137341972, 0.13292423321899494, 0.026383056569202243, 0.039574584853803364, 0.8178747536452695, 0.09234069799220784, 0.026383056569202243, 0.9973444032592973, 0.9977022513495587, 0.9771530609402869, 0.9911467542765869, 0.9911765532017826, 0.9865295359578462, 0.9784545470171033, 0.9910935862179309, 0.06105621078517026, 0.6716183186368728, 0.09594547409098184, 0.1744463165290579, 0.9742697217921633, 0.9948325947476068, 0.9897026945763735, 0.8265255859092103, 0.02523742247051024, 0.0946403342644134, 0.05047484494102048, 0.9628629285477565, 0.03438796173384844, 0.08194382668914758, 0.9013820935806234, 0.9929478115749428, 0.04651347513706351, 0.9457739944536248, 0.1444570725194811, 0.7091529014592708, 0.1444570725194811, 0.9793861232591965, 0.9738406997144045, 0.9869304144928108, 0.9738406997144045, 0.05795730936040829, 0.9418062771066347, 0.9764531211020792, 0.9948325947476071, 0.9596865436765079, 0.9716123582678362, 0.029961614572135916, 0.994102004233809, 0.9948974876752257, 0.06949630303982952, 0.11003581314639675, 0.503848197038764, 0.15636668183961644, 0.15636668183961644, 0.01954773127604445, 0.01954773127604445, 0.9382911012501335, 0.01954773127604445, 0.9921987872094363, 0.9821605375564451, 0.024554013438911126, 0.9596883435707566, 0.9596841271981253, 0.8651695048053724, 0.11979270066535926, 0.9784545470171033, 0.962515402574829, 0.9840105023922027, 0.9885680479647012, 0.03649922158375842, 0.9672293719695981, 0.9856633828512629, 0.9939029463930337, 0.8801629477736033, 0.11581091418073727, 0.04350240842248369, 0.9570529852946413, 0.10959399443854473, 0.8889290660015294, 0.7560356904279416, 0.02291017243721035, 0.011455086218605175, 0.03436525865581552, 0.17182629327907764, 0.6725031985067655, 0.19427870179084336, 0.02988903104474513, 0.05977806208949026, 0.052305804328303986, 0.984010477865864, 0.5544466405746505, 0.23101943357277105, 0.023101943357277107, 0.07854660741474216, 0.11550971678638552, 0.24504766961410354, 0.15422580605083439, 0.23647956927794606, 0.19363906759715874, 0.17136200672314933, 0.4985158380161253, 0.19536431489821127, 0.0875771066785085, 0.09431380719223992, 0.12126060924716561, 0.44075678888826053, 0.1339554946621184, 0.1944515245095267, 0.2074149594768285, 0.021605724945502967, 0.13255085780298964, 0.00946791841449926, 0.8521126573049334, 0.3341450932278347, 0.3527883816911903, 0.06740265829059326, 0.14340991125658142, 0.10325513610473862, 0.26283087182963016, 0.15356410488922212, 0.13879832557295074, 0.30417505391518995, 0.13879832557295074, 0.8203885978925751, 0.03107532567774906, 0.14294649811764568, 0.9815562186148388, 0.9793858212675342, 0.9943171509685875, 0.9856407296116191, 0.9856407400372429, 0.9973444032592412, 0.9753857042857318, 0.37310048617239483, 0.21581302631540483, 0.07681480597666952, 0.17557669937524462, 0.1609453077606409, 0.9765944285923115, 0.015501498866544628, 0.9911467537934411, 0.9977022565197404, 0.9738406997144045, 0.9718591243561208, 0.9929479515545501, 0.9841350246410642, 0.0845478441404238, 0.9179480220960298, 0.919817372792877, 0.0068134620206879775, 0.06813462020687978, 0.9820551548181091, 0.9840104799396818, 0.06822005245214476, 0.01705501311303619, 0.9039156949909181, 0.9841330344648905, 0.9784545470171033, 0.9883371166451764, 0.9542039322324942, 0.046546533279633866, 0.9828586624905508, 0.9840104681069413, 0.9931396464867098, 0.9881320443419168, 0.20310001991989107, 0.03206842419787754, 0.758952706016435, 0.9708420243624184, 0.0255484743253268, 0.8698359425538086, 0.1286739559990841, 0.013794583694508079, 0.4552212619187666, 0.5287923749561431, 0.961675548781001, 0.03675193180054781, 0.9885653261326246, 0.9877970470797096, 0.9097505850216137, 0.08636872642610256, 0.15138940420352123, 0.8452575068029935, 0.9598803967511137, 0.02399700991877784, 0.9854025407988309, 0.9837328526833744, 0.9861863116250862, 0.9849602207932481, 0.9661041032247759, 0.016656967296978895, 0.9948325947476071, 0.9883371166451764, 0.9808409289867427, 0.033089201687642074, 0.9430422480977992, 0.984010446767258, 0.19546515800734074, 0.17177241158220852, 0.2724665838890204, 0.08292461248796273, 0.281351363798445, 0.9913542205425243, 0.6141493002521692, 0.1372804318210731, 0.24565972010086767, 0.9840104889956904, 0.018067531889121923, 0.9756467220125838, 0.9771040168852292, 0.9928823216562608, 0.06944889249614203, 0.2500160129861113, 0.5555911399691362, 0.11574815416023672, 0.009259852332818936, 0.2273408033145865, 0.30233983121218205, 0.24140312104538567, 0.13359201844259208, 0.09140506525019458, 0.8473515831322006, 0.13885173000905807, 0.007120601538926055, 0.0035603007694630273, 0.09255610836676052, 0.03897099299653075, 0.17536946848438836, 0.3702244334670421, 0.326382066345945, 0.9795607821235832, 0.9738406997144045, 0.010591698130115748, 0.23831320792760433, 0.5666558499611924, 0.1800588682119677, 0.2140073523352262, 0.7782085539462771, 0.9937517242703888, 0.3438232311413473, 0.12734193745975825, 0.27378516553848026, 0.13370903433274617, 0.12097484058677034, 0.11956182577056321, 0.5800962657756955, 0.15055933615552403, 0.14613112038624393, 0.5897573805681818, 0.07371967257102273, 0.08354896224715909, 0.15235398998011362, 0.10320754159943181, 0.18709891784186572, 0.1353481533324135, 0.1711756056851112, 0.24681133842969522, 0.26273465058644974, 0.4824894553488034, 0.2797867847584777, 0.07422914697673898, 0.05138940944543468, 0.11134372046510847, 0.9818578037722197, 0.9730925754819452, 0.9995724488576838, 0.9841777672469165, 0.9864607627458765, 0.0077674075806761925, 0.9937519905659877, 0.9899149255715463, 0.9558149750555268, 0.03413624910912596, 0.017289463380845905, 0.486026026150446, 0.26126300219944926, 0.046105235682255746, 0.19018409718930496, 0.9948325947476071, 0.9030176650267591, 0.061221536611983665, 0.030610768305991833, 0.9915364961555556, 0.9842540617237078, 0.9738406997144045, 0.05839192458958222, 0.9342707934333155, 0.9829334241742105, 0.16447451351503645, 0.3106740810839578, 0.0670081351357556, 0.4629652973015841, 0.9738406997144045, 0.994315603039281, 0.9923387710383343, 0.9937519902275924, 0.3351192578956645, 0.12566972171087418, 0.04887155844311773, 0.4119174211634209, 0.07679816326775644, 0.9784545470171033, 0.988969733948461, 0.6245483410924791, 0.2953944856518483, 0.07595858202476098, 0.8473802069999374, 0.14247985781414876, 0.9838421486380581, 0.028885030793202766, 0.7394567883059908, 0.14442515396601383, 0.09243209853824885, 0.026422030968012763, 0.052844061936025526, 0.9115600683964403, 0.09095185486672314, 0.9030219876053226, 0.14704148022060573, 0.06861935743628267, 0.7842212278432306, 0.9937519904106441, 0.9820551548181091, 0.9840274150576094, 0.9883371166451764, 0.21415370989567212, 0.7566764416313748, 0.014276913993044807, 0.9764531211020797, 0.9738406997144045, 0.989744935068898, 0.9933967248952885, 0.9860882240540226, 0.2381874140052812, 0.08821756074269674, 0.679275217718765, 0.9911467633783443, 0.021660642037815724, 0.06498192611344718, 0.9097469655882604, 0.03194972088306913, 0.4089564273032849, 0.5559251433654029, 0.8767414533766549, 0.06921643052973592, 0.03460821526486796, 0.9784545470171033, 0.9764531211020794, 0.9962339151731582, 0.9841349330464176, 0.31113882571158996, 0.0883480616218095, 0.5031998292372628, 0.05377708098718839, 0.04609464084616147, 0.01419410233813553, 0.6600257587233022, 0.15613512571949084, 0.17032922805762638, 0.03519293079725053, 0.8446303391340126, 0.023461953864833685, 0.09384781545933474, 0.9930359684081403, 0.9947203171477791, 0.011384083864684667, 0.9790312123628815, 0.9937519905193741, 0.9506125666663582, 0.029249617435887942, 0.014624808717943971, 0.9932551453659263, 0.9803385072176003, 0.9911467555393549, 0.9948325947476071, 0.9932551453659263, 0.24311133313667904, 0.10456401425233507, 0.35551764845793926, 0.1673024228037361, 0.12809091745911047, 0.9973444032591671, 0.30119324086221544, 0.1824535978299959, 0.16218097584888524, 0.1940379532477734, 0.15928488699444085, 0.9560134135115408, 0.03641955860996346, 0.9840104670215226, 0.991146754278148, 0.15824469125417356, 0.8343810993401879, 0.07173589451143574, 0.11477743121829719, 0.7890948396257931, 0.014347178902287148, 0.991692721345684, 0.994315603039281, 0.9738406997144045, 0.0284646810786063, 0.1328351783668294, 0.7305934810175617, 0.0189764540524042, 0.0759058162096168, 0.98496026198511, 0.9894708589351483, 0.9894697486874069, 0.9932551453659263, 0.012909318124173919, 0.9811081774372178, 0.9862969387150763, 0.058834915814157014, 0.9413586530265122, 0.010879488058624608, 0.9791539252762147, 0.010579275846774441, 0.07405493092742109, 0.11637203431451887, 0.8040249643548576, 0.7522540188286709, 0.1332405642205764, 0.11380964860507568, 0.020333768938542864, 0.14233638256980005, 0.3321182259962001, 0.3727857638732859, 0.1287805366107715, 0.9856885535827083, 0.9911467763829884, 0.994315603039281, 0.4490557645840492, 0.13642200443059724, 0.10231650332294792, 0.08526375276912328, 0.2216857571997205, 0.9840104533042086, 0.997344403259093, 0.997344403259139, 0.9802815698686185, 0.01569667179955095, 0.9470325319062405, 0.026161119665918244, 0.010464447866367297, 0.9789644098366135, 0.9897440471161747, 0.9837320403472902, 0.9923906114043279, 0.00978326395143061, 0.8413606998230325, 0.0880493755628755, 0.058699583708583664, 0.08819908060032176, 0.9084505301833141, 0.3951187664275021, 0.10009675416163387, 0.1791205074471343, 0.13697450569486738, 0.18438875766616764, 0.9948031484134134, 0.9808137900746591, 0.9738406997144045, 0.9973875355673659, 0.015005466826384088, 0.8853225427566612, 0.10503826778468862, 0.05072962698608465, 0.8962234100874955, 0.05072962698608465, 0.9977022565197088, 0.025047214857814734, 0.28178116715041573, 0.10645066314571261, 0.5886095491586463, 0.9718595975661214, 0.2011572768814092, 0.4733112397209628, 0.08085733678566448, 0.08085733678566448, 0.16368680373683298, 0.29567271151374286, 0.3128131585580178, 0.10927034990725279, 0.18425980572595568, 0.09855757050458094, 0.9738406997144045, 0.2899308282581237, 0.5094498839392746, 0.0621280346267408, 0.09940485540278528, 0.04141868975116053, 0.9738406997144045, 0.9625173637549269, 0.943638499906762, 0.04798161863932688], \"Term\": [\"___ ___\", \"___ ____\", \"___ _____\", \"____ ____\", \"____ ____\", \"_____ _____\", \"accuraci ofn\", \"activ netn\", \"alink ksand\", \"amateur radio\", \"americanoccupi new\", \"andn slpittedu\", \"anonym ftp\", \"anonym ftp\", \"anonym ftp\", \"anonym ftp\", \"answer question\", \"answer question\", \"answer question\", \"answer question\", \"answer question\", \"anybodi know\", \"anybodi know\", \"anybodi know\", \"anybodi know\", \"anyon els\", \"anyon els\", \"anyon els\", \"anyon els\", \"anyon els\", \"anyon know\", \"anyon know\", \"anyon know\", \"anyon know\", \"anyon tell\", \"anyon tell\", \"anyon tell\", \"anyon tell\", \"anyon tell\", \"appressian soviet\", \"argicn close\", \"arm embargo\", \"armenia today\", \"armenian govern\", \"artifici intellig\", \"associ research\", \"athen georgia\", \"avail via\", \"avail via\", \"avail via\", \"avail via\", \"back door\", \"bank njxp\", \"bear arm\", \"believ god\", \"believ god\", \"believ god\", \"believ god\", \"best offer\", \"best offer\", \"best offern\", \"best offern\", \"bit imag\", \"blah blah\", \"blah blah\", \"brand new\", \"brand new\", \"brand new\", \"brian kendig\", \"bush willn\", \"care taken\", \"carter opinion\", \"center polici\", \"center polici\", \"center region\", \"chastiti intellect\", \"chosen peopl\", \"clipper chip\", \"clipper chip\", \"close road\", \"comput graphic\", \"comput scienc\", \"comput scienc\", \"comput scienc\", \"comput scienc\", \"comput scienc\", \"comput sciencen\", \"comput sciencen\", \"comput sciencen\", \"comput sciencen\", \"control card\", \"convert gif\", \"convert gif\", \"cool tower\", \"could stay\", \"court order\", \"court order\", \"covington associ\", \"dan sorenson\", \"daren tttgo\", \"david sternlight\", \"david veal\", \"david veal\", \"davidn david\", \"disk control\", \"disk drive\", \"disk drive\", \"disk spacen\", \"disk spacen\", \"do window\", \"do window\", \"doesnt make\", \"doesnt make\", \"doesnt make\", \"doesnt make\", \"doesnt make\", \"doesnt mean\", \"doesnt mean\", \"doesnt mean\", \"doesnt mean\", \"doesnt mean\", \"domi stanleyn\", \"dont believ\", \"dont believ\", \"dont believ\", \"dont believ\", \"dont believ\", \"dont know\", \"dont know\", \"dont know\", \"dont know\", \"dont know\", \"dont like\", \"dont like\", \"dont like\", \"dont like\", \"dont like\", \"dont see\", \"dont see\", \"dont see\", \"dont see\", \"dont see\", \"dont speak\", \"dont speak\", \"dont speak\", \"dont think\", \"dont think\", \"dont think\", \"dont think\", \"dont think\", \"dont want\", \"dont want\", \"dont want\", \"dont want\", \"dont want\", \"email address\", \"email address\", \"email address\", \"employ opinion\", \"encrypt technolog\", \"enforc agenc\", \"ensur accuraci\", \"error omiss\", \"escap turk\", \"escrow agenc\", \"even though\", \"even though\", \"even though\", \"even though\", \"even though\", \"exist god\", \"exist god\", \"exist singl\", \"exterminationn ohanu\", \"fail presidentn\", \"father son\", \"file format\", \"first periodn\", \"floppi disk\", \"floppi disk\", \"ftp site\", \"ftp site\", \"ftp site\", \"gaedu univers\", \"gari daren\", \"georg bush\", \"georg bush\", \"georg bush\", \"georgia institut\", \"georgia phone\", \"georgia usa\", \"god exist\", \"god exist\", \"god love\", \"gon itnettttselann\", \"gordon bank\", \"great care\", \"greatli appreciatedn\", \"greatli appreciatedn\", \"greatli appreciatedn\", \"gun control\", \"gun control\", \"hard disk\", \"hard disk\", \"hard drive\", \"hard drive\", \"hard drive\", \"health care\", \"health care\", \"henri spencer\", \"holi spirit\", \"human right\", \"human right\", \"ide drive\", \"ide drive\", \"imag file\", \"imag file\", \"imag format\", \"imag manipul\", \"imag process\", \"inform error\", \"institut technolog\", \"institut technolog\", \"intellect andn\", \"intellig program\", \"interest pleas\", \"isa bu\", \"isa bu\", \"itnettttselann domi\", \"ive seen\", \"ive seen\", \"ive seen\", \"ive seen\", \"ive seen\", \"jake livni\", \"jesu christ\", \"jesu christ\", \"jesu christ\", \"jet gon\", \"jet propuls\", \"jet propuls\", \"jimmi carter\", \"keep bear\", \"last night\", \"last night\", \"last night\", \"last night\", \"last night\", \"last year\", \"last year\", \"last year\", \"last year\", \"last year\", \"law enforc\", \"law enforc\", \"law enforc\", \"law enforc\", \"let know\", \"let know\", \"let know\", \"let know\", \"let know\", \"like sell\", \"livni onycom\", \"lo angel\", \"lo angel\", \"lo angel\", \"lo angel\", \"local bu\", \"local bu\", \"longer exist\", \"look like\", \"look like\", \"look like\", \"look like\", \"look like\", \"mail list\", \"mail list\", \"mail list\", \"mail list\", \"make sens\", \"make sens\", \"make sens\", \"make sens\", \"make sens\", \"make sure\", \"make sure\", \"make sure\", \"make sure\", \"make sure\", \"mani peopl\", \"mani peopl\", \"mani peopl\", \"mani peopl\", \"mani peopl\", \"mari shafer\", \"mark singer\", \"maxaxaxaxaxaxaxaxaxaxaxaxaxaxaxn maxaxaxaxaxaxaxaxaxaxaxaxaxaxaxn\", \"michael covington\", \"might serv\", \"might serv\", \"mountain pass\", \"nasa ame\", \"new testament\", \"new testament\", \"new york\", \"new york\", \"new york\", \"new york\", \"new york\", \"njxp skeptic\", \"ofn inform\", \"ofn inform\", \"ofn inform\", \"ohanu appressian\", \"omiss except\", \"onycom ten\", \"open look\", \"open look\", \"opinion employ\", \"opinion express\", \"opinion express\", \"opinion express\", \"opinion express\", \"opinion standard\", \"orontoedu utzoohenryn\", \"ottoman empir\", \"pass might\", \"peopl dont\", \"peopl dont\", \"peopl dont\", \"peopl dont\", \"peopl dont\", \"phone athen\", \"play scorer\", \"pleas email\", \"pleas email\", \"pleas email\", \"pleas repli\", \"pleas repli\", \"pleas respond\", \"pleas send\", \"pleas send\", \"pleas send\", \"pleas send\", \"polici research\", \"polici research\", \"polici research\", \"power play\", \"power play\", \"power suppli\", \"power suppli\", \"power suppli\", \"proceed work\", \"program gaedu\", \"propuls lab\", \"radio ntmi\", \"real world\", \"real world\", \"real world\", \"region studi\", \"replac jimmi\", \"research scientist\", \"road mountain\", \"ron baalk\", \"run window\", \"run window\", \"run window\", \"sahak melkonian\", \"san francisco\", \"san francisco\", \"san francisco\", \"san jose\", \"san jose\", \"san jose\", \"say god\", \"say god\", \"say god\", \"scientist artifici\", \"sdpa center\", \"second amend\", \"second periodn\", \"seem like\", \"seem like\", \"seem like\", \"seem like\", \"seem like\", \"send email\", \"send email\", \"send email\", \"send email\", \"send mail\", \"send mail\", \"send mail\", \"send mail\", \"serdar argicn\", \"serial number\", \"serial port\", \"serial port\", \"serv way\", \"session key\", \"session key\", \"session key\", \"shame surrend\", \"shot savesn\", \"singl turkish\", \"skeptic chastiti\", \"slpittedu shame\", \"someth like\", \"someth like\", \"someth like\", \"someth like\", \"someth like\", \"soul sahak\", \"sound like\", \"sound like\", \"sound like\", \"sound like\", \"sound like\", \"sourc code\", \"sourc code\", \"souvien gari\", \"soviet armenia\", \"space shuttl\", \"space shuttl\", \"space station\", \"space station\", \"space station\", \"space station\", \"speak men\", \"spencer toronto\", \"standard fail\", \"stanley cup\", \"stanley cup\", \"stanley cup\", \"stanley cup\", \"stanley cup\", \"sternlight great\", \"steve hendrick\", \"still rememb\", \"surrend soon\", \"swap file\", \"swap file\", \"taken ensur\", \"tape drive\", \"tape drive\", \"tel fax\", \"tel fax\", \"ten year\", \"ten year\", \"ten year\", \"ten year\", \"thank advancen\", \"thank advancen\", \"thank advancen\", \"thank youn\", \"thank youn\", \"thank youn\", \"thank youn\", \"thank youn\", \"third periodn\", \"today longer\", \"toronto zoologyn\", \"tri get\", \"tri get\", \"tri get\", \"tri get\", \"tri get\", \"tttgo winnipeg\", \"turk proceed\", \"turkish soul\", \"unit key\", \"unit state\", \"unit state\", \"unit state\", \"unit state\", \"univers georgia\", \"usa amateur\", \"usenet post\", \"version avail\", \"via email\", \"via email\", \"via email\", \"via email\", \"video card\", \"video card\", \"want ton\", \"want ton\", \"want ton\", \"want ton\", \"want ton\", \"way escap\", \"western digit\", \"willn americanoccupi\", \"window manag\", \"window system\", \"window system\", \"window system\", \"winnipeg jet\", \"winnipeg jet\", \"winnipeg jet\", \"work exterminationn\", \"work fine\", \"work fine\", \"work fine\", \"work fine\", \"work man\", \"writesn articl\", \"writesn articl\", \"writesn articl\", \"writesn articl\", \"writesn articl\", \"year ago\", \"year ago\", \"year ago\", \"year ago\", \"year ago\", \"year georg\", \"year old\", \"year old\", \"year old\", \"year old\", \"year old\", \"york replac\", \"youll like\", \"young peopl\", \"young peopl\"]}, \"R\": 30, \"lambda.step\": 0.01, \"plot.opts\": {\"xlab\": \"PC1\", \"ylab\": \"PC2\"}, \"topic.order\": [1, 3, 5, 4, 2]};\n",
              "\n",
              "function LDAvis_load_lib(url, callback){\n",
              "  var s = document.createElement('script');\n",
              "  s.src = url;\n",
              "  s.async = true;\n",
              "  s.onreadystatechange = s.onload = callback;\n",
              "  s.onerror = function(){console.warn(\"failed to load library \" + url);};\n",
              "  document.getElementsByTagName(\"head\")[0].appendChild(s);\n",
              "}\n",
              "\n",
              "if(typeof(LDAvis) !== \"undefined\"){\n",
              "   // already loaded: just create the visualization\n",
              "   !function(LDAvis){\n",
              "       new LDAvis(\"#\" + \"ldavis_el14414028800538533640180232\", ldavis_el14414028800538533640180232_data);\n",
              "   }(LDAvis);\n",
              "}else if(typeof define === \"function\" && define.amd){\n",
              "   // require.js is available: use it to load d3/LDAvis\n",
              "   require.config({paths: {d3: \"https://cdnjs.cloudflare.com/ajax/libs/d3/3.5.5/d3.min\"}});\n",
              "   require([\"d3\"], function(d3){\n",
              "      window.d3 = d3;\n",
              "      LDAvis_load_lib(\"https://cdn.rawgit.com/bmabey/pyLDAvis/files/ldavis.v1.0.0.js\", function(){\n",
              "        new LDAvis(\"#\" + \"ldavis_el14414028800538533640180232\", ldavis_el14414028800538533640180232_data);\n",
              "      });\n",
              "    });\n",
              "}else{\n",
              "    // require.js not available: dynamically load d3 & LDAvis\n",
              "    LDAvis_load_lib(\"https://cdnjs.cloudflare.com/ajax/libs/d3/3.5.5/d3.min.js\", function(){\n",
              "         LDAvis_load_lib(\"https://cdn.rawgit.com/bmabey/pyLDAvis/files/ldavis.v1.0.0.js\", function(){\n",
              "                 new LDAvis(\"#\" + \"ldavis_el14414028800538533640180232\", ldavis_el14414028800538533640180232_data);\n",
              "            })\n",
              "         });\n",
              "}\n",
              "</script>"
            ],
            "text/plain": [
              "PreparedData(topic_coordinates=                x           y  topics  cluster       Freq\n",
              "topic                                                    \n",
              "0      150.222153  -72.269554       1        1  24.807001\n",
              "2       51.163364 -159.968018       2        1  21.476585\n",
              "4      -73.144554   21.523815       3        1  19.906941\n",
              "3      -66.410133 -110.606438       4        1  17.227036\n",
              "1       54.417324   12.443444       5        1  16.582437, topic_info=      Category         Freq  ...  loglift  logprob\n",
              "6813   Default  2502.000000  ...  30.0000  30.0000\n",
              "567    Default   571.000000  ...  29.0000  29.0000\n",
              "12146  Default   382.000000  ...  28.0000  28.0000\n",
              "11197  Default   360.000000  ...  27.0000  27.0000\n",
              "1883   Default   233.000000  ...  26.0000  26.0000\n",
              "...        ...          ...  ...      ...      ...\n",
              "7903    Topic5    76.131636  ...   1.0285  -6.4356\n",
              "7586    Topic5    98.591855  ...   0.1329  -6.1771\n",
              "13117   Topic5    83.001747  ...  -0.0130  -6.3492\n",
              "567     Topic5    75.519300  ...  -0.2275  -6.4437\n",
              "2924    Topic5    72.041913  ...  -0.4731  -6.4909\n",
              "\n",
              "[318 rows x 6 columns], token_table=       Topic      Freq         Term\n",
              "term                               \n",
              "0          4  0.992848      ___ ___\n",
              "1          4  0.981856     ___ ____\n",
              "2          4  0.986088    ___ _____\n",
              "12         2  0.019374    ____ ____\n",
              "12         4  0.968707    ____ ____\n",
              "...      ...       ...          ...\n",
              "13228      5  0.041419     year old\n",
              "13264      5  0.973841  york replac\n",
              "13278      3  0.962517   youll like\n",
              "13309      1  0.943638  young peopl\n",
              "13309      2  0.047982  young peopl\n",
              "\n",
              "[527 rows x 3 columns], R=30, lambda_step=0.01, plot_opts={'xlab': 'PC1', 'ylab': 'PC2'}, topic_order=[1, 3, 5, 4, 2])"
            ]
          },
          "metadata": {
            "tags": []
          },
          "execution_count": 41
        }
      ]
    },
    {
      "cell_type": "markdown",
      "metadata": {
        "id": "sNjHtZ5bCnFa",
        "colab_type": "text"
      },
      "source": [
        "# LDA Unigram - binary - lem"
      ]
    },
    {
      "cell_type": "code",
      "metadata": {
        "id": "p0AS982-Cq5I",
        "colab_type": "code",
        "colab": {}
      },
      "source": [
        "data_token_lem_binary = binary.fit_transform(df.token_lem)"
      ],
      "execution_count": 0,
      "outputs": []
    },
    {
      "cell_type": "code",
      "metadata": {
        "id": "JjlQLojSCrCc",
        "colab_type": "code",
        "outputId": "ca8ab03e-2961-4cd0-a71f-54dca0433f1e",
        "colab": {
          "base_uri": "https://localhost:8080/",
          "height": 399
        }
      },
      "source": [
        "# Parametri di ricerca\n",
        "search_params = {'n_components': [5,10, 15, 20, 25, 30], 'learning_decay': [.5, .7, .9]}\n",
        "\n",
        "# Inizializzazione Modello\n",
        "lda = LatentDirichletAllocation()\n",
        "\n",
        "# Inizializzazione GridSearchCV\n",
        "model = GridSearchCV(lda, param_grid=search_params)\n",
        "\n",
        "# Grid Search\n",
        "model.fit(data_token_lem_binary)"
      ],
      "execution_count": 0,
      "outputs": [
        {
          "output_type": "execute_result",
          "data": {
            "text/plain": [
              "GridSearchCV(cv=None, error_score=nan,\n",
              "             estimator=LatentDirichletAllocation(batch_size=128,\n",
              "                                                 doc_topic_prior=None,\n",
              "                                                 evaluate_every=-1,\n",
              "                                                 learning_decay=0.7,\n",
              "                                                 learning_method='batch',\n",
              "                                                 learning_offset=10.0,\n",
              "                                                 max_doc_update_iter=100,\n",
              "                                                 max_iter=10,\n",
              "                                                 mean_change_tol=0.001,\n",
              "                                                 n_components=10, n_jobs=None,\n",
              "                                                 perp_tol=0.1,\n",
              "                                                 random_state=None,\n",
              "                                                 topic_word_prior=None,\n",
              "                                                 total_samples=1000000.0,\n",
              "                                                 verbose=0),\n",
              "             iid='deprecated', n_jobs=None,\n",
              "             param_grid={'learning_decay': [0.5, 0.7, 0.9],\n",
              "                         'n_components': [5, 10, 15, 20, 25, 30]},\n",
              "             pre_dispatch='2*n_jobs', refit=True, return_train_score=False,\n",
              "             scoring=None, verbose=0)"
            ]
          },
          "metadata": {
            "tags": []
          },
          "execution_count": 16
        }
      ]
    },
    {
      "cell_type": "code",
      "metadata": {
        "id": "5H5BYASKCrJu",
        "colab_type": "code",
        "outputId": "eccc2b81-2ddc-4a7b-fc79-8833e4dc5c2d",
        "colab": {
          "base_uri": "https://localhost:8080/",
          "height": 72
        }
      },
      "source": [
        "# Stimato il Miglior modello \n",
        "best_lda_model = model.best_estimator_\n",
        "\n",
        "# Parametri del modello\n",
        "print(\"Best Model Params: \", model.best_params_)\n",
        "\n",
        "# Log Likelihood Score\n",
        "print(\"Best Log Likelihood Score: \", model.best_score_)\n",
        "\n",
        "# Perplessità\n",
        "print(\"Model Perplexity: \", best_lda_model.perplexity(data_token_lem_binary))"
      ],
      "execution_count": 0,
      "outputs": [
        {
          "output_type": "stream",
          "text": [
            "Best Model Params:  {'learning_decay': 0.9, 'n_components': 5}\n",
            "Best Log Likelihood Score:  -2617574.220930903\n",
            "Model Perplexity:  4791.440233553457\n"
          ],
          "name": "stdout"
        }
      ]
    },
    {
      "cell_type": "code",
      "metadata": {
        "id": "M35BFZW_CrYE",
        "colab_type": "code",
        "outputId": "591dd739-611d-4600-cb7e-50dee6ff64a1",
        "colab": {
          "base_uri": "https://localhost:8080/",
          "height": 1000
        }
      },
      "source": [
        "pyLDAvis.enable_notebook()\n",
        "vis = pyLDAvis.sklearn.prepare(best_lda_model, data_token_lem_binary, binary, mds='tsne')\n",
        "vis"
      ],
      "execution_count": 0,
      "outputs": [
        {
          "output_type": "stream",
          "text": [
            "/usr/local/lib/python3.6/dist-packages/pyLDAvis/_prepare.py:257: FutureWarning: Sorting because non-concatenation axis is not aligned. A future version\n",
            "of pandas will change to not sort by default.\n",
            "\n",
            "To accept the future behavior, pass 'sort=False'.\n",
            "\n",
            "To retain the current behavior and silence the warning, pass 'sort=True'.\n",
            "\n",
            "  return pd.concat([default_term_info] + list(topic_dfs))\n"
          ],
          "name": "stderr"
        },
        {
          "output_type": "execute_result",
          "data": {
            "text/html": [
              "\n",
              "<link rel=\"stylesheet\" type=\"text/css\" href=\"https://cdn.rawgit.com/bmabey/pyLDAvis/files/ldavis.v1.0.0.css\">\n",
              "\n",
              "\n",
              "<div id=\"ldavis_el121139831022734096500457950\"></div>\n",
              "<script type=\"text/javascript\">\n",
              "\n",
              "var ldavis_el121139831022734096500457950_data = {\"mdsDat\": {\"x\": [150.22215270996094, 51.16336441040039, -73.1445541381836, -66.4101333618164, 54.41732406616211], \"y\": [-72.2695541381836, -159.968017578125, 21.523815155029297, -110.60643768310547, 12.44344425201416], \"topics\": [1, 2, 3, 4, 5], \"cluster\": [1, 1, 1, 1, 1], \"Freq\": [26.823253139662583, 26.144538204006928, 19.816756444803442, 16.494196920597386, 10.721255290929665]}, \"tinfo\": {\"Category\": [\"Default\", \"Default\", \"Default\", \"Default\", \"Default\", \"Default\", \"Default\", \"Default\", \"Default\", \"Default\", \"Default\", \"Default\", \"Default\", \"Default\", \"Default\", \"Default\", \"Default\", \"Default\", \"Default\", \"Default\", \"Default\", \"Default\", \"Default\", \"Default\", \"Default\", \"Default\", \"Default\", \"Default\", \"Default\", \"Default\", \"Topic1\", \"Topic1\", \"Topic1\", \"Topic1\", \"Topic1\", \"Topic1\", \"Topic1\", \"Topic1\", \"Topic1\", \"Topic1\", \"Topic1\", \"Topic1\", \"Topic1\", \"Topic1\", \"Topic1\", \"Topic1\", \"Topic1\", \"Topic1\", \"Topic1\", \"Topic1\", \"Topic1\", \"Topic1\", \"Topic1\", \"Topic1\", \"Topic1\", \"Topic1\", \"Topic1\", \"Topic1\", \"Topic1\", \"Topic1\", \"Topic1\", \"Topic1\", \"Topic1\", \"Topic1\", \"Topic1\", \"Topic1\", \"Topic1\", \"Topic1\", \"Topic1\", \"Topic1\", \"Topic1\", \"Topic1\", \"Topic1\", \"Topic1\", \"Topic1\", \"Topic1\", \"Topic1\", \"Topic1\", \"Topic1\", \"Topic1\", \"Topic1\", \"Topic1\", \"Topic1\", \"Topic1\", \"Topic1\", \"Topic1\", \"Topic1\", \"Topic1\", \"Topic1\", \"Topic1\", \"Topic1\", \"Topic1\", \"Topic1\", \"Topic1\", \"Topic1\", \"Topic1\", \"Topic1\", \"Topic1\", \"Topic1\", \"Topic1\", \"Topic1\", \"Topic1\", \"Topic1\", \"Topic1\", \"Topic1\", \"Topic1\", \"Topic1\", \"Topic1\", \"Topic1\", \"Topic1\", \"Topic1\", \"Topic1\", \"Topic1\", \"Topic1\", \"Topic1\", \"Topic1\", \"Topic1\", \"Topic1\", \"Topic1\", \"Topic1\", \"Topic2\", \"Topic2\", \"Topic2\", \"Topic2\", \"Topic2\", \"Topic2\", \"Topic2\", \"Topic2\", \"Topic2\", \"Topic2\", \"Topic2\", \"Topic2\", \"Topic2\", \"Topic2\", \"Topic2\", \"Topic2\", \"Topic2\", \"Topic2\", \"Topic2\", \"Topic2\", \"Topic2\", \"Topic2\", \"Topic2\", \"Topic2\", \"Topic2\", \"Topic2\", \"Topic2\", \"Topic2\", \"Topic2\", \"Topic2\", \"Topic2\", \"Topic2\", \"Topic2\", \"Topic2\", \"Topic2\", \"Topic2\", \"Topic2\", \"Topic2\", \"Topic2\", \"Topic2\", \"Topic2\", \"Topic2\", \"Topic2\", \"Topic2\", \"Topic2\", \"Topic2\", \"Topic2\", \"Topic2\", \"Topic2\", \"Topic2\", \"Topic2\", \"Topic2\", \"Topic2\", \"Topic2\", \"Topic2\", \"Topic2\", \"Topic2\", \"Topic2\", \"Topic2\", \"Topic2\", \"Topic2\", \"Topic2\", \"Topic2\", \"Topic2\", \"Topic2\", \"Topic2\", \"Topic2\", \"Topic2\", \"Topic2\", \"Topic2\", \"Topic2\", \"Topic2\", \"Topic2\", \"Topic2\", \"Topic2\", \"Topic2\", \"Topic2\", \"Topic2\", \"Topic2\", \"Topic2\", \"Topic2\", \"Topic2\", \"Topic2\", \"Topic2\", \"Topic2\", \"Topic2\", \"Topic2\", \"Topic2\", \"Topic2\", \"Topic2\", \"Topic2\", \"Topic3\", \"Topic3\", \"Topic3\", \"Topic3\", \"Topic3\", \"Topic3\", \"Topic3\", \"Topic3\", \"Topic3\", \"Topic3\", \"Topic3\", \"Topic3\", \"Topic3\", \"Topic3\", \"Topic3\", \"Topic3\", \"Topic3\", \"Topic3\", \"Topic3\", \"Topic3\", \"Topic3\", \"Topic3\", \"Topic3\", \"Topic3\", \"Topic3\", \"Topic3\", \"Topic3\", \"Topic3\", \"Topic3\", \"Topic3\", \"Topic3\", \"Topic3\", \"Topic3\", \"Topic3\", \"Topic3\", \"Topic3\", \"Topic3\", \"Topic3\", \"Topic3\", \"Topic3\", \"Topic3\", \"Topic3\", \"Topic3\", \"Topic3\", \"Topic3\", \"Topic3\", \"Topic3\", \"Topic3\", \"Topic3\", \"Topic3\", \"Topic3\", \"Topic3\", \"Topic3\", \"Topic3\", \"Topic3\", \"Topic3\", \"Topic3\", \"Topic3\", \"Topic3\", \"Topic3\", \"Topic3\", \"Topic3\", \"Topic3\", \"Topic3\", \"Topic3\", \"Topic3\", \"Topic3\", \"Topic3\", \"Topic3\", \"Topic3\", \"Topic3\", \"Topic3\", \"Topic3\", \"Topic3\", \"Topic3\", \"Topic3\", \"Topic3\", \"Topic3\", \"Topic3\", \"Topic3\", \"Topic3\", \"Topic3\", \"Topic3\", \"Topic3\", \"Topic3\", \"Topic3\", \"Topic3\", \"Topic3\", \"Topic3\", \"Topic3\", \"Topic3\", \"Topic3\", \"Topic3\", \"Topic4\", \"Topic4\", \"Topic4\", \"Topic4\", \"Topic4\", \"Topic4\", \"Topic4\", \"Topic4\", \"Topic4\", \"Topic4\", \"Topic4\", \"Topic4\", \"Topic4\", \"Topic4\", \"Topic4\", \"Topic4\", \"Topic4\", \"Topic4\", \"Topic4\", \"Topic4\", \"Topic4\", \"Topic4\", \"Topic4\", \"Topic4\", \"Topic4\", \"Topic4\", \"Topic4\", \"Topic4\", \"Topic4\", \"Topic4\", \"Topic4\", \"Topic4\", \"Topic4\", \"Topic4\", \"Topic4\", \"Topic4\", \"Topic4\", \"Topic4\", \"Topic4\", \"Topic4\", \"Topic4\", \"Topic4\", \"Topic4\", \"Topic4\", \"Topic4\", \"Topic4\", \"Topic4\", \"Topic4\", \"Topic4\", \"Topic4\", \"Topic4\", \"Topic4\", \"Topic4\", \"Topic4\", \"Topic4\", \"Topic4\", \"Topic4\", \"Topic4\", \"Topic4\", \"Topic4\", \"Topic4\", \"Topic4\", \"Topic4\", \"Topic4\", \"Topic4\", \"Topic4\", \"Topic4\", \"Topic4\", \"Topic4\", \"Topic4\", \"Topic4\", \"Topic4\", \"Topic4\", \"Topic4\", \"Topic4\", \"Topic4\", \"Topic4\", \"Topic4\", \"Topic4\", \"Topic4\", \"Topic4\", \"Topic5\", \"Topic5\", \"Topic5\", \"Topic5\", \"Topic5\", \"Topic5\", \"Topic5\", \"Topic5\", \"Topic5\", \"Topic5\", \"Topic5\", \"Topic5\", \"Topic5\", \"Topic5\", \"Topic5\", \"Topic5\", \"Topic5\", \"Topic5\", \"Topic5\", \"Topic5\", \"Topic5\", \"Topic5\", \"Topic5\", \"Topic5\", \"Topic5\", \"Topic5\", \"Topic5\", \"Topic5\", \"Topic5\", \"Topic5\", \"Topic5\", \"Topic5\", \"Topic5\", \"Topic5\", \"Topic5\", \"Topic5\", \"Topic5\", \"Topic5\", \"Topic5\", \"Topic5\", \"Topic5\", \"Topic5\", \"Topic5\", \"Topic5\", \"Topic5\", \"Topic5\", \"Topic5\", \"Topic5\", \"Topic5\", \"Topic5\", \"Topic5\", \"Topic5\", \"Topic5\", \"Topic5\", \"Topic5\", \"Topic5\", \"Topic5\", \"Topic5\", \"Topic5\", \"Topic5\", \"Topic5\", \"Topic5\", \"Topic5\", \"Topic5\", \"Topic5\", \"Topic5\", \"Topic5\", \"Topic5\", \"Topic5\", \"Topic5\", \"Topic5\", \"Topic5\", \"Topic5\", \"Topic5\", \"Topic5\", \"Topic5\", \"Topic5\", \"Topic5\", \"Topic5\", \"Topic5\", \"Topic5\"], \"Freq\": [1044.0, 733.0, 914.0, 1144.0, 539.0, 1210.0, 2580.0, 1192.0, 1902.0, 711.0, 1874.0, 1016.0, 555.0, 4696.0, 451.0, 575.0, 854.0, 359.0, 1020.0, 753.0, 2828.0, 402.0, 3046.0, 319.0, 5151.0, 4042.0, 327.0, 537.0, 1206.0, 498.0, 445.5499493762141, 445.547643153545, 365.62720314763123, 340.30311855777956, 266.23980925541343, 228.23328478834185, 217.51159043447282, 215.5646384729224, 214.58548974245846, 212.62698203555743, 206.7922497254731, 194.12462182113933, 182.4281520644068, 182.42712021025292, 167.80947817989312, 173.58561142158766, 154.16536271541491, 144.42440930091735, 143.44960118200163, 140.5261871285335, 144.39355192290378, 134.672970428621, 125.9049935537438, 118.10495817757317, 117.13655828877026, 118.0991888689878, 115.18798565087641, 112.26492701904455, 459.6583127561025, 533.1612500300439, 240.7924738018521, 228.07903165092202, 262.1994631359617, 285.75737145040927, 214.16614745529296, 473.3097225193789, 349.25195718483315, 1117.4727692702318, 534.2821030055981, 266.9344618593141, 271.9411730006903, 936.7481422426322, 790.5605887094839, 291.1326806988276, 291.4248764926015, 491.35624055472886, 388.757570544836, 887.564739947379, 676.409098357391, 1504.61903538981, 1033.0848448354582, 960.0757184889392, 944.442233915908, 652.1041183646935, 344.5967652237647, 408.3157119815594, 1390.8347181419106, 590.6174540011456, 1125.6479525649702, 1322.8555889628503, 694.0728030652248, 590.7589072657178, 582.095222504665, 440.99266816704096, 604.8355645101226, 1499.9619594371306, 676.8591211369544, 531.6879738682288, 1215.6836058019271, 1806.9534549963932, 1197.0366916890453, 1108.0680379194669, 1600.0175858755663, 849.8963309465338, 1544.5808643300888, 1280.2206591392303, 674.1782021975955, 710.1753781707761, 965.4796041301679, 748.3617071232009, 980.4665726367525, 1199.1933326353903, 1029.7617797329247, 952.4368569479183, 999.850613201751, 829.5681159233549, 893.9276101351965, 907.5893563942707, 873.615765246868, 793.2003333965271, 497.72861636672326, 296.9377170992017, 294.9578276627286, 235.60912015604595, 177.25074024721047, 170.32849123842092, 154.50252353095846, 153.5113000094729, 135.70856953839586, 132.7390253275257, 110.97861088753368, 106.03390318680707, 105.03674203966898, 103.06658765750196, 100.09851067588912, 97.1315631748709, 94.15861035548471, 93.17570605688557, 93.17310850559083, 91.19574163006519, 156.84146226573003, 85.26056323386197, 84.27226674972073, 81.30640531676464, 79.32811435526766, 105.74599366266959, 77.34915178671442, 88.0949355863578, 71.41450469391421, 68.4451429406911, 380.5971009770456, 427.43721401119046, 112.1655975295121, 247.34369719691935, 128.82061721134085, 1087.151809940605, 698.6293211640611, 393.44510083249946, 176.994579003659, 172.05803569275878, 167.33075504249894, 203.45990698828757, 422.0499373615805, 222.9187485027534, 333.03245601784744, 177.08320276529238, 167.77052354068826, 409.5746049911186, 259.0783229870878, 479.01764858042327, 276.75197926962517, 667.2293853903849, 467.4781041640718, 918.3554815741098, 638.9785114913842, 1244.785620606784, 1317.6292241079584, 409.9171560472674, 302.53486770279767, 800.9004204150247, 401.7445112861138, 992.5761918590558, 1129.393240147121, 1253.4075738298675, 537.5310284389335, 1069.8412497839122, 981.5569017315306, 1343.623404959512, 681.3669123263116, 622.3481110230492, 886.8901522168404, 691.7943080295214, 1065.8866624467778, 882.0782026163859, 941.3423292965965, 773.5879328432067, 1206.6215263605532, 955.039670837852, 945.3261422401494, 766.0711312750353, 1016.8147960312634, 984.5854125367341, 1126.6429396919366, 925.3439642257769, 825.1813559329482, 814.850297545736, 784.5607841230659, 727.465865741268, 775.8762592017406, 758.0963151484771, 738.7623560541077, 212.86003898022756, 190.00402449948453, 257.20305285255074, 168.14267556933348, 168.1409192610757, 167.14271079684792, 262.05011149574835, 201.71958720591155, 129.38608898899744, 126.40521004698526, 127.3823889805409, 119.44896538935376, 118.4552500014115, 118.4552500014115, 118.4552500014115, 118.4552500014115, 102.53189643141123, 115.3270987320981, 94.60299100786008, 92.6147658639579, 147.7692093303494, 84.6616916574189, 78.69803997368993, 77.70957700244996, 73.73406000448796, 82.57549350660936, 73.72740293491637, 70.75377292493698, 177.8291247393019, 69.75603907842296, 162.79884118806055, 95.149872573888, 135.85891549578042, 144.57550119791634, 195.9362701318367, 152.06815591802498, 152.82326519489663, 345.20568432350416, 341.0970737377309, 329.8525600714648, 236.44242194170448, 315.60412243443614, 308.73428762302956, 931.0809794183594, 296.5771891953063, 197.0428029125287, 353.1151507373402, 187.45639641714905, 419.04414819595377, 405.6378012571096, 511.87143732793083, 262.7562631685537, 274.3143729215285, 225.04121356572713, 297.26101457159444, 321.89208446309675, 558.4720336104189, 485.1862191811911, 431.21612052101193, 1147.1874820903909, 371.2759271823877, 402.11462427979166, 367.3239636122932, 616.1515134020763, 282.40365925777985, 712.3293440521024, 257.1244602079563, 336.1175915340357, 708.3157358214293, 629.6892497406091, 371.5244070381294, 639.8449387370783, 606.4867545358043, 583.4961116475322, 587.536999616217, 462.4136594566773, 527.0612598776579, 561.1071549049817, 599.3139511409503, 542.2687722416642, 499.02296552531874, 451.4681230332209, 527.0811607204471, 535.825721681389, 557.9500541871714, 492.09364235189923, 504.4057081895684, 487.16568540635274, 465.52567840454634, 473.0744205765706, 458.9508797548237, 462.9562870070757, 472.2251309832558, 401.1752521007973, 171.37240361560572, 126.81200401853292, 110.60761732845154, 84.27205593597895, 118.33921372801181, 79.20556367877407, 84.18082091658701, 72.11833666664457, 72.1183366664874, 66.02946227052323, 62.93597698187248, 57.936577879326705, 161.80936071104665, 163.7593440673965, 54.8912896350913, 54.89124013803527, 53.88049893332588, 61.861018508869904, 49.82775415887973, 48.82089350541034, 91.42489037806801, 41.72932757611199, 40.71707921023919, 39.70126274040864, 42.66740405411333, 184.38567216491668, 36.66599831244223, 36.64249346839514, 110.87563883336394, 889.0029835960318, 540.9969942423336, 103.8472661129285, 120.95290885101578, 179.22314546897277, 241.664940644874, 289.9863869037585, 172.08762314633555, 87.87006256654945, 98.36804719363265, 121.44194896803207, 134.92049875425482, 248.98128669476927, 222.298339806663, 126.08430986091352, 194.98587621065116, 419.03880265497753, 414.3952350831006, 352.68179007178117, 381.63641225783357, 1337.089554560626, 1331.4362787948837, 866.568226334794, 1219.879225494356, 853.0425611367046, 879.6352890746957, 582.5549928751656, 603.090833940028, 923.4725482278009, 777.8193922056154, 543.4991104797508, 729.8672820489354, 809.2371692993803, 938.3133317344075, 584.4067856258953, 547.2400832954963, 662.1945976066464, 692.4897875791175, 684.284913540333, 625.9670054001595, 688.7261463618136, 646.2963318613068, 625.0251723994453, 676.8309239258992, 586.4752153390634, 685.3837075338878, 667.0101689019939, 584.6751651579841, 635.3453283505942, 594.1483216963727, 572.8361429932445, 318.346013596151, 284.2951837982033, 236.62129989860378, 167.54173248575142, 149.05552091960155, 121.79570164328152, 117.91703098976507, 110.13738893380926, 106.2411470592278, 105.27303522648639, 105.27244888838146, 100.40818158345269, 95.54352453016423, 87.75897674276588, 84.83613637346014, 82.89100838559361, 81.92093352351961, 78.03044368471932, 78.02953615505767, 77.05715452576163, 77.05663172622748, 78.01954565611085, 78.01951026900582, 72.19236091611239, 71.21896753397439, 69.27224054923474, 68.29781785762586, 66.35365169639832, 354.5927315536856, 61.48993581291151, 704.552320563789, 518.0600717650981, 312.1368125379237, 933.0692564105735, 403.7302279647099, 133.60744357273936, 191.21415453915586, 118.90375809427826, 189.22026146703308, 161.33098498341724, 107.34571991994714, 97.95478582910978, 124.33855643410301, 475.38244141895456, 375.8395460576845, 199.42957560763813, 180.4156584759272, 210.26638027976168, 151.1746608632085, 296.6733442764861, 589.9329536812204, 265.1525065107828, 666.7762945643393, 171.4936967325419, 183.4295966163591, 227.05016244374266, 504.98905839581334, 613.2143487565195, 210.18602870092764, 230.1782750910582, 510.89581481379264, 539.4332667074227, 590.6933070959611, 572.7553137601911, 548.7944256707921, 467.22285592909526, 444.09324792808667, 430.2427835291026, 508.6782502638079, 444.03098977923537, 301.8038411336737, 387.23728339982995, 366.5545031489103, 383.1086540074628, 342.01122410924853, 313.7542134713522, 342.17496099864866, 333.11842129934587, 336.6347630298085, 331.4316923201865, 328.18923561749443], \"Term\": [\"game\", \"team\", \"car\", \"government\", \"player\", \"window\", \"year\", \"god\", \"email\", \"play\", \"last\", \"file\", \"dod\", \"get\", \"fan\", \"win\", \"software\", \"season\", \"thanksn\", \"christian\", \"writesn\", \"bike\", \"good\", \"baseball\", \"like\", \"think\", \"league\", \"disk\", \"program\", \"jesus\", \"do\", \"mac\", \"monitor\", \"ftp\", \"mhz\", \"scsi\", \"directory\", \"meg\", \"interface\", \"controller\", \"floppy\", \"printer\", \"cpu\", \"upgrade\", \"microsoft\", \"softwaren\", \"cardn\", \"ide\", \"motherboard\", \"vga\", \"font\", \"processor\", \"macintosh\", \"compression\", \"widget\", \"configuration\", \"pc\", \"bios\", \"graphic\", \"disk\", \"digital\", \"windowsn\", \"output\", \"server\", \"modem\", \"advancen\", \"screen\", \"window\", \"application\", \"port\", \"unix\", \"file\", \"software\", \"format\", \"ibm\", \"user\", \"hardware\", \"thanksn\", \"card\", \"email\", \"thanks\", \"computer\", \"program\", \"fax\", \"mode\", \"video\", \"system\", \"version\", \"using\", \"please\", \"internet\", \"machine\", \"running\", \"code\", \"data\", \"anyone\", \"drive\", \"mail\", \"work\", \"know\", \"need\", \"problem\", \"get\", \"help\", \"like\", \"also\", \"available\", \"looking\", \"used\", \"run\", \"new\", \"dont\", \"could\", \"want\", \"ton\", \"ive\", \"itn\", \"make\", \"time\", \"andn\", \"jesus\", \"christianity\", \"godn\", \"atheist\", \"catholic\", \"scripture\", \"clhn\", \"doctrine\", \"biblical\", \"verse\", \"prophet\", \"gospel\", \"believer\", \"atheism\", \"biblen\", \"testament\", \"physician\", \"revelation\", \"intellect\", \"faithn\", \"passage\", \"churchn\", \"infection\", \"njxp\", \"slpittedu\", \"worship\", \"theist\", \"skepticism\", \"theology\", \"heavenn\", \"christ\", \"bible\", \"christiann\", \"sin\", \"jesusn\", \"god\", \"christian\", \"church\", \"patient\", \"holy\", \"teaching\", \"heaven\", \"belief\", \"lord\", \"faith\", \"disease\", \"interpretation\", \"religion\", \"moral\", \"argument\", \"nature\", \"word\", \"human\", \"believe\", \"life\", \"say\", \"people\", \"evidence\", \"truth\", \"mean\", \"statement\", \"thatn\", \"ofn\", \"think\", \"example\", \"andn\", \"see\", \"dont\", \"must\", \"reason\", \"many\", \"fact\", \"ton\", \"may\", \"thing\", \"question\", \"know\", \"even\", \"way\", \"point\", \"time\", \"also\", \"like\", \"make\", \"itn\", \"could\", \"good\", \"something\", \"article\", \"well\", \"get\", \"turkish\", \"troop\", \"arab\", \"armenia\", \"batf\", \"armenian\", \"israeli\", \"soviet\", \"serdar\", \"argicn\", \"turkey\", \"exterminationn\", \"melkonian\", \"ohanus\", \"appressian\", \"sahak\", \"tratuscom\", \"davidians\", \"atf\", \"cramer\", \"village\", \"murdered\", \"packetn\", \"wstratuscom\", \"bosnian\", \"serb\", \"gunsn\", \"occupation\", \"turk\", \"invasion\", \"soldier\", \"bosnia\", \"palestinian\", \"assault\", \"armed\", \"firearm\", \"civilian\", \"fbi\", \"weapon\", \"crime\", \"criminal\", \"political\", \"citizen\", \"government\", \"israel\", \"waco\", \"killed\", \"army\", \"war\", \"gun\", \"country\", \"federal\", \"military\", \"civil\", \"policy\", \"fire\", \"law\", \"today\", \"american\", \"people\", \"force\", \"child\", \"member\", \"state\", \"attack\", \"right\", \"president\", \"national\", \"ofn\", \"way\", \"public\", \"ton\", \"andn\", \"even\", \"article\", \"fact\", \"many\", \"time\", \"dont\", \"could\", \"year\", \"said\", \"also\", \"think\", \"like\", \"writesn\", \"make\", \"well\", \"first\", \"say\", \"inn\", \"thatn\", \"get\", \"bike\", \"motorcycle\", \"honda\", \"brake\", \"toyota\", \"tire\", \"sternlight\", \"carsn\", \"utzoohenryn\", \"zoologyn\", \"jake\", \"enginen\", \"mustang\", \"wheel\", \"riding\", \"livni\", \"onycom\", \"excepted\", \"yamaha\", \"americanoccupied\", \"torque\", \"biken\", \"jackedn\", \"nissan\", \"bikers\", \"riden\", \"carn\", \"kipling\", \"shafer\", \"ama\", \"car\", \"dod\", \"gear\", \"mph\", \"bmw\", \"ride\", \"engine\", \"insurance\", \"patn\", \"spencer\", \"ford\", \"rear\", \"mile\", \"dealer\", \"auto\", \"vehicle\", \"money\", \"buy\", \"pay\", \"cost\", \"get\", \"like\", \"writesn\", \"dont\", \"thing\", \"article\", \"got\", \"back\", \"think\", \"good\", \"lot\", \"much\", \"make\", \"know\", \"ive\", \"going\", \"new\", \"well\", \"itn\", \"right\", \"even\", \"want\", \"year\", \"could\", \"take\", \"people\", \"time\", \"really\", \"ton\", \"ofn\", \"also\", \"baseball\", \"hockey\", \"playoff\", \"nhl\", \"pitcher\", \"teamn\", \"detroit\", \"scored\", \"coach\", \"pitching\", \"espn\", \"hitter\", \"bruin\", \"inning\", \"baseballn\", \"buffalo\", \"scoring\", \"goalie\", \"sox\", \"batting\", \"seasonn\", \"ksand\", \"alink\", \"batter\", \"hockeyn\", \"yankee\", \"islander\", \"playersn\", \"season\", \"puck\", \"team\", \"player\", \"league\", \"game\", \"fan\", \"gamesn\", \"gamen\", \"stats\", \"cup\", \"score\", \"stanley\", \"penguin\", \"winning\", \"play\", \"win\", \"played\", \"boston\", \"playing\", \"pittsburgh\", \"he\", \"last\", \"hit\", \"year\", \"ball\", \"san\", \"red\", \"first\", \"think\", \"series\", \"mike\", \"good\", \"time\", \"like\", \"dont\", \"get\", \"well\", \"see\", \"writesn\", \"know\", \"article\", \"next\", \"two\", \"really\", \"even\", \"back\", \"best\", \"make\", \"new\", \"also\", \"could\", \"ton\"], \"Total\": [1044.0, 733.0, 914.0, 1144.0, 539.0, 1210.0, 2580.0, 1192.0, 1902.0, 711.0, 1874.0, 1016.0, 555.0, 4696.0, 451.0, 575.0, 854.0, 359.0, 1020.0, 753.0, 2828.0, 402.0, 3046.0, 319.0, 5151.0, 4042.0, 327.0, 537.0, 1206.0, 498.0, 446.347777030605, 446.3478257839546, 366.4368944533324, 341.09877582399446, 267.0346828038446, 229.02810860942407, 218.30833037103605, 216.3592433047717, 215.3847948868118, 213.43588897451784, 207.5885463353459, 194.91965135649454, 183.2253661357772, 183.22541949861116, 168.60746474486825, 174.45735205002504, 154.96410917030548, 145.21873456381215, 144.24421895848417, 141.32062436448408, 145.21920201648447, 135.4736000648013, 126.7028062708116, 118.90672738972214, 117.93199802036037, 118.90696256402202, 115.98292793583462, 113.05932591683418, 462.9500994125169, 537.0051994928335, 242.69286974281923, 230.02574408878337, 265.08237273224165, 289.49801263990304, 216.38722159534416, 482.54997507185954, 355.80169848125644, 1210.0933767440372, 562.7306505387095, 273.97731379516, 279.9776567667739, 1016.3093019311713, 854.6084522152613, 301.3488963823709, 302.45401159188094, 533.2868909041797, 414.14128550048554, 1020.1333061007844, 765.9950327337599, 1902.9067515616573, 1304.549446744866, 1210.3986519491539, 1206.5726018206403, 791.6483998653628, 374.6637156853326, 459.74514428389347, 2089.712493315317, 734.6454080674996, 1712.1530722247057, 2194.4889639929365, 942.244006922782, 768.9375471024376, 765.8359024347915, 523.8243755872178, 814.1572274113231, 2964.2358727643236, 968.3971446704833, 684.2900556999969, 2504.1935601271266, 4913.495319769398, 2556.260640262791, 2397.0108382324242, 4696.8890531443485, 1551.775205055768, 5151.303444100042, 3701.358138419465, 1007.8443563873986, 1144.12008115887, 2228.774520551513, 1302.8638425703123, 2755.5549599024466, 4934.7652279904, 3395.1434657664104, 2797.178169551883, 3669.1167783536957, 2111.9050254909394, 2995.155380672573, 3488.751159107645, 3657.9811517925295, 3269.1849572087235, 498.5257480621091, 297.7304976505104, 295.75222108665037, 236.40383163418204, 178.04462689342256, 171.12063902531264, 155.29440634063448, 154.30526770124808, 136.50076528275827, 133.53337516934744, 111.77229143057156, 106.82655842532333, 105.83732028937739, 103.85916623030309, 100.8917487084889, 97.92432323287755, 94.95698539639912, 93.96776831657832, 93.96777291686426, 91.98949473038742, 158.2647830303309, 86.0546573210629, 85.06551949647027, 82.09810014573708, 80.1198216088309, 106.82792398663645, 78.14153430144425, 89.02531863581011, 72.20669853213899, 69.23928225751536, 387.77182599985235, 439.22849319732256, 113.75424886064981, 255.09328374208036, 131.60161985708007, 1192.3220809231054, 753.8375499232808, 421.55645390961683, 184.01602666902, 178.98493395070744, 174.00000923423426, 215.6278341181046, 480.83473485371, 240.40905926329023, 380.3323529341885, 189.94393613052003, 179.07944433587184, 507.8364805965522, 309.9023738129214, 651.8661945641494, 340.32015837325963, 1195.614883645111, 744.1473197039531, 1901.9406079424543, 1161.2204769735322, 3110.5257013231685, 3727.5790115493332, 667.0563665360476, 425.37514564365193, 1875.7624629842476, 654.7122447570504, 2644.0874914505985, 3289.9069161351495, 4042.8563805965746, 1044.049889657417, 3269.1849572087235, 2859.273610501946, 4934.7652279904, 1599.2669635701532, 1374.6005290342086, 2566.0010993423434, 1655.461918760714, 3669.1167783536957, 2590.8315871017344, 2949.702971392988, 2037.8028457211317, 4913.495319769398, 3139.1547895621907, 3095.8283714685485, 2028.3610658508055, 3657.9811517925295, 3701.358138419465, 5151.303444100042, 3488.751159107645, 2995.155380672573, 3395.1434657664104, 3046.9636622927464, 2148.060818313865, 3237.2772380582064, 3049.6043125494402, 4696.8890531443485, 213.65178364320172, 190.7954746675709, 258.37790959862656, 168.93290543303112, 168.9329106205091, 167.93912445870282, 263.34900942389316, 202.71954426478487, 130.17653331164908, 127.19528116439412, 128.18888185155123, 120.2390115268591, 119.24525782735516, 119.24525782735516, 119.24525782735516, 119.24525782735516, 103.34511054709468, 116.26332147607411, 95.39519255990591, 93.40766824803053, 149.048461800173, 85.45763306636292, 79.49504189354273, 78.50138933031835, 74.52636988460951, 83.46966836399402, 74.5263338291943, 71.54511647535607, 179.8401100669754, 70.55130875318318, 164.95538525686715, 96.3868641577163, 138.12267820295378, 147.10240827949326, 200.80993219261202, 155.0619791605326, 156.0603480055007, 361.01118009303957, 366.9442015470623, 355.50784704486284, 253.48949676140506, 347.78683586714163, 340.3292028959141, 1144.778607876361, 329.818746620278, 210.6176390917476, 414.3782604174974, 203.76622207546907, 534.513697399953, 525.4458105382554, 701.7377683093041, 312.6729566699495, 333.9037001003094, 259.4743808992286, 377.9622583471654, 447.05052128238697, 1030.7089448925533, 862.3957167724972, 753.4150369319925, 3727.5790115493332, 605.6366583888812, 702.5114911834961, 603.387612694051, 1460.959617625543, 398.7262073046352, 2533.756183987489, 340.1056361552171, 612.6581969572129, 3289.9069161351495, 3095.8283714685485, 831.3537037049775, 3669.1167783536957, 3269.1849572087235, 3139.1547895621907, 3237.2772380582064, 1655.461918760714, 2566.0010993423434, 3657.9811517925295, 4934.7652279904, 3395.1434657664104, 2580.9898903066587, 1720.8867029004555, 3701.358138419465, 4042.8563805965746, 5151.303444100042, 2828.497644868577, 3488.751159107645, 3049.6043125494402, 2419.5777748141136, 3110.5257013231685, 2208.654041661939, 2644.0874914505985, 4696.8890531443485, 402.09722974428706, 172.17075059691612, 127.60278749928882, 111.39625582903082, 85.06047672028527, 119.48659199776327, 79.99588603750527, 85.05875359650783, 72.90554740437139, 72.90554740436545, 66.82780574323397, 63.7867621590424, 58.7247118683369, 164.03010608980802, 166.03906664147706, 55.6858634279706, 55.68586249287362, 54.67296901910351, 62.771550248023026, 50.621314065653095, 49.608501283150424, 93.14148569591853, 42.51806047276435, 41.50516931629984, 40.492191039546725, 43.528059699690125, 188.31679275708711, 37.453528711972716, 37.45297838082404, 113.37699298908203, 914.1032751942464, 555.5053822199261, 106.26844231628944, 124.49381117708919, 187.07472901996468, 255.79271959865738, 313.19344850588817, 187.0581942372732, 92.02210934051024, 104.18811459163005, 131.2997523913034, 149.5196957279903, 317.58265437018645, 290.61367561658705, 147.10006610891006, 259.9962136484525, 700.5697754870413, 778.4588747978528, 642.7811258491741, 718.9955240069103, 4696.8890531443485, 5151.303444100042, 2828.497644868577, 4934.7652279904, 2949.702971392988, 3237.2772380582064, 1822.6226883333093, 1960.5289082759684, 4042.8563805965746, 3046.9636622927464, 1661.856061264436, 2806.1622542440073, 3488.751159107645, 4913.495319769398, 2111.9050254909394, 1862.407308011465, 2755.5549599024466, 3049.6043125494402, 2995.155380672573, 2533.756183987489, 3139.1547895621907, 2797.178169551883, 2580.9898903066587, 3395.1434657664104, 2331.2007828902256, 3727.5790115493332, 3657.9811517925295, 2327.348997023468, 3669.1167783536957, 3289.9069161351495, 3701.358138419465, 319.14386226238173, 285.0905183039984, 237.41587741342857, 168.3363221798113, 149.85024545957697, 122.60810558340852, 118.71591748160675, 110.93219049375496, 107.0404865697941, 106.06742249114215, 106.06744185483855, 101.20266759172618, 96.33790939454425, 88.55431714096414, 85.63555001939167, 83.6895971087981, 82.7166123933907, 78.82478220023235, 78.82479413867334, 77.85183348977779, 77.85185848221285, 78.82496951446977, 78.82497010325248, 72.98707963450947, 72.0141317787739, 70.06826945061604, 69.095359924497, 67.14938101143423, 359.1064017483687, 62.28461785905456, 733.208253265989, 539.0641047034813, 327.2264096722824, 1044.3795699186333, 451.8806823798567, 141.12401728397822, 208.45105622487515, 126.6557322092477, 214.5851845832232, 184.23568647090354, 114.93518269233071, 103.23197732799788, 137.4353277338749, 711.4323991797239, 575.6132003523716, 255.85723891709236, 234.61933584088615, 290.96682679545967, 188.30446092107258, 526.3370756878782, 1874.209068076381, 508.3974246882118, 2580.9898903066587, 255.38226583782577, 292.8394699613275, 448.0450825460629, 2419.5777748141136, 4042.8563805965746, 394.6436579352216, 482.60606488410275, 3046.9636622927464, 3657.9811517925295, 5151.303444100042, 4934.7652279904, 4696.8890531443485, 3049.6043125494402, 2859.273610501946, 2828.497644868577, 4913.495319769398, 3237.2772380582064, 1039.2334953366899, 2482.3622884459483, 2327.348997023468, 3139.1547895621907, 1960.5289082759684, 1364.7995969494834, 3488.751159107645, 2755.5549599024466, 3701.358138419465, 3395.1434657664104, 3669.1167783536957], \"loglift\": [30.0, 29.0, 28.0, 27.0, 26.0, 25.0, 24.0, 23.0, 22.0, 21.0, 20.0, 19.0, 18.0, 17.0, 16.0, 15.0, 14.0, 13.0, 12.0, 11.0, 10.0, 9.0, 8.0, 7.0, 6.0, 5.0, 4.0, 3.0, 2.0, 1.0, 1.3141, 1.3141, 1.3137, 1.3136, 1.3129, 1.3124, 1.3122, 1.3122, 1.3122, 1.3121, 1.3121, 1.3118, 1.3115, 1.3115, 1.3112, 1.3109, 1.3107, 1.3104, 1.3104, 1.3103, 1.3102, 1.31, 1.3096, 1.3091, 1.3091, 1.3091, 1.309, 1.3088, 1.3088, 1.3087, 1.308, 1.3074, 1.305, 1.3029, 1.3056, 1.2966, 1.2973, 1.2363, 1.264, 1.2899, 1.2868, 1.2344, 1.238, 1.2814, 1.2788, 1.234, 1.2526, 1.1767, 1.1915, 1.0811, 1.0826, 1.0842, 1.071, 1.122, 1.2322, 1.1973, 0.9088, 1.0977, 0.8965, 0.8097, 1.0102, 1.0523, 1.0416, 1.1438, 1.0187, 0.6347, 0.9577, 1.0636, 0.5932, 0.3156, 0.5572, 0.5443, 0.239, 0.7139, 0.1114, 0.2542, 0.9138, 0.839, 0.4793, 0.7615, 0.2826, -0.0988, 0.1229, 0.2386, 0.0158, 0.3815, 0.1068, -0.0306, -0.1161, -0.1003, 1.3399, 1.3389, 1.3388, 1.3382, 1.3371, 1.3369, 1.3364, 1.3364, 1.3357, 1.3356, 1.3344, 1.3341, 1.3339, 1.3339, 1.3336, 1.3334, 1.3331, 1.3331, 1.333, 1.3329, 1.3325, 1.3323, 1.3322, 1.3318, 1.3316, 1.3314, 1.3313, 1.331, 1.3305, 1.33, 1.3229, 1.3143, 1.3275, 1.3107, 1.3202, 1.2492, 1.2655, 1.2725, 1.3026, 1.3021, 1.3024, 1.2834, 1.2111, 1.266, 1.2087, 1.2714, 1.2763, 1.1265, 1.1624, 1.0334, 1.1348, 0.7582, 0.8766, 0.6135, 0.7442, 0.4257, 0.3016, 0.8546, 1.0008, 0.4905, 0.8532, 0.3618, 0.2724, 0.1704, 0.6777, 0.2245, 0.2723, 0.0406, 0.4883, 0.5491, 0.2791, 0.469, 0.1054, 0.2641, 0.1994, 0.3729, -0.0626, 0.1516, 0.1552, 0.3678, 0.0613, 0.0173, -0.1785, 0.0144, 0.0524, -0.0856, -0.0152, 0.2588, -0.087, -0.0504, -0.5081, 1.6149, 1.6145, 1.6141, 1.614, 1.6139, 1.6139, 1.6137, 1.6137, 1.6126, 1.6124, 1.6123, 1.6121, 1.612, 1.612, 1.612, 1.612, 1.6107, 1.6106, 1.6103, 1.6101, 1.61, 1.6093, 1.6086, 1.6085, 1.608, 1.6079, 1.6079, 1.6075, 1.6074, 1.6073, 1.6055, 1.6057, 1.6021, 1.6013, 1.5941, 1.5991, 1.5977, 1.5739, 1.5456, 1.5437, 1.549, 1.5215, 1.5212, 1.412, 1.5124, 1.552, 1.4587, 1.5352, 1.3753, 1.3599, 1.3032, 1.4447, 1.4221, 1.4763, 1.3785, 1.2902, 1.0058, 1.0435, 1.0606, 0.4402, 1.1293, 1.0607, 1.1223, 0.7553, 1.2737, 0.3497, 1.3389, 1.0183, 0.0829, 0.0261, 0.8132, -0.1278, -0.066, -0.064, -0.0879, 0.3433, 0.0359, -0.2561, -0.4896, -0.2157, -0.0246, 0.2806, -0.3305, -0.4023, -0.6041, -0.1302, -0.3153, -0.2155, -0.0295, -0.2647, 0.0474, -0.1238, -0.6786, 1.7999, 1.7975, 1.7959, 1.7951, 1.7928, 1.7925, 1.7922, 1.7918, 1.7913, 1.7913, 1.7901, 1.7887, 1.7886, 1.7885, 1.7883, 1.7878, 1.7878, 1.7876, 1.7875, 1.7864, 1.7862, 1.7836, 1.7834, 1.783, 1.7824, 1.7822, 1.7811, 1.7809, 1.7803, 1.7799, 1.7743, 1.7757, 1.7791, 1.7733, 1.7593, 1.7453, 1.7252, 1.7187, 1.756, 1.7447, 1.7241, 1.6994, 1.5588, 1.5342, 1.648, 1.5144, 1.2882, 1.1717, 1.2019, 1.1688, 0.5458, 0.4492, 0.6192, 0.4046, 0.5615, 0.4992, 0.6616, 0.6233, 0.3256, 0.4368, 0.6845, 0.4555, 0.341, 0.1465, 0.5174, 0.5774, 0.3763, 0.3197, 0.3258, 0.404, 0.2853, 0.3371, 0.384, 0.1895, 0.4222, 0.1086, 0.1003, 0.4207, 0.0486, 0.0907, -0.0637, 2.2304, 2.2301, 2.2296, 2.2282, 2.2276, 2.2263, 2.2262, 2.2258, 2.2254, 2.2254, 2.2254, 2.2251, 2.2247, 2.2239, 2.2236, 2.2234, 2.2233, 2.2228, 2.2228, 2.2227, 2.2227, 2.2227, 2.2227, 2.222, 2.2218, 2.2215, 2.2213, 2.221, 2.2203, 2.2201, 2.1931, 2.1932, 2.1857, 2.1202, 2.1203, 2.1782, 2.1466, 2.1698, 2.1071, 2.1002, 2.1646, 2.1805, 2.1328, 1.8298, 1.8067, 1.9838, 1.9702, 1.9081, 2.0133, 1.6596, 1.077, 1.582, 0.8795, 1.8347, 1.7651, 1.5532, 0.6661, 0.3469, 1.603, 1.4926, 0.4472, 0.3188, 0.0672, 0.0793, 0.086, 0.357, 0.3707, 0.3498, -0.035, 0.2463, 0.9965, 0.375, 0.3846, 0.1296, 0.4868, 0.7628, -0.089, 0.1201, -0.1645, -0.0937, -0.1812], \"logprob\": [30.0, 29.0, 28.0, 27.0, 26.0, 25.0, 24.0, 23.0, 22.0, 21.0, 20.0, 19.0, 18.0, 17.0, 16.0, 15.0, 14.0, 13.0, 12.0, 11.0, 10.0, 9.0, 8.0, 7.0, 6.0, 5.0, 4.0, 3.0, 2.0, 1.0, -6.7584, -6.7584, -6.9561, -7.0279, -7.2733, -7.4274, -7.4755, -7.4845, -7.489, -7.4982, -7.526, -7.5892, -7.6514, -7.6514, -7.7349, -7.7011, -7.8197, -7.885, -7.8917, -7.9123, -7.8852, -7.9549, -8.0222, -8.0862, -8.0944, -8.0862, -8.1112, -8.1369, -6.7272, -6.5789, -7.3738, -7.428, -7.2886, -7.2026, -7.491, -6.698, -7.0019, -5.8389, -6.5768, -7.2707, -7.2521, -6.0153, -6.185, -7.184, -7.183, -6.6606, -6.8948, -6.0693, -6.3409, -5.5414, -5.9174, -5.9907, -6.0071, -6.3775, -7.0154, -6.8457, -5.6201, -6.4766, -5.8316, -5.6702, -6.3152, -6.4763, -6.4911, -6.7687, -6.4528, -5.5445, -6.3403, -6.5817, -5.7547, -5.3583, -5.7701, -5.8474, -5.48, -6.1126, -5.5152, -5.7029, -6.3442, -6.2922, -5.9851, -6.2398, -5.9697, -5.7683, -5.9207, -5.9987, -5.9501, -6.1368, -6.0621, -6.0469, -6.0851, -6.1817, -6.622, -7.1386, -7.1453, -7.3699, -7.6545, -7.6944, -7.7919, -7.7983, -7.9216, -7.9437, -8.1228, -8.1683, -8.1778, -8.1967, -8.2259, -8.256, -8.2871, -8.2976, -8.2976, -8.3191, -7.7769, -8.3864, -8.3981, -8.4339, -8.4585, -8.1711, -8.4838, -8.3537, -8.5636, -8.6061, -6.8904, -6.7743, -8.1121, -7.3213, -7.9737, -5.8408, -6.283, -6.8572, -7.656, -7.6843, -7.7121, -7.5166, -6.787, -7.4253, -7.0239, -7.6555, -7.7095, -6.817, -7.275, -6.6604, -7.209, -6.329, -6.6848, -6.0095, -6.3722, -5.7054, -5.6485, -6.8161, -7.1199, -6.1464, -6.8363, -5.9318, -5.8027, -5.6985, -6.5451, -5.8568, -5.943, -5.629, -6.308, -6.3986, -6.0444, -6.2928, -5.8605, -6.0498, -5.9848, -6.1811, -5.7365, -5.9704, -5.9806, -6.1908, -5.9077, -5.9399, -5.8051, -6.0019, -6.1165, -6.1291, -6.167, -6.2425, -6.1781, -6.2013, -6.2271, -7.1944, -7.3079, -7.0051, -7.4302, -7.4302, -7.4361, -6.9865, -7.2481, -7.6922, -7.7155, -7.7078, -7.7721, -7.7805, -7.7805, -7.7805, -7.7805, -7.9248, -7.8072, -8.0053, -8.0265, -7.5593, -8.1163, -8.1894, -8.202, -8.2545, -8.1413, -8.2546, -8.2958, -7.3742, -8.31, -7.4625, -7.9995, -7.6434, -7.5812, -7.2772, -7.5307, -7.5257, -6.7109, -6.7228, -6.7563, -7.0893, -6.8005, -6.8225, -5.7186, -6.8627, -7.2716, -6.6882, -7.3214, -6.517, -6.5495, -6.3169, -6.9838, -6.9407, -7.1387, -6.8604, -6.7808, -6.2298, -6.3705, -6.4884, -5.5099, -6.638, -6.5583, -6.6487, -6.1315, -6.9117, -5.9865, -7.0054, -6.7375, -5.9921, -6.1098, -6.6374, -6.0938, -6.1473, -6.186, -6.1791, -6.4185, -6.2877, -6.2251, -6.1592, -6.2592, -6.3423, -6.4425, -6.2876, -6.2712, -6.2307, -6.3563, -6.3316, -6.3664, -6.4118, -6.3957, -6.426, -6.4174, -6.3975, -6.3771, -7.2276, -7.5288, -7.6655, -7.9374, -7.5979, -7.9994, -7.9385, -8.0932, -8.0932, -8.1814, -8.2294, -8.3121, -7.2851, -7.2731, -8.3661, -8.3661, -8.3847, -8.2466, -8.4629, -8.4833, -7.856, -8.6403, -8.6648, -8.6901, -8.618, -7.1544, -8.7696, -8.7703, -7.6631, -5.5814, -6.0781, -7.7286, -7.5761, -7.1828, -6.8839, -6.7016, -7.2235, -7.8956, -7.7828, -7.572, -7.4668, -6.8541, -6.9675, -7.5345, -7.0985, -6.3335, -6.3447, -6.5059, -6.427, -5.1732, -5.1775, -5.6069, -5.265, -5.6227, -5.592, -6.004, -5.9694, -5.5433, -5.715, -6.0734, -5.7786, -5.6754, -5.5274, -6.0009, -6.0666, -5.8759, -5.8312, -5.8431, -5.9322, -5.8366, -5.9002, -5.9337, -5.8541, -5.9973, -5.8415, -5.8687, -6.0004, -5.9173, -5.9843, -6.0209, -6.1776, -6.2907, -6.4742, -6.8195, -6.9364, -7.1383, -7.1707, -7.239, -7.275, -7.2841, -7.2841, -7.3314, -7.3811, -7.4661, -7.5, -7.5232, -7.5349, -7.5836, -7.5836, -7.5961, -7.5962, -7.5837, -7.5837, -7.6614, -7.6749, -7.7026, -7.7168, -7.7457, -6.0697, -7.8218, -5.3831, -5.6906, -6.1973, -5.1022, -5.9399, -7.0458, -6.6873, -7.1624, -6.6978, -6.8572, -7.2646, -7.3562, -7.1177, -5.7766, -6.0115, -6.6452, -6.7454, -6.5923, -6.9223, -6.2481, -5.5607, -6.3604, -5.4382, -6.7961, -6.7289, -6.5155, -5.7162, -5.522, -6.5927, -6.5018, -5.7045, -5.6502, -5.5594, -5.5902, -5.633, -5.7939, -5.8447, -5.8763, -5.7089, -5.8448, -6.2309, -5.9817, -6.0365, -5.9924, -6.1058, -6.1921, -6.1054, -6.1322, -6.1217, -6.1373, -6.1471]}, \"token.table\": {\"Topic\": [1, 2, 3, 5, 1, 2, 3, 4, 5, 2, 4, 1, 2, 3, 4, 5, 4, 1, 2, 3, 4, 5, 1, 2, 3, 4, 5, 1, 2, 3, 3, 3, 4, 3, 1, 2, 3, 4, 5, 3, 4, 3, 3, 1, 2, 3, 4, 1, 2, 3, 4, 5, 3, 4, 3, 2, 2, 1, 2, 3, 4, 1, 3, 4, 1, 2, 3, 4, 5, 1, 2, 3, 4, 5, 1, 2, 3, 4, 5, 5, 5, 3, 5, 5, 2, 3, 5, 1, 2, 3, 4, 5, 2, 1, 2, 3, 4, 5, 2, 3, 2, 2, 4, 2, 4, 4, 1, 4, 5, 2, 3, 3, 1, 2, 3, 4, 5, 4, 5, 5, 1, 2, 3, 4, 5, 1, 2, 3, 4, 1, 2, 3, 4, 5, 1, 3, 4, 4, 2, 1, 2, 3, 4, 2, 3, 2, 3, 5, 2, 2, 3, 2, 3, 4, 2, 2, 3, 4, 1, 2, 3, 4, 3, 4, 2, 5, 1, 2, 3, 4, 1, 1, 2, 3, 4, 5, 1, 1, 1, 2, 3, 4, 5, 1, 2, 3, 4, 5, 1, 2, 3, 4, 5, 1, 3, 2, 3, 4, 5, 2, 3, 4, 2, 4, 5, 1, 2, 3, 4, 5, 3, 1, 2, 3, 4, 5, 1, 3, 1, 2, 3, 5, 1, 4, 5, 1, 2, 1, 4, 5, 1, 2, 3, 4, 5, 1, 2, 3, 4, 5, 1, 2, 3, 4, 5, 1, 2, 3, 4, 4, 5, 1, 2, 3, 4, 5, 2, 3, 4, 5, 1, 2, 3, 4, 5, 4, 3, 1, 2, 3, 4, 5, 2, 3, 4, 5, 2, 1, 3, 4, 5, 1, 2, 3, 4, 5, 3, 4, 1, 2, 3, 4, 1, 2, 3, 4, 5, 1, 2, 3, 4, 5, 3, 4, 1, 2, 3, 4, 5, 1, 1, 1, 2, 3, 4, 5, 1, 4, 1, 4, 5, 1, 1, 2, 3, 5, 1, 2, 5, 1, 2, 5, 1, 4, 1, 2, 3, 4, 5, 5, 1, 2, 3, 4, 5, 2, 1, 2, 3, 4, 5, 1, 2, 3, 4, 5, 2, 1, 2, 3, 4, 5, 1, 2, 3, 4, 1, 2, 2, 3, 4, 5, 3, 1, 4, 1, 2, 3, 4, 5, 2, 3, 5, 2, 1, 2, 3, 4, 5, 1, 2, 3, 4, 5, 5, 5, 5, 2, 3, 5, 4, 1, 2, 3, 4, 5, 1, 3, 4, 1, 2, 1, 2, 3, 4, 5, 5, 2, 3, 4, 2, 1, 1, 2, 3, 4, 5, 2, 3, 3, 5, 2, 3, 4, 3, 4, 1, 2, 3, 4, 5, 1, 2, 3, 4, 5, 4, 4, 2, 2, 4, 2, 3, 4, 5, 4, 1, 2, 3, 4, 5, 5, 1, 2, 3, 4, 5, 1, 2, 3, 4, 5, 3, 5, 1, 2, 3, 4, 5, 1, 2, 3, 4, 5, 4, 1, 2, 3, 4, 5, 2, 3, 5, 1, 2, 3, 4, 5, 1, 1, 2, 3, 4, 5, 1, 1, 2, 3, 4, 5, 1, 2, 3, 4, 5, 1, 2, 3, 4, 5, 1, 2, 3, 4, 5, 1, 2, 3, 4, 5, 1, 3, 1, 2, 3, 4, 5, 1, 1, 1, 2, 3, 4, 5, 1, 2, 3, 4, 5, 1, 2, 3, 4, 1, 2, 1, 3, 1, 2, 3, 4, 5, 1, 2, 3, 4, 1, 4, 1, 2, 3, 4, 1, 2, 3, 4, 5, 3, 1, 2, 3, 4, 5, 4, 1, 2, 3, 4, 5, 1, 2, 3, 4, 1, 2, 3, 4, 5, 1, 2, 3, 4, 5, 1, 2, 3, 4, 5, 5, 4, 2, 3, 1, 2, 3, 4, 5, 3, 4, 1, 5, 3, 2, 3, 2, 3, 1, 2, 3, 4, 1, 4, 1, 2, 3, 4, 5, 1, 2, 3, 5, 1, 2, 3, 4, 5, 2, 5, 5, 1, 2, 4, 5, 1, 2, 3, 4, 5, 1, 2, 3, 5, 1, 5, 5, 1, 2, 3, 4, 5, 5, 1, 2, 3, 4, 5, 1, 2, 3, 4, 5, 1, 2, 3, 4, 5, 2, 3, 4, 5, 1, 3, 2, 3, 4, 5, 1, 1, 2, 3, 4, 5, 1, 1, 2, 3, 4, 5, 2, 1, 2, 3, 4, 5, 5, 1, 2, 3, 4, 5, 1, 2, 3, 4, 5, 1, 3, 4, 5, 1, 2, 3, 4, 5, 1, 2, 3, 4, 5, 2, 3, 5, 2, 2, 4, 5, 4, 2, 4, 5, 1, 2, 3, 4, 5, 1, 2, 3, 4, 5, 1, 2, 3, 4, 5, 3, 1, 2, 3, 4, 5, 1, 2, 3, 4, 5, 1, 2, 3, 4, 5, 1, 2, 3, 5, 5, 5, 1, 2, 2, 1, 2, 3, 5, 5, 1, 2, 3, 4, 5, 3, 3, 1, 2, 3, 4, 5, 1, 2, 3, 4, 1, 2, 2, 2, 1, 3, 4, 5, 1, 2, 3, 1, 2, 3, 4, 5, 3, 5, 2, 3, 4, 2, 5, 1, 2, 3, 4, 5, 1, 2, 3, 4, 5, 3, 4, 5, 4, 1, 2, 3, 4, 5, 1, 2, 3, 4, 5, 1, 2, 1, 2, 3, 5, 5, 2, 1, 2, 3, 4, 5, 1, 2, 4, 5, 1, 2, 3, 4, 5, 2, 2, 1, 2, 3, 4, 5, 1, 2, 3, 4, 5, 1, 2, 3, 4, 5, 4, 1, 2, 3, 4, 5, 1, 2, 3, 4, 5, 4, 4, 3, 3, 2, 3, 4, 5, 1, 3, 3, 3, 1, 2, 3, 4, 5, 1, 4, 1, 1, 2, 3, 4, 5, 1, 2, 3, 4, 5, 1, 2, 3, 4, 5, 4, 1, 2, 3, 4, 2, 1, 2, 3, 4, 5, 1, 1, 3, 4, 5, 1, 3, 2, 3, 1, 2, 3, 4, 5, 1, 2, 3, 4, 5, 1, 2, 3, 4, 5, 3, 4, 5, 1, 2, 3, 4, 5, 2, 4, 1, 1, 2, 3, 4, 5, 1, 2, 3, 4, 1, 3, 2, 3, 5, 1, 2, 3, 4, 5, 1, 2, 3, 4, 5, 2, 1, 2, 3, 4, 5, 3, 4, 5, 1, 2, 3, 4, 5, 4], \"Freq\": [0.9802093553720785, 0.008289296874182483, 0.010361621092728103, 0.9895341526654325, 0.34581900808619914, 0.26611853356633297, 0.1423801697354898, 0.15480804033858758, 0.09104766072269463, 0.01764026322512007, 0.9790346089941641, 0.05441887670168825, 0.13140167788944235, 0.5720618502055521, 0.14201999529464981, 0.09954672567381997, 0.987726235932017, 0.24256810501082038, 0.3272987041129607, 0.18536730345089175, 0.15630807271189057, 0.08840123877443518, 0.5060326048214112, 0.17711141168749392, 0.05397681118095053, 0.17373786098868452, 0.08906173844856838, 0.948944223117747, 0.04798032588797597, 0.0017770491069620728, 0.9895571710771253, 0.9946670766058636, 0.0038702999089722323, 0.99060278688445, 0.02914708594867966, 0.7348133773377662, 0.1733484585368843, 0.01687462870713033, 0.044487657500616326, 0.976047339192374, 0.019919333452905592, 0.994477657087352, 0.9944079471550791, 0.004907584730258331, 0.04416826257232498, 0.9177183445583078, 0.029445508381549985, 0.16989585987077915, 0.23970761319949932, 0.18163411928003298, 0.2718333757932466, 0.13715229415022898, 0.985707859551159, 0.013595970476567711, 0.995857311576181, 0.9917275839823524, 0.9982917720436658, 0.027587853014125478, 0.16552711808475287, 0.7072522318166714, 0.10031946550591082, 0.12916377607833818, 0.013596186955614544, 0.8565597782037163, 0.6687540548581745, 0.1150971370379054, 0.05655635182035007, 0.1359336877085607, 0.022820984067860556, 0.19382524705241957, 0.18770444977708, 0.13618773937630532, 0.30757006308581314, 0.17444272234717761, 0.050904082777052856, 0.027409890726105383, 0.05481978145221077, 0.1957849337578956, 0.6695844734520029, 0.9964158412627052, 0.9925784324471816, 0.9944776265496024, 0.9864759675349065, 0.9890582732404158, 0.8776404228126115, 0.10606554872853835, 0.01663773313388837, 0.11619710893027352, 0.4826649140180592, 0.22976532399334626, 0.08570194007074472, 0.08570194007074472, 0.9920886102644322, 0.3011431135520864, 0.2564479069178351, 0.06154749766028043, 0.15167061923426248, 0.23007040792057207, 0.9721591531817383, 0.025043912611239158, 0.9911613316261821, 0.9963314104377294, 0.9972712327687887, 0.01073635440242736, 0.9770082506208898, 0.9878447911335293, 0.9906303535047306, 0.9568368797738419, 0.03741820200232902, 0.010374857702225022, 0.9856114817113772, 0.9929371323811358, 0.021311116503163634, 0.04688445630696, 0.13639114562024726, 0.02557333980379636, 0.7672001941138908, 0.9964428263222869, 0.9964924566386387, 0.9917600617923682, 0.39950729584881317, 0.024407198138673473, 0.02697637689011279, 0.5318200015479378, 0.016699661884355534, 0.0032819048803457156, 0.001093968293448572, 0.02297333416242001, 0.9725378128757803, 0.8825122502262494, 0.005221965977670114, 0.03133179586602069, 0.0182768809218454, 0.06135810023762385, 0.9937785002251978, 0.01593060266202467, 0.9770769632708464, 0.9875526791571597, 0.9941327805750191, 0.017081571121041774, 0.37864149318309265, 0.5722326325548994, 0.031316213721909916, 0.9825365703596658, 0.018051852998734016, 0.9272554810663628, 0.06367419612472877, 0.009285820268189613, 0.9975464466815627, 0.9845786080236987, 0.008790880428783024, 0.932259478784449, 0.056931876566989253, 0.007116484570873657, 0.9877443318712192, 0.014691657246731174, 0.9079444178479865, 0.0763966176830021, 0.011561835082150565, 0.0693710104929034, 0.8671376311612924, 0.050101285355985785, 0.9803899706452478, 0.019223332757749956, 0.998104205118704, 0.9902795044834212, 0.841885220605914, 0.093542802289546, 0.05345302987974057, 0.011454220688515837, 0.9923744651826949, 0.7931271225840124, 0.04543957473137571, 0.025611396666775404, 0.11896906838760186, 0.01652348172050026, 0.9923725024635652, 0.9979577522008499, 0.37413306622673026, 0.030598243334528128, 0.04450653575931364, 0.5312967706268066, 0.019471609394699718, 0.30337451432777396, 0.24004876619139395, 0.1596397929763626, 0.19940247203874076, 0.0974921982936827, 0.0014250337450260068, 0.09832732840679448, 0.7296172774533155, 0.1425033745026007, 0.028500674900520138, 0.993312246215575, 0.995635601919234, 0.042193161486269795, 0.9282495526979355, 0.0028128774324179865, 0.028128774324179862, 0.03944936625682925, 0.9310050436611703, 0.027614556379780473, 0.09320307941503456, 0.02330076985375864, 0.8807691004720766, 0.7430997105112548, 0.09457632679234151, 0.054043615309909435, 0.07738063101191578, 0.03193486359221921, 0.9891339636608086, 0.1341987775257127, 0.0034409942955310946, 0.09634784027487064, 0.763900733607903, 0.99396949038685, 0.9930246416196192, 0.0041204341975917816, 0.9985876380873235, 0.9318539122953333, 0.05791182505790207, 0.005264711368900188, 0.9925416001621284, 0.0018621793624054943, 0.0037243587248109887, 0.9992208384392129, 0.9980216637721071, 0.00180016257629003, 0.9738879537729063, 0.02340211349177039, 0.24297001875573981, 0.27235338215822713, 0.12138368743510271, 0.2472255403519621, 0.11611494641120843, 0.6990933458714017, 0.023750586344227827, 0.03407692823302254, 0.23131005830900145, 0.011358976077674178, 0.7908952967689523, 0.08145433288982566, 0.0036785827756695456, 0.08460740384039955, 0.039413386882173704, 0.05108663695338823, 0.019157488857520586, 0.003192914809586764, 0.9259452947801616, 0.987665745486803, 0.9899361968557757, 0.16851669811216227, 0.30422201644067104, 0.1857187807171845, 0.2194858317566726, 0.1220073636615466, 0.6146407118922891, 0.3313063349468192, 0.035978968501012044, 0.01948860793804819, 0.2250850292959758, 0.5153010457924893, 0.12547293122456524, 0.09003401171839032, 0.044059197223893135, 0.9876910101796673, 0.9896954282048275, 0.08819290757790202, 0.4180102194788233, 0.2790761869930872, 0.14376652057219644, 0.07067513826448313, 0.8755500220556341, 0.02629279345512415, 0.00525855869102483, 0.09202477709293452, 0.9892433942235738, 0.07081515375136216, 0.030981629766220944, 0.004425947109460135, 0.8940413161109473, 0.8235979509475254, 0.025263740826611206, 0.05684341685987522, 0.07073847431451138, 0.024000553785280647, 0.9556490741120173, 0.041549959744000754, 0.0223876093236584, 0.006396459806759543, 0.8411344645888799, 0.13112742603857064, 0.921963420210295, 0.0068876669599488415, 0.048213668719641896, 0.020663000879846526, 0.002951857268549504, 0.022368836460171203, 0.1207917168849245, 0.7202765340175128, 0.08947534584068481, 0.04697455656635953, 0.9802531918068543, 0.012898068313248084, 0.20623432947442086, 0.2355782921852102, 0.19259558624264553, 0.15705219479014013, 0.2087141009711073, 0.9971648419638954, 0.9916044021757806, 0.08586006028487568, 0.16346434554235947, 0.6125785070324784, 0.11062738536705137, 0.026418480087654055, 0.06854544533471726, 0.9215554317223099, 0.9656580909815592, 0.01991047610271256, 0.013273650735141708, 0.9967787166009607, 0.09287810944784873, 0.010532569112642639, 0.0019150125659350252, 0.8933533620086893, 0.014391867589117067, 0.06716204874921299, 0.9162822365071199, 0.042515796499234, 0.014171932166411334, 0.9495194551495594, 0.018820262689532512, 0.9786536598556906, 0.3406510100401189, 0.1573381852622799, 0.10049204796183507, 0.28465650026477435, 0.11688587782001579, 0.9895365115232768, 0.002516098668303933, 0.9116664174821251, 0.025160986683039333, 0.03187058313184982, 0.029354484463545886, 0.9974565834742117, 0.17987472372930452, 0.20081536320823848, 0.15302775003836355, 0.29370589217889426, 0.17235757109584104, 0.2481158568957574, 0.2576335286549862, 0.0712184404052637, 0.2553361596096551, 0.16770794030916936, 0.9922626129914957, 0.28585181306857677, 0.11247528153370104, 0.11082930180393956, 0.31986872748364736, 0.17118189189519378, 0.000873531347563408, 0.000873531347563408, 0.8132576845815329, 0.1843151143358791, 0.9936276082103437, 0.006480180053545719, 0.005709437471633592, 0.7726772044944127, 0.1998303115071757, 0.020934604062656504, 0.9929376127584567, 0.9392929746907446, 0.060365872409430886, 0.005699769479623401, 0.2146913170658148, 0.055097771636359545, 0.1614934685893297, 0.5642771784827167, 0.9414369013640974, 0.04173858183387624, 0.01391286061129208, 0.9821014571915087, 0.5477597510455469, 0.17914965975372005, 0.11792945228392362, 0.07797521161942492, 0.07733078838290074, 0.08261253491942375, 0.057041988396744965, 0.10621611632497338, 0.23406884893836727, 0.5212457560392212, 0.9881162461391036, 0.9961748348893331, 0.9859176004247431, 0.9609747379484405, 0.011174124859865586, 0.02234824971973117, 0.9952760632341815, 0.04837751752478529, 0.6275639078909648, 0.2660763463863191, 0.055096617181005475, 0.002687639862488072, 0.9621297415379085, 0.009918863314823799, 0.026450302172863465, 0.991607594106416, 0.9874741316719463, 0.1897082984009195, 0.3187461624683707, 0.2078188758138951, 0.15212885026899509, 0.13130168624407315, 0.9937403713465289, 0.03742150953900944, 0.042767439473153646, 0.9194999486728034, 0.9897010125192551, 0.998213453800144, 0.7365395745699597, 0.046697033546222226, 0.0541261070649394, 0.03820666381054546, 0.12523295360123235, 0.9381311217657576, 0.061425252020376984, 0.9921857048022755, 0.9841471275973677, 0.09399101875700977, 0.9004945990590936, 0.00606393669400063, 0.9948774843435171, 0.0037972423066546454, 0.2984820105724362, 0.2754448084141609, 0.12887478308832256, 0.22836878661246796, 0.06877773397977836, 0.39301009750997484, 0.2220743804002147, 0.03598646675994951, 0.27652758668171723, 0.07197293351989902, 0.9878155196402668, 0.9876128546489381, 0.9989453943669855, 0.9802310954841936, 0.015197381325336335, 0.08446389046745972, 0.8518786667146652, 0.043438572240407855, 0.019306032106847934, 0.9878908949952228, 0.3677626378780812, 0.2456499744985302, 0.09219506085156104, 0.1909027970833648, 0.10359224276698581, 0.9895341600567529, 0.14192653558816284, 0.15793328772216617, 0.17874206549637048, 0.2064871025286429, 0.31479945863539877, 0.004851029987443475, 0.2881511812541424, 0.5413749465986918, 0.1513521356082364, 0.012612677967353035, 0.042783832802557153, 0.9534682738855594, 0.034446516224249914, 0.5502830966823924, 0.24543142809778062, 0.13950839070821214, 0.031001864601824924, 0.29992409042987744, 0.2187795792326679, 0.10832209867952855, 0.2583812067069041, 0.11472824430036088, 0.9876833475185715, 0.6205642324543824, 0.09789182258435329, 0.0349613652086976, 0.1721847236528357, 0.07429290106848241, 0.927585677026321, 0.06239365540535791, 0.008319154054047722, 0.24611036390769558, 0.20278531207064404, 0.07461536705269989, 0.32674309927109707, 0.14983247093646992, 0.9992207292970596, 0.7685929790098638, 0.013004957343652517, 0.10273916301485489, 0.11184263315541165, 0.005201982937461007, 0.994453112038344, 0.7774480946618298, 0.055532006761559276, 0.02045916038583763, 0.05407063816257088, 0.09352759033525773, 0.26026505147253004, 0.2651378552996589, 0.14446430169840874, 0.23188813506748546, 0.09802934758106308, 0.199532260579009, 0.3456740529952753, 0.20537793227565965, 0.1367887177016253, 0.11262660802213594, 0.2570603212171846, 0.34043123620654175, 0.16249608893758966, 0.15091679518906784, 0.08916056186361808, 0.17486222614678398, 0.4270263510474816, 0.14447458318834897, 0.17166352688800135, 0.0820999476420876, 0.998339598071779, 0.9895571710771253, 0.05966314064563649, 0.2601975855934702, 0.6082325726930164, 0.02320233247330308, 0.04971928387136374, 0.9961252868242414, 0.9963971657732507, 0.2154966701982402, 0.09117166816079393, 0.01657666693832617, 0.2009920866272048, 0.47657917447687737, 0.00314878657961704, 0.0157439328980852, 0.17948083503817128, 0.784047858324643, 0.0157439328980852, 0.0029948754676860003, 0.011979501870744001, 0.820595878145964, 0.16471815072273002, 0.9208257580239071, 0.0774027448773719, 0.9889678254670307, 0.0092426899576358, 0.09420903143318782, 0.10562830797054391, 0.11276535580639147, 0.5980846086440257, 0.08992680273167927, 0.9988077225302758, 0.8357470670952344, 0.1484338420323582, 0.012907290611509411, 0.9913742195876684, 0.9932000610274561, 0.008032527806362409, 0.016065055612724817, 0.008032527806362409, 0.9719358645698514, 0.2505200826989925, 0.25158915844308494, 0.12472550347745005, 0.26014176439582437, 0.11296567029243333, 0.9946449129241909, 0.2119721145512986, 0.42582008852340514, 0.18445950971278197, 0.12880901356214605, 0.04877234494100676, 0.98765916689448, 0.17138430616204264, 0.037541324206923625, 0.5484297797185365, 0.11588843559528599, 0.12568182451883128, 0.05876819079892472, 0.8139394425651074, 0.10284433389811826, 0.02350727631956989, 0.4682621095620926, 0.21281085012679896, 0.07823928313485255, 0.1819063332885322, 0.058288265935465156, 0.35564523816817445, 0.16221777700119794, 0.12084680031632866, 0.24024198741564437, 0.12084680031632866, 0.20399650410740122, 0.13952591082817536, 0.15588412106320282, 0.20976999007270505, 0.29059879358695834, 0.998002081930648, 0.987828761462215, 0.9866245364534895, 0.9923808010635662, 0.18997497981925424, 0.3431708035455009, 0.21520365713925121, 0.18055222082021924, 0.07082267247661798, 0.9895571710771253, 0.9876833641041047, 0.9883720192313385, 0.007544824574285027, 0.9937726695684282, 0.014479881407028999, 0.9846319356779719, 0.9920084367089518, 0.006318525074579311, 0.0054343092724127105, 0.9618727412170498, 0.027171546362063554, 0.0054343092724127105, 0.03260086104850165, 0.9562919240893817, 0.17891004476535338, 0.06067384126825028, 0.1804657842850521, 0.54917605045365, 0.029559050874275777, 0.9915252360556166, 0.019373841824664666, 0.019373841824664666, 0.9493182494085687, 0.09201682886862142, 0.3535807010170351, 0.30770642190177483, 0.18376538709914192, 0.06277532931561929, 0.9899219062988976, 0.9943260322532717, 0.9899363775787868, 0.03717384052273746, 0.1540059107370552, 0.0053105486461053515, 0.8018928455619081, 0.0899593553425336, 0.1363446479410275, 0.04216844781681263, 0.06325267172521895, 0.6676670904328667, 0.03908429576714219, 0.042992725343856404, 0.13679503518499767, 0.7777774857661295, 0.0371013388305668, 0.9609246757116802, 0.9828832225387377, 0.10310453714054846, 0.07217317599838392, 0.09623090133117855, 0.0034368179046849485, 0.7217317599838392, 0.9982483167597743, 0.602873845213039, 0.16678142656687248, 0.07518834804244251, 0.0966056350605928, 0.05832793060262207, 0.1700880606556546, 0.37764479554269975, 0.18882239777134988, 0.13409841303866102, 0.12916832432400435, 0.03174920176547833, 0.03704073539305805, 0.7857927436955886, 0.11905950662054374, 0.026457668137898606, 0.07188311178503108, 0.9086025329627929, 0.01725194682840746, 0.0028753244714012434, 0.974533242557533, 0.021899623428259168, 0.011761051787376095, 0.7556475773389141, 0.14407288439535718, 0.09114815135216474, 0.9952818951291239, 0.46224238219008157, 0.23571024001570043, 0.08176850804084475, 0.1756354177816104, 0.044221744144538486, 0.996504115454415, 0.7823814319797787, 0.08205059509109967, 0.029836580033127155, 0.10442803011594505, 0.0008287938898090877, 0.9930904929952942, 0.27545435712795624, 0.11186574328777263, 0.4474629731510905, 0.16479147129489086, 0.002405714909414465, 0.9793750382805341, 0.3076843284013175, 0.37982084558631535, 0.1349492668426831, 0.1266069485287718, 0.050544634490168584, 0.19850911942767016, 0.2835844563252431, 0.10913704834335113, 0.25135894992464725, 0.15769014465358214, 0.02675232838406047, 0.060192738864136064, 0.9028910829620409, 0.013376164192030235, 0.11857990489391376, 0.45249509720254205, 0.1491342362162719, 0.1913283128042903, 0.08802557357155562, 0.09150864856503553, 0.12945125894566, 0.055797956442094836, 0.21649607099532794, 0.5066454444942211, 0.8073464897960376, 0.1870680890990819, 0.003938275559980672, 0.9897010609710567, 0.02345649246551696, 0.9460785294425175, 0.03127532328735595, 0.987868521975633, 0.006022679000956255, 0.9877193561568257, 0.006022679000956255, 0.15826305724843967, 0.20680758603038002, 0.2810057275832645, 0.2470640245324769, 0.10656116074084467, 0.5741198547074057, 0.046052394762626125, 0.07598645135833311, 0.0890346298744105, 0.21491117555892192, 0.7599539250506155, 0.040478645492386736, 0.03264406894547318, 0.10054373235205738, 0.06659390064876528, 0.9895571710771253, 0.0912320373766533, 0.3794555439933414, 0.2620741965405773, 0.15399038155931924, 0.11273258121701107, 0.23220913495363213, 0.05805228373840803, 0.07512648483793981, 0.010244520659719064, 0.624915760242863, 0.16138751073056787, 0.4002538861744163, 0.15206432783975818, 0.18260578903378993, 0.10351947899450768, 0.03256698045276686, 0.021711320301844576, 0.07056179098099487, 0.8738806421492441, 0.9915967539304343, 0.9913365360034019, 0.9808834569641192, 0.016863325907692593, 0.9934511755467038, 0.9955109937567648, 0.005569379967226066, 0.008354069950839099, 0.9885649441826266, 0.9890579557274477, 0.17871671956231353, 0.34344387203560056, 0.1472401936120039, 0.17556906696728256, 0.15528419468819413, 0.9943731852156655, 0.9909620168726386, 0.3192753702396559, 0.0709500822754791, 0.040542904157416626, 0.03800897264757808, 0.5321256170660932, 0.987916971836853, 0.006908510292565406, 0.003454255146282703, 0.9879054109871281, 0.027440941985276093, 0.9682732386233135, 0.9884828422799076, 0.986023163976847, 0.9255700642201939, 0.02574278307565647, 0.04563493363411829, 0.0035103795103167915, 0.9973784306327549, 0.00606224524554205, 0.9881459750233541, 0.2853736704164543, 0.3384447934629074, 0.07029596122819673, 0.23276808353707526, 0.07308917823064164, 0.9964505432004868, 0.9895363616526253, 0.03839209506456833, 0.009598023766142083, 0.9406063290819241, 0.060903892402888134, 0.9309594981584328, 0.15332388198659522, 0.18344107309110497, 0.4216406754631368, 0.17591177531497754, 0.06571023513711223, 0.05498598855953706, 0.6140102055814972, 0.26118344565780105, 0.05345859998843881, 0.01680127428208077, 0.04737251046867275, 0.007895418411445459, 0.9395547909620097, 0.987550784336105, 0.6656418069230119, 0.10910591802907744, 0.07752262596802871, 0.13207558498256744, 0.015791646030524367, 0.20676039727578327, 0.2942689471601397, 0.13726831354408847, 0.251372599177612, 0.11024361431509605, 0.034482756790679, 0.9597700640072322, 0.0013638689902161069, 0.004091606970648321, 0.03409672475540267, 0.9615276381023553, 0.9950402497411166, 0.9905608412459549, 0.7918442666757931, 0.07742136586084715, 0.026829186189402478, 0.0498256314946046, 0.053658372378804955, 0.8704744710219958, 0.010782904483380578, 0.06861848307605822, 0.05097373028507183, 0.17964609776940688, 0.37555489491583377, 0.17510767003628502, 0.1785114908361264, 0.09114675697353065, 0.985391452680714, 0.9832882744029366, 0.21188574105983482, 0.3190151717396873, 0.09831498385176336, 0.2891816593984626, 0.0817031417526723, 0.17734985675998652, 0.30992938705754963, 0.13257953029756314, 0.2283039299713634, 0.15162547028433992, 0.238929607270314, 0.27802220891751644, 0.15336328338517868, 0.1823410160747133, 0.14734903697791676, 0.9875585036537732, 0.06957362940594033, 0.20408264625742498, 0.5623868376980177, 0.05333978254455426, 0.11015824655940552, 0.2725451547085106, 0.2905331349192723, 0.1744288990134468, 0.17306617323990423, 0.08939481074439147, 0.9877339313341219, 0.9875326736790747, 0.9966606011134178, 0.9958307466728084, 0.7123124214075054, 0.18571842010294695, 0.08228031270383726, 0.021157794695272437, 0.005560494817466379, 0.9897680775090156, 0.9907255462846769, 0.9969493180347597, 0.30132587957911494, 0.20786651585938945, 0.1752363069744853, 0.15992830774453026, 0.1558998868945421, 0.9715060949545005, 0.02500199509074082, 0.9933119569218918, 0.4329733632100252, 0.19023907357621833, 0.13280840985509582, 0.1951745212397523, 0.04890579957501839, 0.9207051745965799, 0.016876469595456658, 0.015001306307072583, 0.04500391892121775, 0.001875163288384073, 0.6576514788697713, 0.12615694443683, 0.09753800796736395, 0.11038732638222626, 0.008760898919224306, 0.9875791700822331, 0.007692419716174216, 0.02307725914852265, 0.21538775205287805, 0.7500109223269861, 0.9960056789647457, 0.8044697394279481, 0.10345126936806101, 0.06533764381140696, 0.025862817342015253, 0.001361200912737645, 0.9977312273709098, 0.8874481983610887, 0.0696037802636148, 0.00870047253295185, 0.032626771998569434, 0.006709227240068299, 0.9929656315301083, 0.0617232253483624, 0.9353442610482611, 0.34034299651084204, 0.22915951760866568, 0.12226607647763442, 0.2309470333466428, 0.07686317673301579, 0.003741718892759241, 0.13096016124657342, 0.7838901080330609, 0.05425492394500899, 0.026192032249314684, 0.2193274040181714, 0.30524947981910455, 0.20349965321273636, 0.17765842740794444, 0.0939974588649306, 0.9292966030320694, 0.054504199591323715, 0.016351259877397117, 0.2115028488600169, 0.24855683633471753, 0.1596928486741523, 0.22691468435834372, 0.15313462080252385, 0.006096441829114532, 0.9876235763165543, 0.9920971573787848, 0.2136851620579643, 0.03300827706586441, 0.02258461062401249, 0.07817749831388938, 0.6532164303560535, 0.9230692618163725, 0.0016527650166810609, 0.03553444785864281, 0.03883997789200493, 0.99119340273495, 0.0043473394856796055, 0.03638074782112667, 0.05093304694957734, 0.9022425459639415, 0.18066017992472092, 0.5578719444897632, 0.134658745221667, 0.05771089080928585, 0.06858395719364405, 0.48558546725847707, 0.15094679821028317, 0.12179569696861473, 0.20565502930766094, 0.03633904401358669, 0.9922499290846463, 0.11843743289224673, 0.24889538136161699, 0.1739439312924937, 0.30652314721665047, 0.1520241675930331, 0.9936129878133927, 0.9877085997561877, 0.9847538770545924, 0.1181717143276999, 0.18791239819322772, 0.193336673604991, 0.24215515231086046, 0.2584279785461503, 0.9875791700823136], \"Term\": [\"advancen\", \"advancen\", \"advancen\", \"alink\", \"also\", \"also\", \"also\", \"also\", \"also\", \"ama\", \"ama\", \"american\", \"american\", \"american\", \"american\", \"american\", \"americanoccupied\", \"andn\", \"andn\", \"andn\", \"andn\", \"andn\", \"anyone\", \"anyone\", \"anyone\", \"anyone\", \"anyone\", \"application\", \"application\", \"application\", \"appressian\", \"arab\", \"arab\", \"argicn\", \"argument\", \"argument\", \"argument\", \"argument\", \"argument\", \"armed\", \"armed\", \"armenia\", \"armenian\", \"army\", \"army\", \"army\", \"army\", \"article\", \"article\", \"article\", \"article\", \"article\", \"assault\", \"assault\", \"atf\", \"atheism\", \"atheist\", \"attack\", \"attack\", \"attack\", \"attack\", \"auto\", \"auto\", \"auto\", \"available\", \"available\", \"available\", \"available\", \"available\", \"back\", \"back\", \"back\", \"back\", \"back\", \"ball\", \"ball\", \"ball\", \"ball\", \"ball\", \"baseball\", \"baseballn\", \"batf\", \"batter\", \"batting\", \"belief\", \"belief\", \"belief\", \"believe\", \"believe\", \"believe\", \"believe\", \"believe\", \"believer\", \"best\", \"best\", \"best\", \"best\", \"best\", \"bible\", \"bible\", \"biblen\", \"biblical\", \"bike\", \"biken\", \"biken\", \"bikers\", \"bios\", \"bmw\", \"bmw\", \"bosnia\", \"bosnia\", \"bosnian\", \"boston\", \"boston\", \"boston\", \"boston\", \"boston\", \"brake\", \"bruin\", \"buffalo\", \"buy\", \"buy\", \"buy\", \"buy\", \"buy\", \"car\", \"car\", \"car\", \"car\", \"card\", \"card\", \"card\", \"card\", \"card\", \"cardn\", \"carn\", \"carn\", \"carsn\", \"catholic\", \"child\", \"child\", \"child\", \"child\", \"christ\", \"christ\", \"christian\", \"christian\", \"christian\", \"christianity\", \"christiann\", \"christiann\", \"church\", \"church\", \"church\", \"churchn\", \"citizen\", \"citizen\", \"citizen\", \"civil\", \"civil\", \"civil\", \"civil\", \"civilian\", \"civilian\", \"clhn\", \"coach\", \"code\", \"code\", \"code\", \"code\", \"compression\", \"computer\", \"computer\", \"computer\", \"computer\", \"computer\", \"configuration\", \"controller\", \"cost\", \"cost\", \"cost\", \"cost\", \"cost\", \"could\", \"could\", \"could\", \"could\", \"could\", \"country\", \"country\", \"country\", \"country\", \"country\", \"cpu\", \"cramer\", \"crime\", \"crime\", \"crime\", \"crime\", \"criminal\", \"criminal\", \"criminal\", \"cup\", \"cup\", \"cup\", \"data\", \"data\", \"data\", \"data\", \"data\", \"davidians\", \"dealer\", \"dealer\", \"dealer\", \"dealer\", \"detroit\", \"digital\", \"digital\", \"directory\", \"disease\", \"disease\", \"disease\", \"disk\", \"disk\", \"disk\", \"do\", \"doctrine\", \"dod\", \"dod\", \"dod\", \"dont\", \"dont\", \"dont\", \"dont\", \"dont\", \"drive\", \"drive\", \"drive\", \"drive\", \"drive\", \"email\", \"email\", \"email\", \"email\", \"email\", \"engine\", \"engine\", \"engine\", \"engine\", \"enginen\", \"espn\", \"even\", \"even\", \"even\", \"even\", \"even\", \"evidence\", \"evidence\", \"evidence\", \"evidence\", \"example\", \"example\", \"example\", \"example\", \"example\", \"excepted\", \"exterminationn\", \"fact\", \"fact\", \"fact\", \"fact\", \"fact\", \"faith\", \"faith\", \"faith\", \"faith\", \"faithn\", \"fan\", \"fan\", \"fan\", \"fan\", \"fax\", \"fax\", \"fax\", \"fax\", \"fax\", \"fbi\", \"fbi\", \"federal\", \"federal\", \"federal\", \"federal\", \"file\", \"file\", \"file\", \"file\", \"file\", \"fire\", \"fire\", \"fire\", \"fire\", \"fire\", \"firearm\", \"firearm\", \"first\", \"first\", \"first\", \"first\", \"first\", \"floppy\", \"font\", \"force\", \"force\", \"force\", \"force\", \"force\", \"ford\", \"ford\", \"format\", \"format\", \"format\", \"ftp\", \"game\", \"game\", \"game\", \"game\", \"gamen\", \"gamen\", \"gamen\", \"gamesn\", \"gamesn\", \"gamesn\", \"gear\", \"gear\", \"get\", \"get\", \"get\", \"get\", \"get\", \"goalie\", \"god\", \"god\", \"god\", \"god\", \"god\", \"godn\", \"going\", \"going\", \"going\", \"going\", \"going\", \"good\", \"good\", \"good\", \"good\", \"good\", \"gospel\", \"got\", \"got\", \"got\", \"got\", \"got\", \"government\", \"government\", \"government\", \"government\", \"graphic\", \"graphic\", \"gun\", \"gun\", \"gun\", \"gun\", \"gunsn\", \"hardware\", \"hardware\", \"he\", \"he\", \"he\", \"he\", \"he\", \"heaven\", \"heaven\", \"heaven\", \"heavenn\", \"help\", \"help\", \"help\", \"help\", \"help\", \"hit\", \"hit\", \"hit\", \"hit\", \"hit\", \"hitter\", \"hockey\", \"hockeyn\", \"holy\", \"holy\", \"holy\", \"honda\", \"human\", \"human\", \"human\", \"human\", \"human\", \"ibm\", \"ibm\", \"ibm\", \"ide\", \"infection\", \"inn\", \"inn\", \"inn\", \"inn\", \"inn\", \"inning\", \"insurance\", \"insurance\", \"insurance\", \"intellect\", \"interface\", \"internet\", \"internet\", \"internet\", \"internet\", \"internet\", \"interpretation\", \"interpretation\", \"invasion\", \"islander\", \"israel\", \"israel\", \"israel\", \"israeli\", \"israeli\", \"itn\", \"itn\", \"itn\", \"itn\", \"itn\", \"ive\", \"ive\", \"ive\", \"ive\", \"ive\", \"jackedn\", \"jake\", \"jesus\", \"jesusn\", \"jesusn\", \"killed\", \"killed\", \"killed\", \"killed\", \"kipling\", \"know\", \"know\", \"know\", \"know\", \"know\", \"ksand\", \"last\", \"last\", \"last\", \"last\", \"last\", \"law\", \"law\", \"law\", \"law\", \"law\", \"league\", \"league\", \"life\", \"life\", \"life\", \"life\", \"life\", \"like\", \"like\", \"like\", \"like\", \"like\", \"livni\", \"looking\", \"looking\", \"looking\", \"looking\", \"looking\", \"lord\", \"lord\", \"lord\", \"lot\", \"lot\", \"lot\", \"lot\", \"lot\", \"mac\", \"machine\", \"machine\", \"machine\", \"machine\", \"machine\", \"macintosh\", \"mail\", \"mail\", \"mail\", \"mail\", \"mail\", \"make\", \"make\", \"make\", \"make\", \"make\", \"many\", \"many\", \"many\", \"many\", \"many\", \"may\", \"may\", \"may\", \"may\", \"may\", \"mean\", \"mean\", \"mean\", \"mean\", \"mean\", \"meg\", \"melkonian\", \"member\", \"member\", \"member\", \"member\", \"member\", \"mhz\", \"microsoft\", \"mike\", \"mike\", \"mike\", \"mike\", \"mike\", \"mile\", \"mile\", \"mile\", \"mile\", \"mile\", \"military\", \"military\", \"military\", \"military\", \"mode\", \"mode\", \"modem\", \"modem\", \"money\", \"money\", \"money\", \"money\", \"money\", \"monitor\", \"moral\", \"moral\", \"moral\", \"motherboard\", \"motorcycle\", \"mph\", \"mph\", \"mph\", \"mph\", \"much\", \"much\", \"much\", \"much\", \"much\", \"murdered\", \"must\", \"must\", \"must\", \"must\", \"must\", \"mustang\", \"national\", \"national\", \"national\", \"national\", \"national\", \"nature\", \"nature\", \"nature\", \"nature\", \"need\", \"need\", \"need\", \"need\", \"need\", \"new\", \"new\", \"new\", \"new\", \"new\", \"next\", \"next\", \"next\", \"next\", \"next\", \"nhl\", \"nissan\", \"njxp\", \"occupation\", \"ofn\", \"ofn\", \"ofn\", \"ofn\", \"ofn\", \"ohanus\", \"onycom\", \"output\", \"output\", \"packetn\", \"palestinian\", \"palestinian\", \"passage\", \"passage\", \"patient\", \"patient\", \"patient\", \"patient\", \"patn\", \"patn\", \"pay\", \"pay\", \"pay\", \"pay\", \"pay\", \"pc\", \"penguin\", \"penguin\", \"penguin\", \"people\", \"people\", \"people\", \"people\", \"people\", \"physician\", \"pitcher\", \"pitching\", \"pittsburgh\", \"pittsburgh\", \"pittsburgh\", \"pittsburgh\", \"play\", \"play\", \"play\", \"play\", \"play\", \"played\", \"played\", \"played\", \"played\", \"player\", \"player\", \"playersn\", \"playing\", \"playing\", \"playing\", \"playing\", \"playing\", \"playoff\", \"please\", \"please\", \"please\", \"please\", \"please\", \"point\", \"point\", \"point\", \"point\", \"point\", \"policy\", \"policy\", \"policy\", \"policy\", \"policy\", \"political\", \"political\", \"political\", \"political\", \"port\", \"port\", \"president\", \"president\", \"president\", \"president\", \"printer\", \"problem\", \"problem\", \"problem\", \"problem\", \"problem\", \"processor\", \"program\", \"program\", \"program\", \"program\", \"program\", \"prophet\", \"public\", \"public\", \"public\", \"public\", \"public\", \"puck\", \"question\", \"question\", \"question\", \"question\", \"question\", \"really\", \"really\", \"really\", \"really\", \"really\", \"rear\", \"rear\", \"rear\", \"rear\", \"reason\", \"reason\", \"reason\", \"reason\", \"reason\", \"red\", \"red\", \"red\", \"red\", \"red\", \"religion\", \"religion\", \"religion\", \"revelation\", \"ride\", \"ride\", \"ride\", \"riden\", \"riding\", \"riding\", \"riding\", \"right\", \"right\", \"right\", \"right\", \"right\", \"run\", \"run\", \"run\", \"run\", \"run\", \"running\", \"running\", \"running\", \"running\", \"running\", \"sahak\", \"said\", \"said\", \"said\", \"said\", \"said\", \"san\", \"san\", \"san\", \"san\", \"san\", \"say\", \"say\", \"say\", \"say\", \"say\", \"score\", \"score\", \"score\", \"score\", \"scored\", \"scoring\", \"screen\", \"screen\", \"scripture\", \"scsi\", \"season\", \"season\", \"season\", \"seasonn\", \"see\", \"see\", \"see\", \"see\", \"see\", \"serb\", \"serdar\", \"series\", \"series\", \"series\", \"series\", \"series\", \"server\", \"server\", \"server\", \"shafer\", \"sin\", \"sin\", \"skepticism\", \"slpittedu\", \"software\", \"software\", \"software\", \"software\", \"softwaren\", \"soldier\", \"soldier\", \"something\", \"something\", \"something\", \"something\", \"something\", \"soviet\", \"sox\", \"spencer\", \"spencer\", \"spencer\", \"stanley\", \"stanley\", \"state\", \"state\", \"state\", \"state\", \"state\", \"statement\", \"statement\", \"statement\", \"statement\", \"statement\", \"stats\", \"stats\", \"stats\", \"sternlight\", \"system\", \"system\", \"system\", \"system\", \"system\", \"take\", \"take\", \"take\", \"take\", \"take\", \"teaching\", \"teaching\", \"team\", \"team\", \"team\", \"team\", \"teamn\", \"testament\", \"thanks\", \"thanks\", \"thanks\", \"thanks\", \"thanks\", \"thanksn\", \"thanksn\", \"thanksn\", \"thanksn\", \"thatn\", \"thatn\", \"thatn\", \"thatn\", \"thatn\", \"theist\", \"theology\", \"thing\", \"thing\", \"thing\", \"thing\", \"thing\", \"think\", \"think\", \"think\", \"think\", \"think\", \"time\", \"time\", \"time\", \"time\", \"time\", \"tire\", \"today\", \"today\", \"today\", \"today\", \"today\", \"ton\", \"ton\", \"ton\", \"ton\", \"ton\", \"torque\", \"toyota\", \"tratuscom\", \"troop\", \"truth\", \"truth\", \"truth\", \"truth\", \"turk\", \"turk\", \"turkey\", \"turkish\", \"two\", \"two\", \"two\", \"two\", \"two\", \"unix\", \"unix\", \"upgrade\", \"used\", \"used\", \"used\", \"used\", \"used\", \"user\", \"user\", \"user\", \"user\", \"user\", \"using\", \"using\", \"using\", \"using\", \"using\", \"utzoohenryn\", \"vehicle\", \"vehicle\", \"vehicle\", \"vehicle\", \"verse\", \"version\", \"version\", \"version\", \"version\", \"version\", \"vga\", \"video\", \"video\", \"video\", \"video\", \"village\", \"village\", \"waco\", \"waco\", \"want\", \"want\", \"want\", \"want\", \"want\", \"war\", \"war\", \"war\", \"war\", \"war\", \"way\", \"way\", \"way\", \"way\", \"way\", \"weapon\", \"weapon\", \"weapon\", \"well\", \"well\", \"well\", \"well\", \"well\", \"wheel\", \"wheel\", \"widget\", \"win\", \"win\", \"win\", \"win\", \"win\", \"window\", \"window\", \"window\", \"window\", \"windowsn\", \"windowsn\", \"winning\", \"winning\", \"winning\", \"word\", \"word\", \"word\", \"word\", \"word\", \"work\", \"work\", \"work\", \"work\", \"work\", \"worship\", \"writesn\", \"writesn\", \"writesn\", \"writesn\", \"writesn\", \"wstratuscom\", \"yamaha\", \"yankee\", \"year\", \"year\", \"year\", \"year\", \"year\", \"zoologyn\"]}, \"R\": 30, \"lambda.step\": 0.01, \"plot.opts\": {\"xlab\": \"PC1\", \"ylab\": \"PC2\"}, \"topic.order\": [5, 4, 3, 1, 2]};\n",
              "\n",
              "function LDAvis_load_lib(url, callback){\n",
              "  var s = document.createElement('script');\n",
              "  s.src = url;\n",
              "  s.async = true;\n",
              "  s.onreadystatechange = s.onload = callback;\n",
              "  s.onerror = function(){console.warn(\"failed to load library \" + url);};\n",
              "  document.getElementsByTagName(\"head\")[0].appendChild(s);\n",
              "}\n",
              "\n",
              "if(typeof(LDAvis) !== \"undefined\"){\n",
              "   // already loaded: just create the visualization\n",
              "   !function(LDAvis){\n",
              "       new LDAvis(\"#\" + \"ldavis_el121139831022734096500457950\", ldavis_el121139831022734096500457950_data);\n",
              "   }(LDAvis);\n",
              "}else if(typeof define === \"function\" && define.amd){\n",
              "   // require.js is available: use it to load d3/LDAvis\n",
              "   require.config({paths: {d3: \"https://cdnjs.cloudflare.com/ajax/libs/d3/3.5.5/d3.min\"}});\n",
              "   require([\"d3\"], function(d3){\n",
              "      window.d3 = d3;\n",
              "      LDAvis_load_lib(\"https://cdn.rawgit.com/bmabey/pyLDAvis/files/ldavis.v1.0.0.js\", function(){\n",
              "        new LDAvis(\"#\" + \"ldavis_el121139831022734096500457950\", ldavis_el121139831022734096500457950_data);\n",
              "      });\n",
              "    });\n",
              "}else{\n",
              "    // require.js not available: dynamically load d3 & LDAvis\n",
              "    LDAvis_load_lib(\"https://cdnjs.cloudflare.com/ajax/libs/d3/3.5.5/d3.min.js\", function(){\n",
              "         LDAvis_load_lib(\"https://cdn.rawgit.com/bmabey/pyLDAvis/files/ldavis.v1.0.0.js\", function(){\n",
              "                 new LDAvis(\"#\" + \"ldavis_el121139831022734096500457950\", ldavis_el121139831022734096500457950_data);\n",
              "            })\n",
              "         });\n",
              "}\n",
              "</script>"
            ],
            "text/plain": [
              "PreparedData(topic_coordinates=                x           y  topics  cluster       Freq\n",
              "topic                                                    \n",
              "4      150.222153  -72.269554       1        1  26.823253\n",
              "3       51.163364 -159.968018       2        1  26.144538\n",
              "2      -73.144554   21.523815       3        1  19.816756\n",
              "0      -66.410133 -110.606438       4        1  16.494197\n",
              "1       54.417324   12.443444       5        1  10.721255, topic_info=      Category         Freq        Term        Total  loglift  logprob\n",
              "6272   Default  1044.000000        game  1044.000000  30.0000  30.0000\n",
              "15075  Default   733.000000        team   733.000000  29.0000  29.0000\n",
              "2266   Default   914.000000         car   914.000000  28.0000  28.0000\n",
              "6520   Default  1144.000000  government  1144.000000  27.0000  27.0000\n",
              "11362  Default   539.000000      player   539.000000  26.0000  26.0000\n",
              "...        ...          ...         ...          ...      ...      ...\n",
              "9110    Topic5   342.174961        make  3488.751159  -0.0890  -6.1054\n",
              "10098   Topic5   333.118421         new  2755.554960   0.1201  -6.1322\n",
              "540     Topic5   336.634763        also  3701.358138  -0.1645  -6.1217\n",
              "3511    Topic5   331.431692       could  3395.143466  -0.0937  -6.1373\n",
              "15512   Topic5   328.189236         ton  3669.116778  -0.1812  -6.1471\n",
              "\n",
              "[466 rows x 6 columns], token_table=       Topic      Freq      Term\n",
              "term                            \n",
              "316        1  0.980209  advancen\n",
              "316        2  0.008289  advancen\n",
              "316        3  0.010362  advancen\n",
              "486        5  0.989534     alink\n",
              "540        1  0.345819      also\n",
              "...      ...       ...       ...\n",
              "17089      2  0.187912      year\n",
              "17089      3  0.193337      year\n",
              "17089      4  0.242155      year\n",
              "17089      5  0.258428      year\n",
              "17171      4  0.987579  zoologyn\n",
              "\n",
              "[1028 rows x 3 columns], R=30, lambda_step=0.01, plot_opts={'xlab': 'PC1', 'ylab': 'PC2'}, topic_order=[5, 4, 3, 1, 2])"
            ]
          },
          "metadata": {
            "tags": []
          },
          "execution_count": 19
        }
      ]
    },
    {
      "cell_type": "markdown",
      "metadata": {
        "id": "Jt9NKpuxDEv0",
        "colab_type": "text"
      },
      "source": [
        "# LDA Unigram - binary - stem"
      ]
    },
    {
      "cell_type": "code",
      "metadata": {
        "id": "wjMI8PDBCrkC",
        "colab_type": "code",
        "colab": {}
      },
      "source": [
        "data_token_stem_binary = binary.fit_transform(df.token_stem)"
      ],
      "execution_count": 0,
      "outputs": []
    },
    {
      "cell_type": "code",
      "metadata": {
        "id": "qpl5E1_CDJBe",
        "colab_type": "code",
        "outputId": "b30182c7-de09-47da-c6d6-619fb99085c1",
        "colab": {
          "base_uri": "https://localhost:8080/",
          "height": 399
        }
      },
      "source": [
        "# Parametri di ricerca\n",
        "search_params = {'n_components': [5,10, 15, 20, 25, 30], 'learning_decay': [.5, .7, .9]}\n",
        "\n",
        "# Inizializzazione Modello\n",
        "lda = LatentDirichletAllocation()\n",
        "\n",
        "# Inizializzazione GridSearchCV\n",
        "model = GridSearchCV(lda, param_grid=search_params)\n",
        "\n",
        "# Grid Search\n",
        "model.fit(data_token_stem_binary) "
      ],
      "execution_count": 0,
      "outputs": [
        {
          "output_type": "execute_result",
          "data": {
            "text/plain": [
              "GridSearchCV(cv=None, error_score=nan,\n",
              "             estimator=LatentDirichletAllocation(batch_size=128,\n",
              "                                                 doc_topic_prior=None,\n",
              "                                                 evaluate_every=-1,\n",
              "                                                 learning_decay=0.7,\n",
              "                                                 learning_method='batch',\n",
              "                                                 learning_offset=10.0,\n",
              "                                                 max_doc_update_iter=100,\n",
              "                                                 max_iter=10,\n",
              "                                                 mean_change_tol=0.001,\n",
              "                                                 n_components=10, n_jobs=None,\n",
              "                                                 perp_tol=0.1,\n",
              "                                                 random_state=None,\n",
              "                                                 topic_word_prior=None,\n",
              "                                                 total_samples=1000000.0,\n",
              "                                                 verbose=0),\n",
              "             iid='deprecated', n_jobs=None,\n",
              "             param_grid={'learning_decay': [0.5, 0.7, 0.9],\n",
              "                         'n_components': [5, 10, 15, 20, 25, 30]},\n",
              "             pre_dispatch='2*n_jobs', refit=True, return_train_score=False,\n",
              "             scoring=None, verbose=0)"
            ]
          },
          "metadata": {
            "tags": []
          },
          "execution_count": 26
        }
      ]
    },
    {
      "cell_type": "code",
      "metadata": {
        "id": "UxKuHX6WDJJx",
        "colab_type": "code",
        "outputId": "ced869ca-8cd4-4d01-b897-16d691d3b4cc",
        "colab": {
          "base_uri": "https://localhost:8080/",
          "height": 72
        }
      },
      "source": [
        "# Stimato il Miglior modello \n",
        "best_lda_model = model.best_estimator_\n",
        "\n",
        "# Parametri del modello\n",
        "print(\"Best Model Params: \", model.best_params_)\n",
        "\n",
        "# Log Likelihood Score\n",
        "print(\"Best Log Likelihood Score: \", model.best_score_)\n",
        "\n",
        "# Perplessità\n",
        "print(\"Model Perplexity: \", best_lda_model.perplexity(data_token_stem_binary))"
      ],
      "execution_count": 0,
      "outputs": [
        {
          "output_type": "stream",
          "text": [
            "Best Model Params:  {'learning_decay': 0.9, 'n_components': 5}\n",
            "Best Log Likelihood Score:  -2509577.368779647\n",
            "Model Perplexity:  3957.6166240359494\n"
          ],
          "name": "stdout"
        }
      ]
    },
    {
      "cell_type": "code",
      "metadata": {
        "id": "xb-I6X8KDJUc",
        "colab_type": "code",
        "outputId": "0b87c956-e2a8-443d-9135-b0ea7aafa80f",
        "colab": {
          "base_uri": "https://localhost:8080/",
          "height": 1000
        }
      },
      "source": [
        "pyLDAvis.enable_notebook()\n",
        "vis = pyLDAvis.sklearn.prepare(best_lda_model, data_token_stem_binary, binary, mds='tsne')\n",
        "vis"
      ],
      "execution_count": 0,
      "outputs": [
        {
          "output_type": "stream",
          "text": [
            "/usr/local/lib/python3.6/dist-packages/pyLDAvis/_prepare.py:257: FutureWarning: Sorting because non-concatenation axis is not aligned. A future version\n",
            "of pandas will change to not sort by default.\n",
            "\n",
            "To accept the future behavior, pass 'sort=False'.\n",
            "\n",
            "To retain the current behavior and silence the warning, pass 'sort=True'.\n",
            "\n",
            "  return pd.concat([default_term_info] + list(topic_dfs))\n"
          ],
          "name": "stderr"
        },
        {
          "output_type": "execute_result",
          "data": {
            "text/html": [
              "\n",
              "<link rel=\"stylesheet\" type=\"text/css\" href=\"https://cdn.rawgit.com/bmabey/pyLDAvis/files/ldavis.v1.0.0.css\">\n",
              "\n",
              "\n",
              "<div id=\"ldavis_el1211401495814056643432366340\"></div>\n",
              "<script type=\"text/javascript\">\n",
              "\n",
              "var ldavis_el1211401495814056643432366340_data = {\"mdsDat\": {\"x\": [150.22215270996094, 51.16336441040039, -73.1445541381836, -66.4101333618164, 54.41732406616211], \"y\": [-72.2695541381836, -159.968017578125, 21.523815155029297, -110.60643768310547, 12.44344425201416], \"topics\": [1, 2, 3, 4, 5], \"cluster\": [1, 1, 1, 1, 1], \"Freq\": [35.89621525925366, 22.56884301193244, 15.536756554703404, 13.505524548559137, 12.492660625551357]}, \"tinfo\": {\"Category\": [\"Default\", \"Default\", \"Default\", \"Default\", \"Default\", \"Default\", \"Default\", \"Default\", \"Default\", \"Default\", \"Default\", \"Default\", \"Default\", \"Default\", \"Default\", \"Default\", \"Default\", \"Default\", \"Default\", \"Default\", \"Default\", \"Default\", \"Default\", \"Default\", \"Default\", \"Default\", \"Default\", \"Default\", \"Default\", \"Default\", \"Topic1\", \"Topic1\", \"Topic1\", \"Topic1\", \"Topic1\", \"Topic1\", \"Topic1\", \"Topic1\", \"Topic1\", \"Topic1\", \"Topic1\", \"Topic1\", \"Topic1\", \"Topic1\", \"Topic1\", \"Topic1\", \"Topic1\", \"Topic1\", \"Topic1\", \"Topic1\", \"Topic1\", \"Topic1\", \"Topic1\", \"Topic1\", \"Topic1\", \"Topic1\", \"Topic1\", \"Topic1\", \"Topic1\", \"Topic1\", \"Topic1\", \"Topic1\", \"Topic1\", \"Topic1\", \"Topic1\", \"Topic1\", \"Topic1\", \"Topic1\", \"Topic1\", \"Topic1\", \"Topic1\", \"Topic1\", \"Topic1\", \"Topic1\", \"Topic1\", \"Topic1\", \"Topic1\", \"Topic1\", \"Topic1\", \"Topic1\", \"Topic1\", \"Topic1\", \"Topic1\", \"Topic1\", \"Topic1\", \"Topic1\", \"Topic1\", \"Topic1\", \"Topic1\", \"Topic1\", \"Topic1\", \"Topic1\", \"Topic1\", \"Topic1\", \"Topic1\", \"Topic1\", \"Topic1\", \"Topic1\", \"Topic1\", \"Topic1\", \"Topic1\", \"Topic1\", \"Topic1\", \"Topic1\", \"Topic1\", \"Topic1\", \"Topic1\", \"Topic1\", \"Topic1\", \"Topic1\", \"Topic1\", \"Topic1\", \"Topic1\", \"Topic1\", \"Topic1\", \"Topic1\", \"Topic1\", \"Topic1\", \"Topic1\", \"Topic1\", \"Topic1\", \"Topic1\", \"Topic1\", \"Topic1\", \"Topic1\", \"Topic1\", \"Topic1\", \"Topic1\", \"Topic1\", \"Topic2\", \"Topic2\", \"Topic2\", \"Topic2\", \"Topic2\", \"Topic2\", \"Topic2\", \"Topic2\", \"Topic2\", \"Topic2\", \"Topic2\", \"Topic2\", \"Topic2\", \"Topic2\", \"Topic2\", \"Topic2\", \"Topic2\", \"Topic2\", \"Topic2\", \"Topic2\", \"Topic2\", \"Topic2\", \"Topic2\", \"Topic2\", \"Topic2\", \"Topic2\", \"Topic2\", \"Topic2\", \"Topic2\", \"Topic2\", \"Topic2\", \"Topic2\", \"Topic2\", \"Topic2\", \"Topic2\", \"Topic2\", \"Topic2\", \"Topic2\", \"Topic2\", \"Topic2\", \"Topic2\", \"Topic2\", \"Topic2\", \"Topic2\", \"Topic2\", \"Topic2\", \"Topic2\", \"Topic2\", \"Topic2\", \"Topic2\", \"Topic2\", \"Topic2\", \"Topic2\", \"Topic2\", \"Topic2\", \"Topic2\", \"Topic2\", \"Topic2\", \"Topic2\", \"Topic2\", \"Topic2\", \"Topic2\", \"Topic2\", \"Topic2\", \"Topic2\", \"Topic2\", \"Topic2\", \"Topic2\", \"Topic2\", \"Topic2\", \"Topic2\", \"Topic2\", \"Topic2\", \"Topic2\", \"Topic2\", \"Topic2\", \"Topic2\", \"Topic2\", \"Topic2\", \"Topic2\", \"Topic2\", \"Topic2\", \"Topic2\", \"Topic2\", \"Topic2\", \"Topic2\", \"Topic2\", \"Topic2\", \"Topic2\", \"Topic2\", \"Topic2\", \"Topic2\", \"Topic2\", \"Topic3\", \"Topic3\", \"Topic3\", \"Topic3\", \"Topic3\", \"Topic3\", \"Topic3\", \"Topic3\", \"Topic3\", \"Topic3\", \"Topic3\", \"Topic3\", \"Topic3\", \"Topic3\", \"Topic3\", \"Topic3\", \"Topic3\", \"Topic3\", \"Topic3\", \"Topic3\", \"Topic3\", \"Topic3\", \"Topic3\", \"Topic3\", \"Topic3\", \"Topic3\", \"Topic3\", \"Topic3\", \"Topic3\", \"Topic3\", \"Topic3\", \"Topic3\", \"Topic3\", \"Topic3\", \"Topic3\", \"Topic3\", \"Topic3\", \"Topic3\", \"Topic3\", \"Topic3\", \"Topic3\", \"Topic3\", \"Topic3\", \"Topic3\", \"Topic3\", \"Topic3\", \"Topic3\", \"Topic3\", \"Topic3\", \"Topic3\", \"Topic3\", \"Topic3\", \"Topic3\", \"Topic3\", \"Topic3\", \"Topic3\", \"Topic3\", \"Topic3\", \"Topic3\", \"Topic3\", \"Topic3\", \"Topic3\", \"Topic3\", \"Topic3\", \"Topic3\", \"Topic3\", \"Topic3\", \"Topic3\", \"Topic3\", \"Topic3\", \"Topic3\", \"Topic3\", \"Topic3\", \"Topic3\", \"Topic3\", \"Topic3\", \"Topic3\", \"Topic3\", \"Topic3\", \"Topic3\", \"Topic3\", \"Topic3\", \"Topic3\", \"Topic3\", \"Topic3\", \"Topic3\", \"Topic3\", \"Topic3\", \"Topic3\", \"Topic4\", \"Topic4\", \"Topic4\", \"Topic4\", \"Topic4\", \"Topic4\", \"Topic4\", \"Topic4\", \"Topic4\", \"Topic4\", \"Topic4\", \"Topic4\", \"Topic4\", \"Topic4\", \"Topic4\", \"Topic4\", \"Topic4\", \"Topic4\", \"Topic4\", \"Topic4\", \"Topic4\", \"Topic4\", \"Topic4\", \"Topic4\", \"Topic4\", \"Topic4\", \"Topic4\", \"Topic4\", \"Topic4\", \"Topic4\", \"Topic4\", \"Topic4\", \"Topic4\", \"Topic4\", \"Topic4\", \"Topic4\", \"Topic4\", \"Topic4\", \"Topic4\", \"Topic4\", \"Topic4\", \"Topic4\", \"Topic4\", \"Topic4\", \"Topic4\", \"Topic4\", \"Topic4\", \"Topic4\", \"Topic4\", \"Topic4\", \"Topic4\", \"Topic4\", \"Topic4\", \"Topic4\", \"Topic4\", \"Topic4\", \"Topic4\", \"Topic4\", \"Topic4\", \"Topic4\", \"Topic4\", \"Topic4\", \"Topic4\", \"Topic4\", \"Topic4\", \"Topic4\", \"Topic4\", \"Topic4\", \"Topic4\", \"Topic4\", \"Topic4\", \"Topic4\", \"Topic4\", \"Topic4\", \"Topic4\", \"Topic4\", \"Topic4\", \"Topic4\", \"Topic4\", \"Topic4\", \"Topic4\", \"Topic4\", \"Topic4\", \"Topic4\", \"Topic4\", \"Topic4\", \"Topic4\", \"Topic4\", \"Topic5\", \"Topic5\", \"Topic5\", \"Topic5\", \"Topic5\", \"Topic5\", \"Topic5\", \"Topic5\", \"Topic5\", \"Topic5\", \"Topic5\", \"Topic5\", \"Topic5\", \"Topic5\", \"Topic5\", \"Topic5\", \"Topic5\", \"Topic5\", \"Topic5\", \"Topic5\", \"Topic5\", \"Topic5\", \"Topic5\", \"Topic5\", \"Topic5\", \"Topic5\", \"Topic5\", \"Topic5\", \"Topic5\", \"Topic5\", \"Topic5\", \"Topic5\", \"Topic5\", \"Topic5\", \"Topic5\", \"Topic5\", \"Topic5\", \"Topic5\", \"Topic5\", \"Topic5\", \"Topic5\", \"Topic5\", \"Topic5\", \"Topic5\", \"Topic5\", \"Topic5\", \"Topic5\", \"Topic5\", \"Topic5\", \"Topic5\", \"Topic5\", \"Topic5\", \"Topic5\", \"Topic5\", \"Topic5\", \"Topic5\", \"Topic5\", \"Topic5\", \"Topic5\", \"Topic5\", \"Topic5\", \"Topic5\", \"Topic5\", \"Topic5\", \"Topic5\", \"Topic5\", \"Topic5\", \"Topic5\", \"Topic5\", \"Topic5\", \"Topic5\", \"Topic5\", \"Topic5\", \"Topic5\", \"Topic5\", \"Topic5\", \"Topic5\", \"Topic5\", \"Topic5\", \"Topic5\", \"Topic5\", \"Topic5\", \"Topic5\", \"Topic5\", \"Topic5\", \"Topic5\", \"Topic5\", \"Topic5\"], \"Freq\": [1021.0, 718.0, 5228.0, 1248.0, 1035.0, 524.0, 1941.0, 4953.0, 3734.0, 1038.0, 531.0, 4322.0, 2826.0, 1369.0, 3040.0, 927.0, 5046.0, 2555.0, 5505.0, 1076.0, 1768.0, 1852.0, 568.0, 1442.0, 3241.0, 1170.0, 3066.0, 1899.0, 648.0, 2132.0, 262.8564150747605, 270.3953527207297, 177.62107652326753, 162.71837420568204, 154.82326004152029, 219.79673986237572, 166.55607305364705, 136.97576953686243, 159.51144883728358, 326.73243626146217, 110.19577881142918, 185.90589740966684, 101.29773225929362, 97.33399926358699, 98.28604433001644, 93.36418243903191, 101.18884405657177, 96.27271846209129, 89.37303508342897, 82.46557039675618, 81.47507302151094, 79.49322350064043, 105.97236649072707, 85.35717396815625, 75.51958516886788, 79.4253167008167, 77.41548233686645, 72.51057973808399, 77.39072845627386, 63.63382902062033, 407.1249774421821, 90.99306845197286, 115.12571223174875, 138.5581492176225, 326.6983723493072, 799.2062399350654, 265.25234512512964, 373.4046436562113, 411.70036892751335, 395.41800255320743, 200.75220471515516, 153.49583235146665, 360.51790054341484, 358.5217138123939, 277.44683014790013, 183.51720469085333, 226.47134210284167, 234.78356842020926, 443.6799573271235, 371.9442449159368, 451.37841195447334, 980.252135555792, 551.935090816623, 269.4671910035539, 648.49006470842, 508.0781052137209, 273.69440857418414, 411.59108388020053, 477.0360820106556, 1987.3733116870267, 618.5649832336651, 1018.0631680520315, 744.6870036900053, 1216.6746329877467, 1754.0820739946112, 1622.3551195399154, 683.7996480334328, 1110.78634906293, 1306.5660377655486, 966.0396974671708, 1462.1545710042672, 1237.3708227263348, 1380.5190763273422, 967.8549472248559, 1507.3915730434944, 1338.0479802531702, 718.1667637800543, 1603.831141847848, 1170.5893078353686, 1480.8969401360653, 1058.114824993056, 867.3908815180347, 1242.4516059638754, 1645.66142986319, 1033.0755561008352, 868.4553327638918, 1308.4066300586105, 981.760449589626, 1583.487512336371, 1467.223076471548, 1257.6827504199987, 1066.4768509332741, 1130.4112118988173, 1156.2645422281894, 1048.7703557212794, 1167.2880177963984, 1053.893378853253, 1042.3245374411774, 1031.5723047127656, 402.92086840101433, 153.32242331811545, 126.2041411101316, 159.76608074423922, 233.79162089634158, 175.96634772547418, 48.60005778866762, 67.36922919487678, 45.57464069977694, 43.55927733048131, 107.88146165366776, 41.53566529169519, 46.461378809225266, 38.51805979236896, 61.17262583235785, 36.49829604793107, 36.49237270508936, 44.362893936637924, 100.43563572433413, 37.42657166444533, 38.40769574196554, 33.47570277784329, 120.03629187967886, 32.46731817159732, 33.44684092760722, 40.29053202954108, 30.449373117060865, 31.426596930356595, 30.444787934648602, 30.444787934647405, 82.20242129795739, 48.052458055474965, 113.65498230864962, 64.42107640227077, 441.9639626143724, 127.1923174517856, 461.2002551442064, 340.25063707540204, 178.6763275988214, 1108.9177115313257, 214.3453574602405, 254.6077861992705, 206.05540635825687, 66.81986540663223, 62.2073258611658, 217.04092337555645, 483.47122777978757, 121.57530723958544, 504.3822384921772, 194.28933306303963, 168.63061441972317, 442.8458287367236, 152.50138520648963, 928.8230505846022, 458.3898241896774, 809.7397196200885, 503.10801119921365, 380.74293945311723, 606.0390191503906, 787.8160435109022, 1196.3467561413545, 583.0735537968731, 300.0932138793535, 1159.1013273126198, 1626.7134237193181, 1124.8364083488652, 1204.277617113893, 1330.4794461705708, 1835.1770222758892, 2263.021205740146, 1530.3976741879815, 2061.7259537064547, 818.541124225686, 410.63218273613506, 1306.3437477603252, 1295.1811540969509, 1972.1724487881045, 1080.3899514152452, 906.7619415471338, 1637.0565036218936, 1217.0800298098222, 1153.189014077993, 934.0252335323538, 1099.8677581802115, 1162.193119589785, 1086.873203950741, 991.846037647532, 1091.0922517757065, 1065.837605653778, 1091.9718679621383, 984.4929269620297, 910.9348906891432, 926.8836673392454, 217.8614269751972, 166.03972167328354, 147.39232688972166, 127.76811980160134, 124.82458658513846, 117.95523599301147, 116.97397800430984, 116.97397800430983, 116.97397800430902, 116.97397800430902, 116.97139542035622, 80.66401346534093, 71.8311899621642, 69.86895500763616, 69.86895500763553, 62.01762382487214, 59.0675757985448, 78.35518080441061, 52.20297241650446, 51.220333695344316, 50.241651298070025, 52.169303047602256, 49.26035184279659, 48.27555236692147, 48.27554663659069, 47.29786012134607, 50.18505946448535, 47.283540083166976, 46.31648083469124, 46.31104150947202, 78.7690793820609, 151.34800724480237, 158.79471776662464, 195.09654681875384, 163.25007596709776, 166.24889006911962, 191.59038139620557, 93.98765883401119, 66.79126556239387, 131.62726220720012, 128.91749614172997, 82.21726219984977, 90.0308363511004, 480.851875877327, 176.56080984672437, 138.09469761918876, 157.89347034925385, 268.4987344289163, 213.907343914648, 168.23606343379487, 323.38491970678575, 392.062524442049, 196.23834912514488, 237.04331165464035, 408.21054195307664, 361.38706007987736, 290.72711214613577, 319.5206588210458, 257.1081114341044, 526.3533974628131, 433.20250007389245, 359.5178682015169, 357.30483879657703, 222.25350666522937, 489.93822661485206, 543.72571887002, 481.0771893803707, 368.56599475266427, 528.6496330818073, 307.1515678452127, 334.4539779832419, 254.13716101981095, 396.69701657337157, 543.1648192462563, 588.8986584960461, 483.99858138416977, 316.98292088212645, 507.37511775397616, 382.1173706351387, 309.6005238317817, 359.32498955063414, 407.8180942918513, 424.4368252880849, 411.1783984260552, 389.4920509964203, 358.93254757017525, 365.56868064910566, 336.7956629587405, 325.84574230171717, 289.1945413339098, 171.38315561081043, 212.407479111557, 156.15601415225544, 103.91431670338875, 96.86520592597057, 95.86093332861807, 92.8404728253477, 90.82418049369345, 80.7564111561981, 80.7564111561981, 80.61014733507093, 107.44039278069813, 46.51928898021286, 45.51098827916194, 43.49609556426877, 42.4893511601523, 53.279807005207935, 35.44304868440406, 35.44304868440055, 34.430529317012414, 34.42792687868013, 33.42991560041578, 33.41519405813962, 78.61292328179363, 77.62760878393411, 32.420213237367626, 31.417036380698846, 31.417036380698846, 31.417036380698846, 51.054949402780125, 111.80196370567242, 493.47220409665033, 58.97841457714004, 152.92566395883546, 66.33086895210035, 313.48715721978016, 83.60963901872037, 469.18927703596523, 139.1674686475013, 138.4789351147852, 301.8238306662831, 193.22602722610847, 163.4092519819979, 98.35727860786928, 220.0295186102558, 88.80980688359833, 138.7467473684446, 187.33943244601647, 513.2049340448392, 254.84518363458164, 243.83766976669295, 310.71187777320796, 198.04620782541917, 260.488736938847, 950.6250162662067, 862.4052128891749, 787.7749485360063, 275.40581364011894, 517.0941932921963, 925.0814336203242, 279.14292687411245, 823.8903846030236, 487.0409530803619, 565.7810977830285, 515.9026987848872, 780.1012179015867, 790.7580582802461, 416.52554275926656, 605.0419956572088, 394.57792628975136, 640.8196404523432, 520.1950641851925, 465.574191938561, 502.3906459952957, 543.2682918471038, 490.39371911992737, 416.4157556972497, 410.56079254648387, 463.97861793208017, 480.6195572037117, 461.5860506614032, 455.8876323044174, 453.6442908127831, 427.43511325476385, 437.16982513323813, 437.52330147439545, 419.4906233626743, 276.66061113020976, 230.26672382843043, 165.88271530717657, 521.4220625411275, 113.80191879814329, 103.39175666598854, 92.9776457138292, 87.29441179730532, 80.66382178939675, 75.93432894733982, 74.98731340657935, 76.80934078099564, 97.41382320556615, 69.30639021825453, 74.9029084316784, 67.41160325275376, 64.57125308007734, 69.2369427661945, 144.09521697049482, 76.70727528689518, 60.77689594192898, 59.83813200126701, 58.885597553062986, 53.21008628165391, 53.210054320672455, 49.4236206141579, 49.42178503161428, 48.47677806706651, 46.58311697350366, 46.58303283746634, 347.72393983856, 81.82486877869381, 298.64294790976084, 119.9767594413229, 665.0230064185888, 930.405997967596, 299.5265749821164, 132.08421924328084, 107.71810885219713, 101.3531756279479, 226.0059713050778, 257.410646638228, 114.13932132371454, 187.13419354375466, 110.34581488290958, 374.24739504789295, 189.13824665209418, 111.37682025107618, 690.1812842405132, 138.97253865012507, 294.2961124999599, 423.462331640452, 180.6697811120012, 423.75662879520934, 152.07995862127274, 392.99636878860065, 214.0442060178568, 782.4908885522822, 139.4705091666068, 611.7840707684139, 209.31935410590046, 265.4059811300381, 444.46902135243005, 223.2967922447221, 237.55636473506573, 645.21810250808, 270.1712196224095, 793.2517853719655, 756.2152311927064, 690.7126668572956, 582.7920245588659, 553.2648140146159, 482.222114092471, 644.4565012883488, 619.1591636592157, 534.2815187087529, 492.1621004219414, 431.33192629942954, 477.96643179691836, 468.1659552491507, 438.24771089059453, 415.21301736459446, 422.0781449823017, 397.9338072452684, 415.5104809933458, 404.7071331621137, 405.9103029928145, 402.24815147859044], \"Term\": [\"game\", \"team\", \"get\", \"window\", \"play\", \"player\", \"email\", \"dont\", \"peopl\", \"thanksn\", \"gun\", \"think\", \"writesn\", \"program\", \"anyon\", \"kill\", \"know\", \"year\", \"like\", \"file\", \"thank\", \"run\", \"fire\", \"comput\", \"articl\", \"drive\", \"good\", \"last\", \"win\", \"ive\", \"isra\", \"arab\", \"cathol\", \"gay\", \"clhn\", \"homosexu\", \"escrow\", \"palestinian\", \"doctrin\", \"israel\", \"wiretap\", \"scriptur\", \"theolog\", \"testament\", \"hebrew\", \"cramer\", \"revel\", \"infect\", \"jerusalem\", \"chastiti\", \"njxp\", \"slpittedu\", \"gospel\", \"churchn\", \"philosoph\", \"orthodox\", \"repent\", \"lebanon\", \"sternlight\", \"psalm\", \"jew\", \"propaganda\", \"prophet\", \"vers\", \"jewish\", \"christian\", \"sin\", \"belief\", \"bibl\", \"church\", \"islam\", \"passag\", \"encrypt\", \"christ\", \"godn\", \"diseas\", \"lord\", \"context\", \"jesu\", \"moral\", \"religion\", \"god\", \"argument\", \"clipper\", \"human\", \"statement\", \"teach\", \"polit\", \"natur\", \"peopl\", \"accept\", \"fact\", \"claim\", \"believ\", \"say\", \"ofn\", \"law\", \"mean\", \"thatn\", \"person\", \"andn\", \"mani\", \"even\", \"reason\", \"ton\", \"way\", \"govern\", \"think\", \"may\", \"make\", \"point\", \"must\", \"see\", \"dont\", \"inn\", \"case\", \"time\", \"question\", \"like\", \"know\", \"also\", \"seem\", \"thing\", \"could\", \"take\", \"get\", \"well\", \"itn\", \"articl\", \"bike\", \"ide\", \"app\", \"motherboard\", \"scsi\", \"motorcycl\", \"cmo\", \"powerbook\", \"seagat\", \"reinstal\", \"rider\", \"restart\", \"scsin\", \"configsi\", \"yamaha\", \"counterst\", \"shafer\", \"maxtor\", \"quadra\", \"ftpcicaindianaedu\", \"adaptec\", \"stacker\", \"bio\", \"speedstar\", \"mfm\", \"cica\", \"ninjait\", \"microsoftn\", \"fredicom\", \"drydenn\", \"cylind\", \"torqu\", \"brake\", \"drivesn\", \"do\", \"cach\", \"advancen\", \"ride\", \"cpu\", \"window\", \"hin\", \"mhz\", \"meg\", \"thanx\", \"mswindow\", \"windowsn\", \"dod\", \"hellon\", \"driver\", \"floppi\", \"mous\", \"instal\", \"wheel\", \"drive\", \"disk\", \"thanksn\", \"speed\", \"mac\", \"card\", \"file\", \"thank\", \"machin\", \"switch\", \"run\", \"anyon\", \"email\", \"ive\", \"problem\", \"use\", \"get\", \"work\", \"know\", \"comput\", \"memori\", \"need\", \"tri\", \"like\", \"pleas\", \"help\", \"dont\", \"look\", \"want\", \"system\", \"itn\", \"also\", \"could\", \"thing\", \"make\", \"time\", \"think\", \"good\", \"much\", \"ton\", \"orbit\", \"armenia\", \"shuttl\", \"serdar\", \"argicn\", \"exterminationn\", \"melkonian\", \"sahak\", \"appressian\", \"ohanu\", \"solar\", \"spacecraft\", \"propuls\", \"zoologyn\", \"utzoohenryn\", \"lunar\", \"telescop\", \"athen\", \"payload\", \"anatolia\", \"orbitn\", \"interfacen\", \"dunn\", \"sdpa\", \"dpaorg\", \"gaedu\", \"polygon\", \"readm\", \"svr\", \"plnasagovn\", \"array\", \"flight\", \"armenian\", \"turkish\", \"turk\", \"mission\", \"nasa\", \"spencer\", \"highspe\", \"satellit\", \"moon\", \"patn\", \"orontoedu\", \"space\", \"launch\", \"anonym\", \"soviet\", \"project\", \"distribut\", \"mountain\", \"scienc\", \"research\", \"librari\", \"publish\", \"sourc\", \"develop\", \"imag\", \"technolog\", \"institut\", \"program\", \"avail\", \"fax\", \"data\", \"page\", \"inform\", \"univers\", \"includ\", \"provid\", \"system\", \"design\", \"phone\", \"april\", \"comput\", \"work\", \"use\", \"new\", \"public\", \"also\", \"interest\", \"internet\", \"gener\", \"may\", \"ton\", \"ofn\", \"andn\", \"look\", \"like\", \"year\", \"two\", \"koresh\", \"batf\", \"waco\", \"firearm\", \"tratuscom\", \"pplecom\", \"atf\", \"bd\", \"kentn\", \"ksand\", \"alink\", \"rifl\", \"handgun\", \"stove\", \"shotgun\", \"pistol\", \"censor\", \"pdsgicom\", \"cotekcom\", \"beauchain\", \"jubile\", \"sank\", \"rethought\", \"standoff\", \"packetn\", \"wstratuscom\", \"antigun\", \"chatham\", \"englishman\", \"armsnevernevernevern\", \"veal\", \"firen\", \"gun\", \"compoundn\", \"assault\", \"grenad\", \"fbi\", \"investor\", \"fire\", \"cult\", \"tear\", \"weapon\", \"compound\", \"davidian\", \"bullet\", \"shoot\", \"suicid\", \"cop\", \"tank\", \"kill\", \"polic\", \"shot\", \"death\", \"ga\", \"arm\", \"peopl\", \"articl\", \"writesn\", \"children\", \"said\", \"dont\", \"hell\", \"think\", \"day\", \"right\", \"believ\", \"get\", \"like\", \"didnt\", \"say\", \"happen\", \"know\", \"even\", \"come\", \"see\", \"make\", \"thing\", \"never\", \"start\", \"itn\", \"time\", \"want\", \"well\", \"ton\", \"thatn\", \"ofn\", \"could\", \"take\", \"hockey\", \"playoff\", \"nhl\", \"player\", \"coach\", \"espn\", \"bruin\", \"winnipeg\", \"buffalo\", \"goali\", \"seasonn\", \"sox\", \"hitter\", \"hockeyn\", \"philli\", \"yanke\", \"playersn\", \"calgari\", \"pitcher\", \"sabr\", \"mario\", \"puck\", \"playern\", \"lemieux\", \"norri\", \"goaltend\", \"dodger\", \"oiler\", \"potvin\", \"gretzki\", \"season\", \"baseballn\", \"basebal\", \"salen\", \"team\", \"game\", \"leagu\", \"gamesn\", \"stanley\", \"montreal\", \"pitch\", \"score\", \"teamn\", \"gamen\", \"detroit\", \"fan\", \"cup\", \"leaf\", \"play\", \"roger\", \"sale\", \"win\", \"boston\", \"sell\", \"pittsburgh\", \"price\", \"trade\", \"year\", \"bat\", \"last\", \"blue\", \"he\", \"best\", \"seri\", \"red\", \"good\", \"hit\", \"like\", \"get\", \"think\", \"look\", \"new\", \"first\", \"know\", \"dont\", \"time\", \"well\", \"two\", \"make\", \"also\", \"see\", \"come\", \"anyon\", \"realli\", \"could\", \"writesn\", \"even\", \"much\"], \"Total\": [1021.0, 718.0, 5228.0, 1248.0, 1035.0, 524.0, 1941.0, 4953.0, 3734.0, 1038.0, 531.0, 4322.0, 2826.0, 1369.0, 3040.0, 927.0, 5046.0, 2555.0, 5505.0, 1076.0, 1768.0, 1852.0, 568.0, 1442.0, 3241.0, 1170.0, 3066.0, 1899.0, 648.0, 2132.0, 263.65532589089645, 271.5810535988123, 178.4120359789305, 163.54449181775308, 155.61439054780246, 221.04076766413488, 167.5016643844892, 137.77274714880042, 160.57463719151235, 329.059284438319, 111.00942077105873, 187.34298147483446, 102.0895287962021, 98.12469642018146, 99.11558259297728, 94.15991406560947, 102.09122959232431, 97.13282118228766, 90.19477782326469, 83.25666085548237, 82.26546612869974, 80.28306857902892, 107.05039854596441, 86.23158625160997, 76.31826649688772, 80.28240049189183, 78.30218521405246, 73.34427014407854, 78.29536928207155, 64.42385964144884, 416.39312821051027, 92.1736201658196, 116.97409212067708, 141.77551029140622, 341.4887142142484, 860.863511055123, 276.5217010051455, 393.8095475202066, 440.5279830784949, 422.59204590279245, 209.06897357532503, 158.58513036421496, 391.2401800317698, 389.0115020700109, 296.653159485879, 192.2519428685307, 241.0694278919631, 250.68839665680184, 497.41616509498914, 411.91954949336866, 509.3772895152197, 1197.1522695615945, 657.0660926078984, 296.49303485924406, 811.0728972101641, 657.1439313422867, 310.112322991712, 512.6741128337256, 615.4736367225534, 3734.0420538755884, 868.2822416946184, 1657.4582300301618, 1127.004641871394, 2163.375563786295, 3522.249664296548, 3293.5896836839756, 1041.114630868977, 2059.721091362298, 2650.221608402243, 1776.9195922106542, 3273.87311001616, 2568.9181936213863, 3190.327654426481, 1839.2548555571334, 3680.675447440245, 3104.420355577441, 1175.6237697054862, 4322.5744294981505, 2594.900184989261, 3891.1366796186726, 2241.621033914933, 1604.7297129522512, 3021.3317964766297, 4953.167528502935, 2203.7658717907498, 1623.771459673074, 3703.5494480847683, 2115.3937657022775, 5505.2384854257925, 5046.8595748068155, 3715.734789650343, 2567.4929906502043, 2959.9461111825754, 3407.505148182342, 2689.195625247073, 5228.322081934672, 3051.5549170986, 3012.2291315787597, 3241.7571538835186, 404.3257031582694, 154.25099601978567, 127.02983953290584, 161.27085148850122, 236.87018494527834, 178.45392533125454, 49.387633461109886, 68.52250130007053, 46.36255598974907, 44.34591259995922, 109.8560099966345, 42.32902935912777, 47.367658979084055, 39.30418302863031, 62.46374506002983, 37.28747841189519, 37.28729506099538, 45.34259110872167, 102.73504182587703, 38.29089600715234, 39.299883469468845, 34.26241091089962, 122.8651523457712, 33.254058814855696, 34.26077433887479, 41.30602585736774, 31.237401906136675, 32.243896683040134, 31.23728031341056, 31.23728031341056, 84.64011332427239, 49.378845780679576, 117.83070638343426, 66.48615390127065, 466.1295303471213, 133.03651602725049, 497.52679528695705, 364.9100071932318, 189.22170513342968, 1248.752496482874, 229.4434843580194, 275.5464065012485, 222.9394889288382, 69.45578273698362, 64.4721270989251, 237.37231600563192, 553.3693372488141, 129.80404531153894, 588.8281689212714, 214.09244299962413, 185.0834986136941, 519.2465375109786, 167.6774567928358, 1170.048876165765, 552.2767484292455, 1038.8345483874969, 623.8481033348756, 458.4699177991559, 784.1494935807945, 1076.5391914401007, 1768.864088272023, 785.5216168292685, 367.23119175944925, 1852.386606647508, 3040.4836536957187, 1941.68428621256, 2132.973657401191, 2430.9105597355374, 3951.7128465904434, 5228.322081934672, 3145.743019163842, 5046.8595748068155, 1442.6846900880423, 564.740139244744, 2836.3591704951255, 2916.853501502108, 5505.2384854257925, 2265.5997493386217, 1796.9640733495805, 4953.167528502935, 3072.225800037563, 3213.733014949396, 2129.547170820262, 3012.2291315787597, 3715.734789650343, 3407.505148182342, 2959.9461111825754, 3891.1366796186726, 3703.5494480847683, 4322.5744294981505, 3066.681327473657, 2809.296879259417, 3680.675447440245, 218.8505897144717, 166.83439260824758, 148.18878606319467, 128.56189935562966, 125.61785304809625, 118.74843423598408, 117.76708743497794, 117.7670874349779, 117.76708743497797, 117.76708743497795, 117.76713061217487, 81.45729159920035, 72.62518436158904, 70.66250262404837, 70.66250262404839, 62.81174843876565, 59.86770390251496, 79.49813534845691, 52.99831995959296, 52.01699163444717, 51.0356159189467, 52.99790534496461, 50.05425456029334, 49.07301544750417, 49.073018523436524, 48.09155600535231, 51.03712995739874, 48.09194574149374, 47.110242128598856, 47.110268280103504, 80.46297696402635, 156.8839951231254, 165.91596843748178, 211.14663884883697, 177.7656400455756, 186.65578122897625, 218.5567337585342, 100.86270916244725, 69.7321692309315, 148.27343811841328, 149.4883976234099, 89.20317594208095, 99.1360411420379, 747.4875587678953, 223.6125166761409, 169.22728919402545, 200.61681891611096, 401.78378911058365, 309.6579345814059, 226.70153285167615, 559.4812418620979, 747.7203663343461, 286.350179368803, 386.0466445450415, 862.1057816622338, 719.7030704567364, 525.809810543968, 613.556522792689, 438.9277615269437, 1369.9292900252087, 1089.8564446995035, 804.1286305417855, 823.2545490084755, 362.86711390085236, 1466.1270782595868, 1794.2841220341102, 1489.9772209605633, 997.146224231213, 2129.547170820262, 743.059228812176, 906.2942290678852, 496.0822236114028, 1442.6846900880423, 3145.743019163842, 3951.7128465904434, 2752.6662486353416, 934.9965668542047, 3715.734789650343, 1771.3606906092095, 949.9612315072352, 1589.4902791833895, 2594.900184989261, 3680.675447440245, 3293.5896836839756, 3273.87311001616, 3072.225800037563, 5505.2384854257925, 2555.3393785455733, 2486.9899661279114, 289.9839643846635, 172.16985399092366, 213.4510685157885, 157.06352790834413, 104.70355620325967, 97.6548844206296, 96.64796592458691, 93.62709378960226, 91.61311973420355, 81.54358836655796, 81.54358836655796, 81.54123724445576, 108.7235369067623, 47.306999602969405, 46.299993550236465, 44.28602995560222, 43.2791548278107, 54.35119131909229, 36.230454631104244, 36.23045463110417, 35.22340007926679, 35.223267043119584, 34.216536521393515, 34.21631092058643, 80.51009038395182, 79.5013224676969, 33.20951358816727, 32.20264846457848, 32.20264846457848, 32.20264846457848, 52.333964443688494, 115.72984494374779, 531.9209125187843, 61.30716589914761, 164.93985349592086, 69.42184363007131, 364.70418244818063, 90.4482740134598, 568.5672900498927, 156.7977092143461, 156.78939409566374, 370.41981777198095, 231.96301159245027, 195.52572166881762, 110.45013961860553, 278.7477472486411, 98.52001844273443, 166.8009861964559, 245.2033188324013, 927.9928945547802, 378.7040861331899, 375.7482721352757, 611.7321716240174, 314.85962866122924, 489.5752995579249, 3734.0420538755884, 3241.7571538835186, 2826.754741932644, 559.0059200267997, 1726.161615735566, 4953.167528502935, 603.4229096210553, 4322.5744294981505, 1686.6633922187282, 2551.7645224585913, 2163.375563786295, 5228.322081934672, 5505.2384854257925, 1491.177206852756, 3522.249664296548, 1350.5176291462187, 5046.8595748068155, 3190.327654426481, 2409.6545410680037, 3021.3317964766297, 3891.1366796186726, 2959.9461111825754, 1837.4425758232564, 1771.8028499705579, 3012.2291315787597, 3703.5494480847683, 3213.733014949396, 3051.5549170986, 3680.675447440245, 2650.221608402243, 3293.5896836839756, 3407.505148182342, 2689.195625247073, 277.4595954598282, 231.06520062130429, 166.68117007494007, 524.7020191943171, 114.60615600640497, 104.19083099612418, 93.77570894086033, 88.09488943545506, 81.46726775254183, 76.73290821424256, 75.78609276577563, 77.68427234868692, 98.52876066743185, 70.10514703069353, 75.791536825437, 68.21157443265513, 65.37108344246275, 70.10952828344429, 145.91199895854365, 77.69078870142188, 61.5841909165252, 60.63691266592686, 59.6904304279011, 54.009152429182784, 54.00913600410394, 50.22181435673752, 50.22191369825959, 49.27498999434468, 47.3813462109128, 47.38134917531811, 355.40604535293795, 83.40749564539654, 312.3139815115106, 123.27201911553384, 718.1396486832774, 1021.657490019341, 319.0202336371947, 137.56366194658162, 111.94284639175082, 105.24658705358125, 245.42049132266203, 284.46122189583264, 119.50056389721384, 203.39448119192423, 115.83263337234473, 448.5086913067041, 210.27914566184631, 119.79362944547633, 1035.2167282054797, 159.0255726156182, 407.7315002979169, 648.2679321355721, 229.2190183117922, 736.8010824584064, 187.81948248947617, 774.3369970383008, 324.90019354238234, 2555.3393785455733, 167.27832402004753, 1899.7151522183872, 327.4674395568465, 520.6523347174784, 1358.7809053555934, 392.7857391642446, 442.634166313404, 3066.681327473657, 576.3609160114488, 5505.2384854257925, 5228.322081934672, 4322.5744294981505, 3072.225800037563, 2752.6662486353416, 2418.8867542851867, 5046.8595748068155, 4953.167528502935, 3703.5494480847683, 3051.5549170986, 2486.9899661279114, 3891.1366796186726, 3715.734789650343, 3021.3317964766297, 2409.6545410680037, 3040.4836536957187, 2329.1592550148666, 3407.505148182342, 2826.754741932644, 3190.327654426481, 2809.296879259417], \"loglift\": [30.0, 29.0, 28.0, 27.0, 26.0, 25.0, 24.0, 23.0, 22.0, 21.0, 20.0, 19.0, 18.0, 17.0, 16.0, 15.0, 14.0, 13.0, 12.0, 11.0, 10.0, 9.0, 8.0, 7.0, 6.0, 5.0, 4.0, 3.0, 2.0, 1.0, 1.0215, 1.0202, 1.0201, 1.0195, 1.0194, 1.0189, 1.0189, 1.0187, 1.0179, 1.0174, 1.0172, 1.0168, 1.0168, 1.0164, 1.0161, 1.0161, 1.0157, 1.0156, 1.0154, 1.015, 1.0149, 1.0147, 1.0144, 1.0143, 1.014, 1.0138, 1.0131, 1.0131, 1.0129, 1.0122, 1.002, 1.0116, 1.0086, 1.0016, 0.9803, 0.9502, 0.9829, 0.9713, 0.9569, 0.9581, 0.9839, 0.9919, 0.9428, 0.9429, 0.9576, 0.978, 0.9621, 0.959, 0.9102, 0.9225, 0.9037, 0.8246, 0.8502, 0.929, 0.8008, 0.7673, 0.8996, 0.8049, 0.7697, 0.3939, 0.6854, 0.5372, 0.6102, 0.449, 0.3274, 0.3164, 0.6042, 0.407, 0.3173, 0.4151, 0.2185, 0.294, 0.1869, 0.3825, 0.1318, 0.1829, 0.5317, 0.0331, 0.2285, 0.0585, 0.2738, 0.4093, 0.1359, -0.0773, 0.2669, 0.3987, -0.0159, 0.2569, -0.2215, -0.2109, -0.0588, 0.146, 0.0619, -0.0562, 0.0829, -0.4749, -0.0386, -0.0367, -0.1205, 1.4851, 1.4826, 1.4821, 1.4792, 1.4755, 1.4746, 1.4725, 1.4716, 1.4715, 1.4707, 1.4705, 1.4697, 1.4693, 1.4684, 1.4677, 1.4672, 1.4671, 1.4668, 1.466, 1.4658, 1.4656, 1.4654, 1.4653, 1.4647, 1.4646, 1.4637, 1.463, 1.4629, 1.4629, 1.4629, 1.4594, 1.4614, 1.4525, 1.457, 1.4354, 1.4437, 1.4128, 1.4186, 1.4313, 1.3698, 1.4205, 1.4096, 1.4098, 1.4499, 1.4528, 1.3991, 1.3536, 1.4231, 1.3338, 1.3915, 1.3955, 1.3294, 1.3937, 1.2577, 1.3023, 1.2395, 1.2735, 1.3028, 1.2309, 1.1764, 1.0975, 1.1906, 1.2867, 1.0198, 0.8631, 0.9427, 0.917, 0.8859, 0.7216, 0.6512, 0.7681, 0.5934, 0.9219, 1.1699, 0.7133, 0.6767, 0.462, 0.7481, 0.8046, 0.3815, 0.5627, 0.4637, 0.6644, 0.4811, 0.3263, 0.3459, 0.3952, 0.2171, 0.2431, 0.1127, 0.3524, 0.3624, 0.1096, 1.8574, 1.8572, 1.8566, 1.8558, 1.8556, 1.8553, 1.8552, 1.8552, 1.8552, 1.8552, 1.8552, 1.8522, 1.851, 1.8507, 1.8507, 1.8492, 1.8485, 1.8475, 1.8468, 1.8465, 1.8463, 1.8462, 1.846, 1.8456, 1.8456, 1.8453, 1.8451, 1.845, 1.845, 1.8449, 1.8407, 1.826, 1.8181, 1.7829, 1.7768, 1.7462, 1.7303, 1.7914, 1.8189, 1.7429, 1.7139, 1.7804, 1.7656, 1.4208, 1.6257, 1.6587, 1.6225, 1.4589, 1.492, 1.5637, 1.3138, 1.2164, 1.4841, 1.3742, 1.1144, 1.1731, 1.2694, 1.2095, 1.3271, 0.9054, 0.9394, 1.057, 1.0273, 1.3717, 0.7659, 0.668, 0.7315, 0.8667, 0.4686, 0.9785, 0.8651, 1.1931, 0.5709, 0.1056, -0.0417, 0.1237, 0.7803, -0.1291, 0.3282, 0.7408, 0.375, 0.0115, -0.2981, -0.2187, -0.2669, -0.2851, -0.85, -0.1645, -0.1704, 1.9993, 1.9975, 1.9972, 1.9963, 1.9945, 1.994, 1.9939, 1.9936, 1.9934, 1.9924, 1.9924, 1.9906, 1.9902, 1.9853, 1.9849, 1.9841, 1.9837, 1.9822, 1.9801, 1.9801, 1.9793, 1.9792, 1.9788, 1.9784, 1.9782, 1.9782, 1.978, 1.9774, 1.9774, 1.9774, 1.9773, 1.9675, 1.927, 1.9633, 1.9264, 1.9565, 1.8507, 1.9235, 1.81, 1.8828, 1.8779, 1.7973, 1.8194, 1.8226, 1.8861, 1.7655, 1.8983, 1.8179, 1.7329, 1.4097, 1.606, 1.5697, 1.3246, 1.5384, 1.3711, 0.6339, 0.6779, 0.7244, 1.2942, 0.7966, 0.3242, 1.2312, 0.3445, 0.7599, 0.4957, 0.5686, 0.0996, 0.0616, 0.7267, 0.2405, 0.7716, -0.0617, 0.1884, 0.3581, 0.208, 0.0332, 0.2044, 0.5176, 0.5398, 0.1315, -0.0399, 0.0616, 0.1009, -0.0915, 0.1775, -0.0173, -0.0505, 0.1441, 2.0771, 2.0766, 2.0752, 2.0738, 2.073, 2.0723, 2.0715, 2.0709, 2.0701, 2.0696, 2.0694, 2.0687, 2.0686, 2.0686, 2.0682, 2.0682, 2.0677, 2.0675, 2.0675, 2.0673, 2.0668, 2.0668, 2.0665, 2.0651, 2.0651, 2.064, 2.064, 2.0637, 2.063, 2.063, 2.0582, 2.0609, 2.0353, 2.0529, 2.0032, 1.9865, 2.017, 2.0394, 2.0416, 2.0423, 1.9976, 1.9801, 2.0341, 1.9967, 2.0315, 1.899, 1.9741, 2.0072, 1.6746, 1.9452, 1.754, 1.6542, 1.842, 1.5269, 1.869, 1.4018, 1.6627, 0.8966, 1.8982, 0.9469, 1.6325, 1.4062, 0.9626, 1.5153, 1.4577, 0.5213, 1.3224, 0.1427, 0.1465, 0.2461, 0.4177, 0.4755, 0.4674, 0.0219, 0.0006, 0.1439, 0.2554, 0.3281, -0.0169, 0.0085, 0.1494, 0.3216, 0.1054, 0.3131, -0.0242, 0.1363, 0.0183, 0.1364], \"logprob\": [30.0, 29.0, 28.0, 27.0, 26.0, 25.0, 24.0, 23.0, 22.0, 21.0, 20.0, 19.0, 18.0, 17.0, 16.0, 15.0, 14.0, 13.0, 12.0, 11.0, 10.0, 9.0, 8.0, 7.0, 6.0, 5.0, 4.0, 3.0, 2.0, 1.0, -7.5675, -7.5393, -7.9595, -8.0471, -8.0969, -7.7464, -8.0238, -8.2193, -8.067, -7.35, -8.4369, -7.9139, -8.5211, -8.561, -8.5513, -8.6026, -8.5222, -8.572, -8.6463, -8.7268, -8.7388, -8.7635, -8.476, -8.6923, -8.8148, -8.7643, -8.79, -8.8554, -8.7903, -8.986, -7.13, -8.6284, -8.3931, -8.2079, -7.3501, -6.4555, -7.5585, -7.2165, -7.1188, -7.1592, -7.8371, -8.1055, -7.2516, -7.2572, -7.5135, -7.9268, -7.7165, -7.6805, -7.044, -7.2204, -7.0268, -6.2513, -6.8257, -7.5427, -6.6645, -6.9085, -7.5271, -7.1191, -6.9716, -5.5446, -6.7117, -6.2135, -6.5262, -6.0353, -5.6694, -5.7475, -6.6115, -6.1263, -5.964, -6.2659, -5.8515, -6.0184, -5.9089, -6.2641, -5.821, -5.9402, -6.5624, -5.759, -6.0739, -5.8387, -6.1749, -6.3737, -6.0143, -5.7332, -6.1988, -6.3724, -5.9626, -6.2498, -5.7718, -5.848, -6.0021, -6.167, -6.1088, -6.0862, -6.1838, -6.0767, -6.1789, -6.1899, -6.2003, -6.6763, -7.6425, -7.8372, -7.6014, -7.2207, -7.5048, -8.7915, -8.4649, -8.8557, -8.901, -7.994, -8.9485, -8.8365, -9.024, -8.5614, -9.0778, -9.078, -8.8827, -8.0656, -9.0527, -9.0268, -9.1643, -7.8873, -9.1948, -9.1651, -8.979, -9.259, -9.2274, -9.2592, -9.2592, -8.2659, -8.8028, -7.9419, -8.5096, -6.5839, -7.8294, -6.5412, -6.8454, -7.4895, -5.6639, -7.3075, -7.1354, -7.3469, -8.4731, -8.5446, -7.295, -6.4941, -7.8745, -6.4517, -7.4057, -7.5474, -6.5819, -7.6479, -5.8412, -6.5474, -5.9784, -6.4543, -6.733, -6.2681, -6.0058, -5.5881, -6.3068, -6.971, -5.6197, -5.2808, -5.6497, -5.5814, -5.4818, -5.1602, -4.9506, -5.3418, -5.0438, -5.9676, -6.6574, -5.5001, -5.5087, -5.0882, -5.69, -5.8652, -5.2744, -5.5709, -5.6248, -5.8356, -5.6721, -5.617, -5.684, -5.7755, -5.6801, -5.7036, -5.6793, -5.783, -5.8606, -5.8433, -6.9179, -7.1895, -7.3086, -7.4515, -7.4748, -7.5314, -7.5398, -7.5398, -7.5398, -7.5398, -7.5398, -7.9114, -8.0274, -8.0551, -8.0551, -8.1743, -8.223, -7.9405, -8.3466, -8.3656, -8.3849, -8.3472, -8.4046, -8.4248, -8.4248, -8.4453, -8.386, -8.4456, -8.4662, -8.4663, -7.9352, -7.2821, -7.2341, -7.0282, -7.2064, -7.1882, -7.0464, -7.7586, -8.1001, -7.4217, -7.4425, -7.8924, -7.8016, -6.1262, -7.1281, -7.3738, -7.2398, -6.7089, -6.9362, -7.1764, -6.5229, -6.3303, -7.0224, -6.8335, -6.2899, -6.4118, -6.6293, -6.5349, -6.7522, -6.0357, -6.2305, -6.417, -6.4231, -6.8979, -6.1074, -6.0033, -6.1257, -6.3921, -6.0314, -6.5744, -6.4892, -6.7638, -6.3185, -6.0043, -5.9235, -6.1196, -6.5429, -6.0725, -6.356, -6.5664, -6.4175, -6.2909, -6.251, -6.2827, -6.3369, -6.4186, -6.4003, -6.4822, -6.5153, -6.4945, -7.0177, -6.8031, -7.1108, -7.518, -7.5883, -7.5987, -7.6307, -7.6527, -7.7702, -7.7702, -7.772, -7.4847, -8.3217, -8.3437, -8.3889, -8.4124, -8.1861, -8.5937, -8.5937, -8.6227, -8.6227, -8.6522, -8.6526, -7.7971, -7.8097, -8.6828, -8.7143, -8.7143, -8.7143, -8.2287, -7.4449, -5.9601, -8.0844, -7.1317, -7.967, -6.4139, -7.7355, -6.0106, -7.2259, -7.2309, -6.4518, -6.8977, -7.0654, -7.573, -6.7678, -7.6751, -7.229, -6.9287, -5.9209, -6.621, -6.6651, -6.4227, -6.8731, -6.5991, -5.3045, -5.4019, -5.4924, -6.5434, -5.9134, -5.3317, -6.5299, -5.4476, -5.9733, -5.8234, -5.9157, -5.5022, -5.4886, -6.1297, -5.7563, -6.1838, -5.6989, -5.9074, -6.0183, -5.9422, -5.864, -5.9664, -6.1299, -6.1441, -6.0218, -5.9865, -6.0269, -6.0394, -6.0443, -6.1038, -6.0813, -6.0805, -6.1226, -6.4609, -6.6444, -6.9724, -5.8271, -7.3492, -7.4451, -7.5513, -7.6144, -7.6934, -7.7538, -7.7663, -7.7423, -7.5047, -7.8451, -7.7675, -7.8728, -7.9159, -7.8461, -7.1132, -7.7437, -7.9764, -7.992, -8.0081, -8.1094, -8.1094, -8.1832, -8.1833, -8.2026, -8.2424, -8.2424, -6.2322, -7.6791, -6.3844, -7.2964, -5.5838, -5.248, -6.3814, -7.2002, -7.4041, -7.465, -6.6631, -6.533, -7.3462, -6.8518, -7.38, -6.1587, -6.8412, -7.3707, -5.5467, -7.1494, -6.3991, -6.0352, -6.887, -6.0345, -7.0592, -6.1099, -6.7175, -5.4212, -7.1458, -5.6673, -6.7398, -6.5024, -5.9868, -6.6752, -6.6132, -5.6141, -6.4846, -5.4075, -5.4553, -5.5459, -5.7158, -5.7678, -5.9052, -5.6152, -5.6553, -5.8027, -5.8848, -6.0168, -5.9141, -5.9348, -6.0009, -6.0549, -6.0385, -6.0974, -6.0541, -6.0805, -6.0775, -6.0866]}, \"token.table\": {\"Topic\": [1, 2, 3, 4, 5, 2, 2, 3, 5, 4, 1, 2, 3, 4, 5, 3, 1, 2, 3, 4, 5, 1, 2, 3, 4, 4, 1, 2, 3, 4, 5, 2, 3, 1, 2, 3, 4, 5, 1, 3, 3, 1, 2, 3, 4, 5, 1, 2, 3, 4, 5, 3, 1, 3, 4, 2, 3, 5, 1, 2, 3, 4, 5, 1, 4, 4, 1, 3, 1, 2, 3, 4, 5, 4, 5, 4, 5, 1, 2, 4, 5, 4, 4, 4, 1, 4, 1, 2, 3, 4, 5, 1, 2, 3, 4, 5, 1, 4, 2, 4, 2, 5, 1, 2, 3, 4, 5, 1, 2, 3, 4, 5, 2, 3, 5, 5, 5, 1, 3, 4, 2, 3, 4, 5, 1, 2, 3, 4, 5, 1, 2, 3, 4, 5, 1, 4, 1, 4, 1, 3, 4, 1, 4, 1, 3, 4, 5, 1, 2, 3, 4, 1, 2, 1, 2, 3, 4, 5, 1, 1, 3, 5, 2, 5, 1, 2, 3, 4, 5, 1, 2, 3, 4, 4, 5, 1, 2, 3, 4, 5, 2, 1, 2, 3, 4, 1, 2, 4, 4, 1, 2, 3, 4, 5, 2, 2, 3, 5, 1, 1, 4, 1, 4, 5, 2, 3, 4, 1, 2, 3, 4, 5, 1, 3, 4, 1, 2, 3, 4, 5, 1, 2, 3, 4, 5, 1, 2, 3, 4, 5, 4, 5, 1, 2, 3, 4, 5, 1, 2, 3, 4, 5, 1, 3, 4, 2, 3, 5, 1, 2, 3, 4, 5, 1, 2, 3, 5, 1, 2, 3, 4, 5, 5, 1, 2, 3, 4, 5, 3, 1, 2, 3, 4, 5, 1, 2, 3, 4, 5, 2, 3, 2, 3, 1, 2, 3, 4, 5, 1, 3, 5, 4, 1, 5, 1, 2, 3, 4, 5, 3, 1, 2, 3, 4, 5, 1, 2, 4, 5, 1, 2, 3, 4, 5, 1, 4, 1, 2, 3, 4, 5, 1, 2, 3, 4, 5, 4, 1, 4, 1, 2, 3, 4, 5, 2, 3, 5, 2, 3, 5, 2, 2, 1, 2, 3, 4, 3, 1, 2, 3, 4, 5, 1, 4, 5, 1, 2, 5, 1, 1, 2, 3, 4, 5, 1, 2, 3, 4, 5, 5, 5, 1, 2, 3, 4, 5, 1, 4, 1, 2, 3, 4, 5, 1, 1, 3, 4, 5, 1, 4, 5, 1, 3, 4, 5, 1, 4, 1, 2, 3, 4, 5, 1, 2, 3, 4, 5, 1, 1, 2, 4, 5, 2, 3, 4, 5, 1, 2, 3, 4, 5, 3, 4, 2, 3, 5, 1, 2, 3, 4, 5, 4, 5, 5, 5, 1, 4, 1, 2, 3, 4, 2, 1, 2, 3, 4, 5, 1, 2, 3, 4, 5, 1, 1, 2, 3, 4, 5, 1, 2, 3, 4, 5, 1, 2, 3, 4, 5, 1, 2, 3, 4, 5, 1, 2, 3, 4, 5, 3, 1, 2, 3, 4, 5, 3, 4, 1, 3, 1, 1, 3, 1, 2, 3, 4, 5, 1, 2, 3, 4, 5, 1, 1, 4, 1, 3, 4, 1, 3, 5, 4, 4, 1, 2, 3, 4, 5, 1, 2, 3, 4, 5, 4, 4, 1, 2, 3, 4, 5, 1, 2, 3, 4, 5, 1, 2, 3, 4, 5, 4, 5, 1, 3, 4, 5, 1, 5, 1, 2, 3, 4, 5, 1, 2, 3, 4, 5, 1, 2, 3, 4, 5, 1, 4, 3, 2, 3, 5, 1, 2, 3, 4, 5, 1, 2, 3, 4, 5, 1, 2, 3, 4, 5, 5, 2, 1, 2, 3, 4, 5, 1, 2, 3, 4, 5, 2, 3, 5, 3, 1, 2, 3, 4, 5, 2, 2, 3, 5, 2, 1, 3, 3, 5, 1, 3, 4, 1, 3, 4, 2, 5, 2, 4, 1, 2, 3, 4, 5, 2, 3, 2, 3, 1, 2, 3, 4, 5, 1, 2, 3, 4, 5, 1, 2, 3, 1, 2, 3, 4, 5, 1, 2, 3, 4, 5, 1, 2, 3, 4, 5, 1, 2, 3, 4, 5, 5, 2, 1, 5, 1, 2, 3, 4, 5, 3, 5, 3, 3, 3, 4, 5, 1, 3, 4, 1, 2, 3, 4, 5, 1, 1, 3, 4, 1, 3, 4, 5, 3, 4, 1, 2, 3, 4, 5, 1, 2, 3, 4, 5, 5, 1, 1, 2, 3, 4, 5, 4, 1, 2, 4, 5, 4, 5, 1, 3, 4, 5, 1, 2, 3, 4, 5, 2, 3, 4, 5, 5, 5, 5, 1, 2, 3, 4, 5, 3, 1, 2, 3, 4, 5, 1, 2, 4, 1, 3, 4, 3, 5, 2, 5, 4, 1, 2, 3, 4, 5, 1, 2, 3, 4, 5, 1, 2, 3, 4, 5, 1, 2, 3, 5, 1, 3, 1, 4, 3, 1, 2, 3, 4, 5, 1, 1, 2, 3, 4, 5, 1, 2, 3, 5, 5, 2, 5, 1, 2, 3, 4, 5, 3, 1, 2, 3, 4, 5, 1, 2, 3, 4, 5, 1, 2, 3, 4, 5, 2, 1, 4, 1, 1, 2, 3, 4, 5, 2, 4, 1, 1, 2, 3, 4, 2, 3, 4, 1, 2, 3, 4, 5, 1, 3, 4, 5, 1, 2, 3, 4, 5, 5, 3, 1, 2, 3, 4, 5, 1, 2, 3, 4, 5, 2, 5, 4, 3, 4, 5, 1, 2, 3, 4, 5, 1, 2, 3, 4, 5, 1, 2, 3, 4, 5, 1, 4, 2, 3, 2, 3, 2, 1, 2, 3, 4, 5, 5, 1, 2, 3, 4, 5, 1, 2, 3, 4, 5, 1, 2, 3, 4, 5, 3, 1, 2, 3, 4, 5, 2, 1, 3, 4, 5, 1, 2, 3, 4, 5, 4, 3, 1, 3, 4, 1, 3, 1, 2, 3, 4, 5, 1, 3, 5, 1, 2, 3, 4, 5, 3, 1, 2, 3, 4, 5, 2, 3, 5, 2, 4, 2, 3, 4, 5, 1, 2, 3, 4, 5, 1, 2, 3, 4, 5, 1, 4, 1, 4, 3, 1, 2, 3, 4, 5, 1, 2, 3, 4, 5, 1, 2, 3, 4, 5, 2, 3, 4, 1, 2, 3, 4, 5, 1, 3, 4, 5, 3, 5, 1, 2, 3, 4, 1, 2, 3, 4, 5, 3, 1, 1, 2, 3, 4, 5, 1, 2, 3, 5, 2, 3, 5, 1, 2, 3, 4, 5, 1, 1, 2, 3, 4, 5, 1, 2, 3, 4, 5, 1, 2, 3, 4, 5, 1, 2, 3, 4, 5, 2, 4, 1, 2, 3, 4, 5, 4, 1, 2, 3, 4, 5, 1, 3, 1, 3, 1, 2, 3, 4, 5, 1, 2, 3, 4, 5, 1, 2, 3, 4, 5, 3, 1, 4, 1, 4, 4, 1, 2, 3, 4, 5, 1, 2, 3, 4, 5, 1, 2, 3, 4, 1, 2, 3, 4, 5, 1, 2, 4, 5, 1, 2, 3, 4, 5, 1, 2, 3, 4, 5, 2, 3, 5, 5, 1, 1, 2, 3, 4, 5, 1, 2, 3, 4, 5, 3, 4, 2, 5, 5, 1, 2, 3, 4, 5, 3], \"Freq\": [0.7129018310819112, 0.09213593939669289, 0.0737087515173543, 0.09559103712406887, 0.02533738333409054, 0.9669239866708843, 0.926583260172169, 0.040198839920701473, 0.03215907193656118, 0.993333769368667, 0.33856022327104246, 0.3127241489991664, 0.1364467672483454, 0.08612024757292018, 0.12595086207539574, 0.9804488571427938, 0.4465658719414399, 0.2187012067784343, 0.11881951038660747, 0.1017143880687411, 0.11393233258150279, 0.13591188578119712, 0.04136448697688608, 0.8154713146871827, 0.00590921242526944, 0.9635793043172356, 0.1924035997657578, 0.535112233878441, 0.049663151392528936, 0.08419713083766495, 0.13879370786521333, 0.9918929321119148, 0.9934864022564751, 0.0503948716767229, 0.022173743537758077, 0.5120118962355047, 0.21165846104223618, 0.2035952815739605, 0.9941783361620363, 0.0036821419857853196, 0.995081486961414, 0.8400981365650895, 0.015219169140671911, 0.021306836796940676, 0.11262185164097215, 0.009131501484403146, 0.3308990468805968, 0.04902208101934767, 0.07966088165643996, 0.5310725443762664, 0.010212933545697432, 0.9949986774597078, 0.042190031893389726, 0.958316438721281, 0.9626537405486588, 0.012428076088299383, 0.9818180109756512, 0.012428076088299383, 0.31834586954291066, 0.22981363644328337, 0.06354578403666628, 0.2659051739786715, 0.12246444787648791, 0.06669097714623617, 0.9276108639431031, 0.9932956072237205, 0.012578911387251932, 0.9811550882056507, 0.15323119004544258, 0.3385767013578941, 0.3973000316747104, 0.03394942533940943, 0.07707437104082142, 0.041624777530239625, 0.9573698831955114, 0.011989330122696143, 0.9831250700610836, 0.029890304253650777, 0.04184642595511109, 0.08967091276095233, 0.8309504582514916, 0.9932052332983605, 0.993302218789238, 0.9660381123109668, 0.9471583468424192, 0.0507859703400761, 0.5625467997198008, 0.10076844892269234, 0.022187548386647854, 0.2385161451564644, 0.076269697579102, 0.3017410668519093, 0.2332973614440372, 0.07212347451582223, 0.06623584394310204, 0.3267634967859701, 0.9352413826719115, 0.06356009396799399, 0.9967211998942583, 0.0024732535977525024, 0.9766805128136904, 0.01627800854689484, 0.051913558254847184, 0.21376171046113546, 0.04885981953397382, 0.045806080813100454, 0.638231392662533, 0.05671431670786112, 0.004362639746758547, 0.12651655265599787, 0.021813198733792737, 0.789637794163297, 0.967489744388286, 0.01697350428751379, 0.008486752143756895, 0.9917280397064284, 0.9942643497758982, 0.00905385908476976, 0.09959244993246735, 0.8872781903074364, 0.9546251194219939, 0.007516733223795227, 0.03006693289518091, 0.984174358170567, 0.04208381216865488, 0.7728118234607533, 0.03188167588534461, 0.014027937389551626, 0.14027937389551626, 0.5345579852565957, 0.20446227085851357, 0.07821297710551572, 0.12501759332613932, 0.05788992006235023, 0.9976905370948227, 0.9704440894721741, 0.9849061823694361, 0.9626537405486588, 0.44006689587152553, 0.06618892336279043, 0.49194470066938834, 0.9228518902132367, 0.07711854235765209, 0.92813784036531, 0.0023232486617404506, 0.061566089536121936, 0.008131370316091577, 0.9347076070874761, 0.011831741861866786, 0.0070990451171200715, 0.044960619075093786, 0.9857176899423328, 0.9683817111363477, 0.6610443048068779, 0.07009731554327966, 0.03016846491736087, 0.2218269479217711, 0.01774615583374169, 0.9960518397711186, 0.9072725776769225, 0.03372760511810121, 0.057336928700772054, 0.9921512039766974, 0.9947109646852557, 0.37557250824796123, 0.20749862334141503, 0.05145965858867093, 0.19338871695419882, 0.17222385737337448, 0.09915373939190822, 0.021555160737371352, 0.04742135362221698, 0.8320292044625343, 0.962367108880176, 0.03262261386034495, 0.055452172293529965, 0.567691613855013, 0.27518140500664245, 0.0048520650756838715, 0.09704130151367743, 0.9922607975744278, 0.9374187363036207, 0.01196704769749303, 0.04786819078997212, 0.003989015899164343, 0.12589853620689323, 0.04196617873563107, 0.833328406321817, 0.9660381123109649, 0.3392511382166635, 0.31900171906705294, 0.09126912109462139, 0.1285397911236147, 0.12208345458315917, 0.9654715613195108, 0.9459802715221183, 0.04227844788925668, 0.01056961197231417, 0.9876814451550874, 0.1084199513193181, 0.8864925431403069, 0.07133374996739701, 0.028533499986958803, 0.8988052495892023, 0.968807776589835, 0.011814728982802865, 0.011814728982802865, 0.17977428752534755, 0.3279666056205665, 0.43364473409830456, 0.017005675846992335, 0.04251418961748084, 0.005114416617235684, 0.1585469151343062, 0.8336499086094163, 0.29762903630678916, 0.19090946153543048, 0.11442709961595679, 0.28873573840917593, 0.10790534782437376, 0.4479084356027719, 0.03432874871408106, 0.008173511598590729, 0.5083924214323433, 0.0016347023197181457, 0.1386161371882179, 0.33644693492285904, 0.4131568360852709, 0.009420514177840053, 0.10362565595624058, 0.043165728469001206, 0.9496460263180265, 0.25705045260206505, 0.1486724239374106, 0.5015957480505161, 0.0013894619059571082, 0.09031502388721203, 0.273609332361722, 0.2474554991212633, 0.010729777739675372, 0.2796448323402894, 0.18911233266177846, 0.9570774539627217, 0.03120904741182788, 0.010403015803942628, 0.8292943733420208, 0.1321801075414138, 0.036213728093538025, 0.1420922737196416, 0.12917479429058326, 0.6910851494546205, 0.02260558900085207, 0.016146849286322908, 0.004290652854605935, 0.9482342808679117, 0.04076120211875638, 0.006435979281908903, 0.9964213701393764, 0.8728347732480638, 0.005421333995329589, 0.11926934789725097, 0.0018071113317765298, 0.97566971052515, 0.3323126041120385, 0.33049558501300547, 0.02543826738646224, 0.18674918517839345, 0.12497053581127085, 0.9781342465631279, 0.07606519848269232, 0.7939839257350693, 0.04016926212007347, 0.04016926212007347, 0.04957057878647365, 0.005094864951002559, 0.8559373117684299, 0.030569189706015354, 0.04245720792502133, 0.06453495604603242, 0.9626064412604992, 0.0150407256446953, 0.9603909078832519, 0.9789377632420152, 0.07828255143192742, 0.5793938839534102, 0.15038490143501845, 0.0020600671429454585, 0.1905562107224549, 0.9227068650532924, 0.010223898781753931, 0.06901131677683904, 0.9626537405486588, 0.9970050185093225, 0.9885706737844477, 0.4328708990388198, 0.21345769894673156, 0.0636298280267056, 0.16299266292555126, 0.1272596560534112, 0.9936973128041693, 0.6141934569183531, 0.11644335676349916, 0.03921667455765516, 0.16833003387055062, 0.0621433458375151, 0.0022296111968010206, 0.05796989111682653, 0.10479172624964796, 0.8338745876035817, 0.06590985320879696, 0.3544209087642855, 0.4476895689654133, 0.001243582136015037, 0.1318197064175939, 0.139839361472764, 0.8582298066857869, 0.023222563747593034, 0.7319752093241324, 0.22665222217650802, 0.014862440798459543, 0.0037156101996148857, 0.059799430243369166, 0.03165852189354838, 0.05276420315591397, 0.8248803760041217, 0.029899715121684583, 0.993228676813087, 0.02592244033039355, 0.9677711056680259, 0.32700993487963065, 0.2302712183665667, 0.10666063615542946, 0.13683980840095794, 0.19926521948417442, 0.006374136502676273, 0.9624946119041172, 0.02549654601070509, 0.9061506201801836, 0.07006319228197296, 0.018683517941859455, 0.9603909078832519, 0.9662871297942149, 0.022232129377029772, 0.308073792795984, 0.04128824027162672, 0.6288516595216993, 0.977302543398038, 0.029364048414534768, 0.03425805648362389, 0.010766817751996081, 0.014682024207267384, 0.9102855008505778, 0.06391520519051411, 0.014749662736272488, 0.9193956438943184, 0.02180808476271119, 0.014538723175140794, 0.9595557295592925, 0.9966706807933352, 0.4133400553651312, 0.24032861666587535, 0.22585856906557394, 0.07675416553203349, 0.04341014280090419, 0.22320736590278445, 0.43283484921851, 0.05011167940576652, 0.1491874425057171, 0.14459705965938735, 0.9904485802597728, 0.9756716404537145, 0.8186093155542217, 0.013365050049864845, 0.0025059468843496584, 0.15787465371402848, 0.007517840653048975, 0.9337503786578937, 0.06404785990794216, 0.2986942242070532, 0.320868031244258, 0.03391288135101914, 0.13597761080168252, 0.21032508145583986, 0.990187812841132, 0.6107396077742382, 0.10037224751721463, 0.2875069462781233, 0.0017012245341900786, 0.028809376061192136, 0.9507094100193404, 0.9919514918431922, 0.06203929799213268, 0.0037599574540686472, 0.9268295124279216, 0.005639936181102971, 0.009197640441531688, 0.9841475272438905, 0.3872589211076307, 0.23102253037395942, 0.013328222906189967, 0.2924804471080576, 0.07700751012465315, 0.1498120622897526, 0.04801668663133096, 0.0019206674652532385, 0.29194145471849225, 0.5089768782921082, 0.9887446296153203, 0.25023909035012737, 0.09114668853812587, 0.4623622927661294, 0.19555107722725185, 0.9398782580865744, 0.02311176044475183, 0.01540784029650122, 0.02311176044475183, 0.25654380454066944, 0.5047401967860894, 0.11853325459254359, 0.0684487808210463, 0.052310450383563835, 0.9608190988310804, 0.02868116712928598, 0.9326915540825659, 0.05665883272464185, 0.004358371748049373, 0.05725579074370214, 0.19779273166006195, 0.015615215657373312, 0.26198861825148556, 0.46845646972119936, 0.01014932079959212, 0.9844841175604355, 0.998343558963724, 0.9842358645905176, 0.9952915126239685, 0.004524052330108948, 0.7989417501545377, 0.004931739198484801, 0.10849826236666561, 0.08630543597348402, 0.9918898674753114, 0.11981518552273564, 0.30048887797765444, 0.5534320474145408, 0.011410970049784346, 0.015214626733045796, 0.3080584008553436, 0.13624369362447655, 0.3228237272579962, 0.06375936401145454, 0.1691301024303847, 0.9883374005974591, 0.3137517932934284, 0.21416970237855765, 0.33421386676908676, 0.036149663140329795, 0.10231036737829187, 0.4687430789372368, 0.14429845024398966, 0.14066830055231697, 0.09120751100327648, 0.15518889931900776, 0.023110409281730224, 0.8531592759838741, 0.10014510688749764, 0.011555204640865112, 0.011555204640865112, 0.16175782491634821, 0.07746149362191324, 0.585517760612697, 0.052400422156000125, 0.12074879888121769, 0.3697722341206134, 0.16371595098469904, 0.21565342509018978, 0.07169629577605786, 0.17952300832115275, 0.9811708531031704, 0.028422212511936978, 0.35685666820543094, 0.32632910661853565, 0.062107797711269695, 0.22737770009549582, 0.0663362575509968, 0.9287076057139552, 0.9614052078730951, 0.03826488389544657, 0.9975144598779406, 0.9937419044661387, 0.006077932137407576, 0.34592321980960006, 0.36517806313873324, 0.04448532769144569, 0.15403874663306566, 0.09029857561248678, 0.21472370200672142, 0.5644701685940886, 0.013596042266801138, 0.11439428665860267, 0.09235932160551118, 0.9867533592066069, 0.8926127278457295, 0.10655061841401726, 0.977441682933438, 0.004803153233088148, 0.016811036315808516, 0.9575719090817209, 0.014641772310118055, 0.0263551901582125, 0.9652674052898458, 0.9933075116753759, 0.3663821156336769, 0.02155188915492217, 0.03879340047885991, 0.5528059568237537, 0.019396700239429954, 0.29067581101781576, 0.40857090819273084, 0.04616732376765581, 0.127009676116169, 0.12760410517755513, 0.9966068317372256, 0.993333769368667, 0.24687911735205487, 0.19108127846225142, 0.07948560068264453, 0.16055038548481182, 0.32215356038263876, 0.08049638842922861, 0.08049638842922861, 0.7915478195540814, 0.0447202157940159, 0.00894404315880318, 0.6569881737509465, 0.0067235631816617335, 0.010565599285468439, 0.2948762709671646, 0.03073628883045364, 0.06678151448480132, 0.9265935134766184, 0.01253838966386375, 0.028211376743693437, 0.018807584495795622, 0.9403792247897812, 0.9953061071655326, 0.9813151589352195, 0.09429014523237127, 0.18159583526234466, 0.6844766098349915, 0.027937820809591486, 0.010476682803596808, 0.2875443096953439, 0.35820428219786365, 0.0664821335113682, 0.1436813322609078, 0.14404462260796444, 0.1982276172514904, 0.3961297375945219, 0.11685339013675708, 0.09927655707997467, 0.18976469763155815, 0.9374892618125075, 0.05807455604148277, 0.9870764871390738, 0.8310250797455951, 0.0981525684738892, 0.07197855021418541, 0.06619805093320824, 0.7421819941165462, 0.12093874689720735, 0.04201030155376676, 0.028006867702511175, 0.38060857840263185, 0.28038079610889355, 0.076584305444959, 0.13954791227051255, 0.12284328188822283, 0.48152564883983695, 0.1759495499398596, 0.09147819521209515, 0.12223043955999095, 0.12845874221272935, 0.9905139467153665, 0.9703900664718866, 0.45126976627998744, 0.2123395740565953, 0.15723148133410322, 0.07707425555593295, 0.10212338861161116, 0.5393934181958516, 0.19614306116212787, 0.03884021013111443, 0.16070136941748595, 0.06505735196961668, 0.9240175483929398, 0.01794208831830951, 0.05382626495492853, 0.9934864022564753, 0.0743704884447717, 0.7277683512095517, 0.10801428083645415, 0.021248710984220487, 0.0708290366140683, 0.9632006467103045, 0.9254339522618474, 0.058066444063488466, 0.018145763769840145, 0.9614222593730612, 0.10714910552631317, 0.8893375758683992, 0.028504487261641023, 0.9596510711419145, 0.0802737884061766, 0.8629432253663986, 0.053515858937451075, 0.9030889659340839, 0.0048553170211509886, 0.09225102340186879, 0.9921197694637841, 0.006200748559148651, 0.9862489697175366, 0.011207374655881099, 0.12351041321947982, 0.04411086186409993, 0.7410624793168789, 0.017644344745639973, 0.07498846516896988, 0.9131013908092177, 0.08644746895235197, 0.9616558781264979, 0.031021157358919287, 0.3324675319634498, 0.3242804299986111, 0.07226007386357634, 0.1281459437974753, 0.14309630390718076, 0.5402779003854574, 0.1726147386467955, 0.09347368518779539, 0.13210947506541748, 0.06106947432269299, 0.004575471012962793, 0.11896224633703263, 0.8784904344888563, 0.7750128868883213, 0.04386865397481064, 0.10398495756992152, 0.0617410685571409, 0.016247649620300238, 0.27006452778203127, 0.460449442928633, 0.1057693973036676, 0.07333344879720954, 0.09025655236579636, 0.3825969906488232, 0.2443613780957633, 0.03210984701035643, 0.22640163315776735, 0.11428928596906524, 0.25538875275871836, 0.31351421569100135, 0.17582952537015603, 0.05412933735568853, 0.20089613125970307, 0.9959133351737703, 0.9603871695266185, 0.984617286107393, 0.9813154573695225, 0.4924717878596662, 0.174277932325184, 0.12478785746629027, 0.13268197983642055, 0.07560140269855542, 0.9934864022564752, 0.9741250075445776, 0.9961133770963037, 0.979707976472912, 0.9078433934138225, 0.050435744078545695, 0.030261446447127416, 0.9840263808252551, 0.012420803345655308, 0.9812434643067693, 0.15708229766882192, 0.17361727637080318, 0.6117942119733064, 0.01102331913465417, 0.046849106322280225, 0.9943911465453628, 0.9647815003122433, 0.018917284319847908, 0.012611522879898605, 0.011210363189863258, 0.9192497815687871, 0.022420726379726516, 0.04484145275945303, 0.9811631772412012, 0.9751396190902324, 0.5321311252875899, 0.11462109794820757, 0.03749288250642304, 0.25468379474005937, 0.06079203092112878, 0.5436374297602322, 0.12043313661355041, 0.0686581433030521, 0.1935934532479502, 0.07316031663439979, 0.9895563956268617, 0.9958297467762754, 0.14895824741027666, 0.2912961282689855, 0.36853373803727707, 0.005516972126306543, 0.18426686901863853, 0.9709608208978883, 0.008149278771390515, 0.03259711508556206, 0.04074639385695258, 0.9208685011671283, 0.0068534459615217725, 0.9868962184591352, 0.01064852257865242, 0.17570062254776495, 0.00532426128932621, 0.809287715977584, 0.17291065254547391, 0.060856821845613716, 0.025115513777554867, 0.07534654133266461, 0.6665270964043407, 0.0019058436282282762, 0.0019058436282282762, 0.0019058436282282762, 0.992944530306932, 0.9884331471066362, 0.9943234313564749, 0.9953900430768454, 0.1995056717904161, 0.4766949679947995, 0.1107874416358284, 0.06664901867334697, 0.14609818000581354, 0.9764325629923781, 0.4719798681368681, 0.1507837385919295, 0.08922114709581627, 0.17844229419163254, 0.10929590519237493, 0.3168700956603782, 0.007921752391509456, 0.6733489532783038, 0.8036294201061464, 0.10142895593572722, 0.09362672855605589, 0.9796789130136345, 0.9919515539044568, 0.9777810022812322, 0.014593746302704958, 0.9932938897576407, 0.06973707856726497, 0.25828547617505543, 0.13172559284927826, 0.03357711190275721, 0.507530960683984, 0.2933057315270243, 0.5471200882621913, 0.06458485252418349, 0.05964843067520131, 0.03496632143029042, 0.08248600918513146, 0.5087853840888198, 0.3839614232865412, 0.012409399611922433, 0.012409399611922433, 0.099556032582964, 0.13440064398700138, 0.6670254183058587, 0.0970671317683899, 0.9872672879321842, 0.010849091076177849, 0.9831236807665026, 0.008548901571882631, 0.9913916313316832, 0.42421060193666943, 0.09326616070948052, 0.37005605700858396, 0.055157406871198154, 0.05816599270053623, 0.993420766098029, 0.4834242349367695, 0.03101615666629716, 0.33903867804193794, 0.11016083229753819, 0.03636376988462425, 0.37042155920957803, 0.005180721107826266, 0.6139154512774125, 0.0077710816617393985, 0.9894962880211948, 0.9733777124409743, 0.019467554248819484, 0.46421617380251257, 0.3167259026962153, 0.07610876169267262, 0.09454504558095979, 0.04821797324628949, 0.9772946233582808, 0.3430422364978646, 0.29924961056196697, 0.01932027614819012, 0.16744239328431437, 0.17087710904399264, 0.5263000921679125, 0.1859448672742005, 0.0320782080970112, 0.15169186540790042, 0.10439010092586695, 0.1219969087559447, 0.11296010069994879, 0.056480050349974394, 0.17169935306392217, 0.5376900793317563, 0.9921996734382339, 0.8853947933745181, 0.11190133752183488, 0.9833697461891682, 0.31428861721671875, 0.100304877835123, 0.5242601614849095, 0.005349593484539893, 0.057508129958803854, 0.99222686264936, 0.9644459479224939, 0.9893112307817051, 0.002740401688875765, 0.93173657421776, 0.00548080337775153, 0.05754843546639106, 0.983105066380152, 0.009102824688705111, 0.9933624106924799, 0.39462888959274695, 0.24845552731062717, 0.030958969491387295, 0.22180730040664823, 0.10424159347732938, 0.06917126484171307, 0.03144148401896049, 0.02515318721516839, 0.8740732557271016, 0.08529536946175185, 0.6256793240896861, 0.07233911080933385, 0.06262191682002036, 0.1543954156079812, 0.991108486437476, 0.9934864022564758, 0.43622798302065446, 0.13787816727611654, 0.03997308210946236, 0.29950845580568175, 0.08631868455521582, 0.012262972069478698, 0.07848302124466366, 0.13979788159205714, 0.04414669945012331, 0.7210627576853473, 0.01622428199318733, 0.9734569195912398, 0.9652710510463982, 0.8902471115196163, 0.07418725929330136, 0.03372148149695516, 0.49797719275254815, 0.21719073686185822, 0.012775925697756365, 0.1717652232698356, 0.10022003936239994, 0.29312868373239054, 0.05719584072827132, 0.5773205173509887, 0.0017873700227584788, 0.06970743088758068, 0.031638758843888136, 0.0035154176493209038, 0.01757708824660452, 0.04218501179185084, 0.9034623358754723, 0.9928314289424562, 0.005337803381411055, 0.9878828779318874, 0.008443443401127243, 0.9711267348110244, 0.9781343078732949, 0.9921799827035155, 0.005627366293147571, 0.0028136831465737856, 0.008441049439721357, 0.0028136831465737856, 0.9791617350076773, 0.9896274799625159, 0.41107699639224543, 0.19924988069897887, 0.07811124891189206, 0.16615189387190596, 0.14496918230257932, 0.4151910069012656, 0.33067276253205863, 0.03661158972675325, 0.14878326888957172, 0.06854935948838907, 0.1411507155404742, 0.20765441805473608, 0.059717610420969854, 0.017643839442559275, 0.5754606095111641, 0.9956293477426362, 0.06873976651354408, 0.10438260840945582, 0.24440805871482338, 0.01782142094795587, 0.5677395530563085, 0.9654763087832036, 0.06457451289801501, 0.06098703995923639, 0.7892440465312945, 0.08251187759190806, 0.026613562168024636, 0.031936274601629566, 0.015968137300814783, 0.6493709168998012, 0.2767810465474562, 0.9935206567596826, 0.9919778945844949, 0.9583334654630558, 0.025314468899024112, 0.010849058099581763, 0.9840181921077681, 0.9934860380125831, 0.30738687251238606, 0.11599504623108908, 0.47325978862284346, 0.08003658189945147, 0.022039058783906926, 0.20935433144098717, 0.7875710563732374, 0.9911916231175398, 0.07090419014780847, 0.2207394598941207, 0.643488970964073, 0.05351259633796865, 0.013378149084492162, 0.9943861182931248, 0.004808862901021964, 0.8062860130713493, 0.07533885211601077, 0.04167681180885702, 0.07373589781567011, 0.962288548840376, 0.9319598965818545, 0.05948680190948007, 0.9631546386451744, 0.9644523068717314, 0.017866260010942353, 0.008933130005471177, 0.008933130005471177, 0.964778040590887, 0.29066439305510644, 0.27091050226495356, 0.06264805364877052, 0.2319671175643665, 0.14392120432825659, 0.773042214606404, 0.05173904585948373, 0.02130431300096389, 0.1521736642925992, 0.001521736642925992, 0.9834553525457582, 0.9935104824751951, 0.09135199264331567, 0.9033697050283439, 0.9764331050227214, 0.06263084540777761, 0.8169240705362296, 0.03267696282144919, 0.04084620352681148, 0.04356928376193225, 0.20614711240742573, 0.43859089519028616, 0.24840961836794578, 0.02676625377499605, 0.08076834472454948, 0.39007946842975466, 0.26401946862261755, 0.05429132735056642, 0.15580867232799542, 0.13572831837641605, 0.15089518435633345, 0.081564964516937, 0.7626324182333609, 0.8835508287986442, 0.038695656735707046, 0.0644927612261784, 0.0032246380613089208, 0.009673914183926761, 0.0013924868259725233, 0.04595206525709327, 0.026457249693477944, 0.9260037392717281, 0.041840806745486625, 0.953970393797095, 0.03188991212600319, 0.03188991212600319, 0.0510238594016051, 0.8801615746776881, 0.10105018477808413, 0.21676894476589012, 0.5215493407901116, 0.016298416899690988, 0.1450559104072498, 0.9855063106490959, 0.9885380901932641, 0.10741356628796063, 0.6761401330547416, 0.07292815816393117, 0.03900808459931202, 0.10458689349090904, 0.006738320371483181, 0.7797199287001966, 0.017327109526671037, 0.19637390796893842, 0.9646425014561678, 0.01439764927546519, 0.01439764927546519, 0.4931663057369606, 0.20073793010869398, 0.05093913639976257, 0.16111860179776755, 0.09395440713733985, 0.9893277125573074, 0.38176370702523893, 0.3351412366097673, 0.03547361879438061, 0.16554355437377619, 0.08209608920985227, 0.37107516045391126, 0.25262722893745077, 0.025910485019225722, 0.1906271397843035, 0.159858438823973, 0.3531747093795147, 0.2878319879193904, 0.08478353115073976, 0.12987540918313956, 0.1441860052053982, 0.40943571948134005, 0.2518559468873273, 0.11519624755148519, 0.12334692544427896, 0.09998164881827017, 0.9720761844696849, 0.020251587176451768, 0.24930733071242006, 0.006155736560800496, 0.06771310216880545, 0.018467209682401488, 0.658663812005653, 0.993280493721781, 0.3106086745643661, 0.44397156022169326, 0.053482288335586214, 0.12822035793275158, 0.06376734378473742, 0.07875537700317495, 0.9169376036798226, 0.07104067619441824, 0.9235287905274372, 0.2931254287024759, 0.28066056136396184, 0.13108215330179304, 0.1218340259216052, 0.17330186525482455, 0.255255003583704, 0.21011165142152055, 0.3031849824225655, 0.06966566691694978, 0.1616243472473235, 0.24445096025473342, 0.46435560255428143, 0.14904929150107452, 0.07566339245979845, 0.066553418785709, 0.9906244104093913, 0.019108049822520193, 0.9745105409485298, 0.9804232036569545, 0.02116021302856736, 0.9932018681102026, 0.3158320853905726, 0.3587728024190446, 0.056943124755147574, 0.1437580526605365, 0.1247770110754873, 0.4309983335846037, 0.248033420672754, 0.09695851899025838, 0.13110337949845569, 0.09277094175812098, 0.16737765374682329, 0.002699639576561666, 0.016197837459369993, 0.8152911521216231, 0.3453976836838764, 0.2683877636974334, 0.07569911283773763, 0.14943201495241712, 0.16122927929076583, 0.023855323646409837, 0.9124661294751762, 0.005963830911602459, 0.05963830911602459, 0.06170288243046212, 0.19282150759519412, 0.001542572060761553, 0.08946917952417006, 0.6525079817021369, 0.0016015983997093287, 0.8880863126388228, 0.0784783215857571, 0.021621578396075935, 0.010410389598110636, 0.9141756867504779, 0.08004303248045659, 0.004212791183181926, 0.987571476138156, 0.9909068909282888, 0.2212513850495649, 0.48637157920378493, 0.17261422712918642, 0.04386880910465511, 0.07565780120947765, 0.3452722606322442, 0.21013496190118142, 0.022640803975884867, 0.27876489895308243, 0.14327383765989643, 0.01257840711274107, 0.9811157547938034, 0.9765664857490834, 0.016009286651624318, 0.9822379934383232, 0.3150266484204471, 0.137359445460344, 0.1318807211399884, 0.10957448640711202, 0.30602588703700573, 0.9906244104093915], \"Term\": [\"accept\", \"accept\", \"accept\", \"accept\", \"accept\", \"adaptec\", \"advancen\", \"advancen\", \"advancen\", \"alink\", \"also\", \"also\", \"also\", \"also\", \"also\", \"anatolia\", \"andn\", \"andn\", \"andn\", \"andn\", \"andn\", \"anonym\", \"anonym\", \"anonym\", \"anonym\", \"antigun\", \"anyon\", \"anyon\", \"anyon\", \"anyon\", \"anyon\", \"app\", \"appressian\", \"april\", \"april\", \"april\", \"april\", \"april\", \"arab\", \"arab\", \"argicn\", \"argument\", \"argument\", \"argument\", \"argument\", \"argument\", \"arm\", \"arm\", \"arm\", \"arm\", \"arm\", \"armenia\", \"armenian\", \"armenian\", \"armsnevernevernevern\", \"array\", \"array\", \"array\", \"articl\", \"articl\", \"articl\", \"articl\", \"articl\", \"assault\", \"assault\", \"atf\", \"athen\", \"athen\", \"avail\", \"avail\", \"avail\", \"avail\", \"avail\", \"basebal\", \"basebal\", \"baseballn\", \"baseballn\", \"bat\", \"bat\", \"bat\", \"bat\", \"batf\", \"bd\", \"beauchain\", \"belief\", \"belief\", \"believ\", \"believ\", \"believ\", \"believ\", \"believ\", \"best\", \"best\", \"best\", \"best\", \"best\", \"bibl\", \"bibl\", \"bike\", \"bike\", \"bio\", \"bio\", \"blue\", \"blue\", \"blue\", \"blue\", \"blue\", \"boston\", \"boston\", \"boston\", \"boston\", \"boston\", \"brake\", \"brake\", \"brake\", \"bruin\", \"buffalo\", \"bullet\", \"bullet\", \"bullet\", \"cach\", \"cach\", \"cach\", \"calgari\", \"card\", \"card\", \"card\", \"card\", \"card\", \"case\", \"case\", \"case\", \"case\", \"case\", \"cathol\", \"censor\", \"chastiti\", \"chatham\", \"children\", \"children\", \"children\", \"christ\", \"christ\", \"christian\", \"christian\", \"christian\", \"christian\", \"church\", \"church\", \"church\", \"church\", \"churchn\", \"cica\", \"claim\", \"claim\", \"claim\", \"claim\", \"claim\", \"clhn\", \"clipper\", \"clipper\", \"clipper\", \"cmo\", \"coach\", \"come\", \"come\", \"come\", \"come\", \"come\", \"compound\", \"compound\", \"compound\", \"compound\", \"compoundn\", \"compoundn\", \"comput\", \"comput\", \"comput\", \"comput\", \"comput\", \"configsi\", \"context\", \"context\", \"context\", \"context\", \"cop\", \"cop\", \"cop\", \"cotekcom\", \"could\", \"could\", \"could\", \"could\", \"could\", \"counterst\", \"cpu\", \"cpu\", \"cpu\", \"cramer\", \"cult\", \"cult\", \"cup\", \"cup\", \"cup\", \"cylind\", \"cylind\", \"cylind\", \"data\", \"data\", \"data\", \"data\", \"data\", \"davidian\", \"davidian\", \"davidian\", \"day\", \"day\", \"day\", \"day\", \"day\", \"death\", \"death\", \"death\", \"death\", \"death\", \"design\", \"design\", \"design\", \"design\", \"design\", \"detroit\", \"detroit\", \"develop\", \"develop\", \"develop\", \"develop\", \"develop\", \"didnt\", \"didnt\", \"didnt\", \"didnt\", \"didnt\", \"diseas\", \"diseas\", \"diseas\", \"disk\", \"disk\", \"disk\", \"distribut\", \"distribut\", \"distribut\", \"distribut\", \"distribut\", \"do\", \"do\", \"do\", \"do\", \"doctrin\", \"dod\", \"dod\", \"dod\", \"dod\", \"dodger\", \"dont\", \"dont\", \"dont\", \"dont\", \"dont\", \"dpaorg\", \"drive\", \"drive\", \"drive\", \"drive\", \"drive\", \"driver\", \"driver\", \"driver\", \"driver\", \"driver\", \"drivesn\", \"drivesn\", \"drydenn\", \"dunn\", \"email\", \"email\", \"email\", \"email\", \"email\", \"encrypt\", \"encrypt\", \"encrypt\", \"englishman\", \"escrow\", \"espn\", \"even\", \"even\", \"even\", \"even\", \"even\", \"exterminationn\", \"fact\", \"fact\", \"fact\", \"fact\", \"fact\", \"fan\", \"fan\", \"fan\", \"fan\", \"fax\", \"fax\", \"fax\", \"fax\", \"fax\", \"fbi\", \"fbi\", \"file\", \"file\", \"file\", \"file\", \"file\", \"fire\", \"fire\", \"fire\", \"fire\", \"fire\", \"firearm\", \"firen\", \"firen\", \"first\", \"first\", \"first\", \"first\", \"first\", \"flight\", \"flight\", \"flight\", \"floppi\", \"floppi\", \"floppi\", \"fredicom\", \"ftpcicaindianaedu\", \"ga\", \"ga\", \"ga\", \"ga\", \"gaedu\", \"game\", \"game\", \"game\", \"game\", \"game\", \"gamen\", \"gamen\", \"gamen\", \"gamesn\", \"gamesn\", \"gamesn\", \"gay\", \"gener\", \"gener\", \"gener\", \"gener\", \"gener\", \"get\", \"get\", \"get\", \"get\", \"get\", \"goali\", \"goaltend\", \"god\", \"god\", \"god\", \"god\", \"god\", \"godn\", \"godn\", \"good\", \"good\", \"good\", \"good\", \"good\", \"gospel\", \"govern\", \"govern\", \"govern\", \"govern\", \"grenad\", \"grenad\", \"gretzki\", \"gun\", \"gun\", \"gun\", \"gun\", \"handgun\", \"handgun\", \"happen\", \"happen\", \"happen\", \"happen\", \"happen\", \"he\", \"he\", \"he\", \"he\", \"he\", \"hebrew\", \"hell\", \"hell\", \"hell\", \"hell\", \"hellon\", \"hellon\", \"hellon\", \"hellon\", \"help\", \"help\", \"help\", \"help\", \"help\", \"highspe\", \"highspe\", \"hin\", \"hin\", \"hin\", \"hit\", \"hit\", \"hit\", \"hit\", \"hit\", \"hitter\", \"hitter\", \"hockey\", \"hockeyn\", \"homosexu\", \"homosexu\", \"human\", \"human\", \"human\", \"human\", \"ide\", \"imag\", \"imag\", \"imag\", \"imag\", \"imag\", \"includ\", \"includ\", \"includ\", \"includ\", \"includ\", \"infect\", \"inform\", \"inform\", \"inform\", \"inform\", \"inform\", \"inn\", \"inn\", \"inn\", \"inn\", \"inn\", \"instal\", \"instal\", \"instal\", \"instal\", \"instal\", \"institut\", \"institut\", \"institut\", \"institut\", \"institut\", \"interest\", \"interest\", \"interest\", \"interest\", \"interest\", \"interfacen\", \"internet\", \"internet\", \"internet\", \"internet\", \"internet\", \"investor\", \"investor\", \"islam\", \"islam\", \"isra\", \"israel\", \"israel\", \"itn\", \"itn\", \"itn\", \"itn\", \"itn\", \"ive\", \"ive\", \"ive\", \"ive\", \"ive\", \"jerusalem\", \"jesu\", \"jesu\", \"jew\", \"jew\", \"jew\", \"jewish\", \"jewish\", \"jewish\", \"jubile\", \"kentn\", \"kill\", \"kill\", \"kill\", \"kill\", \"kill\", \"know\", \"know\", \"know\", \"know\", \"know\", \"koresh\", \"ksand\", \"last\", \"last\", \"last\", \"last\", \"last\", \"launch\", \"launch\", \"launch\", \"launch\", \"launch\", \"law\", \"law\", \"law\", \"law\", \"law\", \"leaf\", \"leaf\", \"leagu\", \"leagu\", \"leagu\", \"leagu\", \"lebanon\", \"lemieux\", \"librari\", \"librari\", \"librari\", \"librari\", \"librari\", \"like\", \"like\", \"like\", \"like\", \"like\", \"look\", \"look\", \"look\", \"look\", \"look\", \"lord\", \"lord\", \"lunar\", \"mac\", \"mac\", \"mac\", \"machin\", \"machin\", \"machin\", \"machin\", \"machin\", \"make\", \"make\", \"make\", \"make\", \"make\", \"mani\", \"mani\", \"mani\", \"mani\", \"mani\", \"mario\", \"maxtor\", \"may\", \"may\", \"may\", \"may\", \"may\", \"mean\", \"mean\", \"mean\", \"mean\", \"mean\", \"meg\", \"meg\", \"meg\", \"melkonian\", \"memori\", \"memori\", \"memori\", \"memori\", \"memori\", \"mfm\", \"mhz\", \"mhz\", \"mhz\", \"microsoftn\", \"mission\", \"mission\", \"montreal\", \"montreal\", \"moon\", \"moon\", \"moon\", \"moral\", \"moral\", \"moral\", \"motherboard\", \"motherboard\", \"motorcycl\", \"motorcycl\", \"mountain\", \"mountain\", \"mountain\", \"mountain\", \"mountain\", \"mous\", \"mous\", \"mswindow\", \"mswindow\", \"much\", \"much\", \"much\", \"much\", \"much\", \"must\", \"must\", \"must\", \"must\", \"must\", \"nasa\", \"nasa\", \"nasa\", \"natur\", \"natur\", \"natur\", \"natur\", \"natur\", \"need\", \"need\", \"need\", \"need\", \"need\", \"never\", \"never\", \"never\", \"never\", \"never\", \"new\", \"new\", \"new\", \"new\", \"new\", \"nhl\", \"ninjait\", \"njxp\", \"norri\", \"ofn\", \"ofn\", \"ofn\", \"ofn\", \"ofn\", \"ohanu\", \"oiler\", \"orbit\", \"orbitn\", \"orontoedu\", \"orontoedu\", \"orontoedu\", \"orthodox\", \"packetn\", \"packetn\", \"page\", \"page\", \"page\", \"page\", \"page\", \"palestinian\", \"passag\", \"passag\", \"passag\", \"patn\", \"patn\", \"patn\", \"patn\", \"payload\", \"pdsgicom\", \"peopl\", \"peopl\", \"peopl\", \"peopl\", \"peopl\", \"person\", \"person\", \"person\", \"person\", \"person\", \"philli\", \"philosoph\", \"phone\", \"phone\", \"phone\", \"phone\", \"phone\", \"pistol\", \"pitch\", \"pitch\", \"pitch\", \"pitch\", \"pitcher\", \"pitcher\", \"pittsburgh\", \"pittsburgh\", \"pittsburgh\", \"pittsburgh\", \"play\", \"play\", \"play\", \"play\", \"play\", \"player\", \"player\", \"player\", \"player\", \"playern\", \"playersn\", \"playoff\", \"pleas\", \"pleas\", \"pleas\", \"pleas\", \"pleas\", \"plnasagovn\", \"point\", \"point\", \"point\", \"point\", \"point\", \"polic\", \"polic\", \"polic\", \"polit\", \"polit\", \"polit\", \"polygon\", \"potvin\", \"powerbook\", \"powerbook\", \"pplecom\", \"price\", \"price\", \"price\", \"price\", \"price\", \"problem\", \"problem\", \"problem\", \"problem\", \"problem\", \"program\", \"program\", \"program\", \"program\", \"program\", \"project\", \"project\", \"project\", \"project\", \"propaganda\", \"propaganda\", \"prophet\", \"prophet\", \"propuls\", \"provid\", \"provid\", \"provid\", \"provid\", \"provid\", \"psalm\", \"public\", \"public\", \"public\", \"public\", \"public\", \"publish\", \"publish\", \"publish\", \"publish\", \"puck\", \"quadra\", \"quadra\", \"question\", \"question\", \"question\", \"question\", \"question\", \"readm\", \"realli\", \"realli\", \"realli\", \"realli\", \"realli\", \"reason\", \"reason\", \"reason\", \"reason\", \"reason\", \"red\", \"red\", \"red\", \"red\", \"red\", \"reinstal\", \"religion\", \"religion\", \"repent\", \"research\", \"research\", \"research\", \"research\", \"research\", \"restart\", \"rethought\", \"revel\", \"ride\", \"ride\", \"ride\", \"ride\", \"rider\", \"rider\", \"rifl\", \"right\", \"right\", \"right\", \"right\", \"right\", \"roger\", \"roger\", \"roger\", \"roger\", \"run\", \"run\", \"run\", \"run\", \"run\", \"sabr\", \"sahak\", \"said\", \"said\", \"said\", \"said\", \"said\", \"sale\", \"sale\", \"sale\", \"sale\", \"sale\", \"salen\", \"salen\", \"sank\", \"satellit\", \"satellit\", \"satellit\", \"say\", \"say\", \"say\", \"say\", \"say\", \"scienc\", \"scienc\", \"scienc\", \"scienc\", \"scienc\", \"score\", \"score\", \"score\", \"score\", \"score\", \"scriptur\", \"scriptur\", \"scsi\", \"scsi\", \"scsin\", \"sdpa\", \"seagat\", \"season\", \"season\", \"season\", \"season\", \"season\", \"seasonn\", \"see\", \"see\", \"see\", \"see\", \"see\", \"seem\", \"seem\", \"seem\", \"seem\", \"seem\", \"sell\", \"sell\", \"sell\", \"sell\", \"sell\", \"serdar\", \"seri\", \"seri\", \"seri\", \"seri\", \"seri\", \"shafer\", \"shoot\", \"shoot\", \"shoot\", \"shoot\", \"shot\", \"shot\", \"shot\", \"shot\", \"shot\", \"shotgun\", \"shuttl\", \"sin\", \"sin\", \"sin\", \"slpittedu\", \"solar\", \"sourc\", \"sourc\", \"sourc\", \"sourc\", \"sourc\", \"soviet\", \"soviet\", \"sox\", \"space\", \"space\", \"space\", \"space\", \"space\", \"spacecraft\", \"speed\", \"speed\", \"speed\", \"speed\", \"speed\", \"speedstar\", \"spencer\", \"spencer\", \"stacker\", \"standoff\", \"stanley\", \"stanley\", \"stanley\", \"stanley\", \"start\", \"start\", \"start\", \"start\", \"start\", \"statement\", \"statement\", \"statement\", \"statement\", \"statement\", \"sternlight\", \"stove\", \"suicid\", \"suicid\", \"svr\", \"switch\", \"switch\", \"switch\", \"switch\", \"switch\", \"system\", \"system\", \"system\", \"system\", \"system\", \"take\", \"take\", \"take\", \"take\", \"take\", \"tank\", \"tank\", \"tank\", \"teach\", \"teach\", \"teach\", \"teach\", \"teach\", \"team\", \"team\", \"team\", \"team\", \"teamn\", \"teamn\", \"tear\", \"tear\", \"tear\", \"tear\", \"technolog\", \"technolog\", \"technolog\", \"technolog\", \"technolog\", \"telescop\", \"testament\", \"thank\", \"thank\", \"thank\", \"thank\", \"thank\", \"thanksn\", \"thanksn\", \"thanksn\", \"thanksn\", \"thanx\", \"thanx\", \"thanx\", \"thatn\", \"thatn\", \"thatn\", \"thatn\", \"thatn\", \"theolog\", \"thing\", \"thing\", \"thing\", \"thing\", \"thing\", \"think\", \"think\", \"think\", \"think\", \"think\", \"time\", \"time\", \"time\", \"time\", \"time\", \"ton\", \"ton\", \"ton\", \"ton\", \"ton\", \"torqu\", \"torqu\", \"trade\", \"trade\", \"trade\", \"trade\", \"trade\", \"tratuscom\", \"tri\", \"tri\", \"tri\", \"tri\", \"tri\", \"turk\", \"turk\", \"turkish\", \"turkish\", \"two\", \"two\", \"two\", \"two\", \"two\", \"univers\", \"univers\", \"univers\", \"univers\", \"univers\", \"use\", \"use\", \"use\", \"use\", \"use\", \"utzoohenryn\", \"veal\", \"veal\", \"vers\", \"vers\", \"waco\", \"want\", \"want\", \"want\", \"want\", \"want\", \"way\", \"way\", \"way\", \"way\", \"way\", \"weapon\", \"weapon\", \"weapon\", \"weapon\", \"well\", \"well\", \"well\", \"well\", \"well\", \"wheel\", \"wheel\", \"wheel\", \"wheel\", \"win\", \"win\", \"win\", \"win\", \"win\", \"window\", \"window\", \"window\", \"window\", \"window\", \"windowsn\", \"windowsn\", \"windowsn\", \"winnipeg\", \"wiretap\", \"work\", \"work\", \"work\", \"work\", \"work\", \"writesn\", \"writesn\", \"writesn\", \"writesn\", \"writesn\", \"wstratuscom\", \"wstratuscom\", \"yamaha\", \"yamaha\", \"yanke\", \"year\", \"year\", \"year\", \"year\", \"year\", \"zoologyn\"]}, \"R\": 30, \"lambda.step\": 0.01, \"plot.opts\": {\"xlab\": \"PC1\", \"ylab\": \"PC2\"}, \"topic.order\": [4, 5, 2, 3, 1]};\n",
              "\n",
              "function LDAvis_load_lib(url, callback){\n",
              "  var s = document.createElement('script');\n",
              "  s.src = url;\n",
              "  s.async = true;\n",
              "  s.onreadystatechange = s.onload = callback;\n",
              "  s.onerror = function(){console.warn(\"failed to load library \" + url);};\n",
              "  document.getElementsByTagName(\"head\")[0].appendChild(s);\n",
              "}\n",
              "\n",
              "if(typeof(LDAvis) !== \"undefined\"){\n",
              "   // already loaded: just create the visualization\n",
              "   !function(LDAvis){\n",
              "       new LDAvis(\"#\" + \"ldavis_el1211401495814056643432366340\", ldavis_el1211401495814056643432366340_data);\n",
              "   }(LDAvis);\n",
              "}else if(typeof define === \"function\" && define.amd){\n",
              "   // require.js is available: use it to load d3/LDAvis\n",
              "   require.config({paths: {d3: \"https://cdnjs.cloudflare.com/ajax/libs/d3/3.5.5/d3.min\"}});\n",
              "   require([\"d3\"], function(d3){\n",
              "      window.d3 = d3;\n",
              "      LDAvis_load_lib(\"https://cdn.rawgit.com/bmabey/pyLDAvis/files/ldavis.v1.0.0.js\", function(){\n",
              "        new LDAvis(\"#\" + \"ldavis_el1211401495814056643432366340\", ldavis_el1211401495814056643432366340_data);\n",
              "      });\n",
              "    });\n",
              "}else{\n",
              "    // require.js not available: dynamically load d3 & LDAvis\n",
              "    LDAvis_load_lib(\"https://cdnjs.cloudflare.com/ajax/libs/d3/3.5.5/d3.min.js\", function(){\n",
              "         LDAvis_load_lib(\"https://cdn.rawgit.com/bmabey/pyLDAvis/files/ldavis.v1.0.0.js\", function(){\n",
              "                 new LDAvis(\"#\" + \"ldavis_el1211401495814056643432366340\", ldavis_el1211401495814056643432366340_data);\n",
              "            })\n",
              "         });\n",
              "}\n",
              "</script>"
            ],
            "text/plain": [
              "PreparedData(topic_coordinates=                x           y  topics  cluster       Freq\n",
              "topic                                                    \n",
              "3      150.222153  -72.269554       1        1  35.896215\n",
              "4       51.163364 -159.968018       2        1  22.568843\n",
              "1      -73.144554   21.523815       3        1  15.536757\n",
              "2      -66.410133 -110.606438       4        1  13.505525\n",
              "0       54.417324   12.443444       5        1  12.492661, topic_info=      Category         Freq     Term        Total  loglift  logprob\n",
              "5174   Default  1021.000000     game  1021.000000  30.0000  30.0000\n",
              "12741  Default   718.000000     team   718.000000  29.0000  29.0000\n",
              "5276   Default  5228.000000      get  5228.000000  28.0000  28.0000\n",
              "14332  Default  1248.000000   window  1248.000000  27.0000  27.0000\n",
              "9645   Default  1035.000000     play  1035.000000  26.0000  26.0000\n",
              "...        ...          ...      ...          ...      ...      ...\n",
              "10408   Topic5   397.933807   realli  2329.159255   0.3131  -6.0974\n",
              "2933    Topic5   415.510481    could  3407.505148  -0.0242  -6.0541\n",
              "14487   Topic5   404.707133  writesn  2826.754742   0.1363  -6.0805\n",
              "4380    Topic5   405.910303     even  3190.327654   0.0183  -6.0775\n",
              "8325    Topic5   402.248151     much  2809.296879   0.1364  -6.0866\n",
              "\n",
              "[487 rows x 6 columns], token_table=       Topic      Freq      Term\n",
              "term                            \n",
              "114        1  0.712902    accept\n",
              "114        2  0.092136    accept\n",
              "114        3  0.073709    accept\n",
              "114        4  0.095591    accept\n",
              "114        5  0.025337    accept\n",
              "...      ...       ...       ...\n",
              "14582      2  0.137359      year\n",
              "14582      3  0.131881      year\n",
              "14582      4  0.109574      year\n",
              "14582      5  0.306026      year\n",
              "14663      3  0.990624  zoologyn\n",
              "\n",
              "[1159 rows x 3 columns], R=30, lambda_step=0.01, plot_opts={'xlab': 'PC1', 'ylab': 'PC2'}, topic_order=[4, 5, 2, 3, 1])"
            ]
          },
          "metadata": {
            "tags": []
          },
          "execution_count": 29
        }
      ]
    },
    {
      "cell_type": "markdown",
      "metadata": {
        "id": "6xKdHYulDhDb",
        "colab_type": "text"
      },
      "source": [
        "# LDA Bigram - binary - lem"
      ]
    },
    {
      "cell_type": "code",
      "metadata": {
        "id": "Cay7efO_DJct",
        "colab_type": "code",
        "colab": {}
      },
      "source": [
        "data_bigram_lem_binary = binary.fit_transform(df.bigram_lem)"
      ],
      "execution_count": 0,
      "outputs": []
    },
    {
      "cell_type": "code",
      "metadata": {
        "id": "zkbxZSFwDJm5",
        "colab_type": "code",
        "outputId": "f6598fe9-4709-4f1f-f677-3ebf3e073559",
        "colab": {
          "base_uri": "https://localhost:8080/",
          "height": 399
        }
      },
      "source": [
        "# Parametri di ricerca\n",
        "search_params = {'n_components': [5,10, 15, 20, 25, 30], 'learning_decay': [.5, .7, .9]}\n",
        "\n",
        "# Inizializzazione Modello\n",
        "lda = LatentDirichletAllocation()\n",
        "\n",
        "# Inizializzazione GridSearchCV\n",
        "model = GridSearchCV(lda, param_grid=search_params)\n",
        "\n",
        "# Grid Search\n",
        "model.fit(data_bigram_lem_binary) "
      ],
      "execution_count": 0,
      "outputs": [
        {
          "output_type": "execute_result",
          "data": {
            "text/plain": [
              "GridSearchCV(cv=None, error_score=nan,\n",
              "             estimator=LatentDirichletAllocation(batch_size=128,\n",
              "                                                 doc_topic_prior=None,\n",
              "                                                 evaluate_every=-1,\n",
              "                                                 learning_decay=0.7,\n",
              "                                                 learning_method='batch',\n",
              "                                                 learning_offset=10.0,\n",
              "                                                 max_doc_update_iter=100,\n",
              "                                                 max_iter=10,\n",
              "                                                 mean_change_tol=0.001,\n",
              "                                                 n_components=10, n_jobs=None,\n",
              "                                                 perp_tol=0.1,\n",
              "                                                 random_state=None,\n",
              "                                                 topic_word_prior=None,\n",
              "                                                 total_samples=1000000.0,\n",
              "                                                 verbose=0),\n",
              "             iid='deprecated', n_jobs=None,\n",
              "             param_grid={'learning_decay': [0.5, 0.7, 0.9],\n",
              "                         'n_components': [5, 10, 15, 20, 25, 30]},\n",
              "             pre_dispatch='2*n_jobs', refit=True, return_train_score=False,\n",
              "             scoring=None, verbose=0)"
            ]
          },
          "metadata": {
            "tags": []
          },
          "execution_count": 31
        }
      ]
    },
    {
      "cell_type": "code",
      "metadata": {
        "id": "wcmLSOtTDlDA",
        "colab_type": "code",
        "outputId": "1bac26d9-9b4d-47e1-ffbd-39147c1fa063",
        "colab": {
          "base_uri": "https://localhost:8080/",
          "height": 72
        }
      },
      "source": [
        "# Stimato il Miglior modello \n",
        "best_lda_model = model.best_estimator_\n",
        "\n",
        "# Parametri del modello\n",
        "print(\"Best Model Params: \", model.best_params_)\n",
        "\n",
        "# Log Likelihood Score\n",
        "print(\"Best Log Likelihood Score: \", model.best_score_)\n",
        "\n",
        "# Perplessità\n",
        "print(\"Model Perplexity: \", best_lda_model.perplexity(data_bigram_lem_binary))"
      ],
      "execution_count": 0,
      "outputs": [
        {
          "output_type": "stream",
          "text": [
            "Best Model Params:  {'learning_decay': 0.7, 'n_components': 5}\n",
            "Best Log Likelihood Score:  -536251.4053388321\n",
            "Model Perplexity:  8058.6651883275945\n"
          ],
          "name": "stdout"
        }
      ]
    },
    {
      "cell_type": "code",
      "metadata": {
        "id": "M3Zhb77kDlVZ",
        "colab_type": "code",
        "outputId": "e63b8ddd-e4b8-4356-b511-77f228f00e6c",
        "colab": {
          "base_uri": "https://localhost:8080/",
          "height": 1000
        }
      },
      "source": [
        "pyLDAvis.enable_notebook()\n",
        "vis = pyLDAvis.sklearn.prepare(best_lda_model, data_bigram_lem_binary, binary, mds='tsne')\n",
        "vis"
      ],
      "execution_count": 0,
      "outputs": [
        {
          "output_type": "stream",
          "text": [
            "/usr/local/lib/python3.6/dist-packages/pyLDAvis/_prepare.py:257: FutureWarning: Sorting because non-concatenation axis is not aligned. A future version\n",
            "of pandas will change to not sort by default.\n",
            "\n",
            "To accept the future behavior, pass 'sort=False'.\n",
            "\n",
            "To retain the current behavior and silence the warning, pass 'sort=True'.\n",
            "\n",
            "  return pd.concat([default_term_info] + list(topic_dfs))\n"
          ],
          "name": "stderr"
        },
        {
          "output_type": "execute_result",
          "data": {
            "text/html": [
              "\n",
              "<link rel=\"stylesheet\" type=\"text/css\" href=\"https://cdn.rawgit.com/bmabey/pyLDAvis/files/ldavis.v1.0.0.css\">\n",
              "\n",
              "\n",
              "<div id=\"ldavis_el1211401495730591121812100379\"></div>\n",
              "<script type=\"text/javascript\">\n",
              "\n",
              "var ldavis_el1211401495730591121812100379_data = {\"mdsDat\": {\"x\": [150.22215270996094, 51.16336441040039, -73.1445541381836, -66.4101333618164, 54.41732406616211], \"y\": [-72.2695541381836, -159.968017578125, 21.523815155029297, -110.60643768310547, 12.44344425201416], \"topics\": [1, 2, 3, 4, 5], \"cluster\": [1, 1, 1, 1, 1], \"Freq\": [32.442079562401574, 22.336497773558627, 16.409912148551882, 14.529485972858176, 14.282024542629742]}, \"tinfo\": {\"Category\": [\"Default\", \"Default\", \"Default\", \"Default\", \"Default\", \"Default\", \"Default\", \"Default\", \"Default\", \"Default\", \"Default\", \"Default\", \"Default\", \"Default\", \"Default\", \"Default\", \"Default\", \"Default\", \"Default\", \"Default\", \"Default\", \"Default\", \"Default\", \"Default\", \"Default\", \"Default\", \"Default\", \"Default\", \"Default\", \"Default\", \"Topic1\", \"Topic1\", \"Topic1\", \"Topic1\", \"Topic1\", \"Topic1\", \"Topic1\", \"Topic1\", \"Topic1\", \"Topic1\", \"Topic1\", \"Topic1\", \"Topic1\", \"Topic1\", \"Topic1\", \"Topic1\", \"Topic1\", \"Topic1\", \"Topic1\", \"Topic1\", \"Topic1\", \"Topic1\", \"Topic1\", \"Topic1\", \"Topic1\", \"Topic1\", \"Topic1\", \"Topic1\", \"Topic1\", \"Topic1\", \"Topic1\", \"Topic1\", \"Topic1\", \"Topic1\", \"Topic1\", \"Topic1\", \"Topic1\", \"Topic1\", \"Topic1\", \"Topic1\", \"Topic1\", \"Topic1\", \"Topic1\", \"Topic1\", \"Topic1\", \"Topic1\", \"Topic1\", \"Topic1\", \"Topic1\", \"Topic1\", \"Topic1\", \"Topic1\", \"Topic1\", \"Topic1\", \"Topic1\", \"Topic1\", \"Topic1\", \"Topic1\", \"Topic1\", \"Topic1\", \"Topic1\", \"Topic1\", \"Topic1\", \"Topic1\", \"Topic1\", \"Topic1\", \"Topic1\", \"Topic1\", \"Topic1\", \"Topic1\", \"Topic1\", \"Topic2\", \"Topic2\", \"Topic2\", \"Topic2\", \"Topic2\", \"Topic2\", \"Topic2\", \"Topic2\", \"Topic2\", \"Topic2\", \"Topic2\", \"Topic2\", \"Topic2\", \"Topic2\", \"Topic2\", \"Topic2\", \"Topic2\", \"Topic2\", \"Topic2\", \"Topic2\", \"Topic2\", \"Topic2\", \"Topic2\", \"Topic2\", \"Topic2\", \"Topic2\", \"Topic2\", \"Topic2\", \"Topic2\", \"Topic2\", \"Topic2\", \"Topic2\", \"Topic2\", \"Topic2\", \"Topic2\", \"Topic2\", \"Topic2\", \"Topic2\", \"Topic2\", \"Topic2\", \"Topic2\", \"Topic2\", \"Topic2\", \"Topic2\", \"Topic2\", \"Topic2\", \"Topic2\", \"Topic2\", \"Topic2\", \"Topic2\", \"Topic2\", \"Topic2\", \"Topic2\", \"Topic2\", \"Topic2\", \"Topic2\", \"Topic2\", \"Topic2\", \"Topic2\", \"Topic2\", \"Topic2\", \"Topic2\", \"Topic2\", \"Topic2\", \"Topic2\", \"Topic2\", \"Topic2\", \"Topic2\", \"Topic2\", \"Topic2\", \"Topic2\", \"Topic2\", \"Topic2\", \"Topic2\", \"Topic3\", \"Topic3\", \"Topic3\", \"Topic3\", \"Topic3\", \"Topic3\", \"Topic3\", \"Topic3\", \"Topic3\", \"Topic3\", \"Topic3\", \"Topic3\", \"Topic3\", \"Topic3\", \"Topic3\", \"Topic3\", \"Topic3\", \"Topic3\", \"Topic3\", \"Topic3\", \"Topic3\", \"Topic3\", \"Topic3\", \"Topic3\", \"Topic3\", \"Topic3\", \"Topic3\", \"Topic3\", \"Topic3\", \"Topic3\", \"Topic3\", \"Topic3\", \"Topic3\", \"Topic3\", \"Topic3\", \"Topic3\", \"Topic3\", \"Topic3\", \"Topic3\", \"Topic3\", \"Topic3\", \"Topic3\", \"Topic3\", \"Topic3\", \"Topic3\", \"Topic3\", \"Topic4\", \"Topic4\", \"Topic4\", \"Topic4\", \"Topic4\", \"Topic4\", \"Topic4\", \"Topic4\", \"Topic4\", \"Topic4\", \"Topic4\", \"Topic4\", \"Topic4\", \"Topic4\", \"Topic4\", \"Topic4\", \"Topic4\", \"Topic4\", \"Topic4\", \"Topic4\", \"Topic4\", \"Topic4\", \"Topic4\", \"Topic4\", \"Topic4\", \"Topic4\", \"Topic4\", \"Topic4\", \"Topic4\", \"Topic4\", \"Topic4\", \"Topic4\", \"Topic4\", \"Topic4\", \"Topic4\", \"Topic4\", \"Topic4\", \"Topic4\", \"Topic4\", \"Topic4\", \"Topic4\", \"Topic4\", \"Topic4\", \"Topic4\", \"Topic4\", \"Topic4\", \"Topic4\", \"Topic4\", \"Topic4\", \"Topic5\", \"Topic5\", \"Topic5\", \"Topic5\", \"Topic5\", \"Topic5\", \"Topic5\", \"Topic5\", \"Topic5\", \"Topic5\", \"Topic5\", \"Topic5\", \"Topic5\", \"Topic5\", \"Topic5\", \"Topic5\", \"Topic5\", \"Topic5\", \"Topic5\", \"Topic5\", \"Topic5\", \"Topic5\", \"Topic5\", \"Topic5\", \"Topic5\", \"Topic5\", \"Topic5\", \"Topic5\", \"Topic5\", \"Topic5\", \"Topic5\", \"Topic5\", \"Topic5\", \"Topic5\", \"Topic5\", \"Topic5\", \"Topic5\", \"Topic5\", \"Topic5\"], \"Freq\": [338.0, 548.0, 232.0, 120.0, 117.0, 116.0, 115.0, 115.0, 115.0, 132.0, 114.0, 114.0, 114.0, 114.0, 114.0, 114.0, 114.0, 114.0, 114.0, 114.0, 114.0, 114.0, 114.0, 114.0, 114.0, 114.0, 114.0, 114.0, 114.0, 345.0, 70.74784220860496, 70.74784220860495, 70.74784220860494, 70.74784220860498, 70.74784220860492, 70.74784220860494, 70.74784220860495, 70.74784220860494, 70.74784220860491, 59.148588336893184, 47.551918602522875, 43.685447010556814, 42.706502344579945, 40.78595648552064, 40.784975277495654, 39.819708143146066, 39.81970814314606, 39.819708143146066, 39.819708143146066, 39.819708143146066, 39.81781207611828, 50.23511914415463, 38.852827291513485, 38.85139712290755, 37.88597459824599, 36.92015495750188, 36.92015495750188, 36.92015495750188, 36.92015495750188, 36.92015495750188, 36.92015495750188, 50.7992208398126, 36.92015495750188, 52.34167308111169, 63.21831941484565, 60.02392070856036, 57.64586729726133, 91.06729876867227, 146.0599867934697, 71.63762747479429, 409.53664900875157, 81.32039450425904, 66.09526005872567, 102.78198492774015, 65.17210682901397, 56.41980906810761, 197.7038099018351, 55.12273046792494, 139.47989351127333, 385.40697822765907, 67.28569327725509, 203.4321066600021, 101.81848925218932, 149.1353206243356, 173.72577941624795, 154.13852189983797, 129.24023569723389, 87.5209945336963, 96.43293445545814, 117.36052327326661, 102.85592525495511, 94.1027023758882, 83.56383065264133, 116.12586936261782, 96.83855235789655, 95.66950044753898, 78.61741155071672, 76.90641410474863, 77.70150953124171, 77.51747792829325, 74.86091952807509, 58.78771388482365, 88.46891410772963, 48.390675946163554, 40.83108140279451, 40.83108140279449, 40.831081402794474, 39.885257804891495, 39.88525780486172, 38.94003339457378, 35.157755733559476, 32.32202848091415, 30.433750454911753, 29.488555744854487, 29.466659363464455, 28.543655969206533, 26.652991259619547, 26.652265592054427, 26.65189373221393, 26.648172351268002, 25.7078532259983, 25.70785322599829, 25.707853225998296, 25.70785322599829, 25.70785322599828, 25.70785322599829, 25.70785322599828, 25.70785322599827, 25.707853225998267, 25.70785322599826, 25.706311097036817, 28.416192276054687, 29.16843079881107, 84.04683697645052, 44.219597274852696, 35.083677942015804, 27.416068825952042, 53.65250657135676, 40.65661885212543, 41.92374435361519, 63.1203092990959, 42.22229354323743, 31.238268864244315, 34.0701221807601, 47.55743747600983, 48.65294383878241, 60.02669346035066, 59.33159945271233, 86.85273597994285, 83.9911839934806, 42.168950880301374, 50.25503610959621, 37.57065406657684, 63.712179470232485, 65.87328532684087, 87.7135003796234, 209.0055830588708, 71.35769654146682, 80.61283897158403, 65.72331082444289, 92.68461640174725, 73.0135305805335, 50.169198448766814, 64.27559421190949, 96.55300698397234, 82.4494987755466, 73.72643871183466, 72.04819312552195, 71.78911236912427, 77.43323489585529, 62.1833008278597, 65.66176411879873, 55.770032394587, 52.2531416752552, 53.02139578935696, 335.88412440512155, 84.76063406418459, 85.63474803497286, 77.24377686177571, 77.24377686177571, 77.24377686177571, 77.24377686177571, 77.24377686177571, 75.36474007533765, 75.36474007533765, 75.36474007533765, 75.36474007533765, 75.35946798928389, 62.20407751548161, 59.38892845414558, 59.38892845414558, 59.388841362818496, 59.38870447371759, 58.44929314201957, 58.44929314201957, 57.509605243229686, 55.62665750721299, 66.65360912328555, 48.10178063612553, 45.288947107660015, 40.59285110584718, 40.59174530361871, 38.70889683360267, 37.775061757010036, 36.834276254430485, 128.58282591981913, 110.25632619694395, 59.30444447228932, 197.09439540520634, 399.36308549252766, 117.11154920300822, 91.25871184725689, 87.17711813200344, 75.80159499450728, 137.83453484532293, 68.77816338505345, 72.36809453078007, 65.94005339164966, 66.64725950549666, 60.177799302978414, 63.01818528814639, 75.49125004650325, 75.49125004650325, 75.49125004650325, 75.49125004650325, 75.49125004650325, 73.60864728126879, 66.07646441982766, 65.1368765342837, 55.72211636520192, 51.95854011033271, 51.958347219562114, 51.018092555733375, 51.01716860012498, 51.016712060720174, 50.07618132370523, 47.250823030418495, 46.31170661825161, 46.31170661825161, 46.31170661825161, 46.31170661825161, 46.31170661825161, 46.31170661825161, 46.31170661825161, 46.31170661825161, 46.31170661825161, 46.31170661825161, 46.31170661825161, 46.31170661825161, 45.37025995752334, 44.428917260507255, 80.77659885752603, 98.79354750898378, 81.9624616734982, 66.58138669735196, 103.0711070989521, 47.02162650182695, 93.13708120073166, 129.9848512389984, 92.0553721960311, 60.495532095377925, 87.77337943978844, 77.01430350792576, 68.4916354970142, 60.04261978263627, 70.17716696002269, 63.81778073319189, 54.03870366553494, 52.60415543112832, 51.56053708518829, 120.06429552678637, 117.20911738386478, 115.30490622150673, 114.35607743990347, 114.35606830011037, 114.35513957456831, 113.40469499589622, 113.40469499589622, 113.40469499589622, 113.40469499589622, 113.40469499589622, 113.40469499589622, 113.40469499589622, 113.40469499589622, 113.40469499589622, 113.40469499589622, 113.40469499589622, 113.40469499589622, 113.40469499589622, 113.40469499589622, 113.40469499589622, 113.40469499589622, 113.40469499589622, 113.40469499589622, 113.40469499589622, 52.5153922221781, 51.563437226157816, 50.6125941476308, 50.61259414763079, 49.66127874518208, 49.661278745182074, 59.84823816776413, 88.19629810048295, 60.21933621121722, 62.54675897263115, 147.61404624686855, 79.86499949520768, 69.62537434861522, 62.97016923097827], \"Term\": [\"thanks advancen\", \"anyone know\", \"please email\", \"serdar argicn\", \"longer exists\", \"way escape\", \"argicn closed\", \"today longer\", \"might serve\", \"please reply\", \"ohanus appressian\", \"turk proceeded\", \"mountain pass\", \"soviet armenia\", \"pass might\", \"exterminationn ohanus\", \"soul sahak\", \"single turkish\", \"serve way\", \"sahak melkonian\", \"proceeded work\", \"turkish soul\", \"road mountain\", \"work exterminationn\", \"exists single\", \"escape turk\", \"closed road\", \"armenia today\", \"appressian soviet\", \"new york\", \"companyn tratuscom\", \"believe speak\", \"write today\", \"speak companyn\", \"investor packetn\", \"special investor\", \"today special\", \"tratuscom write\", \"wstratuscom believe\", \"new testament\", \"david veal\", \"still remember\", \"software engineer\", \"remember way\", \"info service\", \"tkedu still\", \"love anymore\", \"pushed elevator\", \"anymore weird\", \"elevator shaft\", \"holy spirit\", \"pdsgicom jon\", \"god exists\", \"univ tenn\", \"beginning think\", \"div cont\", \"veal univ\", \"groupn tkedu\", \"service groupn\", \"education info\", \"tenn div\", \"livesey writesn\", \"cont education\", \"jon livesey\", \"there nothing\", \"say god\", \"believe thatn\", \"david koresh\", \"dont believe\", \"believe god\", \"dont think\", \"jesus christ\", \"gun control\", \"doesnt mean\", \"two thing\", \"people know\", \"many people\", \"say anything\", \"dont see\", \"dont know\", \"question whether\", \"writesn article\", \"answer question\", \"dont want\", \"year ago\", \"last year\", \"even though\", \"ive never\", \"year old\", \"sound like\", \"united state\", \"make sense\", \"people dont\", \"look like\", \"ive seen\", \"something like\", \"thing like\", \"law enforcement\", \"last night\", \"new york\", \"anyone else\", \"institute technology\", \"public domain\", \"georgia institute\", \"sdpa center\", \"regional study\", \"center regional\", \"adam laskaedu\", \"laskaedu high\", \"high jackedn\", \"atlanta georgia\", \"user interface\", \"available anonymous\", \"andre beck\", \"doesnt want\", \"technology atlanta\", \"troop onn\", \"josh hopkins\", \"armenian border\", \"ill send\", \"border cant\", \"cant box\", \"even explain\", \"onn sdpa\", \"study armenian\", \"explain turkish\", \"dpaorg explain\", \"cambridge turkish\", \"turkish march\", \"explain cambridge\", \"readme file\", \"brian kendig\", \"steve hendricks\", \"anonymous ftp\", \"michael adam\", \"get copy\", \"albert einsteinn\", \"also available\", \"davidian dpaorg\", \"space shuttle\", \"source code\", \"someone el\", \"raise tax\", \"electronic mail\", \"via anonymous\", \"way make\", \"please respond\", \"phone number\", \"clipper chip\", \"email address\", \"david davidian\", \"someone tell\", \"could please\", \"greatly appreciatedn\", \"send email\", \"please send\", \"dont know\", \"thank youn\", \"let know\", \"please let\", \"dont want\", \"make sure\", \"serial number\", \"mailing list\", \"anyone know\", \"look like\", \"anyone else\", \"ive seen\", \"something like\", \"dont think\", \"sound like\", \"year ago\", \"want ton\", \"law enforcement\", \"writesn article\", \"thanks advancen\", \"gordon bank\", \"video card\", \"bank njxp\", \"skepticism chastity\", \"intellect andn\", \"chastity intellect\", \"njxp skepticism\", \"surrender soon\", \"shameful surrender\", \"slpittedu shameful\", \"andn slpittedu\", \"clayton cramer\", \"opinion minen\", \"uunetpyramidoptilinkcramer opinion\", \"cramer uunetpyramidoptilinkcramer\", \"relation people\", \"consent alln\", \"people mutual\", \"mutual consent\", \"minen relation\", \"att bell\", \"local bus\", \"meg ram\", \"looking information\", \"bell lab\", \"disclaimer applyn\", \"nasa ames\", \"reply via\", \"work man\", \"please reply\", \"work fine\", \"run window\", \"please email\", \"anyone know\", \"hard drive\", \"anybody know\", \"like know\", \"state university\", \"dont know\", \"ftp site\", \"ive seen\", \"please send\", \"something like\", \"hard disk\", \"sound like\", \"alink ksand\", \"private activity\", \"ksand private\", \"pplecom alink\", \"activity netn\", \"kentn pplecom\", \"pgp public\", \"cheersn kentn\", \"george bush\", \"opinion employer\", \"michael covington\", \"jake livni\", \"employer opinion\", \"artificial intelligence\", \"university georgia\", \"jimmy carter\", \"standard failed\", \"onycom ten\", \"failed presidentn\", \"carter opinion\", \"livni onycom\", \"year george\", \"replaced jimmy\", \"opinion standard\", \"willn americanoccupied\", \"york replaced\", \"bush willn\", \"americanoccupied new\", \"athens georgia\", \"usa amateur\", \"amateur radio\", \"computer science\", \"public key\", \"ten year\", \"look like\", \"jet propulsion\", \"something like\", \"dont know\", \"last year\", \"apr gmtn\", \"writesn article\", \"new york\", \"anyone else\", \"long time\", \"year ago\", \"ive seen\", \"every day\", \"even though\", \"dont think\", \"serdar argicn\", \"longer exists\", \"way escape\", \"argicn closed\", \"today longer\", \"might serve\", \"exists single\", \"closed road\", \"escape turk\", \"work exterminationn\", \"single turkish\", \"mountain pass\", \"sahak melkonian\", \"appressian soviet\", \"exterminationn ohanus\", \"turk proceeded\", \"pass might\", \"road mountain\", \"soul sahak\", \"turkish soul\", \"soviet armenia\", \"serve way\", \"proceeded work\", \"ohanus appressian\", \"armenia today\", \"care taken\", \"taken ensure\", \"accuracy ofn\", \"ensure accuracy\", \"error omission\", \"information error\", \"ofn information\", \"san jose\", \"red wing\", \"david sternlight\", \"new york\", \"year ago\", \"united state\", \"opinion expressed\"], \"Total\": [338.0, 548.0, 232.0, 120.0, 117.0, 116.0, 115.0, 115.0, 115.0, 132.0, 114.0, 114.0, 114.0, 114.0, 114.0, 114.0, 114.0, 114.0, 114.0, 114.0, 114.0, 114.0, 114.0, 114.0, 114.0, 114.0, 114.0, 114.0, 114.0, 345.0, 71.50491136049672, 71.50491136049672, 71.5049113604967, 71.50491136049678, 71.50491136049672, 71.50491136049673, 71.50491136049676, 71.50491136049673, 71.5049113604967, 59.90661970221363, 48.3083924259799, 44.44229731863867, 43.47546465195132, 41.542728546729144, 41.54270318632254, 40.57621353054135, 40.576213530541345, 40.57621353054135, 40.57621353054135, 40.57621353054135, 40.57616792224058, 51.20456687117101, 39.60968545325215, 39.60965043421066, 38.64315409367905, 37.67664741976499, 37.67664741976499, 37.67664741976499, 37.67664741976499, 37.67664741976499, 37.67664741976499, 52.164784906354186, 37.67664741976499, 54.09171096792328, 66.61443358206053, 63.69889349447542, 61.770695821491266, 104.07125964757316, 179.97641148544173, 80.0219525521826, 606.2348828920103, 93.42074297801348, 73.33299328506028, 125.07549789835768, 73.30537424127522, 62.66675621489077, 304.83834974426946, 61.68422502414208, 221.37991210566253, 912.9899775821864, 82.7690885197055, 442.7208044761337, 163.72742255878018, 311.1156114422758, 413.19330843916987, 342.6919753365691, 262.5398809417289, 147.31584378850837, 184.8029030581338, 292.392204525178, 215.36257681431078, 179.74149471781732, 142.457167403189, 381.89805400377236, 319.12769960205424, 346.4580579479166, 149.99727039544297, 134.9615174714931, 190.44750031952282, 345.4335663302376, 270.61970651092537, 59.551174379648316, 89.79478922097064, 49.153980916212255, 41.59241588019798, 41.59241588019798, 41.59241588019799, 40.64719470580827, 40.6471947058081, 39.70199492701371, 35.92120225905189, 33.085580575319625, 31.195196220899334, 30.250004881299862, 30.250096284414287, 29.30480838758861, 27.4144338481263, 27.414419899663258, 27.41442615735465, 27.414443859947887, 26.469233079177954, 26.469233079177947, 26.469233079177954, 26.469233079177954, 26.469233079177947, 26.469233079177954, 26.46923307917795, 26.46923307917795, 26.469233079177954, 26.469233079177954, 26.469198437802046, 29.304411528511384, 30.257200012709447, 93.52884627044314, 47.25037286446755, 36.873070752922615, 28.360798122150435, 58.63368476091113, 43.49632124652504, 45.36879668331775, 71.80590555391994, 46.36686960295933, 33.07945815420063, 36.858011382847295, 55.727160562322865, 58.61899780959576, 76.48671804832854, 75.5385679144281, 123.98439073727263, 119.07310940153044, 49.161377871570934, 62.32301546908804, 42.56864217105496, 93.40968495947, 101.16878724576205, 161.31376401733024, 912.9899775821864, 142.94530970605265, 188.46948281436866, 133.09780360223687, 311.1156114422758, 192.14188568768864, 73.66757043352654, 144.80035135603555, 548.5242003784247, 381.89805400377236, 270.61970651092537, 319.12769960205424, 346.4580579479166, 606.2348828920103, 292.392204525178, 413.19330843916987, 150.75840594255357, 134.9615174714931, 442.7208044761337, 338.3172465179935, 85.52310644222034, 86.463628115734, 78.0053832286287, 78.0053832286287, 78.0053832286287, 78.0053832286287, 78.0053832286287, 76.12595448570956, 76.12595448570956, 76.12595448570956, 76.12595448570956, 76.12603583198846, 62.97001109606454, 60.15083057609467, 60.15083057609467, 60.150835234058654, 60.15083402252084, 59.21111631683487, 59.21111631683487, 58.271401378099334, 56.3920240230274, 67.67165650158258, 48.87437385692109, 46.055140153283766, 41.356560840868774, 41.356587303521465, 39.47715082305502, 38.537400273877516, 37.597708927517836, 132.54808345744527, 114.66154368285179, 62.05460151267608, 232.2945553609451, 548.5242003784247, 143.03003705993677, 134.67597434124966, 157.98088773457096, 124.53558651341851, 912.9899775821864, 114.9187524869472, 319.12769960205424, 161.31376401733024, 346.4580579479166, 81.8809058513773, 292.392204525178, 76.25256712820385, 76.25256712820385, 76.25256712820385, 76.25256712820385, 76.25256712820385, 74.36997365742697, 66.83961175035394, 65.89830405131615, 56.48538424060448, 52.72015259574309, 52.72016860261848, 51.77884597147697, 51.77886409745784, 51.77885130208171, 50.8375652520969, 48.01371768745206, 47.07236254543404, 47.07236254543404, 47.07236254543404, 47.07236254543404, 47.07236254543404, 47.07236254543404, 47.07236254543404, 47.07236254543404, 47.07236254543404, 47.07236254543404, 47.07236254543404, 47.07236254543404, 46.1310691085107, 45.1897724300693, 85.65872245227852, 150.73622616169794, 119.61257615816174, 92.72081421064738, 381.89805400377236, 48.95982056414986, 346.4580579479166, 912.9899775821864, 342.6919753365691, 102.68946915099201, 442.7208044761337, 345.4335663302376, 270.61970651092537, 163.4515110959352, 413.19330843916987, 319.12769960205424, 123.65481033466736, 262.5398809417289, 606.2348828920103, 120.82296709071719, 117.96883179888707, 116.06606121978362, 115.11467483779386, 115.11467477843368, 115.11466512374082, 114.16329273933853, 114.16329273933853, 114.16329273933853, 114.16329273933853, 114.16329273933853, 114.16329273933853, 114.16329273933853, 114.16329273933853, 114.16329273933853, 114.16329273933853, 114.16329273933853, 114.16329273933853, 114.16329273933853, 114.16329273933853, 114.16329273933853, 114.16329273933853, 114.16329273933853, 114.16329273933853, 114.16329273933853, 53.27483315864314, 52.323451157286605, 51.372068764142256, 51.37206876414224, 50.42068759996192, 50.420687599961916, 62.82249709605185, 106.46641348608495, 68.44811058703803, 73.27996988722812, 345.4335663302376, 413.19330843916987, 215.36257681431078, 161.84971383855398], \"loglift\": [30.0, 29.0, 28.0, 27.0, 26.0, 25.0, 24.0, 23.0, 22.0, 21.0, 20.0, 19.0, 18.0, 17.0, 16.0, 15.0, 14.0, 13.0, 12.0, 11.0, 10.0, 9.0, 8.0, 7.0, 6.0, 5.0, 4.0, 3.0, 2.0, 1.0, 1.1151, 1.1151, 1.1151, 1.1151, 1.1151, 1.1151, 1.1151, 1.1151, 1.1151, 1.113, 1.1099, 1.1085, 1.1079, 1.1073, 1.1073, 1.1069, 1.1069, 1.1069, 1.1069, 1.1069, 1.1068, 1.1066, 1.1064, 1.1064, 1.1059, 1.1054, 1.1054, 1.1054, 1.1054, 1.1054, 1.1054, 1.0992, 1.1054, 1.0928, 1.0734, 1.0663, 1.0566, 0.9922, 0.9169, 1.015, 0.7335, 0.987, 1.0218, 0.9294, 1.0081, 1.0207, 0.6927, 1.0132, 0.6638, 0.2633, 0.9186, 0.3481, 0.6507, 0.3904, 0.2593, 0.3267, 0.417, 0.605, 0.4753, 0.2129, 0.3867, 0.4786, 0.5923, -0.0648, -0.0668, -0.1611, 0.4797, 0.5633, 0.2292, -0.3686, -0.1594, 1.486, 1.4841, 1.4833, 1.4805, 1.4805, 1.4805, 1.48, 1.48, 1.4796, 1.4775, 1.4756, 1.4742, 1.4735, 1.4727, 1.4726, 1.4708, 1.4708, 1.4707, 1.4706, 1.4698, 1.4698, 1.4698, 1.4698, 1.4698, 1.4698, 1.4698, 1.4698, 1.4698, 1.4698, 1.4697, 1.4682, 1.4623, 1.3921, 1.4327, 1.4492, 1.4651, 1.4102, 1.4314, 1.42, 1.37, 1.4053, 1.4417, 1.4203, 1.3404, 1.3126, 1.2566, 1.2574, 1.143, 1.1499, 1.3455, 1.2837, 1.3741, 1.1163, 1.0699, 0.8897, 0.0246, 0.8042, 0.6497, 0.7933, 0.288, 0.5314, 1.1148, 0.6868, -0.2382, -0.034, 0.1986, 0.0107, -0.0751, -0.5589, -0.0491, -0.3405, 0.5045, 0.5501, -0.6233, 1.8001, 1.7983, 1.7977, 1.7975, 1.7975, 1.7975, 1.7975, 1.7975, 1.7972, 1.7972, 1.7972, 1.7972, 1.7972, 1.795, 1.7945, 1.7945, 1.7945, 1.7945, 1.7943, 1.7943, 1.7941, 1.7936, 1.7921, 1.7914, 1.7905, 1.7886, 1.7886, 1.7876, 1.7873, 1.7868, 1.7769, 1.7681, 1.762, 1.643, 1.4899, 1.6074, 1.4181, 1.2128, 1.3108, -0.0834, 1.2939, 0.3235, 0.9127, 0.1589, 1.4993, 0.2726, 1.919, 1.919, 1.919, 1.919, 1.919, 1.9187, 1.9175, 1.9174, 1.9154, 1.9144, 1.9144, 1.9142, 1.9142, 1.9142, 1.9139, 1.913, 1.9127, 1.9127, 1.9127, 1.9127, 1.9127, 1.9127, 1.9127, 1.9127, 1.9127, 1.9127, 1.9127, 1.9127, 1.9124, 1.912, 1.8703, 1.5065, 1.551, 1.5978, 0.6193, 1.8886, 0.6153, -0.0203, 0.6145, 1.3999, 0.3108, 0.4282, 0.555, 0.9275, 0.1561, 0.3194, 1.1012, 0.3214, -0.5355, 1.9399, 1.9397, 1.9396, 1.9396, 1.9396, 1.9395, 1.9395, 1.9395, 1.9395, 1.9395, 1.9395, 1.9395, 1.9395, 1.9395, 1.9395, 1.9395, 1.9395, 1.9395, 1.9395, 1.9395, 1.9395, 1.9395, 1.9395, 1.9395, 1.9395, 1.9318, 1.9315, 1.9313, 1.9313, 1.931, 1.931, 1.8977, 1.7579, 1.8181, 1.7878, 1.096, 0.3026, 0.817, 1.0022], \"logprob\": [30.0, 29.0, 28.0, 27.0, 26.0, 25.0, 24.0, 23.0, 22.0, 21.0, 20.0, 19.0, 18.0, 17.0, 16.0, 15.0, 14.0, 13.0, 12.0, 11.0, 10.0, 9.0, 8.0, 7.0, 6.0, 5.0, 4.0, 3.0, 2.0, 1.0, -6.9687, -6.9687, -6.9687, -6.9687, -6.9687, -6.9687, -6.9687, -6.9687, -6.9687, -7.1478, -7.366, -7.4508, -7.4735, -7.5195, -7.5195, -7.5435, -7.5435, -7.5435, -7.5435, -7.5435, -7.5435, -7.3111, -7.568, -7.5681, -7.5932, -7.6191, -7.6191, -7.6191, -7.6191, -7.6191, -7.6191, -7.2999, -7.6191, -7.27, -7.0812, -7.1331, -7.1735, -6.7162, -6.2438, -6.9562, -5.2128, -6.8294, -7.0367, -6.5952, -7.0508, -7.195, -5.9411, -7.2183, -6.2899, -5.2735, -7.0189, -5.9125, -6.6046, -6.223, -6.0703, -6.19, -6.3662, -6.7559, -6.659, -6.4626, -6.5945, -6.6834, -6.8022, -6.4732, -6.6548, -6.6669, -6.8632, -6.8852, -6.875, -6.8773, -6.9122, -6.7807, -6.3719, -6.9753, -7.1451, -7.1451, -7.1451, -7.1686, -7.1686, -7.1926, -7.2947, -7.3788, -7.439, -7.4706, -7.4713, -7.5032, -7.5717, -7.5717, -7.5717, -7.5719, -7.6078, -7.6078, -7.6078, -7.6078, -7.6078, -7.6078, -7.6078, -7.6078, -7.6078, -7.6078, -7.6079, -7.5076, -7.4815, -6.4232, -7.0654, -7.2969, -7.5435, -6.8721, -7.1494, -7.1187, -6.7095, -7.1116, -7.4129, -7.3262, -6.9927, -6.9699, -6.7598, -6.7714, -6.3904, -6.4239, -7.1129, -6.9375, -7.2284, -6.7002, -6.6669, -6.3805, -5.5122, -6.5869, -6.4649, -6.6691, -6.3254, -6.5639, -6.9392, -6.6914, -6.2845, -6.4424, -6.5542, -6.5773, -6.5809, -6.5052, -6.7245, -6.6701, -6.8334, -6.8985, -6.8839, -4.7295, -6.1064, -6.0962, -6.1993, -6.1993, -6.1993, -6.1993, -6.1993, -6.2239, -6.2239, -6.2239, -6.2239, -6.224, -6.4158, -6.4621, -6.4621, -6.4621, -6.4622, -6.4781, -6.4781, -6.4943, -6.5276, -6.3467, -6.6729, -6.7332, -6.8427, -6.8427, -6.8902, -6.9146, -6.9398, -5.6897, -5.8434, -6.4636, -5.2626, -4.5564, -5.7831, -6.0326, -6.0783, -6.2181, -5.6202, -6.3154, -6.2645, -6.3575, -6.3468, -6.449, -6.4028, -6.1005, -6.1005, -6.1005, -6.1005, -6.1005, -6.1258, -6.2337, -6.2481, -6.4042, -6.4741, -6.4741, -6.4924, -6.4924, -6.4924, -6.511, -6.5691, -6.5892, -6.5892, -6.5892, -6.5892, -6.5892, -6.5892, -6.5892, -6.5892, -6.5892, -6.5892, -6.5892, -6.5892, -6.6097, -6.6307, -6.0329, -5.8315, -6.0183, -6.2261, -5.7891, -6.5739, -5.8905, -5.5571, -5.9022, -6.322, -5.9498, -6.0806, -6.1978, -6.3295, -6.1735, -6.2685, -6.4348, -6.4618, -6.4818, -5.6193, -5.6434, -5.6598, -5.6681, -5.6681, -5.6681, -5.6764, -5.6764, -5.6764, -5.6764, -5.6764, -5.6764, -5.6764, -5.6764, -5.6764, -5.6764, -5.6764, -5.6764, -5.6764, -5.6764, -5.6764, -5.6764, -5.6764, -5.6764, -5.6764, -6.4463, -6.4646, -6.4832, -6.4832, -6.5021, -6.5021, -6.3156, -5.9278, -6.3094, -6.2715, -5.4128, -6.027, -6.1642, -6.2647]}, \"token.table\": {\"Topic\": [5, 4, 2, 2, 4, 2, 5, 3, 4, 4, 3, 2, 2, 3, 4, 1, 2, 3, 4, 5, 1, 2, 3, 4, 1, 1, 2, 3, 4, 5, 2, 3, 4, 5, 5, 2, 3, 4, 5, 5, 5, 2, 4, 4, 2, 3, 2, 3, 1, 1, 4, 5, 1, 1, 2, 5, 3, 2, 2, 4, 2, 2, 5, 4, 2, 3, 4, 3, 1, 2, 3, 4, 5, 5, 1, 2, 3, 4, 3, 1, 2, 5, 3, 2, 4, 5, 1, 2, 4, 5, 1, 2, 3, 4, 5, 1, 2, 5, 3, 1, 1, 2, 3, 4, 2, 1, 2, 3, 5, 1, 2, 3, 4, 5, 1, 2, 3, 4, 5, 1, 2, 3, 4, 5, 1, 2, 3, 4, 5, 2, 1, 2, 4, 1, 1, 2, 3, 5, 4, 5, 5, 5, 2, 1, 2, 3, 4, 5, 1, 2, 3, 4, 5, 5, 2, 2, 5, 4, 2, 3, 4, 2, 2, 5, 1, 3, 2, 3, 1, 1, 5, 2, 3, 4, 5, 2, 3, 5, 2, 1, 2, 1, 5, 2, 3, 1, 1, 2, 3, 4, 5, 1, 2, 3, 4, 5, 4, 1, 3, 4, 2, 4, 4, 1, 5, 2, 4, 4, 2, 1, 3, 4, 5, 1, 2, 3, 4, 5, 1, 2, 4, 5, 1, 2, 3, 4, 5, 1, 2, 3, 4, 5, 1, 5, 4, 3, 1, 2, 3, 4, 5, 5, 1, 2, 3, 4, 5, 3, 1, 2, 3, 4, 5, 1, 2, 3, 4, 5, 1, 2, 3, 4, 5, 1, 2, 3, 4, 5, 3, 2, 3, 4, 5, 3, 5, 3, 3, 1, 1, 2, 3, 4, 5, 3, 1, 5, 5, 2, 4, 4, 1, 2, 3, 4, 5, 3, 4, 5, 1, 1, 2, 3, 5, 1, 2, 3, 4, 5, 3, 4, 2, 3, 4, 2, 3, 4, 5, 1, 2, 3, 4, 3, 5, 2, 3, 5, 1, 2, 3, 4, 5, 4, 4, 5, 2, 2, 3, 4, 1, 1, 2, 3, 5, 2, 3, 2, 2, 5, 2, 3, 1, 4, 3, 5, 3, 5, 5, 1, 3, 4, 5, 1, 4, 1, 2, 4, 2, 1, 2, 3, 5, 5, 2, 3, 4, 5, 5, 1, 3, 5, 3, 3, 1, 1, 2, 4, 2, 3, 4, 1, 2, 3, 4, 5, 5, 1, 2, 3, 4, 5, 2, 4, 5, 2, 4, 1, 1, 4, 1, 2, 3, 4, 5, 1, 2, 1, 2, 3, 5, 2, 1, 2, 4, 1, 1, 2, 3, 4, 2, 3, 4, 5, 1, 3, 5, 1, 2, 3, 4, 5, 1, 5, 1, 1, 2, 5, 2, 5, 1, 4, 5, 1, 2, 4, 5, 1, 4, 4, 2, 3, 1, 2, 3, 3, 1, 2, 3, 4, 5, 5, 1, 2, 3, 4, 4, 5, 3, 4, 3, 1, 1, 2, 3, 4, 5, 1, 1, 2, 3, 4, 5, 4, 1, 2, 3, 4, 5, 4], \"Freq\": [0.992757372379717, 0.9835734431589969, 0.9840777522165438, 0.9520183417868053, 0.9835734431589969, 0.920972308327444, 0.06822017098721807, 0.04669693739862215, 0.9456129823220986, 0.9772188501395273, 0.9852093219281616, 0.9586775312531405, 0.8981186377207089, 0.08553510835435323, 0.010691888544294153, 0.6229866592041461, 0.14658509628332847, 0.0488616987611095, 0.16490823331874455, 0.012215424690277374, 0.04455137621500965, 0.09652798179918758, 0.6756958725943131, 0.1782055048600386, 0.9857992286513466, 0.27714167961737896, 0.27344645722248057, 0.14411367340103706, 0.2512751228530902, 0.05542833592347579, 0.17683814120339647, 0.7274063746407752, 0.09297675465333216, 0.0036461472413071437, 0.9898102734125355, 0.058428581329773466, 0.253190519095685, 0.5842858132977347, 0.09738096888295578, 0.9903168311132832, 0.9898102734125355, 0.9848829169366556, 0.9849581193383794, 0.9754814026561974, 0.9743549157289202, 0.9930482363451377, 0.9616865297965779, 0.9871113609469492, 0.9833565838823635, 0.8997531015385878, 0.07497942512821565, 0.024993141709405215, 0.9929387876875873, 0.9389565590715045, 0.04856671857266403, 0.01618890619088801, 0.9913783730170228, 0.9822725094537372, 0.9554875371838717, 0.9772188501395273, 0.9822725094537373, 0.9822725094537375, 0.9948412197214258, 0.9772188501395273, 0.9857566369334165, 0.9871113609469492, 0.9863683282256154, 0.9852082691594024, 0.0645242514192959, 0.7017012341848428, 0.04839318856447192, 0.10485190855635582, 0.08872084570153185, 0.9898102734125355, 0.9929387876875873, 0.2388277915448277, 0.10614568513103453, 0.6567764267482762, 0.9808675300812959, 0.9820406679971737, 0.8926758774053295, 0.09396588183213996, 0.9808675862814763, 0.8543291872274349, 0.06102351337338821, 0.06102351337338821, 0.87440087021299, 0.03843520308628527, 0.06726160540099924, 0.019217601543142636, 0.0682314690862263, 0.040938881451735784, 0.027292587634490523, 0.013646293817245261, 0.8597165104864515, 0.9936161728740521, 0.9426084511290831, 0.045980900055077226, 0.9913777386682218, 0.9820406679971737, 0.823502618264232, 0.06396136840887238, 0.05596619735776334, 0.05596619735776334, 0.9586746345313826, 0.8112174189660956, 0.1000131064478748, 0.0444502695323888, 0.0444502695323888, 0.42169137608670265, 0.2289181755899243, 0.15115171402588304, 0.14238929582148402, 0.05586041605304373, 0.6278799132129776, 0.14454789368931859, 0.0767910685224505, 0.06775682516686808, 0.08582531187803291, 0.6763055237668236, 0.12701347641474492, 0.052784821367166716, 0.08577533472164592, 0.05938292403806256, 0.47892164365929085, 0.29892424738465806, 0.16392620017868345, 0.03857087063027846, 0.01928543531513923, 0.9822725094537373, 0.9820406679971737, 0.9224588827335016, 0.05426228721961774, 0.9857992286513466, 0.01679640357131964, 0.7054489499954248, 0.18476043928451602, 0.09238021964225801, 0.9849578759396523, 0.9927573723797173, 0.9916564485732591, 0.9898102734125355, 0.9822725094537372, 0.491353921306271, 0.12950413429777685, 0.10284151841294044, 0.20187409169947568, 0.07617890252810403, 0.38009034887357934, 0.06469622959550286, 0.08087028699437858, 0.4366995497696443, 0.03234811479775143, 0.9898102734125355, 0.9822725094537372, 0.9822725094537372, 0.9898102734125355, 0.9772188501395273, 0.4002827998435226, 0.6004241997652839, 0.991406905571591, 0.9765231443170528, 0.9492022032698714, 0.027120062950567753, 0.9846076673855008, 0.9938834490001395, 0.6851537935040599, 0.31046031268152713, 0.9820406679971737, 0.9000041733390666, 0.08181856121264242, 0.17098003318883054, 0.7327715708092737, 0.061064297567439474, 0.02442571902697579, 0.1328392300705204, 0.8180099956974151, 0.04194923054858539, 0.9823183966371407, 0.9858003367063953, 0.9848822809587108, 0.9869362572799254, 0.9916564485732592, 0.990744525437324, 0.9871113609469492, 0.9929387876875873, 0.5973559783992806, 0.08145763341808371, 0.040728816709041854, 0.2647373086087721, 0.020364408354520927, 0.30395355878213337, 0.22561501270426396, 0.22561501270426396, 0.20054667795934575, 0.043869585803606885, 0.9849582207392956, 0.8670451274302464, 0.06422556499483308, 0.06422556499483308, 0.020424911457543944, 0.9599708385045653, 0.9788869153175993, 0.9613302864617524, 0.01848712089349524, 0.9848831417487572, 0.9950252280694465, 0.9835734431589969, 0.9840777522165479, 0.40956168954244976, 0.23103479922907422, 0.24678717190378383, 0.11551739961453711, 0.4493831518778679, 0.10213253451769726, 0.0116722896591654, 0.2684626621608042, 0.16633012764310695, 0.57053300409329, 0.38529501575131275, 0.029638078134716365, 0.014819039067358182, 0.18040055871266966, 0.42977780163900714, 0.31304802835433854, 0.0583648866423343, 0.015917696357000265, 0.20888602712148585, 0.06962867570716195, 0.5506995260475536, 0.1519171106338079, 0.018989638829225986, 0.9776710493785186, 0.01917002057604938, 0.9772188501395273, 0.9900747737486393, 0.30590111810378623, 0.21413078267265037, 0.0489441788966058, 0.3670813417245435, 0.06118022362075725, 0.991787391770237, 0.3037459834735219, 0.2147169883174896, 0.1544914915942913, 0.26970548532562716, 0.05498849700813758, 0.9770896332141867, 0.9857992286513468, 0.441987877796212, 0.17955757535471112, 0.013812121181131625, 0.35911515070942224, 0.5229732853149686, 0.2559230970690272, 0.05007191029611402, 0.09458027500377092, 0.07788963823839958, 0.3330871859144076, 0.37992757143362116, 0.13011218199781546, 0.11970320743799023, 0.03643141095938833, 0.649524576438966, 0.16074093053287541, 0.08201067884330379, 0.05248683445971442, 0.05576726161344658, 0.9821097686186057, 0.9312095827520582, 0.04232770830691174, 0.9863397894637479, 0.9903169146820465, 0.9953424600802318, 0.9898102734125355, 0.9795457949086069, 0.9879132406187642, 0.984866118189938, 0.22580318649586964, 0.11290159324793482, 0.011579650589531776, 0.2229082738484867, 0.4284470718126757, 0.9871113609469492, 0.03183572911694547, 0.9550718735083641, 0.9898102734125355, 0.9822725094537372, 0.9772188501395273, 0.9863400889359103, 0.24714285278193465, 0.2224285675037412, 0.1297499977105157, 0.012357142639096734, 0.38924999313154707, 0.9845956657910584, 0.9772188501395273, 0.9898102734125355, 0.9764754016140462, 0.5896509212643491, 0.08423584589490701, 0.2948254606321746, 0.02807861529830234, 0.8936157443345276, 0.01595742400597371, 0.04787227201792112, 0.03191484801194742, 0.01595742400597371, 0.9795457949086069, 0.9874384107213267, 0.7810579632226629, 0.17209751732024775, 0.02647654112619196, 0.09470734243347137, 0.8480612026997209, 0.043048792015214256, 0.012914637604564277, 0.05259290394392621, 0.4958759514713043, 0.41322995955942027, 0.037566359959947296, 0.9732317256885544, 0.02263329594624545, 0.7844499219078622, 0.19611248047696556, 0.013074165365131037, 0.018597297126348774, 0.5455207157062307, 0.40914053677967305, 0.012398198084232516, 0.018597297126348774, 0.9835734431589969, 0.9835734431589969, 0.9898102734125355, 0.980012323247912, 0.175566823109236, 0.1337651985594179, 0.6855466426170167, 0.9857992286513466, 0.809480945100039, 0.1691452721104559, 0.01208180515074685, 0.01208180515074685, 0.9371374783556856, 0.03023024123728018, 0.982273794995924, 0.11687685651786207, 0.8765764238839656, 0.9857566369334168, 0.9808675103249933, 0.9869356547892935, 0.9772188501395273, 0.9860550979033791, 0.9898102734125355, 0.950775584111162, 0.03222968081732753, 0.9898102734125355, 0.03757053392732907, 0.06574843437282588, 0.06574843437282588, 0.8265517464012396, 0.8916380156915971, 0.0972696017118106, 0.9419315895213121, 0.015698859825355203, 0.03139771965071041, 0.9857566369334168, 0.029653414671387886, 0.6523751227705336, 0.19768943114258591, 0.11861365868555154, 0.9931886535272778, 0.678724704856626, 0.10859595277706015, 0.1493194350684577, 0.054297976388530074, 0.9898102734125355, 0.9820406679971737, 0.9852093219281616, 0.9898102734125355, 0.9871113609469492, 0.9852093219281616, 0.9890636096529912, 0.06470137030360418, 0.9058191842504584, 0.021567123434534725, 0.8022718352708686, 0.16045436705417374, 0.016045436705417374, 0.2770898173608991, 0.20781736302067433, 0.19338560169979416, 0.268430760568371, 0.05484069301934461, 0.9898102734125355, 0.40014746696136727, 0.21204395685132282, 0.21546402067150544, 0.10602197842566141, 0.0649812125834699, 0.8773651625727709, 0.11141144921558994, 0.9898102734125355, 0.9257463955495107, 0.06612474253925077, 0.9929387876875865, 0.992938787687587, 0.9772188501395273, 0.008029833303047492, 0.008029833303047492, 0.6102673310316094, 0.0883281663335224, 0.2890739989097097, 0.033049984783124445, 0.9584495587106089, 0.9900478295379843, 0.9822725094537375, 0.9852093219281616, 0.9938182373270009, 0.9895986903051137, 0.18334610351219116, 0.0970655842123365, 0.7225993491362829, 0.9820406679971737, 0.15390501475872115, 0.49669345672132736, 0.2798272995613112, 0.06296114240129502, 0.0029558055650196202, 0.9931506698465924, 0.0029558055650196202, 0.0029558055650196202, 0.945740984532909, 0.015011761659252524, 0.03002352331850505, 0.5266762507859615, 0.2466711554313997, 0.020000363953897274, 0.2000036395389727, 0.006666787984632424, 0.9857992286513466, 0.9903168316239511, 0.9929387876875867, 0.992938787687587, 0.984882640640247, 0.9898102734125355, 0.9822725094537372, 0.9898102734125355, 0.88670170056101, 0.027283129248031078, 0.08184938774409324, 0.4782632225319644, 0.16715996127330796, 0.03250332580314321, 0.3250332580314321, 0.9846085378808568, 0.9835246781008586, 0.9736716436908273, 0.9671887101135103, 0.9808675862814763, 0.9820406679971737, 0.8613394171827373, 0.14355656953045623, 0.9946378827046973, 0.4444196632427271, 0.37145524091929427, 0.05306503441704204, 0.08623068092769332, 0.046431905114911784, 0.9908150478393084, 0.05117794762961486, 0.835906477950376, 0.10235589525922972, 0.017059315876538285, 0.9772188501395273, 0.9898102734125355, 0.9593451864232232, 0.03488527950629903, 0.9841025172924733, 0.9929387876875875, 0.4585282596787099, 0.11971427469444151, 0.11293799499475614, 0.1987708711907708, 0.11067923509486102, 0.9929387876875875, 0.42111040146628176, 0.1597315315906586, 0.05808419330569403, 0.16941223047494092, 0.19361397768564678, 0.9772188501395273, 0.5194723589910333, 0.01623351121846979, 0.021644681624626384, 0.12986808974775832, 0.3138478835570826, 0.9772188501395273], \"Term\": [\"accuracy ofn\", \"activity netn\", \"adam laskaedu\", \"albert einsteinn\", \"alink ksand\", \"also available\", \"also available\", \"amateur radio\", \"amateur radio\", \"americanoccupied new\", \"andn slpittedu\", \"andre beck\", \"anonymous ftp\", \"anonymous ftp\", \"anonymous ftp\", \"answer question\", \"answer question\", \"answer question\", \"answer question\", \"answer question\", \"anybody know\", \"anybody know\", \"anybody know\", \"anybody know\", \"anymore weird\", \"anyone else\", \"anyone else\", \"anyone else\", \"anyone else\", \"anyone else\", \"anyone know\", \"anyone know\", \"anyone know\", \"anyone know\", \"appressian soviet\", \"apr gmtn\", \"apr gmtn\", \"apr gmtn\", \"apr gmtn\", \"argicn closed\", \"armenia today\", \"armenian border\", \"artificial intelligence\", \"athens georgia\", \"atlanta georgia\", \"att bell\", \"available anonymous\", \"bank njxp\", \"beginning think\", \"believe god\", \"believe god\", \"believe god\", \"believe speak\", \"believe thatn\", \"believe thatn\", \"believe thatn\", \"bell lab\", \"border cant\", \"brian kendig\", \"bush willn\", \"cambridge turkish\", \"cant box\", \"care taken\", \"carter opinion\", \"center regional\", \"chastity intellect\", \"cheersn kentn\", \"clayton cramer\", \"clipper chip\", \"clipper chip\", \"clipper chip\", \"clipper chip\", \"clipper chip\", \"closed road\", \"companyn tratuscom\", \"computer science\", \"computer science\", \"computer science\", \"consent alln\", \"cont education\", \"could please\", \"could please\", \"cramer uunetpyramidoptilinkcramer\", \"david davidian\", \"david davidian\", \"david davidian\", \"david koresh\", \"david koresh\", \"david koresh\", \"david koresh\", \"david sternlight\", \"david sternlight\", \"david sternlight\", \"david sternlight\", \"david sternlight\", \"david veal\", \"davidian dpaorg\", \"davidian dpaorg\", \"disclaimer applyn\", \"div cont\", \"doesnt mean\", \"doesnt mean\", \"doesnt mean\", \"doesnt mean\", \"doesnt want\", \"dont believe\", \"dont believe\", \"dont believe\", \"dont believe\", \"dont know\", \"dont know\", \"dont know\", \"dont know\", \"dont know\", \"dont see\", \"dont see\", \"dont see\", \"dont see\", \"dont see\", \"dont think\", \"dont think\", \"dont think\", \"dont think\", \"dont think\", \"dont want\", \"dont want\", \"dont want\", \"dont want\", \"dont want\", \"dpaorg explain\", \"education info\", \"electronic mail\", \"electronic mail\", \"elevator shaft\", \"email address\", \"email address\", \"email address\", \"email address\", \"employer opinion\", \"ensure accuracy\", \"error omission\", \"escape turk\", \"even explain\", \"even though\", \"even though\", \"even though\", \"even though\", \"even though\", \"every day\", \"every day\", \"every day\", \"every day\", \"every day\", \"exists single\", \"explain cambridge\", \"explain turkish\", \"exterminationn ohanus\", \"failed presidentn\", \"ftp site\", \"ftp site\", \"george bush\", \"georgia institute\", \"get copy\", \"get copy\", \"god exists\", \"gordon bank\", \"greatly appreciatedn\", \"greatly appreciatedn\", \"groupn tkedu\", \"gun control\", \"gun control\", \"hard disk\", \"hard disk\", \"hard disk\", \"hard disk\", \"hard drive\", \"hard drive\", \"hard drive\", \"high jackedn\", \"holy spirit\", \"ill send\", \"info service\", \"information error\", \"institute technology\", \"intellect andn\", \"investor packetn\", \"ive never\", \"ive never\", \"ive never\", \"ive never\", \"ive never\", \"ive seen\", \"ive seen\", \"ive seen\", \"ive seen\", \"ive seen\", \"jake livni\", \"jesus christ\", \"jesus christ\", \"jesus christ\", \"jet propulsion\", \"jet propulsion\", \"jimmy carter\", \"jon livesey\", \"jon livesey\", \"josh hopkins\", \"kentn pplecom\", \"ksand private\", \"laskaedu high\", \"last night\", \"last night\", \"last night\", \"last night\", \"last year\", \"last year\", \"last year\", \"last year\", \"last year\", \"law enforcement\", \"law enforcement\", \"law enforcement\", \"law enforcement\", \"let know\", \"let know\", \"let know\", \"let know\", \"let know\", \"like know\", \"like know\", \"like know\", \"like know\", \"like know\", \"livesey writesn\", \"livesey writesn\", \"livni onycom\", \"local bus\", \"long time\", \"long time\", \"long time\", \"long time\", \"long time\", \"longer exists\", \"look like\", \"look like\", \"look like\", \"look like\", \"look like\", \"looking information\", \"love anymore\", \"mailing list\", \"mailing list\", \"mailing list\", \"mailing list\", \"make sense\", \"make sense\", \"make sense\", \"make sense\", \"make sense\", \"make sure\", \"make sure\", \"make sure\", \"make sure\", \"make sure\", \"many people\", \"many people\", \"many people\", \"many people\", \"many people\", \"meg ram\", \"michael adam\", \"michael adam\", \"michael covington\", \"might serve\", \"minen relation\", \"mountain pass\", \"mutual consent\", \"nasa ames\", \"new testament\", \"new york\", \"new york\", \"new york\", \"new york\", \"new york\", \"njxp skepticism\", \"ofn information\", \"ofn information\", \"ohanus appressian\", \"onn sdpa\", \"onycom ten\", \"opinion employer\", \"opinion expressed\", \"opinion expressed\", \"opinion expressed\", \"opinion expressed\", \"opinion expressed\", \"opinion minen\", \"opinion standard\", \"pass might\", \"pdsgicom jon\", \"people dont\", \"people dont\", \"people dont\", \"people dont\", \"people know\", \"people know\", \"people know\", \"people know\", \"people know\", \"people mutual\", \"pgp public\", \"phone number\", \"phone number\", \"phone number\", \"please email\", \"please email\", \"please email\", \"please email\", \"please let\", \"please let\", \"please let\", \"please let\", \"please reply\", \"please reply\", \"please respond\", \"please respond\", \"please respond\", \"please send\", \"please send\", \"please send\", \"please send\", \"please send\", \"pplecom alink\", \"private activity\", \"proceeded work\", \"public domain\", \"public key\", \"public key\", \"public key\", \"pushed elevator\", \"question whether\", \"question whether\", \"question whether\", \"question whether\", \"raise tax\", \"raise tax\", \"readme file\", \"red wing\", \"red wing\", \"regional study\", \"relation people\", \"remember way\", \"replaced jimmy\", \"reply via\", \"road mountain\", \"run window\", \"run window\", \"sahak melkonian\", \"san jose\", \"san jose\", \"san jose\", \"san jose\", \"say anything\", \"say anything\", \"say god\", \"say god\", \"say god\", \"sdpa center\", \"send email\", \"send email\", \"send email\", \"send email\", \"serdar argicn\", \"serial number\", \"serial number\", \"serial number\", \"serial number\", \"serve way\", \"service groupn\", \"shameful surrender\", \"single turkish\", \"skepticism chastity\", \"slpittedu shameful\", \"software engineer\", \"someone el\", \"someone el\", \"someone el\", \"someone tell\", \"someone tell\", \"someone tell\", \"something like\", \"something like\", \"something like\", \"something like\", \"something like\", \"soul sahak\", \"sound like\", \"sound like\", \"sound like\", \"sound like\", \"sound like\", \"source code\", \"source code\", \"soviet armenia\", \"space shuttle\", \"space shuttle\", \"speak companyn\", \"special investor\", \"standard failed\", \"state university\", \"state university\", \"state university\", \"state university\", \"state university\", \"steve hendricks\", \"steve hendricks\", \"still remember\", \"study armenian\", \"surrender soon\", \"taken ensure\", \"technology atlanta\", \"ten year\", \"ten year\", \"ten year\", \"tenn div\", \"thank youn\", \"thank youn\", \"thank youn\", \"thank youn\", \"thanks advancen\", \"thanks advancen\", \"thanks advancen\", \"thanks advancen\", \"there nothing\", \"there nothing\", \"there nothing\", \"thing like\", \"thing like\", \"thing like\", \"thing like\", \"thing like\", \"tkedu still\", \"today longer\", \"today special\", \"tratuscom write\", \"troop onn\", \"turk proceeded\", \"turkish march\", \"turkish soul\", \"two thing\", \"two thing\", \"two thing\", \"united state\", \"united state\", \"united state\", \"united state\", \"univ tenn\", \"university georgia\", \"usa amateur\", \"user interface\", \"uunetpyramidoptilinkcramer opinion\", \"veal univ\", \"via anonymous\", \"via anonymous\", \"video card\", \"want ton\", \"want ton\", \"want ton\", \"want ton\", \"want ton\", \"way escape\", \"way make\", \"way make\", \"way make\", \"way make\", \"willn americanoccupied\", \"work exterminationn\", \"work fine\", \"work fine\", \"work man\", \"write today\", \"writesn article\", \"writesn article\", \"writesn article\", \"writesn article\", \"writesn article\", \"wstratuscom believe\", \"year ago\", \"year ago\", \"year ago\", \"year ago\", \"year ago\", \"year george\", \"year old\", \"year old\", \"year old\", \"year old\", \"year old\", \"york replaced\"]}, \"R\": 30, \"lambda.step\": 0.01, \"plot.opts\": {\"xlab\": \"PC1\", \"ylab\": \"PC2\"}, \"topic.order\": [1, 4, 3, 5, 2]};\n",
              "\n",
              "function LDAvis_load_lib(url, callback){\n",
              "  var s = document.createElement('script');\n",
              "  s.src = url;\n",
              "  s.async = true;\n",
              "  s.onreadystatechange = s.onload = callback;\n",
              "  s.onerror = function(){console.warn(\"failed to load library \" + url);};\n",
              "  document.getElementsByTagName(\"head\")[0].appendChild(s);\n",
              "}\n",
              "\n",
              "if(typeof(LDAvis) !== \"undefined\"){\n",
              "   // already loaded: just create the visualization\n",
              "   !function(LDAvis){\n",
              "       new LDAvis(\"#\" + \"ldavis_el1211401495730591121812100379\", ldavis_el1211401495730591121812100379_data);\n",
              "   }(LDAvis);\n",
              "}else if(typeof define === \"function\" && define.amd){\n",
              "   // require.js is available: use it to load d3/LDAvis\n",
              "   require.config({paths: {d3: \"https://cdnjs.cloudflare.com/ajax/libs/d3/3.5.5/d3.min\"}});\n",
              "   require([\"d3\"], function(d3){\n",
              "      window.d3 = d3;\n",
              "      LDAvis_load_lib(\"https://cdn.rawgit.com/bmabey/pyLDAvis/files/ldavis.v1.0.0.js\", function(){\n",
              "        new LDAvis(\"#\" + \"ldavis_el1211401495730591121812100379\", ldavis_el1211401495730591121812100379_data);\n",
              "      });\n",
              "    });\n",
              "}else{\n",
              "    // require.js not available: dynamically load d3 & LDAvis\n",
              "    LDAvis_load_lib(\"https://cdnjs.cloudflare.com/ajax/libs/d3/3.5.5/d3.min.js\", function(){\n",
              "         LDAvis_load_lib(\"https://cdn.rawgit.com/bmabey/pyLDAvis/files/ldavis.v1.0.0.js\", function(){\n",
              "                 new LDAvis(\"#\" + \"ldavis_el1211401495730591121812100379\", ldavis_el1211401495730591121812100379_data);\n",
              "            })\n",
              "         });\n",
              "}\n",
              "</script>"
            ],
            "text/plain": [
              "PreparedData(topic_coordinates=                x           y  topics  cluster       Freq\n",
              "topic                                                    \n",
              "0      150.222153  -72.269554       1        1  32.442080\n",
              "3       51.163364 -159.968018       2        1  22.336498\n",
              "2      -73.144554   21.523815       3        1  16.409912\n",
              "4      -66.410133 -110.606438       4        1  14.529486\n",
              "1       54.417324   12.443444       5        1  14.282025, topic_info=      Category        Freq               Term       Total  loglift  logprob\n",
              "9938   Default  338.000000    thanks advancen  338.000000  30.0000  30.0000\n",
              "516    Default  548.000000        anyone know  548.000000  29.0000  29.0000\n",
              "7535   Default  232.000000       please email  232.000000  28.0000  28.0000\n",
              "8948   Default  120.000000      serdar argicn  120.000000  27.0000  27.0000\n",
              "5700   Default  117.000000      longer exists  117.000000  26.0000  26.0000\n",
              "...        ...         ...                ...         ...      ...      ...\n",
              "2182    Topic5   62.546759   david sternlight   73.279970   1.7878  -6.2715\n",
              "6761    Topic5  147.614046           new york  345.433566   1.0960  -5.4128\n",
              "11687   Topic5   79.864999           year ago  413.193308   0.3026  -6.0270\n",
              "10781   Topic5   69.625374       united state  215.362577   0.8170  -6.1642\n",
              "7057    Topic5   62.970169  opinion expressed  161.849714   1.0022  -6.2647\n",
              "\n",
              "[309 rows x 6 columns], token_table=       Topic      Freq              Term\n",
              "term                                    \n",
              "88         5  0.992757      accuracy ofn\n",
              "100        4  0.983573     activity netn\n",
              "123        2  0.984078     adam laskaedu\n",
              "181        2  0.952018  albert einsteinn\n",
              "189        4  0.983573       alink ksand\n",
              "...      ...       ...               ...\n",
              "11714      2  0.016234          year old\n",
              "11714      3  0.021645          year old\n",
              "11714      4  0.129868          year old\n",
              "11714      5  0.313848          year old\n",
              "11760      4  0.977219     york replaced\n",
              "\n",
              "[498 rows x 3 columns], R=30, lambda_step=0.01, plot_opts={'xlab': 'PC1', 'ylab': 'PC2'}, topic_order=[1, 4, 3, 5, 2])"
            ]
          },
          "metadata": {
            "tags": []
          },
          "execution_count": 34
        }
      ]
    },
    {
      "cell_type": "markdown",
      "metadata": {
        "id": "wvin3jYWD8eE",
        "colab_type": "text"
      },
      "source": [
        "# LDA Bigram - binary - stem"
      ]
    },
    {
      "cell_type": "code",
      "metadata": {
        "id": "CypUp0SfEDpS",
        "colab_type": "code",
        "colab": {}
      },
      "source": [
        "data_bigram_stem_binary = binary.fit_transform(df.bigram_stem)"
      ],
      "execution_count": 0,
      "outputs": []
    },
    {
      "cell_type": "code",
      "metadata": {
        "id": "KPmZuVRMED0A",
        "colab_type": "code",
        "outputId": "4623203e-d9da-4e62-9135-561153729413",
        "colab": {
          "base_uri": "https://localhost:8080/",
          "height": 399
        }
      },
      "source": [
        "# Parametri di ricerca\n",
        "search_params = {'n_components': [5,10, 15, 20, 25, 30], 'learning_decay': [.5, .7, .9]}\n",
        "\n",
        "# Inizializzazione Modello\n",
        "lda = LatentDirichletAllocation()\n",
        "\n",
        "# Inizializzazione GridSearchCV\n",
        "model = GridSearchCV(lda, param_grid=search_params)\n",
        "\n",
        "# Grid Search\n",
        "model.fit(data_bigram_stem_binary) "
      ],
      "execution_count": 0,
      "outputs": [
        {
          "output_type": "execute_result",
          "data": {
            "text/plain": [
              "GridSearchCV(cv=None, error_score=nan,\n",
              "             estimator=LatentDirichletAllocation(batch_size=128,\n",
              "                                                 doc_topic_prior=None,\n",
              "                                                 evaluate_every=-1,\n",
              "                                                 learning_decay=0.7,\n",
              "                                                 learning_method='batch',\n",
              "                                                 learning_offset=10.0,\n",
              "                                                 max_doc_update_iter=100,\n",
              "                                                 max_iter=10,\n",
              "                                                 mean_change_tol=0.001,\n",
              "                                                 n_components=10, n_jobs=None,\n",
              "                                                 perp_tol=0.1,\n",
              "                                                 random_state=None,\n",
              "                                                 topic_word_prior=None,\n",
              "                                                 total_samples=1000000.0,\n",
              "                                                 verbose=0),\n",
              "             iid='deprecated', n_jobs=None,\n",
              "             param_grid={'learning_decay': [0.5, 0.7, 0.9],\n",
              "                         'n_components': [5, 10, 15, 20, 25, 30]},\n",
              "             pre_dispatch='2*n_jobs', refit=True, return_train_score=False,\n",
              "             scoring=None, verbose=0)"
            ]
          },
          "metadata": {
            "tags": []
          },
          "execution_count": 36
        }
      ]
    },
    {
      "cell_type": "code",
      "metadata": {
        "id": "torP0_iDED8K",
        "colab_type": "code",
        "outputId": "2a50ea2f-3c96-4a27-b875-f7934de6b7c9",
        "colab": {
          "base_uri": "https://localhost:8080/",
          "height": 72
        }
      },
      "source": [
        "# Stimato il Miglior modello \n",
        "best_lda_model = model.best_estimator_\n",
        "\n",
        "# Parametri del modello\n",
        "print(\"Best Model Params: \", model.best_params_)\n",
        "\n",
        "# Log Likelihood Score\n",
        "print(\"Best Log Likelihood Score: \", model.best_score_)\n",
        "\n",
        "# Perplessità\n",
        "print(\"Model Perplexity: \", best_lda_model.perplexity(data_bigram_stem_binary))"
      ],
      "execution_count": 0,
      "outputs": [
        {
          "output_type": "stream",
          "text": [
            "Best Model Params:  {'learning_decay': 0.9, 'n_components': 5}\n",
            "Best Log Likelihood Score:  -606051.7715784495\n",
            "Model Perplexity:  9773.79068343656\n"
          ],
          "name": "stdout"
        }
      ]
    },
    {
      "cell_type": "code",
      "metadata": {
        "id": "KCo74hyREEa0",
        "colab_type": "code",
        "outputId": "6af15153-a838-4d37-b654-717258805b9e",
        "colab": {
          "base_uri": "https://localhost:8080/",
          "height": 1000
        }
      },
      "source": [
        "pyLDAvis.enable_notebook()\n",
        "vis = pyLDAvis.sklearn.prepare(best_lda_model, data_bigram_stem_binary, binary, mds='tsne')\n",
        "vis"
      ],
      "execution_count": 0,
      "outputs": [
        {
          "output_type": "stream",
          "text": [
            "/usr/local/lib/python3.6/dist-packages/pyLDAvis/_prepare.py:257: FutureWarning: Sorting because non-concatenation axis is not aligned. A future version\n",
            "of pandas will change to not sort by default.\n",
            "\n",
            "To accept the future behavior, pass 'sort=False'.\n",
            "\n",
            "To retain the current behavior and silence the warning, pass 'sort=True'.\n",
            "\n",
            "  return pd.concat([default_term_info] + list(topic_dfs))\n"
          ],
          "name": "stderr"
        },
        {
          "output_type": "execute_result",
          "data": {
            "text/html": [
              "\n",
              "<link rel=\"stylesheet\" type=\"text/css\" href=\"https://cdn.rawgit.com/bmabey/pyLDAvis/files/ldavis.v1.0.0.css\">\n",
              "\n",
              "\n",
              "<div id=\"ldavis_el121140149649832000192182057\"></div>\n",
              "<script type=\"text/javascript\">\n",
              "\n",
              "var ldavis_el121140149649832000192182057_data = {\"mdsDat\": {\"x\": [150.22215270996094, 51.16336441040039, -73.1445541381836, -66.4101333618164, 54.41732406616211], \"y\": [-72.2695541381836, -159.968017578125, 21.523815155029297, -110.60643768310547, 12.44344425201416], \"topics\": [1, 2, 3, 4, 5], \"cluster\": [1, 1, 1, 1, 1], \"Freq\": [21.49663253905255, 21.307838398592395, 20.11379620523713, 18.698636249924316, 18.38309660719361]}, \"tinfo\": {\"Category\": [\"Default\", \"Default\", \"Default\", \"Default\", \"Default\", \"Default\", \"Default\", \"Default\", \"Default\", \"Default\", \"Default\", \"Default\", \"Default\", \"Default\", \"Default\", \"Default\", \"Default\", \"Default\", \"Default\", \"Default\", \"Default\", \"Default\", \"Default\", \"Default\", \"Default\", \"Default\", \"Default\", \"Default\", \"Default\", \"Default\", \"Topic1\", \"Topic1\", \"Topic1\", \"Topic1\", \"Topic1\", \"Topic1\", \"Topic1\", \"Topic1\", \"Topic1\", \"Topic1\", \"Topic1\", \"Topic1\", \"Topic1\", \"Topic1\", \"Topic1\", \"Topic1\", \"Topic1\", \"Topic1\", \"Topic1\", \"Topic1\", \"Topic1\", \"Topic1\", \"Topic1\", \"Topic1\", \"Topic1\", \"Topic1\", \"Topic1\", \"Topic1\", \"Topic1\", \"Topic1\", \"Topic1\", \"Topic1\", \"Topic1\", \"Topic1\", \"Topic1\", \"Topic1\", \"Topic1\", \"Topic1\", \"Topic1\", \"Topic1\", \"Topic1\", \"Topic1\", \"Topic1\", \"Topic1\", \"Topic1\", \"Topic1\", \"Topic1\", \"Topic1\", \"Topic1\", \"Topic1\", \"Topic1\", \"Topic1\", \"Topic1\", \"Topic1\", \"Topic1\", \"Topic1\", \"Topic1\", \"Topic1\", \"Topic1\", \"Topic1\", \"Topic1\", \"Topic1\", \"Topic2\", \"Topic2\", \"Topic2\", \"Topic2\", \"Topic2\", \"Topic2\", \"Topic2\", \"Topic2\", \"Topic2\", \"Topic2\", \"Topic2\", \"Topic2\", \"Topic2\", \"Topic2\", \"Topic2\", \"Topic2\", \"Topic2\", \"Topic2\", \"Topic2\", \"Topic2\", \"Topic2\", \"Topic2\", \"Topic2\", \"Topic2\", \"Topic2\", \"Topic2\", \"Topic2\", \"Topic2\", \"Topic2\", \"Topic2\", \"Topic2\", \"Topic2\", \"Topic2\", \"Topic2\", \"Topic2\", \"Topic2\", \"Topic2\", \"Topic2\", \"Topic2\", \"Topic2\", \"Topic2\", \"Topic2\", \"Topic2\", \"Topic2\", \"Topic2\", \"Topic2\", \"Topic2\", \"Topic2\", \"Topic2\", \"Topic2\", \"Topic2\", \"Topic2\", \"Topic2\", \"Topic2\", \"Topic2\", \"Topic2\", \"Topic2\", \"Topic2\", \"Topic2\", \"Topic2\", \"Topic2\", \"Topic2\", \"Topic2\", \"Topic2\", \"Topic2\", \"Topic3\", \"Topic3\", \"Topic3\", \"Topic3\", \"Topic3\", \"Topic3\", \"Topic3\", \"Topic3\", \"Topic3\", \"Topic3\", \"Topic3\", \"Topic3\", \"Topic3\", \"Topic3\", \"Topic3\", \"Topic3\", \"Topic3\", \"Topic3\", \"Topic3\", \"Topic3\", \"Topic3\", \"Topic3\", \"Topic3\", \"Topic3\", \"Topic3\", \"Topic3\", \"Topic3\", \"Topic3\", \"Topic3\", \"Topic3\", \"Topic3\", \"Topic3\", \"Topic3\", \"Topic3\", \"Topic3\", \"Topic3\", \"Topic3\", \"Topic3\", \"Topic3\", \"Topic3\", \"Topic3\", \"Topic3\", \"Topic3\", \"Topic3\", \"Topic3\", \"Topic3\", \"Topic3\", \"Topic3\", \"Topic3\", \"Topic3\", \"Topic3\", \"Topic3\", \"Topic4\", \"Topic4\", \"Topic4\", \"Topic4\", \"Topic4\", \"Topic4\", \"Topic4\", \"Topic4\", \"Topic4\", \"Topic4\", \"Topic4\", \"Topic4\", \"Topic4\", \"Topic4\", \"Topic4\", \"Topic4\", \"Topic4\", \"Topic4\", \"Topic4\", \"Topic4\", \"Topic4\", \"Topic4\", \"Topic4\", \"Topic4\", \"Topic4\", \"Topic4\", \"Topic4\", \"Topic4\", \"Topic4\", \"Topic4\", \"Topic4\", \"Topic4\", \"Topic4\", \"Topic4\", \"Topic4\", \"Topic4\", \"Topic4\", \"Topic4\", \"Topic4\", \"Topic5\", \"Topic5\", \"Topic5\", \"Topic5\", \"Topic5\", \"Topic5\", \"Topic5\", \"Topic5\", \"Topic5\", \"Topic5\", \"Topic5\", \"Topic5\", \"Topic5\", \"Topic5\", \"Topic5\", \"Topic5\", \"Topic5\", \"Topic5\", \"Topic5\", \"Topic5\", \"Topic5\", \"Topic5\", \"Topic5\", \"Topic5\", \"Topic5\", \"Topic5\", \"Topic5\", \"Topic5\", \"Topic5\", \"Topic5\", \"Topic5\", \"Topic5\", \"Topic5\", \"Topic5\", \"Topic5\", \"Topic5\", \"Topic5\", \"Topic5\", \"Topic5\", \"Topic5\", \"Topic5\", \"Topic5\", \"Topic5\", \"Topic5\", \"Topic5\", \"Topic5\", \"Topic5\", \"Topic5\", \"Topic5\", \"Topic5\", \"Topic5\", \"Topic5\", \"Topic5\", \"Topic5\", \"Topic5\", \"Topic5\", \"Topic5\"], \"Freq\": [552.0, 357.0, 120.0, 132.0, 117.0, 115.0, 115.0, 115.0, 115.0, 115.0, 115.0, 114.0, 114.0, 114.0, 114.0, 114.0, 114.0, 114.0, 114.0, 114.0, 114.0, 114.0, 114.0, 114.0, 114.0, 114.0, 114.0, 114.0, 232.0, 132.0, 131.4902183120734, 69.6077246645108, 69.60763243684013, 68.66960299105524, 68.66960299105513, 68.66960299105511, 68.669602991055, 68.66960299105494, 68.66960299105487, 68.66960299105456, 59.288911799535946, 59.28886474935048, 59.28886474666048, 59.28869386054258, 58.350847609890636, 58.35084760951261, 57.41269314492992, 49.90784817103428, 46.1545404585796, 42.40104395523384, 39.58776371506137, 38.64957402898815, 38.64957402898815, 38.649574028988155, 38.649574028988155, 38.64957402898815, 38.64909583139155, 38.6464653126375, 43.23512769268657, 37.71099620675034, 57.84158531756187, 517.5527961467642, 334.1985146864704, 125.68524412945148, 107.30932962525912, 93.52131987777882, 59.07060092824366, 59.72692020584827, 71.12793619464898, 69.75485416726691, 82.14993097573613, 74.26665822678443, 108.64586531737446, 155.1000250218162, 126.77258143027943, 67.80823165292225, 100.5006418566587, 306.6495299587658, 79.11343376381298, 140.76666861818765, 98.78071511298928, 92.87749800965364, 128.7053179319711, 127.68095519818503, 86.8011633006596, 108.27623199962288, 101.68628301503732, 92.48557888999594, 73.36326281525075, 75.64683489781164, 71.03774611838405, 73.43569591942817, 52.90701154487217, 51.949852166624616, 50.991881298185895, 71.680187289198, 46.1994008690967, 45.24083897096535, 44.282378642286524, 44.282378642286524, 44.282378642286524, 40.44838704999248, 40.44838704999248, 38.53136226651886, 38.53136226651886, 38.53136226651885, 38.53136226651885, 38.53136226651885, 35.653221372253846, 30.857687874229672, 29.904998538268494, 29.904998538268494, 29.904998538268494, 29.904998538268494, 29.904998538268494, 29.904998538268494, 29.904998538268494, 28.946486863414712, 28.946486863414712, 28.946486863414712, 28.946486863414712, 28.946486863414712, 52.15412661014631, 39.196416602709064, 50.21668513478878, 49.23382978228121, 28.946486863414712, 43.26759859746121, 70.29658934671338, 95.75828173642661, 75.35431122008208, 40.694643825921204, 33.675389774441335, 59.18642845974577, 50.29479763308353, 38.882578152009614, 100.05210668660942, 196.98578000271212, 92.7847400796325, 81.52483879727268, 56.57491128591297, 71.89764341070567, 148.473837035837, 77.89702260746338, 94.00612294141764, 78.46473599292925, 58.74932851044839, 55.05030225202874, 69.3468562267672, 60.619459023162406, 51.88022423928088, 58.954934831821184, 63.238717754556234, 49.62282989908774, 51.5831391155088, 52.13518599245579, 50.24160415856949, 85.68236731615417, 78.08721823544697, 78.08721823544697, 78.08721823544697, 78.08721823544697, 78.08721823544697, 76.1875308620237, 76.1875308620237, 76.1875308620237, 76.1875308620237, 76.18558932085547, 76.18558932085507, 76.18558932085399, 76.1855893208525, 76.18558932085199, 74.28571653752262, 65.73602957838816, 48.63651951347664, 48.61739710577084, 42.926755712425475, 41.037150605484086, 41.03715060548407, 41.037150605484065, 37.23786599810502, 37.23590453887578, 36.288085124293104, 36.288085124293104, 36.288085124293104, 36.288085124293104, 36.288085124293104, 36.288085124293104, 36.288085124293104, 46.367292002213254, 36.288085124293104, 114.08677142114519, 77.53631956010335, 74.79651210974457, 60.93450693949403, 51.95092271999349, 79.91390247335009, 72.60789921700042, 159.29806241901065, 95.4889052431029, 74.73249829041686, 106.92024201384791, 61.54304895313979, 71.2276908466484, 60.0047052075586, 91.17156061884653, 90.21143121821768, 67.63560731115153, 66.77593320102024, 119.96216084900242, 117.10896251402639, 115.20637677202646, 114.2587236350572, 114.25872356133137, 114.25866086123031, 114.25862602992268, 114.25847804907107, 113.3081507376226, 113.3081507376226, 113.3081507376226, 113.3081507376226, 113.3081507376226, 113.3081507376226, 113.3081507376226, 113.3081507376226, 113.3081507376226, 113.3081507376226, 113.3081507376226, 113.3081507376226, 113.3081507376226, 113.3081507376226, 113.3081507376226, 113.3081507376226, 113.3081507376226, 56.26832546591393, 53.42057703128113, 52.4698414823449, 51.52021199667457, 50.56987306566888, 67.4478283425266, 65.31837784404027, 155.16055929743624, 206.7513839324088, 78.60187180465367, 126.2496792145224, 79.12568709647678, 97.28358089102154, 88.71970851046478, 53.04585458981765, 52.08535750951268, 52.08460385232993, 48.241579576424876, 47.28058910968129, 47.28058910968129, 47.28058910968129, 47.28058910968129, 47.28058910968129, 47.28058910968129, 47.28058910968129, 47.28058910968129, 47.28058910968129, 47.28058910968129, 47.28058910968129, 47.28058910968129, 41.51416156440482, 35.74557900143888, 34.78459041101539, 34.78328365131911, 32.8656679989715, 32.8656679989715, 32.8656679989715, 32.8656679989715, 32.8656679989715, 32.8656679989715, 32.8656679989715, 32.8656679989715, 32.8656679989715, 32.86407189600659, 36.54631638757888, 54.95532874656413, 87.65485001198323, 82.73872664433888, 73.29590980950124, 40.341690640819415, 37.568142593436725, 36.22635185229437, 165.76079085110027, 55.3141242508652, 44.42061984292656, 47.95987384487131, 96.03547721224129, 133.63849183825138, 150.17243152770777, 105.57788673101233, 157.3768038148167, 57.85460113385398, 77.12976551835777, 63.398817418540204, 60.83362105509652, 53.24466080737292, 57.07915640447876, 57.16539258292325, 51.21032791388648, 48.861503794714416, 48.45147641574569], \"Term\": [\"anyon know\", \"thank advancen\", \"serdar argicn\", \"pleas repli\", \"longer exist\", \"way escap\", \"argicn close\", \"exist singl\", \"close road\", \"today longer\", \"might serv\", \"turk proceed\", \"turkish soul\", \"singl turkish\", \"serv way\", \"exterminationn ohanu\", \"soul sahak\", \"mountain pass\", \"soviet armenia\", \"sahak melkonian\", \"road mountain\", \"ohanu appressian\", \"proceed work\", \"appressian soviet\", \"work exterminationn\", \"pass might\", \"armenia today\", \"escap turk\", \"pleas email\", \"pleas let\", \"pleas repli\", \"believ speak\", \"write today\", \"special investor\", \"companyn tratuscom\", \"speak companyn\", \"investor packetn\", \"tratuscom write\", \"today special\", \"wstratuscom believ\", \"relat peopl\", \"cramer uunetpyramidoptilinkcram\", \"uunetpyramidoptilinkcram opinion\", \"consent alln\", \"mutual consent\", \"peopl mutual\", \"minen relat\", \"help greatli\", \"david veal\", \"still rememb\", \"rememb way\", \"anymor weird\", \"love anymor\", \"elev shaft\", \"push elev\", \"tkedu still\", \"repli via\", \"begin think\", \"repli email\", \"univ tenn\", \"serial port\", \"anyon know\", \"thank advancen\", \"pleas let\", \"could someon\", \"thank advanc\", \"know get\", \"opinion minen\", \"greatli appreci\", \"anyon tell\", \"greatli appreciatedn\", \"hope helpsn\", \"anybodi know\", \"pleas email\", \"let know\", \"clayton cramer\", \"thank youn\", \"dont know\", \"someon pleas\", \"ive seen\", \"pleas send\", \"like know\", \"last year\", \"look like\", \"ive got\", \"writesn articl\", \"someth like\", \"dont think\", \"ftp site\", \"dont want\", \"like get\", \"sound like\", \"michael covington\", \"artifici intellig\", \"univers georgia\", \"brand new\", \"athen georgia\", \"usa amateur\", \"intellig program\", \"radio ntmi\", \"georgia usa\", \"program gaedu\", \"gaedu univers\", \"georgia phone\", \"covington associ\", \"scientist artifici\", \"phone athen\", \"associ research\", \"frank odwyer\", \"ofn god\", \"fxwg wide\", \"behannatdod fxwg\", \"red ladyn\", \"glide jubile\", \"jubile red\", \"wide glide\", \"chri behannatdod\", \"cbt babi\", \"disclaim nect\", \"ladyn jneccomt\", \"biken disclaim\", \"babi biken\", \"jon livesey\", \"holi spirit\", \"livesey writesn\", \"pdsgicom jon\", \"jneccomt cbt\", \"research scientist\", \"say god\", \"believ god\", \"amateur radio\", \"univers illinoi\", \"god love\", \"god exist\", \"new testament\", \"bibl say\", \"someon els\", \"dont think\", \"dont believ\", \"answer question\", \"jesu christ\", \"comput scienc\", \"dont know\", \"even though\", \"writesn articl\", \"mani peopl\", \"thing like\", \"ask question\", \"dont want\", \"year old\", \"apr gmtn\", \"dont see\", \"someth like\", \"public key\", \"anyon els\", \"look like\", \"year ago\", \"gordon bank\", \"bank njxp\", \"intellect andn\", \"skeptic chastiti\", \"njxp skeptic\", \"chastiti intellect\", \"slpittedu shame\", \"shame surrend\", \"surrend soon\", \"andn slpittedu\", \"ksand privat\", \"activ netn\", \"privat activ\", \"pplecom alink\", \"alink ksand\", \"kentn pplecom\", \"cheersn kentn\", \"jet propuls\", \"david davidian\", \"davidian dpaorg\", \"center region\", \"sdpa center\", \"region studi\", \"work man\", \"___ _____\", \"itnettttselann domi\", \"gari daren\", \"jet gon\", \"daren tttgo\", \"tttgo winnipeg\", \"domi stanleyn\", \"gon itnettttselann\", \"hard driven\", \"souvien gari\", \"hard drive\", \"anonym ftp\", \"next year\", \"sourc code\", \"winnipeg jet\", \"send email\", \"san jose\", \"look like\", \"last night\", \"email address\", \"seem like\", \"___ ___\", \"mail list\", \"public domain\", \"year ago\", \"dont know\", \"pleas email\", \"last year\", \"serdar argicn\", \"longer exist\", \"way escap\", \"argicn close\", \"exist singl\", \"close road\", \"today longer\", \"might serv\", \"ohanu appressian\", \"appressian soviet\", \"soul sahak\", \"serv way\", \"pass might\", \"armenia today\", \"escap turk\", \"soviet armenia\", \"mountain pass\", \"sahak melkonian\", \"proceed work\", \"exterminationn ohanu\", \"turk proceed\", \"work exterminationn\", \"singl turkish\", \"turkish soul\", \"road mountain\", \"att bell\", \"great care\", \"care taken\", \"taken ensur\", \"accuraci ofn\", \"david sternlight\", \"serial number\", \"year ago\", \"dont know\", \"clipper chip\", \"dont think\", \"peopl dont\", \"new york\", \"anyon els\", \"opinion employ\", \"jake livni\", \"employ opinion\", \"jimmi carter\", \"carter opinion\", \"americanoccupi new\", \"bush willn\", \"year georg\", \"standard fail\", \"opinion standard\", \"livni onycom\", \"york replac\", \"onycom ten\", \"replac jimmi\", \"fail presidentn\", \"willn americanoccupi\", \"tim clock\", \"thing infinit\", \"sure former\", \"rais tax\", \"collis henri\", \"svr suno\", \"resembl highspe\", \"dick dunn\", \"zoologyn svr\", \"suno dick\", \"highspe collis\", \"dunn orontoedu\", \"svr resembl\", \"keep bear\", \"pat myrto\", \"georg bush\", \"bill clinton\", \"take away\", \"ten year\", \"right keep\", \"univers human\", \"presid clinton\", \"new york\", \"two thing\", \"right peopl\", \"polici research\", \"unit state\", \"writesn articl\", \"dont think\", \"mani peopl\", \"dont know\", \"lo angel\", \"sound like\", \"look like\", \"someth like\", \"gon na\", \"dont want\", \"year ago\", \"youv got\", \"dont see\", \"anyon els\"], \"Total\": [552.0, 357.0, 120.0, 132.0, 117.0, 115.0, 115.0, 115.0, 115.0, 115.0, 115.0, 114.0, 114.0, 114.0, 114.0, 114.0, 114.0, 114.0, 114.0, 114.0, 114.0, 114.0, 114.0, 114.0, 114.0, 114.0, 114.0, 114.0, 232.0, 132.0, 132.29254246659417, 70.37428877625571, 70.37429088770504, 69.43614492090231, 69.43614492090227, 69.43614492090228, 69.43614492090227, 69.43614492090232, 69.4361449209023, 69.4361449209023, 60.05470314165998, 60.05470424688834, 60.05470424695385, 60.05470802329762, 59.11655830507753, 59.11655830508675, 58.178415269497535, 50.673251719098836, 46.92069795150598, 43.16814194042496, 40.35369041982442, 39.415547998087604, 39.415547998087604, 39.41554799808761, 39.41554799808761, 39.41554799808761, 39.415551469600786, 39.41560852385527, 44.10881498115655, 38.47740720968857, 59.123156222587596, 552.156309926034, 357.73015901498025, 132.36611341550628, 114.60725365236617, 100.47229129816348, 61.9764285715542, 62.92700385654112, 76.057576030302, 75.12555774575603, 93.01547129374427, 83.64014309800892, 134.5423402272074, 232.77570260314337, 196.22227590646852, 76.1840357674388, 144.32045143563448, 909.4629859600459, 104.6420198738311, 318.29251058890156, 162.24828779334038, 160.69281479058785, 344.93404752369474, 434.6885382746353, 155.86310653865993, 441.8158573189138, 351.51105583331054, 602.7707014792973, 115.0928812361875, 310.04921900831874, 126.49042272471611, 319.6119665686556, 53.669249832817705, 52.7107575679367, 51.75226419841431, 72.83095102542235, 46.959751303972816, 46.001248326874816, 45.04274619016569, 45.04274619016569, 45.04274619016569, 41.208736429874, 41.208736429874, 39.29173129320374, 39.29173129320374, 39.291731293203725, 39.291731293203725, 39.291731293203725, 36.41622592687823, 31.623675052759136, 30.665209438352598, 30.665209438352598, 30.665209438352598, 30.665209438352598, 30.665209438352598, 30.665209438352598, 30.665209438352598, 29.706706844858903, 29.706706844858903, 29.706706844858903, 29.706706844858903, 29.706706844858903, 53.663034585778554, 40.25098489209035, 51.7458605085093, 50.78715647985628, 29.706706844858903, 45.03371661851289, 77.62801574951176, 113.05514550861616, 87.01072509415435, 44.06082223336723, 35.43663000511302, 72.87269055886861, 59.409912843300575, 43.088819956172834, 183.97559072702617, 602.7707014792973, 178.51915226328754, 195.5190044422062, 92.96194376309907, 161.85904627020668, 909.4629859600459, 261.95543156889255, 441.8158573189138, 303.7620878499645, 151.7502949005368, 123.92725727799055, 310.04921900831874, 183.5285430553366, 103.98240236699405, 219.71550321161033, 351.51105583331054, 121.36050018773489, 280.45323481840495, 434.6885382746353, 411.80628635704454, 86.4491829471759, 78.84939454775345, 78.84939454775345, 78.84939454775345, 78.84939454775345, 78.84939454775345, 76.94944686916061, 76.94944686916061, 76.94944686916061, 76.94944686916061, 76.94946792827419, 76.94946792827417, 76.94946792827419, 76.94946792827422, 76.94946792827427, 75.04952180235523, 66.49976687437501, 49.400252813534976, 49.40026029883423, 43.700418524796184, 41.80046698903547, 41.800466989035456, 41.80046698903545, 38.000572412425406, 38.00057913172199, 37.05060195941791, 37.05060195941791, 37.05060195941791, 37.05060195941791, 37.05060195941791, 37.05060195941791, 37.05060195941791, 47.50352791811064, 37.05060195941791, 144.3920922119066, 93.88487876537556, 91.37893474218068, 72.08477035478592, 58.97164629008469, 110.77839001626712, 106.56784210824057, 434.6885382746353, 189.4157082637887, 122.0583682286182, 251.2597368263575, 90.49991258614533, 145.68748214846568, 89.96381766320388, 411.80628635704454, 909.4629859600459, 232.77570260314337, 344.93404752369474, 120.72375365223601, 117.87204149204314, 115.97090780524368, 115.02031952733942, 115.02031952740234, 115.02031870623686, 115.02031825859302, 115.02031745590376, 114.0697471734108, 114.0697471734108, 114.0697471734108, 114.0697471734108, 114.0697471734108, 114.0697471734108, 114.0697471734108, 114.0697471734108, 114.0697471734108, 114.0697471734108, 114.0697471734108, 114.0697471734108, 114.0697471734108, 114.0697471734108, 114.0697471734108, 114.0697471734108, 114.0697471734108, 57.03539639060002, 54.18369444677541, 53.233128046415274, 52.282548442254985, 51.3319734560166, 73.24363652286948, 74.04040757027792, 411.80628635704454, 909.4629859600459, 124.94724623976646, 602.7707014792973, 141.75492525303767, 346.8271791474442, 280.45323481840495, 53.80601990438336, 52.84504180797996, 52.84502625586003, 49.001087767422554, 48.040098716010085, 48.040098716010085, 48.040098716010085, 48.040098716010085, 48.040098716010085, 48.040098716010085, 48.040098716010085, 48.040098716010085, 48.040098716010085, 48.040098716010085, 48.040098716010085, 48.040098716010085, 42.27415946141657, 36.50820351718789, 35.547215497753896, 35.547167948204496, 33.625261732656526, 33.625261732656526, 33.625261732656526, 33.625261732656526, 33.625261732656526, 33.625261732656526, 33.625261732656526, 33.625261732656526, 33.625261732656526, 33.625231234564275, 37.46874532111564, 57.644970489292746, 96.01316629485243, 101.63996669125635, 93.94818089635265, 44.16066694599969, 40.34355725725636, 38.41455852547993, 346.8271791474442, 72.82069797370774, 53.77881985329867, 62.39981172057237, 217.76281217810228, 441.8158573189138, 602.7707014792973, 303.7620878499645, 909.4629859600459, 119.4623078218975, 319.6119665686556, 434.6885382746353, 351.51105583331054, 141.3717153117228, 310.04921900831874, 411.80628635704454, 117.42234811120025, 219.71550321161033, 280.45323481840495], \"loglift\": [30.0, 29.0, 28.0, 27.0, 26.0, 25.0, 24.0, 23.0, 22.0, 21.0, 20.0, 19.0, 18.0, 17.0, 16.0, 15.0, 14.0, 13.0, 12.0, 11.0, 10.0, 9.0, 8.0, 7.0, 6.0, 5.0, 4.0, 3.0, 2.0, 1.0, 1.5312, 1.5263, 1.5263, 1.5262, 1.5262, 1.5262, 1.5262, 1.5262, 1.5262, 1.5262, 1.5244, 1.5244, 1.5244, 1.5244, 1.5242, 1.5242, 1.524, 1.5221, 1.5208, 1.5193, 1.5181, 1.5176, 1.5176, 1.5176, 1.5176, 1.5176, 1.5176, 1.5176, 1.5173, 1.5172, 1.5154, 1.4726, 1.4692, 1.4855, 1.4715, 1.4656, 1.4893, 1.4851, 1.4703, 1.4631, 1.4131, 1.4184, 1.3235, 1.1313, 1.1004, 1.4208, 1.1754, 0.4501, 1.2576, 0.7214, 1.041, 0.9891, 0.5514, 0.3122, 0.9519, 0.1311, 0.2969, -0.3372, 1.087, 0.1266, 0.9603, 0.0666, 1.5318, 1.5316, 1.5313, 1.5302, 1.5298, 1.5294, 1.5291, 1.5291, 1.5291, 1.5275, 1.5275, 1.5266, 1.5266, 1.5266, 1.5266, 1.5266, 1.5249, 1.5216, 1.521, 1.521, 1.521, 1.521, 1.521, 1.521, 1.521, 1.5202, 1.5202, 1.5202, 1.5202, 1.5202, 1.5176, 1.5195, 1.5161, 1.515, 1.5202, 1.5061, 1.4469, 1.38, 1.4023, 1.4666, 1.4951, 1.3381, 1.3795, 1.4434, 0.937, 0.4277, 0.8917, 0.6713, 1.0495, 0.7346, -0.2664, 0.3333, -0.0014, 0.1925, 0.5971, 0.7346, 0.0485, 0.4383, 0.8508, 0.2305, -0.1692, 0.6518, -0.1471, -0.5747, -0.5576, 1.5949, 1.5941, 1.5941, 1.5941, 1.5941, 1.5941, 1.5938, 1.5938, 1.5938, 1.5938, 1.5938, 1.5938, 1.5938, 1.5938, 1.5938, 1.5935, 1.5922, 1.5882, 1.5878, 1.5859, 1.5853, 1.5853, 1.5853, 1.5835, 1.5834, 1.583, 1.583, 1.583, 1.583, 1.583, 1.583, 1.583, 1.5796, 1.583, 1.3682, 1.4124, 1.4035, 1.4357, 1.477, 1.2772, 1.2201, 0.5999, 0.9188, 1.1132, 0.7494, 1.2182, 0.8882, 1.1988, 0.096, -0.7069, 0.3678, -0.0382, 1.6704, 1.6702, 1.6701, 1.6701, 1.6701, 1.6701, 1.6701, 1.6701, 1.67, 1.67, 1.67, 1.67, 1.67, 1.67, 1.67, 1.67, 1.67, 1.67, 1.67, 1.67, 1.67, 1.67, 1.67, 1.67, 1.67, 1.6632, 1.6625, 1.6623, 1.662, 1.6618, 1.5943, 1.5514, 0.7006, 0.1954, 1.2132, 0.1134, 1.0937, 0.4055, 0.5258, 1.6795, 1.6793, 1.6792, 1.6781, 1.6778, 1.6778, 1.6778, 1.6778, 1.6778, 1.6778, 1.6778, 1.6778, 1.6778, 1.6778, 1.6778, 1.6778, 1.6756, 1.6726, 1.6721, 1.672, 1.6709, 1.6709, 1.6709, 1.6709, 1.6709, 1.6709, 1.6709, 1.6709, 1.6709, 1.6708, 1.6688, 1.646, 1.6027, 1.488, 1.4455, 1.6033, 1.6225, 1.6351, 0.9555, 1.4188, 1.5026, 1.4305, 0.875, 0.498, 0.304, 0.6369, -0.0605, 0.9687, 0.2721, -0.2314, -0.0604, 0.7172, 0.0014, -0.2809, 0.8639, 0.1904, -0.0621], \"logprob\": [30.0, 29.0, 28.0, 27.0, 26.0, 25.0, 24.0, 23.0, 22.0, 21.0, 20.0, 19.0, 18.0, 17.0, 16.0, 15.0, 14.0, 13.0, 12.0, 11.0, 10.0, 9.0, 8.0, 7.0, 6.0, 5.0, 4.0, 3.0, 2.0, 1.0, -6.0549, -6.691, -6.691, -6.7046, -6.7046, -6.7046, -6.7046, -6.7046, -6.7046, -6.7046, -6.8514, -6.8514, -6.8514, -6.8515, -6.8674, -6.8674, -6.8836, -7.0237, -7.1019, -7.1867, -7.2554, -7.2793, -7.2793, -7.2793, -7.2793, -7.2793, -7.2793, -7.2794, -7.1672, -7.3039, -6.8762, -4.6848, -5.1221, -6.1001, -6.2582, -6.3957, -6.8551, -6.8441, -6.6694, -6.6889, -6.5253, -6.6262, -6.2458, -5.8898, -6.0915, -6.7172, -6.3237, -5.2082, -6.563, -5.9868, -6.341, -6.4026, -6.0763, -6.0843, -6.4703, -6.2492, -6.312, -6.4068, -6.6384, -6.6078, -6.6707, -6.6375, -6.9565, -6.9748, -6.9934, -6.6528, -7.0921, -7.113, -7.1345, -7.1345, -7.1345, -7.225, -7.225, -7.2736, -7.2736, -7.2736, -7.2736, -7.2736, -7.3512, -7.4957, -7.527, -7.527, -7.527, -7.527, -7.527, -7.527, -7.527, -7.5596, -7.5596, -7.5596, -7.5596, -7.5596, -6.9708, -7.2565, -7.0087, -7.0285, -7.5596, -7.1576, -6.6723, -6.3632, -6.6028, -7.219, -7.4083, -6.8444, -7.0071, -7.2645, -6.3194, -5.6419, -6.3948, -6.5241, -6.8895, -6.6498, -5.9246, -6.5697, -6.3817, -6.5624, -6.8518, -6.9168, -6.6859, -6.8204, -6.9761, -6.8483, -6.7781, -7.0206, -6.9819, -6.9712, -7.0082, -6.4167, -6.5096, -6.5096, -6.5096, -6.5096, -6.5096, -6.5342, -6.5342, -6.5342, -6.5342, -6.5342, -6.5342, -6.5342, -6.5342, -6.5342, -6.5595, -6.6817, -6.983, -6.9834, -7.1079, -7.1529, -7.1529, -7.1529, -7.2501, -7.2501, -7.2759, -7.2759, -7.2759, -7.2759, -7.2759, -7.2759, -7.2759, -7.0308, -7.2759, -6.1304, -6.5166, -6.5526, -6.7576, -6.9171, -6.4864, -6.5823, -5.7966, -6.3084, -6.5535, -6.1953, -6.7476, -6.6015, -6.773, -6.3546, -6.3652, -6.6532, -6.666, -6.0072, -6.0313, -6.0477, -6.056, -6.056, -6.056, -6.056, -6.056, -6.0643, -6.0643, -6.0643, -6.0643, -6.0643, -6.0643, -6.0643, -6.0643, -6.0643, -6.0643, -6.0643, -6.0643, -6.0643, -6.0643, -6.0643, -6.0643, -6.0643, -6.7643, -6.8162, -6.8342, -6.8525, -6.8711, -6.5831, -6.6152, -5.75, -5.4629, -6.43, -5.9562, -6.4234, -6.2168, -6.3089, -6.8062, -6.8245, -6.8245, -6.9012, -6.9213, -6.9213, -6.9213, -6.9213, -6.9213, -6.9213, -6.9213, -6.9213, -6.9213, -6.9213, -6.9213, -6.9213, -7.0514, -7.201, -7.2282, -7.2283, -7.285, -7.285, -7.285, -7.285, -7.285, -7.285, -7.285, -7.285, -7.285, -7.285, -7.1788, -6.7709, -6.304, -6.3617, -6.4829, -7.08, -7.1512, -7.1876, -5.6669, -6.7644, -6.9837, -6.907, -6.2127, -5.8823, -5.7656, -6.118, -5.7188, -6.7195, -6.4319, -6.628, -6.6693, -6.8025, -6.733, -6.7315, -6.8415, -6.8884, -6.8968]}, \"token.table\": {\"Topic\": [2, 3, 3, 4, 3, 3, 1, 2, 3, 5, 3, 1, 2, 3, 1, 2, 3, 4, 5, 1, 2, 3, 4, 5, 1, 1, 2, 3, 4, 5, 1, 3, 4, 5, 1, 4, 4, 1, 2, 3, 4, 5, 4, 4, 2, 1, 2, 3, 4, 5, 2, 2, 4, 2, 3, 1, 2, 2, 3, 4, 5, 1, 1, 2, 4, 5, 2, 1, 2, 3, 4, 5, 1, 2, 5, 4, 5, 2, 3, 3, 3, 2, 1, 5, 2, 3, 4, 5, 4, 5, 1, 1, 2, 3, 4, 5, 1, 1, 2, 3, 5, 2, 1, 3, 3, 2, 4, 5, 1, 3, 5, 2, 3, 1, 2, 3, 4, 5, 1, 2, 3, 4, 5, 1, 2, 3, 4, 5, 1, 2, 3, 4, 5, 1, 2, 3, 4, 5, 5, 1, 1, 3, 5, 5, 4, 1, 2, 3, 4, 5, 4, 4, 5, 2, 1, 2, 3, 2, 2, 3, 2, 5, 2, 2, 2, 2, 5, 1, 2, 3, 1, 2, 3, 4, 5, 3, 4, 1, 4, 1, 3, 1, 2, 3, 5, 2, 3, 1, 5, 2, 1, 2, 3, 4, 5, 3, 2, 1, 3, 1, 2, 3, 4, 5, 1, 2, 3, 4, 5, 5, 2, 3, 5, 3, 3, 5, 2, 2, 4, 2, 5, 3, 1, 2, 3, 2, 1, 2, 3, 4, 5, 1, 2, 3, 4, 5, 1, 3, 4, 5, 1, 2, 3, 4, 1, 2, 3, 4, 5, 2, 4, 5, 1, 2, 3, 4, 5, 4, 1, 2, 3, 4, 5, 1, 1, 2, 3, 4, 5, 1, 2, 3, 4, 5, 2, 4, 1, 4, 1, 1, 2, 5, 1, 2, 3, 4, 5, 2, 3, 5, 3, 2, 4, 5, 5, 1, 5, 5, 4, 5, 2, 4, 1, 2, 3, 4, 5, 1, 2, 1, 2, 3, 1, 3, 4, 1, 1, 2, 3, 4, 5, 2, 4, 5, 3, 4, 5, 3, 4, 2, 1, 2, 3, 4, 1, 2, 3, 4, 5, 1, 2, 5, 2, 3, 1, 1, 5, 1, 1, 2, 3, 5, 3, 5, 2, 3, 5, 4, 4, 3, 4, 5, 2, 3, 5, 2, 3, 1, 2, 3, 4, 5, 1, 2, 3, 4, 1, 4, 1, 4, 3, 4, 3, 3, 1, 2, 3, 4, 5, 1, 2, 3, 5, 1, 2, 3, 4, 5, 4, 1, 2, 3, 4, 5, 1, 2, 3, 3, 4, 1, 1, 5, 1, 5, 5, 3, 5, 5, 1, 2, 4, 5, 4, 4, 5, 1, 3, 1, 3, 4, 1, 2, 3, 4, 5, 5, 1, 2, 3, 4, 5, 5, 1, 4, 1, 1, 3, 4, 4, 1, 2, 3, 4, 5, 1, 2, 3, 4, 5, 1, 2, 2, 5, 2, 3, 2, 1, 4, 2, 5, 3, 5, 4, 3, 1, 1, 2, 3, 4, 5, 1, 1, 2, 3, 4, 5, 5, 1, 2, 3, 4, 5, 5, 1, 2, 3, 4, 5, 5], \"Freq\": [0.3093925640353219, 0.6850835346496413, 0.9736693715047429, 0.9935328133000566, 0.9876611501828813, 0.9876611501828799, 0.10343552464665816, 0.861962705388818, 0.022985672143701813, 0.9783493634732383, 0.9876614204807088, 0.1491187951042352, 0.021302685014890743, 0.830804715580739, 0.1841253237898994, 0.4193965708547709, 0.030687553964983235, 0.14320858516992177, 0.21992747008237987, 0.8101538877347237, 0.02229781342389148, 0.05946083579704395, 0.08919125369556592, 0.02229781342389148, 0.9894572568645306, 0.24246466632495925, 0.18541415660143942, 0.08557576458527974, 0.317343460337079, 0.17115152917055948, 0.938140143810709, 0.012677569510955528, 0.03622162717415865, 0.012677569510955528, 0.9317734483502643, 0.06655524631073316, 0.9906219904933729, 0.03846804756330264, 0.5000846183229343, 0.13463816647155924, 0.31736139239724676, 0.00961701189082566, 0.9911292236751533, 0.9906219904933729, 0.9865158916181268, 0.1129694976513161, 0.44380874077302757, 0.07262324849013178, 0.29856224379276397, 0.06455399865789492, 0.9925752497128019, 0.9795622575221854, 0.9818464242185811, 0.9762105288698061, 0.9892276338629458, 0.9894557374750733, 0.9783073570819761, 0.8491431289404129, 0.053071445558775805, 0.01769048185292527, 0.07960716833816371, 0.9946814556457444, 0.046415752439595025, 0.9051071725721029, 0.023207876219797512, 0.023207876219797512, 0.9762105288698061, 0.010415238228151354, 0.020830476456302708, 0.041660952912605416, 0.020830476456302708, 0.9165409640773191, 0.013730426225670736, 0.988590688248293, 0.9783493634732383, 0.9768353262025091, 0.9783493634732383, 0.9762105288698061, 0.9808502859729907, 0.9892276338629458, 0.9924846823099527, 0.9783073570819761, 0.8925754498958078, 0.10500887645833033, 0.1440607979903699, 0.02401013299839498, 0.6322668356244012, 0.2080878193194232, 0.9911292307505879, 0.9814050002754543, 0.9937187624485908, 0.21623752769166313, 0.4448314855371356, 0.24095038799928178, 0.0061782150769046605, 0.09267322615356992, 0.9824375463970542, 0.9336232794178896, 0.02617635362853896, 0.008725451209512985, 0.03490180483805194, 0.9925752497128015, 0.9824376081754996, 0.9716441325145364, 0.9918976074941112, 0.040959189663709344, 0.9147552358228421, 0.040959189663709344, 0.9803775734014539, 0.9839722696385903, 0.9814050002754543, 0.9762105288698061, 0.9716441325145364, 0.12323607703196729, 0.5209525074533162, 0.07282131824616249, 0.12323607703196729, 0.15684591622250382, 0.3375618411517046, 0.16273339573437226, 0.0989594974060372, 0.22760684403388554, 0.172629345474976, 0.30038845250002544, 0.26852907117426517, 0.11378350473485813, 0.09557814397728083, 0.22301566928032193, 0.15262851989026183, 0.32682411324327804, 0.061383209086300954, 0.20903471202361948, 0.24885084764716603, 0.24512237199978526, 0.22254531142085768, 0.14191295221040198, 0.20641883957876653, 0.18384177899983895, 0.9814050002754543, 0.9894572568645303, 0.35229047073167474, 0.6144601233692001, 0.032771206579690675, 0.9840093511966734, 0.9906219904933729, 0.13361051454585027, 0.29776057527360916, 0.22904659636431474, 0.19087216363692894, 0.145062844364066, 0.9911292236746112, 0.9906219904933729, 0.9783493634732383, 0.988570316767202, 0.63427033206505, 0.11295225091569383, 0.24328177120303285, 0.9783073570819761, 0.9706679569772555, 0.9716441325145364, 0.03469513442411233, 0.954116196663089, 0.9925752497128015, 0.9768498531203377, 0.9783073570819761, 0.8096311464215546, 0.17839330344881713, 0.028219387674722846, 0.9594591809405767, 0.9716441325145364, 0.11317681167495357, 0.2829420291873839, 0.10610326094526897, 0.12025036240463816, 0.37489818867328367, 0.9948040810582285, 0.9781540469164915, 0.9335033234784261, 0.05259173653399584, 0.881573773260179, 0.10750899673904622, 0.0900326312948045, 0.0692558702267727, 0.7895169205852087, 0.04847910915874089, 0.02105106807485664, 0.9683491314434054, 0.9867138638974478, 0.9814050002754543, 0.9689203905086015, 0.8847426278705349, 0.023911962915419863, 0.0717358887462596, 0.011955981457709932, 0.011955981457709932, 0.9892276338629458, 0.9768498531203377, 0.9937187624485908, 0.9716441325145364, 0.5581821248918885, 0.07057475142311234, 0.17964482180428595, 0.13473361635321446, 0.05774297843709191, 0.44298874560109264, 0.1476629152003642, 0.14452115104716498, 0.1476629152003642, 0.11624527366837183, 0.9840090616059962, 0.6131541326766659, 0.09681381042263146, 0.29044143126789435, 0.9716441325145364, 0.9918977577899093, 0.9795700909299383, 0.9762105288698061, 0.9690096805256093, 0.018634801548569408, 0.9783073570819761, 0.981405890410009, 0.9860156097314094, 0.9519748291381812, 0.03227033319112479, 0.987661150182881, 0.9762105288698061, 0.2956460185551872, 0.005279393188485485, 0.5015423529061211, 0.1478230092775936, 0.047514538696369374, 0.3739845368298661, 0.0695785184799751, 0.19424003075659713, 0.23772660480658156, 0.12756061721328765, 0.6472251909897118, 0.16308036308402185, 0.09682896558113797, 0.09173270423476229, 0.5613073185352448, 0.07115163192700287, 0.2529835801848991, 0.11068031633089336, 0.5787439850449818, 0.037338321615805276, 0.08089969683424476, 0.13690717925795268, 0.16179939366848953, 0.9662608662537904, 0.01932521732507581, 0.9783493634732383, 0.00837084113167199, 0.04185420565835995, 0.11719177584340786, 0.34320448639855156, 0.4855087856369754, 0.9926017952942471, 0.2944637107480618, 0.11962588249140012, 0.36577914069485806, 0.07361592768701546, 0.14493135763381168, 0.9894572568645306, 0.4049764545994068, 0.0068640077050746914, 0.4873445470603031, 0.020592023115224074, 0.07550408475582161, 0.06913305129234039, 0.2567799048001214, 0.15143430283084083, 0.17447865326162096, 0.3489573065232419, 0.9875301064407934, 0.9911292415246991, 0.979744802878545, 0.9906219904933729, 0.9811125962489999, 0.03366441565526606, 0.8416103913816515, 0.1178254547934312, 0.049015766416544045, 0.07784857019098171, 0.11533121509775068, 0.2796781966120454, 0.47862454265566534, 0.010943441207992089, 0.8207580905994067, 0.17509505932787342, 0.9892276338629458, 0.9802782234601566, 0.9906219904933729, 0.9783493634732383, 0.9850198935766721, 0.9534857266808061, 0.047674286334040306, 0.9783493634732383, 0.9906219904933729, 0.9874896979576341, 0.964810857631592, 0.01969001750268555, 0.09170757190125514, 0.15519742937135486, 0.11992528633241056, 0.5572998600153197, 0.07759871468567743, 0.9811125962488471, 0.9925752497128019, 0.6658770579000581, 0.042959810187100524, 0.29212670927228357, 0.9519052629767665, 0.04532882204651269, 0.007554803674418782, 0.9902296649342833, 0.6101759306458674, 0.03081696619423573, 0.3143330551812044, 0.018490179716541436, 0.024653572955388583, 0.19230827255915842, 0.048077068139789604, 0.7692330902366337, 0.9876611501828807, 0.05206359455291991, 0.9371447019525583, 0.987661150182881, 0.9906219904933729, 0.9706679569772555, 0.26677391670780826, 0.022231159725650686, 0.6669347917695205, 0.03334673958847603, 0.01647982660673087, 0.41199566516827174, 0.15655835276394325, 0.20599783258413587, 0.20599783258413587, 0.9894572568645303, 0.9768498531203377, 0.9846072702893864, 0.9783073570819761, 0.9808502859729912, 0.9824376262559804, 0.9912352397972836, 0.9783493634732383, 0.974861827921919, 0.9894571697183717, 0.9548401337659781, 0.02220558450618554, 0.9814050002754543, 0.0679337566089852, 0.9057834214531358, 0.14875744804037938, 0.018594681005047423, 0.8181659642220865, 0.9906219904933729, 0.9906219904933729, 0.685009647899731, 0.1876738761369126, 0.13137171329583883, 0.9017363038864002, 0.02576389439675429, 0.06440973599188574, 0.9925752497128019, 0.9808502859729911, 0.08357885057609862, 0.15521786535561174, 0.42585414341155015, 0.2109370990730108, 0.12337830323138368, 0.2708109406139111, 0.009027031353797036, 0.7221625083037629, 0.9940048778277645, 0.10804910808205011, 0.8778990031666571, 0.9810031078456108, 0.9906219904933729, 0.9876614204807088, 0.9906219904933729, 0.9892276338629458, 0.9876614204807088, 0.16306511033038348, 0.543550367767945, 0.1521941029750246, 0.08696805884287119, 0.048919533099115044, 0.7549548460097752, 0.11467668546983928, 0.05733834273491964, 0.06689473319073957, 0.29017579477889666, 0.17922622618696557, 0.16215706178820696, 0.1962953905857242, 0.1735365047207127, 0.9906219904933729, 0.22840196123983025, 0.14392452352098895, 0.11263658362512177, 0.2722050770940443, 0.24091713719817712, 0.13872555812805015, 0.013872555812805014, 0.8462259045811059, 0.9716441325145364, 0.9906219904933729, 0.9937187624485906, 0.9937187624485901, 0.9783493634732383, 0.9729397215651052, 0.9814050002754543, 0.9846059532345516, 0.9876614204807088, 0.9814050002754543, 0.9814050002754543, 0.06887054598574736, 0.09838649426535337, 0.019677298853070672, 0.816607902402433, 0.9945957408222544, 0.21288331300490843, 0.7770240924679157, 0.9355813307874488, 0.05971795728430524, 0.9336646396257954, 0.06429427159099789, 0.002795403112652082, 0.6998315137965392, 0.10393537333611969, 0.03464512444537323, 0.10393537333611969, 0.06236122400167181, 0.9860797445990837, 0.026359092103391032, 0.38879660852501774, 0.2635909210339103, 0.2042829638012805, 0.12520568749110741, 0.9935147270836503, 0.9894572568645303, 0.9911292346079316, 0.9937187624485904, 0.9937187624485899, 0.9716441325145364, 0.9906219904933729, 0.9906219904933729, 0.027464718900690976, 0.013732359450345488, 0.08239415670207292, 0.1098588756027639, 0.7552797697690019, 0.045921523055191225, 0.07806658919382509, 0.11480380763797805, 0.32145066138633854, 0.44084662132983576, 0.9875925317138219, 0.9854641297329488, 0.049574210505204566, 0.9419099995988868, 0.9305318857384084, 0.0680876989564689, 0.9782343226914156, 0.982437608174428, 0.9916280054746646, 0.9783073570819761, 0.9783493634732383, 0.8817796902635074, 0.10174381041502009, 0.9906219904933729, 0.9736695436698675, 0.9946814258021826, 0.24444573052533713, 0.21275832101279343, 0.14938350198770603, 0.09053545575012487, 0.3032937767629183, 0.9937187624485904, 0.14084292037667634, 0.12141631066954857, 0.2209776854185784, 0.37639056307560054, 0.13841459416328536, 0.9783493634732383, 0.2125010058421317, 0.33237336811205215, 0.2996809056748011, 0.10352613105129492, 0.054487437395418385, 0.9783493634732383, 0.17032532836985836, 0.22142292688081586, 0.051097598510957506, 0.12774399627739377, 0.4343295873431388, 0.9814050002754543], \"Term\": [\"___ ___\", \"___ ___\", \"___ _____\", \"accuraci ofn\", \"activ netn\", \"alink ksand\", \"amateur radio\", \"amateur radio\", \"amateur radio\", \"americanoccupi new\", \"andn slpittedu\", \"anonym ftp\", \"anonym ftp\", \"anonym ftp\", \"answer question\", \"answer question\", \"answer question\", \"answer question\", \"answer question\", \"anybodi know\", \"anybodi know\", \"anybodi know\", \"anybodi know\", \"anybodi know\", \"anymor weird\", \"anyon els\", \"anyon els\", \"anyon els\", \"anyon els\", \"anyon els\", \"anyon know\", \"anyon know\", \"anyon know\", \"anyon know\", \"anyon tell\", \"anyon tell\", \"appressian soviet\", \"apr gmtn\", \"apr gmtn\", \"apr gmtn\", \"apr gmtn\", \"apr gmtn\", \"argicn close\", \"armenia today\", \"artifici intellig\", \"ask question\", \"ask question\", \"ask question\", \"ask question\", \"ask question\", \"associ research\", \"athen georgia\", \"att bell\", \"babi biken\", \"bank njxp\", \"begin think\", \"behannatdod fxwg\", \"believ god\", \"believ god\", \"believ god\", \"believ god\", \"believ speak\", \"bibl say\", \"bibl say\", \"bibl say\", \"bibl say\", \"biken disclaim\", \"bill clinton\", \"bill clinton\", \"bill clinton\", \"bill clinton\", \"bill clinton\", \"brand new\", \"brand new\", \"bush willn\", \"care taken\", \"carter opinion\", \"cbt babi\", \"center region\", \"chastiti intellect\", \"cheersn kentn\", \"chri behannatdod\", \"clayton cramer\", \"clayton cramer\", \"clipper chip\", \"clipper chip\", \"clipper chip\", \"clipper chip\", \"close road\", \"collis henri\", \"companyn tratuscom\", \"comput scienc\", \"comput scienc\", \"comput scienc\", \"comput scienc\", \"comput scienc\", \"consent alln\", \"could someon\", \"could someon\", \"could someon\", \"could someon\", \"covington associ\", \"cramer uunetpyramidoptilinkcram\", \"daren tttgo\", \"david davidian\", \"david sternlight\", \"david sternlight\", \"david sternlight\", \"david veal\", \"davidian dpaorg\", \"dick dunn\", \"disclaim nect\", \"domi stanleyn\", \"dont believ\", \"dont believ\", \"dont believ\", \"dont believ\", \"dont believ\", \"dont know\", \"dont know\", \"dont know\", \"dont know\", \"dont know\", \"dont see\", \"dont see\", \"dont see\", \"dont see\", \"dont see\", \"dont think\", \"dont think\", \"dont think\", \"dont think\", \"dont think\", \"dont want\", \"dont want\", \"dont want\", \"dont want\", \"dont want\", \"dunn orontoedu\", \"elev shaft\", \"email address\", \"email address\", \"email address\", \"employ opinion\", \"escap turk\", \"even though\", \"even though\", \"even though\", \"even though\", \"even though\", \"exist singl\", \"exterminationn ohanu\", \"fail presidentn\", \"frank odwyer\", \"ftp site\", \"ftp site\", \"ftp site\", \"fxwg wide\", \"gaedu univers\", \"gari daren\", \"georg bush\", \"georg bush\", \"georgia phone\", \"georgia usa\", \"glide jubile\", \"god exist\", \"god exist\", \"god love\", \"god love\", \"gon itnettttselann\", \"gon na\", \"gon na\", \"gon na\", \"gon na\", \"gon na\", \"gordon bank\", \"great care\", \"greatli appreci\", \"greatli appreci\", \"greatli appreciatedn\", \"greatli appreciatedn\", \"hard drive\", \"hard drive\", \"hard drive\", \"hard drive\", \"hard driven\", \"hard driven\", \"help greatli\", \"highspe collis\", \"holi spirit\", \"hope helpsn\", \"hope helpsn\", \"hope helpsn\", \"hope helpsn\", \"hope helpsn\", \"intellect andn\", \"intellig program\", \"investor packetn\", \"itnettttselann domi\", \"ive got\", \"ive got\", \"ive got\", \"ive got\", \"ive got\", \"ive seen\", \"ive seen\", \"ive seen\", \"ive seen\", \"ive seen\", \"jake livni\", \"jesu christ\", \"jesu christ\", \"jesu christ\", \"jet gon\", \"jet propuls\", \"jimmi carter\", \"jneccomt cbt\", \"jon livesey\", \"jon livesey\", \"jubile red\", \"keep bear\", \"kentn pplecom\", \"know get\", \"know get\", \"ksand privat\", \"ladyn jneccomt\", \"last night\", \"last night\", \"last night\", \"last night\", \"last night\", \"last year\", \"last year\", \"last year\", \"last year\", \"last year\", \"let know\", \"let know\", \"let know\", \"let know\", \"like get\", \"like get\", \"like get\", \"like get\", \"like know\", \"like know\", \"like know\", \"like know\", \"like know\", \"livesey writesn\", \"livesey writesn\", \"livni onycom\", \"lo angel\", \"lo angel\", \"lo angel\", \"lo angel\", \"lo angel\", \"longer exist\", \"look like\", \"look like\", \"look like\", \"look like\", \"look like\", \"love anymor\", \"mail list\", \"mail list\", \"mail list\", \"mail list\", \"mail list\", \"mani peopl\", \"mani peopl\", \"mani peopl\", \"mani peopl\", \"mani peopl\", \"michael covington\", \"might serv\", \"minen relat\", \"mountain pass\", \"mutual consent\", \"new testament\", \"new testament\", \"new testament\", \"new york\", \"new york\", \"new york\", \"new york\", \"new york\", \"next year\", \"next year\", \"next year\", \"njxp skeptic\", \"ofn god\", \"ohanu appressian\", \"onycom ten\", \"opinion employ\", \"opinion minen\", \"opinion minen\", \"opinion standard\", \"pass might\", \"pat myrto\", \"pdsgicom jon\", \"pdsgicom jon\", \"peopl dont\", \"peopl dont\", \"peopl dont\", \"peopl dont\", \"peopl dont\", \"peopl mutual\", \"phone athen\", \"pleas email\", \"pleas email\", \"pleas email\", \"pleas let\", \"pleas let\", \"pleas let\", \"pleas repli\", \"pleas send\", \"pleas send\", \"pleas send\", \"pleas send\", \"pleas send\", \"polici research\", \"polici research\", \"polici research\", \"pplecom alink\", \"presid clinton\", \"presid clinton\", \"privat activ\", \"proceed work\", \"program gaedu\", \"public domain\", \"public domain\", \"public domain\", \"public domain\", \"public key\", \"public key\", \"public key\", \"public key\", \"public key\", \"push elev\", \"radio ntmi\", \"rais tax\", \"red ladyn\", \"region studi\", \"relat peopl\", \"rememb way\", \"replac jimmi\", \"repli email\", \"repli via\", \"research scientist\", \"research scientist\", \"resembl highspe\", \"right keep\", \"right keep\", \"right peopl\", \"right peopl\", \"right peopl\", \"road mountain\", \"sahak melkonian\", \"san jose\", \"san jose\", \"san jose\", \"say god\", \"say god\", \"say god\", \"scientist artifici\", \"sdpa center\", \"seem like\", \"seem like\", \"seem like\", \"seem like\", \"seem like\", \"send email\", \"send email\", \"send email\", \"serdar argicn\", \"serial number\", \"serial number\", \"serial port\", \"serv way\", \"shame surrend\", \"singl turkish\", \"skeptic chastiti\", \"slpittedu shame\", \"someon els\", \"someon els\", \"someon els\", \"someon els\", \"someon els\", \"someon pleas\", \"someon pleas\", \"someon pleas\", \"someon pleas\", \"someth like\", \"someth like\", \"someth like\", \"someth like\", \"someth like\", \"soul sahak\", \"sound like\", \"sound like\", \"sound like\", \"sound like\", \"sound like\", \"sourc code\", \"sourc code\", \"sourc code\", \"souvien gari\", \"soviet armenia\", \"speak companyn\", \"special investor\", \"standard fail\", \"still rememb\", \"suno dick\", \"sure former\", \"surrend soon\", \"svr resembl\", \"svr suno\", \"take away\", \"take away\", \"take away\", \"take away\", \"taken ensur\", \"ten year\", \"ten year\", \"thank advanc\", \"thank advanc\", \"thank advancen\", \"thank advancen\", \"thank advancen\", \"thank youn\", \"thank youn\", \"thank youn\", \"thank youn\", \"thank youn\", \"thing infinit\", \"thing like\", \"thing like\", \"thing like\", \"thing like\", \"thing like\", \"tim clock\", \"tkedu still\", \"today longer\", \"today special\", \"tratuscom write\", \"tttgo winnipeg\", \"turk proceed\", \"turkish soul\", \"two thing\", \"two thing\", \"two thing\", \"two thing\", \"two thing\", \"unit state\", \"unit state\", \"unit state\", \"unit state\", \"unit state\", \"univ tenn\", \"univers georgia\", \"univers human\", \"univers human\", \"univers illinoi\", \"univers illinoi\", \"usa amateur\", \"uunetpyramidoptilinkcram opinion\", \"way escap\", \"wide glide\", \"willn americanoccupi\", \"winnipeg jet\", \"winnipeg jet\", \"work exterminationn\", \"work man\", \"write today\", \"writesn articl\", \"writesn articl\", \"writesn articl\", \"writesn articl\", \"writesn articl\", \"wstratuscom believ\", \"year ago\", \"year ago\", \"year ago\", \"year ago\", \"year ago\", \"year georg\", \"year old\", \"year old\", \"year old\", \"year old\", \"year old\", \"york replac\", \"youv got\", \"youv got\", \"youv got\", \"youv got\", \"youv got\", \"zoologyn svr\"]}, \"R\": 30, \"lambda.step\": 0.01, \"plot.opts\": {\"xlab\": \"PC1\", \"ylab\": \"PC2\"}, \"topic.order\": [3, 2, 4, 1, 5]};\n",
              "\n",
              "function LDAvis_load_lib(url, callback){\n",
              "  var s = document.createElement('script');\n",
              "  s.src = url;\n",
              "  s.async = true;\n",
              "  s.onreadystatechange = s.onload = callback;\n",
              "  s.onerror = function(){console.warn(\"failed to load library \" + url);};\n",
              "  document.getElementsByTagName(\"head\")[0].appendChild(s);\n",
              "}\n",
              "\n",
              "if(typeof(LDAvis) !== \"undefined\"){\n",
              "   // already loaded: just create the visualization\n",
              "   !function(LDAvis){\n",
              "       new LDAvis(\"#\" + \"ldavis_el121140149649832000192182057\", ldavis_el121140149649832000192182057_data);\n",
              "   }(LDAvis);\n",
              "}else if(typeof define === \"function\" && define.amd){\n",
              "   // require.js is available: use it to load d3/LDAvis\n",
              "   require.config({paths: {d3: \"https://cdnjs.cloudflare.com/ajax/libs/d3/3.5.5/d3.min\"}});\n",
              "   require([\"d3\"], function(d3){\n",
              "      window.d3 = d3;\n",
              "      LDAvis_load_lib(\"https://cdn.rawgit.com/bmabey/pyLDAvis/files/ldavis.v1.0.0.js\", function(){\n",
              "        new LDAvis(\"#\" + \"ldavis_el121140149649832000192182057\", ldavis_el121140149649832000192182057_data);\n",
              "      });\n",
              "    });\n",
              "}else{\n",
              "    // require.js not available: dynamically load d3 & LDAvis\n",
              "    LDAvis_load_lib(\"https://cdnjs.cloudflare.com/ajax/libs/d3/3.5.5/d3.min.js\", function(){\n",
              "         LDAvis_load_lib(\"https://cdn.rawgit.com/bmabey/pyLDAvis/files/ldavis.v1.0.0.js\", function(){\n",
              "                 new LDAvis(\"#\" + \"ldavis_el121140149649832000192182057\", ldavis_el121140149649832000192182057_data);\n",
              "            })\n",
              "         });\n",
              "}\n",
              "</script>"
            ],
            "text/plain": [
              "PreparedData(topic_coordinates=                x           y  topics  cluster       Freq\n",
              "topic                                                    \n",
              "2      150.222153  -72.269554       1        1  21.496633\n",
              "1       51.163364 -159.968018       2        1  21.307838\n",
              "3      -73.144554   21.523815       3        1  20.113796\n",
              "0      -66.410133 -110.606438       4        1  18.698636\n",
              "4       54.417324   12.443444       5        1  18.383097, topic_info=      Category        Freq            Term       Total  loglift  logprob\n",
              "567    Default  552.000000      anyon know  552.000000  30.0000  30.0000\n",
              "11197  Default  357.000000  thank advancen  357.000000  29.0000  29.0000\n",
              "10087  Default  120.000000   serdar argicn  120.000000  28.0000  28.0000\n",
              "8458   Default  132.000000     pleas repli  132.000000  27.0000  27.0000\n",
              "6411   Default  117.000000    longer exist  117.000000  26.0000  26.0000\n",
              "...        ...         ...             ...         ...      ...      ...\n",
              "2932    Topic5   57.079156       dont want  310.049219   0.0014  -6.7330\n",
              "13199   Topic5   57.165393        year ago  411.806286  -0.2809  -6.7315\n",
              "13332   Topic5   51.210328        youv got  117.422348   0.8639  -6.8415\n",
              "2914    Topic5   48.861504        dont see  219.715503   0.1904  -6.8884\n",
              "552     Topic5   48.451476       anyon els  280.453235  -0.0621  -6.8968\n",
              "\n",
              "[305 rows x 6 columns], token_table=       Topic      Freq          Term\n",
              "term                                \n",
              "0          2  0.309393       ___ ___\n",
              "0          3  0.685084       ___ ___\n",
              "2          3  0.973669     ___ _____\n",
              "93         4  0.993533  accuraci ofn\n",
              "107        3  0.987661    activ netn\n",
              "...      ...       ...           ...\n",
              "13332      2  0.221423      youv got\n",
              "13332      3  0.051098      youv got\n",
              "13332      4  0.127744      youv got\n",
              "13332      5  0.434330      youv got\n",
              "13341      5  0.981405  zoologyn svr\n",
              "\n",
              "[499 rows x 3 columns], R=30, lambda_step=0.01, plot_opts={'xlab': 'PC1', 'ylab': 'PC2'}, topic_order=[3, 2, 4, 1, 5])"
            ]
          },
          "metadata": {
            "tags": []
          },
          "execution_count": 39
        }
      ]
    }
  ]
}