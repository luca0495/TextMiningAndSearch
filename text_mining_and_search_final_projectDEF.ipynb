{
  "nbformat": 4,
  "nbformat_minor": 0,
  "metadata": {
    "colab": {
      "name": "text_mining_and_search_final_project.ipynb",
      "provenance": [],
      "collapsed_sections": [],
      "toc_visible": true,
      "machine_shape": "hm"
    },
    "kernelspec": {
      "name": "python3",
      "display_name": "Python 3"
    },
    "accelerator": "GPU"
  },
  "cells": [
    {
      "cell_type": "markdown",
      "metadata": {
        "id": "XSTfRHgTf5ep",
        "colab_type": "text"
      },
      "source": [
        "#20 NEWS GROUP CLASSIFICATION  \n",
        "\n",
        "Corrado Montoro \n",
        "\n",
        "Luca Lazzati"
      ]
    },
    {
      "cell_type": "code",
      "metadata": {
        "id": "vY4nqDDh3NK-",
        "colab_type": "code",
        "colab": {
          "base_uri": "https://localhost:8080/",
          "height": 612
        },
        "outputId": "d8b0a914-3d29-4672-b58d-13ecdd0de045"
      },
      "source": [
        "pip install pyLDAvis"
      ],
      "execution_count": 3,
      "outputs": [
        {
          "output_type": "stream",
          "text": [
            "Collecting pyLDAvis\n",
            "\u001b[?25l  Downloading https://files.pythonhosted.org/packages/a5/3a/af82e070a8a96e13217c8f362f9a73e82d61ac8fff3a2561946a97f96266/pyLDAvis-2.1.2.tar.gz (1.6MB)\n",
            "\u001b[K     |████████████████████████████████| 1.6MB 8.4MB/s \n",
            "\u001b[?25hRequirement already satisfied: wheel>=0.23.0 in /usr/local/lib/python3.6/dist-packages (from pyLDAvis) (0.34.2)\n",
            "Requirement already satisfied: numpy>=1.9.2 in /usr/local/lib/python3.6/dist-packages (from pyLDAvis) (1.18.5)\n",
            "Requirement already satisfied: scipy>=0.18.0 in /usr/local/lib/python3.6/dist-packages (from pyLDAvis) (1.4.1)\n",
            "Requirement already satisfied: pandas>=0.17.0 in /usr/local/lib/python3.6/dist-packages (from pyLDAvis) (1.0.5)\n",
            "Requirement already satisfied: joblib>=0.8.4 in /usr/local/lib/python3.6/dist-packages (from pyLDAvis) (0.15.1)\n",
            "Requirement already satisfied: jinja2>=2.7.2 in /usr/local/lib/python3.6/dist-packages (from pyLDAvis) (2.11.2)\n",
            "Requirement already satisfied: numexpr in /usr/local/lib/python3.6/dist-packages (from pyLDAvis) (2.7.1)\n",
            "Requirement already satisfied: pytest in /usr/local/lib/python3.6/dist-packages (from pyLDAvis) (3.6.4)\n",
            "Requirement already satisfied: future in /usr/local/lib/python3.6/dist-packages (from pyLDAvis) (0.16.0)\n",
            "Collecting funcy\n",
            "\u001b[?25l  Downloading https://files.pythonhosted.org/packages/ce/4b/6ffa76544e46614123de31574ad95758c421aae391a1764921b8a81e1eae/funcy-1.14.tar.gz (548kB)\n",
            "\u001b[K     |████████████████████████████████| 552kB 19.0MB/s \n",
            "\u001b[?25hRequirement already satisfied: python-dateutil>=2.6.1 in /usr/local/lib/python3.6/dist-packages (from pandas>=0.17.0->pyLDAvis) (2.8.1)\n",
            "Requirement already satisfied: pytz>=2017.2 in /usr/local/lib/python3.6/dist-packages (from pandas>=0.17.0->pyLDAvis) (2018.9)\n",
            "Requirement already satisfied: MarkupSafe>=0.23 in /usr/local/lib/python3.6/dist-packages (from jinja2>=2.7.2->pyLDAvis) (1.1.1)\n",
            "Requirement already satisfied: more-itertools>=4.0.0 in /usr/local/lib/python3.6/dist-packages (from pytest->pyLDAvis) (8.4.0)\n",
            "Requirement already satisfied: pluggy<0.8,>=0.5 in /usr/local/lib/python3.6/dist-packages (from pytest->pyLDAvis) (0.7.1)\n",
            "Requirement already satisfied: py>=1.5.0 in /usr/local/lib/python3.6/dist-packages (from pytest->pyLDAvis) (1.8.2)\n",
            "Requirement already satisfied: setuptools in /usr/local/lib/python3.6/dist-packages (from pytest->pyLDAvis) (47.3.1)\n",
            "Requirement already satisfied: six>=1.10.0 in /usr/local/lib/python3.6/dist-packages (from pytest->pyLDAvis) (1.12.0)\n",
            "Requirement already satisfied: atomicwrites>=1.0 in /usr/local/lib/python3.6/dist-packages (from pytest->pyLDAvis) (1.4.0)\n",
            "Requirement already satisfied: attrs>=17.4.0 in /usr/local/lib/python3.6/dist-packages (from pytest->pyLDAvis) (19.3.0)\n",
            "Building wheels for collected packages: pyLDAvis, funcy\n",
            "  Building wheel for pyLDAvis (setup.py) ... \u001b[?25l\u001b[?25hdone\n",
            "  Created wheel for pyLDAvis: filename=pyLDAvis-2.1.2-py2.py3-none-any.whl size=97711 sha256=1201392df4b40ec340f7901bb8d22878af3a89f2c359a4da30dcabf4496f2bf1\n",
            "  Stored in directory: /root/.cache/pip/wheels/98/71/24/513a99e58bb6b8465bae4d2d5e9dba8f0bef8179e3051ac414\n",
            "  Building wheel for funcy (setup.py) ... \u001b[?25l\u001b[?25hdone\n",
            "  Created wheel for funcy: filename=funcy-1.14-py2.py3-none-any.whl size=32042 sha256=0e2d4bf2e3ca5eefe489bbb1f4e2a6da921a3eb86d72a465e2f5fe690ee2cad9\n",
            "  Stored in directory: /root/.cache/pip/wheels/20/5a/d8/1d875df03deae6f178dfdf70238cca33f948ef8a6f5209f2eb\n",
            "Successfully built pyLDAvis funcy\n",
            "Installing collected packages: funcy, pyLDAvis\n",
            "Successfully installed funcy-1.14 pyLDAvis-2.1.2\n"
          ],
          "name": "stdout"
        }
      ]
    },
    {
      "cell_type": "code",
      "metadata": {
        "id": "QkczHwhNf8Gb",
        "colab_type": "code",
        "colab": {
          "base_uri": "https://localhost:8080/",
          "height": 119
        },
        "outputId": "f7f28bfa-6f52-4a9a-a58b-7abd39b5c4de"
      },
      "source": [
        "import os\n",
        "import pandas as pd\n",
        "import numpy as np\n",
        "import re\n",
        "from collections import Counter\n",
        "import matplotlib.pyplot as plt\n",
        "import nltk\n",
        "from nltk.corpus import stopwords\n",
        "from nltk.stem import WordNetLemmatizer\n",
        "from nltk.stem import PorterStemmer\n",
        "nltk.download('stopwords')\n",
        "nltk.download('wordnet')\n",
        "nltk.download('punkt')\n",
        "from sklearn.model_selection import train_test_split\n",
        "from sklearn.feature_extraction.text import TfidfVectorizer\n",
        "from sklearn.feature_extraction.text import CountVectorizer\n",
        "from sklearn.feature_selection import SelectKBest, chi2\n",
        "from sklearn.model_selection import GridSearchCV\n",
        "from sklearn.ensemble import RandomForestClassifier\n",
        "from sklearn.naive_bayes import MultinomialNB\n",
        "from sklearn.linear_model import LogisticRegression\n",
        "from sklearn.preprocessing import StandardScaler, LabelBinarizer\n",
        "from sklearn.metrics import confusion_matrix\n",
        "from sklearn.metrics import accuracy_score\n",
        "from sklearn.metrics import classification_report\n",
        "from tensorflow.keras.models import Sequential\n",
        "from tensorflow.keras.layers import Dense\n",
        "from sklearn.naive_bayes import MultinomialNB\n",
        "from sklearn.pipeline import Pipeline\n",
        "from sklearn.feature_extraction.text import TfidfTransformer\n",
        "from sklearn.linear_model import SGDClassifier\n",
        "from sklearn import model_selection, preprocessing\n",
        "from pprint import pprint\n",
        "import gensim\n",
        "import gensim.corpora as corpora\n",
        "from gensim.utils import simple_preprocess\n",
        "from gensim.models import CoherenceModel\n",
        "import spacy\n",
        "import pyLDAvis.gensim \n",
        "import matplotlib.pyplot as plt\n",
        "%matplotlib inline\n",
        "import logging\n",
        "logging.basicConfig(format='%(asctime)s : %(levelname)s : %(message)s', level=logging.ERROR)\n",
        "import warnings\n",
        "warnings.filterwarnings(\"ignore\",category=DeprecationWarning)\n",
        "import re, nltk, spacy, gensim\n",
        "# Sklearn\n",
        "from sklearn.decomposition import LatentDirichletAllocation, TruncatedSVD\n",
        "from sklearn.feature_extraction.text import CountVectorizer, TfidfVectorizer\n",
        "from sklearn.model_selection import GridSearchCV\n",
        "from pprint import pprint\n",
        "import pyLDAvis\n",
        "import pyLDAvis.sklearn\n"
      ],
      "execution_count": 4,
      "outputs": [
        {
          "output_type": "stream",
          "text": [
            "[nltk_data] Downloading package stopwords to /root/nltk_data...\n",
            "[nltk_data]   Unzipping corpora/stopwords.zip.\n",
            "[nltk_data] Downloading package wordnet to /root/nltk_data...\n",
            "[nltk_data]   Unzipping corpora/wordnet.zip.\n",
            "[nltk_data] Downloading package punkt to /root/nltk_data...\n",
            "[nltk_data]   Unzipping tokenizers/punkt.zip.\n"
          ],
          "name": "stdout"
        }
      ]
    },
    {
      "cell_type": "code",
      "metadata": {
        "id": "GGRypLAbJyPR",
        "colab_type": "code",
        "colab": {
          "base_uri": "https://localhost:8080/",
          "height": 122
        },
        "outputId": "82de36a4-3c0b-426a-bf49-4a0bb0a62ca9"
      },
      "source": [
        "from google.colab import drive\n",
        "drive.mount('/content/drive')"
      ],
      "execution_count": 5,
      "outputs": [
        {
          "output_type": "stream",
          "text": [
            "Go to this URL in a browser: https://accounts.google.com/o/oauth2/auth?client_id=947318989803-6bn6qk8qdgf4n4g3pfee6491hc0brc4i.apps.googleusercontent.com&redirect_uri=urn%3aietf%3awg%3aoauth%3a2.0%3aoob&response_type=code&scope=email%20https%3a%2f%2fwww.googleapis.com%2fauth%2fdocs.test%20https%3a%2f%2fwww.googleapis.com%2fauth%2fdrive%20https%3a%2f%2fwww.googleapis.com%2fauth%2fdrive.photos.readonly%20https%3a%2f%2fwww.googleapis.com%2fauth%2fpeopleapi.readonly\n",
            "\n",
            "Enter your authorization code:\n",
            "··········\n",
            "Mounted at /content/drive\n"
          ],
          "name": "stdout"
        }
      ]
    },
    {
      "cell_type": "markdown",
      "metadata": {
        "id": "b29kjwxQf_pX",
        "colab_type": "text"
      },
      "source": [
        "# Parsing dei file"
      ]
    },
    {
      "cell_type": "code",
      "metadata": {
        "id": "LVIBpRahgBCi",
        "colab_type": "code",
        "colab": {}
      },
      "source": [
        "flist = [os.path.join(path, name) for path, subdirs, files in os.walk(\"/content/drive/My Drive/20_newsgroups\") for name in files] \n",
        "text = []\n",
        "diz = {}\n",
        "for si in range(len(flist)):\n",
        "    filein = flist[si]\n",
        "    ls_filein = filein.split('/')\n",
        "    target = ls_filein[5].split('\\\\')[0]\n",
        "    ind = ls_filein[6].split('\\\\')[-1]\n",
        "    with open(filein) as f: data = f.readlines()\n",
        "    text = None\n",
        "    for j in range(len(data)):\n",
        "        if (data[j] == '\\n'):\n",
        "            text = data[j+1:]\n",
        "            for k in range(len(text)):\n",
        "                if ('Version:' in text[k]):\n",
        "                    text = text[k+1:]\n",
        "                    break;\n",
        "                elif ('writes' in text[k]):\n",
        "                    text = text[k+1:]\n",
        "                    break;\n",
        "                elif ('wrotes' in text[k]):\n",
        "                    text = text[k+1:]\n",
        "                    break;\n",
        "                elif (text[k] == '\\n' and text[k-1] =='\\n'):\n",
        "                    text = text[k+1:]\n",
        "                    break;\n",
        "            break;\n",
        "    diz[int(si)] = {'text':text, 'target':target, 'idx':int(ind)}\n",
        "    \n",
        "df = pd.DataFrame.from_dict(diz, orient = 'index')"
      ],
      "execution_count": null,
      "outputs": []
    },
    {
      "cell_type": "code",
      "metadata": {
        "id": "TL-XE18_upjM",
        "colab_type": "code",
        "colab": {}
      },
      "source": [
        "df.to_csv(\"DataTextMiningAll.csv\")"
      ],
      "execution_count": null,
      "outputs": []
    },
    {
      "cell_type": "markdown",
      "metadata": {
        "id": "ez4SFFzYTDbw",
        "colab_type": "text"
      },
      "source": [
        "# RACCOLTA DEI FILE"
      ]
    },
    {
      "cell_type": "markdown",
      "metadata": {
        "id": "ZHi-tFjCTLZm",
        "colab_type": "text"
      },
      "source": [
        "doc: tutti i file con i vari testi\n",
        "\n",
        "classe: target dei file\n",
        "\n",
        "idx: indice dei vari file"
      ]
    },
    {
      "cell_type": "code",
      "metadata": {
        "id": "F450zJOXwwcc",
        "colab_type": "code",
        "colab": {
          "base_uri": "https://localhost:8080/",
          "height": 163
        },
        "outputId": "9d977355-374e-4d69-9b2b-9a0d5cd83434"
      },
      "source": [
        "df = pd.read_csv('/content/drive/My Drive/DataTextMiningAll.csv')  "
      ],
      "execution_count": 1,
      "outputs": [
        {
          "output_type": "error",
          "ename": "NameError",
          "evalue": "ignored",
          "traceback": [
            "\u001b[0;31m---------------------------------------------------------------------------\u001b[0m",
            "\u001b[0;31mNameError\u001b[0m                                 Traceback (most recent call last)",
            "\u001b[0;32m<ipython-input-1-b8e5b3bf8f69>\u001b[0m in \u001b[0;36m<module>\u001b[0;34m()\u001b[0m\n\u001b[0;32m----> 1\u001b[0;31m \u001b[0mdf\u001b[0m \u001b[0;34m=\u001b[0m \u001b[0mpd\u001b[0m\u001b[0;34m.\u001b[0m\u001b[0mread_csv\u001b[0m\u001b[0;34m(\u001b[0m\u001b[0;34m'/content/drive/My Drive/DataTextMiningAll.csv'\u001b[0m\u001b[0;34m)\u001b[0m\u001b[0;34m\u001b[0m\u001b[0;34m\u001b[0m\u001b[0m\n\u001b[0m",
            "\u001b[0;31mNameError\u001b[0m: name 'pd' is not defined"
          ]
        }
      ]
    },
    {
      "cell_type": "code",
      "metadata": {
        "id": "hpU-zwJxw8IH",
        "colab_type": "code",
        "colab": {
          "base_uri": "https://localhost:8080/",
          "height": 163
        },
        "outputId": "5496cf1e-a4b6-448d-ea3a-452dfc21ab06"
      },
      "source": [
        "df.head()"
      ],
      "execution_count": 2,
      "outputs": [
        {
          "output_type": "error",
          "ename": "NameError",
          "evalue": "ignored",
          "traceback": [
            "\u001b[0;31m---------------------------------------------------------------------------\u001b[0m",
            "\u001b[0;31mNameError\u001b[0m                                 Traceback (most recent call last)",
            "\u001b[0;32m<ipython-input-2-c42a15b2c7cf>\u001b[0m in \u001b[0;36m<module>\u001b[0;34m()\u001b[0m\n\u001b[0;32m----> 1\u001b[0;31m \u001b[0mdf\u001b[0m\u001b[0;34m.\u001b[0m\u001b[0mhead\u001b[0m\u001b[0;34m(\u001b[0m\u001b[0;34m)\u001b[0m\u001b[0;34m\u001b[0m\u001b[0;34m\u001b[0m\u001b[0m\n\u001b[0m",
            "\u001b[0;31mNameError\u001b[0m: name 'df' is not defined"
          ]
        }
      ]
    },
    {
      "cell_type": "markdown",
      "metadata": {
        "id": "wgpSlAOQB9-B",
        "colab_type": "text"
      },
      "source": [
        "Eliminazione della colonna **Unnamed: 0**"
      ]
    },
    {
      "cell_type": "code",
      "metadata": {
        "id": "KdGmZ-aIhx47",
        "colab_type": "code",
        "colab": {}
      },
      "source": [
        "df.drop(columns={\"Unnamed: 0\": \"\"},inplace=True)"
      ],
      "execution_count": 6,
      "outputs": []
    },
    {
      "cell_type": "markdown",
      "metadata": {
        "id": "BreHaNpSc5Vk",
        "colab_type": "text"
      },
      "source": [
        "Visualizzazione "
      ]
    },
    {
      "cell_type": "code",
      "metadata": {
        "id": "jfwjlEATiRI8",
        "colab_type": "code",
        "colab": {
          "base_uri": "https://localhost:8080/",
          "height": 204
        },
        "outputId": "f244ad9c-ba4c-42f0-faf1-afe8fd64f65c"
      },
      "source": [
        "df.head()"
      ],
      "execution_count": 7,
      "outputs": [
        {
          "output_type": "execute_result",
          "data": {
            "text/html": [
              "<div>\n",
              "<style scoped>\n",
              "    .dataframe tbody tr th:only-of-type {\n",
              "        vertical-align: middle;\n",
              "    }\n",
              "\n",
              "    .dataframe tbody tr th {\n",
              "        vertical-align: top;\n",
              "    }\n",
              "\n",
              "    .dataframe thead th {\n",
              "        text-align: right;\n",
              "    }\n",
              "</style>\n",
              "<table border=\"1\" class=\"dataframe\">\n",
              "  <thead>\n",
              "    <tr style=\"text-align: right;\">\n",
              "      <th></th>\n",
              "      <th>text</th>\n",
              "      <th>target</th>\n",
              "      <th>idx</th>\n",
              "    </tr>\n",
              "  </thead>\n",
              "  <tbody>\n",
              "    <tr>\n",
              "      <th>0</th>\n",
              "      <td>['&gt;In article &lt;Apr.7.01.56.56.1993.22824@athos...</td>\n",
              "      <td>soc.religion.christian</td>\n",
              "      <td>20487</td>\n",
              "    </tr>\n",
              "    <tr>\n",
              "      <th>1</th>\n",
              "      <td>['I have come across what I consider to be an ...</td>\n",
              "      <td>soc.religion.christian</td>\n",
              "      <td>20488</td>\n",
              "    </tr>\n",
              "    <tr>\n",
              "      <th>2</th>\n",
              "      <td>['Hi...\\n', '\\n', \"I'm new to this group, and ...</td>\n",
              "      <td>soc.religion.christian</td>\n",
              "      <td>20362</td>\n",
              "    </tr>\n",
              "    <tr>\n",
              "      <th>3</th>\n",
              "      <td>['Therefore, whoever humbles himself like this...</td>\n",
              "      <td>soc.religion.christian</td>\n",
              "      <td>20365</td>\n",
              "    </tr>\n",
              "    <tr>\n",
              "      <th>4</th>\n",
              "      <td>['&gt;In article &lt;Mar.22.02.52.49.1993.330@athos....</td>\n",
              "      <td>soc.religion.christian</td>\n",
              "      <td>20361</td>\n",
              "    </tr>\n",
              "  </tbody>\n",
              "</table>\n",
              "</div>"
            ],
            "text/plain": [
              "                                                text  ...    idx\n",
              "0  ['>In article <Apr.7.01.56.56.1993.22824@athos...  ...  20487\n",
              "1  ['I have come across what I consider to be an ...  ...  20488\n",
              "2  ['Hi...\\n', '\\n', \"I'm new to this group, and ...  ...  20362\n",
              "3  ['Therefore, whoever humbles himself like this...  ...  20365\n",
              "4  ['>In article <Mar.22.02.52.49.1993.330@athos....  ...  20361\n",
              "\n",
              "[5 rows x 3 columns]"
            ]
          },
          "metadata": {
            "tags": []
          },
          "execution_count": 7
        }
      ]
    },
    {
      "cell_type": "markdown",
      "metadata": {
        "id": "QgMRhG_kCROY",
        "colab_type": "text"
      },
      "source": [
        "# Data exploration"
      ]
    },
    {
      "cell_type": "markdown",
      "metadata": {
        "id": "LIGyDbuIDwLF",
        "colab_type": "text"
      },
      "source": [
        "Esempio di news"
      ]
    },
    {
      "cell_type": "code",
      "metadata": {
        "id": "sSW2kfcOCVBe",
        "colab_type": "code",
        "colab": {
          "base_uri": "https://localhost:8080/",
          "height": 34
        },
        "outputId": "4448f925-356f-473e-d028-8930c092a84d"
      },
      "source": [
        "print(df.text.loc[60])"
      ],
      "execution_count": 8,
      "outputs": [
        {
          "output_type": "stream",
          "text": [
            "['Another guess to your salvation riddle would be \"saved\".\\n', '\\n', 'Joe Fisher\\n']\n"
          ],
          "name": "stdout"
        }
      ]
    },
    {
      "cell_type": "markdown",
      "metadata": {
        "id": "Ns8RzTs5EDOS",
        "colab_type": "text"
      },
      "source": [
        "Controlliamo se sono presenti **na**"
      ]
    },
    {
      "cell_type": "code",
      "metadata": {
        "id": "v_29Lv0JEGqJ",
        "colab_type": "code",
        "colab": {
          "base_uri": "https://localhost:8080/",
          "height": 85
        },
        "outputId": "830ecac4-a2b9-4c85-9f19-648b9183875c"
      },
      "source": [
        "df.isnull().sum()"
      ],
      "execution_count": 9,
      "outputs": [
        {
          "output_type": "execute_result",
          "data": {
            "text/plain": [
              "text      0\n",
              "target    0\n",
              "idx       0\n",
              "dtype: int64"
            ]
          },
          "metadata": {
            "tags": []
          },
          "execution_count": 9
        }
      ]
    },
    {
      "cell_type": "markdown",
      "metadata": {
        "id": "6ND4tygDEEbA",
        "colab_type": "text"
      },
      "source": [
        "Lista delle classi"
      ]
    },
    {
      "cell_type": "code",
      "metadata": {
        "id": "C8TKJW_zEPIa",
        "colab_type": "code",
        "colab": {
          "base_uri": "https://localhost:8080/",
          "height": 119
        },
        "outputId": "d86ef34e-d098-4b4d-b89c-114af5501de7"
      },
      "source": [
        "print(df.target.unique())"
      ],
      "execution_count": 10,
      "outputs": [
        {
          "output_type": "stream",
          "text": [
            "['soc.religion.christian' 'talk.politics.mideast' 'sci.electronics'\n",
            " 'talk.politics.guns' 'talk.religion.misc' 'talk.politics.misc'\n",
            " 'rec.sport.hockey' 'sci.space' 'sci.med' 'sci.crypt' 'alt.atheism'\n",
            " 'comp.sys.mac.hardware' 'misc.forsale' 'rec.sport.baseball' 'rec.autos'\n",
            " 'comp.sys.ibm.pc.hardware' 'rec.motorcycles' 'comp.graphics'\n",
            " 'comp.os.ms-windows.misc' 'comp.windows.x']\n"
          ],
          "name": "stdout"
        }
      ]
    },
    {
      "cell_type": "markdown",
      "metadata": {
        "id": "Vq8UOUoEGnjR",
        "colab_type": "text"
      },
      "source": [
        "Creare una nuova colonna \"Target\" con valori interi dalla colonna \"Target_Num\" per poi visualizzare le varie categorie"
      ]
    },
    {
      "cell_type": "code",
      "metadata": {
        "id": "bB5ziusOG14v",
        "colab_type": "code",
        "colab": {}
      },
      "source": [
        "df['target_num'] = df['target']\n",
        "target = {'alt.atheism':0, 'comp.graphics':1, 'comp.os.ms-windows.misc':2, 'comp.sys.ibm.pc.hardware':3, 'comp.sys.mac.hardware':4, 'comp.windows.x':5, 'misc.forsale':6, 'rec.autos':7,'rec.motorcycles':8,'rec.sport.baseball':9,'rec.sport.hockey':10,'sci.crypt':11,'sci.electronics':12,'sci.med':13,'sci.space':14,'soc.religion.christian':15,'talk.politics.guns':16,'talk.politics.mideast':17,'talk.politics.misc':18,'talk.religion.misc':19}\n",
        "df['target_num'] = df['target_num'].apply(lambda a: target.get(a) if a in target else a)"
      ],
      "execution_count": 11,
      "outputs": []
    },
    {
      "cell_type": "markdown",
      "metadata": {
        "id": "JDR4m9c_Ehi_",
        "colab_type": "text"
      },
      "source": [
        "Si controllano le varie classi se sono bilanciate"
      ]
    },
    {
      "cell_type": "code",
      "metadata": {
        "id": "eT6Wew5dEZ1O",
        "colab_type": "code",
        "colab": {
          "base_uri": "https://localhost:8080/",
          "height": 371
        },
        "outputId": "4ad1fe2d-e3dd-4e87-85f3-02feaf86e1c1"
      },
      "source": [
        "import seaborn as sns\n",
        "count_cl = df['target_num'].value_counts()\n",
        "\n",
        "plt.figure(figsize=(9,5))\n",
        "sns.barplot(count_cl.index, count_cl.values, alpha=0.8)\n",
        "plt.ylabel('Number of Occurrences', fontsize=12)\n",
        "plt.xlabel('Target', fontsize=12);"
      ],
      "execution_count": 12,
      "outputs": [
        {
          "output_type": "stream",
          "text": [
            "/usr/local/lib/python3.6/dist-packages/statsmodels/tools/_testing.py:19: FutureWarning: pandas.util.testing is deprecated. Use the functions in the public API at pandas.testing instead.\n",
            "  import pandas.util.testing as tm\n"
          ],
          "name": "stderr"
        },
        {
          "output_type": "display_data",
          "data": {
            "image/png": "[encoded data removed]",
            "text/plain": [
              "<Figure size 648x360 with 1 Axes>"
            ]
          },
          "metadata": {
            "tags": [],
            "needs_background": "light"
          }
        }
      ]
    },
    {
      "cell_type": "markdown",
      "metadata": {
        "id": "m4cl8j33icu2",
        "colab_type": "text"
      },
      "source": [
        "# PRE-PROCESSING"
      ]
    },
    {
      "cell_type": "markdown",
      "metadata": {
        "id": "KkJ6qOA4jsM5",
        "colab_type": "text"
      },
      "source": [
        "Per il pre-processing abbiamo svolto le seguenti azioni:"
      ]
    },
    {
      "cell_type": "markdown",
      "metadata": {
        "id": "XikEmbL9jvn8",
        "colab_type": "text"
      },
      "source": [
        "- Conversione del testo in minuscolo\n",
        "- Eliminazione indirizzi mail\n",
        "- Eliminazione numeri\n",
        "- Eliminazione caratteri di punteggiatura\n",
        "- Rimozione parole composta da una e due lettere\n",
        "- Sistemazione degli spazi che si sono creati con le precedenti operazioni"
      ]
    },
    {
      "cell_type": "code",
      "metadata": {
        "id": "HkySmu9-jxFb",
        "colab_type": "code",
        "colab": {}
      },
      "source": [
        "# Trasformazione in lower-case\n",
        "df['text_processed'] = df['text'].map(lambda x: x.lower())\n",
        "\n",
        "# Rimozione indirizzi email\n",
        "df['text_processed'] = df['text_processed'].apply(lambda x: re.sub('\\w+@\\w+\\.\\w+?', '', x))\n",
        "\n",
        "# Rimozione numeri\n",
        "df['text_processed'] = df['text_processed'].apply(lambda x: re.sub('\\d','', x))\n",
        "\n",
        "# Rimozione della punteggiatura\n",
        "df['text_processed']  = df['text_processed'].apply(lambda x: re.sub(r'[^\\w\\s]','', x))\n",
        "\n",
        "# Rimozione parole composte\n",
        "df['text_processed']  = df['text_processed'].astype(str).map(lambda x: re.sub(r'\\b\\w{1,2}\\b', '', x))\n",
        "\n",
        "# Rimozione spazi\n",
        "df['text_processed'] = df['text_processed'].map(lambda x: re.sub(' +', ' ', x))\n",
        "\n",
        "#rimozione spazi di inizio riga\n",
        "df['text_processed'] = df['text_processed'].map(lambda x: x.lstrip()) \n",
        "\n",
        "#rimozione spazi di fine riga\n",
        "df['text_processed'] = df['text_processed'].map(lambda x: x.rstrip()) "
      ],
      "execution_count": 8,
      "outputs": []
    },
    {
      "cell_type": "markdown",
      "metadata": {
        "id": "6BBceWxokB6E",
        "colab_type": "text"
      },
      "source": [
        "# TOKENIZZAZIONE TESTO\n"
      ]
    },
    {
      "cell_type": "code",
      "metadata": {
        "id": "fq77gut1ifSt",
        "colab_type": "code",
        "colab": {}
      },
      "source": [
        "df['text_processed'] = df['text_processed'].apply(nltk.tokenize.word_tokenize)"
      ],
      "execution_count": 9,
      "outputs": []
    },
    {
      "cell_type": "code",
      "metadata": {
        "id": "v_hUAUdbnDlC",
        "colab_type": "code",
        "colab": {
          "base_uri": "https://localhost:8080/",
          "height": 204
        },
        "outputId": "cc705e58-f746-4f2f-ddc9-2f582b38e6d7"
      },
      "source": [
        "df.head()"
      ],
      "execution_count": 15,
      "outputs": [
        {
          "output_type": "execute_result",
          "data": {
            "text/html": [
              "<div>\n",
              "<style scoped>\n",
              "    .dataframe tbody tr th:only-of-type {\n",
              "        vertical-align: middle;\n",
              "    }\n",
              "\n",
              "    .dataframe tbody tr th {\n",
              "        vertical-align: top;\n",
              "    }\n",
              "\n",
              "    .dataframe thead th {\n",
              "        text-align: right;\n",
              "    }\n",
              "</style>\n",
              "<table border=\"1\" class=\"dataframe\">\n",
              "  <thead>\n",
              "    <tr style=\"text-align: right;\">\n",
              "      <th></th>\n",
              "      <th>text</th>\n",
              "      <th>target</th>\n",
              "      <th>idx</th>\n",
              "      <th>target_num</th>\n",
              "      <th>text_processed</th>\n",
              "    </tr>\n",
              "  </thead>\n",
              "  <tbody>\n",
              "    <tr>\n",
              "      <th>0</th>\n",
              "      <td>['&gt;In article &lt;Apr.7.01.56.56.1993.22824@athos...</td>\n",
              "      <td>soc.religion.christian</td>\n",
              "      <td>20487</td>\n",
              "      <td>15</td>\n",
              "      <td>[article, aprutgersedu, chpcomn, matt, therefo...</td>\n",
              "    </tr>\n",
              "    <tr>\n",
              "      <th>1</th>\n",
              "      <td>['I have come across what I consider to be an ...</td>\n",
              "      <td>soc.religion.christian</td>\n",
              "      <td>20488</td>\n",
              "      <td>15</td>\n",
              "      <td>[have, come, across, what, consider, excellent...</td>\n",
              "    </tr>\n",
              "    <tr>\n",
              "      <th>2</th>\n",
              "      <td>['Hi...\\n', '\\n', \"I'm new to this group, and ...</td>\n",
              "      <td>soc.religion.christian</td>\n",
              "      <td>20362</td>\n",
              "      <td>15</td>\n",
              "      <td>[hin, new, this, group, and, maybe, this, has,...</td>\n",
              "    </tr>\n",
              "    <tr>\n",
              "      <th>3</th>\n",
              "      <td>['Therefore, whoever humbles himself like this...</td>\n",
              "      <td>soc.religion.christian</td>\n",
              "      <td>20365</td>\n",
              "      <td>15</td>\n",
              "      <td>[therefore, whoever, humbles, himself, like, t...</td>\n",
              "    </tr>\n",
              "    <tr>\n",
              "      <th>4</th>\n",
              "      <td>['&gt;In article &lt;Mar.22.02.52.49.1993.330@athos....</td>\n",
              "      <td>soc.religion.christian</td>\n",
              "      <td>20361</td>\n",
              "      <td>15</td>\n",
              "      <td>[article, marutgersedu, sugaedu, terrance, hea...</td>\n",
              "    </tr>\n",
              "  </tbody>\n",
              "</table>\n",
              "</div>"
            ],
            "text/plain": [
              "                                                text  ...                                     text_processed\n",
              "0  ['>In article <Apr.7.01.56.56.1993.22824@athos...  ...  [article, aprutgersedu, chpcomn, matt, therefo...\n",
              "1  ['I have come across what I consider to be an ...  ...  [have, come, across, what, consider, excellent...\n",
              "2  ['Hi...\\n', '\\n', \"I'm new to this group, and ...  ...  [hin, new, this, group, and, maybe, this, has,...\n",
              "3  ['Therefore, whoever humbles himself like this...  ...  [therefore, whoever, humbles, himself, like, t...\n",
              "4  ['>In article <Mar.22.02.52.49.1993.330@athos....  ...  [article, marutgersedu, sugaedu, terrance, hea...\n",
              "\n",
              "[5 rows x 5 columns]"
            ]
          },
          "metadata": {
            "tags": []
          },
          "execution_count": 15
        }
      ]
    },
    {
      "cell_type": "markdown",
      "metadata": {
        "id": "Rtf3Vf5_kwuL",
        "colab_type": "text"
      },
      "source": [
        "# STOP-WORDS"
      ]
    },
    {
      "cell_type": "markdown",
      "metadata": {
        "id": "sExhrEf5kmpW",
        "colab_type": "text"
      },
      "source": [
        "Vengono eliminate le stopwords"
      ]
    },
    {
      "cell_type": "code",
      "metadata": {
        "id": "yz7VhrwkkgAD",
        "colab_type": "code",
        "colab": {}
      },
      "source": [
        "stop_words = stopwords.words('english')\n",
        "stop_words.extend(['from', 'subject', 're', 'edu', 'use','one','would']) #aggiunta a mano di stop_words\n",
        "\n",
        "def remove_stopwords(serie):\n",
        "    return [word for word in serie if word not in stop_words]\n",
        "\n",
        "# Rimozione stopwords\n",
        "df['text_processed'] = df['text_processed'].apply(remove_stopwords)"
      ],
      "execution_count": 10,
      "outputs": []
    },
    {
      "cell_type": "code",
      "metadata": {
        "id": "uQrCuIm9P_Iq",
        "colab_type": "code",
        "colab": {
          "base_uri": "https://localhost:8080/",
          "height": 204
        },
        "outputId": "ffab8882-6856-4e25-fcc6-69445d0962cc"
      },
      "source": [
        "df.head()"
      ],
      "execution_count": 17,
      "outputs": [
        {
          "output_type": "execute_result",
          "data": {
            "text/html": [
              "<div>\n",
              "<style scoped>\n",
              "    .dataframe tbody tr th:only-of-type {\n",
              "        vertical-align: middle;\n",
              "    }\n",
              "\n",
              "    .dataframe tbody tr th {\n",
              "        vertical-align: top;\n",
              "    }\n",
              "\n",
              "    .dataframe thead th {\n",
              "        text-align: right;\n",
              "    }\n",
              "</style>\n",
              "<table border=\"1\" class=\"dataframe\">\n",
              "  <thead>\n",
              "    <tr style=\"text-align: right;\">\n",
              "      <th></th>\n",
              "      <th>text</th>\n",
              "      <th>target</th>\n",
              "      <th>idx</th>\n",
              "      <th>target_num</th>\n",
              "      <th>text_processed</th>\n",
              "    </tr>\n",
              "  </thead>\n",
              "  <tbody>\n",
              "    <tr>\n",
              "      <th>0</th>\n",
              "      <td>['&gt;In article &lt;Apr.7.01.56.56.1993.22824@athos...</td>\n",
              "      <td>soc.religion.christian</td>\n",
              "      <td>20487</td>\n",
              "      <td>15</td>\n",
              "      <td>[article, aprutgersedu, chpcomn, matt, therefo...</td>\n",
              "    </tr>\n",
              "    <tr>\n",
              "      <th>1</th>\n",
              "      <td>['I have come across what I consider to be an ...</td>\n",
              "      <td>soc.religion.christian</td>\n",
              "      <td>20488</td>\n",
              "      <td>15</td>\n",
              "      <td>[come, across, consider, excellent, tract, bit...</td>\n",
              "    </tr>\n",
              "    <tr>\n",
              "      <th>2</th>\n",
              "      <td>['Hi...\\n', '\\n', \"I'm new to this group, and ...</td>\n",
              "      <td>soc.religion.christian</td>\n",
              "      <td>20362</td>\n",
              "      <td>15</td>\n",
              "      <td>[hin, new, group, maybe, covered, alreadyn, an...</td>\n",
              "    </tr>\n",
              "    <tr>\n",
              "      <th>3</th>\n",
              "      <td>['Therefore, whoever humbles himself like this...</td>\n",
              "      <td>soc.religion.christian</td>\n",
              "      <td>20365</td>\n",
              "      <td>15</td>\n",
              "      <td>[therefore, whoever, humbles, like, child, gre...</td>\n",
              "    </tr>\n",
              "    <tr>\n",
              "      <th>4</th>\n",
              "      <td>['&gt;In article &lt;Mar.22.02.52.49.1993.330@athos....</td>\n",
              "      <td>soc.religion.christian</td>\n",
              "      <td>20361</td>\n",
              "      <td>15</td>\n",
              "      <td>[article, marutgersedu, sugaedu, terrance, hea...</td>\n",
              "    </tr>\n",
              "  </tbody>\n",
              "</table>\n",
              "</div>"
            ],
            "text/plain": [
              "                                                text  ...                                     text_processed\n",
              "0  ['>In article <Apr.7.01.56.56.1993.22824@athos...  ...  [article, aprutgersedu, chpcomn, matt, therefo...\n",
              "1  ['I have come across what I consider to be an ...  ...  [come, across, consider, excellent, tract, bit...\n",
              "2  ['Hi...\\n', '\\n', \"I'm new to this group, and ...  ...  [hin, new, group, maybe, covered, alreadyn, an...\n",
              "3  ['Therefore, whoever humbles himself like this...  ...  [therefore, whoever, humbles, like, child, gre...\n",
              "4  ['>In article <Mar.22.02.52.49.1993.330@athos....  ...  [article, marutgersedu, sugaedu, terrance, hea...\n",
              "\n",
              "[5 rows x 5 columns]"
            ]
          },
          "metadata": {
            "tags": []
          },
          "execution_count": 17
        }
      ]
    },
    {
      "cell_type": "markdown",
      "metadata": {
        "id": "wfwZFVpYk-Cz",
        "colab_type": "text"
      },
      "source": [
        "# LEMMATIZZAZIONE E STEMMATIZZAZIONE"
      ]
    },
    {
      "cell_type": "markdown",
      "metadata": {
        "id": "dVeOvl4tlCu4",
        "colab_type": "text"
      },
      "source": [
        "Si procede alla lemmatization e allo stemming (utilizzando l'algoritmo di Porter) del testo, tenendo separate le due operazioni:"
      ]
    },
    {
      "cell_type": "code",
      "metadata": {
        "id": "S4D02pODlFxC",
        "colab_type": "code",
        "colab": {}
      },
      "source": [
        "def lemmatization(serie):\n",
        "    return [WordNetLemmatizer().lemmatize(str(word)) for word in serie]\n",
        "\n",
        "df['token_lem'] = df['text_processed'].apply(lemmatization)\n",
        "\n",
        "def stemming(serie):\n",
        "    return [PorterStemmer().stem(str(word)) for word in serie]\n",
        "\n",
        "df['token_stem'] = df['text_processed'].apply(stemming)"
      ],
      "execution_count": 11,
      "outputs": []
    },
    {
      "cell_type": "code",
      "metadata": {
        "id": "87BOkBDz-WLi",
        "colab_type": "code",
        "colab": {
          "base_uri": "https://localhost:8080/",
          "height": 289
        },
        "outputId": "9ff193bd-c46b-4ce8-d40b-bb3a15f86f88"
      },
      "source": [
        "df.head()"
      ],
      "execution_count": 19,
      "outputs": [
        {
          "output_type": "execute_result",
          "data": {
            "text/html": [
              "<div>\n",
              "<style scoped>\n",
              "    .dataframe tbody tr th:only-of-type {\n",
              "        vertical-align: middle;\n",
              "    }\n",
              "\n",
              "    .dataframe tbody tr th {\n",
              "        vertical-align: top;\n",
              "    }\n",
              "\n",
              "    .dataframe thead th {\n",
              "        text-align: right;\n",
              "    }\n",
              "</style>\n",
              "<table border=\"1\" class=\"dataframe\">\n",
              "  <thead>\n",
              "    <tr style=\"text-align: right;\">\n",
              "      <th></th>\n",
              "      <th>text</th>\n",
              "      <th>target</th>\n",
              "      <th>idx</th>\n",
              "      <th>target_num</th>\n",
              "      <th>text_processed</th>\n",
              "      <th>token_lem</th>\n",
              "      <th>token_stem</th>\n",
              "    </tr>\n",
              "  </thead>\n",
              "  <tbody>\n",
              "    <tr>\n",
              "      <th>0</th>\n",
              "      <td>['&gt;In article &lt;Apr.7.01.56.56.1993.22824@athos...</td>\n",
              "      <td>soc.religion.christian</td>\n",
              "      <td>20487</td>\n",
              "      <td>15</td>\n",
              "      <td>[article, aprutgersedu, chpcomn, matt, therefo...</td>\n",
              "      <td>[article, aprutgersedu, chpcomn, matt, therefo...</td>\n",
              "      <td>[articl, aprutgersedu, chpcomn, matt, therefor...</td>\n",
              "    </tr>\n",
              "    <tr>\n",
              "      <th>1</th>\n",
              "      <td>['I have come across what I consider to be an ...</td>\n",
              "      <td>soc.religion.christian</td>\n",
              "      <td>20488</td>\n",
              "      <td>15</td>\n",
              "      <td>[come, across, consider, excellent, tract, bit...</td>\n",
              "      <td>[come, across, consider, excellent, tract, bit...</td>\n",
              "      <td>[come, across, consid, excel, tract, bit, leng...</td>\n",
              "    </tr>\n",
              "    <tr>\n",
              "      <th>2</th>\n",
              "      <td>['Hi...\\n', '\\n', \"I'm new to this group, and ...</td>\n",
              "      <td>soc.religion.christian</td>\n",
              "      <td>20362</td>\n",
              "      <td>15</td>\n",
              "      <td>[hin, new, group, maybe, covered, alreadyn, an...</td>\n",
              "      <td>[hin, new, group, maybe, covered, alreadyn, an...</td>\n",
              "      <td>[hin, new, group, mayb, cover, alreadyn, anybo...</td>\n",
              "    </tr>\n",
              "    <tr>\n",
              "      <th>3</th>\n",
              "      <td>['Therefore, whoever humbles himself like this...</td>\n",
              "      <td>soc.religion.christian</td>\n",
              "      <td>20365</td>\n",
              "      <td>15</td>\n",
              "      <td>[therefore, whoever, humbles, like, child, gre...</td>\n",
              "      <td>[therefore, whoever, humbles, like, child, gre...</td>\n",
              "      <td>[therefor, whoever, humbl, like, child, greate...</td>\n",
              "    </tr>\n",
              "    <tr>\n",
              "      <th>4</th>\n",
              "      <td>['&gt;In article &lt;Mar.22.02.52.49.1993.330@athos....</td>\n",
              "      <td>soc.religion.christian</td>\n",
              "      <td>20361</td>\n",
              "      <td>15</td>\n",
              "      <td>[article, marutgersedu, sugaedu, terrance, hea...</td>\n",
              "      <td>[article, marutgersedu, sugaedu, terrance, hea...</td>\n",
              "      <td>[articl, marutgersedu, sugaedu, terranc, heath...</td>\n",
              "    </tr>\n",
              "  </tbody>\n",
              "</table>\n",
              "</div>"
            ],
            "text/plain": [
              "                                                text  ...                                         token_stem\n",
              "0  ['>In article <Apr.7.01.56.56.1993.22824@athos...  ...  [articl, aprutgersedu, chpcomn, matt, therefor...\n",
              "1  ['I have come across what I consider to be an ...  ...  [come, across, consid, excel, tract, bit, leng...\n",
              "2  ['Hi...\\n', '\\n', \"I'm new to this group, and ...  ...  [hin, new, group, mayb, cover, alreadyn, anybo...\n",
              "3  ['Therefore, whoever humbles himself like this...  ...  [therefor, whoever, humbl, like, child, greate...\n",
              "4  ['>In article <Mar.22.02.52.49.1993.330@athos....  ...  [articl, marutgersedu, sugaedu, terranc, heath...\n",
              "\n",
              "[5 rows x 7 columns]"
            ]
          },
          "metadata": {
            "tags": []
          },
          "execution_count": 19
        }
      ]
    },
    {
      "cell_type": "markdown",
      "metadata": {
        "id": "2mC2e5R4l3VH",
        "colab_type": "text"
      },
      "source": [
        "Per avere un quadro più completo viene presa in esame anche la rappresentazione bigram, sia per i token stem e lem:"
      ]
    },
    {
      "cell_type": "code",
      "metadata": {
        "id": "uPlAtyP5l2PX",
        "colab_type": "code",
        "colab": {}
      },
      "source": [
        "def bigram(token):\n",
        "    bi = []\n",
        "    for i in range(1,len(token)):\n",
        "        bi.append(token[i-1] + ' ' + token[i])\n",
        "    return(bi)\n",
        "\n",
        "df['bigram_stem'] = df['token_stem'].apply(bigram)\n",
        "df['bigram_lem'] = df['token_lem'].apply(bigram)"
      ],
      "execution_count": 12,
      "outputs": []
    },
    {
      "cell_type": "code",
      "metadata": {
        "id": "c31tqTTU_qXD",
        "colab_type": "code",
        "colab": {
          "base_uri": "https://localhost:8080/",
          "height": 323
        },
        "outputId": "62a779b8-7944-48af-885c-d2f745ce2399"
      },
      "source": [
        "df.head()"
      ],
      "execution_count": 21,
      "outputs": [
        {
          "output_type": "execute_result",
          "data": {
            "text/html": [
              "<div>\n",
              "<style scoped>\n",
              "    .dataframe tbody tr th:only-of-type {\n",
              "        vertical-align: middle;\n",
              "    }\n",
              "\n",
              "    .dataframe tbody tr th {\n",
              "        vertical-align: top;\n",
              "    }\n",
              "\n",
              "    .dataframe thead th {\n",
              "        text-align: right;\n",
              "    }\n",
              "</style>\n",
              "<table border=\"1\" class=\"dataframe\">\n",
              "  <thead>\n",
              "    <tr style=\"text-align: right;\">\n",
              "      <th></th>\n",
              "      <th>text</th>\n",
              "      <th>target</th>\n",
              "      <th>idx</th>\n",
              "      <th>target_num</th>\n",
              "      <th>text_processed</th>\n",
              "      <th>token_lem</th>\n",
              "      <th>token_stem</th>\n",
              "      <th>bigram_stem</th>\n",
              "      <th>bigram_lem</th>\n",
              "    </tr>\n",
              "  </thead>\n",
              "  <tbody>\n",
              "    <tr>\n",
              "      <th>0</th>\n",
              "      <td>['&gt;In article &lt;Apr.7.01.56.56.1993.22824@athos...</td>\n",
              "      <td>soc.religion.christian</td>\n",
              "      <td>20487</td>\n",
              "      <td>15</td>\n",
              "      <td>[article, aprutgersedu, chpcomn, matt, therefo...</td>\n",
              "      <td>[article, aprutgersedu, chpcomn, matt, therefo...</td>\n",
              "      <td>[articl, aprutgersedu, chpcomn, matt, therefor...</td>\n",
              "      <td>[articl aprutgersedu, aprutgersedu chpcomn, ch...</td>\n",
              "      <td>[article aprutgersedu, aprutgersedu chpcomn, c...</td>\n",
              "    </tr>\n",
              "    <tr>\n",
              "      <th>1</th>\n",
              "      <td>['I have come across what I consider to be an ...</td>\n",
              "      <td>soc.religion.christian</td>\n",
              "      <td>20488</td>\n",
              "      <td>15</td>\n",
              "      <td>[come, across, consider, excellent, tract, bit...</td>\n",
              "      <td>[come, across, consider, excellent, tract, bit...</td>\n",
              "      <td>[come, across, consid, excel, tract, bit, leng...</td>\n",
              "      <td>[come across, across consid, consid excel, exc...</td>\n",
              "      <td>[come across, across consider, consider excell...</td>\n",
              "    </tr>\n",
              "    <tr>\n",
              "      <th>2</th>\n",
              "      <td>['Hi...\\n', '\\n', \"I'm new to this group, and ...</td>\n",
              "      <td>soc.religion.christian</td>\n",
              "      <td>20362</td>\n",
              "      <td>15</td>\n",
              "      <td>[hin, new, group, maybe, covered, alreadyn, an...</td>\n",
              "      <td>[hin, new, group, maybe, covered, alreadyn, an...</td>\n",
              "      <td>[hin, new, group, mayb, cover, alreadyn, anybo...</td>\n",
              "      <td>[hin new, new group, group mayb, mayb cover, c...</td>\n",
              "      <td>[hin new, new group, group maybe, maybe covere...</td>\n",
              "    </tr>\n",
              "    <tr>\n",
              "      <th>3</th>\n",
              "      <td>['Therefore, whoever humbles himself like this...</td>\n",
              "      <td>soc.religion.christian</td>\n",
              "      <td>20365</td>\n",
              "      <td>15</td>\n",
              "      <td>[therefore, whoever, humbles, like, child, gre...</td>\n",
              "      <td>[therefore, whoever, humbles, like, child, gre...</td>\n",
              "      <td>[therefor, whoever, humbl, like, child, greate...</td>\n",
              "      <td>[therefor whoever, whoever humbl, humbl like, ...</td>\n",
              "      <td>[therefore whoever, whoever humbles, humbles l...</td>\n",
              "    </tr>\n",
              "    <tr>\n",
              "      <th>4</th>\n",
              "      <td>['&gt;In article &lt;Mar.22.02.52.49.1993.330@athos....</td>\n",
              "      <td>soc.religion.christian</td>\n",
              "      <td>20361</td>\n",
              "      <td>15</td>\n",
              "      <td>[article, marutgersedu, sugaedu, terrance, hea...</td>\n",
              "      <td>[article, marutgersedu, sugaedu, terrance, hea...</td>\n",
              "      <td>[articl, marutgersedu, sugaedu, terranc, heath...</td>\n",
              "      <td>[articl marutgersedu, marutgersedu sugaedu, su...</td>\n",
              "      <td>[article marutgersedu, marutgersedu sugaedu, s...</td>\n",
              "    </tr>\n",
              "  </tbody>\n",
              "</table>\n",
              "</div>"
            ],
            "text/plain": [
              "                                                text  ...                                         bigram_lem\n",
              "0  ['>In article <Apr.7.01.56.56.1993.22824@athos...  ...  [article aprutgersedu, aprutgersedu chpcomn, c...\n",
              "1  ['I have come across what I consider to be an ...  ...  [come across, across consider, consider excell...\n",
              "2  ['Hi...\\n', '\\n', \"I'm new to this group, and ...  ...  [hin new, new group, group maybe, maybe covere...\n",
              "3  ['Therefore, whoever humbles himself like this...  ...  [therefore whoever, whoever humbles, humbles l...\n",
              "4  ['>In article <Mar.22.02.52.49.1993.330@athos....  ...  [article marutgersedu, marutgersedu sugaedu, s...\n",
              "\n",
              "[5 rows x 9 columns]"
            ]
          },
          "metadata": {
            "tags": []
          },
          "execution_count": 21
        }
      ]
    },
    {
      "cell_type": "markdown",
      "metadata": {
        "id": "C_QQ5vRtymJI",
        "colab_type": "text"
      },
      "source": [
        "# CLASSIFICAZIONE"
      ]
    },
    {
      "cell_type": "code",
      "metadata": {
        "id": "n1B0rJN7S4rX",
        "colab_type": "code",
        "colab": {}
      },
      "source": [
        "x_train, x_test, y_train, y_test = train_test_split(df,df['target'],test_size = 0.2, stratify=df['target'])"
      ],
      "execution_count": 13,
      "outputs": []
    },
    {
      "cell_type": "markdown",
      "metadata": {
        "id": "2QcJKkTBwVie",
        "colab_type": "text"
      },
      "source": [
        "# MATRICI"
      ]
    },
    {
      "cell_type": "markdown",
      "metadata": {
        "id": "2jsDyhxTwWfE",
        "colab_type": "text"
      },
      "source": [
        "Partendo dai token lem e stem e dalle matrici unigram e bigram si procede a calcolare, per ogni combinazione:\n",
        "- Pesi TF\n",
        "- Pesi TF-IDF\n",
        "- Pesi Binari\n",
        "\n",
        "Inoltre si utilizza un token_pattern in modo da prendere in considerazione solamente parole di lunghezza > 2"
      ]
    },
    {
      "cell_type": "code",
      "metadata": {
        "id": "NHr9ioAmJH_J",
        "colab_type": "code",
        "colab": {}
      },
      "source": [
        "# Funzione per utilizzare le tokenizzazioni già svolte\n",
        "def identity_tokenizer(text):\n",
        "    return text"
      ],
      "execution_count": 14,
      "outputs": []
    },
    {
      "cell_type": "code",
      "metadata": {
        "id": "QxHduoV1jScl",
        "colab_type": "code",
        "colab": {}
      },
      "source": [
        "# Vettorizzatore per pesi TF-IDF\n",
        "tfidf = TfidfVectorizer(\n",
        "    analyzer='word',\n",
        "    min_df=10,\n",
        "    lowercase=True,\n",
        "    tokenizer=identity_tokenizer,\n",
        "    preprocessor=identity_tokenizer,\n",
        "    token_pattern='[a-zA-Z0-9]{3,}')\n",
        "\n",
        "# Vettorizzatore per pesi TF\n",
        "count = CountVectorizer(\n",
        "    analyzer='word',\n",
        "    min_df=10,\n",
        "    lowercase=True,\n",
        "    tokenizer=identity_tokenizer,\n",
        "    preprocessor=identity_tokenizer,\n",
        "    token_pattern='[a-zA-Z0-9]{3,}') \n",
        "\n",
        "# Vettorizzatore per pesi binari\n",
        "binary = CountVectorizer(\n",
        "    analyzer='word',\n",
        "    min_df=10,\n",
        "    binary=True,\n",
        "    tokenizer=identity_tokenizer,\n",
        "    preprocessor=identity_tokenizer,\n",
        "    token_pattern='[a-zA-Z0-9]{3,}') \n",
        "\n",
        "# Funzione che crea la vettorizzazione partendo dalla matrice train e la applica su quella test corrispondente\n",
        "def create_matrix(token_train,token_test,vectorizer):\n",
        "    ls = []\n",
        "    for vett in vectorizer:\n",
        "        for i in zip(token_train,token_test):\n",
        "            train = vett.fit_transform(i[0])\n",
        "            test = vett.transform(i[1])\n",
        "            ls.append((train,test))\n",
        "    return ls\n",
        "\n",
        "matrix = create_matrix([x_train['token_stem'],x_train['bigram_stem'],x_train['token_lem'],x_train['bigram_lem']], [x_test['token_stem'],x_test['bigram_stem'],x_test['token_lem'],x_test['bigram_lem']], [tfidf,count,binary])"
      ],
      "execution_count": 15,
      "outputs": []
    },
    {
      "cell_type": "markdown",
      "metadata": {
        "id": "dazBKWoKzexa",
        "colab_type": "text"
      },
      "source": [
        "Otteniamo 24 matrici, 12 di train e 12 di test:\n",
        "\n",
        "- Unigram - tf-idf - stem\n",
        "- Unigram - tf-idf - lem\n",
        "- Unigram - tf - stem\n",
        "- Unigram - tf - lem\n",
        "- Unigram - binary - stem\n",
        "- Unigram - binary - lem\n",
        "\n",
        "- Bigram - tf-idf - stem\n",
        "- Bigram - tf-idf - lem\n",
        "- Bigram - tf - stem\n",
        "- Bigram - tf - lem\n",
        "- Bigram - binary - stem\n",
        "- Bigram - binary - lem\n"
      ]
    },
    {
      "cell_type": "markdown",
      "metadata": {
        "id": "EjqzS0CCpaeI",
        "colab_type": "text"
      },
      "source": [
        "# FEATURE SELECTION\n",
        "\n",
        "\n",
        "\n"
      ]
    },
    {
      "cell_type": "markdown",
      "metadata": {
        "id": "JIc8aFAWpeUd",
        "colab_type": "text"
      },
      "source": [
        "Utilizzando il test del chi-quadro si ottiene una feature selection si tengono solo le prime 5000 features (per ogni matrice) ordinate in ordine decrescente in base al valore del test. \n",
        "<br>\n",
        "L'operazione di feature selection viene giustificata perchè:\n",
        "- Si riduce il rischio di overfitting\n",
        "- Eliminazione degli features irrilevanti e quindi potenzialmente migliora le performance dei modelli\n",
        "- Permette di addestrare modelli utilizzando minor sforzo computazionale"
      ]
    },
    {
      "cell_type": "code",
      "metadata": {
        "id": "RYx76Gzmpnwm",
        "colab_type": "code",
        "colab": {}
      },
      "source": [
        "def feature_selection(ls_mat):\n",
        "    matrix_train=ls_mat[0]\n",
        "    matrix_test=ls_mat[1]\n",
        "    kb=SelectKBest(chi2, k=5000)\n",
        "    kb.fit_transform(matrix_train, y_train)\n",
        "    train=pd.DataFrame((kb.fit_transform(matrix_train, y_train)).toarray())\n",
        "    test=pd.DataFrame((kb.transform(matrix_test)).toarray())\n",
        "    return((train,test))"
      ],
      "execution_count": 16,
      "outputs": []
    },
    {
      "cell_type": "markdown",
      "metadata": {
        "id": "pBe8LL2rpqdI",
        "colab_type": "text"
      },
      "source": [
        "Per comodità le matrici vengono salvate in un dizionario, la chiave corrisponde al nome della matrice e il valore ad una tupla contente la matrice di train e quella di test corrispondenti alla chiave:"
      ]
    },
    {
      "cell_type": "code",
      "metadata": {
        "id": "A3yZnEgMptfM",
        "colab_type": "code",
        "colab": {}
      },
      "source": [
        "names = ['unigram_tfidf_stem','bigram_tfidf_stem','unigram_tfidf_lem','bigram_tfidf_lem','unigram_count_stem','bigram_count_stem','unigram_count_lem','bigram_count_lem','unigram_binary_stem','bigram_binary_stem','unigram_binary_lem','bigram_binary_lem']\n",
        "\n",
        "dict_matrix = {}\n",
        "for i in range(len(matrix)):\n",
        "    dict_matrix[names[i]] = feature_selection(matrix[i])"
      ],
      "execution_count": 17,
      "outputs": []
    },
    {
      "cell_type": "markdown",
      "metadata": {
        "id": "UYP0AOQXpwbr",
        "colab_type": "text"
      },
      "source": [
        "# MODELLISTICA"
      ]
    },
    {
      "cell_type": "markdown",
      "metadata": {
        "id": "HoTm3m6eqKC2",
        "colab_type": "text"
      },
      "source": [
        "I classificatori scelti, considerando la letteratura e lo sforzo computazionale, sono:\n",
        "\n",
        "- Naive Bayes\n",
        "- Random Forest\n",
        "- Regressione logistica"
      ]
    },
    {
      "cell_type": "markdown",
      "metadata": {
        "id": "dYnBOTzUqO7g",
        "colab_type": "text"
      },
      "source": [
        "Ogni modello viene addestrato con diversi iper-parametri sul dataset di training e successivamente viene testato sui dati di test:"
      ]
    },
    {
      "cell_type": "code",
      "metadata": {
        "id": "LjCZ787hrJVt",
        "colab_type": "code",
        "colab": {}
      },
      "source": [
        "dict_classificators=  {'Naive Bayes':MultinomialNB(),'Random Forest':RandomForestClassifier(max_features='log2'),'Reg Log':LogisticRegression(multi_class='multinomial', n_jobs=-1)}"
      ],
      "execution_count": 31,
      "outputs": []
    },
    {
      "cell_type": "code",
      "metadata": {
        "id": "mk-9h3bjJ3Vi",
        "colab_type": "code",
        "colab": {
          "base_uri": "https://localhost:8080/",
          "height": 394
        },
        "outputId": "1fdd2827-2211-468c-e579-295d9def269f"
      },
      "source": [
        "diz_results = {}\n",
        "for classificator in dict_classificators:\n",
        "  for matrix in dict_matrix:\n",
        "    type_matrix = matrix.split('_')[0]\n",
        "    weight = matrix.split('_')[1]\n",
        "    token = matrix.split('_')[2]\n",
        "    parameters = {'Naive Bayes':{'alpha':[0.1,0.5,1]},'Random Forest':{'criterion':['gini','entropy'],'n_estimators':[100,200], 'max_depth':[5,10,20]},'Reg Log':{'solver':['lbfgs','saga'],'max_iter':[5,10,15]} }\n",
        "    grid_obj = GridSearchCV(dict_classificators[classificator], parameters[classificator], cv=5, n_jobs=-1).fit(dict_matrix[matrix][0], y_train)\n",
        "    accuracy_train = grid_obj.best_score_\n",
        "    clf = grid_obj.best_estimator_\n",
        "    clf.fit(dict_matrix[matrix][0], y_train)\n",
        "    predictions = clf.predict(dict_matrix[matrix][1])\n",
        "    accuracy_test = accuracy_score(y_test, predictions)\n",
        "    diz_results[str(matrix)+';'+str(classificator)]={'tipo_matrice':type_matrix,'peso':weight, 'token':token, 'classificatore':classificator,'accuracy_train_cv':accuracy_train, 'accuracy_test':accuracy_test}\n",
        "\n",
        "ris = pd.DataFrame.from_dict(diz_results, orient='index').reset_index()\n",
        "\n",
        "# Si esportano i risultati in un file csv\n",
        "ris.to_csv('Risultati.csv')"
      ],
      "execution_count": null,
      "outputs": [
        {
          "output_type": "error",
          "ename": "KeyboardInterrupt",
          "evalue": "ignored",
          "traceback": [
            "\u001b[0;31m---------------------------------------------------------------------------\u001b[0m",
            "\u001b[0;31mKeyboardInterrupt\u001b[0m                         Traceback (most recent call last)",
            "\u001b[0;32m<ipython-input-30-efe4c662c8c7>\u001b[0m in \u001b[0;36m<module>\u001b[0;34m()\u001b[0m\n\u001b[1;32m      6\u001b[0m     \u001b[0mtoken\u001b[0m \u001b[0;34m=\u001b[0m \u001b[0mmatrix\u001b[0m\u001b[0;34m.\u001b[0m\u001b[0msplit\u001b[0m\u001b[0;34m(\u001b[0m\u001b[0;34m'_'\u001b[0m\u001b[0;34m)\u001b[0m\u001b[0;34m[\u001b[0m\u001b[0;36m2\u001b[0m\u001b[0;34m]\u001b[0m\u001b[0;34m\u001b[0m\u001b[0;34m\u001b[0m\u001b[0m\n\u001b[1;32m      7\u001b[0m     \u001b[0mparameters\u001b[0m \u001b[0;34m=\u001b[0m \u001b[0;34m{\u001b[0m\u001b[0;34m'Naive Bayes'\u001b[0m\u001b[0;34m:\u001b[0m\u001b[0;34m{\u001b[0m\u001b[0;34m'alpha'\u001b[0m\u001b[0;34m:\u001b[0m\u001b[0;34m[\u001b[0m\u001b[0;36m0.1\u001b[0m\u001b[0;34m,\u001b[0m\u001b[0;36m0.5\u001b[0m\u001b[0;34m,\u001b[0m\u001b[0;36m1\u001b[0m\u001b[0;34m]\u001b[0m\u001b[0;34m}\u001b[0m\u001b[0;34m,\u001b[0m\u001b[0;34m'Random Forest'\u001b[0m\u001b[0;34m:\u001b[0m\u001b[0;34m{\u001b[0m\u001b[0;34m'criterion'\u001b[0m\u001b[0;34m:\u001b[0m\u001b[0;34m[\u001b[0m\u001b[0;34m'gini'\u001b[0m\u001b[0;34m,\u001b[0m\u001b[0;34m'entropy'\u001b[0m\u001b[0;34m]\u001b[0m\u001b[0;34m,\u001b[0m\u001b[0;34m'n_estimators'\u001b[0m\u001b[0;34m:\u001b[0m\u001b[0;34m[\u001b[0m\u001b[0;36m100\u001b[0m\u001b[0;34m,\u001b[0m\u001b[0;36m200\u001b[0m\u001b[0;34m]\u001b[0m\u001b[0;34m,\u001b[0m \u001b[0;34m'max_depth'\u001b[0m\u001b[0;34m:\u001b[0m\u001b[0;34m[\u001b[0m\u001b[0;36m5\u001b[0m\u001b[0;34m,\u001b[0m\u001b[0;36m10\u001b[0m\u001b[0;34m,\u001b[0m\u001b[0;36m20\u001b[0m\u001b[0;34m]\u001b[0m\u001b[0;34m}\u001b[0m\u001b[0;34m,\u001b[0m\u001b[0;34m'Reg Log'\u001b[0m\u001b[0;34m:\u001b[0m\u001b[0;34m{\u001b[0m\u001b[0;34m'solver'\u001b[0m\u001b[0;34m:\u001b[0m\u001b[0;34m[\u001b[0m\u001b[0;34m'lbfgs'\u001b[0m\u001b[0;34m,\u001b[0m\u001b[0;34m'saga'\u001b[0m\u001b[0;34m]\u001b[0m\u001b[0;34m,\u001b[0m\u001b[0;34m'max_iter'\u001b[0m\u001b[0;34m:\u001b[0m\u001b[0;34m[\u001b[0m\u001b[0;36m5\u001b[0m\u001b[0;34m,\u001b[0m\u001b[0;36m10\u001b[0m\u001b[0;34m,\u001b[0m\u001b[0;36m15\u001b[0m\u001b[0;34m]\u001b[0m\u001b[0;34m}\u001b[0m \u001b[0;34m}\u001b[0m\u001b[0;34m\u001b[0m\u001b[0;34m\u001b[0m\u001b[0m\n\u001b[0;32m----> 8\u001b[0;31m     \u001b[0mgrid_obj\u001b[0m \u001b[0;34m=\u001b[0m \u001b[0mGridSearchCV\u001b[0m\u001b[0;34m(\u001b[0m\u001b[0mdict_classificators\u001b[0m\u001b[0;34m[\u001b[0m\u001b[0mclassificator\u001b[0m\u001b[0;34m]\u001b[0m\u001b[0;34m,\u001b[0m \u001b[0mparameters\u001b[0m\u001b[0;34m[\u001b[0m\u001b[0mclassificator\u001b[0m\u001b[0;34m]\u001b[0m\u001b[0;34m,\u001b[0m \u001b[0mcv\u001b[0m\u001b[0;34m=\u001b[0m\u001b[0;36m5\u001b[0m\u001b[0;34m,\u001b[0m \u001b[0mn_jobs\u001b[0m\u001b[0;34m=\u001b[0m\u001b[0;34m-\u001b[0m\u001b[0;36m1\u001b[0m\u001b[0;34m)\u001b[0m\u001b[0;34m.\u001b[0m\u001b[0mfit\u001b[0m\u001b[0;34m(\u001b[0m\u001b[0mdict_matrix\u001b[0m\u001b[0;34m[\u001b[0m\u001b[0mmatrix\u001b[0m\u001b[0;34m]\u001b[0m\u001b[0;34m[\u001b[0m\u001b[0;36m0\u001b[0m\u001b[0;34m]\u001b[0m\u001b[0;34m,\u001b[0m \u001b[0my_train\u001b[0m\u001b[0;34m)\u001b[0m\u001b[0;34m\u001b[0m\u001b[0;34m\u001b[0m\u001b[0m\n\u001b[0m\u001b[1;32m      9\u001b[0m     \u001b[0maccuracy_train\u001b[0m \u001b[0;34m=\u001b[0m \u001b[0mgrid_obj\u001b[0m\u001b[0;34m.\u001b[0m\u001b[0mbest_score_\u001b[0m\u001b[0;34m\u001b[0m\u001b[0;34m\u001b[0m\u001b[0m\n\u001b[1;32m     10\u001b[0m     \u001b[0mclf\u001b[0m \u001b[0;34m=\u001b[0m \u001b[0mgrid_obj\u001b[0m\u001b[0;34m.\u001b[0m\u001b[0mbest_estimator_\u001b[0m\u001b[0;34m\u001b[0m\u001b[0;34m\u001b[0m\u001b[0m\n",
            "\u001b[0;32m/usr/local/lib/python3.6/dist-packages/sklearn/model_selection/_search.py\u001b[0m in \u001b[0;36mfit\u001b[0;34m(self, X, y, groups, **fit_params)\u001b[0m\n\u001b[1;32m    708\u001b[0m                 \u001b[0;32mreturn\u001b[0m \u001b[0mresults\u001b[0m\u001b[0;34m\u001b[0m\u001b[0;34m\u001b[0m\u001b[0m\n\u001b[1;32m    709\u001b[0m \u001b[0;34m\u001b[0m\u001b[0m\n\u001b[0;32m--> 710\u001b[0;31m             \u001b[0mself\u001b[0m\u001b[0;34m.\u001b[0m\u001b[0m_run_search\u001b[0m\u001b[0;34m(\u001b[0m\u001b[0mevaluate_candidates\u001b[0m\u001b[0;34m)\u001b[0m\u001b[0;34m\u001b[0m\u001b[0;34m\u001b[0m\u001b[0m\n\u001b[0m\u001b[1;32m    711\u001b[0m \u001b[0;34m\u001b[0m\u001b[0m\n\u001b[1;32m    712\u001b[0m         \u001b[0;31m# For multi-metric evaluation, store the best_index_, best_params_ and\u001b[0m\u001b[0;34m\u001b[0m\u001b[0;34m\u001b[0m\u001b[0;34m\u001b[0m\u001b[0m\n",
            "\u001b[0;32m/usr/local/lib/python3.6/dist-packages/sklearn/model_selection/_search.py\u001b[0m in \u001b[0;36m_run_search\u001b[0;34m(self, evaluate_candidates)\u001b[0m\n\u001b[1;32m   1149\u001b[0m     \u001b[0;32mdef\u001b[0m \u001b[0m_run_search\u001b[0m\u001b[0;34m(\u001b[0m\u001b[0mself\u001b[0m\u001b[0;34m,\u001b[0m \u001b[0mevaluate_candidates\u001b[0m\u001b[0;34m)\u001b[0m\u001b[0;34m:\u001b[0m\u001b[0;34m\u001b[0m\u001b[0;34m\u001b[0m\u001b[0m\n\u001b[1;32m   1150\u001b[0m         \u001b[0;34m\"\"\"Search all candidates in param_grid\"\"\"\u001b[0m\u001b[0;34m\u001b[0m\u001b[0;34m\u001b[0m\u001b[0m\n\u001b[0;32m-> 1151\u001b[0;31m         \u001b[0mevaluate_candidates\u001b[0m\u001b[0;34m(\u001b[0m\u001b[0mParameterGrid\u001b[0m\u001b[0;34m(\u001b[0m\u001b[0mself\u001b[0m\u001b[0;34m.\u001b[0m\u001b[0mparam_grid\u001b[0m\u001b[0;34m)\u001b[0m\u001b[0;34m)\u001b[0m\u001b[0;34m\u001b[0m\u001b[0;34m\u001b[0m\u001b[0m\n\u001b[0m\u001b[1;32m   1152\u001b[0m \u001b[0;34m\u001b[0m\u001b[0m\n\u001b[1;32m   1153\u001b[0m \u001b[0;34m\u001b[0m\u001b[0m\n",
            "\u001b[0;32m/usr/local/lib/python3.6/dist-packages/sklearn/model_selection/_search.py\u001b[0m in \u001b[0;36mevaluate_candidates\u001b[0;34m(candidate_params)\u001b[0m\n\u001b[1;32m    687\u001b[0m                                \u001b[0;32mfor\u001b[0m \u001b[0mparameters\u001b[0m\u001b[0;34m,\u001b[0m \u001b[0;34m(\u001b[0m\u001b[0mtrain\u001b[0m\u001b[0;34m,\u001b[0m \u001b[0mtest\u001b[0m\u001b[0;34m)\u001b[0m\u001b[0;34m\u001b[0m\u001b[0;34m\u001b[0m\u001b[0m\n\u001b[1;32m    688\u001b[0m                                in product(candidate_params,\n\u001b[0;32m--> 689\u001b[0;31m                                           cv.split(X, y, groups)))\n\u001b[0m\u001b[1;32m    690\u001b[0m \u001b[0;34m\u001b[0m\u001b[0m\n\u001b[1;32m    691\u001b[0m                 \u001b[0;32mif\u001b[0m \u001b[0mlen\u001b[0m\u001b[0;34m(\u001b[0m\u001b[0mout\u001b[0m\u001b[0;34m)\u001b[0m \u001b[0;34m<\u001b[0m \u001b[0;36m1\u001b[0m\u001b[0;34m:\u001b[0m\u001b[0;34m\u001b[0m\u001b[0;34m\u001b[0m\u001b[0m\n",
            "\u001b[0;32m/usr/local/lib/python3.6/dist-packages/joblib/parallel.py\u001b[0m in \u001b[0;36m__call__\u001b[0;34m(self, iterable)\u001b[0m\n\u001b[1;32m   1040\u001b[0m \u001b[0;34m\u001b[0m\u001b[0m\n\u001b[1;32m   1041\u001b[0m             \u001b[0;32mwith\u001b[0m \u001b[0mself\u001b[0m\u001b[0;34m.\u001b[0m\u001b[0m_backend\u001b[0m\u001b[0;34m.\u001b[0m\u001b[0mretrieval_context\u001b[0m\u001b[0;34m(\u001b[0m\u001b[0;34m)\u001b[0m\u001b[0;34m:\u001b[0m\u001b[0;34m\u001b[0m\u001b[0;34m\u001b[0m\u001b[0m\n\u001b[0;32m-> 1042\u001b[0;31m                 \u001b[0mself\u001b[0m\u001b[0;34m.\u001b[0m\u001b[0mretrieve\u001b[0m\u001b[0;34m(\u001b[0m\u001b[0;34m)\u001b[0m\u001b[0;34m\u001b[0m\u001b[0;34m\u001b[0m\u001b[0m\n\u001b[0m\u001b[1;32m   1043\u001b[0m             \u001b[0;31m# Make sure that we get a last message telling us we are done\u001b[0m\u001b[0;34m\u001b[0m\u001b[0;34m\u001b[0m\u001b[0;34m\u001b[0m\u001b[0m\n\u001b[1;32m   1044\u001b[0m             \u001b[0melapsed_time\u001b[0m \u001b[0;34m=\u001b[0m \u001b[0mtime\u001b[0m\u001b[0;34m.\u001b[0m\u001b[0mtime\u001b[0m\u001b[0;34m(\u001b[0m\u001b[0;34m)\u001b[0m \u001b[0;34m-\u001b[0m \u001b[0mself\u001b[0m\u001b[0;34m.\u001b[0m\u001b[0m_start_time\u001b[0m\u001b[0;34m\u001b[0m\u001b[0;34m\u001b[0m\u001b[0m\n",
            "\u001b[0;32m/usr/local/lib/python3.6/dist-packages/joblib/parallel.py\u001b[0m in \u001b[0;36mretrieve\u001b[0;34m(self)\u001b[0m\n\u001b[1;32m    919\u001b[0m             \u001b[0;32mtry\u001b[0m\u001b[0;34m:\u001b[0m\u001b[0;34m\u001b[0m\u001b[0;34m\u001b[0m\u001b[0m\n\u001b[1;32m    920\u001b[0m                 \u001b[0;32mif\u001b[0m \u001b[0mgetattr\u001b[0m\u001b[0;34m(\u001b[0m\u001b[0mself\u001b[0m\u001b[0;34m.\u001b[0m\u001b[0m_backend\u001b[0m\u001b[0;34m,\u001b[0m \u001b[0;34m'supports_timeout'\u001b[0m\u001b[0;34m,\u001b[0m \u001b[0;32mFalse\u001b[0m\u001b[0;34m)\u001b[0m\u001b[0;34m:\u001b[0m\u001b[0;34m\u001b[0m\u001b[0;34m\u001b[0m\u001b[0m\n\u001b[0;32m--> 921\u001b[0;31m                     \u001b[0mself\u001b[0m\u001b[0;34m.\u001b[0m\u001b[0m_output\u001b[0m\u001b[0;34m.\u001b[0m\u001b[0mextend\u001b[0m\u001b[0;34m(\u001b[0m\u001b[0mjob\u001b[0m\u001b[0;34m.\u001b[0m\u001b[0mget\u001b[0m\u001b[0;34m(\u001b[0m\u001b[0mtimeout\u001b[0m\u001b[0;34m=\u001b[0m\u001b[0mself\u001b[0m\u001b[0;34m.\u001b[0m\u001b[0mtimeout\u001b[0m\u001b[0;34m)\u001b[0m\u001b[0;34m)\u001b[0m\u001b[0;34m\u001b[0m\u001b[0;34m\u001b[0m\u001b[0m\n\u001b[0m\u001b[1;32m    922\u001b[0m                 \u001b[0;32melse\u001b[0m\u001b[0;34m:\u001b[0m\u001b[0;34m\u001b[0m\u001b[0;34m\u001b[0m\u001b[0m\n\u001b[1;32m    923\u001b[0m                     \u001b[0mself\u001b[0m\u001b[0;34m.\u001b[0m\u001b[0m_output\u001b[0m\u001b[0;34m.\u001b[0m\u001b[0mextend\u001b[0m\u001b[0;34m(\u001b[0m\u001b[0mjob\u001b[0m\u001b[0;34m.\u001b[0m\u001b[0mget\u001b[0m\u001b[0;34m(\u001b[0m\u001b[0;34m)\u001b[0m\u001b[0;34m)\u001b[0m\u001b[0;34m\u001b[0m\u001b[0;34m\u001b[0m\u001b[0m\n",
            "\u001b[0;32m/usr/local/lib/python3.6/dist-packages/joblib/_parallel_backends.py\u001b[0m in \u001b[0;36mwrap_future_result\u001b[0;34m(future, timeout)\u001b[0m\n\u001b[1;32m    538\u001b[0m         AsyncResults.get from multiprocessing.\"\"\"\n\u001b[1;32m    539\u001b[0m         \u001b[0;32mtry\u001b[0m\u001b[0;34m:\u001b[0m\u001b[0;34m\u001b[0m\u001b[0;34m\u001b[0m\u001b[0m\n\u001b[0;32m--> 540\u001b[0;31m             \u001b[0;32mreturn\u001b[0m \u001b[0mfuture\u001b[0m\u001b[0;34m.\u001b[0m\u001b[0mresult\u001b[0m\u001b[0;34m(\u001b[0m\u001b[0mtimeout\u001b[0m\u001b[0;34m=\u001b[0m\u001b[0mtimeout\u001b[0m\u001b[0;34m)\u001b[0m\u001b[0;34m\u001b[0m\u001b[0;34m\u001b[0m\u001b[0m\n\u001b[0m\u001b[1;32m    541\u001b[0m         \u001b[0;32mexcept\u001b[0m \u001b[0mCfTimeoutError\u001b[0m\u001b[0;34m:\u001b[0m\u001b[0;34m\u001b[0m\u001b[0;34m\u001b[0m\u001b[0m\n\u001b[1;32m    542\u001b[0m             \u001b[0;32mraise\u001b[0m \u001b[0mTimeoutError\u001b[0m\u001b[0;34m(\u001b[0m\u001b[0;34m)\u001b[0m\u001b[0;34m\u001b[0m\u001b[0;34m\u001b[0m\u001b[0m\n",
            "\u001b[0;32m/usr/lib/python3.6/concurrent/futures/_base.py\u001b[0m in \u001b[0;36mresult\u001b[0;34m(self, timeout)\u001b[0m\n\u001b[1;32m    425\u001b[0m                 \u001b[0;32mreturn\u001b[0m \u001b[0mself\u001b[0m\u001b[0;34m.\u001b[0m\u001b[0m__get_result\u001b[0m\u001b[0;34m(\u001b[0m\u001b[0;34m)\u001b[0m\u001b[0;34m\u001b[0m\u001b[0;34m\u001b[0m\u001b[0m\n\u001b[1;32m    426\u001b[0m \u001b[0;34m\u001b[0m\u001b[0m\n\u001b[0;32m--> 427\u001b[0;31m             \u001b[0mself\u001b[0m\u001b[0;34m.\u001b[0m\u001b[0m_condition\u001b[0m\u001b[0;34m.\u001b[0m\u001b[0mwait\u001b[0m\u001b[0;34m(\u001b[0m\u001b[0mtimeout\u001b[0m\u001b[0;34m)\u001b[0m\u001b[0;34m\u001b[0m\u001b[0;34m\u001b[0m\u001b[0m\n\u001b[0m\u001b[1;32m    428\u001b[0m \u001b[0;34m\u001b[0m\u001b[0m\n\u001b[1;32m    429\u001b[0m             \u001b[0;32mif\u001b[0m \u001b[0mself\u001b[0m\u001b[0;34m.\u001b[0m\u001b[0m_state\u001b[0m \u001b[0;32min\u001b[0m \u001b[0;34m[\u001b[0m\u001b[0mCANCELLED\u001b[0m\u001b[0;34m,\u001b[0m \u001b[0mCANCELLED_AND_NOTIFIED\u001b[0m\u001b[0;34m]\u001b[0m\u001b[0;34m:\u001b[0m\u001b[0;34m\u001b[0m\u001b[0;34m\u001b[0m\u001b[0m\n",
            "\u001b[0;32m/usr/lib/python3.6/threading.py\u001b[0m in \u001b[0;36mwait\u001b[0;34m(self, timeout)\u001b[0m\n\u001b[1;32m    293\u001b[0m         \u001b[0;32mtry\u001b[0m\u001b[0;34m:\u001b[0m    \u001b[0;31m# restore state no matter what (e.g., KeyboardInterrupt)\u001b[0m\u001b[0;34m\u001b[0m\u001b[0;34m\u001b[0m\u001b[0m\n\u001b[1;32m    294\u001b[0m             \u001b[0;32mif\u001b[0m \u001b[0mtimeout\u001b[0m \u001b[0;32mis\u001b[0m \u001b[0;32mNone\u001b[0m\u001b[0;34m:\u001b[0m\u001b[0;34m\u001b[0m\u001b[0;34m\u001b[0m\u001b[0m\n\u001b[0;32m--> 295\u001b[0;31m                 \u001b[0mwaiter\u001b[0m\u001b[0;34m.\u001b[0m\u001b[0macquire\u001b[0m\u001b[0;34m(\u001b[0m\u001b[0;34m)\u001b[0m\u001b[0;34m\u001b[0m\u001b[0;34m\u001b[0m\u001b[0m\n\u001b[0m\u001b[1;32m    296\u001b[0m                 \u001b[0mgotit\u001b[0m \u001b[0;34m=\u001b[0m \u001b[0;32mTrue\u001b[0m\u001b[0;34m\u001b[0m\u001b[0;34m\u001b[0m\u001b[0m\n\u001b[1;32m    297\u001b[0m             \u001b[0;32melse\u001b[0m\u001b[0;34m:\u001b[0m\u001b[0;34m\u001b[0m\u001b[0;34m\u001b[0m\u001b[0m\n",
            "\u001b[0;31mKeyboardInterrupt\u001b[0m: "
          ]
        }
      ]
    },
    {
      "cell_type": "code",
      "metadata": {
        "id": "qDLwk8YMZjE_",
        "colab_type": "code",
        "colab": {
          "base_uri": "https://localhost:8080/",
          "height": 204
        },
        "outputId": "83c9a3da-5147-405c-ebfa-6e9e3c698f72"
      },
      "source": [
        "risultati = pd.read_excel('/content/drive/My Drive/RisultatiFinale.xlsx')\n",
        "risultati.head()"
      ],
      "execution_count": 32,
      "outputs": [
        {
          "output_type": "execute_result",
          "data": {
            "text/html": [
              "<div>\n",
              "<style scoped>\n",
              "    .dataframe tbody tr th:only-of-type {\n",
              "        vertical-align: middle;\n",
              "    }\n",
              "\n",
              "    .dataframe tbody tr th {\n",
              "        vertical-align: top;\n",
              "    }\n",
              "\n",
              "    .dataframe thead th {\n",
              "        text-align: right;\n",
              "    }\n",
              "</style>\n",
              "<table border=\"1\" class=\"dataframe\">\n",
              "  <thead>\n",
              "    <tr style=\"text-align: right;\">\n",
              "      <th></th>\n",
              "      <th>index</th>\n",
              "      <th>tipo_matrice</th>\n",
              "      <th>peso</th>\n",
              "      <th>token</th>\n",
              "      <th>classificatore</th>\n",
              "      <th>accuracy_train_cv</th>\n",
              "      <th>accuracy_test</th>\n",
              "    </tr>\n",
              "  </thead>\n",
              "  <tbody>\n",
              "    <tr>\n",
              "      <th>0</th>\n",
              "      <td>unigram_tfidf_stem_Naive Bayes</td>\n",
              "      <td>unigram</td>\n",
              "      <td>tfidf</td>\n",
              "      <td>stem</td>\n",
              "      <td>Naive Bayes</td>\n",
              "      <td>0.797267</td>\n",
              "      <td>0.776860</td>\n",
              "    </tr>\n",
              "    <tr>\n",
              "      <th>1</th>\n",
              "      <td>bigram_tfidf_stem_Naive Bayes</td>\n",
              "      <td>bigram</td>\n",
              "      <td>tfidf</td>\n",
              "      <td>stem</td>\n",
              "      <td>Naive Bayes</td>\n",
              "      <td>0.603867</td>\n",
              "      <td>0.565449</td>\n",
              "    </tr>\n",
              "    <tr>\n",
              "      <th>2</th>\n",
              "      <td>unigram_tfidf_lem_Naive Bayes</td>\n",
              "      <td>unigram</td>\n",
              "      <td>tfidf</td>\n",
              "      <td>lem</td>\n",
              "      <td>Naive Bayes</td>\n",
              "      <td>0.795800</td>\n",
              "      <td>0.781925</td>\n",
              "    </tr>\n",
              "    <tr>\n",
              "      <th>3</th>\n",
              "      <td>bigram_tfidf_lem_Naive Bayes</td>\n",
              "      <td>bigram</td>\n",
              "      <td>tfidf</td>\n",
              "      <td>lem</td>\n",
              "      <td>Naive Bayes</td>\n",
              "      <td>0.593667</td>\n",
              "      <td>0.556918</td>\n",
              "    </tr>\n",
              "    <tr>\n",
              "      <th>4</th>\n",
              "      <td>unigram_count_stem_Naive Bayes</td>\n",
              "      <td>unigram</td>\n",
              "      <td>count</td>\n",
              "      <td>stem</td>\n",
              "      <td>Naive Bayes</td>\n",
              "      <td>0.770533</td>\n",
              "      <td>0.760064</td>\n",
              "    </tr>\n",
              "  </tbody>\n",
              "</table>\n",
              "</div>"
            ],
            "text/plain": [
              "                            index  ... accuracy_test\n",
              "0  unigram_tfidf_stem_Naive Bayes  ...      0.776860\n",
              "1   bigram_tfidf_stem_Naive Bayes  ...      0.565449\n",
              "2   unigram_tfidf_lem_Naive Bayes  ...      0.781925\n",
              "3    bigram_tfidf_lem_Naive Bayes  ...      0.556918\n",
              "4  unigram_count_stem_Naive Bayes  ...      0.760064\n",
              "\n",
              "[5 rows x 7 columns]"
            ]
          },
          "metadata": {
            "tags": []
          },
          "execution_count": 32
        }
      ]
    },
    {
      "cell_type": "markdown",
      "metadata": {
        "id": "yXYGtfelql5i",
        "colab_type": "text"
      },
      "source": [
        "Il tipo di rappresentazione mediamente più performante è decisamente quella unigram"
      ]
    },
    {
      "cell_type": "code",
      "metadata": {
        "id": "ezGEaeJDqkBj",
        "colab_type": "code",
        "colab": {
          "base_uri": "https://localhost:8080/",
          "height": 320
        },
        "outputId": "f6288302-3093-49e7-9fe4-48543d226645"
      },
      "source": [
        "groups = risultati.groupby('tipo_matrice')['accuracy_test'].mean()\n",
        "plt.figure(figsize=(9,5))\n",
        "ax = groups.plot.barh(x='accuracy_test', y='tipo_matrice')"
      ],
      "execution_count": 33,
      "outputs": [
        {
          "output_type": "display_data",
          "data": {
            "image/png": "[encoded data removed]",
            "text/plain": [
              "<Figure size 648x360 with 1 Axes>"
            ]
          },
          "metadata": {
            "tags": [],
            "needs_background": "light"
          }
        }
      ]
    },
    {
      "cell_type": "markdown",
      "metadata": {
        "id": "PyDT7SEeqviV",
        "colab_type": "text"
      },
      "source": [
        "Non sembra esserci mediamente grossa distinzione tra i tre pesi, il più performante risulta quello tfidf"
      ]
    },
    {
      "cell_type": "code",
      "metadata": {
        "id": "mM4Zllg5qxm-",
        "colab_type": "code",
        "colab": {
          "base_uri": "https://localhost:8080/",
          "height": 320
        },
        "outputId": "36adb21b-9dbb-484a-f347-13434115b72b"
      },
      "source": [
        "groups= risultati.groupby('peso')['accuracy_test'].mean()\n",
        "plt.figure(figsize=(9,5))\n",
        "ax = groups.plot.barh(x='accuracy_test', y='peso')"
      ],
      "execution_count": 34,
      "outputs": [
        {
          "output_type": "display_data",
          "data": {
            "image/png": "[encoded data removed]",
            "text/plain": [
              "<Figure size 648x360 with 1 Axes>"
            ]
          },
          "metadata": {
            "tags": [],
            "needs_background": "light"
          }
        }
      ]
    },
    {
      "cell_type": "markdown",
      "metadata": {
        "id": "b633y33cq7E7",
        "colab_type": "text"
      },
      "source": [
        "Mediamente l'operazione di stemming aumenta l'accuracy di 0.6 punti percentuali"
      ]
    },
    {
      "cell_type": "code",
      "metadata": {
        "id": "KIyBccWSq3jK",
        "colab_type": "code",
        "colab": {
          "base_uri": "https://localhost:8080/",
          "height": 320
        },
        "outputId": "0c69b96f-7859-4d9d-bc91-14d686436ddb"
      },
      "source": [
        "groups=risultati.groupby('token')['accuracy_test'].mean()\n",
        "plt.figure(figsize=(9,5))\n",
        "ax = groups.plot.barh(x='accuracy_test', y='token')"
      ],
      "execution_count": 35,
      "outputs": [
        {
          "output_type": "display_data",
          "data": {
            "image/png": "[encoded data removed]",
            "text/plain": [
              "<Figure size 648x360 with 1 Axes>"
            ]
          },
          "metadata": {
            "tags": [],
            "needs_background": "light"
          }
        }
      ]
    },
    {
      "cell_type": "markdown",
      "metadata": {
        "id": "b4FO9oiXrADy",
        "colab_type": "text"
      },
      "source": [
        "Il classificatore mediamente più performante è il MultiNomial NB, segue la regressione logisticsa e con notevole distacco la random forest"
      ]
    },
    {
      "cell_type": "code",
      "metadata": {
        "id": "IyRD54dKq-4p",
        "colab_type": "code",
        "colab": {
          "base_uri": "https://localhost:8080/",
          "height": 320
        },
        "outputId": "085d0e8f-83a9-4dc8-9cf3-519eb73cf34e"
      },
      "source": [
        "groups=risultati.groupby('classificatore')['accuracy_test'].mean()\n",
        "plt.figure(figsize=(9,5))\n",
        "ax = groups.plot.barh(x='accuracy_test', y='classificatore')"
      ],
      "execution_count": 36,
      "outputs": [
        {
          "output_type": "display_data",
          "data": {
            "image/png": "[encoded data removed]",
            "text/plain": [
              "<Figure size 648x360 with 1 Axes>"
            ]
          },
          "metadata": {
            "tags": [],
            "needs_background": "light"
          }
        }
      ]
    },
    {
      "cell_type": "markdown",
      "metadata": {
        "id": "uD_zKrHKrJaA",
        "colab_type": "text"
      },
      "source": [
        "Il multinomial naive bayes e la regressione logistica ottengono un'accuracy superiore al 75% utilizzando le due matrici unigram con pesi tfidf:"
      ]
    },
    {
      "cell_type": "code",
      "metadata": {
        "id": "FR17RMMErEtQ",
        "colab_type": "code",
        "colab": {
          "base_uri": "https://localhost:8080/",
          "height": 1000
        },
        "outputId": "f60df58f-1ea8-497f-ce66-fb7c0200f84e"
      },
      "source": [
        "risultati.sort_values('accuracy_test', ascending=False)"
      ],
      "execution_count": 37,
      "outputs": [
        {
          "output_type": "execute_result",
          "data": {
            "text/html": [
              "<div>\n",
              "<style scoped>\n",
              "    .dataframe tbody tr th:only-of-type {\n",
              "        vertical-align: middle;\n",
              "    }\n",
              "\n",
              "    .dataframe tbody tr th {\n",
              "        vertical-align: top;\n",
              "    }\n",
              "\n",
              "    .dataframe thead th {\n",
              "        text-align: right;\n",
              "    }\n",
              "</style>\n",
              "<table border=\"1\" class=\"dataframe\">\n",
              "  <thead>\n",
              "    <tr style=\"text-align: right;\">\n",
              "      <th></th>\n",
              "      <th>index</th>\n",
              "      <th>tipo_matrice</th>\n",
              "      <th>peso</th>\n",
              "      <th>token</th>\n",
              "      <th>classificatore</th>\n",
              "      <th>accuracy_train_cv</th>\n",
              "      <th>accuracy_test</th>\n",
              "    </tr>\n",
              "  </thead>\n",
              "  <tbody>\n",
              "    <tr>\n",
              "      <th>2</th>\n",
              "      <td>unigram_tfidf_lem_Naive Bayes</td>\n",
              "      <td>unigram</td>\n",
              "      <td>tfidf</td>\n",
              "      <td>lem</td>\n",
              "      <td>Naive Bayes</td>\n",
              "      <td>0.795800</td>\n",
              "      <td>0.781925</td>\n",
              "    </tr>\n",
              "    <tr>\n",
              "      <th>0</th>\n",
              "      <td>unigram_tfidf_stem_Naive Bayes</td>\n",
              "      <td>unigram</td>\n",
              "      <td>tfidf</td>\n",
              "      <td>stem</td>\n",
              "      <td>Naive Bayes</td>\n",
              "      <td>0.797267</td>\n",
              "      <td>0.776860</td>\n",
              "    </tr>\n",
              "    <tr>\n",
              "      <th>8</th>\n",
              "      <td>unigram_binary_stem_Naive Bayes</td>\n",
              "      <td>unigram</td>\n",
              "      <td>binary</td>\n",
              "      <td>stem</td>\n",
              "      <td>Naive Bayes</td>\n",
              "      <td>0.776667</td>\n",
              "      <td>0.772594</td>\n",
              "    </tr>\n",
              "    <tr>\n",
              "      <th>10</th>\n",
              "      <td>unigram_binary_lem_Naive Bayes</td>\n",
              "      <td>unigram</td>\n",
              "      <td>binary</td>\n",
              "      <td>lem</td>\n",
              "      <td>Naive Bayes</td>\n",
              "      <td>0.775400</td>\n",
              "      <td>0.768595</td>\n",
              "    </tr>\n",
              "    <tr>\n",
              "      <th>26</th>\n",
              "      <td>unigram_tfidf_lem,Reg Log</td>\n",
              "      <td>unigram</td>\n",
              "      <td>tfidf</td>\n",
              "      <td>lem</td>\n",
              "      <td>Reg Log</td>\n",
              "      <td>0.776067</td>\n",
              "      <td>0.766729</td>\n",
              "    </tr>\n",
              "    <tr>\n",
              "      <th>24</th>\n",
              "      <td>unigram_tfidf_stem_Reg Log</td>\n",
              "      <td>unigram</td>\n",
              "      <td>tfidf</td>\n",
              "      <td>stem</td>\n",
              "      <td>Reg Log</td>\n",
              "      <td>0.778733</td>\n",
              "      <td>0.762730</td>\n",
              "    </tr>\n",
              "    <tr>\n",
              "      <th>6</th>\n",
              "      <td>unigram_count_lem_Naive Bayes</td>\n",
              "      <td>unigram</td>\n",
              "      <td>count</td>\n",
              "      <td>lem</td>\n",
              "      <td>Naive Bayes</td>\n",
              "      <td>0.771333</td>\n",
              "      <td>0.762463</td>\n",
              "    </tr>\n",
              "    <tr>\n",
              "      <th>4</th>\n",
              "      <td>unigram_count_stem_Naive Bayes</td>\n",
              "      <td>unigram</td>\n",
              "      <td>count</td>\n",
              "      <td>stem</td>\n",
              "      <td>Naive Bayes</td>\n",
              "      <td>0.770533</td>\n",
              "      <td>0.760064</td>\n",
              "    </tr>\n",
              "    <tr>\n",
              "      <th>30</th>\n",
              "      <td>unigram_count_lem_Reg Log</td>\n",
              "      <td>unigram</td>\n",
              "      <td>count</td>\n",
              "      <td>lem</td>\n",
              "      <td>Reg Log</td>\n",
              "      <td>0.741267</td>\n",
              "      <td>0.738470</td>\n",
              "    </tr>\n",
              "    <tr>\n",
              "      <th>28</th>\n",
              "      <td>unigram_count_stem_Reg Log</td>\n",
              "      <td>unigram</td>\n",
              "      <td>count</td>\n",
              "      <td>stem</td>\n",
              "      <td>Reg Log</td>\n",
              "      <td>0.736800</td>\n",
              "      <td>0.735004</td>\n",
              "    </tr>\n",
              "    <tr>\n",
              "      <th>34</th>\n",
              "      <td>unigram_binary_lem_Reg Log</td>\n",
              "      <td>unigram</td>\n",
              "      <td>binary</td>\n",
              "      <td>lem</td>\n",
              "      <td>Reg Log</td>\n",
              "      <td>0.735267</td>\n",
              "      <td>0.728073</td>\n",
              "    </tr>\n",
              "    <tr>\n",
              "      <th>32</th>\n",
              "      <td>unigram_binary_stem_Reg Log</td>\n",
              "      <td>unigram</td>\n",
              "      <td>binary</td>\n",
              "      <td>stem</td>\n",
              "      <td>Reg Log</td>\n",
              "      <td>0.737333</td>\n",
              "      <td>0.726473</td>\n",
              "    </tr>\n",
              "    <tr>\n",
              "      <th>12</th>\n",
              "      <td>unigram_tfidf_stem_Random Forest</td>\n",
              "      <td>unigram</td>\n",
              "      <td>tfidf</td>\n",
              "      <td>stem</td>\n",
              "      <td>Random Forest</td>\n",
              "      <td>0.681067</td>\n",
              "      <td>0.683818</td>\n",
              "    </tr>\n",
              "    <tr>\n",
              "      <th>20</th>\n",
              "      <td>unigram_binary_stem_Random Forest</td>\n",
              "      <td>unigram</td>\n",
              "      <td>binary</td>\n",
              "      <td>stem</td>\n",
              "      <td>Random Forest</td>\n",
              "      <td>0.678667</td>\n",
              "      <td>0.683551</td>\n",
              "    </tr>\n",
              "    <tr>\n",
              "      <th>14</th>\n",
              "      <td>unigram_tfidf_lem_Random Forest</td>\n",
              "      <td>unigram</td>\n",
              "      <td>tfidf</td>\n",
              "      <td>lem</td>\n",
              "      <td>Random Forest</td>\n",
              "      <td>0.676133</td>\n",
              "      <td>0.673954</td>\n",
              "    </tr>\n",
              "    <tr>\n",
              "      <th>22</th>\n",
              "      <td>unigram_binary_lem_Random Forest</td>\n",
              "      <td>unigram</td>\n",
              "      <td>binary</td>\n",
              "      <td>lem</td>\n",
              "      <td>Random Forest</td>\n",
              "      <td>0.679533</td>\n",
              "      <td>0.673154</td>\n",
              "    </tr>\n",
              "    <tr>\n",
              "      <th>16</th>\n",
              "      <td>unigram_count_stem_Random Forest</td>\n",
              "      <td>unigram</td>\n",
              "      <td>count</td>\n",
              "      <td>stem</td>\n",
              "      <td>Random Forest</td>\n",
              "      <td>0.677400</td>\n",
              "      <td>0.667822</td>\n",
              "    </tr>\n",
              "    <tr>\n",
              "      <th>18</th>\n",
              "      <td>unigram_count_lem_Random Forest</td>\n",
              "      <td>unigram</td>\n",
              "      <td>count</td>\n",
              "      <td>lem</td>\n",
              "      <td>Random Forest</td>\n",
              "      <td>0.675867</td>\n",
              "      <td>0.667555</td>\n",
              "    </tr>\n",
              "    <tr>\n",
              "      <th>1</th>\n",
              "      <td>bigram_tfidf_stem_Naive Bayes</td>\n",
              "      <td>bigram</td>\n",
              "      <td>tfidf</td>\n",
              "      <td>stem</td>\n",
              "      <td>Naive Bayes</td>\n",
              "      <td>0.603867</td>\n",
              "      <td>0.565449</td>\n",
              "    </tr>\n",
              "    <tr>\n",
              "      <th>3</th>\n",
              "      <td>bigram_tfidf_lem_Naive Bayes</td>\n",
              "      <td>bigram</td>\n",
              "      <td>tfidf</td>\n",
              "      <td>lem</td>\n",
              "      <td>Naive Bayes</td>\n",
              "      <td>0.593667</td>\n",
              "      <td>0.556918</td>\n",
              "    </tr>\n",
              "    <tr>\n",
              "      <th>25</th>\n",
              "      <td>bigram_tfidf_stem_Reg Log</td>\n",
              "      <td>bigram</td>\n",
              "      <td>tfidf</td>\n",
              "      <td>stem</td>\n",
              "      <td>Reg Log</td>\n",
              "      <td>0.585400</td>\n",
              "      <td>0.556118</td>\n",
              "    </tr>\n",
              "    <tr>\n",
              "      <th>27</th>\n",
              "      <td>bigram_tfidf_lem_Reg Log</td>\n",
              "      <td>bigram</td>\n",
              "      <td>tfidf</td>\n",
              "      <td>lem</td>\n",
              "      <td>Reg Log</td>\n",
              "      <td>0.574067</td>\n",
              "      <td>0.544655</td>\n",
              "    </tr>\n",
              "    <tr>\n",
              "      <th>5</th>\n",
              "      <td>bigram_count_stem_Naive Bayes</td>\n",
              "      <td>bigram</td>\n",
              "      <td>count</td>\n",
              "      <td>stem</td>\n",
              "      <td>Naive Bayes</td>\n",
              "      <td>0.573400</td>\n",
              "      <td>0.542255</td>\n",
              "    </tr>\n",
              "    <tr>\n",
              "      <th>9</th>\n",
              "      <td>bigram_binary_stem_Naive Bayes</td>\n",
              "      <td>bigram</td>\n",
              "      <td>binary</td>\n",
              "      <td>stem</td>\n",
              "      <td>Naive Bayes</td>\n",
              "      <td>0.574467</td>\n",
              "      <td>0.541456</td>\n",
              "    </tr>\n",
              "    <tr>\n",
              "      <th>11</th>\n",
              "      <td>bigram_binary_lem_Naive Bayes</td>\n",
              "      <td>bigram</td>\n",
              "      <td>binary</td>\n",
              "      <td>lem</td>\n",
              "      <td>Naive Bayes</td>\n",
              "      <td>0.567733</td>\n",
              "      <td>0.536657</td>\n",
              "    </tr>\n",
              "    <tr>\n",
              "      <th>29</th>\n",
              "      <td>bigram_count_stem_Reg Log</td>\n",
              "      <td>bigram</td>\n",
              "      <td>count</td>\n",
              "      <td>stem</td>\n",
              "      <td>Reg Log</td>\n",
              "      <td>0.558067</td>\n",
              "      <td>0.535857</td>\n",
              "    </tr>\n",
              "    <tr>\n",
              "      <th>7</th>\n",
              "      <td>bigram_count_lem_Naive Bayes</td>\n",
              "      <td>bigram</td>\n",
              "      <td>count</td>\n",
              "      <td>lem</td>\n",
              "      <td>Naive Bayes</td>\n",
              "      <td>0.564867</td>\n",
              "      <td>0.533724</td>\n",
              "    </tr>\n",
              "    <tr>\n",
              "      <th>33</th>\n",
              "      <td>bigram_binary_stem_Reg Log</td>\n",
              "      <td>bigram</td>\n",
              "      <td>binary</td>\n",
              "      <td>stem</td>\n",
              "      <td>Reg Log</td>\n",
              "      <td>0.559867</td>\n",
              "      <td>0.533458</td>\n",
              "    </tr>\n",
              "    <tr>\n",
              "      <th>35</th>\n",
              "      <td>bigram_binary_lem_Reg Log</td>\n",
              "      <td>bigram</td>\n",
              "      <td>binary</td>\n",
              "      <td>lem</td>\n",
              "      <td>Reg Log</td>\n",
              "      <td>0.550333</td>\n",
              "      <td>0.529725</td>\n",
              "    </tr>\n",
              "    <tr>\n",
              "      <th>31</th>\n",
              "      <td>bigram_count_lem_Reg Log</td>\n",
              "      <td>bigram</td>\n",
              "      <td>count</td>\n",
              "      <td>lem</td>\n",
              "      <td>Reg Log</td>\n",
              "      <td>0.552667</td>\n",
              "      <td>0.523594</td>\n",
              "    </tr>\n",
              "    <tr>\n",
              "      <th>13</th>\n",
              "      <td>bigram_tfidf_stem_Random Forest</td>\n",
              "      <td>bigram</td>\n",
              "      <td>tfidf</td>\n",
              "      <td>stem</td>\n",
              "      <td>Random Forest</td>\n",
              "      <td>0.397733</td>\n",
              "      <td>0.396428</td>\n",
              "    </tr>\n",
              "    <tr>\n",
              "      <th>17</th>\n",
              "      <td>bigram_count_stem_Random Forest</td>\n",
              "      <td>bigram</td>\n",
              "      <td>count</td>\n",
              "      <td>stem</td>\n",
              "      <td>Random Forest</td>\n",
              "      <td>0.393267</td>\n",
              "      <td>0.396428</td>\n",
              "    </tr>\n",
              "    <tr>\n",
              "      <th>15</th>\n",
              "      <td>bigram_tfidf_lem_Random Forest</td>\n",
              "      <td>bigram</td>\n",
              "      <td>tfidf</td>\n",
              "      <td>lem</td>\n",
              "      <td>Random Forest</td>\n",
              "      <td>0.388133</td>\n",
              "      <td>0.393495</td>\n",
              "    </tr>\n",
              "    <tr>\n",
              "      <th>21</th>\n",
              "      <td>bigram_binary_stem_Random Forest</td>\n",
              "      <td>bigram</td>\n",
              "      <td>binary</td>\n",
              "      <td>stem</td>\n",
              "      <td>Random Forest</td>\n",
              "      <td>0.396200</td>\n",
              "      <td>0.391362</td>\n",
              "    </tr>\n",
              "    <tr>\n",
              "      <th>23</th>\n",
              "      <td>bigram_binary_lem_Random Forest</td>\n",
              "      <td>bigram</td>\n",
              "      <td>binary</td>\n",
              "      <td>lem</td>\n",
              "      <td>Random Forest</td>\n",
              "      <td>0.387067</td>\n",
              "      <td>0.383364</td>\n",
              "    </tr>\n",
              "    <tr>\n",
              "      <th>19</th>\n",
              "      <td>bigram_count_lem_Random Forest</td>\n",
              "      <td>bigram</td>\n",
              "      <td>count</td>\n",
              "      <td>lem</td>\n",
              "      <td>Random Forest</td>\n",
              "      <td>0.385400</td>\n",
              "      <td>0.379366</td>\n",
              "    </tr>\n",
              "  </tbody>\n",
              "</table>\n",
              "</div>"
            ],
            "text/plain": [
              "                                index  ... accuracy_test\n",
              "2       unigram_tfidf_lem_Naive Bayes  ...      0.781925\n",
              "0      unigram_tfidf_stem_Naive Bayes  ...      0.776860\n",
              "8     unigram_binary_stem_Naive Bayes  ...      0.772594\n",
              "10     unigram_binary_lem_Naive Bayes  ...      0.768595\n",
              "26          unigram_tfidf_lem,Reg Log  ...      0.766729\n",
              "24         unigram_tfidf_stem_Reg Log  ...      0.762730\n",
              "6       unigram_count_lem_Naive Bayes  ...      0.762463\n",
              "4      unigram_count_stem_Naive Bayes  ...      0.760064\n",
              "30          unigram_count_lem_Reg Log  ...      0.738470\n",
              "28         unigram_count_stem_Reg Log  ...      0.735004\n",
              "34         unigram_binary_lem_Reg Log  ...      0.728073\n",
              "32        unigram_binary_stem_Reg Log  ...      0.726473\n",
              "12   unigram_tfidf_stem_Random Forest  ...      0.683818\n",
              "20  unigram_binary_stem_Random Forest  ...      0.683551\n",
              "14    unigram_tfidf_lem_Random Forest  ...      0.673954\n",
              "22   unigram_binary_lem_Random Forest  ...      0.673154\n",
              "16   unigram_count_stem_Random Forest  ...      0.667822\n",
              "18    unigram_count_lem_Random Forest  ...      0.667555\n",
              "1       bigram_tfidf_stem_Naive Bayes  ...      0.565449\n",
              "3        bigram_tfidf_lem_Naive Bayes  ...      0.556918\n",
              "25          bigram_tfidf_stem_Reg Log  ...      0.556118\n",
              "27           bigram_tfidf_lem_Reg Log  ...      0.544655\n",
              "5       bigram_count_stem_Naive Bayes  ...      0.542255\n",
              "9      bigram_binary_stem_Naive Bayes  ...      0.541456\n",
              "11      bigram_binary_lem_Naive Bayes  ...      0.536657\n",
              "29          bigram_count_stem_Reg Log  ...      0.535857\n",
              "7        bigram_count_lem_Naive Bayes  ...      0.533724\n",
              "33         bigram_binary_stem_Reg Log  ...      0.533458\n",
              "35          bigram_binary_lem_Reg Log  ...      0.529725\n",
              "31           bigram_count_lem_Reg Log  ...      0.523594\n",
              "13    bigram_tfidf_stem_Random Forest  ...      0.396428\n",
              "17    bigram_count_stem_Random Forest  ...      0.396428\n",
              "15     bigram_tfidf_lem_Random Forest  ...      0.393495\n",
              "21   bigram_binary_stem_Random Forest  ...      0.391362\n",
              "23    bigram_binary_lem_Random Forest  ...      0.383364\n",
              "19     bigram_count_lem_Random Forest  ...      0.379366\n",
              "\n",
              "[36 rows x 7 columns]"
            ]
          },
          "metadata": {
            "tags": []
          },
          "execution_count": 37
        }
      ]
    },
    {
      "cell_type": "markdown",
      "metadata": {
        "id": "N7qor2HpsmcN",
        "colab_type": "text"
      },
      "source": [
        "# TOPIC MODELLING"
      ]
    },
    {
      "cell_type": "markdown",
      "metadata": {
        "id": "xTNoUPy-8Tln",
        "colab_type": "text"
      },
      "source": [
        "# LDA Unigram - tf-idf - lem "
      ]
    },
    {
      "cell_type": "code",
      "metadata": {
        "id": "owOyzEGsEy9C",
        "colab_type": "code",
        "colab": {}
      },
      "source": [
        "data_token_lem_tfidf = tfidf.fit_transform(df.token_lem)"
      ],
      "execution_count": 27,
      "outputs": []
    },
    {
      "cell_type": "code",
      "metadata": {
        "id": "VNVUd3izkkj5",
        "colab_type": "code",
        "colab": {
          "base_uri": "https://localhost:8080/",
          "height": 374
        },
        "outputId": "ce4c1b26-102f-4112-ec35-2d7ff240cfee"
      },
      "source": [
        "# Parametri di ricerca\n",
        "search_params = {'n_components': [5,10, 15, 20, 25, 30], 'learning_decay': [.5, .7, .9]}\n",
        "\n",
        "# Inizializzazione Modello\n",
        "lda = LatentDirichletAllocation()\n",
        "\n",
        "# Inizializzazione GridSearchCV\n",
        "model = GridSearchCV(lda, param_grid=search_params)\n",
        "\n",
        "# Grid Search\n",
        "model.fit(data_token_lem_tfidf)"
      ],
      "execution_count": 28,
      "outputs": [
        {
          "output_type": "execute_result",
          "data": {
            "text/plain": [
              "GridSearchCV(cv=None, error_score=nan,\n",
              "             estimator=LatentDirichletAllocation(batch_size=128,\n",
              "                                                 doc_topic_prior=None,\n",
              "                                                 evaluate_every=-1,\n",
              "                                                 learning_decay=0.7,\n",
              "                                                 learning_method='batch',\n",
              "                                                 learning_offset=10.0,\n",
              "                                                 max_doc_update_iter=100,\n",
              "                                                 max_iter=10,\n",
              "                                                 mean_change_tol=0.001,\n",
              "                                                 n_components=10, n_jobs=None,\n",
              "                                                 perp_tol=0.1,\n",
              "                                                 random_state=None,\n",
              "                                                 topic_word_prior=None,\n",
              "                                                 total_samples=1000000.0,\n",
              "                                                 verbose=0),\n",
              "             iid='deprecated', n_jobs=None,\n",
              "             param_grid={'learning_decay': [0.5, 0.7, 0.9],\n",
              "                         'n_components': [5, 10, 15, 20, 25, 30]},\n",
              "             pre_dispatch='2*n_jobs', refit=True, return_train_score=False,\n",
              "             scoring=None, verbose=0)"
            ]
          },
          "metadata": {
            "tags": []
          },
          "execution_count": 28
        }
      ]
    },
    {
      "cell_type": "code",
      "metadata": {
        "id": "2ZgqaBtzkzDH",
        "colab_type": "code",
        "colab": {
          "base_uri": "https://localhost:8080/",
          "height": 68
        },
        "outputId": "6f5adf7e-a266-4a33-ea7d-d421635c0a14"
      },
      "source": [
        "# Stimato il Miglior modello \n",
        "best_lda_model = model.best_estimator_\n",
        "\n",
        "# Parametri del modello\n",
        "print(\"Best Model Params: \", model.best_params_)\n",
        "\n",
        "# Log Likelihood Score\n",
        "print(\"Best Log Likelihood Score: \", model.best_score_)\n",
        "\n",
        "# Perplessità\n",
        "print(\"Model Perplexity: \", best_lda_model.perplexity(data_token_lem_tfidf))"
      ],
      "execution_count": null,
      "outputs": [
        {
          "output_type": "stream",
          "text": [
            "Best Model Params:  {'learning_decay': 0.9, 'n_components': 5}\n",
            "Best Log Likelihood Score:  -278889.9197941363\n",
            "Model Perplexity:  14888.229725431718\n"
          ],
          "name": "stdout"
        }
      ]
    },
    {
      "cell_type": "code",
      "metadata": {
        "id": "iQP825s_lI41",
        "colab_type": "code",
        "colab": {
          "base_uri": "https://localhost:8080/",
          "height": 861
        },
        "outputId": "bac97980-1ded-4cf2-9f73-495b349b0580"
      },
      "source": [
        "pyLDAvis.enable_notebook()\n",
        "vis = pyLDAvis.sklearn.prepare(best_lda_model, data_token_lem_tfidf, tfidf, mds='tsne')\n",
        "vis"
      ],
      "execution_count": null,
      "outputs": [
        {
          "output_type": "execute_result",
          "data": {
            "text/html": [
              "\n",
              "<link rel=\"stylesheet\" type=\"text/css\" href=\"https://cdn.rawgit.com/bmabey/pyLDAvis/files/ldavis.v1.0.0.css\">\n",
              "\n",
              "\n",
              "<div id=\"ldavis_el1401403452878046324626679084\"></div>\n",
              "<script type=\"text/javascript\">\n",
              "\n",
              "var ldavis_el1401403452878046324626679084_data = {\"mdsDat\": {\"x\": [150.22215270996094, 51.16336441040039, -73.1445541381836, -66.4101333618164, 54.41732406616211], \"y\": [-72.2695541381836, -159.968017578125, 21.523815155029297, -110.60643768310547, 12.44344425201416], \"topics\": [1, 2, 3, 4, 5], \"cluster\": [1, 1, 1, 1, 1], \"Freq\": [56.635035545584856, 23.911376623038464, 10.520408279414951, 5.257166229885727, 3.676013322076016]}, \"tinfo\": {\"Term\": [\"drive\", \"game\", \"card\", \"thanksn\", \"god\", \"team\", \"email\", \"file\", \"scsi\", \"___\", \"phone\", \"thanks\", \"disk\", \"player\", \"program\", \"driver\", \"please\", \"window\", \"year\", \"hard\", \"monitor\", \"mhz\", \"advancen\", \"university\", \"christian\", \"fan\", \"meg\", \"system\", \"speed\", \"mac\", \"bike\", \"modem\", \"encryption\", \"clipper\", \"car\", \"battery\", \"printer\", \"batf\", \"serial\", \"server\", \"mouse\", \"nsa\", \"output\", \"widget\", \"application\", \"armenian\", \"unix\", \"shuttle\", \"user\", \"input\", \"circuit\", \"de\", \"ride\", \"com\", \"escrow\", \"client\", \"tank\", \"detector\", \"wire\", \"tire\", \"key\", \"hardware\", \"package\", \"print\", \"window\", \"software\", \"screen\", \"engine\", \"space\", \"company\", \"project\", \"cost\", \"product\", \"program\", \"file\", \"data\", \"port\", \"using\", \"chip\", \"gun\", \"computer\", \"system\", \"available\", \"work\", \"running\", \"get\", \"problem\", \"image\", \"information\", \"anyone\", \"email\", \"used\", \"ive\", \"like\", \"new\", \"know\", \"need\", \"could\", \"also\", \"looking\", \"please\", \"dont\", \"want\", \"make\", \"time\", \"itn\", \"good\", \"ton\", \"much\", \"think\", \"thing\", \"people\", \"article\", \"jesus\", \"jew\", \"israel\", \"israeli\", \"arab\", \"christ\", \"atheist\", \"homosexual\", \"christian\", \"religion\", \"muslim\", \"christianity\", \"godn\", \"gay\", \"catholic\", \"morality\", \"bible\", \"palestinian\", \"islam\", \"scripture\", \"church\", \"islamic\", \"sexual\", \"homosexuality\", \"atheism\", \"religious\", \"verse\", \"marriage\", \"clhn\", \"punishment\", \"god\", \"sin\", \"moral\", \"belief\", \"faith\", \"objective\", \"nazi\", \"jewish\", \"lord\", \"human\", \"people\", \"evidence\", \"truth\", \"argument\", \"life\", \"believe\", \"say\", \"child\", \"right\", \"think\", \"dont\", \"word\", \"ofn\", \"writesn\", \"article\", \"said\", \"mean\", \"know\", \"see\", \"many\", \"like\", \"way\", \"thing\", \"thatn\", \"even\", \"ton\", \"time\", \"make\", \"hockey\", \"season\", \"playoff\", \"nhl\", \"baseball\", \"espn\", \"pitcher\", \"detroit\", \"sox\", \"cub\", \"hitter\", \"coach\", \"pitching\", \"bruin\", \"team\", \"scored\", \"yankee\", \"inning\", \"batting\", \"penguin\", \"rbi\", \"mets\", \"goalie\", \"maxaxaxaxaxaxaxaxaxaxaxaxaxaxaxn\", \"puck\", \"baseballn\", \"phillies\", \"islander\", \"shark\", \"batter\", \"player\", \"game\", \"league\", \"montreal\", \"buffalo\", \"fan\", \"stats\", \"cup\", \"score\", \"brave\", \"play\", \"win\", \"wing\", \"leaf\", \"gamen\", \"goal\", \"hit\", \"year\", \"toronto\", \"last\", \"he\", \"ball\", \"blue\", \"think\", \"first\", \"red\", \"good\", \"get\", \"time\", \"like\", \"dont\", \"mike\", \"see\", \"know\", \"ide\", \"scsi\", \"simms\", \"msg\", \"eisa\", \"njxp\", \"chastity\", \"slpittedu\", \"vlb\", \"isa\", \"controllern\", \"shameful\", \"nubus\", \"maxtor\", \"pd\", \"adaptec\", \"seagate\", \"intellect\", \"corn\", \"vesa\", \"vram\", \"migraine\", \"scsin\", \"skepticism\", \"simm\", \"wheelie\", \"mb\", \"lyme\", \"mfm\", \"yassin\", \"controller\", \"dma\", \"motherboard\", \"fpu\", \"coprocessor\", \"cache\", \"meg\", \"drive\", \"bus\", \"slot\", \"mhz\", \"card\", \"floppy\", \"gordon\", \"jumper\", \"driven\", \"disk\", \"ram\", \"hard\", \"thanks\", \"cardn\", \"video\", \"thanksn\", \"please\", \"monitor\", \"bios\", \"advancen\", \"driver\", \"email\", \"speed\", \"bmp\", \"candida\", \"gaedu\", \"diesel\", \"ntmi\", \"bmug\", \"cview\", \"actusorgn\", \"covington\", \"georgia\", \"eoucomedu\", \"mayhew\", \"nwedn\", \"rootstown\", \"neoucom\", \"daemonn\", \"rle\", \"gehrels\", \"infante\", \"dortmund\", \"tbird\", \"overpass\", \"tmcn\", \"targa\", \"champion_________________n\", \"___________________the\", \"wecedu\", \"tga\", \"cbrockucan\", \"eau\", \"captain\", \"sho\", \"dacuk\", \"yeast\", \"pcx\", \"uucpt\", \"athens\", \"___\", \"atlanta\", \"artificial\", \"atechedun\", \"____\", \"quack\", \"thanksn\", \"phone\", \"michael\", \"convert\", \"email\", \"file\", \"_____\", \"driver\", \"format\", \"university\", \"ftp\", \"gif\", \"program\", \"internet\", \"thanks\", \"usa\"], \"Freq\": [113.0, 122.0, 90.0, 114.0, 145.0, 79.0, 154.0, 122.0, 49.0, 56.0, 87.0, 114.0, 66.0, 62.0, 108.0, 68.0, 153.0, 152.0, 145.0, 70.0, 56.0, 38.0, 61.0, 107.0, 73.0, 50.0, 33.0, 149.0, 55.0, 58.0, 59.8994542798289, 37.32596852011889, 37.51025241824335, 35.512588698204674, 109.19023323480997, 27.90656037680507, 33.90574645182239, 27.303210590270606, 28.190591262405455, 37.83120783819429, 32.90005700600368, 25.65255248467088, 25.622997072691653, 23.60557872110879, 48.89027501669106, 41.88116981074767, 28.82115431923172, 20.456941610280627, 44.29006233037193, 22.287539363814552, 22.470896155116723, 18.7022142656822, 25.60309601073811, 18.514240481078524, 18.158547958459685, 17.564291909409334, 25.208174144440488, 17.050793801920488, 17.020669177606973, 17.11231901001515, 90.02532207795626, 33.84086123925961, 38.35246820914847, 23.81680446367742, 143.98346610849765, 73.85128806394081, 38.27682286591552, 37.80828273227737, 66.93300239589755, 54.02925823059566, 31.185326921012052, 50.80683610252505, 37.34643635364414, 97.29071228012879, 108.16368814805615, 62.443341719794326, 35.66927133177766, 86.57796920414765, 68.03542866090218, 57.80885307788693, 82.9700191764164, 122.471936451707, 59.459215569993255, 113.32906539710517, 53.287708947878805, 173.5684122500144, 113.95335256057552, 53.09212998299797, 77.78440739393822, 135.05641972711865, 117.48333465533236, 93.58863473671155, 98.99037239399281, 165.9617928101307, 116.46271415707777, 163.2745770249707, 104.85304689239946, 116.83966020065978, 114.11873635363187, 73.77910888522638, 107.09691352784093, 143.6827366602933, 101.28078245388937, 103.50445914949088, 107.12510339688828, 94.74444136053198, 102.019370852007, 99.44670486575924, 88.8433275104257, 100.27606307414244, 90.60875468165503, 94.76053637097895, 90.66425800726886, 60.184169936164764, 49.73567944047456, 49.59996347668375, 39.675155952176226, 38.67618306641738, 35.90372364521088, 33.91791698950319, 32.19915487856704, 72.39257085761913, 46.49178403302188, 37.53891920692463, 27.74529384768752, 22.638061776193485, 23.05826902490769, 20.714386122645237, 20.140572688802706, 44.73985622411939, 18.488568690055416, 17.733543261447608, 17.183655532707913, 48.05505283621315, 16.444104440291152, 19.633528786919808, 15.476268234840798, 14.878519604709853, 30.903734462726167, 14.620186669780557, 14.391634651883926, 13.34664165302107, 14.865448438842705, 136.50697237994962, 30.19465883455942, 32.45932903745591, 37.471024239520155, 35.80499931596158, 25.169168541807075, 19.9686180150983, 29.808651851301804, 22.477914834766302, 38.62737925975979, 106.66551535718385, 38.12086745137282, 29.08858486135727, 31.53225778632746, 46.88970194668632, 58.70993499270493, 69.58494484257596, 39.11862356790285, 56.586830613982734, 65.0748470945058, 69.15422473432936, 40.76884658203229, 51.90007339197082, 49.62117895458701, 50.370773075215, 43.69303929650377, 43.21143899588156, 52.12495344364017, 44.94134734507743, 43.089438088899904, 47.37140501227118, 43.356598106951104, 43.2071317683167, 41.96123315293613, 42.515726556050176, 42.48003555799821, 42.6493236943623, 42.41585609979082, 34.36820630937926, 33.83576254347248, 23.74355905847881, 20.104814835886838, 34.944532251347205, 19.072849734186487, 18.81027921138538, 15.833671569892154, 14.074795582233623, 13.21774512305848, 12.881281329597702, 12.857408013251492, 12.539254225623413, 12.367210842088992, 75.47336049582721, 11.324635430634128, 11.129327680663485, 10.331000572772984, 9.86062313594236, 13.074362846957124, 9.39743776585685, 9.26161716458885, 9.108724902734794, 8.68102250609655, 8.567529837248859, 8.807751325198865, 8.442951801095537, 8.392825432358492, 9.09381630983589, 8.060893604594401, 56.40557476565717, 103.17879837837808, 25.97318970638867, 11.848857740143645, 10.738985681807822, 38.31465209507017, 15.16620785147927, 17.93374231856603, 15.2801563165019, 15.460391497757671, 33.14270665000969, 31.611031512198558, 17.103325023257018, 18.446843330564064, 15.256567963243574, 18.77741199089377, 21.972184074554423, 40.82178034842401, 17.418659327112497, 29.814200192863574, 21.276386188420922, 17.004938567195698, 17.82308108457608, 27.059883095433584, 23.24711242905225, 17.674731077238512, 22.631645384529428, 22.288418072809293, 20.46425217253493, 19.971957290373943, 19.83784605134689, 17.900917991011845, 18.665473479114894, 18.958072573772416, 25.45969704844854, 48.21361333974324, 20.72925985487656, 18.46819198411255, 10.097445906039276, 9.789916690135065, 9.820546800084182, 9.690594077983295, 9.483716531852377, 14.75633119496959, 7.666477901025444, 9.917521233071948, 9.067162058923238, 6.526819408065386, 8.069653541541337, 6.341926058379476, 6.145053613199456, 10.115503140473045, 6.298650195216763, 11.270125087499496, 9.121699338157777, 6.570519735574443, 5.321251099948356, 9.757333399250586, 7.690723523528532, 5.002022684599681, 4.929202604625816, 4.74222169506825, 4.541679691450168, 4.570135264481338, 23.992206223501427, 7.8100290034554565, 16.135542976325258, 9.673945960573619, 6.428356473078721, 11.914224721728049, 22.536448629530888, 60.35570428454671, 21.710805358931882, 12.251310484601037, 22.987638555147214, 41.35421780449831, 14.906500631992, 11.061210177526808, 9.90714025034749, 14.0711313047395, 19.382022231085692, 13.305198837951075, 17.125347037523, 17.76366466770674, 10.933281237913675, 13.175262606048337, 15.096111315043958, 15.803823147776386, 12.993263211835933, 10.722008281184355, 12.492885456973513, 11.634034176844878, 12.300255216099142, 11.423143230336057, 9.120301864479497, 6.992432164759372, 6.669315553983114, 6.1903498486752095, 6.013842708730291, 5.96682274368477, 5.374553213151037, 4.790860957875695, 6.800249392511455, 22.685742057560468, 4.179310116767487, 4.11902906638861, 4.11902906638861, 4.11902906638861, 4.11902906638861, 4.044327253729009, 4.0575690139408165, 3.9530103652925916, 4.791766789937848, 4.042984031239123, 3.66094825489279, 3.7280474171505906, 3.626324102230385, 3.5828857911141423, 3.4135756644660336, 3.4135756644660336, 3.3777148293596935, 3.30115381169392, 3.2509407580172316, 3.2695130657726326, 11.664591692187578, 5.217852671263711, 4.0543983962987635, 8.190083213107275, 4.603976101581766, 4.472820657481457, 6.579184057916377, 24.132367311882657, 8.506102861799736, 6.1126489311504155, 6.461475203081507, 9.756651307342402, 4.82913938274863, 16.004989918006316, 11.744001034614241, 9.134642015870796, 7.361163062567247, 12.730528060939134, 10.950897550280338, 6.503592068246113, 8.899983778015054, 7.573392198024037, 9.354331275616397, 7.408111816022486, 5.834122954899969, 8.02150672408593, 6.720376961118097, 6.7316246621427, 6.134735216827885], \"Total\": [113.0, 122.0, 90.0, 114.0, 145.0, 79.0, 154.0, 122.0, 49.0, 56.0, 87.0, 114.0, 66.0, 62.0, 108.0, 68.0, 153.0, 152.0, 145.0, 70.0, 56.0, 38.0, 61.0, 107.0, 73.0, 50.0, 33.0, 149.0, 55.0, 58.0, 60.92469350096727, 38.00566909511908, 38.203514372257956, 36.199791131171985, 111.54679049652803, 28.586228756697523, 34.732266875279585, 27.99348103469786, 28.92129061376197, 38.86788833765968, 33.80665585083042, 26.383682267453832, 26.35802649037166, 24.283373678199492, 50.37834246225158, 43.192403791091046, 29.73976436945028, 21.13527067447698, 45.76894134601599, 23.046629897793572, 23.280455282356904, 19.382489434719908, 26.537736677243092, 19.19312260226748, 18.83644616192568, 18.243779957698266, 26.19696562316793, 17.733895898455504, 17.702986344412544, 17.80090348579927, 94.18109231192985, 35.213617509286976, 40.08256755251358, 24.799785468143618, 152.87795319661694, 78.10846816104372, 40.098814799190365, 39.73182620661526, 71.32324160709538, 57.59054322097096, 32.64341068786592, 54.352640759846764, 39.4714364835094, 108.86878639350802, 122.1822871967322, 68.70983929728308, 37.64787004825322, 98.85881989507145, 75.97470611419473, 63.96054462453087, 96.21306775825337, 149.50750641364854, 66.5106676883582, 137.9934017313731, 58.91403277661563, 232.0978301503646, 142.29137115122413, 58.72604194681113, 92.52642352202676, 178.82305007880302, 154.45210406390825, 117.59290331428656, 126.56511405448065, 240.74163346483448, 159.1808399276768, 247.511653076056, 140.14354796444542, 167.69371407325565, 165.42494874957555, 90.00392663461321, 153.4793421988947, 238.10214140655842, 147.09019676497917, 162.45148881130245, 172.75824997512711, 139.30430330398073, 160.10253799660398, 156.76065022518068, 133.69898609213388, 197.8778527664781, 143.14686752814143, 211.15785077603599, 159.88238366695475, 60.866144524257855, 50.41191132224998, 50.277268623749, 40.350802262706154, 39.35250037445934, 36.58303396901097, 34.59803534936098, 32.87457190249513, 73.91620784464634, 47.56369240746335, 38.41835628630705, 28.420241973946077, 23.318932301492282, 23.76572534386393, 21.389829477837033, 20.817142150185706, 46.34624199419313, 19.168833419199277, 18.41300901379863, 17.866998636588324, 49.98611006776547, 17.120579509190296, 20.44780015524934, 16.15108695456496, 15.553412308895085, 32.32662896299091, 15.301491232439808, 15.072620735891638, 14.023663418380705, 15.621951046641492, 145.2250872542954, 31.809089277871088, 34.53122314775652, 40.19550275677463, 38.81287980308342, 27.3024236246856, 21.2452281782941, 33.79303263842379, 24.760087008215695, 51.66060728870845, 211.15785077603599, 51.675869443008594, 35.8003795964373, 40.313824515691714, 73.93654493314833, 108.52288646603259, 157.58465889890343, 60.75895486993115, 145.3743910495409, 197.8778527664781, 238.10214140655842, 74.41843273986586, 140.30813691317016, 139.91987424838763, 159.88238366695475, 96.57488529973975, 98.17187041215647, 247.511653076056, 133.74583546624146, 121.85905187773022, 240.74163346483448, 140.6873082202593, 143.14686752814143, 115.22313139935619, 138.54484192969434, 156.76065022518068, 172.75824997512711, 162.45148881130245, 35.05847141034938, 34.79185090058588, 24.428398490086604, 20.789813456757077, 36.16110249102249, 19.75854141611388, 19.49512069835058, 16.529109822862278, 14.759945202953446, 13.90544041489808, 13.565993541623005, 13.547456139194175, 13.223736492449648, 13.052173694855469, 79.93459322337822, 12.013712548413968, 11.81847895980729, 11.016520534566268, 10.545337450025373, 14.00446692259287, 10.081860325668428, 9.95074370983368, 9.793481928028667, 9.365495698443645, 9.25219516765991, 9.512120324052388, 9.1276339633541, 9.085924625698656, 9.852939291811506, 8.745566772221792, 62.112980472509925, 122.30574088174615, 29.545210594589385, 13.09892599051198, 11.812337600347494, 50.008473736634215, 17.5525706814122, 21.353635386708895, 18.497567876870775, 19.029920636150134, 52.91924881588181, 51.88956863534186, 22.346794664981633, 25.2209991779554, 19.75825739577928, 29.488804146478795, 40.17170811453253, 145.8691469727639, 27.050103255616364, 96.10565195914108, 44.14050201270443, 26.70610430286583, 34.85149166302652, 197.8778527664781, 117.72813581081041, 35.9020196680265, 160.10253799660398, 232.0978301503646, 172.75824997512711, 240.74163346483448, 238.10214140655842, 46.50311586256765, 133.74583546624146, 247.511653076056, 26.152516482276646, 49.982603594062546, 21.532779856086457, 19.524735791027812, 10.79156567891049, 10.483360382918821, 10.516516545102942, 10.384023311614863, 10.207587271629386, 16.022714315373108, 8.37622827327755, 10.83718216754893, 10.011373150483696, 7.21896856338941, 8.946283790770257, 7.034030096607008, 6.837198743315132, 11.286402714239179, 7.03793939891564, 12.593192792629305, 10.24227487303259, 7.425498966335751, 6.016922775983178, 11.057183039524926, 8.752470279685928, 5.695658729611861, 5.6271353360872025, 5.440814540730021, 5.237256882658518, 5.275021253511792, 28.312647501579367, 9.130114237076858, 19.564639177097227, 11.526901111264456, 7.555608560056071, 15.587887568106849, 33.33225240495157, 113.83457809094246, 32.75777000981166, 16.182771346383923, 38.81594365436602, 90.1262806358932, 27.23662956497647, 16.762346587354376, 13.981007402846856, 30.765184848688513, 66.32454472205423, 30.41248477097376, 70.23849924593848, 114.7423115020807, 18.138863546822684, 51.44821050315918, 114.38969619655929, 153.4793421988947, 56.08880291065761, 17.891908864101378, 61.1137175583669, 68.65363148009922, 154.45210406390825, 55.393016797243845, 9.959644082269746, 7.6977600229552605, 7.361229425741111, 6.896084910071284, 6.705954292750038, 6.658383195435931, 6.085590256309509, 5.514769902356041, 7.874566770838825, 26.322176902588808, 4.875810403193442, 4.809708001504752, 4.809708001504752, 4.809708001504752, 4.809708001504752, 4.735398261476791, 4.763558618438027, 4.64967498731759, 5.651699926642655, 4.816905551774915, 4.36508021716646, 4.447899746220768, 4.334932816941773, 4.288902822990858, 4.1053635686108, 4.1053635686108, 4.079124795914173, 4.003650392162804, 3.9458176774404974, 3.970095648789486, 14.233378643990724, 6.377063118822428, 4.947964110548135, 10.24629300275813, 5.6682166047291, 5.514347049055297, 8.902045591210925, 56.3812159700187, 16.168274452963697, 9.949467268105114, 11.538112846423562, 26.70899804254537, 6.900380386056764, 114.38969619655929, 87.27297301638498, 46.161157714280634, 25.073512009542977, 154.45210406390825, 122.1822871967322, 22.178377559540387, 68.65363148009922, 39.20650871482048, 107.35020729840747, 40.666741087476765, 15.952834245039409, 108.86878639350802, 81.5438781543194, 114.7423115020807, 36.93205565778359], \"Category\": [\"Default\", \"Default\", \"Default\", \"Default\", \"Default\", \"Default\", \"Default\", \"Default\", \"Default\", \"Default\", \"Default\", \"Default\", \"Default\", \"Default\", \"Default\", \"Default\", \"Default\", \"Default\", \"Default\", \"Default\", \"Default\", \"Default\", \"Default\", \"Default\", \"Default\", \"Default\", \"Default\", \"Default\", \"Default\", \"Default\", \"Topic1\", \"Topic1\", \"Topic1\", \"Topic1\", \"Topic1\", \"Topic1\", \"Topic1\", \"Topic1\", \"Topic1\", \"Topic1\", \"Topic1\", \"Topic1\", \"Topic1\", \"Topic1\", \"Topic1\", \"Topic1\", \"Topic1\", \"Topic1\", \"Topic1\", \"Topic1\", \"Topic1\", \"Topic1\", \"Topic1\", \"Topic1\", \"Topic1\", \"Topic1\", \"Topic1\", \"Topic1\", \"Topic1\", \"Topic1\", \"Topic1\", \"Topic1\", \"Topic1\", \"Topic1\", \"Topic1\", \"Topic1\", \"Topic1\", \"Topic1\", \"Topic1\", \"Topic1\", \"Topic1\", \"Topic1\", \"Topic1\", \"Topic1\", \"Topic1\", \"Topic1\", \"Topic1\", \"Topic1\", \"Topic1\", \"Topic1\", \"Topic1\", \"Topic1\", \"Topic1\", \"Topic1\", \"Topic1\", \"Topic1\", \"Topic1\", \"Topic1\", \"Topic1\", \"Topic1\", \"Topic1\", \"Topic1\", \"Topic1\", \"Topic1\", \"Topic1\", \"Topic1\", \"Topic1\", \"Topic1\", \"Topic1\", \"Topic1\", \"Topic1\", \"Topic1\", \"Topic1\", \"Topic1\", \"Topic1\", \"Topic1\", \"Topic1\", \"Topic1\", \"Topic1\", \"Topic1\", \"Topic1\", \"Topic1\", \"Topic1\", \"Topic2\", \"Topic2\", \"Topic2\", \"Topic2\", \"Topic2\", \"Topic2\", \"Topic2\", \"Topic2\", \"Topic2\", \"Topic2\", \"Topic2\", \"Topic2\", \"Topic2\", \"Topic2\", \"Topic2\", \"Topic2\", \"Topic2\", \"Topic2\", \"Topic2\", \"Topic2\", \"Topic2\", \"Topic2\", \"Topic2\", \"Topic2\", \"Topic2\", \"Topic2\", \"Topic2\", \"Topic2\", \"Topic2\", \"Topic2\", \"Topic2\", \"Topic2\", \"Topic2\", \"Topic2\", \"Topic2\", \"Topic2\", \"Topic2\", \"Topic2\", \"Topic2\", \"Topic2\", \"Topic2\", \"Topic2\", \"Topic2\", \"Topic2\", \"Topic2\", \"Topic2\", \"Topic2\", \"Topic2\", \"Topic2\", \"Topic2\", \"Topic2\", \"Topic2\", \"Topic2\", \"Topic2\", \"Topic2\", \"Topic2\", \"Topic2\", \"Topic2\", \"Topic2\", \"Topic2\", \"Topic2\", \"Topic2\", \"Topic2\", \"Topic2\", \"Topic2\", \"Topic2\", \"Topic2\", \"Topic2\", \"Topic3\", \"Topic3\", \"Topic3\", \"Topic3\", \"Topic3\", \"Topic3\", \"Topic3\", \"Topic3\", \"Topic3\", \"Topic3\", \"Topic3\", \"Topic3\", \"Topic3\", \"Topic3\", \"Topic3\", \"Topic3\", \"Topic3\", \"Topic3\", \"Topic3\", \"Topic3\", \"Topic3\", \"Topic3\", \"Topic3\", \"Topic3\", \"Topic3\", \"Topic3\", \"Topic3\", \"Topic3\", \"Topic3\", \"Topic3\", \"Topic3\", \"Topic3\", \"Topic3\", \"Topic3\", \"Topic3\", \"Topic3\", \"Topic3\", \"Topic3\", \"Topic3\", \"Topic3\", \"Topic3\", \"Topic3\", \"Topic3\", \"Topic3\", \"Topic3\", \"Topic3\", \"Topic3\", \"Topic3\", \"Topic3\", \"Topic3\", \"Topic3\", \"Topic3\", \"Topic3\", \"Topic3\", \"Topic3\", \"Topic3\", \"Topic3\", \"Topic3\", \"Topic3\", \"Topic3\", \"Topic3\", \"Topic3\", \"Topic3\", \"Topic3\", \"Topic4\", \"Topic4\", \"Topic4\", \"Topic4\", \"Topic4\", \"Topic4\", \"Topic4\", \"Topic4\", \"Topic4\", \"Topic4\", \"Topic4\", \"Topic4\", \"Topic4\", \"Topic4\", \"Topic4\", \"Topic4\", \"Topic4\", \"Topic4\", \"Topic4\", \"Topic4\", \"Topic4\", \"Topic4\", \"Topic4\", \"Topic4\", \"Topic4\", \"Topic4\", \"Topic4\", \"Topic4\", \"Topic4\", \"Topic4\", \"Topic4\", \"Topic4\", \"Topic4\", \"Topic4\", \"Topic4\", \"Topic4\", \"Topic4\", \"Topic4\", \"Topic4\", \"Topic4\", \"Topic4\", \"Topic4\", \"Topic4\", \"Topic4\", \"Topic4\", \"Topic4\", \"Topic4\", \"Topic4\", \"Topic4\", \"Topic4\", \"Topic4\", \"Topic4\", \"Topic4\", \"Topic4\", \"Topic4\", \"Topic4\", \"Topic4\", \"Topic4\", \"Topic4\", \"Topic4\", \"Topic5\", \"Topic5\", \"Topic5\", \"Topic5\", \"Topic5\", \"Topic5\", \"Topic5\", \"Topic5\", \"Topic5\", \"Topic5\", \"Topic5\", \"Topic5\", \"Topic5\", \"Topic5\", \"Topic5\", \"Topic5\", \"Topic5\", \"Topic5\", \"Topic5\", \"Topic5\", \"Topic5\", \"Topic5\", \"Topic5\", \"Topic5\", \"Topic5\", \"Topic5\", \"Topic5\", \"Topic5\", \"Topic5\", \"Topic5\", \"Topic5\", \"Topic5\", \"Topic5\", \"Topic5\", \"Topic5\", \"Topic5\", \"Topic5\", \"Topic5\", \"Topic5\", \"Topic5\", \"Topic5\", \"Topic5\", \"Topic5\", \"Topic5\", \"Topic5\", \"Topic5\", \"Topic5\", \"Topic5\", \"Topic5\", \"Topic5\", \"Topic5\", \"Topic5\", \"Topic5\", \"Topic5\", \"Topic5\", \"Topic5\", \"Topic5\", \"Topic5\", \"Topic5\"], \"logprob\": [30.0, 29.0, 28.0, 27.0, 26.0, 25.0, 24.0, 23.0, 22.0, 21.0, 20.0, 19.0, 18.0, 17.0, 16.0, 15.0, 14.0, 13.0, 12.0, 11.0, 10.0, 9.0, 8.0, 7.0, 6.0, 5.0, 4.0, 3.0, 2.0, 1.0, -7.0665, -7.5395, -7.5346, -7.5893, -6.4661, -7.8303, -7.6356, -7.8522, -7.8202, -7.5261, -7.6657, -7.9146, -7.9157, -7.9977, -7.2696, -7.4244, -7.7981, -8.1409, -7.3684, -8.0552, -8.047, -8.2306, -7.9165, -8.2407, -8.2601, -8.2933, -7.932, -8.323, -8.3248, -8.3194, -6.6591, -7.6375, -7.5124, -7.9888, -6.1895, -6.8572, -7.5144, -7.5267, -6.9555, -7.1697, -7.7193, -7.2312, -7.539, -6.5815, -6.4756, -7.0249, -7.5849, -6.6982, -6.9392, -7.1021, -6.7407, -6.3513, -7.0739, -6.4289, -7.1835, -6.0026, -6.4234, -7.1872, -6.8053, -6.2535, -6.3929, -6.6203, -6.5642, -6.0474, -6.4016, -6.0638, -6.5066, -6.3984, -6.422, -6.8581, -6.4855, -6.1916, -6.5413, -6.5196, -6.4852, -6.608, -6.534, -6.5596, -6.6723, -6.5513, -6.6527, -6.6079, -6.652, -6.1995, -6.3902, -6.3929, -6.6162, -6.6417, -6.7161, -6.773, -6.825, -6.0148, -6.4577, -6.6716, -6.9739, -7.1773, -7.1589, -7.2661, -7.2942, -6.4961, -7.3798, -7.4215, -7.453, -6.4246, -7.497, -7.3197, -7.5576, -7.597, -6.8661, -7.6145, -7.6303, -7.7057, -7.5979, -5.3806, -6.8893, -6.8169, -6.6734, -6.7188, -7.0713, -7.3028, -6.9021, -7.1844, -6.643, -5.6272, -6.6562, -6.9266, -6.8459, -6.4491, -6.2243, -6.0544, -6.6303, -6.2612, -6.1214, -6.0606, -6.589, -6.3476, -6.3925, -6.3775, -6.5197, -6.5308, -6.3433, -6.4916, -6.5337, -6.4389, -6.5275, -6.5309, -6.5602, -6.5471, -6.5479, -6.5439, -6.5494, -5.9388, -5.9544, -6.3086, -6.4749, -5.9221, -6.5276, -6.5415, -6.7138, -6.8315, -6.8943, -6.9201, -6.922, -6.947, -6.9608, -5.1521, -7.0489, -7.0663, -7.1407, -7.1873, -6.9052, -7.2355, -7.25, -7.2667, -7.3148, -7.3279, -7.3003, -7.3426, -7.3485, -7.2683, -7.3889, -5.4433, -4.8394, -6.2188, -7.0037, -7.102, -5.8301, -6.7568, -6.5892, -6.7493, -6.7376, -5.9751, -6.0224, -6.6366, -6.561, -6.7509, -6.5432, -6.3861, -5.7667, -6.6184, -6.0809, -6.4183, -6.6424, -6.5954, -6.1778, -6.3297, -6.6038, -6.3565, -6.3718, -6.4572, -6.4816, -6.4883, -6.591, -6.5492, -6.5337, -5.5451, -4.9065, -5.7506, -5.8661, -6.4699, -6.5008, -6.4977, -6.511, -6.5326, -6.0905, -6.7453, -6.4879, -6.5775, -6.9062, -6.6941, -6.935, -6.9665, -6.4681, -6.9418, -6.36, -6.5715, -6.8996, -7.1105, -6.5041, -6.7422, -7.1723, -7.187, -7.2257, -7.2689, -7.2626, -5.6044, -6.7268, -6.0011, -6.5127, -6.9214, -6.3044, -5.667, -4.6819, -5.7044, -6.2765, -5.6472, -5.06, -6.0804, -6.3787, -6.4889, -6.138, -5.8178, -6.194, -5.9416, -5.905, -6.3904, -6.2038, -6.0677, -6.0219, -6.2177, -6.4099, -6.257, -6.3282, -6.2725, -6.3465, -6.2139, -6.4796, -6.5269, -6.6014, -6.6303, -6.6382, -6.7427, -6.8577, -6.5074, -5.3027, -6.9943, -7.0088, -7.0088, -7.0088, -7.0088, -7.0271, -7.0238, -7.0499, -6.8575, -7.0274, -7.1267, -7.1085, -7.1362, -7.1482, -7.1966, -7.1966, -7.2072, -7.2301, -7.2455, -7.2398, -5.9678, -6.7723, -7.0246, -6.3215, -6.8975, -6.9264, -6.5405, -5.2409, -6.2836, -6.614, -6.5585, -6.1465, -6.8497, -5.6515, -5.9611, -6.2123, -6.4282, -5.8804, -6.031, -6.5521, -6.2384, -6.3998, -6.1886, -6.4218, -6.6607, -6.3423, -6.5193, -6.5176, -6.6104], \"loglift\": [30.0, 29.0, 28.0, 27.0, 26.0, 25.0, 24.0, 23.0, 22.0, 21.0, 20.0, 19.0, 18.0, 17.0, 16.0, 15.0, 14.0, 13.0, 12.0, 11.0, 10.0, 9.0, 8.0, 7.0, 6.0, 5.0, 4.0, 3.0, 2.0, 1.0, 0.5516, 0.5505, 0.5502, 0.5494, 0.5472, 0.5445, 0.5445, 0.5436, 0.543, 0.5415, 0.5414, 0.5404, 0.5403, 0.5402, 0.5386, 0.5377, 0.5372, 0.5359, 0.5357, 0.5351, 0.5331, 0.5328, 0.5327, 0.5325, 0.5319, 0.5306, 0.5301, 0.5293, 0.5292, 0.5291, 0.5234, 0.5288, 0.5244, 0.5281, 0.5086, 0.5125, 0.522, 0.5189, 0.505, 0.5047, 0.5228, 0.5011, 0.5132, 0.4561, 0.4467, 0.4729, 0.5146, 0.4359, 0.4582, 0.4674, 0.4205, 0.3691, 0.4565, 0.3716, 0.4682, 0.278, 0.3465, 0.4677, 0.395, 0.2878, 0.295, 0.3402, 0.3228, 0.1966, 0.2561, 0.1525, 0.2784, 0.2072, 0.1973, 0.3698, 0.2087, 0.0635, 0.1954, 0.1178, 0.0906, 0.1831, 0.1179, 0.1134, 0.1598, -0.1112, 0.1112, -0.2327, 0.0013, 1.4195, 1.4173, 1.4173, 1.4139, 1.4135, 1.4121, 1.411, 1.4101, 1.41, 1.408, 1.4077, 1.4068, 1.4012, 1.4006, 1.3987, 1.3978, 1.3955, 1.3947, 1.3932, 1.3918, 1.3914, 1.3905, 1.3902, 1.3881, 1.3865, 1.3858, 1.3853, 1.3846, 1.3813, 1.3812, 1.3689, 1.3787, 1.3689, 1.3606, 1.3502, 1.3495, 1.3688, 1.3054, 1.3341, 1.1401, 0.7479, 1.1266, 1.2232, 1.1851, 0.9754, 0.8165, 0.6134, 0.9905, 0.4873, 0.3187, 0.1945, 0.829, 0.4363, 0.3942, 0.2758, 0.6377, 0.6102, -0.127, 0.3402, 0.3912, -0.1949, 0.2537, 0.233, 0.4207, 0.2495, 0.1251, 0.0319, 0.088, 2.232, 2.224, 2.2234, 2.2183, 2.2176, 2.2165, 2.2161, 2.2089, 2.2043, 2.2011, 2.2001, 2.1996, 2.1987, 2.1979, 2.1944, 2.1928, 2.1918, 2.1876, 2.1847, 2.1831, 2.1816, 2.1801, 2.1794, 2.176, 2.175, 2.1749, 2.1739, 2.1725, 2.1717, 2.1703, 2.1555, 2.0818, 2.123, 2.1516, 2.1566, 1.9855, 2.1057, 2.0773, 2.0608, 2.0441, 1.7839, 1.7562, 1.9844, 1.9391, 1.9933, 1.8005, 1.6485, 0.9784, 1.8117, 1.0814, 1.5221, 1.8005, 1.5813, 0.2623, 0.6297, 1.5432, 0.2954, -0.0912, 0.1186, -0.2375, -0.2333, 1.2972, 0.2826, -0.3174, 2.9187, 2.9095, 2.9075, 2.8899, 2.8791, 2.8771, 2.8771, 2.8765, 2.872, 2.8632, 2.857, 2.8569, 2.8465, 2.8448, 2.8425, 2.842, 2.8388, 2.836, 2.8346, 2.8346, 2.8297, 2.8233, 2.8227, 2.8205, 2.8163, 2.8157, 2.8132, 2.8082, 2.8031, 2.8021, 2.78, 2.7894, 2.7529, 2.7703, 2.784, 2.6768, 2.5542, 2.3111, 2.5342, 2.6673, 2.4217, 2.1665, 2.3428, 2.5299, 2.6011, 2.1633, 1.7154, 2.1189, 1.5342, 1.08, 2.4393, 1.5833, 0.9204, 0.6723, 1.4831, 2.4335, 1.358, 1.1704, 0.4153, 1.3668, 3.2153, 3.2072, 3.2046, 3.1954, 3.1944, 3.1937, 3.1791, 3.1626, 3.1567, 3.1547, 3.1492, 3.1483, 3.1483, 3.1483, 3.1483, 3.1456, 3.1429, 3.141, 3.1383, 3.1282, 3.1274, 3.1268, 3.1249, 3.1235, 3.1188, 3.1188, 3.1147, 3.1104, 3.1096, 3.1092, 3.1043, 3.1027, 3.1042, 3.0793, 3.0954, 3.094, 3.001, 2.4548, 2.6611, 2.8162, 2.7235, 2.2963, 2.9464, 1.3366, 1.2976, 1.6833, 2.0777, 0.8075, 0.8912, 2.0766, 1.2603, 1.6591, 0.8631, 1.6005, 2.2974, 0.6953, 0.8073, 0.4675, 1.5082]}, \"token.table\": {\"Topic\": [1, 2, 3, 5, 1, 2, 3, 5, 1, 2, 3, 5, 5, 5, 4, 1, 3, 4, 5, 1, 2, 3, 4, 5, 1, 2, 3, 4, 5, 1, 2, 2, 1, 2, 3, 1, 2, 1, 2, 3, 4, 5, 1, 2, 5, 1, 2, 5, 2, 2, 1, 5, 1, 3, 5, 1, 2, 3, 4, 5, 1, 2, 3, 1, 3, 3, 1, 3, 1, 3, 1, 2, 3, 1, 2, 3, 4, 5, 1, 2, 4, 1, 4, 1, 4, 1, 2, 3, 5, 5, 1, 2, 3, 3, 1, 3, 1, 4, 1, 4, 5, 1, 5, 1, 2, 4, 1, 3, 4, 5, 1, 4, 2, 5, 5, 4, 1, 2, 1, 3, 4, 2, 1, 2, 2, 1, 2, 1, 2, 1, 1, 3, 1, 1, 2, 3, 1, 2, 3, 4, 5, 1, 4, 4, 1, 2, 5, 4, 5, 4, 1, 2, 3, 4, 1, 2, 3, 4, 5, 5, 3, 1, 2, 3, 5, 5, 5, 1, 2, 3, 4, 1, 1, 3, 5, 1, 4, 1, 4, 1, 2, 3, 4, 5, 5, 1, 2, 4, 1, 2, 3, 4, 1, 4, 5, 5, 4, 1, 2, 3, 4, 5, 1, 1, 4, 5, 1, 3, 1, 2, 3, 4, 1, 2, 3, 1, 2, 3, 1, 2, 3, 1, 2, 4, 5, 1, 2, 3, 4, 1, 4, 1, 4, 5, 1, 4, 1, 5, 5, 1, 2, 3, 4, 1, 2, 3, 2, 5, 1, 5, 1, 2, 3, 4, 5, 1, 5, 1, 2, 3, 3, 1, 2, 3, 2, 1, 2, 3, 4, 1, 4, 5, 1, 2, 4, 1, 2, 3, 4, 1, 5, 1, 2, 3, 4, 1, 2, 3, 3, 3, 2, 2, 1, 2, 4, 1, 2, 5, 5, 1, 2, 3, 4, 5, 3, 1, 2, 4, 1, 2, 3, 4, 5, 1, 4, 2, 2, 3, 2, 2, 1, 2, 3, 4, 5, 1, 2, 3, 4, 5, 2, 2, 2, 3, 1, 4, 1, 2, 3, 4, 1, 2, 3, 4, 5, 1, 2, 3, 1, 2, 3, 1, 2, 3, 5, 1, 2, 3, 1, 2, 3, 4, 5, 1, 2, 3, 4, 5, 1, 2, 3, 4, 1, 4, 1, 2, 3, 4, 5, 1, 2, 3, 4, 5, 2, 3, 4, 5, 4, 1, 2, 3, 4, 5, 1, 4, 3, 4, 1, 4, 1, 2, 3, 4, 5, 4, 1, 2, 3, 4, 1, 1, 4, 1, 3, 1, 2, 2, 1, 4, 1, 2, 4, 1, 2, 3, 4, 2, 1, 2, 1, 2, 3, 4, 5, 5, 1, 2, 3, 4, 5, 3, 4, 1, 5, 4, 5, 1, 2, 1, 2, 3, 4, 5, 1, 5, 1, 5, 2, 1, 5, 4, 3, 1, 2, 3, 4, 3, 1, 2, 3, 4, 5, 3, 3, 1, 2, 3, 1, 3, 3, 1, 2, 3, 4, 5, 1, 4, 1, 1, 1, 2, 3, 4, 5, 1, 2, 1, 2, 4, 5, 1, 3, 3, 2, 2, 4, 5, 1, 3, 4, 3, 1, 2, 3, 4, 1, 2, 1, 2, 1, 1, 2, 3, 5, 5, 5, 1, 2, 3, 4, 5, 1, 2, 3, 4, 1, 2, 3, 4, 5, 1, 2, 3, 5, 3, 1, 2, 4, 2, 1, 4, 4, 4, 3, 1, 2, 3, 4, 5, 1, 1, 2, 2, 4, 3, 5, 1, 1, 4, 4, 1, 2, 2, 4, 1, 3, 4, 4, 1, 4, 5, 3, 1, 2, 3, 4, 1, 3, 4, 1, 3, 1, 2, 3, 4, 5, 1, 5, 5, 1, 3, 5, 1, 2, 3, 4, 5, 1, 2, 3, 4, 5, 1, 2, 3, 4, 5, 1, 2, 3, 4, 5, 1, 2, 3, 4, 1, 2, 3, 4, 1, 5, 1, 2, 3, 4, 5, 1, 3, 1, 2, 4, 1, 2, 3, 4, 5, 1, 1, 2, 3, 5, 1, 2, 3, 4, 5, 1, 2, 5, 1, 2, 3, 4, 5, 4, 5, 2, 4, 5, 1, 3, 4, 5, 4, 1, 4, 1, 2, 3, 4, 5, 1, 2, 3, 4, 5, 5, 4, 1, 1, 2, 3, 5, 1, 4, 5, 1, 2, 3, 1, 1, 2, 3, 1, 2, 3, 4, 5, 1, 2, 3, 4, 5, 3, 4, 1, 2, 3, 4, 2, 5], \"Freq\": [0.390200878457441, 0.05320921069874196, 0.12415482496373123, 0.4256736855899357, 0.44928679020025114, 0.07488113170004185, 0.11232169755006279, 0.3744056585002093, 0.5861564925161913, 0.0901779219255679, 0.04508896096278395, 0.3156227267394876, 0.7307513573067439, 0.9066561413312786, 0.8529960659244561, 0.6872434156846657, 0.016362938468682517, 0.1963552616241902, 0.08181469234341258, 0.6891342621636599, 0.19948623378421734, 0.07858548603620683, 0.030225186937002626, 0.006045037387400525, 0.7549362341180779, 0.10065816454907704, 0.07269756328544454, 0.04473696202181202, 0.02236848101090601, 0.9726401784003836, 0.019849799559191503, 0.9910424910461821, 0.17363770577696808, 0.7937723692661397, 0.024805386539566866, 0.972393206063308, 0.023152219191983524, 0.5691683968732842, 0.3127298883919144, 0.09381896651757432, 0.018763793303514863, 0.006254597767838288, 0.20101578769060086, 0.10050789384530043, 0.6030473630718026, 0.08666928581045794, 0.34667714324183174, 0.5200157148627476, 0.9644185920167123, 0.9827147598607208, 0.22466746316988304, 0.7863361210945906, 0.18554855737558873, 0.3092475956259812, 0.5566456721267662, 0.8870757436453636, 0.045105546287052385, 0.015035182095684128, 0.015035182095684128, 0.030070364191368257, 0.3370016044996204, 0.03744462272218004, 0.6365585862770607, 0.02765402410637962, 0.9678908437232866, 0.9461612861690323, 0.9645102717498247, 0.9147491761666142, 0.9794926164732319, 0.9482863917243292, 0.02487840508056484, 0.9205009879808991, 0.02487840508056484, 0.3685858467515044, 0.543664123958469, 0.07371716935030088, 0.00921464616878761, 0.00921464616878761, 0.021576722447642967, 0.9709525101439335, 0.021576722447642967, 0.9848223528452779, 0.016413705880754633, 0.39123829956706946, 0.6148030421768234, 0.4590908232767031, 0.028693176454793943, 0.516477176186291, 0.9036467493875495, 0.9011196598166312, 0.05254882661467084, 0.15764647984401253, 0.7882323992200626, 0.9193870906521735, 0.08465724853398891, 0.9312297338738781, 0.3357981937325179, 0.6715963874650358, 0.19245712332042117, 0.7698284932816847, 0.9093554461460878, 0.1405147751650935, 0.843088650990561, 0.9771684108059809, 0.00896484780555946, 0.00896484780555946, 0.4882038811493659, 0.02219108550678936, 0.4549172528891819, 0.03328662826018404, 0.3859117183350863, 0.6064327002408499, 0.9817750076857343, 0.7602986871775552, 0.7307513573067439, 0.950885205867578, 0.345628064948705, 0.641880692047595, 0.8950347224481757, 0.01316227533012023, 0.09213592731084162, 0.9840627223672905, 0.013528832568112175, 0.9740759449040766, 0.9852132865606377, 0.020005557516764437, 0.9602667608046929, 0.9449987009778414, 0.9270045645106544, 0.9866376398825508, 0.9944808761341183, 0.9595897463280705, 0.9899379269194757, 0.9376539442040981, 0.034727923859411036, 0.017363961929705518, 0.8626686783187003, 0.031180795601880737, 0.010393598533960244, 0.04157439413584098, 0.051967992669801226, 0.14127961716674034, 0.847677703000442, 0.9550838084871899, 0.5184754331603886, 0.199413628138611, 0.2791790793940554, 0.7941120761231539, 0.13235201268719232, 0.8525222597006791, 0.9383168745257444, 0.01839837008874009, 0.01839837008874009, 0.03679674017748018, 0.6977005706301519, 0.19678734043414542, 0.07752228562557244, 0.017889758221285947, 0.011926505480857297, 0.8889377922252777, 0.934885887258342, 0.09366086681637621, 0.046830433408188106, 0.8429478013473859, 0.8216129889481182, 0.808413301032792, 0.8447019192748006, 0.9023452919420756, 0.02910791264329276, 0.02910791264329276, 0.02910791264329276, 0.9802662379356311, 0.9586162057870532, 0.9679892124541131, 0.8700588925808308, 0.6935592274741101, 0.2864701156958281, 0.10952765475146616, 0.8762212380117292, 0.6047824649931249, 0.2897915978092057, 0.08399756458237846, 0.020999391145594615, 0.004199878229118923, 0.8304086424376943, 0.456803204018178, 0.008784677000349576, 0.5270806200209746, 0.4875641109836996, 0.03250427406557997, 0.03250427406557997, 0.45505983691811963, 0.6991618500750957, 0.17479046251877392, 0.13109284688908043, 0.7556493005186724, 0.9266495981711519, 0.7575163880680347, 0.038846994259899216, 0.038846994259899216, 0.07769398851979843, 0.08416848756311497, 0.9946728887223595, 0.9564121166339212, 0.025168739911418977, 0.8203764439610235, 0.9555942689647904, 0.9616094427144679, 0.584648254469871, 0.31036882644696856, 0.0938324359025719, 0.007217879684813223, 0.23221670248304882, 0.7353528911963212, 0.0193513918735874, 0.025764643207963064, 0.9275271554866703, 0.025764643207963064, 0.21996272187650948, 0.019996611079682678, 0.7598712210279418, 0.8839251783370485, 0.01636898478401942, 0.00818449239200971, 0.0900294163121068, 0.5860960893059861, 0.21235365554564714, 0.19536536310199537, 0.008494146221825885, 0.4405831481965293, 0.5507289352456616, 0.7396731040486063, 0.051011938210248714, 0.20404775284099486, 0.0867535854040396, 0.867535854040396, 0.8114739248226183, 0.17213083253813113, 0.9509281120246103, 0.13081969729834622, 0.016352462162293278, 0.8421518013581039, 0.008176231081146639, 0.10122350164479768, 0.10122350164479768, 0.7591762623359826, 0.9677802662117513, 0.8602751828698484, 0.11397233637256451, 0.8737879121896613, 0.7496838720434141, 0.12063878400698619, 0.09478761600548914, 0.02585116800149704, 0.008617056000499014, 0.6268478595337713, 0.3761087157202628, 0.13564470027780468, 0.2373782254861582, 0.6443123263195722, 0.9189785682089489, 0.048201038349129706, 0.9433631791186813, 0.006885862621304244, 0.9863230315449789, 0.637091711826352, 0.19362591241781288, 0.14365793501966762, 0.02498398869907263, 0.2386300736090033, 0.6562327024247591, 0.05965751840225082, 0.9068090389235864, 0.07817319301065401, 0.0156346386021308, 0.5552510434974187, 0.14237206243523556, 0.056948824974094224, 0.24203250613990046, 0.9655355627984854, 0.028398104788190746, 0.29451409492937725, 0.2038943734126458, 0.47575353796284015, 0.022654930379182866, 0.3982902582679036, 0.04978628228348795, 0.5476491051183675, 0.9582785042697809, 0.9698083981483313, 0.9733967059680936, 0.9287300627008502, 0.23228530653806043, 0.7549272462486963, 0.9559309528374565, 0.9024956942952622, 0.051084661941241255, 0.051084661941241255, 0.8846895739155437, 0.843002431423618, 0.09726951131810976, 0.02161544695957995, 0.032423170439369924, 0.010807723479789975, 0.9077276231295756, 0.9545864231588249, 0.08860219020347179, 0.8860219020347179, 0.7358001772548978, 0.04905334515032652, 0.0858433540130714, 0.04905334515032652, 0.0858433540130714, 0.06241139798895015, 0.9361709698342523, 0.9775697164168484, 0.9345478049625148, 0.8804827609259246, 0.9944852090947114, 0.991306188649677, 0.6819602678942173, 0.2440699906147725, 0.05024970395010022, 0.014357058271457206, 0.007178529135728603, 0.7822060663366124, 0.14221928478847498, 0.039505356885687494, 0.03160428550855, 0.0079010713771375, 0.9857696831132017, 0.9918290873833984, 0.8877569622410572, 0.08877569622410572, 0.28610241628121214, 0.7152560407030304, 0.9556058205602248, 0.010617842450669164, 0.021235684901338328, 0.010617842450669164, 0.6585548517584865, 0.2100911183524006, 0.0767640624749156, 0.03636192433022318, 0.016160855257876968, 0.5410711955016713, 0.14567301417352688, 0.3121564589432719, 0.1585979989046679, 0.07929899945233394, 0.7136909950710055, 0.06769286661866813, 0.03384643330933407, 0.8800072660426858, 0.03384643330933407, 0.33812778271698263, 0.6356802315079273, 0.02705022261735861, 0.6895359045748433, 0.19523004527119056, 0.08307661500901727, 0.02492298450270518, 0.004153830750450863, 0.8221863508290703, 0.044442505450220014, 0.03333187908766501, 0.06666375817533002, 0.044442505450220014, 0.04038758020794466, 0.8885267645747826, 0.04038758020794466, 0.9189800465665432, 0.8328511482636307, 0.16996962209461852, 0.6401911165049555, 0.25853872012700124, 0.07386820575057179, 0.018467051437642948, 0.006155683812547648, 0.5334031325405278, 0.35286668768065693, 0.09026822242993549, 0.01641240407817009, 0.008206202039085045, 0.928836480749664, 0.9609742281442313, 0.9696676108966734, 0.8316513182813947, 0.8885515811099582, 0.4787522108184267, 0.43800734181260315, 0.07130352076019121, 0.010186217251455888, 0.010186217251455888, 0.3000097286709158, 0.6900223759431063, 0.9044550098407095, 0.9546982536899961, 0.38643914298635884, 0.5925400192457503, 0.4549279316169174, 0.2166323483890083, 0.06498970451670248, 0.06498970451670248, 0.19496911355010746, 0.9426975926783111, 0.36556690201664593, 0.15052754788920714, 0.3870708374293898, 0.10751967706371938, 0.9735389714465457, 0.7666414287445852, 0.2317753156669676, 0.07634213680757763, 0.9161056416909317, 0.0579185970749472, 0.9266975531991553, 0.9607466700140482, 0.15333786495341362, 0.817801946418206, 0.9761391409316044, 0.05121708230538665, 0.9219074814969598, 0.6656744572368621, 0.20942567193968697, 0.09723334768628324, 0.029917953134240994, 0.9891105105281102, 0.04706939325893819, 0.9413878651787638, 0.7492317807355543, 0.12843973384038074, 0.049948785382370284, 0.057084326151280326, 0.014271081537820082, 0.8316513182813947, 0.7287309204594231, 0.13820758836299404, 0.08166812039631466, 0.043975141751861735, 0.00628216310740882, 0.9620095938619222, 0.9538926102639389, 0.9854575921751783, 0.8947272435910782, 0.8989775792709483, 0.8316513182813947, 0.0732535699941192, 0.91566962492649, 0.5701736318365348, 0.3706128606937476, 0.04989019278569679, 0.007127170397956685, 0.007127170397956685, 0.9864167945008158, 0.8993008449434289, 0.9480430601212076, 0.024948501582137045, 0.9390242800050321, 0.176422333466523, 0.8821116673326149, 0.894226048166891, 0.9282752475945798, 0.44990039276712235, 0.506729916064022, 0.04262214247267475, 0.004735793608074972, 0.8764593356962649, 0.8135393758921238, 0.011458301068903153, 0.011458301068903153, 0.03437490320670946, 0.13749961282683784, 0.9746028400638489, 0.983080690349706, 0.2834507355194787, 0.07558686280519432, 0.6235916181428531, 0.08049847168761945, 0.9015828829013378, 0.9824630955541169, 0.6971622269617114, 0.12379516179693942, 0.045608743819925045, 0.10424855730268583, 0.03257767415708932, 0.9562293950191301, 0.02656192763942028, 0.9677503069866884, 0.978916813062934, 0.8011729669738252, 0.11947316174171078, 0.028111332174520186, 0.04919483130541032, 0.0070278330436300464, 0.9373867103990013, 0.025334775956729765, 0.8909808147340956, 0.018370738448125683, 0.009185369224062842, 0.07348295379250273, 0.9496556685335336, 0.030634053823662372, 0.9727421262641074, 0.9601873642552988, 0.1449195470470943, 0.1449195470470943, 0.7245977352354716, 0.5260997291240963, 0.03288123307025602, 0.42745602991332826, 0.8926923910149787, 0.3899502069647651, 0.05570717242353787, 0.5013645518118408, 0.05570717242353787, 0.02102444005888591, 0.9671242427087517, 0.03093424931949596, 0.9589617289043748, 0.9797369050803711, 0.5365456696800129, 0.39209106630462487, 0.06878790636923243, 0.006878790636923243, 0.839708360996637, 0.8316513182813947, 0.8996158894937668, 0.01697388470742956, 0.03394776941485912, 0.03394776941485912, 0.01697388470742956, 0.44525033466558905, 0.4556049936113004, 0.09319193051140236, 0.010354658945711373, 0.4568972671774525, 0.4442056764225233, 0.06980374915211081, 0.019037386132393856, 0.012691590754929236, 0.10812232252980596, 0.05406116126490298, 0.8109174189735447, 0.05406116126490298, 0.9156203759388436, 0.9476589318237719, 0.02493839294273084, 0.02493839294273084, 0.9514748585242028, 0.02000696098429715, 0.9603341272462633, 0.8309895583100597, 0.8775523756518445, 0.9772403341561646, 0.5159039140132042, 0.33645907435643757, 0.14206049806160698, 0.007476868319031946, 0.007476868319031946, 0.9681448996842631, 0.9776708132399679, 0.025728179295788627, 0.9781003261060148, 0.9227490915437591, 0.9134330105412951, 0.7840599829162875, 0.9462854915859706, 0.11425345851455822, 0.9140276681164657, 0.975257265450756, 0.03143755519890596, 0.9431266559671787, 0.09043894782472238, 0.9043894782472238, 0.12358822584778748, 0.12358822584778748, 0.7415293550867248, 0.9630178688846625, 0.9474004770830623, 0.03840812744931334, 0.012802709149771113, 0.9485130064845104, 0.9393852339057834, 0.04206202539876642, 0.01402067513292214, 0.01402067513292214, 0.7582183175495466, 0.03610563416902603, 0.19858098792964315, 0.11394342380389658, 0.8545756785292243, 0.8160125396142827, 0.08695215586053831, 0.006688627373887563, 0.07357490111276319, 0.013377254747775126, 0.9543089974470416, 0.9326394570093355, 0.9163634574845345, 0.0500409126849742, 0.9382671128432664, 0.7493161755263491, 0.7059296517530168, 0.034860723543358854, 0.04357590442919857, 0.15687325594511484, 0.061006266200878, 0.6643955052508129, 0.008742046121721223, 0.06119432285204856, 0.13113069182581835, 0.13987273794753957, 0.5380864002481573, 0.36451014210359045, 0.07810931616505509, 0.008678812907228344, 0.008678812907228344, 0.6357107324203947, 0.30039078564919747, 0.05588665779519953, 0.006985832224399941, 0.006985832224399941, 0.5053622656700907, 0.32848547268555894, 0.1364478117309245, 0.025268113283504534, 0.619362606505943, 0.2489027297173416, 0.11576871149643796, 0.011576871149643795, 0.9550077058482905, 0.9227363303918369, 0.631536038271022, 0.2679243798725548, 0.07017067091900245, 0.019137455705182483, 0.006379151901727495, 0.3327159203405756, 0.628463405087754, 0.13966332358379738, 0.8100472767860247, 0.027932664716759474, 0.6427560946221257, 0.15836019722574113, 0.07452244575328994, 0.03726122287664497, 0.08383775147245118, 0.9751254125533626, 0.6227652263150603, 0.13538374485110005, 0.08123024691066003, 0.16246049382132005, 0.7993679665240461, 0.1360626325998376, 0.0340156581499594, 0.025511743612469554, 0.00850391453748985, 0.9613506169469228, 0.02184887765788461, 0.02184887765788461, 0.8800428741951565, 0.07080804734903558, 0.010115435335576512, 0.030346306006729537, 0.020230870671153024, 0.1813451331778832, 0.7253805327115328, 0.9802966111041103, 0.8734877787655417, 0.07940797988777652, 0.6802957704010099, 0.019437022011457424, 0.2526812861489465, 0.03887404402291485, 0.8816970906547414, 0.09763455993872525, 0.8787110394485272, 0.6866535107120557, 0.22435213716334493, 0.04758984727707317, 0.03399274805505226, 0.006798549611010452, 0.5899608219815795, 0.3056423535567219, 0.07818757881683584, 0.01421592342124288, 0.00710796171062144, 0.7354518800221383, 0.8778615850006752, 0.9883305473961432, 0.32761883451891605, 0.019271696148171532, 0.616694276741489, 0.038543392296343064, 0.9419278384424798, 0.026164662178957774, 0.03270582772369722, 0.178996588099866, 0.0447491470249665, 0.7607354994244304, 0.9602899572571595, 0.38968840020282686, 0.5509387727005483, 0.05375012416590715, 0.8188797332496602, 0.09420740294022639, 0.02898689321237735, 0.04348033981856603, 0.007246723303094338, 0.5145802223362825, 0.35734737662241844, 0.10720421298672553, 0.014293895064896736, 0.007146947532448368, 0.9307458292568102, 0.947863479539784, 0.5415812845930371, 0.17138648246615099, 0.2810738312444876, 0.006855459298646039, 0.09759627210844125, 0.78077017686753], \"Term\": [\"___\", \"___\", \"___\", \"___\", \"____\", \"____\", \"____\", \"____\", \"_____\", \"_____\", \"_____\", \"_____\", \"___________________the\", \"actusorgn\", \"adaptec\", \"advancen\", \"advancen\", \"advancen\", \"advancen\", \"also\", \"also\", \"also\", \"also\", \"also\", \"anyone\", \"anyone\", \"anyone\", \"anyone\", \"anyone\", \"application\", \"application\", \"arab\", \"argument\", \"argument\", \"argument\", \"armenian\", \"armenian\", \"article\", \"article\", \"article\", \"article\", \"article\", \"artificial\", \"artificial\", \"artificial\", \"atechedun\", \"atechedun\", \"atechedun\", \"atheism\", \"atheist\", \"athens\", \"athens\", \"atlanta\", \"atlanta\", \"atlanta\", \"available\", \"available\", \"available\", \"available\", \"available\", \"ball\", \"ball\", \"ball\", \"baseball\", \"baseball\", \"baseballn\", \"batf\", \"batter\", \"battery\", \"batting\", \"belief\", \"belief\", \"belief\", \"believe\", \"believe\", \"believe\", \"believe\", \"believe\", \"bible\", \"bible\", \"bible\", \"bike\", \"bike\", \"bios\", \"bios\", \"blue\", \"blue\", \"blue\", \"bmp\", \"bmug\", \"brave\", \"brave\", \"brave\", \"bruin\", \"buffalo\", \"buffalo\", \"bus\", \"bus\", \"cache\", \"cache\", \"candida\", \"captain\", \"captain\", \"car\", \"car\", \"car\", \"card\", \"card\", \"card\", \"card\", \"cardn\", \"cardn\", \"catholic\", \"cbrockucan\", \"champion_________________n\", \"chastity\", \"child\", \"child\", \"chip\", \"chip\", \"chip\", \"christ\", \"christian\", \"christian\", \"christianity\", \"church\", \"church\", \"circuit\", \"clhn\", \"client\", \"clipper\", \"coach\", \"com\", \"company\", \"company\", \"company\", \"computer\", \"computer\", \"computer\", \"computer\", \"computer\", \"controller\", \"controller\", \"controllern\", \"convert\", \"convert\", \"convert\", \"coprocessor\", \"coprocessor\", \"corn\", \"cost\", \"cost\", \"cost\", \"cost\", \"could\", \"could\", \"could\", \"could\", \"could\", \"covington\", \"cub\", \"cup\", \"cup\", \"cup\", \"cview\", \"dacuk\", \"daemonn\", \"data\", \"data\", \"data\", \"data\", \"de\", \"detector\", \"detroit\", \"diesel\", \"disk\", \"disk\", \"dma\", \"dma\", \"dont\", \"dont\", \"dont\", \"dont\", \"dont\", \"dortmund\", \"drive\", \"drive\", \"drive\", \"driven\", \"driven\", \"driven\", \"driven\", \"driver\", \"driver\", \"driver\", \"eau\", \"eisa\", \"email\", \"email\", \"email\", \"email\", \"email\", \"encryption\", \"engine\", \"engine\", \"eoucomedu\", \"escrow\", \"espn\", \"even\", \"even\", \"even\", \"even\", \"evidence\", \"evidence\", \"evidence\", \"faith\", \"faith\", \"faith\", \"fan\", \"fan\", \"fan\", \"file\", \"file\", \"file\", \"file\", \"first\", \"first\", \"first\", \"first\", \"floppy\", \"floppy\", \"format\", \"format\", \"format\", \"fpu\", \"fpu\", \"ftp\", \"ftp\", \"gaedu\", \"game\", \"game\", \"game\", \"game\", \"gamen\", \"gamen\", \"gamen\", \"gay\", \"gehrels\", \"georgia\", \"georgia\", \"get\", \"get\", \"get\", \"get\", \"get\", \"gif\", \"gif\", \"goal\", \"goal\", \"goal\", \"goalie\", \"god\", \"god\", \"god\", \"godn\", \"good\", \"good\", \"good\", \"good\", \"gordon\", \"gordon\", \"gordon\", \"gun\", \"gun\", \"gun\", \"hard\", \"hard\", \"hard\", \"hard\", \"hardware\", \"hardware\", \"he\", \"he\", \"he\", \"he\", \"hit\", \"hit\", \"hit\", \"hitter\", \"hockey\", \"homosexual\", \"homosexuality\", \"human\", \"human\", \"ide\", \"image\", \"image\", \"image\", \"infante\", \"information\", \"information\", \"information\", \"information\", \"information\", \"inning\", \"input\", \"intellect\", \"intellect\", \"internet\", \"internet\", \"internet\", \"internet\", \"internet\", \"isa\", \"isa\", \"islam\", \"islamic\", \"islander\", \"israel\", \"israeli\", \"itn\", \"itn\", \"itn\", \"itn\", \"itn\", \"ive\", \"ive\", \"ive\", \"ive\", \"ive\", \"jesus\", \"jew\", \"jewish\", \"jewish\", \"jumper\", \"jumper\", \"key\", \"key\", \"key\", \"key\", \"know\", \"know\", \"know\", \"know\", \"know\", \"last\", \"last\", \"last\", \"leaf\", \"leaf\", \"leaf\", \"league\", \"league\", \"league\", \"league\", \"life\", \"life\", \"life\", \"like\", \"like\", \"like\", \"like\", \"like\", \"looking\", \"looking\", \"looking\", \"looking\", \"looking\", \"lord\", \"lord\", \"lord\", \"lyme\", \"mac\", \"mac\", \"make\", \"make\", \"make\", \"make\", \"make\", \"many\", \"many\", \"many\", \"many\", \"many\", \"marriage\", \"maxaxaxaxaxaxaxaxaxaxaxaxaxaxaxn\", \"maxtor\", \"mayhew\", \"mb\", \"mean\", \"mean\", \"mean\", \"mean\", \"mean\", \"meg\", \"meg\", \"mets\", \"mfm\", \"mhz\", \"mhz\", \"michael\", \"michael\", \"michael\", \"michael\", \"michael\", \"migraine\", \"mike\", \"mike\", \"mike\", \"mike\", \"modem\", \"monitor\", \"monitor\", \"montreal\", \"montreal\", \"moral\", \"moral\", \"morality\", \"motherboard\", \"motherboard\", \"mouse\", \"msg\", \"msg\", \"much\", \"much\", \"much\", \"much\", \"muslim\", \"nazi\", \"nazi\", \"need\", \"need\", \"need\", \"need\", \"need\", \"neoucom\", \"new\", \"new\", \"new\", \"new\", \"new\", \"nhl\", \"njxp\", \"nsa\", \"ntmi\", \"nubus\", \"nwedn\", \"objective\", \"objective\", \"ofn\", \"ofn\", \"ofn\", \"ofn\", \"ofn\", \"output\", \"overpass\", \"package\", \"package\", \"palestinian\", \"pcx\", \"pcx\", \"pd\", \"penguin\", \"people\", \"people\", \"people\", \"people\", \"phillies\", \"phone\", \"phone\", \"phone\", \"phone\", \"phone\", \"pitcher\", \"pitching\", \"play\", \"play\", \"play\", \"player\", \"player\", \"playoff\", \"please\", \"please\", \"please\", \"please\", \"please\", \"port\", \"port\", \"print\", \"printer\", \"problem\", \"problem\", \"problem\", \"problem\", \"problem\", \"product\", \"product\", \"program\", \"program\", \"program\", \"program\", \"project\", \"project\", \"puck\", \"punishment\", \"quack\", \"quack\", \"quack\", \"ram\", \"ram\", \"ram\", \"rbi\", \"red\", \"red\", \"red\", \"red\", \"religion\", \"religion\", \"religious\", \"religious\", \"ride\", \"right\", \"right\", \"right\", \"right\", \"rle\", \"rootstown\", \"running\", \"running\", \"running\", \"running\", \"running\", \"said\", \"said\", \"said\", \"said\", \"say\", \"say\", \"say\", \"say\", \"say\", \"score\", \"score\", \"score\", \"score\", \"scored\", \"screen\", \"screen\", \"screen\", \"scripture\", \"scsi\", \"scsi\", \"scsin\", \"seagate\", \"season\", \"see\", \"see\", \"see\", \"see\", \"see\", \"serial\", \"server\", \"server\", \"sexual\", \"shameful\", \"shark\", \"sho\", \"shuttle\", \"simm\", \"simm\", \"simms\", \"sin\", \"sin\", \"skepticism\", \"skepticism\", \"slot\", \"slot\", \"slot\", \"slpittedu\", \"software\", \"software\", \"software\", \"sox\", \"space\", \"space\", \"space\", \"space\", \"speed\", \"speed\", \"speed\", \"stats\", \"stats\", \"system\", \"system\", \"system\", \"system\", \"system\", \"tank\", \"targa\", \"tbird\", \"team\", \"team\", \"tga\", \"thanks\", \"thanks\", \"thanks\", \"thanks\", \"thanks\", \"thanksn\", \"thanksn\", \"thanksn\", \"thanksn\", \"thanksn\", \"thatn\", \"thatn\", \"thatn\", \"thatn\", \"thatn\", \"thing\", \"thing\", \"thing\", \"thing\", \"thing\", \"think\", \"think\", \"think\", \"think\", \"time\", \"time\", \"time\", \"time\", \"tire\", \"tmcn\", \"ton\", \"ton\", \"ton\", \"ton\", \"ton\", \"toronto\", \"toronto\", \"truth\", \"truth\", \"truth\", \"university\", \"university\", \"university\", \"university\", \"university\", \"unix\", \"usa\", \"usa\", \"usa\", \"usa\", \"used\", \"used\", \"used\", \"used\", \"used\", \"user\", \"user\", \"user\", \"using\", \"using\", \"using\", \"using\", \"using\", \"uucpt\", \"uucpt\", \"verse\", \"vesa\", \"vesa\", \"video\", \"video\", \"video\", \"video\", \"vlb\", \"vram\", \"vram\", \"want\", \"want\", \"want\", \"want\", \"want\", \"way\", \"way\", \"way\", \"way\", \"way\", \"wecedu\", \"wheelie\", \"widget\", \"win\", \"win\", \"win\", \"win\", \"window\", \"window\", \"window\", \"wing\", \"wing\", \"wing\", \"wire\", \"word\", \"word\", \"word\", \"work\", \"work\", \"work\", \"work\", \"work\", \"writesn\", \"writesn\", \"writesn\", \"writesn\", \"writesn\", \"yankee\", \"yassin\", \"year\", \"year\", \"year\", \"year\", \"yeast\", \"yeast\"]}, \"R\": 30, \"lambda.step\": 0.01, \"plot.opts\": {\"xlab\": \"PC1\", \"ylab\": \"PC2\"}, \"topic.order\": [2, 5, 1, 4, 3]};\n",
              "\n",
              "function LDAvis_load_lib(url, callback){\n",
              "  var s = document.createElement('script');\n",
              "  s.src = url;\n",
              "  s.async = true;\n",
              "  s.onreadystatechange = s.onload = callback;\n",
              "  s.onerror = function(){console.warn(\"failed to load library \" + url);};\n",
              "  document.getElementsByTagName(\"head\")[0].appendChild(s);\n",
              "}\n",
              "\n",
              "if(typeof(LDAvis) !== \"undefined\"){\n",
              "   // already loaded: just create the visualization\n",
              "   !function(LDAvis){\n",
              "       new LDAvis(\"#\" + \"ldavis_el1401403452878046324626679084\", ldavis_el1401403452878046324626679084_data);\n",
              "   }(LDAvis);\n",
              "}else if(typeof define === \"function\" && define.amd){\n",
              "   // require.js is available: use it to load d3/LDAvis\n",
              "   require.config({paths: {d3: \"https://cdnjs.cloudflare.com/ajax/libs/d3/3.5.5/d3.min\"}});\n",
              "   require([\"d3\"], function(d3){\n",
              "      window.d3 = d3;\n",
              "      LDAvis_load_lib(\"https://cdn.rawgit.com/bmabey/pyLDAvis/files/ldavis.v1.0.0.js\", function(){\n",
              "        new LDAvis(\"#\" + \"ldavis_el1401403452878046324626679084\", ldavis_el1401403452878046324626679084_data);\n",
              "      });\n",
              "    });\n",
              "}else{\n",
              "    // require.js not available: dynamically load d3 & LDAvis\n",
              "    LDAvis_load_lib(\"https://cdnjs.cloudflare.com/ajax/libs/d3/3.5.5/d3.min.js\", function(){\n",
              "         LDAvis_load_lib(\"https://cdn.rawgit.com/bmabey/pyLDAvis/files/ldavis.v1.0.0.js\", function(){\n",
              "                 new LDAvis(\"#\" + \"ldavis_el1401403452878046324626679084\", ldavis_el1401403452878046324626679084_data);\n",
              "            })\n",
              "         });\n",
              "}\n",
              "</script>"
            ],
            "text/plain": [
              "PreparedData(topic_coordinates=                x           y  topics  cluster       Freq\n",
              "topic                                                    \n",
              "1      150.222153  -72.269554       1        1  56.635036\n",
              "4       51.163364 -159.968018       2        1  23.911377\n",
              "0      -73.144554   21.523815       3        1  10.520408\n",
              "3      -66.410133 -110.606438       4        1   5.257166\n",
              "2       54.417324   12.443444       5        1   3.676013, topic_info=           Term        Freq       Total Category  logprob  loglift\n",
              "4711      drive  113.000000  113.000000  Default  30.0000  30.0000\n",
              "6272       game  122.000000  122.000000  Default  29.0000  29.0000\n",
              "2273       card   90.000000   90.000000  Default  28.0000  28.0000\n",
              "15239   thanksn  114.000000  114.000000  Default  27.0000  27.0000\n",
              "6470        god  145.000000  145.000000  Default  26.0000  26.0000\n",
              "...         ...         ...         ...      ...      ...      ...\n",
              "6405        gif    5.834123   15.952834   Topic5  -6.6607   2.2974\n",
              "11829   program    8.021507  108.868786   Topic5  -6.3423   0.6953\n",
              "7850   internet    6.720377   81.543878   Topic5  -6.5193   0.8073\n",
              "15238    thanks    6.731625  114.742312   Topic5  -6.5176   0.4675\n",
              "16183       usa    6.134735   36.932056   Topic5  -6.6104   1.5082\n",
              "\n",
              "[364 rows x 6 columns], token_table=       Topic      Freq   Term\n",
              "term                         \n",
              "0          1  0.390201    ___\n",
              "0          2  0.053209    ___\n",
              "0          3  0.124155    ___\n",
              "0          5  0.425674    ___\n",
              "1          1  0.449287   ____\n",
              "...      ...       ...    ...\n",
              "17089      2  0.171386   year\n",
              "17089      3  0.281074   year\n",
              "17089      4  0.006855   year\n",
              "17094      2  0.097596  yeast\n",
              "17094      5  0.780770  yeast\n",
              "\n",
              "[723 rows x 3 columns], R=30, lambda_step=0.01, plot_opts={'xlab': 'PC1', 'ylab': 'PC2'}, topic_order=[2, 5, 1, 4, 3])"
            ]
          },
          "metadata": {
            "tags": []
          },
          "execution_count": 34
        }
      ]
    },
    {
      "cell_type": "markdown",
      "metadata": {
        "id": "XkUtco_C80at",
        "colab_type": "text"
      },
      "source": [
        "# LDA Unigram - tf-idf - stem"
      ]
    },
    {
      "cell_type": "code",
      "metadata": {
        "id": "u_gkZokHMSu5",
        "colab_type": "code",
        "colab": {}
      },
      "source": [
        "data_token_stem_tfidf = tfidf.fit_transform(df.token_stem)"
      ],
      "execution_count": null,
      "outputs": []
    },
    {
      "cell_type": "code",
      "metadata": {
        "id": "SCn2UFqo9MQT",
        "colab_type": "code",
        "colab": {
          "base_uri": "https://localhost:8080/",
          "height": 374
        },
        "outputId": "2224fd22-2622-4aa0-b5e6-bd3b59a54410"
      },
      "source": [
        "# Parametri di ricerca\n",
        "search_params = {'n_components': [5,10, 15, 20, 25, 30], 'learning_decay': [.5, .7, .9]}\n",
        "\n",
        "# Inizializzazione Modello\n",
        "lda = LatentDirichletAllocation()\n",
        "\n",
        "# Inizializzazione GridSearchCV\n",
        "model = GridSearchCV(lda, param_grid=search_params)\n",
        "\n",
        "# Grid Search\n",
        "model.fit(data_token_stem_tfidf)"
      ],
      "execution_count": null,
      "outputs": [
        {
          "output_type": "execute_result",
          "data": {
            "text/plain": [
              "GridSearchCV(cv=None, error_score=nan,\n",
              "             estimator=LatentDirichletAllocation(batch_size=128,\n",
              "                                                 doc_topic_prior=None,\n",
              "                                                 evaluate_every=-1,\n",
              "                                                 learning_decay=0.7,\n",
              "                                                 learning_method='batch',\n",
              "                                                 learning_offset=10.0,\n",
              "                                                 max_doc_update_iter=100,\n",
              "                                                 max_iter=10,\n",
              "                                                 mean_change_tol=0.001,\n",
              "                                                 n_components=10, n_jobs=None,\n",
              "                                                 perp_tol=0.1,\n",
              "                                                 random_state=None,\n",
              "                                                 topic_word_prior=None,\n",
              "                                                 total_samples=1000000.0,\n",
              "                                                 verbose=0),\n",
              "             iid='deprecated', n_jobs=None,\n",
              "             param_grid={'learning_decay': [0.5, 0.7, 0.9],\n",
              "                         'n_components': [5, 10, 15, 20, 25, 30]},\n",
              "             pre_dispatch='2*n_jobs', refit=True, return_train_score=False,\n",
              "             scoring=None, verbose=0)"
            ]
          },
          "metadata": {
            "tags": []
          },
          "execution_count": 36
        }
      ]
    },
    {
      "cell_type": "code",
      "metadata": {
        "id": "t4MqJIsl9QPG",
        "colab_type": "code",
        "colab": {
          "base_uri": "https://localhost:8080/",
          "height": 68
        },
        "outputId": "11ead616-8c1c-48ad-b069-a6ad375070b9"
      },
      "source": [
        "# Stimato il Miglior modello \n",
        "best_lda_model = model.best_estimator_\n",
        "\n",
        "# Parametri del modello\n",
        "print(\"Best Model Params: \", model.best_params_)\n",
        "\n",
        "# Log Likelihood Score\n",
        "print(\"Best Log Likelihood Score: \", model.best_score_)\n",
        "\n",
        "# Perplessità\n",
        "print(\"Model Perplexity: \", best_lda_model.perplexity(data_token_stem_tfidf))"
      ],
      "execution_count": null,
      "outputs": [
        {
          "output_type": "stream",
          "text": [
            "Best Model Params:  {'learning_decay': 0.9, 'n_components': 5}\n",
            "Best Log Likelihood Score:  -267261.8964492552\n",
            "Model Perplexity:  12049.83668554879\n"
          ],
          "name": "stdout"
        }
      ]
    },
    {
      "cell_type": "code",
      "metadata": {
        "id": "MasDimyG9rDE",
        "colab_type": "code",
        "colab": {
          "base_uri": "https://localhost:8080/",
          "height": 861
        },
        "outputId": "e83fb2f6-67c4-474e-a17c-0cde5bf96c5c"
      },
      "source": [
        "pyLDAvis.enable_notebook()\n",
        "vis = pyLDAvis.sklearn.prepare(best_lda_model, data_token_stem_tfidf, tfidf, mds='tsne')\n",
        "vis"
      ],
      "execution_count": null,
      "outputs": [
        {
          "output_type": "execute_result",
          "data": {
            "text/html": [
              "\n",
              "<link rel=\"stylesheet\" type=\"text/css\" href=\"https://cdn.rawgit.com/bmabey/pyLDAvis/files/ldavis.v1.0.0.css\">\n",
              "\n",
              "\n",
              "<div id=\"ldavis_el1401403452895179608207862544\"></div>\n",
              "<script type=\"text/javascript\">\n",
              "\n",
              "var ldavis_el1401403452895179608207862544_data = {\"mdsDat\": {\"x\": [150.22215270996094, 51.16336441040039, -73.1445541381836, -66.4101333618164, 54.41732406616211], \"y\": [-72.2695541381836, -159.968017578125, 21.523815155029297, -110.60643768310547, 12.44344425201416], \"topics\": [1, 2, 3, 4, 5], \"cluster\": [1, 1, 1, 1, 1], \"Freq\": [34.53846869530873, 21.334180459255066, 19.505975544572433, 15.665686920528815, 8.95568838033496]}, \"tinfo\": {\"Term\": [\"god\", \"christian\", \"game\", \"window\", \"team\", \"jesu\", \"key\", \"govern\", \"israel\", \"bibl\", \"encrypt\", \"church\", \"player\", \"drive\", \"jew\", \"isra\", \"christ\", \"religion\", \"gun\", \"sin\", \"file\", \"homosexu\", \"orbit\", \"atheist\", \"card\", \"moral\", \"space\", \"armenian\", \"thanksn\", \"arab\", \"mac\", \"scsi\", \"mhz\", \"do\", \"modem\", \"meg\", \"printer\", \"font\", \"manual\", \"simm\", \"mous\", \"window\", \"cpu\", \"motherboard\", \"unix\", \"windowsn\", \"microsoft\", \"port\", \"vga\", \"upgrad\", \"ide\", \"keyboard\", \"interfac\", \"salen\", \"floppi\", \"configur\", \"compress\", \"bio\", \"disk\", \"pin\", \"card\", \"drive\", \"driver\", \"appl\", \"file\", \"bike\", \"advancen\", \"graphic\", \"monitor\", \"thanksn\", \"color\", \"video\", \"screen\", \"format\", \"email\", \"car\", \"price\", \"ftp\", \"softwar\", \"thank\", \"program\", \"machin\", \"run\", \"pleas\", \"comput\", \"use\", \"anyon\", \"work\", \"problem\", \"system\", \"get\", \"know\", \"look\", \"need\", \"like\", \"ive\", \"new\", \"tri\", \"dont\", \"also\", \"want\", \"could\", \"good\", \"hockey\", \"basebal\", \"season\", \"batf\", \"playoff\", \"team\", \"espn\", \"nhl\", \"pitcher\", \"detroit\", \"leaf\", \"coach\", \"cub\", \"atf\", \"hitter\", \"bruin\", \"score\", \"penguin\", \"philli\", \"yanke\", \"inning\", \"rbi\", \"goali\", \"buffalo\", \"reno\", \"sox\", \"shark\", \"baseballn\", \"alomar\", \"puck\", \"leagu\", \"player\", \"cup\", \"bat\", \"pitch\", \"game\", \"ranger\", \"fan\", \"gun\", \"stat\", \"fire\", \"play\", \"hit\", \"fbi\", \"shot\", \"win\", \"he\", \"georgia\", \"year\", \"last\", \"koresh\", \"watch\", \"guy\", \"think\", \"get\", \"dont\", \"like\", \"start\", \"first\", \"writesn\", \"articl\", \"see\", \"time\", \"peopl\", \"good\", \"day\", \"know\", \"well\", \"make\", \"say\", \"come\", \"encrypt\", \"escrow\", \"turk\", \"crypto\", \"clipper\", \"nsa\", \"wiretap\", \"privaci\", \"bosnian\", \"sternlight\", \"armenian\", \"de\", \"turkey\", \"cryptographi\", \"maxaxaxaxaxaxaxaxaxaxaxaxaxaxaxn\", \"serdar\", \"decrypt\", \"rsa\", \"militia\", \"azeri\", \"serb\", \"encryptionn\", \"greec\", \"argicn\", \"omiss\", \"cryptosystem\", \"ohanu\", \"soviet\", \"appressian\", \"sahak\", \"melkonian\", \"armenia\", \"secur\", \"pgp\", \"agenc\", \"key\", \"govern\", \"turkish\", \"secret\", \"muslim\", \"court\", \"algorithm\", \"propos\", \"public\", \"tap\", \"law\", \"war\", \"polit\", \"nation\", \"chip\", \"peopl\", \"state\", \"right\", \"countri\", \"ofn\", \"make\", \"think\", \"ton\", \"like\", \"dont\", \"say\", \"could\", \"even\", \"articl\", \"system\", \"get\", \"may\", \"use\", \"time\", \"andn\", \"writesn\", \"want\", \"know\", \"christ\", \"sin\", \"jesu\", \"godn\", \"atheist\", \"bibl\", \"scriptur\", \"christian\", \"isra\", \"atheism\", \"cathol\", \"clhn\", \"marriag\", \"israel\", \"mormon\", \"doctrin\", \"alink\", \"ksand\", \"prophet\", \"biblic\", \"vers\", \"revel\", \"lebanes\", \"church\", \"god\", \"luke\", \"bmug\", \"hebrew\", \"theist\", \"gospel\", \"palestinian\", \"satan\", \"belief\", \"worship\", \"lord\", \"pplecom\", \"religion\", \"arab\", \"jew\", \"faith\", \"moral\", \"jewish\", \"heaven\", \"truth\", \"believ\", \"homosexu\", \"human\", \"say\", \"peopl\", \"word\", \"love\", \"exist\", \"mean\", \"think\", \"dont\", \"know\", \"life\", \"ofn\", \"see\", \"claim\", \"like\", \"cramer\", \"njxp\", \"chastiti\", \"slpittedu\", \"infect\", \"yeast\", \"clayton\", \"svr\", \"tiff\", \"msg\", \"pixmap\", \"utzoohenryn\", \"zoologyn\", \"candida\", \"migrain\", \"intellect\", \"uunetpyramidoptilinkcram\", \"antibiot\", \"quack\", \"pluto\", \"allerg\", \"allergi\", \"chronic\", \"gcc\", \"physician\", \"kirlian\", \"syndrom\", \"xdm\", \"kidney\", \"spencer\", \"orbit\", \"patient\", \"diagnos\", \"diseas\", \"shuttl\", \"orontoedu\", \"diet\", \"clinic\", \"cancer\", \"solar\", \"doctor\", \"gordon\", \"skeptic\", \"medic\", \"food\", \"mission\", \"treatment\", \"studi\", \"hst\", \"widget\", \"homosexu\", \"space\", \"bank\", \"effect\", \"caus\", \"men\", \"dont\", \"know\", \"get\", \"like\", \"___\", \"also\", \"peopl\", \"andn\", \"articl\", \"may\", \"system\"], \"Freq\": [150.0, 96.0, 128.0, 157.0, 83.0, 61.0, 97.0, 96.0, 52.0, 47.0, 52.0, 51.0, 64.0, 132.0, 52.0, 42.0, 37.0, 49.0, 65.0, 37.0, 126.0, 45.0, 29.0, 36.0, 95.0, 53.0, 72.0, 44.0, 119.0, 41.0, 59.68129303444213, 54.19515573347994, 40.72860189881566, 61.73380196440384, 37.805681113060494, 35.12680424585956, 34.42724082813063, 34.69749524554524, 35.723417309372344, 29.336222381509447, 30.823197075229377, 153.56335225990998, 25.730538262322018, 23.423991836321623, 29.29407745159321, 24.15138387747472, 22.314614390774597, 39.15530779385321, 21.48277182393897, 30.80380255391388, 28.308606490584037, 22.37712609278598, 20.996962056943318, 19.43279444670031, 28.040207550439938, 18.85172884135562, 21.592220469896095, 18.97422875531832, 66.40426562576529, 28.242829467940528, 88.92646386663668, 120.14304059620623, 66.05672917779741, 46.28726059948495, 113.88205149521878, 57.3106951032443, 58.228492069411715, 52.23942367287915, 54.93850049309801, 103.70829262813437, 52.68534226772759, 48.623840813178305, 38.214813705292165, 43.15242923994402, 126.2269371985697, 92.66108105221495, 65.01965513556536, 39.139419167039236, 67.04021224719888, 108.075699523683, 93.41454617305307, 54.73655030932595, 96.72199540547672, 107.71138820762697, 82.44348287951844, 125.74365705175424, 113.8549599792403, 106.19904197020055, 93.216112463099, 95.80144884999523, 125.6743546332846, 122.60045019254515, 97.24995990843024, 90.21140342119108, 112.40894029540902, 78.91891320643111, 84.37710215236987, 76.127847325128, 82.30064558592053, 75.75073105036172, 75.6891152890543, 69.53806424005032, 69.2109965741789, 36.02477989241412, 37.574095953892744, 36.14963553595571, 27.896490793949855, 24.857292280391786, 81.23996344933992, 21.692013988980186, 21.56679762624289, 19.852126074728986, 16.641820443212534, 20.410084102157054, 15.19925361390817, 14.034700314914586, 14.048428963645918, 13.68674675177339, 12.943126637210392, 32.103055930258925, 13.826428745039975, 12.430404838505519, 11.757923224142758, 10.879217907725176, 9.931725001079098, 9.5188209871369, 11.496523280136646, 9.5929648912662, 14.4029535410774, 9.534317807438283, 9.336339903595793, 8.95517247622873, 8.956263902861044, 28.479367796096334, 58.757118197203816, 20.451116139578026, 18.864418136604094, 29.14026713512704, 110.10757061298006, 15.643216580192439, 44.47550040603585, 54.452516920461434, 19.322443849018057, 43.45196086179754, 59.98506364354585, 38.45669506461812, 34.874111278358505, 26.265614760924098, 41.6228191211726, 32.39882829212035, 22.506700067087795, 67.86451266715027, 49.86448075642268, 26.353773617626945, 30.159280437080593, 33.93773317411262, 61.35299601531404, 64.33972631562472, 57.24478330664575, 57.586262455423515, 38.58613470540982, 41.51345798173924, 43.69184434257467, 45.55175737275621, 43.61760872654827, 46.244239587750485, 48.659283165117884, 42.53973716316811, 37.58353835747664, 45.09801550856602, 39.73871706870254, 39.463376947923976, 37.70879425924113, 36.81781318867772, 52.08686298962925, 22.241230163991766, 19.491432734612488, 16.822156479707846, 36.43196541013565, 26.42759880087749, 14.773652694194327, 13.706650706947517, 12.758962466724784, 11.289022002893075, 41.72481691817705, 18.715956751812897, 15.232754521276146, 9.356494569944475, 9.25124770309096, 8.802426251165828, 8.627662139360964, 8.552748966298939, 10.676765191205515, 8.132145002078467, 10.451369380351162, 7.244143711160615, 7.1722742193836595, 6.9527228296318375, 7.8583872288226635, 6.756672535044899, 6.532748846995062, 12.338306516695534, 6.326432261126815, 6.309939789199557, 6.309939789199557, 17.082073527539787, 37.851699257830276, 22.509407024026647, 19.14568383293313, 74.3443518600989, 72.99580845175593, 25.37876303394047, 19.06395958122587, 28.452710100398033, 21.836969775826333, 24.768562764145827, 21.67926406085884, 38.83221218024907, 12.039863784470047, 43.84406526725121, 28.51414077890728, 21.961587437490348, 30.073456211210125, 36.12477125791107, 66.06516878583034, 42.739740741745024, 49.08771356809515, 25.639508856339457, 41.094752723177365, 41.9483621900462, 42.357204985882554, 36.98821953368808, 42.31177094026927, 41.05697743312107, 36.429564554208056, 35.63772991328212, 33.683508190856955, 34.51672464290185, 33.38339142570789, 36.155661037715355, 31.374857529575497, 33.51271935883927, 32.042381317005905, 31.280187348449797, 30.95347551856046, 31.13262598132039, 31.35633701276337, 37.12247673150142, 36.44085720465294, 60.20921347444644, 23.519762602771177, 35.63456746330608, 46.421950196546426, 19.19059965184937, 92.96774678796014, 40.24844606674609, 15.49743644600394, 20.946856026052057, 13.882810447282065, 14.783866162259597, 49.34423817729369, 12.398781965864137, 14.06896124332944, 10.827450661473897, 10.827450661473888, 10.698011099682276, 10.9672579892108, 15.42918047899625, 10.387438139173018, 9.74322093414403, 47.82545452534976, 139.76047875165963, 9.819933281763909, 9.073921542212586, 9.448468174978938, 9.551797336714792, 9.499290387185882, 18.3837214012447, 14.762418914068059, 32.26833209609891, 12.93277478003097, 22.52836155338604, 12.167348949840475, 41.006841074884214, 35.22057696817049, 43.234905269865216, 34.72176902300773, 41.522813995784176, 27.32041927336673, 17.42153166609351, 26.09597690959293, 58.77929509678136, 27.377718232377397, 31.058055848318087, 58.769831695907776, 59.2735241088426, 34.561992228315816, 30.719813426886315, 30.93416485614804, 37.46485939406047, 44.23599503921112, 44.20448067363679, 40.27026242224821, 29.06261853966086, 33.47462355320094, 32.97332493961671, 29.44238880476154, 31.382452670109647, 12.453349234157356, 10.413338071029932, 10.44128833435121, 10.307264298867253, 11.158466742956147, 10.006675952982457, 15.094460630924962, 9.147182162679265, 10.48116048981366, 19.004794001900017, 8.086989016620478, 7.605005747063206, 7.605005747063208, 7.416051014384565, 7.155171364840468, 11.156145852949, 6.950700906002154, 6.681608915597664, 6.550503283940681, 6.36140077168507, 6.531729902814281, 6.051202173315107, 7.088851513684797, 6.287625479635778, 9.945964727395234, 5.613256184094842, 6.725968242574284, 6.4828503489730025, 5.863400095573939, 9.75897778808696, 25.76322896969647, 17.98826806222371, 7.784691600124246, 18.146538111196243, 17.349773045594826, 8.73074117404054, 9.664571708975533, 10.970408229973083, 11.392936933348912, 12.1938150986518, 20.012955796195936, 13.540352119622721, 11.660037970761444, 19.50790973757569, 17.433996387696276, 13.73509697334799, 12.590142106933259, 19.923428827780327, 11.408871393993444, 13.359496126014347, 17.21236028468922, 20.94471940584993, 13.495074793973606, 17.507898401503304, 17.144661922931387, 17.586516785130645, 18.945763194790494, 19.072970656616903, 17.31924497101893, 16.696137346687063, 13.340497160926821, 14.267212834245377, 14.381923899187257, 13.761649531904492, 13.492056055075263, 13.176805474752472, 13.13768190839606], \"Total\": [150.0, 96.0, 128.0, 157.0, 83.0, 61.0, 97.0, 96.0, 52.0, 47.0, 52.0, 51.0, 64.0, 132.0, 52.0, 42.0, 37.0, 49.0, 65.0, 37.0, 126.0, 45.0, 29.0, 36.0, 95.0, 53.0, 72.0, 44.0, 119.0, 41.0, 60.4019963666574, 54.91006009959649, 41.443735977818044, 62.85372131939705, 38.53895547884577, 35.84187022139197, 35.142681605500734, 35.41909657809285, 36.501481353333574, 30.051134480032488, 31.61948793624297, 157.71611586540598, 26.45036291338563, 24.13889080456273, 30.19710641340217, 24.900865762898363, 23.038173662883676, 40.42840368400755, 22.19795852713158, 31.834886956294824, 29.28233979226433, 23.159629216784797, 21.73413592231148, 20.157941464057192, 29.116025448587717, 19.60262014922617, 22.45325972477388, 19.737313725906034, 69.10045647578946, 29.392618768844542, 95.55162968311303, 132.0512715171504, 71.33444436442798, 49.460990382233305, 126.4404354698706, 62.171716603162594, 63.24853618388457, 56.49120578259455, 59.81341315284898, 119.45083980899349, 58.44749814185714, 53.631218870936834, 41.03708301653645, 47.03488652556236, 161.0336713937751, 114.0080805857072, 75.66779981242925, 42.178543505466415, 79.91354608317312, 142.30785630119576, 123.10288253253174, 63.49643774690311, 134.41148770615834, 160.1829363685083, 113.47612981968386, 205.35011387919852, 184.89331508805105, 173.01524163038584, 145.34793920339138, 154.4948360826088, 262.8091099072909, 258.3980357927396, 173.5029381699011, 155.1857080910543, 260.3855637078985, 129.29839835999357, 163.58335073914571, 152.65854256848732, 243.75265019411464, 169.24135336341527, 169.1146692091086, 172.0975011212619, 164.94188130073195, 36.741371545125546, 38.32198904764492, 36.94800490819928, 28.626761578037947, 25.57263767208727, 83.69030145058194, 22.40945074857409, 22.28203145772391, 20.567820432870686, 17.366638941452123, 21.345812475364053, 15.916342488140685, 14.75512164459797, 14.773832693139074, 14.401784837502094, 13.65853950277091, 33.95019352296371, 14.638411293329822, 13.172329638077391, 12.475306516775243, 11.594639705034766, 10.646764712272528, 10.233955364573358, 12.363095512276573, 10.325937795087025, 15.50465436250301, 10.264687372481147, 10.053264065724472, 9.670206160968071, 9.671560723971847, 31.002769468325248, 64.65548595814187, 22.274248173332396, 20.561703170071347, 32.39656716976625, 128.3104416218111, 17.084909482245386, 52.39108259005425, 65.20506032993835, 21.792373771836775, 55.1186594869422, 81.67523658711731, 49.029348373922495, 44.294699881254175, 33.21928746206878, 61.93934404188424, 45.74922379640637, 28.47446991623959, 150.0182036219568, 100.02547119922785, 37.49937477876547, 47.81756502689415, 59.96613349695519, 216.25113520202933, 262.8091099072909, 243.75265019411464, 260.3855637078985, 99.63797032476941, 120.80220624249951, 143.29179778887138, 163.66572391548456, 145.7901258734496, 179.16719358433687, 216.37856254898014, 164.94188130073195, 99.73765199555189, 258.3980357927396, 143.52316557559135, 185.13866722126932, 183.30627072952947, 125.5436773498089, 52.81061451502515, 22.95200254219034, 20.218585563099317, 17.535034212068783, 38.042814278816074, 27.626892920436454, 15.484423416012364, 14.434522214254129, 13.482916912495051, 11.999996981716153, 44.434350793506646, 20.115403936424112, 16.374997582416462, 10.071571634934662, 9.961998120511568, 9.513280883565738, 9.33925248663758, 9.266635280228495, 11.584709544687325, 8.843041209913599, 11.415922385824585, 7.956280184841626, 7.896586432889391, 7.6635220850090775, 8.669772901306866, 7.4675213837991725, 7.243561683439279, 13.708805115586589, 7.037248186182993, 7.02075338751492, 7.02075338751492, 19.415996465809478, 44.36501033027749, 26.886781991738765, 22.69867022550442, 97.85711004100175, 96.4849554326088, 31.589009988187925, 23.385856345847984, 39.3263737830561, 28.96215360751525, 33.942944560370385, 28.890888327702335, 64.37873645144667, 14.211430970773367, 84.62499447485256, 46.657699968191565, 34.44657443344739, 56.53901358026424, 79.10099631026243, 216.37856254898014, 107.62610839946487, 149.35460998965334, 47.528607538183095, 143.62759565454584, 185.13866722126932, 216.25113520202933, 160.83746727054574, 260.3855637078985, 243.75265019411464, 183.30627072952947, 172.0975011212619, 144.1141212408769, 163.66572391548456, 154.4948360826088, 262.8091099072909, 134.1751132551738, 205.35011387919852, 179.16719358433687, 142.22288869758984, 143.29179778887138, 169.1146692091086, 258.3980357927396, 37.849420727194094, 37.359103331267974, 61.851655296012936, 24.242593936952144, 36.77270837250956, 47.97386680329023, 19.95809353817215, 96.71770538925394, 42.06335865000581, 16.206030930083827, 21.99642198558843, 14.595762357322139, 15.552213550643797, 52.19177896930252, 13.114729941522498, 14.964434316851975, 11.535837018342093, 11.535837018342091, 11.410835349372057, 11.701700609424698, 16.508864416886347, 11.117781547738652, 10.451816745822606, 51.32200155990656, 150.1621054331645, 10.55260324827773, 9.783907718277774, 10.187972173203029, 10.311844946304783, 10.261272661287132, 19.933737629243122, 16.121480773124524, 36.28147652038854, 14.136817401113635, 25.49401981138667, 13.259736983797849, 49.274232735739595, 41.837725713955855, 52.28257101803822, 41.59075824137689, 53.934153312399346, 35.21968198705855, 20.498520697137764, 37.602523160004786, 129.2717154976771, 45.15539042825151, 56.94156408435233, 183.30627072952947, 216.37856254898014, 78.32776928558431, 62.779785709917086, 69.65408802250329, 111.71239026997779, 216.25113520202933, 243.75265019411464, 258.3980357927396, 64.26639775002734, 143.62759565454584, 145.7901258734496, 71.57115245639446, 260.3855637078985, 13.234804526168563, 11.134357249033048, 11.170246273421387, 11.02826092749047, 11.970580165811247, 10.746409939482824, 16.23410889598733, 9.873173300194386, 11.352381624108496, 20.74875689544686, 8.834415325215808, 8.327616725659517, 8.32761672565952, 8.136592343164459, 7.8760839701372465, 12.303820822826054, 7.679725709403778, 7.403310200722328, 7.279790540486265, 7.082224652367456, 7.283701918697749, 6.7898889478308915, 7.984280427357858, 7.082314321212369, 11.21176979933545, 6.334795706817159, 7.616667303270075, 7.3467902389288025, 6.649451168318808, 11.081479077917765, 29.873052018484213, 20.876863083171287, 8.86726652246928, 21.54464720321415, 20.959773425542643, 10.115151497019344, 11.329634122012362, 13.065597495015203, 13.786724038787415, 14.9585003850542, 28.393742719812273, 18.05498335217745, 15.40994175232909, 31.34048046280045, 28.19587697770143, 20.092580633601667, 19.080240270726186, 44.077600195718645, 16.37377083782856, 24.20494894158503, 45.15539042825151, 72.93714357991851, 27.414212685470204, 60.685781079895804, 66.71998447917466, 88.46456602103746, 243.75265019411464, 258.3980357927396, 262.8091099072909, 260.3855637078985, 58.8393797678328, 169.24135336341527, 216.37856254898014, 142.22288869758984, 163.66572391548456, 134.1751132551738, 154.4948360826088], \"Category\": [\"Default\", \"Default\", \"Default\", \"Default\", \"Default\", \"Default\", \"Default\", \"Default\", \"Default\", \"Default\", \"Default\", \"Default\", \"Default\", \"Default\", \"Default\", \"Default\", \"Default\", \"Default\", \"Default\", \"Default\", \"Default\", \"Default\", \"Default\", \"Default\", \"Default\", \"Default\", \"Default\", \"Default\", \"Default\", \"Default\", \"Topic1\", \"Topic1\", \"Topic1\", \"Topic1\", \"Topic1\", \"Topic1\", \"Topic1\", \"Topic1\", \"Topic1\", \"Topic1\", \"Topic1\", \"Topic1\", \"Topic1\", \"Topic1\", \"Topic1\", \"Topic1\", \"Topic1\", \"Topic1\", \"Topic1\", \"Topic1\", \"Topic1\", \"Topic1\", \"Topic1\", \"Topic1\", \"Topic1\", \"Topic1\", \"Topic1\", \"Topic1\", \"Topic1\", \"Topic1\", \"Topic1\", \"Topic1\", \"Topic1\", \"Topic1\", \"Topic1\", \"Topic1\", \"Topic1\", \"Topic1\", \"Topic1\", \"Topic1\", \"Topic1\", \"Topic1\", \"Topic1\", \"Topic1\", \"Topic1\", \"Topic1\", \"Topic1\", \"Topic1\", \"Topic1\", \"Topic1\", \"Topic1\", \"Topic1\", \"Topic1\", \"Topic1\", \"Topic1\", \"Topic1\", \"Topic1\", \"Topic1\", \"Topic1\", \"Topic1\", \"Topic1\", \"Topic1\", \"Topic1\", \"Topic1\", \"Topic1\", \"Topic1\", \"Topic1\", \"Topic1\", \"Topic1\", \"Topic1\", \"Topic1\", \"Topic1\", \"Topic1\", \"Topic2\", \"Topic2\", \"Topic2\", \"Topic2\", \"Topic2\", \"Topic2\", \"Topic2\", \"Topic2\", \"Topic2\", \"Topic2\", \"Topic2\", \"Topic2\", \"Topic2\", \"Topic2\", \"Topic2\", \"Topic2\", \"Topic2\", \"Topic2\", \"Topic2\", \"Topic2\", \"Topic2\", \"Topic2\", \"Topic2\", \"Topic2\", \"Topic2\", \"Topic2\", \"Topic2\", \"Topic2\", \"Topic2\", \"Topic2\", \"Topic2\", \"Topic2\", \"Topic2\", \"Topic2\", \"Topic2\", \"Topic2\", \"Topic2\", \"Topic2\", \"Topic2\", \"Topic2\", \"Topic2\", \"Topic2\", \"Topic2\", \"Topic2\", \"Topic2\", \"Topic2\", \"Topic2\", \"Topic2\", \"Topic2\", \"Topic2\", \"Topic2\", \"Topic2\", \"Topic2\", \"Topic2\", \"Topic2\", \"Topic2\", \"Topic2\", \"Topic2\", \"Topic2\", \"Topic2\", \"Topic2\", \"Topic2\", \"Topic2\", \"Topic2\", \"Topic2\", \"Topic2\", \"Topic2\", \"Topic2\", \"Topic2\", \"Topic2\", \"Topic2\", \"Topic3\", \"Topic3\", \"Topic3\", \"Topic3\", \"Topic3\", \"Topic3\", \"Topic3\", \"Topic3\", \"Topic3\", \"Topic3\", \"Topic3\", \"Topic3\", \"Topic3\", \"Topic3\", \"Topic3\", \"Topic3\", \"Topic3\", \"Topic3\", \"Topic3\", \"Topic3\", \"Topic3\", \"Topic3\", \"Topic3\", \"Topic3\", \"Topic3\", \"Topic3\", \"Topic3\", \"Topic3\", \"Topic3\", \"Topic3\", \"Topic3\", \"Topic3\", \"Topic3\", \"Topic3\", \"Topic3\", \"Topic3\", \"Topic3\", \"Topic3\", \"Topic3\", \"Topic3\", \"Topic3\", \"Topic3\", \"Topic3\", \"Topic3\", \"Topic3\", \"Topic3\", \"Topic3\", \"Topic3\", \"Topic3\", \"Topic3\", \"Topic3\", \"Topic3\", \"Topic3\", \"Topic3\", \"Topic3\", \"Topic3\", \"Topic3\", \"Topic3\", \"Topic3\", \"Topic3\", \"Topic3\", \"Topic3\", \"Topic3\", \"Topic3\", \"Topic3\", \"Topic3\", \"Topic3\", \"Topic3\", \"Topic3\", \"Topic3\", \"Topic3\", \"Topic3\", \"Topic3\", \"Topic4\", \"Topic4\", \"Topic4\", \"Topic4\", \"Topic4\", \"Topic4\", \"Topic4\", \"Topic4\", \"Topic4\", \"Topic4\", \"Topic4\", \"Topic4\", \"Topic4\", \"Topic4\", \"Topic4\", \"Topic4\", \"Topic4\", \"Topic4\", \"Topic4\", \"Topic4\", \"Topic4\", \"Topic4\", \"Topic4\", \"Topic4\", \"Topic4\", \"Topic4\", \"Topic4\", \"Topic4\", \"Topic4\", \"Topic4\", \"Topic4\", \"Topic4\", \"Topic4\", \"Topic4\", \"Topic4\", \"Topic4\", \"Topic4\", \"Topic4\", \"Topic4\", \"Topic4\", \"Topic4\", \"Topic4\", \"Topic4\", \"Topic4\", \"Topic4\", \"Topic4\", \"Topic4\", \"Topic4\", \"Topic4\", \"Topic4\", \"Topic4\", \"Topic4\", \"Topic4\", \"Topic4\", \"Topic4\", \"Topic4\", \"Topic4\", \"Topic4\", \"Topic4\", \"Topic4\", \"Topic4\", \"Topic5\", \"Topic5\", \"Topic5\", \"Topic5\", \"Topic5\", \"Topic5\", \"Topic5\", \"Topic5\", \"Topic5\", \"Topic5\", \"Topic5\", \"Topic5\", \"Topic5\", \"Topic5\", \"Topic5\", \"Topic5\", \"Topic5\", \"Topic5\", \"Topic5\", \"Topic5\", \"Topic5\", \"Topic5\", \"Topic5\", \"Topic5\", \"Topic5\", \"Topic5\", \"Topic5\", \"Topic5\", \"Topic5\", \"Topic5\", \"Topic5\", \"Topic5\", \"Topic5\", \"Topic5\", \"Topic5\", \"Topic5\", \"Topic5\", \"Topic5\", \"Topic5\", \"Topic5\", \"Topic5\", \"Topic5\", \"Topic5\", \"Topic5\", \"Topic5\", \"Topic5\", \"Topic5\", \"Topic5\", \"Topic5\", \"Topic5\", \"Topic5\", \"Topic5\", \"Topic5\", \"Topic5\", \"Topic5\", \"Topic5\", \"Topic5\", \"Topic5\", \"Topic5\", \"Topic5\", \"Topic5\", \"Topic5\", \"Topic5\", \"Topic5\", \"Topic5\", \"Topic5\", \"Topic5\"], \"logprob\": [30.0, 29.0, 28.0, 27.0, 26.0, 25.0, 24.0, 23.0, 22.0, 21.0, 20.0, 19.0, 18.0, 17.0, 16.0, 15.0, 14.0, 13.0, 12.0, 11.0, 10.0, 9.0, 8.0, 7.0, 6.0, 5.0, 4.0, 3.0, 2.0, 1.0, -6.5638, -6.6602, -6.9459, -6.53, -7.0203, -7.0938, -7.1139, -7.1061, -7.077, -7.274, -7.2245, -5.6187, -7.4051, -7.499, -7.2754, -7.4684, -7.5475, -6.9852, -7.5855, -7.2251, -7.3096, -7.5447, -7.6084, -7.6858, -7.3191, -7.7162, -7.5805, -7.7097, -6.457, -7.3119, -6.165, -5.8641, -6.4623, -6.8179, -5.9176, -6.6043, -6.5884, -6.6969, -6.6466, -6.0112, -6.6884, -6.7687, -7.0096, -6.888, -5.8147, -6.1238, -6.4781, -6.9857, -6.4475, -5.97, -6.1157, -6.6503, -6.0809, -5.9733, -6.2407, -5.8185, -5.9179, -5.9875, -6.1179, -6.0905, -5.8191, -5.8439, -6.0755, -6.1506, -5.9306, -6.2844, -6.2175, -6.3204, -6.2424, -6.3253, -6.3262, -6.4109, -6.4156, -6.5868, -6.5447, -6.5834, -6.8425, -6.9579, -5.7736, -7.0941, -7.0999, -7.1827, -7.3591, -7.155, -7.4498, -7.5295, -7.5285, -7.5546, -7.6105, -6.7021, -7.5444, -7.6509, -7.7065, -7.7842, -7.8753, -7.9178, -7.729, -7.91, -7.5036, -7.9161, -7.9371, -7.9788, -7.9787, -6.8218, -6.0976, -7.153, -7.2337, -6.7989, -5.4696, -7.421, -6.3761, -6.1737, -7.2098, -6.3994, -6.0769, -6.5215, -6.6193, -6.9028, -6.4424, -6.6929, -7.0572, -5.9535, -6.2617, -6.8994, -6.7645, -6.6465, -6.0544, -6.0068, -6.1237, -6.1177, -6.5181, -6.445, -6.3939, -6.3522, -6.3956, -6.3371, -6.2862, -6.4206, -6.5445, -6.3622, -6.4887, -6.4956, -6.5411, -6.565, -6.1285, -6.9795, -7.1115, -7.2587, -6.486, -6.807, -7.3886, -7.4636, -7.5352, -7.6576, -6.3503, -7.1521, -7.358, -7.8454, -7.8567, -7.9064, -7.9265, -7.9352, -7.7134, -7.9856, -7.7347, -8.1012, -8.1112, -8.1423, -8.0199, -8.1709, -8.2046, -7.5687, -8.2367, -8.2393, -8.2393, -7.2434, -6.4478, -6.9675, -7.1294, -5.7727, -5.791, -6.8475, -7.1336, -6.7332, -6.9978, -6.8719, -7.0051, -6.4222, -7.5932, -6.3008, -6.731, -6.9921, -6.6778, -6.4945, -5.8908, -6.3263, -6.1878, -6.8373, -6.3656, -6.345, -6.3353, -6.4708, -6.3364, -6.3665, -6.4861, -6.508, -6.5644, -6.54, -6.5734, -6.4936, -6.6354, -6.5695, -6.6144, -6.6384, -6.6489, -6.6432, -6.636, -6.248, -6.2665, -5.7644, -6.7043, -6.2889, -6.0244, -6.9078, -5.3299, -6.1671, -7.1215, -6.8202, -7.2315, -7.1686, -5.9634, -7.3446, -7.2182, -7.4801, -7.4801, -7.4921, -7.4673, -7.1259, -7.5216, -7.5856, -5.9946, -4.9223, -7.5778, -7.6568, -7.6163, -7.6055, -7.611, -6.9507, -7.1701, -6.3881, -7.3024, -6.7474, -7.3634, -6.1484, -6.3006, -6.0955, -6.3148, -6.1359, -6.5546, -7.0045, -6.6004, -5.7884, -6.5525, -6.4263, -5.7886, -5.78, -6.3194, -6.4373, -6.4303, -6.2388, -6.0726, -6.0734, -6.1666, -6.4927, -6.3514, -6.3665, -6.4797, -6.4159, -6.781, -6.9599, -6.9572, -6.9702, -6.8908, -6.9997, -6.5887, -7.0896, -6.9534, -6.3583, -7.2127, -7.2742, -7.2742, -7.2994, -7.3352, -6.891, -7.3642, -7.4036, -7.4235, -7.4528, -7.4263, -7.5027, -7.3445, -7.4644, -7.0058, -7.5779, -7.397, -7.4338, -7.5343, -7.0248, -6.0541, -6.4133, -7.2508, -6.4045, -6.4494, -7.1362, -7.0345, -6.9078, -6.87, -6.8021, -6.3066, -6.6973, -6.8468, -6.3322, -6.4446, -6.683, -6.7701, -6.3111, -6.8686, -6.7108, -6.4574, -6.2611, -6.7007, -6.4403, -6.4613, -6.4359, -6.3614, -6.3547, -6.4512, -6.4878, -6.7122, -6.645, -6.637, -6.6811, -6.7009, -6.7245, -6.7275], \"loglift\": [30.0, 29.0, 28.0, 27.0, 26.0, 25.0, 24.0, 23.0, 22.0, 21.0, 20.0, 19.0, 18.0, 17.0, 16.0, 15.0, 14.0, 13.0, 12.0, 11.0, 10.0, 9.0, 8.0, 7.0, 6.0, 5.0, 4.0, 3.0, 2.0, 1.0, 1.0511, 1.05, 1.0457, 1.0451, 1.0439, 1.0429, 1.0425, 1.0425, 1.0416, 1.039, 1.0376, 1.0364, 1.0355, 1.033, 1.0327, 1.0325, 1.0312, 1.0311, 1.0303, 1.0302, 1.0293, 1.0287, 1.0286, 1.0265, 1.0254, 1.024, 1.024, 1.0237, 1.0233, 1.0232, 0.9912, 0.9686, 0.9862, 0.9968, 0.9585, 0.9817, 0.9804, 0.9848, 0.9781, 0.9218, 0.9593, 0.9651, 0.9918, 0.9769, 0.8196, 0.8558, 0.9114, 0.9883, 0.8874, 0.7879, 0.7871, 0.9146, 0.734, 0.6662, 0.7436, 0.5726, 0.5782, 0.575, 0.6189, 0.5852, 0.3254, 0.3175, 0.4842, 0.5206, 0.2231, 0.5694, 0.4011, 0.3673, -0.0227, 0.2592, 0.2592, 0.1569, 0.1947, 1.5252, 1.5252, 1.523, 1.519, 1.5165, 1.5151, 1.5123, 1.5122, 1.5094, 1.5022, 1.5, 1.4988, 1.4948, 1.4945, 1.4939, 1.4911, 1.4889, 1.4878, 1.4869, 1.4856, 1.4812, 1.4753, 1.4724, 1.4722, 1.4712, 1.4712, 1.471, 1.4709, 1.468, 1.468, 1.46, 1.4492, 1.4595, 1.4587, 1.4389, 1.3919, 1.4567, 1.3811, 1.3647, 1.4246, 1.307, 1.2362, 1.302, 1.3057, 1.31, 1.1474, 1.1998, 1.3097, 0.7516, 0.8487, 1.1921, 1.084, 0.9756, 0.2851, 0.1376, 0.096, 0.036, 0.5962, 0.4767, 0.3571, 0.2659, 0.3382, 0.1905, 0.0527, 0.1897, 0.5689, -0.2008, 0.2607, -0.0009, -0.0364, 0.3182, 1.6206, 1.603, 1.5978, 1.5929, 1.5912, 1.5901, 1.5875, 1.5827, 1.5793, 1.5734, 1.5715, 1.5623, 1.5621, 1.5608, 1.5604, 1.5568, 1.5552, 1.5543, 1.5528, 1.5506, 1.5462, 1.5407, 1.5382, 1.5371, 1.5362, 1.5344, 1.5312, 1.5291, 1.528, 1.5277, 1.5277, 1.5064, 1.4757, 1.4567, 1.4642, 1.3596, 1.3555, 1.4156, 1.4301, 1.3108, 1.3521, 1.3193, 1.3473, 1.1289, 1.4686, 0.9769, 1.142, 1.1843, 1.0032, 0.8507, 0.4481, 0.7109, 0.5217, 1.0173, 0.3831, 0.1498, 0.0041, 0.1647, -0.1826, -0.1467, 0.0187, 0.0598, 0.1809, 0.0781, 0.1023, -0.3491, 0.1813, -0.1783, -0.0868, 0.12, 0.1021, -0.0579, -0.4746, 1.8343, 1.8288, 1.8268, 1.8234, 1.8223, 1.8208, 1.8145, 1.8142, 1.8096, 1.809, 1.8048, 1.8036, 1.803, 1.7976, 1.7976, 1.792, 1.7903, 1.7903, 1.7892, 1.7889, 1.7861, 1.7857, 1.7835, 1.7831, 1.7819, 1.7817, 1.7784, 1.7783, 1.7771, 1.7765, 1.7727, 1.7656, 1.7365, 1.7647, 1.73, 1.7677, 1.67, 1.6815, 1.6637, 1.6732, 1.5922, 1.5997, 1.6911, 1.4884, 1.0656, 1.3533, 1.2475, 0.7162, 0.5588, 1.0355, 1.139, 1.042, 0.7612, 0.2668, 0.1464, -0.0052, 1.0601, 0.3973, 0.3672, 0.9654, -0.2622, 2.352, 2.3459, 2.3454, 2.3453, 2.3426, 2.3416, 2.3401, 2.3365, 2.333, 2.3251, 2.3245, 2.3221, 2.3221, 2.3202, 2.3169, 2.315, 2.3131, 2.3103, 2.3073, 2.3055, 2.3039, 2.2977, 2.2939, 2.2939, 2.2931, 2.292, 2.2885, 2.2878, 2.2871, 2.2858, 2.2649, 2.264, 2.2827, 2.2412, 2.2239, 2.2657, 2.2539, 2.2381, 2.2222, 2.2085, 2.0631, 2.1251, 2.134, 1.9388, 1.9321, 2.0325, 1.9971, 1.6188, 2.0516, 1.8186, 1.4484, 1.1652, 1.7041, 1.1698, 1.0541, 0.7974, -0.1417, -0.1933, -0.3067, -0.3341, 0.9289, -0.0605, -0.2982, 0.0774, -0.0828, 0.0922, -0.0518]}, \"token.table\": {\"Topic\": [1, 2, 3, 4, 5, 1, 2, 5, 2, 3, 4, 1, 3, 5, 4, 5, 5, 2, 1, 2, 3, 4, 5, 1, 2, 3, 4, 5, 5, 1, 2, 3, 4, 5, 1, 2, 3, 4, 3, 3, 4, 3, 3, 5, 3, 5, 1, 2, 3, 4, 5, 2, 4, 4, 3, 1, 2, 3, 4, 5, 2, 2, 1, 2, 2, 2, 3, 4, 1, 2, 3, 4, 5, 2, 4, 4, 1, 2, 1, 4, 3, 2, 2, 2, 3, 5, 5, 1, 2, 3, 1, 2, 3, 3, 4, 1, 2, 3, 4, 5, 5, 1, 2, 3, 5, 4, 3, 4, 5, 2, 3, 4, 1, 2, 3, 4, 5, 2, 5, 4, 1, 5, 1, 3, 2, 1, 2, 3, 4, 5, 1, 2, 3, 4, 5, 1, 1, 2, 3, 4, 5, 1, 1, 2, 3, 4, 5, 1, 2, 3, 4, 1, 2, 3, 4, 1, 5, 3, 3, 3, 2, 2, 3, 4, 1, 2, 3, 4, 5, 1, 3, 3, 2, 5, 2, 5, 3, 4, 5, 1, 3, 1, 1, 2, 3, 4, 5, 4, 1, 2, 3, 4, 5, 1, 2, 3, 4, 1, 2, 3, 1, 2, 3, 4, 5, 1, 2, 3, 4, 5, 3, 3, 3, 2, 1, 2, 3, 4, 5, 1, 2, 3, 4, 5, 2, 3, 4, 1, 2, 3, 2, 3, 1, 2, 3, 4, 5, 1, 2, 3, 4, 1, 2, 3, 4, 5, 1, 3, 1, 1, 2, 3, 4, 5, 1, 2, 3, 5, 1, 5, 1, 2, 3, 4, 5, 1, 2, 4, 1, 2, 3, 4, 5, 2, 1, 2, 3, 4, 5, 4, 1, 2, 3, 4, 5, 1, 2, 5, 4, 2, 3, 4, 1, 3, 5, 3, 1, 2, 3, 1, 2, 3, 4, 5, 1, 2, 3, 4, 5, 2, 3, 4, 4, 1, 2, 3, 4, 5, 2, 2, 4, 5, 1, 5, 1, 2, 3, 4, 5, 1, 5, 2, 4, 5, 1, 3, 4, 3, 4, 1, 2, 3, 4, 5, 2, 4, 3, 4, 2, 3, 4, 1, 2, 3, 4, 1, 5, 5, 1, 2, 3, 4, 5, 2, 4, 4, 1, 2, 3, 4, 5, 1, 2, 3, 4, 5, 2, 1, 2, 3, 4, 1, 2, 3, 4, 5, 1, 2, 3, 4, 5, 1, 2, 3, 4, 5, 3, 4, 1, 2, 3, 4, 5, 4, 1, 1, 2, 3, 4, 1, 2, 3, 4, 5, 1, 4, 3, 1, 2, 3, 4, 5, 1, 2, 3, 4, 5, 1, 2, 3, 4, 5, 1, 3, 1, 2, 3, 4, 5, 1, 1, 5, 3, 1, 2, 3, 4, 5, 1, 1, 3, 5, 1, 2, 3, 4, 5, 4, 1, 1, 2, 5, 3, 4, 1, 2, 3, 4, 5, 1, 2, 3, 4, 5, 1, 2, 3, 4, 5, 2, 5, 3, 4, 1, 2, 3, 4, 5, 3, 3, 3, 5, 2, 5, 3, 4, 2, 4, 5, 2, 1, 2, 3, 4, 5, 1, 3, 2, 3, 5, 1, 1, 2, 2, 5, 1, 2, 3, 4, 5, 1, 2, 2, 1, 2, 3, 4, 5, 5, 2, 3, 4, 5, 1, 3, 2, 4, 1, 2, 3, 4, 5, 1, 3, 1, 2, 3, 4, 5, 1, 2, 3, 4, 5, 4, 1, 2, 3, 4, 5, 1, 2, 3, 4, 5, 2, 5, 1, 2, 2, 2, 3, 4, 2, 4, 1, 2, 3, 4, 5, 3, 1, 2, 3, 4, 5, 3, 1, 3, 4, 1, 2, 3, 4, 5, 1, 2, 1, 2, 4, 4, 1, 2, 1, 2, 3, 4, 5, 1, 2, 3, 4, 1, 2, 3, 4, 5, 3, 3, 2, 1, 2, 3, 4, 5, 1, 3, 5, 1, 4, 2, 3, 4, 5, 5, 1, 2, 3, 4, 5, 1, 5, 2, 3, 2, 5, 1, 2, 3, 4, 5, 3, 5, 1, 2, 3, 4, 5, 1, 2, 1, 2, 3, 4, 5, 3, 1, 2, 3, 4, 5, 5, 5, 1, 2, 3, 4, 5, 1, 3, 2, 3, 1, 2, 3, 4, 5, 1, 2, 3, 4, 5, 4, 1, 2, 3, 4, 5, 5, 1, 2, 3, 4, 5, 1, 2, 3, 4, 5, 2, 3, 4, 5, 1, 2, 3, 4, 5, 1, 2, 3, 4, 5, 3, 2, 3, 3, 5, 1, 1, 1, 2, 3, 4, 5, 5, 5, 3, 4, 1, 1, 2, 3, 1, 2, 3, 4, 5, 1, 2, 3, 4, 5, 1, 2, 3, 4, 5, 1, 2, 3, 4, 5, 1, 5, 1, 2, 3, 4, 5, 1, 2, 3, 5, 1, 3, 1, 2, 3, 4, 5, 1, 2, 3, 4, 5, 2, 4, 1, 2, 3, 4, 5, 5, 2, 1, 2, 3, 4, 5, 5, 5], \"Freq\": [0.5098626144322624, 0.20394504577290498, 0.016995420481075416, 0.03399084096215083, 0.2209404662539804, 0.9170172702712783, 0.01581064259088411, 0.04743192777265232, 0.08811088844106749, 0.8370534401901412, 0.04405544422053374, 0.14730601792979625, 0.7365300896489813, 0.08838361075787775, 0.95355022635201, 0.9610497626255865, 0.8836668826397771, 0.9306937049932575, 0.44906282353346416, 0.17135291950619028, 0.153626755419343, 0.14180931269477814, 0.08272209907195392, 0.32343598432886794, 0.1828116433163167, 0.2179677285694545, 0.17578042626568913, 0.09843703870878591, 0.9455229904208285, 0.6165717778693632, 0.15143868228370325, 0.09194491424367697, 0.07031081677457651, 0.07031081677457651, 0.9300258576408023, 0.02021795342697396, 0.02021795342697396, 0.02021795342697396, 0.8526059961591894, 0.1434112370500716, 0.8365655494587511, 0.9134181284207402, 0.8755667024319912, 0.10300784734494015, 0.9452146650050216, 0.045010222143096267, 0.27495066727128264, 0.28106068209953333, 0.21385051898877538, 0.15275037070626812, 0.07943019276725942, 0.9476213986436681, 0.9255813508386542, 0.9789869061402281, 0.9046661448361795, 0.1459097164632431, 0.07295485823162155, 0.1823871455790539, 0.10943228734743234, 0.4742065785055401, 0.9915977991840508, 0.8952316323495906, 0.0486341034946732, 0.9240479663987909, 0.9781057463894628, 0.027562274083251424, 0.08268682224975427, 0.8819927706640456, 0.11603466343934717, 0.2165980384201147, 0.16244852881508604, 0.4564030095280988, 0.04641386537573886, 0.020844682045338406, 0.9588553740855666, 0.940034305025755, 0.9168156054597418, 0.06433793722524504, 0.9626436638670702, 0.9198778503589808, 0.9641830535907614, 0.9517855109883958, 0.8897448045335397, 0.07253354728698501, 0.07253354728698501, 0.7978690201568351, 0.8603110128628592, 0.8157316527233868, 0.09648438903179843, 0.08771308093799858, 0.9314336165187258, 0.031396638759058175, 0.031396638759058175, 0.04546193924880955, 0.9547007242250006, 0.2547962223418415, 0.1948441700261141, 0.13489211771038667, 0.14988013078931853, 0.2547962223418415, 0.8952354097862744, 0.5183246976963896, 0.012642065797472915, 0.455114368709025, 0.012642065797472915, 0.9775578935985194, 0.031018105608751574, 0.9615612738712989, 0.8767227132973368, 0.03896964146391412, 0.01948482073195706, 0.935271395133939, 0.1117768783292136, 0.20958164686727548, 0.2235537566584272, 0.40519118394339926, 0.0558884391646068, 0.06159869977508746, 0.9239804966263119, 0.9591825118320546, 0.07653687482577975, 0.8419056230835772, 0.026286173064668465, 0.9463022303280648, 0.942427571609278, 0.9067967267198402, 0.03421874440452227, 0.017109372202261136, 0.017109372202261136, 0.03421874440452227, 0.3106488580172163, 0.2947181473496667, 0.15134175134172076, 0.215064594011919, 0.03186142133509911, 0.9798131883597385, 0.7226189343106771, 0.044062130140894946, 0.1674360945354008, 0.008812426028178989, 0.05287455616907393, 0.9692581836183793, 0.4067461732095528, 0.18594110775293843, 0.20918374622205574, 0.12783451158014517, 0.0697279154073519, 0.06311987990790363, 0.21039959969301208, 0.5470389592018314, 0.16831967975440967, 0.03452781908250479, 0.13811127633001916, 0.7596120198151054, 0.03452781908250479, 0.9829732803719787, 0.9067002067369381, 0.9694877007026005, 0.8936043277279819, 0.937392695678989, 0.9488230823990238, 0.8978978704181264, 0.04489489352090632, 0.04489489352090632, 0.22057868377512194, 0.3809995447024834, 0.15039455711940133, 0.1604208609273614, 0.10026303807960088, 0.04971314536663332, 0.9445497619660331, 0.9636745567032291, 0.9788883189955081, 0.9021946030074023, 0.08826410360923294, 0.8826410360923295, 0.09283048272434133, 0.046415241362170664, 0.835474344519072, 0.9551311722973096, 0.02894336885749423, 0.9864173305656989, 0.03521902730006182, 0.1408761092002473, 0.03521902730006182, 0.03521902730006182, 0.7043805460012363, 0.9355515687107603, 0.3364065987988174, 0.23384361136015355, 0.1682032993994087, 0.18051085789204835, 0.07794787045338451, 0.9087379365704538, 0.03786408069043557, 0.022718448414261346, 0.022718448414261346, 0.9252192343831014, 0.04205541974468643, 0.028036946496457618, 0.21421821996300688, 0.1647832461253899, 0.26365319380062385, 0.08239162306269494, 0.2966098430257018, 0.7824450558038425, 0.06209881395268591, 0.04967905116214873, 0.031049406976342956, 0.0745185767432231, 0.9846505381073625, 0.8798081311083615, 0.9585220269804184, 0.9817286575575644, 0.27061886555040754, 0.24980202973883775, 0.2359241391977912, 0.18041257703360505, 0.06245050743470944, 0.20099322807122236, 0.04306997744383336, 0.25841986466300015, 0.44505643358627806, 0.05742663659177781, 0.09617521221386555, 0.07213140916039916, 0.8415331068713235, 0.13361052404228915, 0.8398375796943889, 0.01908721772032702, 0.7901622562931563, 0.20318458018966876, 0.9016103082558979, 0.015817724706243826, 0.055362036471853386, 0.007908862353121913, 0.015817724706243826, 0.054428029054493066, 0.7801350831144006, 0.054428029054493066, 0.09071338175748844, 0.28145181331993285, 0.34767576939521116, 0.19039387371642516, 0.12416991764114685, 0.05794596156586853, 0.9616697186036479, 0.03434534709298742, 0.9881674966731911, 0.03546617829233845, 0.17733089146169226, 0.10639853487701535, 0.10639853487701535, 0.6029250309697537, 0.9142150258325915, 0.021260814554246315, 0.04252162910849263, 0.021260814554246315, 0.9246407476101096, 0.04741747423641588, 0.11690396985938045, 0.8572957789687901, 0.007793597990625364, 0.007793597990625364, 0.8471806993978354, 0.1404767151685839, 0.8077411122193575, 0.035119178792145975, 0.47943543526496485, 0.24352276076950594, 0.13698155293284708, 0.07229581960344708, 0.06468573332940002, 0.9771393018399087, 0.006659469758467718, 0.03995681855080631, 0.019978409275403154, 0.9323257661854806, 0.006659469758467718, 0.9899930701482251, 0.4183291681643612, 0.2606978874067758, 0.1273175729195882, 0.13338031448718762, 0.060627415675994376, 0.22154548259484247, 0.05538637064871062, 0.7754091890819486, 0.8770841880027654, 0.17619327203683974, 0.7565946387464294, 0.05182155059907051, 0.9204972575752963, 0.03540374067597293, 0.03540374067597293, 0.8864589857264025, 0.015336233030687934, 0.8281565836571485, 0.13802609727619142, 0.20011295209835908, 0.5669866976120175, 0.15008471407376933, 0.05002823802458977, 0.03335215868305985, 0.08743317739773768, 0.6994654191819014, 0.08743317739773768, 0.08743317739773768, 0.04371658869886884, 0.09756801622661788, 0.04878400811330894, 0.829328137926252, 0.8833946389912902, 0.12237568311618134, 0.7750459930691485, 0.06118784155809067, 0.020395947186030224, 0.020395947186030224, 0.9721017330813158, 0.9798218870459151, 0.5979352574284781, 0.3764777546771899, 0.24429314661951554, 0.6718061532036678, 0.052685591768358304, 0.0702474556911444, 0.24586609491900543, 0.5444177816063691, 0.08780931961393051, 0.9562077415479247, 0.9189195383709733, 0.9487142576084918, 0.08127556589127172, 0.8940312248039889, 0.9662219871571778, 0.0237736603089792, 0.950946412359168, 0.03832021133397913, 0.9388451776824887, 0.6109897802449773, 0.1392128613216404, 0.07734047851202244, 0.10054262206562917, 0.0696064306608202, 0.016167716049217226, 0.9700629629530336, 0.17214149619564184, 0.8224538151569554, 0.08517964475381544, 0.11357285967175391, 0.766616802784339, 0.19416064905288, 0.04087592611639579, 0.7562046331533221, 0.010218981529098947, 0.9499288522311764, 0.902330109376078, 0.9471497231620476, 0.4760098103015689, 0.17414993059813497, 0.11996995218982631, 0.1547999383094533, 0.07352997069699031, 0.6933448931720017, 0.26667111275846217, 0.9535502263520103, 0.24993633821734987, 0.49987267643469974, 0.12996689587302193, 0.08997708175824595, 0.029992360586081984, 0.023633679534175056, 0.20088627604048798, 0.5199409497518512, 0.23633679534175056, 0.023633679534175056, 0.9369519208080132, 0.03225518291266446, 0.9031451215546049, 0.03225518291266446, 0.9567714631044226, 0.14004207976626745, 0.1556023108514083, 0.18672277302168994, 0.451246701469084, 0.06224092434056332, 0.4301313728960874, 0.2227466038211881, 0.16129926483603277, 0.11905421928373847, 0.06528779767172754, 0.5590683421453858, 0.19596209930869193, 0.09798104965434597, 0.07492668502979398, 0.06339950271751799, 0.07844977036954832, 0.9021723592498057, 0.2070730228368148, 0.19114432877244442, 0.06371477625748148, 0.49378951599548143, 0.047786082193111104, 0.9476334668065987, 0.9933446509910506, 0.8661903242388191, 0.047246744958481045, 0.06299565994464139, 0.031497829972320694, 0.34568683549779533, 0.21065291538146905, 0.22685698579542818, 0.16744206094424463, 0.05401356804653052, 0.9862613424239075, 0.9644929290068205, 0.9034332160201043, 0.3130237715553445, 0.16396483271946616, 0.2310413551956114, 0.1863236735448479, 0.09688831024332091, 0.22378896324375436, 0.1700796120652533, 0.205885846184254, 0.33120766560075643, 0.06266090970825122, 0.09572284648159261, 0.12763046197545683, 0.12763046197545683, 0.03190761549386421, 0.6381523098772841, 0.9765115431702694, 0.8546091379124445, 0.28259902381768126, 0.1582554533379015, 0.12434357047977976, 0.23738318000685227, 0.2034712971487305, 0.989293050750648, 0.9549368071412598, 0.8887665528378083, 0.9495274747776936, 0.04976961487603329, 0.04976961487603329, 0.14930884462809987, 0.09953922975206658, 0.6967746082644661, 0.9860153065346671, 0.9195261915492327, 0.06687463211267146, 0.016718658028167865, 0.018541127255818107, 0.018541127255818107, 0.11124676353490864, 0.7787273447443606, 0.09270563627909054, 0.9150016853955066, 0.9528192569499732, 0.9804080338842901, 0.048195658421321695, 0.9157175100051121, 0.7119903847342237, 0.25428228026222277, 0.08843451067468433, 0.22992972775417925, 0.530607064048106, 0.10612141280962119, 0.053060706404810594, 0.5799503131254395, 0.12243395499314835, 0.13532173972926922, 0.0966583855209066, 0.0644389236806044, 0.5134996906497447, 0.17727965510526897, 0.16505347199456077, 0.09169637333031154, 0.05501782399818692, 0.98734265059005, 0.8981209939952699, 0.9411119837065357, 0.03619661475794368, 0.24368576136428727, 0.16709880779265412, 0.2854604633124508, 0.22976086071489943, 0.06962450324693922, 0.9663754249520472, 0.9227462000526098, 0.10042495819120603, 0.8703496376571189, 0.09886159394594064, 0.8897543455134658, 0.0501662065890234, 0.9029917186024212, 0.04789991657348627, 0.04789991657348627, 0.8621984983227529, 0.9563879385175683, 0.12940283764784616, 0.22645496588373076, 0.30502097445563736, 0.2726702650436758, 0.06470141882392308, 0.14877198770864586, 0.8554389293247137, 0.9110005845368062, 0.08919198466412256, 0.8919198466412257, 0.9526201193640941, 0.06173493597391018, 0.8951565716216976, 0.9723927756602144, 0.905549456925105, 0.1469233576960678, 0.734616788480339, 0.04897445256535593, 0.04897445256535593, 0.012243613141338983, 0.07733295830824029, 0.9125289080372353, 0.9776074068138731, 0.6742291185843976, 0.0811572087184923, 0.0749143465093775, 0.09988579534583668, 0.0749143465093775, 0.8471914256481982, 0.11612185146967843, 0.6386701830832313, 0.23224370293935687, 0.02903046286741961, 0.9646683135161087, 0.024735084961951505, 0.07541627720232354, 0.9049953264278825, 0.8590179727853412, 0.05286264447909792, 0.0660783055988724, 0.01321566111977448, 0.01321566111977448, 0.9674845073484126, 0.9698970144072356, 0.6398439531355258, 0.09632059509567055, 0.09632059509567055, 0.08944055258883693, 0.08256051008200332, 0.7554656567479108, 0.040616433158489826, 0.1380958727388654, 0.01624657326339593, 0.040616433158489826, 0.9639960321226907, 0.03461298900391164, 0.06922597800782328, 0.761485758086056, 0.06922597800782328, 0.10383896701173491, 0.17086386913318824, 0.12426463209686418, 0.6057900814722129, 0.06213231604843209, 0.031066158024216046, 0.9305633554771235, 0.9615661276337251, 0.058531185139681224, 0.9364989622348996, 0.9392524649739838, 0.020294582877891872, 0.1420620801452431, 0.8320778979935668, 0.9684350417797304, 0.8994600188050998, 0.24103708618363992, 0.21425518771879104, 0.3280782561943988, 0.1740823400215177, 0.04017284769727332, 0.971226311151212, 0.7216645069211278, 0.2008756874935098, 0.05207888194276181, 0.014879680555074801, 0.014879680555074801, 0.8546091379124445, 0.9425565618333662, 0.06202904150511161, 0.9304356225766742, 0.218214029671797, 0.20730332818820715, 0.1963926267046173, 0.3218656937659006, 0.060008858159744174, 0.02945491310155879, 0.9425572192498812, 0.9259917422660715, 0.024368203743843988, 0.024368203743843988, 0.9519947365543865, 0.9834263503273204, 0.9743421895023916, 0.042760888684649084, 0.042760888684649084, 0.8124568850083326, 0.042760888684649084, 0.042760888684649084, 0.0676208565639082, 0.022540285521302734, 0.8565308498095039, 0.04508057104260547, 0.24007112820782595, 0.30180370403269546, 0.1577610271079999, 0.2263527780245216, 0.07545092600817387, 0.8759695153864423, 0.9460458605345676, 0.974213791138856, 0.060205987328406325, 0.7826778352692823, 0.09030898099260949, 0.030102993664203163, 0.030102993664203163, 0.04771043940681865, 0.0954208788136373, 0.811077469915917, 0.9650218037282114, 0.9636205580413258, 0.06489317195821703, 0.06489317195821703, 0.06489317195821703, 0.7787180634986045, 0.9067612804728538, 0.8384060435794847, 0.012513523038499771, 0.10010818430799817, 0.012513523038499771, 0.037540569115499314, 0.1337032422045663, 0.8022194532273977, 0.0729458177841498, 0.8753498134097977, 0.9029546659136164, 0.0644967618509726, 0.3016295802137386, 0.041131306392782535, 0.35647132207078197, 0.013710435464260845, 0.2879191447494778, 0.09024066128435107, 0.9024066128435106, 0.3111263697860933, 0.3914170458599238, 0.14050868312920342, 0.11039967960151698, 0.050181672546144085, 0.09177522471575292, 0.8718646347996527, 0.18582851593749014, 0.23228564492186268, 0.3995313092656038, 0.15795423854686663, 0.027874277390623522, 0.9166668972300741, 0.04537452109732291, 0.11343630274330727, 0.2041853449379531, 0.18149808438929163, 0.45374521097322906, 0.9115610276812223, 0.9190371223113132, 0.621379991941404, 0.04530895774572738, 0.21359937222985764, 0.03236354124694813, 0.08414520724206513, 0.14073178162798075, 0.8443906897678845, 0.9678540834009239, 0.0238976316889117, 0.7589180443517968, 0.08432422715019965, 0.03513509464591651, 0.049189132504283126, 0.07027018929183303, 0.870651057508679, 0.041858223918686495, 0.016743289567474597, 0.008371644783737298, 0.05860151348616109, 0.9697585691087673, 0.2635824313557874, 0.28207944408250935, 0.1942186336305802, 0.20346713999394117, 0.05086678499848529, 0.880872431099699, 0.34046411499595386, 0.2567434309805554, 0.1786041258995168, 0.1506972312277173, 0.07255792614667869, 0.3481775792067282, 0.1740887896033641, 0.2300459005473026, 0.18652370314646155, 0.06217456771548718, 0.0524102414755357, 0.1048204829510714, 0.1048204829510714, 0.681333139181964, 0.49784308641558045, 0.1441124723834575, 0.1375619054569367, 0.1441124723834575, 0.07860680311824955, 0.02659396008466876, 0.10637584033867505, 0.15956376050801258, 0.6914429622013878, 0.02659396008466876, 0.939729435607833, 0.061068711306180835, 0.9160306695927125, 0.7914144827377702, 0.18993947585706483, 0.9603569164206122, 0.9737744645539023, 0.6135862192612278, 0.09252490607907403, 0.16557088456255353, 0.0730459784834795, 0.06330651468568223, 0.9606590052769785, 0.9114908871587096, 0.06057351824739287, 0.908602773710893, 0.9460329414676865, 0.9136469584612308, 0.07458342518050863, 0.018645856295127158, 0.44939921743883, 0.17739442793638024, 0.1833075755342596, 0.1419155423491042, 0.047305180783034737, 0.021432689581392574, 0.0857307583255703, 0.6215479978603846, 0.2571922749767109, 0.021432689581392574, 0.16730253820955834, 0.6273845182858439, 0.12547690365716876, 0.06273845182858438, 0.020912817276194793, 0.3344407838797227, 0.2787006532331022, 0.188122940932344, 0.1393503266165511, 0.062707646977448, 0.4131386529314101, 0.5370802488108332, 0.24217240644099802, 0.6780827380347945, 0.048434481288199605, 0.016144827096066534, 0.016144827096066534, 0.976437944562512, 0.01268101226704561, 0.006340506133522805, 0.006340506133522805, 0.9638219099899479, 0.9687154372495766, 0.2042698285159091, 0.14043550710468752, 0.1915029642336648, 0.4468402498785512, 0.02553372856448864, 0.6126627862442827, 0.08669756409117207, 0.167615290576266, 0.06357821366685952, 0.06357821366685952, 0.07073727923522762, 0.919584630057959, 0.23029929492979614, 0.3070657265730615, 0.2163417619037479, 0.167490396312579, 0.0837451981562895, 0.8166831779417768, 0.9619002133425651, 0.20664158916420203, 0.45327832461824963, 0.1933098737342535, 0.09332200800963963, 0.05999271943476833, 0.9305433215663513, 0.960659005276978], \"Term\": [\"___\", \"___\", \"___\", \"___\", \"___\", \"advancen\", \"advancen\", \"advancen\", \"agenc\", \"agenc\", \"agenc\", \"algorithm\", \"algorithm\", \"algorithm\", \"alink\", \"allerg\", \"allergi\", \"alomar\", \"also\", \"also\", \"also\", \"also\", \"also\", \"andn\", \"andn\", \"andn\", \"andn\", \"andn\", \"antibiot\", \"anyon\", \"anyon\", \"anyon\", \"anyon\", \"anyon\", \"appl\", \"appl\", \"appl\", \"appl\", \"appressian\", \"arab\", \"arab\", \"argicn\", \"armenia\", \"armenia\", \"armenian\", \"armenian\", \"articl\", \"articl\", \"articl\", \"articl\", \"articl\", \"atf\", \"atheism\", \"atheist\", \"azeri\", \"bank\", \"bank\", \"bank\", \"bank\", \"bank\", \"basebal\", \"baseballn\", \"bat\", \"bat\", \"batf\", \"belief\", \"belief\", \"belief\", \"believ\", \"believ\", \"believ\", \"believ\", \"believ\", \"bibl\", \"bibl\", \"biblic\", \"bike\", \"bike\", \"bio\", \"bmug\", \"bosnian\", \"bruin\", \"buffalo\", \"cancer\", \"cancer\", \"cancer\", \"candida\", \"car\", \"car\", \"car\", \"card\", \"card\", \"card\", \"cathol\", \"cathol\", \"caus\", \"caus\", \"caus\", \"caus\", \"caus\", \"chastiti\", \"chip\", \"chip\", \"chip\", \"chip\", \"christ\", \"christian\", \"christian\", \"chronic\", \"church\", \"church\", \"church\", \"claim\", \"claim\", \"claim\", \"claim\", \"claim\", \"clayton\", \"clayton\", \"clhn\", \"clinic\", \"clinic\", \"clipper\", \"clipper\", \"coach\", \"color\", \"color\", \"color\", \"color\", \"color\", \"come\", \"come\", \"come\", \"come\", \"come\", \"compress\", \"comput\", \"comput\", \"comput\", \"comput\", \"comput\", \"configur\", \"could\", \"could\", \"could\", \"could\", \"could\", \"countri\", \"countri\", \"countri\", \"countri\", \"court\", \"court\", \"court\", \"court\", \"cpu\", \"cramer\", \"crypto\", \"cryptographi\", \"cryptosystem\", \"cub\", \"cup\", \"cup\", \"cup\", \"day\", \"day\", \"day\", \"day\", \"day\", \"de\", \"de\", \"decrypt\", \"detroit\", \"diagnos\", \"diet\", \"diet\", \"diseas\", \"diseas\", \"diseas\", \"disk\", \"disk\", \"do\", \"doctor\", \"doctor\", \"doctor\", \"doctor\", \"doctor\", \"doctrin\", \"dont\", \"dont\", \"dont\", \"dont\", \"dont\", \"drive\", \"drive\", \"drive\", \"drive\", \"driver\", \"driver\", \"driver\", \"effect\", \"effect\", \"effect\", \"effect\", \"effect\", \"email\", \"email\", \"email\", \"email\", \"email\", \"encrypt\", \"encryptionn\", \"escrow\", \"espn\", \"even\", \"even\", \"even\", \"even\", \"even\", \"exist\", \"exist\", \"exist\", \"exist\", \"exist\", \"faith\", \"faith\", \"faith\", \"fan\", \"fan\", \"fan\", \"fbi\", \"fbi\", \"file\", \"file\", \"file\", \"file\", \"file\", \"fire\", \"fire\", \"fire\", \"fire\", \"first\", \"first\", \"first\", \"first\", \"first\", \"floppi\", \"floppi\", \"font\", \"food\", \"food\", \"food\", \"food\", \"food\", \"format\", \"format\", \"format\", \"format\", \"ftp\", \"ftp\", \"game\", \"game\", \"game\", \"game\", \"gcc\", \"georgia\", \"georgia\", \"georgia\", \"get\", \"get\", \"get\", \"get\", \"get\", \"goali\", \"god\", \"god\", \"god\", \"god\", \"god\", \"godn\", \"good\", \"good\", \"good\", \"good\", \"good\", \"gordon\", \"gordon\", \"gordon\", \"gospel\", \"govern\", \"govern\", \"govern\", \"graphic\", \"graphic\", \"graphic\", \"greec\", \"gun\", \"gun\", \"gun\", \"guy\", \"guy\", \"guy\", \"guy\", \"guy\", \"he\", \"he\", \"he\", \"he\", \"he\", \"heaven\", \"heaven\", \"heaven\", \"hebrew\", \"hit\", \"hit\", \"hit\", \"hit\", \"hit\", \"hitter\", \"hockey\", \"homosexu\", \"homosexu\", \"hst\", \"hst\", \"human\", \"human\", \"human\", \"human\", \"human\", \"ide\", \"infect\", \"inning\", \"intellect\", \"intellect\", \"interfac\", \"isra\", \"isra\", \"israel\", \"israel\", \"ive\", \"ive\", \"ive\", \"ive\", \"ive\", \"jesu\", \"jesu\", \"jew\", \"jew\", \"jewish\", \"jewish\", \"jewish\", \"key\", \"key\", \"key\", \"key\", \"keyboard\", \"kidney\", \"kirlian\", \"know\", \"know\", \"know\", \"know\", \"know\", \"koresh\", \"koresh\", \"ksand\", \"last\", \"last\", \"last\", \"last\", \"last\", \"law\", \"law\", \"law\", \"law\", \"law\", \"leaf\", \"leagu\", \"leagu\", \"leagu\", \"lebanes\", \"life\", \"life\", \"life\", \"life\", \"life\", \"like\", \"like\", \"like\", \"like\", \"like\", \"look\", \"look\", \"look\", \"look\", \"look\", \"lord\", \"lord\", \"love\", \"love\", \"love\", \"love\", \"love\", \"luke\", \"mac\", \"machin\", \"machin\", \"machin\", \"machin\", \"make\", \"make\", \"make\", \"make\", \"make\", \"manual\", \"marriag\", \"maxaxaxaxaxaxaxaxaxaxaxaxaxaxaxn\", \"may\", \"may\", \"may\", \"may\", \"may\", \"mean\", \"mean\", \"mean\", \"mean\", \"mean\", \"medic\", \"medic\", \"medic\", \"medic\", \"medic\", \"meg\", \"melkonian\", \"men\", \"men\", \"men\", \"men\", \"men\", \"mhz\", \"microsoft\", \"migrain\", \"militia\", \"mission\", \"mission\", \"mission\", \"mission\", \"mission\", \"modem\", \"monitor\", \"monitor\", \"monitor\", \"moral\", \"moral\", \"moral\", \"moral\", \"moral\", \"mormon\", \"motherboard\", \"mous\", \"msg\", \"msg\", \"muslim\", \"muslim\", \"nation\", \"nation\", \"nation\", \"nation\", \"nation\", \"need\", \"need\", \"need\", \"need\", \"need\", \"new\", \"new\", \"new\", \"new\", \"new\", \"nhl\", \"njxp\", \"nsa\", \"nsa\", \"ofn\", \"ofn\", \"ofn\", \"ofn\", \"ofn\", \"ohanu\", \"omiss\", \"orbit\", \"orbit\", \"orontoedu\", \"orontoedu\", \"palestinian\", \"palestinian\", \"patient\", \"patient\", \"patient\", \"penguin\", \"peopl\", \"peopl\", \"peopl\", \"peopl\", \"peopl\", \"pgp\", \"pgp\", \"philli\", \"physician\", \"physician\", \"pin\", \"pitch\", \"pitch\", \"pitcher\", \"pixmap\", \"play\", \"play\", \"play\", \"play\", \"play\", \"player\", \"player\", \"playoff\", \"pleas\", \"pleas\", \"pleas\", \"pleas\", \"pleas\", \"pluto\", \"polit\", \"polit\", \"polit\", \"polit\", \"port\", \"port\", \"pplecom\", \"pplecom\", \"price\", \"price\", \"price\", \"price\", \"price\", \"printer\", \"privaci\", \"problem\", \"problem\", \"problem\", \"problem\", \"problem\", \"program\", \"program\", \"program\", \"program\", \"program\", \"prophet\", \"propos\", \"propos\", \"propos\", \"propos\", \"propos\", \"public\", \"public\", \"public\", \"public\", \"public\", \"puck\", \"quack\", \"ranger\", \"ranger\", \"rbi\", \"religion\", \"religion\", \"religion\", \"reno\", \"revel\", \"right\", \"right\", \"right\", \"right\", \"right\", \"rsa\", \"run\", \"run\", \"run\", \"run\", \"run\", \"sahak\", \"salen\", \"satan\", \"satan\", \"say\", \"say\", \"say\", \"say\", \"say\", \"score\", \"score\", \"screen\", \"screen\", \"screen\", \"scriptur\", \"scsi\", \"season\", \"secret\", \"secret\", \"secret\", \"secret\", \"secret\", \"secur\", \"secur\", \"secur\", \"secur\", \"see\", \"see\", \"see\", \"see\", \"see\", \"serb\", \"serdar\", \"shark\", \"shot\", \"shot\", \"shot\", \"shot\", \"shot\", \"shuttl\", \"shuttl\", \"shuttl\", \"simm\", \"sin\", \"skeptic\", \"skeptic\", \"skeptic\", \"skeptic\", \"slpittedu\", \"softwar\", \"softwar\", \"softwar\", \"softwar\", \"softwar\", \"solar\", \"solar\", \"soviet\", \"soviet\", \"sox\", \"sox\", \"space\", \"space\", \"space\", \"space\", \"space\", \"spencer\", \"spencer\", \"start\", \"start\", \"start\", \"start\", \"start\", \"stat\", \"stat\", \"state\", \"state\", \"state\", \"state\", \"state\", \"sternlight\", \"studi\", \"studi\", \"studi\", \"studi\", \"studi\", \"svr\", \"syndrom\", \"system\", \"system\", \"system\", \"system\", \"system\", \"tap\", \"tap\", \"team\", \"team\", \"thank\", \"thank\", \"thank\", \"thank\", \"thank\", \"thanksn\", \"thanksn\", \"thanksn\", \"thanksn\", \"thanksn\", \"theist\", \"think\", \"think\", \"think\", \"think\", \"think\", \"tiff\", \"time\", \"time\", \"time\", \"time\", \"time\", \"ton\", \"ton\", \"ton\", \"ton\", \"ton\", \"treatment\", \"treatment\", \"treatment\", \"treatment\", \"tri\", \"tri\", \"tri\", \"tri\", \"tri\", \"truth\", \"truth\", \"truth\", \"truth\", \"truth\", \"turk\", \"turkey\", \"turkey\", \"turkish\", \"turkish\", \"unix\", \"upgrad\", \"use\", \"use\", \"use\", \"use\", \"use\", \"utzoohenryn\", \"uunetpyramidoptilinkcram\", \"vers\", \"vers\", \"vga\", \"video\", \"video\", \"video\", \"want\", \"want\", \"want\", \"want\", \"want\", \"war\", \"war\", \"war\", \"war\", \"war\", \"watch\", \"watch\", \"watch\", \"watch\", \"watch\", \"well\", \"well\", \"well\", \"well\", \"well\", \"widget\", \"widget\", \"win\", \"win\", \"win\", \"win\", \"win\", \"window\", \"window\", \"window\", \"window\", \"windowsn\", \"wiretap\", \"word\", \"word\", \"word\", \"word\", \"word\", \"work\", \"work\", \"work\", \"work\", \"work\", \"worship\", \"worship\", \"writesn\", \"writesn\", \"writesn\", \"writesn\", \"writesn\", \"xdm\", \"yanke\", \"year\", \"year\", \"year\", \"year\", \"year\", \"yeast\", \"zoologyn\"]}, \"R\": 30, \"lambda.step\": 0.01, \"plot.opts\": {\"xlab\": \"PC1\", \"ylab\": \"PC2\"}, \"topic.order\": [5, 1, 3, 4, 2]};\n",
              "\n",
              "function LDAvis_load_lib(url, callback){\n",
              "  var s = document.createElement('script');\n",
              "  s.src = url;\n",
              "  s.async = true;\n",
              "  s.onreadystatechange = s.onload = callback;\n",
              "  s.onerror = function(){console.warn(\"failed to load library \" + url);};\n",
              "  document.getElementsByTagName(\"head\")[0].appendChild(s);\n",
              "}\n",
              "\n",
              "if(typeof(LDAvis) !== \"undefined\"){\n",
              "   // already loaded: just create the visualization\n",
              "   !function(LDAvis){\n",
              "       new LDAvis(\"#\" + \"ldavis_el1401403452895179608207862544\", ldavis_el1401403452895179608207862544_data);\n",
              "   }(LDAvis);\n",
              "}else if(typeof define === \"function\" && define.amd){\n",
              "   // require.js is available: use it to load d3/LDAvis\n",
              "   require.config({paths: {d3: \"https://cdnjs.cloudflare.com/ajax/libs/d3/3.5.5/d3.min\"}});\n",
              "   require([\"d3\"], function(d3){\n",
              "      window.d3 = d3;\n",
              "      LDAvis_load_lib(\"https://cdn.rawgit.com/bmabey/pyLDAvis/files/ldavis.v1.0.0.js\", function(){\n",
              "        new LDAvis(\"#\" + \"ldavis_el1401403452895179608207862544\", ldavis_el1401403452895179608207862544_data);\n",
              "      });\n",
              "    });\n",
              "}else{\n",
              "    // require.js not available: dynamically load d3 & LDAvis\n",
              "    LDAvis_load_lib(\"https://cdnjs.cloudflare.com/ajax/libs/d3/3.5.5/d3.min.js\", function(){\n",
              "         LDAvis_load_lib(\"https://cdn.rawgit.com/bmabey/pyLDAvis/files/ldavis.v1.0.0.js\", function(){\n",
              "                 new LDAvis(\"#\" + \"ldavis_el1401403452895179608207862544\", ldavis_el1401403452895179608207862544_data);\n",
              "            })\n",
              "         });\n",
              "}\n",
              "</script>"
            ],
            "text/plain": [
              "PreparedData(topic_coordinates=                x           y  topics  cluster       Freq\n",
              "topic                                                    \n",
              "4      150.222153  -72.269554       1        1  34.538469\n",
              "0       51.163364 -159.968018       2        1  21.334180\n",
              "2      -73.144554   21.523815       3        1  19.505976\n",
              "3      -66.410133 -110.606438       4        1  15.665687\n",
              "1       54.417324   12.443444       5        1   8.955688, topic_info=            Term        Freq       Total Category  logprob  loglift\n",
              "5351         god  150.000000  150.000000  Default  30.0000  30.0000\n",
              "2266   christian   96.000000   96.000000  Default  29.0000  29.0000\n",
              "5174        game  128.000000  128.000000  Default  28.0000  28.0000\n",
              "14332     window  157.000000  157.000000  Default  27.0000  27.0000\n",
              "12741       team   83.000000   83.000000  Default  26.0000  26.0000\n",
              "...          ...         ...         ...      ...      ...      ...\n",
              "9414       peopl   14.381924  216.378563   Topic5  -6.6370  -0.2982\n",
              "542         andn   13.761650  142.222889   Topic5  -6.6811   0.0774\n",
              "814       articl   13.492056  163.665724   Topic5  -6.7009  -0.0828\n",
              "7816         may   13.176805  134.175113   Topic5  -6.7245   0.0922\n",
              "12608     system   13.137682  154.494836   Topic5  -6.7275  -0.0518\n",
              "\n",
              "[375 rows x 6 columns], token_table=       Topic      Freq      Term\n",
              "term                            \n",
              "0          1  0.509863       ___\n",
              "0          2  0.203945       ___\n",
              "0          3  0.016995       ___\n",
              "0          4  0.033991       ___\n",
              "0          5  0.220940       ___\n",
              "...      ...       ...       ...\n",
              "14582      3  0.193310      year\n",
              "14582      4  0.093322      year\n",
              "14582      5  0.059993      year\n",
              "14587      5  0.930543     yeast\n",
              "14663      5  0.960659  zoologyn\n",
              "\n",
              "[802 rows x 3 columns], R=30, lambda_step=0.01, plot_opts={'xlab': 'PC1', 'ylab': 'PC2'}, topic_order=[5, 1, 3, 4, 2])"
            ]
          },
          "metadata": {
            "tags": []
          },
          "execution_count": 38
        }
      ]
    },
    {
      "cell_type": "markdown",
      "metadata": {
        "id": "D-Tn0cfy9191",
        "colab_type": "text"
      },
      "source": [
        "# LDA Bigram - tf-idf - stem\n"
      ]
    },
    {
      "cell_type": "code",
      "metadata": {
        "id": "45BK27df-ATD",
        "colab_type": "code",
        "colab": {}
      },
      "source": [
        "data_bigram_stem_tfidf = tfidf.fit_transform(df.bigram_stem)"
      ],
      "execution_count": null,
      "outputs": []
    },
    {
      "cell_type": "code",
      "metadata": {
        "id": "uQYZ3kEJ-cSM",
        "colab_type": "code",
        "colab": {
          "base_uri": "https://localhost:8080/",
          "height": 374
        },
        "outputId": "0fc42b56-4b00-4b1c-c3eb-3f6d53414375"
      },
      "source": [
        "# Parametri di ricerca\n",
        "search_params = {'n_components': [5,10, 15, 20, 25, 30], 'learning_decay': [.5, .7, .9]}\n",
        "\n",
        "# Inizializzazione Modello\n",
        "lda = LatentDirichletAllocation()\n",
        "\n",
        "# Inizializzazione GridSearchCV\n",
        "model = GridSearchCV(lda, param_grid=search_params)\n",
        "\n",
        "# Grid Search\n",
        "model.fit(data_bigram_stem_tfidf)"
      ],
      "execution_count": null,
      "outputs": [
        {
          "output_type": "execute_result",
          "data": {
            "text/plain": [
              "GridSearchCV(cv=None, error_score=nan,\n",
              "             estimator=LatentDirichletAllocation(batch_size=128,\n",
              "                                                 doc_topic_prior=None,\n",
              "                                                 evaluate_every=-1,\n",
              "                                                 learning_decay=0.7,\n",
              "                                                 learning_method='batch',\n",
              "                                                 learning_offset=10.0,\n",
              "                                                 max_doc_update_iter=100,\n",
              "                                                 max_iter=10,\n",
              "                                                 mean_change_tol=0.001,\n",
              "                                                 n_components=10, n_jobs=None,\n",
              "                                                 perp_tol=0.1,\n",
              "                                                 random_state=None,\n",
              "                                                 topic_word_prior=None,\n",
              "                                                 total_samples=1000000.0,\n",
              "                                                 verbose=0),\n",
              "             iid='deprecated', n_jobs=None,\n",
              "             param_grid={'learning_decay': [0.5, 0.7, 0.9],\n",
              "                         'n_components': [5, 10, 15, 20, 25, 30]},\n",
              "             pre_dispatch='2*n_jobs', refit=True, return_train_score=False,\n",
              "             scoring=None, verbose=0)"
            ]
          },
          "metadata": {
            "tags": []
          },
          "execution_count": 40
        }
      ]
    },
    {
      "cell_type": "code",
      "metadata": {
        "id": "H8dtuA3a-mtX",
        "colab_type": "code",
        "colab": {
          "base_uri": "https://localhost:8080/",
          "height": 68
        },
        "outputId": "88dd442a-14b0-4fc3-a7f0-224bc3915dbc"
      },
      "source": [
        "# Stimato il Miglior modello \n",
        "best_lda_model = model.best_estimator_\n",
        "\n",
        "# Parametri del modello\n",
        "print(\"Best Model Params: \", model.best_params_)\n",
        "\n",
        "# Log Likelihood Score\n",
        "print(\"Best Log Likelihood Score: \", model.best_score_)\n",
        "\n",
        "# Perplessità\n",
        "print(\"Model Perplexity: \", best_lda_model.perplexity(data_bigram_stem_tfidf))"
      ],
      "execution_count": null,
      "outputs": [
        {
          "output_type": "stream",
          "text": [
            "Best Model Params:  {'learning_decay': 0.5, 'n_components': 5}\n",
            "Best Log Likelihood Score:  -159623.3422798693\n",
            "Model Perplexity:  31290.27407702234\n"
          ],
          "name": "stdout"
        }
      ]
    },
    {
      "cell_type": "code",
      "metadata": {
        "id": "1Z2YVcch_DhM",
        "colab_type": "code",
        "colab": {
          "base_uri": "https://localhost:8080/",
          "height": 861
        },
        "outputId": "899ca020-bc7f-40b9-a15b-d06f6bdc89c8"
      },
      "source": [
        "pyLDAvis.enable_notebook()\n",
        "vis = pyLDAvis.sklearn.prepare(best_lda_model, data_bigram_stem_tfidf, tfidf, mds='tsne')\n",
        "vis"
      ],
      "execution_count": null,
      "outputs": [
        {
          "output_type": "execute_result",
          "data": {
            "text/html": [
              "\n",
              "<link rel=\"stylesheet\" type=\"text/css\" href=\"https://cdn.rawgit.com/bmabey/pyLDAvis/files/ldavis.v1.0.0.css\">\n",
              "\n",
              "\n",
              "<div id=\"ldavis_el1401403452895178406357631750\"></div>\n",
              "<script type=\"text/javascript\">\n",
              "\n",
              "var ldavis_el1401403452895178406357631750_data = {\"mdsDat\": {\"x\": [150.22215270996094, 51.16336441040039, -73.1445541381836, -66.4101333618164, 54.41732406616211], \"y\": [-72.2695541381836, -159.968017578125, 21.523815155029297, -110.60643768310547, 12.44344425201416], \"topics\": [1, 2, 3, 4, 5], \"cluster\": [1, 1, 1, 1, 1], \"Freq\": [23.319826301402767, 20.416277904710885, 19.292969791792235, 18.999446427444436, 17.97147957464967]}, \"tinfo\": {\"Term\": [\"thank advancen\", \"gordon bank\", \"clipper chip\", \"serial number\", \"___ ___\", \"someon pleas\", \"pplecom alink\", \"alink ksand\", \"activ netn\", \"privat activ\", \"ksand privat\", \"hard drive\", \"bank njxp\", \"skeptic chastiti\", \"intellect andn\", \"njxp skeptic\", \"chastiti intellect\", \"kentn pplecom\", \"surrend soon\", \"andn slpittedu\", \"slpittedu shame\", \"shame surrend\", \"anyon know\", \"public key\", \"cheersn kentn\", \"state univers\", \"make offern\", \"institut technolog\", \"radar detector\", \"clayton cramer\", \"institut technolog\", \"gun control\", \"georgia institut\", \"believ speak\", \"write today\", \"tratuscom write\", \"speak companyn\", \"companyn tratuscom\", \"special investor\", \"wstratuscom believ\", \"today special\", \"investor packetn\", \"____ ____\", \"technolog atlanta\", \"holi spirit\", \"health insur\", \"work man\", \"man work\", \"___ ____\", \"kipl orontoedu\", \"work henri\", \"zoologyn kipl\", \"souvien gari\", \"daren tttgo\", \"domi stanleyn\", \"gon itnettttselann\", \"tttgo winnipeg\", \"jet gon\", \"gari daren\", \"itnettttselann domi\", \"god exist\", \"atlanta georgia\", \"new testament\", \"know noth\", \"dont think\", \"albert einsteinn\", \"mani peopl\", \"jesu christ\", \"believ god\", \"dont know\", \"sound like\", \"___ ___\", \"unit state\", \"san francisco\", \"dont believ\", \"previou articl\", \"youv got\", \"last year\", \"look like\", \"ive seen\", \"anyon know\", \"seem like\", \"serial number\", \"david sternlight\", \"bit color\", \"swap file\", \"artifici intellig\", \"univers georgia\", \"michael covington\", \"ofn inform\", \"care taken\", \"expos event\", \"great care\", \"taken ensur\", \"accuraci ofn\", \"ensur accuraci\", \"error omiss\", \"session key\", \"via ftp\", \"inform error\", \"sternlight great\", \"ohio state\", \"omiss except\", \"athen georgia\", \"usa amateur\", \"look program\", \"research scientist\", \"bit key\", \"georgia usa\", \"intellig program\", \"radio ntmi\", \"program gaedu\", \"gaedu univers\", \"let known\", \"clipper chip\", \"do window\", \"key escrow\", \"public key\", \"law enforc\", \"state universityn\", \"mail list\", \"anyon know\", \"pgp public\", \"state univers\", \"comput scienc\", \"pleas let\", \"thank helpn\", \"know get\", \"seem like\", \"thank advancen\", \"window manag\", \"amateur radio\", \"serial port\", \"dont know\", \"someth like\", \"video card\", \"pleas email\", \"work fine\", \"look like\", \"dont think\", \"ive seen\", \"gordon bank\", \"bank njxp\", \"njxp skeptic\", \"chastiti intellect\", \"intellect andn\", \"skeptic chastiti\", \"surrend soon\", \"slpittedu shame\", \"shame surrend\", \"andn slpittedu\", \"make offern\", \"hard driven\", \"pleas emailn\", \"cramer uunetpyramidoptilinkcram\", \"uunetpyramidoptilinkcram opinion\", \"consent alln\", \"blah blah\", \"mutual consent\", \"michael adam\", \"relat peopl\", \"peopl mutual\", \"disclaim applyn\", \"minen relat\", \"adam laskaedu\", \"laskaedu high\", \"high jackedn\", \"ontario canadan\", \"power play\", \"system corporationn\", \"emailn thanksn\", \"opinion minen\", \"clayton cramer\", \"bob vestermann\", \"hard drive\", \"new jersey\", \"sourc code\", \"radio shack\", \"brand new\", \"att bell\", \"san jose\", \"dont know\", \"thank advanc\", \"anyon know\", \"gon na\", \"floppi drive\", \"ive seen\", \"thank advancen\", \"new york\", \"year ago\", \"someth like\", \"hard disk\", \"jet propuls\", \"jake livni\", \"employ opinion\", \"know ftp\", \"jimmi carter\", \"tim clock\", \"americanoccupi new\", \"livni onycom\", \"opinion standard\", \"york replac\", \"replac jimmi\", \"onycom ten\", \"willn americanoccupi\", \"fail presidentn\", \"standard fail\", \"bush willn\", \"year georg\", \"carter opinion\", \"give inform\", \"instruct set\", \"bear arm\", \"mark singer\", \"north carolina\", \"anyon netland\", \"mhz mhz\", \"cool tower\", \"could post\", \"propuls lab\", \"appreci itn\", \"ron baalk\", \"side effect\", \"center polici\", \"space shuttl\", \"anyon give\", \"kidney stone\", \"comput system\", \"someon pleas\", \"polici research\", \"thank advancen\", \"new york\", \"pleas email\", \"___ ___\", \"could someon\", \"appreciatedn thanksn\", \"ftp site\", \"red sox\", \"thank youn\", \"greatli appreciatedn\", \"disclaim opinion\", \"last year\", \"anybodi know\", \"_____ _____\", \"pleas repli\", \"opinion mine\", \"look like\", \"dont know\", \"opinion express\", \"anyon know\", \"writesn articl\", \"pleas post\", \"sound like\", \"pleas send\", \"year ago\", \"want know\", \"dont think\", \"let know\", \"last night\", \"long time\", \"pplecom alink\", \"alink ksand\", \"activ netn\", \"privat activ\", \"ksand privat\", \"kentn pplecom\", \"cheersn kentn\", \"radar detector\", \"serdar argicn\", \"longer exist\", \"way escap\", \"close road\", \"today longer\", \"exist singl\", \"pass might\", \"serv way\", \"mountain pass\", \"proceed work\", \"road mountain\", \"might serv\", \"ohanu appressian\", \"soviet armenia\", \"armenia today\", \"singl turkish\", \"sahak melkonian\", \"argicn close\", \"exterminationn ohanu\", \"work exterminationn\", \"escap turk\", \"turkish soul\", \"appressian soviet\", \"turk proceed\", \"soul sahak\", \"anyon els\", \"year ago\", \"writesn articl\", \"dont know\", \"thank advancen\", \"pleas email\", \"pleas respond\", \"last year\", \"email address\", \"dont want\"], \"Freq\": [93.0, 18.0, 25.0, 18.0, 30.0, 26.0, 15.0, 15.0, 15.0, 15.0, 15.0, 33.0, 16.0, 16.0, 16.0, 16.0, 16.0, 15.0, 16.0, 16.0, 16.0, 16.0, 117.0, 24.0, 14.0, 28.0, 14.0, 16.0, 13.0, 15.0, 16.34829393487404, 14.547966872583043, 12.882217485697419, 12.644710975273068, 12.44491527063382, 12.376211827544164, 12.37621182754416, 12.376211827544152, 12.376211827544143, 12.376211827544138, 12.376211827544136, 12.376211827544125, 10.64625136658712, 8.863574693638649, 10.440611135444508, 8.654881993814207, 8.247930983797978, 8.160373543127324, 8.15887460422534, 7.6633805859222575, 7.6633805859222575, 7.6633805859222575, 6.954814722973379, 6.954814722973379, 6.954814722973379, 6.954814722973379, 6.954814722973379, 6.954814722973379, 6.954814722973379, 6.954814722973379, 13.850955150947097, 9.136246226721079, 10.132118338180197, 9.88895216260673, 32.005134025956345, 7.02006378616735, 17.680440711070396, 11.31784846253408, 11.179835668571235, 26.71691437460963, 17.344090813284108, 13.952439881487019, 13.819969141669972, 11.017505321565457, 11.474182441729615, 11.732461064700972, 10.25697670125312, 12.332862260257413, 12.518692619103511, 11.313753897404062, 12.065473430426374, 10.862129590112719, 17.6953984966312, 13.065127546569432, 11.831764465885575, 10.925368985530591, 10.5430323826183, 10.395193633765576, 10.197222997197564, 9.556414064338451, 9.275411878572312, 9.13223070090217, 8.991505877172399, 8.89302369033443, 8.824135948267406, 8.824135948267406, 8.81707484527458, 8.782782805985983, 8.743637238436893, 8.675987060165337, 8.654828740063827, 8.836931956891018, 8.506121379772019, 8.506327423775875, 8.204451305342483, 8.155611942233946, 8.092141708496603, 7.927700835481929, 7.749409792641745, 7.749409792641745, 7.749409792641745, 7.520971215961285, 7.520971215961285, 14.71173025534903, 21.503288972765127, 13.47267646943935, 9.29153831151512, 19.425683662194903, 18.041075776811073, 13.218873346797006, 19.7735268964613, 50.35715303876188, 12.633884876240968, 17.940369588349082, 20.49904689982061, 15.7388576152299, 12.578909722425285, 11.56480340911105, 15.366847005959702, 22.296529425385916, 12.103156326071716, 11.277996526988725, 11.123299020131972, 19.72478769113481, 15.307850055131585, 12.545842103610271, 15.24670548649303, 12.608827103520737, 14.058057038727819, 13.594909890637346, 11.195538755783135, 17.753396634618237, 15.75657991690858, 15.75657991690858, 15.75657991690858, 15.75657991690858, 15.75657991690858, 15.580739831823655, 15.580739831823655, 15.580739831823655, 15.580739831823655, 14.277043196955026, 11.432252600017662, 10.50465210408074, 10.129791751961642, 10.129791751961108, 9.84042614896646, 9.843330254975157, 9.700638785644246, 10.92099184996279, 9.631630819148349, 9.524340178804149, 9.515076756025131, 9.370003217775748, 9.461706724160189, 9.461706721715608, 9.289579209155413, 9.166623495072667, 11.445378146735564, 7.291152068788581, 7.287928426478815, 10.233252584650526, 14.26343985448319, 10.523951483702481, 23.37374897739011, 10.852932567423652, 14.122045004501587, 12.097728571582847, 16.384149824540163, 10.725866269796638, 15.313399642671586, 32.80288521358637, 15.799370360587611, 29.068064257610963, 14.8008526702073, 11.849213030540545, 14.611719478268883, 16.48970951974729, 13.380037183168492, 12.745045222315452, 12.484950419738873, 10.934775665992932, 9.214449595870992, 9.097890018856814, 8.316619449237079, 7.935285137695503, 7.3249196928098685, 7.216201394285409, 7.189506685513147, 7.189506685513147, 7.189506685513147, 7.189506685513147, 7.189506685513147, 7.189506685513147, 7.189506685513147, 7.189506685513147, 7.189506685513147, 7.189506685513147, 7.189506685513147, 7.189506685513147, 7.831438580786528, 6.952849009665486, 7.851513989564329, 6.998505134176658, 8.082075991432806, 6.664673977930006, 6.62925158014199, 6.430551537743256, 6.390811681207519, 6.005047167805936, 6.023196237714739, 5.6958854702216275, 10.260814453804649, 9.308598247234737, 9.686091941445556, 9.56357554401318, 7.49195148343268, 9.634647528014668, 17.51308390671145, 9.378836695175247, 38.04372725740302, 26.86228303292928, 25.352123697047883, 16.540440954590725, 15.992710717697525, 10.200414955242906, 14.331239952846758, 11.043664280984279, 15.351644450012149, 13.049141765763423, 11.302991853437772, 18.03677173857279, 14.027361922612311, 8.26265874306853, 14.138354943855918, 9.537996873721534, 15.504744434219516, 18.77487219096823, 11.480732291193535, 17.039122714791667, 13.412691600922747, 10.267695317497743, 12.014179418909846, 10.931448190163566, 12.020691511712034, 10.607243988229975, 11.351578483099757, 10.447344816128394, 10.400771528301304, 9.778164122663958, 15.187835350196435, 15.187835350196396, 15.187835350196318, 15.187835350196316, 15.1878353501963, 14.847770509359945, 13.563698957222844, 12.711341051040648, 12.109091966677656, 11.82206846346218, 11.247784026820177, 11.105859054211855, 11.058596331512032, 11.055141125871668, 11.029735522162468, 11.029735522162468, 11.029735522162468, 11.029735522162468, 10.991290725377215, 11.055920658654163, 10.901021691658816, 10.872972511565875, 10.853754673729254, 10.832724868067492, 10.824827292093362, 10.749214674341642, 10.602549187643675, 10.602549187643675, 10.564104362283315, 10.564104362283315, 10.564104362283315, 10.564104362283315, 10.564104362283315, 18.96767364051005, 17.7348390239249, 14.749556890713627, 16.768523228484934, 15.62658190446155, 13.028028377361009, 11.5008344185778, 12.08074236931248, 11.445642236774933, 11.402962601305397], \"Total\": [93.0, 18.0, 25.0, 18.0, 30.0, 26.0, 15.0, 15.0, 15.0, 15.0, 15.0, 33.0, 16.0, 16.0, 16.0, 16.0, 16.0, 15.0, 16.0, 16.0, 16.0, 16.0, 117.0, 24.0, 14.0, 28.0, 14.0, 16.0, 13.0, 15.0, 16.999250130310468, 15.222425938187493, 13.53007828122476, 13.290086812188411, 13.090339965331953, 13.021615162364919, 13.021615162364922, 13.021615162364919, 13.021615162364919, 13.021615162364917, 13.021615162364924, 13.021615162364919, 11.293005379550733, 9.508649770815424, 11.209904222529994, 9.307966861091263, 8.895849980313674, 8.805303226658648, 8.807999072243803, 8.308298803567602, 8.308298803567602, 8.308298803567602, 7.599341669302278, 7.599341669302278, 7.599341669302278, 7.599341669302278, 7.599341669302278, 7.599341669302278, 7.599341669302278, 7.599341669302278, 15.205318406364146, 10.244573241506371, 12.373768302965178, 12.375568120461628, 73.64021365071918, 7.70960985764168, 37.89743434431248, 18.021722165727905, 19.153876386007113, 114.78798269878398, 48.02150875763934, 30.978873675388396, 32.79266268665452, 19.10222844437604, 25.65312080451608, 28.32256098912039, 20.250136422573433, 54.395312949671116, 61.88313604246299, 49.49616720457092, 117.73151148235894, 36.59787415851834, 18.354690931168626, 13.741951788915786, 12.533164808342766, 11.582030494297893, 11.19395115805055, 11.045860948477571, 10.84917279172769, 10.224601695684644, 9.92584041352054, 9.782869045642514, 9.645006476244552, 9.5435103880796, 9.474584469098005, 9.474584469098005, 9.467500073006129, 9.435514924850734, 9.396297069685733, 9.32635885717047, 9.30522031057896, 9.511549729703374, 9.156433172293191, 9.156666057591433, 8.854914410545568, 8.808810929836369, 8.749223026089537, 8.578940789989835, 8.399774062041818, 8.399774062041818, 8.399774062041818, 8.171348851208663, 8.171348851208663, 16.86528769026319, 25.80006464425291, 15.593263219147362, 10.29273784264044, 24.92390939738901, 24.359479630714155, 17.207942223943437, 30.535574162031892, 117.73151148235894, 16.47125104046953, 28.02069748390521, 36.99561401313896, 25.087035691977455, 19.88268813455957, 17.688655057449903, 36.59787415851834, 93.55399094397417, 21.478422432351877, 17.999569268232317, 18.449519774918517, 114.78798269878398, 52.06717746057964, 27.77961220158465, 59.58879869021422, 30.266041655518666, 61.88313604246299, 73.64021365071918, 49.49616720457092, 18.411893296139333, 16.408321204981046, 16.408321204981046, 16.408321204981046, 16.408321204981046, 16.408321204981046, 16.232368336283624, 16.232368336283624, 16.232368336283624, 16.232368336283624, 14.930510481484767, 12.089296878154418, 11.16052588697095, 10.783918746777472, 10.783918746777504, 10.495337330351678, 10.502199449959647, 10.35489166591297, 11.664090766856958, 10.287329952234456, 10.178605989686275, 10.175135018053858, 10.024282361259022, 10.130431080582955, 10.1304310805943, 9.959616422671004, 9.828391758979656, 12.463874195693553, 7.945630678905608, 7.945681882570114, 11.18526731042274, 15.69455041646779, 11.652910229079447, 33.487102035658026, 12.247597111974299, 17.762130395196074, 14.797330156292109, 24.05416207980037, 12.483875458832598, 23.447131252254252, 114.78798269878398, 28.296380953576747, 117.73151148235894, 28.083629113042118, 17.589353519562156, 49.49616720457092, 93.55399094397417, 56.471349225189186, 59.965324575678956, 52.06717746057964, 18.881183984386183, 9.868178543757619, 9.748531803491279, 8.970183924747964, 8.628054152679152, 7.9756387411072955, 7.867546247298481, 7.840054126892446, 7.840054126892446, 7.840054126892446, 7.840054126892446, 7.840054126892446, 7.840054126892446, 7.840054126892446, 7.840054126892446, 7.840054126892446, 7.840054126892446, 7.840054126892446, 7.840054126892446, 8.549122934718508, 7.6098336018353825, 8.595416504348776, 7.663125750494656, 8.870549610227393, 7.3206203467640005, 7.291445722163713, 7.086193751601773, 7.0560082226250245, 6.656204954108961, 6.681368184031296, 6.351212033533034, 11.507169733172741, 10.51845624080767, 11.067515562632032, 11.191855649869112, 8.511588746733285, 11.688112669809394, 26.85995199328595, 11.63806365442751, 93.55399094397417, 56.471349225189186, 59.58879869021422, 30.978873675388396, 29.752310118889664, 14.39510513865071, 28.458473477449523, 18.146979090915607, 35.02413165673146, 25.833837386818622, 19.95836945429658, 54.395312949671116, 35.331526636577564, 10.700100282244202, 38.287234023171386, 15.500540489614691, 61.88313604246299, 114.78798269878398, 30.27357553023183, 117.73151148235894, 55.66765924589895, 22.40644501595027, 48.02150875763934, 32.137459738831076, 59.965324575678956, 27.892656414425943, 73.64021365071918, 34.59036033512106, 33.353804332886696, 27.024628899517534, 15.838803614801414, 15.838803614801412, 15.838803614801414, 15.838803614801419, 15.83880361480141, 15.498739561398672, 14.21475256716655, 13.368128633549986, 12.761062193657558, 12.478652715837113, 11.898781617157121, 11.755859094521147, 11.70897989643082, 11.705517074301598, 11.679626448582944, 11.679626448582944, 11.679626448582944, 11.679626448582944, 11.641181988406183, 11.71052511065654, 11.550913834788023, 11.522864941458515, 11.503650417539433, 11.4826237730604, 11.474720087196783, 11.399602564474709, 11.252443986182175, 11.252443986182175, 11.213999526232815, 11.213999526232815, 11.213999526232815, 11.213999526232815, 11.213999526232815, 43.21126628702298, 59.965324575678956, 55.66765924589895, 114.78798269878398, 93.55399094397417, 59.58879869021422, 23.155859623708963, 54.395312949671116, 29.693933211563508, 42.670909509449416], \"Category\": [\"Default\", \"Default\", \"Default\", \"Default\", \"Default\", \"Default\", \"Default\", \"Default\", \"Default\", \"Default\", \"Default\", \"Default\", \"Default\", \"Default\", \"Default\", \"Default\", \"Default\", \"Default\", \"Default\", \"Default\", \"Default\", \"Default\", \"Default\", \"Default\", \"Default\", \"Default\", \"Default\", \"Default\", \"Default\", \"Default\", \"Topic1\", \"Topic1\", \"Topic1\", \"Topic1\", \"Topic1\", \"Topic1\", \"Topic1\", \"Topic1\", \"Topic1\", \"Topic1\", \"Topic1\", \"Topic1\", \"Topic1\", \"Topic1\", \"Topic1\", \"Topic1\", \"Topic1\", \"Topic1\", \"Topic1\", \"Topic1\", \"Topic1\", \"Topic1\", \"Topic1\", \"Topic1\", \"Topic1\", \"Topic1\", \"Topic1\", \"Topic1\", \"Topic1\", \"Topic1\", \"Topic1\", \"Topic1\", \"Topic1\", \"Topic1\", \"Topic1\", \"Topic1\", \"Topic1\", \"Topic1\", \"Topic1\", \"Topic1\", \"Topic1\", \"Topic1\", \"Topic1\", \"Topic1\", \"Topic1\", \"Topic1\", \"Topic1\", \"Topic1\", \"Topic1\", \"Topic1\", \"Topic1\", \"Topic1\", \"Topic2\", \"Topic2\", \"Topic2\", \"Topic2\", \"Topic2\", \"Topic2\", \"Topic2\", \"Topic2\", \"Topic2\", \"Topic2\", \"Topic2\", \"Topic2\", \"Topic2\", \"Topic2\", \"Topic2\", \"Topic2\", \"Topic2\", \"Topic2\", \"Topic2\", \"Topic2\", \"Topic2\", \"Topic2\", \"Topic2\", \"Topic2\", \"Topic2\", \"Topic2\", \"Topic2\", \"Topic2\", \"Topic2\", \"Topic2\", \"Topic2\", \"Topic2\", \"Topic2\", \"Topic2\", \"Topic2\", \"Topic2\", \"Topic2\", \"Topic2\", \"Topic2\", \"Topic2\", \"Topic2\", \"Topic2\", \"Topic2\", \"Topic2\", \"Topic2\", \"Topic2\", \"Topic2\", \"Topic2\", \"Topic2\", \"Topic2\", \"Topic2\", \"Topic2\", \"Topic2\", \"Topic2\", \"Topic2\", \"Topic2\", \"Topic2\", \"Topic2\", \"Topic2\", \"Topic3\", \"Topic3\", \"Topic3\", \"Topic3\", \"Topic3\", \"Topic3\", \"Topic3\", \"Topic3\", \"Topic3\", \"Topic3\", \"Topic3\", \"Topic3\", \"Topic3\", \"Topic3\", \"Topic3\", \"Topic3\", \"Topic3\", \"Topic3\", \"Topic3\", \"Topic3\", \"Topic3\", \"Topic3\", \"Topic3\", \"Topic3\", \"Topic3\", \"Topic3\", \"Topic3\", \"Topic3\", \"Topic3\", \"Topic3\", \"Topic3\", \"Topic3\", \"Topic3\", \"Topic3\", \"Topic3\", \"Topic3\", \"Topic3\", \"Topic3\", \"Topic3\", \"Topic3\", \"Topic3\", \"Topic3\", \"Topic3\", \"Topic3\", \"Topic3\", \"Topic3\", \"Topic3\", \"Topic3\", \"Topic3\", \"Topic3\", \"Topic3\", \"Topic4\", \"Topic4\", \"Topic4\", \"Topic4\", \"Topic4\", \"Topic4\", \"Topic4\", \"Topic4\", \"Topic4\", \"Topic4\", \"Topic4\", \"Topic4\", \"Topic4\", \"Topic4\", \"Topic4\", \"Topic4\", \"Topic4\", \"Topic4\", \"Topic4\", \"Topic4\", \"Topic4\", \"Topic4\", \"Topic4\", \"Topic4\", \"Topic4\", \"Topic4\", \"Topic4\", \"Topic4\", \"Topic4\", \"Topic4\", \"Topic4\", \"Topic4\", \"Topic4\", \"Topic4\", \"Topic4\", \"Topic4\", \"Topic4\", \"Topic4\", \"Topic4\", \"Topic4\", \"Topic4\", \"Topic4\", \"Topic4\", \"Topic4\", \"Topic4\", \"Topic4\", \"Topic4\", \"Topic4\", \"Topic4\", \"Topic4\", \"Topic4\", \"Topic4\", \"Topic4\", \"Topic4\", \"Topic4\", \"Topic4\", \"Topic4\", \"Topic4\", \"Topic4\", \"Topic4\", \"Topic4\", \"Topic4\", \"Topic4\", \"Topic4\", \"Topic4\", \"Topic4\", \"Topic4\", \"Topic4\", \"Topic5\", \"Topic5\", \"Topic5\", \"Topic5\", \"Topic5\", \"Topic5\", \"Topic5\", \"Topic5\", \"Topic5\", \"Topic5\", \"Topic5\", \"Topic5\", \"Topic5\", \"Topic5\", \"Topic5\", \"Topic5\", \"Topic5\", \"Topic5\", \"Topic5\", \"Topic5\", \"Topic5\", \"Topic5\", \"Topic5\", \"Topic5\", \"Topic5\", \"Topic5\", \"Topic5\", \"Topic5\", \"Topic5\", \"Topic5\", \"Topic5\", \"Topic5\", \"Topic5\", \"Topic5\", \"Topic5\", \"Topic5\", \"Topic5\", \"Topic5\", \"Topic5\", \"Topic5\", \"Topic5\", \"Topic5\", \"Topic5\"], \"logprob\": [30.0, 29.0, 28.0, 27.0, 26.0, 25.0, 24.0, 23.0, 22.0, 21.0, 20.0, 19.0, 18.0, 17.0, 16.0, 15.0, 14.0, 13.0, 12.0, 11.0, 10.0, 9.0, 8.0, 7.0, 6.0, 5.0, 4.0, 3.0, 2.0, 1.0, -6.7133, -6.83, -6.9516, -6.9702, -6.9861, -6.9916, -6.9916, -6.9916, -6.9916, -6.9916, -6.9916, -6.9916, -7.1422, -7.3255, -7.1617, -7.3493, -7.3974, -7.4081, -7.4083, -7.471, -7.471, -7.471, -7.568, -7.568, -7.568, -7.568, -7.568, -7.568, -7.568, -7.568, -6.8791, -7.2952, -7.1917, -7.216, -6.0415, -7.5586, -6.6349, -7.081, -7.0933, -6.2221, -6.6542, -6.8718, -6.8813, -7.1079, -7.0673, -7.045, -7.1794, -6.9951, -6.9802, -7.0814, -7.0171, -7.1221, -6.5011, -6.8045, -6.9036, -6.9833, -7.019, -7.0331, -7.0523, -7.1172, -7.1471, -7.1626, -7.1782, -7.1892, -7.1969, -7.1969, -7.1977, -7.2016, -7.2061, -7.2139, -7.2163, -7.1955, -7.2336, -7.2336, -7.2698, -7.2757, -7.2835, -7.3041, -7.3268, -7.3268, -7.3268, -7.3567, -7.3567, -6.6858, -6.3062, -6.7738, -7.1453, -6.4078, -6.4818, -6.7928, -6.3901, -5.4553, -6.8381, -6.4874, -6.3541, -6.6183, -6.8424, -6.9265, -6.6422, -6.27, -6.881, -6.9516, -6.9654, -6.3926, -6.6461, -6.845, -6.6501, -6.84, -6.7312, -6.7647, -6.9589, -6.4413, -6.5606, -6.5606, -6.5606, -6.5606, -6.5606, -6.5718, -6.5718, -6.5718, -6.5718, -6.6592, -6.8814, -6.966, -7.0024, -7.0024, -7.0313, -7.031, -7.0457, -6.9272, -7.0528, -7.064, -7.065, -7.0803, -7.0706, -7.0706, -7.0889, -7.1023, -6.8803, -7.3312, -7.3316, -6.9922, -6.6601, -6.9642, -6.1662, -6.9334, -6.6701, -6.8248, -6.5215, -6.9452, -6.5891, -5.8273, -6.5579, -5.9482, -6.6232, -6.8456, -6.636, -6.5151, -6.7241, -6.7727, -6.7933, -6.9259, -7.0817, -7.0945, -7.1843, -7.2312, -7.3112, -7.3262, -7.3299, -7.3299, -7.3299, -7.3299, -7.3299, -7.3299, -7.3299, -7.3299, -7.3299, -7.3299, -7.3299, -7.3299, -7.2444, -7.3634, -7.2418, -7.3568, -7.2129, -7.4057, -7.411, -7.4415, -7.4477, -7.5099, -7.5069, -7.5628, -6.9742, -7.0716, -7.0318, -7.0446, -7.2887, -7.0371, -6.4396, -7.0641, -5.6638, -6.0118, -6.0696, -6.4967, -6.5304, -6.9801, -6.6401, -6.9007, -6.5713, -6.7338, -6.8774, -6.4101, -6.6615, -7.1908, -6.6536, -7.0472, -6.5614, -6.37, -6.8618, -6.467, -6.7063, -6.9735, -6.8164, -6.9109, -6.8159, -6.941, -6.8732, -6.9562, -6.9606, -7.0224, -6.5264, -6.5264, -6.5264, -6.5264, -6.5264, -6.549, -6.6395, -6.7044, -6.7529, -6.7769, -6.8267, -6.8394, -6.8437, -6.844, -6.8463, -6.8463, -6.8463, -6.8463, -6.8498, -6.8439, -6.858, -6.8606, -6.8624, -6.8643, -6.865, -6.8721, -6.8858, -6.8858, -6.8894, -6.8894, -6.8894, -6.8894, -6.8894, -6.3042, -6.3714, -6.5557, -6.4274, -6.4979, -6.6798, -6.8045, -6.7553, -6.8093, -6.813], \"loglift\": [30.0, 29.0, 28.0, 27.0, 26.0, 25.0, 24.0, 23.0, 22.0, 21.0, 20.0, 19.0, 18.0, 17.0, 16.0, 15.0, 14.0, 13.0, 12.0, 11.0, 10.0, 9.0, 8.0, 7.0, 6.0, 5.0, 4.0, 3.0, 2.0, 1.0, 1.4168, 1.4105, 1.4068, 1.4061, 1.4053, 1.405, 1.405, 1.405, 1.405, 1.405, 1.405, 1.405, 1.3969, 1.3856, 1.3848, 1.3831, 1.3802, 1.3798, 1.3793, 1.3751, 1.3751, 1.3751, 1.3672, 1.3672, 1.3672, 1.3672, 1.3672, 1.3672, 1.3672, 1.3672, 1.3626, 1.3414, 1.256, 1.2316, 0.6226, 1.3622, 0.6934, 0.9907, 0.9175, -0.0019, 0.4375, 0.6582, 0.5918, 0.9055, 0.6513, 0.5746, 0.7757, -0.0281, -0.1422, -0.02, -0.8222, 0.2412, 1.5523, 1.5383, 1.5312, 1.5305, 1.5289, 1.5281, 1.5269, 1.5213, 1.5211, 1.52, 1.5187, 1.5182, 1.5177, 1.5177, 1.5177, 1.5172, 1.5168, 1.5166, 1.5164, 1.5153, 1.5152, 1.5152, 1.5125, 1.5118, 1.5108, 1.5099, 1.5082, 1.5082, 1.5082, 1.5059, 1.5059, 1.4522, 1.4067, 1.4427, 1.4865, 1.3396, 1.2886, 1.3251, 1.1543, 0.7396, 1.3236, 1.1429, 0.9984, 1.1226, 1.131, 1.1639, 0.7211, 0.1547, 1.0153, 1.1213, 1.0828, -0.1724, 0.3647, 0.7939, 0.2257, 0.7132, 0.1068, -0.1007, 0.1025, 1.609, 1.6049, 1.6049, 1.6049, 1.6049, 1.6049, 1.6045, 1.6045, 1.6045, 1.6045, 1.6007, 1.5895, 1.5849, 1.5829, 1.5829, 1.581, 1.5806, 1.5802, 1.5796, 1.5796, 1.579, 1.5784, 1.5779, 1.5771, 1.5771, 1.5758, 1.5757, 1.5602, 1.5595, 1.559, 1.5565, 1.5498, 1.5435, 1.2859, 1.5245, 1.4161, 1.444, 1.2614, 1.4936, 1.2194, 0.3929, 1.0627, 0.2467, 1.0049, 1.2504, 0.4254, -0.0904, 0.2055, 0.0968, 0.2174, 1.0992, 1.5922, 1.5917, 1.5851, 1.5771, 1.5757, 1.5743, 1.5741, 1.5741, 1.5741, 1.5741, 1.5741, 1.5741, 1.5741, 1.5741, 1.5741, 1.5741, 1.5741, 1.5741, 1.5731, 1.5705, 1.5702, 1.57, 1.5677, 1.5669, 1.5656, 1.5637, 1.5617, 1.5578, 1.5571, 1.5519, 1.5461, 1.5386, 1.5274, 1.5035, 1.5332, 1.4676, 1.2331, 1.4449, 0.761, 0.9178, 0.8062, 1.0333, 1.04, 1.3163, 0.9748, 1.1641, 0.8359, 0.9778, 1.0922, 0.5569, 0.737, 1.4023, 0.6645, 1.1752, 0.2767, -0.1498, 0.6912, -0.2721, 0.2376, 0.8804, 0.2752, 0.5824, 0.0536, 0.6939, -0.2091, 0.4635, 0.4955, 0.6442, 1.6744, 1.6744, 1.6744, 1.6744, 1.6744, 1.6735, 1.6695, 1.666, 1.6639, 1.6623, 1.6601, 1.6595, 1.6592, 1.6592, 1.6591, 1.6591, 1.6591, 1.6591, 1.6589, 1.6589, 1.6585, 1.6583, 1.6582, 1.6581, 1.6581, 1.6576, 1.6569, 1.6569, 1.6567, 1.6567, 1.6567, 1.6567, 1.6567, 0.893, 0.4981, 0.3882, -0.2072, -0.0732, 0.196, 1.0166, 0.2117, 0.7631, 0.3967]}, \"token.table\": {\"Topic\": [1, 4, 1, 1, 1, 4, 2, 5, 3, 1, 5, 1, 2, 4, 5, 4, 3, 1, 2, 3, 4, 5, 1, 2, 3, 4, 5, 2, 4, 1, 2, 3, 4, 5, 4, 4, 3, 4, 5, 5, 5, 2, 2, 1, 5, 3, 4, 3, 4, 1, 2, 4, 5, 1, 2, 2, 3, 2, 3, 3, 4, 5, 4, 2, 4, 1, 4, 3, 5, 3, 4, 2, 3, 4, 5, 1, 1, 2, 3, 4, 5, 1, 4, 5, 3, 4, 4, 1, 2, 3, 4, 3, 1, 2, 3, 1, 2, 4, 5, 2, 5, 1, 1, 2, 3, 4, 5, 1, 2, 3, 4, 5, 1, 2, 3, 4, 5, 1, 2, 3, 4, 5, 1, 2, 3, 4, 5, 3, 4, 2, 2, 5, 5, 2, 5, 4, 2, 3, 4, 5, 1, 2, 4, 5, 2, 1, 1, 2, 4, 1, 3, 1, 1, 2, 3, 4, 5, 3, 2, 2, 3, 4, 1, 2, 3, 5, 2, 3, 4, 5, 3, 1, 3, 1, 2, 1, 4, 3, 2, 1, 1, 1, 2, 3, 4, 5, 4, 1, 5, 1, 4, 4, 5, 1, 2, 2, 4, 1, 4, 2, 3, 4, 1, 4, 5, 3, 1, 2, 3, 4, 5, 1, 2, 3, 4, 5, 1, 2, 3, 4, 1, 2, 3, 4, 5, 2, 3, 4, 4, 1, 2, 3, 4, 5, 5, 1, 2, 3, 4, 5, 2, 1, 2, 3, 4, 5, 3, 1, 1, 2, 3, 4, 5, 4, 4, 3, 2, 5, 3, 5, 3, 3, 4, 1, 3, 5, 1, 2, 3, 4, 5, 3, 4, 2, 5, 2, 2, 3, 4, 1, 2, 3, 4, 5, 1, 2, 4, 3, 4, 5, 3, 2, 3, 4, 1, 2, 3, 4, 5, 3, 1, 2, 3, 4, 1, 2, 3, 4, 2, 3, 4, 5, 1, 2, 3, 4, 5, 1, 2, 3, 4, 5, 1, 4, 3, 4, 5, 1, 2, 3, 4, 5, 5, 5, 2, 4, 2, 3, 4, 5, 2, 2, 3, 4, 1, 4, 5, 3, 4, 2, 5, 4, 5, 1, 3, 4, 5, 3, 4, 5, 1, 2, 3, 4, 5, 5, 2, 2, 3, 4, 5, 5, 2, 3, 1, 4, 5, 3, 3, 3, 4, 1, 2, 3, 4, 5, 5, 1, 2, 3, 4, 5, 2, 3, 4, 1, 5, 1, 4, 1, 1, 4, 2, 3, 5, 2, 4, 5, 2, 3, 2, 3, 2, 1, 2, 3, 4, 1, 2, 3, 4, 5, 1, 2, 3, 4, 5, 1, 2, 3, 4, 5, 4, 5, 1, 1, 1, 5, 5, 1, 2, 3, 4, 5, 2, 2, 3, 2, 2, 3, 4, 5, 1, 2, 3, 4, 5, 5, 4, 2, 3, 5, 1, 2, 3, 4, 5, 1, 1, 1, 1, 2, 3, 4, 5, 1, 1, 2, 3, 4, 5, 4, 4, 1, 3, 4, 5, 1], \"Freq\": [0.45192088475193654, 0.5487610743416372, 0.9082653091108958, 0.9740542601634367, 0.1869141360589685, 0.747656544235874, 0.9499097326488677, 0.9470412263955625, 0.8884123418252499, 0.9079577474418732, 0.9470412263955627, 0.1666706550192143, 0.6111257350704524, 0.1666706550192143, 0.055556885006404766, 0.8928509786672331, 0.9856848778028146, 0.11321333609906717, 0.22642667219813434, 0.14151667012383395, 0.3962466763467351, 0.14151667012383395, 0.1388526769881283, 0.11571056415677358, 0.18513690265083774, 0.1388526769881283, 0.43970014379573963, 0.08935068779337722, 0.8935068779337723, 0.10192683206821902, 0.42469513361757927, 0.246323177498196, 0.14439634542997695, 0.07644512405116427, 0.9562031178265203, 0.8980196622512452, 0.2778722323646002, 0.6946805809115004, 0.9809167526953958, 0.9649459213850126, 0.9562182090676604, 0.9826735747447796, 0.9828904912982441, 0.8785139007583133, 0.09761265563981258, 0.8811366339142125, 0.0801033303558375, 0.9751149919677893, 0.9307286035473057, 0.5742962822938579, 0.20883501174322106, 0.052208752935805264, 0.1566262588074158, 0.9781726924520635, 0.9574596826503181, 0.9325160524868804, 0.9521814975660573, 0.08581547273096926, 0.9439702000406618, 0.6651655520952899, 0.08314569401191124, 0.20786423502977808, 0.8928509786672331, 0.9067242293902489, 0.8928509786672331, 0.09507098542848662, 0.8556388688563795, 0.9751149919677893, 0.9848922753912307, 0.8920293750695941, 0.06371638393354244, 0.8527110417492929, 0.03875959280678604, 0.11627877842035814, 0.9357036275746604, 0.9215446663392732, 0.13515115597822633, 0.5406046239129053, 0.08109069358693581, 0.05406046239129054, 0.16218138717387162, 0.08555701234665697, 0.8555701234665696, 0.08555701234665697, 0.9528040581488313, 0.8467168991313216, 0.8503391451218915, 0.0336108354613144, 0.0672216709226288, 0.33610835461314403, 0.5377733673810304, 0.9273066901573486, 0.9211324223355645, 0.9460082672161431, 0.9827879416102967, 0.20041717381571428, 0.05010429345392857, 0.5511472279932143, 0.20041717381571428, 0.8336933595808843, 0.0641302584292988, 0.9211324223355645, 0.4287977312321203, 0.19490805965096378, 0.11694483579057825, 0.15592644772077102, 0.07796322386038551, 0.23521626014502672, 0.17423426677409387, 0.2874865401772549, 0.16552255343538919, 0.1480991267579798, 0.4345451814110467, 0.1901135168673329, 0.09505675843366646, 0.1493749061100473, 0.12221583227185688, 0.2109165261173297, 0.14061101741155313, 0.2343516956859219, 0.1640461869801453, 0.25778686525451405, 0.1010307384550771, 0.16838456409179514, 0.13470765127343612, 0.2020614769101542, 0.37044604100194933, 0.8809816581450876, 0.8918434746838011, 0.9499097326488677, 0.9506205366357406, 0.9809167526953958, 0.9397278163943311, 0.9199755161813988, 0.977565408324434, 0.8928509786672331, 0.17055771814828347, 0.6822308725931339, 0.056852572716094486, 0.11370514543218897, 0.070277838394417, 0.24597243438045951, 0.49194486876091903, 0.1756945959860425, 0.9790305304144103, 0.9211324223355645, 0.9608222310169238, 0.9524065696185355, 0.9357685064407618, 0.9207304724470838, 0.06576646231764885, 0.9211324223355645, 0.14243173429969522, 0.1068238007247714, 0.534119003623857, 0.14243173429969522, 0.07121586714984761, 0.9776289548546482, 0.933125345448633, 0.3096713771250219, 0.15483568856251095, 0.5032159878281606, 0.9853882725992111, 0.26481390172008046, 0.582590583784177, 0.10592556068803219, 0.14931121823189886, 0.6868316038667347, 0.08958673093913931, 0.059724487292759545, 0.9098957624142064, 0.9669136272520896, 0.9036492589728018, 0.8920682818950145, 0.9650068304073939, 0.9412179876964832, 0.9198624262049173, 0.9751149919677893, 0.9524065696185355, 0.9215446663392732, 0.9211324223355645, 0.2222394302681312, 0.2222394302681312, 0.30305376854745164, 0.14142509198881076, 0.10101792284915054, 0.9232159448643124, 0.610374519085574, 0.33293155586485856, 0.9211324223355645, 0.9120224122508598, 0.8776726513352782, 0.967820637321964, 0.09715587973660716, 0.8744029176294644, 0.1174868793307003, 0.8224081553149021, 0.9628926678184446, 0.9272079032461646, 0.6784009276582043, 0.11306682127636737, 0.22613364255273474, 0.8080437118249231, 0.1616087423649846, 0.9470412263955628, 0.8884123418242549, 0.20987111185688742, 0.17988952444876063, 0.11992634963250709, 0.29981587408126775, 0.20987111185688742, 0.22060724259648834, 0.055151810649122085, 0.16545543194736625, 0.3309108638947325, 0.22060724259648834, 0.1642071202110786, 0.7389320409498538, 0.04105178005276965, 0.04105178005276965, 0.11563915383496685, 0.31800767304615885, 0.17345873075245027, 0.28909788458741714, 0.08672936537622514, 0.8894007784201585, 0.05929338522801057, 0.05929338522801057, 0.8928509786672331, 0.25902298329524776, 0.07400656665578507, 0.14801313331157015, 0.3700328332789254, 0.1110098499836776, 0.9616422760744325, 0.21007338721618204, 0.22623287854050375, 0.16159491324321695, 0.25855186118914714, 0.16159491324321695, 0.9081815995054632, 0.09824606487112389, 0.6549737658074927, 0.03274868829037463, 0.22924081803262242, 0.03274868829037463, 0.9376772493721037, 0.9085433850567988, 0.4749661899658751, 0.10554804221463891, 0.21109608442927782, 0.13193505276829864, 0.07916103166097918, 0.9134653701263025, 0.9600290898034378, 0.9430653635906242, 0.9217292591767761, 0.9393259393628758, 0.8978198813296022, 0.9418109430490047, 0.9657271483504526, 0.8981353566280735, 0.08164866878437031, 0.8081612452371245, 0.08081612452371245, 0.08081612452371245, 0.10624856820888007, 0.053124284104440034, 0.23020523111924016, 0.4781185569399603, 0.12395666291036009, 0.9751149919677893, 0.9018606908839466, 0.9780332082980369, 0.9523056060613292, 0.9462180460345102, 0.9829154901969308, 0.9157144139861132, 0.8928509786672331, 0.23122475219386135, 0.13212842982506362, 0.06606421491253181, 0.36335318201892497, 0.16516053728132954, 0.1290277588281514, 0.1935416382422271, 0.6451387941407569, 0.8940331708194157, 0.8928509786672331, 0.9418109430490047, 0.9824528044540429, 0.7892539533311261, 0.06071184256393278, 0.18213552769179833, 0.033563354925100104, 0.2517251619382508, 0.06712670985020021, 0.41954193656375127, 0.21816180701315066, 0.9856166377286619, 0.07972245204879176, 0.6377796163903341, 0.15944490409758352, 0.11958367807318764, 0.13389004805824475, 0.2677800961164895, 0.17852006407765966, 0.44630016019414914, 0.20894692980846855, 0.2350652960345271, 0.36565712716481996, 0.18282856358240998, 0.08637122665712776, 0.04318561332856388, 0.08637122665712776, 0.30229929329994715, 0.5182273599427666, 0.06223267228502937, 0.3111633614251469, 0.1866980168550881, 0.3422796975676615, 0.09334900842754405, 0.17184989353784233, 0.7733245209202906, 0.8825506281025091, 0.08023187528204628, 0.9470412263955625, 0.42369049905513795, 0.07061508317585632, 0.24715279111549715, 0.10592262476378449, 0.14123016635171265, 0.9470412263955622, 0.9418109430490047, 0.9790305304144103, 0.9014145509891672, 0.7623202161852831, 0.12036634992399207, 0.08024423328266138, 0.9724622163923458, 0.9524065696185355, 0.13515951721531075, 0.8109571032918644, 0.06757975860765537, 0.3306335434641904, 0.6061614963510158, 0.05510559057736507, 0.972069530814257, 0.8928509786672331, 0.9143669073407538, 0.9449212297303868, 0.9447015732306353, 0.958629048587733, 0.5758490446301072, 0.15704973944457468, 0.15704973944457468, 0.10469982629638312, 0.6397371106351388, 0.08529828141801851, 0.25589484425405556, 0.3005639057710049, 0.40985987150591574, 0.10929596573491086, 0.08197197430118315, 0.08197197430118315, 0.940360592080194, 0.9806757339309748, 0.5962214807864061, 0.16260585839629257, 0.10840390559752838, 0.10840390559752838, 0.9418109430490047, 0.9538430145763747, 0.9856848778028146, 0.08690234203439366, 0.8690234203439366, 0.9579692078571195, 0.9751149919677893, 0.9856848778028146, 0.3350713360265754, 0.6701426720531508, 0.19205957548920444, 0.2880893632338067, 0.23047149058704533, 0.15364766039136354, 0.11523574529352267, 0.9809167526953958, 0.35400803597816183, 0.16659201693089967, 0.12494401269817476, 0.24988802539634952, 0.08329600846544984, 0.0562995529112014, 0.7881937407568196, 0.1688986587336042, 0.9211324223355645, 0.9546237030361017, 0.09035451491718383, 0.9035451491718381, 0.921544666339273, 0.9215446663392732, 0.8928509786672331, 0.6423822965270228, 0.3211911482635114, 0.035687905362612383, 0.7554651120290007, 0.11622540185061549, 0.11622540185061549, 0.9671990237316617, 0.9856848778028146, 0.9497471108727921, 0.8809873354149083, 0.9430492171142313, 0.9465066246969569, 0.2827216672381129, 0.5654433344762257, 0.14136083361905644, 0.010689014866280381, 0.23515832705816836, 0.1710242378604861, 0.40618256491865445, 0.1710242378604861, 0.10059002014539736, 0.6538351309450828, 0.05029501007269868, 0.10059002014539736, 0.10059002014539736, 0.02855174283265364, 0.25696568549388277, 0.19986219982857548, 0.4282761424898046, 0.08565522849796092, 0.8897310266722137, 0.9394499006145758, 0.9215446663392729, 0.9215446663392732, 0.9211324223355645, 0.9809167526953958, 0.9809167526953958, 0.426924770756646, 0.12197850593047027, 0.060989252965235136, 0.2744516383435581, 0.12197850593047027, 0.9053164843052166, 0.9034531141794633, 0.9273066901573459, 0.9578241229766709, 0.4679690956686009, 0.17998811371869264, 0.1079928682312156, 0.2519833592061697, 0.21511038284961737, 0.2509621133245536, 0.1434069218997449, 0.3943690352242985, 0.03585173047493623, 0.9244643992910041, 0.8928509786672331, 0.5587002508119496, 0.4190251881089623, 0.977565408324434, 0.03304032986479623, 0.42952428824235095, 0.29736296878316604, 0.03304032986479623, 0.23128230905357358, 0.9628926678184446, 0.8992957410144988, 0.9167065203639038, 0.17963751548861293, 0.14371001239089035, 0.16167376393975164, 0.23352877013519682, 0.2694562732329194, 0.9215446663392733, 0.1667630429879446, 0.11673413009156121, 0.21679195588432798, 0.20011565158553352, 0.30017347737830025, 0.8928509786672331, 0.8928509786672331, 0.49382383364354526, 0.1481471500930636, 0.09876476672870906, 0.24691191682177263, 0.9628926678184446], \"Term\": [\"___ ___\", \"___ ___\", \"___ ____\", \"____ ____\", \"_____ _____\", \"_____ _____\", \"accuraci ofn\", \"activ netn\", \"adam laskaedu\", \"albert einsteinn\", \"alink ksand\", \"amateur radio\", \"amateur radio\", \"amateur radio\", \"amateur radio\", \"americanoccupi new\", \"andn slpittedu\", \"anybodi know\", \"anybodi know\", \"anybodi know\", \"anybodi know\", \"anybodi know\", \"anyon els\", \"anyon els\", \"anyon els\", \"anyon els\", \"anyon els\", \"anyon give\", \"anyon give\", \"anyon know\", \"anyon know\", \"anyon know\", \"anyon know\", \"anyon know\", \"anyon netland\", \"appreci itn\", \"appreciatedn thanksn\", \"appreciatedn thanksn\", \"appressian soviet\", \"argicn close\", \"armenia today\", \"artifici intellig\", \"athen georgia\", \"atlanta georgia\", \"atlanta georgia\", \"att bell\", \"att bell\", \"bank njxp\", \"bear arm\", \"believ god\", \"believ god\", \"believ god\", \"believ god\", \"believ speak\", \"bit color\", \"bit key\", \"blah blah\", \"bob vestermann\", \"bob vestermann\", \"brand new\", \"brand new\", \"brand new\", \"bush willn\", \"care taken\", \"carter opinion\", \"center polici\", \"center polici\", \"chastiti intellect\", \"cheersn kentn\", \"clayton cramer\", \"clayton cramer\", \"clipper chip\", \"clipper chip\", \"clipper chip\", \"close road\", \"companyn tratuscom\", \"comput scienc\", \"comput scienc\", \"comput scienc\", \"comput scienc\", \"comput scienc\", \"comput system\", \"comput system\", \"comput system\", \"consent alln\", \"cool tower\", \"could post\", \"could someon\", \"could someon\", \"could someon\", \"could someon\", \"cramer uunetpyramidoptilinkcram\", \"daren tttgo\", \"david sternlight\", \"disclaim applyn\", \"disclaim opinion\", \"disclaim opinion\", \"disclaim opinion\", \"disclaim opinion\", \"do window\", \"do window\", \"domi stanleyn\", \"dont believ\", \"dont believ\", \"dont believ\", \"dont believ\", \"dont believ\", \"dont know\", \"dont know\", \"dont know\", \"dont know\", \"dont know\", \"dont think\", \"dont think\", \"dont think\", \"dont think\", \"dont think\", \"dont want\", \"dont want\", \"dont want\", \"dont want\", \"dont want\", \"email address\", \"email address\", \"email address\", \"email address\", \"email address\", \"emailn thanksn\", \"employ opinion\", \"ensur accuraci\", \"error omiss\", \"escap turk\", \"exist singl\", \"expos event\", \"exterminationn ohanu\", \"fail presidentn\", \"floppi drive\", \"floppi drive\", \"floppi drive\", \"floppi drive\", \"ftp site\", \"ftp site\", \"ftp site\", \"ftp site\", \"gaedu univers\", \"gari daren\", \"georgia institut\", \"georgia usa\", \"give inform\", \"god exist\", \"god exist\", \"gon itnettttselann\", \"gon na\", \"gon na\", \"gon na\", \"gon na\", \"gon na\", \"gordon bank\", \"great care\", \"greatli appreciatedn\", \"greatli appreciatedn\", \"greatli appreciatedn\", \"gun control\", \"hard disk\", \"hard disk\", \"hard disk\", \"hard drive\", \"hard drive\", \"hard drive\", \"hard drive\", \"hard driven\", \"health insur\", \"high jackedn\", \"holi spirit\", \"inform error\", \"institut technolog\", \"instruct set\", \"intellect andn\", \"intellig program\", \"investor packetn\", \"itnettttselann domi\", \"ive seen\", \"ive seen\", \"ive seen\", \"ive seen\", \"ive seen\", \"jake livni\", \"jesu christ\", \"jesu christ\", \"jet gon\", \"jet propuls\", \"jimmi carter\", \"kentn pplecom\", \"key escrow\", \"key escrow\", \"kidney stone\", \"kidney stone\", \"kipl orontoedu\", \"know ftp\", \"know get\", \"know get\", \"know get\", \"know noth\", \"know noth\", \"ksand privat\", \"laskaedu high\", \"last night\", \"last night\", \"last night\", \"last night\", \"last night\", \"last year\", \"last year\", \"last year\", \"last year\", \"last year\", \"law enforc\", \"law enforc\", \"law enforc\", \"law enforc\", \"let know\", \"let know\", \"let know\", \"let know\", \"let know\", \"let known\", \"let known\", \"let known\", \"livni onycom\", \"long time\", \"long time\", \"long time\", \"long time\", \"long time\", \"longer exist\", \"look like\", \"look like\", \"look like\", \"look like\", \"look like\", \"look program\", \"mail list\", \"mail list\", \"mail list\", \"mail list\", \"mail list\", \"make offern\", \"man work\", \"mani peopl\", \"mani peopl\", \"mani peopl\", \"mani peopl\", \"mani peopl\", \"mark singer\", \"mhz mhz\", \"michael adam\", \"michael covington\", \"might serv\", \"minen relat\", \"mountain pass\", \"mutual consent\", \"new jersey\", \"new jersey\", \"new testament\", \"new testament\", \"new testament\", \"new york\", \"new york\", \"new york\", \"new york\", \"new york\", \"njxp skeptic\", \"north carolina\", \"ofn inform\", \"ohanu appressian\", \"ohio state\", \"omiss except\", \"ontario canadan\", \"onycom ten\", \"opinion express\", \"opinion express\", \"opinion express\", \"opinion express\", \"opinion express\", \"opinion mine\", \"opinion mine\", \"opinion mine\", \"opinion minen\", \"opinion standard\", \"pass might\", \"peopl mutual\", \"pgp public\", \"pgp public\", \"pgp public\", \"pleas email\", \"pleas email\", \"pleas email\", \"pleas email\", \"pleas email\", \"pleas emailn\", \"pleas let\", \"pleas let\", \"pleas let\", \"pleas let\", \"pleas post\", \"pleas post\", \"pleas post\", \"pleas post\", \"pleas repli\", \"pleas repli\", \"pleas repli\", \"pleas repli\", \"pleas respond\", \"pleas respond\", \"pleas respond\", \"pleas respond\", \"pleas respond\", \"pleas send\", \"pleas send\", \"pleas send\", \"pleas send\", \"pleas send\", \"polici research\", \"polici research\", \"power play\", \"power play\", \"pplecom alink\", \"previou articl\", \"previou articl\", \"previou articl\", \"previou articl\", \"previou articl\", \"privat activ\", \"proceed work\", \"program gaedu\", \"propuls lab\", \"public key\", \"public key\", \"public key\", \"radar detector\", \"radio ntmi\", \"radio shack\", \"radio shack\", \"radio shack\", \"red sox\", \"red sox\", \"red sox\", \"relat peopl\", \"replac jimmi\", \"research scientist\", \"road mountain\", \"ron baalk\", \"sahak melkonian\", \"san francisco\", \"san francisco\", \"san francisco\", \"san francisco\", \"san jose\", \"san jose\", \"san jose\", \"seem like\", \"seem like\", \"seem like\", \"seem like\", \"seem like\", \"serdar argicn\", \"serial number\", \"serial port\", \"serial port\", \"serial port\", \"serial port\", \"serv way\", \"session key\", \"shame surrend\", \"side effect\", \"side effect\", \"singl turkish\", \"skeptic chastiti\", \"slpittedu shame\", \"someon pleas\", \"someon pleas\", \"someth like\", \"someth like\", \"someth like\", \"someth like\", \"someth like\", \"soul sahak\", \"sound like\", \"sound like\", \"sound like\", \"sound like\", \"sound like\", \"sourc code\", \"sourc code\", \"sourc code\", \"souvien gari\", \"soviet armenia\", \"space shuttl\", \"space shuttl\", \"speak companyn\", \"special investor\", \"standard fail\", \"state univers\", \"state univers\", \"state univers\", \"state universityn\", \"state universityn\", \"state universityn\", \"sternlight great\", \"surrend soon\", \"swap file\", \"system corporationn\", \"taken ensur\", \"technolog atlanta\", \"thank advanc\", \"thank advanc\", \"thank advanc\", \"thank advancen\", \"thank advancen\", \"thank advancen\", \"thank advancen\", \"thank advancen\", \"thank helpn\", \"thank helpn\", \"thank helpn\", \"thank helpn\", \"thank helpn\", \"thank youn\", \"thank youn\", \"thank youn\", \"thank youn\", \"thank youn\", \"tim clock\", \"today longer\", \"today special\", \"tratuscom write\", \"tttgo winnipeg\", \"turk proceed\", \"turkish soul\", \"unit state\", \"unit state\", \"unit state\", \"unit state\", \"unit state\", \"univers georgia\", \"usa amateur\", \"uunetpyramidoptilinkcram opinion\", \"via ftp\", \"video card\", \"video card\", \"video card\", \"video card\", \"want know\", \"want know\", \"want know\", \"want know\", \"want know\", \"way escap\", \"willn americanoccupi\", \"window manag\", \"window manag\", \"work exterminationn\", \"work fine\", \"work fine\", \"work fine\", \"work fine\", \"work fine\", \"work henri\", \"work man\", \"write today\", \"writesn articl\", \"writesn articl\", \"writesn articl\", \"writesn articl\", \"writesn articl\", \"wstratuscom believ\", \"year ago\", \"year ago\", \"year ago\", \"year ago\", \"year ago\", \"year georg\", \"york replac\", \"youv got\", \"youv got\", \"youv got\", \"youv got\", \"zoologyn kipl\"]}, \"R\": 30, \"lambda.step\": 0.01, \"plot.opts\": {\"xlab\": \"PC1\", \"ylab\": \"PC2\"}, \"topic.order\": [5, 2, 1, 4, 3]};\n",
              "\n",
              "function LDAvis_load_lib(url, callback){\n",
              "  var s = document.createElement('script');\n",
              "  s.src = url;\n",
              "  s.async = true;\n",
              "  s.onreadystatechange = s.onload = callback;\n",
              "  s.onerror = function(){console.warn(\"failed to load library \" + url);};\n",
              "  document.getElementsByTagName(\"head\")[0].appendChild(s);\n",
              "}\n",
              "\n",
              "if(typeof(LDAvis) !== \"undefined\"){\n",
              "   // already loaded: just create the visualization\n",
              "   !function(LDAvis){\n",
              "       new LDAvis(\"#\" + \"ldavis_el1401403452895178406357631750\", ldavis_el1401403452895178406357631750_data);\n",
              "   }(LDAvis);\n",
              "}else if(typeof define === \"function\" && define.amd){\n",
              "   // require.js is available: use it to load d3/LDAvis\n",
              "   require.config({paths: {d3: \"https://cdnjs.cloudflare.com/ajax/libs/d3/3.5.5/d3.min\"}});\n",
              "   require([\"d3\"], function(d3){\n",
              "      window.d3 = d3;\n",
              "      LDAvis_load_lib(\"https://cdn.rawgit.com/bmabey/pyLDAvis/files/ldavis.v1.0.0.js\", function(){\n",
              "        new LDAvis(\"#\" + \"ldavis_el1401403452895178406357631750\", ldavis_el1401403452895178406357631750_data);\n",
              "      });\n",
              "    });\n",
              "}else{\n",
              "    // require.js not available: dynamically load d3 & LDAvis\n",
              "    LDAvis_load_lib(\"https://cdnjs.cloudflare.com/ajax/libs/d3/3.5.5/d3.min.js\", function(){\n",
              "         LDAvis_load_lib(\"https://cdn.rawgit.com/bmabey/pyLDAvis/files/ldavis.v1.0.0.js\", function(){\n",
              "                 new LDAvis(\"#\" + \"ldavis_el1401403452895178406357631750\", ldavis_el1401403452895178406357631750_data);\n",
              "            })\n",
              "         });\n",
              "}\n",
              "</script>"
            ],
            "text/plain": [
              "PreparedData(topic_coordinates=                x           y  topics  cluster       Freq\n",
              "topic                                                    \n",
              "4      150.222153  -72.269554       1        1  23.319826\n",
              "1       51.163364 -159.968018       2        1  20.416278\n",
              "0      -73.144554   21.523815       3        1  19.292970\n",
              "3      -66.410133 -110.606438       4        1  18.999446\n",
              "2       54.417324   12.443444       5        1  17.971480, topic_info=                 Term       Freq      Total Category  logprob  loglift\n",
              "11197  thank advancen  93.000000  93.000000  Default  30.0000  30.0000\n",
              "4508      gordon bank  18.000000  18.000000  Default  29.0000  29.0000\n",
              "1883     clipper chip  25.000000  25.000000  Default  28.0000  28.0000\n",
              "10091   serial number  18.000000  18.000000  Default  27.0000  27.0000\n",
              "0             ___ ___  30.000000  30.000000  Default  26.0000  26.0000\n",
              "...               ...        ...        ...      ...      ...      ...\n",
              "8436      pleas email  13.028028  59.588799   Topic5  -6.6798   0.1960\n",
              "8459    pleas respond  11.500834  23.155860   Topic5  -6.8045   1.0166\n",
              "5998        last year  12.080742  54.395313   Topic5  -6.7553   0.2117\n",
              "3131    email address  11.445642  29.693933   Topic5  -6.8093   0.7631\n",
              "2932        dont want  11.402963  42.670910   Topic5  -6.8130   0.3967\n",
              "\n",
              "[303 rows x 6 columns], token_table=       Topic      Freq           Term\n",
              "term                                 \n",
              "0          1  0.451921        ___ ___\n",
              "0          4  0.548761        ___ ___\n",
              "1          1  0.908265       ___ ____\n",
              "12         1  0.974054      ____ ____\n",
              "16         1  0.186914    _____ _____\n",
              "...      ...       ...            ...\n",
              "13332      1  0.493824       youv got\n",
              "13332      3  0.148147       youv got\n",
              "13332      4  0.098765       youv got\n",
              "13332      5  0.246912       youv got\n",
              "13340      1  0.962893  zoologyn kipl\n",
              "\n",
              "[488 rows x 3 columns], R=30, lambda_step=0.01, plot_opts={'xlab': 'PC1', 'ylab': 'PC2'}, topic_order=[5, 2, 1, 4, 3])"
            ]
          },
          "metadata": {
            "tags": []
          },
          "execution_count": 42
        }
      ]
    },
    {
      "cell_type": "markdown",
      "metadata": {
        "id": "1Z_r1_Jb_TWx",
        "colab_type": "text"
      },
      "source": [
        "# LDA Bigram - tf-idf - lem"
      ]
    },
    {
      "cell_type": "code",
      "metadata": {
        "id": "crY1vk7G_U4c",
        "colab_type": "code",
        "colab": {}
      },
      "source": [
        "data_bigram_lem_tfidf = tfidf.fit_transform(df.bigram_lem)"
      ],
      "execution_count": null,
      "outputs": []
    },
    {
      "cell_type": "code",
      "metadata": {
        "id": "HwI2Sk3N_lvQ",
        "colab_type": "code",
        "colab": {
          "base_uri": "https://localhost:8080/",
          "height": 374
        },
        "outputId": "449d2dd5-2b88-4fbf-92ea-dd7ee5cb712e"
      },
      "source": [
        "# Parametri di ricerca\n",
        "search_params = {'n_components': [5,10, 15, 20, 25, 30], 'learning_decay': [.5, .7, .9]}\n",
        "\n",
        "# Inizializzazione Modello\n",
        "lda = LatentDirichletAllocation()\n",
        "\n",
        "# Inizializzazione GridSearchCV\n",
        "model = GridSearchCV(lda, param_grid=search_params)\n",
        "\n",
        "# Grid Search\n",
        "model.fit(data_bigram_lem_tfidf)"
      ],
      "execution_count": null,
      "outputs": [
        {
          "output_type": "execute_result",
          "data": {
            "text/plain": [
              "GridSearchCV(cv=None, error_score=nan,\n",
              "             estimator=LatentDirichletAllocation(batch_size=128,\n",
              "                                                 doc_topic_prior=None,\n",
              "                                                 evaluate_every=-1,\n",
              "                                                 learning_decay=0.7,\n",
              "                                                 learning_method='batch',\n",
              "                                                 learning_offset=10.0,\n",
              "                                                 max_doc_update_iter=100,\n",
              "                                                 max_iter=10,\n",
              "                                                 mean_change_tol=0.001,\n",
              "                                                 n_components=10, n_jobs=None,\n",
              "                                                 perp_tol=0.1,\n",
              "                                                 random_state=None,\n",
              "                                                 topic_word_prior=None,\n",
              "                                                 total_samples=1000000.0,\n",
              "                                                 verbose=0),\n",
              "             iid='deprecated', n_jobs=None,\n",
              "             param_grid={'learning_decay': [0.5, 0.7, 0.9],\n",
              "                         'n_components': [5, 10, 15, 20, 25, 30]},\n",
              "             pre_dispatch='2*n_jobs', refit=True, return_train_score=False,\n",
              "             scoring=None, verbose=0)"
            ]
          },
          "metadata": {
            "tags": []
          },
          "execution_count": 44
        }
      ]
    },
    {
      "cell_type": "code",
      "metadata": {
        "id": "Pj-QdWZU_4mE",
        "colab_type": "code",
        "colab": {
          "base_uri": "https://localhost:8080/",
          "height": 68
        },
        "outputId": "7d79af79-7b6e-42cd-bdb3-e70cb6833377"
      },
      "source": [
        "# Stimato il Miglior modello \n",
        "best_lda_model = model.best_estimator_\n",
        "\n",
        "# Parametri del modello\n",
        "print(\"Best Model Params: \", model.best_params_)\n",
        "\n",
        "# Log Likelihood Score\n",
        "print(\"Best Log Likelihood Score: \", model.best_score_)\n",
        "\n",
        "# Perplessità\n",
        "print(\"Model Perplexity: \", best_lda_model.perplexity(data_bigram_lem_tfidf))"
      ],
      "execution_count": null,
      "outputs": [
        {
          "output_type": "stream",
          "text": [
            "Best Model Params:  {'learning_decay': 0.7, 'n_components': 5}\n",
            "Best Log Likelihood Score:  -148117.6051227355\n",
            "Model Perplexity:  26613.104828399006\n"
          ],
          "name": "stdout"
        }
      ]
    },
    {
      "cell_type": "code",
      "metadata": {
        "id": "Uyft7rn7ABs5",
        "colab_type": "code",
        "colab": {
          "base_uri": "https://localhost:8080/",
          "height": 861
        },
        "outputId": "a764b412-20f3-4afa-b3fb-9e1e3a9aa84b"
      },
      "source": [
        "pyLDAvis.enable_notebook()\n",
        "vis = pyLDAvis.sklearn.prepare(best_lda_model, data_bigram_lem_tfidf, tfidf, mds='tsne')\n",
        "vis"
      ],
      "execution_count": null,
      "outputs": [
        {
          "output_type": "execute_result",
          "data": {
            "text/html": [
              "\n",
              "<link rel=\"stylesheet\" type=\"text/css\" href=\"https://cdn.rawgit.com/bmabey/pyLDAvis/files/ldavis.v1.0.0.css\">\n",
              "\n",
              "\n",
              "<div id=\"ldavis_el1401403452895184407231395896\"></div>\n",
              "<script type=\"text/javascript\">\n",
              "\n",
              "var ldavis_el1401403452895184407231395896_data = {\"mdsDat\": {\"x\": [150.22215270996094, 51.16336441040039, -73.1445541381836, -66.4101333618164, 54.41732406616211], \"y\": [-72.2695541381836, -159.968017578125, 21.523815155029297, -110.60643768310547, 12.44344425201416], \"topics\": [1, 2, 3, 4, 5], \"cluster\": [1, 1, 1, 1, 1], \"Freq\": [24.391288103641546, 22.012990023863882, 18.167558055141605, 18.00503733512761, 17.423126482225353]}, \"tinfo\": {\"Term\": [\"___ ___\", \"someone please\", \"could someone\", \"video card\", \"gordon bank\", \"thanks advancen\", \"please reply\", \"dont speak\", \"amateur radio\", \"chastity intellect\", \"njxp skepticism\", \"intellect andn\", \"bank njxp\", \"skepticism chastity\", \"anyone know\", \"please post\", \"email address\", \"surrender soon\", \"andn slpittedu\", \"slpittedu shameful\", \"shameful surrender\", \"clayton cramer\", \"excellent condition\", \"institute technology\", \"please respond\", \"thanks advance\", \"brand new\", \"appreciatedn thanksn\", \"ksand private\", \"pplecom alink\", \"henry spencer\", \"looking information\", \"orontoedu utzoohenryn\", \"toronto zoologyn\", \"spencer toronto\", \"anyone heard\", \"davidn david\", \"ofn information\", \"program manager\", \"care taken\", \"center policy\", \"jake livni\", \"great care\", \"taken ensure\", \"ensure accuracy\", \"accuracy ofn\", \"error omission\", \"information error\", \"sternlight great\", \"omission excepted\", \"employer opinion\", \"david sternlight\", \"work man\", \"bit key\", \"zoologyn kipling\", \"work henry\", \"man work\", \"kipling orontoedu\", \"jimmy carter\", \"onycom ten\", \"failed presidentn\", \"opinion standard\", \"bush willn\", \"standard failed\", \"let known\", \"policy research\", \"george bush\", \"ive ever\", \"michael adam\", \"laskaedu high\", \"ten year\", \"please let\", \"last year\", \"dont know\", \"year ago\", \"let know\", \"san francisco\", \"dont think\", \"long time\", \"ive seen\", \"window manager\", \"even though\", \"first time\", \"ive never\", \"dont want\", \"anyone else\", \"year old\", \"gon na\", \"much better\", \"ive got\", \"anyone know\", \"opinion expressed\", \"look like\", \"make sure\", \"ksand private\", \"private activity\", \"pplecom alink\", \"activity netn\", \"alink ksand\", \"kentn pplecom\", \"make offern\", \"cheersn kentn\", \"tratuscom write\", \"companyn tratuscom\", \"write today\", \"special investor\", \"believe speak\", \"speak companyn\", \"today special\", \"investor packetn\", \"wstratuscom believe\", \"reply via\", \"blah blah\", \"death penalty\", \"malcolm lee\", \"system corporationn\", \"mark singer\", \"appreciatedn thanks\", \"capital punishment\", \"expressed herein\", \"university pittsburgh\", \"like able\", \"amanda walkern\", \"bob vestermann\", \"please reply\", \"houston texas\", \"believe god\", \"jesus christ\", \"scsi controller\", \"could anyone\", \"david koresh\", \"gun control\", \"floppy drive\", \"dont know\", \"hard drive\", \"many people\", \"something like\", \"writesn article\", \"dont think\", \"ive seen\", \"thanks advancen\", \"dont see\", \"___ ___\", \"gordon bank\", \"njxp skepticism\", \"chastity intellect\", \"bank njxp\", \"skepticism chastity\", \"intellect andn\", \"andn slpittedu\", \"shameful surrender\", \"slpittedu shameful\", \"surrender soon\", \"georgia institute\", \"institute technology\", \"jon livesey\", \"livesey writesn\", \"_____ _____\", \"pdsgicom jon\", \"atlanta georgia\", \"technology atlanta\", \"moral system\", \"maxaxaxaxaxaxaxaxaxaxaxaxaxaxaxn maxaxaxaxaxaxaxaxaxaxaxaxaxaxaxn\", \"___ ____\", \"bear arm\", \"emailn thanksn\", \"____ ___\", \"printer driver\", \"frank odwyer\", \"___ _____\", \"hewlett packard\", \"propulsion lab\", \"opinion mine\", \"____ ____\", \"know good\", \"thanks advance\", \"thanks advancen\", \"please email\", \"anyone know\", \"red wing\", \"could find\", \"mailing list\", \"local bus\", \"tel fax\", \"something like\", \"look like\", \"dont think\", \"dont know\", \"computer science\", \"sound like\", \"stanley cup\", \"dont speak\", \"att bell\", \"serdar argicn\", \"longer exists\", \"way escape\", \"today longer\", \"might serve\", \"closed road\", \"serve way\", \"proceeded work\", \"pass might\", \"mountain pass\", \"road mountain\", \"ohanus appressian\", \"soviet armenia\", \"armenia today\", \"single turkish\", \"sahak melkonian\", \"exists single\", \"argicn closed\", \"work exterminationn\", \"exterminationn ohanus\", \"turk proceeded\", \"escape turk\", \"turkish soul\", \"soul sahak\", \"appressian soviet\", \"university georgia\", \"artificial intelligence\", \"michael covington\", \"amateur radio\", \"someone please\", \"could someone\", \"please post\", \"email address\", \"anonymous ftp\", \"please tell\", \"state university\", \"anyone know\", \"thank youn\", \"please send\", \"send email\", \"dont know\", \"source code\", \"look like\", \"thanks advancen\", \"clayton cramer\", \"excellent condition\", \"appreciatedn thanksn\", \"opinion minen\", \"thanks infon\", \"cramer uunetpyramidoptilinkcramer\", \"uunetpyramidoptilinkcramer opinion\", \"consent alln\", \"mutual consent\", \"relation people\", \"people mutual\", \"minen relation\", \"know ftp\", \"tim clock\", \"white sox\", \"university western\", \"tel email\", \"souviens gary\", \"gary daren\", \"itnettttselanne domi\", \"domi stanleyn\", \"gon itnettttselanne\", \"tttgo winnipeg\", \"jet gon\", \"daren tttgo\", \"cooling tower\", \"ann arbor\", \"gldn souviens\", \"email call\", \"volume number\", \"window driver\", \"video card\", \"email dun\", \"red sox\", \"brand new\", \"please respond\", \"best offer\", \"pgp public\", \"phone number\", \"like sell\", \"united state\", \"new york\", \"help appreciatedn\", \"law enforcement\", \"serial number\", \"public key\", \"best offern\", \"greatly appreciatedn\", \"anyone know\", \"anybody know\", \"serial port\", \"dont know\", \"please email\", \"dont think\", \"clipper chip\", \"year ago\"], \"Freq\": [32.0, 28.0, 31.0, 29.0, 19.0, 96.0, 40.0, 18.0, 19.0, 17.0, 17.0, 17.0, 17.0, 17.0, 128.0, 23.0, 32.0, 17.0, 17.0, 17.0, 17.0, 16.0, 16.0, 17.0, 24.0, 28.0, 25.0, 15.0, 17.0, 17.0, 16.209250593754316, 14.525611764867687, 12.692444056962637, 12.692444056962637, 12.692444056962637, 11.141248253944655, 10.325694347240715, 10.012313245237046, 9.887722201588584, 9.752873067111368, 10.547254489526582, 9.453066141437214, 9.412695836991075, 9.296206803249476, 9.221219940355592, 9.221219940355592, 9.208462229342125, 9.065585026357295, 9.041858556367936, 8.885630056505553, 8.656627642849593, 13.286170918520646, 8.270299710943414, 8.358504821690286, 7.68803339472049, 7.68803339472049, 7.68803339472049, 7.68803339472049, 7.621393883052909, 7.47734257947994, 7.477342579479941, 7.477342579479941, 7.477342579479941, 7.477342579479941, 15.7816387654572, 11.036666573612766, 8.959718706690103, 9.930904786962607, 10.657858276217498, 9.371950656661761, 12.234804822673041, 17.979742328672494, 29.363118246142765, 48.025718206511954, 28.950714720488783, 19.07263497288628, 13.454409352385525, 28.58745155376818, 16.360288847160767, 21.373541317267847, 13.960005544164112, 17.615016882719676, 15.114169468031664, 15.112008587954703, 19.172161497310743, 18.27963818648197, 16.66442563062417, 14.739314489582913, 13.227555523715827, 14.690231369702834, 20.74799015871374, 13.891473496786793, 15.381882418562325, 13.003635381782674, 16.392676377318825, 16.392676377318825, 16.392676377318825, 16.392676377318825, 16.392676377318825, 16.01301675718786, 15.468941450843166, 14.588573528632518, 12.748417523462392, 12.748417523462392, 12.748417523462392, 12.748417523462392, 12.748417523462392, 12.748417523462392, 12.748417523462392, 12.748417523462392, 12.748417523462392, 11.680827021885404, 10.487940958409235, 8.894020581076935, 7.904961324394955, 7.83658535620033, 7.4726930088162735, 7.398525518331283, 6.697356134140709, 6.4946459614485565, 6.436638887624264, 6.7279144346927975, 6.327736678724737, 11.268523540281628, 31.018745046921005, 7.784005003167833, 11.490054842546424, 14.786387673796495, 9.343020143915643, 9.676600753445832, 13.497118842254833, 11.209586634328774, 12.771788243963805, 31.252593518624103, 15.845222052977592, 15.332477891135806, 17.140202600314957, 16.74776602890265, 17.913887629899136, 15.962162748225941, 16.70103299681478, 13.423485109450773, 31.44186397850698, 18.6761789633749, 16.544962536834483, 16.544962536834483, 16.544962536834483, 16.544962536834483, 16.544962536834483, 16.354454867131867, 16.354454867131867, 16.354454867131867, 16.354454867131867, 13.067203064555203, 16.46541449388965, 10.862731179533704, 10.679528520129814, 10.643080438470406, 10.511730514753587, 9.765148577264258, 8.918213028812668, 9.847207879548025, 8.341406239601397, 8.367278862391396, 8.297019901682045, 7.697859700688791, 7.59556365640958, 7.59604101767183, 7.105919070003916, 6.707567042583618, 6.60582658338973, 6.483380958415776, 13.96986249201304, 9.733611384361634, 9.142327438198258, 19.364387551213234, 47.169995291721676, 30.825827945491632, 44.9903446340944, 11.988191380512356, 13.885183891101056, 16.927073742483536, 13.078799508855225, 10.51880286432699, 15.406629294805958, 15.543185654129587, 15.747703514885142, 16.547294072935, 12.627524520889008, 12.017978693764233, 10.727390687643632, 17.632416988797466, 12.697754655889886, 12.75746899653014, 11.992828192994132, 11.758613344334503, 11.581818959856461, 11.552705540084713, 11.519508264275728, 11.51950826427055, 11.51950826426867, 11.519508264265658, 11.519508264248495, 11.480475342720935, 11.388923870300964, 11.357817341763752, 11.340965431186769, 11.316730970422588, 11.308002188614422, 11.280886011541961, 11.267680657738305, 11.079482899090028, 11.079482899088953, 11.040451809272522, 11.040451809270847, 11.040451809270527, 11.040451809270428, 11.040451809269008, 10.931833513369446, 10.828126885909324, 10.617328591299408, 17.868186364947153, 25.401275028078047, 26.7664332731358, 19.70023792435021, 22.339635915357785, 13.6237090096398, 15.444974510470056, 15.566060149322341, 24.455049653670574, 14.836717415103298, 14.43542177896857, 12.835473663353447, 14.293284081098117, 11.824164038078203, 12.363561137811441, 12.126420395571417, 15.822783096334938, 15.717699509771867, 14.580703657252004, 11.124387696339666, 10.95916699648381, 10.673606008921306, 10.673606008921306, 10.40401544116533, 10.205028962136641, 10.143203159384024, 10.025736778363623, 9.869582631297018, 8.223611476663404, 7.596354511330332, 7.599891068555378, 7.539068712302116, 7.159395226952304, 7.002609725553121, 7.002609725553121, 7.002609725553121, 7.002609725553121, 7.002609725553121, 7.002609725553121, 7.002609725553121, 7.002609725553121, 6.804569543732326, 6.854078168175596, 6.672271532351895, 6.218575668862396, 6.000330874695844, 8.491040068415701, 23.80737053340129, 8.831390381795375, 14.814424868155122, 19.03159427712813, 17.892119927424805, 14.607010451605465, 13.049482041899278, 14.518698667674995, 9.572921338501045, 19.069539452036437, 27.387555585477358, 12.406834043606942, 14.75155979715555, 12.399377368291935, 14.623313351248768, 11.121048383852441, 14.051599033166767, 29.24809164116478, 13.332434445261752, 10.7526197332451, 14.105145125782395, 11.550268122268752, 11.575544364942527, 10.680726482640335, 10.560069036219717], \"Total\": [32.0, 28.0, 31.0, 29.0, 19.0, 96.0, 40.0, 18.0, 19.0, 17.0, 17.0, 17.0, 17.0, 17.0, 128.0, 23.0, 32.0, 17.0, 17.0, 17.0, 17.0, 16.0, 16.0, 17.0, 24.0, 28.0, 25.0, 15.0, 17.0, 17.0, 16.86768388099721, 15.18712494167597, 13.350099122766379, 13.350099122766379, 13.350099122766379, 11.803451533213762, 11.001607175404043, 10.678708940622036, 10.551552187487845, 10.410906396106588, 11.278940673391372, 10.111427472485026, 10.070927572688396, 9.954512637611138, 9.879289169987993, 9.879289169987993, 9.866508309948994, 9.723565424086399, 9.69994194059675, 9.543622733146227, 9.315565652692422, 14.331024179144913, 8.929260335114586, 9.030352643774032, 8.345673055345198, 8.345673055345198, 8.345673055345198, 8.345673055345198, 8.279481300461246, 8.135193155996918, 8.13519315599692, 8.13519315599692, 8.13519315599692, 8.13519315599692, 17.930414480652413, 12.435241588336533, 9.932229682448794, 11.346428912056728, 12.42834698933162, 10.63621244923197, 15.043178036468188, 26.687420955089607, 58.45153430382049, 124.22403500495159, 64.99179999442474, 35.50661362822457, 19.58324574799053, 79.37368133472619, 29.047644793958952, 53.15066822724779, 22.68274656445509, 36.76934695164635, 27.219501882588425, 27.41851646134398, 46.103033277003114, 45.23927926304014, 36.78717727626279, 29.882722842870873, 22.377332227037233, 33.299031246837835, 128.70465343628814, 31.82553885229175, 60.83984818304695, 29.218393139510496, 17.048776939100527, 17.048776939100527, 17.048776939100527, 17.048776939100527, 17.048776939100527, 16.669119365140112, 16.136211294312226, 15.244952304497923, 13.405014790365913, 13.405014790365913, 13.405014790365913, 13.405014790365913, 13.405014790365913, 13.405014790365913, 13.405014790365913, 13.405014790365913, 13.405014790365913, 12.34755767933682, 11.144692475363751, 9.553816806731644, 8.560886962275033, 8.49625480561773, 8.133162351204069, 8.057779856554784, 7.355506153254739, 7.153337170063537, 7.097500390302728, 7.4225952032351685, 6.985176246032774, 12.4434181501549, 40.97898459628001, 8.896130442311813, 14.210063547918136, 19.365278876904906, 11.197630994998873, 12.218600524518113, 20.44600290788632, 15.353258111806912, 18.99587446318482, 124.22403500495159, 36.7037812469678, 40.19281800019089, 56.215675935664294, 59.43237810820014, 79.37368133472619, 53.15066822724779, 96.22795555291452, 31.703216486526966, 32.10180793471766, 19.335463521904753, 17.202895974786987, 17.202895974786987, 17.202895974786987, 17.202895974786987, 17.202895974786987, 17.01217154760866, 17.01217154760866, 17.01217154760866, 17.01217154760866, 13.730142317681564, 17.374546465604098, 11.527070134415782, 11.340431105968497, 11.304505306167577, 11.173485013080088, 10.448529729033194, 9.576396784561734, 10.586193012639196, 8.99892253843684, 9.029128834999044, 8.959341663424068, 8.358206617717233, 8.265816883365897, 8.275924776219348, 7.766535171215986, 7.3667404159047125, 7.275081246292514, 7.142828264980952, 16.452301149247923, 11.524186336912404, 10.791473012325485, 28.014978635092568, 96.22795555291452, 63.424716280762716, 128.70465343628814, 16.5620005049636, 21.900654350959915, 31.390847575374547, 20.550314709421933, 15.810601840187271, 56.215675935664294, 60.83984818304695, 79.37368133472619, 124.22403500495159, 36.9289416349589, 48.21346628171302, 19.594484007529815, 18.460306503871607, 13.35988748385628, 13.42569004311362, 12.65789535216993, 12.41989971390091, 12.23928989736731, 12.21064654910102, 12.177258835103617, 12.177258835103617, 12.177258835103615, 12.17725883510361, 12.177258835103594, 12.138200198236216, 12.046381542425928, 12.015304566640271, 11.998470096724649, 11.974228823865065, 11.965516288324986, 11.938378891875038, 11.92505747256902, 11.736902591562915, 11.736902591562913, 11.69784396161298, 11.697843961612978, 11.697843961612973, 11.697843961612978, 11.697843961612977, 11.589511619055163, 11.487489215644763, 11.277796311509407, 19.351040307530567, 28.447978951688864, 31.447242491230227, 23.825194876583545, 32.221875665462335, 17.417215286569466, 24.455285302262325, 29.82091888857646, 128.70465343628814, 36.91942543087063, 34.11907533465839, 24.285520383088723, 124.22403500495159, 18.95521538125293, 60.83984818304695, 96.22795555291452, 16.48229295233885, 16.415339113509603, 15.24241983123163, 11.783358416553652, 11.617279138949181, 11.330909816946, 11.330909816946, 11.061364721422288, 10.86236208549887, 10.800918688073907, 10.683060015399631, 10.526895593731009, 8.884070569528449, 8.255534458352765, 8.26366675266512, 8.20313313783746, 7.8176501612925335, 7.659679558936082, 7.659679558936082, 7.659679558936082, 7.659679558936082, 7.659679558936082, 7.659679558936082, 7.659679558936082, 7.659679558936082, 7.4654619796206125, 7.524275528602788, 7.3293440154472105, 6.878344244785283, 6.658213137787295, 9.516965619810207, 29.321040192301723, 10.133115715642413, 18.75423091861639, 25.590067436022647, 24.60295574100025, 19.50465713881027, 17.346917846230948, 21.19322740013161, 12.069686665844225, 34.662820328888415, 60.1340070298803, 18.793874212243892, 26.074846856092968, 19.660249511785366, 26.503869979242836, 17.647806011998775, 28.343961517224642, 128.70465343628814, 37.96344345037048, 19.776654913205142, 124.22403500495159, 63.424716280762716, 79.37368133472619, 27.724328989086345, 64.99179999442474], \"Category\": [\"Default\", \"Default\", \"Default\", \"Default\", \"Default\", \"Default\", \"Default\", \"Default\", \"Default\", \"Default\", \"Default\", \"Default\", \"Default\", \"Default\", \"Default\", \"Default\", \"Default\", \"Default\", \"Default\", \"Default\", \"Default\", \"Default\", \"Default\", \"Default\", \"Default\", \"Default\", \"Default\", \"Default\", \"Default\", \"Default\", \"Topic1\", \"Topic1\", \"Topic1\", \"Topic1\", \"Topic1\", \"Topic1\", \"Topic1\", \"Topic1\", \"Topic1\", \"Topic1\", \"Topic1\", \"Topic1\", \"Topic1\", \"Topic1\", \"Topic1\", \"Topic1\", \"Topic1\", \"Topic1\", \"Topic1\", \"Topic1\", \"Topic1\", \"Topic1\", \"Topic1\", \"Topic1\", \"Topic1\", \"Topic1\", \"Topic1\", \"Topic1\", \"Topic1\", \"Topic1\", \"Topic1\", \"Topic1\", \"Topic1\", \"Topic1\", \"Topic1\", \"Topic1\", \"Topic1\", \"Topic1\", \"Topic1\", \"Topic1\", \"Topic1\", \"Topic1\", \"Topic1\", \"Topic1\", \"Topic1\", \"Topic1\", \"Topic1\", \"Topic1\", \"Topic1\", \"Topic1\", \"Topic1\", \"Topic1\", \"Topic1\", \"Topic1\", \"Topic1\", \"Topic1\", \"Topic1\", \"Topic1\", \"Topic1\", \"Topic1\", \"Topic1\", \"Topic1\", \"Topic1\", \"Topic1\", \"Topic2\", \"Topic2\", \"Topic2\", \"Topic2\", \"Topic2\", \"Topic2\", \"Topic2\", \"Topic2\", \"Topic2\", \"Topic2\", \"Topic2\", \"Topic2\", \"Topic2\", \"Topic2\", \"Topic2\", \"Topic2\", \"Topic2\", \"Topic2\", \"Topic2\", \"Topic2\", \"Topic2\", \"Topic2\", \"Topic2\", \"Topic2\", \"Topic2\", \"Topic2\", \"Topic2\", \"Topic2\", \"Topic2\", \"Topic2\", \"Topic2\", \"Topic2\", \"Topic2\", \"Topic2\", \"Topic2\", \"Topic2\", \"Topic2\", \"Topic2\", \"Topic2\", \"Topic2\", \"Topic2\", \"Topic2\", \"Topic2\", \"Topic2\", \"Topic2\", \"Topic2\", \"Topic2\", \"Topic2\", \"Topic3\", \"Topic3\", \"Topic3\", \"Topic3\", \"Topic3\", \"Topic3\", \"Topic3\", \"Topic3\", \"Topic3\", \"Topic3\", \"Topic3\", \"Topic3\", \"Topic3\", \"Topic3\", \"Topic3\", \"Topic3\", \"Topic3\", \"Topic3\", \"Topic3\", \"Topic3\", \"Topic3\", \"Topic3\", \"Topic3\", \"Topic3\", \"Topic3\", \"Topic3\", \"Topic3\", \"Topic3\", \"Topic3\", \"Topic3\", \"Topic3\", \"Topic3\", \"Topic3\", \"Topic3\", \"Topic3\", \"Topic3\", \"Topic3\", \"Topic3\", \"Topic3\", \"Topic3\", \"Topic3\", \"Topic3\", \"Topic3\", \"Topic3\", \"Topic3\", \"Topic3\", \"Topic3\", \"Topic3\", \"Topic3\", \"Topic4\", \"Topic4\", \"Topic4\", \"Topic4\", \"Topic4\", \"Topic4\", \"Topic4\", \"Topic4\", \"Topic4\", \"Topic4\", \"Topic4\", \"Topic4\", \"Topic4\", \"Topic4\", \"Topic4\", \"Topic4\", \"Topic4\", \"Topic4\", \"Topic4\", \"Topic4\", \"Topic4\", \"Topic4\", \"Topic4\", \"Topic4\", \"Topic4\", \"Topic4\", \"Topic4\", \"Topic4\", \"Topic4\", \"Topic4\", \"Topic4\", \"Topic4\", \"Topic4\", \"Topic4\", \"Topic4\", \"Topic4\", \"Topic4\", \"Topic4\", \"Topic4\", \"Topic4\", \"Topic4\", \"Topic4\", \"Topic4\", \"Topic4\", \"Topic4\", \"Topic4\", \"Topic5\", \"Topic5\", \"Topic5\", \"Topic5\", \"Topic5\", \"Topic5\", \"Topic5\", \"Topic5\", \"Topic5\", \"Topic5\", \"Topic5\", \"Topic5\", \"Topic5\", \"Topic5\", \"Topic5\", \"Topic5\", \"Topic5\", \"Topic5\", \"Topic5\", \"Topic5\", \"Topic5\", \"Topic5\", \"Topic5\", \"Topic5\", \"Topic5\", \"Topic5\", \"Topic5\", \"Topic5\", \"Topic5\", \"Topic5\", \"Topic5\", \"Topic5\", \"Topic5\", \"Topic5\", \"Topic5\", \"Topic5\", \"Topic5\", \"Topic5\", \"Topic5\", \"Topic5\", \"Topic5\", \"Topic5\", \"Topic5\", \"Topic5\", \"Topic5\", \"Topic5\", \"Topic5\", \"Topic5\", \"Topic5\", \"Topic5\", \"Topic5\", \"Topic5\", \"Topic5\", \"Topic5\", \"Topic5\", \"Topic5\"], \"logprob\": [30.0, 29.0, 28.0, 27.0, 26.0, 25.0, 24.0, 23.0, 22.0, 21.0, 20.0, 19.0, 18.0, 17.0, 16.0, 15.0, 14.0, 13.0, 12.0, 11.0, 10.0, 9.0, 8.0, 7.0, 6.0, 5.0, 4.0, 3.0, 2.0, 1.0, -6.7056, -6.8153, -6.9502, -6.9502, -6.9502, -7.0805, -7.1565, -7.1874, -7.1999, -7.2136, -7.1353, -7.2448, -7.2491, -7.2616, -7.2697, -7.2697, -7.271, -7.2867, -7.2893, -7.3067, -7.3328, -6.9044, -7.3785, -7.3679, -7.4515, -7.4515, -7.4515, -7.4515, -7.4602, -7.4793, -7.4793, -7.4793, -7.4793, -7.4793, -6.7323, -7.0899, -7.2984, -7.1955, -7.1249, -7.2534, -6.9869, -6.6019, -6.1114, -5.6194, -6.1256, -6.5429, -6.8919, -6.1382, -6.6963, -6.429, -6.855, -6.6224, -6.7755, -6.7757, -6.5377, -6.5854, -6.6779, -6.8006, -6.9089, -6.804, -6.4587, -6.8599, -6.758, -6.9259, -6.5917, -6.5917, -6.5917, -6.5917, -6.5917, -6.6152, -6.6497, -6.7083, -6.8432, -6.8432, -6.8432, -6.8432, -6.8432, -6.8432, -6.8432, -6.8432, -6.8432, -6.9306, -7.0383, -7.2032, -7.3211, -7.3298, -7.3773, -7.3873, -7.4869, -7.5176, -7.5266, -7.4823, -7.5436, -6.9666, -5.954, -7.3365, -6.9471, -6.6949, -7.1539, -7.1189, -6.7861, -6.9718, -6.8413, -5.9465, -6.6257, -6.6586, -6.5471, -6.5703, -6.503, -6.6184, -6.5731, -6.7916, -5.7484, -6.2693, -6.3905, -6.3905, -6.3905, -6.3905, -6.3905, -6.4021, -6.4021, -6.4021, -6.4021, -6.6265, -6.3953, -6.8112, -6.8283, -6.8317, -6.8441, -6.9178, -7.0085, -6.9094, -7.0753, -7.0723, -7.0807, -7.1556, -7.169, -7.169, -7.2357, -7.2933, -7.3086, -7.3273, -6.5597, -6.921, -6.9837, -6.2331, -5.3428, -5.7682, -5.3901, -6.7127, -6.5658, -6.3677, -6.6256, -6.8434, -6.4618, -6.453, -6.4399, -6.3904, -6.6607, -6.7102, -6.8238, -6.3179, -6.6462, -6.6415, -6.7033, -6.723, -6.7382, -6.7407, -6.7436, -6.7436, -6.7436, -6.7436, -6.7436, -6.7469, -6.755, -6.7577, -6.7592, -6.7613, -6.7621, -6.7645, -6.7657, -6.7825, -6.7825, -6.786, -6.786, -6.786, -6.786, -6.786, -6.7959, -6.8054, -6.8251, -6.3046, -5.9528, -5.9004, -6.207, -6.0812, -6.5758, -6.4503, -6.4425, -5.9908, -6.4905, -6.5179, -6.6354, -6.5278, -6.7174, -6.6728, -6.6922, -6.3933, -6.4, -6.475, -6.7456, -6.7606, -6.787, -6.787, -6.8125, -6.8319, -6.8379, -6.8496, -6.8653, -7.0477, -7.1271, -7.1266, -7.1346, -7.1863, -7.2085, -7.2085, -7.2085, -7.2085, -7.2085, -7.2085, -7.2085, -7.2085, -7.2371, -7.2299, -7.2568, -7.3272, -7.3629, -7.0157, -5.9847, -6.9764, -6.4591, -6.2086, -6.2704, -6.4732, -6.586, -6.4793, -6.8958, -6.2066, -5.8447, -6.6365, -6.4634, -6.6371, -6.4721, -6.7459, -6.512, -5.7789, -6.5645, -6.7796, -6.5082, -6.708, -6.7058, -6.7863, -6.7977], \"loglift\": [30.0, 29.0, 28.0, 27.0, 26.0, 25.0, 24.0, 23.0, 22.0, 21.0, 20.0, 19.0, 18.0, 17.0, 16.0, 15.0, 14.0, 13.0, 12.0, 11.0, 10.0, 9.0, 8.0, 7.0, 6.0, 5.0, 4.0, 3.0, 2.0, 1.0, 1.3711, 1.3664, 1.3604, 1.3604, 1.3604, 1.3532, 1.3475, 1.3465, 1.346, 1.3457, 1.3439, 1.3436, 1.3434, 1.3425, 1.342, 1.342, 1.3419, 1.3409, 1.3407, 1.3395, 1.3376, 1.3352, 1.3343, 1.3336, 1.3289, 1.3289, 1.3289, 1.3289, 1.3281, 1.3266, 1.3266, 1.3266, 1.3266, 1.3266, 1.2833, 1.2916, 1.3079, 1.2777, 1.2573, 1.2844, 1.2043, 1.016, 0.7225, 0.4606, 0.6023, 0.7895, 1.0356, 0.3897, 0.8369, 0.5, 0.9255, 0.675, 0.8226, 0.8152, 0.5335, 0.5048, 0.6191, 0.7042, 0.8852, 0.5926, -0.4141, 0.582, 0.0359, 0.6014, 1.4743, 1.4743, 1.4743, 1.4743, 1.4743, 1.4734, 1.4713, 1.4695, 1.4633, 1.4633, 1.4633, 1.4633, 1.4633, 1.4633, 1.4633, 1.4633, 1.4633, 1.458, 1.4528, 1.442, 1.4338, 1.4327, 1.4288, 1.4282, 1.4198, 1.4169, 1.4158, 1.4153, 1.4147, 1.4144, 1.2351, 1.38, 1.3011, 1.2438, 1.3325, 1.2803, 1.0982, 1.199, 1.1166, 0.1336, 0.6735, 0.5498, 0.3258, 0.247, 0.0249, 0.3106, -0.2377, 0.6541, 1.6848, 1.6708, 1.6665, 1.6665, 1.6665, 1.6665, 1.6665, 1.6661, 1.6661, 1.6661, 1.6661, 1.656, 1.6518, 1.6462, 1.6455, 1.6452, 1.6445, 1.6379, 1.6343, 1.6332, 1.6297, 1.6294, 1.6287, 1.6232, 1.621, 1.6198, 1.6166, 1.6118, 1.609, 1.6087, 1.542, 1.5367, 1.5397, 1.3362, 0.9926, 0.984, 0.6545, 1.3823, 1.2498, 1.0879, 1.2536, 1.298, 0.4111, 0.3409, 0.0881, -0.3103, 0.6324, 0.3163, 1.1031, 1.6686, 1.6637, 1.6635, 1.6605, 1.6598, 1.6593, 1.6591, 1.659, 1.659, 1.659, 1.659, 1.659, 1.6588, 1.6584, 1.6582, 1.6582, 1.658, 1.658, 1.6579, 1.6578, 1.6569, 1.6569, 1.6567, 1.6567, 1.6567, 1.6567, 1.6567, 1.6561, 1.6554, 1.6542, 1.6348, 1.6012, 1.5534, 1.5244, 1.3482, 1.4689, 1.255, 1.0644, 0.0538, 0.8029, 0.8543, 1.0769, -0.4478, 1.2426, 0.121, -0.3568, 1.7065, 1.7039, 1.703, 1.6898, 1.6891, 1.6876, 1.6876, 1.6861, 1.6849, 1.6845, 1.6839, 1.6829, 1.6701, 1.6642, 1.6636, 1.663, 1.6594, 1.6577, 1.6577, 1.6577, 1.6577, 1.6577, 1.6577, 1.6577, 1.6577, 1.6547, 1.6541, 1.6534, 1.6465, 1.6433, 1.6333, 1.5391, 1.6099, 1.5116, 1.4513, 1.4289, 1.4582, 1.4627, 1.3691, 1.5156, 1.1498, 0.9609, 1.3321, 1.1777, 1.2864, 1.1527, 1.2856, 1.0457, 0.2657, 0.7009, 1.138, -0.4282, 0.0442, -0.1779, 0.7935, -0.0698]}, \"token.table\": {\"Topic\": [3, 3, 3, 3, 2, 3, 3, 1, 2, 2, 2, 3, 4, 3, 5, 2, 3, 4, 5, 1, 2, 3, 4, 5, 1, 2, 3, 4, 5, 1, 1, 2, 3, 4, 5, 2, 5, 4, 4, 4, 4, 3, 4, 3, 3, 2, 3, 5, 2, 1, 5, 1, 5, 1, 2, 2, 5, 1, 4, 5, 1, 2, 1, 1, 3, 2, 5, 1, 2, 3, 4, 5, 4, 2, 1, 2, 3, 4, 5, 5, 5, 1, 2, 5, 1, 2, 3, 4, 5, 2, 3, 4, 5, 5, 1, 2, 3, 1, 3, 1, 2, 5, 1, 2, 3, 4, 5, 1, 2, 3, 4, 5, 4, 1, 2, 3, 4, 5, 1, 2, 3, 4, 5, 1, 3, 4, 5, 5, 4, 5, 3, 1, 1, 1, 4, 1, 2, 3, 4, 5, 5, 4, 2, 4, 1, 1, 2, 3, 4, 5, 1, 2, 3, 4, 3, 5, 1, 3, 5, 5, 1, 2, 3, 4, 5, 3, 1, 2, 3, 4, 5, 2, 3, 4, 1, 2, 3, 4, 5, 1, 2, 5, 1, 3, 2, 3, 1, 3, 3, 2, 5, 1, 2, 1, 2, 3, 4, 5, 1, 2, 3, 5, 1, 2, 3, 4, 5, 1, 1, 2, 4, 5, 5, 1, 3, 2, 1, 5, 1, 3, 2, 1, 4, 1, 2, 3, 4, 5, 1, 2, 3, 4, 5, 1, 2, 3, 4, 5, 1, 2, 3, 2, 3, 5, 3, 1, 3, 4, 5, 1, 2, 3, 4, 5, 4, 1, 2, 3, 4, 5, 1, 1, 3, 4, 5, 2, 1, 2, 3, 4, 5, 2, 1, 1, 2, 3, 4, 5, 2, 3, 1, 4, 4, 4, 5, 3, 4, 1, 2, 3, 5, 5, 1, 2, 3, 4, 5, 3, 1, 4, 1, 1, 1, 2, 3, 4, 1, 2, 3, 5, 1, 1, 4, 3, 5, 1, 3, 5, 1, 2, 5, 1, 2, 3, 4, 5, 1, 2, 3, 1, 2, 3, 4, 2, 3, 4, 5, 2, 3, 5, 1, 2, 3, 4, 5, 2, 3, 4, 5, 1, 2, 2, 3, 2, 4, 1, 3, 1, 2, 3, 4, 5, 1, 2, 5, 1, 3, 4, 5, 2, 4, 4, 1, 3, 5, 1, 2, 3, 1, 3, 4, 4, 1, 2, 3, 5, 1, 2, 5, 4, 3, 4, 3, 3, 1, 4, 1, 2, 3, 4, 5, 4, 1, 2, 3, 4, 5, 2, 4, 5, 4, 2, 2, 1, 1, 1, 2, 3, 4, 5, 1, 2, 3, 4, 5, 1, 3, 2, 1, 3, 5, 1, 2, 3, 1, 4, 1, 2, 3, 4, 5, 3, 4, 5, 1, 2, 3, 4, 5, 5, 5, 4, 2, 1, 2, 5, 4, 4, 1, 2, 3, 4, 5, 4, 2, 5, 5, 1, 4, 5, 5, 4, 5, 5, 1, 4, 5, 4, 1, 1, 2, 1, 2, 3, 4, 5, 2, 1, 2, 3, 4, 5, 1, 2, 3, 4, 5, 1], \"Freq\": [0.9656776983726804, 0.8860212481396991, 0.9502167315258016, 0.9678414260663304, 0.08677402211008704, 0.8677402211008705, 0.9730633673990632, 0.9109967169845417, 0.9384837432710372, 0.9384837432710372, 0.8589618627601123, 0.05167680828047494, 0.9301825490485489, 0.940503095399897, 0.9303221251521417, 0.057414459403915555, 0.057414459403915555, 0.8038024316548178, 0.11482891880783111, 0.26341130021761533, 0.026341130021761534, 0.26341130021761533, 0.10536452008704614, 0.3424346902828999, 0.39788432294291104, 0.2431515306873345, 0.1105234230396975, 0.0663140538238185, 0.176837476863516, 0.9319307974491251, 0.16316426360135844, 0.06992754154343933, 0.34963770771719666, 0.18647344411583822, 0.22532207830663784, 0.8687256446086313, 0.984095712234949, 0.9403442237814947, 0.9224274201867025, 0.9167835491795565, 0.9575634669601384, 0.9570724551046766, 0.9730620872150938, 0.9882057082084111, 0.8929227504136249, 0.774099282730623, 0.07037266206642027, 0.14074532413284055, 0.9697863227531093, 0.20507922654230204, 0.7690470995336326, 0.33998560477832707, 0.6233069420935996, 0.885901173030667, 0.8972881057154168, 0.8840014750981481, 0.080363770463468, 0.11723298531745788, 0.11723298531745788, 0.7424755736772333, 0.860458979371608, 0.9516680231315651, 0.9605311602589899, 0.9752688943519818, 0.9882057082084111, 0.9839322354307628, 0.9707387222315805, 0.32462462855432284, 0.07213880634540508, 0.03606940317270254, 0.14427761269081016, 0.39676343489972793, 0.9854434534484371, 0.9697863227531093, 0.21663225767691036, 0.16247419325768275, 0.35202741872497934, 0.18955322546729655, 0.10831612883845518, 0.9040475792858753, 0.9376512825473841, 0.0818424334270834, 0.818424334270834, 0.0818424334270834, 0.09132147231538491, 0.04566073615769246, 0.6392503062076944, 0.09132147231538491, 0.13698220847307738, 0.12719716207599094, 0.031799290518997735, 0.8585808440129388, 0.9707958299649418, 0.9138763503276748, 0.04890931516077822, 0.6358210970901168, 0.2445465758038911, 0.9071228851122954, 0.06977868347017657, 0.9089581040810741, 0.9420318792023076, 0.9138763503276748, 0.38639865464108225, 0.24954913112236563, 0.13684952351871663, 0.11269960760364899, 0.11269960760364899, 0.18925524489131387, 0.4100530305978467, 0.2523403265217518, 0.06308508163043795, 0.06308508163043795, 0.9750650671062765, 0.365360400479654, 0.22677542098737147, 0.20157815198877463, 0.07559180699579049, 0.15118361399158098, 0.4121203888221707, 0.2169054678011425, 0.10845273390057125, 0.1301432806806855, 0.1301432806806855, 0.03103481654458341, 0.12413926617833364, 0.682765963980835, 0.12413926617833364, 0.8723029535122225, 0.09868632985768708, 0.8881769687191837, 0.9571431248232213, 0.9661249070150436, 0.9109967169845417, 0.9121768022963866, 0.9403442237814946, 0.489538202124475, 0.21757253427754447, 0.08158970035407917, 0.05439313356938612, 0.16317940070815834, 0.9746981094549679, 0.921398131155506, 0.8387693544084274, 0.9372149009660661, 0.860458979371608, 0.5510754776006791, 0.22043019104027164, 0.036738365173378605, 0.036738365173378605, 0.11021509552013582, 0.15792902852744084, 0.6843591236189103, 0.10528601901829389, 0.052643009509146944, 0.90130281337592, 0.9138763503276748, 0.9061409459654227, 0.9468219410412598, 0.955065007897966, 0.9138763503276748, 0.5019622903465958, 0.16732076344886526, 0.10039245806931917, 0.10039245806931917, 0.13385661075909222, 0.9826503501441942, 0.8936614760697246, 0.03528088335119632, 0.3528088335119632, 0.10584265005358895, 0.49393236691674847, 0.7164603056820112, 0.13026551012400206, 0.13026551012400206, 0.13622574650705951, 0.43592238882259043, 0.13622574650705951, 0.1634708958084714, 0.10898059720564761, 0.10641765382770486, 0.21283530765540973, 0.6385059229662292, 0.9485593939797079, 0.9621885671128829, 0.8992673895551673, 0.11240842369439591, 0.9255864086342194, 0.9208873469977907, 0.9882057082084111, 0.9697863227531093, 0.9138763503276748, 0.8813345659244372, 0.08813345659244372, 0.4504635551950011, 0.18018542207800042, 0.030030903679666737, 0.1501545183983337, 0.21021632575766716, 0.5470755509747496, 0.1823585169915832, 0.03647170339831664, 0.21883022038989985, 0.39510321695700357, 0.3010310224434313, 0.056443316708143364, 0.1317010723190012, 0.11288663341628673, 0.8900820407890562, 0.051638812245177794, 0.774582183677667, 0.051638812245177794, 0.10327762449035559, 0.9138763503276748, 0.9662441051173488, 0.9542754465558307, 0.9598587453552326, 0.9585805658749352, 0.9004881194257135, 0.09266575553289617, 0.8339917997960655, 0.9384837432710372, 0.8461658737034612, 0.09401843041149568, 0.49613753249424136, 0.18819009853229846, 0.10264914465398096, 0.10264914465398096, 0.10264914465398096, 0.11505340823503181, 0.15340454431337575, 0.11505340823503181, 0.038351136078343936, 0.575267041175159, 0.5351115766471378, 0.1408188359597731, 0.19714637034368235, 0.08449130157586386, 0.05632753438390924, 0.8923385467337968, 0.0557711591708623, 0.0557711591708623, 0.9430663815465811, 0.1657043844940699, 0.8285219224703495, 0.9699807615083234, 0.04866105527530042, 0.6325937185789055, 0.14598316582590126, 0.14598316582590126, 0.5508191839128908, 0.20655719396733405, 0.06885239798911134, 0.06885239798911134, 0.06885239798911134, 0.9480249019393933, 0.24654893869672337, 0.14792936321803402, 0.26298553460983826, 0.1972391509573787, 0.14792936321803402, 0.9876787119092918, 0.15928209609486282, 0.5415591267225336, 0.15928209609486282, 0.12742567687589026, 0.9295862409342196, 0.4449252201491116, 0.1369000677381882, 0.2053501016072823, 0.10267505080364114, 0.10267505080364114, 0.9344826108852186, 0.9585805658749352, 0.24880066881482424, 0.37320100322223637, 0.14928040128889455, 0.12440033440741212, 0.0995202675259297, 0.8606738311283912, 0.8889953175871699, 0.8850734542125593, 0.08046122311023267, 0.9753678552231072, 0.9827489438619016, 0.9499476755478807, 0.9446266460530881, 0.985443453448439, 0.5809450325938699, 0.17875231772119074, 0.17875231772119074, 0.044688079430297685, 0.9206100773744126, 0.1995543053373652, 0.1496657290030239, 0.0498885763343413, 0.1496657290030239, 0.4489971870090717, 0.9882057082084111, 0.9364427905661692, 0.9131372737331375, 0.9430381157819497, 0.8604589793716082, 0.43989828624667143, 0.18852783696285919, 0.12568522464190612, 0.25137044928381225, 0.06078177094671724, 0.06078177094671724, 0.8509447932540413, 0.9335199364339827, 0.860458979371608, 0.9737755413239335, 0.9854434534484376, 0.9844735091265617, 0.9360613893009119, 0.057647128375446534, 0.1729413851263396, 0.7494126688808049, 0.1887395404427718, 0.14155465533207887, 0.7077732766603942, 0.07883362028560693, 0.1261337924569711, 0.488768445770763, 0.14190051651409247, 0.18920068868545664, 0.674475065623274, 0.07494167395814155, 0.22482502187442466, 0.04197237442044364, 0.04197237442044364, 0.08394474884088728, 0.8394474884088727, 0.756485313274798, 0.024402752041122515, 0.14641651224673508, 0.04880550408224503, 0.040645522860227865, 0.24387313716136716, 0.7316194114841015, 0.20516382496712482, 0.08792735355733922, 0.26378206067201765, 0.41032764993424964, 0.029309117852446404, 0.12267286858119271, 0.20445478096865452, 0.6133643429059635, 0.040890956193730905, 0.884582733826201, 0.08041661216601827, 0.9384837432710372, 0.9666593421665443, 0.9384837432710372, 0.9854434534484372, 0.9477278624331801, 0.84000339605197, 0.22638203419723418, 0.037730339032872366, 0.11319101709861709, 0.07546067806574473, 0.5659550854930855, 0.1066426028707314, 0.0533213014353657, 0.7998195215304856, 0.1811375382521517, 0.7245501530086068, 0.0603791794173839, 0.9258471699302523, 0.9718521112949774, 0.906229903968662, 0.919308430571687, 0.6638327561882305, 0.051064058168325425, 0.2553202908416271, 0.08930460384402948, 0.8037414345962653, 0.08930460384402948, 0.24706079611858403, 0.24706079611858403, 0.5352983915902654, 0.9682928742026211, 0.20345621746062753, 0.10172810873031377, 0.05086405436515688, 0.6103686523818826, 0.10112933702779901, 0.303388011083397, 0.5562113536528945, 0.9854434534484371, 0.940503095399897, 0.9186395351053095, 0.9882057082084111, 0.940503095399897, 0.10545564607927621, 0.8787970506606351, 0.1956749575080959, 0.30240675251251187, 0.26682948751103985, 0.10673179500441594, 0.12452042750515194, 0.9403442237814946, 0.24889311898637548, 0.20741093248864623, 0.24889311898637548, 0.12444655949318774, 0.14518765274205236, 0.3692915041695139, 0.6330711500048809, 0.9138763503276748, 0.9154990569727879, 0.9697863227531093, 0.9697863227531093, 0.9737755413239335, 0.860458979371608, 0.15310431235888391, 0.051034770786294634, 0.561382478649241, 0.20413908314517853, 0.10206954157258927, 0.16766753629162504, 0.13413402903330002, 0.06706701451665001, 0.5365361161332001, 0.13413402903330002, 0.9278406051414274, 0.940503095399897, 0.9415913461906056, 0.9041125696094149, 0.9398106827099152, 0.8954097274215521, 0.06324869920246852, 0.2529947968098741, 0.6957356912271537, 0.7977037811364852, 0.1329506301894142, 0.10834404797251668, 0.16251607195877502, 0.05417202398625834, 0.40629017989693755, 0.2708601199312917, 0.6782086200201458, 0.2141711431642566, 0.07139038105475219, 0.13509587650806387, 0.17666383851054507, 0.488423553529154, 0.12470388600744357, 0.08313592400496239, 0.9468654293689447, 0.9690468909503224, 0.9804490375361742, 0.9697863227531093, 0.9737755413239335, 0.9697863227531093, 0.9138763503276748, 0.9403442237814945, 0.9403442237814951, 0.05769870948248189, 0.17309612844744568, 0.11539741896496378, 0.11539741896496378, 0.548137740083578, 0.9491340413269957, 0.8453680408665795, 0.9752371277627452, 0.9707958299649418, 0.13642080818982014, 0.034105202047455034, 0.8185248491389208, 0.9011426753445689, 0.9661913764544379, 0.9680932495759119, 0.840604066420862, 0.6172092061346154, 0.17634548746703296, 0.17634548746703296, 0.937214900966066, 0.9585805658749352, 0.8959308721843128, 0.9697863227531093, 0.2019101436283316, 0.2860393701401364, 0.18508429832597062, 0.18508429832597062, 0.1514326077212487, 0.9697863227531093, 0.44621013731713444, 0.16925212105132686, 0.07693278229605766, 0.1538655645921153, 0.16925212105132686, 0.46211754363032853, 0.13591692459715546, 0.08155015475829328, 0.16310030951658655, 0.19028369443601764, 0.9585805658749352], \"Term\": [\"___ ___\", \"___ ____\", \"___ _____\", \"____ ___\", \"____ ____\", \"____ ____\", \"_____ _____\", \"accuracy ofn\", \"activity netn\", \"alink ksand\", \"amanda walkern\", \"amateur radio\", \"amateur radio\", \"andn slpittedu\", \"ann arbor\", \"anonymous ftp\", \"anonymous ftp\", \"anonymous ftp\", \"anonymous ftp\", \"anybody know\", \"anybody know\", \"anybody know\", \"anybody know\", \"anybody know\", \"anyone else\", \"anyone else\", \"anyone else\", \"anyone else\", \"anyone else\", \"anyone heard\", \"anyone know\", \"anyone know\", \"anyone know\", \"anyone know\", \"anyone know\", \"appreciatedn thanks\", \"appreciatedn thanksn\", \"appressian soviet\", \"argicn closed\", \"armenia today\", \"artificial intelligence\", \"atlanta georgia\", \"att bell\", \"bank njxp\", \"bear arm\", \"believe god\", \"believe god\", \"believe god\", \"believe speak\", \"best offer\", \"best offer\", \"best offern\", \"best offern\", \"bit key\", \"blah blah\", \"bob vestermann\", \"bob vestermann\", \"brand new\", \"brand new\", \"brand new\", \"bush willn\", \"capital punishment\", \"care taken\", \"center policy\", \"chastity intellect\", \"cheersn kentn\", \"clayton cramer\", \"clipper chip\", \"clipper chip\", \"clipper chip\", \"clipper chip\", \"clipper chip\", \"closed road\", \"companyn tratuscom\", \"computer science\", \"computer science\", \"computer science\", \"computer science\", \"computer science\", \"consent alln\", \"cooling tower\", \"could anyone\", \"could anyone\", \"could anyone\", \"could find\", \"could find\", \"could find\", \"could find\", \"could find\", \"could someone\", \"could someone\", \"could someone\", \"cramer uunetpyramidoptilinkcramer\", \"daren tttgo\", \"david koresh\", \"david koresh\", \"david koresh\", \"david sternlight\", \"david sternlight\", \"davidn david\", \"death penalty\", \"domi stanleyn\", \"dont know\", \"dont know\", \"dont know\", \"dont know\", \"dont know\", \"dont see\", \"dont see\", \"dont see\", \"dont see\", \"dont see\", \"dont speak\", \"dont think\", \"dont think\", \"dont think\", \"dont think\", \"dont think\", \"dont want\", \"dont want\", \"dont want\", \"dont want\", \"dont want\", \"email address\", \"email address\", \"email address\", \"email address\", \"email call\", \"email dun\", \"email dun\", \"emailn thanksn\", \"employer opinion\", \"ensure accuracy\", \"error omission\", \"escape turk\", \"even though\", \"even though\", \"even though\", \"even though\", \"even though\", \"excellent condition\", \"exists single\", \"expressed herein\", \"exterminationn ohanus\", \"failed presidentn\", \"first time\", \"first time\", \"first time\", \"first time\", \"first time\", \"floppy drive\", \"floppy drive\", \"floppy drive\", \"floppy drive\", \"frank odwyer\", \"gary daren\", \"george bush\", \"georgia institute\", \"gldn souviens\", \"gon itnettttselanne\", \"gon na\", \"gon na\", \"gon na\", \"gon na\", \"gon na\", \"gordon bank\", \"great care\", \"greatly appreciatedn\", \"greatly appreciatedn\", \"greatly appreciatedn\", \"greatly appreciatedn\", \"gun control\", \"gun control\", \"gun control\", \"hard drive\", \"hard drive\", \"hard drive\", \"hard drive\", \"hard drive\", \"help appreciatedn\", \"help appreciatedn\", \"help appreciatedn\", \"henry spencer\", \"hewlett packard\", \"houston texas\", \"houston texas\", \"information error\", \"institute technology\", \"intellect andn\", \"investor packetn\", \"itnettttselanne domi\", \"ive ever\", \"ive ever\", \"ive got\", \"ive got\", \"ive got\", \"ive got\", \"ive got\", \"ive never\", \"ive never\", \"ive never\", \"ive never\", \"ive seen\", \"ive seen\", \"ive seen\", \"ive seen\", \"ive seen\", \"jake livni\", \"jesus christ\", \"jesus christ\", \"jesus christ\", \"jesus christ\", \"jet gon\", \"jimmy carter\", \"jon livesey\", \"kentn pplecom\", \"kipling orontoedu\", \"know ftp\", \"know good\", \"know good\", \"ksand private\", \"laskaedu high\", \"laskaedu high\", \"last year\", \"last year\", \"last year\", \"last year\", \"last year\", \"law enforcement\", \"law enforcement\", \"law enforcement\", \"law enforcement\", \"law enforcement\", \"let know\", \"let know\", \"let know\", \"let know\", \"let know\", \"let known\", \"let known\", \"let known\", \"like able\", \"like sell\", \"like sell\", \"livesey writesn\", \"local bus\", \"local bus\", \"local bus\", \"local bus\", \"long time\", \"long time\", \"long time\", \"long time\", \"long time\", \"longer exists\", \"look like\", \"look like\", \"look like\", \"look like\", \"look like\", \"looking information\", \"mailing list\", \"mailing list\", \"mailing list\", \"mailing list\", \"make offern\", \"make sure\", \"make sure\", \"make sure\", \"make sure\", \"make sure\", \"malcolm lee\", \"man work\", \"many people\", \"many people\", \"many people\", \"many people\", \"many people\", \"mark singer\", \"maxaxaxaxaxaxaxaxaxaxaxaxaxaxaxn maxaxaxaxaxaxaxaxaxaxaxaxaxaxaxn\", \"michael adam\", \"michael adam\", \"michael covington\", \"might serve\", \"minen relation\", \"moral system\", \"mountain pass\", \"much better\", \"much better\", \"much better\", \"much better\", \"mutual consent\", \"new york\", \"new york\", \"new york\", \"new york\", \"new york\", \"njxp skepticism\", \"ofn information\", \"ohanus appressian\", \"omission excepted\", \"onycom ten\", \"opinion expressed\", \"opinion expressed\", \"opinion expressed\", \"opinion expressed\", \"opinion mine\", \"opinion mine\", \"opinion mine\", \"opinion minen\", \"opinion standard\", \"orontoedu utzoohenryn\", \"pass might\", \"pdsgicom jon\", \"people mutual\", \"pgp public\", \"pgp public\", \"pgp public\", \"phone number\", \"phone number\", \"phone number\", \"please email\", \"please email\", \"please email\", \"please email\", \"please email\", \"please let\", \"please let\", \"please let\", \"please post\", \"please post\", \"please post\", \"please post\", \"please reply\", \"please reply\", \"please reply\", \"please reply\", \"please respond\", \"please respond\", \"please respond\", \"please send\", \"please send\", \"please send\", \"please send\", \"please send\", \"please tell\", \"please tell\", \"please tell\", \"please tell\", \"policy research\", \"policy research\", \"pplecom alink\", \"printer driver\", \"private activity\", \"proceeded work\", \"program manager\", \"propulsion lab\", \"public key\", \"public key\", \"public key\", \"public key\", \"public key\", \"red sox\", \"red sox\", \"red sox\", \"red wing\", \"red wing\", \"red wing\", \"relation people\", \"reply via\", \"road mountain\", \"sahak melkonian\", \"san francisco\", \"san francisco\", \"san francisco\", \"scsi controller\", \"scsi controller\", \"scsi controller\", \"send email\", \"send email\", \"send email\", \"serdar argicn\", \"serial number\", \"serial number\", \"serial number\", \"serial number\", \"serial port\", \"serial port\", \"serial port\", \"serve way\", \"shameful surrender\", \"single turkish\", \"skepticism chastity\", \"slpittedu shameful\", \"someone please\", \"someone please\", \"something like\", \"something like\", \"something like\", \"something like\", \"something like\", \"soul sahak\", \"sound like\", \"sound like\", \"sound like\", \"sound like\", \"sound like\", \"source code\", \"source code\", \"souviens gary\", \"soviet armenia\", \"speak companyn\", \"special investor\", \"spencer toronto\", \"standard failed\", \"stanley cup\", \"stanley cup\", \"stanley cup\", \"stanley cup\", \"stanley cup\", \"state university\", \"state university\", \"state university\", \"state university\", \"state university\", \"sternlight great\", \"surrender soon\", \"system corporationn\", \"taken ensure\", \"technology atlanta\", \"tel email\", \"tel fax\", \"tel fax\", \"tel fax\", \"ten year\", \"ten year\", \"thank youn\", \"thank youn\", \"thank youn\", \"thank youn\", \"thank youn\", \"thanks advance\", \"thanks advance\", \"thanks advance\", \"thanks advancen\", \"thanks advancen\", \"thanks advancen\", \"thanks advancen\", \"thanks advancen\", \"thanks infon\", \"tim clock\", \"today longer\", \"today special\", \"toronto zoologyn\", \"tratuscom write\", \"tttgo winnipeg\", \"turk proceeded\", \"turkish soul\", \"united state\", \"united state\", \"united state\", \"united state\", \"united state\", \"university georgia\", \"university pittsburgh\", \"university western\", \"uunetpyramidoptilinkcramer opinion\", \"video card\", \"video card\", \"video card\", \"volume number\", \"way escape\", \"white sox\", \"window driver\", \"window manager\", \"window manager\", \"window manager\", \"work exterminationn\", \"work henry\", \"work man\", \"write today\", \"writesn article\", \"writesn article\", \"writesn article\", \"writesn article\", \"writesn article\", \"wstratuscom believe\", \"year ago\", \"year ago\", \"year ago\", \"year ago\", \"year ago\", \"year old\", \"year old\", \"year old\", \"year old\", \"year old\", \"zoologyn kipling\"]}, \"R\": 30, \"lambda.step\": 0.01, \"plot.opts\": {\"xlab\": \"PC1\", \"ylab\": \"PC2\"}, \"topic.order\": [3, 2, 5, 1, 4]};\n",
              "\n",
              "function LDAvis_load_lib(url, callback){\n",
              "  var s = document.createElement('script');\n",
              "  s.src = url;\n",
              "  s.async = true;\n",
              "  s.onreadystatechange = s.onload = callback;\n",
              "  s.onerror = function(){console.warn(\"failed to load library \" + url);};\n",
              "  document.getElementsByTagName(\"head\")[0].appendChild(s);\n",
              "}\n",
              "\n",
              "if(typeof(LDAvis) !== \"undefined\"){\n",
              "   // already loaded: just create the visualization\n",
              "   !function(LDAvis){\n",
              "       new LDAvis(\"#\" + \"ldavis_el1401403452895184407231395896\", ldavis_el1401403452895184407231395896_data);\n",
              "   }(LDAvis);\n",
              "}else if(typeof define === \"function\" && define.amd){\n",
              "   // require.js is available: use it to load d3/LDAvis\n",
              "   require.config({paths: {d3: \"https://cdnjs.cloudflare.com/ajax/libs/d3/3.5.5/d3.min\"}});\n",
              "   require([\"d3\"], function(d3){\n",
              "      window.d3 = d3;\n",
              "      LDAvis_load_lib(\"https://cdn.rawgit.com/bmabey/pyLDAvis/files/ldavis.v1.0.0.js\", function(){\n",
              "        new LDAvis(\"#\" + \"ldavis_el1401403452895184407231395896\", ldavis_el1401403452895184407231395896_data);\n",
              "      });\n",
              "    });\n",
              "}else{\n",
              "    // require.js not available: dynamically load d3 & LDAvis\n",
              "    LDAvis_load_lib(\"https://cdnjs.cloudflare.com/ajax/libs/d3/3.5.5/d3.min.js\", function(){\n",
              "         LDAvis_load_lib(\"https://cdn.rawgit.com/bmabey/pyLDAvis/files/ldavis.v1.0.0.js\", function(){\n",
              "                 new LDAvis(\"#\" + \"ldavis_el1401403452895184407231395896\", ldavis_el1401403452895184407231395896_data);\n",
              "            })\n",
              "         });\n",
              "}\n",
              "</script>"
            ],
            "text/plain": [
              "PreparedData(topic_coordinates=                x           y  topics  cluster       Freq\n",
              "topic                                                    \n",
              "2      150.222153  -72.269554       1        1  24.391288\n",
              "1       51.163364 -159.968018       2        1  22.012990\n",
              "4      -73.144554   21.523815       3        1  18.167558\n",
              "0      -66.410133 -110.606438       4        1  18.005037\n",
              "3       54.417324   12.443444       5        1  17.423126, topic_info=                 Term       Freq       Total Category  logprob  loglift\n",
              "0             ___ ___  32.000000   32.000000  Default  30.0000  30.0000\n",
              "9249   someone please  28.000000   28.000000  Default  29.0000  29.0000\n",
              "2004    could someone  31.000000   31.000000  Default  28.0000  28.0000\n",
              "10975      video card  29.000000   29.000000  Default  27.0000  27.0000\n",
              "3993      gordon bank  19.000000   19.000000  Default  26.0000  26.0000\n",
              "...               ...        ...         ...      ...      ...      ...\n",
              "2548        dont know  14.105145  124.224035   Topic5  -6.5082  -0.4282\n",
              "7535     please email  11.550268   63.424716   Topic5  -6.7080   0.0442\n",
              "2593       dont think  11.575544   79.373681   Topic5  -6.7058  -0.1779\n",
              "1677     clipper chip  10.680726   27.724329   Topic5  -6.7863   0.7935\n",
              "11687        year ago  10.560069   64.991800   Topic5  -6.7977  -0.0698\n",
              "\n",
              "[293 rows x 6 columns], token_table=       Topic      Freq              Term\n",
              "term                                    \n",
              "0          3  0.965678           ___ ___\n",
              "1          3  0.886021          ___ ____\n",
              "2          3  0.950217         ___ _____\n",
              "11         3  0.967841          ____ ___\n",
              "12         2  0.086774         ____ ____\n",
              "...      ...       ...               ...\n",
              "11714      2  0.135917          year old\n",
              "11714      3  0.081550          year old\n",
              "11714      4  0.163100          year old\n",
              "11714      5  0.190284          year old\n",
              "11836      1  0.958581  zoologyn kipling\n",
              "\n",
              "[498 rows x 3 columns], R=30, lambda_step=0.01, plot_opts={'xlab': 'PC1', 'ylab': 'PC2'}, topic_order=[3, 2, 5, 1, 4])"
            ]
          },
          "metadata": {
            "tags": []
          },
          "execution_count": 46
        }
      ]
    },
    {
      "cell_type": "markdown",
      "metadata": {
        "id": "_4UzDpGFAGd6",
        "colab_type": "text"
      },
      "source": [
        "# LDA Unigram - tf - lem\n"
      ]
    },
    {
      "cell_type": "code",
      "metadata": {
        "id": "WU7IgBVXAa3j",
        "colab_type": "code",
        "colab": {}
      },
      "source": [
        "data_token_lem_tf = count.fit_transform(df.token_lem)"
      ],
      "execution_count": null,
      "outputs": []
    },
    {
      "cell_type": "code",
      "metadata": {
        "id": "jD1X4q86ARUv",
        "colab_type": "code",
        "colab": {
          "base_uri": "https://localhost:8080/",
          "height": 374
        },
        "outputId": "ade37707-2bf0-422e-95eb-ce547046995a"
      },
      "source": [
        "# Parametri di ricerca\n",
        "search_params = {'n_components': [5,10, 15, 20, 25, 30], 'learning_decay': [.5, .7, .9]}\n",
        "\n",
        "# Inizializzazione Modello\n",
        "lda = LatentDirichletAllocation()\n",
        "\n",
        "# Inizializzazione GridSearchCV\n",
        "model = GridSearchCV(lda, param_grid=search_params)\n",
        "\n",
        "# Grid Search\n",
        "model.fit(data_token_lem_tf)"
      ],
      "execution_count": null,
      "outputs": [
        {
          "output_type": "execute_result",
          "data": {
            "text/plain": [
              "GridSearchCV(cv=None, error_score=nan,\n",
              "             estimator=LatentDirichletAllocation(batch_size=128,\n",
              "                                                 doc_topic_prior=None,\n",
              "                                                 evaluate_every=-1,\n",
              "                                                 learning_decay=0.7,\n",
              "                                                 learning_method='batch',\n",
              "                                                 learning_offset=10.0,\n",
              "                                                 max_doc_update_iter=100,\n",
              "                                                 max_iter=10,\n",
              "                                                 mean_change_tol=0.001,\n",
              "                                                 n_components=10, n_jobs=None,\n",
              "                                                 perp_tol=0.1,\n",
              "                                                 random_state=None,\n",
              "                                                 topic_word_prior=None,\n",
              "                                                 total_samples=1000000.0,\n",
              "                                                 verbose=0),\n",
              "             iid='deprecated', n_jobs=None,\n",
              "             param_grid={'learning_decay': [0.5, 0.7, 0.9],\n",
              "                         'n_components': [5, 10, 15, 20, 25, 30]},\n",
              "             pre_dispatch='2*n_jobs', refit=True, return_train_score=False,\n",
              "             scoring=None, verbose=0)"
            ]
          },
          "metadata": {
            "tags": []
          },
          "execution_count": 48
        }
      ]
    },
    {
      "cell_type": "code",
      "metadata": {
        "id": "Es0hoBP6AdGT",
        "colab_type": "code",
        "colab": {
          "base_uri": "https://localhost:8080/",
          "height": 68
        },
        "outputId": "d6400ac3-40d0-4a26-e294-a535db43a6d6"
      },
      "source": [
        "# Stimato il Miglior modello \n",
        "best_lda_model = model.best_estimator_\n",
        "\n",
        "# Parametri del modello\n",
        "print(\"Best Model Params: \", model.best_params_)\n",
        "\n",
        "# Log Likelihood Score\n",
        "print(\"Best Log Likelihood Score: \", model.best_score_)\n",
        "\n",
        "# Perplessità\n",
        "print(\"Model Perplexity: \", best_lda_model.perplexity(data_token_lem_tf))"
      ],
      "execution_count": null,
      "outputs": [
        {
          "output_type": "stream",
          "text": [
            "Best Model Params:  {'learning_decay': 0.5, 'n_components': 5}\n",
            "Best Log Likelihood Score:  -3524919.8851657817\n",
            "Model Perplexity:  3834.7391448626267\n"
          ],
          "name": "stdout"
        }
      ]
    },
    {
      "cell_type": "code",
      "metadata": {
        "id": "1WwqzOX1Arck",
        "colab_type": "code",
        "colab": {
          "base_uri": "https://localhost:8080/",
          "height": 861
        },
        "outputId": "8e020aaa-3e56-4efe-b07d-259ea7927d8a"
      },
      "source": [
        "pyLDAvis.enable_notebook()\n",
        "vis = pyLDAvis.sklearn.prepare(best_lda_model, data_token_lem_tf, count, mds='tsne')\n",
        "vis"
      ],
      "execution_count": null,
      "outputs": [
        {
          "output_type": "execute_result",
          "data": {
            "text/html": [
              "\n",
              "<link rel=\"stylesheet\" type=\"text/css\" href=\"https://cdn.rawgit.com/bmabey/pyLDAvis/files/ldavis.v1.0.0.css\">\n",
              "\n",
              "\n",
              "<div id=\"ldavis_el1401403452910781764231977124\"></div>\n",
              "<script type=\"text/javascript\">\n",
              "\n",
              "var ldavis_el1401403452910781764231977124_data = {\"mdsDat\": {\"x\": [150.22215270996094, 51.16336441040039, -73.1445541381836, -66.4101333618164, 54.41732406616211], \"y\": [-72.2695541381836, -159.968017578125, 21.523815155029297, -110.60643768310547, 12.44344425201416], \"topics\": [1, 2, 3, 4, 5], \"cluster\": [1, 1, 1, 1, 1], \"Freq\": [26.679353974823034, 26.502749811013075, 23.01841840769322, 14.08402420381174, 9.715453602658934]}, \"tinfo\": {\"Term\": [\"maxaxaxaxaxaxaxaxaxaxaxaxaxaxaxn\", \"game\", \"god\", \"file\", \"team\", \"window\", \"year\", \"player\", \"car\", \"armenian\", \"drive\", \"program\", \"jesus\", \"christian\", \"play\", \"space\", \"image\", \"people\", \"software\", \"system\", \"fan\", \"win\", \"last\", \"disk\", \"israel\", \"email\", \"run\", \"card\", \"season\", \"scsi\", \"jesus\", \"bible\", \"israeli\", \"israel\", \"christianity\", \"godn\", \"palestinian\", \"scripture\", \"nsa\", \"catholic\", \"atheist\", \"escrow\", \"verse\", \"atheism\", \"wiretap\", \"prophet\", \"jehovah\", \"adl\", \"biblical\", \"revelation\", \"psalm\", \"clhn\", \"mormon\", \"davidians\", \"hebrew\", \"unto\", \"lebanese\", \"christ\", \"gaza\", \"testament\", \"god\", \"encryption\", \"morality\", \"cult\", \"church\", \"sin\", \"christian\", \"arab\", \"batf\", \"lord\", \"koresh\", \"clipper\", \"faith\", \"tttn\", \"doctrine\", \"religion\", \"belief\", \"privacy\", \"jew\", \"truth\", \"fbi\", \"jewish\", \"law\", \"evidence\", \"moral\", \"believe\", \"word\", \"key\", \"say\", \"people\", \"claim\", \"ofn\", \"argument\", \"ton\", \"thatn\", \"fact\", \"think\", \"mean\", \"government\", \"dont\", \"even\", \"andn\", \"know\", \"see\", \"question\", \"way\", \"right\", \"may\", \"thing\", \"make\", \"also\", \"many\", \"time\", \"like\", \"could\", \"scsi\", \"do\", \"ftp\", \"server\", \"jpeg\", \"mhz\", \"font\", \"directory\", \"interface\", \"widget\", \"printer\", \"ide\", \"floppy\", \"meg\", \"gif\", \"cpu\", \"softwaren\", \"postscript\", \"microsoft\", \"com\", \"bios\", \"vga\", \"pixel\", \"motherboard\", \"macintosh\", \"cardn\", \"compression\", \"controller\", \"processor\", \"simms\", \"disk\", \"file\", \"mac\", \"graphic\", \"unix\", \"modem\", \"keyboard\", \"format\", \"window\", \"software\", \"hardware\", \"ibm\", \"digital\", \"screen\", \"output\", \"monitor\", \"image\", \"drive\", \"card\", \"color\", \"application\", \"user\", \"version\", \"email\", \"thanksn\", \"computer\", \"display\", \"machine\", \"program\", \"bit\", \"system\", \"available\", \"data\", \"mail\", \"using\", \"thanks\", \"please\", \"problem\", \"get\", \"anyone\", \"work\", \"need\", \"also\", \"know\", \"run\", \"like\", \"used\", \"dont\", \"new\", \"ton\", \"want\", \"make\", \"armenian\", \"turkish\", \"bike\", \"armenia\", \"ottoman\", \"azeri\", \"azerbaijani\", \"motorcycle\", \"bosnian\", \"serb\", \"azerbaijan\", \"serdar\", \"turk\", \"kuwait\", \"shaft\", \"apartment\", \"tartar\", \"ohanus\", \"argicn\", \"appressian\", \"melkonian\", \"sahak\", \"exterminationn\", \"xsoviet\", \"baku\", \"kurd\", \"riding\", \"serbian\", \"croat\", \"diesel\", \"turkey\", \"istanbul\", \"genocide\", \"car\", \"dod\", \"militia\", \"ride\", \"muslim\", \"helmet\", \"carn\", \"dog\", \"wheel\", \"arm\", \"bmw\", \"greece\", \"road\", \"people\", \"cop\", \"war\", \"right\", \"army\", \"woman\", \"dont\", \"said\", \"going\", \"greek\", \"went\", \"killed\", \"like\", \"think\", \"get\", \"well\", \"gun\", \"government\", \"back\", \"want\", \"writesn\", \"say\", \"know\", \"thing\", \"article\", \"time\", \"even\", \"make\", \"way\", \"got\", \"could\", \"take\", \"day\", \"year\", \"good\", \"really\", \"see\", \"ton\", \"ofn\", \"andn\", \"orbit\", \"solar\", \"infection\", \"temperature\", \"spacecraft\", \"lunar\", \"hiv\", \"physician\", \"vitamin\", \"clinical\", \"venus\", \"candida\", \"yeast\", \"comet\", \"jupiter\", \"wolverine\", \"medicine\", \"titan\", \"antibiotic\", \"quack\", \"msg\", \"billboard\", \"orbiter\", \"hulk\", \"pluto\", \"lyme\", \"radiation\", \"astronomer\", \"zoologyn\", \"utzoohenryn\", \"disease\", \"cancer\", \"health\", \"patient\", \"shuttle\", \"spencer\", \"medical\", \"diet\", \"moon\", \"satellite\", \"nasa\", \"atmosphere\", \"mission\", \"probe\", \"launch\", \"doctor\", \"planet\", \"energy\", \"space\", \"food\", \"flight\", \"study\", \"drug\", \"treatment\", \"water\", \"research\", \"earth\", \"april\", \"effect\", \"year\", \"new\", \"science\", \"rate\", \"also\", \"may\", \"national\", \"cost\", \"time\", \"american\", \"program\", \"andn\", \"system\", \"ton\", \"like\", \"much\", \"ofn\", \"know\", \"two\", \"get\", \"could\", \"work\", \"problem\", \"make\", \"dont\", \"first\", \"state\", \"university\", \"good\", \"well\", \"maxaxaxaxaxaxaxaxaxaxaxaxaxaxaxn\", \"hockey\", \"playoff\", \"nhl\", \"pitcher\", \"detroit\", \"espn\", \"baseball\", \"hitter\", \"puck\", \"pitching\", \"scored\", \"cub\", \"bruin\", \"det\", \"sox\", \"inning\", \"shark\", \"calgary\", \"player\", \"batting\", \"goalie\", \"chi\", \"islander\", \"scoring\", \"gant\", \"scorer\", \"sabre\", \"yankee\", \"ptsn\", \"game\", \"team\", \"season\", \"buffalo\", \"fan\", \"coach\", \"league\", \"score\", \"montreal\", \"gamesn\", \"play\", \"cup\", \"morris\", \"roger\", \"boston\", \"win\", \"gamen\", \"flyer\", \"played\", \"ball\", \"hit\", \"goal\", \"leaf\", \"san\", \"blue\", \"year\", \"last\", \"red\", \"he\", \"shot\", \"first\", \"good\", \"think\", \"get\", \"time\", \"like\", \"dont\", \"better\", \"run\", \"well\", \"see\", \"know\", \"two\", \"writesn\", \"new\", \"even\"], \"Freq\": [3254.0, 2463.0, 4156.0, 3368.0, 1691.0, 2919.0, 4574.0, 1185.0, 2131.0, 1521.0, 2302.0, 2725.0, 1560.0, 1791.0, 1130.0, 1547.0, 1973.0, 8101.0, 1635.0, 4283.0, 784.0, 977.0, 2519.0, 1274.0, 1167.0, 2439.0, 2228.0, 1529.0, 598.0, 1016.0, 1560.0819270758411, 995.5581114737103, 854.899160723586, 1166.102295889682, 482.8231844629739, 435.98367857728607, 400.1446362554201, 383.19223476216774, 372.2171479379326, 374.2039235563014, 512.3414784494884, 275.46837413824034, 313.15803407841685, 224.60811653890357, 202.65930338455505, 197.66951436397807, 189.7014040309597, 192.67631598407888, 188.70239730109788, 182.71899965066197, 177.73251289811253, 176.73104275428213, 174.73881559966577, 164.75972135755956, 165.73482567934775, 158.78213219229863, 156.7856408802986, 831.3353745315402, 141.82459110989217, 162.64814192449523, 4083.4333699787617, 768.738143584401, 326.69540824559414, 267.20147384187106, 1034.6016179836797, 675.8229882844377, 1738.673530913573, 831.4309519921588, 433.09887227768365, 604.2978158869394, 510.8216870007963, 560.4019070793044, 774.741419981892, 808.2888483806332, 263.4898989599011, 898.3956920973511, 863.24957262125, 366.9406930323571, 1049.0803888165442, 690.5108636427708, 703.4017080228526, 657.3938173673241, 1660.4846091305035, 998.0016185782747, 612.7915158362821, 1801.8659343406396, 1304.5262774718526, 1337.5223344242277, 2416.1845845352145, 3202.7465829139, 965.4195752544243, 2339.1808003358506, 763.0593547089883, 2039.1303294350982, 1576.7709412320985, 1217.1505579590594, 2134.5572372137685, 1339.818966706367, 1285.0821041580343, 2118.595154175548, 1633.128952647702, 1688.6222812800027, 1991.5699041048374, 1588.7252494929464, 1359.15994109472, 1529.4943973907875, 1475.565343207263, 1460.9288466340008, 1430.5547647741325, 1492.3525751238035, 1504.0034926857486, 1371.8808957277797, 1488.7798091767745, 1534.3788401208378, 1369.2105700675986, 1015.8518467871851, 936.3620766199131, 820.567904238268, 715.5200913569258, 588.9821681626548, 552.6726934502082, 529.1211291345827, 498.69707551322927, 438.83929110504914, 423.1402378198069, 412.34534619430445, 404.4957402321008, 402.53203850967395, 397.62610190731624, 380.9331302700442, 335.80025009108533, 285.7481302394244, 257.2987289953725, 254.35169884912438, 253.36493852378138, 249.44878110385113, 233.7474959997799, 224.9112833876533, 220.00914906584825, 219.024953552721, 213.1368995009502, 213.13193836371718, 467.22479804076124, 200.37356930316946, 197.43885246242425, 1269.5724531406884, 3314.8474864297955, 902.7587018004392, 908.9013953136666, 512.3157285340671, 456.28265146179524, 326.2994304771949, 818.7507810476337, 2826.034317679092, 1585.5785587670186, 587.033895359098, 493.0425283491077, 375.93111515463863, 591.9504438206757, 486.39976487560386, 682.9076492929446, 1832.9724079916257, 2105.5404934058847, 1413.7926725239254, 966.555478793868, 984.3480978805717, 1084.9278270392065, 1322.1402440739616, 2066.150727709738, 953.6032221127044, 1594.63274578722, 786.9948716337573, 1055.0549295769592, 2046.112391413542, 1837.531145418027, 2776.6604158769924, 1391.6232969205578, 1430.822171038208, 891.3919509519118, 1636.4252286893995, 1086.8111059969879, 1662.7214264802371, 2011.8757805237085, 2781.937744638599, 1767.5838097007293, 1856.5205746245342, 1815.7166409205736, 2172.290528026266, 2387.3935060300514, 1365.9967180897154, 2288.066159378676, 1450.0574870969344, 1837.6306084329913, 1499.3505891630898, 1502.25851022468, 1401.2350210597053, 1354.665255733558, 1521.1259465967075, 844.0486407895004, 793.6511828920511, 468.5600437365523, 239.87136695287748, 218.90129014191317, 206.9178925838572, 235.72643218187312, 194.93223038654506, 193.93281464220414, 183.94629753952384, 171.96466243471812, 530.4708639075322, 144.99628962658247, 140.99483483635373, 138.0085062454904, 137.01312207848048, 137.01254191042761, 131.02074505817615, 126.02747712641646, 125.02895711976302, 125.02895711715847, 123.03165741649175, 118.03889458937982, 114.04366069996941, 102.04276426630894, 205.8211354521876, 87.07686364724448, 80.08979376193496, 80.0885728020161, 393.49688188663237, 182.5693602326735, 328.4892880929038, 1955.447985056383, 606.618310794554, 253.43854500228733, 341.0756334551028, 810.7293254728161, 186.01246782438776, 219.1265775413755, 303.0225627568742, 224.30698464758558, 486.58591630028354, 246.1668004352949, 192.75544945943284, 627.3923106085126, 3682.0305237949847, 272.59137968038794, 730.896583190243, 2179.4517088968673, 303.86476669620384, 658.703135123818, 3056.068847784832, 1474.9678239150144, 1354.5209046679659, 461.613888988465, 614.8403019656472, 483.5451956691187, 2673.6019640082204, 2325.155016717339, 2415.932098878065, 1710.3320950188574, 825.263348937965, 1096.5887721327222, 1119.761258287409, 1441.472203294641, 1315.3837820642398, 1613.5619368792393, 1999.4599231430468, 1448.999707102884, 1395.855003730001, 1670.3996445984274, 1413.5954074413196, 1491.4172644655157, 1343.9895088977332, 981.9573266421986, 1300.813922721451, 1056.7786736879198, 978.7764791004992, 1174.702873090318, 1146.9901555035542, 1027.0406051129, 1077.1065888876199, 1111.741745946943, 1077.2991839258627, 1072.0246705578725, 357.1972050003556, 278.63762321365823, 239.8537536885637, 219.96204487589083, 214.00020310415348, 198.08928867150308, 175.21816037105108, 174.22014765903896, 164.2775378042721, 160.29963933425256, 158.31292841082032, 155.3295858292298, 154.33337468335623, 121.51287764330431, 110.57929644702276, 107.59387113946731, 256.4908530241168, 95.6584552579512, 92.67998008877287, 92.67906871816602, 276.94040227268357, 87.7056300968433, 84.72490033321903, 84.72304414982906, 79.75282751511405, 76.76893802756483, 84.59385269910568, 71.79063037195397, 70.80183316626275, 70.80183299482637, 494.4125830488612, 331.04916701875027, 645.2081443476255, 478.0377806002611, 307.7985683896377, 108.66326957788766, 586.4476764884292, 199.68535353782477, 334.74806929734405, 311.0168251443551, 381.9732421217359, 152.0004084368906, 389.16258288781853, 246.91944784397063, 298.42866939092903, 443.9504779681283, 308.7962497154957, 281.45440092345285, 1084.9847339763423, 448.7024416852436, 239.94576594049272, 700.2986544852356, 606.4658218818328, 320.8103095686589, 412.68787625720734, 602.0068807854872, 499.824695395506, 505.2350905208542, 485.07137923655984, 1126.9250749286105, 999.5029759753065, 467.7237337707454, 422.2227746014879, 989.095243636439, 872.0247056595821, 463.6905280953928, 473.00909593124544, 846.3914105653143, 494.85377695068, 597.953596297351, 714.8254297975564, 671.6597498463822, 723.0418433885742, 780.3690840373598, 633.576048254238, 659.6979907248236, 671.7527248543103, 588.5281254233722, 660.5499841917184, 594.6043698328102, 567.7009806138436, 567.9847941509252, 571.4156557057431, 595.1930327994438, 546.1499295575672, 521.4971899304179, 516.463780761599, 528.0901455905081, 526.3421107052937, 3253.884390578426, 551.4681103854682, 341.55343655293075, 283.67961708254455, 260.13763808965933, 227.75729703353335, 204.2252294168998, 498.2103341654062, 177.74118585402084, 167.93202973599352, 163.02747245732834, 161.0643424731819, 153.21726768487747, 146.3517691161069, 145.37127663236961, 144.38942634773557, 143.40867444614483, 139.48305236113396, 137.51545380020545, 1178.9699240047814, 131.63806258100828, 125.75279288662098, 122.80856535046017, 120.84618083495656, 118.88568282381365, 115.94311322611166, 113.00102652740955, 112.01753408222244, 111.03839728503063, 110.0584193537709, 2393.148656927472, 1622.1283601925359, 584.3766013015802, 147.62115847378777, 747.1144898335464, 167.86446539853736, 476.8705965337445, 265.5903082140281, 169.32786362897937, 153.4198810563479, 899.4351116166875, 273.4653700916483, 194.31654807624497, 193.82140861948056, 323.97349243270696, 704.0550630015688, 232.45821617140297, 162.9222913821578, 274.7888659723472, 287.057230270283, 485.51281730036135, 420.2104160579135, 297.3455917308328, 356.01313144401104, 383.1344723727116, 1378.1358888376553, 824.8332691869568, 357.4248205981417, 413.9771046110039, 365.5941149424197, 741.1713079619135, 799.1407101846177, 917.1259035056587, 895.7953736676658, 782.9083989421538, 803.3276374961049, 793.0165180089368, 527.7809009597402, 504.3438104979722, 609.9199591949967, 575.506445144535, 632.3287184145103, 517.4906720395095, 491.19723874991683, 474.3425237580088, 469.56129216664647], \"Total\": [3254.0, 2463.0, 4156.0, 3368.0, 1691.0, 2919.0, 4574.0, 1185.0, 2131.0, 1521.0, 2302.0, 2725.0, 1560.0, 1791.0, 1130.0, 1547.0, 1973.0, 8101.0, 1635.0, 4283.0, 784.0, 977.0, 2519.0, 1274.0, 1167.0, 2439.0, 2228.0, 1529.0, 598.0, 1016.0, 1560.8912108620066, 996.3747410778043, 855.744354051561, 1167.9073498953069, 483.7220772288457, 436.84518992181967, 400.9394862872611, 383.98404788892583, 373.01283984583546, 375.0076413498732, 513.643946219289, 276.2670891160078, 314.1677756354699, 225.40079553941806, 203.45842901711285, 198.471572348882, 190.4925344652128, 193.48460122638676, 189.4951500116303, 183.51087942744107, 178.52398723894964, 177.52659414691956, 175.5318308519017, 165.55805359712073, 166.55546066002486, 159.57378515527617, 157.57902691994934, 835.8013424377389, 142.61834272077607, 163.5634443049705, 4156.8988641252445, 774.8691835211564, 329.1302779811128, 269.28705916596385, 1057.2213473958602, 688.1137229806252, 1791.2130477597734, 851.7794479283422, 440.8434183989355, 620.3577702320136, 526.6281567832658, 580.2258494439296, 819.244946485003, 856.9367488216767, 267.2422373242155, 962.5334587780205, 929.4282969379742, 380.8059478402346, 1209.0172894468071, 776.8991043184693, 803.0078962076295, 743.9457177837055, 2306.222013103574, 1246.0378895218794, 692.2733699198313, 2957.9880026956466, 1962.0241154985688, 2088.899703359351, 5239.244509808259, 8101.289571072958, 1362.5652303563995, 5233.531287475055, 991.9944843192377, 5759.014876635622, 3627.382614547369, 2306.708911547994, 6737.752861249728, 2785.9792728599623, 2584.984420052385, 8400.504161201752, 4619.822758191701, 5088.222188973224, 7682.504776546756, 4499.463312599801, 3119.2692029403693, 4570.964865506469, 4586.685099287106, 4459.853459658232, 4446.921167224974, 5332.814161520488, 5980.459889980475, 3944.6147121533763, 6082.196216517674, 8079.7436850412, 4946.107078282001, 1016.6464258167916, 937.1603618496504, 821.3657716370625, 716.3663864991736, 589.776557568388, 553.4680972854774, 529.916662360024, 499.49609446390497, 439.6361581269178, 423.9351693187896, 413.1407626548568, 405.290272664682, 403.3276672749177, 398.42110588006125, 381.7390197489084, 336.5986182098189, 286.5518853484478, 258.09377420971094, 255.14988446666004, 254.16864826805866, 250.24328582827295, 234.54232754975453, 225.71060131984743, 220.80398828912377, 219.82271415790268, 213.93486992362986, 213.9349342411816, 469.0895470296095, 201.17792178025715, 198.2338605985165, 1274.7844880273135, 3368.7674930249555, 906.7917513795416, 913.6729225668837, 516.232469603634, 459.3009057502218, 327.77783385750604, 830.3412941283087, 2919.0176201726736, 1635.5800741103792, 595.7927040405464, 499.5886259139619, 378.82874696817464, 602.6814733581531, 493.67593459208325, 703.8777562470136, 1973.5461204647665, 2302.446180778574, 1529.1757731511984, 1026.238967156817, 1059.8918955779163, 1186.847929469715, 1479.3677584999632, 2439.1370199995495, 1034.9067632186946, 1842.5777641503678, 850.7661193922471, 1224.5407315198377, 2725.5039974100514, 2466.121015510644, 4283.078267064765, 1819.2934193854635, 1910.2101649351844, 1026.0767576697185, 2430.805166313243, 1378.0871613468628, 2684.796284045805, 3875.9519754012704, 7601.36641421051, 3435.015403924787, 3773.0591577185646, 3738.564100677868, 5980.459889980475, 7682.504776546756, 2228.1208121376394, 8079.7436850412, 3259.85797450423, 8400.504161201752, 4537.439246228726, 5759.014876635622, 4152.6155530989645, 5332.814161520488, 1521.9182149159815, 844.8407539831029, 794.900676985722, 469.3523696181633, 240.6639635737903, 219.69254178311328, 207.70887267528576, 236.66689906326957, 195.72519500925975, 194.72655507979383, 184.74016039040862, 172.75648885970642, 533.2305433132159, 145.7932165622308, 141.79857235728923, 138.8027399390812, 137.8041193893072, 137.80411455585352, 131.8122797308538, 126.81908177386525, 125.82044397683683, 125.82044397679067, 123.82316592113733, 118.82997172764976, 114.83541265291618, 102.85171637287809, 207.68945521545544, 87.87214421540395, 80.88167735691924, 80.8816574650129, 398.3756550916906, 184.71568151757396, 336.5241826866181, 2131.018548876142, 641.8596553446191, 261.6260448990948, 357.44550196963064, 896.6624079073679, 191.6432349669938, 228.5282792973753, 326.14356788555483, 235.50418334759155, 552.6982006154558, 262.508443110972, 200.59838021578864, 755.1580439465853, 8101.289571072958, 309.5243745598528, 1093.7349380907858, 4586.685099287106, 356.26043743489737, 1016.6072803205642, 8400.504161201752, 3122.341348656507, 2790.8507588421003, 637.8274518796889, 955.354648271787, 689.6654892655132, 8079.7436850412, 6737.752861249728, 7601.36641421051, 4638.738232984656, 1617.6148789516753, 2584.984420052385, 2741.7426942140246, 4152.6155530989645, 3597.260134437081, 5239.244509808259, 7682.504776546756, 4446.921167224974, 4295.480055746392, 6082.196216517674, 4619.822758191701, 5332.814161520488, 4570.964865506469, 2333.7686914113656, 4946.107078282001, 3218.193796018013, 2588.399262997636, 4574.975470007513, 4696.91779748199, 3048.890791252577, 4499.463312599801, 5759.014876635622, 5233.531287475055, 5088.222188973224, 357.99075567555855, 279.43081304807265, 240.64804962031337, 220.75943970360998, 214.79288907047663, 198.88201785162195, 176.0101460209102, 175.01572363219398, 165.07140096723367, 161.09369092674586, 159.10483914869243, 156.1215536685431, 155.12712677797492, 122.31090459852152, 111.37221560384125, 108.38888531056482, 258.5311509374612, 96.45574713845436, 93.47248756461292, 93.47249289231624, 279.4077661851226, 88.50034314357333, 85.5170458311518, 85.51705714416457, 80.54490004189968, 77.56161685537198, 85.51530080171851, 72.58943539947937, 71.59502683890915, 71.5950268365976, 502.2037225125305, 337.083593325237, 662.3551213396835, 491.28978481647, 316.12401031866557, 110.36552574087692, 620.5536720801371, 205.7701393930684, 351.0866463255559, 325.9795915217304, 407.38317166716206, 156.07635148603234, 415.6753881477859, 262.4125502141298, 326.89832679355203, 517.3085789707084, 345.1254330073226, 311.21935025822336, 1547.2187943880062, 550.2107432353987, 262.55068523247434, 972.4154398678274, 912.9663551607835, 397.05036537802647, 559.0564468494334, 1052.9339562999942, 806.2915009031382, 871.124610694812, 929.5458170755228, 4574.975470007513, 4537.439246228726, 964.1116849730035, 789.342929037027, 5980.459889980475, 4459.853459658232, 990.4927564781708, 1103.0568991383345, 6082.196216517674, 1384.064075531277, 2725.5039974100514, 5088.222188973224, 4283.078267064765, 5759.014876635622, 8079.7436850412, 3988.6696681037492, 5233.531287475055, 7682.504776546756, 3829.996187736485, 7601.36641421051, 4946.107078282001, 3773.0591577185646, 3875.9519754012704, 5332.814161520488, 8400.504161201752, 3817.0673899130416, 2643.1424169214747, 2023.9502868775753, 4696.91779748199, 4638.738232984656, 3254.678742303676, 552.2636198172934, 342.34824163341244, 284.4743781094821, 260.9324685020605, 228.5624952449339, 205.0204355945649, 500.29272845666327, 178.53577906534173, 168.72665052550317, 163.82208523381675, 161.86027825705742, 154.01296964706728, 147.1465675821967, 146.16564880907046, 145.1847445763142, 144.20383470000846, 140.2802038656992, 138.3183933382743, 1185.9744891829669, 132.4328737858302, 126.54739327258437, 123.60467446142353, 121.64286147170384, 119.6810146134368, 116.73827206211912, 113.79552270132986, 112.8146371938733, 111.83370749052746, 110.85278315312867, 2463.19661288627, 1691.0564134830306, 598.5483782309614, 149.11792282202498, 784.9102091020293, 170.7251461884918, 503.60472413713836, 274.8116162662902, 172.6513495128222, 156.9572412076286, 1130.803772717244, 298.59865731025246, 205.12284398085856, 205.17342686990816, 377.5345297423581, 977.4000950186842, 260.3687221496743, 168.79569063166832, 346.359623282224, 370.96362286689566, 785.127432768899, 639.8839022633108, 391.569930387956, 517.5204499691854, 579.0248202708628, 4574.975470007513, 2519.7779607088532, 609.2408727342751, 827.2010143821695, 709.3419215183065, 3817.0673899130416, 4696.91779748199, 6737.752861249728, 7601.36641421051, 6082.196216517674, 8079.7436850412, 8400.504161201752, 2340.2011544377183, 2228.1208121376394, 4638.738232984656, 4499.463312599801, 7682.504776546756, 3829.996187736485, 3597.260134437081, 4537.439246228726, 4619.822758191701], \"Category\": [\"Default\", \"Default\", \"Default\", \"Default\", \"Default\", \"Default\", \"Default\", \"Default\", \"Default\", \"Default\", \"Default\", \"Default\", \"Default\", \"Default\", \"Default\", \"Default\", \"Default\", \"Default\", \"Default\", \"Default\", \"Default\", \"Default\", \"Default\", \"Default\", \"Default\", \"Default\", \"Default\", \"Default\", \"Default\", \"Default\", \"Topic1\", \"Topic1\", \"Topic1\", \"Topic1\", \"Topic1\", \"Topic1\", \"Topic1\", \"Topic1\", \"Topic1\", \"Topic1\", \"Topic1\", \"Topic1\", \"Topic1\", \"Topic1\", \"Topic1\", \"Topic1\", \"Topic1\", \"Topic1\", \"Topic1\", \"Topic1\", \"Topic1\", \"Topic1\", \"Topic1\", \"Topic1\", \"Topic1\", \"Topic1\", \"Topic1\", \"Topic1\", \"Topic1\", \"Topic1\", \"Topic1\", \"Topic1\", \"Topic1\", \"Topic1\", \"Topic1\", \"Topic1\", \"Topic1\", \"Topic1\", \"Topic1\", \"Topic1\", \"Topic1\", \"Topic1\", \"Topic1\", \"Topic1\", \"Topic1\", \"Topic1\", \"Topic1\", \"Topic1\", \"Topic1\", \"Topic1\", \"Topic1\", \"Topic1\", \"Topic1\", \"Topic1\", \"Topic1\", \"Topic1\", \"Topic1\", \"Topic1\", \"Topic1\", \"Topic1\", \"Topic1\", \"Topic1\", \"Topic1\", \"Topic1\", \"Topic1\", \"Topic1\", \"Topic1\", \"Topic1\", \"Topic1\", \"Topic1\", \"Topic1\", \"Topic1\", \"Topic1\", \"Topic1\", \"Topic1\", \"Topic1\", \"Topic1\", \"Topic1\", \"Topic1\", \"Topic1\", \"Topic1\", \"Topic1\", \"Topic1\", \"Topic1\", \"Topic1\", \"Topic2\", \"Topic2\", \"Topic2\", \"Topic2\", \"Topic2\", \"Topic2\", \"Topic2\", \"Topic2\", \"Topic2\", \"Topic2\", \"Topic2\", \"Topic2\", \"Topic2\", \"Topic2\", \"Topic2\", \"Topic2\", \"Topic2\", \"Topic2\", \"Topic2\", \"Topic2\", \"Topic2\", \"Topic2\", \"Topic2\", \"Topic2\", \"Topic2\", \"Topic2\", \"Topic2\", \"Topic2\", \"Topic2\", \"Topic2\", \"Topic2\", \"Topic2\", \"Topic2\", \"Topic2\", \"Topic2\", \"Topic2\", \"Topic2\", \"Topic2\", \"Topic2\", \"Topic2\", \"Topic2\", \"Topic2\", \"Topic2\", \"Topic2\", \"Topic2\", \"Topic2\", \"Topic2\", \"Topic2\", \"Topic2\", \"Topic2\", \"Topic2\", \"Topic2\", \"Topic2\", \"Topic2\", \"Topic2\", \"Topic2\", \"Topic2\", \"Topic2\", \"Topic2\", \"Topic2\", \"Topic2\", \"Topic2\", \"Topic2\", \"Topic2\", \"Topic2\", \"Topic2\", \"Topic2\", \"Topic2\", \"Topic2\", \"Topic2\", \"Topic2\", \"Topic2\", \"Topic2\", \"Topic2\", \"Topic2\", \"Topic2\", \"Topic2\", \"Topic2\", \"Topic2\", \"Topic2\", \"Topic2\", \"Topic2\", \"Topic3\", \"Topic3\", \"Topic3\", \"Topic3\", \"Topic3\", \"Topic3\", \"Topic3\", \"Topic3\", \"Topic3\", \"Topic3\", \"Topic3\", \"Topic3\", \"Topic3\", \"Topic3\", \"Topic3\", \"Topic3\", \"Topic3\", \"Topic3\", \"Topic3\", \"Topic3\", \"Topic3\", \"Topic3\", \"Topic3\", \"Topic3\", \"Topic3\", \"Topic3\", \"Topic3\", \"Topic3\", \"Topic3\", \"Topic3\", \"Topic3\", \"Topic3\", \"Topic3\", \"Topic3\", \"Topic3\", \"Topic3\", \"Topic3\", \"Topic3\", \"Topic3\", \"Topic3\", \"Topic3\", \"Topic3\", \"Topic3\", \"Topic3\", \"Topic3\", \"Topic3\", \"Topic3\", \"Topic3\", \"Topic3\", \"Topic3\", \"Topic3\", \"Topic3\", \"Topic3\", \"Topic3\", \"Topic3\", \"Topic3\", \"Topic3\", \"Topic3\", \"Topic3\", \"Topic3\", \"Topic3\", \"Topic3\", \"Topic3\", \"Topic3\", \"Topic3\", \"Topic3\", \"Topic3\", \"Topic3\", \"Topic3\", \"Topic3\", \"Topic3\", \"Topic3\", \"Topic3\", \"Topic3\", \"Topic3\", \"Topic3\", \"Topic3\", \"Topic3\", \"Topic3\", \"Topic3\", \"Topic3\", \"Topic3\", \"Topic3\", \"Topic3\", \"Topic3\", \"Topic3\", \"Topic4\", \"Topic4\", \"Topic4\", \"Topic4\", \"Topic4\", \"Topic4\", \"Topic4\", \"Topic4\", \"Topic4\", \"Topic4\", \"Topic4\", \"Topic4\", \"Topic4\", \"Topic4\", \"Topic4\", \"Topic4\", \"Topic4\", \"Topic4\", \"Topic4\", \"Topic4\", \"Topic4\", \"Topic4\", \"Topic4\", \"Topic4\", \"Topic4\", \"Topic4\", \"Topic4\", \"Topic4\", \"Topic4\", \"Topic4\", \"Topic4\", \"Topic4\", \"Topic4\", \"Topic4\", \"Topic4\", \"Topic4\", \"Topic4\", \"Topic4\", \"Topic4\", \"Topic4\", \"Topic4\", \"Topic4\", \"Topic4\", \"Topic4\", \"Topic4\", \"Topic4\", \"Topic4\", \"Topic4\", \"Topic4\", \"Topic4\", \"Topic4\", \"Topic4\", \"Topic4\", \"Topic4\", \"Topic4\", \"Topic4\", \"Topic4\", \"Topic4\", \"Topic4\", \"Topic4\", \"Topic4\", \"Topic4\", \"Topic4\", \"Topic4\", \"Topic4\", \"Topic4\", \"Topic4\", \"Topic4\", \"Topic4\", \"Topic4\", \"Topic4\", \"Topic4\", \"Topic4\", \"Topic4\", \"Topic4\", \"Topic4\", \"Topic4\", \"Topic4\", \"Topic4\", \"Topic4\", \"Topic4\", \"Topic4\", \"Topic4\", \"Topic4\", \"Topic4\", \"Topic4\", \"Topic4\", \"Topic4\", \"Topic4\", \"Topic5\", \"Topic5\", \"Topic5\", \"Topic5\", \"Topic5\", \"Topic5\", \"Topic5\", \"Topic5\", \"Topic5\", \"Topic5\", \"Topic5\", \"Topic5\", \"Topic5\", \"Topic5\", \"Topic5\", \"Topic5\", \"Topic5\", \"Topic5\", \"Topic5\", \"Topic5\", \"Topic5\", \"Topic5\", \"Topic5\", \"Topic5\", \"Topic5\", \"Topic5\", \"Topic5\", \"Topic5\", \"Topic5\", \"Topic5\", \"Topic5\", \"Topic5\", \"Topic5\", \"Topic5\", \"Topic5\", \"Topic5\", \"Topic5\", \"Topic5\", \"Topic5\", \"Topic5\", \"Topic5\", \"Topic5\", \"Topic5\", \"Topic5\", \"Topic5\", \"Topic5\", \"Topic5\", \"Topic5\", \"Topic5\", \"Topic5\", \"Topic5\", \"Topic5\", \"Topic5\", \"Topic5\", \"Topic5\", \"Topic5\", \"Topic5\", \"Topic5\", \"Topic5\", \"Topic5\", \"Topic5\", \"Topic5\", \"Topic5\", \"Topic5\", \"Topic5\", \"Topic5\", \"Topic5\", \"Topic5\", \"Topic5\", \"Topic5\", \"Topic5\", \"Topic5\", \"Topic5\", \"Topic5\", \"Topic5\", \"Topic5\"], \"logprob\": [30.0, 29.0, 28.0, 27.0, 26.0, 25.0, 24.0, 23.0, 22.0, 21.0, 20.0, 19.0, 18.0, 17.0, 16.0, 15.0, 14.0, 13.0, 12.0, 11.0, 10.0, 9.0, 8.0, 7.0, 6.0, 5.0, 4.0, 3.0, 2.0, 1.0, -5.8171, -6.2663, -6.4186, -6.1081, -6.9899, -7.092, -7.1777, -7.221, -7.2501, -7.2448, -6.9306, -7.5511, -7.4229, -7.7552, -7.858, -7.883, -7.9241, -7.9086, -7.9294, -7.9616, -7.9893, -7.9949, -8.0063, -8.0651, -8.0592, -8.102, -8.1147, -6.4465, -8.215, -8.078, -4.8549, -6.5248, -7.3805, -7.5816, -6.2278, -6.6536, -5.7087, -6.4464, -7.0986, -6.7655, -6.9335, -6.8409, -6.517, -6.4746, -7.5955, -6.369, -6.4089, -7.2644, -6.2139, -6.6321, -6.6136, -6.6813, -5.7547, -6.2638, -6.7515, -5.673, -5.996, -5.971, -5.3796, -5.0978, -6.297, -5.412, -6.5322, -5.5493, -5.8064, -6.0653, -5.5035, -5.9693, -6.011, -5.5111, -5.7713, -5.7379, -5.5729, -5.7989, -5.9549, -5.8369, -5.8728, -5.8827, -5.9037, -5.8615, -5.8537, -5.9456, -5.8639, -5.8337, -5.9476, -6.2394, -6.3209, -6.4529, -6.5899, -6.7845, -6.8482, -6.8917, -6.9509, -7.0788, -7.1152, -7.1411, -7.1603, -7.1651, -7.1774, -7.2203, -7.3464, -7.5078, -7.6127, -7.6242, -7.6281, -7.6437, -7.7087, -7.7472, -7.7693, -7.7737, -7.801, -7.801, -7.0161, -7.8627, -7.8775, -6.0165, -5.0568, -6.3575, -6.3507, -6.924, -7.0398, -7.3751, -6.4551, -5.2163, -5.7942, -6.7878, -6.9623, -7.2335, -6.7795, -6.9759, -6.6366, -5.6492, -5.5106, -5.9089, -6.2892, -6.2709, -6.1737, -5.9759, -5.5295, -6.3027, -5.7885, -6.4947, -6.2016, -5.5392, -5.6467, -5.2339, -5.9247, -5.8969, -6.3701, -5.7627, -6.1719, -5.7467, -5.5561, -5.232, -5.6856, -5.6365, -5.6587, -5.4794, -5.385, -5.9433, -5.4275, -5.8836, -5.6467, -5.8501, -5.8482, -5.9178, -5.9516, -5.6948, -6.2838, -6.3453, -6.8723, -7.5419, -7.6333, -7.6896, -7.5593, -7.7493, -7.7545, -7.8073, -7.8747, -6.7482, -8.0453, -8.0732, -8.0947, -8.1019, -8.1019, -8.1466, -8.1855, -8.1934, -8.1934, -8.2095, -8.251, -8.2854, -8.3966, -7.695, -8.5552, -8.6388, -8.6388, -7.0469, -7.8148, -7.2275, -5.4436, -6.6141, -7.4868, -7.1899, -6.324, -7.7962, -7.6323, -7.3082, -7.609, -6.8346, -7.516, -7.7605, -6.5804, -4.8107, -7.414, -6.4277, -5.3351, -7.3054, -6.5317, -4.9971, -5.7256, -5.8108, -6.8872, -6.6006, -6.8408, -5.1308, -5.2704, -5.2321, -5.5775, -6.3063, -6.022, -6.0011, -5.7485, -5.8401, -5.6358, -5.4213, -5.7433, -5.7807, -5.6011, -5.7681, -5.7145, -5.8186, -6.1324, -5.8512, -6.059, -6.1357, -5.9532, -5.9771, -6.0875, -6.0399, -6.0083, -6.0398, -6.0447, -6.6524, -6.9008, -7.0507, -7.1373, -7.1647, -7.242, -7.3647, -7.3704, -7.4292, -7.4537, -7.4661, -7.4852, -7.4916, -7.7307, -7.825, -7.8524, -6.9836, -7.9699, -8.0016, -8.0016, -6.9069, -8.0567, -8.0913, -8.0913, -8.1518, -8.1899, -8.0929, -8.257, -8.2708, -8.2708, -6.3273, -6.7284, -6.0611, -6.361, -6.8013, -7.8425, -6.1566, -7.234, -6.7173, -6.7909, -6.5854, -7.5068, -6.5667, -7.0217, -6.8322, -6.435, -6.798, -6.8907, -5.5414, -6.4244, -7.0503, -5.9792, -6.1231, -6.7599, -6.508, -6.1304, -6.3165, -6.3057, -6.3464, -5.5035, -5.6235, -6.3828, -6.4852, -5.6339, -5.7599, -6.3915, -6.3716, -5.7897, -6.3265, -6.1372, -5.9587, -6.021, -5.9472, -5.8709, -6.0793, -6.0389, -6.0208, -6.1531, -6.0376, -6.1428, -6.1891, -6.1886, -6.1826, -6.1418, -6.2278, -6.274, -6.2837, -6.2614, -6.2648, -4.0718, -5.8468, -6.3259, -6.5115, -6.5982, -6.7311, -6.8402, -5.9484, -6.9791, -7.0358, -7.0655, -7.0776, -7.1275, -7.1734, -7.1801, -7.1869, -7.1937, -7.2214, -7.2357, -5.087, -7.2793, -7.3251, -7.3488, -7.3649, -7.3812, -7.4063, -7.432, -7.4407, -7.4495, -7.4584, -4.379, -4.7679, -5.7888, -7.1647, -5.5432, -7.0362, -5.9921, -6.5774, -7.0276, -7.1262, -5.3576, -6.5482, -6.8899, -6.8925, -6.3787, -5.6025, -6.7107, -7.0661, -6.5434, -6.4997, -5.9742, -6.1186, -6.4645, -6.2844, -6.211, -4.9309, -5.4442, -6.2805, -6.1336, -6.2579, -5.5512, -5.4759, -5.3381, -5.3617, -5.4964, -5.4706, -5.4835, -5.8907, -5.9361, -5.7461, -5.8041, -5.71, -5.9104, -5.9625, -5.9975, -6.0076], \"loglift\": [30.0, 29.0, 28.0, 27.0, 26.0, 25.0, 24.0, 23.0, 22.0, 21.0, 20.0, 19.0, 18.0, 17.0, 16.0, 15.0, 14.0, 13.0, 12.0, 11.0, 10.0, 9.0, 8.0, 7.0, 6.0, 5.0, 4.0, 3.0, 2.0, 1.0, 1.3208, 1.3205, 1.3203, 1.3197, 1.3194, 1.3193, 1.3193, 1.3192, 1.3191, 1.3191, 1.3187, 1.3184, 1.3181, 1.3178, 1.3173, 1.3172, 1.3171, 1.3171, 1.3171, 1.317, 1.3168, 1.3168, 1.3168, 1.3164, 1.3163, 1.3163, 1.3162, 1.3159, 1.3157, 1.3157, 1.3034, 1.3133, 1.3139, 1.3135, 1.2997, 1.3033, 1.2915, 1.2971, 1.3036, 1.2951, 1.2908, 1.2865, 1.2654, 1.2628, 1.3071, 1.2523, 1.2474, 1.2842, 1.1794, 1.2034, 1.1888, 1.1976, 0.9928, 1.0993, 1.1993, 0.8256, 0.9131, 0.8755, 0.5473, 0.3933, 0.9767, 0.516, 1.0589, 0.283, 0.4881, 0.682, 0.1718, 0.5892, 0.6224, -0.0563, 0.2814, 0.2183, -0.0287, 0.2803, 0.4905, 0.2265, 0.1872, 0.2052, 0.1871, 0.0478, -0.0591, 0.2651, -0.0861, -0.34, 0.0369, 1.3271, 1.3271, 1.3269, 1.3267, 1.3266, 1.3265, 1.3264, 1.3263, 1.3261, 1.326, 1.326, 1.326, 1.3259, 1.3259, 1.3258, 1.3255, 1.3251, 1.3248, 1.3248, 1.3248, 1.3247, 1.3245, 1.3244, 1.3243, 1.3243, 1.3242, 1.3242, 1.3239, 1.3239, 1.3239, 1.3238, 1.3118, 1.3235, 1.3227, 1.3203, 1.3213, 1.3234, 1.3139, 1.2955, 1.2969, 1.3131, 1.3147, 1.3202, 1.31, 1.3131, 1.2977, 1.254, 1.2385, 1.2495, 1.268, 1.254, 1.2381, 1.2156, 1.162, 1.2461, 1.1834, 1.25, 1.1789, 1.0412, 1.0337, 0.8945, 1.0599, 1.039, 1.1872, 0.9322, 1.0905, 0.8488, 0.6722, 0.3227, 0.6635, 0.6187, 0.6057, 0.3152, 0.1592, 0.8386, 0.0663, 0.5178, -0.1919, 0.2206, -0.0159, 0.2415, -0.0424, 1.4684, 1.4679, 1.4673, 1.4672, 1.4656, 1.4653, 1.4651, 1.4649, 1.4648, 1.4648, 1.4646, 1.4643, 1.4637, 1.4634, 1.4632, 1.4631, 1.4631, 1.4631, 1.4629, 1.4626, 1.4626, 1.4626, 1.4625, 1.4622, 1.462, 1.461, 1.4598, 1.4598, 1.459, 1.459, 1.4566, 1.4572, 1.4447, 1.3829, 1.4124, 1.4371, 1.422, 1.3681, 1.4391, 1.4269, 1.3953, 1.4202, 1.3415, 1.4046, 1.429, 1.2835, 0.6803, 1.3418, 1.0658, 0.7248, 1.3098, 1.0349, 0.4577, 0.7189, 0.746, 1.1455, 1.0282, 1.1138, 0.3629, 0.4049, 0.3226, 0.4711, 0.7959, 0.6114, 0.5734, 0.4108, 0.4628, 0.2911, 0.1228, 0.3475, 0.3448, 0.1766, 0.2847, 0.1947, 0.2448, 0.6032, 0.1333, 0.3553, 0.4964, 0.1093, 0.0591, 0.3808, 0.0392, -0.176, -0.1118, -0.0885, 1.9579, 1.9573, 1.9568, 1.9565, 1.9564, 1.9561, 1.9556, 1.9556, 1.9553, 1.9552, 1.9551, 1.955, 1.955, 1.9536, 1.953, 1.9528, 1.9522, 1.9518, 1.9516, 1.9516, 1.9513, 1.9511, 1.9508, 1.9508, 1.9502, 1.9499, 1.9493, 1.9491, 1.949, 1.949, 1.9445, 1.9421, 1.9339, 1.9328, 1.9334, 1.9446, 1.9036, 1.9301, 1.9125, 1.9131, 1.8957, 1.9337, 1.8942, 1.8993, 1.869, 1.8072, 1.8489, 1.8596, 1.6052, 1.7562, 1.8701, 1.6319, 1.5511, 1.7469, 1.6566, 1.4011, 1.4819, 1.4154, 1.3097, 0.559, 0.4473, 1.2368, 1.3345, 0.1607, 0.3281, 1.2011, 1.1134, -0.012, 0.9316, 0.4432, -0.0025, 0.1075, -0.1149, -0.3772, 0.1203, -0.1109, -0.4767, 0.0871, -0.4829, -0.1583, 0.0661, 0.0397, -0.2734, -0.687, 0.0158, 0.3371, 0.5943, -0.2253, -0.2161, 2.3312, 2.33, 2.3291, 2.3287, 2.3284, 2.3279, 2.3276, 2.3273, 2.327, 2.3267, 2.3266, 2.3265, 2.3263, 2.326, 2.326, 2.326, 2.3259, 2.3258, 2.3256, 2.3255, 2.3254, 2.3252, 2.325, 2.3249, 2.3248, 2.3246, 2.3244, 2.3244, 2.3243, 2.3243, 2.3026, 2.2898, 2.3075, 2.3214, 2.2821, 2.3146, 2.2769, 2.2973, 2.312, 2.3087, 2.1025, 2.2435, 2.2773, 2.2745, 2.1785, 2.0034, 2.2181, 2.296, 2.1, 2.075, 1.8508, 1.9109, 2.0562, 1.9574, 1.9185, 1.1316, 1.2147, 1.7982, 1.6392, 1.6686, 0.6924, 0.5603, 0.3372, 0.1931, 0.2813, 0.0231, -0.0288, 0.8421, 0.8458, 0.3026, 0.275, -0.1658, 0.3298, 0.3404, 0.0733, 0.0451]}, \"token.table\": {\"Topic\": [1, 1, 2, 3, 4, 5, 1, 2, 3, 4, 5, 1, 2, 3, 4, 5, 4, 1, 2, 3, 4, 5, 3, 1, 2, 4, 3, 1, 2, 3, 4, 5, 1, 3, 3, 1, 2, 3, 4, 5, 1, 2, 3, 4, 5, 3, 3, 1, 2, 3, 4, 5, 1, 2, 3, 4, 5, 4, 1, 1, 3, 4, 5, 1, 2, 3, 4, 5, 3, 3, 3, 1, 2, 3, 4, 5, 3, 1, 2, 3, 4, 5, 4, 5, 1, 3, 5, 1, 3, 4, 5, 1, 2, 3, 4, 5, 1, 2, 3, 4, 5, 1, 1, 2, 3, 4, 2, 1, 2, 3, 4, 5, 1, 2, 3, 4, 5, 2, 3, 4, 5, 3, 1, 3, 4, 5, 5, 4, 5, 5, 1, 4, 5, 4, 2, 3, 4, 1, 2, 3, 4, 5, 2, 2, 3, 1, 5, 1, 3, 1, 3, 5, 1, 1, 2, 3, 4, 1, 2, 3, 4, 5, 1, 4, 1, 2, 3, 4, 3, 5, 1, 2, 3, 4, 5, 2, 4, 2, 1, 2, 3, 4, 5, 2, 4, 1, 3, 1, 2, 3, 4, 5, 1, 2, 3, 4, 5, 2, 3, 5, 1, 3, 1, 3, 4, 5, 1, 2, 3, 4, 5, 1, 1, 2, 3, 4, 5, 5, 5, 3, 4, 5, 1, 2, 2, 1, 4, 2, 4, 5, 1, 2, 3, 4, 5, 2, 1, 3, 4, 5, 1, 2, 2, 3, 4, 5, 3, 5, 1, 2, 3, 4, 5, 1, 2, 3, 4, 5, 1, 3, 4, 1, 2, 3, 4, 5, 1, 2, 3, 4, 5, 1, 2, 3, 4, 5, 1, 2, 1, 2, 3, 4, 5, 1, 5, 1, 2, 3, 4, 5, 1, 3, 4, 5, 3, 1, 2, 3, 4, 5, 1, 3, 5, 2, 3, 5, 1, 3, 1, 2, 3, 1, 2, 3, 4, 5, 2, 3, 4, 5, 2, 4, 5, 2, 1, 3, 4, 5, 1, 2, 4, 2, 2, 3, 4, 5, 1, 2, 5, 2, 5, 5, 1, 1, 3, 1, 2, 3, 4, 5, 2, 1, 2, 3, 4, 5, 5, 1, 2, 3, 4, 5, 1, 1, 2, 3, 4, 5, 1, 2, 3, 4, 5, 1, 2, 3, 4, 5, 1, 3, 4, 1, 2, 2, 3, 4, 1, 2, 3, 1, 3, 4, 5, 1, 2, 1, 2, 3, 4, 5, 3, 4, 1, 3, 5, 1, 2, 3, 4, 5, 5, 4, 5, 4, 1, 2, 2, 1, 2, 3, 4, 4, 5, 2, 5, 1, 2, 1, 3, 5, 1, 1, 1, 3, 1, 3, 4, 5, 2, 4, 1, 2, 3, 4, 5, 1, 2, 1, 3, 4, 5, 1, 2, 3, 4, 5, 1, 3, 3, 3, 1, 2, 3, 4, 5, 1, 2, 4, 1, 3, 4, 5, 1, 2, 3, 4, 5, 1, 3, 4, 5, 1, 1, 2, 3, 4, 5, 1, 3, 5, 4, 4, 1, 2, 1, 2, 3, 4, 2, 1, 2, 3, 4, 5, 1, 2, 3, 4, 5, 1, 2, 3, 4, 5, 5, 1, 2, 3, 4, 5, 1, 2, 3, 4, 5, 1, 2, 3, 4, 5, 2, 4, 2, 3, 2, 2, 1, 3, 1, 2, 3, 4, 2, 3, 1, 2, 4, 2, 5, 1, 3, 4, 1, 3, 1, 3, 1, 1, 2, 4, 5, 2, 3, 4, 5, 1, 2, 3, 4, 5, 1, 3, 2, 4, 1, 2, 3, 4, 5, 1, 2, 3, 4, 5, 1, 2, 3, 4, 5, 5, 1, 1, 2, 3, 4, 5, 3, 4, 4, 3, 2, 4, 5, 1, 1, 3, 4, 1, 2, 3, 4, 5, 4, 5, 5, 2, 1, 3, 4, 5, 1, 2, 3, 4, 5, 1, 2, 3, 4, 5, 2, 3, 4, 5, 5, 1, 2, 3, 4, 5, 4, 2, 2, 1, 2, 3, 2, 3, 4, 1, 2, 3, 4, 5, 2, 1, 2, 3, 4, 5, 1, 1, 5, 5, 4, 1, 2, 3, 4, 5, 4, 1, 2, 3, 4, 5, 1, 2, 3, 4, 5, 1, 2, 3, 4, 5, 1, 3, 4, 1, 2, 3, 4, 5, 1, 1, 3, 4, 3, 5, 1, 2, 3, 4, 5, 1, 2, 3, 4, 5, 2, 3, 4, 5, 1, 2, 3, 4, 5, 5, 3, 1, 2, 3, 4, 5, 1, 2, 4, 5, 2, 4, 1, 2, 3, 4, 5, 1, 2, 3, 4, 5, 3, 4, 5, 5, 5, 5, 1, 2, 4, 1, 2, 4, 5, 1, 2, 3, 4, 5, 3, 3, 3, 2, 3, 5, 1, 3, 4, 5, 2, 4, 2, 1, 2, 3, 4, 1, 2, 4, 2, 4, 5, 1, 2, 3, 4, 4, 4, 5, 1, 2, 3, 4, 5, 1, 3, 4, 5, 1, 2, 3, 4, 5, 1, 2, 3, 4, 5, 3, 3, 4, 5, 4, 1, 1, 2, 3, 4, 5, 1, 2, 3, 4, 5, 1, 2, 3, 4, 5, 1, 2, 3, 4, 5, 1, 2, 3, 4, 5, 1, 2, 3, 4, 5, 4, 1, 2, 3, 4, 5, 1, 3, 4, 1, 2, 3, 4, 1, 2, 5, 2, 3, 2, 3, 5, 3, 1, 2, 3, 4, 5, 1, 2, 3, 4, 5, 2, 3, 1, 1, 2, 3, 4, 5, 1, 2, 3, 4, 1, 2, 3, 4, 5, 4, 4, 1, 1, 2, 3, 4, 5, 2, 4, 1, 2, 3, 4, 5, 1, 2, 3, 4, 5, 1, 2, 3, 4, 5, 1, 2, 3, 4, 5, 1, 2, 3, 4, 5, 1, 2, 3, 4, 5, 1, 2, 3, 2, 1, 2, 3, 4, 5, 1, 2, 3, 4, 1, 4, 1, 3, 4, 5, 1, 2, 3, 4, 5, 1, 2, 3, 4, 5, 1, 2, 3, 4, 5, 3, 5, 1, 2, 3, 4, 5, 4, 4], \"Freq\": [0.9974954015807194, 0.251485676297197, 0.3631827718866435, 0.147145874429211, 0.16537189751192008, 0.07290409233083636, 0.2637161143423896, 0.0216752970692375, 0.2788888222908558, 0.3576424016424188, 0.07875357935156292, 0.3319430514768521, 0.2411451297584947, 0.21068262355428388, 0.14052059313555315, 0.07586146706338953, 0.9949451696758759, 0.1761273033328287, 0.5146992930453572, 0.15633117667723803, 0.06783084574636213, 0.08529801632482448, 0.994216685207846, 0.020756833873141645, 0.928396569598699, 0.05000509978529578, 0.9935413365054497, 0.06887648364353269, 0.05854501109700279, 0.12971737752865323, 0.5797104039997335, 0.1630076779563607, 0.9756046615366443, 0.023480256595346433, 0.9938376019858516, 0.7691575024468139, 0.05342771642160044, 0.11290385357017452, 0.029234033513705904, 0.03528245424067954, 0.04885125366779594, 0.003618611382799699, 0.8811318717117267, 0.025330279679597893, 0.04161403090219654, 0.9992492429122068, 0.9993966726286719, 0.09262886510105513, 0.02526241775483322, 0.8533083330521443, 0.028069353060925797, 0.0028069353060925797, 0.27191372904583205, 0.18181902601437913, 0.3249927788938198, 0.11453900230355253, 0.10662370539639647, 0.9918798734797213, 0.9982218539270951, 0.9967994439895781, 0.0019468739140421447, 0.9738823245980532, 0.01922136166969842, 0.07695295245298606, 0.7651322129611186, 0.010993278921855152, 0.13521733073881836, 0.012092606814040667, 0.9959935057496733, 0.9965871815384895, 0.9968476773153411, 0.13422120200287233, 0.18528361580831287, 0.40849931044352444, 0.11671408869814985, 0.1557403621065937, 0.9927251303964817, 0.0026956821056246987, 0.02426113895062229, 0.08626182737999036, 0.11052296633061265, 0.7736607643142885, 0.0019988297712918344, 0.9954172261033335, 0.9822081535720293, 0.015878653752896547, 0.9967313721022906, 0.9285277872894294, 0.043037209144353626, 0.01936674411495913, 0.007531511600261885, 0.6091978731346502, 0.07369874380874238, 0.19945990296861468, 0.0598379708905844, 0.05780956509768324, 0.18289026103093084, 0.2568155300924987, 0.24485074666056864, 0.08973587573947542, 0.22562163043068104, 0.999623895445805, 0.9973870043027491, 0.0012580188053078762, 0.9988669314144537, 0.9943464270781229, 0.995031691563041, 0.13178590910823745, 0.7453000028952014, 0.06812317763133505, 0.024329706296905375, 0.03041213287113172, 0.015543375145455555, 0.20379091857375062, 0.05699237553333704, 0.06217350058182222, 0.6614569645232753, 0.015237605132224462, 0.9371127156318044, 0.04190341411361727, 0.0038094012830561155, 0.9962948305698434, 0.0026487643413237796, 0.08740922326368473, 0.05032652248515181, 0.8581996465889046, 0.99220798961854, 0.006706101996830513, 0.9925030955309159, 0.9976981128063307, 0.008899869526148765, 0.981952271051747, 0.008899869526148765, 0.9928161509913984, 0.08118183677530016, 0.9174016814781031, 0.0009385183442231234, 0.027465776490461846, 0.9246811418455487, 0.003923682355780263, 0.025503935312571713, 0.018964464719604605, 0.9956301189985364, 0.03938243454014125, 0.9583059071434372, 0.9973130111529298, 0.9951079968127561, 0.9942554023379108, 0.004785826244707152, 0.9708504536492323, 0.024564358804235895, 0.004466247055315617, 0.9985072477299727, 0.9789813670991456, 0.0009458757170040054, 0.01891751434008011, 0.0009458757170040054, 0.7082229742113628, 0.05871278542684873, 0.14604805374928623, 0.06311624433386238, 0.023485114170739493, 0.9970337168385951, 0.9932108394782313, 0.9651414195639276, 0.024128535489098192, 0.0017234668206498709, 0.008617334103249354, 0.011714735905347348, 0.9840378160491773, 0.021437502086819743, 0.9422756599070314, 0.010718751043409872, 0.0175397744346707, 0.00876988721733535, 0.9954020754486362, 0.9974580794775245, 0.9956298196715849, 0.05481451147684514, 0.8656351069858218, 0.032020358189444195, 0.03961840928524451, 0.008140769031214625, 0.9955455263438697, 0.002131789135639978, 0.11630747998826398, 0.8819983899110018, 0.0045328577373531746, 0.3653483336306659, 0.1867537387789508, 0.42880834195361034, 0.015411716307000793, 0.2767833324941913, 0.25838502478274394, 0.2630351465120109, 0.12029662734407875, 0.08147821986498108, 0.9982215666451556, 0.9890991707178806, 0.9934228289384421, 0.9915069845055038, 0.003713509305264059, 0.030140791928105506, 0.030140791928105506, 0.023442838166304283, 0.914270688485867, 0.0769548831319238, 0.7491322296719929, 0.0005235026063396176, 0.16228580796528147, 0.010993554733131971, 0.9966292573209472, 0.25961991629597125, 0.08460827629288349, 0.37822603877047006, 0.1854427973542652, 0.09233505951597788, 0.992025152157378, 0.9975389871189011, 0.9890994139753592, 0.971958324905218, 0.024298958122630453, 0.0052794303917173945, 0.9925329136428702, 0.9990068101244367, 0.013938566534272041, 0.9836645525614841, 0.9962468259754891, 0.003137785278662958, 0.0007844463196657395, 0.018806578723926798, 0.9250485909831494, 0.03408692393711732, 0.01763116755368137, 0.0047016446809816995, 0.9987618321293912, 0.0038661643771294315, 0.12758342444527124, 0.8582884917227338, 0.009665410942823579, 0.9841258725915062, 0.011225770409789044, 0.012463783840261375, 0.945689598879832, 0.04050729748084947, 0.001557972980032672, 0.9290387112779854, 0.06745495593437517, 0.2522467651152097, 0.2187963918271616, 0.3637876895668149, 0.070829082229141, 0.09439909614740977, 0.006080489575337604, 0.9146793604043566, 0.07513747832381468, 0.00043432068395268597, 0.003908886155574174, 0.18292021283806176, 0.152250955595752, 0.6637703531728469, 0.31998352917153494, 0.006201231185494863, 0.04836960324685993, 0.6201231185494863, 0.00496098494839589, 0.15814174761442307, 0.12371633316774594, 0.14200483459254318, 0.5217601877074503, 0.05378971007293302, 0.05370751988341524, 0.8470208861002739, 0.023778901933115146, 0.044277955323731646, 0.031158561153737087, 0.9924255814452632, 0.00774324250802546, 0.054623852873848765, 0.009639503448326254, 0.016065839080543754, 0.9029001563265591, 0.016065839080543754, 0.9954135357922573, 0.9950227615524979, 0.35347676425560354, 0.15520075932104577, 0.30607234822867324, 0.08355298897897304, 0.10173550471532987, 0.8009387261754498, 0.040127190690152796, 0.1492731493673684, 0.009630525765636671, 0.9933520846845282, 0.5275914936242613, 0.06416067465603177, 0.2722493492161348, 0.08410250596804164, 0.052022168640025755, 0.9459930187243298, 0.009765089225541469, 0.043942901514936614, 0.03567287018986948, 0.011466279703886618, 0.9517012154225893, 0.8754583900358421, 0.12328645890974164, 0.004452667045457293, 0.9840394170460617, 0.011280089848491808, 0.22451791190920622, 0.17657534728915403, 0.2617192462045473, 0.14304175017786067, 0.19412808952709662, 0.011426365150575263, 0.06855819090345158, 0.914109212046021, 0.0038087883835250876, 0.9991875903849304, 0.02962160930346603, 0.9656644632929925, 0.9982701763784109, 0.058159533221453875, 0.11813655185607819, 0.8160509505135247, 0.009087427065852168, 0.0012043240617700445, 0.9863414065896665, 0.01324756467947049, 0.999554678743998, 0.02598249756644781, 0.001623906097902988, 0.000811953048951494, 0.9715018230704626, 0.09601767752129851, 0.007681414201703881, 0.8910440473976502, 0.0191134857934429, 0.9747877754655879, 0.993675835275973, 0.9956643534837122, 0.020800882552082803, 0.9746699252975942, 0.11142733475083648, 0.36598683031502605, 0.31783759239435766, 0.08695804990590662, 0.11787354419923197, 0.9980640707114654, 0.18284566870046803, 0.018753401917996723, 0.03906958732915984, 0.10158092705581558, 0.6563690671298853, 0.9956744010411556, 0.9822225975322603, 0.00048112789494600064, 0.012509325268596017, 0.0019245115797840026, 0.0026462034222030036, 0.998065241551656, 0.1404589617549587, 0.13830907968728076, 0.48551503361726794, 0.10032782982497049, 0.13544257026371018, 0.22461538512885698, 0.24867371547915162, 0.2442026983344066, 0.1124141453535891, 0.170111557078632, 0.06898712824133138, 0.2789479533236443, 0.42077863312414543, 0.04413462241526169, 0.18725077665504233, 0.4971016420957614, 0.4243739310342804, 0.07853045396532261, 0.004377934270791731, 0.9948855630374209, 0.03489559582918829, 0.9621214278619056, 0.00498508511845547, 0.2680975857907338, 0.00783911069563549, 0.7243338282767193, 0.47662766337786194, 0.51001014563779, 0.008654717622944315, 0.004945552927396752, 0.013427489033930104, 0.9852420078646213, 0.05440032013695024, 0.0012088960030433387, 0.41586022504690845, 0.029013504073040125, 0.5004829452599422, 0.025665990119644124, 0.9737978604217917, 0.996665010814874, 0.9705534350431639, 0.026090146103310858, 0.024199893172746418, 0.06495760799000354, 0.2649251463121713, 0.026747250348824986, 0.6190077937870926, 0.9969990381303591, 0.9942608648208825, 0.9977119263845201, 0.9939537542400119, 0.012009881107728236, 0.9868118976850034, 0.9968164233101408, 0.034962446169614025, 0.9287849830275726, 0.005067021184002033, 0.031415531340812604, 0.9973070647306893, 0.9916518537630234, 0.9985529895229087, 0.9947151730572091, 0.9983668654063373, 0.0008562323030929137, 0.9991301677328785, 0.9907117711746053, 0.010827451051088583, 0.9974144159161117, 0.9994290371706851, 0.8676468146125321, 0.13151176694317696, 0.8831289491890266, 0.09946962289191472, 0.0026883681862679655, 0.01478602502447381, 0.998683302076994, 0.996657913270171, 0.6405285987873135, 0.3207430203195068, 0.018670116108150395, 0.0019148837034000405, 0.018191395182300386, 0.003050846935655592, 0.994576101023723, 0.2798458136647421, 0.7017895016255709, 0.01014984816400619, 0.01014984816400619, 0.25929043429705395, 0.31070595716218263, 0.2602015954617525, 0.08747147181105436, 0.08226483658420589, 0.9703241146870588, 0.028483095343064348, 0.9917189872671616, 0.994559304054505, 0.12104241117903845, 0.11826438862738839, 0.32066317453332155, 0.11231148315956682, 0.32740980073018594, 0.021413385833634904, 0.06424015750090471, 0.9115984254890287, 0.7197919326795742, 0.23675084050785994, 0.0398920830159764, 0.003468876783997948, 0.09959906768469158, 0.05363026721483393, 0.028092044731579675, 0.061291733959810205, 0.7584852077526513, 0.009928421558330005, 0.009928421558330005, 0.03177094898665602, 0.9471714166646825, 0.9963254823229523, 0.18985750783654692, 0.2831772998240022, 0.33095109253906546, 0.09653771584909165, 0.09938434080361615, 0.973631715411744, 0.022567622542656318, 0.003223946077522331, 0.9955651201594304, 0.9927590878305281, 0.0033083671035118813, 0.9958184981570763, 0.04083163484316487, 0.8615474951907788, 0.08492980047378293, 0.012249490452949461, 0.9962573742160616, 0.05165305578148574, 0.8683560887038453, 0.018517133204683567, 0.030212164702378454, 0.030212164702378454, 0.2797772348351629, 0.25408723404936046, 0.279589716581252, 0.10707292298316222, 0.07932022140433909, 0.3478159719307596, 0.2023011265311561, 0.24032765407460646, 0.12421998997527128, 0.08543293188095188, 0.9997914564362824, 0.32758923879798496, 0.26077089987820434, 0.1423813597787272, 0.19552211925519705, 0.07399346256217319, 0.4809798884915664, 0.14931912956156093, 0.2347469008011078, 0.06855758112081282, 0.06676288004435176, 0.0016114641569164093, 0.008057320784582047, 0.04350953223674305, 0.9443179959530159, 0.0016114641569164093, 0.003868005833625444, 0.9902094934081137, 0.998943063322082, 0.993479247482326, 0.9991542470328946, 0.9954932981096047, 0.030577995409766943, 0.9670291048338795, 0.04570874423107507, 0.012028616902914492, 0.004811446761165797, 0.9358263950467476, 0.9928131956438665, 0.004354443840543274, 0.0014207012384250817, 0.9703389458443308, 0.02699332353007655, 0.017376058794010184, 0.9788513120625736, 0.019938098111282294, 0.025634697571648664, 0.9541804096113669, 0.8854883441074562, 0.11411676865332634, 0.9935275539091089, 0.006076621124826353, 0.996970174302173, 0.02437563707173729, 0.019500509657389833, 0.009750254828694916, 0.9457747183834068, 0.9963588144609462, 0.9971821194011111, 0.9913826082288373, 0.007157997171327345, 0.21034582199404556, 0.2582314620427496, 0.26274424487456466, 0.1589502397428187, 0.10981104890749935, 0.09479598927133918, 0.9044652623418362, 0.06136728696399212, 0.9376921448097997, 0.16153575980595897, 0.1019694483775116, 0.20091010125866146, 0.468453703437281, 0.06764309941874531, 0.19526213282464197, 0.48574799069801344, 0.15674467100717834, 0.10940029085654598, 0.05296150999901248, 0.18182061626184756, 0.3303625500321327, 0.16286719444546102, 0.22038862577193644, 0.10446420861589786, 0.9983324399454369, 0.9972847051424448, 0.44692576990945304, 0.16776435484416408, 0.20578839426784135, 0.1261098794956131, 0.05350116099813888, 0.9941648000972598, 0.9972324545819936, 0.9939538857297213, 0.9972411175984529, 0.9844514709868818, 0.010128101553362981, 0.0040512406213451925, 0.9976567878211228, 0.01221275138509425, 0.014248209949276626, 0.9729491936791753, 0.3953691535032719, 0.05616389785950319, 0.45449554267844117, 0.06418731183943222, 0.02987178743296653, 0.9941963864096658, 0.9964263991084992, 0.9949818412295056, 0.9968517149141769, 0.0753349290240466, 0.02028248089108947, 0.8953266564780923, 0.008692491810466916, 0.06455585112223847, 0.0565969105729214, 0.05129095020671002, 0.03183576219726829, 0.7950097282040053, 0.07217931398322738, 0.020210207915303667, 0.08661517677987286, 0.025984553033961858, 0.7939724538155013, 0.0033727538294315686, 0.0008431884573578922, 0.0016863769147157843, 0.9941191912249548, 0.9989827853890795, 0.1869788046799291, 0.619413848969566, 0.10429096675374531, 0.04916574146962279, 0.04022651574787319, 0.993234828752457, 0.9957621054089347, 0.9972388039187268, 0.9637454511450362, 0.03151211284397939, 0.005252018807329897, 0.03810793344998155, 0.019053966724990774, 0.9412659562145443, 0.1548006796286177, 0.519098279021298, 0.15093066263790225, 0.1465446433817581, 0.02889612686400864, 0.9941448754921339, 0.01614380314312935, 0.7506868461555148, 0.013208566208014924, 0.21940896089980347, 0.00036690461688930346, 0.9976239803851956, 0.9970648916873658, 0.9923070659222812, 0.9956933269092938, 0.9949451129664364, 0.4356789720870975, 0.24300563711701242, 0.17407923608778067, 0.11477047241146497, 0.032379379088150737, 0.9939741684015903, 0.026604406307432594, 0.3306547641066622, 0.0975494897939195, 0.5346218791303121, 0.011401888417471112, 0.2282797409460711, 0.20204069026261465, 0.33684381314887213, 0.08691685538894948, 0.1459547194267265, 0.06893825066513325, 0.1066901498388967, 0.13951788825086492, 0.09848321523590464, 0.5859751306536326, 0.9329545812776746, 0.06337442033177967, 0.003116774770415394, 0.16430280262583735, 0.25262743062701004, 0.0028491815484249254, 0.5717357640506017, 0.007597817462466468, 0.9972160809809477, 0.008392887820574357, 0.9539915822719518, 0.03636918055582221, 0.9918654742788804, 0.0048148809431013614, 0.3218010323467399, 0.11184548075465961, 0.47507076523275493, 0.022892349862064832, 0.06845902720655578, 0.014566487224994805, 0.09534428001814782, 0.8302897718247039, 0.02648452222726328, 0.03178142667271594, 0.009747851027843464, 0.03411747859745212, 0.014621776541765196, 0.945541549700816, 0.0296213740477924, 0.613072681049764, 0.08033675688719455, 0.05071538283940214, 0.22619958363768744, 0.9927789760784912, 0.9934792474826903, 0.3109845758593325, 0.049962506523229526, 0.4724019046266894, 0.09223847358134682, 0.07430321482941828, 0.05217185137632272, 0.10434370275264544, 0.15265097254553686, 0.6878955218507737, 0.042947473903643854, 0.9540474560023742, 0.4611351876166624, 0.10306829524544607, 0.30805968245583326, 0.05649669517157785, 0.07119347060472478, 0.3184278385844856, 0.1763281190858715, 0.008297793839335129, 0.48542093960110505, 0.011409466529085803, 0.029110850948338613, 0.0036388563685423266, 0.9679357940322588, 0.9946850563565004, 0.9930091915530121, 0.9943097523392792, 0.00995550761925347, 0.9822767517663423, 0.006637005079502313, 0.9974372688283902, 0.99936415866876, 0.02338992220040371, 0.9756938975025548, 0.3531532295308064, 0.20913605348551847, 0.23936188055675173, 0.07045284692338932, 0.12801526759581153, 0.9962688443828521, 0.9900748499630778, 0.9956210683332378, 0.9994885487285855, 0.9943682623596726, 0.9908739520586608, 0.043702478395251536, 0.42856623974698277, 0.011278058940710073, 0.5159711965374858, 0.025306524461510157, 0.9743011917681411, 0.9937757323860255, 0.9823957543992096, 0.007266240786976402, 0.007266240786976402, 0.002906496314790561, 0.012839481436836574, 0.9696865504201335, 0.01773071246039336, 0.998074047400607, 0.998458247881208, 0.9918397447350852, 0.020682272032933404, 0.25658943740858003, 0.021328593033962572, 0.7012582861166482, 0.9963085878964248, 0.9876272438181196, 0.009060800402001096, 0.3423954737384424, 0.07037078244790088, 0.3563939627200141, 0.19711385836213094, 0.03367204106378052, 0.16659546255458402, 0.10900690759744387, 0.7198569369642519, 0.005141835264030371, 0.1629669028855609, 0.6483654574687716, 0.0287176634024699, 0.15689650249154286, 0.0032686771352404766, 0.26536624396476216, 0.19016878373118787, 0.3284451052350745, 0.11341765696386204, 0.1025419912276013, 0.9941647652271156, 0.001182692655344741, 0.03902885762637646, 0.9591637434845851, 0.9965598766484024, 0.9965551941794529, 0.051520688960347547, 0.7887744915478561, 0.05514890649276639, 0.046441184414961166, 0.05805148051870146, 0.015460329924058009, 0.9218221717219588, 0.0009662706202536256, 0.025123036126594264, 0.03671828356963777, 0.4347487341631814, 0.1604462671420238, 0.2392909963561455, 0.08904492145510944, 0.07636360137171924, 0.3217956752970711, 0.18372261825136763, 0.32584341964043045, 0.11063834538515652, 0.058017668921484515, 0.3168712245708575, 0.13253676980879425, 0.34507053729613285, 0.06945935976541512, 0.1360987882583027, 0.24481288452290648, 0.21275209709378173, 0.27457187182891457, 0.13909449315404895, 0.12873639260002404, 0.995275064970466, 0.35405360876427705, 0.2608084945384719, 0.19308857917894856, 0.1255423046280394, 0.06650442969922418, 0.0831128815826202, 0.1082986032743233, 0.8084616663036693, 0.8894333847973427, 0.010297347436148685, 0.09396329535485676, 0.006435842147592928, 0.9428933945370335, 0.0035008418113998767, 0.05367957444146478, 0.0037507228816508623, 0.9939415636374785, 0.002510193550280674, 0.9865060652603048, 0.007530580650842021, 0.9990048373268701, 0.23785924459063182, 0.2624023499600274, 0.21096626743054941, 0.1537860538571703, 0.1349870795316758, 0.12105040404819961, 0.3587044626081343, 0.1571184836217448, 0.2549469734239633, 0.10820423872063557, 0.9918012332566302, 0.005811335351113067, 0.9964042643049557, 0.23988775158799033, 0.4448046544790102, 0.1346684436664038, 0.14571186957071025, 0.03497084869697046, 0.0210641981834775, 0.9141862011629235, 0.0025277037820173, 0.0623500266230934, 0.14851046270710458, 0.673028024899787, 0.055537153643931074, 0.11601094316732269, 0.006582181172614054, 0.9916889920586853, 0.9930559048071448, 0.9962829553950661, 0.07976380404535019, 0.893624991084347, 0.016223146585494952, 0.010139466615934345, 0.0006759644410622897, 0.9976877199291907, 0.9935094694722658, 0.20348620988268548, 0.3373777278646655, 0.3470102111727216, 0.06140708108885775, 0.05057053736729462, 0.2596607186159271, 0.0036571932199426353, 0.6683520609445166, 0.0667437762639531, 0.0018285966099713176, 0.11268987300841793, 0.016098553286916846, 0.11268987300841793, 0.7387447230551842, 0.01967600957289837, 0.3345026805036675, 0.19361338930395405, 0.29402982511244546, 0.10238538553022655, 0.0754764059998465, 0.19725191507762035, 0.1890600322656536, 0.3686347265385036, 0.11339290418669759, 0.13150127671841355, 0.06699082912903016, 0.043962731615926044, 0.6437399986617742, 0.054430048667337014, 0.19050517033567954, 0.0042462090727452325, 0.04246209072745233, 0.9511508322949321, 0.9977940746923821, 0.011254347176822938, 0.20155512671219264, 0.06036422576659576, 0.006138734823721603, 0.720278219316668, 0.001027743025347869, 0.9681339298776925, 0.02877680470974033, 0.0017129050422464481, 0.9977468172769864, 0.9964121292561451, 0.20165112326891646, 0.6482345865083705, 0.14361494632810637, 0.006885648111621538, 0.6651294393842796, 0.14474847569742175, 0.11926458913097426, 0.03312905253638174, 0.03822582984967124, 0.12854290901000937, 0.49217357119914923, 0.2003679159001383, 0.15054097385089757, 0.028623987985734043, 0.2804912523119193, 0.13148896168834273, 0.36555599285448354, 0.08589870858709917, 0.1364927699555524, 0.9930154681046967, 0.9925451144450516, 0.11650335690196055, 0.07912610731427715, 0.25683197816098247, 0.24634011862759764, 0.3012038007709224, 0.9927341735685719, 0.9916889920266672], \"Term\": [\"adl\", \"also\", \"also\", \"also\", \"also\", \"also\", \"american\", \"american\", \"american\", \"american\", \"american\", \"andn\", \"andn\", \"andn\", \"andn\", \"andn\", \"antibiotic\", \"anyone\", \"anyone\", \"anyone\", \"anyone\", \"anyone\", \"apartment\", \"application\", \"application\", \"application\", \"appressian\", \"april\", \"april\", \"april\", \"april\", \"april\", \"arab\", \"arab\", \"argicn\", \"argument\", \"argument\", \"argument\", \"argument\", \"argument\", \"arm\", \"arm\", \"arm\", \"arm\", \"arm\", \"armenia\", \"armenian\", \"army\", \"army\", \"army\", \"army\", \"army\", \"article\", \"article\", \"article\", \"article\", \"article\", \"astronomer\", \"atheism\", \"atheist\", \"atheist\", \"atmosphere\", \"atmosphere\", \"available\", \"available\", \"available\", \"available\", \"available\", \"azerbaijan\", \"azerbaijani\", \"azeri\", \"back\", \"back\", \"back\", \"back\", \"back\", \"baku\", \"ball\", \"ball\", \"ball\", \"ball\", \"ball\", \"baseball\", \"baseball\", \"batf\", \"batf\", \"batting\", \"belief\", \"belief\", \"belief\", \"belief\", \"believe\", \"believe\", \"believe\", \"believe\", \"believe\", \"better\", \"better\", \"better\", \"better\", \"better\", \"bible\", \"biblical\", \"bike\", \"bike\", \"billboard\", \"bios\", \"bit\", \"bit\", \"bit\", \"bit\", \"bit\", \"blue\", \"blue\", \"blue\", \"blue\", \"blue\", \"bmw\", \"bmw\", \"bmw\", \"bmw\", \"bosnian\", \"boston\", \"boston\", \"boston\", \"boston\", \"bruin\", \"buffalo\", \"buffalo\", \"calgary\", \"cancer\", \"cancer\", \"cancer\", \"candida\", \"car\", \"car\", \"car\", \"card\", \"card\", \"card\", \"card\", \"card\", \"cardn\", \"carn\", \"carn\", \"catholic\", \"chi\", \"christ\", \"christ\", \"christian\", \"christian\", \"christian\", \"christianity\", \"church\", \"church\", \"church\", \"church\", \"claim\", \"claim\", \"claim\", \"claim\", \"claim\", \"clhn\", \"clinical\", \"clipper\", \"clipper\", \"clipper\", \"clipper\", \"coach\", \"coach\", \"color\", \"color\", \"color\", \"color\", \"color\", \"com\", \"comet\", \"compression\", \"computer\", \"computer\", \"computer\", \"computer\", \"computer\", \"controller\", \"controller\", \"cop\", \"cop\", \"cost\", \"cost\", \"cost\", \"cost\", \"cost\", \"could\", \"could\", \"could\", \"could\", \"could\", \"cpu\", \"croat\", \"cub\", \"cult\", \"cult\", \"cup\", \"cup\", \"cup\", \"cup\", \"data\", \"data\", \"data\", \"data\", \"data\", \"davidians\", \"day\", \"day\", \"day\", \"day\", \"day\", \"det\", \"detroit\", \"diesel\", \"diet\", \"diet\", \"digital\", \"digital\", \"directory\", \"disease\", \"disease\", \"disk\", \"disk\", \"disk\", \"display\", \"display\", \"display\", \"display\", \"display\", \"do\", \"doctor\", \"doctor\", \"doctor\", \"doctor\", \"doctrine\", \"doctrine\", \"dod\", \"dod\", \"dod\", \"dod\", \"dog\", \"dog\", \"dont\", \"dont\", \"dont\", \"dont\", \"dont\", \"drive\", \"drive\", \"drive\", \"drive\", \"drive\", \"drug\", \"drug\", \"drug\", \"earth\", \"earth\", \"earth\", \"earth\", \"earth\", \"effect\", \"effect\", \"effect\", \"effect\", \"effect\", \"email\", \"email\", \"email\", \"email\", \"email\", \"encryption\", \"encryption\", \"energy\", \"energy\", \"energy\", \"energy\", \"energy\", \"escrow\", \"espn\", \"even\", \"even\", \"even\", \"even\", \"even\", \"evidence\", \"evidence\", \"evidence\", \"evidence\", \"exterminationn\", \"fact\", \"fact\", \"fact\", \"fact\", \"fact\", \"faith\", \"faith\", \"faith\", \"fan\", \"fan\", \"fan\", \"fbi\", \"fbi\", \"file\", \"file\", \"file\", \"first\", \"first\", \"first\", \"first\", \"first\", \"flight\", \"flight\", \"flight\", \"flight\", \"floppy\", \"flyer\", \"flyer\", \"font\", \"food\", \"food\", \"food\", \"food\", \"format\", \"format\", \"format\", \"ftp\", \"game\", \"game\", \"game\", \"game\", \"gamen\", \"gamen\", \"gamen\", \"gamesn\", \"gamesn\", \"gant\", \"gaza\", \"genocide\", \"genocide\", \"get\", \"get\", \"get\", \"get\", \"get\", \"gif\", \"goal\", \"goal\", \"goal\", \"goal\", \"goal\", \"goalie\", \"god\", \"god\", \"god\", \"god\", \"god\", \"godn\", \"going\", \"going\", \"going\", \"going\", \"going\", \"good\", \"good\", \"good\", \"good\", \"good\", \"got\", \"got\", \"got\", \"got\", \"got\", \"government\", \"government\", \"government\", \"graphic\", \"graphic\", \"greece\", \"greece\", \"greece\", \"greek\", \"greek\", \"greek\", \"gun\", \"gun\", \"gun\", \"gun\", \"hardware\", \"hardware\", \"he\", \"he\", \"he\", \"he\", \"he\", \"health\", \"health\", \"hebrew\", \"helmet\", \"helmet\", \"hit\", \"hit\", \"hit\", \"hit\", \"hit\", \"hitter\", \"hiv\", \"hockey\", \"hulk\", \"ibm\", \"ibm\", \"ide\", \"image\", \"image\", \"image\", \"image\", \"infection\", \"inning\", \"interface\", \"islander\", \"israel\", \"israel\", \"israeli\", \"istanbul\", \"istanbul\", \"jehovah\", \"jesus\", \"jew\", \"jew\", \"jewish\", \"jewish\", \"jewish\", \"jewish\", \"jpeg\", \"jupiter\", \"key\", \"key\", \"key\", \"key\", \"key\", \"keyboard\", \"keyboard\", \"killed\", \"killed\", \"killed\", \"killed\", \"know\", \"know\", \"know\", \"know\", \"know\", \"koresh\", \"koresh\", \"kurd\", \"kuwait\", \"last\", \"last\", \"last\", \"last\", \"last\", \"launch\", \"launch\", \"launch\", \"law\", \"law\", \"law\", \"law\", \"leaf\", \"leaf\", \"leaf\", \"leaf\", \"leaf\", \"league\", \"league\", \"league\", \"league\", \"lebanese\", \"like\", \"like\", \"like\", \"like\", \"like\", \"lord\", \"lord\", \"lord\", \"lunar\", \"lyme\", \"mac\", \"mac\", \"machine\", \"machine\", \"machine\", \"machine\", \"macintosh\", \"mail\", \"mail\", \"mail\", \"mail\", \"mail\", \"make\", \"make\", \"make\", \"make\", \"make\", \"many\", \"many\", \"many\", \"many\", \"many\", \"maxaxaxaxaxaxaxaxaxaxaxaxaxaxaxn\", \"may\", \"may\", \"may\", \"may\", \"may\", \"mean\", \"mean\", \"mean\", \"mean\", \"mean\", \"medical\", \"medical\", \"medical\", \"medical\", \"medical\", \"medicine\", \"medicine\", \"meg\", \"melkonian\", \"mhz\", \"microsoft\", \"militia\", \"militia\", \"mission\", \"mission\", \"mission\", \"mission\", \"modem\", \"modem\", \"monitor\", \"monitor\", \"monitor\", \"montreal\", \"montreal\", \"moon\", \"moon\", \"moon\", \"moral\", \"moral\", \"morality\", \"morality\", \"mormon\", \"morris\", \"morris\", \"morris\", \"morris\", \"motherboard\", \"motorcycle\", \"msg\", \"msg\", \"much\", \"much\", \"much\", \"much\", \"much\", \"muslim\", \"muslim\", \"nasa\", \"nasa\", \"national\", \"national\", \"national\", \"national\", \"national\", \"need\", \"need\", \"need\", \"need\", \"need\", \"new\", \"new\", \"new\", \"new\", \"new\", \"nhl\", \"nsa\", \"ofn\", \"ofn\", \"ofn\", \"ofn\", \"ofn\", \"ohanus\", \"orbit\", \"orbiter\", \"ottoman\", \"output\", \"output\", \"output\", \"palestinian\", \"patient\", \"patient\", \"patient\", \"people\", \"people\", \"people\", \"people\", \"people\", \"physician\", \"pitcher\", \"pitching\", \"pixel\", \"planet\", \"planet\", \"planet\", \"planet\", \"play\", \"play\", \"play\", \"play\", \"play\", \"played\", \"played\", \"played\", \"played\", \"played\", \"player\", \"player\", \"player\", \"player\", \"playoff\", \"please\", \"please\", \"please\", \"please\", \"please\", \"pluto\", \"postscript\", \"printer\", \"privacy\", \"privacy\", \"privacy\", \"probe\", \"probe\", \"probe\", \"problem\", \"problem\", \"problem\", \"problem\", \"problem\", \"processor\", \"program\", \"program\", \"program\", \"program\", \"program\", \"prophet\", \"psalm\", \"ptsn\", \"puck\", \"quack\", \"question\", \"question\", \"question\", \"question\", \"question\", \"radiation\", \"rate\", \"rate\", \"rate\", \"rate\", \"rate\", \"really\", \"really\", \"really\", \"really\", \"really\", \"red\", \"red\", \"red\", \"red\", \"red\", \"religion\", \"religion\", \"religion\", \"research\", \"research\", \"research\", \"research\", \"research\", \"revelation\", \"ride\", \"ride\", \"ride\", \"riding\", \"riding\", \"right\", \"right\", \"right\", \"right\", \"right\", \"road\", \"road\", \"road\", \"road\", \"road\", \"roger\", \"roger\", \"roger\", \"roger\", \"run\", \"run\", \"run\", \"run\", \"run\", \"sabre\", \"sahak\", \"said\", \"said\", \"said\", \"said\", \"said\", \"san\", \"san\", \"san\", \"san\", \"satellite\", \"satellite\", \"say\", \"say\", \"say\", \"say\", \"say\", \"science\", \"science\", \"science\", \"science\", \"science\", \"score\", \"score\", \"score\", \"scored\", \"scorer\", \"scoring\", \"screen\", \"screen\", \"screen\", \"scripture\", \"scsi\", \"season\", \"season\", \"see\", \"see\", \"see\", \"see\", \"see\", \"serb\", \"serbian\", \"serdar\", \"server\", \"shaft\", \"shark\", \"shot\", \"shot\", \"shot\", \"shot\", \"shuttle\", \"shuttle\", \"simms\", \"sin\", \"sin\", \"sin\", \"sin\", \"software\", \"software\", \"software\", \"softwaren\", \"solar\", \"sox\", \"space\", \"space\", \"space\", \"space\", \"spacecraft\", \"spencer\", \"spencer\", \"state\", \"state\", \"state\", \"state\", \"state\", \"study\", \"study\", \"study\", \"study\", \"system\", \"system\", \"system\", \"system\", \"system\", \"take\", \"take\", \"take\", \"take\", \"take\", \"tartar\", \"team\", \"team\", \"team\", \"temperature\", \"testament\", \"thanks\", \"thanks\", \"thanks\", \"thanks\", \"thanks\", \"thanksn\", \"thanksn\", \"thanksn\", \"thanksn\", \"thanksn\", \"thatn\", \"thatn\", \"thatn\", \"thatn\", \"thatn\", \"thing\", \"thing\", \"thing\", \"thing\", \"thing\", \"think\", \"think\", \"think\", \"think\", \"think\", \"time\", \"time\", \"time\", \"time\", \"time\", \"titan\", \"ton\", \"ton\", \"ton\", \"ton\", \"ton\", \"treatment\", \"treatment\", \"treatment\", \"truth\", \"truth\", \"truth\", \"truth\", \"tttn\", \"tttn\", \"tttn\", \"turk\", \"turk\", \"turkey\", \"turkey\", \"turkey\", \"turkish\", \"two\", \"two\", \"two\", \"two\", \"two\", \"university\", \"university\", \"university\", \"university\", \"university\", \"unix\", \"unix\", \"unto\", \"used\", \"used\", \"used\", \"used\", \"used\", \"user\", \"user\", \"user\", \"user\", \"using\", \"using\", \"using\", \"using\", \"using\", \"utzoohenryn\", \"venus\", \"verse\", \"version\", \"version\", \"version\", \"version\", \"version\", \"vga\", \"vitamin\", \"want\", \"want\", \"want\", \"want\", \"want\", \"war\", \"war\", \"war\", \"war\", \"war\", \"water\", \"water\", \"water\", \"water\", \"water\", \"way\", \"way\", \"way\", \"way\", \"way\", \"well\", \"well\", \"well\", \"well\", \"well\", \"went\", \"went\", \"went\", \"went\", \"went\", \"wheel\", \"wheel\", \"wheel\", \"widget\", \"win\", \"win\", \"win\", \"win\", \"win\", \"window\", \"window\", \"window\", \"window\", \"wiretap\", \"wolverine\", \"woman\", \"woman\", \"woman\", \"woman\", \"word\", \"word\", \"word\", \"word\", \"word\", \"work\", \"work\", \"work\", \"work\", \"work\", \"writesn\", \"writesn\", \"writesn\", \"writesn\", \"writesn\", \"xsoviet\", \"yankee\", \"year\", \"year\", \"year\", \"year\", \"year\", \"yeast\", \"zoologyn\"]}, \"R\": 30, \"lambda.step\": 0.01, \"plot.opts\": {\"xlab\": \"PC1\", \"ylab\": \"PC2\"}, \"topic.order\": [5, 3, 4, 2, 1]};\n",
              "\n",
              "function LDAvis_load_lib(url, callback){\n",
              "  var s = document.createElement('script');\n",
              "  s.src = url;\n",
              "  s.async = true;\n",
              "  s.onreadystatechange = s.onload = callback;\n",
              "  s.onerror = function(){console.warn(\"failed to load library \" + url);};\n",
              "  document.getElementsByTagName(\"head\")[0].appendChild(s);\n",
              "}\n",
              "\n",
              "if(typeof(LDAvis) !== \"undefined\"){\n",
              "   // already loaded: just create the visualization\n",
              "   !function(LDAvis){\n",
              "       new LDAvis(\"#\" + \"ldavis_el1401403452910781764231977124\", ldavis_el1401403452910781764231977124_data);\n",
              "   }(LDAvis);\n",
              "}else if(typeof define === \"function\" && define.amd){\n",
              "   // require.js is available: use it to load d3/LDAvis\n",
              "   require.config({paths: {d3: \"https://cdnjs.cloudflare.com/ajax/libs/d3/3.5.5/d3.min\"}});\n",
              "   require([\"d3\"], function(d3){\n",
              "      window.d3 = d3;\n",
              "      LDAvis_load_lib(\"https://cdn.rawgit.com/bmabey/pyLDAvis/files/ldavis.v1.0.0.js\", function(){\n",
              "        new LDAvis(\"#\" + \"ldavis_el1401403452910781764231977124\", ldavis_el1401403452910781764231977124_data);\n",
              "      });\n",
              "    });\n",
              "}else{\n",
              "    // require.js not available: dynamically load d3 & LDAvis\n",
              "    LDAvis_load_lib(\"https://cdnjs.cloudflare.com/ajax/libs/d3/3.5.5/d3.min.js\", function(){\n",
              "         LDAvis_load_lib(\"https://cdn.rawgit.com/bmabey/pyLDAvis/files/ldavis.v1.0.0.js\", function(){\n",
              "                 new LDAvis(\"#\" + \"ldavis_el1401403452910781764231977124\", ldavis_el1401403452910781764231977124_data);\n",
              "            })\n",
              "         });\n",
              "}\n",
              "</script>"
            ],
            "text/plain": [
              "PreparedData(topic_coordinates=                x           y  topics  cluster       Freq\n",
              "topic                                                    \n",
              "4      150.222153  -72.269554       1        1  26.679354\n",
              "2       51.163364 -159.968018       2        1  26.502750\n",
              "3      -73.144554   21.523815       3        1  23.018418\n",
              "1      -66.410133 -110.606438       4        1  14.084024\n",
              "0       54.417324   12.443444       5        1   9.715454, topic_info=                                   Term         Freq  ...  logprob  loglift\n",
              "9299   maxaxaxaxaxaxaxaxaxaxaxaxaxaxaxn  3254.000000  ...  30.0000  30.0000\n",
              "6272                               game  2463.000000  ...  29.0000  29.0000\n",
              "6470                                god  4156.000000  ...  28.0000  28.0000\n",
              "5784                               file  3368.000000  ...  27.0000  27.0000\n",
              "15075                              team  1691.000000  ...  26.0000  26.0000\n",
              "...                                 ...          ...  ...      ...      ...\n",
              "8404                               know   632.328718  ...  -5.7100  -0.1658\n",
              "15913                               two   517.490672  ...  -5.9104   0.3298\n",
              "16995                           writesn   491.197239  ...  -5.9625   0.3404\n",
              "10098                               new   474.342524  ...  -5.9975   0.0733\n",
              "5301                               even   469.561292  ...  -6.0076   0.0451\n",
              "\n",
              "[448 rows x 6 columns], token_table=       Topic      Freq      Term\n",
              "term                            \n",
              "283        1  0.997495       adl\n",
              "540        1  0.251486      also\n",
              "540        2  0.363183      also\n",
              "540        3  0.147146      also\n",
              "540        4  0.165372      also\n",
              "...      ...       ...       ...\n",
              "17089      3  0.256832      year\n",
              "17089      4  0.246340      year\n",
              "17089      5  0.301204      year\n",
              "17094      4  0.992734     yeast\n",
              "17171      4  0.991689  zoologyn\n",
              "\n",
              "[977 rows x 3 columns], R=30, lambda_step=0.01, plot_opts={'xlab': 'PC1', 'ylab': 'PC2'}, topic_order=[5, 3, 4, 2, 1])"
            ]
          },
          "metadata": {
            "tags": []
          },
          "execution_count": 50
        }
      ]
    },
    {
      "cell_type": "markdown",
      "metadata": {
        "id": "d3X2lQrMA3Qs",
        "colab_type": "text"
      },
      "source": [
        "# LDA Unigram - tf - stem"
      ]
    },
    {
      "cell_type": "code",
      "metadata": {
        "id": "vg-5naCkA80T",
        "colab_type": "code",
        "colab": {}
      },
      "source": [
        "data_token_stem_tf = count.fit_transform(df.token_stem)"
      ],
      "execution_count": 29,
      "outputs": []
    },
    {
      "cell_type": "code",
      "metadata": {
        "id": "dXmkT6rnA9DW",
        "colab_type": "code",
        "colab": {
          "base_uri": "https://localhost:8080/",
          "height": 374
        },
        "outputId": "11b118cb-9774-470a-f9a3-d7b57929b4e8"
      },
      "source": [
        "# Parametri di ricerca\n",
        "search_params = {'n_components': [5,10, 15, 20, 25, 30], 'learning_decay': [.5, .7, .9]}\n",
        "\n",
        "# Inizializzazione Modello\n",
        "lda = LatentDirichletAllocation()\n",
        "\n",
        "# Inizializzazione GridSearchCV\n",
        "model = GridSearchCV(lda, param_grid=search_params)\n",
        "\n",
        "# Grid Search\n",
        "model.fit(data_token_stem_tf)"
      ],
      "execution_count": 30,
      "outputs": [
        {
          "output_type": "execute_result",
          "data": {
            "text/plain": [
              "GridSearchCV(cv=None, error_score=nan,\n",
              "             estimator=LatentDirichletAllocation(batch_size=128,\n",
              "                                                 doc_topic_prior=None,\n",
              "                                                 evaluate_every=-1,\n",
              "                                                 learning_decay=0.7,\n",
              "                                                 learning_method='batch',\n",
              "                                                 learning_offset=10.0,\n",
              "                                                 max_doc_update_iter=100,\n",
              "                                                 max_iter=10,\n",
              "                                                 mean_change_tol=0.001,\n",
              "                                                 n_components=10, n_jobs=None,\n",
              "                                                 perp_tol=0.1,\n",
              "                                                 random_state=None,\n",
              "                                                 topic_word_prior=None,\n",
              "                                                 total_samples=1000000.0,\n",
              "                                                 verbose=0),\n",
              "             iid='deprecated', n_jobs=None,\n",
              "             param_grid={'learning_decay': [0.5, 0.7, 0.9],\n",
              "                         'n_components': [5, 10, 15, 20, 25, 30]},\n",
              "             pre_dispatch='2*n_jobs', refit=True, return_train_score=False,\n",
              "             scoring=None, verbose=0)"
            ]
          },
          "metadata": {
            "tags": []
          },
          "execution_count": 30
        }
      ]
    },
    {
      "cell_type": "code",
      "metadata": {
        "id": "EdSHQhWdA9Ks",
        "colab_type": "code",
        "colab": {
          "base_uri": "https://localhost:8080/",
          "height": 68
        },
        "outputId": "7b832443-c246-47e9-e2df-ae2053938515"
      },
      "source": [
        "# Stimato il Miglior modello \n",
        "best_lda_model = model.best_estimator_\n",
        "\n",
        "# Parametri del modello\n",
        "print(\"Best Model Params: \", model.best_params_)\n",
        "\n",
        "# Log Likelihood Score\n",
        "print(\"Best Log Likelihood Score: \", model.best_score_)\n",
        "\n",
        "# Perplessità\n",
        "print(\"Model Perplexity: \", best_lda_model.perplexity(data_token_stem_tf))"
      ],
      "execution_count": 31,
      "outputs": [
        {
          "output_type": "stream",
          "text": [
            "Best Model Params:  {'learning_decay': 0.9, 'n_components': 5}\n",
            "Best Log Likelihood Score:  -3475926.180923336\n",
            "Model Perplexity:  3102.246173168067\n"
          ],
          "name": "stdout"
        }
      ]
    },
    {
      "cell_type": "code",
      "metadata": {
        "id": "P3_CnW11A9gC",
        "colab_type": "code",
        "colab": {
          "base_uri": "https://localhost:8080/",
          "height": 861
        },
        "outputId": "272956b8-3888-4798-d3a1-871bc3b72335"
      },
      "source": [
        "pyLDAvis.enable_notebook()\n",
        "vis = pyLDAvis.sklearn.prepare(best_lda_model, data_token_stem_tf, count, mds='tsne')\n",
        "vis"
      ],
      "execution_count": 32,
      "outputs": [
        {
          "output_type": "execute_result",
          "data": {
            "text/html": [
              "\n",
              "<link rel=\"stylesheet\" type=\"text/css\" href=\"https://cdn.rawgit.com/bmabey/pyLDAvis/files/ldavis.v1.0.0.css\">\n",
              "\n",
              "\n",
              "<div id=\"ldavis_el1391401613088313207103566084\"></div>\n",
              "<script type=\"text/javascript\">\n",
              "\n",
              "var ldavis_el1391401613088313207103566084_data = {\"mdsDat\": {\"x\": [150.22215270996094, 51.16336441040039, -73.1445541381836, -66.4101333618164, 54.41732406616211], \"y\": [-72.2695541381836, -159.968017578125, 21.523815155029297, -110.60643768310547, 12.44344425201416], \"topics\": [1, 2, 3, 4, 5], \"cluster\": [1, 1, 1, 1, 1], \"Freq\": [24.807491265466965, 20.866413481963555, 20.465433395811534, 19.95671064903533, 13.903951207722601]}, \"tinfo\": {\"Term\": [\"god\", \"maxaxaxaxaxaxaxaxaxaxaxaxaxaxaxn\", \"file\", \"window\", \"game\", \"govern\", \"armenian\", \"christian\", \"drive\", \"program\", \"imag\", \"gun\", \"car\", \"team\", \"key\", \"peopl\", \"jesu\", \"space\", \"softwar\", \"system\", \"law\", \"player\", \"play\", \"data\", \"user\", \"encrypt\", \"israel\", \"turkish\", \"scsi\", \"comput\", \"jesu\", \"god\", \"bibl\", \"christ\", \"atheist\", \"godn\", \"scriptur\", \"vers\", \"homosexu\", \"cathol\", \"atheism\", \"biblic\", \"revel\", \"jehovah\", \"mormon\", \"psalm\", \"clhn\", \"propheci\", \"gospel\", \"satan\", \"pope\", \"testament\", \"unto\", \"candida\", \"christiann\", \"theist\", \"theism\", \"quran\", \"thou\", \"sinner\", \"christian\", \"church\", \"sin\", \"prophet\", \"faith\", \"tttn\", \"belief\", \"holi\", \"doctrin\", \"lord\", \"heaven\", \"worship\", \"moral\", \"religion\", \"msg\", \"sex\", \"teach\", \"truth\", \"spirit\", \"mari\", \"believ\", \"life\", \"natur\", \"say\", \"evid\", \"word\", \"love\", \"peopl\", \"argument\", \"mean\", \"think\", \"dont\", \"human\", \"see\", \"thing\", \"know\", \"reason\", \"thatn\", \"ofn\", \"exist\", \"make\", \"like\", \"way\", \"even\", \"point\", \"seem\", \"time\", \"ton\", \"mani\", \"come\", \"question\", \"good\", \"andn\", \"read\", \"also\", \"get\", \"may\", \"maxaxaxaxaxaxaxaxaxaxaxaxaxaxaxn\", \"encrypt\", \"ftp\", \"server\", \"jpeg\", \"font\", \"directori\", \"widget\", \"gif\", \"motif\", \"postscript\", \"menu\", \"xterm\", \"sharewar\", \"openwindow\", \"hiv\", \"char\", \"polygon\", \"bitmap\", \"sgi\", \"algorithm\", \"tiff\", \"decrypt\", \"rsa\", \"cipher\", \"anonym\", \"xview\", \"graphicsn\", \"colormap\", \"directoryn\", \"file\", \"graphic\", \"escrow\", \"filen\", \"user\", \"databas\", \"window\", \"clipper\", \"do\", \"unix\", \"format\", \"pgp\", \"imag\", \"softwaren\", \"softwar\", \"key\", \"byte\", \"applic\", \"version\", \"entri\", \"display\", \"data\", \"program\", \"chip\", \"color\", \"avail\", \"code\", \"system\", \"bit\", \"email\", \"comput\", \"use\", \"inform\", \"mail\", \"run\", \"set\", \"includ\", \"need\", \"get\", \"work\", \"also\", \"know\", \"problem\", \"ton\", \"like\", \"pleas\", \"look\", \"arab\", \"isra\", \"batf\", \"palestinian\", \"firearm\", \"gun\", \"militia\", \"assault\", \"adl\", \"handgun\", \"atf\", \"democrat\", \"lebanes\", \"kuwait\", \"lebanon\", \"iran\", \"gaza\", \"zionist\", \"raid\", \"chi\", \"homicid\", \"nra\", \"libertarian\", \"stl\", \"zionism\", \"fbi\", \"iraq\", \"attorney\", \"iraqi\", \"grenad\", \"citizen\", \"amend\", \"clinton\", \"nazi\", \"crime\", \"govern\", \"weapon\", \"feder\", \"israel\", \"polic\", \"presid\", \"crimin\", \"territori\", \"terrorist\", \"court\", \"civilian\", \"countri\", \"congress\", \"governmentn\", \"polici\", \"war\", \"constitut\", \"arm\", \"jew\", \"american\", \"polit\", \"state\", \"nation\", \"law\", \"kill\", \"right\", \"fire\", \"peopl\", \"drug\", \"attack\", \"report\", \"ofn\", \"public\", \"think\", \"articl\", \"ton\", \"dont\", \"said\", \"like\", \"make\", \"say\", \"year\", \"andn\", \"get\", \"time\", \"well\", \"want\", \"even\", \"could\", \"know\", \"bike\", \"hockey\", \"ide\", \"playoff\", \"bmw\", \"nhl\", \"simm\", \"pitcher\", \"motorcycl\", \"rider\", \"motherboard\", \"espn\", \"coach\", \"player\", \"honda\", \"hitter\", \"scsi\", \"puck\", \"cub\", \"bruin\", \"sox\", \"diamond\", \"inning\", \"shark\", \"sabr\", \"goali\", \"mustang\", \"dma\", \"pitch\", \"philli\", \"game\", \"basebal\", \"season\", \"fan\", \"score\", \"team\", \"dod\", \"ride\", \"clutch\", \"car\", \"leaf\", \"drive\", \"brake\", \"play\", \"win\", \"blue\", \"hit\", \"mhz\", \"card\", \"speed\", \"ttn\", \"leagu\", \"bu\", \"got\", \"get\", \"year\", \"guy\", \"last\", \"good\", \"like\", \"think\", \"dont\", \"look\", \"know\", \"time\", \"better\", \"run\", \"back\", \"well\", \"realli\", \"new\", \"writesn\", \"much\", \"first\", \"articl\", \"make\", \"anyon\", \"also\", \"armenian\", \"turkish\", \"armenia\", \"turk\", \"myer\", \"detector\", \"azeri\", \"solar\", \"azerbaijani\", \"istanbul\", \"temperatur\", \"radar\", \"serdar\", \"azerbaijan\", \"hst\", \"tartar\", \"lunar\", \"ohanu\", \"argicn\", \"appressian\", \"melkonian\", \"sahak\", \"exterminationn\", \"xsoviet\", \"antenna\", \"orbit\", \"baku\", \"voltag\", \"ankara\", \"stove\", \"batteri\", \"shuttl\", \"saturn\", \"amp\", \"spacecraft\", \"turkey\", \"greec\", \"wire\", \"circuit\", \"moon\", \"flight\", \"satellit\", \"launch\", \"nasa\", \"space\", \"ottoman\", \"russian\", \"mission\", \"electr\", \"georgia\", \"probe\", \"heat\", \"greek\", \"insur\", \"air\", \"cost\", \"radio\", \"water\", \"work\", \"ground\", \"univers\", \"monitor\", \"power\", \"engin\", \"light\", \"new\", \"like\", \"use\", \"get\", \"year\", \"also\", \"could\", \"time\", \"two\", \"know\", \"system\", \"look\", \"problem\", \"need\", \"dont\", \"make\", \"may\", \"andn\", \"way\", \"ton\", \"ofn\", \"thing\", \"want\"], \"Freq\": [4088.0, 3317.0, 3500.0, 3003.0, 2478.0, 2689.0, 1497.0, 2239.0, 2627.0, 3117.0, 2128.0, 1651.0, 2108.0, 1700.0, 2116.0, 8096.0, 1489.0, 1561.0, 1664.0, 4368.0, 2369.0, 1190.0, 1844.0, 1937.0, 1207.0, 1077.0, 1187.0, 831.0, 1020.0, 2274.0, 1488.2259224494326, 4085.4175204568687, 979.1357560669767, 820.8502524499319, 518.1125998457709, 428.8483113477406, 408.2509473009189, 316.04481810924733, 872.8086302886741, 367.8301333825378, 220.89835504356373, 190.48958833769396, 187.5465009553862, 186.56805913857372, 183.62061674987513, 174.7967744567147, 173.8152467244368, 173.8096576093764, 170.871846470162, 200.12079756586667, 162.0385168061186, 160.08268623411337, 156.15813739883407, 153.2162807630153, 148.30655017546178, 133.59867879348505, 131.63722995454447, 131.63564012217205, 130.64475913666942, 128.6919204504872, 2212.9237758092154, 1030.9466516166206, 799.7170785026586, 211.68902715660732, 831.9292405018471, 818.6291401268778, 737.6305329997051, 331.17945749303635, 280.68920969948306, 587.9171203889609, 344.66118217845315, 248.62444196729552, 1010.5715444466967, 859.5033066764198, 267.13883807511115, 400.65856718575174, 431.05421859273054, 663.9712703582259, 330.8632059742943, 323.00699550805314, 2328.9800313167657, 1063.2247050926298, 753.9223818170201, 3440.8154926920115, 948.7323413522467, 1329.3249741065765, 880.8508167661519, 3545.091651474643, 729.4891380223614, 1702.7805074520609, 2888.3765441072205, 3005.644949737815, 965.3125297559724, 1958.920914810684, 1846.9973188631632, 2600.721805662269, 1335.6479060547997, 1554.089374136587, 1863.7352063019391, 1040.7263390802123, 1928.57912456204, 2298.743175336801, 1632.3935306782907, 1656.7450285973393, 1410.0548224886247, 1403.6225553090098, 1726.6967571503708, 1664.789573171102, 1432.7814170826664, 1361.9530372059323, 1319.8161831957034, 1446.7866647837554, 1449.3014777373958, 1290.069898141157, 1420.978649871782, 1400.5700559946208, 1341.60727399375, 3316.277778833115, 1076.8691722183728, 835.9651958163923, 730.9713962840955, 625.0260537869216, 539.042963038897, 508.05607514622966, 431.07925840339016, 466.9071801401092, 324.10673237709756, 262.1196119475207, 205.13698282079642, 200.14298619674548, 195.14385381848444, 184.14849662802695, 176.14100296348346, 164.14954835632244, 162.15358763374607, 159.15437594621318, 157.15408108849795, 581.692832728618, 148.1571595325445, 148.15591777431464, 144.15676206201897, 141.1576550212552, 582.4502014059022, 135.16221690753017, 145.0632151949396, 125.1649258127227, 120.16471786772294, 3412.3561534152273, 983.2275469111984, 336.517695879459, 347.74765391286576, 1181.2123605164188, 214.88042258747848, 2860.1072774372788, 572.3855465367665, 927.6319850434161, 514.4296945085035, 988.7205695871634, 284.97755597653884, 2011.0462762844409, 286.60879749088446, 1537.6129650889789, 1903.2297098898912, 322.1066510444054, 1053.7784233928637, 1319.0081961899361, 535.7419384445083, 897.0463231425022, 1632.7504229118313, 2503.286547235938, 1199.1323259880594, 929.1998935447131, 1513.1875014347625, 878.608423716524, 2626.6141973106833, 1667.9713894293714, 1668.944071762768, 1556.3912914200246, 3304.5859547036303, 1487.8656059916405, 1005.0881546976553, 1692.3737756882622, 1256.463089036295, 1302.885181813368, 1570.3943406854685, 2000.7563859366105, 1627.5448211723437, 1710.923193838793, 1554.3461580813464, 1303.836541758436, 1394.854091023866, 1438.728302462428, 1160.3310892925178, 1195.0424819166321, 900.9458701531075, 874.5453338018451, 454.1203988684698, 407.41572547154254, 390.1519405268026, 1647.414497216232, 265.24719019183345, 250.0117067250152, 217.5175008528901, 213.45337024654629, 198.21733970655583, 171.7807630921592, 159.6359778383735, 147.44860487987532, 147.44854987792002, 153.50127767037645, 144.40338958765332, 133.23146504573532, 140.24403432561215, 127.12318103103644, 119.01572283988102, 112.91849197971446, 206.609396023078, 107.82489283167321, 101.75014098529297, 810.8641932971933, 99.71768589668196, 219.5226301901202, 94.6432079429444, 94.64048049514332, 522.2557931231287, 337.5796187346425, 659.8314531934445, 407.74033332300814, 668.1166035866469, 2564.1636458382195, 749.8780518042921, 544.2202682923372, 1128.2809595562223, 731.3344111281368, 1093.5332913566479, 518.3681838823095, 260.8096140059095, 238.8413177168382, 541.1310356802079, 320.35470488571127, 991.4976082410512, 355.4721806523947, 302.3296611717958, 572.2007638985109, 924.8425152584372, 487.3470437762346, 700.9231920655787, 951.8943806205165, 1069.9903148591015, 660.7369354520107, 1983.2199650300638, 1136.4716968610683, 1542.212914342133, 1199.2456414586518, 2408.5807907391627, 867.3251714766313, 3213.0660831587925, 708.8636930837595, 687.0507298733023, 824.9513793501233, 1379.044558824443, 840.0214784701363, 1538.4370213202121, 1146.6546860412486, 1258.887761008546, 1388.896081191528, 1026.341741333225, 1405.297176422284, 1257.2249611346142, 1241.7535186884897, 1097.651450717829, 1111.9845358658717, 1242.45586018558, 1153.4227510509215, 1078.2605520969746, 1078.9730065373167, 1070.948483442845, 1034.012871509654, 1023.3719759218317, 788.7743865487265, 556.4343169529727, 412.6968220619804, 342.8002549230319, 298.49590003020387, 294.5597989117879, 267.97562087022186, 262.07159926162853, 262.04296284557944, 240.403053907208, 252.1671231443476, 223.6763803154759, 201.03081925503056, 1185.4720339131145, 192.1700378937782, 178.3898328929805, 1015.4275786587676, 168.54494652600235, 153.7762435390951, 146.8856450278176, 145.89971393630668, 145.89513422600223, 143.9317100046967, 139.9911884235495, 130.14803674678203, 126.21178854544826, 123.25713246801524, 122.26844895462247, 452.8042334770844, 117.34858873393797, 2426.904269362502, 499.3085934363217, 601.3359164443202, 777.1165210886753, 544.5744971220956, 1623.7134418879705, 615.3860799451969, 540.1717674458682, 267.36294814837834, 1902.4727644519005, 273.6099407056655, 2339.501813682699, 271.2554915638228, 1542.1814838455894, 987.29780608866, 508.3870105047716, 781.2050714925228, 487.3098420589079, 1134.8121150005234, 796.8769132152139, 503.8409483638398, 435.8539353342111, 436.26510599950075, 1219.3141637723827, 3074.760605281865, 1829.3927827269251, 686.7297464718324, 1234.4644082352534, 1769.3969904707303, 2579.4645680805247, 2038.347480521656, 2179.523799141083, 1433.7958217219896, 1896.7573401905534, 1620.3398046844566, 1004.0399362256712, 1162.1286859468119, 1091.535397040478, 1311.3927399993474, 1102.2626527622313, 1279.455704411766, 1153.1381388985203, 1179.5884188609048, 1150.5818704569685, 1187.45817227415, 1259.7283203306465, 1083.980618525731, 1085.755870727474, 1496.9809555832812, 830.649742336114, 461.1224115748491, 523.7464157450621, 309.761679945309, 216.40512067289873, 215.42468262320028, 275.12302234321925, 203.60010575157423, 181.02829582925037, 219.1890599524716, 215.2662395798747, 171.19916366669122, 180.95577185133143, 172.0764843967576, 137.78459105248052, 195.44343921600202, 134.836565602085, 128.93963161156512, 124.02581905815462, 123.04300869161587, 123.04300869136443, 121.0768401385971, 116.16361187992409, 114.19804906209109, 581.7273912512281, 112.22983507124006, 144.34530104382762, 87.66394359642325, 86.67754380651766, 367.7112012857789, 308.74308936518577, 147.9404699124698, 165.85451196504528, 208.51326721252127, 377.58400820389227, 193.5426861481073, 461.8479438949272, 313.4073444094555, 323.97700454185366, 244.44149646401777, 297.1629389960133, 413.08447806032007, 361.47860951903095, 1145.32671083154, 227.62776263726283, 453.8644127562655, 349.2369006841093, 322.85690528941393, 233.1040988164444, 242.1294252034065, 276.60734504617454, 427.6748373611182, 396.53880017161185, 362.0950328776699, 601.402416144162, 411.8411183045125, 385.3756027550757, 1437.2017030551485, 450.773934959126, 894.4689678960622, 459.07815955447825, 744.5670732740672, 561.1917687673835, 494.8829288024431, 931.8858909471911, 1226.951274625219, 1072.8334261570296, 1121.5304292084095, 847.3853364992781, 922.6758445861719, 789.9544691477737, 831.3884571902612, 716.5240283589768, 853.5394485813404, 719.248133856541, 675.5508259459881, 643.4203682934879, 655.9948536593384, 743.9102354946665, 695.0576614561902, 629.9840879675713, 627.8475659031959, 613.7557790128001, 607.0086464612831, 587.7005779892063, 576.4664625716233, 577.2989370922169], \"Total\": [4088.0, 3317.0, 3500.0, 3003.0, 2478.0, 2689.0, 1497.0, 2239.0, 2627.0, 3117.0, 2128.0, 1651.0, 2108.0, 1700.0, 2116.0, 8096.0, 1489.0, 1561.0, 1664.0, 4368.0, 2369.0, 1190.0, 1844.0, 1937.0, 1207.0, 1077.0, 1187.0, 831.0, 1020.0, 2274.0, 1489.0251983626601, 4088.4644462062734, 979.9356719702706, 822.0107030987376, 518.9103956557165, 429.64809698562703, 409.04907924946633, 316.84403013387333, 875.0272046151081, 368.8391375961171, 221.6962852533607, 191.2882536887031, 188.3455512921146, 187.36457783266354, 184.42199531320202, 175.59373526151919, 174.6128339082875, 174.61288886422105, 171.670133789738, 201.10065335178962, 162.842077609028, 160.88016738666096, 156.95659351430146, 154.01382972053244, 149.10939218954317, 134.39573542528055, 132.4339179555138, 132.43396757502296, 131.45319666294975, 129.49123748942247, 2239.1313022446784, 1040.0153644642146, 805.4269897816556, 213.89708043085926, 857.4108795593504, 843.6784028938828, 759.7635637885854, 336.563991763722, 284.53149558412036, 610.7570126393086, 353.15650015310314, 252.19886114368805, 1082.2485832698517, 949.6259982820185, 275.6895338366822, 427.40216448503725, 476.3743676480361, 784.3456567139332, 359.47336068503705, 350.26991832151714, 3619.9465340570814, 1452.339123585454, 968.2218049018471, 6306.158421247525, 1300.4299893463008, 1993.411757320539, 1208.2538827730198, 8096.456836732223, 991.2212843705219, 3264.5122394884756, 7273.209927236868, 8380.035449190895, 1552.3145557873675, 4813.079388147462, 4426.61654781082, 7928.73672843734, 2676.8052571976277, 3618.7628307711993, 5232.539965083902, 1796.8083439368415, 6224.329122180281, 8949.184496927257, 4561.93831468901, 4718.191183175987, 3422.6730576502036, 3475.5634881487263, 6193.669958985512, 5768.508824652801, 3947.1334808166434, 3585.0310906158584, 3246.5803059066625, 4723.254425685254, 5093.842936251372, 3122.2411481505674, 5992.610432131025, 8840.073336607085, 4464.091898685724, 3317.0705163765724, 1077.6937266306209, 836.7602357159052, 731.7890780995884, 625.8189223041097, 539.8427264892032, 508.8514402128276, 431.87284559197207, 467.86011933877165, 324.90256403272673, 262.9197199792162, 205.93562027545846, 200.9370565698895, 195.93844524336038, 184.94152394302236, 176.94375054108485, 164.94703348635684, 162.9476235210255, 159.948459743551, 157.949003683819, 584.7862479561277, 148.95151598947507, 148.95155200501975, 144.95266133981326, 141.95351291493202, 585.7878633678549, 135.9551473997126, 145.9507632767349, 125.95792592788797, 120.95929531743747, 3500.0389201269086, 1000.4357549549738, 338.9237439230475, 350.91826245206516, 1207.8366943234817, 216.91135396453745, 3003.9242268709327, 585.0137343139471, 959.2426119017131, 525.6845555770942, 1026.3748415798698, 288.96205031554183, 2128.1002516394187, 291.83644392286743, 1664.0570717304774, 2116.111475988823, 330.77907165305294, 1164.3006126534551, 1502.3659433276143, 571.4915983170529, 1003.4227726671398, 1937.0329325078649, 3117.2463941405067, 1390.823657175165, 1098.3224421094296, 1965.9716307341623, 1032.8683992607148, 4368.766343633635, 2492.4622050802136, 2495.218457195321, 2274.25760015988, 6893.436370201598, 2492.997294482054, 1410.4188960061333, 3296.5198122902893, 2304.285661327406, 2584.8213961215033, 4268.160962155118, 8840.073336607085, 5076.8085765659225, 5992.610432131025, 7928.73672843734, 3890.4238271959357, 5768.508824652801, 8949.184496927257, 2778.5760589477386, 4523.429630090705, 901.7384616465143, 875.3356155870059, 454.91952805411995, 408.20694567683614, 390.9434881310712, 1651.0789088955191, 266.03739265955465, 250.80484353358105, 218.30899559283196, 214.24693706035518, 199.0143490914062, 172.61035471883346, 160.42571301796497, 148.23970225861694, 148.23970427821683, 154.3313174870834, 145.193253095368, 134.02273560279414, 141.1281552092447, 127.92929740438122, 119.80582078030334, 113.71272150868388, 208.12842384076853, 108.63473102887782, 102.5423007621265, 817.2703982913793, 100.51126814935691, 221.3260629950792, 95.43387173508985, 95.4337937603915, 530.9053304414157, 342.0703226804368, 673.8190664390265, 415.09086105929435, 684.9084144545458, 2689.616985311922, 773.0623736714391, 563.27110464165, 1187.09802387948, 768.5128995119542, 1169.3638202521815, 542.496278859234, 267.89182527369826, 244.53944298171314, 576.8866367579211, 334.642012416888, 1117.9824056650557, 374.1490752916183, 315.46750297620963, 643.9462088652253, 1114.6592439507692, 552.2032304138604, 843.3061169844087, 1219.3266478550465, 1403.3350517812466, 791.7206452262842, 3136.589108391743, 1590.6509387136605, 2369.343457227534, 1752.0551950854183, 4642.875400533232, 1197.331947491726, 8096.456836732223, 928.5275555633275, 963.2059820036989, 1446.8150464012938, 5232.539965083902, 1608.7465480075605, 7273.209927236868, 4296.545284829877, 5768.508824652801, 8380.035449190895, 3114.523812746125, 8949.184496927257, 6224.329122180281, 6306.158421247525, 4579.5936838026355, 5093.842936251372, 8840.073336607085, 6193.669958985512, 4643.290799009929, 4900.359942688581, 4718.191183175987, 4948.573196783896, 7928.73672843734, 789.5729568185899, 557.2322140479066, 413.4959886678798, 343.5968460252095, 299.29460152345644, 295.3566139928631, 268.77527165223086, 262.8682755269333, 262.8682543876961, 241.20962628584073, 253.02328336439032, 224.47298426688297, 201.82961732925517, 1190.32414830146, 192.96916252985528, 179.18622248896682, 1020.0022326091654, 169.34127868408478, 154.57389658749375, 147.6823931422062, 146.69791698643232, 146.69798956281852, 144.7289283674277, 140.79095590963507, 130.94600196911966, 127.00800882089233, 124.05453030613401, 123.07009780769536, 455.84184131905437, 118.14756937195183, 2478.982219857961, 503.1786890944673, 612.5168411497077, 796.9063627015726, 556.4587587415219, 1700.8897426512613, 633.4456225004936, 556.212054318096, 271.71578794505547, 2108.887180507128, 280.5666677479385, 2627.8890635979155, 279.59182159266635, 1844.962479120614, 1185.590258159357, 580.8205662062903, 964.7093360413382, 555.5144948875911, 1539.5874963536598, 1044.8859604562804, 608.996422365955, 507.20601610901207, 535.696122348256, 2334.8200786586667, 8840.073336607085, 4579.5936838026355, 1055.2526774919338, 2578.692221814129, 4723.254425685254, 8949.184496927257, 7273.209927236868, 8380.035449190895, 4523.429630090705, 7928.73672843734, 6193.669958985512, 2340.133703043862, 3296.5198122902893, 2882.9100641891555, 4643.290799009929, 3038.2796615771726, 4552.704907266984, 3592.712769543525, 3983.4499163165656, 3819.5192639027546, 4296.545284829877, 6224.329122180281, 3501.744658515567, 5992.610432131025, 1497.781376831519, 831.4500324849218, 461.9210917364993, 524.8248928858079, 310.5717438378913, 217.20644766058481, 216.22369960428415, 276.1820780696802, 204.43013030370204, 181.82601795596878, 220.15812979475726, 216.22806836016306, 171.9981527534341, 181.82841600959463, 172.9810997290568, 138.58328053747772, 196.5787018991611, 135.63492782182033, 129.73819478417792, 124.82424350700693, 123.84145467715274, 123.84145467716114, 121.87589412552971, 116.96192496812097, 114.99631292206459, 585.8108872398715, 113.03082069713318, 145.46827691174175, 88.46098668412412, 87.47828225621556, 373.634958429303, 313.5883500229342, 149.393317997493, 168.0913032729453, 212.3916865645275, 392.4090363189469, 197.60591846984966, 491.83715290089503, 333.50231426829134, 347.14578435919134, 259.52834348524414, 322.92451458527415, 467.08242007535165, 403.61789535756463, 1561.2274372319685, 242.22042422747234, 566.023756926318, 411.82898647228535, 380.6542976007656, 251.8272083516291, 264.7762734617002, 319.7382838983535, 627.6673728978233, 563.884118805058, 501.9077877681282, 1129.5846899428407, 616.5542374644524, 560.9419464802345, 5076.8085765659225, 752.2509815051217, 2493.7552581567525, 782.967236236859, 2216.287568909813, 1261.4644448277845, 973.8558127225507, 4552.704907266984, 8949.184496927257, 6893.436370201598, 8840.073336607085, 4579.5936838026355, 5992.610432131025, 4948.573196783896, 6193.669958985512, 3835.1435063368085, 7928.73672843734, 4368.766343633635, 4523.429630090705, 3890.4238271959357, 4268.160962155118, 8380.035449190895, 6224.329122180281, 4464.091898685724, 5093.842936251372, 4561.93831468901, 5768.508824652801, 5232.539965083902, 4426.61654781082, 4900.359942688581], \"Category\": [\"Default\", \"Default\", \"Default\", \"Default\", \"Default\", \"Default\", \"Default\", \"Default\", \"Default\", \"Default\", \"Default\", \"Default\", \"Default\", \"Default\", \"Default\", \"Default\", \"Default\", \"Default\", \"Default\", \"Default\", \"Default\", \"Default\", \"Default\", \"Default\", \"Default\", \"Default\", \"Default\", \"Default\", \"Default\", \"Default\", \"Topic1\", \"Topic1\", \"Topic1\", \"Topic1\", \"Topic1\", \"Topic1\", \"Topic1\", \"Topic1\", \"Topic1\", \"Topic1\", \"Topic1\", \"Topic1\", \"Topic1\", \"Topic1\", \"Topic1\", \"Topic1\", \"Topic1\", \"Topic1\", \"Topic1\", \"Topic1\", \"Topic1\", \"Topic1\", \"Topic1\", \"Topic1\", \"Topic1\", \"Topic1\", \"Topic1\", \"Topic1\", \"Topic1\", \"Topic1\", \"Topic1\", \"Topic1\", \"Topic1\", \"Topic1\", \"Topic1\", \"Topic1\", \"Topic1\", \"Topic1\", \"Topic1\", \"Topic1\", \"Topic1\", \"Topic1\", \"Topic1\", \"Topic1\", \"Topic1\", \"Topic1\", \"Topic1\", \"Topic1\", \"Topic1\", \"Topic1\", \"Topic1\", \"Topic1\", \"Topic1\", \"Topic1\", \"Topic1\", \"Topic1\", \"Topic1\", \"Topic1\", \"Topic1\", \"Topic1\", \"Topic1\", \"Topic1\", \"Topic1\", \"Topic1\", \"Topic1\", \"Topic1\", \"Topic1\", \"Topic1\", \"Topic1\", \"Topic1\", \"Topic1\", \"Topic1\", \"Topic1\", \"Topic1\", \"Topic1\", \"Topic1\", \"Topic1\", \"Topic1\", \"Topic1\", \"Topic1\", \"Topic1\", \"Topic1\", \"Topic1\", \"Topic1\", \"Topic1\", \"Topic1\", \"Topic1\", \"Topic2\", \"Topic2\", \"Topic2\", \"Topic2\", \"Topic2\", \"Topic2\", \"Topic2\", \"Topic2\", \"Topic2\", \"Topic2\", \"Topic2\", \"Topic2\", \"Topic2\", \"Topic2\", \"Topic2\", \"Topic2\", \"Topic2\", \"Topic2\", \"Topic2\", \"Topic2\", \"Topic2\", \"Topic2\", \"Topic2\", \"Topic2\", \"Topic2\", \"Topic2\", \"Topic2\", \"Topic2\", \"Topic2\", \"Topic2\", \"Topic2\", \"Topic2\", \"Topic2\", \"Topic2\", \"Topic2\", \"Topic2\", \"Topic2\", \"Topic2\", \"Topic2\", \"Topic2\", \"Topic2\", \"Topic2\", \"Topic2\", \"Topic2\", \"Topic2\", \"Topic2\", \"Topic2\", \"Topic2\", \"Topic2\", \"Topic2\", \"Topic2\", \"Topic2\", \"Topic2\", \"Topic2\", \"Topic2\", \"Topic2\", \"Topic2\", \"Topic2\", \"Topic2\", \"Topic2\", \"Topic2\", \"Topic2\", \"Topic2\", \"Topic2\", \"Topic2\", \"Topic2\", \"Topic2\", \"Topic2\", \"Topic2\", \"Topic2\", \"Topic2\", \"Topic2\", \"Topic2\", \"Topic2\", \"Topic2\", \"Topic2\", \"Topic2\", \"Topic3\", \"Topic3\", \"Topic3\", \"Topic3\", \"Topic3\", \"Topic3\", \"Topic3\", \"Topic3\", \"Topic3\", \"Topic3\", \"Topic3\", \"Topic3\", \"Topic3\", \"Topic3\", \"Topic3\", \"Topic3\", \"Topic3\", \"Topic3\", \"Topic3\", \"Topic3\", \"Topic3\", \"Topic3\", \"Topic3\", \"Topic3\", \"Topic3\", \"Topic3\", \"Topic3\", \"Topic3\", \"Topic3\", \"Topic3\", \"Topic3\", \"Topic3\", \"Topic3\", \"Topic3\", \"Topic3\", \"Topic3\", \"Topic3\", \"Topic3\", \"Topic3\", \"Topic3\", \"Topic3\", \"Topic3\", \"Topic3\", \"Topic3\", \"Topic3\", \"Topic3\", \"Topic3\", \"Topic3\", \"Topic3\", \"Topic3\", \"Topic3\", \"Topic3\", \"Topic3\", \"Topic3\", \"Topic3\", \"Topic3\", \"Topic3\", \"Topic3\", \"Topic3\", \"Topic3\", \"Topic3\", \"Topic3\", \"Topic3\", \"Topic3\", \"Topic3\", \"Topic3\", \"Topic3\", \"Topic3\", \"Topic3\", \"Topic3\", \"Topic3\", \"Topic3\", \"Topic3\", \"Topic3\", \"Topic3\", \"Topic3\", \"Topic3\", \"Topic3\", \"Topic3\", \"Topic3\", \"Topic3\", \"Topic3\", \"Topic3\", \"Topic3\", \"Topic3\", \"Topic4\", \"Topic4\", \"Topic4\", \"Topic4\", \"Topic4\", \"Topic4\", \"Topic4\", \"Topic4\", \"Topic4\", \"Topic4\", \"Topic4\", \"Topic4\", \"Topic4\", \"Topic4\", \"Topic4\", \"Topic4\", \"Topic4\", \"Topic4\", \"Topic4\", \"Topic4\", \"Topic4\", \"Topic4\", \"Topic4\", \"Topic4\", \"Topic4\", \"Topic4\", \"Topic4\", \"Topic4\", \"Topic4\", \"Topic4\", \"Topic4\", \"Topic4\", \"Topic4\", \"Topic4\", \"Topic4\", \"Topic4\", \"Topic4\", \"Topic4\", \"Topic4\", \"Topic4\", \"Topic4\", \"Topic4\", \"Topic4\", \"Topic4\", \"Topic4\", \"Topic4\", \"Topic4\", \"Topic4\", \"Topic4\", \"Topic4\", \"Topic4\", \"Topic4\", \"Topic4\", \"Topic4\", \"Topic4\", \"Topic4\", \"Topic4\", \"Topic4\", \"Topic4\", \"Topic4\", \"Topic4\", \"Topic4\", \"Topic4\", \"Topic4\", \"Topic4\", \"Topic4\", \"Topic4\", \"Topic4\", \"Topic4\", \"Topic4\", \"Topic4\", \"Topic4\", \"Topic4\", \"Topic4\", \"Topic4\", \"Topic4\", \"Topic4\", \"Topic4\", \"Topic5\", \"Topic5\", \"Topic5\", \"Topic5\", \"Topic5\", \"Topic5\", \"Topic5\", \"Topic5\", \"Topic5\", \"Topic5\", \"Topic5\", \"Topic5\", \"Topic5\", \"Topic5\", \"Topic5\", \"Topic5\", \"Topic5\", \"Topic5\", \"Topic5\", \"Topic5\", \"Topic5\", \"Topic5\", \"Topic5\", \"Topic5\", \"Topic5\", \"Topic5\", \"Topic5\", \"Topic5\", \"Topic5\", \"Topic5\", \"Topic5\", \"Topic5\", \"Topic5\", \"Topic5\", \"Topic5\", \"Topic5\", \"Topic5\", \"Topic5\", \"Topic5\", \"Topic5\", \"Topic5\", \"Topic5\", \"Topic5\", \"Topic5\", \"Topic5\", \"Topic5\", \"Topic5\", \"Topic5\", \"Topic5\", \"Topic5\", \"Topic5\", \"Topic5\", \"Topic5\", \"Topic5\", \"Topic5\", \"Topic5\", \"Topic5\", \"Topic5\", \"Topic5\", \"Topic5\", \"Topic5\", \"Topic5\", \"Topic5\", \"Topic5\", \"Topic5\", \"Topic5\", \"Topic5\", \"Topic5\", \"Topic5\", \"Topic5\", \"Topic5\", \"Topic5\", \"Topic5\", \"Topic5\", \"Topic5\", \"Topic5\", \"Topic5\", \"Topic5\", \"Topic5\", \"Topic5\", \"Topic5\", \"Topic5\", \"Topic5\", \"Topic5\", \"Topic5\", \"Topic5\", \"Topic5\", \"Topic5\"], \"logprob\": [30.0, 29.0, 28.0, 27.0, 26.0, 25.0, 24.0, 23.0, 22.0, 21.0, 20.0, 19.0, 18.0, 17.0, 16.0, 15.0, 14.0, 13.0, 12.0, 11.0, 10.0, 9.0, 8.0, 7.0, 6.0, 5.0, 4.0, 3.0, 2.0, 1.0, -5.8081, -4.7982, -6.2267, -6.4031, -6.8632, -7.0523, -7.1015, -7.3575, -6.3417, -7.2058, -7.7157, -7.8638, -7.8794, -7.8846, -7.9005, -7.9498, -7.9554, -7.9554, -7.9725, -7.8145, -8.0256, -8.0377, -8.0625, -8.0815, -8.1141, -8.2186, -8.2333, -8.2334, -8.2409, -8.256, -5.4113, -6.1752, -6.4291, -7.7583, -6.3896, -6.4058, -6.51, -7.3107, -7.4761, -6.7368, -7.2708, -7.5975, -6.1951, -6.357, -7.5256, -7.1203, -7.0472, -6.6152, -7.3117, -7.3357, -5.3602, -6.1443, -6.4881, -4.9699, -6.2583, -5.921, -6.3325, -4.9401, -6.5211, -5.6734, -5.1449, -5.1051, -6.2409, -5.5332, -5.5921, -5.2499, -5.9162, -5.7648, -5.5831, -6.1657, -5.5489, -5.3733, -5.7156, -5.7008, -5.862, -5.8666, -5.6594, -5.6959, -5.846, -5.8967, -5.9281, -5.8363, -5.8346, -5.9509, -5.8543, -5.8688, -5.9118, -4.8338, -5.9586, -6.2118, -6.346, -6.5026, -6.6506, -6.7098, -6.8741, -6.7943, -7.1593, -7.3716, -7.6167, -7.6414, -7.6667, -7.7246, -7.7691, -7.8396, -7.8518, -7.8705, -7.8832, -6.5744, -7.9421, -7.9421, -7.9695, -7.9905, -6.5731, -8.0339, -7.9632, -8.1108, -8.1515, -4.8052, -6.0496, -7.1217, -7.0889, -5.8661, -7.5703, -4.9818, -6.5906, -6.1078, -6.6973, -6.044, -7.288, -5.334, -7.2823, -5.6024, -5.3891, -7.1655, -5.9803, -5.7558, -6.6567, -6.1413, -5.5424, -5.115, -5.851, -6.1061, -5.6184, -6.1621, -5.0669, -5.521, -5.5204, -5.5903, -4.8373, -5.6353, -6.0276, -5.5065, -5.8043, -5.7681, -5.5813, -5.3391, -5.5456, -5.4956, -5.5916, -5.7673, -5.6998, -5.6689, -5.8839, -5.8545, -6.1175, -6.1473, -6.8026, -6.9112, -6.9545, -5.514, -7.3403, -7.3995, -7.5387, -7.5576, -7.6316, -7.7748, -7.8481, -7.9275, -7.9275, -7.8873, -7.9484, -8.0289, -7.9776, -8.0758, -8.1417, -8.1943, -7.5902, -8.2405, -8.2985, -6.2229, -8.3186, -7.5295, -8.3709, -8.3709, -6.6628, -7.0992, -6.429, -6.9104, -6.4165, -5.0716, -6.3011, -6.6216, -5.8925, -6.3261, -5.9238, -6.6703, -7.3572, -7.4452, -6.6273, -7.1516, -6.0218, -7.0475, -7.2095, -6.5715, -6.0914, -6.732, -6.3686, -6.0625, -5.9456, -6.4276, -5.3285, -5.8853, -5.58, -5.8315, -5.1342, -6.1556, -4.846, -6.3573, -6.3886, -6.2057, -5.6918, -6.1876, -5.5825, -5.8764, -5.783, -5.6847, -5.9872, -5.673, -5.7843, -5.7967, -5.9201, -5.9071, -5.7961, -5.8705, -5.9379, -5.9372, -5.9447, -5.9798, -5.9901, -6.2253, -6.5743, -6.8731, -7.0587, -7.1971, -7.2103, -7.3049, -7.3272, -7.3273, -7.4135, -7.3657, -7.4856, -7.5924, -5.8179, -7.6374, -7.7118, -5.9728, -7.7686, -7.8603, -7.9062, -7.9129, -7.9129, -7.9265, -7.9542, -8.0271, -8.0579, -8.0815, -8.0896, -6.7804, -8.1307, -5.1014, -6.6826, -6.4967, -6.2402, -6.5958, -5.5033, -6.4736, -6.6039, -7.3072, -5.3449, -7.2841, -5.1381, -7.2928, -5.5549, -6.0008, -6.6646, -6.235, -6.7069, -5.8616, -6.2151, -6.6736, -6.8185, -6.8176, -5.7898, -4.8648, -5.3841, -6.3639, -5.7774, -5.4174, -5.0405, -5.2759, -5.209, -5.6277, -5.3479, -5.5054, -5.984, -5.8378, -5.9005, -5.717, -5.8907, -5.7416, -5.8456, -5.8229, -5.8478, -5.8162, -5.7572, -5.9074, -5.9058, -5.2232, -5.8122, -6.4008, -6.2734, -6.7986, -7.1573, -7.1618, -6.9172, -7.2183, -7.3358, -7.1445, -7.1625, -7.3916, -7.3362, -7.3865, -7.6087, -7.2592, -7.6304, -7.6751, -7.7139, -7.7219, -7.7219, -7.738, -7.7794, -7.7965, -6.1684, -7.8139, -7.5622, -8.0609, -8.0722, -6.6271, -6.8019, -7.5376, -7.4233, -7.1944, -6.6006, -7.2689, -6.3992, -6.7869, -6.7538, -7.0354, -6.8401, -6.5108, -6.6442, -5.491, -7.1067, -6.4166, -6.6787, -6.7572, -7.0829, -7.045, -6.9118, -6.4761, -6.5516, -6.6425, -6.1352, -6.5138, -6.5802, -5.264, -6.4235, -5.7382, -6.4052, -5.9216, -6.2044, -6.3301, -5.6972, -5.4221, -5.5564, -5.512, -5.7923, -5.7071, -5.8624, -5.8113, -5.96, -5.785, -5.9562, -6.0189, -6.0676, -6.0483, -5.9225, -5.9904, -6.0887, -6.0921, -6.1148, -6.1259, -6.1582, -6.1775, -6.1761], \"loglift\": [30.0, 29.0, 28.0, 27.0, 26.0, 25.0, 24.0, 23.0, 22.0, 21.0, 20.0, 19.0, 18.0, 17.0, 16.0, 15.0, 14.0, 13.0, 12.0, 11.0, 10.0, 9.0, 8.0, 7.0, 6.0, 5.0, 4.0, 3.0, 2.0, 1.0, 1.3935, 1.3933, 1.3932, 1.3926, 1.3925, 1.3922, 1.3921, 1.3915, 1.3915, 1.3913, 1.3904, 1.3898, 1.3898, 1.3898, 1.3897, 1.3895, 1.3894, 1.3894, 1.3894, 1.3891, 1.3891, 1.3891, 1.3889, 1.3888, 1.3886, 1.3881, 1.388, 1.388, 1.3879, 1.3878, 1.3823, 1.3853, 1.3869, 1.3836, 1.3639, 1.3639, 1.3645, 1.3779, 1.3804, 1.3559, 1.3697, 1.3798, 1.3255, 1.2943, 1.3625, 1.3294, 1.2941, 1.2274, 1.3111, 1.313, 0.953, 1.0822, 1.1439, 0.7882, 1.0787, 0.9888, 1.078, 0.5682, 1.0874, 0.7432, 0.4705, 0.3687, 0.919, 0.4951, 0.52, 0.2793, 0.6988, 0.5488, 0.3617, 0.8479, 0.2223, 0.0348, 0.3663, 0.3475, 0.5072, 0.4873, 0.1167, 0.1513, 0.3807, 0.4262, 0.4939, 0.2109, 0.1371, 0.5102, -0.0452, -0.4484, 0.1918, 1.5668, 1.5663, 1.5661, 1.5659, 1.5658, 1.5655, 1.5655, 1.5652, 1.565, 1.5646, 1.564, 1.5631, 1.5631, 1.563, 1.5627, 1.5625, 1.5622, 1.5621, 1.5621, 1.562, 1.5617, 1.5617, 1.5617, 1.5615, 1.5614, 1.5613, 1.5612, 1.5609, 1.5607, 1.5604, 1.5417, 1.5497, 1.5599, 1.558, 1.5447, 1.5576, 1.518, 1.5452, 1.5335, 1.5454, 1.5297, 1.5531, 1.5105, 1.549, 1.488, 1.461, 1.5405, 1.4673, 1.4369, 1.5024, 1.455, 1.3961, 1.3477, 1.4187, 1.3998, 1.3053, 1.4053, 1.0582, 1.1654, 1.1648, 1.1877, 0.8318, 1.0509, 1.2282, 0.9003, 0.9606, 0.882, 0.5672, 0.0813, 0.4294, 0.3135, -0.0624, 0.4738, 0.1474, -0.2608, 0.6938, 0.2359, 1.5856, 1.5855, 1.5847, 1.5845, 1.5844, 1.5842, 1.5835, 1.5833, 1.5828, 1.5827, 1.5824, 1.5816, 1.5815, 1.5811, 1.5811, 1.581, 1.581, 1.5805, 1.5801, 1.5801, 1.5798, 1.5794, 1.5791, 1.579, 1.5787, 1.5786, 1.5785, 1.5783, 1.5781, 1.5781, 1.57, 1.5732, 1.5655, 1.5686, 1.5616, 1.5387, 1.556, 1.552, 1.5356, 1.5368, 1.5194, 1.5409, 1.5596, 1.5629, 1.5224, 1.5428, 1.4664, 1.5352, 1.5439, 1.4683, 1.3998, 1.4615, 1.4015, 1.3388, 1.3152, 1.4056, 1.128, 1.2502, 1.157, 1.2073, 0.9301, 1.264, 0.6622, 1.3165, 1.2486, 1.0246, 0.2529, 0.9366, 0.033, 0.2655, 0.0642, -0.2109, 0.4764, -0.2649, -0.0131, -0.0386, 0.158, 0.0645, -0.3758, -0.0944, 0.1264, 0.0731, 0.1036, 0.0208, -0.461, 1.6106, 1.6102, 1.6097, 1.6093, 1.6089, 1.6089, 1.6086, 1.6086, 1.6085, 1.6083, 1.6082, 1.608, 1.6076, 1.6075, 1.6075, 1.6072, 1.6071, 1.6069, 1.6064, 1.6062, 1.6061, 1.6061, 1.6061, 1.6059, 1.6055, 1.6053, 1.6052, 1.6051, 1.6049, 1.6048, 1.5904, 1.6039, 1.5932, 1.5865, 1.59, 1.5652, 1.5827, 1.5823, 1.5955, 1.5086, 1.5865, 1.4954, 1.5813, 1.4323, 1.4286, 1.4784, 1.4006, 1.4806, 1.3066, 1.3406, 1.4221, 1.46, 1.4063, 0.962, 0.5555, 0.694, 1.182, 0.875, 0.6297, 0.3676, 0.3395, 0.2649, 0.4627, 0.1813, 0.2707, 0.7654, 0.569, 0.6404, 0.3473, 0.5977, 0.3423, 0.4752, 0.3946, 0.4117, 0.3256, 0.014, 0.439, -0.0966, 1.9725, 1.972, 1.9713, 1.9709, 1.9704, 1.9693, 1.9693, 1.9692, 1.9689, 1.9686, 1.9686, 1.9685, 1.9683, 1.9682, 1.9678, 1.9672, 1.9672, 1.9671, 1.9668, 1.9666, 1.9665, 1.9665, 1.9664, 1.9661, 1.966, 1.966, 1.9659, 1.9652, 1.9639, 1.9638, 1.957, 1.9574, 1.9632, 1.9596, 1.9546, 1.9345, 1.9522, 1.9101, 1.9109, 1.9039, 1.9131, 1.8899, 1.8501, 1.8627, 1.6632, 1.9109, 1.7522, 1.8081, 1.8083, 1.8957, 1.8836, 1.8281, 1.5893, 1.6209, 1.6465, 1.3427, 1.5695, 1.5976, 0.711, 1.4609, 0.9477, 1.4391, 0.8822, 1.163, 1.2961, 0.3867, -0.014, 0.1127, -0.0916, 0.2858, 0.102, 0.1381, -0.0352, 0.2954, -0.2559, 0.169, 0.0715, 0.1735, 0.1002, -0.4487, -0.2192, 0.0149, -0.1205, -0.0329, -0.2786, -0.2134, -0.0655, -0.1657]}, \"token.table\": {\"Topic\": [3, 1, 2, 3, 4, 5, 1, 2, 1, 2, 3, 4, 5, 1, 3, 1, 2, 3, 4, 5, 2, 5, 1, 2, 3, 4, 5, 5, 2, 5, 5, 1, 2, 3, 4, 5, 1, 2, 3, 4, 5, 5, 3, 5, 1, 2, 3, 4, 5, 1, 3, 4, 5, 5, 5, 1, 2, 3, 4, 5, 3, 3, 1, 1, 1, 2, 3, 4, 5, 1, 2, 3, 1, 2, 3, 4, 5, 5, 5, 5, 1, 2, 3, 4, 5, 5, 3, 4, 3, 3, 5, 1, 2, 3, 4, 5, 1, 2, 3, 4, 5, 1, 2, 3, 4, 5, 1, 1, 4, 1, 2, 3, 4, 5, 2, 1, 2, 3, 4, 5, 4, 4, 5, 4, 1, 3, 4, 5, 2, 4, 1, 1, 3, 4, 5, 1, 2, 3, 4, 5, 1, 2, 3, 2, 3, 4, 5, 1, 5, 1, 3, 5, 1, 1, 2, 3, 5, 2, 2, 5, 1, 2, 3, 3, 5, 1, 1, 2, 3, 2, 3, 1, 4, 4, 1, 2, 3, 4, 5, 1, 2, 3, 4, 5, 2, 1, 2, 3, 4, 5, 1, 2, 3, 4, 5, 2, 3, 5, 1, 2, 3, 5, 1, 2, 3, 4, 5, 1, 2, 3, 4, 5, 1, 2, 3, 4, 5, 1, 2, 3, 1, 2, 3, 1, 2, 3, 4, 1, 2, 3, 4, 5, 2, 5, 2, 3, 5, 4, 2, 2, 1, 2, 3, 4, 5, 4, 1, 2, 4, 5, 1, 2, 3, 4, 5, 1, 2, 3, 4, 5, 1, 2, 3, 4, 5, 1, 2, 3, 1, 2, 4, 5, 1, 2, 3, 4, 5, 2, 1, 2, 3, 4, 5, 1, 2, 3, 4, 2, 3, 4, 1, 2, 3, 4, 5, 1, 2, 3, 4, 5, 1, 2, 3, 4, 5, 5, 1, 4, 5, 2, 3, 4, 5, 1, 2, 3, 1, 2, 3, 5, 2, 3, 4, 5, 2, 3, 5, 1, 3, 4, 5, 3, 1, 2, 3, 4, 5, 1, 2, 4, 5, 2, 1, 2, 3, 4, 5, 2, 1, 2, 3, 4, 5, 3, 2, 3, 4, 5, 1, 2, 3, 4, 5, 2, 4, 1, 2, 1, 1, 2, 3, 4, 5, 1, 1, 2, 3, 4, 5, 1, 2, 3, 5, 1, 2, 3, 5, 1, 2, 4, 5, 2, 2, 5, 1, 2, 5, 3, 1, 2, 3, 4, 5, 1, 3, 5, 1, 2, 3, 4, 5, 3, 1, 2, 3, 4, 5, 1, 4, 5, 1, 2, 3, 4, 5, 4, 2, 4, 1, 3, 4, 3, 1, 3, 4, 5, 1, 2, 3, 5, 4, 1, 2, 3, 5, 1, 2, 3, 4, 5, 1, 2, 3, 4, 5, 4, 1, 3, 4, 5, 3, 3, 3, 3, 1, 2, 3, 5, 1, 1, 1, 3, 5, 2, 1, 2, 3, 4, 5, 1, 2, 3, 4, 5, 1, 2, 3, 4, 5, 3, 1, 2, 3, 4, 5, 1, 2, 3, 4, 5, 1, 2, 3, 4, 5, 1, 4, 3, 4, 3, 3, 1, 3, 1, 2, 3, 4, 5, 1, 2, 3, 4, 5, 1, 2, 3, 4, 5, 1, 2, 3, 4, 5, 1, 3, 5, 1, 2, 3, 4, 5, 3, 5, 1, 2, 3, 4, 5, 1, 2, 3, 4, 5, 1, 2, 3, 4, 5, 1, 2, 4, 5, 2, 1, 2, 3, 4, 5, 1, 2, 3, 4, 5, 5, 2, 2, 4, 5, 3, 1, 2, 3, 5, 2, 3, 4, 5, 1, 3, 4, 5, 1, 3, 5, 1, 4, 2, 4, 1, 2, 4, 1, 2, 3, 4, 5, 4, 5, 1, 2, 3, 5, 1, 2, 3, 4, 5, 1, 2, 3, 4, 5, 1, 3, 5, 1, 2, 3, 4, 5, 1, 2, 3, 4, 5, 4, 3, 1, 2, 3, 4, 5, 5, 2, 1, 2, 3, 5, 3, 5, 3, 1, 2, 3, 4, 5, 2, 3, 4, 1, 2, 4, 4, 1, 2, 3, 4, 5, 2, 4, 4, 1, 2, 3, 4, 5, 1, 2, 3, 4, 5, 3, 5, 1, 2, 3, 4, 5, 1, 2, 3, 5, 2, 1, 2, 1, 2, 3, 4, 5, 1, 2, 3, 4, 5, 2, 3, 4, 5, 1, 2, 3, 4, 5, 1, 2, 3, 4, 5, 1, 1, 3, 1, 1, 2, 3, 4, 5, 4, 1, 2, 3, 4, 5, 1, 5, 1, 2, 3, 4, 5, 3, 1, 2, 3, 4, 5, 1, 2, 3, 4, 5, 1, 2, 3, 4, 5, 1, 3, 1, 2, 3, 4, 5, 1, 1, 4, 5, 4, 1, 2, 3, 4, 5, 2, 1, 2, 3, 4, 5, 1, 3, 4, 5, 4, 5, 1, 2, 3, 4, 5, 1, 2, 3, 5, 1, 5, 1, 2, 3, 4, 5, 3, 4, 5, 1, 2, 4, 1, 2, 3, 4, 5, 1, 2, 3, 4, 5, 1, 2, 3, 4, 5, 5, 2, 1, 2, 3, 4, 5, 1, 3, 4, 2, 2, 4, 2, 5, 4, 1, 2, 1, 2, 3, 4, 5, 2, 4, 5, 5, 4, 1, 2, 3, 4, 5, 3, 5, 1, 2, 3, 4, 5, 1, 2, 3, 4, 5, 1, 2, 3, 4, 5, 3, 5, 1, 2, 3, 4, 5, 5, 1, 2, 3, 5, 2, 3, 4, 5, 5, 1, 2, 3, 5, 1, 3, 1, 1, 2, 3, 4, 5, 1, 1, 1, 2, 3, 4, 5, 1, 2, 3, 4, 5, 1, 2, 1, 2, 3, 4, 5, 1, 2, 3, 4, 5, 1, 2, 3, 4, 5, 2, 4, 5, 1, 4, 5, 1, 3, 5, 5, 1, 2, 3, 4, 5, 1, 2, 3, 4, 5, 2, 4, 1, 1, 2, 3, 4, 5, 2, 3, 4, 5, 1, 1, 2, 3, 4, 5, 2, 5, 1, 2, 3, 4, 5, 1, 2, 3, 4, 5, 1, 3, 4, 5, 1, 2, 3, 4, 5, 3, 4, 5, 1, 2, 3, 4, 5, 2, 1, 2, 3, 4, 5, 2, 3, 4, 5, 1, 2, 3, 4, 5, 1, 2, 3, 4, 5, 1, 2, 3, 4, 5, 1, 3, 1, 2, 3, 4, 5, 5, 2, 2, 1, 2, 3, 4, 5, 3, 3], \"Freq\": [0.9985845952339579, 0.013946784988388876, 0.003984795710968251, 0.15739943058324588, 0.10360468848517451, 0.7212480236852533, 0.0034200530655263384, 0.9952354420681645, 0.2371253756761692, 0.2855183094876323, 0.14217510209436746, 0.1812231935146515, 0.15402302726889808, 0.011693501992971232, 0.9881009184060691, 0.06627070269637712, 0.03491682185077935, 0.7624693751088552, 0.07410917290777658, 0.06199517349015925, 0.011898295515934076, 0.9875585278225283, 0.2844610676328271, 0.2167322420059635, 0.21830276549876035, 0.1572486647162833, 0.1232860941845517, 0.9947888136747761, 0.9935337284967335, 0.005121307878849142, 0.991336131596325, 0.19076205295995896, 0.3149858449323873, 0.08224471744381463, 0.3095599781565801, 0.1025203248691995, 0.03177873445902992, 0.9052644897247982, 0.0154599248719605, 0.006871077720871334, 0.041226466325228, 0.9933967674559898, 0.999181068926387, 0.9943101198116259, 0.7354563622621902, 0.06254910076852646, 0.18159416352152846, 0.018159416352152846, 0.0010088564640084914, 0.015415517257821986, 0.8312521229025548, 0.08182082236843978, 0.07114854118994764, 0.9980059543654163, 0.9994783104906992, 0.27975964881459253, 0.1007786422102484, 0.2669586665477019, 0.27626847183271325, 0.07610765820496819, 0.9967909569757839, 0.9949031358993099, 0.9968592831739829, 0.9982455628884327, 0.12250754480836153, 0.10693455182424777, 0.7132430786724099, 0.011420194855016752, 0.04568077942006701, 0.004518220703280812, 0.004518220703280812, 0.9940085547217785, 0.04272696446216341, 0.7695940146577767, 0.03560580371846951, 0.05086543388352787, 0.10071355908938519, 0.9954439683973768, 0.9978959544610032, 0.9943405852063226, 0.17655771032287157, 0.08116798470638889, 0.18453576010170467, 0.37878392862981486, 0.17898581242947295, 0.9908801803722609, 0.005962096696501344, 0.9916954171847234, 0.9979787017320334, 0.01338204546228527, 0.9849185460241958, 0.9713548203337619, 0.0013161989435416827, 0.01974298415312524, 0.005264795774166731, 0.003948596830625048, 0.6433796682045898, 0.03370215522583081, 0.21271032396630923, 0.0881228485003281, 0.02209977391857758, 0.22691011172110248, 0.13759897546929378, 0.11537802290903515, 0.4290353148173011, 0.09144776630567972, 0.9990451700075482, 0.9932653800541273, 0.9992743459440423, 0.0962903266941519, 0.6692177705243557, 0.03811492098310179, 0.16610081354741202, 0.030090727091922467, 0.9940702164617796, 0.022382127556039026, 0.04992936147116398, 0.03271234027421088, 0.8746246768052173, 0.018938723316648406, 0.9956744908967061, 0.9692701254860606, 0.02861314023575087, 0.9953793195811155, 0.003733459916104825, 0.01680056962247171, 0.8138942617108518, 0.1642722363086123, 0.9734594102063957, 0.024185326961649583, 0.9934172812768042, 0.006164388555329862, 0.02133826807614183, 0.9018974640182613, 0.06970500904872998, 0.002598098522801433, 0.19550691384080782, 0.027280034489415045, 0.7372104558449065, 0.037672428580620775, 0.9977249225730596, 0.9942585600580979, 0.9927358515739851, 0.862079095228529, 0.0050329888795660575, 0.11072575535045327, 0.02156995234099739, 0.9987704501961744, 0.001216529171980724, 0.9883297141983222, 0.008932035374589446, 0.0022330088436473615, 0.992559877193162, 0.9913315083870332, 0.0009615242564374717, 0.0067306697950623015, 0.0009615242564374717, 0.9932829213215496, 0.05697111890118742, 0.9385242218985086, 0.005650724956002384, 0.009417874926670641, 0.9832261423444149, 0.9562457435898772, 0.041835751282057125, 0.9964903272309904, 0.017808935065339045, 0.0014840779221115873, 0.9794914285936476, 0.9777548225782964, 0.020512338935209016, 0.014721264561957853, 0.9826444095106868, 0.9958895164137295, 0.08229509205707092, 0.8510280696254745, 0.02904532660837797, 0.000968177553612599, 0.03775892459089136, 0.02003054763931343, 0.8458353980419172, 0.01365719157225916, 0.0518973279745848, 0.06828595786129579, 0.9923948737577944, 0.37991302322737386, 0.08340234504037061, 0.16792044051606392, 0.2507649103387732, 0.11799060853537381, 0.01846756497463058, 0.6841793119172663, 0.012751413911054449, 0.1011319034325008, 0.18335653796240362, 0.008018194345827923, 0.9488196642563043, 0.04009097172913962, 0.10141193842352138, 0.0018109274718485962, 0.8819216787902663, 0.01448741977478877, 0.021246746891739873, 0.15049779048315745, 0.11154542118163434, 0.18502375418223474, 0.532053953413986, 0.25663963116184274, 0.17702072196675137, 0.2089491170246814, 0.1976327238395923, 0.1596419752896502, 0.061718323696654136, 0.008050216134346191, 0.8864182432374528, 0.02593958532178217, 0.016994900728064182, 0.031201970808613717, 0.029468527985912957, 0.9377925670811122, 0.020440689155716476, 0.0029200984508166395, 0.9753128825727576, 0.038709942940362625, 0.005529991848623232, 0.9548452591956114, 0.996287234777905, 0.02994270207110405, 0.8430419393467744, 0.04336529265470242, 0.049044080978532495, 0.03458898342696502, 0.9911883175794941, 0.004610178221299973, 0.9936116677388653, 0.9964639739033752, 0.9944456176435883, 0.995241996397506, 0.9983267410769802, 0.9920692716097597, 0.028901078179556144, 0.8939402457607538, 0.01694201134663636, 0.019931778054866307, 0.04086014501247593, 0.991304973127043, 0.0010424891342321468, 0.9674299165674322, 0.029189695758500108, 0.0020849782684642937, 0.987588384277563, 0.010543648230721315, 0.022101344618557357, 0.9708804957437696, 0.006314669891016388, 0.3587096997650808, 0.12672977416850162, 0.1657510888136052, 0.260142097634024, 0.08878244066041921, 0.012938141290275647, 0.03577015533193856, 0.025876282580551295, 0.8904485476248535, 0.03500908819721646, 0.18093162555426395, 0.054925672043258704, 0.7635745387974593, 0.03940583383543502, 0.044659945013493026, 0.06567638972572504, 0.8485389552563675, 0.04087818431523233, 0.6688793100208114, 0.008416096770783128, 0.15309280792567403, 0.12904681715200794, 0.9993562859154894, 0.012683671002859161, 0.1585458875357395, 0.033294636382505294, 0.351179140891663, 0.4447212145377493, 0.0034996140028823964, 0.9378965527724822, 0.012248649010088387, 0.04724478903891235, 0.9943239623734232, 0.005901032417646428, 0.9978929122877405, 0.3511939079341445, 0.11275507484668973, 0.22699376909925695, 0.21576065074047018, 0.09346802257028228, 0.7297586242816829, 0.0030759056871725306, 0.25760710130069947, 0.0038448821089656633, 0.005382834952551928, 0.5793606221346619, 0.13023091794381447, 0.13969213847819417, 0.020592068221885196, 0.13078746032818975, 0.9928132291310408, 0.9703632410491341, 0.027991247337955792, 0.0011663019724148247, 0.0050194102936255884, 0.016313083454283162, 0.9750204495367706, 0.003764557720219191, 0.006117926221790506, 0.0012235852443581012, 0.9923276331744201, 0.0017753440426101646, 0.030180848724372798, 0.9657871591799295, 0.0017753440426101646, 0.9748463025309112, 0.02199975536192267, 0.0005714222171927967, 0.002571399977367585, 0.9916839253914185, 0.005699332904548382, 0.002849666452274191, 0.09855245259862694, 0.7241099695170301, 0.04844103602305392, 0.12861930254397075, 0.9975866380699123, 0.20552324671296282, 0.13771366595034196, 0.20657049892551296, 0.30134682416129965, 0.14897162723525587, 0.0038531436935590677, 0.007706287387118135, 0.042384580629149744, 0.9401670612284125, 0.9984389407361589, 0.0029229087449008247, 0.9635855829023052, 0.008768726234702474, 0.014614543724504124, 0.010717332064636357, 0.9990914533417631, 0.0008067827126709262, 0.013311914759070282, 0.006857653057702873, 0.979030821826169, 0.0004033913563354631, 0.9917816215979112, 0.02382586075298954, 0.015883907168659693, 0.03573879112948431, 0.9252375925744272, 0.15848284812280966, 0.22635558821823137, 0.1404965719975229, 0.34784779298903623, 0.12692202397843858, 0.9981615886817041, 0.9920634231632288, 0.9991526289999934, 0.0004891812137086871, 0.9984915632347169, 0.30635656468793077, 0.120467785285026, 0.10247171894192018, 0.37452989836416695, 0.09612016611494166, 0.996096386861568, 0.14690639468761568, 0.08394651125006611, 0.12891785656260152, 0.5220959041521969, 0.11863869191973629, 0.0033462013547465187, 0.015243806171623029, 0.9532955859522304, 0.028256811440081714, 0.003169898612585186, 0.01584949306292593, 0.9573093810007263, 0.022189290288096304, 0.006996951043912906, 0.9825718394523408, 0.009995644348447007, 0.0009995644348447007, 0.9934857259024252, 0.01518173151507977, 0.9817519713084918, 0.3138605071831083, 0.003186401088153384, 0.6818898328648242, 0.9954545057542129, 0.1276169820449033, 0.0013293435629677427, 0.180790724563613, 0.0903953622818065, 0.599533946898452, 0.0006056645715794074, 0.997529549391284, 0.0018169937147382222, 0.1279314451216182, 0.019900447018918386, 0.15730829548287867, 0.6510289096189015, 0.04453909570900782, 0.9941799071787715, 0.053168484526564835, 0.003127557913327343, 0.03127557913327343, 0.04691336869991015, 0.866333541991674, 0.9769040067234581, 0.008494817449769201, 0.014158029082948668, 0.03835352122933589, 0.024877959716325983, 0.09121918562652861, 0.8095702724354414, 0.03628035791964206, 0.9933799458881954, 0.9946663810493509, 0.9977886884195811, 0.9834682500211487, 0.008913609516807995, 0.005942406344538663, 0.9932739429932955, 0.9976832667551179, 0.002285643222806685, 0.9949776300153381, 0.9943282836645534, 0.621652355447077, 0.03994035858830961, 0.3208112673706159, 0.017393381965876767, 0.9988004994450426, 0.036182505941945976, 0.944974278561732, 0.012217469538838902, 0.006578637443990178, 0.12882901716136477, 0.5040967248085835, 0.1415958566998784, 0.06344732376715863, 0.1621001747465821, 0.09667078280968222, 0.5968718872232661, 0.18732471191751698, 0.04251909949305525, 0.07701572738364725, 0.9949634922634323, 0.014187312132416523, 0.14187312132416524, 0.14009970730761317, 0.70404536457117, 0.9978532063843029, 0.9949133250552845, 0.995453692413379, 0.999616586391517, 0.048016253799936334, 0.0008423904175427427, 0.9502163909882139, 0.9954570970356464, 0.9980541795205861, 0.9993114969687635, 0.21815319173736458, 0.7807587914810943, 0.0008201247809675361, 0.9986914388892323, 0.017012336263229146, 0.8992909974701406, 0.03307954273405667, 0.03922288638466719, 0.01181412240502024, 0.21289283639367027, 0.0017122748235415838, 0.6843391711421197, 0.03481625474534554, 0.06620795984360792, 0.32804721471848214, 0.19599591375337228, 0.1290243370461389, 0.23925627309533282, 0.1077094661167181, 0.9916371778968216, 0.13960564853557333, 0.05390329207345748, 0.21289861401674934, 0.47853713970249306, 0.115174660041848, 0.008563799081444135, 0.04710089494794274, 0.05780564379974791, 0.0021409497703610337, 0.884212255159107, 0.32456248487496125, 0.01941466099382083, 0.6508132011406895, 0.00042205784769175716, 0.004642636324609329, 0.0213852915892005, 0.9765949825734895, 0.13998256673820725, 0.8596112548994135, 0.9973463542099558, 0.9916371643868761, 0.004804725762806254, 0.9945782329008946, 0.7319227188314839, 0.0020656332610484024, 0.13908597291059244, 0.06059190899075314, 0.06541171993319941, 0.23925513095066483, 0.037993304056543345, 0.012322152666987031, 0.20228867294970374, 0.508288797513215, 0.256894916043956, 0.16079677433112338, 0.15699754547270905, 0.2881826831132503, 0.13710746497865767, 0.18105730982347062, 0.26418007965695656, 0.08842847854626161, 0.31701609558834787, 0.1494441287431821, 0.9627396621432686, 0.02947162231050822, 0.00654924940233516, 0.7291513915751289, 0.008276406260784663, 0.06538360946019885, 0.17877037523294873, 0.01820809377372626, 0.005087021077761362, 0.9919691101634656, 0.019143248914528573, 0.7125542651518969, 0.008508110628679367, 0.18717843383094604, 0.07302794956283122, 0.3099129178638778, 0.1741553151707846, 0.20194947524877885, 0.20243145490331052, 0.11165861996650858, 0.3630482746439877, 0.18469099247415705, 0.22750687413140333, 0.15302244095252518, 0.07169760064497455, 0.9221459882932747, 0.0028549411402268563, 0.0028549411402268563, 0.07137352850567141, 0.9996772705399879, 0.3006210513710748, 0.25335499932987005, 0.17338352739285537, 0.131493708759181, 0.141126126947673, 0.5216705820244826, 0.12130449235566358, 0.20125518049916913, 0.11487167836710567, 0.041047479736512425, 0.9932053876519267, 0.9954567341278455, 0.039602927020746276, 0.8766647935956107, 0.08280612013428766, 0.996100575752965, 0.058276616722837495, 0.026710115997967184, 0.06556119381319218, 0.8474391348445952, 0.282259575844045, 0.028098238319316696, 0.10345260472112057, 0.5862314267530165, 0.03744824389556439, 0.02016443902068852, 0.005761268291625292, 0.9333254632432971, 0.934166157044452, 0.06098414081595829, 0.004620010667875628, 0.9977117951007669, 0.9959557739082983, 0.9972220470607434, 0.9966969979326011, 0.9684807264325462, 0.003627268638324143, 0.025390880468269, 0.27237696539267214, 0.15162736137988386, 0.1443472397242272, 0.2962256397818923, 0.13556088600188293, 0.9914994615389562, 0.9981590603484207, 0.0074327725170419, 0.09662604272154471, 0.002477590839013967, 0.894410292884042, 0.05217989565147528, 0.08549958805542937, 0.7141730296394688, 0.028918978312865815, 0.11881928045938346, 0.7787471798122088, 0.05164105966924461, 0.1187744372392626, 0.019623602674312953, 0.03201745699493166, 0.0072273332935929415, 0.9829173279286401, 0.009636444391457255, 0.18626289098492235, 0.36783992307714225, 0.10730616864288609, 0.18485713331711162, 0.15369617168064031, 0.1396971718911153, 0.20449381608589362, 0.17000882239579124, 0.2809318912715982, 0.20471346572723184, 0.9987925985877136, 0.993732262325377, 0.3562323484270056, 0.16244500867111306, 0.26354313759701753, 0.10549369974876989, 0.11237372364542879, 0.9953188472024374, 0.9949090722140236, 0.0017070355327666194, 0.0017070355327666194, 0.0017070355327666194, 0.9934946800701725, 0.057798594171614606, 0.9412913907948665, 0.9970432995086966, 0.43784584682980693, 0.0495278376808893, 0.3968402555329111, 0.06694286290035412, 0.048786772777933356, 0.9862886828522454, 0.010381986135286793, 0.9902869828126633, 0.00219374333235039, 0.00219374333235039, 0.9937657295547266, 0.9966969177806154, 0.06992012111893288, 0.02222267415407944, 0.06775205534780318, 0.8357893547705, 0.0037941150994769777, 0.0033604291786466936, 0.995527144174083, 0.9982629467292441, 0.18138787253168354, 0.41748002408085894, 0.0795371425188533, 0.199742597728342, 0.1216450414994227, 0.4119587165500461, 0.14403946614125726, 0.20276549594732768, 0.1852353377962619, 0.05609650608341054, 0.9511876774797445, 0.04814493032387216, 0.012423397932721363, 0.0419289680229346, 0.8882729521895775, 0.020188021640672217, 0.03727019379816409, 0.09725652660982761, 0.006315358870768027, 0.8348904427155331, 0.061890516933526665, 0.994184490080009, 0.9948288696546248, 0.9965018980725793, 0.11641088621315943, 0.04015724369368678, 0.23417538738228583, 0.27343022110532794, 0.3361477140651309, 0.005130995072779024, 0.0008551658454631707, 0.9355514349367088, 0.002565497536389512, 0.05644094580056926, 0.015107093803020074, 0.03776773450755019, 0.03021418760604015, 0.9139791750827145, 0.1925240110766671, 0.33518198991184767, 0.09484827782014708, 0.21205915772797113, 0.16527762232616416, 0.015719001260890184, 0.8029522480817985, 0.05646008616156474, 0.0022455716086985976, 0.12222325470202366, 0.9964900136054812, 0.9911308727214139, 0.00935029125208881, 0.9966186990632957, 0.0727274287829273, 0.34623228916316673, 0.5221456425440935, 0.007459223464915621, 0.05159296229899971, 0.9979846692623512, 0.406581656889392, 0.18172967997328884, 0.20883512376591498, 0.10996185720417648, 0.09271293842705075, 0.9967231399695314, 0.9943204951629244, 0.03243834651473481, 0.030816429188998073, 0.14435064199056993, 0.1232657167559923, 0.6682299382035372, 0.9920061648395244, 0.41316475531177993, 0.31611908022692, 0.1255508403738122, 0.1040918957180841, 0.04099619277512235, 0.3324249616560012, 0.08195427272509337, 0.13296998466240048, 0.3627052551929835, 0.08985347973474092, 0.4991024268230371, 0.0911534372341475, 0.19762364056091813, 0.15615629821259694, 0.05603694911935297, 0.9056196877042518, 0.09372110721590514, 0.0815584551000523, 0.1237200293466895, 0.5702180123520606, 0.10436717559413472, 0.12026416260516186, 0.9981653334005289, 0.017978754545799596, 0.9708527454731782, 0.010787252727479758, 0.9949851657893318, 0.19535307794299875, 0.06870742212107674, 0.5188594980867519, 0.1847992732911719, 0.03230756526069439, 0.9934277761373423, 0.025481418217729496, 0.5132685669571228, 0.03882882776034971, 0.3524929520119247, 0.06977054988187839, 0.008833551487576296, 0.15723721647885805, 0.03356749565278992, 0.8020864750719277, 0.9927756330480196, 0.9932053876518594, 0.39363962959044335, 0.020869964048432967, 0.329424355595265, 0.12810947162038083, 0.12778839525040495, 0.9945268534266558, 0.04954718294010133, 0.027870290403807, 0.919719583325631, 0.006693739809813858, 0.990673491852451, 0.5456570815611193, 0.06358863403255124, 0.19695033283897417, 0.15429361823858442, 0.03964378680333618, 0.012579548600926124, 0.9794077125006768, 0.0071883134862434995, 0.9974353218166602, 0.003921560043812847, 0.9950958611175098, 0.0032652163428616193, 0.0032652163428616193, 0.008163040857154047, 0.9811975110299166, 0.004897824514292429, 0.40701593346333986, 0.17556327911001643, 0.13151663393685256, 0.22293419939058892, 0.06295345984655028, 0.4039632723693523, 0.145587903004909, 0.1504791961888684, 0.21349056132340413, 0.08660466166892809, 0.9941967239911873, 0.998921713751676, 0.13149411337544578, 0.5450713082493726, 0.13409795720466253, 0.11109733671324792, 0.07768134090496631, 0.9382264137177491, 0.04679433484876554, 0.014038300454629662, 0.9939917083255637, 0.9952105099017459, 0.9943820545536836, 0.01275557589976624, 0.9853682382569421, 0.9971155395082849, 0.9932619717857645, 0.006207887323661028, 0.9962064036227734, 0.9242471464038257, 0.012018818548814378, 0.01622540504089941, 0.04807527419525751, 0.9834275532628621, 0.0034265768406371504, 0.013706307362548601, 0.9957199320175223, 0.9952424887771456, 0.02818295332934406, 0.21713684496926447, 0.015372519997824033, 0.005764694999184012, 0.7333973082295215, 0.0141248466384232, 0.9840309824768162, 0.011484506878396418, 0.09666126622650319, 0.0019140844797327363, 0.7627626651734954, 0.12824366014209335, 0.9207914582855979, 0.011127389223995142, 0.027818473059987855, 0.03060032036598664, 0.011127389223995142, 0.14410558233168091, 0.05579309050452248, 0.6322154198312462, 0.0701398852056854, 0.09755820396790787, 0.9941571997935992, 0.9945325600379906, 0.11490658014511058, 0.601313916416744, 0.05218864596232114, 0.06706698801298287, 0.16457735283731972, 0.9957911189920202, 0.9047506105921289, 0.0272894615723844, 0.02099189351721877, 0.046182165737881295, 0.001175855171471903, 0.03233601721547734, 0.9547943992351854, 0.012346479300454983, 0.9947395547198874, 0.0037328500001010687, 0.007465700000202137, 0.9742738500263789, 0.011198550000303205, 0.020446599284901064, 0.9773474458182708, 0.9945290497830875, 0.4294285292161092, 0.12241752795542882, 0.2149906021429427, 0.16248647051420348, 0.07074240893135389, 0.9967235134155016, 0.9970554465584173, 0.4172487000062006, 0.1050463700611171, 0.15316438473427396, 0.19427930807002303, 0.13012195517248054, 0.3970736482092944, 0.0496342060261618, 0.2114609663940079, 0.2802064041033733, 0.06145842131217265, 0.9965524104817948, 0.9936119079879502, 0.2788330685096551, 0.13917435150858293, 0.1861578042800419, 0.2615573659442046, 0.13416924141952716, 0.2886361190754032, 0.2418302619280405, 0.21825397832788745, 0.1461382873156546, 0.10522650106833017, 0.8465655343613055, 0.005099792375670515, 0.1274948093917629, 0.017849273314846804, 0.0025498961878352576, 0.16913071442988833, 0.827591068666638, 0.003284091542327929, 0.9707490403816976, 0.028446858326203594, 0.9984282512186643, 0.015290167770558801, 0.022935251655838203, 0.9632805695452045, 0.9994587377865909, 0.18434773009975344, 0.18747668732916933, 0.187737433764954, 0.25370628201847256, 0.1869551944576, 0.19969882704852696, 0.22536293333588786, 0.11348346998942395, 0.10265642514944358, 0.3584954847015725, 0.9777726861991086, 0.019022814906597442, 0.9939053626682188, 0.1466612507471993, 0.47944157637932117, 0.10531757472054075, 0.11286098227628195, 0.1556553136021215, 0.9777811897505622, 0.015730603391414633, 0.002483779482854942, 0.0033117059771399227, 0.9973361337011251, 0.04659317545827475, 0.8779485489923485, 0.020634120560093106, 0.02928713885948699, 0.02595905489818165, 0.006874351035358164, 0.9899065490915756, 0.2542670364161826, 0.2075357753091956, 0.22018790713728814, 0.20039344282559496, 0.11774645265821618, 0.09419919187844415, 0.0035885406429883486, 0.8298500236910556, 0.0017942703214941743, 0.07087367769901988, 0.17114070467073314, 0.10339750907190126, 0.037437029146722874, 0.686345534356586, 0.35774267151862055, 0.1525667275594117, 0.19202363985925955, 0.16308857083937112, 0.13459191195614767, 0.9701675124066498, 0.015522680198506396, 0.012935566832088663, 0.2463769876838062, 0.11478927835268243, 0.23216293070204816, 0.28234285913764856, 0.12404995184079753, 0.9979789292128899, 0.030364621969727067, 0.08603309558089337, 0.04976424156149714, 0.8324967190033504, 0.0008434617213813074, 0.9520879303201157, 0.0013315915109372248, 0.02263705568593282, 0.023968647196870047, 0.0020331932919298995, 0.04473025242245778, 0.004066386583859799, 0.008132773167719598, 0.9393353008716134, 0.6666961781074204, 0.1319346086096701, 0.12491147355060021, 0.060198300506313356, 0.015551227630797616, 0.12901806127247328, 0.32067389885738395, 0.0988810179523383, 0.16860986328127806, 0.28305183824205205, 0.9873161158254972, 0.011895374889463822, 0.30088684215558575, 0.04342122791514466, 0.2635891207412948, 0.3209274088856525, 0.07125534837357073, 0.9917757426753779, 0.9953365666548242, 0.9929745403687849, 0.12839567013983608, 0.047384116361129984, 0.2397592615876531, 0.3993804093295242, 0.18495090579666865, 0.9947114433936439, 0.9923689395072098], \"Term\": [\"adl\", \"air\", \"air\", \"air\", \"air\", \"air\", \"algorithm\", \"algorithm\", \"also\", \"also\", \"also\", \"also\", \"also\", \"amend\", \"amend\", \"american\", \"american\", \"american\", \"american\", \"american\", \"amp\", \"amp\", \"andn\", \"andn\", \"andn\", \"andn\", \"andn\", \"ankara\", \"anonym\", \"anonym\", \"antenna\", \"anyon\", \"anyon\", \"anyon\", \"anyon\", \"anyon\", \"applic\", \"applic\", \"applic\", \"applic\", \"applic\", \"appressian\", \"arab\", \"argicn\", \"argument\", \"argument\", \"argument\", \"argument\", \"argument\", \"arm\", \"arm\", \"arm\", \"arm\", \"armenia\", \"armenian\", \"articl\", \"articl\", \"articl\", \"articl\", \"articl\", \"assault\", \"atf\", \"atheism\", \"atheist\", \"attack\", \"attack\", \"attack\", \"attack\", \"attack\", \"attorney\", \"attorney\", \"attorney\", \"avail\", \"avail\", \"avail\", \"avail\", \"avail\", \"azerbaijan\", \"azerbaijani\", \"azeri\", \"back\", \"back\", \"back\", \"back\", \"back\", \"baku\", \"basebal\", \"basebal\", \"batf\", \"batteri\", \"batteri\", \"belief\", \"belief\", \"belief\", \"belief\", \"belief\", \"believ\", \"believ\", \"believ\", \"believ\", \"believ\", \"better\", \"better\", \"better\", \"better\", \"better\", \"bibl\", \"biblic\", \"bike\", \"bit\", \"bit\", \"bit\", \"bit\", \"bit\", \"bitmap\", \"blue\", \"blue\", \"blue\", \"blue\", \"blue\", \"bmw\", \"brake\", \"brake\", \"bruin\", \"bu\", \"bu\", \"bu\", \"bu\", \"byte\", \"byte\", \"candida\", \"car\", \"car\", \"car\", \"car\", \"card\", \"card\", \"card\", \"card\", \"card\", \"cathol\", \"char\", \"chi\", \"chip\", \"chip\", \"chip\", \"chip\", \"christ\", \"christ\", \"christian\", \"christian\", \"christian\", \"christiann\", \"church\", \"church\", \"church\", \"church\", \"cipher\", \"circuit\", \"circuit\", \"citizen\", \"citizen\", \"citizen\", \"civilian\", \"civilian\", \"clhn\", \"clinton\", \"clinton\", \"clinton\", \"clipper\", \"clipper\", \"clutch\", \"clutch\", \"coach\", \"code\", \"code\", \"code\", \"code\", \"code\", \"color\", \"color\", \"color\", \"color\", \"color\", \"colormap\", \"come\", \"come\", \"come\", \"come\", \"come\", \"comput\", \"comput\", \"comput\", \"comput\", \"comput\", \"congress\", \"congress\", \"congress\", \"constitut\", \"constitut\", \"constitut\", \"constitut\", \"cost\", \"cost\", \"cost\", \"cost\", \"cost\", \"could\", \"could\", \"could\", \"could\", \"could\", \"countri\", \"countri\", \"countri\", \"countri\", \"countri\", \"court\", \"court\", \"court\", \"crime\", \"crime\", \"crime\", \"crimin\", \"crimin\", \"crimin\", \"cub\", \"data\", \"data\", \"data\", \"data\", \"data\", \"databas\", \"databas\", \"decrypt\", \"democrat\", \"detector\", \"diamond\", \"directori\", \"directoryn\", \"display\", \"display\", \"display\", \"display\", \"display\", \"dma\", \"do\", \"do\", \"do\", \"do\", \"doctrin\", \"doctrin\", \"dod\", \"dod\", \"dod\", \"dont\", \"dont\", \"dont\", \"dont\", \"dont\", \"drive\", \"drive\", \"drive\", \"drive\", \"drive\", \"drug\", \"drug\", \"drug\", \"electr\", \"electr\", \"electr\", \"electr\", \"email\", \"email\", \"email\", \"email\", \"email\", \"encrypt\", \"engin\", \"engin\", \"engin\", \"engin\", \"engin\", \"entri\", \"entri\", \"entri\", \"entri\", \"escrow\", \"escrow\", \"espn\", \"even\", \"even\", \"even\", \"even\", \"even\", \"evid\", \"evid\", \"evid\", \"evid\", \"evid\", \"exist\", \"exist\", \"exist\", \"exist\", \"exist\", \"exterminationn\", \"faith\", \"faith\", \"faith\", \"fan\", \"fan\", \"fan\", \"fan\", \"fbi\", \"fbi\", \"fbi\", \"feder\", \"feder\", \"feder\", \"feder\", \"file\", \"file\", \"file\", \"file\", \"filen\", \"filen\", \"filen\", \"fire\", \"fire\", \"fire\", \"fire\", \"firearm\", \"first\", \"first\", \"first\", \"first\", \"first\", \"flight\", \"flight\", \"flight\", \"flight\", \"font\", \"format\", \"format\", \"format\", \"format\", \"format\", \"ftp\", \"game\", \"game\", \"game\", \"game\", \"game\", \"gaza\", \"georgia\", \"georgia\", \"georgia\", \"georgia\", \"get\", \"get\", \"get\", \"get\", \"get\", \"gif\", \"goali\", \"god\", \"god\", \"godn\", \"good\", \"good\", \"good\", \"good\", \"good\", \"gospel\", \"got\", \"got\", \"got\", \"got\", \"got\", \"govern\", \"govern\", \"govern\", \"govern\", \"governmentn\", \"governmentn\", \"governmentn\", \"governmentn\", \"graphic\", \"graphic\", \"graphic\", \"graphic\", \"graphicsn\", \"greec\", \"greec\", \"greek\", \"greek\", \"greek\", \"grenad\", \"ground\", \"ground\", \"ground\", \"ground\", \"ground\", \"gun\", \"gun\", \"gun\", \"guy\", \"guy\", \"guy\", \"guy\", \"guy\", \"handgun\", \"heat\", \"heat\", \"heat\", \"heat\", \"heat\", \"heaven\", \"heaven\", \"heaven\", \"hit\", \"hit\", \"hit\", \"hit\", \"hit\", \"hitter\", \"hiv\", \"hockey\", \"holi\", \"holi\", \"holi\", \"homicid\", \"homosexu\", \"homosexu\", \"honda\", \"hst\", \"human\", \"human\", \"human\", \"human\", \"ide\", \"imag\", \"imag\", \"imag\", \"imag\", \"includ\", \"includ\", \"includ\", \"includ\", \"includ\", \"inform\", \"inform\", \"inform\", \"inform\", \"inform\", \"inning\", \"insur\", \"insur\", \"insur\", \"insur\", \"iran\", \"iraq\", \"iraqi\", \"isra\", \"israel\", \"israel\", \"israel\", \"istanbul\", \"jehovah\", \"jesu\", \"jew\", \"jew\", \"jew\", \"jpeg\", \"key\", \"key\", \"key\", \"key\", \"key\", \"kill\", \"kill\", \"kill\", \"kill\", \"kill\", \"know\", \"know\", \"know\", \"know\", \"know\", \"kuwait\", \"last\", \"last\", \"last\", \"last\", \"last\", \"launch\", \"launch\", \"launch\", \"launch\", \"launch\", \"law\", \"law\", \"law\", \"law\", \"law\", \"leaf\", \"leaf\", \"leagu\", \"leagu\", \"lebanes\", \"lebanon\", \"libertarian\", \"libertarian\", \"life\", \"life\", \"life\", \"life\", \"life\", \"light\", \"light\", \"light\", \"light\", \"light\", \"like\", \"like\", \"like\", \"like\", \"like\", \"look\", \"look\", \"look\", \"look\", \"look\", \"lord\", \"lord\", \"lord\", \"love\", \"love\", \"love\", \"love\", \"love\", \"lunar\", \"lunar\", \"mail\", \"mail\", \"mail\", \"mail\", \"mail\", \"make\", \"make\", \"make\", \"make\", \"make\", \"mani\", \"mani\", \"mani\", \"mani\", \"mani\", \"mari\", \"mari\", \"mari\", \"mari\", \"maxaxaxaxaxaxaxaxaxaxaxaxaxaxaxn\", \"may\", \"may\", \"may\", \"may\", \"may\", \"mean\", \"mean\", \"mean\", \"mean\", \"mean\", \"melkonian\", \"menu\", \"mhz\", \"mhz\", \"mhz\", \"militia\", \"mission\", \"mission\", \"mission\", \"mission\", \"monitor\", \"monitor\", \"monitor\", \"monitor\", \"moon\", \"moon\", \"moon\", \"moon\", \"moral\", \"moral\", \"moral\", \"mormon\", \"motherboard\", \"motif\", \"motorcycl\", \"msg\", \"msg\", \"msg\", \"much\", \"much\", \"much\", \"much\", \"much\", \"mustang\", \"myer\", \"nasa\", \"nasa\", \"nasa\", \"nasa\", \"nation\", \"nation\", \"nation\", \"nation\", \"nation\", \"natur\", \"natur\", \"natur\", \"natur\", \"natur\", \"nazi\", \"nazi\", \"nazi\", \"need\", \"need\", \"need\", \"need\", \"need\", \"new\", \"new\", \"new\", \"new\", \"new\", \"nhl\", \"nra\", \"ofn\", \"ofn\", \"ofn\", \"ofn\", \"ofn\", \"ohanu\", \"openwindow\", \"orbit\", \"orbit\", \"orbit\", \"orbit\", \"ottoman\", \"ottoman\", \"palestinian\", \"peopl\", \"peopl\", \"peopl\", \"peopl\", \"peopl\", \"pgp\", \"pgp\", \"philli\", \"pitch\", \"pitch\", \"pitch\", \"pitcher\", \"play\", \"play\", \"play\", \"play\", \"play\", \"player\", \"player\", \"playoff\", \"pleas\", \"pleas\", \"pleas\", \"pleas\", \"pleas\", \"point\", \"point\", \"point\", \"point\", \"point\", \"polic\", \"polic\", \"polici\", \"polici\", \"polici\", \"polici\", \"polici\", \"polit\", \"polit\", \"polit\", \"polit\", \"polygon\", \"pope\", \"postscript\", \"power\", \"power\", \"power\", \"power\", \"power\", \"presid\", \"presid\", \"presid\", \"presid\", \"presid\", \"probe\", \"probe\", \"probe\", \"probe\", \"problem\", \"problem\", \"problem\", \"problem\", \"problem\", \"program\", \"program\", \"program\", \"program\", \"program\", \"propheci\", \"prophet\", \"prophet\", \"psalm\", \"public\", \"public\", \"public\", \"public\", \"public\", \"puck\", \"question\", \"question\", \"question\", \"question\", \"question\", \"quran\", \"radar\", \"radio\", \"radio\", \"radio\", \"radio\", \"radio\", \"raid\", \"read\", \"read\", \"read\", \"read\", \"read\", \"realli\", \"realli\", \"realli\", \"realli\", \"realli\", \"reason\", \"reason\", \"reason\", \"reason\", \"reason\", \"religion\", \"religion\", \"report\", \"report\", \"report\", \"report\", \"report\", \"revel\", \"ride\", \"ride\", \"ride\", \"rider\", \"right\", \"right\", \"right\", \"right\", \"right\", \"rsa\", \"run\", \"run\", \"run\", \"run\", \"run\", \"russian\", \"russian\", \"russian\", \"russian\", \"sabr\", \"sahak\", \"said\", \"said\", \"said\", \"said\", \"said\", \"satan\", \"satellit\", \"satellit\", \"satellit\", \"saturn\", \"saturn\", \"say\", \"say\", \"say\", \"say\", \"say\", \"score\", \"score\", \"score\", \"scriptur\", \"scsi\", \"scsi\", \"season\", \"season\", \"season\", \"season\", \"season\", \"see\", \"see\", \"see\", \"see\", \"see\", \"seem\", \"seem\", \"seem\", \"seem\", \"seem\", \"serdar\", \"server\", \"set\", \"set\", \"set\", \"set\", \"set\", \"sex\", \"sex\", \"sex\", \"sgi\", \"sharewar\", \"shark\", \"shuttl\", \"shuttl\", \"simm\", \"sin\", \"sin\", \"sinner\", \"softwar\", \"softwar\", \"softwar\", \"softwar\", \"softwaren\", \"softwaren\", \"softwaren\", \"solar\", \"sox\", \"space\", \"space\", \"space\", \"space\", \"space\", \"spacecraft\", \"spacecraft\", \"speed\", \"speed\", \"speed\", \"speed\", \"speed\", \"spirit\", \"spirit\", \"spirit\", \"spirit\", \"spirit\", \"state\", \"state\", \"state\", \"state\", \"state\", \"stl\", \"stove\", \"system\", \"system\", \"system\", \"system\", \"system\", \"tartar\", \"teach\", \"teach\", \"teach\", \"teach\", \"team\", \"team\", \"team\", \"team\", \"temperatur\", \"territori\", \"territori\", \"territori\", \"territori\", \"terrorist\", \"terrorist\", \"testament\", \"thatn\", \"thatn\", \"thatn\", \"thatn\", \"thatn\", \"theism\", \"theist\", \"thing\", \"thing\", \"thing\", \"thing\", \"thing\", \"think\", \"think\", \"think\", \"think\", \"think\", \"thou\", \"tiff\", \"time\", \"time\", \"time\", \"time\", \"time\", \"ton\", \"ton\", \"ton\", \"ton\", \"ton\", \"truth\", \"truth\", \"truth\", \"truth\", \"truth\", \"ttn\", \"ttn\", \"ttn\", \"tttn\", \"tttn\", \"turk\", \"turkey\", \"turkey\", \"turkey\", \"turkish\", \"two\", \"two\", \"two\", \"two\", \"two\", \"univers\", \"univers\", \"univers\", \"univers\", \"univers\", \"unix\", \"unix\", \"unto\", \"use\", \"use\", \"use\", \"use\", \"use\", \"user\", \"user\", \"user\", \"user\", \"vers\", \"version\", \"version\", \"version\", \"version\", \"version\", \"voltag\", \"voltag\", \"want\", \"want\", \"want\", \"want\", \"want\", \"war\", \"war\", \"war\", \"war\", \"war\", \"water\", \"water\", \"water\", \"water\", \"way\", \"way\", \"way\", \"way\", \"way\", \"weapon\", \"weapon\", \"weapon\", \"well\", \"well\", \"well\", \"well\", \"well\", \"widget\", \"win\", \"win\", \"win\", \"win\", \"win\", \"window\", \"window\", \"window\", \"window\", \"wire\", \"wire\", \"wire\", \"wire\", \"wire\", \"word\", \"word\", \"word\", \"word\", \"word\", \"work\", \"work\", \"work\", \"work\", \"work\", \"worship\", \"worship\", \"writesn\", \"writesn\", \"writesn\", \"writesn\", \"writesn\", \"xsoviet\", \"xterm\", \"xview\", \"year\", \"year\", \"year\", \"year\", \"year\", \"zionism\", \"zionist\"]}, \"R\": 30, \"lambda.step\": 0.01, \"plot.opts\": {\"xlab\": \"PC1\", \"ylab\": \"PC2\"}, \"topic.order\": [5, 2, 4, 1, 3]};\n",
              "\n",
              "function LDAvis_load_lib(url, callback){\n",
              "  var s = document.createElement('script');\n",
              "  s.src = url;\n",
              "  s.async = true;\n",
              "  s.onreadystatechange = s.onload = callback;\n",
              "  s.onerror = function(){console.warn(\"failed to load library \" + url);};\n",
              "  document.getElementsByTagName(\"head\")[0].appendChild(s);\n",
              "}\n",
              "\n",
              "if(typeof(LDAvis) !== \"undefined\"){\n",
              "   // already loaded: just create the visualization\n",
              "   !function(LDAvis){\n",
              "       new LDAvis(\"#\" + \"ldavis_el1391401613088313207103566084\", ldavis_el1391401613088313207103566084_data);\n",
              "   }(LDAvis);\n",
              "}else if(typeof define === \"function\" && define.amd){\n",
              "   // require.js is available: use it to load d3/LDAvis\n",
              "   require.config({paths: {d3: \"https://cdnjs.cloudflare.com/ajax/libs/d3/3.5.5/d3.min\"}});\n",
              "   require([\"d3\"], function(d3){\n",
              "      window.d3 = d3;\n",
              "      LDAvis_load_lib(\"https://cdn.rawgit.com/bmabey/pyLDAvis/files/ldavis.v1.0.0.js\", function(){\n",
              "        new LDAvis(\"#\" + \"ldavis_el1391401613088313207103566084\", ldavis_el1391401613088313207103566084_data);\n",
              "      });\n",
              "    });\n",
              "}else{\n",
              "    // require.js not available: dynamically load d3 & LDAvis\n",
              "    LDAvis_load_lib(\"https://cdnjs.cloudflare.com/ajax/libs/d3/3.5.5/d3.min.js\", function(){\n",
              "         LDAvis_load_lib(\"https://cdn.rawgit.com/bmabey/pyLDAvis/files/ldavis.v1.0.0.js\", function(){\n",
              "                 new LDAvis(\"#\" + \"ldavis_el1391401613088313207103566084\", ldavis_el1391401613088313207103566084_data);\n",
              "            })\n",
              "         });\n",
              "}\n",
              "</script>"
            ],
            "text/plain": [
              "PreparedData(topic_coordinates=                x           y  topics  cluster       Freq\n",
              "topic                                                    \n",
              "4      150.222153  -72.269554       1        1  24.807491\n",
              "1       51.163364 -159.968018       2        1  20.866413\n",
              "3      -73.144554   21.523815       3        1  20.465433\n",
              "0      -66.410133 -110.606438       4        1  19.956711\n",
              "2       54.417324   12.443444       5        1  13.903951, topic_info=                                   Term         Freq  ...  logprob  loglift\n",
              "5351                                god  4088.000000  ...  30.0000  30.0000\n",
              "7809   maxaxaxaxaxaxaxaxaxaxaxaxaxaxaxn  3317.000000  ...  29.0000  29.0000\n",
              "4759                               file  3500.000000  ...  28.0000  28.0000\n",
              "14332                            window  3003.000000  ...  27.0000  27.0000\n",
              "5174                               game  2478.000000  ...  26.0000  26.0000\n",
              "...                                 ...          ...  ...      ...      ...\n",
              "14160                               way   613.755779  ...  -6.1148  -0.0329\n",
              "13148                               ton   607.008646  ...  -6.1259  -0.2786\n",
              "8867                                ofn   587.700578  ...  -6.1582  -0.2134\n",
              "12955                             thing   576.466463  ...  -6.1775  -0.0655\n",
              "14105                              want   577.298937  ...  -6.1761  -0.1657\n",
              "\n",
              "[445 rows x 6 columns], token_table=       Topic      Freq     Term\n",
              "term                           \n",
              "215        3  0.998585      adl\n",
              "337        1  0.013947      air\n",
              "337        2  0.003985      air\n",
              "337        3  0.157399      air\n",
              "337        4  0.103605      air\n",
              "...      ...       ...      ...\n",
              "14582      3  0.239759     year\n",
              "14582      4  0.399380     year\n",
              "14582      5  0.184951     year\n",
              "14654      3  0.994711  zionism\n",
              "14656      3  0.992369  zionist\n",
              "\n",
              "[1040 rows x 3 columns], R=30, lambda_step=0.01, plot_opts={'xlab': 'PC1', 'ylab': 'PC2'}, topic_order=[5, 2, 4, 1, 3])"
            ]
          },
          "metadata": {
            "tags": []
          },
          "execution_count": 32
        }
      ]
    },
    {
      "cell_type": "markdown",
      "metadata": {
        "id": "fy3fN7nlBkc_",
        "colab_type": "text"
      },
      "source": [
        "# LDA Bigram - tf - lem"
      ]
    },
    {
      "cell_type": "code",
      "metadata": {
        "id": "eCyUegM0BpPT",
        "colab_type": "code",
        "colab": {}
      },
      "source": [
        "data_bigram_lem_tf = count.fit_transform(df.bigram_lem)"
      ],
      "execution_count": 33,
      "outputs": []
    },
    {
      "cell_type": "code",
      "metadata": {
        "id": "vIehn9-QBpX8",
        "colab_type": "code",
        "colab": {
          "base_uri": "https://localhost:8080/",
          "height": 374
        },
        "outputId": "80fae66f-a11f-4f6e-b73c-8066086d5ffc"
      },
      "source": [
        "# Parametri di ricerca\n",
        "search_params = {'n_components': [5,10, 15, 20, 25, 30], 'learning_decay': [.5, .7, .9]}\n",
        "\n",
        "# Inizializzazione Modello\n",
        "lda = LatentDirichletAllocation()\n",
        "\n",
        "# Inizializzazione GridSearchCV\n",
        "model = GridSearchCV(lda, param_grid=search_params)\n",
        "\n",
        "# Grid Search\n",
        "model.fit(data_bigram_lem_tf)"
      ],
      "execution_count": 34,
      "outputs": [
        {
          "output_type": "execute_result",
          "data": {
            "text/plain": [
              "GridSearchCV(cv=None, error_score=nan,\n",
              "             estimator=LatentDirichletAllocation(batch_size=128,\n",
              "                                                 doc_topic_prior=None,\n",
              "                                                 evaluate_every=-1,\n",
              "                                                 learning_decay=0.7,\n",
              "                                                 learning_method='batch',\n",
              "                                                 learning_offset=10.0,\n",
              "                                                 max_doc_update_iter=100,\n",
              "                                                 max_iter=10,\n",
              "                                                 mean_change_tol=0.001,\n",
              "                                                 n_components=10, n_jobs=None,\n",
              "                                                 perp_tol=0.1,\n",
              "                                                 random_state=None,\n",
              "                                                 topic_word_prior=None,\n",
              "                                                 total_samples=1000000.0,\n",
              "                                                 verbose=0),\n",
              "             iid='deprecated', n_jobs=None,\n",
              "             param_grid={'learning_decay': [0.5, 0.7, 0.9],\n",
              "                         'n_components': [5, 10, 15, 20, 25, 30]},\n",
              "             pre_dispatch='2*n_jobs', refit=True, return_train_score=False,\n",
              "             scoring=None, verbose=0)"
            ]
          },
          "metadata": {
            "tags": []
          },
          "execution_count": 34
        }
      ]
    },
    {
      "cell_type": "code",
      "metadata": {
        "id": "Wc7NGr_IBpgZ",
        "colab_type": "code",
        "colab": {
          "base_uri": "https://localhost:8080/",
          "height": 68
        },
        "outputId": "cf0e58d8-6058-41f9-fe29-a6e2bf0f15f5"
      },
      "source": [
        "# Stimato il Miglior modello \n",
        "best_lda_model = model.best_estimator_\n",
        "\n",
        "# Parametri del modello\n",
        "print(\"Best Model Params: \", model.best_params_)\n",
        "\n",
        "# Log Likelihood Score\n",
        "print(\"Best Log Likelihood Score: \", model.best_score_)\n",
        "\n",
        "# Perplessità\n",
        "print(\"Model Perplexity: \", best_lda_model.perplexity(data_bigram_lem_tf))"
      ],
      "execution_count": 35,
      "outputs": [
        {
          "output_type": "stream",
          "text": [
            "Best Model Params:  {'learning_decay': 0.9, 'n_components': 5}\n",
            "Best Log Likelihood Score:  -589830.9925353962\n",
            "Model Perplexity:  7222.674887350031\n"
          ],
          "name": "stdout"
        }
      ]
    },
    {
      "cell_type": "code",
      "metadata": {
        "id": "9F1jezmrBp1z",
        "colab_type": "code",
        "colab": {
          "base_uri": "https://localhost:8080/",
          "height": 861
        },
        "outputId": "224ba447-d897-4011-805a-6e89b74a3601"
      },
      "source": [
        "pyLDAvis.enable_notebook()\n",
        "vis = pyLDAvis.sklearn.prepare(best_lda_model, data_bigram_lem_tf, count, mds='tsne')\n",
        "vis"
      ],
      "execution_count": 36,
      "outputs": [
        {
          "output_type": "execute_result",
          "data": {
            "text/html": [
              "\n",
              "<link rel=\"stylesheet\" type=\"text/css\" href=\"https://cdn.rawgit.com/bmabey/pyLDAvis/files/ldavis.v1.0.0.css\">\n",
              "\n",
              "\n",
              "<div id=\"ldavis_el1391401613711440084660797744\"></div>\n",
              "<script type=\"text/javascript\">\n",
              "\n",
              "var ldavis_el1391401613711440084660797744_data = {\"mdsDat\": {\"x\": [150.22215270996094, 51.16336441040039, -73.1445541381836, -66.4101333618164, 54.41732406616211], \"y\": [-72.2695541381836, -159.968017578125, 21.523815155029297, -110.60643768310547, 12.44344425201416], \"topics\": [1, 2, 3, 4, 5], \"cluster\": [1, 1, 1, 1, 1], \"Freq\": [21.300794517772545, 20.364086801530775, 20.2456765754484, 20.159637701062007, 17.929804404186275]}, \"tinfo\": {\"Term\": [\"maxaxaxaxaxaxaxaxaxaxaxaxaxaxaxn maxaxaxaxaxaxaxaxaxaxaxaxaxaxaxn\", \"thanks advancen\", \"clipper chip\", \"law enforcement\", \"anonymous ftp\", \"public key\", \"anyone know\", \"email address\", \"serial number\", \"please email\", \"health care\", \"power play\", \"hard drive\", \"way escape\", \"might serve\", \"pass might\", \"closed road\", \"mountain pass\", \"serve way\", \"proceeded work\", \"road mountain\", \"serdar argicn\", \"longer exists\", \"ohanus appressian\", \"window manager\", \"sahak melkonian\", \"armenia today\", \"soviet armenia\", \"today longer\", \"single turkish\", \"swap file\", \"today special\", \"companyn tratuscom\", \"wstratuscom believe\", \"write today\", \"investor packetn\", \"believe speak\", \"tratuscom write\", \"special investor\", \"speak companyn\", \"ide drive\", \"holy spirit\", \"scsi controller\", \"jake livni\", \"opinion employer\", \"employer opinion\", \"jimmy carter\", \"god exist\", \"failed presidentn\", \"york replaced\", \"replaced jimmy\", \"americanoccupied new\", \"standard failed\", \"opinion standard\", \"carter opinion\", \"livni onycom\", \"year george\", \"bush willn\", \"onycom ten\", \"willn americanoccupied\", \"scsi drive\", \"isa bus\", \"local bus\", \"hard drive\", \"dont speak\", \"please reply\", \"dont know\", \"dont think\", \"hard driven\", \"new york\", \"people dont\", \"believe god\", \"dont believe\", \"stanley cup\", \"anyone know\", \"year old\", \"dont want\", \"first time\", \"look like\", \"like know\", \"many people\", \"something like\", \"dont see\", \"last year\", \"want know\", \"anyone else\", \"clipper chip\", \"serial number\", \"pgp public\", \"ksand private\", \"pplecom alink\", \"alink ksand\", \"private activity\", \"activity netn\", \"kentn pplecom\", \"cheersn kentn\", \"session key\", \"blue jay\", \"enforcement agency\", \"shot savesn\", \"michael adam\", \"unit key\", \"started fire\", \"encryption technology\", \"bit key\", \"malcolm lee\", \"escrow agency\", \"adam laskaedu\", \"laskaedu high\", \"son god\", \"pat myrto\", \"high jackedn\", \"escrow agent\", \"law enforcementn\", \"bit block\", \"encryption device\", \"court order\", \"jesus christ\", \"law enforcement\", \"public key\", \"bay area\", \"red sox\", \"fire started\", \"key escrow\", \"encryption algorithm\", \"drug dealer\", \"tear gas\", \"opinion minen\", \"clayton cramer\", \"cramer uunetpyramidoptilinkcramer\", \"uunetpyramidoptilinkcramer opinion\", \"relation people\", \"consent alln\", \"mutual consent\", \"david koresh\", \"last year\", \"writesn article\", \"dont know\", \"last night\", \"many people\", \"dont think\", \"dont see\", \"look like\", \"sound like\", \"bill clinton\", \"new york\", \"play scorer\", \"michael covington\", \"david veal\", \"artificial intelligence\", \"university georgia\", \"west bank\", \"third periodn\", \"first periodn\", \"second periodn\", \"frank odwyer\", \"georgia institute\", \"tim clock\", \"athens georgia\", \"usa amateur\", \"research scientist\", \"intelligence program\", \"radio ntmi\", \"georgia usa\", \"instruction set\", \"bell lab\", \"pdsgicom jon\", \"gaedu university\", \"program gaedu\", \"remember way\", \"info service\", \"saudi arabia\", \"love anymore\", \"pushed elevator\", \"anymore weird\", \"tkedu still\", \"livesey writesn\", \"blah blah\", \"power play\", \"institute technology\", \"moral system\", \"amateur radio\", \"jon livesey\", \"big enough\", \"radar detector\", \"gun control\", \"year ago\", \"writesn article\", \"human right\", \"___ ___\", \"united state\", \"gon na\", \"dont think\", \"dont know\", \"new jersey\", \"youve got\", \"dont want\", \"something like\", \"even though\", \"ive seen\", \"white house\", \"sound like\", \"make sense\", \"last year\", \"los angeles\", \"anyone else\", \"way escape\", \"might serve\", \"pass might\", \"mountain pass\", \"serve way\", \"proceeded work\", \"closed road\", \"road mountain\", \"serdar argicn\", \"longer exists\", \"ohanus appressian\", \"sahak melkonian\", \"armenia today\", \"soviet armenia\", \"today longer\", \"single turkish\", \"exists single\", \"exterminationn ohanus\", \"work exterminationn\", \"argicn closed\", \"escape turk\", \"appressian soviet\", \"soul sahak\", \"turk proceeded\", \"turkish soul\", \"source code\", \"thanks advance\", \"ottoman empire\", \"armenian government\", \"image processing\", \"email address\", \"anonymous ftp\", \"send email\", \"thanks advancen\", \"ftp site\", \"anyone know\", \"window manager\", \"please email\", \"please send\", \"new york\", \"maxaxaxaxaxaxaxaxaxaxaxaxaxaxaxn maxaxaxaxaxaxaxaxaxaxaxaxaxaxaxn\", \"volume number\", \"henry spencer\", \"intellect andn\", \"bank njxp\", \"chastity intellect\", \"skepticism chastity\", \"njxp skepticism\", \"slpittedu shameful\", \"shameful surrender\", \"andn slpittedu\", \"surrender soon\", \"spencer toronto\", \"orontoedu utzoohenryn\", \"toronto zoologyn\", \"health insurance\", \"public health\", \"disk controller\", \"steve hendricks\", \"disclaimer applyn\", \"national center\", \"work man\", \"souviens gary\", \"itnettttselanne domi\", \"tttgo winnipeg\", \"gon itnettttselanne\", \"domi stanleyn\", \"gary daren\", \"daren tttgo\", \"jet gon\", \"gordon bank\", \"raise tax\", \"floppy disk\", \"standard disclaimer\", \"health care\", \"disk drive\", \"tape drive\", \"brian kendig\", \"floppy drive\", \"hard disk\", \"third party\", \"side effect\", \"dont know\", \"please let\", \"young people\", \"mailing list\", \"united state\", \"year ago\", \"dont think\", \"last year\", \"something like\", \"last night\", \"let know\", \"sound like\"], \"Freq\": [2508.0, 343.0, 229.0, 276.0, 207.0, 185.0, 571.0, 158.0, 141.0, 239.0, 161.0, 157.0, 220.0, 129.0, 127.0, 126.0, 126.0, 126.0, 126.0, 126.0, 125.0, 124.0, 122.0, 121.0, 159.0, 120.0, 120.0, 120.0, 120.0, 120.0, 75.5268987851103, 69.84429105910739, 69.8442910589657, 69.84429105850171, 69.84429105841808, 69.84429105814738, 69.84429105793974, 69.84429105779276, 69.84429105756185, 69.84429105676345, 79.26230335939927, 82.97901080913901, 63.123691197815695, 59.349685417599034, 52.669766079514176, 51.7157891828704, 48.838748673334976, 47.89084555101162, 46.94555406877567, 46.94555406877567, 46.94555406877567, 46.94555406877567, 46.94555406877567, 46.94555406877567, 46.94555406877567, 46.94555406877567, 46.94555406877567, 46.94555406877567, 46.94555406877567, 46.94555406877567, 53.433015718372545, 59.935649805300216, 97.36642302318354, 180.33118521549372, 91.37406095660175, 109.17581920460383, 382.3233409662805, 262.7593506683291, 53.528287117933935, 201.03983894341502, 91.26128098003473, 77.55461692642363, 113.91324559024908, 75.4149992966027, 180.60871283349508, 111.36369943305772, 131.57496082448228, 92.44895045624796, 130.43495167350883, 85.87580538768738, 111.11615408550924, 113.94303629138352, 93.43975960167643, 100.09875738125255, 79.01563812248453, 78.74559981909213, 228.8261844081828, 140.48400481671746, 78.98812782385862, 77.06749040187924, 77.06749040187924, 77.06749040187924, 77.06749040187924, 77.06749040187924, 75.14560341443392, 66.49699033861215, 66.45967931880342, 62.64568658308096, 68.23262251476967, 53.04376470193317, 47.27335725068343, 45.356488055610065, 46.28935864521319, 44.39392268952022, 44.39363891761352, 41.51247120755944, 40.55021206843551, 40.548652306054514, 40.54865230597406, 40.54814897155117, 39.589450428509906, 39.587946060015625, 39.58682045832984, 38.62564273293055, 37.66681527627362, 35.74598641376797, 62.921281956999245, 129.85310731466714, 254.94670731503084, 173.3378124894663, 47.68188179538911, 72.0965655399698, 52.48368133878036, 62.03661568449398, 45.52063724634385, 60.12028358099523, 91.25258416689843, 64.18971543056534, 88.93236809617267, 61.1234352952569, 61.12334953158274, 57.096609189745635, 57.09630548635099, 56.97011241143226, 80.68095065120659, 142.0699866692584, 134.40383434627879, 165.5931834815876, 86.5057405073969, 100.99630117191202, 126.05294063015137, 78.53874943986929, 82.6418782919612, 73.98111909933665, 65.41738271092011, 69.85225609605664, 65.62619795216312, 56.003026406781736, 55.03945016493999, 57.883675576555135, 52.15375616481567, 52.14934176831545, 50.227668223869024, 49.26469784635074, 49.26461392102212, 49.26441577600756, 49.26421633418257, 47.3422973869896, 46.38075547459952, 45.41848999984367, 45.41545322171595, 44.45622475719251, 44.45622475719251, 44.45622475719251, 43.492424984545416, 41.56828358716068, 51.95857809835879, 40.60717200005721, 40.60717200005721, 40.60622085327581, 40.6046443775555, 42.477014862292336, 39.644000540592934, 39.64400054059289, 39.644000540592906, 39.64400054059289, 52.819188362734444, 63.40870503441871, 146.47040101603855, 59.35903880226054, 71.36154546960269, 86.51358946116963, 54.13702892627709, 58.17783846875651, 56.478214294478036, 102.51351209978667, 214.5520225142786, 224.56666354079135, 106.375031028271, 99.95534262348691, 142.90261363009648, 85.1267552272554, 173.70742841386627, 213.98716195602793, 64.97364979299468, 68.45728586665176, 93.00674292618984, 95.41389080001069, 77.73972854140567, 81.94944675647744, 61.05630845819309, 68.86933631007604, 63.61319002086224, 70.58606679066901, 60.506795198142186, 59.69272449640986, 128.86607948820924, 126.9599914206912, 126.00696281216263, 126.00696281216263, 126.00696281216263, 126.00696281216263, 126.00696281216263, 125.05380810726413, 124.10047781417444, 122.19287040298191, 120.28803448105386, 119.33487975270775, 119.33487974721261, 119.33487973732171, 119.33486846863202, 119.33486728271913, 118.38172500725813, 114.56910597713818, 114.56910597713818, 114.56910303023203, 113.61595120084979, 113.61595120084979, 113.61595120084979, 113.61595120084979, 113.61595120084979, 109.76794787452612, 91.69008950726861, 81.20367403061844, 79.30222486558141, 84.89365015432402, 155.0490024747193, 200.81314996350315, 121.3693948478431, 296.67854726658607, 131.75017491042973, 287.15727352307056, 137.76780130329905, 171.83263228243936, 139.65625351407564, 166.01958639342436, 2507.6704018695123, 107.19144243231557, 84.46478156455183, 77.83756032998879, 77.83756032998879, 77.83756032998879, 77.83756032998879, 77.83756032998879, 75.94393206794085, 75.94393206794085, 75.94393206794085, 75.94393206794085, 67.42135023445776, 67.42135023445776, 67.42135023445776, 65.52591671357955, 61.73600683151356, 55.10778627318489, 42.799454974917474, 41.851221212009456, 38.05664643469241, 37.1170274975738, 36.17274557105738, 36.17274557105738, 36.17274557105738, 36.17274557105738, 36.17274557105738, 36.17274557105738, 36.17274557105738, 36.17274557105738, 89.91724289222823, 37.986279711780625, 77.86997962476846, 77.37454386721102, 140.36971250198584, 78.74777841179103, 73.89376455564334, 42.21270619065178, 70.22721619255742, 134.83661009487238, 50.40404821665068, 48.03250537263785, 306.8811190885843, 79.53325231927303, 51.011553257535674, 93.00799892433102, 109.54581046425957, 111.77866837749072, 114.41140287857604, 98.26917685785841, 84.58397200212217, 76.08592561314524, 74.06536653188805, 73.87835631479176], \"Total\": [2508.0, 343.0, 229.0, 276.0, 207.0, 185.0, 571.0, 158.0, 141.0, 239.0, 161.0, 157.0, 220.0, 129.0, 127.0, 126.0, 126.0, 126.0, 126.0, 126.0, 125.0, 124.0, 122.0, 121.0, 159.0, 120.0, 120.0, 120.0, 120.0, 120.0, 76.33629787645913, 70.61121767398029, 70.61121767398133, 70.61121767398461, 70.6112176739852, 70.61121767398711, 70.61121767398858, 70.6112176739896, 70.6112176739912, 70.6112176739968, 80.15294849243291, 83.97140669902495, 63.93157787943898, 60.11514532354199, 53.43583123420403, 52.48164238079765, 49.619184582248984, 48.66495403854384, 47.71070137995002, 47.71070137995002, 47.71070137995002, 47.71070137995002, 47.71070137995002, 47.71070137995002, 47.71070137995002, 47.71070137995002, 47.71070137995002, 47.71070137995002, 47.71070137995002, 47.71070137995002, 54.389807805895224, 62.01348278682718, 105.90773086079956, 220.27720471723376, 106.95900163159145, 134.51515029795178, 1167.4743318824642, 694.1895199136734, 59.123972845056485, 521.1911925180339, 143.26931597637105, 110.8983387988827, 214.1132593117257, 106.08871177868731, 571.0505741546698, 239.85756732275172, 339.21972147980887, 170.8105775523183, 406.8597106541539, 165.021618258443, 347.1007197129146, 378.1820040934742, 230.6309260863883, 421.6244033357732, 143.06635079267807, 277.26447309931837, 229.66151352234178, 141.25405733592328, 79.75333283883819, 77.83144294818848, 77.83144294818848, 77.83144294818848, 77.83144294818848, 77.83144294818848, 75.90954408943513, 67.26099959399593, 67.26104772876697, 63.41715541451934, 69.18302537514934, 53.807710231659655, 48.04195638020761, 46.12011437403905, 47.081076466092995, 45.15914740831317, 45.15916647480784, 42.276318508594564, 41.3153527703698, 41.31533687510208, 41.31533687510089, 41.31535362360582, 40.35440864013718, 40.354388661528866, 40.35441705687422, 39.39343628077987, 38.43251118010105, 36.51061901263094, 64.37907305555356, 137.4195142296592, 276.6359866130362, 185.46904100419684, 48.9990176048855, 75.8651087227851, 54.7579576643453, 66.30482252648531, 47.08213444973085, 65.34494106016948, 111.2953930344797, 72.90897010209287, 117.77572885990496, 70.02342583022077, 70.02342457936835, 66.17696135160259, 66.17695503599124, 66.17511335258631, 128.31128962779198, 421.6244033357732, 507.0802956371704, 1167.4743318824642, 216.70755285749684, 347.1007197129146, 694.1895199136734, 230.6309260863883, 406.8597106541539, 313.4657038544653, 100.59748560763535, 521.1911925180339, 66.38924564874745, 56.766631102363014, 55.80435102146084, 58.690734849774195, 52.91758475832255, 52.91755461572331, 50.993059916910276, 50.030792913767606, 50.03079409274611, 50.03077957401814, 50.03077519069493, 48.10627799737908, 47.14402309192622, 46.1817620365443, 46.18173079139868, 45.219500982833196, 45.219500982833196, 45.219500982833196, 44.25722584079694, 42.332710871096666, 52.91731214934252, 41.370456837186445, 41.370456837186445, 41.37044741619777, 41.37043187221346, 43.294521310209255, 40.40818669976757, 40.408186699767555, 40.408186699767576, 40.40818669976756, 53.87943451477687, 65.40700394400046, 157.78959099485303, 61.56416334787519, 75.04348445488627, 93.23616659096652, 56.764078472201774, 65.34899193789731, 65.29667525015928, 153.69331846008555, 465.80063499264304, 507.0802956371704, 173.52260480505296, 166.79533937001662, 374.45352554009025, 156.52052237097422, 694.1895199136734, 1167.4743318824642, 97.06352706672871, 126.36514078996315, 339.21972147980887, 378.1820040934742, 272.5849372057895, 338.3091014218005, 133.1319810212671, 313.4657038544653, 199.10580538877252, 421.6244033357732, 190.5147842871321, 277.26447309931837, 129.6313387518742, 127.72502959954774, 126.77187402886128, 126.77187402886128, 126.77187402886128, 126.77187402886128, 126.77187402886128, 125.81871966275008, 124.86556625666985, 122.95924897675017, 121.05294783262723, 120.09979346664231, 120.09979346665854, 120.09979346668699, 120.0997934793115, 120.09979357910404, 119.14663910071668, 115.33402163726467, 115.33402163726467, 115.33402166460465, 114.38086727148448, 114.38086727148448, 114.38086727148448, 114.38086727148448, 114.38086727148448, 110.56857024084431, 92.45832239713036, 81.97364906406244, 80.06731119486227, 85.78540617210369, 158.22965606897364, 207.84695108359904, 123.90089416920262, 343.2421417147285, 147.6419501216434, 571.0505741546698, 159.99133474480766, 239.3716044595495, 173.43813079165363, 521.1911925180339, 2508.4365127069673, 107.95904160979089, 85.23263713661689, 78.60408460241607, 78.60408460241607, 78.60408460241607, 78.60408460241607, 78.60408460241607, 76.71021287477146, 76.71021287477146, 76.71021287477146, 76.71021287477146, 68.187809584853, 68.187809584853, 68.187809584853, 66.29396566617471, 62.506251326858326, 55.877693321936626, 43.567552859034144, 42.62063531295016, 38.83293622386393, 37.88595186705516, 36.93898736892195, 36.93898736892195, 36.93898736892195, 36.93898736892195, 36.93898736892195, 36.93898736892195, 36.93898736892195, 36.93898736892195, 91.88021665671033, 38.83403565765952, 83.40830043083471, 83.38833604026755, 161.30863084167984, 87.18480075652364, 85.31249395406861, 44.53921165390171, 84.37810768655612, 196.4397482388629, 57.87094646038486, 55.02108928713406, 1167.4743318824642, 134.15255110669602, 60.75530620953175, 222.8013009293539, 374.45352554009025, 465.80063499264304, 694.1895199136734, 421.6244033357732, 378.1820040934742, 216.70755285749684, 198.1106746665813, 313.4657038544653], \"Category\": [\"Default\", \"Default\", \"Default\", \"Default\", \"Default\", \"Default\", \"Default\", \"Default\", \"Default\", \"Default\", \"Default\", \"Default\", \"Default\", \"Default\", \"Default\", \"Default\", \"Default\", \"Default\", \"Default\", \"Default\", \"Default\", \"Default\", \"Default\", \"Default\", \"Default\", \"Default\", \"Default\", \"Default\", \"Default\", \"Default\", \"Topic1\", \"Topic1\", \"Topic1\", \"Topic1\", \"Topic1\", \"Topic1\", \"Topic1\", \"Topic1\", \"Topic1\", \"Topic1\", \"Topic1\", \"Topic1\", \"Topic1\", \"Topic1\", \"Topic1\", \"Topic1\", \"Topic1\", \"Topic1\", \"Topic1\", \"Topic1\", \"Topic1\", \"Topic1\", \"Topic1\", \"Topic1\", \"Topic1\", \"Topic1\", \"Topic1\", \"Topic1\", \"Topic1\", \"Topic1\", \"Topic1\", \"Topic1\", \"Topic1\", \"Topic1\", \"Topic1\", \"Topic1\", \"Topic1\", \"Topic1\", \"Topic1\", \"Topic1\", \"Topic1\", \"Topic1\", \"Topic1\", \"Topic1\", \"Topic1\", \"Topic1\", \"Topic1\", \"Topic1\", \"Topic1\", \"Topic1\", \"Topic1\", \"Topic1\", \"Topic1\", \"Topic1\", \"Topic1\", \"Topic1\", \"Topic2\", \"Topic2\", \"Topic2\", \"Topic2\", \"Topic2\", \"Topic2\", \"Topic2\", \"Topic2\", \"Topic2\", \"Topic2\", \"Topic2\", \"Topic2\", \"Topic2\", \"Topic2\", \"Topic2\", \"Topic2\", \"Topic2\", \"Topic2\", \"Topic2\", \"Topic2\", \"Topic2\", \"Topic2\", \"Topic2\", \"Topic2\", \"Topic2\", \"Topic2\", \"Topic2\", \"Topic2\", \"Topic2\", \"Topic2\", \"Topic2\", \"Topic2\", \"Topic2\", \"Topic2\", \"Topic2\", \"Topic2\", \"Topic2\", \"Topic2\", \"Topic2\", \"Topic2\", \"Topic2\", \"Topic2\", \"Topic2\", \"Topic2\", \"Topic2\", \"Topic2\", \"Topic2\", \"Topic2\", \"Topic2\", \"Topic2\", \"Topic2\", \"Topic2\", \"Topic2\", \"Topic2\", \"Topic2\", \"Topic2\", \"Topic2\", \"Topic2\", \"Topic2\", \"Topic2\", \"Topic3\", \"Topic3\", \"Topic3\", \"Topic3\", \"Topic3\", \"Topic3\", \"Topic3\", \"Topic3\", \"Topic3\", \"Topic3\", \"Topic3\", \"Topic3\", \"Topic3\", \"Topic3\", \"Topic3\", \"Topic3\", \"Topic3\", \"Topic3\", \"Topic3\", \"Topic3\", \"Topic3\", \"Topic3\", \"Topic3\", \"Topic3\", \"Topic3\", \"Topic3\", \"Topic3\", \"Topic3\", \"Topic3\", \"Topic3\", \"Topic3\", \"Topic3\", \"Topic3\", \"Topic3\", \"Topic3\", \"Topic3\", \"Topic3\", \"Topic3\", \"Topic3\", \"Topic3\", \"Topic3\", \"Topic3\", \"Topic3\", \"Topic3\", \"Topic3\", \"Topic3\", \"Topic3\", \"Topic3\", \"Topic3\", \"Topic3\", \"Topic3\", \"Topic3\", \"Topic3\", \"Topic3\", \"Topic3\", \"Topic3\", \"Topic3\", \"Topic3\", \"Topic3\", \"Topic3\", \"Topic4\", \"Topic4\", \"Topic4\", \"Topic4\", \"Topic4\", \"Topic4\", \"Topic4\", \"Topic4\", \"Topic4\", \"Topic4\", \"Topic4\", \"Topic4\", \"Topic4\", \"Topic4\", \"Topic4\", \"Topic4\", \"Topic4\", \"Topic4\", \"Topic4\", \"Topic4\", \"Topic4\", \"Topic4\", \"Topic4\", \"Topic4\", \"Topic4\", \"Topic4\", \"Topic4\", \"Topic4\", \"Topic4\", \"Topic4\", \"Topic4\", \"Topic4\", \"Topic4\", \"Topic4\", \"Topic4\", \"Topic4\", \"Topic4\", \"Topic4\", \"Topic4\", \"Topic4\", \"Topic5\", \"Topic5\", \"Topic5\", \"Topic5\", \"Topic5\", \"Topic5\", \"Topic5\", \"Topic5\", \"Topic5\", \"Topic5\", \"Topic5\", \"Topic5\", \"Topic5\", \"Topic5\", \"Topic5\", \"Topic5\", \"Topic5\", \"Topic5\", \"Topic5\", \"Topic5\", \"Topic5\", \"Topic5\", \"Topic5\", \"Topic5\", \"Topic5\", \"Topic5\", \"Topic5\", \"Topic5\", \"Topic5\", \"Topic5\", \"Topic5\", \"Topic5\", \"Topic5\", \"Topic5\", \"Topic5\", \"Topic5\", \"Topic5\", \"Topic5\", \"Topic5\", \"Topic5\", \"Topic5\", \"Topic5\", \"Topic5\", \"Topic5\", \"Topic5\", \"Topic5\", \"Topic5\", \"Topic5\", \"Topic5\", \"Topic5\", \"Topic5\", \"Topic5\", \"Topic5\", \"Topic5\"], \"logprob\": [30.0, 29.0, 28.0, 27.0, 26.0, 25.0, 24.0, 23.0, 22.0, 21.0, 20.0, 19.0, 18.0, 17.0, 16.0, 15.0, 14.0, 13.0, 12.0, 11.0, 10.0, 9.0, 8.0, 7.0, 6.0, 5.0, 4.0, 3.0, 2.0, 1.0, -6.5786, -6.6569, -6.6569, -6.6569, -6.6569, -6.6569, -6.6569, -6.6569, -6.6569, -6.6569, -6.5304, -6.4845, -6.758, -6.8197, -6.9391, -6.9574, -7.0146, -7.0342, -7.0541, -7.0541, -7.0541, -7.0541, -7.0541, -7.0541, -7.0541, -7.0541, -7.0541, -7.0541, -7.0541, -7.0541, -6.9247, -6.8099, -6.3247, -5.7083, -6.3882, -6.2102, -4.9569, -5.3319, -6.9229, -5.5996, -6.3894, -6.5522, -6.1677, -6.5801, -5.7068, -6.1903, -6.0236, -6.3765, -6.0323, -6.4502, -6.1926, -6.1674, -6.3658, -6.297, -6.5335, -6.5369, -5.4252, -5.9131, -6.4889, -6.5135, -6.5135, -6.5135, -6.5135, -6.5135, -6.5387, -6.661, -6.6616, -6.7207, -6.6352, -6.887, -7.0022, -7.0436, -7.0233, -7.0651, -7.0651, -7.1322, -7.1556, -7.1557, -7.1557, -7.1557, -7.1796, -7.1796, -7.1797, -7.2042, -7.2294, -7.2817, -6.7163, -5.9918, -5.3171, -5.7029, -6.9936, -6.5802, -6.8977, -6.7304, -7.04, -6.7618, -6.3445, -6.6963, -6.3703, -6.7453, -6.7453, -6.8134, -6.8134, -6.8156, -6.4677, -5.9018, -5.9573, -5.7486, -6.398, -6.2431, -6.0215, -6.4946, -6.4436, -6.5544, -6.6774, -6.6118, -6.6684, -6.8269, -6.8443, -6.7939, -6.8981, -6.8982, -6.9358, -6.9551, -6.9551, -6.9551, -6.9551, -6.9949, -7.0154, -7.0364, -7.0365, -7.0578, -7.0578, -7.0578, -7.0797, -7.125, -6.9019, -7.1484, -7.1484, -7.1484, -7.1484, -7.1034, -7.1724, -7.1724, -7.1724, -7.1724, -6.8855, -6.7027, -5.8655, -6.7687, -6.5846, -6.392, -6.8608, -6.7888, -6.8185, -6.2223, -5.4838, -5.4382, -6.1854, -6.2476, -5.8902, -6.4082, -5.695, -5.4864, -6.6783, -6.6261, -6.3197, -6.2941, -6.499, -6.4462, -6.7405, -6.6201, -6.6995, -6.5955, -6.7496, -6.7631, -5.9893, -6.0042, -6.0117, -6.0117, -6.0117, -6.0117, -6.0117, -6.0193, -6.027, -6.0425, -6.0582, -6.0661, -6.0661, -6.0661, -6.0661, -6.0661, -6.0742, -6.1069, -6.1069, -6.1069, -6.1152, -6.1152, -6.1152, -6.1152, -6.1152, -6.1497, -6.3297, -6.4511, -6.4748, -6.4067, -5.8043, -5.5457, -6.0492, -5.1554, -5.9672, -5.188, -5.9225, -5.7016, -5.9089, -5.736, -2.9037, -6.0562, -6.2945, -6.3762, -6.3762, -6.3762, -6.3762, -6.3762, -6.4009, -6.4009, -6.4009, -6.4009, -6.5199, -6.5199, -6.5199, -6.5484, -6.608, -6.7216, -6.9743, -6.9967, -7.0918, -7.1168, -7.1425, -7.1425, -7.1425, -7.1425, -7.1425, -7.1425, -7.1425, -7.1425, -6.232, -7.0936, -6.3758, -6.3822, -5.7866, -6.3646, -6.4282, -6.9881, -6.4791, -5.8268, -6.8108, -6.859, -5.0044, -6.3547, -6.7988, -6.1982, -6.0345, -6.0143, -5.9911, -6.1431, -6.2931, -6.399, -6.4259, -6.4284], \"loglift\": [30.0, 29.0, 28.0, 27.0, 26.0, 25.0, 24.0, 23.0, 22.0, 21.0, 20.0, 19.0, 18.0, 17.0, 16.0, 15.0, 14.0, 13.0, 12.0, 11.0, 10.0, 9.0, 8.0, 7.0, 6.0, 5.0, 4.0, 3.0, 2.0, 1.0, 1.5358, 1.5355, 1.5355, 1.5355, 1.5355, 1.5355, 1.5355, 1.5355, 1.5355, 1.5355, 1.5353, 1.5345, 1.5337, 1.5336, 1.532, 1.5317, 1.5306, 1.5304, 1.5303, 1.5303, 1.5303, 1.5303, 1.5303, 1.5303, 1.5303, 1.5303, 1.5303, 1.5303, 1.5303, 1.5303, 1.5287, 1.5123, 1.4623, 1.3463, 1.3889, 1.3377, 0.4301, 0.5749, 1.447, 0.5938, 1.0954, 1.1888, 0.9154, 1.2052, 0.3953, 0.7792, 0.5994, 0.9325, 0.4088, 0.8933, 0.4074, 0.3467, 0.6429, 0.1085, 0.9528, 0.2877, 1.5878, 1.5859, 1.5818, 1.5815, 1.5815, 1.5815, 1.5815, 1.5815, 1.5813, 1.58, 1.5794, 1.5792, 1.5776, 1.5771, 1.5753, 1.5747, 1.5744, 1.5743, 1.5743, 1.5732, 1.5727, 1.5727, 1.5727, 1.5727, 1.5723, 1.5722, 1.5722, 1.5717, 1.5713, 1.5702, 1.5685, 1.5348, 1.5097, 1.5238, 1.5641, 1.5404, 1.549, 1.5249, 1.5577, 1.5081, 1.3928, 1.464, 1.3105, 1.4555, 1.4555, 1.4438, 1.4438, 1.4416, 1.1274, 0.5036, 0.2636, -0.3617, 0.6731, 0.3569, -0.1146, 0.5142, -0.0026, 0.1475, 1.1611, -0.4183, 1.5857, 1.5837, 1.5834, 1.5834, 1.5827, 1.5826, 1.5821, 1.5818, 1.5818, 1.5818, 1.5818, 1.5812, 1.5809, 1.5806, 1.5805, 1.5802, 1.5802, 1.5802, 1.5798, 1.579, 1.5789, 1.5786, 1.5786, 1.5786, 1.5785, 1.5782, 1.5781, 1.5781, 1.5781, 1.5781, 1.5774, 1.5662, 1.5228, 1.5608, 1.5469, 1.5224, 1.5498, 1.481, 1.4521, 1.1923, 0.822, 0.7827, 1.1079, 1.0852, 0.6339, 0.9882, 0.2119, -0.0995, 1.1958, 0.9843, 0.3033, 0.2201, 0.3426, 0.1794, 0.8177, 0.0817, 0.4562, -0.1901, 0.4503, 0.0615, 1.5956, 1.5955, 1.5954, 1.5954, 1.5954, 1.5954, 1.5954, 1.5954, 1.5953, 1.5952, 1.5951, 1.5951, 1.5951, 1.5951, 1.5951, 1.5951, 1.595, 1.5948, 1.5948, 1.5948, 1.5948, 1.5948, 1.5948, 1.5948, 1.5948, 1.5942, 1.5931, 1.5921, 1.5919, 1.591, 1.5812, 1.5671, 1.5808, 1.4557, 1.4876, 0.914, 1.4519, 1.27, 1.3849, 0.4575, 1.7184, 1.7116, 1.7097, 1.7089, 1.7089, 1.7089, 1.7089, 1.7089, 1.7087, 1.7087, 1.7087, 1.7087, 1.7074, 1.7074, 1.7074, 1.7071, 1.7063, 1.7048, 1.7009, 1.7005, 1.6985, 1.6982, 1.6977, 1.6977, 1.6977, 1.6977, 1.6977, 1.6977, 1.6977, 1.6977, 1.6971, 1.6966, 1.65, 1.6439, 1.5797, 1.6169, 1.575, 1.6651, 1.5351, 1.3424, 1.5806, 1.5829, 0.3826, 1.1959, 1.5439, 0.8451, 0.4896, 0.2915, -0.0842, 0.2623, 0.2211, 0.672, 0.7348, 0.2734]}, \"token.table\": {\"Topic\": [3, 4, 2, 2, 2, 3, 5, 1, 5, 2, 3, 4, 3, 1, 2, 3, 4, 5, 1, 2, 3, 4, 5, 4, 4, 4, 4, 3, 3, 5, 1, 2, 1, 2, 3, 5, 1, 3, 1, 3, 5, 2, 3, 4, 5, 2, 2, 3, 5, 2, 3, 5, 1, 1, 5, 2, 2, 5, 2, 4, 1, 2, 5, 2, 3, 2, 5, 5, 1, 2, 5, 3, 5, 5, 1, 5, 5, 1, 2, 3, 4, 5, 1, 2, 3, 4, 5, 1, 2, 3, 4, 5, 1, 2, 5, 1, 2, 3, 4, 5, 1, 2, 3, 4, 5, 2, 3, 2, 4, 5, 1, 2, 3, 2, 2, 2, 4, 2, 2, 1, 2, 3, 4, 5, 4, 4, 1, 1, 2, 3, 1, 2, 3, 4, 5, 2, 5, 3, 4, 5, 3, 4, 5, 3, 5, 3, 3, 1, 5, 1, 2, 3, 4, 5, 3, 5, 1, 2, 3, 1, 4, 5, 1, 4, 5, 1, 5, 3, 5, 5, 5, 2, 1, 1, 3, 4, 5, 1, 4, 3, 3, 4, 3, 5, 3, 1, 1, 5, 5, 1, 2, 3, 4, 5, 1, 2, 3, 5, 1, 2, 3, 2, 2, 3, 2, 2, 1, 2, 3, 5, 1, 2, 3, 4, 5, 1, 2, 3, 2, 1, 2, 3, 4, 5, 1, 2, 3, 4, 5, 3, 1, 1, 4, 4, 1, 2, 3, 4, 5, 1, 2, 3, 4, 5, 3, 2, 3, 4, 5, 1, 2, 3, 4, 5, 2, 1, 2, 3, 4, 5, 5, 2, 3, 4, 2, 3, 4, 2, 5, 5, 1, 2, 3, 4, 1, 2, 3, 4, 5, 5, 4, 1, 1, 2, 5, 1, 5, 4, 4, 2, 3, 1, 2, 3, 4, 5, 2, 3, 1, 3, 4, 1, 2, 3, 4, 5, 1, 4, 1, 2, 3, 4, 5, 2, 3, 2, 2, 4, 3, 5, 2, 3, 4, 3, 3, 5, 3, 5, 2, 5, 2, 5, 3, 1, 3, 4, 4, 3, 1, 1, 3, 4, 5, 4, 2, 4, 2, 5, 2, 3, 4, 5, 4, 5, 5, 1, 2, 3, 4, 5, 2, 4, 1, 2, 3, 4, 5, 4, 5, 4, 1, 1, 5, 1, 3, 5, 1, 1, 2, 4, 2, 5, 5, 1, 1, 4, 5, 1, 2, 5, 4, 1, 3, 4, 2, 3, 5, 3, 3, 3, 4, 1, 5, 1, 5, 4, 4, 2, 1, 2, 3, 4, 5, 3, 3, 2, 5, 5, 1, 2, 3, 4, 5, 4, 3, 1, 2, 3, 5, 1, 4, 5, 4, 5, 1, 1, 2, 3, 4, 5, 1, 1, 2, 3, 4, 5, 1, 1, 2, 3, 4, 5, 1, 3, 5, 1, 2, 3, 5], \"Freq\": [0.5995371356160096, 0.3956945095065663, 0.9893173900329464, 0.9923675589029962, 0.9893173900329464, 0.9331142965333934, 0.06435271010575128, 0.985103941895755, 0.9907416125160431, 0.004811232470750969, 0.024056162353754844, 0.9670577266209448, 0.9898984158135974, 0.28492651480704334, 0.23082654364114902, 0.2163998846635772, 0.09737994809860974, 0.17311990773086178, 0.31695966730781344, 0.005253475148748289, 0.05953938501914728, 0.5025824558969197, 0.11557645327246237, 0.9966701837416525, 0.9971038756840025, 0.9908426697922352, 0.9866698259385192, 0.9882309388092991, 0.9757334436712054, 0.992314844635981, 0.02040857243432354, 0.9796114768475298, 0.7033468746673944, 0.20739715535064196, 0.07213814099152764, 0.01803453524788191, 0.9913439012366199, 0.9921405725206266, 0.061209819484305046, 0.8875423825224231, 0.045907364613228786, 0.6461394100198713, 0.12922788200397425, 0.00994060630799802, 0.20875273246795842, 0.9887462159817183, 0.974331535205494, 0.9631995994486879, 0.015288882530931554, 0.9934220415313072, 0.04490425235950032, 0.9429892995495067, 0.985103941895755, 0.985103941895755, 0.992314844635981, 0.9812521431199709, 0.7556735234121634, 0.23773998489371434, 0.9971196152450793, 0.9939113148340337, 0.9913439012367217, 0.8613270279510409, 0.13599900441332224, 0.9785788612650024, 0.01553299779785718, 0.8711370413081613, 0.11424748082729984, 0.9745800457510118, 0.24939348745403664, 0.6312772651180303, 0.12469674372701832, 0.985586231060164, 0.9854381496570142, 0.9842925992510135, 0.0917591131777794, 0.9061212426305716, 0.9745800457510118, 0.5324284930623019, 0.22418041813149556, 0.10741978368800828, 0.046704253777394907, 0.08873808217705031, 0.32720205452744633, 0.1421872802396756, 0.1833016745258469, 0.08479843821522823, 0.2629608134553037, 0.4032416709160879, 0.342538623681408, 0.13007795836002836, 0.05203118334401135, 0.06937491112534847, 0.8507932816486032, 0.13089127409978513, 0.009349376721413222, 0.3788590758798917, 0.18150662950899757, 0.2506520121790919, 0.0244889896956584, 0.16422028384147397, 0.3891283190262773, 0.07075060345932314, 0.2741585884048772, 0.1031779633781796, 0.16508474140508733, 0.9182042102502187, 0.07651701752085156, 0.012639855572511535, 0.9795888068696439, 0.0063199277862557674, 0.99082265037929, 0.9770160282158356, 0.021239478874257294, 0.9860145068355514, 0.9743319465747977, 0.9829000630033984, 0.9966701837416525, 0.992367177109136, 0.9912173912368821, 0.22745203985058335, 0.2091091334110202, 0.28614934045718554, 0.09171453219781588, 0.18342906439563175, 0.99037623629696, 0.9971038759203663, 0.985103941895755, 0.036524371713415195, 0.9496336645487949, 0.979396830357171, 0.5386083304578777, 0.158069836112638, 0.04098106862179504, 0.08781657561813223, 0.1697787128617223, 0.05994607220352352, 0.935158726374967, 0.011851415342410304, 0.15406839945133394, 0.8295990739687212, 0.9793970914945839, 0.8940548393681074, 0.10159714083728492, 0.9910453771723049, 0.9745800457510118, 0.979397177302049, 0.9730315249764442, 0.9863360800049831, 0.9745800457510118, 0.08944513976779453, 0.3002801120775959, 0.5430597771616097, 0.012777877109684933, 0.044722569883897265, 0.010883735763665796, 0.9795362187299216, 0.17567452034040082, 0.14964866547515626, 0.6701657627800476, 0.09163114981247439, 0.22398725509715964, 0.687233623593558, 0.817152188902447, 0.10895362518699293, 0.06809601574187059, 0.9133351059056087, 0.08456806536163043, 0.12398592620644999, 0.86790148344515, 0.9955657251271558, 0.9855379678720825, 0.9912180887065025, 0.9884316967261639, 0.005762937924563014, 0.6108714200036794, 0.3745909650965959, 0.005762937924563014, 0.9856156446628815, 0.9908445246441102, 0.9910459752182993, 0.9583497410110798, 0.032486431898680675, 0.9715927553769533, 0.992314844635981, 0.9730315249764442, 0.9913439012366404, 0.9675315319130103, 0.016125525531883504, 0.9745800457510118, 0.19804374082287857, 0.1803084804506805, 0.24238189175337377, 0.1803084804506805, 0.20099961755157825, 0.9814498440028676, 0.9460082924084602, 0.05093890805276324, 0.9745800457510118, 0.9875212664725955, 0.035233550051894706, 0.9513058514011571, 0.9880180535880505, 0.9350752726203926, 0.060327436943251135, 0.9893173900329464, 0.992367558903025, 0.20303860857555642, 0.4014627033198502, 0.046145138312626455, 0.35070305117596107, 0.23717792236129656, 0.33679264975304113, 0.16839632487652056, 0.02608957145974262, 0.23243436391407063, 0.06145259771925454, 0.9217889657888182, 0.018074293446839574, 0.9900126437821868, 0.181716608964094, 0.09590598806438295, 0.08076293731737512, 0.26752722986380506, 0.3735285850928599, 0.5211438410773188, 0.042418684738851534, 0.07877755737215285, 0.2181532357998079, 0.13937567842765505, 0.9836777330219441, 0.985103941895755, 0.9158915898924557, 0.07553745071277984, 0.992198643170539, 0.31952045532103546, 0.20400152147419956, 0.1032296855652576, 0.22366431872472484, 0.14747097937893944, 0.010497872947149989, 0.2676957601523247, 0.32018512488807466, 0.2834425695730497, 0.12072553889222488, 0.9898984158135976, 0.16606725295438018, 0.03590643307121734, 0.38150585138168425, 0.41741228445290157, 0.271212584156248, 0.2109431210104151, 0.32143713677777536, 0.0753368289322911, 0.11551647102951303, 0.9934639883901341, 0.31979190389408463, 0.2909818224621851, 0.15269343158906745, 0.09219226058207845, 0.14693141530268755, 0.9998259821587048, 0.9783115331115684, 0.9864950396478416, 0.9943235119864845, 0.0399768217293202, 0.946118114260578, 0.9939113148340337, 0.8613509990727093, 0.1360027893272699, 0.978550779187486, 0.041210124141173046, 0.22665568277645173, 0.669664517294062, 0.06181518621175957, 0.38565502043291944, 0.13430771855872817, 0.06523517758566796, 0.31850116115355537, 0.09785276637850195, 0.992314844635981, 0.9913017580201098, 0.985103941895755, 0.9918438391592745, 0.8778069407698692, 0.10972586759623365, 0.985103941895755, 0.9825803234905957, 0.988122414029641, 0.9939113148340337, 0.9912175979755362, 0.9826651787083649, 0.6351674074789911, 0.06979861620648253, 0.15355695565426158, 0.03489930810324127, 0.10469792430972381, 0.9905542149522392, 0.9941369171325297, 0.25065629708029624, 0.029243234659367894, 0.7185480516301825, 0.0670878035919123, 0.037271001995506835, 0.1789008095784328, 0.11926720638562187, 0.5963360319281094, 0.8103176464403037, 0.18585267120190452, 0.0634231927534666, 0.023062979183078765, 0.011531489591539382, 0.8072042714077567, 0.09225191673231506, 0.06971309026562349, 0.925282834434639, 0.9893173900329464, 0.9893173900329464, 0.9939113148340337, 0.9910453771723049, 0.9919007888633246, 0.932770229809326, 0.059309089756662346, 0.00539173543242385, 0.9898984158135979, 0.857624064096026, 0.12251772344228944, 0.9730315249764442, 0.9785230753503977, 0.9490528809902797, 0.039543870041261656, 0.8613269457501262, 0.13599899143423044, 0.9910456028558026, 0.985103941895755, 0.9744112927093072, 0.9934928628669516, 0.9908426697923691, 0.9700996506940477, 0.9854285173252608, 0.9744472749222588, 0.9793968072776289, 0.9765869795480162, 0.016141933546248204, 0.9930680148048933, 0.9911219729926699, 0.9939113148340337, 0.9812514408955954, 0.9907416125160431, 0.984988949944493, 0.09087424594425801, 0.0181748491888516, 0.8723927610648768, 0.9908426688645416, 0.992314844635981, 0.9907416125160431, 0.30144215950535536, 0.08461534301904712, 0.25120179958779615, 0.13749993240595157, 0.2247595048943439, 0.9923671566149771, 0.9966701837416525, 0.19140849943780958, 0.23607048263996513, 0.220119774353481, 0.11803524131998257, 0.23607048263996513, 0.9948577589489868, 0.9745800457510118, 0.9908426697920005, 0.9913439012365044, 0.991343901236583, 0.9825803234905957, 0.04796833933787134, 0.011992084834467835, 0.9233905322540232, 0.985103941895755, 0.7069555162141871, 0.23565183873806236, 0.04713036774761247, 0.9770379832569978, 0.9869730379195154, 0.9907416125160431, 0.9955945220581252, 0.11721612552299665, 0.011721612552299665, 0.8673993288701752, 0.13477646819893926, 0.8176439070735648, 0.03594039151971714, 0.9950429297736795, 0.11362241187858929, 0.020393766234618593, 0.8652783673831032, 0.10367896789293496, 0.017279827982155826, 0.8639913991077913, 0.9805255868440058, 0.9770034589364958, 0.9898984158135977, 0.9908426696878463, 0.9913439012367362, 0.9825803234905957, 0.9913439012366055, 0.9745800457510118, 0.9966701837416525, 0.9966701837416525, 0.9757131050249616, 0.05608172594906352, 0.05341116757053669, 0.3818898481293373, 0.2163152286606736, 0.29376142163795177, 0.9826601164336353, 0.9744106334528952, 0.8711370568695807, 0.11424748286814172, 0.9911166161213503, 0.5521913403276874, 0.027959055206465185, 0.10484645702424444, 0.13280551223070963, 0.1817338588420237, 0.9951297366982945, 0.9826606761709529, 0.21782895272449532, 0.16524955034272057, 0.4581919350411798, 0.1577382071453242, 0.985103941895755, 0.862546713671183, 0.1375074471070002, 0.9971038759203663, 0.9766152934426977, 0.9913439012366674, 0.1124082329572219, 0.2642579511625918, 0.4437167090416654, 0.055218079347407245, 0.1242406785316663, 0.9913439012366756, 0.12666363153612245, 0.0665520775867762, 0.4615708606824801, 0.10519521941135593, 0.24044621579738498, 0.985103941895755, 0.46277464263046864, 0.14591993236095857, 0.12090508681336568, 0.2251336099283361, 0.041691409245988166, 0.985103941895755, 0.14813520927638765, 0.8394328525661967, 0.17409864668743677, 0.05539502394600261, 0.5381230897611682, 0.22158009578401044], \"Term\": [\"___ ___\", \"___ ___\", \"activity netn\", \"adam laskaedu\", \"alink ksand\", \"amateur radio\", \"amateur radio\", \"americanoccupied new\", \"andn slpittedu\", \"anonymous ftp\", \"anonymous ftp\", \"anonymous ftp\", \"anymore weird\", \"anyone else\", \"anyone else\", \"anyone else\", \"anyone else\", \"anyone else\", \"anyone know\", \"anyone know\", \"anyone know\", \"anyone know\", \"anyone know\", \"appressian soviet\", \"argicn closed\", \"armenia today\", \"armenian government\", \"artificial intelligence\", \"athens georgia\", \"bank njxp\", \"bay area\", \"bay area\", \"believe god\", \"believe god\", \"believe god\", \"believe god\", \"believe speak\", \"bell lab\", \"big enough\", \"big enough\", \"big enough\", \"bill clinton\", \"bill clinton\", \"bill clinton\", \"bill clinton\", \"bit block\", \"bit key\", \"blah blah\", \"blah blah\", \"blue jay\", \"brian kendig\", \"brian kendig\", \"bush willn\", \"carter opinion\", \"chastity intellect\", \"cheersn kentn\", \"clayton cramer\", \"clayton cramer\", \"clipper chip\", \"closed road\", \"companyn tratuscom\", \"consent alln\", \"consent alln\", \"court order\", \"court order\", \"cramer uunetpyramidoptilinkcramer\", \"cramer uunetpyramidoptilinkcramer\", \"daren tttgo\", \"david koresh\", \"david koresh\", \"david koresh\", \"david veal\", \"disclaimer applyn\", \"disk controller\", \"disk drive\", \"disk drive\", \"domi stanleyn\", \"dont believe\", \"dont believe\", \"dont believe\", \"dont believe\", \"dont believe\", \"dont know\", \"dont know\", \"dont know\", \"dont know\", \"dont know\", \"dont see\", \"dont see\", \"dont see\", \"dont see\", \"dont see\", \"dont speak\", \"dont speak\", \"dont speak\", \"dont think\", \"dont think\", \"dont think\", \"dont think\", \"dont think\", \"dont want\", \"dont want\", \"dont want\", \"dont want\", \"dont want\", \"drug dealer\", \"drug dealer\", \"email address\", \"email address\", \"email address\", \"employer opinion\", \"encryption algorithm\", \"encryption algorithm\", \"encryption device\", \"encryption technology\", \"enforcement agency\", \"escape turk\", \"escrow agency\", \"escrow agent\", \"even though\", \"even though\", \"even though\", \"even though\", \"even though\", \"exists single\", \"exterminationn ohanus\", \"failed presidentn\", \"fire started\", \"fire started\", \"first periodn\", \"first time\", \"first time\", \"first time\", \"first time\", \"first time\", \"floppy disk\", \"floppy disk\", \"floppy drive\", \"floppy drive\", \"floppy drive\", \"frank odwyer\", \"ftp site\", \"ftp site\", \"gaedu university\", \"gary daren\", \"georgia institute\", \"georgia usa\", \"god exist\", \"gon itnettttselanne\", \"gon na\", \"gon na\", \"gon na\", \"gon na\", \"gon na\", \"gordon bank\", \"gordon bank\", \"gun control\", \"gun control\", \"gun control\", \"hard disk\", \"hard disk\", \"hard disk\", \"hard drive\", \"hard drive\", \"hard drive\", \"hard driven\", \"hard driven\", \"health care\", \"health care\", \"health insurance\", \"henry spencer\", \"high jackedn\", \"holy spirit\", \"human right\", \"human right\", \"human right\", \"human right\", \"ide drive\", \"image processing\", \"info service\", \"institute technology\", \"institute technology\", \"instruction set\", \"intellect andn\", \"intelligence program\", \"investor packetn\", \"isa bus\", \"isa bus\", \"itnettttselanne domi\", \"ive seen\", \"ive seen\", \"ive seen\", \"ive seen\", \"ive seen\", \"jake livni\", \"jesus christ\", \"jesus christ\", \"jet gon\", \"jimmy carter\", \"jon livesey\", \"jon livesey\", \"kentn pplecom\", \"key escrow\", \"key escrow\", \"ksand private\", \"laskaedu high\", \"last night\", \"last night\", \"last night\", \"last night\", \"last year\", \"last year\", \"last year\", \"last year\", \"last year\", \"law enforcement\", \"law enforcement\", \"law enforcement\", \"law enforcementn\", \"let know\", \"let know\", \"let know\", \"let know\", \"let know\", \"like know\", \"like know\", \"like know\", \"like know\", \"like know\", \"livesey writesn\", \"livni onycom\", \"local bus\", \"local bus\", \"longer exists\", \"look like\", \"look like\", \"look like\", \"look like\", \"look like\", \"los angeles\", \"los angeles\", \"los angeles\", \"los angeles\", \"los angeles\", \"love anymore\", \"mailing list\", \"mailing list\", \"mailing list\", \"mailing list\", \"make sense\", \"make sense\", \"make sense\", \"make sense\", \"make sense\", \"malcolm lee\", \"many people\", \"many people\", \"many people\", \"many people\", \"many people\", \"maxaxaxaxaxaxaxaxaxaxaxaxaxaxaxn maxaxaxaxaxaxaxaxaxaxaxaxaxaxaxn\", \"michael adam\", \"michael covington\", \"might serve\", \"moral system\", \"moral system\", \"mountain pass\", \"mutual consent\", \"mutual consent\", \"national center\", \"new jersey\", \"new jersey\", \"new jersey\", \"new jersey\", \"new york\", \"new york\", \"new york\", \"new york\", \"new york\", \"njxp skepticism\", \"ohanus appressian\", \"onycom ten\", \"opinion employer\", \"opinion minen\", \"opinion minen\", \"opinion standard\", \"orontoedu utzoohenryn\", \"ottoman empire\", \"pass might\", \"pat myrto\", \"pdsgicom jon\", \"people dont\", \"people dont\", \"people dont\", \"people dont\", \"people dont\", \"pgp public\", \"play scorer\", \"please email\", \"please email\", \"please email\", \"please let\", \"please let\", \"please let\", \"please let\", \"please let\", \"please reply\", \"please reply\", \"please send\", \"please send\", \"please send\", \"please send\", \"please send\", \"power play\", \"power play\", \"pplecom alink\", \"private activity\", \"proceeded work\", \"program gaedu\", \"public health\", \"public key\", \"public key\", \"public key\", \"pushed elevator\", \"radar detector\", \"radar detector\", \"radio ntmi\", \"raise tax\", \"red sox\", \"red sox\", \"relation people\", \"relation people\", \"remember way\", \"replaced jimmy\", \"research scientist\", \"road mountain\", \"sahak melkonian\", \"saudi arabia\", \"scsi controller\", \"scsi drive\", \"second periodn\", \"send email\", \"send email\", \"serdar argicn\", \"serial number\", \"serve way\", \"session key\", \"shameful surrender\", \"shot savesn\", \"side effect\", \"side effect\", \"side effect\", \"single turkish\", \"skepticism chastity\", \"slpittedu shameful\", \"something like\", \"something like\", \"something like\", \"something like\", \"something like\", \"son god\", \"soul sahak\", \"sound like\", \"sound like\", \"sound like\", \"sound like\", \"sound like\", \"source code\", \"souviens gary\", \"soviet armenia\", \"speak companyn\", \"special investor\", \"spencer toronto\", \"standard disclaimer\", \"standard disclaimer\", \"standard disclaimer\", \"standard failed\", \"stanley cup\", \"stanley cup\", \"stanley cup\", \"started fire\", \"steve hendricks\", \"surrender soon\", \"swap file\", \"tape drive\", \"tape drive\", \"tape drive\", \"tear gas\", \"tear gas\", \"tear gas\", \"thanks advance\", \"thanks advancen\", \"thanks advancen\", \"thanks advancen\", \"third party\", \"third party\", \"third party\", \"third periodn\", \"tim clock\", \"tkedu still\", \"today longer\", \"today special\", \"toronto zoologyn\", \"tratuscom write\", \"tttgo winnipeg\", \"turk proceeded\", \"turkish soul\", \"unit key\", \"united state\", \"united state\", \"united state\", \"united state\", \"united state\", \"university georgia\", \"usa amateur\", \"uunetpyramidoptilinkcramer opinion\", \"uunetpyramidoptilinkcramer opinion\", \"volume number\", \"want know\", \"want know\", \"want know\", \"want know\", \"want know\", \"way escape\", \"west bank\", \"white house\", \"white house\", \"white house\", \"white house\", \"willn americanoccupied\", \"window manager\", \"window manager\", \"work exterminationn\", \"work man\", \"write today\", \"writesn article\", \"writesn article\", \"writesn article\", \"writesn article\", \"writesn article\", \"wstratuscom believe\", \"year ago\", \"year ago\", \"year ago\", \"year ago\", \"year ago\", \"year george\", \"year old\", \"year old\", \"year old\", \"year old\", \"year old\", \"york replaced\", \"young people\", \"young people\", \"youve got\", \"youve got\", \"youve got\", \"youve got\"]}, \"R\": 30, \"lambda.step\": 0.01, \"plot.opts\": {\"xlab\": \"PC1\", \"ylab\": \"PC2\"}, \"topic.order\": [5, 4, 3, 1, 2]};\n",
              "\n",
              "function LDAvis_load_lib(url, callback){\n",
              "  var s = document.createElement('script');\n",
              "  s.src = url;\n",
              "  s.async = true;\n",
              "  s.onreadystatechange = s.onload = callback;\n",
              "  s.onerror = function(){console.warn(\"failed to load library \" + url);};\n",
              "  document.getElementsByTagName(\"head\")[0].appendChild(s);\n",
              "}\n",
              "\n",
              "if(typeof(LDAvis) !== \"undefined\"){\n",
              "   // already loaded: just create the visualization\n",
              "   !function(LDAvis){\n",
              "       new LDAvis(\"#\" + \"ldavis_el1391401613711440084660797744\", ldavis_el1391401613711440084660797744_data);\n",
              "   }(LDAvis);\n",
              "}else if(typeof define === \"function\" && define.amd){\n",
              "   // require.js is available: use it to load d3/LDAvis\n",
              "   require.config({paths: {d3: \"https://cdnjs.cloudflare.com/ajax/libs/d3/3.5.5/d3.min\"}});\n",
              "   require([\"d3\"], function(d3){\n",
              "      window.d3 = d3;\n",
              "      LDAvis_load_lib(\"https://cdn.rawgit.com/bmabey/pyLDAvis/files/ldavis.v1.0.0.js\", function(){\n",
              "        new LDAvis(\"#\" + \"ldavis_el1391401613711440084660797744\", ldavis_el1391401613711440084660797744_data);\n",
              "      });\n",
              "    });\n",
              "}else{\n",
              "    // require.js not available: dynamically load d3 & LDAvis\n",
              "    LDAvis_load_lib(\"https://cdnjs.cloudflare.com/ajax/libs/d3/3.5.5/d3.min.js\", function(){\n",
              "         LDAvis_load_lib(\"https://cdn.rawgit.com/bmabey/pyLDAvis/files/ldavis.v1.0.0.js\", function(){\n",
              "                 new LDAvis(\"#\" + \"ldavis_el1391401613711440084660797744\", ldavis_el1391401613711440084660797744_data);\n",
              "            })\n",
              "         });\n",
              "}\n",
              "</script>"
            ],
            "text/plain": [
              "PreparedData(topic_coordinates=                x           y  topics  cluster       Freq\n",
              "topic                                                    \n",
              "4      150.222153  -72.269554       1        1  21.300795\n",
              "3       51.163364 -159.968018       2        1  20.364087\n",
              "2      -73.144554   21.523815       3        1  20.245677\n",
              "0      -66.410133 -110.606438       4        1  20.159638\n",
              "1       54.417324   12.443444       5        1  17.929804, topic_info=                                                   Term  ...  loglift\n",
              "6066  maxaxaxaxaxaxaxaxaxaxaxaxaxaxaxn maxaxaxaxaxax...  ...  30.0000\n",
              "9938                                    thanks advancen  ...  29.0000\n",
              "1677                                       clipper chip  ...  28.0000\n",
              "5365                                    law enforcement  ...  27.0000\n",
              "446                                       anonymous ftp  ...  26.0000\n",
              "...                                                 ...  ...      ...\n",
              "5342                                          last year  ...   0.2623\n",
              "9277                                     something like  ...   0.2211\n",
              "5324                                         last night  ...   0.6720\n",
              "5464                                           let know  ...   0.7348\n",
              "9333                                         sound like  ...   0.2734\n",
              "\n",
              "[300 rows x 6 columns], token_table=       Topic      Freq           Term\n",
              "term                                 \n",
              "0          3  0.599537        ___ ___\n",
              "0          4  0.395695        ___ ___\n",
              "100        2  0.989317  activity netn\n",
              "123        2  0.992368  adam laskaedu\n",
              "189        2  0.989317    alink ksand\n",
              "...      ...       ...            ...\n",
              "11804      5  0.839433   young people\n",
              "11828      1  0.174099      youve got\n",
              "11828      2  0.055395      youve got\n",
              "11828      3  0.538123      youve got\n",
              "11828      5  0.221580      youve got\n",
              "\n",
              "[459 rows x 3 columns], R=30, lambda_step=0.01, plot_opts={'xlab': 'PC1', 'ylab': 'PC2'}, topic_order=[5, 4, 3, 1, 2])"
            ]
          },
          "metadata": {
            "tags": []
          },
          "execution_count": 36
        }
      ]
    },
    {
      "cell_type": "markdown",
      "metadata": {
        "id": "X014UbEYCKpr",
        "colab_type": "text"
      },
      "source": [
        "# LDA Bigram - tf - stem"
      ]
    },
    {
      "cell_type": "code",
      "metadata": {
        "id": "EZrJmVEFCPFv",
        "colab_type": "code",
        "colab": {}
      },
      "source": [
        "data_bigram_stem_tf = count.fit_transform(df.bigram_stem)"
      ],
      "execution_count": 37,
      "outputs": []
    },
    {
      "cell_type": "code",
      "metadata": {
        "id": "9oNb8PCrCPQf",
        "colab_type": "code",
        "colab": {
          "base_uri": "https://localhost:8080/",
          "height": 374
        },
        "outputId": "6328f4e6-2b34-473c-dbc7-82c7d4b16da5"
      },
      "source": [
        "# Parametri di ricerca\n",
        "search_params = {'n_components': [5,10, 15, 20, 25, 30], 'learning_decay': [.5, .7, .9]}\n",
        "\n",
        "# Inizializzazione Modello\n",
        "lda = LatentDirichletAllocation()\n",
        "\n",
        "# Inizializzazione GridSearchCV\n",
        "model = GridSearchCV(lda, param_grid=search_params)\n",
        "\n",
        "# Grid Search\n",
        "model.fit(data_bigram_stem_tf)"
      ],
      "execution_count": 38,
      "outputs": [
        {
          "output_type": "execute_result",
          "data": {
            "text/plain": [
              "GridSearchCV(cv=None, error_score=nan,\n",
              "             estimator=LatentDirichletAllocation(batch_size=128,\n",
              "                                                 doc_topic_prior=None,\n",
              "                                                 evaluate_every=-1,\n",
              "                                                 learning_decay=0.7,\n",
              "                                                 learning_method='batch',\n",
              "                                                 learning_offset=10.0,\n",
              "                                                 max_doc_update_iter=100,\n",
              "                                                 max_iter=10,\n",
              "                                                 mean_change_tol=0.001,\n",
              "                                                 n_components=10, n_jobs=None,\n",
              "                                                 perp_tol=0.1,\n",
              "                                                 random_state=None,\n",
              "                                                 topic_word_prior=None,\n",
              "                                                 total_samples=1000000.0,\n",
              "                                                 verbose=0),\n",
              "             iid='deprecated', n_jobs=None,\n",
              "             param_grid={'learning_decay': [0.5, 0.7, 0.9],\n",
              "                         'n_components': [5, 10, 15, 20, 25, 30]},\n",
              "             pre_dispatch='2*n_jobs', refit=True, return_train_score=False,\n",
              "             scoring=None, verbose=0)"
            ]
          },
          "metadata": {
            "tags": []
          },
          "execution_count": 38
        }
      ]
    },
    {
      "cell_type": "code",
      "metadata": {
        "id": "iLitNRf5CPOS",
        "colab_type": "code",
        "colab": {
          "base_uri": "https://localhost:8080/",
          "height": 68
        },
        "outputId": "8dd4b12f-0649-4d57-b285-597bdc036e7a"
      },
      "source": [
        "# Stimato il Miglior modello \n",
        "best_lda_model = model.best_estimator_\n",
        "\n",
        "# Parametri del modello\n",
        "print(\"Best Model Params: \", model.best_params_)\n",
        "\n",
        "# Log Likelihood Score\n",
        "print(\"Best Log Likelihood Score: \", model.best_score_)\n",
        "\n",
        "# Perplessità\n",
        "print(\"Model Perplexity: \", best_lda_model.perplexity(data_bigram_stem_tf))"
      ],
      "execution_count": 39,
      "outputs": [
        {
          "output_type": "stream",
          "text": [
            "Best Model Params:  {'learning_decay': 0.7, 'n_components': 5}\n",
            "Best Log Likelihood Score:  -664501.1511713697\n",
            "Model Perplexity:  8726.14424214716\n"
          ],
          "name": "stdout"
        }
      ]
    },
    {
      "cell_type": "code",
      "metadata": {
        "id": "BdHhbKeOChCL",
        "colab_type": "code",
        "colab": {
          "base_uri": "https://localhost:8080/",
          "height": 861
        },
        "outputId": "d4bd5740-c1ff-4ba3-edf0-ddcc3315401a"
      },
      "source": [
        "pyLDAvis.enable_notebook()\n",
        "vis = pyLDAvis.sklearn.prepare(best_lda_model, data_bigram_stem_tf, count, mds='tsne')\n",
        "vis"
      ],
      "execution_count": 40,
      "outputs": [
        {
          "output_type": "execute_result",
          "data": {
            "text/html": [
              "\n",
              "<link rel=\"stylesheet\" type=\"text/css\" href=\"https://cdn.rawgit.com/bmabey/pyLDAvis/files/ldavis.v1.0.0.css\">\n",
              "\n",
              "\n",
              "<div id=\"ldavis_el1391401613088310805786551623\"></div>\n",
              "<script type=\"text/javascript\">\n",
              "\n",
              "var ldavis_el1391401613088310805786551623_data = {\"mdsDat\": {\"x\": [150.22215270996094, 51.16336441040039, -73.1445541381836, -66.4101333618164, 54.41732406616211], \"y\": [-72.2695541381836, -159.968017578125, 21.523815155029297, -110.60643768310547, 12.44344425201416], \"topics\": [1, 2, 3, 4, 5], \"cluster\": [1, 1, 1, 1, 1], \"Freq\": [24.883278086326996, 24.42941541061268, 18.709001146611058, 17.44470494981283, 14.533600406636449]}, \"tinfo\": {\"Term\": [\"maxaxaxaxaxaxaxaxaxaxaxaxaxaxaxn maxaxaxaxaxaxaxaxaxaxaxaxaxaxaxn\", \"anyon know\", \"new york\", \"thank advancen\", \"law enforc\", \"unit state\", \"power play\", \"human right\", \"pleas repli\", \"clipper chip\", \"hard drive\", \"way escap\", \"close road\", \"might serv\", \"___ ___\", \"mountain pass\", \"serv way\", \"pass might\", \"proceed work\", \"longer exist\", \"road mountain\", \"serdar argicn\", \"ohanu appressian\", \"sahak melkonian\", \"armenia today\", \"soviet armenia\", \"singl turkish\", \"exist singl\", \"today longer\", \"work exterminationn\", \"tape drive\", \"privat activ\", \"pplecom alink\", \"activ netn\", \"alink ksand\", \"ksand privat\", \"scsi control\", \"kentn pplecom\", \"enforc agenc\", \"cheersn kentn\", \"att bell\", \"jet propuls\", \"scsi drive\", \"isa bu\", \"help greatli\", \"scsi scsi\", \"unit key\", \"encrypt technolog\", \"lord jesu\", \"malcolm lee\", \"bell lab\", \"escrow agent\", \"law enforcementn\", \"encrypt devic\", \"bit block\", \"propuls lab\", \"ultra pro\", \"reform church\", \"protect privaci\", \"run mhz\", \"serial port\", \"comput graphic\", \"law enforc\", \"bit key\", \"serial number\", \"hard driven\", \"hard drive\", \"clipper chip\", \"white hous\", \"session key\", \"send email\", \"ide drive\", \"attorney gener\", \"ftp site\", \"greatli appreciatedn\", \"do window\", \"local bu\", \"anonym ftp\", \"pleas email\", \"dont know\", \"jesu christ\", \"hard disk\", \"make sure\", \"email address\", \"pleas send\", \"mani peopl\", \"year ago\", \"dont think\", \"anyon know\", \"work fine\", \"thank advancen\", \"anyon els\", \"dont want\", \"sound like\", \"even though\", \"look like\", \"ive seen\", \"volum number\", \"keep bear\", \"imag process\", \"believ speak\", \"write today\", \"tratuscom write\", \"special investor\", \"today special\", \"speak companyn\", \"wstratuscom believ\", \"investor packetn\", \"companyn tratuscom\", \"open look\", \"email omn\", \"steve hendrick\", \"free state\", \"itnettttselann domi\", \"jet gon\", \"tttgo winnipeg\", \"daren tttgo\", \"souvien gari\", \"domi stanleyn\", \"gon itnettttselann\", \"gari daren\", \"thing infinit\", \"gldn souvien\", \"sure former\", \"fail tri\", \"cult member\", \"privat insur\", \"bear arm\", \"branch davidian\", \"public health\", \"health insur\", \"second amend\", \"right peopl\", \"young peopl\", \"window manag\", \"health care\", \"tel fax\", \"unit state\", \"fax email\", \"nuclear weapon\", \"tear ga\", \"object moral\", \"mail list\", \"two thing\", \"dont know\", \"dont think\", \"public key\", \"last year\", \"writesn articl\", \"gun control\", \"new york\", \"someth like\", \"ive seen\", \"look like\", \"mani peopl\", \"answer question\", \"ive heard\", \"thank youn\", \"david koresh\", \"sound like\", \"dont see\", \"way escap\", \"close road\", \"might serv\", \"pass might\", \"mountain pass\", \"proceed work\", \"serv way\", \"longer exist\", \"road mountain\", \"serdar argicn\", \"ohanu appressian\", \"sahak melkonian\", \"armenia today\", \"soviet armenia\", \"singl turkish\", \"exist singl\", \"today longer\", \"exterminationn ohanu\", \"work exterminationn\", \"argicn close\", \"turkish soul\", \"soul sahak\", \"escap turk\", \"turk proceed\", \"appressian soviet\", \"ottoman empir\", \"armenian govern\", \"polici research\", \"center polici\", \"xsoviet armenian\", \"human right\", \"new york\", \"san francisco\", \"last year\", \"world war\", \"lo angel\", \"dont know\", \"last night\", \"power play\", \"skeptic chastiti\", \"chastiti intellect\", \"intellect andn\", \"bank njxp\", \"njxp skeptic\", \"shame surrend\", \"slpittedu shame\", \"andn slpittedu\", \"surrend soon\", \"play scorer\", \"copi protect\", \"great care\", \"care taken\", \"taken ensur\", \"error omiss\", \"ensur accuraci\", \"accuraci ofn\", \"inform error\", \"sternlight great\", \"omiss except\", \"third periodn\", \"first periodn\", \"second periodn\", \"georgia institut\", \"michael adam\", \"disclaim applyn\", \"adam laskaedu\", \"laskaedu high\", \"convert gif\", \"gordon bank\", \"____ ____\", \"david sternlight\", \"institut technolog\", \"___ ___\", \"pleas respond\", \"space shuttl\", \"solar system\", \"san jose\", \"standard disclaim\", \"space station\", \"state univers\", \"year ago\", \"seem like\", \"dont think\", \"opinion express\", \"dont know\", \"anyon els\", \"look like\", \"mani peopl\", \"even though\", \"writesn articl\", \"maxaxaxaxaxaxaxaxaxaxaxaxaxaxaxn maxaxaxaxaxaxaxaxaxaxaxaxaxaxaxn\", \"uunetpyramidoptilinkcram opinion\", \"cramer uunetpyramidoptilinkcram\", \"mutual consent\", \"consent alln\", \"peopl mutual\", \"minen relat\", \"relat peopl\", \"artifici intellig\", \"michael covington\", \"univers georgia\", \"athen georgia\", \"usa amateur\", \"georgia usa\", \"intellig program\", \"radio ntmi\", \"instruct set\", \"program gaedu\", \"gaedu univers\", \"georgia phone\", \"scientist artifici\", \"phone athen\", \"covington associ\", \"associ research\", \"laser printer\", \"day havent\", \"dick dunn\", \"svr resembl\", \"zoologyn svr\", \"suno dick\", \"repli via\", \"pleas repli\", \"opinion minen\", \"jon livesey\", \"pdsgicom jon\", \"clayton cramer\", \"livesey writesn\", \"wonder anyon\", \"thank advancen\", \"anyon know\", \"research scientist\", \"amateur radio\", \"like know\", \"writesn articl\", \"look like\", \"pleas let\", \"anybodi know\", \"anyon tell\", \"dont know\", \"dont want\", \"dont think\", \"pleas email\", \"ive seen\", \"someth like\", \"comput scienc\", \"let know\"], \"Freq\": [2503.0, 573.0, 523.0, 361.0, 275.0, 382.0, 155.0, 173.0, 133.0, 228.0, 221.0, 130.0, 128.0, 128.0, 165.0, 127.0, 127.0, 127.0, 127.0, 127.0, 126.0, 125.0, 121.0, 120.0, 120.0, 120.0, 120.0, 120.0, 120.0, 115.0, 85.42273139488205, 76.81731360786107, 76.81731360786107, 76.81731360786107, 76.81731360786107, 76.81731360786107, 75.85921942567539, 74.90171330119922, 68.19548178581762, 66.28081592331606, 56.701718291000155, 55.74292705851792, 53.829120297137955, 60.385620002440255, 50.94281485787048, 47.12527663896332, 45.20957080216244, 44.25031690844907, 44.24662508740587, 41.3770694540414, 41.375842621550575, 39.46098719296569, 38.49831925996342, 37.54640790526117, 37.54584930530292, 36.588334299293834, 35.629722542247535, 35.628102734473394, 33.714434692002456, 33.70983298341806, 86.81007652501704, 95.93478821381763, 258.0108313612734, 43.839758276859826, 131.51220074041296, 57.27565256367336, 196.69732637603298, 202.2439071109215, 120.4223190082988, 63.345648013291765, 124.44350676808843, 74.23201583299749, 107.10367755090732, 122.52641546590584, 81.33886566278663, 72.63262893932442, 84.68356934907958, 139.2282291106653, 146.34538438222603, 385.01767404858714, 93.47126136563958, 114.31981841319048, 127.64231863280123, 101.07718179653845, 102.2045667196445, 131.74111606375084, 137.35130352866935, 147.93874108922805, 125.07256504126411, 90.57856076525871, 103.82286283884072, 97.80418350496937, 99.52059265143625, 91.10677759609108, 88.37649740671068, 91.67402792204071, 87.33430446509406, 108.79536234174431, 82.84534084756025, 86.55756647291474, 72.27323419467601, 71.31155075086144, 70.35101047230263, 70.35101047230263, 70.35101047230263, 70.35101047230262, 70.35101047230262, 70.35101047230263, 70.35101047230263, 69.38767695726004, 52.083825160690466, 43.43964576216889, 37.67231544104258, 36.71342152009977, 36.71342152009977, 36.71342152009977, 36.71342152009977, 36.713421520099764, 36.713421520099764, 36.713421520099764, 36.713421520099764, 35.74936536520762, 34.79124088032235, 34.78821216107283, 34.788147811469365, 33.8274576215231, 39.441295245098786, 95.07161155968734, 80.25667425380449, 63.57652973909553, 69.10589221873181, 108.27078232794929, 82.5068786443855, 59.34342896064707, 149.93585105520884, 148.47370975085138, 87.21463237308146, 297.95473569030923, 52.636822045874794, 48.33181611837658, 90.43650144380793, 56.86561245075355, 138.74678889256919, 63.00608626398145, 362.3248632420519, 229.47143546863217, 103.82525615609062, 159.76038253352365, 138.00897304432803, 84.07635845280292, 121.4234575066225, 108.83473264515011, 101.10915568553987, 105.5808950056984, 98.97965630279789, 85.14241800633289, 82.31335609843889, 78.82347809202554, 75.15871324127806, 78.66160648207064, 74.82041116474275, 129.57082438087298, 127.65496546890996, 127.65176688185014, 126.69699035401128, 126.69699035401128, 126.69699035401128, 126.69699035401128, 126.69624796655718, 125.73861623020353, 124.78018508737026, 120.94674552884152, 119.98837138826501, 119.98837138411908, 119.98837137442305, 119.98835993395694, 119.98827461146338, 119.98819867238093, 115.19650057611331, 115.19650057611331, 115.19650049833962, 114.23812639729239, 114.23812639729239, 114.23812639729239, 114.23812639729239, 114.23812639729239, 81.65116950012548, 79.73659549822086, 75.90032128538925, 69.19306261134237, 62.48597466757508, 166.18136369121962, 380.9494891362569, 106.16563788131815, 192.71870416604614, 94.67734845346942, 115.03056276413814, 159.8484217090521, 115.15775860753205, 155.04317993618406, 78.09217254343453, 78.09217254343451, 78.09217254343453, 78.09217254343447, 78.09217254343447, 76.19244118079004, 76.19244118079004, 76.19244118079004, 76.19244118079004, 64.79232529389276, 55.289566915999366, 55.28944760564039, 53.39071924592213, 52.44078064745717, 51.49164893452902, 51.491553464837764, 51.491553464837764, 50.54161104677788, 50.541513813176195, 49.59157306628892, 49.59130709902783, 48.64141753083395, 48.641266303915764, 48.638164084829015, 46.737121486466044, 41.987280984021666, 40.09036653740321, 40.0903665373503, 40.08488579594016, 90.06771472755457, 51.24515332666947, 79.40725588835778, 57.554402694328985, 133.59634613638983, 73.0655280590953, 64.42341961356952, 68.34288839741886, 113.11570340696056, 67.70151478675123, 60.39066664217257, 84.31091044432186, 120.25380184577486, 95.2287382687739, 116.78287686997658, 73.79212350326848, 109.02873291270437, 73.96222441024746, 72.51400198727123, 69.12177672926745, 64.46439498640916, 65.65968446403122, 2502.6360450403104, 68.21426097281262, 68.21425964725371, 64.43452461994053, 64.43428012908407, 63.48789595974254, 62.54107020547808, 64.37378929812152, 56.889486302896046, 54.999727642035694, 51.220287862555786, 45.5502832259172, 44.60521736110622, 43.66020506104553, 43.66020506104553, 43.66020506104553, 43.6582983120567, 39.88006109324897, 39.88006109324897, 37.98997978297814, 37.98997978297814, 37.98997978297814, 37.98997978297814, 37.98997978297814, 37.03617570795371, 34.20656362084957, 32.319411154600566, 32.31941115460054, 32.31941115460054, 32.31941115460052, 38.75273747088814, 126.4523541960175, 69.03422906111786, 53.767305887001214, 49.996680548311886, 104.99328009750634, 50.352509600761564, 76.71574916801694, 251.05130660486589, 361.6894081548736, 43.355616370428905, 74.42549473862067, 87.99837112436006, 148.12345362605555, 125.68402173884151, 70.8852463582917, 70.81643243052216, 54.13836601657457, 153.5584729824253, 85.9326316238519, 87.78812365119106, 64.71550063845791, 67.45555445896761, 60.24516384410648, 54.953446631637604, 54.984388827678295], \"Total\": [2503.0, 573.0, 523.0, 361.0, 275.0, 382.0, 155.0, 173.0, 133.0, 228.0, 221.0, 130.0, 128.0, 128.0, 165.0, 127.0, 127.0, 127.0, 127.0, 127.0, 126.0, 125.0, 121.0, 120.0, 120.0, 120.0, 120.0, 120.0, 120.0, 115.0, 86.2020998179164, 77.5817249184105, 77.5817249184105, 77.58172491841052, 77.58172491841052, 77.58172491841052, 76.62387917091947, 75.66604318822515, 68.9611666872384, 67.04547746435628, 57.46707523066975, 56.509216392740726, 54.59355047125922, 61.29645664035373, 51.71991872647341, 47.88866991357578, 45.97298373821474, 45.01514414992278, 45.015119856364194, 42.14161532972483, 42.14161559505792, 40.22593395852465, 39.26811116812321, 38.31025777118758, 38.3102598420603, 37.352408946584646, 36.394568463522226, 36.39457707657276, 34.47888836281773, 34.47885325519431, 89.06689513814256, 99.62192686516296, 275.80621648130864, 45.01653229970404, 140.72598947230858, 59.38675183358658, 221.2710508099547, 228.7093770797038, 133.13027787112244, 67.02204568702275, 142.73189873903675, 80.41158233812408, 122.64832200668272, 148.2978926777486, 94.65294146004419, 83.19673829350519, 104.44212244088145, 208.938383375496, 239.45171347532187, 1169.7781648948207, 136.58646342365432, 198.3231479183841, 252.4925925299923, 162.7720375094185, 175.42156394154054, 347.410771509722, 465.07634876299846, 694.0824872118277, 573.5145199891379, 161.76151082753069, 361.5526707015096, 290.5023982056879, 338.54043482112036, 345.0245900845301, 272.36210573038386, 469.3570908208617, 338.29134208215487, 109.55829100652001, 83.60870437399124, 87.45115259976957, 73.03664695373999, 72.07554450026306, 71.11445520455588, 71.11445520455588, 71.11445520455588, 71.11445520455587, 71.11445520455587, 71.11445520455588, 71.11445520455588, 70.15335050399717, 52.85357615411514, 44.20375833378327, 38.437178219990614, 37.476109465793364, 37.476109465793364, 37.476109465793364, 37.476109465793364, 37.47610946579336, 37.47610946579336, 37.47610946579336, 37.47610946579336, 36.51499670635426, 35.55391795100759, 35.55390104028487, 35.55390022771957, 34.5927872485393, 40.35682475111136, 98.01893242381391, 82.62591167901635, 65.34499066541063, 71.09391787747461, 112.40986704452274, 85.50502402372975, 61.49872901454587, 163.33667324623903, 163.25770931152988, 94.15972063358676, 382.19429089192465, 55.73028867821187, 51.86351580921383, 111.14685185034264, 63.36141813353842, 228.31237837884677, 75.7840284642367, 1169.7781648948207, 694.0824872118277, 184.70658237811233, 427.525066182204, 504.6770391108649, 156.44648844269267, 523.5874628929776, 383.38604684906863, 338.29134208215487, 469.3570908208617, 347.410771509722, 224.63875881136795, 184.3850812914426, 149.09085041581454, 136.9002176706645, 345.0245900845301, 230.75334602611844, 130.33494043308627, 128.4181999156593, 128.41820591123047, 127.45982535681647, 127.45982535681647, 127.45982535681647, 127.45982535681647, 127.45982136599154, 126.50145149173937, 125.54307759900146, 121.70958216596249, 120.75120830083584, 120.75120830080931, 120.75120830074522, 120.75120827320028, 120.75120835148485, 120.75120705213963, 115.95933897465615, 115.95933897465615, 115.9593389741629, 115.00096510934885, 115.00096510934885, 115.00096510934885, 115.00096510934885, 115.00096510934885, 82.41623358874051, 80.4995061781864, 76.66601105958351, 69.9573894870417, 63.24877660663724, 173.48025121435253, 523.5874628929776, 139.80522288112434, 427.525066182204, 114.98243264978849, 190.38563927164432, 1169.7781648948207, 217.38879737988958, 155.81005866034096, 78.85727200001425, 78.85727200001423, 78.85727200001426, 78.8572720000142, 78.85727200001422, 76.95720555139287, 76.95720555139287, 76.95720555139287, 76.95720555139287, 65.55679614720039, 56.056468073535704, 56.05648058333584, 54.15639836148845, 53.2063619040361, 52.25632004427415, 52.25631954255614, 52.25631954255614, 51.306285948583145, 51.30628543706081, 50.356251853869125, 50.3562540215233, 49.40621898950568, 49.406220167336684, 49.40623777111518, 47.506163695432015, 42.756006823127294, 40.85591159228099, 40.855911592280705, 40.855948408011436, 92.15077757217927, 52.258216317858434, 85.56213271704821, 60.82706813052448, 165.56468591211276, 80.72505895494082, 70.35074929623191, 76.06488132074709, 158.12308573581925, 83.70962433891935, 70.38334964259455, 130.54068910727185, 465.07634876299846, 259.7274265278063, 694.0824872118277, 163.68174683497926, 1169.7781648948207, 290.5023982056879, 469.3570908208617, 347.410771509722, 272.36210573038386, 504.6770391108649, 2503.401514180715, 68.9970824358343, 68.99708245454707, 65.2169453524007, 65.21694941307017, 64.2719349918772, 63.32692741314287, 65.21780164387093, 57.65646831038109, 55.76639705232281, 51.986256706992584, 46.316057146093605, 45.371024720753326, 44.42599157084095, 44.42599157084095, 44.42599157084095, 44.42601496358624, 40.645860337169715, 40.645860337169715, 38.755794807496265, 38.755794807496265, 38.755794807496265, 38.755794807496265, 38.755794807496265, 37.810864019964484, 34.975705747135, 33.085596869066386, 33.085596869066386, 33.0855968690664, 33.085596869066386, 39.70181762999004, 133.30219343933214, 71.86062933180226, 55.77295496535764, 51.99274720114071, 116.39657112657797, 52.94090551669694, 88.03069417049691, 361.5526707015096, 573.5145199891379, 45.387958225015026, 91.77092141431824, 167.5002565777411, 504.6770391108649, 469.3570908208617, 134.10938237495353, 137.0153736668025, 75.87668570754116, 1169.7781648948207, 338.54043482112036, 694.0824872118277, 239.45171347532187, 338.29134208215487, 383.38604684906863, 173.66133981404755, 206.93447739987846], \"Category\": [\"Default\", \"Default\", \"Default\", \"Default\", \"Default\", \"Default\", \"Default\", \"Default\", \"Default\", \"Default\", \"Default\", \"Default\", \"Default\", \"Default\", \"Default\", \"Default\", \"Default\", \"Default\", \"Default\", \"Default\", \"Default\", \"Default\", \"Default\", \"Default\", \"Default\", \"Default\", \"Default\", \"Default\", \"Default\", \"Default\", \"Topic1\", \"Topic1\", \"Topic1\", \"Topic1\", \"Topic1\", \"Topic1\", \"Topic1\", \"Topic1\", \"Topic1\", \"Topic1\", \"Topic1\", \"Topic1\", \"Topic1\", \"Topic1\", \"Topic1\", \"Topic1\", \"Topic1\", \"Topic1\", \"Topic1\", \"Topic1\", \"Topic1\", \"Topic1\", \"Topic1\", \"Topic1\", \"Topic1\", \"Topic1\", \"Topic1\", \"Topic1\", \"Topic1\", \"Topic1\", \"Topic1\", \"Topic1\", \"Topic1\", \"Topic1\", \"Topic1\", \"Topic1\", \"Topic1\", \"Topic1\", \"Topic1\", \"Topic1\", \"Topic1\", \"Topic1\", \"Topic1\", \"Topic1\", \"Topic1\", \"Topic1\", \"Topic1\", \"Topic1\", \"Topic1\", \"Topic1\", \"Topic1\", \"Topic1\", \"Topic1\", \"Topic1\", \"Topic1\", \"Topic1\", \"Topic1\", \"Topic1\", \"Topic1\", \"Topic1\", \"Topic1\", \"Topic1\", \"Topic1\", \"Topic1\", \"Topic1\", \"Topic1\", \"Topic1\", \"Topic2\", \"Topic2\", \"Topic2\", \"Topic2\", \"Topic2\", \"Topic2\", \"Topic2\", \"Topic2\", \"Topic2\", \"Topic2\", \"Topic2\", \"Topic2\", \"Topic2\", \"Topic2\", \"Topic2\", \"Topic2\", \"Topic2\", \"Topic2\", \"Topic2\", \"Topic2\", \"Topic2\", \"Topic2\", \"Topic2\", \"Topic2\", \"Topic2\", \"Topic2\", \"Topic2\", \"Topic2\", \"Topic2\", \"Topic2\", \"Topic2\", \"Topic2\", \"Topic2\", \"Topic2\", \"Topic2\", \"Topic2\", \"Topic2\", \"Topic2\", \"Topic2\", \"Topic2\", \"Topic2\", \"Topic2\", \"Topic2\", \"Topic2\", \"Topic2\", \"Topic2\", \"Topic2\", \"Topic2\", \"Topic2\", \"Topic2\", \"Topic2\", \"Topic2\", \"Topic2\", \"Topic2\", \"Topic2\", \"Topic2\", \"Topic2\", \"Topic2\", \"Topic2\", \"Topic2\", \"Topic2\", \"Topic2\", \"Topic2\", \"Topic2\", \"Topic3\", \"Topic3\", \"Topic3\", \"Topic3\", \"Topic3\", \"Topic3\", \"Topic3\", \"Topic3\", \"Topic3\", \"Topic3\", \"Topic3\", \"Topic3\", \"Topic3\", \"Topic3\", \"Topic3\", \"Topic3\", \"Topic3\", \"Topic3\", \"Topic3\", \"Topic3\", \"Topic3\", \"Topic3\", \"Topic3\", \"Topic3\", \"Topic3\", \"Topic3\", \"Topic3\", \"Topic3\", \"Topic3\", \"Topic3\", \"Topic3\", \"Topic3\", \"Topic3\", \"Topic3\", \"Topic3\", \"Topic3\", \"Topic3\", \"Topic3\", \"Topic4\", \"Topic4\", \"Topic4\", \"Topic4\", \"Topic4\", \"Topic4\", \"Topic4\", \"Topic4\", \"Topic4\", \"Topic4\", \"Topic4\", \"Topic4\", \"Topic4\", \"Topic4\", \"Topic4\", \"Topic4\", \"Topic4\", \"Topic4\", \"Topic4\", \"Topic4\", \"Topic4\", \"Topic4\", \"Topic4\", \"Topic4\", \"Topic4\", \"Topic4\", \"Topic4\", \"Topic4\", \"Topic4\", \"Topic4\", \"Topic4\", \"Topic4\", \"Topic4\", \"Topic4\", \"Topic4\", \"Topic4\", \"Topic4\", \"Topic4\", \"Topic4\", \"Topic4\", \"Topic4\", \"Topic4\", \"Topic4\", \"Topic4\", \"Topic4\", \"Topic4\", \"Topic4\", \"Topic4\", \"Topic4\", \"Topic4\", \"Topic4\", \"Topic4\", \"Topic5\", \"Topic5\", \"Topic5\", \"Topic5\", \"Topic5\", \"Topic5\", \"Topic5\", \"Topic5\", \"Topic5\", \"Topic5\", \"Topic5\", \"Topic5\", \"Topic5\", \"Topic5\", \"Topic5\", \"Topic5\", \"Topic5\", \"Topic5\", \"Topic5\", \"Topic5\", \"Topic5\", \"Topic5\", \"Topic5\", \"Topic5\", \"Topic5\", \"Topic5\", \"Topic5\", \"Topic5\", \"Topic5\", \"Topic5\", \"Topic5\", \"Topic5\", \"Topic5\", \"Topic5\", \"Topic5\", \"Topic5\", \"Topic5\", \"Topic5\", \"Topic5\", \"Topic5\", \"Topic5\", \"Topic5\", \"Topic5\", \"Topic5\", \"Topic5\", \"Topic5\", \"Topic5\", \"Topic5\", \"Topic5\", \"Topic5\", \"Topic5\", \"Topic5\", \"Topic5\", \"Topic5\", \"Topic5\", \"Topic5\"], \"logprob\": [30.0, 29.0, 28.0, 27.0, 26.0, 25.0, 24.0, 23.0, 22.0, 21.0, 20.0, 19.0, 18.0, 17.0, 16.0, 15.0, 14.0, 13.0, 12.0, 11.0, 10.0, 9.0, 8.0, 7.0, 6.0, 5.0, 4.0, 3.0, 2.0, 1.0, -6.7263, -6.8325, -6.8325, -6.8325, -6.8325, -6.8325, -6.8451, -6.8578, -6.9516, -6.9801, -7.1361, -7.1532, -7.1881, -7.0732, -7.2432, -7.3211, -7.3626, -7.3841, -7.3842, -7.4512, -7.4513, -7.4986, -7.5233, -7.5484, -7.5484, -7.5742, -7.6008, -7.6008, -7.656, -7.6562, -6.7102, -6.6103, -5.6209, -7.3934, -6.2949, -7.1261, -5.8923, -5.8645, -6.3829, -7.0253, -6.3501, -6.8668, -6.5002, -6.3656, -6.7753, -6.8885, -6.735, -6.2378, -6.188, -5.2207, -6.6363, -6.435, -6.3247, -6.5581, -6.547, -6.2931, -6.2514, -6.1772, -6.3451, -6.6677, -6.5313, -6.591, -6.5736, -6.6619, -6.6923, -6.6557, -6.7042, -6.4661, -6.7386, -6.6947, -6.8751, -6.8885, -6.902, -6.902, -6.902, -6.902, -6.902, -6.902, -6.902, -6.9158, -7.2027, -7.3842, -7.5266, -7.5524, -7.5524, -7.5524, -7.5524, -7.5524, -7.5524, -7.5524, -7.5524, -7.579, -7.6062, -7.6063, -7.6063, -7.6343, -7.4807, -6.6009, -6.7703, -7.0033, -6.9199, -6.4709, -6.7427, -7.0722, -6.1453, -6.1551, -6.6872, -5.4586, -7.1921, -7.2775, -6.6509, -7.1149, -6.2229, -7.0123, -5.263, -5.7198, -6.5128, -6.0819, -6.2282, -6.7238, -6.3563, -6.4657, -6.5393, -6.4961, -6.5606, -6.7112, -6.745, -6.7883, -6.8359, -6.7904, -6.8405, -6.0245, -6.0394, -6.0395, -6.047, -6.047, -6.047, -6.047, -6.047, -6.0546, -6.0622, -6.0934, -6.1014, -6.1014, -6.1014, -6.1014, -6.1014, -6.1014, -6.1421, -6.1421, -6.1421, -6.1505, -6.1505, -6.1505, -6.1505, -6.1505, -6.4863, -6.51, -6.5593, -6.6519, -6.7538, -5.7757, -4.9461, -6.2238, -5.6275, -6.3383, -6.1436, -5.8145, -6.1425, -5.7751, -6.4609, -6.4609, -6.4609, -6.4609, -6.4609, -6.4855, -6.4855, -6.4855, -6.4855, -6.6476, -6.8062, -6.8062, -6.8412, -6.8591, -6.8774, -6.8774, -6.8774, -6.896, -6.896, -6.915, -6.915, -6.9343, -6.9343, -6.9344, -6.9743, -7.0814, -7.1277, -7.1277, -7.1278, -6.3182, -6.8822, -6.4442, -6.7661, -5.924, -6.5274, -6.6533, -6.5943, -6.0904, -6.6037, -6.718, -6.3843, -6.0292, -6.2625, -6.0585, -6.5175, -6.1272, -6.5152, -6.535, -6.5829, -6.6527, -6.6343, -2.8111, -6.4136, -6.4136, -6.4706, -6.4706, -6.4854, -6.5004, -6.4715, -6.5951, -6.6289, -6.7001, -6.8174, -6.8384, -6.8598, -6.8598, -6.8598, -6.8598, -6.9503, -6.9503, -6.9989, -6.9989, -6.9989, -6.9989, -6.9989, -7.0243, -7.1038, -7.1605, -7.1605, -7.1605, -7.1605, -6.979, -5.7964, -6.4016, -6.6516, -6.7243, -5.9823, -6.7172, -6.2961, -5.1106, -4.7454, -6.8668, -6.3264, -6.1589, -5.6382, -5.8024, -6.3752, -6.3761, -6.6447, -5.6021, -6.1827, -6.1613, -6.4662, -6.4247, -6.5378, -6.6297, -6.6292], \"loglift\": [30.0, 29.0, 28.0, 27.0, 26.0, 25.0, 24.0, 23.0, 22.0, 21.0, 20.0, 19.0, 18.0, 17.0, 16.0, 15.0, 14.0, 13.0, 12.0, 11.0, 10.0, 9.0, 8.0, 7.0, 6.0, 5.0, 4.0, 3.0, 2.0, 1.0, 1.3819, 1.3811, 1.3811, 1.3811, 1.3811, 1.3811, 1.3809, 1.3808, 1.3798, 1.3795, 1.3776, 1.3773, 1.3769, 1.376, 1.3758, 1.3749, 1.3742, 1.3738, 1.3738, 1.3727, 1.3726, 1.3718, 1.3712, 1.3708, 1.3708, 1.3703, 1.3697, 1.3697, 1.3686, 1.3684, 1.3653, 1.3533, 1.3243, 1.3645, 1.3233, 1.3548, 1.2733, 1.268, 1.2907, 1.3346, 1.2539, 1.311, 1.2555, 1.2001, 1.2394, 1.2552, 1.1813, 0.985, 0.8986, 0.2797, 1.0117, 0.8401, 0.7088, 0.9145, 0.8508, 0.4213, 0.1713, -0.1548, -0.1319, 0.8111, 0.1433, 0.3023, 0.1667, 0.0594, 0.2654, -0.2422, 0.0368, 1.4024, 1.4002, 1.3991, 1.3989, 1.3987, 1.3986, 1.3986, 1.3986, 1.3986, 1.3986, 1.3986, 1.3986, 1.3984, 1.3947, 1.3919, 1.3893, 1.3888, 1.3888, 1.3888, 1.3888, 1.3888, 1.3888, 1.3888, 1.3888, 1.3882, 1.3877, 1.3876, 1.3876, 1.387, 1.3864, 1.3789, 1.3803, 1.3819, 1.381, 1.3719, 1.3737, 1.3737, 1.3238, 1.3145, 1.3328, 1.1604, 1.3523, 1.3389, 1.2032, 1.3012, 0.9113, 1.2247, 0.2374, 0.3026, 0.8333, 0.425, 0.1128, 0.7884, -0.052, 0.1502, 0.2017, -0.0825, 0.1538, 0.4392, 0.6029, 0.772, 0.8097, -0.0691, 0.2831, 1.6703, 1.6702, 1.6702, 1.6702, 1.6702, 1.6702, 1.6702, 1.6702, 1.6701, 1.6701, 1.6699, 1.6698, 1.6698, 1.6698, 1.6698, 1.6698, 1.6698, 1.6696, 1.6696, 1.6696, 1.6695, 1.6695, 1.6695, 1.6695, 1.6695, 1.6668, 1.6666, 1.6661, 1.6652, 1.664, 1.6332, 1.3581, 1.4009, 0.8794, 1.4819, 1.1723, -0.3142, 1.0408, 1.7412, 1.7364, 1.7364, 1.7364, 1.7364, 1.7364, 1.7361, 1.7361, 1.7361, 1.7361, 1.7344, 1.7324, 1.7324, 1.7319, 1.7316, 1.7314, 1.7314, 1.7314, 1.7311, 1.7311, 1.7308, 1.7308, 1.7305, 1.7305, 1.7305, 1.7298, 1.728, 1.7272, 1.7272, 1.7271, 1.7233, 1.7266, 1.6715, 1.6908, 1.5316, 1.6464, 1.6581, 1.6391, 1.4112, 1.5339, 1.593, 1.309, 0.3935, 0.7428, -0.0361, 0.9495, -0.6268, 0.3781, -0.1215, 0.1315, 0.3051, -0.2933, 1.9284, 1.9173, 1.9173, 1.9166, 1.9166, 1.9164, 1.9162, 1.9157, 1.9153, 1.9149, 1.9139, 1.912, 1.9117, 1.9113, 1.9113, 1.9113, 1.9113, 1.9097, 1.9097, 1.9087, 1.9087, 1.9087, 1.9087, 1.9087, 1.908, 1.9065, 1.9053, 1.9053, 1.9053, 1.9053, 1.9045, 1.876, 1.8886, 1.8921, 1.8896, 1.8256, 1.8786, 1.7911, 1.564, 1.4677, 1.8829, 1.7192, 1.285, 0.7028, 0.6111, 1.2911, 1.2687, 1.5911, -0.1018, 0.5576, -0.139, 0.6204, 0.3163, 0.0781, 0.7781, 0.6034]}, \"token.table\": {\"Topic\": [1, 4, 4, 4, 1, 4, 1, 1, 4, 5, 4, 1, 2, 4, 1, 2, 3, 4, 5, 1, 2, 3, 4, 5, 1, 2, 3, 4, 5, 1, 2, 3, 4, 5, 1, 4, 5, 3, 3, 3, 3, 5, 5, 5, 1, 1, 2, 3, 4, 2, 3, 2, 1, 1, 1, 2, 1, 2, 5, 4, 3, 4, 1, 3, 5, 1, 4, 3, 2, 1, 2, 1, 2, 3, 4, 5, 5, 4, 4, 5, 5, 2, 2, 1, 2, 3, 4, 5, 1, 2, 4, 5, 5, 4, 1, 5, 2, 1, 2, 3, 4, 5, 1, 2, 3, 4, 5, 1, 2, 3, 4, 5, 1, 2, 3, 4, 5, 1, 2, 4, 2, 1, 1, 1, 4, 4, 3, 1, 1, 2, 3, 4, 5, 3, 3, 2, 2, 3, 4, 2, 1, 2, 4, 5, 5, 2, 4, 5, 5, 2, 2, 4, 5, 4, 1, 5, 1, 2, 3, 1, 2, 3, 1, 3, 1, 2, 2, 3, 5, 2, 5, 1, 2, 3, 1, 4, 2, 4, 1, 4, 5, 4, 5, 2, 1, 2, 1, 2, 3, 4, 5, 1, 2, 3, 4, 5, 1, 2, 3, 5, 2, 1, 4, 5, 2, 1, 1, 5, 4, 1, 2, 3, 4, 5, 1, 2, 3, 4, 5, 1, 2, 4, 1, 1, 2, 3, 4, 5, 1, 2, 3, 4, 5, 4, 5, 2, 3, 4, 5, 1, 2, 4, 3, 1, 2, 3, 4, 5, 1, 1, 2, 3, 4, 1, 2, 3, 4, 5, 1, 1, 2, 3, 4, 5, 5, 4, 5, 3, 5, 3, 5, 1, 2, 3, 4, 4, 2, 3, 4, 1, 2, 5, 3, 4, 2, 1, 2, 3, 4, 5, 3, 5, 3, 3, 4, 5, 5, 5, 4, 1, 2, 4, 5, 1, 2, 4, 5, 2, 4, 5, 4, 5, 1, 2, 4, 3, 4, 1, 1, 2, 3, 5, 1, 1, 2, 3, 1, 2, 4, 5, 5, 1, 5, 5, 1, 5, 2, 4, 3, 1, 3, 1, 2, 3, 4, 2, 3, 4, 5, 1, 1, 1, 2, 3, 4, 4, 1, 2, 3, 4, 5, 1, 2, 5, 3, 1, 4, 5, 1, 3, 4, 3, 1, 4, 4, 3, 4, 4, 1, 3, 4, 1, 2, 3, 4, 5, 3, 1, 2, 3, 4, 5, 2, 3, 1, 2, 4, 1, 3, 4, 2, 2, 2, 3, 4, 5, 1, 2, 3, 4, 5, 4, 2, 5, 2, 4, 5, 4, 1, 1, 2, 5, 1, 2, 1, 2, 5, 1, 2, 3, 4, 5, 2, 4, 3, 2, 2, 2, 3, 3, 1, 2, 4, 5, 1, 1, 1, 2, 3, 4, 5, 5, 5, 5, 2, 3, 1, 2, 4, 1, 2, 1, 4, 5, 3, 1, 2, 3, 4, 5, 2, 3, 4, 5, 2, 1, 2, 3, 4, 5, 2, 3, 1, 2, 3, 4, 5, 1, 2, 5], \"Freq\": [0.18723799600873722, 0.8093513375861544, 0.9759230910177763, 0.9759585146150022, 0.9925017790075912, 0.9790504835426876, 0.9925017790075912, 0.010896697827466495, 0.17434716523946392, 0.8063556392325206, 0.9875618462945144, 0.6652679022130394, 0.2871660009552688, 0.04307490014329032, 0.16916047881082305, 0.37838528155052525, 0.12909615488194393, 0.18251525345378278, 0.1379993379772504, 0.10217831492432053, 0.2846395915748929, 0.01459690213204579, 0.08028296172625184, 0.5181900256876255, 0.3373466126452143, 0.20653874243584552, 0.12736555783543807, 0.25473111567087614, 0.07573087222647669, 0.21795437716619182, 0.08718175086647673, 0.0017436350173295344, 0.0610272256065337, 0.6311958762732914, 0.2504062983619703, 0.026358557722312666, 0.711681058502442, 0.9912960286168286, 0.9917269365050739, 0.9937788754963185, 0.9937949162435763, 0.9886141428773066, 0.9804985341869423, 0.9931760783285876, 0.991872298550171, 0.8724130770755258, 0.11414750541175105, 0.008153393243696502, 0.9891288149048061, 0.9692005171943655, 0.020404221414618222, 0.9858064821294906, 0.9729100183052355, 0.9919013902975498, 0.9774186893620253, 0.02221406112186421, 0.012102740891801375, 0.96821927134411, 0.012102740891801375, 0.9786470593230812, 0.986314676775939, 0.9891288149048058, 0.9844064431502916, 0.09450450209600944, 0.902088429098272, 0.8832169567302185, 0.11368139047022614, 0.9967434529067223, 0.9843287106489078, 0.9636432763435183, 0.030113852385734947, 0.17275002042552068, 0.36853337690777743, 0.04606667211347218, 0.09789167824112838, 0.3167083707801212, 0.9813399825655402, 0.9790496013098647, 0.9811535027117689, 0.9804985341869423, 0.985548918605306, 0.982863848342711, 0.9872956538824305, 0.1022642639888218, 0.5478442713686882, 0.11687344455865348, 0.12417803484356933, 0.10956885427373764, 0.0233748264154886, 0.0350622396232329, 0.9233056434117997, 0.9721033292597698, 0.9671882337996637, 0.9823181143586506, 0.8774382445435219, 0.12019701980048245, 0.9872956538824306, 0.32912223150841324, 0.30946038391180675, 0.13677807023726266, 0.09318006034913517, 0.1316488926033653, 0.3076878460170353, 0.3250223725532063, 0.2296824766042658, 0.056337211242555765, 0.08233900104681227, 0.21323113999681098, 0.3299319666166873, 0.16136410594353265, 0.16856786067315463, 0.12678608324134708, 0.295385690199277, 0.15655441580561683, 0.10633884847173973, 0.1890468417275373, 0.2540316935713783, 0.6204996972785072, 0.23345533164933932, 0.14130191126144223, 0.983850172188421, 0.9919014439150833, 0.9774488304082322, 0.9860622037965568, 0.9759585146150022, 0.9759585052447296, 0.9912960286168286, 0.9695237912987015, 0.3230992790425581, 0.17256438767045715, 0.19092230125242068, 0.23498129384913313, 0.07710323704424682, 0.9937788750792603, 0.9917269365008555, 0.9844208307900992, 0.9510088904441779, 0.0538306919119346, 0.9917779786064591, 0.9886261624750788, 0.8294116509617508, 0.05394547323328461, 0.06068865738744518, 0.06068865738744518, 0.984110058642821, 0.9872956538824306, 0.9917776015855091, 0.9804985341869423, 0.990411208489029, 0.9844203400657313, 0.9872956538824306, 0.9766602341418702, 0.021703560758708225, 0.9811532837534238, 0.85575787451035, 0.13734385640289568, 0.02556784776582074, 0.5369248030822356, 0.4346534120189526, 0.5748194358376885, 0.01512682725888654, 0.40842433598993655, 0.8903107716933083, 0.1084642564499462, 0.9598100290065581, 0.03367754487742309, 0.9065421818309666, 0.04900228009897117, 0.03675171007422837, 0.970547158744531, 0.014065900851370014, 0.9860804358514023, 0.04035041424600421, 0.9568812521195285, 0.9202654374942667, 0.07461611655358918, 0.9948410902960385, 0.9940302451654737, 0.0493201479571975, 0.9535228605058182, 0.990410686982944, 0.9891288149048054, 0.990411208489029, 0.9843287106489078, 0.978849403188826, 0.9872956538824305, 0.17897326491311719, 0.4447214461477457, 0.048810890430850136, 0.059657754971039055, 0.271171613504723, 0.257174775637243, 0.298559222291512, 0.15666969090544688, 0.08572492521241433, 0.19805413755971588, 0.6808873856813988, 0.021964109215528996, 0.07321369738509666, 0.21964109215528996, 0.9872956538824305, 0.9909887904089546, 0.01792983715173657, 0.9682112061937748, 0.9927196052307133, 0.991197594585879, 0.9925017790075912, 0.9785547344399128, 0.9790504835426944, 0.07360084876885263, 0.24380281154682434, 0.5290061005261283, 0.15180175058575854, 0.004600053048053289, 0.09590080966744179, 0.374247062116846, 0.4514355186784455, 0.05847610345575719, 0.0187123531058423, 0.935439393975678, 0.02900587268141637, 0.03263160676659342, 0.9677063365056217, 0.39142824829270123, 0.13047608276423375, 0.053156922607650786, 0.15947076782295236, 0.26578461303825396, 0.16716392304154168, 0.19701462358467411, 0.1074625219552768, 0.0059701401086264885, 0.5253723295591309, 0.037777971126111996, 0.9444492781527998, 0.16282740714371244, 0.6040371555331269, 0.19959488617616364, 0.03151498202781531, 0.8138478806586251, 0.16276957613172502, 0.019149361897850003, 0.9963924210699213, 0.1960128051737763, 0.2258408407436988, 0.15766247372673312, 0.15553189975745296, 0.26845232012930237, 0.9774493579134461, 0.2715577685285255, 0.60881499718492, 0.05255956810229526, 0.07007942413639368, 0.5069455650854214, 0.22178868472487187, 0.047526146726758256, 0.1504994646347345, 0.0792102445445971, 0.9729100244308959, 0.3799536768142668, 0.2849652576107001, 0.12089435171363035, 0.19861214924382128, 0.017270621673375765, 0.9998396125517859, 0.9893453047760898, 0.9862570097257003, 0.9967434063709039, 0.9948374660433151, 0.9963923898724228, 0.9813400436677168, 0.03628811105410987, 0.23109797039722602, 0.7276721216639926, 0.0038198011635905125, 0.989128814904806, 0.9255060952013697, 0.01928137698336187, 0.05784413095008561, 0.047347425110929486, 0.8996010771076602, 0.047347425110929486, 0.9941698742750188, 0.9929253699242162, 0.983559580608606, 0.02443766685867986, 0.05498475043202969, 0.2321578351574587, 0.45209683688557745, 0.2321578351574587, 0.027831651609470258, 0.9601919805267239, 0.9949496164697658, 0.9963923898724228, 0.01923345185303192, 0.9616725926515961, 0.9802101027137591, 0.9804985341869423, 0.9915066601798208, 0.6097262695722865, 0.050114487910050944, 0.06681931721340126, 0.2714534761794426, 0.25352439477306765, 0.16404519661786732, 0.05219619892386687, 0.5294185890849354, 0.007501752028222366, 0.037508760141111826, 0.945220755556018, 0.9043040778793013, 0.08671408965965904, 0.5814564510095899, 0.36483542024131127, 0.0513049809714344, 0.9913128249353432, 0.9948009861025285, 0.9925017790075913, 0.9925017790075913, 0.9663792986817181, 0.9963923898724228, 0.984110058642821, 0.990565295344442, 0.9861106785758742, 0.9794170807629698, 0.015303391886921404, 0.1407637977231124, 0.5630551908924496, 0.23821565768526712, 0.05955391442131678, 0.990411208489029, 0.9891583552202685, 0.9813271589477844, 0.9823227833916627, 0.022032275500087642, 0.9473878465037686, 0.9707031949019214, 0.023390438431371598, 0.996036002070916, 0.9861116826696616, 0.9937788754961002, 0.0643752773646565, 0.0643752773646565, 0.758197711183732, 0.1144449375371671, 0.06324187232664613, 0.21502236591059684, 0.7146331572911012, 0.9804985341869423, 0.991857901509687, 0.9891278279918487, 0.9814430027983747, 0.9607697512641297, 0.008896016215408607, 0.026688048646225825, 0.9917779549627388, 0.15015741895792695, 0.16170798964699826, 0.2618129356189495, 0.3657680718205913, 0.057752853445356515, 0.8687616510077741, 0.10509213520255332, 0.021018427040510664, 0.9956741732846783, 0.9379930494357928, 0.056848063602169256, 0.007106007950271157, 0.9767939015395473, 0.011227516109649968, 0.011227516109649968, 0.9963923898724228, 0.9399892133134109, 0.044761391110162425, 0.9875618462945144, 0.9937788757235401, 0.9891288149048055, 0.9875618462945144, 0.06573335701289294, 0.026293342805157174, 0.893973655375344, 0.21127529461678105, 0.2843087297929523, 0.24779201220486666, 0.09911680488194667, 0.15650021823465263, 0.9912960286168286, 0.2637493170492725, 0.2289691873284893, 0.2173758107548949, 0.16230727203032153, 0.12752714230953835, 0.9872956538824306, 0.993778875496846, 0.0710724484105503, 0.01421448968211006, 0.9097273396550438, 0.09945534043983244, 0.02841581155423784, 0.8524743466271352, 0.984328710648908, 0.9843287106489078, 0.03583817301405809, 0.11946057671352697, 0.8123319216519834, 0.03583817301405809, 0.2221529562799323, 0.022981340304820585, 0.1072462547558294, 0.6434775285349764, 0.007660446768273529, 0.9940302550759295, 0.9727679641017474, 0.9671882337996637, 0.9844208082916903, 0.9875618462945144, 0.9671882337996637, 0.9773267357348748, 0.9860548661754692, 0.00899710593104772, 0.8097395337942948, 0.17994211862095438, 0.06372151446103379, 0.92396195968499, 0.2876482693329632, 0.016595092461517108, 0.6942280346401324, 0.12743907454420564, 0.5298782573153813, 0.0067073197128529275, 0.09390247597994099, 0.2414635096627054, 0.9858962959658534, 0.9929253271823788, 0.9937788857728331, 0.9843287106489078, 0.9843287106489078, 0.9872956538824305, 0.9912960286168286, 0.9912960286168286, 0.026390784978444656, 0.8313097268210067, 0.10556313991377862, 0.03958617746766698, 0.9891585893120921, 0.9788357496273197, 0.020931762170833177, 0.7797081408635359, 0.1831529189947903, 0.005232940542708294, 0.010465881085416589, 0.9810285108129372, 0.9918224302175919, 0.9855489188725978, 0.9949041647018135, 0.9974301562422685, 0.9013727148993613, 0.06009151432662409, 0.030045757163312044, 0.07959020923856937, 0.9183485681373389, 0.10223706725030357, 0.01135967413892262, 0.8746949086970417, 0.9917269365008555, 0.562556565739694, 0.3029150738598353, 0.006181940282853781, 0.012363880565707561, 0.12363880565707562, 0.13045471081384008, 0.8262131684876538, 0.026090942162768013, 0.026090942162768013, 0.9850775390221417, 0.09312886530919684, 0.2734422002695567, 0.21003531325052904, 0.1307767044767445, 0.2932568524630028, 0.984328710648908, 0.9802561144478137, 0.2945752893355899, 0.14621255237094974, 0.19136642883844893, 0.2580221512428525, 0.10750922968452187, 0.03252099729617101, 0.9593694202370449, 0.9671882337996632], \"Term\": [\"___ ___\", \"___ ___\", \"____ ____\", \"accuraci ofn\", \"activ netn\", \"adam laskaedu\", \"alink ksand\", \"amateur radio\", \"amateur radio\", \"amateur radio\", \"andn slpittedu\", \"anonym ftp\", \"anonym ftp\", \"anonym ftp\", \"answer question\", \"answer question\", \"answer question\", \"answer question\", \"answer question\", \"anybodi know\", \"anybodi know\", \"anybodi know\", \"anybodi know\", \"anybodi know\", \"anyon els\", \"anyon els\", \"anyon els\", \"anyon els\", \"anyon els\", \"anyon know\", \"anyon know\", \"anyon know\", \"anyon know\", \"anyon know\", \"anyon tell\", \"anyon tell\", \"anyon tell\", \"appressian soviet\", \"argicn close\", \"armenia today\", \"armenian govern\", \"artifici intellig\", \"associ research\", \"athen georgia\", \"att bell\", \"attorney gener\", \"attorney gener\", \"attorney gener\", \"bank njxp\", \"bear arm\", \"bear arm\", \"believ speak\", \"bell lab\", \"bit block\", \"bit key\", \"bit key\", \"branch davidian\", \"branch davidian\", \"branch davidian\", \"care taken\", \"center polici\", \"chastiti intellect\", \"cheersn kentn\", \"clayton cramer\", \"clayton cramer\", \"clipper chip\", \"clipper chip\", \"close road\", \"companyn tratuscom\", \"comput graphic\", \"comput graphic\", \"comput scienc\", \"comput scienc\", \"comput scienc\", \"comput scienc\", \"comput scienc\", \"consent alln\", \"convert gif\", \"copi protect\", \"covington associ\", \"cramer uunetpyramidoptilinkcram\", \"cult member\", \"daren tttgo\", \"david koresh\", \"david koresh\", \"david koresh\", \"david koresh\", \"david koresh\", \"david sternlight\", \"david sternlight\", \"david sternlight\", \"day havent\", \"dick dunn\", \"disclaim applyn\", \"do window\", \"do window\", \"domi stanleyn\", \"dont know\", \"dont know\", \"dont know\", \"dont know\", \"dont know\", \"dont see\", \"dont see\", \"dont see\", \"dont see\", \"dont see\", \"dont think\", \"dont think\", \"dont think\", \"dont think\", \"dont think\", \"dont want\", \"dont want\", \"dont want\", \"dont want\", \"dont want\", \"email address\", \"email address\", \"email address\", \"email omn\", \"encrypt devic\", \"encrypt technolog\", \"enforc agenc\", \"ensur accuraci\", \"error omiss\", \"escap turk\", \"escrow agent\", \"even though\", \"even though\", \"even though\", \"even though\", \"even though\", \"exist singl\", \"exterminationn ohanu\", \"fail tri\", \"fax email\", \"fax email\", \"first periodn\", \"free state\", \"ftp site\", \"ftp site\", \"ftp site\", \"ftp site\", \"gaedu univers\", \"gari daren\", \"georgia institut\", \"georgia phone\", \"georgia usa\", \"gldn souvien\", \"gon itnettttselann\", \"gordon bank\", \"gordon bank\", \"great care\", \"greatli appreciatedn\", \"greatli appreciatedn\", \"gun control\", \"gun control\", \"gun control\", \"hard disk\", \"hard disk\", \"hard disk\", \"hard drive\", \"hard drive\", \"hard driven\", \"hard driven\", \"health care\", \"health care\", \"health care\", \"health insur\", \"health insur\", \"help greatli\", \"human right\", \"human right\", \"ide drive\", \"ide drive\", \"imag process\", \"inform error\", \"institut technolog\", \"institut technolog\", \"instruct set\", \"intellect andn\", \"intellig program\", \"investor packetn\", \"isa bu\", \"itnettttselann domi\", \"ive heard\", \"ive heard\", \"ive heard\", \"ive heard\", \"ive heard\", \"ive seen\", \"ive seen\", \"ive seen\", \"ive seen\", \"ive seen\", \"jesu christ\", \"jesu christ\", \"jesu christ\", \"jesu christ\", \"jet gon\", \"jet propuls\", \"jon livesey\", \"jon livesey\", \"keep bear\", \"kentn pplecom\", \"ksand privat\", \"laser printer\", \"laskaedu high\", \"last night\", \"last night\", \"last night\", \"last night\", \"last night\", \"last year\", \"last year\", \"last year\", \"last year\", \"last year\", \"law enforc\", \"law enforc\", \"law enforc\", \"law enforcementn\", \"let know\", \"let know\", \"let know\", \"let know\", \"let know\", \"like know\", \"like know\", \"like know\", \"like know\", \"like know\", \"livesey writesn\", \"livesey writesn\", \"lo angel\", \"lo angel\", \"lo angel\", \"lo angel\", \"local bu\", \"local bu\", \"local bu\", \"longer exist\", \"look like\", \"look like\", \"look like\", \"look like\", \"look like\", \"lord jesu\", \"mail list\", \"mail list\", \"mail list\", \"mail list\", \"make sure\", \"make sure\", \"make sure\", \"make sure\", \"make sure\", \"malcolm lee\", \"mani peopl\", \"mani peopl\", \"mani peopl\", \"mani peopl\", \"mani peopl\", \"maxaxaxaxaxaxaxaxaxaxaxaxaxaxaxn maxaxaxaxaxaxaxaxaxaxaxaxaxaxaxn\", \"michael adam\", \"michael covington\", \"might serv\", \"minen relat\", \"mountain pass\", \"mutual consent\", \"new york\", \"new york\", \"new york\", \"new york\", \"njxp skeptic\", \"nuclear weapon\", \"nuclear weapon\", \"nuclear weapon\", \"object moral\", \"object moral\", \"object moral\", \"ohanu appressian\", \"omiss except\", \"open look\", \"opinion express\", \"opinion express\", \"opinion express\", \"opinion express\", \"opinion express\", \"opinion minen\", \"opinion minen\", \"ottoman empir\", \"pass might\", \"pdsgicom jon\", \"pdsgicom jon\", \"peopl mutual\", \"phone athen\", \"play scorer\", \"pleas email\", \"pleas email\", \"pleas email\", \"pleas email\", \"pleas let\", \"pleas let\", \"pleas let\", \"pleas let\", \"pleas repli\", \"pleas repli\", \"pleas repli\", \"pleas respond\", \"pleas respond\", \"pleas send\", \"pleas send\", \"pleas send\", \"polici research\", \"power play\", \"pplecom alink\", \"privat activ\", \"privat insur\", \"proceed work\", \"program gaedu\", \"propuls lab\", \"protect privaci\", \"public health\", \"public health\", \"public key\", \"public key\", \"public key\", \"public key\", \"radio ntmi\", \"reform church\", \"relat peopl\", \"repli via\", \"research scientist\", \"research scientist\", \"right peopl\", \"right peopl\", \"road mountain\", \"run mhz\", \"sahak melkonian\", \"san francisco\", \"san francisco\", \"san francisco\", \"san francisco\", \"san jose\", \"san jose\", \"san jose\", \"scientist artifici\", \"scsi control\", \"scsi drive\", \"scsi scsi\", \"second amend\", \"second amend\", \"second amend\", \"second periodn\", \"seem like\", \"seem like\", \"seem like\", \"seem like\", \"seem like\", \"send email\", \"send email\", \"send email\", \"serdar argicn\", \"serial number\", \"serial number\", \"serial number\", \"serial port\", \"serial port\", \"serial port\", \"serv way\", \"session key\", \"session key\", \"shame surrend\", \"singl turkish\", \"skeptic chastiti\", \"slpittedu shame\", \"solar system\", \"solar system\", \"solar system\", \"someth like\", \"someth like\", \"someth like\", \"someth like\", \"someth like\", \"soul sahak\", \"sound like\", \"sound like\", \"sound like\", \"sound like\", \"sound like\", \"souvien gari\", \"soviet armenia\", \"space shuttl\", \"space shuttl\", \"space shuttl\", \"space station\", \"space station\", \"space station\", \"speak companyn\", \"special investor\", \"standard disclaim\", \"standard disclaim\", \"standard disclaim\", \"standard disclaim\", \"state univers\", \"state univers\", \"state univers\", \"state univers\", \"state univers\", \"sternlight great\", \"steve hendrick\", \"suno dick\", \"sure former\", \"surrend soon\", \"svr resembl\", \"taken ensur\", \"tape drive\", \"tear ga\", \"tear ga\", \"tear ga\", \"tel fax\", \"tel fax\", \"thank advancen\", \"thank advancen\", \"thank advancen\", \"thank youn\", \"thank youn\", \"thank youn\", \"thank youn\", \"thank youn\", \"thing infinit\", \"third periodn\", \"today longer\", \"today special\", \"tratuscom write\", \"tttgo winnipeg\", \"turk proceed\", \"turkish soul\", \"two thing\", \"two thing\", \"two thing\", \"two thing\", \"ultra pro\", \"unit key\", \"unit state\", \"unit state\", \"unit state\", \"unit state\", \"unit state\", \"univers georgia\", \"usa amateur\", \"uunetpyramidoptilinkcram opinion\", \"volum number\", \"way escap\", \"white hous\", \"white hous\", \"white hous\", \"window manag\", \"window manag\", \"wonder anyon\", \"wonder anyon\", \"wonder anyon\", \"work exterminationn\", \"work fine\", \"work fine\", \"work fine\", \"work fine\", \"work fine\", \"world war\", \"world war\", \"world war\", \"world war\", \"write today\", \"writesn articl\", \"writesn articl\", \"writesn articl\", \"writesn articl\", \"writesn articl\", \"wstratuscom believ\", \"xsoviet armenian\", \"year ago\", \"year ago\", \"year ago\", \"year ago\", \"year ago\", \"young peopl\", \"young peopl\", \"zoologyn svr\"]}, \"R\": 30, \"lambda.step\": 0.01, \"plot.opts\": {\"xlab\": \"PC1\", \"ylab\": \"PC2\"}, \"topic.order\": [2, 3, 5, 4, 1]};\n",
              "\n",
              "function LDAvis_load_lib(url, callback){\n",
              "  var s = document.createElement('script');\n",
              "  s.src = url;\n",
              "  s.async = true;\n",
              "  s.onreadystatechange = s.onload = callback;\n",
              "  s.onerror = function(){console.warn(\"failed to load library \" + url);};\n",
              "  document.getElementsByTagName(\"head\")[0].appendChild(s);\n",
              "}\n",
              "\n",
              "if(typeof(LDAvis) !== \"undefined\"){\n",
              "   // already loaded: just create the visualization\n",
              "   !function(LDAvis){\n",
              "       new LDAvis(\"#\" + \"ldavis_el1391401613088310805786551623\", ldavis_el1391401613088310805786551623_data);\n",
              "   }(LDAvis);\n",
              "}else if(typeof define === \"function\" && define.amd){\n",
              "   // require.js is available: use it to load d3/LDAvis\n",
              "   require.config({paths: {d3: \"https://cdnjs.cloudflare.com/ajax/libs/d3/3.5.5/d3.min\"}});\n",
              "   require([\"d3\"], function(d3){\n",
              "      window.d3 = d3;\n",
              "      LDAvis_load_lib(\"https://cdn.rawgit.com/bmabey/pyLDAvis/files/ldavis.v1.0.0.js\", function(){\n",
              "        new LDAvis(\"#\" + \"ldavis_el1391401613088310805786551623\", ldavis_el1391401613088310805786551623_data);\n",
              "      });\n",
              "    });\n",
              "}else{\n",
              "    // require.js not available: dynamically load d3 & LDAvis\n",
              "    LDAvis_load_lib(\"https://cdnjs.cloudflare.com/ajax/libs/d3/3.5.5/d3.min.js\", function(){\n",
              "         LDAvis_load_lib(\"https://cdn.rawgit.com/bmabey/pyLDAvis/files/ldavis.v1.0.0.js\", function(){\n",
              "                 new LDAvis(\"#\" + \"ldavis_el1391401613088310805786551623\", ldavis_el1391401613088310805786551623_data);\n",
              "            })\n",
              "         });\n",
              "}\n",
              "</script>"
            ],
            "text/plain": [
              "PreparedData(topic_coordinates=                x           y  topics  cluster       Freq\n",
              "topic                                                    \n",
              "1      150.222153  -72.269554       1        1  24.883278\n",
              "2       51.163364 -159.968018       2        1  24.429415\n",
              "4      -73.144554   21.523815       3        1  18.709001\n",
              "3      -66.410133 -110.606438       4        1  17.444705\n",
              "0       54.417324   12.443444       5        1  14.533600, topic_info=                                                    Term  ...  loglift\n",
              "6813   maxaxaxaxaxaxaxaxaxaxaxaxaxaxaxn maxaxaxaxaxax...  ...  30.0000\n",
              "567                                           anyon know  ...  29.0000\n",
              "7586                                            new york  ...  28.0000\n",
              "11197                                     thank advancen  ...  27.0000\n",
              "6022                                          law enforc  ...  26.0000\n",
              "...                                                  ...  ...      ...\n",
              "8436                                         pleas email  ...   0.6204\n",
              "5509                                            ive seen  ...   0.3163\n",
              "10441                                        someth like  ...   0.0781\n",
              "2065                                       comput scienc  ...   0.7781\n",
              "6131                                            let know  ...   0.6034\n",
              "\n",
              "[307 rows x 6 columns], token_table=       Topic      Freq          Term\n",
              "term                                \n",
              "0          1  0.187238       ___ ___\n",
              "0          4  0.809351       ___ ___\n",
              "12         4  0.975923     ____ ____\n",
              "93         4  0.975959  accuraci ofn\n",
              "107        1  0.992502    activ netn\n",
              "...      ...       ...           ...\n",
              "13199      4  0.258022      year ago\n",
              "13199      5  0.107509      year ago\n",
              "13309      1  0.032521   young peopl\n",
              "13309      2  0.959369   young peopl\n",
              "13341      5  0.967188  zoologyn svr\n",
              "\n",
              "[490 rows x 3 columns], R=30, lambda_step=0.01, plot_opts={'xlab': 'PC1', 'ylab': 'PC2'}, topic_order=[2, 3, 5, 4, 1])"
            ]
          },
          "metadata": {
            "tags": []
          },
          "execution_count": 40
        }
      ]
    },
    {
      "cell_type": "markdown",
      "metadata": {
        "id": "sNjHtZ5bCnFa",
        "colab_type": "text"
      },
      "source": [
        "# LDA Unigram - binary - lem"
      ]
    },
    {
      "cell_type": "code",
      "metadata": {
        "id": "p0AS982-Cq5I",
        "colab_type": "code",
        "colab": {}
      },
      "source": [
        "data_token_lem_binary = binary.fit_transform(df.token_lem)"
      ],
      "execution_count": 18,
      "outputs": []
    },
    {
      "cell_type": "code",
      "metadata": {
        "id": "JjlQLojSCrCc",
        "colab_type": "code",
        "colab": {
          "base_uri": "https://localhost:8080/",
          "height": 374
        },
        "outputId": "d21a0e3f-87f5-4cd2-da4b-3db1070cc889"
      },
      "source": [
        "# Parametri di ricerca\n",
        "search_params = {'n_components': [5,10, 15, 20, 25, 30], 'learning_decay': [.5, .7, .9]}\n",
        "\n",
        "# Inizializzazione Modello\n",
        "lda = LatentDirichletAllocation()\n",
        "\n",
        "# Inizializzazione GridSearchCV\n",
        "model = GridSearchCV(lda, param_grid=search_params)\n",
        "\n",
        "# Grid Search\n",
        "model.fit(data_token_lem_binary)"
      ],
      "execution_count": 19,
      "outputs": [
        {
          "output_type": "execute_result",
          "data": {
            "text/plain": [
              "GridSearchCV(cv=None, error_score=nan,\n",
              "             estimator=LatentDirichletAllocation(batch_size=128,\n",
              "                                                 doc_topic_prior=None,\n",
              "                                                 evaluate_every=-1,\n",
              "                                                 learning_decay=0.7,\n",
              "                                                 learning_method='batch',\n",
              "                                                 learning_offset=10.0,\n",
              "                                                 max_doc_update_iter=100,\n",
              "                                                 max_iter=10,\n",
              "                                                 mean_change_tol=0.001,\n",
              "                                                 n_components=10, n_jobs=None,\n",
              "                                                 perp_tol=0.1,\n",
              "                                                 random_state=None,\n",
              "                                                 topic_word_prior=None,\n",
              "                                                 total_samples=1000000.0,\n",
              "                                                 verbose=0),\n",
              "             iid='deprecated', n_jobs=None,\n",
              "             param_grid={'learning_decay': [0.5, 0.7, 0.9],\n",
              "                         'n_components': [5, 10, 15, 20, 25, 30]},\n",
              "             pre_dispatch='2*n_jobs', refit=True, return_train_score=False,\n",
              "             scoring=None, verbose=0)"
            ]
          },
          "metadata": {
            "tags": []
          },
          "execution_count": 19
        }
      ]
    },
    {
      "cell_type": "code",
      "metadata": {
        "id": "5H5BYASKCrJu",
        "colab_type": "code",
        "colab": {
          "base_uri": "https://localhost:8080/",
          "height": 68
        },
        "outputId": "607cbfaa-87e1-41ac-f739-f019d6aadea3"
      },
      "source": [
        "# Stimato il Miglior modello \n",
        "best_lda_model = model.best_estimator_\n",
        "\n",
        "# Parametri del modello\n",
        "print(\"Best Model Params: \", model.best_params_)\n",
        "\n",
        "# Log Likelihood Score\n",
        "print(\"Best Log Likelihood Score: \", model.best_score_)\n",
        "\n",
        "# Perplessità\n",
        "print(\"Model Perplexity: \", best_lda_model.perplexity(data_token_lem_binary))"
      ],
      "execution_count": 20,
      "outputs": [
        {
          "output_type": "stream",
          "text": [
            "Best Model Params:  {'learning_decay': 0.5, 'n_components': 5}\n",
            "Best Log Likelihood Score:  -2617665.2839399017\n",
            "Model Perplexity:  4840.778329049644\n"
          ],
          "name": "stdout"
        }
      ]
    },
    {
      "cell_type": "code",
      "metadata": {
        "id": "M35BFZW_CrYE",
        "colab_type": "code",
        "colab": {
          "base_uri": "https://localhost:8080/",
          "height": 861
        },
        "outputId": "ca48ace4-3018-4e8e-f49d-518803778adb"
      },
      "source": [
        "pyLDAvis.enable_notebook()\n",
        "vis = pyLDAvis.sklearn.prepare(best_lda_model, data_token_lem_binary, binary, mds='tsne')\n",
        "vis"
      ],
      "execution_count": 21,
      "outputs": [
        {
          "output_type": "execute_result",
          "data": {
            "text/html": [
              "\n",
              "<link rel=\"stylesheet\" type=\"text/css\" href=\"https://cdn.rawgit.com/bmabey/pyLDAvis/files/ldavis.v1.0.0.css\">\n",
              "\n",
              "\n",
              "<div id=\"ldavis_el1371399174150537366723819438\"></div>\n",
              "<script type=\"text/javascript\">\n",
              "\n",
              "var ldavis_el1371399174150537366723819438_data = {\"mdsDat\": {\"x\": [150.22215270996094, 51.16336441040039, -73.1445541381836, -66.4101333618164, 54.41732406616211], \"y\": [-72.2695541381836, -159.968017578125, 21.523815155029297, -110.60643768310547, 12.44344425201416], \"topics\": [1, 2, 3, 4, 5], \"cluster\": [1, 1, 1, 1, 1], \"Freq\": [27.362000918944563, 25.944724745770277, 24.131062744102948, 11.546163697263017, 11.016047893919197]}, \"tinfo\": {\"Term\": [\"game\", \"car\", \"team\", \"year\", \"window\", \"dod\", \"email\", \"player\", \"god\", \"last\", \"file\", \"play\", \"software\", \"like\", \"thanksn\", \"bike\", \"win\", \"thanks\", \"fan\", \"season\", \"get\", \"computer\", \"program\", \"think\", \"writesn\", \"baseball\", \"road\", \"good\", \"space\", \"new\", \"israeli\", \"arab\", \"nsa\", \"escrow\", \"palestinian\", \"economic\", \"crypto\", \"cryptography\", \"wiretap\", \"privacy\", \"shameful\", \"skepticism\", \"israel\", \"chastity\", \"njxp\", \"slpittedu\", \"sternlight\", \"lebanon\", \"palestine\", \"bosnian\", \"democratic\", \"jake\", \"egypt\", \"bombing\", \"israeln\", \"securen\", \"omission\", \"zionist\", \"initiative\", \"intellectual\", \"serb\", \"clipper\", \"encryption\", \"islamic\", \"council\", \"intellect\", \"representative\", \"secure\", \"political\", \"presidentn\", \"congress\", \"terrorist\", \"security\", \"jewish\", \"government\", \"policy\", \"secret\", \"jew\", \"social\", \"agency\", \"nation\", \"law\", \"public\", \"population\", \"war\", \"court\", \"muslim\", \"issue\", \"country\", \"ofn\", \"state\", \"member\", \"key\", \"people\", \"interest\", \"andn\", \"example\", \"fact\", \"case\", \"inn\", \"many\", \"may\", \"ton\", \"part\", \"even\", \"right\", \"way\", \"also\", \"article\", \"thatn\", \"could\", \"say\", \"point\", \"time\", \"make\", \"think\", \"year\", \"dont\", \"like\", \"know\", \"well\", \"new\", \"see\", \"graphic\", \"mac\", \"ftp\", \"mhz\", \"scsi\", \"meg\", \"interface\", \"controller\", \"directory\", \"unix\", \"floppy\", \"printer\", \"cpu\", \"upgrade\", \"microsoft\", \"cardn\", \"ide\", \"font\", \"motherboard\", \"vga\", \"processor\", \"macintosh\", \"widget\", \"pc\", \"msdos\", \"bios\", \"byte\", \"workstation\", \"shareware\", \"adapter\", \"do\", \"advancen\", \"output\", \"server\", \"disk\", \"screen\", \"ibm\", \"modem\", \"window\", \"software\", \"ram\", \"monitor\", \"application\", \"port\", \"file\", \"thanksn\", \"format\", \"email\", \"hardware\", \"card\", \"thanks\", \"computer\", \"mode\", \"program\", \"fax\", \"user\", \"video\", \"system\", \"please\", \"internet\", \"running\", \"using\", \"version\", \"machine\", \"drive\", \"anyone\", \"phone\", \"work\", \"know\", \"need\", \"get\", \"problem\", \"like\", \"looking\", \"help\", \"also\", \"used\", \"want\", \"dont\", \"run\", \"ive\", \"new\", \"could\", \"itn\", \"ton\", \"make\", \"time\", \"good\", \"koresh\", \"davidians\", \"cult\", \"atf\", \"bd\", \"heavenn\", \"koreshs\", \"veal\", \"batf\", \"gaedu\", \"allergic\", \"elevator\", \"ntmi\", \"stove\", \"baptism\", \"righteous\", \"pistol\", \"kipling\", \"accidental\", \"bless\", \"loving\", \"jubilee\", \"englishman\", \"tratuscom\", \"rethought\", \"rethinking\", \"livesey\", \"armsnevernevernevern\", \"chatham\", \"noknock\", \"waco\", \"pdsgicom\", \"jesus\", \"jesusn\", \"tkedu\", \"christ\", \"sin\", \"godn\", \"pray\", \"verse\", \"god\", \"heaven\", \"compound\", \"bible\", \"satan\", \"christn\", \"firen\", \"grace\", \"fire\", \"gun\", \"lord\", \"believer\", \"fbi\", \"death\", \"die\", \"christian\", \"christianity\", \"food\", \"child\", \"life\", \"believe\", \"people\", \"love\", \"say\", \"dont\", \"said\", \"think\", \"thing\", \"thatn\", \"day\", \"never\", \"doesnt\", \"see\", \"even\", \"like\", \"way\", \"know\", \"make\", \"itn\", \"time\", \"ton\", \"get\", \"really\", \"writesn\", \"something\", \"good\", \"come\", \"article\", \"take\", \"want\", \"well\", \"could\", \"also\", \"ofn\", \"andn\", \"much\", \"bike\", \"motorcycle\", \"orbit\", \"serdar\", \"argicn\", \"honda\", \"exterminationn\", \"appressian\", \"sahak\", \"melkonian\", \"ohanus\", \"brake\", \"rider\", \"bmw\", \"rear\", \"passenger\", \"riding\", \"dod\", \"milesn\", \"lunar\", \"yamaha\", \"valve\", \"enginen\", \"mustang\", \"biken\", \"laskaedu\", \"orbitn\", \"saturn\", \"torque\", \"exhaust\", \"armenia\", \"wheel\", \"ride\", \"tire\", \"toyota\", \"car\", \"solar\", \"engine\", \"armenian\", \"mile\", \"carsn\", \"carn\", \"ford\", \"mph\", \"road\", \"turkish\", \"turk\", \"mountain\", \"vehicle\", \"space\", \"front\", \"like\", \"light\", \"new\", \"year\", \"get\", \"article\", \"back\", \"work\", \"writesn\", \"around\", \"think\", \"dont\", \"also\", \"well\", \"good\", \"much\", \"thing\", \"could\", \"know\", \"look\", \"make\", \"time\", \"first\", \"way\", \"ofn\", \"last\", \"hockey\", \"playoff\", \"baseball\", \"nhl\", \"pitcher\", \"scored\", \"coach\", \"pitching\", \"espn\", \"hitter\", \"bruin\", \"inning\", \"teamn\", \"scoring\", \"goalie\", \"sox\", \"batting\", \"seasonn\", \"quebec\", \"buffalo\", \"baseballn\", \"batter\", \"hockeyn\", \"yankee\", \"islander\", \"playersn\", \"puck\", \"sabre\", \"leaguen\", \"geraldn\", \"season\", \"detroit\", \"player\", \"team\", \"league\", \"pittsburgh\", \"penguin\", \"game\", \"gamen\", \"fan\", \"gamesn\", \"roger\", \"score\", \"cup\", \"play\", \"win\", \"boston\", \"played\", \"winning\", \"he\", \"playing\", \"last\", \"toronto\", \"year\", \"hit\", \"mike\", \"guy\", \"think\", \"good\", \"first\", \"time\", \"writesn\", \"article\", \"like\", \"get\", \"dont\", \"well\", \"see\", \"know\", \"got\", \"even\", \"two\", \"didnt\", \"really\", \"say\", \"better\", \"much\", \"make\", \"going\"], \"Freq\": [1042.0, 908.0, 730.0, 2572.0, 1217.0, 552.0, 1907.0, 537.0, 1211.0, 1872.0, 1021.0, 709.0, 858.0, 5153.0, 1024.0, 399.0, 573.0, 1311.0, 451.0, 357.0, 4694.0, 1212.0, 1209.0, 4046.0, 2820.0, 317.0, 517.0, 3048.0, 732.0, 2750.0, 258.2325722634565, 253.3452099219342, 193.72136434903106, 149.73851632809289, 135.07745214996237, 165.00400639420843, 124.20501602023863, 97.89697588405286, 92.07110864376348, 130.83124144574393, 87.18079516322045, 87.17929424577629, 321.56428957774983, 81.3186116060986, 80.34130354224362, 78.38671600137002, 76.4326373980963, 71.53909975890893, 70.56820071731093, 72.44386692810387, 64.70072423892849, 63.72458669723007, 63.723188972157075, 63.70459981644735, 117.7186551841068, 60.789426939295225, 59.8171672229539, 59.81638044226106, 57.858260310333456, 83.89108524944483, 80.9103930159261, 283.3197533060847, 293.85756993124437, 125.69001031516781, 105.87969286614768, 90.9803227780145, 116.89714320376669, 200.3588164255992, 312.6096873009388, 111.99384902264833, 190.26349039817032, 140.46312303554367, 305.88005487995235, 293.0367792769509, 848.2132030390725, 313.574639823061, 231.75157909774595, 342.24664747231515, 186.7415099852261, 217.91585012405773, 218.68626788433758, 643.0537364876801, 531.030737585762, 250.427059726263, 366.28185838201665, 245.60687017402947, 226.771635246251, 512.8213725725606, 428.14384025272466, 1269.375700491515, 686.9386883374017, 375.5128412208689, 438.8713575556507, 1233.207628801913, 318.5401564036803, 1063.035539979155, 514.369153852248, 667.2815524698514, 648.6345707975078, 779.5099989796598, 849.6640538589088, 837.5405959874923, 1019.9072111545765, 628.3010533464748, 857.2125937140879, 724.9989319529227, 781.5928748547909, 837.2708706563201, 767.3847010692888, 702.0299059769711, 775.1800370630228, 740.8119624349113, 618.9008470922176, 778.902602729749, 763.1763775092655, 781.8064534217061, 659.7583273824844, 798.5630901223083, 766.7506997667381, 744.7276829886712, 669.8040446571152, 651.4020902478121, 654.3407318868846, 465.0186221953991, 448.3752829293853, 342.4646009298733, 267.9315860884193, 229.68411880563917, 216.93469694122274, 215.9496255939808, 213.9863480146756, 218.87028629241445, 280.4268695225201, 208.10654099234756, 195.3583222831382, 183.58824550803823, 183.58650271702925, 168.87669135815253, 155.14355624190642, 145.34238386027195, 145.33982156380898, 144.3613591632659, 141.41930202963135, 135.4987372730251, 126.70633372362586, 117.88124963661562, 115.91964111878828, 114.93346707982458, 112.97837749453741, 152.8952328486005, 105.12911335544374, 102.18966076520482, 102.1895310703121, 443.7358770521466, 478.58969309140014, 264.2164691235889, 287.787861914001, 527.69111780549, 351.469098343083, 297.66659866864865, 214.43127928072514, 1128.5740045277114, 801.118984417303, 271.77025135285015, 352.0761244769376, 528.6849965776177, 266.6345218402884, 922.9924496273519, 919.0488837154243, 290.8592023854661, 1573.9818296530411, 387.5877394258343, 675.9914340323617, 1067.6156163706353, 992.6803629644323, 347.94299836481775, 946.4848255900614, 651.4880470382601, 462.4242705714128, 409.64823137531744, 1355.612503227832, 1382.7163336548024, 711.121350504657, 601.7450988013366, 1106.4107379346283, 582.5376796326772, 598.4171407340979, 705.1246545059074, 1576.9939537262942, 647.5151222694162, 1255.959693283804, 1925.1355342795828, 1249.5537544443662, 1754.965328486056, 1155.4656299148119, 1638.484023537199, 735.6465204078472, 847.8443693111775, 1267.0301238804184, 968.4631209606852, 1051.675635449462, 1333.9906954764251, 755.1878021340044, 919.5393937354821, 985.1790303185916, 1050.2715910426991, 945.6404007630558, 989.1749244920743, 953.9017884689076, 886.4826604488477, 838.2607731490114, 274.66632188968737, 117.25149612709157, 156.1511566303745, 96.04417794448018, 93.0333617309543, 69.82328718223447, 54.68991285878777, 51.66027542327535, 168.78068753094874, 48.6344920380439, 48.62775149197349, 47.62245199283396, 46.61636109631235, 46.61541214343953, 41.53125087011115, 41.50779974846738, 43.47652848870012, 36.50691361891902, 37.48581478731933, 35.511292829471095, 64.09449427374365, 34.499358403522734, 33.49919492859597, 102.49459258627166, 33.4929614854388, 32.48908476092231, 56.10310943567805, 31.482496777705574, 31.48249677770558, 31.481370955321843, 206.55021872122126, 52.99814297595437, 483.28436764221993, 127.96921073516624, 64.20653957284041, 366.9482132452013, 242.07799390335532, 279.0730996234412, 110.21051864526075, 128.2879807411382, 1060.4888010797738, 202.1003420628843, 208.83264211360603, 387.4567773966319, 84.24154651326802, 87.46617734304478, 107.41567983961512, 100.36824769197345, 371.3394250552106, 427.0385557322503, 211.1821628762114, 98.73591142393377, 291.05790408221463, 459.9901291910653, 277.3142781907018, 527.3865908011126, 238.17115042260014, 212.45356653153982, 474.24751292365517, 712.03611803018, 982.3707223552384, 1638.5828678428754, 404.36510440175164, 1270.494010609704, 1727.6572738616655, 797.9235740151126, 1433.4677529004127, 1136.0456765150586, 1040.294926377956, 733.3495904382181, 758.032911593297, 727.2416644335333, 958.3613472696768, 1006.0749617607048, 1337.0240266489336, 976.4716060917507, 1269.6349235840532, 1043.4520227741707, 954.6938197064248, 1061.3194450336312, 1039.4889076571687, 1155.555967834765, 821.4321713460876, 861.0560805412479, 764.1461090373081, 873.4149156875563, 739.1612287857673, 847.6996484486422, 759.2229226691426, 796.3464366108669, 812.765702356149, 834.940676073715, 852.3352393704013, 824.1393249746665, 816.4802492338426, 785.5775404097551, 398.755065336043, 170.30476708404314, 159.10776025612552, 131.04940366310723, 128.02997916906364, 126.01737373253738, 120.98433180886863, 119.97784259665671, 119.97783713551584, 119.97783626603619, 119.97783311049716, 109.91117601911793, 108.90242521549108, 184.56489613557096, 147.62953522328317, 75.68665261730337, 163.15235449214185, 545.7649772302452, 64.61652970326648, 63.608436801445094, 61.59788803535848, 61.59602079351313, 62.54299138314871, 57.57299713322987, 91.24799037070822, 52.53427759293459, 51.52840544115199, 49.51890446033779, 48.51007992215902, 49.49871349702681, 167.37915296175314, 158.56242450803958, 245.6619838917274, 115.62847470555239, 82.68424059693659, 841.8815737892187, 117.13953252397017, 286.02736877647396, 159.80808960587086, 276.48973417496023, 81.71122464734162, 166.59522385232245, 120.08209255219313, 114.62598343340476, 366.6536351918157, 177.4191154533111, 153.53501372849075, 175.48191112726042, 192.5258416583034, 329.6285729352841, 249.9109638583457, 775.6519453397366, 259.7251926299227, 524.9146475572219, 495.86832276049626, 569.4907388353652, 486.4085449054887, 388.3162432131888, 397.1719691170868, 414.85751798440873, 327.49117956434645, 446.4005222594249, 475.70710236623364, 421.2108587871134, 395.79744137866714, 393.27973715398383, 382.63805188856765, 380.801927583272, 396.05197273886273, 424.5670882690274, 329.9869976825651, 370.785802993725, 368.41736673906877, 338.66714689786454, 352.9138876473183, 350.74125082220667, 319.8518828526101, 283.1909665261928, 235.7020933369965, 316.7425160502703, 166.89084655853677, 148.47640461035883, 109.7096134971349, 105.82767259621318, 104.86391666420603, 104.86376056759333, 100.01796231170604, 95.17217158560156, 87.41817587443546, 121.01187234951699, 81.60193959454273, 77.72721558412992, 77.72631247454265, 76.7575893748381, 76.75734444958127, 76.7340784539351, 82.48417019341053, 84.39530949693118, 71.91164659318059, 70.94224558012918, 69.0038014421911, 68.03299949013005, 66.09549073420452, 61.25100516056696, 61.245507834786316, 61.24377443752955, 61.240031551434086, 353.11691163164954, 116.27297751921941, 510.6781677022008, 689.63305928401, 307.754264178022, 178.4605281872221, 99.71853469135071, 896.8697959097765, 189.05799974263653, 377.20786013136353, 131.58377870101526, 123.91815031906454, 162.31847583384038, 180.934461446383, 472.52286890306334, 381.3546161305109, 187.5405070721324, 196.78775314318386, 122.55243102375518, 303.35820586236133, 200.30945164531528, 607.959093457888, 191.07380123490904, 691.4657127773709, 261.5896513080786, 244.59762189895028, 307.9891815291645, 624.2311199058475, 534.2712882003827, 478.6541140431774, 565.4088886998197, 504.7317780851629, 528.463643113218, 635.9998207398759, 608.4057635996478, 603.8264572807234, 488.44405645304414, 464.27103223545254, 556.3624071658443, 368.0296047672018, 424.719254833023, 389.8707417460962, 337.8092599384042, 366.95177187578963, 367.44253030102396, 341.2422406979028, 356.5493796265313, 357.714376417996, 340.19859057699034], \"Total\": [1042.0, 908.0, 730.0, 2572.0, 1217.0, 552.0, 1907.0, 537.0, 1211.0, 1872.0, 1021.0, 709.0, 858.0, 5153.0, 1024.0, 399.0, 573.0, 1311.0, 451.0, 357.0, 4694.0, 1212.0, 1209.0, 4046.0, 2820.0, 317.0, 517.0, 3048.0, 732.0, 2750.0, 259.02781301916775, 254.14071538995663, 194.51801504165377, 150.5340444921024, 135.87276139411864, 166.18477866473623, 125.12150723737318, 98.73088561670616, 92.86619870329808, 131.96446293158195, 87.97914049674846, 87.97926583654973, 324.58478682306446, 82.11461262453139, 81.1371879141215, 79.1823371466435, 77.22745619810087, 72.34054928869656, 71.36294701997141, 73.3203429224463, 65.49850196429921, 64.52097678029465, 64.52107274990522, 64.52106680795754, 119.25914693562423, 61.58876206892624, 60.6112909109879, 60.61132611194896, 58.65646914835281, 85.05849976663221, 82.12782770194022, 292.2876645692191, 306.96286334938344, 129.11320025378043, 108.5591003068604, 92.86000570185222, 121.20628416021724, 214.33752848070435, 342.94114252399197, 116.33063412526067, 204.72039226514448, 148.81626694874527, 354.50450687021, 338.11609816689315, 1130.8042714552105, 372.42271292079425, 265.65251044033744, 412.712882917591, 210.83888485618508, 258.2260311686443, 267.21685871104654, 1023.6072080943087, 823.8070414418845, 319.5711798787683, 530.5891066717827, 317.76473934214357, 288.2156019782336, 885.2322979617865, 695.8799762887912, 3282.791852259397, 1453.5204075846334, 600.8207104752113, 760.3764640955704, 3727.5309725171674, 477.78202155545705, 3266.342129647448, 1041.637195384603, 1653.6094841571528, 1610.4326224083866, 2203.6833506715034, 2563.660308014871, 2590.2731287281804, 3669.3737541728174, 1667.1607298454064, 3135.826044914175, 2528.340147436247, 3098.9069159785545, 3706.6917596498415, 3229.4613212523664, 2646.4917996593645, 3395.7348992419, 3115.736571661801, 2029.6691570588944, 3660.5309636511165, 3489.030368164065, 4046.9117040896735, 2572.200327689128, 4939.744619107356, 5153.910516032483, 4920.427636287179, 3047.4892671493817, 2750.2302447690577, 2862.420607395817, 465.8510518016324, 449.1779318081053, 343.2601087858744, 268.7253441241149, 230.47722626504543, 217.72785803425427, 216.74720088376128, 214.78572473310973, 219.68923606896075, 281.4804238009847, 208.90139464567577, 196.1520110655971, 184.3833917735029, 184.3834217388257, 169.67257094174457, 155.94248156709858, 146.13524794201115, 146.13523692657864, 145.1545338013409, 142.21236707957215, 136.32803423941075, 127.50155384377844, 118.67508268122822, 116.71364181461514, 115.7330491628076, 113.77147065940734, 153.97781907621314, 105.9256616444121, 102.98354054438549, 102.98356133400885, 449.16232263605025, 485.6246002069587, 266.7469571600004, 291.2754726087425, 540.6517599481085, 358.08221288286785, 304.0126220810292, 217.71951453770112, 1217.372364060235, 858.4731042770758, 280.40174756298404, 368.762399016415, 565.7743785186511, 275.7367751268068, 1021.699022927881, 1024.9542977401527, 303.0119576888269, 1907.9826465944877, 415.88413147630513, 769.6933416481068, 1311.5277706625593, 1212.321790861817, 376.76152681932786, 1209.0660766170643, 793.1706940567175, 535.5751665488832, 462.7822208663114, 2089.1011415518356, 2200.8613379741073, 945.1781709225471, 768.7873802938777, 1714.508295050079, 738.1677754765382, 771.1185792770601, 970.9925074830312, 2969.7448198591696, 898.2908200704445, 2506.2485250553696, 4920.427636287179, 2559.9812294399276, 4694.243589508313, 2401.5574972839986, 5153.910516032483, 1148.3471554518771, 1558.599348906037, 3706.6917596498415, 2229.7571186927476, 2797.6549146017765, 4939.744619107356, 1305.5065318814827, 2115.997094952858, 2750.2302447690577, 3395.7348992419, 2998.9239985977297, 3669.3737541728174, 3489.030368164065, 3660.5309636511165, 3048.4812548402006, 275.4554655249064, 118.04060176941837, 157.3804979674146, 96.84960457112007, 93.82292855138212, 70.61429881171587, 55.47830286755589, 52.45101918612618, 171.46009987048942, 49.423861142691905, 49.423649938329014, 48.41472177123133, 47.405722279348154, 47.40573089328031, 42.359130276305955, 42.35839942971261, 44.37573111992241, 37.314933253867565, 38.322632469845324, 36.30583271279844, 65.54751469813688, 35.2968823289972, 34.28782772998623, 104.91854681253461, 34.28774877438795, 33.27873412414544, 57.472554432944236, 32.26973457411132, 32.269734574111325, 32.269698031989726, 213.69640151122354, 54.44226592087095, 507.78124762680704, 134.0155315561741, 66.5335485159741, 394.6642828185193, 259.7848509767245, 301.0066523077782, 115.83946792469574, 135.98038502487114, 1211.1732221570853, 219.64242038401215, 230.70487464440055, 446.13206196538, 88.74267266677805, 92.66984647180908, 115.81483815479159, 107.68615962531028, 452.7360546110965, 529.0218996260643, 244.21792118788923, 107.68563978804157, 363.93748748942113, 613.0990696278824, 348.51344166034124, 761.3268429972487, 301.67864104345244, 266.05905125020365, 707.5462465469052, 1168.6761878777234, 1911.3311311881075, 3727.5309725171674, 650.1860161207571, 3115.736571661801, 4939.744619107356, 1726.3582726162158, 4046.9117040896735, 2953.6578319765326, 2646.4917996593645, 1691.317147931328, 1837.0836673692238, 1789.4520755317199, 2862.420607395817, 3135.826044914175, 5153.910516032483, 3098.9069159785545, 4920.427636287179, 3489.030368164065, 2998.9239985977297, 3660.5309636511165, 3669.3737541728174, 4694.243589508313, 2331.149124680974, 2820.735224531425, 2151.764613884064, 3048.4812548402006, 2095.8697343220647, 3229.4613212523664, 2331.2965392531964, 2797.6549146017765, 3047.4892671493817, 3395.7348992419, 3706.6917596498415, 3282.791852259397, 3266.342129647448, 2805.2532247228664, 399.58031729984083, 171.09518570230082, 160.0199127687659, 131.83978347409126, 128.82013995950146, 126.80706315638474, 121.774305561057, 120.76775903970325, 120.76775888167523, 120.76775885651527, 120.76775876520404, 110.70227050417529, 109.69563722459262, 186.16227159506553, 148.93148501322545, 76.47961665220768, 165.0149508299163, 552.3567033608609, 65.40761386396726, 64.40099877344569, 62.38796053429277, 62.38795786394326, 63.39295248547127, 58.3618135674383, 92.58580443737225, 53.329013896125815, 52.322390207726826, 50.30938300255744, 49.30288800492822, 50.308854827439184, 170.9907903368461, 163.00473090636953, 254.65433945704305, 118.71054152918954, 84.53469702105232, 908.9236573687002, 120.69544322519897, 311.4654684932588, 169.81022281609083, 316.863442970514, 84.53706792613987, 187.2467465196797, 130.57131626591962, 123.76361531757085, 517.7217002725184, 215.21964424291122, 181.3652343422923, 225.10154881173568, 259.38029598441375, 732.8718592467541, 487.75351542690976, 5153.910516032483, 570.4298450659319, 2750.2302447690577, 2572.200327689128, 4694.243589508313, 3229.4613212523664, 1958.874042019648, 2506.2485250553696, 2820.735224531425, 1493.008981028011, 4046.9117040896735, 4939.744619107356, 3706.6917596498415, 3047.4892671493817, 3048.4812548402006, 2805.2532247228664, 2953.6578319765326, 3395.7348992419, 4920.427636287179, 1944.8785831074263, 3489.030368164065, 3660.5309636511165, 2421.1997457160546, 3098.9069159785545, 3282.791852259397, 1872.1019796617056, 283.9865821166436, 236.4971848250054, 317.92274223053164, 167.68603545057883, 149.27178906978168, 110.50494106466832, 106.62843475065219, 105.65908321722492, 105.65908570999864, 100.81322931309002, 95.96737463789793, 88.21402522439897, 122.1379546900097, 82.39904494155978, 78.52228900406992, 78.52230438228816, 77.55312853942101, 77.553139738058, 77.55400742292436, 83.36923909980707, 85.31123581781236, 72.70727772425711, 71.73810349893262, 69.79977032049788, 68.83065662848068, 66.89226814166744, 62.0463899630165, 62.04656285825594, 62.04653619639135, 62.0466909238643, 357.7891922820046, 118.3041980101399, 537.2444899350523, 730.6345280003973, 326.0391614207047, 187.16263235072387, 102.83771407436313, 1042.2807018841036, 207.85026055823752, 451.9022688206548, 140.64663616142352, 133.84523924738573, 183.80479894647237, 214.50127213517956, 709.5893935703467, 573.6328375819178, 234.1206303951018, 254.9058474010393, 136.83974932395162, 526.2660979362375, 291.1682780614612, 1872.1019796617056, 290.44390383203955, 2572.200327689128, 507.82268899711175, 481.5944862460068, 785.61066530822, 4046.9117040896735, 3048.4812548402006, 2421.1997457160546, 3660.5309636511165, 2820.735224531425, 3229.4613212523664, 5153.910516032483, 4694.243589508313, 4939.744619107356, 3047.4892671493817, 2862.420607395817, 4920.427636287179, 1821.062201636657, 3135.826044914175, 2482.744415951398, 1490.9932032157158, 2331.149124680974, 3115.736571661801, 1658.2059976936662, 2805.2532247228664, 3489.030368164065, 1860.8939157591522], \"Category\": [\"Default\", \"Default\", \"Default\", \"Default\", \"Default\", \"Default\", \"Default\", \"Default\", \"Default\", \"Default\", \"Default\", \"Default\", \"Default\", \"Default\", \"Default\", \"Default\", \"Default\", \"Default\", \"Default\", \"Default\", \"Default\", \"Default\", \"Default\", \"Default\", \"Default\", \"Default\", \"Default\", \"Default\", \"Default\", \"Default\", \"Topic1\", \"Topic1\", \"Topic1\", \"Topic1\", \"Topic1\", \"Topic1\", \"Topic1\", \"Topic1\", \"Topic1\", \"Topic1\", \"Topic1\", \"Topic1\", \"Topic1\", \"Topic1\", \"Topic1\", \"Topic1\", \"Topic1\", \"Topic1\", \"Topic1\", \"Topic1\", \"Topic1\", \"Topic1\", \"Topic1\", \"Topic1\", \"Topic1\", \"Topic1\", \"Topic1\", \"Topic1\", \"Topic1\", \"Topic1\", \"Topic1\", \"Topic1\", \"Topic1\", \"Topic1\", \"Topic1\", \"Topic1\", \"Topic1\", \"Topic1\", \"Topic1\", \"Topic1\", \"Topic1\", \"Topic1\", \"Topic1\", \"Topic1\", \"Topic1\", \"Topic1\", \"Topic1\", \"Topic1\", \"Topic1\", \"Topic1\", \"Topic1\", \"Topic1\", \"Topic1\", \"Topic1\", \"Topic1\", \"Topic1\", \"Topic1\", \"Topic1\", \"Topic1\", \"Topic1\", \"Topic1\", \"Topic1\", \"Topic1\", \"Topic1\", \"Topic1\", \"Topic1\", \"Topic1\", \"Topic1\", \"Topic1\", \"Topic1\", \"Topic1\", \"Topic1\", \"Topic1\", \"Topic1\", \"Topic1\", \"Topic1\", \"Topic1\", \"Topic1\", \"Topic1\", \"Topic1\", \"Topic1\", \"Topic1\", \"Topic1\", \"Topic1\", \"Topic1\", \"Topic1\", \"Topic1\", \"Topic1\", \"Topic1\", \"Topic1\", \"Topic1\", \"Topic1\", \"Topic1\", \"Topic2\", \"Topic2\", \"Topic2\", \"Topic2\", \"Topic2\", \"Topic2\", \"Topic2\", \"Topic2\", \"Topic2\", \"Topic2\", \"Topic2\", \"Topic2\", \"Topic2\", \"Topic2\", \"Topic2\", \"Topic2\", \"Topic2\", \"Topic2\", \"Topic2\", \"Topic2\", \"Topic2\", \"Topic2\", \"Topic2\", \"Topic2\", \"Topic2\", \"Topic2\", \"Topic2\", \"Topic2\", \"Topic2\", \"Topic2\", \"Topic2\", \"Topic2\", \"Topic2\", \"Topic2\", \"Topic2\", \"Topic2\", \"Topic2\", \"Topic2\", \"Topic2\", \"Topic2\", \"Topic2\", \"Topic2\", \"Topic2\", \"Topic2\", \"Topic2\", \"Topic2\", \"Topic2\", \"Topic2\", \"Topic2\", \"Topic2\", \"Topic2\", \"Topic2\", \"Topic2\", \"Topic2\", \"Topic2\", \"Topic2\", \"Topic2\", \"Topic2\", \"Topic2\", \"Topic2\", \"Topic2\", \"Topic2\", \"Topic2\", \"Topic2\", \"Topic2\", \"Topic2\", \"Topic2\", \"Topic2\", \"Topic2\", \"Topic2\", \"Topic2\", \"Topic2\", \"Topic2\", \"Topic2\", \"Topic2\", \"Topic2\", \"Topic2\", \"Topic2\", \"Topic2\", \"Topic2\", \"Topic2\", \"Topic2\", \"Topic2\", \"Topic2\", \"Topic2\", \"Topic2\", \"Topic2\", \"Topic2\", \"Topic3\", \"Topic3\", \"Topic3\", \"Topic3\", \"Topic3\", \"Topic3\", \"Topic3\", \"Topic3\", \"Topic3\", \"Topic3\", \"Topic3\", \"Topic3\", \"Topic3\", \"Topic3\", \"Topic3\", \"Topic3\", \"Topic3\", \"Topic3\", \"Topic3\", \"Topic3\", \"Topic3\", \"Topic3\", \"Topic3\", \"Topic3\", \"Topic3\", \"Topic3\", \"Topic3\", \"Topic3\", \"Topic3\", \"Topic3\", \"Topic3\", \"Topic3\", \"Topic3\", \"Topic3\", \"Topic3\", \"Topic3\", \"Topic3\", \"Topic3\", \"Topic3\", \"Topic3\", \"Topic3\", \"Topic3\", \"Topic3\", \"Topic3\", \"Topic3\", \"Topic3\", \"Topic3\", \"Topic3\", \"Topic3\", \"Topic3\", \"Topic3\", \"Topic3\", \"Topic3\", \"Topic3\", \"Topic3\", \"Topic3\", \"Topic3\", \"Topic3\", \"Topic3\", \"Topic3\", \"Topic3\", \"Topic3\", \"Topic3\", \"Topic3\", \"Topic3\", \"Topic3\", \"Topic3\", \"Topic3\", \"Topic3\", \"Topic3\", \"Topic3\", \"Topic3\", \"Topic3\", \"Topic3\", \"Topic3\", \"Topic3\", \"Topic3\", \"Topic3\", \"Topic3\", \"Topic3\", \"Topic3\", \"Topic3\", \"Topic3\", \"Topic3\", \"Topic3\", \"Topic3\", \"Topic3\", \"Topic3\", \"Topic3\", \"Topic3\", \"Topic3\", \"Topic3\", \"Topic3\", \"Topic3\", \"Topic3\", \"Topic3\", \"Topic4\", \"Topic4\", \"Topic4\", \"Topic4\", \"Topic4\", \"Topic4\", \"Topic4\", \"Topic4\", \"Topic4\", \"Topic4\", \"Topic4\", \"Topic4\", \"Topic4\", \"Topic4\", \"Topic4\", \"Topic4\", \"Topic4\", \"Topic4\", \"Topic4\", \"Topic4\", \"Topic4\", \"Topic4\", \"Topic4\", \"Topic4\", \"Topic4\", \"Topic4\", \"Topic4\", \"Topic4\", \"Topic4\", \"Topic4\", \"Topic4\", \"Topic4\", \"Topic4\", \"Topic4\", \"Topic4\", \"Topic4\", \"Topic4\", \"Topic4\", \"Topic4\", \"Topic4\", \"Topic4\", \"Topic4\", \"Topic4\", \"Topic4\", \"Topic4\", \"Topic4\", \"Topic4\", \"Topic4\", \"Topic4\", \"Topic4\", \"Topic4\", \"Topic4\", \"Topic4\", \"Topic4\", \"Topic4\", \"Topic4\", \"Topic4\", \"Topic4\", \"Topic4\", \"Topic4\", \"Topic4\", \"Topic4\", \"Topic4\", \"Topic4\", \"Topic4\", \"Topic4\", \"Topic4\", \"Topic4\", \"Topic4\", \"Topic4\", \"Topic4\", \"Topic4\", \"Topic4\", \"Topic4\", \"Topic4\", \"Topic4\", \"Topic4\", \"Topic5\", \"Topic5\", \"Topic5\", \"Topic5\", \"Topic5\", \"Topic5\", \"Topic5\", \"Topic5\", \"Topic5\", \"Topic5\", \"Topic5\", \"Topic5\", \"Topic5\", \"Topic5\", \"Topic5\", \"Topic5\", \"Topic5\", \"Topic5\", \"Topic5\", \"Topic5\", \"Topic5\", \"Topic5\", \"Topic5\", \"Topic5\", \"Topic5\", \"Topic5\", \"Topic5\", \"Topic5\", \"Topic5\", \"Topic5\", \"Topic5\", \"Topic5\", \"Topic5\", \"Topic5\", \"Topic5\", \"Topic5\", \"Topic5\", \"Topic5\", \"Topic5\", \"Topic5\", \"Topic5\", \"Topic5\", \"Topic5\", \"Topic5\", \"Topic5\", \"Topic5\", \"Topic5\", \"Topic5\", \"Topic5\", \"Topic5\", \"Topic5\", \"Topic5\", \"Topic5\", \"Topic5\", \"Topic5\", \"Topic5\", \"Topic5\", \"Topic5\", \"Topic5\", \"Topic5\", \"Topic5\", \"Topic5\", \"Topic5\", \"Topic5\", \"Topic5\", \"Topic5\", \"Topic5\", \"Topic5\", \"Topic5\", \"Topic5\", \"Topic5\", \"Topic5\", \"Topic5\", \"Topic5\", \"Topic5\", \"Topic5\", \"Topic5\", \"Topic5\", \"Topic5\"], \"logprob\": [30.0, 29.0, 28.0, 27.0, 26.0, 25.0, 24.0, 23.0, 22.0, 21.0, 20.0, 19.0, 18.0, 17.0, 16.0, 15.0, 14.0, 13.0, 12.0, 11.0, 10.0, 9.0, 8.0, 7.0, 6.0, 5.0, 4.0, 3.0, 2.0, 1.0, -7.3238, -7.3429, -7.6112, -7.8687, -7.9718, -7.7716, -8.0557, -8.2937, -8.3551, -8.0037, -8.4096, -8.4097, -7.1044, -8.4792, -8.4913, -8.516, -8.5412, -8.6074, -8.621, -8.5948, -8.7078, -8.723, -8.7231, -8.7234, -8.1093, -8.7702, -8.7863, -8.7863, -8.8196, -8.4481, -8.4843, -7.231, -7.1945, -8.0438, -8.2153, -8.367, -8.1163, -7.5775, -7.1327, -8.1592, -7.6292, -7.9327, -7.1544, -7.1973, -6.1345, -7.1296, -7.432, -7.0421, -7.6479, -7.4935, -7.49, -6.4114, -6.6028, -7.3545, -6.9742, -7.3739, -7.4537, -6.6377, -6.8182, -5.7313, -6.3454, -6.9493, -6.7934, -5.7602, -7.1139, -5.9087, -6.6347, -6.3744, -6.4027, -6.219, -6.1328, -6.1471, -5.9502, -6.4346, -6.1239, -6.2914, -6.2163, -6.1475, -6.2346, -6.3236, -6.2245, -6.2699, -6.4497, -6.2197, -6.2401, -6.216, -6.3857, -6.1948, -6.2355, -6.2646, -6.3706, -6.3985, -6.394, -6.6824, -6.7188, -6.9883, -7.2337, -7.3877, -7.4448, -7.4494, -7.4585, -7.436, -7.1881, -7.4864, -7.5496, -7.6117, -7.6117, -7.6953, -7.7801, -7.8453, -7.8454, -7.8521, -7.8727, -7.9155, -7.9826, -8.0548, -8.0715, -8.0801, -8.0972, -7.7947, -8.1692, -8.1976, -8.1976, -6.7292, -6.6536, -7.2477, -7.1622, -6.5559, -6.9623, -7.1285, -7.4564, -5.7957, -6.1384, -7.2195, -6.9606, -6.554, -7.2386, -5.9968, -6.0011, -7.1516, -5.4631, -6.8645, -6.3083, -5.8512, -5.924, -6.9724, -5.9717, -6.3452, -6.6879, -6.8091, -5.6124, -5.5926, -6.2576, -6.4246, -5.8156, -6.457, -6.4301, -6.2661, -5.4612, -6.3513, -5.6888, -5.2617, -5.6939, -5.3542, -5.7722, -5.4229, -6.2237, -6.0817, -5.68, -5.9487, -5.8663, -5.6285, -6.1975, -6.0006, -5.9316, -5.8676, -5.9726, -5.9276, -5.9639, -6.0372, -6.0931, -7.1364, -7.9876, -7.7011, -8.1872, -8.219, -8.506, -8.7503, -8.8073, -7.6234, -8.8676, -8.8678, -8.8887, -8.91, -8.91, -9.0255, -9.0261, -8.9797, -9.1545, -9.128, -9.1821, -8.5916, -9.211, -9.2404, -8.1222, -9.2406, -9.2711, -8.7248, -9.3025, -9.3025, -9.3026, -7.4214, -8.7817, -6.5714, -7.9002, -8.5899, -6.8467, -7.2627, -7.1205, -8.0496, -7.8977, -5.7855, -7.4432, -7.4104, -6.7924, -8.3183, -8.2807, -8.0753, -8.1431, -6.8348, -6.6951, -7.3992, -8.1595, -7.0784, -6.6208, -7.1268, -6.484, -7.279, -7.3932, -6.5902, -6.1838, -5.862, -5.3504, -6.7496, -5.6048, -5.2974, -6.07, -5.4841, -5.7167, -5.8047, -6.1543, -6.1212, -6.1627, -5.8867, -5.8382, -5.5538, -5.868, -5.6055, -5.8017, -5.8906, -5.7847, -5.8055, -5.6996, -6.0409, -5.9938, -6.1132, -5.9796, -6.1464, -6.0094, -6.1197, -6.0719, -6.0515, -6.0246, -6.004, -6.0376, -6.047, -6.0855, -6.0265, -6.8772, -6.9452, -7.1392, -7.1626, -7.1784, -7.2192, -7.2275, -7.2275, -7.2275, -7.2275, -7.3151, -7.3244, -6.7968, -7.0201, -7.6882, -6.9201, -5.7126, -7.8463, -7.8621, -7.8942, -7.8942, -7.879, -7.9618, -7.5012, -8.0534, -8.0727, -8.1125, -8.133, -8.1129, -6.8946, -6.9487, -6.5109, -7.2644, -7.5998, -5.2792, -7.2515, -6.3587, -6.9408, -6.3926, -7.6116, -6.8992, -7.2266, -7.2731, -6.1104, -6.8363, -6.9809, -6.8473, -6.7546, -6.2169, -6.4937, -5.3611, -6.4552, -5.7516, -5.8085, -5.6701, -5.8278, -6.053, -6.0304, -5.9869, -6.2234, -5.9136, -5.85, -5.9717, -6.0339, -6.0403, -6.0677, -6.0725, -6.0333, -5.9637, -6.2158, -6.0992, -6.1056, -6.1898, -6.1486, -6.1548, -6.247, -6.3217, -6.5052, -6.2097, -6.8505, -6.9674, -7.27, -7.306, -7.3152, -7.3152, -7.3625, -7.4121, -7.4971, -7.1719, -7.566, -7.6146, -7.6146, -7.6272, -7.6272, -7.6275, -7.5552, -7.5323, -7.6924, -7.706, -7.7337, -7.7478, -7.7767, -7.8528, -7.8529, -7.853, -7.853, -6.101, -7.2119, -5.7321, -5.4317, -6.2385, -6.7834, -7.3655, -5.1689, -6.7258, -6.035, -7.0882, -7.1482, -6.8783, -6.7697, -5.8097, -6.0241, -6.7338, -6.6857, -7.1593, -6.2529, -6.668, -5.5577, -6.7152, -5.429, -6.401, -6.4682, -6.2378, -5.5313, -5.6869, -5.7968, -5.6303, -5.7438, -5.6978, -5.5126, -5.557, -5.5645, -5.7766, -5.8273, -5.6464, -6.0597, -5.9164, -6.002, -6.1453, -6.0626, -6.0612, -6.1352, -6.0913, -6.0881, -6.1383], \"loglift\": [30.0, 29.0, 28.0, 27.0, 26.0, 25.0, 24.0, 23.0, 22.0, 21.0, 20.0, 19.0, 18.0, 17.0, 16.0, 15.0, 14.0, 13.0, 12.0, 11.0, 10.0, 9.0, 8.0, 7.0, 6.0, 5.0, 4.0, 3.0, 2.0, 1.0, 1.2929, 1.2929, 1.2919, 1.2907, 1.2901, 1.2889, 1.2887, 1.2875, 1.2874, 1.2874, 1.2869, 1.2869, 1.2867, 1.2863, 1.2862, 1.2859, 1.2857, 1.2849, 1.2848, 1.284, 1.2838, 1.2836, 1.2836, 1.2833, 1.283, 1.283, 1.2828, 1.2828, 1.2823, 1.2822, 1.2811, 1.2649, 1.2524, 1.2691, 1.271, 1.2756, 1.2598, 1.2286, 1.2034, 1.258, 1.2228, 1.2382, 1.1485, 1.1529, 1.0085, 1.124, 1.1595, 1.1088, 1.1746, 1.1263, 1.0956, 0.8312, 0.8569, 1.0522, 0.9254, 1.0384, 1.0562, 0.7501, 0.8103, 0.3458, 0.5465, 0.826, 0.7464, 0.1899, 0.8906, 0.1735, 0.5904, 0.3885, 0.3866, 0.2568, 0.1917, 0.167, 0.0157, 0.3202, -0.0009, 0.0469, -0.0815, -0.1917, -0.1411, -0.031, -0.1812, -0.1405, 0.1083, -0.2515, -0.2239, -0.3481, -0.0646, -0.5262, -0.6093, -0.5921, -0.2191, -0.1443, -0.1798, 1.3474, 1.3474, 1.3469, 1.3462, 1.3458, 1.3456, 1.3455, 1.3455, 1.3455, 1.3455, 1.3454, 1.3451, 1.3449, 1.3449, 1.3445, 1.3441, 1.3438, 1.3437, 1.3437, 1.3436, 1.3431, 1.3429, 1.3425, 1.3424, 1.3423, 1.3422, 1.3421, 1.3417, 1.3415, 1.3415, 1.337, 1.3346, 1.3397, 1.3372, 1.3249, 1.3306, 1.3281, 1.334, 1.2735, 1.2801, 1.3179, 1.3029, 1.2814, 1.3156, 1.2476, 1.2401, 1.3083, 1.1568, 1.2787, 1.2194, 1.1434, 1.1493, 1.2696, 1.1044, 1.1524, 1.2023, 1.2272, 0.9167, 0.8844, 1.0647, 1.1042, 0.9112, 1.1124, 1.0956, 1.0293, 0.7162, 1.0219, 0.6583, 0.4108, 0.632, 0.3653, 0.6176, 0.2032, 0.9039, 0.7404, 0.2757, 0.5153, 0.3708, 0.0401, 0.8018, 0.5158, 0.3226, 0.1757, 0.1951, 0.0383, 0.0524, -0.0689, 0.0581, 1.4188, 1.415, 1.4138, 1.4133, 1.4132, 1.4104, 1.4074, 1.4065, 1.4059, 1.4056, 1.4054, 1.4052, 1.4049, 1.4049, 1.4019, 1.4014, 1.4012, 1.3998, 1.3996, 1.3995, 1.3993, 1.3988, 1.3984, 1.3983, 1.3982, 1.3977, 1.3976, 1.397, 1.397, 1.3969, 1.3877, 1.3948, 1.3722, 1.3755, 1.3861, 1.3489, 1.3511, 1.346, 1.3719, 1.3634, 1.2888, 1.3384, 1.3221, 1.2807, 1.3696, 1.3639, 1.3464, 1.3513, 1.2235, 1.2075, 1.2763, 1.3349, 1.1982, 1.1343, 1.1931, 1.0545, 1.1853, 1.1967, 1.0216, 0.9262, 0.7561, 0.5998, 0.9467, 0.5246, 0.3711, 0.6499, 0.3838, 0.4662, 0.4879, 0.586, 0.5365, 0.5213, 0.3275, 0.2848, 0.0724, 0.2668, 0.067, 0.2146, 0.2771, 0.1836, 0.1604, 0.0199, 0.3786, 0.2351, 0.3864, 0.1717, 0.3795, 0.0841, 0.2998, 0.1652, 0.1, 0.0188, -0.0482, 0.0396, 0.0352, 0.1488, 2.1567, 2.1542, 2.1531, 2.1528, 2.1527, 2.1526, 2.1523, 2.1523, 2.1523, 2.1523, 2.1523, 2.1516, 2.1516, 2.1502, 2.15, 2.1484, 2.1475, 2.1468, 2.1466, 2.1464, 2.1461, 2.146, 2.1453, 2.1452, 2.1443, 2.1438, 2.1435, 2.143, 2.1426, 2.1426, 2.1375, 2.1312, 2.1229, 2.1325, 2.1367, 2.0822, 2.1289, 2.0736, 2.0981, 2.0225, 2.1248, 2.042, 2.0751, 2.0821, 1.8138, 1.9657, 1.9922, 1.9098, 1.8608, 1.3598, 1.4901, 0.265, 1.3721, 0.5026, 0.5126, 0.0495, 0.2658, 0.5405, 0.3166, 0.242, 0.6417, -0.0457, -0.1814, -0.0159, 0.1176, 0.1109, 0.1667, 0.1103, 0.0101, -0.2913, 0.3849, -0.0829, -0.1373, 0.1918, -0.0138, -0.0776, 0.3919, 2.203, 2.2024, 2.2021, 2.2011, 2.2005, 2.1986, 2.1983, 2.1983, 2.1983, 2.1979, 2.1975, 2.1968, 2.1966, 2.1961, 2.1956, 2.1956, 2.1955, 2.1955, 2.1952, 2.1951, 2.195, 2.1948, 2.1947, 2.1943, 2.1942, 2.1938, 2.1929, 2.1928, 2.1928, 2.1927, 2.1927, 2.1885, 2.1551, 2.1481, 2.1481, 2.1582, 2.175, 2.0556, 2.1111, 2.0251, 2.1392, 2.1288, 2.0815, 2.0356, 1.7992, 1.7976, 1.984, 1.947, 2.0955, 1.6549, 1.8318, 1.0811, 1.7871, 0.8921, 1.5425, 1.5283, 1.2694, 0.3366, 0.4643, 0.5848, 0.338, 0.4851, 0.3957, 0.1135, 0.1626, 0.104, 0.375, 0.3869, 0.0261, 0.6068, 0.2066, 0.3545, 0.7211, 0.3569, 0.0682, 0.6249, 0.143, -0.0718, 0.5065]}, \"token.table\": {\"Topic\": [3, 2, 2, 4, 1, 2, 3, 4, 5, 3, 1, 2, 3, 4, 5, 1, 2, 3, 4, 5, 1, 2, 3, 4, 5, 1, 2, 3, 4, 1, 4, 1, 4, 5, 1, 4, 5, 3, 1, 2, 3, 4, 5, 1, 2, 3, 4, 5, 3, 1, 2, 3, 4, 5, 3, 3, 5, 5, 1, 3, 5, 5, 3, 1, 2, 3, 4, 5, 1, 3, 1, 2, 3, 4, 5, 1, 3, 4, 3, 4, 2, 3, 4, 5, 1, 1, 1, 2, 3, 4, 5, 4, 5, 5, 2, 1, 2, 3, 4, 1, 2, 4, 5, 2, 3, 4, 3, 4, 1, 2, 3, 4, 5, 1, 3, 1, 2, 3, 4, 5, 1, 3, 1, 2, 3, 4, 5, 1, 3, 1, 3, 1, 2, 5, 1, 2, 3, 4, 5, 1, 2, 3, 4, 1, 2, 3, 4, 5, 1, 3, 2, 1, 2, 3, 4, 5, 1, 4, 1, 3, 4, 5, 1, 2, 3, 4, 5, 2, 1, 1, 1, 3, 3, 4, 5, 3, 1, 2, 3, 4, 5, 1, 2, 3, 4, 5, 1, 4, 5, 1, 2, 3, 4, 5, 1, 2, 3, 4, 5, 2, 2, 4, 5, 1, 2, 4, 5, 1, 2, 3, 4, 5, 1, 2, 3, 4, 5, 1, 2, 3, 4, 5, 1, 3, 1, 3, 1, 2, 3, 4, 5, 1, 2, 1, 2, 3, 4, 4, 3, 1, 5, 1, 2, 3, 4, 5, 1, 2, 3, 4, 5, 4, 4, 1, 2, 3, 4, 5, 2, 3, 4, 5, 1, 2, 4, 5, 1, 3, 1, 2, 3, 4, 1, 3, 4, 5, 1, 3, 4, 5, 1, 2, 3, 4, 5, 2, 2, 1, 3, 4, 5, 1, 2, 4, 1, 2, 1, 2, 3, 4, 5, 2, 3, 1, 2, 3, 4, 5, 1, 2, 3, 5, 2, 5, 5, 1, 2, 3, 4, 5, 5, 1, 3, 4, 5, 1, 3, 1, 2, 3, 4, 5, 1, 2, 3, 4, 5, 1, 2, 3, 4, 5, 1, 3, 4, 1, 3, 5, 2, 1, 3, 4, 5, 1, 2, 3, 4, 5, 1, 2, 3, 4, 1, 2, 3, 4, 5, 1, 3, 4, 5, 3, 1, 2, 3, 4, 5, 1, 2, 3, 4, 5, 5, 5, 5, 4, 1, 2, 2, 1, 1, 2, 3, 4, 5, 5, 1, 5, 1, 3, 1, 2, 3, 4, 5, 2, 1, 2, 3, 4, 5, 1, 3, 5, 1, 3, 1, 1, 2, 1, 2, 3, 4, 5, 1, 2, 3, 4, 5, 1, 2, 3, 4, 5, 1, 1, 3, 1, 3, 1, 3, 1, 3, 4, 5, 3, 1, 2, 3, 4, 5, 3, 1, 2, 3, 4, 5, 3, 3, 4, 1, 2, 3, 4, 5, 1, 3, 4, 5, 1, 4, 5, 5, 1, 1, 2, 3, 4, 5, 1, 2, 3, 4, 5, 1, 2, 3, 4, 5, 3, 5, 1, 2, 3, 4, 5, 1, 2, 3, 4, 5, 1, 3, 4, 5, 1, 2, 3, 4, 5, 1, 3, 4, 2, 1, 2, 3, 4, 5, 2, 1, 2, 3, 4, 5, 1, 2, 3, 4, 5, 1, 2, 3, 4, 5, 2, 4, 1, 2, 3, 4, 5, 2, 2, 1, 2, 3, 4, 5, 1, 3, 4, 5, 4, 1, 2, 3, 1, 2, 1, 2, 4, 2, 4, 1, 2, 3, 4, 5, 1, 3, 4, 2, 1, 2, 3, 4, 5, 1, 3, 4, 4, 1, 3, 4, 5, 1, 2, 3, 4, 5, 1, 2, 3, 4, 5, 1, 2, 3, 4, 5, 5, 1, 3, 1, 3, 1, 2, 3, 4, 5, 4, 1, 4, 4, 1, 2, 5, 1, 1, 1, 2, 3, 4, 5, 4, 2, 3, 5, 4, 5, 1, 2, 3, 4, 5, 1, 2, 3, 4, 5, 3, 5, 5, 2, 5, 1, 2, 3, 4, 5, 1, 2, 3, 5, 2, 5, 5, 1, 2, 3, 5, 5, 1, 2, 3, 4, 5, 1, 2, 3, 4, 5, 1, 2, 3, 4, 5, 1, 3, 4, 5, 1, 3, 4, 5, 1, 2, 4, 1, 3, 5, 1, 2, 5, 2, 1, 2, 1, 2, 3, 4, 5, 2, 1, 2, 3, 4, 5, 1, 2, 3, 4, 5, 5, 5, 2, 5, 1, 2, 3, 4, 5, 4, 5, 1, 3, 5, 3, 3, 3, 4, 4, 4, 5, 1, 2, 3, 4, 5, 3, 1, 2, 3, 4, 5, 1, 2, 5, 1, 2, 3, 4, 5, 1, 2, 3, 4, 5, 5, 4, 1, 2, 3, 4, 5, 1, 3, 4, 4, 1, 2, 3, 4, 5, 1, 2, 3, 4, 5, 5, 5, 1, 2, 3, 2, 3, 4, 5, 5, 1, 2, 3, 4, 5, 1, 2, 3, 4, 1, 1, 2, 3, 4, 5, 1, 2, 3, 4, 5, 1, 3, 4, 1, 2, 1, 2, 1, 2, 3, 1, 1, 1, 3, 5, 1, 2, 4, 5, 2, 4, 1, 2, 3, 4, 5, 5, 1, 2, 3, 4, 5, 1, 2, 3, 4, 5, 1, 3, 1, 2, 3, 4, 5, 1, 2, 3, 4, 5, 1, 3, 4, 5, 1, 5, 1, 3, 1, 2, 3, 4, 5, 1, 2, 3, 4, 5, 1, 2, 3, 4, 5, 1, 2, 3, 4, 5, 1, 2, 3, 4, 5, 1, 2, 3, 4, 5, 3, 4, 5, 2, 3, 1, 2, 3, 4, 5, 2, 3, 4, 5, 4, 3, 4, 3, 4, 1, 2, 4, 1, 4, 5, 1, 2, 3, 4, 5, 2, 2, 1, 2, 3, 4, 5, 1, 2, 3, 1, 2, 3, 4, 5, 4, 3, 1, 3, 4, 1, 3, 1, 2, 3, 4, 2, 1, 2, 3, 4, 5, 1, 3, 1, 2, 3, 4, 5, 1, 3, 4, 5, 1, 2, 3, 4, 5, 1, 2, 3, 4, 5, 1, 3, 4, 2, 1, 2, 3, 4, 5, 1, 2, 3, 4, 1, 4, 5, 1, 1, 2, 3, 4, 5, 2, 1, 2, 3, 4, 5, 4, 5, 1, 2, 3, 4, 5, 1], \"Freq\": [0.9654869098336066, 0.9904493365614067, 0.9863585983820929, 0.0123552225267068, 0.8442216263534905, 0.003872576267676562, 0.11617728803029685, 0.030980610141412495, 0.003872576267676562, 0.991428194015261, 0.22580782386908496, 0.3418142327862971, 0.22985455906387142, 0.11357836780034022, 0.08875839193898322, 0.32544049514945783, 0.23573770579970132, 0.24982073757474843, 0.09031509507910636, 0.09827506956065471, 0.10741663656311302, 0.5310220559875525, 0.174762490207698, 0.08855979754262924, 0.09798821705287114, 0.06362960460361893, 0.9350016898698448, 0.0017674890167671924, 0.9936426820717039, 0.9955114811563889, 0.9936334492435787, 0.005848268190526716, 0.9766607878179616, 0.01754480457158015, 0.05300034268106019, 0.942228314329959, 0.0058889269645622435, 0.9606524630317235, 0.11654317034328376, 0.2819808891639222, 0.2518404140751419, 0.21902078564513672, 0.13060872538471455, 0.2375009091926705, 0.18578949871656103, 0.26258249151940627, 0.15048949396041444, 0.16349475887057371, 0.9912275886423865, 0.16744312955509066, 0.20624092786663603, 0.25729066248709054, 0.19807297032736332, 0.17101661097852247, 0.9915217740788498, 0.0031454182641482173, 0.997097589734985, 0.98462997511122, 0.0116645213755893, 0.9856520562372959, 0.990272256830472, 0.9928677469260334, 0.991228918516102, 0.26002820332396226, 0.11614941878857067, 0.5137780596863801, 0.027729365746820923, 0.08214170608020538, 0.07429031406366214, 0.919342636537819, 0.1278490129060337, 0.26233170101002196, 0.2834388493671502, 0.12000921494481465, 0.20564393113659193, 0.130006347771752, 0.8674561480632418, 0.9985476829695659, 0.01080079182847549, 0.9828720563912696, 0.9932191202685877, 0.9915762099380073, 0.9937566748347717, 0.005371657701809577, 0.991924082571225, 0.9819921338359958, 0.012813907065503805, 0.021356511775839675, 0.038441721196511416, 0.12386776829987012, 0.8030048427715718, 0.9936562231201138, 0.9899197551089836, 0.983576207308695, 0.9936496108200549, 0.0011002024118229713, 0.004400809647291885, 0.06821254953302422, 0.9263704307549419, 0.058464842509412515, 0.878271856363619, 0.018189062114039447, 0.042874217840235845, 0.9939562231046513, 0.1068109346182845, 0.8918713040626756, 0.02365826079687791, 0.9699886926719944, 0.4029973008305226, 0.2024300771506169, 0.2868794344895246, 0.051538946023009825, 0.055885604121335954, 0.9864261355085733, 0.9606524630317232, 0.2911470465787337, 0.005653340710266673, 0.6699208741666008, 0.03250670908403337, 0.0014133351775666683, 0.06841257538477472, 0.929904265415271, 0.2915961811171845, 0.006567481556693344, 0.6922125560754785, 0.0013134963113386688, 0.007880977868032013, 0.20883148963444767, 0.7889189608412468, 0.04316398647770321, 0.9388167058900448, 0.9682242335375066, 0.02737029635441715, 0.9941063117720731, 0.20325690715591874, 0.229498996107974, 0.35259824973761494, 0.0849289424266515, 0.12977905809016407, 0.008669084270901175, 0.039010879219055286, 0.9059193063091727, 0.04334542135450587, 0.10558252847126273, 0.8190894591559679, 0.0206215875920435, 0.036293994161996565, 0.01897186058468002, 0.9280951345282725, 0.06838595728103061, 0.996341820509319, 0.22822747446304456, 0.3092114170144475, 0.24589669829244157, 0.11661687727402019, 0.09983111463609304, 0.976426662531039, 0.01842314457605734, 0.6150485925497867, 0.27878370783798745, 0.05173305918643066, 0.05460711803012125, 0.7741576378464287, 0.0031469822676684096, 0.18881893606010455, 0.022028875873678865, 0.012587929070673638, 0.9979206816307303, 0.9910366549913315, 0.9925971937541044, 0.006354027423442569, 0.9912282780570408, 0.09323954026433895, 0.06060570117182031, 0.8438178393922674, 0.9911843742422536, 0.14308375002050522, 0.12534609505928557, 0.43339003621913363, 0.17737654961219657, 0.12002479857091967, 0.1957269321462736, 0.011417404375199293, 0.7502865732273821, 0.029359039821941036, 0.013048462143084905, 0.9923891089208281, 0.008452785419451384, 0.9805231086563606, 0.11871281479905699, 0.17706318139520363, 0.37692995433372894, 0.10060408033818388, 0.22669452769537435, 0.10903453197949976, 0.011477319155736817, 0.7948043515347746, 0.0688639149344209, 0.01434664894467102, 0.9968626771102049, 0.9765990589777738, 0.02034581372870362, 0.0018496194298821473, 0.011131833076861676, 0.9885067772253168, 0.9884916697449618, 0.010862545821373207, 0.15088417493369968, 0.27382683599078833, 0.4062696117659247, 0.049735894700367676, 0.11958967939189531, 0.1617492525644746, 0.2700544467096484, 0.34981565510815027, 0.09636125684692103, 0.1222735275956729, 0.019567607220009407, 0.7260612152687701, 0.05046382914634005, 0.19258645000746102, 0.011328614706321237, 0.9928707149098991, 0.006017398272181207, 0.9919239912218294, 0.9914339738811065, 0.08018940857406959, 0.82495509212801, 0.02568157529496346, 0.030398599328732262, 0.038784419833210126, 0.9577705810796103, 0.04235039984365624, 0.003210628789244556, 0.06421257578489112, 0.012842515156978224, 0.918239833723943, 0.9938013222280295, 0.9624406731121093, 0.996452334128773, 0.9937621482755622, 0.2732932209010514, 0.17571127738212292, 0.32080861169948394, 0.09471188635660709, 0.13553047710962293, 0.4934539610120356, 0.2025657310769251, 0.2284864644374795, 0.025920733360554397, 0.04992141239810477, 0.9739836092089833, 0.9936414701156413, 0.4033600474539918, 0.08405854062384537, 0.3773563262538094, 0.051402704698034936, 0.08405854062384537, 0.055321696138511046, 0.06417316752067281, 0.044257356910808836, 0.8342511777687466, 0.14876999476176075, 0.8207564965246292, 0.015129152009670585, 0.015129152009670585, 0.1978361737250079, 0.7995878688052401, 0.059704471308186645, 0.9033971642205947, 0.009787618247243713, 0.026426569267558025, 0.053011019899036255, 0.8194620159392687, 0.10160445480648615, 0.02429671745372495, 0.04317236098294488, 0.9238885250350204, 0.01726894439317795, 0.01726894439317795, 0.2300512384347995, 0.19205354734682545, 0.24037669796957506, 0.1400132312915566, 0.19783580468629974, 0.9956850711925372, 0.9922316003282015, 0.13906687190733819, 0.7968155903879919, 0.05261989747845229, 0.011275692316811204, 0.01531729982660839, 0.06126919930643356, 0.9190379895965035, 0.039602397514368726, 0.9603581397234416, 0.10866144132987206, 0.12916360007135735, 0.12301295244891176, 0.5125539685371323, 0.1250631683230603, 0.9963289973008181, 0.9914239573175359, 0.004797172192636427, 0.11225382930769241, 0.018229254332018427, 0.004797172192636427, 0.8606126913589751, 0.02405577932195592, 0.0288669351863471, 0.04330040277952065, 0.9093084583699337, 0.056880137473165074, 0.9385222683072237, 0.9831305923284667, 0.12909428078134183, 0.37386214978754934, 0.2462590570680382, 0.12121228674023679, 0.12952033451329345, 0.9933485254862751, 0.09329796756796549, 0.8751844745313576, 0.00990774876827952, 0.020641143267249, 0.06976589998591651, 0.926889814098605, 0.16013809141744162, 0.20312818307313063, 0.3326358341858938, 0.12090963278162538, 0.18270788953667835, 0.13416516809825013, 0.2748909801132851, 0.2863721069676586, 0.12891665296482224, 0.1751691925781554, 0.0647973473360487, 0.32124108636939397, 0.2493050482251365, 0.16254249840229162, 0.20207986287852472, 0.7499087343459757, 0.2042793840022646, 0.0451006432212792, 0.009286244429919873, 0.9286244429919873, 0.055717466579519245, 0.9981731246535968, 0.14555163038510685, 0.8071499503174107, 0.037805618281845935, 0.009451404570461484, 0.07382791828219995, 0.11965214342287579, 0.24312297227414123, 0.17184084427753438, 0.3920517039813377, 0.055303865329880755, 0.9329521629562493, 0.009618063535631435, 0.0024045158839078587, 0.0380035880677672, 0.024702332244048678, 0.2926276281218074, 0.06840645852198095, 0.5757543592266731, 0.009105709163572761, 0.9196766255208488, 0.04097569123607742, 0.027317127490718282, 0.9913006455908623, 0.143077180262215, 0.544078246019544, 0.19697172350000003, 0.057102551763843656, 0.05902735687947884, 0.027568677617867573, 0.09845956292095562, 0.19888831710033034, 0.1614736831903672, 0.5159281097058074, 0.9919333075764847, 0.9965259551726342, 0.9897111372766692, 0.9936355031313245, 0.019736022665535268, 0.9802224590549183, 0.9922315255354298, 0.9888082396045271, 0.3539528488801803, 0.18605213851394092, 0.2264390661425769, 0.09075714073850777, 0.14339628236684226, 0.9862377300966516, 0.9799697869088638, 0.010768898757240263, 0.9875556261921346, 0.011756614597525411, 0.6676684881558966, 0.1883704198558956, 0.08162718193755475, 0.029302065310917093, 0.03558107930611361, 0.9965526618996017, 0.05501608225806259, 0.7522391247208174, 0.03491405220223203, 0.022218033219602203, 0.13542420248138484, 0.9758878236488505, 0.023235424372591677, 0.987931879933033, 0.9920366359484573, 0.006161718235704703, 0.99603203606907, 0.9894419256889041, 0.008385101065160204, 0.5795089053812913, 0.13668728567472954, 0.1976882230832865, 0.06777881934284109, 0.018074351824757626, 0.18706709481878123, 0.315446473615984, 0.3184475500034511, 0.10437076769746617, 0.07469345675473617, 0.07514188009957658, 0.4347832056076129, 0.27835576967704784, 0.1318527330049174, 0.07986778450835498, 0.9919254666266343, 0.04726444726379254, 0.9511970011838248, 0.03730910844392834, 0.9551131761645655, 0.8286632527249926, 0.16960943769224995, 0.8665662522089558, 0.08576935602068164, 0.00887269200213948, 0.03549076800855792, 0.9632578787863147, 0.5773455922549738, 0.3327299199100419, 0.015781656280318194, 0.006575690116799247, 0.06838717721471217, 0.991560128173754, 0.15140960401607628, 0.3912261580281166, 0.25810764711465356, 0.08637460631789587, 0.11299830850058848, 0.9983465003170713, 0.9913785598543318, 0.9938304897824163, 0.1554402501366857, 0.14529123036831104, 0.20351455430267096, 0.17093085925683651, 0.3247686325879894, 0.6281706448678681, 0.29405810902834884, 0.05763929711851356, 0.019538744785936802, 0.030671162189306756, 0.024536929751445405, 0.944671795430648, 0.983133043993321, 0.9952924149450746, 0.23787598556691622, 0.027381408410580284, 0.6092363371354114, 0.08898957733438592, 0.03679376755171726, 0.0894062616834245, 0.16478801173023339, 0.2594534652773887, 0.45579662819000727, 0.029802087227808166, 0.14881903704266133, 0.31781692656568356, 0.2594146708292545, 0.15056528389192333, 0.12340144401451449, 0.9743781280043445, 0.017399609428649012, 0.15116624891321598, 0.2740530975195378, 0.24011781715126482, 0.16967640184136487, 0.16504886360932763, 0.045282473817369176, 0.6409211678766099, 0.11146455093506259, 0.14281395588554893, 0.060086359488432176, 0.10236758989020397, 0.8639824586733216, 0.016378814382432636, 0.016378814382432636, 0.05229272724574452, 0.132269839503942, 0.6213606413906113, 0.12150368977687696, 0.07074898392071317, 0.015256108558886733, 0.9763909477687509, 0.9937734075389676, 0.9973775830807989, 0.09337085363382311, 0.7754968121253641, 0.03631088752426454, 0.0881835839874996, 0.0051872696463235056, 0.9960662923026572, 0.2186853995201802, 0.27342840254554646, 0.2989369222798794, 0.1063332676566014, 0.10260730409990107, 0.33155718694189396, 0.1985442448863812, 0.2808484407037219, 0.0635809664370926, 0.1256016637591645, 0.32351800692595556, 0.2439897140539426, 0.24900848981771043, 0.09458462016331635, 0.08917978472541256, 0.9966570284536591, 0.9936426835789224, 0.6258106510719441, 0.039945360706719835, 0.2696311847703589, 0.0332878005889332, 0.0332878005889332, 0.9973007974871925, 0.996036065593799, 0.03322297172610677, 0.2242550591512207, 0.10382178664408366, 0.13081545117154542, 0.5087267545560099, 0.01262373457316824, 0.10098987658534592, 0.8710376855486085, 0.01262373457316824, 0.9937680976282822, 0.053083976405029265, 0.9236611894475092, 0.021233590562011705, 0.013779196625392572, 0.9829160259446701, 0.03796482514850113, 0.9545441751623142, 0.005423546449785876, 0.9920461747139018, 0.9935989683297903, 0.10217610727874696, 0.0533092733628245, 0.02221219723451021, 0.7774269032078573, 0.04442439446902042, 0.016159838211481672, 0.056559433740185856, 0.9291906971601962, 0.9936660343081742, 0.18465356190836343, 0.2716332319964729, 0.28018860938218854, 0.13652956411371273, 0.12726123861252076, 0.787604829308107, 0.09367986956528145, 0.11796724315628035, 0.9938005084948189, 0.8195590692008486, 0.10104152907955669, 0.07110329824116952, 0.011226836564395187, 0.1609386800426413, 0.48828483022646024, 0.216017208892186, 0.07187552700933494, 0.06289108613316807, 0.18072121912413336, 0.1698343986949687, 0.4126104942653406, 0.112134250420396, 0.12410975289247712, 0.23670745430794496, 0.3581518317869828, 0.0978099926403029, 0.19089310831285883, 0.11635389459069491, 0.9959088098854778, 0.9859843809804557, 0.9606535508720583, 0.9973369302501732, 0.9914414914520794, 0.38656121286721384, 0.17789735879783522, 0.25100586241338396, 0.10692118653774, 0.07737316632645573, 0.9936426843302052, 0.9899145703415949, 0.99362633842802, 0.9938383891399668, 0.0037488712547906556, 0.989702011264733, 0.007497742509581311, 0.9949140690634617, 0.9935766272418128, 0.376688335298201, 0.21413652181760792, 0.24292798693594175, 0.1073681720037866, 0.05878257461659825, 0.9937288303315019, 0.9938855321150146, 0.9735083414241572, 0.018368081913663344, 0.029172177026714787, 0.9724059008904928, 0.3307819597183297, 0.09845659303862693, 0.43970124248040743, 0.05633756004935056, 0.07458019854152122, 0.19592763954350326, 0.7213699455919893, 0.05120836033523381, 0.016698378370184938, 0.014471927920826945, 0.9689981193503135, 0.9914800440343946, 0.9937621717210067, 0.04274357493011109, 0.9510445421949718, 0.10428566248385426, 0.10005786535613044, 0.0746910825897875, 0.05496136266040968, 0.6665826804711225, 0.12553654742040857, 0.043153188175765446, 0.05492223949642875, 0.7728343700568903, 0.04839509848326811, 0.9511498201903847, 0.9866611169503513, 0.03434440065579243, 0.11333652216411501, 0.1614186830822244, 0.6868880131158486, 0.9978977135589445, 0.13494716585525032, 0.6283903379724283, 0.14130831172048097, 0.044982388618416774, 0.05043479936004305, 0.30497581236193494, 0.16308076557641432, 0.35079608788642597, 0.04828373119785077, 0.13253391522675362, 0.8431279540858202, 0.03222145047461733, 0.05638753833058033, 0.04027681309327166, 0.03222145047461733, 0.9126930577543716, 0.04665523617913721, 0.03499142713435291, 0.005831904522392151, 0.7822983289508126, 0.10639257273731052, 0.09387579947409752, 0.012516773263213002, 0.007253294374971323, 0.9683147990586716, 0.021759883124913965, 0.017265272672869567, 0.9495899970078261, 0.02589790900930435, 0.9627730549409917, 0.025788563971633708, 0.008596187990544568, 0.9941269474662086, 0.9926914950422525, 0.0075777976720782635, 0.16822416305122698, 0.4809378918915029, 0.23193281886023126, 0.07245298111612251, 0.046220005194767814, 0.9902585389217998, 0.1414314761675008, 0.782422084528981, 0.06037717988437168, 0.011579185183304157, 0.003308338623801188, 0.6445684162526782, 0.20150349735959433, 0.08618523079838071, 0.04734118311460349, 0.02063590033200665, 0.9831353610799884, 0.9928564952175432, 0.970036750355499, 0.028530492657514676, 0.1419900582487611, 0.216631357751131, 0.35218682121520506, 0.13169470659326182, 0.15743308573201006, 0.9937455467314871, 0.006714496937374912, 0.965296484506883, 0.008250397303477633, 0.024751191910432898, 0.9615750370980112, 0.9624428893579078, 0.03141513322355733, 0.9660153466243879, 0.9936584786579219, 0.9877892832147486, 0.006060056952237721, 0.28674939198159494, 0.17402721720262312, 0.30098798247999137, 0.12458766686096884, 0.11390872398717151, 0.9915388816731066, 0.056014650312581016, 0.10430314196135776, 0.057946189978532084, 0.7088750574040426, 0.07339850730614064, 0.05977052336701812, 0.007471315420877265, 0.9264431121887808, 0.08425848305903849, 0.5783195882688551, 0.081194538220528, 0.05132107604505071, 0.20451831797057524, 0.028616494708316165, 0.7830513552002878, 0.0702404870113215, 0.05202999037875666, 0.06633823773291475, 0.9831326215338182, 0.9936426833719133, 0.22822609086983509, 0.09325990007625241, 0.4622447221170772, 0.0955769162272152, 0.12048483985006522, 0.011268535981048527, 0.9465570224080762, 0.03380560794314558, 0.9938503916348624, 0.23782498390253262, 0.16785757973147714, 0.40760827200569016, 0.0686835985899352, 0.11778916206778606, 0.010881108716766638, 0.03264332615029992, 0.04352443486706655, 0.03264332615029992, 0.8813698060580977, 0.9954306019278104, 0.9951571654520657, 0.0055853095407847565, 0.9802218244077248, 0.011170619081569513, 0.9979293994778615, 0.0027949418863714966, 0.008384825659114489, 0.9866144858891382, 0.9928676035563967, 0.8733213159380423, 0.03011452813579456, 0.08657926839040936, 0.00376431601697432, 0.00376431601697432, 0.933107708284529, 0.023327692707113226, 0.004665538541422645, 0.03732430833138116, 0.9904404302157049, 0.8631766143160253, 0.0620584493952698, 0.016925031653255398, 0.045133417742014396, 0.011283354435503599, 0.2284779526496626, 0.17921894450959774, 0.33468177161831314, 0.09537382427118944, 0.16210056579425605, 0.9862674110164784, 0.012176140876746648, 0.9936302726539573, 0.010299528391907436, 0.9887547256231137, 0.9888707653743828, 0.990449536506646, 0.05004140907802487, 0.01539735663939227, 0.9315400766832322, 0.9888693565780711, 0.9850681706394464, 0.8869331676059387, 0.10434507854187514, 0.004742958115539779, 0.04426463660966989, 0.9330519453775151, 0.020967459446685734, 0.0011648588581492075, 0.02485595081168446, 0.969382081655694, 0.16823401484726913, 0.3076544691405861, 0.3550574236003139, 0.08318753772834579, 0.08597594681421213, 0.9933483309437112, 0.060037780745495144, 0.3997970399643199, 0.08732768108435658, 0.4502833555912136, 0.004093485050829214, 0.4726455826936839, 0.14585278534361135, 0.19813963291962294, 0.11558145253644672, 0.06742251397959392, 0.9841059610334407, 0.9914413113006593, 0.23167858672484998, 0.6490829826423482, 0.06318506910677726, 0.0311138597874282, 0.02536976259590299, 0.2071808505985787, 0.21704660538898718, 0.3255699080834808, 0.12439429953123772, 0.12568113711259535, 0.0328481601679615, 0.0041060200209951875, 0.019161426764644208, 0.9443846048288931, 0.008187463123465872, 0.9906830379393705, 0.9407573706187528, 0.0537575640353573, 0.01372445204946498, 0.8143174882682556, 0.09073387743812959, 0.02516149542401913, 0.05642274731446714, 0.008780879322954639, 0.8966253441994793, 0.0009756532581060711, 0.05756354222825819, 0.035123517291818555, 0.26525682040290316, 0.1893072179798497, 0.39297306726356024, 0.04949949212646768, 0.10277757143816191, 0.17402151137325234, 0.22853019489678078, 0.3846078539299896, 0.12899259889729403, 0.08396368642133575, 0.19323376865616737, 0.1880446265311296, 0.35409717453233736, 0.11020749465556348, 0.1541916517154072, 0.2128106571793627, 0.24204138929514168, 0.28984866144711663, 0.10053186372529586, 0.1543491929478048, 0.008423851724693815, 0.9771668000644824, 0.008423851724693815, 0.0300600230201132, 0.9619207366436224, 0.27797658901333083, 0.26952828091586684, 0.28315458429887325, 0.07657982501249604, 0.09238633693678347, 0.024101039504165395, 0.08263213544285278, 0.23412438375474953, 0.6576140778993701, 0.993856586963061, 0.011829462164523548, 0.9818453596554545, 0.9721827369783401, 0.019062406607418432, 0.14335713288319613, 0.005513735880122927, 0.8491153255389309, 0.13939248020566378, 0.8224156332134163, 0.037171328054843675, 0.23200132736146922, 0.28758497870848787, 0.2025983813590608, 0.12123680474965666, 0.15708423206766145, 0.994740579891867, 0.9979205194522922, 0.2179609590325829, 0.4341280007068729, 0.19508851271434888, 0.10449568612055929, 0.04798728933433409, 0.11576339582642153, 0.8626240140613991, 0.020538667001461883, 0.20705644937671813, 0.6450829098891557, 0.11548500556785969, 0.021580531343488932, 0.010498636869805428, 0.9937815264800088, 0.9914011358954589, 0.053974801543295585, 0.2004778343036693, 0.7440811927040034, 0.05147801279368111, 0.9413122339415975, 0.11514997379169883, 0.789793349653652, 0.0690899842750193, 0.02573940590637974, 0.9914749532374088, 0.015125905197689436, 0.885945875864667, 0.06482530799009759, 0.015125905197689436, 0.021608435996699194, 0.03275675187086551, 0.9686639481813089, 0.1844401885689495, 0.3760292216560754, 0.28452401182341824, 0.07363309853721628, 0.08149682750721025, 0.6897993106111846, 0.16396868858790453, 0.1356982250382658, 0.011308185419855486, 0.2523470440392575, 0.2207229899269209, 0.3149497634044953, 0.11391113369035538, 0.09809910663418707, 0.21985311227255522, 0.22346264098150762, 0.2667769854889364, 0.12994303352228637, 0.16013181908807006, 0.01226958253836698, 0.01226958253836698, 0.9754318118001749, 0.994311504437359, 0.055784811997326135, 0.2388287263635525, 0.034865507498328834, 0.0052298261247493245, 0.6641879178431642, 0.0024643240544694684, 0.9274072858320099, 0.02957188865363362, 0.040250626223001316, 0.0876938174710584, 0.0146156362451764, 0.8988616290783485, 0.9906726159206157, 0.17316718420429267, 0.5011474270981373, 0.13406491680332336, 0.15840408324678384, 0.033117226472249524, 0.9912612144211144, 0.22689120000843593, 0.14216151750528563, 0.30523956751134895, 0.14712476250547019, 0.17903133750665648, 0.9937814839438529, 0.988541934782513, 0.2565896570711294, 0.11274394022822352, 0.1691159103423353, 0.1928310150110306, 0.2686415955093188, 0.9899139954334633], \"Term\": [\"accidental\", \"adapter\", \"advancen\", \"advancen\", \"agency\", \"agency\", \"agency\", \"agency\", \"agency\", \"allergic\", \"also\", \"also\", \"also\", \"also\", \"also\", \"andn\", \"andn\", \"andn\", \"andn\", \"andn\", \"anyone\", \"anyone\", \"anyone\", \"anyone\", \"anyone\", \"application\", \"application\", \"application\", \"appressian\", \"arab\", \"argicn\", \"armenia\", \"armenia\", \"armenia\", \"armenian\", \"armenian\", \"armenian\", \"armsnevernevernevern\", \"around\", \"around\", \"around\", \"around\", \"around\", \"article\", \"article\", \"article\", \"article\", \"article\", \"atf\", \"back\", \"back\", \"back\", \"back\", \"back\", \"baptism\", \"baseball\", \"baseball\", \"baseballn\", \"batf\", \"batf\", \"batter\", \"batting\", \"bd\", \"believe\", \"believe\", \"believe\", \"believe\", \"believe\", \"believer\", \"believer\", \"better\", \"better\", \"better\", \"better\", \"better\", \"bible\", \"bible\", \"bike\", \"biken\", \"biken\", \"bios\", \"bless\", \"bmw\", \"bmw\", \"bombing\", \"bosnian\", \"boston\", \"boston\", \"boston\", \"boston\", \"boston\", \"brake\", \"bruin\", \"buffalo\", \"byte\", \"car\", \"car\", \"car\", \"car\", \"card\", \"card\", \"card\", \"card\", \"cardn\", \"carn\", \"carn\", \"carsn\", \"carsn\", \"case\", \"case\", \"case\", \"case\", \"case\", \"chastity\", \"chatham\", \"child\", \"child\", \"child\", \"child\", \"child\", \"christ\", \"christ\", \"christian\", \"christian\", \"christian\", \"christian\", \"christian\", \"christianity\", \"christianity\", \"christn\", \"christn\", \"clipper\", \"clipper\", \"coach\", \"come\", \"come\", \"come\", \"come\", \"come\", \"compound\", \"compound\", \"compound\", \"compound\", \"computer\", \"computer\", \"computer\", \"computer\", \"computer\", \"congress\", \"congress\", \"controller\", \"could\", \"could\", \"could\", \"could\", \"could\", \"council\", \"council\", \"country\", \"country\", \"country\", \"country\", \"court\", \"court\", \"court\", \"court\", \"court\", \"cpu\", \"crypto\", \"cryptography\", \"cult\", \"cult\", \"cup\", \"cup\", \"cup\", \"davidians\", \"day\", \"day\", \"day\", \"day\", \"day\", \"death\", \"death\", \"death\", \"death\", \"death\", \"democratic\", \"detroit\", \"detroit\", \"didnt\", \"didnt\", \"didnt\", \"didnt\", \"didnt\", \"die\", \"die\", \"die\", \"die\", \"die\", \"directory\", \"disk\", \"disk\", \"disk\", \"do\", \"do\", \"dod\", \"dod\", \"doesnt\", \"doesnt\", \"doesnt\", \"doesnt\", \"doesnt\", \"dont\", \"dont\", \"dont\", \"dont\", \"dont\", \"drive\", \"drive\", \"drive\", \"drive\", \"drive\", \"economic\", \"economic\", \"egypt\", \"elevator\", \"email\", \"email\", \"email\", \"email\", \"email\", \"encryption\", \"encryption\", \"engine\", \"engine\", \"engine\", \"engine\", \"enginen\", \"englishman\", \"escrow\", \"espn\", \"even\", \"even\", \"even\", \"even\", \"even\", \"example\", \"example\", \"example\", \"example\", \"example\", \"exhaust\", \"exterminationn\", \"fact\", \"fact\", \"fact\", \"fact\", \"fact\", \"fan\", \"fan\", \"fan\", \"fan\", \"fax\", \"fax\", \"fax\", \"fax\", \"fbi\", \"fbi\", \"file\", \"file\", \"file\", \"file\", \"fire\", \"fire\", \"fire\", \"fire\", \"firen\", \"firen\", \"firen\", \"firen\", \"first\", \"first\", \"first\", \"first\", \"first\", \"floppy\", \"font\", \"food\", \"food\", \"food\", \"food\", \"ford\", \"ford\", \"ford\", \"format\", \"format\", \"front\", \"front\", \"front\", \"front\", \"front\", \"ftp\", \"gaedu\", \"game\", \"game\", \"game\", \"game\", \"game\", \"gamen\", \"gamen\", \"gamen\", \"gamen\", \"gamesn\", \"gamesn\", \"geraldn\", \"get\", \"get\", \"get\", \"get\", \"get\", \"goalie\", \"god\", \"god\", \"god\", \"god\", \"godn\", \"godn\", \"going\", \"going\", \"going\", \"going\", \"going\", \"good\", \"good\", \"good\", \"good\", \"good\", \"got\", \"got\", \"got\", \"got\", \"got\", \"government\", \"government\", \"government\", \"grace\", \"grace\", \"grace\", \"graphic\", \"gun\", \"gun\", \"gun\", \"gun\", \"guy\", \"guy\", \"guy\", \"guy\", \"guy\", \"hardware\", \"hardware\", \"hardware\", \"hardware\", \"he\", \"he\", \"he\", \"he\", \"he\", \"heaven\", \"heaven\", \"heaven\", \"heaven\", \"heavenn\", \"help\", \"help\", \"help\", \"help\", \"help\", \"hit\", \"hit\", \"hit\", \"hit\", \"hit\", \"hitter\", \"hockey\", \"hockeyn\", \"honda\", \"ibm\", \"ibm\", \"ide\", \"initiative\", \"inn\", \"inn\", \"inn\", \"inn\", \"inn\", \"inning\", \"intellect\", \"intellect\", \"intellectual\", \"intellectual\", \"interest\", \"interest\", \"interest\", \"interest\", \"interest\", \"interface\", \"internet\", \"internet\", \"internet\", \"internet\", \"internet\", \"islamic\", \"islamic\", \"islander\", \"israel\", \"israel\", \"israeli\", \"israeln\", \"israeln\", \"issue\", \"issue\", \"issue\", \"issue\", \"issue\", \"itn\", \"itn\", \"itn\", \"itn\", \"itn\", \"ive\", \"ive\", \"ive\", \"ive\", \"ive\", \"jake\", \"jesus\", \"jesus\", \"jesusn\", \"jesusn\", \"jew\", \"jew\", \"jewish\", \"jewish\", \"jewish\", \"jewish\", \"jubilee\", \"key\", \"key\", \"key\", \"key\", \"key\", \"kipling\", \"know\", \"know\", \"know\", \"know\", \"know\", \"koresh\", \"koreshs\", \"laskaedu\", \"last\", \"last\", \"last\", \"last\", \"last\", \"law\", \"law\", \"law\", \"law\", \"league\", \"league\", \"league\", \"leaguen\", \"lebanon\", \"life\", \"life\", \"life\", \"life\", \"life\", \"light\", \"light\", \"light\", \"light\", \"light\", \"like\", \"like\", \"like\", \"like\", \"like\", \"livesey\", \"livesey\", \"look\", \"look\", \"look\", \"look\", \"look\", \"looking\", \"looking\", \"looking\", \"looking\", \"looking\", \"lord\", \"lord\", \"lord\", \"lord\", \"love\", \"love\", \"love\", \"love\", \"love\", \"loving\", \"loving\", \"lunar\", \"mac\", \"machine\", \"machine\", \"machine\", \"machine\", \"machine\", \"macintosh\", \"make\", \"make\", \"make\", \"make\", \"make\", \"many\", \"many\", \"many\", \"many\", \"many\", \"may\", \"may\", \"may\", \"may\", \"may\", \"meg\", \"melkonian\", \"member\", \"member\", \"member\", \"member\", \"member\", \"mhz\", \"microsoft\", \"mike\", \"mike\", \"mike\", \"mike\", \"mike\", \"mile\", \"mile\", \"mile\", \"mile\", \"milesn\", \"mode\", \"mode\", \"mode\", \"modem\", \"modem\", \"monitor\", \"monitor\", \"monitor\", \"motherboard\", \"motorcycle\", \"mountain\", \"mountain\", \"mountain\", \"mountain\", \"mountain\", \"mph\", \"mph\", \"mph\", \"msdos\", \"much\", \"much\", \"much\", \"much\", \"much\", \"muslim\", \"muslim\", \"muslim\", \"mustang\", \"nation\", \"nation\", \"nation\", \"nation\", \"need\", \"need\", \"need\", \"need\", \"need\", \"never\", \"never\", \"never\", \"never\", \"never\", \"new\", \"new\", \"new\", \"new\", \"new\", \"nhl\", \"njxp\", \"noknock\", \"nsa\", \"ntmi\", \"ofn\", \"ofn\", \"ofn\", \"ofn\", \"ofn\", \"ohanus\", \"omission\", \"orbit\", \"orbitn\", \"output\", \"output\", \"output\", \"palestine\", \"palestinian\", \"part\", \"part\", \"part\", \"part\", \"part\", \"passenger\", \"pc\", \"pdsgicom\", \"pdsgicom\", \"penguin\", \"penguin\", \"people\", \"people\", \"people\", \"people\", \"people\", \"phone\", \"phone\", \"phone\", \"phone\", \"phone\", \"pistol\", \"pitcher\", \"pitching\", \"pittsburgh\", \"pittsburgh\", \"play\", \"play\", \"play\", \"play\", \"play\", \"played\", \"played\", \"played\", \"played\", \"player\", \"player\", \"playersn\", \"playing\", \"playing\", \"playing\", \"playing\", \"playoff\", \"please\", \"please\", \"please\", \"please\", \"please\", \"point\", \"point\", \"point\", \"point\", \"point\", \"policy\", \"policy\", \"policy\", \"policy\", \"policy\", \"political\", \"political\", \"political\", \"political\", \"population\", \"population\", \"population\", \"population\", \"port\", \"port\", \"port\", \"pray\", \"pray\", \"pray\", \"presidentn\", \"presidentn\", \"presidentn\", \"printer\", \"privacy\", \"privacy\", \"problem\", \"problem\", \"problem\", \"problem\", \"problem\", \"processor\", \"program\", \"program\", \"program\", \"program\", \"program\", \"public\", \"public\", \"public\", \"public\", \"public\", \"puck\", \"quebec\", \"ram\", \"ram\", \"really\", \"really\", \"really\", \"really\", \"really\", \"rear\", \"rear\", \"representative\", \"representative\", \"representative\", \"rethinking\", \"rethought\", \"ride\", \"ride\", \"rider\", \"riding\", \"riding\", \"right\", \"right\", \"right\", \"right\", \"right\", \"righteous\", \"road\", \"road\", \"road\", \"road\", \"road\", \"roger\", \"roger\", \"roger\", \"run\", \"run\", \"run\", \"run\", \"run\", \"running\", \"running\", \"running\", \"running\", \"running\", \"sabre\", \"sahak\", \"said\", \"said\", \"said\", \"said\", \"said\", \"satan\", \"satan\", \"satan\", \"saturn\", \"say\", \"say\", \"say\", \"say\", \"say\", \"score\", \"score\", \"score\", \"score\", \"score\", \"scored\", \"scoring\", \"screen\", \"screen\", \"screen\", \"scsi\", \"season\", \"season\", \"season\", \"seasonn\", \"secret\", \"secret\", \"secret\", \"secret\", \"secret\", \"secure\", \"secure\", \"secure\", \"secure\", \"securen\", \"security\", \"security\", \"security\", \"security\", \"security\", \"see\", \"see\", \"see\", \"see\", \"see\", \"serb\", \"serb\", \"serdar\", \"server\", \"server\", \"shameful\", \"shareware\", \"sin\", \"sin\", \"sin\", \"skepticism\", \"slpittedu\", \"social\", \"social\", \"social\", \"software\", \"software\", \"software\", \"software\", \"solar\", \"solar\", \"something\", \"something\", \"something\", \"something\", \"something\", \"sox\", \"space\", \"space\", \"space\", \"space\", \"space\", \"state\", \"state\", \"state\", \"state\", \"state\", \"sternlight\", \"stove\", \"system\", \"system\", \"system\", \"system\", \"system\", \"take\", \"take\", \"take\", \"take\", \"take\", \"team\", \"team\", \"team\", \"team\", \"teamn\", \"teamn\", \"terrorist\", \"terrorist\", \"thanks\", \"thanks\", \"thanks\", \"thanks\", \"thanks\", \"thanksn\", \"thanksn\", \"thanksn\", \"thanksn\", \"thanksn\", \"thatn\", \"thatn\", \"thatn\", \"thatn\", \"thatn\", \"thing\", \"thing\", \"thing\", \"thing\", \"thing\", \"think\", \"think\", \"think\", \"think\", \"think\", \"time\", \"time\", \"time\", \"time\", \"time\", \"tire\", \"tire\", \"tire\", \"tkedu\", \"tkedu\", \"ton\", \"ton\", \"ton\", \"ton\", \"ton\", \"toronto\", \"toronto\", \"toronto\", \"toronto\", \"torque\", \"toyota\", \"toyota\", \"tratuscom\", \"tratuscom\", \"turk\", \"turk\", \"turk\", \"turkish\", \"turkish\", \"turkish\", \"two\", \"two\", \"two\", \"two\", \"two\", \"unix\", \"upgrade\", \"used\", \"used\", \"used\", \"used\", \"used\", \"user\", \"user\", \"user\", \"using\", \"using\", \"using\", \"using\", \"using\", \"valve\", \"veal\", \"vehicle\", \"vehicle\", \"vehicle\", \"verse\", \"verse\", \"version\", \"version\", \"version\", \"version\", \"vga\", \"video\", \"video\", \"video\", \"video\", \"video\", \"waco\", \"waco\", \"want\", \"want\", \"want\", \"want\", \"want\", \"war\", \"war\", \"war\", \"war\", \"way\", \"way\", \"way\", \"way\", \"way\", \"well\", \"well\", \"well\", \"well\", \"well\", \"wheel\", \"wheel\", \"wheel\", \"widget\", \"win\", \"win\", \"win\", \"win\", \"win\", \"window\", \"window\", \"window\", \"window\", \"winning\", \"winning\", \"winning\", \"wiretap\", \"work\", \"work\", \"work\", \"work\", \"work\", \"workstation\", \"writesn\", \"writesn\", \"writesn\", \"writesn\", \"writesn\", \"yamaha\", \"yankee\", \"year\", \"year\", \"year\", \"year\", \"year\", \"zionist\"]}, \"R\": 30, \"lambda.step\": 0.01, \"plot.opts\": {\"xlab\": \"PC1\", \"ylab\": \"PC2\"}, \"topic.order\": [3, 2, 5, 1, 4]};\n",
              "\n",
              "function LDAvis_load_lib(url, callback){\n",
              "  var s = document.createElement('script');\n",
              "  s.src = url;\n",
              "  s.async = true;\n",
              "  s.onreadystatechange = s.onload = callback;\n",
              "  s.onerror = function(){console.warn(\"failed to load library \" + url);};\n",
              "  document.getElementsByTagName(\"head\")[0].appendChild(s);\n",
              "}\n",
              "\n",
              "if(typeof(LDAvis) !== \"undefined\"){\n",
              "   // already loaded: just create the visualization\n",
              "   !function(LDAvis){\n",
              "       new LDAvis(\"#\" + \"ldavis_el1371399174150537366723819438\", ldavis_el1371399174150537366723819438_data);\n",
              "   }(LDAvis);\n",
              "}else if(typeof define === \"function\" && define.amd){\n",
              "   // require.js is available: use it to load d3/LDAvis\n",
              "   require.config({paths: {d3: \"https://cdnjs.cloudflare.com/ajax/libs/d3/3.5.5/d3.min\"}});\n",
              "   require([\"d3\"], function(d3){\n",
              "      window.d3 = d3;\n",
              "      LDAvis_load_lib(\"https://cdn.rawgit.com/bmabey/pyLDAvis/files/ldavis.v1.0.0.js\", function(){\n",
              "        new LDAvis(\"#\" + \"ldavis_el1371399174150537366723819438\", ldavis_el1371399174150537366723819438_data);\n",
              "      });\n",
              "    });\n",
              "}else{\n",
              "    // require.js not available: dynamically load d3 & LDAvis\n",
              "    LDAvis_load_lib(\"https://cdnjs.cloudflare.com/ajax/libs/d3/3.5.5/d3.min.js\", function(){\n",
              "         LDAvis_load_lib(\"https://cdn.rawgit.com/bmabey/pyLDAvis/files/ldavis.v1.0.0.js\", function(){\n",
              "                 new LDAvis(\"#\" + \"ldavis_el1371399174150537366723819438\", ldavis_el1371399174150537366723819438_data);\n",
              "            })\n",
              "         });\n",
              "}\n",
              "</script>"
            ],
            "text/plain": [
              "PreparedData(topic_coordinates=                x           y  topics  cluster       Freq\n",
              "topic                                                    \n",
              "2      150.222153  -72.269554       1        1  27.362001\n",
              "1       51.163364 -159.968018       2        1  25.944725\n",
              "4      -73.144554   21.523815       3        1  24.131063\n",
              "0      -66.410133 -110.606438       4        1  11.546164\n",
              "3       54.417324   12.443444       5        1  11.016048, topic_info=         Term         Freq        Total Category  logprob  loglift\n",
              "6272     game  1042.000000  1042.000000  Default  30.0000  30.0000\n",
              "2266      car   908.000000   908.000000  Default  29.0000  29.0000\n",
              "15075    team   730.000000   730.000000  Default  28.0000  28.0000\n",
              "17089    year  2572.000000  2572.000000  Default  27.0000  27.0000\n",
              "16814  window  1217.000000  1217.000000  Default  26.0000  26.0000\n",
              "...       ...          ...          ...      ...      ...      ...\n",
              "13264     say   367.442530  3115.736572   Topic5  -6.0612   0.0682\n",
              "1624   better   341.242241  1658.205998   Topic5  -6.1352   0.6249\n",
              "9859     much   356.549380  2805.253225   Topic5  -6.0913   0.1430\n",
              "9110     make   357.714376  3489.030368   Topic5  -6.0881  -0.0718\n",
              "6477    going   340.198591  1860.893916   Topic5  -6.1383   0.5065\n",
              "\n",
              "[463 rows x 6 columns], token_table=       Topic      Freq        Term\n",
              "term                              \n",
              "146        3  0.965487  accidental\n",
              "243        2  0.990449     adapter\n",
              "316        2  0.986359    advancen\n",
              "316        4  0.012355    advancen\n",
              "381        1  0.844222      agency\n",
              "...      ...       ...         ...\n",
              "17089      2  0.112744        year\n",
              "17089      3  0.169116        year\n",
              "17089      4  0.192831        year\n",
              "17089      5  0.268642        year\n",
              "17165      1  0.989914     zionist\n",
              "\n",
              "[1016 rows x 3 columns], R=30, lambda_step=0.01, plot_opts={'xlab': 'PC1', 'ylab': 'PC2'}, topic_order=[3, 2, 5, 1, 4])"
            ]
          },
          "metadata": {
            "tags": []
          },
          "execution_count": 21
        }
      ]
    },
    {
      "cell_type": "markdown",
      "metadata": {
        "id": "Jt9NKpuxDEv0",
        "colab_type": "text"
      },
      "source": [
        "# LDA Unigram - binary - stem"
      ]
    },
    {
      "cell_type": "code",
      "metadata": {
        "id": "wjMI8PDBCrkC",
        "colab_type": "code",
        "colab": {}
      },
      "source": [
        "data_token_stem_binary = binary.fit_transform(df.token_stem)"
      ],
      "execution_count": 22,
      "outputs": []
    },
    {
      "cell_type": "code",
      "metadata": {
        "id": "qpl5E1_CDJBe",
        "colab_type": "code",
        "colab": {
          "base_uri": "https://localhost:8080/",
          "height": 374
        },
        "outputId": "07837e09-3756-4a24-de7c-478365dfbb7d"
      },
      "source": [
        "# Parametri di ricerca\n",
        "search_params = {'n_components': [5,10, 15, 20, 25, 30], 'learning_decay': [.5, .7, .9]}\n",
        "\n",
        "# Inizializzazione Modello\n",
        "lda = LatentDirichletAllocation()\n",
        "\n",
        "# Inizializzazione GridSearchCV\n",
        "model = GridSearchCV(lda, param_grid=search_params)\n",
        "\n",
        "# Grid Search\n",
        "model.fit(data_token_stem_binary) "
      ],
      "execution_count": 23,
      "outputs": [
        {
          "output_type": "execute_result",
          "data": {
            "text/plain": [
              "GridSearchCV(cv=None, error_score=nan,\n",
              "             estimator=LatentDirichletAllocation(batch_size=128,\n",
              "                                                 doc_topic_prior=None,\n",
              "                                                 evaluate_every=-1,\n",
              "                                                 learning_decay=0.7,\n",
              "                                                 learning_method='batch',\n",
              "                                                 learning_offset=10.0,\n",
              "                                                 max_doc_update_iter=100,\n",
              "                                                 max_iter=10,\n",
              "                                                 mean_change_tol=0.001,\n",
              "                                                 n_components=10, n_jobs=None,\n",
              "                                                 perp_tol=0.1,\n",
              "                                                 random_state=None,\n",
              "                                                 topic_word_prior=None,\n",
              "                                                 total_samples=1000000.0,\n",
              "                                                 verbose=0),\n",
              "             iid='deprecated', n_jobs=None,\n",
              "             param_grid={'learning_decay': [0.5, 0.7, 0.9],\n",
              "                         'n_components': [5, 10, 15, 20, 25, 30]},\n",
              "             pre_dispatch='2*n_jobs', refit=True, return_train_score=False,\n",
              "             scoring=None, verbose=0)"
            ]
          },
          "metadata": {
            "tags": []
          },
          "execution_count": 23
        }
      ]
    },
    {
      "cell_type": "code",
      "metadata": {
        "id": "UxKuHX6WDJJx",
        "colab_type": "code",
        "colab": {
          "base_uri": "https://localhost:8080/",
          "height": 68
        },
        "outputId": "23e37e66-4f2a-4259-db36-9f222bcdbc53"
      },
      "source": [
        "# Stimato il Miglior modello \n",
        "best_lda_model = model.best_estimator_\n",
        "\n",
        "# Parametri del modello\n",
        "print(\"Best Model Params: \", model.best_params_)\n",
        "\n",
        "# Log Likelihood Score\n",
        "print(\"Best Log Likelihood Score: \", model.best_score_)\n",
        "\n",
        "# Perplessità\n",
        "print(\"Model Perplexity: \", best_lda_model.perplexity(data_token_stem_binary))"
      ],
      "execution_count": 24,
      "outputs": [
        {
          "output_type": "stream",
          "text": [
            "Best Model Params:  {'learning_decay': 0.9, 'n_components': 5}\n",
            "Best Log Likelihood Score:  -2511299.117059676\n",
            "Model Perplexity:  3857.18994823374\n"
          ],
          "name": "stdout"
        }
      ]
    },
    {
      "cell_type": "code",
      "metadata": {
        "id": "xb-I6X8KDJUc",
        "colab_type": "code",
        "colab": {
          "base_uri": "https://localhost:8080/",
          "height": 861
        },
        "outputId": "80e48b13-894c-4abd-b881-35b2b949f2dc"
      },
      "source": [
        "pyLDAvis.enable_notebook()\n",
        "vis = pyLDAvis.sklearn.prepare(best_lda_model, data_token_stem_binary, binary, mds='tsne')\n",
        "vis"
      ],
      "execution_count": 25,
      "outputs": [
        {
          "output_type": "execute_result",
          "data": {
            "text/html": [
              "\n",
              "<link rel=\"stylesheet\" type=\"text/css\" href=\"https://cdn.rawgit.com/bmabey/pyLDAvis/files/ldavis.v1.0.0.css\">\n",
              "\n",
              "\n",
              "<div id=\"ldavis_el1371399177247878403122137313\"></div>\n",
              "<script type=\"text/javascript\">\n",
              "\n",
              "var ldavis_el1371399177247878403122137313_data = {\"mdsDat\": {\"x\": [150.22215270996094, 51.16336441040039, -73.1445541381836, -66.4101333618164, 54.41732406616211], \"y\": [-72.2695541381836, -159.968017578125, 21.523815155029297, -110.60643768310547, 12.44344425201416], \"topics\": [1, 2, 3, 4, 5], \"cluster\": [1, 1, 1, 1, 1], \"Freq\": [25.19551655042714, 22.92498759107851, 22.829119152274647, 16.72085244054147, 12.329524265678236]}, \"tinfo\": {\"Term\": [\"god\", \"window\", \"email\", \"thanksn\", \"christian\", \"car\", \"govern\", \"comput\", \"file\", \"thank\", \"system\", \"softwar\", \"program\", \"nation\", \"jesu\", \"team\", \"dod\", \"encrypt\", \"card\", \"war\", \"pleas\", \"graphic\", \"use\", \"disk\", \"game\", \"advancen\", \"mac\", \"do\", \"bibl\", \"key\", \"bike\", \"basebal\", \"dod\", \"bmw\", \"motorcycl\", \"carn\", \"pitcher\", \"honda\", \"mph\", \"brake\", \"espn\", \"hitter\", \"rider\", \"biken\", \"inning\", \"baseballn\", \"ride\", \"toyota\", \"runner\", \"ama\", \"biker\", \"zoologyn\", \"utzoohenryn\", \"drain\", \"valv\", \"glove\", \"mustang\", \"jacket\", \"yamaha\", \"rbi\", \"car\", \"wheel\", \"clutch\", \"batter\", \"pitch\", \"vehicl\", \"sport\", \"spencer\", \"player\", \"fan\", \"hit\", \"mile\", \"game\", \"bat\", \"season\", \"night\", \"ball\", \"team\", \"ga\", \"watch\", \"he\", \"tank\", \"leagu\", \"guy\", \"play\", \"last\", \"year\", \"back\", \"got\", \"get\", \"like\", \"good\", \"think\", \"dont\", \"go\", \"writesn\", \"well\", \"time\", \"look\", \"much\", \"articl\", \"realli\", \"first\", \"day\", \"thing\", \"know\", \"make\", \"see\", \"take\", \"even\", \"better\", \"could\", \"also\", \"two\", \"say\", \"ton\", \"want\", \"mac\", \"ftp\", \"mhz\", \"upgrad\", \"scsi\", \"interfac\", \"directori\", \"meg\", \"printer\", \"cpu\", \"microsoft\", \"unix\", \"motherboard\", \"vga\", \"gif\", \"keyboard\", \"do\", \"motif\", \"widget\", \"pc\", \"font\", \"simm\", \"menu\", \"workstat\", \"sharewar\", \"postscript\", \"intel\", \"quadra\", \"download\", \"connector\", \"advancen\", \"graphic\", \"server\", \"floppi\", \"windowsn\", \"mous\", \"ibm\", \"port\", \"disk\", \"thanksn\", \"window\", \"screen\", \"softwar\", \"circuit\", \"card\", \"file\", \"modem\", \"email\", \"appreciatedn\", \"applic\", \"thank\", \"fax\", \"comput\", \"video\", \"program\", \"internet\", \"mode\", \"pleas\", \"instal\", \"version\", \"machin\", \"system\", \"use\", \"anyon\", \"run\", \"mail\", \"work\", \"know\", \"drive\", \"need\", \"get\", \"problem\", \"look\", \"like\", \"help\", \"also\", \"tri\", \"new\", \"want\", \"dont\", \"ive\", \"could\", \"ton\", \"itn\", \"make\", \"jesu\", \"bibl\", \"godn\", \"atheist\", \"clhn\", \"vers\", \"biblic\", \"prophet\", \"divin\", \"satan\", \"gospel\", \"atheism\", \"biblen\", \"cathol\", \"revel\", \"testament\", \"christiann\", \"pplecom\", \"faithn\", \"christn\", \"kentn\", \"churchn\", \"salvat\", \"alink\", \"ksand\", \"theist\", \"repent\", \"christ\", \"christianityn\", \"unto\", \"scriptur\", \"cult\", \"christian\", \"holi\", \"god\", \"worship\", \"belief\", \"church\", \"doctrin\", \"sin\", \"religion\", \"lord\", \"homosexu\", \"koresh\", \"moral\", \"religi\", \"teach\", \"faith\", \"heaven\", \"argument\", \"evil\", \"believ\", \"statement\", \"word\", \"life\", \"peopl\", \"human\", \"truth\", \"say\", \"claim\", \"accept\", \"mean\", \"thatn\", \"think\", \"fact\", \"dont\", \"see\", \"person\", \"ofn\", \"point\", \"seem\", \"must\", \"even\", \"know\", \"like\", \"ton\", \"way\", \"make\", \"thing\", \"andn\", \"articl\", \"writesn\", \"reason\", \"said\", \"read\", \"come\", \"time\", \"mani\", \"itn\", \"also\", \"want\", \"encrypt\", \"nsa\", \"escrow\", \"crypto\", \"privaci\", \"wiretap\", \"cryptographi\", \"decrypt\", \"njxp\", \"slpittedu\", \"sternlight\", \"encryptionn\", \"securen\", \"cryptograph\", \"omiss\", \"clippern\", \"rsa\", \"veal\", \"syndrom\", \"yeast\", \"allerg\", \"privacyn\", \"cryptosystem\", \"scicrypt\", \"diagnosi\", \"physician\", \"antibiot\", \"dorothi\", \"escrown\", \"chastiti\", \"clipper\", \"intellect\", \"diagnos\", \"infect\", \"keysn\", \"patient\", \"diseas\", \"pgp\", \"medic\", \"medicin\", \"de\", \"key\", \"warrant\", \"ensur\", \"drug\", \"secur\", \"illeg\", \"doctor\", \"gordon\", \"algorithm\", \"effect\", \"secret\", \"govern\", \"propos\", \"privat\", \"public\", \"legal\", \"chip\", \"law\", \"case\", \"peopl\", \"system\", \"ofn\", \"use\", \"make\", \"inform\", \"ton\", \"dont\", \"could\", \"may\", \"get\", \"even\", \"know\", \"andn\", \"think\", \"say\", \"way\", \"like\", \"thatn\", \"mani\", \"thing\", \"also\", \"time\", \"articl\", \"work\", \"itn\", \"take\", \"isra\", \"turkish\", \"troop\", \"turk\", \"armenia\", \"serdar\", \"argicn\", \"exterminationn\", \"melkonian\", \"ohanu\", \"sahak\", \"appressian\", \"republ\", \"serb\", \"bosnian\", \"lebanon\", \"palestinian\", \"lemieux\", \"fascist\", \"lebanes\", \"livni\", \"onycom\", \"refuge\", \"gaza\", \"anatolia\", \"kurd\", \"ottoman\", \"americanoccupi\", \"dpaorg\", \"sdpa\", \"turkey\", \"armenian\", \"arab\", \"soldier\", \"massacr\", \"soviet\", \"presidentn\", \"territori\", \"armi\", \"israel\", \"villag\", \"palestin\", \"democrat\", \"civilian\", \"occupi\", \"york\", \"war\", \"mountain\", \"polici\", \"nation\", \"washington\", \"countri\", \"polit\", \"proceed\", \"american\", \"presid\", \"april\", \"fight\", \"land\", \"militari\", \"govern\", \"member\", \"state\", \"attack\", \"today\", \"year\", \"world\", \"kill\", \"report\", \"forc\", \"peopl\", \"new\", \"live\", \"ofn\", \"arm\", \"inn\", \"andn\", \"right\", \"time\", \"mani\", \"ton\", \"way\", \"also\", \"last\", \"first\", \"work\"], \"Freq\": [1199.0, 1219.0, 1929.0, 1025.0, 864.0, 890.0, 1178.0, 1432.0, 1057.0, 1745.0, 2124.0, 861.0, 1358.0, 868.0, 499.0, 741.0, 538.0, 400.0, 772.0, 535.0, 2252.0, 487.0, 3927.0, 541.0, 1054.0, 486.0, 449.0, 454.0, 442.0, 783.0, 392.7009129595794, 322.03216980484683, 536.7278721106758, 191.54082650525524, 172.8966967399009, 181.659309757779, 150.32858550544998, 124.80832603816206, 119.88719941773006, 114.01745445675547, 107.14661419921318, 101.2655475882005, 106.08092836326476, 89.48815368398972, 88.50796716837175, 85.56270881633195, 351.84498186198033, 81.62735008061887, 75.74895413940466, 108.76258692120896, 71.82546927183252, 69.86382981645538, 69.86382981645538, 67.89368635560051, 60.04018962552566, 59.06366833450935, 56.126985285216314, 56.11896840335904, 59.981610732785406, 53.18428111472466, 866.4647432889233, 160.79437023469933, 100.50120046213935, 80.58925797520912, 237.50809605518515, 233.84005702875362, 201.67843385087156, 97.58355255733268, 465.9845306270099, 396.2805551913252, 490.08551620603197, 273.846241264966, 831.4602764997463, 159.19358948941957, 317.50190541595504, 477.6740935129373, 227.12728119829308, 572.6440876612124, 260.32948400817304, 467.35497791848394, 400.5010277859312, 207.3754032361278, 268.49235297193076, 536.1369844243679, 666.6851016534036, 1011.3903446327558, 1247.3822682409113, 969.3453402294697, 891.4743870546115, 1860.5363207921257, 1921.6217077722242, 1222.8042149629862, 1498.8163453140942, 1544.3945158568347, 812.5702727034538, 1057.1565496065389, 1107.6745952695867, 1234.9634063214817, 1091.6018559944434, 1026.4075877264759, 1112.2062926013157, 916.4174041286929, 899.3414975658459, 751.0116449025093, 973.6022782409267, 1243.974016205501, 1093.2281683115314, 969.530493445675, 909.388693285952, 963.321771246145, 739.5399109307305, 914.1790590151558, 924.6952198707751, 814.7574563108108, 864.9593805437988, 827.154298313841, 822.3424910607843, 448.85411766495486, 342.8230053422078, 268.2264636320124, 261.3228904143222, 229.93705077151674, 221.09696871542195, 219.13127347007682, 217.1735967717743, 195.5730353552646, 183.790491577293, 180.84169007065543, 280.4638512846744, 156.30181413655947, 141.57518629819484, 138.62442019315654, 138.61459157487303, 451.841912578555, 129.79002254783722, 118.0087669266232, 116.04664615884874, 145.24348649618864, 108.1933273621965, 107.20785127642874, 105.2441384567119, 102.3004551687677, 100.33830302776727, 100.33325833268596, 99.35728804919829, 98.37021724891213, 97.39184776076056, 478.80590983506374, 479.60539230374695, 289.8879299269293, 206.09015804456536, 226.69930011185443, 177.43467071335166, 299.6249272362854, 290.036193315868, 513.6880917386188, 947.1556173925414, 1119.1190776246365, 353.4541282385933, 760.7149587791228, 174.6914356538021, 678.0585217454429, 904.8756245146317, 209.9026775469412, 1538.0688549463644, 331.03298330205104, 518.7968618176873, 1259.4624317895882, 647.1560440812344, 1058.0771052686882, 398.9043102226802, 974.0691644039149, 700.9997776156374, 336.5659270922172, 1373.2655683282053, 423.61196146325875, 565.06201862799, 569.2047993027505, 1172.3681660664079, 1784.4692605263583, 1444.559318554691, 1013.6239524001941, 589.5656437424694, 1357.7666495712267, 1699.4296367022503, 685.5747713981795, 1146.792954048857, 1608.6797190776788, 1011.544720670289, 1119.4622285155729, 1427.8176798480038, 827.3705513394349, 1121.8172573682432, 993.3228723246334, 934.4618478530591, 981.2323218989383, 1068.4929068527179, 804.9189800231802, 872.0364161618651, 849.8746225033426, 800.4590125073836, 822.1189716994213, 498.3572615521666, 441.62757791773447, 297.1404519993193, 240.34284250452444, 155.64520280747607, 141.69335887916662, 138.70561561233933, 116.7806326986676, 115.76756254764689, 106.81397880973213, 106.80813706009182, 103.82952795689089, 100.84002826977691, 177.93805766756756, 101.82103337306913, 97.85082320035805, 113.66020725006584, 95.85114712905015, 91.87037477881444, 90.87495489411138, 89.87687070200536, 85.89281861947386, 80.91161408437448, 79.91495032113389, 79.91495032113389, 77.92132859802958, 77.91909221177382, 386.30978201021975, 67.95622737704574, 64.96770305842361, 185.50887809079995, 153.1921049038858, 822.3126990047211, 183.49079929137375, 1132.2506802481953, 133.26870426082343, 380.44582608144856, 405.81293226778274, 157.51916706383807, 266.2765300688028, 475.00764447866646, 230.35618140274158, 212.10301609124224, 265.2307871757605, 366.5719711193088, 373.36155427181967, 277.3232695691588, 350.0643741381527, 199.8539129105913, 484.59981991862276, 220.0443675631388, 1180.5117776617972, 452.14341655185075, 703.4670571596828, 574.2306629445125, 1492.394632261565, 501.86273324404084, 324.67016028350673, 1389.9051341255522, 612.882151341784, 500.57114648831913, 863.2732261289677, 959.4056935444589, 1257.9027562796084, 706.6405789380184, 1310.451948833147, 968.0880477559689, 723.2063510325843, 1001.6916195245634, 808.4327165247761, 842.3792242512711, 664.2364444043221, 899.4686116484089, 1097.4212059559593, 1133.0071681963518, 953.8567252466667, 884.8350679488932, 971.6390731130804, 865.6698230036599, 892.9650736439239, 861.0402128329285, 818.9169945527368, 702.0937420665498, 680.8997341539223, 715.5742542396596, 745.7329372951293, 833.4873011588169, 756.3843034083934, 775.3861909068628, 783.4310697198136, 737.9706494049636, 399.36159935896546, 200.30536043988573, 169.98991534724206, 128.55206270297353, 135.47329517563088, 112.3825974160501, 101.26181287552298, 85.0949676522142, 83.07430218193025, 81.0530958363177, 79.03117594701538, 71.95638065671001, 62.85880273431116, 61.84904304359579, 61.84655354992633, 57.807039537988146, 54.75961443916202, 51.74237731558376, 66.64802690709483, 55.702294625582276, 48.70866670145327, 46.688642653718325, 42.64799333921961, 42.64266699993101, 41.62947572110533, 95.13752655722695, 40.625822125196066, 47.51603415532202, 37.595471211604945, 83.04897998917735, 296.1247637849214, 95.39483879011358, 80.90078017692768, 93.41621371270321, 87.09263814982523, 170.34163217134167, 170.31080563231563, 162.3540346255305, 261.12030338422636, 159.0224525181463, 125.4874307879222, 521.9793649718449, 152.68557182141765, 141.2017162482348, 270.6305322497908, 353.8400198730102, 209.50702534720273, 211.56266969376392, 135.5339498381999, 212.5046720630912, 490.58650067711665, 197.92884894593624, 536.8974873021808, 248.4612553499688, 286.6718655462618, 418.07328903894944, 270.2851442410223, 326.58753626077265, 420.7845663584342, 503.0496377679831, 793.1773504638732, 580.2576445295964, 736.5359206445659, 807.4912362263344, 776.2944495826686, 468.60707109709153, 726.5634361228098, 833.1719468675948, 680.459617393615, 585.2431626606965, 800.9063687809072, 627.2981146391774, 754.6988545436859, 625.162944712518, 697.6867119326911, 633.7688405938685, 582.2543599280606, 721.864677128554, 533.1111329827578, 520.018732171839, 529.0060388622081, 569.2608404042123, 548.506550601029, 522.0006787905126, 516.8090828378697, 508.3784585013448, 494.6402196213051, 260.45428704167745, 210.36901114308057, 187.76956675013716, 176.97689607674712, 166.1744844177041, 127.87186993232595, 124.92565684263508, 118.0508530149743, 117.06873220360208, 117.06873220360208, 117.06873220360208, 117.06873220360208, 106.11246662130276, 80.72380128568452, 79.72862132213204, 71.8889148597689, 134.99108056148836, 55.18601231890389, 54.2087750010154, 53.23007564787268, 53.229958758763146, 53.229929654165716, 52.247555310134416, 52.247267131231865, 51.26615744536501, 50.283680170770786, 51.227638865665924, 48.31943850177864, 48.31906680164943, 48.319021513840056, 124.32656585714923, 161.92935348851864, 258.8534701215532, 158.17699021349426, 137.19459619960693, 192.74093536014874, 112.91238383026099, 141.28498884410223, 186.27414254895928, 292.5565931435697, 142.17839406315005, 69.5605229183252, 96.42885734756997, 139.48058528148155, 128.80049502809482, 268.48947144744136, 362.9825647220929, 179.04213471952792, 260.8102977056147, 477.5978172386633, 238.05873862022156, 363.2735868473247, 298.32375778021924, 177.8500306857547, 376.4893372071912, 230.0425908305476, 285.3579823741172, 216.38797600176332, 248.77172240982267, 212.3771829315895, 406.80333079084966, 278.7377633776325, 462.1657363551453, 249.59662848801452, 314.3107815879596, 491.06413394069784, 356.44542489642316, 312.39951892633604, 295.10345022241216, 282.48821692262186, 426.7780095919873, 390.2215241397271, 312.1225687823193, 399.3521449215172, 235.99876006080805, 323.9370088334971, 345.59574637495393, 319.1116099006691, 335.18683757865335, 310.858144144618, 321.4187483498246, 313.6625197781317, 310.90085266552455, 292.11508579832406, 290.4412198884029, 281.94225593964154], \"Total\": [1199.0, 1219.0, 1929.0, 1025.0, 864.0, 890.0, 1178.0, 1432.0, 1057.0, 1745.0, 2124.0, 861.0, 1358.0, 868.0, 499.0, 741.0, 538.0, 400.0, 772.0, 535.0, 2252.0, 487.0, 3927.0, 541.0, 1054.0, 486.0, 449.0, 454.0, 442.0, 783.0, 393.49728196937696, 322.8462738017261, 538.7255159269075, 192.33754275129778, 173.6934796933329, 182.52612791346493, 151.12433384083306, 125.61138501450725, 120.70539890374356, 114.81749729321216, 107.9485750437267, 102.06098072453773, 106.96995976478264, 90.2858040277536, 89.30451255357588, 86.3607205810484, 355.2679189011994, 82.4356576634093, 76.54809167749663, 109.91936417086545, 72.62298147533755, 70.6604612073414, 70.66046120734141, 68.69804543442429, 60.8480533738496, 59.86658549884297, 56.922688396640986, 56.92282943631894, 60.84778964998292, 53.97888376134193, 890.3368767164578, 163.90915137470807, 102.08370848777277, 82.43659424183649, 253.20445210544494, 253.33397927623201, 219.93541813309923, 101.09685564007873, 543.7082222331235, 460.2746369935171, 579.9619779281267, 309.1427710330123, 1054.4616977579149, 171.74037534308042, 368.02785574454794, 589.8607074725779, 256.7056647496537, 741.9939971964134, 307.7438308759915, 630.7295796103195, 526.8560810235446, 239.6420631136417, 329.80649551412256, 784.1406868561644, 1057.6444295549181, 1908.2604186799017, 2573.7164475422965, 2036.6604669184085, 1818.6908996180941, 5198.6264065234855, 5484.328362816958, 3068.0654691760215, 4321.260210608783, 4936.551968349761, 1858.0469080934402, 2821.3922841547196, 3049.020318731435, 3698.3065650933477, 3063.1174343344496, 2804.034541261051, 3232.6176485244446, 2326.4056678044126, 2423.13036807471, 1678.9108584882651, 2947.194793911513, 5023.647438315551, 3888.5143102561083, 3023.2648445020377, 2687.5333687259217, 3192.0991330256215, 1658.629542290803, 3402.1093304275605, 3710.105240028568, 2486.6757260690656, 3521.551289509077, 3678.8678305364842, 3200.7214160455715, 449.6736745590703, 343.63971271528703, 269.02223258187024, 262.1496393442397, 230.73196943454542, 221.89583221203435, 219.93225789298668, 217.9685545324663, 196.368940722443, 184.58733109511834, 181.6420160531662, 281.78688607989994, 157.0968755931082, 142.36984713242055, 139.42449659720486, 139.42467574198744, 454.6141510873809, 130.58829005542822, 118.80669922122549, 116.84305783315354, 146.29716362551426, 108.98861523249579, 108.00685379858379, 106.04327212398155, 103.09786448959831, 101.13421560283159, 101.13426052048537, 100.15240097075448, 99.1706486082108, 98.18879948317883, 486.0349138963851, 487.11737684117605, 293.65181310130527, 209.19833822152066, 231.71152359730627, 180.661060240422, 308.50416486697617, 299.4649316410675, 541.693936215012, 1025.032182016772, 1219.6782725144078, 373.37118285171204, 861.252796607741, 178.72959886776147, 772.6800559930107, 1057.92352565366, 218.1270415296228, 1929.827563714672, 367.34194249568145, 617.7982960549684, 1745.1206660074781, 802.4670222944037, 1432.4066981998403, 462.59723629825675, 1358.3022970065874, 948.7633061278891, 377.8217829085715, 2252.0519756099607, 508.5397176401481, 739.854157787883, 771.7467006580875, 2124.6134391808755, 3927.6442335008364, 3018.3487547515524, 1832.821351831404, 835.619309245954, 3123.4116870157304, 5023.647438315551, 1146.5537314115531, 2818.5342938557533, 5198.6264065234855, 2406.3846885519465, 3063.1174343344496, 5484.328362816958, 1779.500404895808, 3710.105240028568, 2892.852036610848, 2754.2098953848567, 3200.7214160455715, 4936.551968349761, 2111.295885957517, 3402.1093304275605, 3678.8678305364842, 2997.421406534304, 3888.5143102561083, 499.2185581348897, 442.42141695794976, 297.9349617650938, 241.13687613947047, 156.43792854535707, 142.48748701032756, 139.4981347565952, 117.57601656282667, 116.57934672088705, 107.61142255034194, 107.61160140821154, 104.62211240818917, 101.63271953982775, 179.34746165097744, 102.62921770803979, 98.64334976271823, 114.5847558685208, 96.65038476224139, 92.66460710108626, 91.66812999082708, 90.67165010013842, 86.68584067690996, 81.70356568903414, 80.70710472329866, 80.70710472329866, 78.71420357693596, 78.71414824150737, 390.55520211357754, 68.7495959873129, 65.76023552703973, 188.3533955853732, 155.4192918372851, 864.3181515249767, 187.28432537196193, 1199.7045572578643, 135.49146535044142, 395.49566948732115, 424.2271006674671, 161.436291118419, 277.91368377144033, 510.66814605265245, 241.97573919428382, 222.0702949808514, 286.72303872248443, 412.96084627417133, 431.619250311371, 311.4252943237984, 406.96312961819837, 216.9729536874333, 660.4259362958056, 255.91991430621343, 2167.324095113693, 657.667428273483, 1226.8154017174925, 943.7695364217293, 3732.9552525345484, 813.523934974743, 440.90077569136355, 3521.551289509077, 1127.7838869011307, 869.8444653154435, 2059.896757664484, 2651.417399032902, 4321.260210608783, 1659.579705833436, 4936.551968349761, 3023.2648445020377, 1781.1228734419012, 3297.064768918075, 2245.615004683451, 2556.068669981648, 1604.7115347606994, 3192.0991330256215, 5023.647438315551, 5484.328362816958, 3678.8678305364842, 3101.3733964462444, 3888.5143102561083, 2947.194793911513, 3277.502782259793, 3232.6176485244446, 2821.3922841547196, 1843.2728581116305, 1721.610298126809, 2062.3874562090127, 2410.5462324186346, 3698.3065650933477, 2575.5009990170797, 2997.421406534304, 3710.105240028568, 3200.7214160455715, 400.19419929978983, 201.09817339645772, 170.7789120428204, 129.34240245050523, 136.4124762883126, 113.17209682894779, 102.05490456627939, 85.88465677899734, 83.86338575703026, 81.84209693212432, 79.8207935291268, 72.74625781668449, 63.65040816912385, 62.63977720784079, 62.639763598414824, 58.597209612601134, 55.56483300943133, 52.53332420725428, 67.68562312118478, 56.57474795326148, 49.50133674937462, 47.480077787283314, 43.43754283105408, 43.43739429874576, 42.42675646402407, 96.98658478104211, 41.41622835224103, 48.48814440755534, 38.38433467233483, 84.84479330898607, 302.99484214920165, 98.98304650900873, 83.80203681734442, 98.95540381782197, 92.81427866821375, 193.55571598377654, 195.57094763748125, 189.2152175907573, 333.72648772603384, 190.10439065953207, 144.96597596047727, 783.9397780864659, 184.2749145108887, 168.00201332466202, 368.67793623261093, 519.9097783690157, 279.1671311786806, 283.11822401684447, 162.92041935928575, 298.64468669462883, 965.4143616064476, 287.0477760957034, 1178.7309482540038, 412.2689174600629, 511.12148340447817, 942.371455887179, 482.2956299085699, 656.3173814817219, 1045.905708416485, 1626.4537257786549, 3732.9552525345484, 2124.6134391808755, 3297.064768918075, 3927.6442335008364, 3888.5143102561083, 1473.4969912119386, 3678.8678305364842, 4936.551968349761, 3402.1093304275605, 2600.7594742992846, 5198.6264065234855, 3192.0991330256215, 5023.647438315551, 3277.502782259793, 4321.260210608783, 3521.551289509077, 3101.3733964462444, 5484.328362816958, 2651.417399032902, 2575.5009990170797, 2947.194793911513, 3710.105240028568, 3698.3065650933477, 3232.6176485244446, 3123.4116870157304, 2997.421406534304, 2687.5333687259217, 261.25291599435195, 211.1646341805202, 188.57584642581222, 177.772472486307, 166.9691215060093, 128.666352125136, 125.71998446606796, 118.84512815486451, 117.8630059573215, 117.8630059573215, 117.8630059573215, 117.8630059573215, 107.05960075771252, 81.52458019855469, 80.54265249369807, 72.68541746471205, 136.53411375405656, 55.989328203155075, 55.00725658057773, 54.02507082988407, 54.02507511379027, 54.025075375494815, 53.04295041084278, 53.04296258325975, 52.06082073305848, 51.07870655379342, 52.06138595513643, 49.11446240343379, 49.114456422072536, 49.11445730189402, 126.74795348635615, 166.0346271587717, 269.2479459081, 163.09976918475982, 141.48422095909234, 200.46089715399563, 116.92579173314392, 150.34561667364946, 201.39569026783218, 326.5505525802408, 153.23828621611045, 71.72294454494508, 102.25376417535027, 154.59764897618274, 143.4470451580932, 366.5170007745087, 535.3556209758664, 227.0074460982315, 375.2870199812122, 868.1227438410265, 334.6934734984563, 697.6483720175211, 511.5336679831261, 227.24951155118208, 751.435434547478, 349.1573424830839, 497.4410464707312, 341.4880196321334, 442.00410681822905, 330.21278844439706, 1178.7309482540038, 602.5641384402724, 1729.834285216259, 514.8976977175286, 861.3290077183491, 2573.7164475422965, 1259.5875984616991, 918.9252767992339, 836.6686618405424, 794.6092768241268, 3732.9552525345484, 2754.2098953848567, 1318.9828523574608, 3297.064768918075, 484.2266672804211, 2212.5857679470255, 3277.502782259793, 2541.7612682872978, 3698.3065650933477, 2575.5009990170797, 3678.8678305364842, 3101.3733964462444, 3710.105240028568, 1908.2604186799017, 2423.13036807471, 3123.4116870157304], \"Category\": [\"Default\", \"Default\", \"Default\", \"Default\", \"Default\", \"Default\", \"Default\", \"Default\", \"Default\", \"Default\", \"Default\", \"Default\", \"Default\", \"Default\", \"Default\", \"Default\", \"Default\", \"Default\", \"Default\", \"Default\", \"Default\", \"Default\", \"Default\", \"Default\", \"Default\", \"Default\", \"Default\", \"Default\", \"Default\", \"Default\", \"Topic1\", \"Topic1\", \"Topic1\", \"Topic1\", \"Topic1\", \"Topic1\", \"Topic1\", \"Topic1\", \"Topic1\", \"Topic1\", \"Topic1\", \"Topic1\", \"Topic1\", \"Topic1\", \"Topic1\", \"Topic1\", \"Topic1\", \"Topic1\", \"Topic1\", \"Topic1\", \"Topic1\", \"Topic1\", \"Topic1\", \"Topic1\", \"Topic1\", \"Topic1\", \"Topic1\", \"Topic1\", \"Topic1\", \"Topic1\", \"Topic1\", \"Topic1\", \"Topic1\", \"Topic1\", \"Topic1\", \"Topic1\", \"Topic1\", \"Topic1\", \"Topic1\", \"Topic1\", \"Topic1\", \"Topic1\", \"Topic1\", \"Topic1\", \"Topic1\", \"Topic1\", \"Topic1\", \"Topic1\", \"Topic1\", \"Topic1\", \"Topic1\", \"Topic1\", \"Topic1\", \"Topic1\", \"Topic1\", \"Topic1\", \"Topic1\", \"Topic1\", \"Topic1\", \"Topic1\", \"Topic1\", \"Topic1\", \"Topic1\", \"Topic1\", \"Topic1\", \"Topic1\", \"Topic1\", \"Topic1\", \"Topic1\", \"Topic1\", \"Topic1\", \"Topic1\", \"Topic1\", \"Topic1\", \"Topic1\", \"Topic1\", \"Topic1\", \"Topic1\", \"Topic1\", \"Topic1\", \"Topic1\", \"Topic1\", \"Topic1\", \"Topic1\", \"Topic1\", \"Topic1\", \"Topic1\", \"Topic2\", \"Topic2\", \"Topic2\", \"Topic2\", \"Topic2\", \"Topic2\", \"Topic2\", \"Topic2\", \"Topic2\", \"Topic2\", \"Topic2\", \"Topic2\", \"Topic2\", \"Topic2\", \"Topic2\", \"Topic2\", \"Topic2\", \"Topic2\", \"Topic2\", \"Topic2\", \"Topic2\", \"Topic2\", \"Topic2\", \"Topic2\", \"Topic2\", \"Topic2\", \"Topic2\", \"Topic2\", \"Topic2\", \"Topic2\", \"Topic2\", \"Topic2\", \"Topic2\", \"Topic2\", \"Topic2\", \"Topic2\", \"Topic2\", \"Topic2\", \"Topic2\", \"Topic2\", \"Topic2\", \"Topic2\", \"Topic2\", \"Topic2\", \"Topic2\", \"Topic2\", \"Topic2\", \"Topic2\", \"Topic2\", \"Topic2\", \"Topic2\", \"Topic2\", \"Topic2\", \"Topic2\", \"Topic2\", \"Topic2\", \"Topic2\", \"Topic2\", \"Topic2\", \"Topic2\", \"Topic2\", \"Topic2\", \"Topic2\", \"Topic2\", \"Topic2\", \"Topic2\", \"Topic2\", \"Topic2\", \"Topic2\", \"Topic2\", \"Topic2\", \"Topic2\", \"Topic2\", \"Topic2\", \"Topic2\", \"Topic2\", \"Topic2\", \"Topic2\", \"Topic2\", \"Topic2\", \"Topic2\", \"Topic2\", \"Topic2\", \"Topic2\", \"Topic2\", \"Topic3\", \"Topic3\", \"Topic3\", \"Topic3\", \"Topic3\", \"Topic3\", \"Topic3\", \"Topic3\", \"Topic3\", \"Topic3\", \"Topic3\", \"Topic3\", \"Topic3\", \"Topic3\", \"Topic3\", \"Topic3\", \"Topic3\", \"Topic3\", \"Topic3\", \"Topic3\", \"Topic3\", \"Topic3\", \"Topic3\", \"Topic3\", \"Topic3\", \"Topic3\", \"Topic3\", \"Topic3\", \"Topic3\", \"Topic3\", \"Topic3\", \"Topic3\", \"Topic3\", \"Topic3\", \"Topic3\", \"Topic3\", \"Topic3\", \"Topic3\", \"Topic3\", \"Topic3\", \"Topic3\", \"Topic3\", \"Topic3\", \"Topic3\", \"Topic3\", \"Topic3\", \"Topic3\", \"Topic3\", \"Topic3\", \"Topic3\", \"Topic3\", \"Topic3\", \"Topic3\", \"Topic3\", \"Topic3\", \"Topic3\", \"Topic3\", \"Topic3\", \"Topic3\", \"Topic3\", \"Topic3\", \"Topic3\", \"Topic3\", \"Topic3\", \"Topic3\", \"Topic3\", \"Topic3\", \"Topic3\", \"Topic3\", \"Topic3\", \"Topic3\", \"Topic3\", \"Topic3\", \"Topic3\", \"Topic3\", \"Topic3\", \"Topic3\", \"Topic3\", \"Topic3\", \"Topic3\", \"Topic3\", \"Topic3\", \"Topic3\", \"Topic3\", \"Topic3\", \"Topic3\", \"Topic3\", \"Topic3\", \"Topic3\", \"Topic3\", \"Topic3\", \"Topic4\", \"Topic4\", \"Topic4\", \"Topic4\", \"Topic4\", \"Topic4\", \"Topic4\", \"Topic4\", \"Topic4\", \"Topic4\", \"Topic4\", \"Topic4\", \"Topic4\", \"Topic4\", \"Topic4\", \"Topic4\", \"Topic4\", \"Topic4\", \"Topic4\", \"Topic4\", \"Topic4\", \"Topic4\", \"Topic4\", \"Topic4\", \"Topic4\", \"Topic4\", \"Topic4\", \"Topic4\", \"Topic4\", \"Topic4\", \"Topic4\", \"Topic4\", \"Topic4\", \"Topic4\", \"Topic4\", \"Topic4\", \"Topic4\", \"Topic4\", \"Topic4\", \"Topic4\", \"Topic4\", \"Topic4\", \"Topic4\", \"Topic4\", \"Topic4\", \"Topic4\", \"Topic4\", \"Topic4\", \"Topic4\", \"Topic4\", \"Topic4\", \"Topic4\", \"Topic4\", \"Topic4\", \"Topic4\", \"Topic4\", \"Topic4\", \"Topic4\", \"Topic4\", \"Topic4\", \"Topic4\", \"Topic4\", \"Topic4\", \"Topic4\", \"Topic4\", \"Topic4\", \"Topic4\", \"Topic4\", \"Topic4\", \"Topic4\", \"Topic4\", \"Topic4\", \"Topic4\", \"Topic4\", \"Topic4\", \"Topic4\", \"Topic4\", \"Topic4\", \"Topic4\", \"Topic4\", \"Topic4\", \"Topic4\", \"Topic4\", \"Topic4\", \"Topic4\", \"Topic4\", \"Topic4\", \"Topic5\", \"Topic5\", \"Topic5\", \"Topic5\", \"Topic5\", \"Topic5\", \"Topic5\", \"Topic5\", \"Topic5\", \"Topic5\", \"Topic5\", \"Topic5\", \"Topic5\", \"Topic5\", \"Topic5\", \"Topic5\", \"Topic5\", \"Topic5\", \"Topic5\", \"Topic5\", \"Topic5\", \"Topic5\", \"Topic5\", \"Topic5\", \"Topic5\", \"Topic5\", \"Topic5\", \"Topic5\", \"Topic5\", \"Topic5\", \"Topic5\", \"Topic5\", \"Topic5\", \"Topic5\", \"Topic5\", \"Topic5\", \"Topic5\", \"Topic5\", \"Topic5\", \"Topic5\", \"Topic5\", \"Topic5\", \"Topic5\", \"Topic5\", \"Topic5\", \"Topic5\", \"Topic5\", \"Topic5\", \"Topic5\", \"Topic5\", \"Topic5\", \"Topic5\", \"Topic5\", \"Topic5\", \"Topic5\", \"Topic5\", \"Topic5\", \"Topic5\", \"Topic5\", \"Topic5\", \"Topic5\", \"Topic5\", \"Topic5\", \"Topic5\", \"Topic5\", \"Topic5\", \"Topic5\", \"Topic5\", \"Topic5\", \"Topic5\", \"Topic5\", \"Topic5\", \"Topic5\", \"Topic5\", \"Topic5\", \"Topic5\", \"Topic5\", \"Topic5\", \"Topic5\", \"Topic5\", \"Topic5\", \"Topic5\", \"Topic5\", \"Topic5\", \"Topic5\", \"Topic5\"], \"logprob\": [30.0, 29.0, 28.0, 27.0, 26.0, 25.0, 24.0, 23.0, 22.0, 21.0, 20.0, 19.0, 18.0, 17.0, 16.0, 15.0, 14.0, 13.0, 12.0, 11.0, 10.0, 9.0, 8.0, 7.0, 6.0, 5.0, 4.0, 3.0, 2.0, 1.0, -6.8121, -7.0105, -6.4997, -7.5301, -7.6325, -7.583, -7.7724, -7.9584, -7.9986, -8.0488, -8.111, -8.1674, -8.121, -8.2911, -8.3021, -8.3359, -6.922, -8.383, -8.4578, -8.096, -8.5109, -8.5386, -8.5386, -8.5672, -8.6902, -8.7066, -8.7576, -8.7577, -8.6911, -8.8114, -6.0208, -7.7051, -8.175, -8.3958, -7.315, -7.3305, -7.4785, -8.2045, -6.641, -6.8031, -6.5906, -7.1726, -6.062, -7.7151, -7.0247, -6.6162, -7.3597, -6.4349, -7.2232, -6.6381, -6.7925, -7.4506, -7.1924, -6.5008, -6.2829, -5.8661, -5.6564, -5.9086, -5.9923, -5.2566, -5.2243, -5.6763, -5.4727, -5.4428, -6.085, -5.8218, -5.7752, -5.6664, -5.7898, -5.8514, -5.7711, -5.9647, -5.9835, -6.1638, -5.9042, -5.6591, -5.7883, -5.9084, -5.9724, -5.9148, -6.1791, -5.9672, -5.9557, -6.0823, -6.0225, -6.0672, -6.073, -6.584, -6.8535, -7.0989, -7.125, -7.2529, -7.2921, -7.3011, -7.31, -7.4148, -7.4769, -7.4931, -7.0543, -7.6389, -7.7379, -7.759, -7.759, -6.5774, -7.8248, -7.92, -7.9367, -7.7123, -8.0068, -8.016, -8.0345, -8.0628, -8.0822, -8.0822, -8.092, -8.102, -8.112, -6.5194, -6.5178, -7.0212, -7.3624, -7.2671, -7.5121, -6.9882, -7.0207, -6.4491, -5.8373, -5.6704, -6.823, -6.0565, -7.5277, -6.1715, -5.8829, -7.3441, -5.3525, -6.8885, -6.4392, -5.5523, -6.2182, -5.7265, -6.702, -5.8093, -6.1382, -6.8719, -5.4658, -6.6419, -6.3538, -6.3465, -5.624, -5.2039, -5.4152, -5.7695, -6.3114, -5.4771, -5.2527, -6.1605, -5.646, -5.3076, -5.7715, -5.6701, -5.4268, -5.9725, -5.668, -5.7897, -5.8508, -5.8019, -5.7167, -6.0, -5.9199, -5.9456, -6.0056, -5.9789, -6.4752, -6.5961, -6.9923, -7.2045, -7.639, -7.7329, -7.7542, -7.9263, -7.935, -8.0155, -8.0155, -8.0438, -8.073, -7.5051, -8.0633, -8.1031, -7.9533, -8.1238, -8.1662, -8.1771, -8.1881, -8.2334, -8.2932, -8.3056, -8.3056, -8.3308, -8.3309, -6.7299, -8.4677, -8.5127, -7.4634, -7.6549, -5.9744, -7.4744, -5.6546, -7.7942, -6.7452, -6.6807, -7.627, -7.102, -6.5232, -7.2469, -7.3295, -7.1059, -6.7824, -6.764, -7.0614, -6.8284, -7.389, -6.5032, -7.2927, -5.6128, -6.5725, -6.1305, -6.3335, -5.3784, -6.4682, -6.9037, -5.4496, -6.2684, -6.4708, -5.9258, -5.8202, -5.5493, -6.126, -5.5084, -5.8112, -6.1029, -5.7771, -5.9915, -5.9503, -6.1879, -5.8847, -5.6858, -5.6539, -5.826, -5.9011, -5.8076, -5.923, -5.892, -5.9284, -5.9786, -6.1325, -6.1631, -6.1135, -6.0722, -5.9609, -6.058, -6.0332, -6.0229, -6.0826, -6.3853, -7.0753, -7.2394, -7.5188, -7.4664, -7.6533, -7.7575, -7.9314, -7.9554, -7.9801, -8.0053, -8.0991, -8.2343, -8.2505, -8.2505, -8.3181, -8.3722, -8.4289, -8.1757, -8.3551, -8.4893, -8.5317, -8.6222, -8.6223, -8.6464, -7.8198, -8.6708, -8.5141, -8.7483, -7.9557, -6.6844, -7.8171, -7.9819, -7.8381, -7.9082, -7.2374, -7.2375, -7.2854, -6.8102, -7.3061, -7.543, -6.1175, -7.3468, -7.425, -6.7744, -6.5063, -7.0304, -7.0206, -7.4659, -7.0162, -6.1796, -7.0873, -6.0894, -6.8599, -6.7168, -6.3395, -6.7757, -6.5865, -6.333, -6.1545, -5.6991, -6.0117, -5.7732, -5.6812, -5.7206, -6.2254, -5.7868, -5.6499, -5.8524, -6.0031, -5.6894, -5.9337, -5.7488, -5.9372, -5.8274, -5.9235, -6.0083, -5.7933, -6.0964, -6.1213, -6.1042, -6.0308, -6.068, -6.1175, -6.1275, -6.1439, -6.1713, -6.5081, -6.7216, -6.8353, -6.8945, -6.9575, -7.2195, -7.2428, -7.2994, -7.3077, -7.3077, -7.3077, -7.3077, -7.406, -7.6795, -7.6919, -7.7954, -7.1653, -8.0598, -8.0777, -8.0959, -8.0959, -8.0959, -8.1145, -8.1145, -8.1335, -8.1528, -8.1342, -8.1927, -8.1927, -8.1927, -7.2476, -6.9833, -6.5142, -7.0068, -7.1491, -6.8092, -7.3439, -7.1197, -6.8433, -6.3918, -7.1134, -7.8283, -7.5017, -7.1326, -7.2122, -6.4777, -6.1762, -6.8829, -6.5067, -5.9017, -6.598, -6.1754, -6.3723, -6.8896, -6.1396, -6.6322, -6.4168, -6.6934, -6.554, -6.7121, -6.0622, -6.4402, -5.9346, -6.5507, -6.3201, -5.8739, -6.1943, -6.3262, -6.3832, -6.4269, -6.0142, -6.1038, -6.3271, -6.0807, -6.6067, -6.29, -6.2252, -6.305, -6.2558, -6.3312, -6.2978, -6.3222, -6.331, -6.3934, -6.3991, -6.4288], \"loglift\": [30.0, 29.0, 28.0, 27.0, 26.0, 25.0, 24.0, 23.0, 22.0, 21.0, 20.0, 19.0, 18.0, 17.0, 16.0, 15.0, 14.0, 13.0, 12.0, 11.0, 10.0, 9.0, 8.0, 7.0, 6.0, 5.0, 4.0, 3.0, 2.0, 1.0, 1.3765, 1.376, 1.3748, 1.3744, 1.3739, 1.3737, 1.3732, 1.3721, 1.3717, 1.3715, 1.371, 1.3707, 1.3702, 1.3696, 1.3695, 1.3692, 1.3688, 1.3687, 1.368, 1.3679, 1.3675, 1.3672, 1.3672, 1.3667, 1.3651, 1.365, 1.3644, 1.3643, 1.3642, 1.3637, 1.3513, 1.3593, 1.3629, 1.3558, 1.3145, 1.2984, 1.2918, 1.3431, 1.2242, 1.2288, 1.2101, 1.2573, 1.1409, 1.3026, 1.2308, 1.1675, 1.2561, 1.1194, 1.2112, 1.0787, 1.1043, 1.2339, 1.1728, 0.9983, 0.917, 0.7436, 0.6542, 0.6361, 0.6655, 0.351, 0.3298, 0.4586, 0.3196, 0.2165, 0.5514, 0.3969, 0.3659, 0.2817, 0.3467, 0.3735, 0.3116, 0.4469, 0.3874, 0.574, 0.2709, -0.0173, 0.1096, 0.2412, 0.2949, 0.1805, 0.5708, 0.0644, -0.0108, 0.2627, -0.0255, -0.1139, 0.0195, 1.4711, 1.4706, 1.47, 1.4698, 1.4695, 1.4693, 1.4693, 1.4693, 1.4689, 1.4686, 1.4685, 1.4682, 1.4679, 1.4673, 1.4672, 1.4671, 1.4668, 1.4668, 1.4662, 1.4661, 1.4657, 1.4656, 1.4655, 1.4654, 1.4652, 1.465, 1.465, 1.465, 1.4648, 1.4648, 1.458, 1.4574, 1.46, 1.458, 1.4511, 1.4549, 1.4437, 1.441, 1.4199, 1.3939, 1.3869, 1.4181, 1.3488, 1.4501, 1.3423, 1.3167, 1.4345, 1.246, 1.3689, 1.2983, 1.1468, 1.2578, 1.17, 1.3248, 1.1404, 1.1703, 1.3573, 0.9783, 1.2902, 1.2034, 1.1685, 0.8784, 0.684, 0.736, 0.8806, 1.1242, 0.6399, 0.3891, 0.9587, 0.5737, 0.3, 0.6063, 0.4664, 0.1272, 0.7071, 0.2768, 0.404, 0.392, 0.2906, -0.0575, 0.5086, 0.1116, 0.0077, 0.1526, -0.081, 1.4754, 1.4753, 1.4745, 1.4738, 1.4721, 1.4715, 1.4714, 1.4703, 1.4701, 1.4697, 1.4696, 1.4695, 1.4693, 1.4692, 1.4692, 1.4691, 1.469, 1.4688, 1.4685, 1.4684, 1.4683, 1.4679, 1.4674, 1.4673, 1.4673, 1.467, 1.467, 1.4662, 1.4655, 1.465, 1.4619, 1.4627, 1.4273, 1.4567, 1.4193, 1.4606, 1.4383, 1.4328, 1.4526, 1.4344, 1.4047, 1.4279, 1.4312, 1.3992, 1.358, 1.3321, 1.3612, 1.3265, 1.3949, 1.1676, 1.3261, 0.8696, 1.1024, 0.921, 0.9803, 0.5603, 0.9941, 1.1711, 0.5475, 0.8673, 0.9246, 0.6075, 0.4606, 0.243, 0.6233, 0.1508, 0.3384, 0.5758, 0.2858, 0.4555, 0.3671, 0.5951, 0.2105, -0.0441, -0.0999, 0.1273, 0.2229, 0.0903, 0.252, 0.1768, 0.1542, 0.2401, 0.5119, 0.5495, 0.4186, 0.3039, -0.0129, 0.2519, 0.125, -0.078, 0.0099, 1.7864, 1.7846, 1.7839, 1.7824, 1.7816, 1.7815, 1.7807, 1.7793, 1.7791, 1.7788, 1.7786, 1.7776, 1.776, 1.7758, 1.7758, 1.7749, 1.7739, 1.7733, 1.7731, 1.773, 1.7724, 1.7717, 1.7702, 1.77, 1.7695, 1.7693, 1.7692, 1.7683, 1.7677, 1.7671, 1.7656, 1.7516, 1.7533, 1.7309, 1.7249, 1.6608, 1.6502, 1.6354, 1.5432, 1.61, 1.6442, 1.3818, 1.6005, 1.6147, 1.4793, 1.4037, 1.5015, 1.4972, 1.6045, 1.4482, 1.1116, 1.4168, 1.0021, 1.2821, 1.2102, 0.9758, 1.2094, 1.0906, 0.878, 0.615, 0.2396, 0.4906, 0.2897, 0.2067, 0.1773, 0.6429, 0.1665, 0.0093, 0.1791, 0.297, -0.0819, 0.1615, -0.1071, 0.1317, -0.035, 0.0735, 0.1158, -0.2393, 0.1844, 0.1886, 0.0709, -0.086, -0.1199, -0.0349, -0.0105, 0.0142, 0.096, 2.0901, 2.0894, 2.0889, 2.0887, 2.0884, 2.087, 2.0868, 2.0865, 2.0864, 2.0864, 2.0864, 2.0864, 2.0843, 2.0833, 2.083, 2.0822, 2.0818, 2.0787, 2.0786, 2.0783, 2.0783, 2.0783, 2.0781, 2.0781, 2.0778, 2.0775, 2.077, 2.0769, 2.0768, 2.0768, 2.0739, 2.0681, 2.0538, 2.0625, 2.0624, 2.0539, 2.0582, 2.031, 2.0151, 1.9832, 2.0183, 2.0626, 2.0345, 1.9903, 1.9855, 1.7819, 1.7046, 1.8558, 1.7293, 1.4956, 1.7525, 1.4406, 1.5539, 1.8481, 1.4021, 1.6759, 1.5374, 1.6369, 1.5184, 1.6518, 1.0293, 1.3223, 0.7733, 1.3691, 1.0851, 0.4366, 0.8308, 1.0143, 1.0511, 1.059, -0.0755, 0.139, 0.652, -0.0178, 1.3744, 0.1718, -0.1564, 0.0181, -0.3078, -0.0213, -0.3444, -0.1981, -0.3862, 0.2164, -0.0282, -0.3118]}, \"token.table\": {\"Topic\": [1, 2, 3, 4, 5, 1, 2, 4, 5, 2, 4, 3, 4, 1, 2, 3, 4, 5, 1, 1, 2, 3, 4, 5, 5, 5, 1, 2, 3, 4, 5, 4, 1, 2, 3, 4, 5, 2, 3, 4, 5, 1, 2, 3, 4, 5, 5, 1, 2, 3, 4, 5, 3, 5, 5, 1, 2, 3, 4, 5, 1, 3, 4, 5, 5, 3, 5, 1, 3, 5, 1, 2, 3, 4, 5, 3, 3, 1, 3, 4, 5, 1, 2, 3, 4, 5, 1, 2, 3, 4, 1, 1, 1, 2, 5, 1, 5, 3, 4, 5, 1, 2, 3, 4, 5, 1, 2, 3, 4, 5, 3, 3, 3, 1, 1, 1, 1, 5, 1, 1, 2, 4, 5, 1, 2, 3, 4, 5, 1, 1, 2, 3, 4, 5, 3, 5, 4, 5, 1, 2, 4, 3, 5, 3, 5, 3, 3, 3, 1, 3, 5, 3, 1, 2, 4, 4, 5, 1, 2, 3, 4, 5, 3, 2, 4, 4, 1, 4, 1, 2, 3, 4, 5, 1, 2, 3, 4, 5, 2, 1, 2, 3, 4, 5, 1, 3, 4, 5, 2, 4, 4, 4, 4, 1, 3, 1, 2, 3, 4, 5, 2, 4, 5, 4, 1, 3, 4, 5, 4, 5, 4, 2, 1, 3, 4, 5, 1, 2, 4, 3, 2, 3, 1, 3, 4, 5, 2, 3, 4, 1, 2, 1, 2, 3, 4, 5, 4, 2, 5, 1, 1, 2, 3, 4, 5, 1, 3, 4, 5, 1, 2, 3, 4, 5, 1, 2, 3, 4, 5, 4, 4, 1, 2, 4, 5, 4, 4, 1, 1, 2, 3, 4, 5, 1, 3, 4, 5, 5, 1, 2, 3, 4, 5, 1, 3, 4, 5, 3, 1, 2, 5, 5, 1, 2, 3, 4, 5, 1, 2, 3, 4, 5, 1, 2, 3, 4, 5, 1, 2, 3, 4, 5, 2, 4, 2, 1, 2, 3, 4, 5, 2, 1, 3, 4, 5, 1, 2, 3, 4, 5, 5, 1, 2, 3, 4, 5, 2, 1, 1, 2, 3, 4, 5, 1, 2, 3, 5, 3, 1, 2, 3, 4, 5, 1, 2, 4, 5, 3, 1, 2, 3, 4, 5, 1, 3, 4, 5, 2, 3, 4, 1, 2, 3, 4, 5, 1, 2, 3, 4, 5, 1, 3, 5, 1, 2, 3, 4, 5, 1, 2, 3, 4, 5, 1, 3, 5, 3, 5, 1, 1, 2, 3, 4, 5, 2, 4, 5, 1, 2, 3, 4, 5, 3, 4, 1, 2, 3, 4, 5, 1, 2, 3, 4, 5, 1, 1, 2, 3, 4, 5, 2, 3, 4, 2, 1, 2, 3, 4, 5, 5, 3, 5, 1, 2, 3, 4, 5, 1, 2, 3, 4, 5, 1, 3, 3, 1, 2, 3, 4, 5, 2, 2, 4, 1, 2, 3, 4, 5, 1, 2, 3, 4, 5, 1, 3, 4, 3, 5, 1, 2, 3, 4, 5, 1, 2, 3, 4, 5, 1, 3, 4, 5, 1, 4, 5, 5, 5, 1, 3, 4, 5, 5, 1, 2, 3, 4, 5, 1, 2, 3, 4, 5, 1, 2, 3, 4, 5, 5, 1, 2, 3, 4, 5, 3, 5, 2, 1, 2, 3, 4, 5, 1, 2, 3, 4, 5, 1, 2, 3, 4, 5, 1, 2, 3, 4, 5, 3, 5, 1, 2, 3, 4, 5, 1, 2, 3, 4, 5, 1, 2, 3, 4, 5, 1, 2, 4, 5, 2, 5, 1, 2, 3, 4, 5, 2, 2, 2, 1, 3, 5, 1, 3, 4, 5, 1, 2, 3, 4, 2, 4, 5, 3, 4, 5, 2, 2, 1, 1, 2, 3, 5, 2, 5, 1, 1, 2, 3, 4, 5, 1, 2, 3, 4, 5, 1, 1, 2, 3, 4, 5, 1, 2, 3, 4, 5, 1, 2, 3, 4, 5, 1, 2, 3, 4, 5, 4, 4, 1, 3, 5, 1, 2, 3, 4, 5, 5, 4, 5, 5, 3, 5, 3, 5, 1, 3, 4, 5, 2, 1, 2, 3, 4, 5, 1, 2, 3, 4, 5, 2, 4, 3, 4, 1, 2, 3, 1, 1, 2, 3, 4, 5, 1, 2, 4, 5, 1, 2, 3, 4, 5, 1, 2, 3, 4, 5, 1, 2, 3, 4, 5, 1, 3, 4, 5, 1, 2, 5, 2, 3, 1, 3, 4, 5, 3, 5, 2, 4, 4, 1, 2, 3, 4, 5, 1, 2, 3, 4, 5, 1, 2, 3, 4, 5, 1, 2, 3, 4, 5, 3, 1, 2, 3, 4, 5, 1, 2, 3, 4, 5, 2, 1, 1, 2, 3, 4, 5, 1, 2, 3, 4, 5, 1, 2, 3, 4, 5, 5, 3, 5, 3, 5, 3, 1, 2, 3, 4, 5, 5, 3, 1, 3, 1, 1, 2, 3, 4, 5, 4, 1, 2, 3, 4, 5, 1, 5, 1, 2, 3, 4, 5, 3, 3, 1, 2, 3, 4, 5, 4, 1, 2, 3, 4, 5, 3, 4, 2, 5, 1, 5, 1, 3, 4, 5, 1, 2, 3, 4, 5, 4, 1, 2, 3, 4, 5, 1, 2, 3, 4, 5, 5, 5, 2, 4, 2, 2, 2, 3, 4, 4, 1, 2, 4, 5, 3, 5, 3, 5, 1, 3, 5, 1, 3, 5, 1, 2, 3, 4, 5, 1, 2, 3, 4, 5, 4, 4, 1, 2, 3, 4, 5, 1, 2, 3, 4, 5, 1, 3, 4, 5, 2, 3, 4, 5, 1, 5, 1, 3, 5, 3, 1, 2, 3, 4, 5, 1, 2, 3, 4, 5, 1, 2, 3, 4, 5, 3, 1, 2, 3, 4, 5, 1, 2, 3, 4, 5, 1, 2, 3, 4, 5, 1, 2, 3, 4, 5, 1, 2, 3, 4, 5, 1, 1, 2, 3, 4, 5, 5, 1, 2, 3, 4, 5, 5, 4, 5, 5, 1, 2, 3, 4, 5, 1, 2, 3, 2, 1, 2, 3, 4, 5, 1, 1, 4, 1, 3, 4, 5, 3, 1, 2, 3, 4, 5, 2, 1, 2, 4, 5, 1, 3, 5, 1, 2, 3, 4, 5, 1, 2, 3, 4, 5, 1, 3, 4, 5, 1, 2, 3, 4, 5, 1, 2, 3, 4, 5, 1, 2, 3, 4, 5, 1, 2, 3, 4, 5, 1, 2, 3, 2, 1, 2, 4, 5, 1, 2, 4, 1, 2, 3, 4, 5, 1, 2, 3, 4, 5, 2, 1, 2, 3, 4, 5, 3, 5, 1, 2, 3, 4, 5, 1, 1, 2, 3, 4, 5, 4, 1, 2, 4, 5, 1], \"Freq\": [0.026441508703121078, 0.14025495920785963, 0.5759650374027678, 0.1368060667683221, 0.1218608661969928, 0.002057465361867366, 0.9855259083344683, 0.002057465361867366, 0.01028732680933683, 0.28796762116158797, 0.7132221314816074, 0.9912386310260671, 0.9898722583611652, 0.24931907322199773, 0.30241729746495294, 0.21104522630575592, 0.15336492179818023, 0.08382511542923383, 0.991636012655274, 0.14904806833796375, 0.038592803408937046, 0.14239413671573323, 0.16900986320465533, 0.5003756579917354, 0.9773088750462252, 0.9796234343192969, 0.2263918749409577, 0.20503415088992397, 0.2724635368224734, 0.19069396474137273, 0.10556817888082394, 0.9899501145130588, 0.23489664634806573, 0.47873858106199574, 0.14941944640758484, 0.12457142316907294, 0.012589665107512691, 0.840080012059182, 0.06636470230139974, 0.09064447143605818, 0.001618651275643896, 0.024500333228639704, 0.9010678109644158, 0.008166777742879902, 0.010889036990506536, 0.05444518495253268, 0.9926778894674212, 0.20102884695479964, 0.1728848083811277, 0.022113173165027963, 0.03216461551276795, 0.572932213821179, 0.03714048761364817, 0.9619386291934875, 0.9942731104436122, 0.06359532188509953, 0.012113394644780864, 0.7343745503398399, 0.17867257101051776, 0.012113394644780864, 0.24368752894739867, 0.08467109056646903, 0.18173307243534814, 0.48737505789479735, 0.9941958040069439, 0.02409136014847658, 0.9757000860133015, 0.04965349549784902, 0.019861398199139606, 0.9235550162599917, 0.34399366733259706, 0.15343602427784905, 0.26634761472425006, 0.1614790416795105, 0.07455258437693875, 0.9940537196786664, 0.9952853493100204, 0.062148267785720634, 0.19421333683037698, 0.25830373798440137, 0.48553334207594245, 0.4757788623776628, 0.1620299531317118, 0.16350295270563645, 0.11685796619802245, 0.08199697628180568, 0.8842812262104793, 0.02337307205842677, 0.027268584068164563, 0.0662237041655425, 0.997378709712952, 0.9958230943579278, 0.9258160737239024, 0.02329097040814849, 0.04658194081629698, 0.98257334312451, 0.01213053510030259, 0.9608196228610845, 0.010113890766958783, 0.025284726917396957, 0.15918246873082545, 0.08166752743581479, 0.5449115813655213, 0.17440861791377396, 0.04014166602777337, 0.44615146488826846, 0.19594490011984764, 0.18509256719013298, 0.14831521670610004, 0.024116295399365863, 0.999047476135203, 0.9937744503670415, 0.9964290937834805, 0.998736250560898, 0.9857585138483305, 0.99142170339634, 0.9982450501006231, 0.9932625450379781, 0.9928800286325307, 0.9726655411531289, 0.004492681483386276, 0.01235487407931226, 0.010108533337619121, 0.047885278923692945, 0.8774653813584815, 0.003882590183002131, 0.04270849201302344, 0.027178131281014914, 0.9971175199984827, 0.1666201722832664, 0.15001963851334688, 0.2908167582656273, 0.30926179578776014, 0.08300266884959766, 0.9924868652247798, 0.00557576890575719, 0.9782568471553966, 0.011786227074161404, 0.03809132700944053, 0.4631905364347969, 0.4982345572834822, 0.9883365985424697, 0.01024183003670953, 0.9510386870270955, 0.047436236214246856, 0.989096721565444, 0.9948967394127735, 0.9927114255424002, 0.011786139999385093, 0.9570345679500695, 0.03064396399840124, 0.992088204122445, 0.01119008833830462, 0.9791327296016541, 0.00559504416915231, 0.09055765137901182, 0.8991081101201888, 0.09310294394124911, 0.04876820873113049, 0.5435438536760543, 0.19861961374133144, 0.11527031154630843, 0.9972006242384494, 0.019802317285141976, 0.9769143194003375, 0.9898082243753684, 0.9893841191329509, 0.00979588236765298, 0.3215038938383685, 0.18667968029324625, 0.30947342555280377, 0.12030468285564759, 0.062226560097748754, 0.06422756896879907, 0.7386170431411894, 0.019547520990504066, 0.15777641942335424, 0.019547520990504066, 0.987892718014314, 0.2686568570343778, 0.2563115747636515, 0.21251521623178904, 0.19987599866890254, 0.06260821723011212, 0.12040449511418108, 0.1806067426712716, 0.17773996897807684, 0.520319425314854, 0.9968181397302088, 0.997352744003373, 0.989786406715369, 0.9896633623757466, 0.9899270814475888, 0.012868415345077515, 0.9844337738984298, 0.447313802399384, 0.09887362343315279, 0.23229345264415413, 0.11376422937188062, 0.1078079869963895, 0.08277804443762456, 0.8622712962252558, 0.048287192588614324, 0.9896994782051259, 0.00977959107974887, 0.00977959107974887, 0.03911836431899548, 0.9388407436558914, 0.9665636191701192, 0.023865768374570846, 0.9899413365623191, 0.9957611589044828, 0.005113233903502084, 0.08181174245603334, 0.8692497635953543, 0.04090587122801667, 0.003692121816933446, 0.9488753069518956, 0.04615152271166807, 0.9950304514720424, 0.9942497366588168, 0.004399335117959366, 0.1412837345208133, 0.05651349380832532, 0.7488037929603104, 0.05651349380832532, 0.006194394042826876, 0.9787142587666464, 0.012388788085653753, 0.996797040652625, 0.0018562328503773278, 0.31276891439596116, 0.2163453371599006, 0.2653674079395784, 0.16874126016310598, 0.036462697274140546, 0.9899327059527715, 0.9881956140789637, 0.9773089940669345, 0.9898389331165091, 0.31224005486359246, 0.5983147420011855, 0.03575933589219914, 0.011338326014599725, 0.04273676728579897, 0.01898676137642116, 0.11392056825852695, 0.7350589047157334, 0.1329073296349481, 0.18541261360784436, 0.08286597256216507, 0.147087101297843, 0.5085899066002881, 0.07665102462000269, 0.06477262650316329, 0.7969623964949212, 0.04508174804620165, 0.07772715180379595, 0.015545430360759189, 0.9970159505013334, 0.9897416329158125, 0.005952309619453852, 0.05952309619453852, 0.8392756563429932, 0.08928464429180778, 0.9954390619222057, 0.98998719984036, 0.9912127136153259, 0.30168236006104965, 0.13376777543724633, 0.28163285741940147, 0.1964224711923968, 0.08615020666333194, 0.05861208589673171, 0.8596439264853984, 0.050797141110500814, 0.03125977914492358, 0.992888827939474, 0.1831789090523568, 0.057243409078861496, 0.42601147598689554, 0.20426858608141102, 0.12955087317847602, 0.04177282599519257, 0.8600287704892587, 0.022115025526866654, 0.07617397681476293, 0.992827821518077, 0.8603559009608813, 0.026071390938208525, 0.11080341148738623, 0.9816886599479426, 0.004984628512911658, 0.8062636619634607, 0.021184671179874548, 0.08847715610418193, 0.07850789907835862, 0.1434896604946348, 0.002928360418257853, 0.08492245212947773, 0.13470457923986123, 0.6325258503436962, 0.017014462353390172, 0.855449357212117, 0.014178718627825144, 0.07467458477321243, 0.03875516424938873, 0.37100768982326665, 0.16094883095781312, 0.20675734438426763, 0.14113974407069765, 0.11967989994298925, 0.9847114549345324, 0.01434045808157086, 0.9911333644934177, 0.1673778596338201, 0.04530528531441747, 0.23785274790069172, 0.19380594273389695, 0.35489140162960353, 0.998138420294231, 0.8448585281463193, 0.029245102897372595, 0.051991294039773504, 0.0747374851821744, 0.7880798342575572, 0.12233730279088434, 0.01043186302868006, 0.0094835118442546, 0.06922963646305857, 0.9803373994877709, 0.3579791765118432, 0.30950483342695095, 0.13695925506525114, 0.15407916194840754, 0.041741795434212775, 0.996955365753041, 0.9855247214849138, 0.4375562298554815, 0.15607786796812992, 0.1883698406511913, 0.1415464802607523, 0.0764243353499119, 0.051679390250639626, 0.0025006156572890143, 0.943565641350388, 0.0016670771048593427, 0.9968618595160679, 0.39862252363488726, 0.21544520696865124, 0.21935646639924702, 0.15156130293558673, 0.014993161150617182, 0.03068983016164218, 0.12889728667889716, 0.8347633803966673, 0.006137966032328436, 0.9943165848272111, 0.4899128269609204, 0.2650257941584328, 0.11711720779200455, 0.08852521340146823, 0.03903906926400151, 0.03732828094924888, 0.1620386741206031, 0.4555747015851511, 0.3452865987805522, 0.9853887847579359, 0.008211573206316132, 0.0061586799047371, 0.683550807890063, 0.08161800691224631, 0.13262926123240026, 0.06121350518418474, 0.03953372209811931, 0.7611186706262574, 0.01518441238157122, 0.17651879393576544, 0.03036882476314244, 0.018980515476964024, 0.05530643241962291, 0.9217738736603818, 0.023044346841509543, 0.18544530762235029, 0.46473718001116265, 0.14217473584380189, 0.13205953724621913, 0.07530203400422708, 0.8448829727605429, 0.06207303473342764, 0.03103651736671382, 0.04310627412043586, 0.018966760612991778, 0.9896044431769541, 0.977123951171819, 0.016018425429046215, 0.9546526698596959, 0.04052770768272294, 0.9951327261104824, 0.0368766040066558, 0.03810582414021099, 0.6170685070447071, 0.1290681140232953, 0.1794661394990582, 0.9724341975394625, 0.025931578601052333, 0.0032414473251315416, 0.11104459134968322, 0.010746250775775797, 0.06447750465465478, 0.7522375543043057, 0.06089542106272951, 0.05052781159081577, 0.9398172955891733, 0.05836455758845204, 0.4384128395597676, 0.099084016371093, 0.3182904361509768, 0.08618952108992337, 0.26530045004522246, 0.14959872055360926, 0.2698200488534886, 0.16903299542915365, 0.14643500138782295, 0.9965901773060662, 0.08258941935725059, 0.8337598525589107, 0.009832073733006022, 0.06095885714463734, 0.013764903226208432, 0.9887846065749833, 0.030308220506498167, 0.9597603160391086, 0.9959628254253179, 0.07799627106365466, 0.7388565677786745, 0.024242084249514285, 0.03689012820578261, 0.12226442491059378, 0.9952042028331693, 0.10105632876517998, 0.8972577069150828, 0.26956503287745265, 0.2668960721558937, 0.258555569901022, 0.1694790058189925, 0.03503010947046105, 0.30692050522616277, 0.3812824177578102, 0.17714239036201368, 0.13356725690397825, 0.0014209282649359388, 0.9837880610388257, 0.9975590688386219, 0.9925925016320245, 0.10587547962242244, 0.18241197091573988, 0.029338988329105017, 0.6658674742518617, 0.016582906446885443, 0.996954084779273, 0.05387102148230516, 0.9373557737921098, 0.21764555296229582, 0.0043529110592459164, 0.3645563012118455, 0.0729112602423691, 0.3395270626211815, 0.24762884244462788, 0.33820048497863564, 0.21836723485671766, 0.15028920903994697, 0.04538535054451379, 0.06626603876917564, 0.9242368565174497, 0.010463058753027731, 0.9912386310260671, 0.9788814825869293, 0.2601785780404364, 0.020361801759686327, 0.1334829226468326, 0.022624224177429254, 0.5633431820179884, 0.5298019023521908, 0.11214402285199686, 0.1210526601813611, 0.08332196090405375, 0.15301894706907984, 0.10708422288809331, 0.3881803079693382, 0.4025219449632793, 0.10230367722344628, 0.8125977009101206, 0.006064161947090452, 0.17889277743916834, 0.9810260159933553, 0.9905700828499086, 0.17209361821448504, 0.19490120617062162, 0.5598226134688068, 0.07256959804225273, 0.9823300576216, 0.22780985368013182, 0.02648951786978277, 0.6081993302902124, 0.06357484288747865, 0.07311106932060045, 0.3504531225794052, 0.26037828254078593, 0.2065886513436348, 0.13164784313336655, 0.051054565204075676, 0.2532254300372677, 0.026535598956001105, 0.4321511829977323, 0.051554877971659294, 0.2365459106934956, 0.9810259382031176, 0.35649955426448365, 0.36531410368311096, 0.1452768330107099, 0.09891883236459573, 0.03427880329466189, 0.950508512819674, 0.04545910278702788, 0.9985018590209203, 0.10236519305185852, 0.7372885423608544, 0.014253381311018274, 0.08552028786610964, 0.059605049118803696, 0.161556821995678, 0.7060631479811112, 0.04427853639881545, 0.06701616319820718, 0.021540909599423733, 0.2810842169507181, 0.21139178987510548, 0.24996693401289846, 0.1995620790061823, 0.05786271620668946, 0.21820997165774078, 0.16579298558337244, 0.29353512201646265, 0.2019024648790484, 0.12075320495650779, 0.0282717038895562, 0.9683058582172999, 0.22416528931691235, 0.20455563279004693, 0.2618465900940263, 0.22493429545522078, 0.08420617214477497, 0.19564087301973443, 0.13155999153436235, 0.4189530357717886, 0.2058355587105891, 0.04757519989065502, 0.020975260452645018, 0.05992931557898576, 0.06292578135793504, 0.7820775683057641, 0.07191517869478291, 0.010520535549238865, 0.12098615881624694, 0.8363825761644897, 0.031561606647716595, 0.9955564483393313, 0.9926778894674212, 0.08629786720232167, 0.039829784862610004, 0.298723386469575, 0.11285105711072835, 0.4630212490278413, 0.9906778712352697, 0.9962001929280728, 0.9964654870766338, 0.8863218734968914, 0.003234751363127341, 0.10998154634632959, 0.19078606948200696, 0.06056700618476411, 0.10296391051409899, 0.6420102655584996, 0.0026467505189926768, 0.8919549249005321, 0.060875261936831564, 0.04234800830388283, 0.9627417056013245, 0.027506905874323556, 0.00916896862477452, 0.8887041067238196, 0.00968614830216697, 0.10170455717275319, 0.9930178395403026, 0.9954950780412354, 0.9960074512033653, 0.10131826244169698, 0.061671985834076425, 0.0484565602982029, 0.78852039030712, 0.9797352000727224, 0.016605681357164788, 0.9941560285608594, 0.36590134140736363, 0.20969784478316744, 0.22610277821858532, 0.16012641548918738, 0.03815930168673285, 0.1576607349792175, 0.17947150859294325, 0.41378153370039694, 0.16264605466235482, 0.0866199294945108, 0.983790498610824, 0.12325445999326819, 0.07602611550986635, 0.09906433233103798, 0.1520522310197327, 0.5506133820260017, 0.23700261567020936, 0.4069491020564822, 0.17739716741782138, 0.15398074131866896, 0.024480809103659348, 0.27739352809682766, 0.3391172189037134, 0.12308430107961331, 0.11836425413555735, 0.14160140832167903, 0.8103608088223468, 0.027125047994053453, 0.05764072698736358, 0.032210994492938474, 0.074593881983647, 0.9897048545174212, 0.9945391179944101, 0.06971213655170788, 0.02788485462068315, 0.8992865615170317, 0.20321105193813319, 0.14861703798460485, 0.30390667767464097, 0.2235321571319465, 0.1210167309303211, 0.9926778894674212, 0.9897866217612766, 0.9810259334508994, 0.9796127987055305, 0.027885079352071258, 0.9759777773224941, 0.007324176885209313, 0.9887638795032573, 0.02583235516753786, 0.06716412343559844, 0.8783000756962872, 0.02583235516753786, 0.9927846989903553, 0.19716282414590458, 0.07607913323021318, 0.3996833337305566, 0.21243222764633468, 0.11438658411725715, 0.17685472726049692, 0.10835861067071716, 0.4059237073312358, 0.2402978516428339, 0.06849611658977976, 0.13740966678607164, 0.8561679238209078, 0.010310704333569535, 0.9795169116891058, 0.9399518769159985, 0.05529128687741167, 0.007898755268201668, 0.9925602064719953, 0.6306467290530613, 0.08982224776617814, 0.08320376635182818, 0.04065638583100695, 0.15600706190967784, 0.8570773457977893, 0.03494521366986694, 0.0018392217720982602, 0.10667486278169909, 0.08703173910846976, 0.6096662132445356, 0.18383234689238, 0.07149035712481444, 0.04840030389195512, 0.25115614155753435, 0.12112494770150593, 0.3598123446427088, 0.18970304309132915, 0.07792965385207183, 0.05595717113011612, 0.031975526360066356, 0.03464015355673855, 0.18119464937370935, 0.6954676983314432, 0.027368677520678494, 0.25804753090925436, 0.1309786709918185, 0.5825618500830136, 0.010017867479707902, 0.9683938563717639, 0.020035734959415803, 0.9887850457328328, 0.993270748338547, 0.07160095738559819, 0.03436845954508713, 0.23485114022476206, 0.6587288079475033, 0.025657299005909715, 0.9664249292225993, 0.9981211859620688, 0.9896455490967901, 0.989888858450609, 0.044999086805746435, 0.04108612273568153, 0.2954287872899005, 0.5615103440543142, 0.05673797901594116, 0.20237828237390199, 0.4205478886291351, 0.16747114537306468, 0.17412012384941464, 0.03573825931038105, 0.07040719203656644, 0.05280539402742483, 0.061606293031995635, 0.030803146515997817, 0.7832800114068016, 0.028712312484450477, 0.717071598970635, 0.022822607359434994, 0.1774273668910914, 0.05374355926576628, 0.9951009008498015, 0.11642885982218107, 0.033958417448136144, 0.1115776573295902, 0.6015491090812689, 0.13340806854624915, 0.07003607716223266, 0.16447866606281913, 0.11778794795466402, 0.4435618220274735, 0.20480246806531674, 0.9884935262701191, 0.9818654315700581, 0.1585541063176735, 0.24389209626235403, 0.3471704590931322, 0.21770884934750886, 0.032486621172122705, 0.393740443756953, 0.1667808866568753, 0.2613473687819077, 0.1461481996477773, 0.03137887815966983, 0.22351547042366793, 0.12369302732183565, 0.38084432096459925, 0.22622803681230466, 0.04611362860682469, 0.9803376244578283, 0.8641875906390113, 0.1343776950591492, 0.9301539633353695, 0.06853766045629038, 0.990927320469552, 0.2187245780156605, 0.16733027826334684, 0.09920295068469848, 0.16135419689679872, 0.35258880062633796, 0.9901027021377512, 0.9938690197383186, 0.9908015367351304, 0.008444331278992589, 0.9909324097446096, 0.3112015317366904, 0.14242092855712002, 0.2757930135871302, 0.14478149643375737, 0.125503525441219, 0.9898347033755063, 0.30663108515100757, 0.5532454098632058, 0.037101270089445755, 0.07638496783121185, 0.026734738740924146, 0.9928399040983832, 0.9926778894674212, 0.28577895969565154, 0.07144473992391288, 0.3955599015299567, 0.13069159742179187, 0.1167511603634674, 0.9913888006832906, 0.9943182374523866, 0.24563038527278858, 0.12835252502115657, 0.3947124110163886, 0.18003429394560458, 0.05139780316112686, 0.9899304664608212, 0.01339149947730647, 0.9454398630978368, 0.024104699059151646, 0.016069799372767764, 0.002678299895461294, 0.9875054252244341, 0.010618337905639076, 0.996827620219516, 0.9773089765597177, 0.8640650294164886, 0.1358592813547938, 0.0034837406288303527, 0.1393496251532141, 0.6897806445084098, 0.16721955018385692, 0.042315034098829904, 0.025004338331126762, 0.030774570253694476, 0.6808873668629903, 0.22311563433928497, 0.9897815554081654, 0.3208451954727006, 0.14653033154062511, 0.32018365898718987, 0.1395841984427625, 0.07309978164893487, 0.24568979987713277, 0.2159566393824479, 0.3294121202174296, 0.16353238272076673, 0.045382192333992676, 0.9935653738139214, 0.9948210848125395, 0.9875641390981453, 0.010216180749291159, 0.9893512392809157, 0.9909291880588916, 0.02878591615726018, 0.9571317122289009, 0.010794718558972566, 0.9897107116790677, 0.005805496388161232, 0.8835965502781394, 0.08824354510005072, 0.02206088627501268, 0.024524866098791287, 0.9687322109022558, 0.03491952844360736, 0.9627812842308886, 0.9693674385768828, 0.009891504475274314, 0.019783008950548627, 0.918451433219159, 0.036374314186897384, 0.045467892733621736, 0.17111465677938908, 0.12949217269791605, 0.23875119341178272, 0.19308207893349982, 0.26707760618945187, 0.03497208317033412, 0.044095235301725634, 0.6872774605648272, 0.10795730022146621, 0.12468307912901731, 0.9897170462377414, 0.9898704763350227, 0.08472129408604197, 0.55162975927134, 0.06965973069296784, 0.2729908364994686, 0.021180323521510492, 0.33822835860487543, 0.15999801342144823, 0.25897352870076273, 0.1841837596363183, 0.058417879318993886, 0.8637882569965926, 0.004172890130418321, 0.02503734078250993, 0.10432225326045803, 0.08348711705147176, 0.889458900894526, 0.003211042963518144, 0.019266257781108867, 0.7722434442395105, 0.2277646458577265, 0.01995402371132646, 0.0332567061855441, 0.9378391144323436, 0.9934780219420186, 0.10830196655248944, 0.7214400840718741, 0.09970657238165695, 0.038392760629718484, 0.03208947157110798, 0.06731495967691578, 0.9238734320875253, 0.0019511582515048052, 0.0009755791257524026, 0.004877895628762013, 0.24024885717063796, 0.14445103971170226, 0.3616933344217297, 0.20102455395910523, 0.05242478986926009, 0.9909266238559107, 0.33048375425070176, 0.17915341092851184, 0.2938387383789607, 0.17949271663102795, 0.017304590828322166, 0.3468895477110876, 0.1564358467329521, 0.2911187798669434, 0.16152695417100676, 0.044200069121292686, 0.33393662160314386, 0.20171394308983429, 0.2252382233161286, 0.14844632004868502, 0.09058199857251271, 0.21478436038055068, 0.03831288590571985, 0.2693511978826365, 0.1126166646319644, 0.36455291437563736, 0.22479742086287446, 0.23104934429678756, 0.2593189111283945, 0.1976151450632524, 0.08725510531678683, 0.9947151793804069, 0.2243460750105778, 0.3432598651548594, 0.21604976407027907, 0.14760519881281467, 0.06879024487997686, 0.9969463404952088, 0.07711485639072782, 0.006804252034475984, 0.7371273037348983, 0.09525952848266378, 0.08391910842520381, 0.9956547125913068, 0.015779347476527823, 0.9783195435447251, 0.9944847100697526, 0.32774679523186206, 0.2420902708338417, 0.16608518580461232, 0.1512058834443928, 0.11300226927626165, 0.0035487811867740806, 0.9936587322967426, 0.9884392821749075, 0.995614568278196, 0.17236795385527268, 0.4542162919908515, 0.14130607738504627, 0.20546667468420243, 0.02647897666314381, 0.9906530300530675, 0.986062769031588, 0.9898478876921968, 0.9236818553457825, 0.027631508493249905, 0.007894716712357116, 0.039473583561785576, 0.9965787381014571, 0.03243882560822322, 0.7636640195269216, 0.10137133002569756, 0.06758088668379837, 0.03514206107557515, 0.9974022088253242, 0.09943855343385964, 0.8625213656545652, 0.015131953783413424, 0.023778784516792523, 0.05873205856209713, 0.013051568569354917, 0.9266613684241991, 0.2568171025067108, 0.306493403356549, 0.23057301903887173, 0.14371759994292818, 0.0621734834535711, 0.07471669005190698, 0.0018679172512976745, 0.21667840115053025, 0.028018758769465118, 0.6780539622210559, 0.03798672227622374, 0.09225346838511479, 0.8302812154660331, 0.04341339688711284, 0.1254879563709022, 0.05975616970042963, 0.03585370182025777, 0.06871959515549407, 0.7110984194351125, 0.7404123971615922, 0.030123844852398825, 0.06341862074189226, 0.05707675866770304, 0.10781165526121685, 0.24763222670318394, 0.1783081007380999, 0.28535744873999713, 0.18765879679850658, 0.10124546768854135, 0.36339541366552475, 0.18333757783305807, 0.23253370784192876, 0.14037295762531102, 0.08068165321454791, 0.9822514402014226, 0.006100940622369085, 0.01220188124473817, 0.9932099854089594, 0.059031960823217405, 0.9174550577941705, 0.009018771792435992, 0.014757990205804351, 0.017262844496899684, 0.9796664251990571, 0.9896432348450755, 0.0994444639586403, 0.16302371140760705, 0.5730283455977387, 0.11411659798532493, 0.04972223197932015, 0.2122678873092982, 0.43478098184921105, 0.0973294686908396, 0.16552412931961866, 0.09028588871979198, 0.9901618263649786, 0.15163693278122398, 0.08891799199736694, 0.36758062763197225, 0.10876575806820776, 0.28263218884877345, 0.9816116436264278, 0.014761077347765833, 0.3746377297252282, 0.11022926579427243, 0.2902822144228589, 0.15772354751913578, 0.06698820332835205, 0.9860670427823313, 0.4845133585678369, 0.08470241553150637, 0.10995772291475367, 0.12977342563084002, 0.19077470654114506, 0.9898409100516665, 0.15006125195768888, 0.09276513757384404, 0.021827091193845655, 0.7312075549938295, 0.9906530300530677], \"Term\": [\"accept\", \"accept\", \"accept\", \"accept\", \"accept\", \"advancen\", \"advancen\", \"advancen\", \"advancen\", \"algorithm\", \"algorithm\", \"alink\", \"allerg\", \"also\", \"also\", \"also\", \"also\", \"also\", \"ama\", \"american\", \"american\", \"american\", \"american\", \"american\", \"americanoccupi\", \"anatolia\", \"andn\", \"andn\", \"andn\", \"andn\", \"andn\", \"antibiot\", \"anyon\", \"anyon\", \"anyon\", \"anyon\", \"anyon\", \"applic\", \"applic\", \"applic\", \"applic\", \"appreciatedn\", \"appreciatedn\", \"appreciatedn\", \"appreciatedn\", \"appreciatedn\", \"appressian\", \"april\", \"april\", \"april\", \"april\", \"april\", \"arab\", \"arab\", \"argicn\", \"argument\", \"argument\", \"argument\", \"argument\", \"argument\", \"arm\", \"arm\", \"arm\", \"arm\", \"armenia\", \"armenian\", \"armenian\", \"armi\", \"armi\", \"armi\", \"articl\", \"articl\", \"articl\", \"articl\", \"articl\", \"atheism\", \"atheist\", \"attack\", \"attack\", \"attack\", \"attack\", \"back\", \"back\", \"back\", \"back\", \"back\", \"ball\", \"ball\", \"ball\", \"ball\", \"basebal\", \"baseballn\", \"bat\", \"bat\", \"bat\", \"batter\", \"batter\", \"belief\", \"belief\", \"belief\", \"believ\", \"believ\", \"believ\", \"believ\", \"believ\", \"better\", \"better\", \"better\", \"better\", \"better\", \"bibl\", \"biblen\", \"biblic\", \"bike\", \"biken\", \"biker\", \"bmw\", \"bosnian\", \"brake\", \"car\", \"car\", \"car\", \"car\", \"card\", \"card\", \"card\", \"card\", \"card\", \"carn\", \"case\", \"case\", \"case\", \"case\", \"case\", \"cathol\", \"cathol\", \"chastiti\", \"chastiti\", \"chip\", \"chip\", \"chip\", \"christ\", \"christ\", \"christian\", \"christian\", \"christianityn\", \"christiann\", \"christn\", \"church\", \"church\", \"church\", \"churchn\", \"circuit\", \"circuit\", \"circuit\", \"civilian\", \"civilian\", \"claim\", \"claim\", \"claim\", \"claim\", \"claim\", \"clhn\", \"clipper\", \"clipper\", \"clippern\", \"clutch\", \"clutch\", \"come\", \"come\", \"come\", \"come\", \"come\", \"comput\", \"comput\", \"comput\", \"comput\", \"comput\", \"connector\", \"could\", \"could\", \"could\", \"could\", \"could\", \"countri\", \"countri\", \"countri\", \"countri\", \"cpu\", \"crypto\", \"cryptograph\", \"cryptographi\", \"cryptosystem\", \"cult\", \"cult\", \"day\", \"day\", \"day\", \"day\", \"day\", \"de\", \"de\", \"de\", \"decrypt\", \"democrat\", \"democrat\", \"democrat\", \"democrat\", \"diagnos\", \"diagnos\", \"diagnosi\", \"directori\", \"diseas\", \"diseas\", \"diseas\", \"diseas\", \"disk\", \"disk\", \"disk\", \"divin\", \"do\", \"do\", \"doctor\", \"doctor\", \"doctor\", \"doctor\", \"doctrin\", \"doctrin\", \"doctrin\", \"dod\", \"dod\", \"dont\", \"dont\", \"dont\", \"dont\", \"dont\", \"dorothi\", \"download\", \"dpaorg\", \"drain\", \"drive\", \"drive\", \"drive\", \"drive\", \"drive\", \"drug\", \"drug\", \"drug\", \"drug\", \"effect\", \"effect\", \"effect\", \"effect\", \"effect\", \"email\", \"email\", \"email\", \"email\", \"email\", \"encrypt\", \"encryptionn\", \"ensur\", \"ensur\", \"ensur\", \"ensur\", \"escrow\", \"escrown\", \"espn\", \"even\", \"even\", \"even\", \"even\", \"even\", \"evil\", \"evil\", \"evil\", \"evil\", \"exterminationn\", \"fact\", \"fact\", \"fact\", \"fact\", \"fact\", \"faith\", \"faith\", \"faith\", \"faith\", \"faithn\", \"fan\", \"fan\", \"fan\", \"fascist\", \"fax\", \"fax\", \"fax\", \"fax\", \"fax\", \"fight\", \"fight\", \"fight\", \"fight\", \"fight\", \"file\", \"file\", \"file\", \"file\", \"file\", \"first\", \"first\", \"first\", \"first\", \"first\", \"floppi\", \"floppi\", \"font\", \"forc\", \"forc\", \"forc\", \"forc\", \"forc\", \"ftp\", \"ga\", \"ga\", \"ga\", \"ga\", \"game\", \"game\", \"game\", \"game\", \"game\", \"gaza\", \"get\", \"get\", \"get\", \"get\", \"get\", \"gif\", \"glove\", \"go\", \"go\", \"go\", \"go\", \"go\", \"god\", \"god\", \"god\", \"god\", \"godn\", \"good\", \"good\", \"good\", \"good\", \"good\", \"gordon\", \"gordon\", \"gordon\", \"gordon\", \"gospel\", \"got\", \"got\", \"got\", \"got\", \"got\", \"govern\", \"govern\", \"govern\", \"govern\", \"graphic\", \"graphic\", \"graphic\", \"guy\", \"guy\", \"guy\", \"guy\", \"guy\", \"he\", \"he\", \"he\", \"he\", \"he\", \"heaven\", \"heaven\", \"heaven\", \"help\", \"help\", \"help\", \"help\", \"help\", \"hit\", \"hit\", \"hit\", \"hit\", \"hit\", \"hitter\", \"holi\", \"holi\", \"homosexu\", \"homosexu\", \"honda\", \"human\", \"human\", \"human\", \"human\", \"human\", \"ibm\", \"ibm\", \"ibm\", \"illeg\", \"illeg\", \"illeg\", \"illeg\", \"illeg\", \"infect\", \"infect\", \"inform\", \"inform\", \"inform\", \"inform\", \"inform\", \"inn\", \"inn\", \"inn\", \"inn\", \"inn\", \"inning\", \"instal\", \"instal\", \"instal\", \"instal\", \"instal\", \"intel\", \"intellect\", \"intellect\", \"interfac\", \"internet\", \"internet\", \"internet\", \"internet\", \"internet\", \"isra\", \"israel\", \"israel\", \"itn\", \"itn\", \"itn\", \"itn\", \"itn\", \"ive\", \"ive\", \"ive\", \"ive\", \"ive\", \"jacket\", \"jesu\", \"kentn\", \"key\", \"key\", \"key\", \"key\", \"key\", \"keyboard\", \"keysn\", \"keysn\", \"kill\", \"kill\", \"kill\", \"kill\", \"kill\", \"know\", \"know\", \"know\", \"know\", \"know\", \"koresh\", \"koresh\", \"koresh\", \"ksand\", \"kurd\", \"land\", \"land\", \"land\", \"land\", \"land\", \"last\", \"last\", \"last\", \"last\", \"last\", \"law\", \"law\", \"law\", \"law\", \"leagu\", \"leagu\", \"leagu\", \"lebanes\", \"lebanon\", \"legal\", \"legal\", \"legal\", \"legal\", \"lemieux\", \"life\", \"life\", \"life\", \"life\", \"life\", \"like\", \"like\", \"like\", \"like\", \"like\", \"live\", \"live\", \"live\", \"live\", \"live\", \"livni\", \"look\", \"look\", \"look\", \"look\", \"look\", \"lord\", \"lord\", \"mac\", \"machin\", \"machin\", \"machin\", \"machin\", \"machin\", \"mail\", \"mail\", \"mail\", \"mail\", \"mail\", \"make\", \"make\", \"make\", \"make\", \"make\", \"mani\", \"mani\", \"mani\", \"mani\", \"mani\", \"massacr\", \"massacr\", \"may\", \"may\", \"may\", \"may\", \"may\", \"mean\", \"mean\", \"mean\", \"mean\", \"mean\", \"medic\", \"medic\", \"medic\", \"medic\", \"medic\", \"medicin\", \"medicin\", \"medicin\", \"medicin\", \"meg\", \"melkonian\", \"member\", \"member\", \"member\", \"member\", \"member\", \"menu\", \"mhz\", \"microsoft\", \"mile\", \"mile\", \"mile\", \"militari\", \"militari\", \"militari\", \"militari\", \"mode\", \"mode\", \"mode\", \"mode\", \"modem\", \"modem\", \"modem\", \"moral\", \"moral\", \"moral\", \"motherboard\", \"motif\", \"motorcycl\", \"mountain\", \"mountain\", \"mountain\", \"mountain\", \"mous\", \"mous\", \"mph\", \"much\", \"much\", \"much\", \"much\", \"much\", \"must\", \"must\", \"must\", \"must\", \"must\", \"mustang\", \"nation\", \"nation\", \"nation\", \"nation\", \"nation\", \"need\", \"need\", \"need\", \"need\", \"need\", \"new\", \"new\", \"new\", \"new\", \"new\", \"night\", \"night\", \"night\", \"night\", \"night\", \"njxp\", \"nsa\", \"occupi\", \"occupi\", \"occupi\", \"ofn\", \"ofn\", \"ofn\", \"ofn\", \"ofn\", \"ohanu\", \"omiss\", \"onycom\", \"ottoman\", \"palestin\", \"palestin\", \"palestinian\", \"palestinian\", \"patient\", \"patient\", \"patient\", \"patient\", \"pc\", \"peopl\", \"peopl\", \"peopl\", \"peopl\", \"peopl\", \"person\", \"person\", \"person\", \"person\", \"person\", \"pgp\", \"pgp\", \"physician\", \"physician\", \"pitch\", \"pitch\", \"pitch\", \"pitcher\", \"play\", \"play\", \"play\", \"play\", \"play\", \"player\", \"player\", \"player\", \"player\", \"pleas\", \"pleas\", \"pleas\", \"pleas\", \"pleas\", \"point\", \"point\", \"point\", \"point\", \"point\", \"polici\", \"polici\", \"polici\", \"polici\", \"polici\", \"polit\", \"polit\", \"polit\", \"polit\", \"port\", \"port\", \"port\", \"postscript\", \"pplecom\", \"presid\", \"presid\", \"presid\", \"presid\", \"presidentn\", \"presidentn\", \"printer\", \"privaci\", \"privacyn\", \"privat\", \"privat\", \"privat\", \"privat\", \"privat\", \"problem\", \"problem\", \"problem\", \"problem\", \"problem\", \"proceed\", \"proceed\", \"proceed\", \"proceed\", \"proceed\", \"program\", \"program\", \"program\", \"program\", \"program\", \"prophet\", \"propos\", \"propos\", \"propos\", \"propos\", \"propos\", \"public\", \"public\", \"public\", \"public\", \"public\", \"quadra\", \"rbi\", \"read\", \"read\", \"read\", \"read\", \"read\", \"realli\", \"realli\", \"realli\", \"realli\", \"realli\", \"reason\", \"reason\", \"reason\", \"reason\", \"reason\", \"refuge\", \"religi\", \"religi\", \"religion\", \"religion\", \"repent\", \"report\", \"report\", \"report\", \"report\", \"report\", \"republ\", \"revel\", \"ride\", \"ride\", \"rider\", \"right\", \"right\", \"right\", \"right\", \"right\", \"rsa\", \"run\", \"run\", \"run\", \"run\", \"run\", \"runner\", \"sahak\", \"said\", \"said\", \"said\", \"said\", \"said\", \"salvat\", \"satan\", \"say\", \"say\", \"say\", \"say\", \"say\", \"scicrypt\", \"screen\", \"screen\", \"screen\", \"screen\", \"screen\", \"scriptur\", \"scriptur\", \"scsi\", \"sdpa\", \"season\", \"season\", \"secret\", \"secret\", \"secret\", \"secret\", \"secur\", \"secur\", \"secur\", \"secur\", \"secur\", \"securen\", \"see\", \"see\", \"see\", \"see\", \"see\", \"seem\", \"seem\", \"seem\", \"seem\", \"seem\", \"serb\", \"serdar\", \"server\", \"server\", \"sharewar\", \"simm\", \"sin\", \"sin\", \"sin\", \"slpittedu\", \"softwar\", \"softwar\", \"softwar\", \"softwar\", \"soldier\", \"soldier\", \"soviet\", \"soviet\", \"spencer\", \"spencer\", \"spencer\", \"sport\", \"sport\", \"sport\", \"state\", \"state\", \"state\", \"state\", \"state\", \"statement\", \"statement\", \"statement\", \"statement\", \"statement\", \"sternlight\", \"syndrom\", \"system\", \"system\", \"system\", \"system\", \"system\", \"take\", \"take\", \"take\", \"take\", \"take\", \"tank\", \"tank\", \"tank\", \"tank\", \"teach\", \"teach\", \"teach\", \"teach\", \"team\", \"team\", \"territori\", \"territori\", \"territori\", \"testament\", \"thank\", \"thank\", \"thank\", \"thank\", \"thank\", \"thanksn\", \"thanksn\", \"thanksn\", \"thanksn\", \"thanksn\", \"thatn\", \"thatn\", \"thatn\", \"thatn\", \"thatn\", \"theist\", \"thing\", \"thing\", \"thing\", \"thing\", \"thing\", \"think\", \"think\", \"think\", \"think\", \"think\", \"time\", \"time\", \"time\", \"time\", \"time\", \"today\", \"today\", \"today\", \"today\", \"today\", \"ton\", \"ton\", \"ton\", \"ton\", \"ton\", \"toyota\", \"tri\", \"tri\", \"tri\", \"tri\", \"tri\", \"troop\", \"truth\", \"truth\", \"truth\", \"truth\", \"truth\", \"turk\", \"turkey\", \"turkey\", \"turkish\", \"two\", \"two\", \"two\", \"two\", \"two\", \"unix\", \"unix\", \"unto\", \"upgrad\", \"use\", \"use\", \"use\", \"use\", \"use\", \"utzoohenryn\", \"valv\", \"veal\", \"vehicl\", \"vehicl\", \"vehicl\", \"vehicl\", \"vers\", \"version\", \"version\", \"version\", \"version\", \"version\", \"vga\", \"video\", \"video\", \"video\", \"video\", \"villag\", \"villag\", \"villag\", \"want\", \"want\", \"want\", \"want\", \"want\", \"war\", \"war\", \"war\", \"war\", \"war\", \"warrant\", \"warrant\", \"warrant\", \"warrant\", \"washington\", \"washington\", \"washington\", \"washington\", \"washington\", \"watch\", \"watch\", \"watch\", \"watch\", \"watch\", \"way\", \"way\", \"way\", \"way\", \"way\", \"well\", \"well\", \"well\", \"well\", \"well\", \"wheel\", \"wheel\", \"wheel\", \"widget\", \"window\", \"window\", \"window\", \"window\", \"windowsn\", \"windowsn\", \"wiretap\", \"word\", \"word\", \"word\", \"word\", \"word\", \"work\", \"work\", \"work\", \"work\", \"work\", \"workstat\", \"world\", \"world\", \"world\", \"world\", \"world\", \"worship\", \"worship\", \"writesn\", \"writesn\", \"writesn\", \"writesn\", \"writesn\", \"yamaha\", \"year\", \"year\", \"year\", \"year\", \"year\", \"yeast\", \"york\", \"york\", \"york\", \"york\", \"zoologyn\"]}, \"R\": 30, \"lambda.step\": 0.01, \"plot.opts\": {\"xlab\": \"PC1\", \"ylab\": \"PC2\"}, \"topic.order\": [2, 4, 1, 5, 3]};\n",
              "\n",
              "function LDAvis_load_lib(url, callback){\n",
              "  var s = document.createElement('script');\n",
              "  s.src = url;\n",
              "  s.async = true;\n",
              "  s.onreadystatechange = s.onload = callback;\n",
              "  s.onerror = function(){console.warn(\"failed to load library \" + url);};\n",
              "  document.getElementsByTagName(\"head\")[0].appendChild(s);\n",
              "}\n",
              "\n",
              "if(typeof(LDAvis) !== \"undefined\"){\n",
              "   // already loaded: just create the visualization\n",
              "   !function(LDAvis){\n",
              "       new LDAvis(\"#\" + \"ldavis_el1371399177247878403122137313\", ldavis_el1371399177247878403122137313_data);\n",
              "   }(LDAvis);\n",
              "}else if(typeof define === \"function\" && define.amd){\n",
              "   // require.js is available: use it to load d3/LDAvis\n",
              "   require.config({paths: {d3: \"https://cdnjs.cloudflare.com/ajax/libs/d3/3.5.5/d3.min\"}});\n",
              "   require([\"d3\"], function(d3){\n",
              "      window.d3 = d3;\n",
              "      LDAvis_load_lib(\"https://cdn.rawgit.com/bmabey/pyLDAvis/files/ldavis.v1.0.0.js\", function(){\n",
              "        new LDAvis(\"#\" + \"ldavis_el1371399177247878403122137313\", ldavis_el1371399177247878403122137313_data);\n",
              "      });\n",
              "    });\n",
              "}else{\n",
              "    // require.js not available: dynamically load d3 & LDAvis\n",
              "    LDAvis_load_lib(\"https://cdnjs.cloudflare.com/ajax/libs/d3/3.5.5/d3.min.js\", function(){\n",
              "         LDAvis_load_lib(\"https://cdn.rawgit.com/bmabey/pyLDAvis/files/ldavis.v1.0.0.js\", function(){\n",
              "                 new LDAvis(\"#\" + \"ldavis_el1371399177247878403122137313\", ldavis_el1371399177247878403122137313_data);\n",
              "            })\n",
              "         });\n",
              "}\n",
              "</script>"
            ],
            "text/plain": [
              "PreparedData(topic_coordinates=                x           y  topics  cluster       Freq\n",
              "topic                                                    \n",
              "1      150.222153  -72.269554       1        1  25.195517\n",
              "3       51.163364 -159.968018       2        1  22.924988\n",
              "0      -73.144554   21.523815       3        1  22.829119\n",
              "4      -66.410133 -110.606438       4        1  16.720852\n",
              "2       54.417324   12.443444       5        1  12.329524, topic_info=            Term         Freq        Total Category  logprob  loglift\n",
              "5351         god  1199.000000  1199.000000  Default  30.0000  30.0000\n",
              "14332     window  1219.000000  1219.000000  Default  29.0000  29.0000\n",
              "4143       email  1929.000000  1929.000000  Default  28.0000  28.0000\n",
              "12888    thanksn  1025.000000  1025.000000  Default  27.0000  27.0000\n",
              "2266   christian   864.000000   864.000000  Default  26.0000  26.0000\n",
              "...          ...          ...          ...      ...      ...      ...\n",
              "14160        way   313.662520  3101.373396   Topic5  -6.3222  -0.1981\n",
              "438         also   310.900853  3710.105240   Topic5  -6.3310  -0.3862\n",
              "7154        last   292.115086  1908.260419   Topic5  -6.3934   0.2164\n",
              "4809       first   290.441220  2423.130368   Topic5  -6.3991  -0.0282\n",
              "14424       work   281.942256  3123.411687   Topic5  -6.4288  -0.3118\n",
              "\n",
              "[466 rows x 6 columns], token_table=       Topic      Freq      Term\n",
              "term                            \n",
              "114        1  0.026442    accept\n",
              "114        2  0.140255    accept\n",
              "114        3  0.575965    accept\n",
              "114        4  0.136806    accept\n",
              "114        5  0.121861    accept\n",
              "...      ...       ...       ...\n",
              "14608      1  0.150061      york\n",
              "14608      2  0.092765      york\n",
              "14608      4  0.021827      york\n",
              "14608      5  0.731208      york\n",
              "14663      1  0.990653  zoologyn\n",
              "\n",
              "[1071 rows x 3 columns], R=30, lambda_step=0.01, plot_opts={'xlab': 'PC1', 'ylab': 'PC2'}, topic_order=[2, 4, 1, 5, 3])"
            ]
          },
          "metadata": {
            "tags": []
          },
          "execution_count": 25
        }
      ]
    },
    {
      "cell_type": "markdown",
      "metadata": {
        "id": "6xKdHYulDhDb",
        "colab_type": "text"
      },
      "source": [
        "# LDA Bigram - binary - lem"
      ]
    },
    {
      "cell_type": "code",
      "metadata": {
        "id": "Cay7efO_DJct",
        "colab_type": "code",
        "colab": {}
      },
      "source": [
        "data_bigram_lem_binary = binary.fit_transform(df.bigram_lem)"
      ],
      "execution_count": 26,
      "outputs": []
    },
    {
      "cell_type": "code",
      "metadata": {
        "id": "zkbxZSFwDJm5",
        "colab_type": "code",
        "colab": {
          "base_uri": "https://localhost:8080/",
          "height": 374
        },
        "outputId": "e4423feb-ca4f-4600-e235-b73042177dfc"
      },
      "source": [
        "# Parametri di ricerca\n",
        "search_params = {'n_components': [5,10, 15, 20, 25, 30], 'learning_decay': [.5, .7, .9]}\n",
        "\n",
        "# Inizializzazione Modello\n",
        "lda = LatentDirichletAllocation()\n",
        "\n",
        "# Inizializzazione GridSearchCV\n",
        "model = GridSearchCV(lda, param_grid=search_params)\n",
        "\n",
        "# Grid Search\n",
        "model.fit(data_bigram_lem_binary) "
      ],
      "execution_count": 27,
      "outputs": [
        {
          "output_type": "execute_result",
          "data": {
            "text/plain": [
              "GridSearchCV(cv=None, error_score=nan,\n",
              "             estimator=LatentDirichletAllocation(batch_size=128,\n",
              "                                                 doc_topic_prior=None,\n",
              "                                                 evaluate_every=-1,\n",
              "                                                 learning_decay=0.7,\n",
              "                                                 learning_method='batch',\n",
              "                                                 learning_offset=10.0,\n",
              "                                                 max_doc_update_iter=100,\n",
              "                                                 max_iter=10,\n",
              "                                                 mean_change_tol=0.001,\n",
              "                                                 n_components=10, n_jobs=None,\n",
              "                                                 perp_tol=0.1,\n",
              "                                                 random_state=None,\n",
              "                                                 topic_word_prior=None,\n",
              "                                                 total_samples=1000000.0,\n",
              "                                                 verbose=0),\n",
              "             iid='deprecated', n_jobs=None,\n",
              "             param_grid={'learning_decay': [0.5, 0.7, 0.9],\n",
              "                         'n_components': [5, 10, 15, 20, 25, 30]},\n",
              "             pre_dispatch='2*n_jobs', refit=True, return_train_score=False,\n",
              "             scoring=None, verbose=0)"
            ]
          },
          "metadata": {
            "tags": []
          },
          "execution_count": 27
        }
      ]
    },
    {
      "cell_type": "code",
      "metadata": {
        "id": "wcmLSOtTDlDA",
        "colab_type": "code",
        "colab": {
          "base_uri": "https://localhost:8080/",
          "height": 68
        },
        "outputId": "529ab35c-bb3c-4c6d-a9cc-067007cb89e9"
      },
      "source": [
        "# Stimato il Miglior modello \n",
        "best_lda_model = model.best_estimator_\n",
        "\n",
        "# Parametri del modello\n",
        "print(\"Best Model Params: \", model.best_params_)\n",
        "\n",
        "# Log Likelihood Score\n",
        "print(\"Best Log Likelihood Score: \", model.best_score_)\n",
        "\n",
        "# Perplessità\n",
        "print(\"Model Perplexity: \", best_lda_model.perplexity(data_bigram_lem_binary))"
      ],
      "execution_count": 28,
      "outputs": [
        {
          "output_type": "stream",
          "text": [
            "Best Model Params:  {'learning_decay': 0.5, 'n_components': 5}\n",
            "Best Log Likelihood Score:  -536707.8851409127\n",
            "Model Perplexity:  8382.29157902907\n"
          ],
          "name": "stdout"
        }
      ]
    },
    {
      "cell_type": "code",
      "metadata": {
        "id": "M3Zhb77kDlVZ",
        "colab_type": "code",
        "colab": {
          "base_uri": "https://localhost:8080/",
          "height": 861
        },
        "outputId": "fd5627d1-2c4e-4c92-8b17-b8c817b86d68"
      },
      "source": [
        "pyLDAvis.enable_notebook()\n",
        "vis = pyLDAvis.sklearn.prepare(best_lda_model, data_bigram_lem_binary, binary, mds='tsne')\n",
        "vis"
      ],
      "execution_count": 29,
      "outputs": [
        {
          "output_type": "execute_result",
          "data": {
            "text/html": [
              "\n",
              "<link rel=\"stylesheet\" type=\"text/css\" href=\"https://cdn.rawgit.com/bmabey/pyLDAvis/files/ldavis.v1.0.0.css\">\n",
              "\n",
              "\n",
              "<div id=\"ldavis_el1371399173467769123183826804\"></div>\n",
              "<script type=\"text/javascript\">\n",
              "\n",
              "var ldavis_el1371399173467769123183826804_data = {\"mdsDat\": {\"x\": [150.22215270996094, 51.16336441040039, -73.1445541381836, -66.4101333618164, 54.41732406616211], \"y\": [-72.2695541381836, -159.968017578125, 21.523815155029297, -110.60643768310547, 12.44344425201416], \"topics\": [1, 2, 3, 4, 5], \"cluster\": [1, 1, 1, 1, 1], \"Freq\": [30.04219721501549, 20.14967942299073, 19.26836552714377, 15.337383054323132, 15.20237478052687]}, \"tinfo\": {\"Term\": [\"anyone know\", \"serdar argicn\", \"longer exists\", \"way escape\", \"argicn closed\", \"today longer\", \"might serve\", \"armenia today\", \"road mountain\", \"exists single\", \"escape turk\", \"sahak melkonian\", \"mountain pass\", \"exterminationn ohanus\", \"serve way\", \"ohanus appressian\", \"appressian soviet\", \"single turkish\", \"work exterminationn\", \"soul sahak\", \"soviet armenia\", \"closed road\", \"pass might\", \"turkish soul\", \"turk proceeded\", \"proceeded work\", \"gordon bank\", \"thanks advancen\", \"new york\", \"bank njxp\", \"henry spencer\", \"source code\", \"spencer toronto\", \"toronto zoologyn\", \"orontoedu utzoohenryn\", \"michael covington\", \"artificial intelligence\", \"university georgia\", \"livesey writesn\", \"pdsgicom jon\", \"michael adam\", \"athens georgia\", \"usa amateur\", \"georgia usa\", \"radio ntmi\", \"intelligence program\", \"research scientist\", \"gaedu university\", \"program gaedu\", \"adam laskaedu\", \"laskaedu high\", \"high jackedn\", \"associate research\", \"phone athens\", \"scientist artificial\", \"georgia phone\", \"covington associate\", \"via ftp\", \"jon livesey\", \"work man\", \"ftp site\", \"anonymous ftp\", \"anyone know\", \"san jose\", \"email address\", \"thank youn\", \"amateur radio\", \"computer science\", \"thanks advancen\", \"public domain\", \"please send\", \"available via\", \"please post\", \"dont know\", \"know much\", \"may also\", \"someone please\", \"pretty good\", \"send email\", \"year ago\", \"could someone\", \"dont think\", \"make sure\", \"ive heard\", \"last year\", \"last night\", \"first time\", \"something like\", \"please email\", \"mailing list\", \"anyone else\", \"look like\", \"many people\", \"anybody know\", \"writesn article\", \"dont want\", \"new york\", \"even though\", \"serial port\", \"internet atechedun\", \"georgia institute\", \"hard driven\", \"disclaimer applyn\", \"tim clock\", \"gary daren\", \"souviens gary\", \"gon itnettttselanne\", \"tttgo winnipeg\", \"daren tttgo\", \"jet gon\", \"domi stanleyn\", \"itnettttselanne domi\", \"propulsion lab\", \"speak men\", \"gldn souviens\", \"mary shafer\", \"drive drive\", \"ron baalke\", \"make offern\", \"next question\", \"plnasagovn jet\", \"red ladyn\", \"jubilee red\", \"glide jubilee\", \"wide glide\", \"fxwg wide\", \"chris behannatdod\", \"behannatdod fxwg\", \"scsi controller\", \"standard disclaimer\", \"kind soul\", \"atlanta georgia\", \"jet propulsion\", \"others dont\", \"floppy drive\", \"fax university\", \"institute technology\", \"ide drive\", \"_____ _____\", \"real world\", \"consent alln\", \"relation people\", \"uunetpyramidoptilinkcramer opinion\", \"cramer uunetpyramidoptilinkcramer\", \"hard drive\", \"people mutual\", \"mutual consent\", \"minen relation\", \"power supply\", \"opinion minen\", \"clayton cramer\", \"wondering anyone\", \"hard disk\", \"dont know\", \"winnipeg jet\", \"ive seen\", \"pretty much\", \"cant find\", \"writesn article\", \"let know\", \"sound like\", \"even though\", \"ive got\", \"like know\", \"thanks advancen\", \"anyone know\", \"look like\", \"year ago\", \"dont think\", \"dont want\", \"work fine\", \"people dont\", \"thanks advance\", \"something like\", \"david sternlight\", \"care taken\", \"great care\", \"taken ensure\", \"davidn david\", \"accuracy ofn\", \"ensure accuracy\", \"information error\", \"error omission\", \"sternlight great\", \"omission excepted\", \"bell lab\", \"software engineer\", \"game last\", \"___ ____\", \"brian kendig\", \"billn bill\", \"keith kellerttttlets\", \"kellerttttlets rangersn\", \"available request\", \"meaning life\", \"____ ____\", \"abpsoft mehl\", \"oon brain\", \"brain inside\", \"inside andre\", \"beck abpsoft\", \"holmdel njn\", \"bike like\", \"lab holmdel\", \"att bell\", \"holy spirit\", \"come upn\", \"ofn information\", \"gon na\", \"public key\", \"key available\", \"pgp public\", \"software engineering\", \"something like\", \"bible say\", \"take away\", \"want ton\", \"last year\", \"many people\", \"dont think\", \"look like\", \"ive never\", \"dont want\", \"dont see\", \"dont know\", \"writesn article\", \"clipper chip\", \"make sense\", \"year ago\", \"ive seen\", \"serdar argicn\", \"longer exists\", \"way escape\", \"argicn closed\", \"today longer\", \"might serve\", \"single turkish\", \"serve way\", \"appressian soviet\", \"escape turk\", \"soul sahak\", \"ohanus appressian\", \"closed road\", \"soviet armenia\", \"armenia today\", \"turkish soul\", \"work exterminationn\", \"proceeded work\", \"pass might\", \"mountain pass\", \"exterminationn ohanus\", \"exists single\", \"turk proceeded\", \"sahak melkonian\", \"road mountain\", \"gordon bank\", \"bank njxp\", \"njxp skepticism\", \"chastity intellect\", \"intellect andn\", \"united state\", \"opinion employer\", \"jake livni\", \"employer opinion\", \"jimmy carter\", \"standard failed\", \"onycom ten\", \"livni onycom\", \"willn americanoccupied\", \"year george\", \"failed presidentn\", \"opinion standard\", \"bush willn\", \"york replaced\", \"replaced jimmy\", \"americanoccupied new\", \"carter opinion\", \"david veal\", \"bulletin board\", \"still remember\", \"regional study\", \"center regional\", \"sdpa center\", \"remember way\", \"info service\", \"tkedu still\", \"elevator shaft\", \"love anymore\", \"pushed elevator\", \"anymore weird\", \"univ tenn\", \"george bush\", \"best offer\", \"david davidian\", \"ten year\", \"new york\", \"bill clinton\", \"dont think\", \"anyone else\", \"please reply\", \"opinion expressed\", \"year old\", \"dont know\", \"seems like\", \"apr gmtn\", \"writesn article\", \"every day\", \"sound like\", \"last year\", \"dont see\"], \"Freq\": [554.0, 121.0, 118.0, 117.0, 116.0, 116.0, 116.0, 115.0, 115.0, 115.0, 115.0, 115.0, 115.0, 115.0, 115.0, 115.0, 115.0, 115.0, 115.0, 115.0, 115.0, 115.0, 115.0, 115.0, 115.0, 115.0, 87.0, 341.0, 344.0, 79.0, 82.1794471874463, 71.69279986127228, 67.88201605283845, 67.88201605283845, 67.88201605283845, 52.62597537420052, 51.67354120138867, 50.71991596219348, 50.71623768603971, 49.761874597616426, 46.89754351648988, 45.95331939724056, 44.99983595799126, 44.04649569580031, 44.04649569580031, 44.04649569580031, 44.044887355707324, 40.23289979406413, 40.23289979406413, 40.232532853580565, 40.23253285358058, 39.27910918408975, 38.32607160815646, 38.32607160815646, 38.32607160815646, 38.32607160815646, 38.32607160815646, 38.324526590035944, 52.32395035214734, 37.37207562793798, 107.30196336160995, 85.91873451958071, 424.85216448019344, 92.1796719753518, 100.06343282461624, 116.61810722726975, 75.27701774666654, 119.16897500621603, 226.49089118290405, 76.52367118391739, 122.89227864672428, 61.30861086918816, 67.96075426590038, 344.7601257459872, 68.28752051308894, 58.92956662664523, 78.1781038939305, 83.92335767821464, 74.29392456721699, 168.25249090486366, 79.79498564095191, 197.52078366734412, 105.13727269126731, 96.33438361101116, 140.08672612844438, 101.16283780506625, 92.70506286502543, 133.3062989492356, 107.76430995854948, 85.72930563334289, 105.38712935076911, 112.45725455557084, 100.71076336841875, 81.48887885163647, 101.91202191629368, 91.8637149732154, 89.51659407343529, 83.43148497982953, 58.454601580886646, 49.060521326998, 48.11988280757707, 46.18436662050786, 40.60148793085117, 40.59907916706688, 35.9029383699773, 35.9029383699773, 35.9029383699773, 35.9029383699773, 35.9029383699773, 35.9029383699773, 35.902938369977306, 35.9029383699773, 34.95911404567656, 34.02324921528767, 34.02315975590225, 34.02280772827376, 34.022223973080145, 33.08157347255203, 32.140696534182496, 31.200115670617524, 29.32408045342959, 29.32403929899869, 29.32403929899869, 29.32403929899869, 29.32403929899869, 29.32403929899869, 29.32403929899869, 29.32403929899869, 38.4230669927283, 77.66067140487804, 30.228087652528583, 34.69332728684922, 46.749988210228274, 37.76488239674837, 60.39070985689953, 40.1380400836221, 54.58236154953832, 49.445759407344994, 45.44867634783503, 55.84325581986746, 54.338442431946135, 54.33801233384372, 54.24383007062817, 54.243829556974596, 112.00106301107542, 53.36503568469592, 53.365035115897804, 52.3901732009547, 60.18632188697992, 55.13221440536772, 58.76135634849627, 59.02965308761421, 59.879171734288064, 268.21072357450146, 47.249292225337314, 123.76704545859901, 71.75908127825716, 52.32749087368536, 131.99000044945103, 85.32843361451445, 103.38781160862203, 92.17315283123688, 72.19111479261723, 72.28798170996276, 91.01097232284141, 97.74848193144858, 84.88103913510143, 79.24623374599054, 84.20010694918861, 72.19130480668184, 58.5446868912006, 57.757504501523954, 55.93673783972582, 56.05542915276479, 73.10592963390908, 52.95943880037731, 53.896892529826644, 52.00034485527642, 51.99654945010028, 51.04108210434202, 51.04108210434202, 50.081699037430596, 50.081699037430596, 50.081672093073266, 49.12229025661123, 41.44578729548168, 42.37694489691359, 35.67431986878096, 32.77134790167129, 28.971876701793008, 28.01276366485608, 26.096024241957313, 26.096024241957313, 26.093732118437163, 26.092819011013844, 26.076963302546147, 25.136093766877824, 25.136093766877824, 25.136093766877824, 25.13609376687783, 25.136093766877824, 25.135963203872695, 25.11188319138924, 24.177283905381252, 55.674035003712184, 38.060185185740835, 37.87586600956213, 54.58691246339434, 91.52501742289444, 81.41487905550083, 43.904912935865426, 49.35147406363322, 33.229214993871295, 123.17818801163702, 33.99141769179587, 46.00462705887435, 68.27540746270017, 99.43415679519195, 93.32369830472093, 129.47939749304714, 100.4371874979063, 59.881611163600525, 80.11780344421295, 70.1103797912002, 115.91404189070447, 72.97370946511248, 53.18168429587378, 55.019476742095875, 59.2232353532126, 54.22646750917914, 121.09031669624169, 118.2104971897089, 116.29200240656543, 115.33332844498271, 115.33319972960365, 115.3327985775784, 114.37381601934447, 114.37381601934447, 114.37381601934447, 114.37381601934447, 114.37381601934447, 114.37381601934447, 114.37381601934447, 114.37381601934447, 114.37381601934447, 114.37381601934447, 114.37381601934447, 114.37381601934447, 114.37381601934447, 114.37381601934447, 114.37381601934447, 114.37381601934447, 114.37381601934447, 114.37381601934447, 114.37381601934447, 86.54657063245776, 78.87115563276014, 78.8711556327599, 78.87115563275941, 78.87115563275903, 85.5329856112413, 52.15152298533183, 51.20743518352466, 51.20669493519383, 47.42827959007028, 46.48392768473764, 46.48392768473764, 46.48392768473764, 46.48392768473764, 46.48392768473764, 46.48392768473764, 46.48392768473764, 46.48392768473764, 46.48392768473764, 46.48392768473764, 46.48392768473764, 46.48392768473764, 46.48223789338949, 43.63533239402473, 42.70201134091525, 40.814600320900766, 40.814600320900766, 40.814600320900766, 39.86917177488618, 39.867722215541384, 38.92451497091149, 38.92451497090433, 38.92451497089177, 38.9245149708898, 38.92451497088937, 37.978875395996994, 55.074943566279984, 44.113084179002314, 45.38586365591963, 70.89322136421657, 149.25088621733133, 65.00285350234955, 137.0605955818961, 88.79210168423006, 62.951378548411476, 67.06836245205983, 68.69263065609088, 104.9695686971687, 58.6306576353763, 54.51981615402125, 78.97703176421078, 53.786253667149005, 55.74041285398615, 55.29433710584223, 47.17797919302818], \"Total\": [554.0, 121.0, 118.0, 117.0, 116.0, 116.0, 116.0, 115.0, 115.0, 115.0, 115.0, 115.0, 115.0, 115.0, 115.0, 115.0, 115.0, 115.0, 115.0, 115.0, 115.0, 115.0, 115.0, 115.0, 115.0, 115.0, 87.0, 341.0, 344.0, 79.0, 82.94383423945791, 72.45641624157687, 68.64282029569293, 68.64282029569293, 68.64282029569293, 53.38840032029607, 52.43501170663159, 51.481613334695936, 51.481590442000915, 50.52818657107275, 47.66798250098451, 46.71461220195865, 45.76121234413204, 44.80781159471155, 44.80781159471155, 44.80781159471155, 44.80779518236244, 40.99420992975638, 40.99420992975638, 40.994215920816586, 40.9942159208166, 40.04081573502402, 39.08740925700785, 39.08740925700785, 39.08740925700785, 39.08740925700785, 39.08740925700785, 39.08740440577088, 53.385692667987804, 38.13401745350075, 116.34763134496285, 94.42587465375337, 554.296357216248, 106.71061545237272, 119.9251374188558, 143.70784796342667, 86.64433470530909, 152.4272281404476, 341.7006653623598, 90.41583402043544, 162.51468463002064, 71.56347233084007, 83.89549931979568, 909.7556664414849, 84.6729488953769, 68.67506550329949, 105.60413290784088, 122.62349295035536, 101.63323771710171, 412.11941653975464, 115.889270577757, 601.2411108366473, 192.29807470592357, 166.66328921563704, 342.11018852268705, 190.70542290640745, 161.9160309628797, 347.93883769041213, 234.4694944772594, 145.8110720443373, 270.64814749976404, 382.6848954787811, 302.84696418421595, 136.0255403516273, 440.56723447981426, 310.0080126933822, 344.6903794579218, 261.07435113132016, 59.22409546615301, 49.82523354057869, 48.88536498971382, 47.00676477723997, 41.36630411743373, 41.36633327626545, 36.666889809161354, 36.666889809161354, 36.666889809161354, 36.666889809161354, 36.666889809161354, 36.666889809161354, 36.66688980916136, 36.666889809161354, 35.72707075746655, 34.78712578768421, 34.7871281369892, 34.78712982719618, 34.78714158881895, 33.84726242099237, 32.907396218504395, 31.967540984847876, 30.08771769191249, 30.087716064260317, 30.087716064260317, 30.087716064260317, 30.087716064260317, 30.087716064260317, 30.087716064260317, 30.087716064260317, 39.49275527357315, 80.8540017217339, 31.028155602981304, 35.73254024189841, 48.89528889113847, 39.49164209290214, 65.89984800086614, 42.313540436943434, 59.279810830419656, 53.61207336038786, 48.94092197646443, 62.12190427433158, 60.26916183359763, 60.269163287097136, 60.27112922116719, 60.271129231845855, 143.28281738511805, 59.32997777656063, 59.329977788385094, 58.39082398585195, 69.61835841469188, 63.10904268963683, 76.48738645431227, 78.21924451452752, 82.06156075920927, 909.7556664414849, 58.40611291036703, 319.18984424534705, 124.97980285829217, 70.66851008897198, 440.56723447981426, 188.35983180414394, 291.10329313616046, 261.07435113132016, 156.38241340792993, 158.20956532325286, 341.7006653623598, 554.296357216248, 382.6848954787811, 412.11941653975464, 601.2411108366473, 310.0080126933822, 115.54500948671605, 141.49320931670948, 89.76912868543894, 347.93883769041213, 73.86787631292673, 53.71989997340719, 54.67891389161781, 52.760475121726344, 52.760442212188664, 51.801048199370726, 51.801048199370726, 50.841621761281345, 50.841621761281345, 50.84162084552805, 49.88219442680034, 42.20676381044745, 43.165693357022754, 36.45014353437261, 33.57186944237506, 29.734198535408165, 28.7747632144312, 26.855939677770227, 26.855939677770227, 26.855936655412656, 26.855895473673083, 26.855912328055975, 25.896509788064336, 25.896509788064336, 25.896509788064336, 25.896509788064343, 25.896509788064336, 25.896504768456424, 25.896027737368694, 24.937087776202226, 57.550530952992695, 40.26225031477088, 40.27797247267637, 63.26359154604707, 141.35779349343284, 121.60720156638048, 56.52322263590458, 67.99824767334098, 39.29493532106231, 347.93883769041213, 42.10305998701413, 71.75852324979112, 150.95910749670173, 342.11018852268705, 302.84696418421595, 601.2411108366473, 382.6848954787811, 146.39273520796633, 310.0080126933822, 219.99377786086689, 909.7556664414849, 440.56723447981426, 125.5005109807294, 178.6991005649097, 412.11941653975464, 319.18984424534705, 121.84994036172009, 118.9713833899253, 117.05237021272896, 116.09286777592848, 116.09286624535986, 116.092864400527, 115.13335557811865, 115.13335557811865, 115.13335557811865, 115.13335557811865, 115.13335557811865, 115.13335557811865, 115.13335557811865, 115.13335557811865, 115.13335557811865, 115.13335557811865, 115.13335557811865, 115.13335557811865, 115.13335557811865, 115.13335557811865, 115.13335557811865, 115.13335557811865, 115.13335557811865, 115.13335557811865, 115.13335557811865, 87.30749005175676, 79.63139657072799, 79.63139657072801, 79.63139657072797, 79.63139657072797, 214.7326721482334, 52.91542588810123, 51.970631593236305, 51.97063355688178, 48.19142246658062, 47.246622396660115, 47.246622396660115, 47.246622396660115, 47.246622396660115, 47.246622396660115, 47.246622396660115, 47.246622396660115, 47.246622396660115, 47.246622396660115, 47.246622396660115, 47.246622396660115, 47.246622396660115, 47.24664676850439, 44.412314387227134, 43.46746307180645, 41.57782645902979, 41.57782645902979, 41.57782645902979, 40.633038280077386, 40.633033467705026, 39.68823680455886, 39.688236804558976, 39.68823680455916, 39.6882368045592, 39.6882368045592, 38.74343600314629, 56.707806304804464, 46.29443392671954, 49.182706898612906, 92.87279164409163, 344.6903794579218, 94.70107385157608, 601.2411108366473, 270.64814749976404, 133.3804963654815, 161.01208738545836, 183.20686381913535, 909.7556664414849, 129.2523423537639, 103.6335011304669, 440.56723447981426, 123.1257595969997, 291.10329313616046, 342.11018852268705, 219.99377786086689], \"Category\": [\"Default\", \"Default\", \"Default\", \"Default\", \"Default\", \"Default\", \"Default\", \"Default\", \"Default\", \"Default\", \"Default\", \"Default\", \"Default\", \"Default\", \"Default\", \"Default\", \"Default\", \"Default\", \"Default\", \"Default\", \"Default\", \"Default\", \"Default\", \"Default\", \"Default\", \"Default\", \"Default\", \"Default\", \"Default\", \"Default\", \"Topic1\", \"Topic1\", \"Topic1\", \"Topic1\", \"Topic1\", \"Topic1\", \"Topic1\", \"Topic1\", \"Topic1\", \"Topic1\", \"Topic1\", \"Topic1\", \"Topic1\", \"Topic1\", \"Topic1\", \"Topic1\", \"Topic1\", \"Topic1\", \"Topic1\", \"Topic1\", \"Topic1\", \"Topic1\", \"Topic1\", \"Topic1\", \"Topic1\", \"Topic1\", \"Topic1\", \"Topic1\", \"Topic1\", \"Topic1\", \"Topic1\", \"Topic1\", \"Topic1\", \"Topic1\", \"Topic1\", \"Topic1\", \"Topic1\", \"Topic1\", \"Topic1\", \"Topic1\", \"Topic1\", \"Topic1\", \"Topic1\", \"Topic1\", \"Topic1\", \"Topic1\", \"Topic1\", \"Topic1\", \"Topic1\", \"Topic1\", \"Topic1\", \"Topic1\", \"Topic1\", \"Topic1\", \"Topic1\", \"Topic1\", \"Topic1\", \"Topic1\", \"Topic1\", \"Topic1\", \"Topic1\", \"Topic1\", \"Topic1\", \"Topic1\", \"Topic1\", \"Topic1\", \"Topic1\", \"Topic1\", \"Topic2\", \"Topic2\", \"Topic2\", \"Topic2\", \"Topic2\", \"Topic2\", \"Topic2\", \"Topic2\", \"Topic2\", \"Topic2\", \"Topic2\", \"Topic2\", \"Topic2\", \"Topic2\", \"Topic2\", \"Topic2\", \"Topic2\", \"Topic2\", \"Topic2\", \"Topic2\", \"Topic2\", \"Topic2\", \"Topic2\", \"Topic2\", \"Topic2\", \"Topic2\", \"Topic2\", \"Topic2\", \"Topic2\", \"Topic2\", \"Topic2\", \"Topic2\", \"Topic2\", \"Topic2\", \"Topic2\", \"Topic2\", \"Topic2\", \"Topic2\", \"Topic2\", \"Topic2\", \"Topic2\", \"Topic2\", \"Topic2\", \"Topic2\", \"Topic2\", \"Topic2\", \"Topic2\", \"Topic2\", \"Topic2\", \"Topic2\", \"Topic2\", \"Topic2\", \"Topic2\", \"Topic2\", \"Topic2\", \"Topic2\", \"Topic2\", \"Topic2\", \"Topic2\", \"Topic2\", \"Topic2\", \"Topic2\", \"Topic2\", \"Topic2\", \"Topic2\", \"Topic2\", \"Topic2\", \"Topic2\", \"Topic2\", \"Topic2\", \"Topic2\", \"Topic2\", \"Topic2\", \"Topic2\", \"Topic2\", \"Topic2\", \"Topic3\", \"Topic3\", \"Topic3\", \"Topic3\", \"Topic3\", \"Topic3\", \"Topic3\", \"Topic3\", \"Topic3\", \"Topic3\", \"Topic3\", \"Topic3\", \"Topic3\", \"Topic3\", \"Topic3\", \"Topic3\", \"Topic3\", \"Topic3\", \"Topic3\", \"Topic3\", \"Topic3\", \"Topic3\", \"Topic3\", \"Topic3\", \"Topic3\", \"Topic3\", \"Topic3\", \"Topic3\", \"Topic3\", \"Topic3\", \"Topic3\", \"Topic3\", \"Topic3\", \"Topic3\", \"Topic3\", \"Topic3\", \"Topic3\", \"Topic3\", \"Topic3\", \"Topic3\", \"Topic3\", \"Topic3\", \"Topic3\", \"Topic3\", \"Topic3\", \"Topic3\", \"Topic3\", \"Topic3\", \"Topic3\", \"Topic3\", \"Topic3\", \"Topic3\", \"Topic3\", \"Topic3\", \"Topic3\", \"Topic3\", \"Topic4\", \"Topic4\", \"Topic4\", \"Topic4\", \"Topic4\", \"Topic4\", \"Topic4\", \"Topic4\", \"Topic4\", \"Topic4\", \"Topic4\", \"Topic4\", \"Topic4\", \"Topic4\", \"Topic4\", \"Topic4\", \"Topic4\", \"Topic4\", \"Topic4\", \"Topic4\", \"Topic4\", \"Topic4\", \"Topic4\", \"Topic4\", \"Topic4\", \"Topic4\", \"Topic4\", \"Topic4\", \"Topic4\", \"Topic4\", \"Topic4\", \"Topic5\", \"Topic5\", \"Topic5\", \"Topic5\", \"Topic5\", \"Topic5\", \"Topic5\", \"Topic5\", \"Topic5\", \"Topic5\", \"Topic5\", \"Topic5\", \"Topic5\", \"Topic5\", \"Topic5\", \"Topic5\", \"Topic5\", \"Topic5\", \"Topic5\", \"Topic5\", \"Topic5\", \"Topic5\", \"Topic5\", \"Topic5\", \"Topic5\", \"Topic5\", \"Topic5\", \"Topic5\", \"Topic5\", \"Topic5\", \"Topic5\", \"Topic5\", \"Topic5\", \"Topic5\", \"Topic5\", \"Topic5\", \"Topic5\", \"Topic5\", \"Topic5\", \"Topic5\", \"Topic5\", \"Topic5\", \"Topic5\", \"Topic5\", \"Topic5\", \"Topic5\", \"Topic5\", \"Topic5\", \"Topic5\"], \"logprob\": [30.0, 29.0, 28.0, 27.0, 26.0, 25.0, 24.0, 23.0, 22.0, 21.0, 20.0, 19.0, 18.0, 17.0, 16.0, 15.0, 14.0, 13.0, 12.0, 11.0, 10.0, 9.0, 8.0, 7.0, 6.0, 5.0, 4.0, 3.0, 2.0, 1.0, -6.7421, -6.8786, -6.9332, -6.9332, -6.9332, -7.1878, -7.206, -7.2247, -7.2247, -7.2437, -7.303, -7.3233, -7.3443, -7.3657, -7.3657, -7.3657, -7.3658, -7.4563, -7.4563, -7.4563, -7.4563, -7.4803, -7.5048, -7.5048, -7.5048, -7.5048, -7.5048, -7.5049, -7.1935, -7.53, -6.4753, -6.6976, -5.0992, -6.6272, -6.5452, -6.3921, -6.8298, -6.3704, -5.7283, -6.8134, -6.3397, -7.0351, -6.932, -5.3081, -6.9272, -7.0746, -6.792, -6.7211, -6.8429, -6.0255, -6.7715, -5.8651, -6.4957, -6.5831, -6.2087, -6.5342, -6.6215, -6.2583, -6.471, -6.6998, -6.4933, -6.4284, -6.5387, -6.7505, -6.5269, -6.6307, -6.6565, -6.7269, -6.6833, -6.8585, -6.8779, -6.9189, -7.0478, -7.0478, -7.1707, -7.1707, -7.1707, -7.1707, -7.1707, -7.1707, -7.1707, -7.1707, -7.1974, -7.2245, -7.2245, -7.2245, -7.2245, -7.2526, -7.2814, -7.3111, -7.3731, -7.3732, -7.3732, -7.3732, -7.3732, -7.3732, -7.3732, -7.3732, -7.1029, -6.3992, -7.3428, -7.205, -6.9067, -7.1202, -6.6507, -7.0592, -6.7518, -6.8507, -6.935, -6.729, -6.7563, -6.7563, -6.7581, -6.7581, -6.033, -6.7744, -6.7744, -6.7928, -6.6541, -6.7418, -6.6781, -6.6735, -6.6592, -5.1598, -6.8961, -5.9332, -6.4782, -6.794, -5.8688, -6.3051, -6.1131, -6.2279, -6.4722, -6.4709, -6.2406, -6.1692, -6.3103, -6.379, -6.3184, -6.4722, -6.6818, -6.6953, -6.7273, -6.7252, -6.4149, -6.7373, -6.7198, -6.7556, -6.7557, -6.7742, -6.7742, -6.7932, -6.7932, -6.7932, -6.8125, -6.9824, -6.9602, -7.1324, -7.2173, -7.3405, -7.3742, -7.4451, -7.4451, -7.4451, -7.4452, -7.4458, -7.4825, -7.4825, -7.4825, -7.4825, -7.4825, -7.4825, -7.4835, -7.5214, -6.6873, -7.0677, -7.0725, -6.707, -6.1902, -6.3073, -6.9248, -6.8079, -7.2034, -5.8932, -7.1807, -6.8781, -6.4833, -6.1073, -6.1708, -5.8433, -6.0973, -6.6145, -6.3233, -6.4568, -5.954, -6.4167, -6.7331, -6.6991, -6.6255, -6.7137, -5.6821, -5.7062, -5.7226, -5.7308, -5.7308, -5.7308, -5.7392, -5.7392, -5.7392, -5.7392, -5.7392, -5.7392, -5.7392, -5.7392, -5.7392, -5.7392, -5.7392, -5.7392, -5.7392, -5.7392, -5.7392, -5.7392, -5.7392, -5.7392, -5.7392, -6.018, -6.1108, -6.1108, -6.1108, -6.1108, -6.0298, -6.5157, -6.5339, -6.534, -6.6106, -6.6307, -6.6307, -6.6307, -6.6307, -6.6307, -6.6307, -6.6307, -6.6307, -6.6307, -6.6307, -6.6307, -6.6307, -6.6308, -6.694, -6.7156, -6.7608, -6.7608, -6.7608, -6.7842, -6.7843, -6.8082, -6.8082, -6.8082, -6.8082, -6.8082, -6.8328, -6.4611, -6.6831, -6.6546, -6.2086, -5.4642, -6.2954, -5.5494, -5.9835, -6.3275, -6.2641, -6.2402, -5.8162, -6.3986, -6.4713, -6.1007, -6.4848, -6.4491, -6.4572, -6.6159], \"loglift\": [30.0, 29.0, 28.0, 27.0, 26.0, 25.0, 24.0, 23.0, 22.0, 21.0, 20.0, 19.0, 18.0, 17.0, 16.0, 15.0, 14.0, 13.0, 12.0, 11.0, 10.0, 9.0, 8.0, 7.0, 6.0, 5.0, 4.0, 3.0, 2.0, 1.0, 1.1933, 1.192, 1.1914, 1.1914, 1.1914, 1.1882, 1.1879, 1.1877, 1.1876, 1.1873, 1.1863, 1.1861, 1.1858, 1.1854, 1.1854, 1.1854, 1.1854, 1.1838, 1.1838, 1.1838, 1.1838, 1.1834, 1.1829, 1.1829, 1.1829, 1.1829, 1.1829, 1.1829, 1.1825, 1.1824, 1.1216, 1.1082, 0.9366, 1.0562, 1.0215, 0.9937, 1.0619, 0.9564, 0.7913, 1.0357, 0.9231, 1.0479, 0.9919, 0.2322, 0.9875, 1.0495, 0.9019, 0.8234, 0.8892, 0.3067, 0.8294, 0.0894, 0.5988, 0.6544, 0.3097, 0.5686, 0.6449, 0.2432, 0.4252, 0.6715, 0.2594, -0.0221, 0.1016, 0.6902, -0.2614, -0.0137, -0.1457, 0.0618, 1.5889, 1.5865, 1.5862, 1.5843, 1.5833, 1.5833, 1.5809, 1.5809, 1.5809, 1.5809, 1.5809, 1.5809, 1.5809, 1.5809, 1.5803, 1.5798, 1.5798, 1.5798, 1.5797, 1.5791, 1.5784, 1.5777, 1.5763, 1.5763, 1.5763, 1.5763, 1.5763, 1.5763, 1.5763, 1.5763, 1.5745, 1.5617, 1.5759, 1.5725, 1.5571, 1.5573, 1.5147, 1.5492, 1.5194, 1.5211, 1.528, 1.4954, 1.4984, 1.4984, 1.4966, 1.4966, 1.3557, 1.496, 1.496, 1.4935, 1.4564, 1.4669, 1.3383, 1.3205, 1.2868, 0.3806, 1.39, 0.6546, 1.0471, 1.3015, 0.3966, 0.8101, 0.5668, 0.5608, 0.829, 0.8187, 0.279, -0.1333, 0.096, -0.0468, -0.3638, 0.1447, 0.9221, 0.706, 1.129, -0.2237, 1.6363, 1.6324, 1.6323, 1.6322, 1.6321, 1.6319, 1.6319, 1.6316, 1.6316, 1.6316, 1.6314, 1.6285, 1.6283, 1.6252, 1.6226, 1.6207, 1.6199, 1.618, 1.618, 1.6179, 1.6179, 1.6173, 1.6169, 1.6169, 1.6169, 1.6169, 1.6169, 1.6169, 1.616, 1.6158, 1.6136, 1.5905, 1.5852, 1.4992, 1.212, 1.2455, 1.3941, 1.3262, 1.479, 0.6083, 1.4327, 1.2021, 0.8532, 0.4111, 0.4696, 0.1112, 0.309, 0.7528, 0.2936, 0.5032, -0.4136, -0.1513, 0.7881, 0.4687, -0.2933, -0.1259, 1.8686, 1.8685, 1.8684, 1.8683, 1.8683, 1.8683, 1.8683, 1.8683, 1.8683, 1.8683, 1.8683, 1.8683, 1.8683, 1.8683, 1.8683, 1.8683, 1.8683, 1.8683, 1.8683, 1.8683, 1.8683, 1.8683, 1.8683, 1.8683, 1.8683, 1.8661, 1.8653, 1.8653, 1.8653, 1.8653, 0.9544, 1.8692, 1.8689, 1.8689, 1.8678, 1.8674, 1.8674, 1.8674, 1.8674, 1.8674, 1.8674, 1.8674, 1.8674, 1.8674, 1.8674, 1.8674, 1.8674, 1.8674, 1.8661, 1.866, 1.8652, 1.8652, 1.8652, 1.8647, 1.8647, 1.8643, 1.8643, 1.8643, 1.8643, 1.8643, 1.8638, 1.8545, 1.8355, 1.8034, 1.6137, 1.0467, 1.5074, 0.4051, 0.7692, 1.1329, 1.008, 0.9027, -0.2758, 1.0932, 1.2414, 0.1648, 1.0555, 0.2307, 0.0613, 0.344]}, \"token.table\": {\"Topic\": [3, 3, 2, 3, 3, 3, 1, 1, 2, 3, 5, 5, 1, 2, 4, 1, 2, 3, 4, 5, 5, 1, 2, 3, 4, 5, 1, 2, 3, 5, 4, 1, 4, 5, 4, 4, 1, 1, 1, 2, 1, 3, 3, 1, 4, 4, 3, 2, 3, 2, 5, 1, 2, 3, 5, 3, 1, 2, 4, 5, 3, 3, 3, 5, 5, 1, 2, 5, 3, 5, 5, 4, 2, 2, 3, 1, 3, 4, 5, 4, 1, 3, 1, 2, 3, 4, 5, 2, 3, 1, 2, 3, 4, 5, 1, 2, 3, 2, 4, 5, 3, 5, 3, 2, 2, 1, 2, 3, 4, 5, 1, 2, 3, 4, 5, 1, 2, 3, 4, 5, 1, 2, 3, 4, 5, 2, 5, 1, 2, 5, 5, 3, 3, 4, 1, 2, 3, 4, 5, 1, 2, 3, 4, 5, 4, 4, 5, 2, 5, 1, 2, 3, 4, 5, 2, 3, 1, 4, 5, 2, 1, 3, 2, 3, 5, 2, 1, 1, 2, 2, 2, 1, 2, 3, 4, 5, 4, 3, 1, 2, 5, 1, 2, 5, 2, 1, 1, 3, 2, 3, 5, 2, 4, 5, 5, 3, 3, 1, 2, 4, 1, 2, 2, 1, 2, 3, 4, 5, 1, 2, 3, 4, 5, 1, 2, 3, 4, 5, 1, 2, 3, 4, 5, 5, 2, 2, 5, 5, 1, 2, 3, 3, 1, 3, 2, 1, 2, 3, 5, 3, 1, 1, 2, 3, 4, 5, 1, 2, 3, 4, 5, 1, 2, 3, 4, 5, 1, 2, 3, 4, 5, 1, 5, 4, 1, 2, 3, 4, 5, 5, 1, 2, 3, 4, 5, 2, 1, 2, 3, 4, 5, 1, 2, 3, 4, 5, 1, 2, 3, 4, 5, 2, 1, 2, 3, 4, 5, 3, 1, 1, 4, 2, 3, 4, 2, 3, 1, 2, 3, 4, 5, 2, 4, 1, 3, 4, 3, 5, 3, 5, 1, 2, 3, 4, 5, 2, 3, 5, 5, 1, 2, 5, 4, 1, 1, 2, 3, 4, 5, 2, 3, 1, 3, 1, 1, 2, 3, 4, 5, 1, 2, 3, 1, 2, 5, 1, 2, 3, 4, 5, 2, 1, 2, 5, 1, 2, 3, 4, 5, 2, 3, 4, 5, 4, 1, 2, 1, 2, 3, 1, 3, 4, 5, 1, 1, 2, 2, 5, 2, 3, 5, 5, 1, 4, 2, 4, 1, 2, 3, 1, 2, 5, 1, 2, 3, 5, 1, 2, 4, 2, 4, 4, 3, 1, 3, 1, 2, 3, 1, 2, 3, 4, 5, 4, 1, 2, 3, 4, 5, 1, 2, 4, 2, 1, 2, 5, 5, 3, 5, 1, 2, 3, 4, 5, 3, 1, 3, 4, 5, 1, 2, 3, 4, 5, 1, 2, 1, 2, 5, 2, 5, 4, 1, 2, 4, 4, 1, 2, 3, 4, 5, 5, 1, 1, 2, 3, 1, 1, 2, 3, 4, 5, 4, 2, 5, 1, 2, 5, 1, 2, 3, 5, 4, 1, 2, 3, 4, 5, 1, 1, 2, 3, 4, 5, 1, 2, 3, 4, 5, 5, 1, 2, 3, 4, 5, 5], \"Freq\": [0.9829658147766643, 0.9681294637247599, 0.9194759351211321, 0.06129839567474214, 0.9653810573161664, 0.9845360619675557, 0.9757474097629532, 0.8656076621176296, 0.08079004846431209, 0.023082870989803456, 0.023082870989803456, 0.973614571086287, 0.9107673115589356, 0.010590317576266694, 0.08472254061013355, 0.595476406788124, 0.183789014440779, 0.05146092404341812, 0.10292184808683624, 0.06616404519868044, 0.9826589221398684, 0.38795757876041453, 0.1330140270035707, 0.12192952475327315, 0.025863838584027635, 0.32884023342549423, 0.7667378550607983, 0.17680072893166643, 0.0180408907073129, 0.03788587048535709, 0.9901561491678259, 0.1543902292739988, 0.3184298478776226, 0.5307164131293709, 0.990586262559748, 0.9901561491678259, 0.9917037930864698, 0.9721800631538943, 0.9847025980036137, 0.9794993516570796, 0.017376034303085763, 0.9730579209728026, 0.9681285867480572, 0.852390165166877, 0.1397360926503077, 0.9920710097032245, 0.9653810573161664, 0.9638485001009313, 0.9714082838507335, 0.04320173788420965, 0.9504382334526122, 0.04750248558220854, 0.04750248558220854, 0.8075422548975453, 0.09500497116441708, 0.9653990277406252, 0.11615496585857278, 0.08447633880623476, 0.11615496585857278, 0.6863702528006573, 0.9730749056505654, 0.9653810573161664, 0.9753079426528392, 0.9907162147950184, 0.973614571086287, 0.11320459409612517, 0.7358298616248136, 0.14150574262015647, 0.9865990075602605, 0.973614571086287, 0.9861025332914127, 0.9920710097032247, 0.9638485001009313, 0.7713690156643291, 0.22225886892023045, 0.1354576158069217, 0.42230903751569704, 0.3984047523732991, 0.039840475237329906, 0.9901561491678259, 0.04965493239156348, 0.9434437154397062, 0.7807004132513156, 0.09184710744133125, 0.07216558441818884, 0.03936304604628482, 0.013121015348761606, 0.8959806036309796, 0.08296116700286849, 0.6903141214123291, 0.2674967220472775, 0.017257853035308225, 0.017257853035308225, 0.008628926517654113, 0.9721800631538943, 0.8959513566151613, 0.08295845894584827, 0.9818122067993144, 0.06099704935282057, 0.9149557402923085, 0.9882509643400315, 0.9736140688541852, 0.9855868870634108, 0.9911448671751327, 0.9818122067993141, 0.379222699815072, 0.29458459000127335, 0.12750676283637202, 0.08353891358245065, 0.11541560429154366, 0.32728198360926264, 0.09545724521936827, 0.31819081739789423, 0.04091024795115783, 0.21364240596715756, 0.32931879811823966, 0.1397110052622835, 0.2145561866527925, 0.08815099141548839, 0.22786199667777188, 0.29676652290595434, 0.23225206140465993, 0.25805784600517767, 0.07096590765142387, 0.14193181530284774, 0.9773726281359103, 0.982658922139874, 0.8338535369005716, 0.04169267684502858, 0.11673949516608004, 0.981323422662927, 0.9845360619675557, 0.9834462054488929, 0.9901561491678259, 0.31791709771693, 0.35239003602358504, 0.1187401208340341, 0.1302311002695858, 0.0804368560488618, 0.15431376880182096, 0.25177509646612894, 0.08121777305358997, 0.08121777305358997, 0.4385759744893859, 0.9901561491678259, 0.9901561491678259, 0.973614571086287, 0.9453238747442767, 0.04726619373721383, 0.5743717867029539, 0.13587289577919337, 0.12969685506195733, 0.10499269219301306, 0.055584366455124566, 0.9104725097273578, 0.07587270914394649, 0.9196577426037342, 0.06016452521706672, 0.008594932173866674, 0.9638485001009313, 0.9757475523626395, 0.9876504317754436, 0.9818122067993144, 0.017634256465944034, 0.9698841056269218, 0.9818889561344154, 0.9721800631538943, 0.9819716347225739, 0.977373006075996, 0.9638485001009313, 0.9818122067993144, 0.134410700184583, 0.09196521591576733, 0.6508307587885072, 0.0070742473781359476, 0.11318795805017516, 0.9964780793540797, 0.9875836251436244, 0.2315334953931856, 0.7311584065047966, 0.03655792032523983, 0.19541770961092364, 0.7816708384436946, 0.020937611744027532, 0.9785825554681136, 0.9886208028829114, 0.9740061305965451, 0.9653812444392719, 0.02483716116665077, 0.9438121243327292, 0.02483716116665077, 0.9139732326824062, 0.018652514952702166, 0.055957544858106494, 0.9844207184726151, 0.9834462054488929, 0.9653810573161661, 0.06747659859176516, 0.927803230636771, 0.9920710097032247, 0.9819716347225739, 0.9834374375805665, 0.9818122067993144, 0.22381033287100555, 0.46040982762035426, 0.2046265900534908, 0.02557832375668635, 0.08312955220923063, 0.5760116727073024, 0.15600316135822773, 0.10800218863261919, 0.12000243181402133, 0.0360007295442064, 0.10929504102283705, 0.23225196217352873, 0.4098564038356389, 0.0068309400639273155, 0.24591384230138336, 0.21303935957226577, 0.38848353804354346, 0.16917831495444635, 0.19424176902177173, 0.03759518110098808, 0.9813234597410083, 0.9818122067993144, 0.9612378015526571, 0.02045186811814164, 0.9752772919826793, 0.9740437447050543, 0.9638485001009313, 0.9681284777952222, 0.9681284777952222, 0.2123021200913867, 0.7784411070017512, 0.966863786035593, 0.8030900173799517, 0.1299116204585216, 0.02362029462882211, 0.035430441943233165, 0.9624219241391732, 0.9757474097629528, 0.5296126269548601, 0.020974757503162775, 0.23072233253479055, 0.06292427250948833, 0.15731068127372083, 0.4092248775301116, 0.08184497550602232, 0.2893804491105789, 0.05553766195051515, 0.16076691617254385, 0.3238482399125714, 0.4512639408617798, 0.05308987539550351, 0.026544937697751753, 0.13803367602830913, 0.3476401688331823, 0.45509258465434765, 0.11377314616358691, 0.018962191027264486, 0.06952803376663645, 0.9906453853141256, 0.973614571086287, 0.9918351509224566, 0.29266898517088225, 0.22211485481718743, 0.2613115939025734, 0.1306557969512867, 0.08884594192687496, 0.9826589221398694, 0.5898043186586659, 0.03429094875922476, 0.21946207205903848, 0.006858189751844952, 0.14402198478874398, 0.9724257667644287, 0.25741595707299714, 0.29099195147382284, 0.30777994867423575, 0.03357599440082572, 0.11191998133608572, 0.5460273076606397, 0.16120806226171266, 0.11440572160508641, 0.10920546153212793, 0.06240312087550168, 0.3335017746407511, 0.14528790182369353, 0.3070857924909886, 0.06273795760568585, 0.15189189736113415, 0.9773729585882417, 0.8591182195110588, 0.014561325754424726, 0.07280662877212363, 0.04368397726327418, 0.014561325754424726, 0.968130071309217, 0.9859867679323179, 0.9927250054699912, 0.9905862913610559, 0.8905508854028085, 0.08562989282719312, 0.9901561491678259, 0.8933089472751446, 0.08427442898822118, 0.2611038931273299, 0.09863924851476907, 0.04641846988930309, 0.15956349024447938, 0.4322720008441351, 0.9697336437198446, 0.9920710097032241, 0.12645504000791855, 0.8693784000544401, 0.9901561491678259, 0.9823144423187934, 0.973614571086287, 0.9653810573161664, 0.982700207496448, 0.08694999380067907, 0.2856928367736598, 0.20495355681588637, 0.006210713842905648, 0.4161178274746784, 0.8715074362715944, 0.09507353850235575, 0.03169117950078525, 0.973614571086287, 0.9906352872314417, 0.9622289169593625, 0.025321813604193753, 0.9901561491678259, 0.9895466944904147, 0.16961944757560707, 0.4099136649743837, 0.2544291713634106, 0.11307963171707137, 0.04947233887621873, 0.893308947453181, 0.08427442900501708, 0.264712703869529, 0.7206068049781622, 0.9721800631538943, 0.4606142911715735, 0.23030714558578674, 0.11088862565241585, 0.004264947140477532, 0.1961875684619665, 0.8105321566869198, 0.05959795269756763, 0.1311154959346488, 0.27740187664780275, 0.24741248457777001, 0.4723329251030155, 0.7568546822708397, 0.2215184435914653, 0.006153290099762925, 0.01230658019952585, 0.01230658019952585, 0.9638484479597179, 0.014364027287793178, 0.8618416372675907, 0.11491221830234542, 0.6850237093964349, 0.17941097150859006, 0.0489302649568882, 0.008155044159481368, 0.08155044159481367, 0.5760930834691498, 0.2720439560826541, 0.0640103426076833, 0.08801422108556456, 0.9901561491678259, 0.9757475523626395, 0.9796493039577111, 0.8516207457932286, 0.13272011622751614, 0.02212001937125269, 0.30425829657631903, 0.6660789735859957, 0.024669591614296136, 0.9826589221398684, 0.9819716347225739, 0.09658428971371964, 0.9014533706613834, 0.9638485001009313, 0.9861025332914127, 0.8959805820227923, 0.0829611650021104, 0.9844206018827845, 0.973614571086287, 0.9819719944024291, 0.9901561491678259, 0.9749680665321137, 0.9901561491678259, 0.8621447792235967, 0.07496911123683449, 0.05622683342762587, 0.9721800631538943, 0.962201794652397, 0.9861025332914127, 0.12378885913114031, 0.08510484065265896, 0.3404193626106358, 0.4564714180460799, 0.7281082612558363, 0.25582182152232086, 0.9930246961205152, 0.9793311243250209, 0.9901561491678259, 0.9901561491678259, 0.9729949117837324, 0.12724286117656416, 0.8398028837653235, 0.7386074564720816, 0.17991720093550706, 0.0757546109202135, 0.38225109011354547, 0.16094782741622968, 0.35351040664636163, 0.05748136693436774, 0.045985093547494194, 0.9901561491678259, 0.23359405957731205, 0.35382629612445793, 0.14771389061506499, 0.07213934192828754, 0.19237157847543346, 0.9937008167771486, 0.9818122067993144, 0.9901561491678259, 0.9773730720816585, 0.9906352872314417, 0.9647017876547881, 0.03710391490979954, 0.973614571086287, 0.9834462231626103, 0.989245678519719, 0.27871253607575064, 0.027871253607575065, 0.6410388329742265, 0.027871253607575065, 0.027871253607575065, 0.9855862723000159, 0.08613932948906831, 0.02153483237226708, 0.12920899423360246, 0.7644865492154813, 0.8141517784733387, 0.0974198709284337, 0.013917124418347672, 0.013917124418347672, 0.06262705988256452, 0.3676096725371557, 0.6238224746085066, 0.6613976000319932, 0.2663149628447406, 0.07023691327773379, 0.9911441685242226, 0.9826589221398768, 0.9905862756196396, 0.9906352872314417, 0.9818122067993144, 0.9901561491678259, 0.9901561491678259, 0.20490593983586297, 0.06054039131514133, 0.15367945487689721, 0.4004979733155503, 0.18162117394542399, 0.9808113043178225, 0.9906449447967989, 0.9833655555624795, 0.8959513567739034, 0.08295845896054661, 0.9721801838136293, 0.4372044926235538, 0.03312155247148135, 0.45045311361214635, 0.03312155247148135, 0.04637017346007389, 0.9910094070644071, 0.9638485001009313, 0.973614571086287, 0.13697196408665654, 0.8047102890091072, 0.05136448653249621, 0.11506119824934447, 0.7542900774123692, 0.012784577583260496, 0.10227662066608396, 0.9901561491678259, 0.2942576243754509, 0.5106235246515177, 0.04327318005521336, 0.11251026814355475, 0.04327318005521336, 0.9702623135660036, 0.23151971371732455, 0.2996137471635965, 0.16569548138592835, 0.1248390613181652, 0.17931428807518274, 0.4076488349191722, 0.19169201165842026, 0.1431623884537569, 0.16014775657538907, 0.09463276524909355, 0.973614571086287, 0.26199891750445736, 0.158291012658943, 0.12008283718954296, 0.08733297250148579, 0.3766234439126575, 0.973614571086287], \"Term\": [\"___ ____\", \"____ ____\", \"_____ _____\", \"_____ _____\", \"abpsoft mehl\", \"accuracy ofn\", \"adam laskaedu\", \"amateur radio\", \"amateur radio\", \"amateur radio\", \"amateur radio\", \"americanoccupied new\", \"anonymous ftp\", \"anonymous ftp\", \"anonymous ftp\", \"anybody know\", \"anybody know\", \"anybody know\", \"anybody know\", \"anybody know\", \"anymore weird\", \"anyone else\", \"anyone else\", \"anyone else\", \"anyone else\", \"anyone else\", \"anyone know\", \"anyone know\", \"anyone know\", \"anyone know\", \"appressian soviet\", \"apr gmtn\", \"apr gmtn\", \"apr gmtn\", \"argicn closed\", \"armenia today\", \"artificial intelligence\", \"associate research\", \"athens georgia\", \"atlanta georgia\", \"att bell\", \"att bell\", \"available request\", \"available via\", \"available via\", \"bank njxp\", \"beck abpsoft\", \"behannatdod fxwg\", \"bell lab\", \"best offer\", \"best offer\", \"bible say\", \"bible say\", \"bible say\", \"bible say\", \"bike like\", \"bill clinton\", \"bill clinton\", \"bill clinton\", \"bill clinton\", \"billn bill\", \"brain inside\", \"brian kendig\", \"bulletin board\", \"bush willn\", \"cant find\", \"cant find\", \"cant find\", \"care taken\", \"carter opinion\", \"center regional\", \"chastity intellect\", \"chris behannatdod\", \"clayton cramer\", \"clayton cramer\", \"clipper chip\", \"clipper chip\", \"clipper chip\", \"clipper chip\", \"closed road\", \"come upn\", \"come upn\", \"computer science\", \"computer science\", \"computer science\", \"computer science\", \"computer science\", \"consent alln\", \"consent alln\", \"could someone\", \"could someone\", \"could someone\", \"could someone\", \"could someone\", \"covington associate\", \"cramer uunetpyramidoptilinkcramer\", \"cramer uunetpyramidoptilinkcramer\", \"daren tttgo\", \"david davidian\", \"david davidian\", \"david sternlight\", \"david veal\", \"davidn david\", \"disclaimer applyn\", \"domi stanleyn\", \"dont know\", \"dont know\", \"dont know\", \"dont know\", \"dont know\", \"dont see\", \"dont see\", \"dont see\", \"dont see\", \"dont see\", \"dont think\", \"dont think\", \"dont think\", \"dont think\", \"dont think\", \"dont want\", \"dont want\", \"dont want\", \"dont want\", \"dont want\", \"drive drive\", \"elevator shaft\", \"email address\", \"email address\", \"email address\", \"employer opinion\", \"ensure accuracy\", \"error omission\", \"escape turk\", \"even though\", \"even though\", \"even though\", \"even though\", \"even though\", \"every day\", \"every day\", \"every day\", \"every day\", \"every day\", \"exists single\", \"exterminationn ohanus\", \"failed presidentn\", \"fax university\", \"fax university\", \"first time\", \"first time\", \"first time\", \"first time\", \"first time\", \"floppy drive\", \"floppy drive\", \"ftp site\", \"ftp site\", \"ftp site\", \"fxwg wide\", \"gaedu university\", \"game last\", \"gary daren\", \"george bush\", \"george bush\", \"georgia institute\", \"georgia phone\", \"georgia usa\", \"gldn souviens\", \"glide jubilee\", \"gon itnettttselanne\", \"gon na\", \"gon na\", \"gon na\", \"gon na\", \"gon na\", \"gordon bank\", \"great care\", \"hard disk\", \"hard disk\", \"hard disk\", \"hard drive\", \"hard drive\", \"hard drive\", \"hard driven\", \"henry spencer\", \"high jackedn\", \"holmdel njn\", \"holy spirit\", \"holy spirit\", \"holy spirit\", \"ide drive\", \"ide drive\", \"ide drive\", \"info service\", \"information error\", \"inside andre\", \"institute technology\", \"institute technology\", \"intellect andn\", \"intelligence program\", \"internet atechedun\", \"itnettttselanne domi\", \"ive got\", \"ive got\", \"ive got\", \"ive got\", \"ive got\", \"ive heard\", \"ive heard\", \"ive heard\", \"ive heard\", \"ive heard\", \"ive never\", \"ive never\", \"ive never\", \"ive never\", \"ive never\", \"ive seen\", \"ive seen\", \"ive seen\", \"ive seen\", \"ive seen\", \"jake livni\", \"jet gon\", \"jet propulsion\", \"jet propulsion\", \"jimmy carter\", \"jon livesey\", \"jubilee red\", \"keith kellerttttlets\", \"kellerttttlets rangersn\", \"key available\", \"key available\", \"kind soul\", \"know much\", \"know much\", \"know much\", \"know much\", \"lab holmdel\", \"laskaedu high\", \"last night\", \"last night\", \"last night\", \"last night\", \"last night\", \"last year\", \"last year\", \"last year\", \"last year\", \"last year\", \"let know\", \"let know\", \"let know\", \"let know\", \"let know\", \"like know\", \"like know\", \"like know\", \"like know\", \"like know\", \"livesey writesn\", \"livni onycom\", \"longer exists\", \"look like\", \"look like\", \"look like\", \"look like\", \"look like\", \"love anymore\", \"mailing list\", \"mailing list\", \"mailing list\", \"mailing list\", \"mailing list\", \"make offern\", \"make sense\", \"make sense\", \"make sense\", \"make sense\", \"make sense\", \"make sure\", \"make sure\", \"make sure\", \"make sure\", \"make sure\", \"many people\", \"many people\", \"many people\", \"many people\", \"many people\", \"mary shafer\", \"may also\", \"may also\", \"may also\", \"may also\", \"may also\", \"meaning life\", \"michael adam\", \"michael covington\", \"might serve\", \"minen relation\", \"minen relation\", \"mountain pass\", \"mutual consent\", \"mutual consent\", \"new york\", \"new york\", \"new york\", \"new york\", \"new york\", \"next question\", \"njxp skepticism\", \"ofn information\", \"ofn information\", \"ohanus appressian\", \"omission excepted\", \"onycom ten\", \"oon brain\", \"opinion employer\", \"opinion expressed\", \"opinion expressed\", \"opinion expressed\", \"opinion expressed\", \"opinion expressed\", \"opinion minen\", \"opinion minen\", \"opinion minen\", \"opinion standard\", \"orontoedu utzoohenryn\", \"others dont\", \"others dont\", \"pass might\", \"pdsgicom jon\", \"people dont\", \"people dont\", \"people dont\", \"people dont\", \"people dont\", \"people mutual\", \"people mutual\", \"pgp public\", \"pgp public\", \"phone athens\", \"please email\", \"please email\", \"please email\", \"please email\", \"please email\", \"please post\", \"please post\", \"please post\", \"please reply\", \"please reply\", \"please reply\", \"please send\", \"please send\", \"please send\", \"please send\", \"please send\", \"plnasagovn jet\", \"power supply\", \"power supply\", \"power supply\", \"pretty good\", \"pretty good\", \"pretty good\", \"pretty good\", \"pretty good\", \"pretty much\", \"pretty much\", \"pretty much\", \"pretty much\", \"proceeded work\", \"program gaedu\", \"propulsion lab\", \"public domain\", \"public domain\", \"public domain\", \"public key\", \"public key\", \"public key\", \"pushed elevator\", \"radio ntmi\", \"real world\", \"real world\", \"red ladyn\", \"regional study\", \"relation people\", \"relation people\", \"remember way\", \"replaced jimmy\", \"research scientist\", \"road mountain\", \"ron baalke\", \"sahak melkonian\", \"san jose\", \"san jose\", \"san jose\", \"scientist artificial\", \"scsi controller\", \"sdpa center\", \"seems like\", \"seems like\", \"seems like\", \"seems like\", \"send email\", \"send email\", \"serdar argicn\", \"serial port\", \"serve way\", \"single turkish\", \"software engineer\", \"software engineering\", \"software engineering\", \"someone please\", \"someone please\", \"someone please\", \"something like\", \"something like\", \"something like\", \"something like\", \"something like\", \"soul sahak\", \"sound like\", \"sound like\", \"sound like\", \"sound like\", \"sound like\", \"source code\", \"souviens gary\", \"soviet armenia\", \"speak men\", \"spencer toronto\", \"standard disclaimer\", \"standard disclaimer\", \"standard failed\", \"sternlight great\", \"still remember\", \"take away\", \"take away\", \"take away\", \"take away\", \"take away\", \"taken ensure\", \"ten year\", \"ten year\", \"ten year\", \"ten year\", \"thank youn\", \"thank youn\", \"thank youn\", \"thank youn\", \"thank youn\", \"thanks advance\", \"thanks advance\", \"thanks advancen\", \"thanks advancen\", \"thanks advancen\", \"tim clock\", \"tkedu still\", \"today longer\", \"toronto zoologyn\", \"tttgo winnipeg\", \"turk proceeded\", \"turkish soul\", \"united state\", \"united state\", \"united state\", \"united state\", \"united state\", \"univ tenn\", \"university georgia\", \"usa amateur\", \"uunetpyramidoptilinkcramer opinion\", \"uunetpyramidoptilinkcramer opinion\", \"via ftp\", \"want ton\", \"want ton\", \"want ton\", \"want ton\", \"want ton\", \"way escape\", \"wide glide\", \"willn americanoccupied\", \"winnipeg jet\", \"winnipeg jet\", \"winnipeg jet\", \"wondering anyone\", \"wondering anyone\", \"wondering anyone\", \"wondering anyone\", \"work exterminationn\", \"work fine\", \"work fine\", \"work fine\", \"work fine\", \"work fine\", \"work man\", \"writesn article\", \"writesn article\", \"writesn article\", \"writesn article\", \"writesn article\", \"year ago\", \"year ago\", \"year ago\", \"year ago\", \"year ago\", \"year george\", \"year old\", \"year old\", \"year old\", \"year old\", \"year old\", \"york replaced\"]}, \"R\": 30, \"lambda.step\": 0.01, \"plot.opts\": {\"xlab\": \"PC1\", \"ylab\": \"PC2\"}, \"topic.order\": [2, 3, 1, 4, 5]};\n",
              "\n",
              "function LDAvis_load_lib(url, callback){\n",
              "  var s = document.createElement('script');\n",
              "  s.src = url;\n",
              "  s.async = true;\n",
              "  s.onreadystatechange = s.onload = callback;\n",
              "  s.onerror = function(){console.warn(\"failed to load library \" + url);};\n",
              "  document.getElementsByTagName(\"head\")[0].appendChild(s);\n",
              "}\n",
              "\n",
              "if(typeof(LDAvis) !== \"undefined\"){\n",
              "   // already loaded: just create the visualization\n",
              "   !function(LDAvis){\n",
              "       new LDAvis(\"#\" + \"ldavis_el1371399173467769123183826804\", ldavis_el1371399173467769123183826804_data);\n",
              "   }(LDAvis);\n",
              "}else if(typeof define === \"function\" && define.amd){\n",
              "   // require.js is available: use it to load d3/LDAvis\n",
              "   require.config({paths: {d3: \"https://cdnjs.cloudflare.com/ajax/libs/d3/3.5.5/d3.min\"}});\n",
              "   require([\"d3\"], function(d3){\n",
              "      window.d3 = d3;\n",
              "      LDAvis_load_lib(\"https://cdn.rawgit.com/bmabey/pyLDAvis/files/ldavis.v1.0.0.js\", function(){\n",
              "        new LDAvis(\"#\" + \"ldavis_el1371399173467769123183826804\", ldavis_el1371399173467769123183826804_data);\n",
              "      });\n",
              "    });\n",
              "}else{\n",
              "    // require.js not available: dynamically load d3 & LDAvis\n",
              "    LDAvis_load_lib(\"https://cdnjs.cloudflare.com/ajax/libs/d3/3.5.5/d3.min.js\", function(){\n",
              "         LDAvis_load_lib(\"https://cdn.rawgit.com/bmabey/pyLDAvis/files/ldavis.v1.0.0.js\", function(){\n",
              "                 new LDAvis(\"#\" + \"ldavis_el1371399173467769123183826804\", ldavis_el1371399173467769123183826804_data);\n",
              "            })\n",
              "         });\n",
              "}\n",
              "</script>"
            ],
            "text/plain": [
              "PreparedData(topic_coordinates=                x           y  topics  cluster       Freq\n",
              "topic                                                    \n",
              "1      150.222153  -72.269554       1        1  30.042197\n",
              "2       51.163364 -159.968018       2        1  20.149679\n",
              "0      -73.144554   21.523815       3        1  19.268366\n",
              "3      -66.410133 -110.606438       4        1  15.337383\n",
              "4       54.417324   12.443444       5        1  15.202375, topic_info=                  Term        Freq       Total Category  logprob  loglift\n",
              "516        anyone know  554.000000  554.000000  Default  30.0000  30.0000\n",
              "8948     serdar argicn  121.000000  121.000000  Default  29.0000  29.0000\n",
              "5700     longer exists  118.000000  118.000000  Default  28.0000  28.0000\n",
              "11151       way escape  117.000000  117.000000  Default  27.0000  27.0000\n",
              "630      argicn closed  116.000000  116.000000  Default  26.0000  26.0000\n",
              "...                ...         ...         ...      ...      ...      ...\n",
              "11629  writesn article   78.977032  440.567234   Topic5  -6.1007   0.1648\n",
              "3041         every day   53.786254  123.125760   Topic5  -6.4848   1.0555\n",
              "9333        sound like   55.740413  291.103293   Topic5  -6.4491   0.2307\n",
              "5342         last year   55.294337  342.110189   Topic5  -6.4572   0.0613\n",
              "2583          dont see   47.177979  219.993778   Topic5  -6.6159   0.3440\n",
              "\n",
              "[310 rows x 6 columns], token_table=       Topic      Freq           Term\n",
              "term                                 \n",
              "1          3  0.982966       ___ ____\n",
              "12         3  0.968129      ____ ____\n",
              "16         2  0.919476    _____ _____\n",
              "16         3  0.061298    _____ _____\n",
              "63         3  0.965381   abpsoft mehl\n",
              "...      ...       ...            ...\n",
              "11714      2  0.158291       year old\n",
              "11714      3  0.120083       year old\n",
              "11714      4  0.087333       year old\n",
              "11714      5  0.376623       year old\n",
              "11760      5  0.973615  york replaced\n",
              "\n",
              "[516 rows x 3 columns], R=30, lambda_step=0.01, plot_opts={'xlab': 'PC1', 'ylab': 'PC2'}, topic_order=[2, 3, 1, 4, 5])"
            ]
          },
          "metadata": {
            "tags": []
          },
          "execution_count": 29
        }
      ]
    },
    {
      "cell_type": "markdown",
      "metadata": {
        "id": "wvin3jYWD8eE",
        "colab_type": "text"
      },
      "source": [
        "# LDA Bigram - binary - stem"
      ]
    },
    {
      "cell_type": "code",
      "metadata": {
        "id": "CypUp0SfEDpS",
        "colab_type": "code",
        "colab": {}
      },
      "source": [
        "data_bigram_stem_binary = binary.fit_transform(df.bigram_stem)"
      ],
      "execution_count": 30,
      "outputs": []
    },
    {
      "cell_type": "code",
      "metadata": {
        "id": "KPmZuVRMED0A",
        "colab_type": "code",
        "colab": {
          "base_uri": "https://localhost:8080/",
          "height": 374
        },
        "outputId": "a3a5ac3b-1869-466f-e825-3364b5844ec3"
      },
      "source": [
        "# Parametri di ricerca\n",
        "search_params = {'n_components': [5,10, 15, 20, 25, 30], 'learning_decay': [.5, .7, .9]}\n",
        "\n",
        "# Inizializzazione Modello\n",
        "lda = LatentDirichletAllocation()\n",
        "\n",
        "# Inizializzazione GridSearchCV\n",
        "model = GridSearchCV(lda, param_grid=search_params)\n",
        "\n",
        "# Grid Search\n",
        "model.fit(data_bigram_stem_binary) "
      ],
      "execution_count": 31,
      "outputs": [
        {
          "output_type": "execute_result",
          "data": {
            "text/plain": [
              "GridSearchCV(cv=None, error_score=nan,\n",
              "             estimator=LatentDirichletAllocation(batch_size=128,\n",
              "                                                 doc_topic_prior=None,\n",
              "                                                 evaluate_every=-1,\n",
              "                                                 learning_decay=0.7,\n",
              "                                                 learning_method='batch',\n",
              "                                                 learning_offset=10.0,\n",
              "                                                 max_doc_update_iter=100,\n",
              "                                                 max_iter=10,\n",
              "                                                 mean_change_tol=0.001,\n",
              "                                                 n_components=10, n_jobs=None,\n",
              "                                                 perp_tol=0.1,\n",
              "                                                 random_state=None,\n",
              "                                                 topic_word_prior=None,\n",
              "                                                 total_samples=1000000.0,\n",
              "                                                 verbose=0),\n",
              "             iid='deprecated', n_jobs=None,\n",
              "             param_grid={'learning_decay': [0.5, 0.7, 0.9],\n",
              "                         'n_components': [5, 10, 15, 20, 25, 30]},\n",
              "             pre_dispatch='2*n_jobs', refit=True, return_train_score=False,\n",
              "             scoring=None, verbose=0)"
            ]
          },
          "metadata": {
            "tags": []
          },
          "execution_count": 31
        }
      ]
    },
    {
      "cell_type": "code",
      "metadata": {
        "id": "torP0_iDED8K",
        "colab_type": "code",
        "colab": {
          "base_uri": "https://localhost:8080/",
          "height": 68
        },
        "outputId": "327b5a85-44fe-4930-b157-8d7e20ed3be3"
      },
      "source": [
        "# Stimato il Miglior modello \n",
        "best_lda_model = model.best_estimator_\n",
        "\n",
        "# Parametri del modello\n",
        "print(\"Best Model Params: \", model.best_params_)\n",
        "\n",
        "# Log Likelihood Score\n",
        "print(\"Best Log Likelihood Score: \", model.best_score_)\n",
        "\n",
        "# Perplessità\n",
        "print(\"Model Perplexity: \", best_lda_model.perplexity(data_bigram_stem_binary))"
      ],
      "execution_count": 32,
      "outputs": [
        {
          "output_type": "stream",
          "text": [
            "Best Model Params:  {'learning_decay': 0.7, 'n_components': 5}\n",
            "Best Log Likelihood Score:  -605650.3532911433\n",
            "Model Perplexity:  9598.229771887038\n"
          ],
          "name": "stdout"
        }
      ]
    },
    {
      "cell_type": "code",
      "metadata": {
        "id": "KCo74hyREEa0",
        "colab_type": "code",
        "colab": {
          "base_uri": "https://localhost:8080/",
          "height": 861
        },
        "outputId": "a593ebc3-9779-40ae-f9cb-7f7d2d5dd7e3"
      },
      "source": [
        "pyLDAvis.enable_notebook()\n",
        "vis = pyLDAvis.sklearn.prepare(best_lda_model, data_bigram_stem_binary, binary, mds='tsne')\n",
        "vis"
      ],
      "execution_count": 33,
      "outputs": [
        {
          "output_type": "execute_result",
          "data": {
            "text/html": [
              "\n",
              "<link rel=\"stylesheet\" type=\"text/css\" href=\"https://cdn.rawgit.com/bmabey/pyLDAvis/files/ldavis.v1.0.0.css\">\n",
              "\n",
              "\n",
              "<div id=\"ldavis_el1371399174149444649810735037\"></div>\n",
              "<script type=\"text/javascript\">\n",
              "\n",
              "var ldavis_el1371399174149444649810735037_data = {\"mdsDat\": {\"x\": [150.22215270996094, 51.16336441040039, -73.1445541381836, -66.4101333618164, 54.41732406616211], \"y\": [-72.2695541381836, -159.968017578125, 21.523815155029297, -110.60643768310547, 12.44344425201416], \"topics\": [1, 2, 3, 4, 5], \"cluster\": [1, 1, 1, 1, 1], \"Freq\": [24.853321587245752, 24.393665362789545, 21.404238268018048, 14.938416053370856, 14.410358728575806]}, \"tinfo\": {\"Term\": [\"thank advancen\", \"pleas email\", \"anyon know\", \"serdar argicn\", \"longer exist\", \"clipper chip\", \"way escap\", \"argicn close\", \"today longer\", \"exist singl\", \"close road\", \"might serv\", \"turk proceed\", \"road mountain\", \"sahak melkonian\", \"exterminationn ohanu\", \"proceed work\", \"singl turkish\", \"soul sahak\", \"soviet armenia\", \"pass might\", \"ohanu appressian\", \"mountain pass\", \"escap turk\", \"serv way\", \"turkish soul\", \"armenia today\", \"appressian soviet\", \"work exterminationn\", \"public key\", \"gordon bank\", \"chastiti intellect\", \"skeptic chastiti\", \"bank njxp\", \"intellect andn\", \"njxp skeptic\", \"andn slpittedu\", \"shame surrend\", \"surrend soon\", \"slpittedu shame\", \"david veal\", \"still rememb\", \"rememb way\", \"info servic\", \"push elev\", \"elev shaft\", \"anymor weird\", \"love anymor\", \"tkedu still\", \"begin think\", \"research cprn\", \"univ tenn\", \"veal univ\", \"tenn div\", \"cont educ\", \"servic groupn\", \"div cont\", \"educ info\", \"groupn tkedu\", \"dontn love\", \"think dontn\", \"polici research\", \"center polici\", \"dont blame\", \"ide drive\", \"bill clinton\", \"last year\", \"year ago\", \"dont think\", \"dont know\", \"last yearn\", \"doesnt mean\", \"writesn articl\", \"say dont\", \"unit state\", \"san jose\", \"lo angel\", \"anyon els\", \"dont get\", \"make sure\", \"look like\", \"sound like\", \"mani peopl\", \"someth like\", \"dont see\", \"new york\", \"even though\", \"answer question\", \"ive seen\", \"thank advancen\", \"thank advanc\", \"greatli appreciatedn\", \"serial port\", \"michael covington\", \"artifici intellig\", \"univers georgia\", \"help greatli\", \"hard driven\", \"athen georgia\", \"usa amateur\", \"georgia usa\", \"intellig program\", \"radio ntmi\", \"research scientist\", \"bell lab\", \"pleas email\", \"gaedu univers\", \"program gaedu\", \"associ research\", \"scientist artifici\", \"georgia phone\", \"phone athen\", \"covington associ\", \"___ _____\", \"els fail\", \"thank muchn\", \"propuls lab\", \"keep bear\", \"express mine\", \"could someon\", \"thing infinit\", \"video card\", \"att bell\", \"need help\", \"greatli appreci\", \"know get\", \"like know\", \"hard drive\", \"pleas let\", \"thank youn\", \"hard disk\", \"help appreciatedn\", \"thank helpn\", \"amateur radio\", \"anyon know\", \"someon pleas\", \"let know\", \"wonder anyon\", \"power suppli\", \"pleas post\", \"let known\", \"dont know\", \"pleas send\", \"ive got\", \"someth like\", \"email address\", \"someth els\", \"work fine\", \"tri get\", \"ive seen\", \"comput scienc\", \"first time\", \"dont think\", \"dont see\", \"anyon els\", \"look like\", \"sound like\", \"year ago\", \"writesn articl\", \"alink ksand\", \"privat activ\", \"ksand privat\", \"activ netn\", \"pplecom alink\", \"kentn pplecom\", \"cheersn kentn\", \"space shuttl\", \"via ftp\", \"imag process\", \"avail anonym\", \"new version\", \"andr beck\", \"phil fraer\", \"send messag\", \"chapel hill\", \"box even\", \"mail listn\", \"even explain\", \"armenian border\", \"troop onn\", \"email ton\", \"turkish march\", \"border cant\", \"studi armenian\", \"dpaorg explain\", \"cant box\", \"explain turkish\", \"cambridg turkish\", \"onn sdpa\", \"josh hopkin\", \"explain cambridg\", \"anonym ftp\", \"via anonym\", \"avail via\", \"mail list\", \"like men\", \"north carolina\", \"ftp site\", \"public domain\", \"sourc code\", \"window system\", \"anyon interest\", \"dont want\", \"san francisco\", \"mani peopl\", \"also avail\", \"jesu christ\", \"dont think\", \"look like\", \"dont know\", \"everi day\", \"anyon know\", \"year ago\", \"last year\", \"even though\", \"may ben\", \"seem like\", \"ive seen\", \"dont believ\", \"tri ton\", \"new york\", \"writesn articl\", \"sound like\", \"serdar argicn\", \"longer exist\", \"way escap\", \"argicn close\", \"today longer\", \"exist singl\", \"close road\", \"might serv\", \"pass might\", \"appressian soviet\", \"turkish soul\", \"turk proceed\", \"exterminationn ohanu\", \"ohanu appressian\", \"work exterminationn\", \"serv way\", \"road mountain\", \"singl turkish\", \"mountain pass\", \"soviet armenia\", \"proceed work\", \"escap turk\", \"armenia today\", \"soul sahak\", \"sahak melkonian\", \"write today\", \"believ speak\", \"wstratuscom believ\", \"investor packetn\", \"today special\", \"speak companyn\", \"companyn tratuscom\", \"special investor\", \"tratuscom write\", \"new york\", \"writesn articl\", \"last night\", \"dont think\", \"dont know\", \"henri spencer\", \"david sternlight\", \"orontoedu utzoohenryn\", \"spencer toronto\", \"toronto zoologyn\", \"pgp public\", \"key escrow\", \"great care\", \"care taken\", \"taken ensur\", \"ensur accuraci\", \"accuraci ofn\", \"error omiss\", \"inform error\", \"sternlight great\", \"omiss except\", \"georgia institut\", \"best offer\", \"repli email\", \"adam laskaedu\", \"laskaedu high\", \"high jackedn\", \"work man\", \"session key\", \"man work\", \"escrow key\", \"zoologyn kipl\", \"work henri\", \"kipl orontoedu\", \"svr resembl\", \"clipper chip\", \"institut technolog\", \"michael adam\", \"key avail\", \"public key\", \"serial number\", \"davidn david\", \"court order\", \"brand new\", \"law enforc\", \"comput servic\", \"ofn inform\", \"pleas repli\", \"dont know\", \"anyon know\", \"look like\", \"work fine\", \"ive seen\", \"dont think\"], \"Freq\": [357.0, 231.0, 553.0, 120.0, 118.0, 122.0, 116.0, 115.0, 115.0, 115.0, 115.0, 115.0, 114.0, 114.0, 114.0, 114.0, 114.0, 114.0, 114.0, 114.0, 114.0, 114.0, 114.0, 114.0, 114.0, 114.0, 114.0, 114.0, 114.0, 119.0, 87.29734938396874, 79.55734863105633, 79.55734863105633, 79.55734863105633, 79.55734863105633, 79.55734863105633, 77.62177160306767, 77.62177160306767, 77.62177160306767, 77.62177160306767, 47.6164492414784, 43.744519894075786, 40.841624071933175, 40.84143333249917, 39.87372075527447, 39.87372075505039, 39.87372075497439, 39.87372075494407, 39.87372075475821, 39.87350194632618, 39.87133753124512, 38.90554592755934, 36.9705594573084, 36.970559457308404, 36.97055945730838, 36.97055945730839, 36.97055945730839, 36.970559457308376, 36.970559457308376, 35.995855558728685, 36.937039243542294, 59.204836615590665, 54.290607647015364, 46.48708227728819, 48.79459405401489, 72.73207615286381, 176.2262247276728, 166.54227706826862, 204.5623214064067, 241.21188964076222, 58.20169011766064, 74.68811601416317, 142.4723998063128, 60.79799025866875, 93.26905870610344, 65.11173485816438, 67.61035425366285, 98.56015565693244, 71.07033494835093, 79.99622193338885, 103.65690370854828, 91.55743026145734, 82.47972682649208, 83.97814668923611, 74.54907228599193, 82.64950080447629, 73.21034494623885, 67.42523421365408, 68.38130354084046, 355.4609185174758, 99.61739384856557, 92.12551337145938, 58.33149060712703, 51.802810266684084, 50.866645646144214, 49.92946982325189, 49.92465948035602, 46.17253853470364, 45.23723228441222, 44.29866958998985, 43.36010678559439, 43.36010678559439, 43.36010678559439, 43.35777305047962, 40.54247265935759, 227.5615956270219, 39.60612376689769, 39.60612376689769, 37.72900239349714, 37.72900239349714, 37.72900239349714, 37.72900239349714, 37.72900239349714, 36.78793999463971, 40.4555308013214, 35.84476131316752, 34.91053608838234, 32.09183700815324, 32.09145226240357, 111.04672981610365, 34.81493078867993, 82.82405946879514, 54.454897128396965, 54.30553617731724, 70.74709831766658, 58.05657209663428, 135.12225579642748, 119.9351415692759, 111.62387434614966, 119.33694376503645, 72.52381795712955, 51.84627853327407, 65.10821939950965, 73.68126497419547, 339.9158823906048, 84.72256546975343, 137.77349349824738, 72.51865108974255, 61.0287234139716, 72.48910435584564, 59.74583025374779, 289.11308595061547, 99.56814681338707, 96.61673593904577, 149.2825724523895, 79.39759301726319, 68.09207826174894, 83.40714662908336, 86.72917315307546, 106.61614288119445, 81.66891793407932, 81.37224557112395, 118.12872705739579, 87.73175422833415, 89.04287414402035, 92.1616360532, 86.62023941605804, 87.59109350202566, 74.60987178093738, 76.71983120717759, 76.71983120717759, 76.71983120717759, 76.71983120717759, 76.71983120717759, 74.80666941680362, 66.19701423665703, 45.142573263991665, 38.451621846231845, 32.71130958186721, 31.758088271227088, 31.75799548635616, 29.846097154690685, 28.889044573957776, 29.806530612023433, 27.931086374223487, 27.92807095957222, 27.927767920092094, 26.976013066330548, 26.975790618494827, 26.975719924196394, 26.97212050885633, 26.019360772769826, 26.019360772769826, 26.019360772769826, 26.019360772769826, 26.019360772769826, 26.019360772769826, 26.019360772769826, 26.019360772769826, 26.947908410142958, 26.019360772769826, 90.0415885259319, 52.49871265369338, 64.77557351634609, 104.11196710309221, 33.353659679361336, 35.15133024519938, 75.98476032153319, 61.268612496026606, 51.57590415083723, 36.98933865740154, 36.45434367726382, 123.19249221971253, 50.62555973001532, 110.02462953844704, 41.8699293718176, 52.82510614153028, 130.7536822382689, 110.37221608430076, 155.76529930890803, 56.48024243644684, 100.14080335184414, 87.70530989008742, 80.93919799496719, 72.34218415730344, 48.225690162401506, 68.12386651912784, 71.11009690627884, 58.118622161083266, 52.89382609540828, 60.0921941802239, 57.59589359665956, 54.32409012209076, 120.1959672484938, 117.337920877792, 115.43240076426052, 114.48145501440656, 114.48133700052271, 114.48129311873026, 114.48079536839438, 114.47835938690102, 113.52902932806447, 113.52902932806447, 113.52902932806447, 113.52902932806447, 113.52902932806447, 113.52902932806447, 113.52902932806447, 113.52902932806447, 113.52902932806447, 113.52902932806447, 113.52902932806447, 113.52902932806447, 113.52902932806447, 113.52902932806447, 113.52902932806447, 113.52902932806447, 113.52902932806447, 70.6686356147888, 70.66849210987246, 69.71623364197325, 69.71623364197325, 69.71623364197323, 69.71623364197323, 69.71623364197323, 69.71623364197323, 69.7162336419732, 153.10490112450753, 128.85998165096268, 81.54613475520212, 96.28294870647784, 82.53948962084833, 80.71878422868744, 71.35298682341508, 66.67338312862876, 66.67338312862876, 66.67338312862876, 65.73287696985761, 60.115490632622056, 52.62530412056301, 51.69043441521433, 50.75382986155508, 49.81756775471463, 49.817567754714624, 48.88121721899618, 48.88121721899618, 48.88113397431252, 47.94478482484844, 47.94314712750963, 45.13224319919287, 43.257256167708796, 39.51416681030412, 39.51416679217181, 38.57768411968671, 36.70596921649795, 36.70576825777205, 35.77121561081337, 35.76796855216113, 33.89843636805451, 33.89843636805451, 33.89843636805451, 32.02578160793658, 118.90259013717754, 57.17241033659551, 44.90015620065486, 52.341163023334595, 101.31221937142452, 65.5756784689759, 47.96119385160682, 50.42221566565608, 59.76754885627324, 88.9234378476278, 50.073388727623936, 52.6633315663819, 70.0463574287027, 141.62827045686595, 104.62775898704693, 71.76282900098539, 56.17225863808687, 53.41279162905219, 53.38158136998637], \"Total\": [357.0, 231.0, 553.0, 120.0, 118.0, 122.0, 116.0, 115.0, 115.0, 115.0, 115.0, 115.0, 114.0, 114.0, 114.0, 114.0, 114.0, 114.0, 114.0, 114.0, 114.0, 114.0, 114.0, 114.0, 114.0, 114.0, 114.0, 114.0, 114.0, 119.0, 88.05733409701577, 80.31456876895969, 80.31456876895969, 80.31456876895969, 80.31456876895969, 80.31456876895969, 78.37886058567253, 78.37886058567253, 78.37886058567253, 78.37886058567253, 48.375270275123135, 44.503833687978684, 41.60027674719872, 41.60027690223446, 40.632419161152455, 40.63241916114566, 40.63241916114335, 40.63241916114243, 40.6324191611368, 40.63242358349441, 40.63240101886581, 39.66455482532267, 37.72886168764095, 37.728861687640965, 37.72886168764095, 37.72886168764096, 37.72886168764096, 37.72886168764095, 37.72886168764096, 36.760863260690385, 37.72832688135263, 62.84641866823837, 58.005948788817875, 49.30967929673586, 55.06688844824837, 96.21418693507742, 348.7945126693773, 413.83982894717155, 603.1092607785356, 910.2580349780001, 79.79793849566002, 124.82382408048113, 442.6776589203231, 91.1713992875643, 217.96386138322765, 107.40228812118414, 119.78106367634808, 281.13871509596765, 147.44583370174666, 208.73588027978562, 435.7589875631722, 319.61404342624445, 303.6763405248516, 350.9856565043861, 219.83226233719498, 346.4781813999024, 262.0961245768446, 195.40478004794096, 318.9281535319381, 357.6247493719549, 100.43806644102789, 92.92795929279143, 59.141346455611554, 52.5705778646228, 51.63196775005163, 50.69340418075653, 50.6934121734113, 46.939235658989, 46.000656990072585, 45.06211019534012, 44.123563409072275, 44.123563409072275, 44.123563409072275, 44.12359305975492, 41.30792940969996, 231.90049557390523, 40.369371867330734, 40.369371867330734, 38.492278290178405, 38.492278290178405, 38.492278290178405, 38.492278290178405, 38.492278290178405, 37.55380046016383, 41.30779955622814, 36.615307629907576, 35.676696029591575, 32.8610871698787, 32.86108336299883, 114.56159621314116, 35.6764189257971, 86.39059715272927, 56.34568252124555, 56.348751547707735, 76.02403321668997, 62.01712435946506, 160.01763582295797, 142.72452590110515, 132.7742976128679, 143.94346391961747, 81.70827003921312, 55.43958129448224, 73.20477563441132, 85.54833449019617, 553.7202394478122, 104.29363097288987, 196.156680262589, 87.5135151521395, 69.68978091204552, 90.22336741622956, 69.6944856436329, 910.2580349780001, 162.33426941496148, 155.84872322638745, 350.9856565043861, 121.9215320328776, 92.65498939857251, 145.52239666019005, 169.48337825158458, 318.9281535319381, 160.4204704915491, 161.25693253874937, 603.1092607785356, 219.83226233719498, 281.13871509596765, 435.7589875631722, 319.61404342624445, 413.83982894717155, 442.6776589203231, 77.48023693998451, 77.48023693998451, 77.48023693998451, 77.48023693998451, 77.48023693998451, 75.56698963733241, 66.95737765234018, 45.91149666762769, 39.21523893369865, 33.47549053471353, 32.518915450733736, 32.518919868424994, 30.60569328741235, 29.64906121090048, 30.604892905528946, 28.692423251617743, 28.692393955470305, 28.69241694555722, 27.73583410875854, 27.735831356927346, 27.73582857021836, 27.735748349250894, 26.779210780729432, 26.779210780729432, 26.779210780729432, 26.779210780729432, 26.779210780729432, 26.779210780729432, 26.779210780729432, 26.779210780729432, 27.735306024975834, 26.779210780729432, 94.62350854463847, 56.367472932073234, 71.61077947211459, 147.1705768692477, 37.33943640248809, 40.12354014066443, 115.94678840875592, 90.32891274089997, 72.29553226135273, 44.81889061271656, 43.85671668051314, 310.6520570823636, 78.19616330806033, 303.6763405248516, 59.06449556971284, 92.2874770295608, 603.1092607785356, 435.7589875631722, 910.2580349780001, 124.08226963030654, 553.7202394478122, 413.83982894717155, 348.7945126693773, 262.0961245768446, 91.33211222117734, 251.2221716213585, 318.9281535319381, 178.38316084438554, 139.09142312673683, 346.4781813999024, 442.6776589203231, 319.61404342624445, 120.95595658130031, 118.09869117502882, 116.1938250919004, 115.2414054043363, 115.24140369208179, 115.24140269131343, 115.2414042040018, 115.24142094473987, 114.28898016049564, 114.28898016049564, 114.28898016049564, 114.28898016049564, 114.28898016049564, 114.28898016049564, 114.28898016049564, 114.28898016049564, 114.28898016049564, 114.28898016049564, 114.28898016049564, 114.28898016049564, 114.28898016049564, 114.28898016049564, 114.28898016049564, 114.28898016049564, 114.28898016049564, 71.4298457068585, 71.4298473802572, 70.4774200076604, 70.47742000766043, 70.4774200076604, 70.47742000766041, 70.4774200076604, 70.4774200076604, 70.4774200076604, 346.4781813999024, 442.6776589203231, 191.28032708783414, 603.1092607785356, 910.2580349780001, 81.48311707900514, 72.1188679357679, 67.43669955135364, 67.43669955135364, 67.43669955135364, 66.50033716622134, 60.881755863503805, 53.39033354862909, 52.453870106268255, 51.517446096443095, 50.58101623485723, 50.58101623485722, 49.644587885359, 49.644587885359, 49.64458930754964, 48.70816093481512, 48.708180866892896, 45.898919006431015, 44.02604473965454, 40.28036507702335, 40.28036507741429, 39.34393982253641, 37.471071648062626, 37.471059986520956, 36.53460794792535, 36.53465210239735, 34.66175276467932, 34.66175276467932, 34.66175276467932, 32.78889609547474, 122.73744961514785, 59.03198225272814, 46.860559282213394, 55.3097015319531, 119.25590657279004, 73.070509644252, 51.523842208946135, 55.35155163696104, 71.25534126583544, 133.14744548622508, 57.334477718550794, 62.01021922892522, 132.18885472659855, 910.2580349780001, 553.7202394478122, 435.7589875631722, 145.52239666019005, 318.9281535319381, 603.1092607785356], \"Category\": [\"Default\", \"Default\", \"Default\", \"Default\", \"Default\", \"Default\", \"Default\", \"Default\", \"Default\", \"Default\", \"Default\", \"Default\", \"Default\", \"Default\", \"Default\", \"Default\", \"Default\", \"Default\", \"Default\", \"Default\", \"Default\", \"Default\", \"Default\", \"Default\", \"Default\", \"Default\", \"Default\", \"Default\", \"Default\", \"Default\", \"Topic1\", \"Topic1\", \"Topic1\", \"Topic1\", \"Topic1\", \"Topic1\", \"Topic1\", \"Topic1\", \"Topic1\", \"Topic1\", \"Topic1\", \"Topic1\", \"Topic1\", \"Topic1\", \"Topic1\", \"Topic1\", \"Topic1\", \"Topic1\", \"Topic1\", \"Topic1\", \"Topic1\", \"Topic1\", \"Topic1\", \"Topic1\", \"Topic1\", \"Topic1\", \"Topic1\", \"Topic1\", \"Topic1\", \"Topic1\", \"Topic1\", \"Topic1\", \"Topic1\", \"Topic1\", \"Topic1\", \"Topic1\", \"Topic1\", \"Topic1\", \"Topic1\", \"Topic1\", \"Topic1\", \"Topic1\", \"Topic1\", \"Topic1\", \"Topic1\", \"Topic1\", \"Topic1\", \"Topic1\", \"Topic1\", \"Topic1\", \"Topic1\", \"Topic1\", \"Topic1\", \"Topic1\", \"Topic1\", \"Topic1\", \"Topic1\", \"Topic1\", \"Topic1\", \"Topic2\", \"Topic2\", \"Topic2\", \"Topic2\", \"Topic2\", \"Topic2\", \"Topic2\", \"Topic2\", \"Topic2\", \"Topic2\", \"Topic2\", \"Topic2\", \"Topic2\", \"Topic2\", \"Topic2\", \"Topic2\", \"Topic2\", \"Topic2\", \"Topic2\", \"Topic2\", \"Topic2\", \"Topic2\", \"Topic2\", \"Topic2\", \"Topic2\", \"Topic2\", \"Topic2\", \"Topic2\", \"Topic2\", \"Topic2\", \"Topic2\", \"Topic2\", \"Topic2\", \"Topic2\", \"Topic2\", \"Topic2\", \"Topic2\", \"Topic2\", \"Topic2\", \"Topic2\", \"Topic2\", \"Topic2\", \"Topic2\", \"Topic2\", \"Topic2\", \"Topic2\", \"Topic2\", \"Topic2\", \"Topic2\", \"Topic2\", \"Topic2\", \"Topic2\", \"Topic2\", \"Topic2\", \"Topic2\", \"Topic2\", \"Topic2\", \"Topic2\", \"Topic2\", \"Topic2\", \"Topic2\", \"Topic2\", \"Topic2\", \"Topic2\", \"Topic2\", \"Topic2\", \"Topic2\", \"Topic2\", \"Topic2\", \"Topic2\", \"Topic3\", \"Topic3\", \"Topic3\", \"Topic3\", \"Topic3\", \"Topic3\", \"Topic3\", \"Topic3\", \"Topic3\", \"Topic3\", \"Topic3\", \"Topic3\", \"Topic3\", \"Topic3\", \"Topic3\", \"Topic3\", \"Topic3\", \"Topic3\", \"Topic3\", \"Topic3\", \"Topic3\", \"Topic3\", \"Topic3\", \"Topic3\", \"Topic3\", \"Topic3\", \"Topic3\", \"Topic3\", \"Topic3\", \"Topic3\", \"Topic3\", \"Topic3\", \"Topic3\", \"Topic3\", \"Topic3\", \"Topic3\", \"Topic3\", \"Topic3\", \"Topic3\", \"Topic3\", \"Topic3\", \"Topic3\", \"Topic3\", \"Topic3\", \"Topic3\", \"Topic3\", \"Topic3\", \"Topic3\", \"Topic3\", \"Topic3\", \"Topic3\", \"Topic3\", \"Topic3\", \"Topic3\", \"Topic3\", \"Topic3\", \"Topic3\", \"Topic3\", \"Topic3\", \"Topic3\", \"Topic3\", \"Topic3\", \"Topic3\", \"Topic3\", \"Topic4\", \"Topic4\", \"Topic4\", \"Topic4\", \"Topic4\", \"Topic4\", \"Topic4\", \"Topic4\", \"Topic4\", \"Topic4\", \"Topic4\", \"Topic4\", \"Topic4\", \"Topic4\", \"Topic4\", \"Topic4\", \"Topic4\", \"Topic4\", \"Topic4\", \"Topic4\", \"Topic4\", \"Topic4\", \"Topic4\", \"Topic4\", \"Topic4\", \"Topic4\", \"Topic4\", \"Topic4\", \"Topic4\", \"Topic4\", \"Topic4\", \"Topic4\", \"Topic4\", \"Topic4\", \"Topic4\", \"Topic4\", \"Topic4\", \"Topic4\", \"Topic4\", \"Topic5\", \"Topic5\", \"Topic5\", \"Topic5\", \"Topic5\", \"Topic5\", \"Topic5\", \"Topic5\", \"Topic5\", \"Topic5\", \"Topic5\", \"Topic5\", \"Topic5\", \"Topic5\", \"Topic5\", \"Topic5\", \"Topic5\", \"Topic5\", \"Topic5\", \"Topic5\", \"Topic5\", \"Topic5\", \"Topic5\", \"Topic5\", \"Topic5\", \"Topic5\", \"Topic5\", \"Topic5\", \"Topic5\", \"Topic5\", \"Topic5\", \"Topic5\", \"Topic5\", \"Topic5\", \"Topic5\", \"Topic5\", \"Topic5\", \"Topic5\", \"Topic5\", \"Topic5\", \"Topic5\", \"Topic5\", \"Topic5\", \"Topic5\", \"Topic5\", \"Topic5\", \"Topic5\", \"Topic5\", \"Topic5\"], \"logprob\": [30.0, 29.0, 28.0, 27.0, 26.0, 25.0, 24.0, 23.0, 22.0, 21.0, 20.0, 19.0, 18.0, 17.0, 16.0, 15.0, 14.0, 13.0, 12.0, 11.0, 10.0, 9.0, 8.0, 7.0, 6.0, 5.0, 4.0, 3.0, 2.0, 1.0, -6.6096, -6.7025, -6.7025, -6.7025, -6.7025, -6.7025, -6.7271, -6.7271, -6.7271, -6.7271, -7.2158, -7.3006, -7.3693, -7.3693, -7.3932, -7.3932, -7.3932, -7.3932, -7.3932, -7.3933, -7.3933, -7.4178, -7.4688, -7.4688, -7.4688, -7.4688, -7.4688, -7.4688, -7.4688, -7.4956, -7.4698, -6.998, -7.0846, -7.2398, -7.1913, -6.7922, -5.9072, -5.9637, -5.7581, -5.5933, -7.0151, -6.7656, -6.1198, -6.9714, -6.5435, -6.9029, -6.8652, -6.4883, -6.8153, -6.697, -6.4379, -6.562, -6.6664, -6.6484, -6.7675, -6.6644, -6.7856, -6.8679, -6.8539, -5.1869, -6.459, -6.5371, -6.9942, -7.1129, -7.1311, -7.1497, -7.1498, -7.2279, -7.2484, -7.2693, -7.2908, -7.2908, -7.2908, -7.2908, -7.3579, -5.6329, -7.3813, -7.3813, -7.4299, -7.4299, -7.4299, -7.4299, -7.4299, -7.4551, -7.3601, -7.4811, -7.5075, -7.5917, -7.5917, -6.3503, -7.5103, -6.6436, -7.0629, -7.0657, -6.8012, -6.9989, -6.1541, -6.2733, -6.3452, -6.2783, -6.7764, -7.112, -6.8842, -6.7605, -5.2316, -6.6209, -6.1347, -6.7765, -6.949, -6.7769, -6.9702, -5.3935, -6.4595, -6.4895, -6.0545, -6.6858, -6.8394, -6.6366, -6.5975, -6.3911, -6.6576, -6.6613, -6.2885, -6.586, -6.5712, -6.5368, -6.5988, -6.5876, -6.748, -6.5894, -6.5894, -6.5894, -6.5894, -6.5894, -6.6147, -6.7369, -7.1197, -7.2802, -7.4418, -7.4714, -7.4714, -7.5335, -7.5661, -7.5348, -7.5998, -7.5999, -7.5999, -7.6346, -7.6346, -7.6346, -7.6348, -7.6707, -7.6707, -7.6707, -7.6707, -7.6707, -7.6707, -7.6707, -7.6707, -7.6357, -7.6707, -6.4293, -6.9688, -6.7586, -6.2841, -7.4224, -7.3699, -6.599, -6.8143, -6.9865, -7.3189, -7.3335, -6.1158, -7.0051, -6.2289, -7.195, -6.9626, -6.0562, -6.2257, -5.8812, -6.8957, -6.323, -6.4556, -6.5359, -6.6482, -7.0537, -6.7082, -6.6653, -6.8671, -6.9613, -6.8337, -6.8761, -6.9346, -5.7808, -5.8049, -5.8212, -5.8295, -5.8295, -5.8295, -5.8295, -5.8295, -5.8379, -5.8379, -5.8379, -5.8379, -5.8379, -5.8379, -5.8379, -5.8379, -5.8379, -5.8379, -5.8379, -5.8379, -5.8379, -5.8379, -5.8379, -5.8379, -5.8379, -6.3119, -6.3119, -6.3255, -6.3255, -6.3255, -6.3255, -6.3255, -6.3255, -6.3255, -5.5388, -5.7112, -6.1687, -6.0026, -6.1566, -6.143, -6.2663, -6.3341, -6.3341, -6.3341, -6.3483, -6.4377, -6.5707, -6.5886, -6.6069, -6.6256, -6.6256, -6.6445, -6.6445, -6.6445, -6.6639, -6.6639, -6.7243, -6.7668, -6.8573, -6.8573, -6.8812, -6.931, -6.931, -6.9568, -6.9569, -7.0106, -7.0106, -7.0106, -7.0674, -5.7556, -6.4879, -6.7295, -6.5761, -5.9157, -6.3507, -6.6635, -6.6135, -6.4435, -6.0461, -6.6204, -6.57, -6.2848, -5.5807, -5.8835, -6.2606, -6.5055, -6.5559, -6.5565], \"loglift\": [30.0, 29.0, 28.0, 27.0, 26.0, 25.0, 24.0, 23.0, 22.0, 21.0, 20.0, 19.0, 18.0, 17.0, 16.0, 15.0, 14.0, 13.0, 12.0, 11.0, 10.0, 9.0, 8.0, 7.0, 6.0, 5.0, 4.0, 3.0, 2.0, 1.0, 1.3835, 1.3827, 1.3827, 1.3827, 1.3827, 1.3827, 1.3825, 1.3825, 1.3825, 1.3825, 1.3764, 1.375, 1.3738, 1.3738, 1.3733, 1.3733, 1.3733, 1.3733, 1.3733, 1.3733, 1.3733, 1.3729, 1.3719, 1.3719, 1.3719, 1.3719, 1.3719, 1.3719, 1.3719, 1.3711, 1.371, 1.3325, 1.326, 1.3332, 1.2712, 1.1124, 0.7095, 0.4819, 0.311, 0.0641, 1.0766, 0.8786, 0.2585, 0.987, 0.5433, 0.8917, 0.8203, 0.344, 0.6624, 0.4331, -0.0438, 0.142, 0.0888, -0.038, 0.3108, -0.041, 0.1168, 0.3281, -0.1477, 1.4048, 1.4026, 1.4022, 1.3971, 1.3961, 1.3959, 1.3957, 1.3956, 1.3944, 1.3941, 1.3938, 1.3934, 1.3934, 1.3934, 1.3933, 1.3921, 1.392, 1.3918, 1.3918, 1.3908, 1.3908, 1.3908, 1.3908, 1.3908, 1.3902, 1.39, 1.3896, 1.3891, 1.3872, 1.3871, 1.3797, 1.3864, 1.3687, 1.3767, 1.3739, 1.3389, 1.3449, 1.2417, 1.2369, 1.2373, 1.2234, 1.2916, 1.3438, 1.2936, 1.2615, 0.9229, 1.203, 1.0575, 1.2229, 1.2781, 1.192, 1.2568, 0.2639, 0.922, 0.9327, 0.5559, 0.9819, 1.1028, 0.8543, 0.7409, 0.3151, 0.7357, 0.7269, -0.2195, 0.4923, 0.2611, -0.1427, 0.1053, -0.142, -0.3697, 1.5317, 1.5317, 1.5317, 1.5317, 1.5317, 1.5315, 1.5302, 1.5247, 1.5219, 1.5185, 1.5179, 1.5179, 1.5164, 1.5156, 1.5151, 1.5147, 1.5146, 1.5146, 1.5138, 1.5138, 1.5138, 1.5137, 1.5128, 1.5128, 1.5128, 1.5128, 1.5128, 1.5128, 1.5128, 1.5128, 1.5128, 1.5128, 1.4919, 1.4705, 1.4413, 1.1955, 1.4287, 1.4093, 1.119, 1.1534, 1.2039, 1.3496, 1.3567, 0.6167, 1.1068, 0.5263, 1.1975, 0.9837, 0.0128, 0.1684, -0.2238, 0.7545, -0.1685, -0.0099, 0.0808, 0.2543, 0.903, 0.2366, 0.0408, 0.4201, 0.5747, -0.2104, -0.4978, -0.2306, 1.8949, 1.8948, 1.8947, 1.8946, 1.8946, 1.8946, 1.8946, 1.8946, 1.8946, 1.8946, 1.8946, 1.8946, 1.8946, 1.8946, 1.8946, 1.8946, 1.8946, 1.8946, 1.8946, 1.8946, 1.8946, 1.8946, 1.8946, 1.8946, 1.8946, 1.8905, 1.8905, 1.8904, 1.8904, 1.8904, 1.8904, 1.8904, 1.8904, 1.8904, 1.0845, 0.6671, 1.0487, 0.0664, -0.4992, 1.9278, 1.9265, 1.9258, 1.9258, 1.9258, 1.9256, 1.9246, 1.9228, 1.9226, 1.9223, 1.922, 1.922, 1.9217, 1.9217, 1.9217, 1.9214, 1.9214, 1.9204, 1.9196, 1.918, 1.918, 1.9176, 1.9166, 1.9166, 1.9161, 1.916, 1.915, 1.915, 1.915, 1.9137, 1.9055, 1.9052, 1.8945, 1.8821, 1.7742, 1.829, 1.8656, 1.844, 1.7614, 1.5335, 1.8018, 1.7738, 1.3021, 0.0767, 0.271, 0.1335, 0.9853, 0.1503, -0.4874]}, \"token.table\": {\"Topic\": [2, 5, 3, 5, 3, 1, 3, 4, 5, 2, 3, 5, 1, 3, 2, 3, 5, 1, 2, 3, 4, 5, 1, 1, 2, 3, 4, 5, 3, 5, 1, 2, 3, 4, 5, 4, 4, 4, 3, 2, 2, 2, 2, 3, 3, 3, 5, 1, 1, 4, 2, 5, 1, 2, 3, 4, 5, 3, 3, 1, 2, 3, 5, 3, 3, 5, 1, 4, 3, 1, 3, 4, 5, 4, 4, 1, 2, 3, 4, 5, 1, 3, 5, 1, 1, 2, 5, 1, 4, 5, 2, 5, 1, 2, 5, 1, 1, 2, 3, 4, 5, 1, 2, 3, 4, 5, 1, 4, 1, 2, 3, 4, 5, 1, 2, 3, 4, 5, 1, 2, 3, 4, 5, 1, 2, 3, 4, 5, 1, 2, 3, 4, 5, 1, 3, 1, 1, 2, 1, 2, 3, 4, 3, 5, 5, 4, 5, 3, 1, 2, 3, 4, 5, 1, 2, 3, 4, 5, 4, 3, 3, 2, 4, 1, 2, 3, 4, 5, 2, 3, 2, 5, 2, 2, 1, 5, 2, 5, 2, 1, 1, 2, 3, 5, 1, 2, 3, 5, 2, 2, 3, 2, 5, 5, 1, 3, 4, 3, 1, 5, 3, 5, 1, 2, 4, 1, 2, 3, 4, 5, 1, 2, 3, 4, 5, 1, 2, 3, 4, 5, 3, 2, 3, 3, 5, 5, 5, 2, 3, 3, 5, 1, 2, 3, 4, 5, 1, 2, 3, 4, 5, 1, 2, 4, 5, 1, 2, 4, 5, 1, 2, 3, 4, 5, 1, 2, 3, 4, 1, 2, 3, 5, 1, 3, 1, 2, 3, 4, 5, 4, 1, 2, 3, 4, 5, 1, 1, 3, 4, 5, 3, 1, 2, 3, 5, 5, 1, 2, 3, 4, 5, 1, 2, 3, 4, 5, 3, 5, 2, 4, 4, 1, 2, 4, 3, 1, 2, 3, 4, 5, 1, 1, 2, 3, 1, 3, 4, 5, 4, 5, 3, 5, 4, 5, 3, 2, 2, 3, 1, 2, 3, 2, 3, 5, 2, 5, 1, 2, 3, 5, 1, 4, 1, 2, 3, 3, 3, 4, 2, 2, 2, 3, 3, 4, 5, 1, 2, 1, 5, 1, 2, 4, 4, 1, 3, 5, 1, 2, 3, 5, 1, 2, 3, 5, 2, 1, 2, 3, 4, 5, 3, 4, 2, 5, 2, 4, 1, 5, 1, 4, 1, 1, 1, 2, 5, 1, 2, 3, 4, 1, 2, 3, 4, 5, 4, 1, 2, 3, 4, 5, 2, 3, 5, 4, 3, 4, 4, 5, 5, 1, 3, 1, 5, 5, 1, 2, 2, 3, 2, 5, 2, 1, 2, 3, 4, 5, 2, 1, 1, 4, 4, 5, 4, 1, 2, 3, 4, 5, 1, 2, 3, 4, 5, 3, 4, 3, 4, 1, 2, 3, 4, 5, 1, 2, 2, 1, 3, 5, 3, 2, 4, 5, 4, 2, 3, 2, 3, 5, 4, 1, 2, 5, 5, 5, 4, 1, 2, 3, 4, 5, 4, 1, 2, 3, 4, 5, 5], \"Freq\": [0.9852531447316155, 0.9885131561580445, 0.9938018137404963, 0.9930396589880147, 0.9938018137404963, 0.03386128977668883, 0.7110870853104654, 0.05079193466503324, 0.20316773866013296, 0.8650080734006621, 0.08182508802438695, 0.04675719315679255, 0.9951662912315699, 0.9802097837900812, 0.031704594832105124, 0.9511378449631538, 0.010568198277368376, 0.34287799911323613, 0.3019373425027005, 0.10235164152633915, 0.20982086512899523, 0.0358230745342187, 0.9844356015664425, 0.3521393343716678, 0.3165697046371559, 0.1742911856991083, 0.09603800028318213, 0.06046837054867023, 0.8208548820982736, 0.15961067151910874, 0.0072238645348938835, 0.6140284854659801, 0.1805966133723471, 0.009029830668617355, 0.18962644404096446, 0.9974714958512201, 0.9892277831914605, 0.9974714958512201, 0.9734700089765449, 0.9877601459407676, 0.9872109858900191, 0.9782468978586863, 0.9583697913258732, 0.01774758872825691, 0.9840426581409243, 0.9076845759696158, 0.08378626855104146, 0.9960832913158681, 0.9844354944224565, 0.9939822441735189, 0.9925455133166842, 0.9804152466792286, 0.7587238672947297, 0.09354129870756941, 0.051967388170871896, 0.04157391053669752, 0.051967388170871896, 0.9709023993608445, 0.9758683797334974, 0.014034035655927266, 0.1263063209033454, 0.014034035655927266, 0.8420421393556359, 0.9709023993608445, 0.9709023993608445, 0.991347252255196, 0.9309390006979745, 0.051718833372109696, 0.975867383331636, 0.9960832913158681, 0.985701685371982, 0.024442417610979508, 0.9695492319021872, 0.9892277934950858, 0.9932259153696531, 0.08103703947611121, 0.5111567105416246, 0.17454131579470109, 0.018700855263717973, 0.22441026316461568, 0.10464907397348937, 0.017441512328914895, 0.8720756164457447, 0.9806815881784288, 0.017457857310917806, 0.9689110807559382, 0.008728928655458903, 0.018066340878008003, 0.054199022634024006, 0.9033170439004001, 0.9872109858900191, 0.9844857806591695, 0.9922425182745467, 0.058225471381462834, 0.9316075421034054, 0.9806815881784285, 0.6008468379533315, 0.14420324110879956, 0.21630486166319932, 0.02403387351813326, 0.016022582345422174, 0.2802955153576297, 0.21302459167179857, 0.32514279781485045, 0.11211820614305189, 0.06727092368583114, 0.9328797237390479, 0.04055998798865426, 0.48153276506692455, 0.18990024537850544, 0.16955379051652272, 0.13564303241321818, 0.020346454861982728, 0.26476009080856366, 0.3174923910525929, 0.17137997579309514, 0.09118293583863395, 0.15599972155525327, 0.3411692133020924, 0.40030521027445504, 0.17740799091708803, 0.018195691376111593, 0.06368491981639057, 0.3399052432644985, 0.1956527741717601, 0.21720774081780148, 0.15917513830922855, 0.08787794094155327, 0.19636116552039115, 0.19636116552039115, 0.39594136654111656, 0.12876142001337124, 0.0836949230086913, 0.9793023560057688, 0.9709023993608445, 0.9806815881784288, 0.9844356015663865, 0.9683401301866016, 0.04100998336086927, 0.6479577371017345, 0.2870698835260849, 0.01640399334434771, 0.9734729223821081, 0.9885131561580444, 0.9870159485088786, 0.9974714958512201, 0.9853658904182566, 0.9734699123930016, 0.2785237672547003, 0.23273903839091395, 0.2747083731827181, 0.12209261030343027, 0.0915694577275727, 0.22565673632037694, 0.16118338308598354, 0.4513134726407539, 0.1047691990058893, 0.056414184080094236, 0.9892278064799449, 0.9709023993608445, 0.9709023993608445, 0.9737962576130889, 0.9974714958512201, 0.1922397971482611, 0.5023039860970693, 0.20464236470621341, 0.07441540534771397, 0.03100641889488082, 0.33636119236446954, 0.6554730928128125, 0.9908501953276699, 0.9854607407977691, 0.9872109858900191, 0.9745359775534073, 0.9879926628729089, 0.9926890595603123, 0.9339151975485166, 0.06576867588369835, 0.9900142077814528, 0.9806815881784285, 0.012238663228582417, 0.8934224156865165, 0.012238663228582417, 0.0734319793714945, 0.014013008537760456, 0.8407805122656274, 0.014013008537760456, 0.1261170768398441, 0.9799903929878089, 0.937958021792914, 0.05411296279574504, 0.9863214539388414, 0.9940709548637331, 0.991258124527239, 0.8898269246872373, 0.03631946631376479, 0.07263893262752957, 0.9857958605798337, 0.9855703628212575, 0.9870159485088786, 0.016939969857674656, 0.9655782818874554, 0.9960832913158681, 0.9745359775534073, 0.9932259153696527, 0.05133182893246497, 0.6223984258061377, 0.22457675157953422, 0.04491535031590684, 0.05774830754902309, 0.21321416515582198, 0.3354987598775434, 0.22262067244210823, 0.05957454614647967, 0.16618162872439066, 0.021671412681044208, 0.10835706340522104, 0.5742924360476714, 0.16253559510783155, 0.13002847608626525, 0.9734884473849437, 0.9737961448010766, 0.9924968608640683, 0.036160021562303586, 0.9401605606198933, 0.9855169114129906, 0.9809082717434401, 0.9352255622788811, 0.04837373597994212, 0.9938018137404963, 0.9930396589783768, 0.30844782052734443, 0.07319100826072579, 0.16729373316737325, 0.4286901912413939, 0.02613964580740207, 0.5045950942663785, 0.0831435098507101, 0.23222842406577648, 0.0745424571075332, 0.10607965049918185, 0.7268358192380427, 0.025063304111656647, 0.13784817261411156, 0.11278486850245491, 0.2253141236803051, 0.052573295525404524, 0.06008376631474803, 0.6684319002515718, 0.07137151781554738, 0.703519247038967, 0.13764507007284135, 0.015293896674760152, 0.07137151781554738, 0.08609002483610614, 0.8609002483610615, 0.028696674945368716, 0.028696674945368716, 0.06874242294249552, 0.8436570088397178, 0.04374517823613352, 0.03749586705954301, 0.08034400861497998, 0.8837840947647797, 0.567702422343969, 0.11687991048258185, 0.058439955241290927, 0.17531986572387276, 0.08348565034470132, 0.9906968386855322, 0.23866403899454414, 0.21112588064901983, 0.2524331181673063, 0.13310109867003422, 0.16522895007314595, 0.9844356015664648, 0.04076901869679184, 0.7066629907443919, 0.23102443928182043, 0.02038450934839592, 0.9758675978091683, 0.38325945636547737, 0.3497242539334981, 0.2012112145918756, 0.06707040486395853, 0.9853670812976191, 0.27002432872537024, 0.1514770624556955, 0.36222775804622837, 0.1547700420742976, 0.06256661275343944, 0.09854146346911218, 0.24087913292449642, 0.5255544718352649, 0.05474525748284009, 0.07664336047597613, 0.0213399074897419, 0.9602958370383856, 0.9891464410740904, 0.9892276497932532, 0.9974714958512201, 0.017746622108448115, 0.9583175938561982, 0.017746622108448115, 0.9840425244588504, 0.23955332386197806, 0.04040658474780353, 0.17317107749058655, 0.4415862476009957, 0.10678883111919504, 0.9960832913158681, 0.02492302514918217, 0.07476907544754652, 0.872305880221376, 0.016126374207907027, 0.11288461945534918, 0.016126374207907027, 0.8546978330190723, 0.9974714958512201, 0.9854611440624327, 0.9709023993608445, 0.9935243042103344, 0.9974714958512201, 0.9924761709858595, 0.978108540898359, 0.9872109858900191, 0.983180305137976, 0.017248777283122387, 0.03012631263667357, 0.84353675382686, 0.12803682870586267, 0.7980194273601064, 0.07758522210445479, 0.11083603157779255, 0.4690259260376555, 0.5295454003650949, 0.012320257498357095, 0.6160128749178547, 0.28952605121139174, 0.08624180248849966, 0.9387965336808874, 0.04773541696682479, 0.10044514286584715, 0.8753076735452394, 0.01434930612369245, 0.9938018137404963, 0.9938018137404963, 0.9974714958512201, 0.9908501953276699, 0.9810325477160133, 0.3099782688663084, 0.6753098000301718, 0.05031197340601146, 0.09223861791102102, 0.8469182190011929, 0.9844356015662219, 0.9745359775534073, 0.9855703664942772, 0.9766945964434918, 0.98443604111477, 0.9745353226734442, 0.9974714958512201, 0.9974714958512201, 0.1278835121437373, 0.6522059119330603, 0.21740197064435343, 0.6052012590891844, 0.05586473160823241, 0.16759419482469723, 0.15828340622332515, 0.6690694721883066, 0.1864619840524789, 0.09871516802778295, 0.04387340801234797, 0.9872109858900191, 0.18310485775646862, 0.2905794481787437, 0.27067674624869276, 0.21494918084455014, 0.039805403860101875, 0.9802354183235953, 0.9920966556065574, 0.09579788117093893, 0.9032371653259956, 0.9807013785783827, 0.9974714958512201, 0.9806815881784285, 0.9874286986626372, 0.9951662912315699, 0.9974714958512201, 0.9960832913158681, 0.9951662912315699, 0.04794156607031643, 0.8150066231953793, 0.1438246982109493, 0.21585453875523436, 0.7339054317677969, 0.021585453875523436, 0.021585453875523436, 0.23932601929261543, 0.4245187723166631, 0.139606844587359, 0.06837886265503298, 0.1253612482008938, 0.9974714958512201, 0.2878471765938856, 0.27220330830073963, 0.16895377756597632, 0.12202217268653845, 0.15018113561420118, 0.17981747410067073, 0.7192698964026829, 0.1106569071388743, 0.9974714958512201, 0.9801466575087633, 0.9932259153696529, 0.9932259153696531, 0.9935243042103344, 0.9870159202333937, 0.9886788699708183, 0.9709023993608445, 0.9951662912315699, 0.975940144700888, 0.9899559055106417, 0.9806815881784283, 0.9956384421111383, 0.9926606047915745, 0.005592454111501828, 0.8879202133562103, 0.09562217682297648, 0.9831953445229287, 0.06947171985234642, 0.8267134662429224, 0.006947171985234642, 0.013894343970469285, 0.07641889183758106, 0.9810401675346403, 0.9806954895285164, 0.9844356015666011, 0.9892277978893875, 0.9932259153696531, 0.9935243042103344, 0.9932259153696531, 0.14160680680068763, 0.5133246746524927, 0.15930765765077357, 0.10620510510051571, 0.07670368701703913, 0.10784273870238824, 0.19411692966429883, 0.3810443434151051, 0.3019596683666871, 0.014379031826985099, 0.9734701067842457, 0.9974714958512201, 0.9709023993608445, 0.9974714958512201, 0.4266762361880067, 0.10552207991746403, 0.06423083125410854, 0.29362665716163905, 0.10552207991746403, 0.9832456250108118, 0.9863216094487545, 0.9764300830401424, 0.9806815881784288, 0.9225178510781148, 0.053222183716045084, 0.9690110536938648, 0.9607527061453799, 0.023150667617960963, 0.011575333808980482, 0.9897255719832257, 0.15618414254131216, 0.82554475343265, 0.8341568713482916, 0.13712167748191095, 0.03428041937047774, 0.9974714958512201, 0.04123076679399821, 0.5703589406503086, 0.3848204900773166, 0.9809082717434401, 0.9874283913604862, 0.9939822674597037, 0.32077516707378806, 0.16942350373615567, 0.13102084288929372, 0.29140842642618775, 0.08810022194280094, 0.9932259153696531, 0.4035377658667027, 0.21264265506748403, 0.21264265506748403, 0.13048526560959248, 0.04349508853653083, 0.9809082717434401], \"Term\": [\"___ _____\", \"accuraci ofn\", \"activ netn\", \"adam laskaedu\", \"alink ksand\", \"also avail\", \"also avail\", \"also avail\", \"also avail\", \"amateur radio\", \"amateur radio\", \"amateur radio\", \"andn slpittedu\", \"andr beck\", \"anonym ftp\", \"anonym ftp\", \"anonym ftp\", \"answer question\", \"answer question\", \"answer question\", \"answer question\", \"answer question\", \"anymor weird\", \"anyon els\", \"anyon els\", \"anyon els\", \"anyon els\", \"anyon els\", \"anyon interest\", \"anyon interest\", \"anyon know\", \"anyon know\", \"anyon know\", \"anyon know\", \"anyon know\", \"appressian soviet\", \"argicn close\", \"armenia today\", \"armenian border\", \"artifici intellig\", \"associ research\", \"athen georgia\", \"att bell\", \"att bell\", \"avail anonym\", \"avail via\", \"avail via\", \"bank njxp\", \"begin think\", \"believ speak\", \"bell lab\", \"best offer\", \"bill clinton\", \"bill clinton\", \"bill clinton\", \"bill clinton\", \"bill clinton\", \"border cant\", \"box even\", \"brand new\", \"brand new\", \"brand new\", \"brand new\", \"cambridg turkish\", \"cant box\", \"care taken\", \"center polici\", \"center polici\", \"chapel hill\", \"chastiti intellect\", \"cheersn kentn\", \"clipper chip\", \"clipper chip\", \"close road\", \"companyn tratuscom\", \"comput scienc\", \"comput scienc\", \"comput scienc\", \"comput scienc\", \"comput scienc\", \"comput servic\", \"comput servic\", \"comput servic\", \"cont educ\", \"could someon\", \"could someon\", \"could someon\", \"court order\", \"court order\", \"court order\", \"covington associ\", \"david sternlight\", \"david veal\", \"davidn david\", \"davidn david\", \"div cont\", \"doesnt mean\", \"doesnt mean\", \"doesnt mean\", \"doesnt mean\", \"doesnt mean\", \"dont believ\", \"dont believ\", \"dont believ\", \"dont believ\", \"dont believ\", \"dont blame\", \"dont blame\", \"dont get\", \"dont get\", \"dont get\", \"dont get\", \"dont get\", \"dont know\", \"dont know\", \"dont know\", \"dont know\", \"dont know\", \"dont see\", \"dont see\", \"dont see\", \"dont see\", \"dont see\", \"dont think\", \"dont think\", \"dont think\", \"dont think\", \"dont think\", \"dont want\", \"dont want\", \"dont want\", \"dont want\", \"dont want\", \"dontn love\", \"dpaorg explain\", \"educ info\", \"elev shaft\", \"els fail\", \"email address\", \"email address\", \"email address\", \"email address\", \"email ton\", \"ensur accuraci\", \"error omiss\", \"escap turk\", \"escrow key\", \"even explain\", \"even though\", \"even though\", \"even though\", \"even though\", \"even though\", \"everi day\", \"everi day\", \"everi day\", \"everi day\", \"everi day\", \"exist singl\", \"explain cambridg\", \"explain turkish\", \"express mine\", \"exterminationn ohanu\", \"first time\", \"first time\", \"first time\", \"first time\", \"first time\", \"ftp site\", \"ftp site\", \"gaedu univers\", \"georgia institut\", \"georgia phone\", \"georgia usa\", \"gordon bank\", \"great care\", \"greatli appreci\", \"greatli appreci\", \"greatli appreciatedn\", \"groupn tkedu\", \"hard disk\", \"hard disk\", \"hard disk\", \"hard disk\", \"hard drive\", \"hard drive\", \"hard drive\", \"hard drive\", \"hard driven\", \"help appreciatedn\", \"help appreciatedn\", \"help greatli\", \"henri spencer\", \"high jackedn\", \"ide drive\", \"ide drive\", \"ide drive\", \"imag process\", \"info servic\", \"inform error\", \"institut technolog\", \"institut technolog\", \"intellect andn\", \"intellig program\", \"investor packetn\", \"ive got\", \"ive got\", \"ive got\", \"ive got\", \"ive got\", \"ive seen\", \"ive seen\", \"ive seen\", \"ive seen\", \"ive seen\", \"jesu christ\", \"jesu christ\", \"jesu christ\", \"jesu christ\", \"jesu christ\", \"josh hopkin\", \"keep bear\", \"kentn pplecom\", \"key avail\", \"key avail\", \"key escrow\", \"kipl orontoedu\", \"know get\", \"know get\", \"ksand privat\", \"laskaedu high\", \"last night\", \"last night\", \"last night\", \"last night\", \"last night\", \"last year\", \"last year\", \"last year\", \"last year\", \"last year\", \"last yearn\", \"last yearn\", \"last yearn\", \"last yearn\", \"law enforc\", \"law enforc\", \"law enforc\", \"law enforc\", \"let know\", \"let know\", \"let know\", \"let know\", \"let know\", \"let known\", \"let known\", \"let known\", \"let known\", \"like know\", \"like know\", \"like know\", \"like know\", \"like men\", \"like men\", \"lo angel\", \"lo angel\", \"lo angel\", \"lo angel\", \"lo angel\", \"longer exist\", \"look like\", \"look like\", \"look like\", \"look like\", \"look like\", \"love anymor\", \"mail list\", \"mail list\", \"mail list\", \"mail list\", \"mail listn\", \"make sure\", \"make sure\", \"make sure\", \"make sure\", \"man work\", \"mani peopl\", \"mani peopl\", \"mani peopl\", \"mani peopl\", \"mani peopl\", \"may ben\", \"may ben\", \"may ben\", \"may ben\", \"may ben\", \"michael adam\", \"michael adam\", \"michael covington\", \"might serv\", \"mountain pass\", \"need help\", \"need help\", \"need help\", \"new version\", \"new york\", \"new york\", \"new york\", \"new york\", \"new york\", \"njxp skeptic\", \"north carolina\", \"north carolina\", \"north carolina\", \"ofn inform\", \"ofn inform\", \"ofn inform\", \"ofn inform\", \"ohanu appressian\", \"omiss except\", \"onn sdpa\", \"orontoedu utzoohenryn\", \"pass might\", \"pgp public\", \"phil fraer\", \"phone athen\", \"pleas email\", \"pleas email\", \"pleas let\", \"pleas let\", \"pleas let\", \"pleas post\", \"pleas post\", \"pleas post\", \"pleas repli\", \"pleas repli\", \"pleas send\", \"pleas send\", \"pleas send\", \"pleas send\", \"polici research\", \"polici research\", \"power suppli\", \"power suppli\", \"power suppli\", \"pplecom alink\", \"privat activ\", \"proceed work\", \"program gaedu\", \"propuls lab\", \"public domain\", \"public domain\", \"public key\", \"public key\", \"public key\", \"push elev\", \"radio ntmi\", \"rememb way\", \"repli email\", \"research cprn\", \"research scientist\", \"road mountain\", \"sahak melkonian\", \"san francisco\", \"san francisco\", \"san francisco\", \"san jose\", \"san jose\", \"san jose\", \"san jose\", \"say dont\", \"say dont\", \"say dont\", \"say dont\", \"scientist artifici\", \"seem like\", \"seem like\", \"seem like\", \"seem like\", \"seem like\", \"send messag\", \"serdar argicn\", \"serial number\", \"serial number\", \"serial port\", \"serv way\", \"servic groupn\", \"session key\", \"shame surrend\", \"singl turkish\", \"skeptic chastiti\", \"slpittedu shame\", \"someon pleas\", \"someon pleas\", \"someon pleas\", \"someth els\", \"someth els\", \"someth els\", \"someth els\", \"someth like\", \"someth like\", \"someth like\", \"someth like\", \"someth like\", \"soul sahak\", \"sound like\", \"sound like\", \"sound like\", \"sound like\", \"sound like\", \"sourc code\", \"sourc code\", \"sourc code\", \"soviet armenia\", \"space shuttl\", \"speak companyn\", \"special investor\", \"spencer toronto\", \"sternlight great\", \"still rememb\", \"studi armenian\", \"surrend soon\", \"svr resembl\", \"taken ensur\", \"tenn div\", \"thank advanc\", \"thank advancen\", \"thank advancen\", \"thank helpn\", \"thank helpn\", \"thank muchn\", \"thank youn\", \"thank youn\", \"thank youn\", \"thank youn\", \"thank youn\", \"thing infinit\", \"think dontn\", \"tkedu still\", \"today longer\", \"today special\", \"toronto zoologyn\", \"tratuscom write\", \"tri get\", \"tri get\", \"tri get\", \"tri get\", \"tri get\", \"tri ton\", \"tri ton\", \"tri ton\", \"tri ton\", \"tri ton\", \"troop onn\", \"turk proceed\", \"turkish march\", \"turkish soul\", \"unit state\", \"unit state\", \"unit state\", \"unit state\", \"unit state\", \"univ tenn\", \"univers georgia\", \"usa amateur\", \"veal univ\", \"via anonym\", \"via anonym\", \"via ftp\", \"video card\", \"video card\", \"video card\", \"way escap\", \"window system\", \"window system\", \"wonder anyon\", \"wonder anyon\", \"wonder anyon\", \"work exterminationn\", \"work fine\", \"work fine\", \"work fine\", \"work henri\", \"work man\", \"write today\", \"writesn articl\", \"writesn articl\", \"writesn articl\", \"writesn articl\", \"writesn articl\", \"wstratuscom believ\", \"year ago\", \"year ago\", \"year ago\", \"year ago\", \"year ago\", \"zoologyn kipl\"]}, \"R\": 30, \"lambda.step\": 0.01, \"plot.opts\": {\"xlab\": \"PC1\", \"ylab\": \"PC2\"}, \"topic.order\": [1, 4, 2, 5, 3]};\n",
              "\n",
              "function LDAvis_load_lib(url, callback){\n",
              "  var s = document.createElement('script');\n",
              "  s.src = url;\n",
              "  s.async = true;\n",
              "  s.onreadystatechange = s.onload = callback;\n",
              "  s.onerror = function(){console.warn(\"failed to load library \" + url);};\n",
              "  document.getElementsByTagName(\"head\")[0].appendChild(s);\n",
              "}\n",
              "\n",
              "if(typeof(LDAvis) !== \"undefined\"){\n",
              "   // already loaded: just create the visualization\n",
              "   !function(LDAvis){\n",
              "       new LDAvis(\"#\" + \"ldavis_el1371399174149444649810735037\", ldavis_el1371399174149444649810735037_data);\n",
              "   }(LDAvis);\n",
              "}else if(typeof define === \"function\" && define.amd){\n",
              "   // require.js is available: use it to load d3/LDAvis\n",
              "   require.config({paths: {d3: \"https://cdnjs.cloudflare.com/ajax/libs/d3/3.5.5/d3.min\"}});\n",
              "   require([\"d3\"], function(d3){\n",
              "      window.d3 = d3;\n",
              "      LDAvis_load_lib(\"https://cdn.rawgit.com/bmabey/pyLDAvis/files/ldavis.v1.0.0.js\", function(){\n",
              "        new LDAvis(\"#\" + \"ldavis_el1371399174149444649810735037\", ldavis_el1371399174149444649810735037_data);\n",
              "      });\n",
              "    });\n",
              "}else{\n",
              "    // require.js not available: dynamically load d3 & LDAvis\n",
              "    LDAvis_load_lib(\"https://cdnjs.cloudflare.com/ajax/libs/d3/3.5.5/d3.min.js\", function(){\n",
              "         LDAvis_load_lib(\"https://cdn.rawgit.com/bmabey/pyLDAvis/files/ldavis.v1.0.0.js\", function(){\n",
              "                 new LDAvis(\"#\" + \"ldavis_el1371399174149444649810735037\", ldavis_el1371399174149444649810735037_data);\n",
              "            })\n",
              "         });\n",
              "}\n",
              "</script>"
            ],
            "text/plain": [
              "PreparedData(topic_coordinates=                x           y  topics  cluster       Freq\n",
              "topic                                                    \n",
              "0      150.222153  -72.269554       1        1  24.853322\n",
              "3       51.163364 -159.968018       2        1  24.393665\n",
              "1      -73.144554   21.523815       3        1  21.404238\n",
              "4      -66.410133 -110.606438       4        1  14.938416\n",
              "2       54.417324   12.443444       5        1  14.410359, topic_info=                 Term        Freq       Total Category  logprob  loglift\n",
              "11197  thank advancen  357.000000  357.000000  Default  30.0000  30.0000\n",
              "8436      pleas email  231.000000  231.000000  Default  29.0000  29.0000\n",
              "567        anyon know  553.000000  553.000000  Default  28.0000  28.0000\n",
              "10087   serdar argicn  120.000000  120.000000  Default  27.0000  27.0000\n",
              "6411     longer exist  118.000000  118.000000  Default  26.0000  26.0000\n",
              "...               ...         ...         ...      ...      ...      ...\n",
              "567        anyon know  104.627759  553.720239   Topic5  -5.8835   0.2710\n",
              "6444        look like   71.762829  435.758988   Topic5  -6.2606   0.1335\n",
              "13002       work fine   56.172259  145.522397   Topic5  -6.5055   0.9853\n",
              "5509         ive seen   53.412792  318.928154   Topic5  -6.5559   0.1503\n",
              "2924       dont think   53.381581  603.109261   Topic5  -6.5565  -0.4874\n",
              "\n",
              "[311 rows x 6 columns], token_table=       Topic      Freq           Term\n",
              "term                                 \n",
              "2          2  0.985253      ___ _____\n",
              "93         5  0.988513   accuraci ofn\n",
              "107        3  0.993802     activ netn\n",
              "134        5  0.993040  adam laskaedu\n",
              "211        3  0.993802    alink ksand\n",
              "...      ...       ...            ...\n",
              "13199      2  0.212643       year ago\n",
              "13199      3  0.212643       year ago\n",
              "13199      4  0.130485       year ago\n",
              "13199      5  0.043495       year ago\n",
              "13340      5  0.980908  zoologyn kipl\n",
              "\n",
              "[497 rows x 3 columns], R=30, lambda_step=0.01, plot_opts={'xlab': 'PC1', 'ylab': 'PC2'}, topic_order=[1, 4, 2, 5, 3])"
            ]
          },
          "metadata": {
            "tags": []
          },
          "execution_count": 33
        }
      ]
    }
  ]
}